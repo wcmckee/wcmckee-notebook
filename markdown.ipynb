{
 "metadata": {
  "name": "",
  "signature": "sha256:3d6a58d33767b0e832cd4818b27718a4ece6679f71719543f29dce0955df15be"
 },
 "nbformat": 3,
 "nbformat_minor": 0,
 "worksheets": [
  {
   "cells": [
    {
     "cell_type": "markdown",
     "metadata": {},
     "source": [
      "gm"
     ]
    },
    {
     "cell_type": "code",
     "collapsed": false,
     "input": [
      "#! /usr/bin/python\n",
      "\n",
      "import dominate # 'pip install dominate' must be run once before this\n",
      "from dominate.tags import *\n",
      "import re # Only needed because dominate doesn't let us set tab indentation\n",
      "import tempfile\n",
      "import webbrowser\n",
      "\n",
      "def generate_html(title, paragraphs):\n",
      "    page = dominate.document(title=title)\n",
      "    with page:\n",
      "        for paragraph in paragraphs:\n",
      "            p(paragraph)\n",
      "    return str(page)\n",
      "\n",
      "def read_paragraphs():\n",
      "    to_return = {'title': '', 'paragraphs': []}\n",
      "    to_return['title'] = raw_input(\"Enter a title:\\n\")\n",
      "    print \"Enter your paragraph.  Enter a blank line to finish.\"\n",
      "    for line in iter(raw_input, ''):\n",
      "        to_return['paragraphs'].append(line)\n",
      "    return to_return\n",
      "\n",
      "if __name__ == '__main__':\n",
      "    user_input = read_paragraphs()\n",
      "    html_output = generate_html(user_input['title'], user_input['paragraphs'])\n",
      "    with open('test.html', 'w') as out:\n",
      "        # HACK: This is silly, but dominate doesn't provide a way to change the\n",
      "        # number of spaces used for a tab, but since it gives us exactly half\n",
      "        # as many as we want, we can double-up on spaces at start of line and\n",
      "        # get what we want\n",
      "        out.write(re.sub(r'^\\s*', r'\\1\\1', html_output, flags=re.MULTILINE))\n",
      "    webbrowser.open(out.name)"
     ],
     "language": "python",
     "metadata": {},
     "outputs": [
      {
       "name": "stdout",
       "output_type": "stream",
       "stream": "stdout",
       "text": [
        "Enter a title:\n",
        "\n"
       ]
      },
      {
       "output_type": "stream",
       "stream": "stdout",
       "text": [
        "Enter your paragraph.  Enter a blank line to finish.\n"
       ]
      },
      {
       "name": "stdout",
       "output_type": "stream",
       "stream": "stdout",
       "text": [
        "\n"
       ]
      },
      {
       "output_type": "stream",
       "stream": "stdout",
       "text": [
        "Traceback (most recent call last):\n",
        "  File \"/usr/local/lib/python2.7/dist-packages/IPython/core/ultratb.py\", line 766, in structured_traceback\n",
        "    records = _fixed_getinnerframes(etb, context, tb_offset)\n",
        "  File \"/usr/local/lib/python2.7/dist-packages/IPython/core/ultratb.py\", line 249, in _fixed_getinnerframes\n",
        "    records  = fix_frame_records_filenames(inspect.getinnerframes(etb, context))\n",
        "  File \"/usr/lib/python2.7/inspect.py\", line 1043, in getinnerframes\n",
        "    framelist.append((tb.tb_frame,) + getframeinfo(tb, context))\n",
        "  File \"/usr/lib/python2.7/inspect.py\", line 1003, in getframeinfo\n",
        "    filename = getsourcefile(frame) or getfile(frame)\n",
        "  File \"/usr/lib/python2.7/inspect.py\", line 454, in getsourcefile\n",
        "    if hasattr(getmodule(object, filename), '__loader__'):\n",
        "  File \"/usr/lib/python2.7/inspect.py\", line 483, in getmodule\n",
        "    file = getabsfile(object, _filename)\n",
        "  File \"/usr/lib/python2.7/inspect.py\", line 467, in getabsfile\n",
        "    return os.path.normcase(os.path.abspath(_filename))\n",
        "  File \"/usr/lib/python2.7/posixpath.py\", line 356, in abspath\n",
        "    cwd = os.getcwd()\n",
        "OSError: [Errno 2] No such file or directory\n"
       ]
      },
      {
       "output_type": "stream",
       "stream": "stderr",
       "text": [
        "ERROR: Internal Python error in the inspect module.\n",
        "Below is the traceback from this internal error.\n",
        "\n",
        "\n",
        "Unfortunately, your original traceback can not be constructed.\n",
        "\n"
       ]
      },
      {
       "ename": "IOError",
       "evalue": "[Errno 2] No such file or directory: 'test.html'",
       "output_type": "pyerr",
       "traceback": ""
      }
     ],
     "prompt_number": 5
    },
    {
     "cell_type": "code",
     "collapsed": false,
     "input": [
      "print dominate.tags.html(body(p('hello world')))"
     ],
     "language": "python",
     "metadata": {},
     "outputs": []
    },
    {
     "cell_type": "code",
     "collapsed": false,
     "input": [
      "list = ul()\n",
      "for item in range(4):\n",
      "    list += li('Item #', item)\n",
      "print list\n",
      "\n"
     ],
     "language": "python",
     "metadata": {},
     "outputs": []
    },
    {
     "cell_type": "code",
     "collapsed": false,
     "input": [
      "ophtm = open('test.html', 'r')\n",
      "ophtm.read()"
     ],
     "language": "python",
     "metadata": {},
     "outputs": []
    },
    {
     "cell_type": "code",
     "collapsed": false,
     "input": [],
     "language": "python",
     "metadata": {},
     "outputs": []
    },
    {
     "cell_type": "code",
     "collapsed": false,
     "input": [],
     "language": "python",
     "metadata": {},
     "outputs": []
    }
   ],
   "metadata": {}
  }
 ]
}