{
 "metadata": {
  "name": "",
  "signature": "sha256:cd6d48d1d3395b99965cc556d48dc1107799b170ee2a2ee6f9c24e60685dba64"
 },
 "nbformat": 3,
 "nbformat_minor": 0,
 "worksheets": [
  {
   "cells": [
    {
     "cell_type": "code",
     "collapsed": false,
     "input": [
      "from ipython import nbconv"
     ],
     "language": "python",
     "metadata": {},
     "outputs": [
      {
       "ename": "ImportError",
       "evalue": "No module named ipython",
       "output_type": "pyerr",
       "traceback": [
        "\u001b[1;31m---------------------------------------------------------------------------\u001b[0m\n\u001b[1;31mImportError\u001b[0m                               Traceback (most recent call last)",
        "\u001b[1;32m<ipython-input-4-840b57d8ad88>\u001b[0m in \u001b[0;36m<module>\u001b[1;34m()\u001b[0m\n\u001b[1;32m----> 1\u001b[1;33m \u001b[1;32mfrom\u001b[0m \u001b[0mipython\u001b[0m \u001b[1;32mimport\u001b[0m \u001b[0mnbconv\u001b[0m\u001b[1;33m\u001b[0m\u001b[0m\n\u001b[0m",
        "\u001b[1;31mImportError\u001b[0m: No module named ipython"
       ]
      }
     ],
     "prompt_number": 4
    },
    {
     "cell_type": "code",
     "collapsed": false,
     "input": [
      "cd brobeur-web/"
     ],
     "language": "python",
     "metadata": {},
     "outputs": [
      {
       "output_type": "stream",
       "stream": "stdout",
       "text": [
        "/home/wcmckee/brobeur-web\n"
       ]
      }
     ],
     "prompt_number": 10
    },
    {
     "cell_type": "code",
     "collapsed": false,
     "input": [
      "import os"
     ],
     "language": "python",
     "metadata": {},
     "outputs": [],
     "prompt_number": 16
    },
    {
     "cell_type": "code",
     "collapsed": false,
     "input": [
      "dadir = '/home/wcmckee/artcontrol-api'"
     ],
     "language": "python",
     "metadata": {},
     "outputs": [],
     "prompt_number": 28
    },
    {
     "cell_type": "code",
     "collapsed": false,
     "input": [
      "opnb = os.listdir('/home/wcmckee/artcontrol-api')"
     ],
     "language": "python",
     "metadata": {},
     "outputs": [],
     "prompt_number": 18
    },
    {
     "cell_type": "code",
     "collapsed": false,
     "input": [
      "strliz = []"
     ],
     "language": "python",
     "metadata": {},
     "outputs": [],
     "prompt_number": 20
    },
    {
     "cell_type": "code",
     "collapsed": false,
     "input": [
      "if '.ipynb' in opz:\n",
      "    strliz.append(opz)"
     ],
     "language": "python",
     "metadata": {},
     "outputs": []
    },
    {
     "cell_type": "code",
     "collapsed": false,
     "input": [
      "for opz in opnb:\n",
      "    print opz\n",
      "    if '.ipynb' in opz:\n",
      "        strliz.append(opz)"
     ],
     "language": "python",
     "metadata": {},
     "outputs": [
      {
       "output_type": "stream",
       "stream": "stdout",
       "text": [
        "aklmcam.py\n",
        "ipython_log.py.002~\n",
        "githcli\n",
        "passwd\n",
        "pyblen.py\n",
        "pywgitz.py\n",
        "pynztacam.py\n",
        "testing123\n",
        "uploads.html\n",
        "Untitled0.py\n",
        "pynztacam.ipynb\n",
        "Game Of Thrones.ipynb\n",
        "savPrn\n",
        "redTube.py\n",
        "aklmcam.ipynb\n",
        "tlchome.html\n",
        "spellcheckin.ipynb\n",
        ".gitignore\n",
        "cpuclu.json\n",
        "myfile.txt\n",
        "pyssh.ipynb\n",
        "hcpux\n",
        "artcontrol.py\n",
        "passap\n",
        "oceanconnor.ipynb\n",
        "README.md\n",
        "scrapnot.ipynb\n",
        "Untitled1.ipynb\n",
        "home.html\n",
        "Untitled3.py\n",
        "tpb.ipynb\n",
        "githsec\n",
        "testz\n",
        "wcmckee.rst\n",
        "Peterwest.ipynb\n",
        "atkey\n",
        "config\n",
        "output.file\n",
        "tlc.py\n",
        "~\n",
        ".git\n",
        "artcontrol.ipynb\n",
        "dh.ipynb\n",
        "ipython_log.py\n",
        ".ipynb_checkpoints\n",
        "Untitled2.py\n",
        "dh.py\n",
        "openimg.ipynb\n",
        "prnsav\n",
        "example.xls\n",
        "tlc.ipynb\n",
        "openimg.py\n",
        "LICENSE\n",
        "spellcheckin.py\n",
        "salecus.py\n",
        "Untitled1.py\n",
        "salecus.ipynb\n",
        "Untitled2.ipynb\n",
        "pywgit.py\n",
        "scrapnot.py\n",
        "pyssh.py\n",
        "122.jpg\n",
        "gpaz\n",
        "Peterwest.py\n",
        "Game Of Thrones.py\n",
        "linkz\n",
        "Untitled0.ipynb\n",
        "Untitled3.ipynb\n",
        "pywgit.ipynb\n",
        "artcontrolme.wordpress.2014-02-10.xml\n",
        "dhcpd.leases\n",
        "result\n"
       ]
      }
     ],
     "prompt_number": 21
    },
    {
     "cell_type": "code",
     "collapsed": false,
     "input": [
      "strliz"
     ],
     "language": "python",
     "metadata": {},
     "outputs": [
      {
       "metadata": {},
       "output_type": "pyout",
       "prompt_number": 22,
       "text": [
        "['pynztacam.ipynb',\n",
        " 'Game Of Thrones.ipynb',\n",
        " 'aklmcam.ipynb',\n",
        " 'spellcheckin.ipynb',\n",
        " 'pyssh.ipynb',\n",
        " 'oceanconnor.ipynb',\n",
        " 'scrapnot.ipynb',\n",
        " 'Untitled1.ipynb',\n",
        " 'tpb.ipynb',\n",
        " 'Peterwest.ipynb',\n",
        " 'artcontrol.ipynb',\n",
        " 'dh.ipynb',\n",
        " '.ipynb_checkpoints',\n",
        " 'openimg.ipynb',\n",
        " 'tlc.ipynb',\n",
        " 'salecus.ipynb',\n",
        " 'Untitled2.ipynb',\n",
        " 'Untitled0.ipynb',\n",
        " 'Untitled3.ipynb',\n",
        " 'pywgit.ipynb']"
       ]
      }
     ],
     "prompt_number": 22
    },
    {
     "cell_type": "code",
     "collapsed": false,
     "input": [
      "nbfol = '/home/wcmckee/brobeur-web/notebook'"
     ],
     "language": "python",
     "metadata": {},
     "outputs": [],
     "prompt_number": 23
    },
    {
     "cell_type": "code",
     "collapsed": true,
     "input": [
      "os.chdir(dadir)\n",
      "strliz"
     ],
     "language": "python",
     "metadata": {},
     "outputs": [
      {
       "metadata": {},
       "output_type": "pyout",
       "prompt_number": 33,
       "text": [
        "['pynztacam.ipynb',\n",
        " 'Game Of Thrones.ipynb',\n",
        " 'aklmcam.ipynb',\n",
        " 'spellcheckin.ipynb',\n",
        " 'pyssh.ipynb',\n",
        " 'oceanconnor.ipynb',\n",
        " 'scrapnot.ipynb',\n",
        " 'Untitled1.ipynb',\n",
        " 'tpb.ipynb',\n",
        " 'Peterwest.ipynb',\n",
        " 'artcontrol.ipynb',\n",
        " 'dh.ipynb',\n",
        " '.ipynb_checkpoints',\n",
        " 'openimg.ipynb',\n",
        " 'tlc.ipynb',\n",
        " 'salecus.ipynb',\n",
        " 'Untitled2.ipynb',\n",
        " 'Untitled0.ipynb',\n",
        " 'Untitled3.ipynb',\n",
        " 'pywgit.ipynb']"
       ]
      }
     ],
     "prompt_number": 33
    },
    {
     "cell_type": "code",
     "collapsed": false,
     "input": [
      "for bnz in strliz:\n",
      "    print bnz\n"
     ],
     "language": "python",
     "metadata": {},
     "outputs": [
      {
       "output_type": "stream",
       "stream": "stdout",
       "text": [
        "pynztacam.ipynb\n",
        "Game Of Thrones.ipynb\n",
        "aklmcam.ipynb\n",
        "spellcheckin.ipynb\n",
        "pyssh.ipynb\n",
        "oceanconnor.ipynb\n",
        "scrapnot.ipynb\n",
        "Untitled1.ipynb\n",
        "tpb.ipynb\n",
        "Peterwest.ipynb\n",
        "artcontrol.ipynb\n",
        "dh.ipynb\n",
        ".ipynb_checkpoints\n",
        "openimg.ipynb\n",
        "tlc.ipynb\n",
        "salecus.ipynb\n",
        "Untitled2.ipynb\n",
        "Untitled0.ipynb\n",
        "Untitled3.ipynb\n",
        "pywgit.ipynb\n"
       ]
      }
     ],
     "prompt_number": 34
    },
    {
     "cell_type": "code",
     "collapsed": false,
     "input": [
      "%%bash \n",
      "#ipython nbconvert notebook.ipynb\n",
      "ipython nbconvert --to=latex --template=latex_book --post=pdf pyssh.ipynb"
     ],
     "language": "python",
     "metadata": {},
     "outputs": [
      {
       "output_type": "stream",
       "stream": "stderr",
       "text": [
        "[NbConvertApp] Using existing profile dir: u'/home/wcmckee/.ipython/profile_default'\n",
        "[NbConvertApp] Converting notebook pyssh.ipynb to latex\n",
        "[NbConvertApp] Support files will be in pyssh_files/\n",
        "Traceback (most recent call last):\n",
        "  File \"/usr/local/bin/ipython\", line 9, in <module>\n",
        "    load_entry_point('ipython==2.0.0', 'console_scripts', 'ipython')()\n",
        "  File \"/usr/local/lib/python2.7/dist-packages/IPython/__init__.py\", line 118, in start_ipython\n",
        "    return launch_new_instance(argv=argv, **kwargs)\n",
        "  File \"/usr/local/lib/python2.7/dist-packages/IPython/config/application.py\", line 563, in launch_instance\n",
        "    app.start()\n",
        "  File \"/usr/local/lib/python2.7/dist-packages/IPython/terminal/ipapp.py\", line 367, in start\n",
        "    return self.subapp.start()\n",
        "  File \"/usr/local/lib/python2.7/dist-packages/IPython/nbconvert/nbconvertapp.py\", line 268, in start\n",
        "    self.convert_notebooks()\n",
        "  File \"/usr/local/lib/python2.7/dist-packages/IPython/nbconvert/nbconvertapp.py\", line 301, in convert_notebooks\n",
        "    output, resources = exporter.from_filename(notebook_filename, resources=resources)\n",
        "  File \"/usr/local/lib/python2.7/dist-packages/IPython/nbconvert/exporters/exporter.py\", line 151, in from_filename\n",
        "    return self.from_notebook_node(nbformat.read(f, 'json'), resources=resources, **kw)\n",
        "  File \"/usr/local/lib/python2.7/dist-packages/IPython/nbconvert/exporters/templateexporter.py\", line 217, in from_notebook_node\n",
        "    raise IOError('template file \"%s\" could not be found' % self.template_file)\n",
        "IOError: template file \"latex_book\" could not be found\n",
        "\n",
        "If you suspect this is an IPython bug, please report it at:\n",
        "    https://github.com/ipython/ipython/issues\n",
        "or send an email to the mailing list at ipython-dev@scipy.org\n",
        "\n",
        "You can print a more detailed traceback right now with \"%tb\", or use \"%debug\"\n",
        "to interactively debug it.\n",
        "\n",
        "Extra-detailed tracebacks for bug-reporting purposes can be enabled via:\n",
        "    c.Application.verbose_crash=True\n",
        "\n"
       ]
      }
     ],
     "prompt_number": 73
    },
    {
     "cell_type": "code",
     "collapsed": false,
     "input": [
      "import envoy\n",
      "import subprocess"
     ],
     "language": "python",
     "metadata": {},
     "outputs": [],
     "prompt_number": 63
    },
    {
     "cell_type": "code",
     "collapsed": false,
     "input": [
      "import IPython.nbconvert"
     ],
     "language": "python",
     "metadata": {},
     "outputs": [],
     "prompt_number": 58
    },
    {
     "cell_type": "code",
     "collapsed": false,
     "input": [
      "from IPython.config import Config\n",
      "from IPython.nbconvert import HTMLExporter,RSTExporter"
     ],
     "language": "python",
     "metadata": {},
     "outputs": [],
     "prompt_number": 62
    },
    {
     "cell_type": "code",
     "collapsed": false,
     "input": [
      "os.chdir('/home/wcmckee/brobeur-web/')"
     ],
     "language": "python",
     "metadata": {},
     "outputs": []
    },
    {
     "cell_type": "code",
     "collapsed": false,
     "input": [
      "exrst = RSTExporter.from_notebook_node"
     ],
     "language": "python",
     "metadata": {},
     "outputs": []
    },
    {
     "cell_type": "code",
     "collapsed": false,
     "input": [
      "for itz in ipy:\n",
      "    lsr = envoy.run('ipython nbconvert pywgit.ipynb')"
     ],
     "language": "python",
     "metadata": {},
     "outputs": [],
     "prompt_number": 55
    },
    {
     "cell_type": "code",
     "collapsed": false,
     "input": [
      "lsr.std_out"
     ],
     "language": "python",
     "metadata": {},
     "outputs": [
      {
       "metadata": {},
       "output_type": "pyout",
       "prompt_number": 56,
       "text": [
        "''"
       ]
      }
     ],
     "prompt_number": 56
    },
    {
     "cell_type": "code",
     "collapsed": false,
     "input": [
      "os.chdir(dadir)"
     ],
     "language": "python",
     "metadata": {},
     "outputs": [],
     "prompt_number": 67
    },
    {
     "cell_type": "code",
     "collapsed": false,
     "input": [
      "xc = subprocess.check_output('ipython nbconvert')"
     ],
     "language": "python",
     "metadata": {},
     "outputs": [
      {
       "ename": "OSError",
       "evalue": "[Errno 2] No such file or directory",
       "output_type": "pyerr",
       "traceback": [
        "\u001b[1;31m---------------------------------------------------------------------------\u001b[0m\n\u001b[1;31mOSError\u001b[0m                                   Traceback (most recent call last)",
        "\u001b[1;32m<ipython-input-71-7c2f5a3307f7>\u001b[0m in \u001b[0;36m<module>\u001b[1;34m()\u001b[0m\n\u001b[1;32m----> 1\u001b[1;33m \u001b[0mxc\u001b[0m \u001b[1;33m=\u001b[0m \u001b[0msubprocess\u001b[0m\u001b[1;33m.\u001b[0m\u001b[0mcheck_output\u001b[0m\u001b[1;33m(\u001b[0m\u001b[1;34m'ipython nbconvert'\u001b[0m\u001b[1;33m)\u001b[0m\u001b[1;33m\u001b[0m\u001b[0m\n\u001b[0m",
        "\u001b[1;32m/usr/lib/python2.7/subprocess.pyc\u001b[0m in \u001b[0;36mcheck_output\u001b[1;34m(*popenargs, **kwargs)\u001b[0m\n\u001b[0;32m    535\u001b[0m     \u001b[1;32mif\u001b[0m \u001b[1;34m'stdout'\u001b[0m \u001b[1;32min\u001b[0m \u001b[0mkwargs\u001b[0m\u001b[1;33m:\u001b[0m\u001b[1;33m\u001b[0m\u001b[0m\n\u001b[0;32m    536\u001b[0m         \u001b[1;32mraise\u001b[0m \u001b[0mValueError\u001b[0m\u001b[1;33m(\u001b[0m\u001b[1;34m'stdout argument not allowed, it will be overridden.'\u001b[0m\u001b[1;33m)\u001b[0m\u001b[1;33m\u001b[0m\u001b[0m\n\u001b[1;32m--> 537\u001b[1;33m     \u001b[0mprocess\u001b[0m \u001b[1;33m=\u001b[0m \u001b[0mPopen\u001b[0m\u001b[1;33m(\u001b[0m\u001b[0mstdout\u001b[0m\u001b[1;33m=\u001b[0m\u001b[0mPIPE\u001b[0m\u001b[1;33m,\u001b[0m \u001b[1;33m*\u001b[0m\u001b[0mpopenargs\u001b[0m\u001b[1;33m,\u001b[0m \u001b[1;33m**\u001b[0m\u001b[0mkwargs\u001b[0m\u001b[1;33m)\u001b[0m\u001b[1;33m\u001b[0m\u001b[0m\n\u001b[0m\u001b[0;32m    538\u001b[0m     \u001b[0moutput\u001b[0m\u001b[1;33m,\u001b[0m \u001b[0munused_err\u001b[0m \u001b[1;33m=\u001b[0m \u001b[0mprocess\u001b[0m\u001b[1;33m.\u001b[0m\u001b[0mcommunicate\u001b[0m\u001b[1;33m(\u001b[0m\u001b[1;33m)\u001b[0m\u001b[1;33m\u001b[0m\u001b[0m\n\u001b[0;32m    539\u001b[0m     \u001b[0mretcode\u001b[0m \u001b[1;33m=\u001b[0m \u001b[0mprocess\u001b[0m\u001b[1;33m.\u001b[0m\u001b[0mpoll\u001b[0m\u001b[1;33m(\u001b[0m\u001b[1;33m)\u001b[0m\u001b[1;33m\u001b[0m\u001b[0m\n",
        "\u001b[1;32m/usr/lib/python2.7/subprocess.pyc\u001b[0m in \u001b[0;36m__init__\u001b[1;34m(self, args, bufsize, executable, stdin, stdout, stderr, preexec_fn, close_fds, shell, cwd, env, universal_newlines, startupinfo, creationflags)\u001b[0m\n\u001b[0;32m    677\u001b[0m                             \u001b[0mp2cread\u001b[0m\u001b[1;33m,\u001b[0m \u001b[0mp2cwrite\u001b[0m\u001b[1;33m,\u001b[0m\u001b[1;33m\u001b[0m\u001b[0m\n\u001b[0;32m    678\u001b[0m                             \u001b[0mc2pread\u001b[0m\u001b[1;33m,\u001b[0m \u001b[0mc2pwrite\u001b[0m\u001b[1;33m,\u001b[0m\u001b[1;33m\u001b[0m\u001b[0m\n\u001b[1;32m--> 679\u001b[1;33m                             errread, errwrite)\n\u001b[0m\u001b[0;32m    680\u001b[0m \u001b[1;33m\u001b[0m\u001b[0m\n\u001b[0;32m    681\u001b[0m         \u001b[1;32mif\u001b[0m \u001b[0mmswindows\u001b[0m\u001b[1;33m:\u001b[0m\u001b[1;33m\u001b[0m\u001b[0m\n",
        "\u001b[1;32m/usr/lib/python2.7/subprocess.pyc\u001b[0m in \u001b[0;36m_execute_child\u001b[1;34m(self, args, executable, preexec_fn, close_fds, cwd, env, universal_newlines, startupinfo, creationflags, shell, p2cread, p2cwrite, c2pread, c2pwrite, errread, errwrite)\u001b[0m\n\u001b[0;32m   1257\u001b[0m                     \u001b[1;32mif\u001b[0m \u001b[0mfd\u001b[0m \u001b[1;32mis\u001b[0m \u001b[1;32mnot\u001b[0m \u001b[0mNone\u001b[0m\u001b[1;33m:\u001b[0m\u001b[1;33m\u001b[0m\u001b[0m\n\u001b[0;32m   1258\u001b[0m                         \u001b[0mos\u001b[0m\u001b[1;33m.\u001b[0m\u001b[0mclose\u001b[0m\u001b[1;33m(\u001b[0m\u001b[0mfd\u001b[0m\u001b[1;33m)\u001b[0m\u001b[1;33m\u001b[0m\u001b[0m\n\u001b[1;32m-> 1259\u001b[1;33m                 \u001b[1;32mraise\u001b[0m \u001b[0mchild_exception\u001b[0m\u001b[1;33m\u001b[0m\u001b[0m\n\u001b[0m\u001b[0;32m   1260\u001b[0m \u001b[1;33m\u001b[0m\u001b[0m\n\u001b[0;32m   1261\u001b[0m \u001b[1;33m\u001b[0m\u001b[0m\n",
        "\u001b[1;31mOSError\u001b[0m: [Errno 2] No such file or directory"
       ]
      }
     ],
     "prompt_number": 71
    },
    {
     "cell_type": "code",
     "collapsed": false,
     "input": [
      "xc"
     ],
     "language": "python",
     "metadata": {},
     "outputs": [
      {
       "ename": "NameError",
       "evalue": "name 'xc' is not defined",
       "output_type": "pyerr",
       "traceback": [
        "\u001b[1;31m---------------------------------------------------------------------------\u001b[0m\n\u001b[1;31mNameError\u001b[0m                                 Traceback (most recent call last)",
        "\u001b[1;32m<ipython-input-72-6326432f7432>\u001b[0m in \u001b[0;36m<module>\u001b[1;34m()\u001b[0m\n\u001b[1;32m----> 1\u001b[1;33m \u001b[0mxc\u001b[0m\u001b[1;33m\u001b[0m\u001b[0m\n\u001b[0m",
        "\u001b[1;31mNameError\u001b[0m: name 'xc' is not defined"
       ]
      }
     ],
     "prompt_number": 72
    },
    {
     "cell_type": "code",
     "collapsed": false,
     "input": [
      "cb = run('ls')"
     ],
     "language": "python",
     "metadata": {},
     "outputs": [
      {
       "ename": "NameError",
       "evalue": "global name 'expand_args' is not defined",
       "output_type": "pyerr",
       "traceback": [
        "\u001b[1;31m---------------------------------------------------------------------------\u001b[0m\n\u001b[1;31mNameError\u001b[0m                                 Traceback (most recent call last)",
        "\u001b[1;32m<ipython-input-54-0e69cacc7894>\u001b[0m in \u001b[0;36m<module>\u001b[1;34m()\u001b[0m\n\u001b[1;32m----> 1\u001b[1;33m \u001b[0mcb\u001b[0m \u001b[1;33m=\u001b[0m \u001b[0mrun\u001b[0m\u001b[1;33m(\u001b[0m\u001b[1;34m'ls'\u001b[0m\u001b[1;33m)\u001b[0m\u001b[1;33m\u001b[0m\u001b[0m\n\u001b[0m",
        "\u001b[1;32m<ipython-input-36-5558080a7f16>\u001b[0m in \u001b[0;36mrun\u001b[1;34m(command, data, timeout, kill_timeout, env, cwd)\u001b[0m\n\u001b[0;32m      5\u001b[0m     \"\"\"\n\u001b[0;32m      6\u001b[0m \u001b[1;33m\u001b[0m\u001b[0m\n\u001b[1;32m----> 7\u001b[1;33m     \u001b[0mcommand\u001b[0m \u001b[1;33m=\u001b[0m \u001b[0mexpand_args\u001b[0m\u001b[1;33m(\u001b[0m\u001b[0mcommand\u001b[0m\u001b[1;33m)\u001b[0m\u001b[1;33m\u001b[0m\u001b[0m\n\u001b[0m\u001b[0;32m      8\u001b[0m \u001b[1;33m\u001b[0m\u001b[0m\n\u001b[0;32m      9\u001b[0m     \u001b[0mhistory\u001b[0m \u001b[1;33m=\u001b[0m \u001b[1;33m[\u001b[0m\u001b[1;33m]\u001b[0m\u001b[1;33m\u001b[0m\u001b[0m\n",
        "\u001b[1;31mNameError\u001b[0m: global name 'expand_args' is not defined"
       ]
      }
     ],
     "prompt_number": 54
    },
    {
     "cell_type": "code",
     "collapsed": false,
     "input": [
      "cb."
     ],
     "language": "python",
     "metadata": {},
     "outputs": []
    }
   ],
   "metadata": {}
  }
 ]
}