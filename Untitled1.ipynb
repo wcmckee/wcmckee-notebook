{
 "metadata": {
  "name": "",
  "signature": "sha256:2cf424bef5eb7d65f1377756865d71c4d6c8a2274c629f1b3ff5b3259317bce2"
 },
 "nbformat": 3,
 "nbformat_minor": 0,
 "worksheets": []
}