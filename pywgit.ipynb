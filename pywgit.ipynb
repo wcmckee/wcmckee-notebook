{
 "metadata": {
  "name": "",
  "signature": "sha256:a7e4544f837de60459923224c31fd6761e53c8d244eccc63d59559d544371bfd"
 },
 "nbformat": 3,
 "nbformat_minor": 0,
 "worksheets": [
  {
   "cells": [
    {
     "cell_type": "markdown",
     "metadata": {},
     "source": [
<<<<<<< HEAD
      "<h1>pywgit</h1>\n",
=======
      "pywgit\n",
      "======\n",
      "\n",
      "+ Give user, or lookup via user. ty \n",
      "+ Downloads repos from github\n",
>>>>>>> dfddfb98f068483ec96e585fe0a02d4453b53456
      "\n",
      "This is a python script to download repos from github\n",
      "It takes the login name (wcmckee in my case) and downloads the repos of github user (the system login name). It downloads it to the home dir. \n",
      "The program checks if you have local folders that are also on github. It will skip them from downloading from github. "
     ]
    },
    {
     "cell_type": "markdown",
     "metadata": {},
     "source": [
      "This notebook also contains a project using new zealand transport data - cameras from around the country. It is a xml file that is opened and converted to a python dict. It is also converted to a json object, for giggles. \n",
      "I am always working with for loops and lists in python and rarely with dict. This project was perfect to getting me back to using dict. There is no python module for nz transport data so i had to work from xml (json doesn't seem to be an option). I had never converted xml over to python dict so it was a great chance to give it a go.\n",
      "During the process I felt I lost lots of work. Maybe it's because I'm working on a enourmous notebook.\n",
      "I have problems with getting the xml file and reading it. NZ Transport requires a login to access the data. I couldn't figure out how to get this to work with requests, but managed to run bash and curl then just save the output to file (linkz). \n"
     ]
    },
    {
     "cell_type": "code",
     "collapsed": false,
     "input": [
      "from github import Github\n",
      "import os\n",
      "import getpass\n",
      "import git"
     ],
     "language": "python",
     "metadata": {},
     "outputs": [],
     "prompt_number": 4
    },
    {
     "cell_type": "code",
     "collapsed": false,
     "input": [
      "theuser = getpass.getuser()"
     ],
     "language": "python",
     "metadata": {},
     "outputs": [],
     "prompt_number": 5
    },
    {
     "cell_type": "markdown",
     "metadata": {},
     "source": [
      "muliti support for user names - cycle through a list, user input, and get username from login. "
     ]
    },
    {
     "cell_type": "code",
     "collapsed": false,
     "input": [
      "usergen = ['ipython', 'wcmckee', 'drhealsgood', 'hamipy']"
     ],
     "language": "python",
     "metadata": {},
     "outputs": [],
     "prompt_number": 6
    },
    {
     "cell_type": "code",
     "collapsed": false,
     "input": [
      "for us in usergen:\n",
      "    print us"
     ],
     "language": "python",
     "metadata": {},
     "outputs": [
      {
       "output_type": "stream",
       "stream": "stdout",
       "text": [
        "ipython\n",
        "wcmckee\n",
        "drhealsgood\n",
        "hamipy\n"
       ]
      }
     ],
     "prompt_number": 7
    },
    {
     "cell_type": "code",
     "collapsed": true,
     "input": [
      "opaz = open('gpaz', 'r')"
     ],
     "language": "python",
     "metadata": {},
     "outputs": [],
     "prompt_number": 16
    },
    {
     "cell_type": "code",
     "collapsed": false,
     "input": [
      "opac = opaz.read()"
     ],
     "language": "python",
     "metadata": {},
     "outputs": [],
     "prompt_number": 17
    },
    {
     "cell_type": "code",
     "collapsed": false,
     "input": [
      "g = Github('wcmckee',  'bill123now!')"
     ],
     "language": "python",
     "metadata": {},
     "outputs": [],
     "prompt_number": 27
    },
    {
     "cell_type": "code",
     "collapsed": false,
     "input": [
      "gitlist = []"
     ],
     "language": "python",
     "metadata": {},
     "outputs": [],
     "prompt_number": 28
    },
    {
     "cell_type": "code",
     "collapsed": false,
     "input": [
      "searchpy = g.search_repositories(theuser)"
     ],
     "language": "python",
     "metadata": {},
     "outputs": [],
     "prompt_number": 29
    },
    {
     "cell_type": "code",
     "collapsed": false,
     "input": [
      "typy = g.search_users(theuser)"
     ],
     "language": "python",
     "metadata": {},
     "outputs": [],
     "prompt_number": 30
    },
    {
     "cell_type": "code",
     "collapsed": false,
     "input": [
      "blehgit = g.search_repositories('reddit')"
     ],
     "language": "python",
     "metadata": {},
     "outputs": [],
     "prompt_number": 31
    },
    {
     "cell_type": "markdown",
     "metadata": {},
     "source": [
      "oh man, what have i got happening here. This started with a way of downloading repos in bulk from a user and ive started to bring in more github module. Here I am searching repositories on github for reddit. \n",
      "What things could i get it to search for?\n",
      "- list\n",
      "- search your repos on global to find similar named ones.\n",
      "- "
     ]
    },
    {
     "cell_type": "code",
     "collapsed": false,
     "input": [
      "repolis = []"
     ],
     "language": "python",
     "metadata": {},
     "outputs": [],
     "prompt_number": 32
    },
    {
     "cell_type": "code",
     "collapsed": false,
     "input": [
      "print repolis"
     ],
     "language": "python",
     "metadata": {},
     "outputs": [
      {
       "output_type": "stream",
       "stream": "stdout",
       "text": [
        "[]\n"
       ]
      }
     ],
     "prompt_number": 33
    },
    {
     "cell_type": "code",
     "collapsed": false,
     "input": [
      "for bleh in blehgit:\n",
      "    repolis.append(bleh)\n",
      "    #print bleh.full_name"
     ],
     "language": "python",
     "metadata": {},
     "outputs": [
      {
       "ename": "GithubException",
       "evalue": "403 {u'documentation_url': u'https://developer.github.com/v3/#rate-limiting', u'message': u'API rate limit exceeded for wcmckee.'}",
       "output_type": "pyerr",
       "traceback": [
        "\u001b[1;31m---------------------------------------------------------------------------\u001b[0m\n\u001b[1;31mGithubException\u001b[0m                           Traceback (most recent call last)",
        "\u001b[1;32m<ipython-input-34-59f642db6a33>\u001b[0m in \u001b[0;36m<module>\u001b[1;34m()\u001b[0m\n\u001b[1;32m----> 1\u001b[1;33m \u001b[1;32mfor\u001b[0m \u001b[0mbleh\u001b[0m \u001b[1;32min\u001b[0m \u001b[0mblehgit\u001b[0m\u001b[1;33m:\u001b[0m\u001b[1;33m\u001b[0m\u001b[0m\n\u001b[0m\u001b[0;32m      2\u001b[0m     \u001b[0mrepolis\u001b[0m\u001b[1;33m.\u001b[0m\u001b[0mappend\u001b[0m\u001b[1;33m(\u001b[0m\u001b[0mbleh\u001b[0m\u001b[1;33m)\u001b[0m\u001b[1;33m\u001b[0m\u001b[0m\n\u001b[0;32m      3\u001b[0m     \u001b[1;31m#print bleh.full_name\u001b[0m\u001b[1;33m\u001b[0m\u001b[1;33m\u001b[0m\u001b[0m\n",
        "\u001b[1;32m/usr/local/lib/python2.7/dist-packages/github/PaginatedList.pyc\u001b[0m in \u001b[0;36m__iter__\u001b[1;34m(self)\u001b[0m\n\u001b[0;32m     46\u001b[0m             \u001b[1;32myield\u001b[0m \u001b[0melement\u001b[0m\u001b[1;33m\u001b[0m\u001b[0m\n\u001b[0;32m     47\u001b[0m         \u001b[1;32mwhile\u001b[0m \u001b[0mself\u001b[0m\u001b[1;33m.\u001b[0m\u001b[0m_couldGrow\u001b[0m\u001b[1;33m(\u001b[0m\u001b[1;33m)\u001b[0m\u001b[1;33m:\u001b[0m\u001b[1;33m\u001b[0m\u001b[0m\n\u001b[1;32m---> 48\u001b[1;33m             \u001b[0mnewElements\u001b[0m \u001b[1;33m=\u001b[0m \u001b[0mself\u001b[0m\u001b[1;33m.\u001b[0m\u001b[0m_grow\u001b[0m\u001b[1;33m(\u001b[0m\u001b[1;33m)\u001b[0m\u001b[1;33m\u001b[0m\u001b[0m\n\u001b[0m\u001b[0;32m     49\u001b[0m             \u001b[1;32mfor\u001b[0m \u001b[0melement\u001b[0m \u001b[1;32min\u001b[0m \u001b[0mnewElements\u001b[0m\u001b[1;33m:\u001b[0m\u001b[1;33m\u001b[0m\u001b[0m\n\u001b[0;32m     50\u001b[0m                 \u001b[1;32myield\u001b[0m \u001b[0melement\u001b[0m\u001b[1;33m\u001b[0m\u001b[0m\n",
        "\u001b[1;32m/usr/local/lib/python2.7/dist-packages/github/PaginatedList.pyc\u001b[0m in \u001b[0;36m_grow\u001b[1;34m(self)\u001b[0m\n\u001b[0;32m     58\u001b[0m \u001b[1;33m\u001b[0m\u001b[0m\n\u001b[0;32m     59\u001b[0m     \u001b[1;32mdef\u001b[0m \u001b[0m_grow\u001b[0m\u001b[1;33m(\u001b[0m\u001b[0mself\u001b[0m\u001b[1;33m)\u001b[0m\u001b[1;33m:\u001b[0m\u001b[1;33m\u001b[0m\u001b[0m\n\u001b[1;32m---> 60\u001b[1;33m         \u001b[0mnewElements\u001b[0m \u001b[1;33m=\u001b[0m \u001b[0mself\u001b[0m\u001b[1;33m.\u001b[0m\u001b[0m_fetchNextPage\u001b[0m\u001b[1;33m(\u001b[0m\u001b[1;33m)\u001b[0m\u001b[1;33m\u001b[0m\u001b[0m\n\u001b[0m\u001b[0;32m     61\u001b[0m         \u001b[0mself\u001b[0m\u001b[1;33m.\u001b[0m\u001b[0m__elements\u001b[0m \u001b[1;33m+=\u001b[0m \u001b[0mnewElements\u001b[0m\u001b[1;33m\u001b[0m\u001b[0m\n\u001b[0;32m     62\u001b[0m         \u001b[1;32mreturn\u001b[0m \u001b[0mnewElements\u001b[0m\u001b[1;33m\u001b[0m\u001b[0m\n",
        "\u001b[1;32m/usr/local/lib/python2.7/dist-packages/github/PaginatedList.pyc\u001b[0m in \u001b[0;36m_fetchNextPage\u001b[1;34m(self)\u001b[0m\n\u001b[0;32m    156\u001b[0m             \u001b[1;34m\"GET\"\u001b[0m\u001b[1;33m,\u001b[0m\u001b[1;33m\u001b[0m\u001b[0m\n\u001b[0;32m    157\u001b[0m             \u001b[0mself\u001b[0m\u001b[1;33m.\u001b[0m\u001b[0m__nextUrl\u001b[0m\u001b[1;33m,\u001b[0m\u001b[1;33m\u001b[0m\u001b[0m\n\u001b[1;32m--> 158\u001b[1;33m             \u001b[0mparameters\u001b[0m\u001b[1;33m=\u001b[0m\u001b[0mself\u001b[0m\u001b[1;33m.\u001b[0m\u001b[0m__nextParams\u001b[0m\u001b[1;33m\u001b[0m\u001b[0m\n\u001b[0m\u001b[0;32m    159\u001b[0m         )\n\u001b[0;32m    160\u001b[0m \u001b[1;33m\u001b[0m\u001b[0m\n",
        "\u001b[1;32m/usr/local/lib/python2.7/dist-packages/github/Requester.pyc\u001b[0m in \u001b[0;36mrequestJsonAndCheck\u001b[1;34m(self, verb, url, parameters, headers, input, cnx)\u001b[0m\n\u001b[0;32m    167\u001b[0m \u001b[1;33m\u001b[0m\u001b[0m\n\u001b[0;32m    168\u001b[0m     \u001b[1;32mdef\u001b[0m \u001b[0mrequestJsonAndCheck\u001b[0m\u001b[1;33m(\u001b[0m\u001b[0mself\u001b[0m\u001b[1;33m,\u001b[0m \u001b[0mverb\u001b[0m\u001b[1;33m,\u001b[0m \u001b[0murl\u001b[0m\u001b[1;33m,\u001b[0m \u001b[0mparameters\u001b[0m\u001b[1;33m=\u001b[0m\u001b[0mNone\u001b[0m\u001b[1;33m,\u001b[0m \u001b[0mheaders\u001b[0m\u001b[1;33m=\u001b[0m\u001b[0mNone\u001b[0m\u001b[1;33m,\u001b[0m \u001b[0minput\u001b[0m\u001b[1;33m=\u001b[0m\u001b[0mNone\u001b[0m\u001b[1;33m,\u001b[0m \u001b[0mcnx\u001b[0m\u001b[1;33m=\u001b[0m\u001b[0mNone\u001b[0m\u001b[1;33m)\u001b[0m\u001b[1;33m:\u001b[0m\u001b[1;33m\u001b[0m\u001b[0m\n\u001b[1;32m--> 169\u001b[1;33m         \u001b[1;32mreturn\u001b[0m \u001b[0mself\u001b[0m\u001b[1;33m.\u001b[0m\u001b[0m__check\u001b[0m\u001b[1;33m(\u001b[0m\u001b[1;33m*\u001b[0m\u001b[0mself\u001b[0m\u001b[1;33m.\u001b[0m\u001b[0mrequestJson\u001b[0m\u001b[1;33m(\u001b[0m\u001b[0mverb\u001b[0m\u001b[1;33m,\u001b[0m \u001b[0murl\u001b[0m\u001b[1;33m,\u001b[0m \u001b[0mparameters\u001b[0m\u001b[1;33m,\u001b[0m \u001b[0mheaders\u001b[0m\u001b[1;33m,\u001b[0m \u001b[0minput\u001b[0m\u001b[1;33m,\u001b[0m \u001b[0mcnx\u001b[0m\u001b[1;33m)\u001b[0m\u001b[1;33m)\u001b[0m\u001b[1;33m\u001b[0m\u001b[0m\n\u001b[0m\u001b[0;32m    170\u001b[0m \u001b[1;33m\u001b[0m\u001b[0m\n\u001b[0;32m    171\u001b[0m     \u001b[1;32mdef\u001b[0m \u001b[0mrequestMultipartAndCheck\u001b[0m\u001b[1;33m(\u001b[0m\u001b[0mself\u001b[0m\u001b[1;33m,\u001b[0m \u001b[0mverb\u001b[0m\u001b[1;33m,\u001b[0m \u001b[0murl\u001b[0m\u001b[1;33m,\u001b[0m \u001b[0mparameters\u001b[0m\u001b[1;33m=\u001b[0m\u001b[0mNone\u001b[0m\u001b[1;33m,\u001b[0m \u001b[0mheaders\u001b[0m\u001b[1;33m=\u001b[0m\u001b[0mNone\u001b[0m\u001b[1;33m,\u001b[0m \u001b[0minput\u001b[0m\u001b[1;33m=\u001b[0m\u001b[0mNone\u001b[0m\u001b[1;33m)\u001b[0m\u001b[1;33m:\u001b[0m\u001b[1;33m\u001b[0m\u001b[0m\n",
        "\u001b[1;32m/usr/local/lib/python2.7/dist-packages/github/Requester.pyc\u001b[0m in \u001b[0;36m__check\u001b[1;34m(self, status, responseHeaders, output)\u001b[0m\n\u001b[0;32m    175\u001b[0m         \u001b[0moutput\u001b[0m \u001b[1;33m=\u001b[0m \u001b[0mself\u001b[0m\u001b[1;33m.\u001b[0m\u001b[0m__structuredFromJson\u001b[0m\u001b[1;33m(\u001b[0m\u001b[0moutput\u001b[0m\u001b[1;33m)\u001b[0m\u001b[1;33m\u001b[0m\u001b[0m\n\u001b[0;32m    176\u001b[0m         \u001b[1;32mif\u001b[0m \u001b[0mstatus\u001b[0m \u001b[1;33m>=\u001b[0m \u001b[1;36m400\u001b[0m\u001b[1;33m:\u001b[0m\u001b[1;33m\u001b[0m\u001b[0m\n\u001b[1;32m--> 177\u001b[1;33m             \u001b[1;32mraise\u001b[0m \u001b[0mself\u001b[0m\u001b[1;33m.\u001b[0m\u001b[0m__createException\u001b[0m\u001b[1;33m(\u001b[0m\u001b[0mstatus\u001b[0m\u001b[1;33m,\u001b[0m \u001b[0mresponseHeaders\u001b[0m\u001b[1;33m,\u001b[0m \u001b[0moutput\u001b[0m\u001b[1;33m)\u001b[0m\u001b[1;33m\u001b[0m\u001b[0m\n\u001b[0m\u001b[0;32m    178\u001b[0m         \u001b[1;32mreturn\u001b[0m \u001b[0mresponseHeaders\u001b[0m\u001b[1;33m,\u001b[0m \u001b[0moutput\u001b[0m\u001b[1;33m\u001b[0m\u001b[0m\n\u001b[0;32m    179\u001b[0m \u001b[1;33m\u001b[0m\u001b[0m\n",
        "\u001b[1;31mGithubException\u001b[0m: 403 {u'documentation_url': u'https://developer.github.com/v3/#rate-limiting', u'message': u'API rate limit exceeded for wcmckee.'}"
       ]
      }
     ],
     "prompt_number": 34
    },
    {
     "cell_type": "markdown",
     "metadata": {},
     "source": [
      "I'm having a problem with auth! Need to get myself loged in here. \n",
      "Needs better security for logging in. - SSH Key? - hash the password "
     ]
    },
    {
     "cell_type": "markdown",
     "metadata": {},
     "source": [
      "What to do with all the output i am geting from searching. appending it into a list. maybe turn to dict? Make a rest feed? \n"
     ]
    },
    {
     "cell_type": "code",
     "collapsed": false,
     "input": [
      "for blzgit in blehgit:\n",
      "    print blzgit.name"
     ],
     "language": "python",
     "metadata": {},
     "outputs": []
    },
    {
     "cell_type": "code",
     "collapsed": false,
     "input": [
      "print blehgit.totalCount"
     ],
     "language": "python",
     "metadata": {},
     "outputs": []
    },
    {
     "cell_type": "code",
     "collapsed": false,
     "input": [
      "print typy.totalCount"
     ],
     "language": "python",
     "metadata": {},
     "outputs": []
    },
    {
     "cell_type": "code",
     "collapsed": false,
     "input": [
      "print typy\n"
     ],
     "language": "python",
     "metadata": {},
     "outputs": []
    },
    {
     "cell_type": "code",
     "collapsed": false,
     "input": [
      "gepy = g.get_organization('brobeur')"
     ],
     "language": "python",
     "metadata": {},
     "outputs": []
    },
    {
     "cell_type": "code",
     "collapsed": false,
     "input": [
      "gepy.email"
     ],
     "language": "python",
     "metadata": {},
     "outputs": []
    },
    {
     "cell_type": "code",
     "collapsed": false,
     "input": [
      "gepy.blog"
     ],
     "language": "python",
     "metadata": {},
     "outputs": []
    },
    {
     "cell_type": "code",
     "collapsed": false,
     "input": [
      "gepy.url"
     ],
     "language": "python",
     "metadata": {},
     "outputs": []
    },
    {
     "cell_type": "code",
     "collapsed": false,
     "input": [
      "gepy.created_at"
     ],
     "language": "python",
     "metadata": {},
     "outputs": []
    },
    {
     "cell_type": "code",
     "collapsed": false,
     "input": [
      "brorepo.totalCount()"
     ],
     "language": "python",
     "metadata": {},
     "outputs": []
    },
    {
     "cell_type": "code",
     "collapsed": false,
     "input": [
      "gepy.public_repos"
     ],
     "language": "python",
     "metadata": {},
     "outputs": []
    },
    {
     "cell_type": "code",
     "collapsed": false,
     "input": [
      "gepic = gepy.avatar_url"
     ],
     "language": "python",
     "metadata": {},
     "outputs": []
    },
    {
     "cell_type": "code",
     "collapsed": false,
     "input": [
      "gepic"
     ],
     "language": "python",
     "metadata": {},
     "outputs": []
    },
    {
     "cell_type": "code",
     "collapsed": false,
     "input": [
      "with open(gepic, 'wb') as handle:\n",
      "    response = requests.get(jpgcam, stream=True)\n",
      "\n",
      "    for block in response.iter_content(1024):\n",
      "        if not block:\n",
      "            break\n",
      "        handle.write(block)\n"
     ],
     "language": "python",
     "metadata": {},
     "outputs": []
    },
    {
     "cell_type": "code",
     "collapsed": false,
     "input": [
      "gepy.type"
     ],
     "language": "python",
     "metadata": {},
     "outputs": []
    },
    {
     "cell_type": "code",
     "collapsed": false,
     "input": [
      "gepy.raw_data"
     ],
     "language": "python",
     "metadata": {},
     "outputs": []
    },
    {
     "cell_type": "code",
     "collapsed": false,
     "input": [
      "print alrepo"
     ],
     "language": "python",
     "metadata": {},
     "outputs": []
    },
    {
     "cell_type": "code",
     "collapsed": false,
     "input": [
      "brorepo = gepy.get_repo('linux')"
     ],
     "language": "python",
     "metadata": {},
     "outputs": []
    },
    {
     "cell_type": "code",
     "collapsed": false,
     "input": [
      "brorepo.size"
     ],
     "language": "python",
     "metadata": {},
     "outputs": []
    },
    {
     "cell_type": "code",
     "collapsed": false,
     "input": [
      "gepy.get_public_members()"
     ],
     "language": "python",
     "metadata": {},
     "outputs": []
    },
    {
     "cell_type": "code",
     "collapsed": false,
     "input": [],
     "language": "python",
     "metadata": {},
     "outputs": []
    },
    {
     "cell_type": "code",
     "collapsed": false,
     "input": [
      "gepy.location"
     ],
     "language": "python",
     "metadata": {},
     "outputs": [
      {
       "ename": "NameError",
       "evalue": "name 'gepy' is not defined",
       "output_type": "pyerr",
       "traceback": [
        "\u001b[1;31m---------------------------------------------------------------------------\u001b[0m\n\u001b[1;31mNameError\u001b[0m                                 Traceback (most recent call last)",
        "\u001b[1;32m<ipython-input-35-3c4549fd844b>\u001b[0m in \u001b[0;36m<module>\u001b[1;34m()\u001b[0m\n\u001b[1;32m----> 1\u001b[1;33m \u001b[0mgepy\u001b[0m\u001b[1;33m.\u001b[0m\u001b[0mlocation\u001b[0m\u001b[1;33m\u001b[0m\u001b[0m\n\u001b[0m",
        "\u001b[1;31mNameError\u001b[0m: name 'gepy' is not defined"
       ]
      }
     ],
     "prompt_number": 35
    },
    {
     "cell_type": "code",
     "collapsed": false,
     "input": [
      "searchbleh = g.get_api_status()"
     ],
     "language": "python",
     "metadata": {},
     "outputs": [],
     "prompt_number": 313
    },
    {
     "cell_type": "code",
     "collapsed": false,
     "input": [
      "print searchbleh.status\n",
      "print searchbleh.last_modified"
     ],
     "language": "python",
     "metadata": {},
     "outputs": [
      {
       "output_type": "stream",
       "stream": "stdout",
       "text": [
        "good\n",
        "None\n"
       ]
      }
     ],
     "prompt_number": 314
    },
    {
     "cell_type": "code",
     "collapsed": false,
     "input": [
      "searchpy.totalCount"
     ],
     "language": "python",
     "metadata": {},
     "outputs": [
      {
       "ename": "NameError",
       "evalue": "name 'searchpy' is not defined",
       "output_type": "pyerr",
       "traceback": [
        "\u001b[1;31m---------------------------------------------------------------------------\u001b[0m\n\u001b[1;31mNameError\u001b[0m                                 Traceback (most recent call last)",
        "\u001b[1;32m<ipython-input-114-98c2fa4cd19e>\u001b[0m in \u001b[0;36m<module>\u001b[1;34m()\u001b[0m\n\u001b[1;32m----> 1\u001b[1;33m \u001b[0msearchpy\u001b[0m\u001b[1;33m.\u001b[0m\u001b[0mtotalCount\u001b[0m\u001b[1;33m\u001b[0m\u001b[0m\n\u001b[0m",
        "\u001b[1;31mNameError\u001b[0m: name 'searchpy' is not defined"
       ]
      }
     ],
     "prompt_number": 114
    },
    {
     "cell_type": "code",
     "collapsed": false,
     "input": [
      "import geopy"
     ],
     "language": "python",
     "metadata": {},
     "outputs": [],
     "prompt_number": 116
    },
    {
     "cell_type": "code",
     "collapsed": false,
     "input": [
      "koapi = ('d2b321e45a2041f19551a3f3b223fce0')"
     ],
     "language": "python",
     "metadata": {},
     "outputs": [],
     "prompt_number": 117
    },
    {
     "cell_type": "code",
     "collapsed": false,
     "input": [
      "geoloc = geopy.geocoders.GoogleV3()"
     ],
     "language": "python",
     "metadata": {},
     "outputs": [],
     "prompt_number": 118
    },
    {
     "cell_type": "code",
     "collapsed": false,
     "input": [
      "address = geoloc.geocode('8 Margaret Street Levin')"
     ],
     "language": "python",
     "metadata": {},
     "outputs": [],
     "prompt_number": 119
    },
    {
     "cell_type": "code",
     "collapsed": false,
     "input": [
      "print address"
     ],
     "language": "python",
     "metadata": {},
     "outputs": [
      {
       "output_type": "stream",
       "stream": "stdout",
       "text": [
        "8 Margaret Street, Levin 5510, New Zealand\n"
       ]
      }
     ],
     "prompt_number": 120
    },
    {
     "cell_type": "code",
     "collapsed": false,
     "input": [
      "address.point"
     ],
     "language": "python",
     "metadata": {},
     "outputs": [
      {
       "metadata": {},
       "output_type": "pyout",
       "prompt_number": 121,
       "text": [
        "Point(-40.6165368, 175.277496, 0.0)"
       ]
      }
     ],
     "prompt_number": 121
    },
    {
     "cell_type": "code",
     "collapsed": false,
     "input": [
      "for se in searchpy:\n",
      "    print se.url"
     ],
     "language": "python",
     "metadata": {},
     "outputs": [
      {
       "ename": "NameError",
       "evalue": "name 'searchpy' is not defined",
       "output_type": "pyerr",
       "traceback": [
        "\u001b[1;31m---------------------------------------------------------------------------\u001b[0m\n\u001b[1;31mNameError\u001b[0m                                 Traceback (most recent call last)",
        "\u001b[1;32m<ipython-input-150-e5b46de80eed>\u001b[0m in \u001b[0;36m<module>\u001b[1;34m()\u001b[0m\n\u001b[1;32m----> 1\u001b[1;33m \u001b[1;32mfor\u001b[0m \u001b[0mse\u001b[0m \u001b[1;32min\u001b[0m \u001b[0msearchpy\u001b[0m\u001b[1;33m:\u001b[0m\u001b[1;33m\u001b[0m\u001b[0m\n\u001b[0m\u001b[0;32m      2\u001b[0m     \u001b[1;32mprint\u001b[0m \u001b[0mse\u001b[0m\u001b[1;33m.\u001b[0m\u001b[0murl\u001b[0m\u001b[1;33m\u001b[0m\u001b[0m\n",
        "\u001b[1;31mNameError\u001b[0m: name 'searchpy' is not defined"
       ]
      }
     ],
     "prompt_number": 150
    },
    {
     "cell_type": "code",
     "collapsed": false,
     "input": [
      "for repo in g.get_user('wcmckee').get_repos():\n",
      "    gitlist.append(repo.name)"
     ],
     "language": "python",
     "metadata": {},
     "outputs": [],
     "prompt_number": 36
    },
    {
     "cell_type": "code",
     "collapsed": false,
     "input": [
      "os.mkdir('/home/will/github')"
     ],
     "language": "python",
     "metadata": {},
     "outputs": [
      {
       "ename": "OSError",
       "evalue": "[Errno 17] File exists: '/home/will/github'",
       "output_type": "pyerr",
       "traceback": [
        "\u001b[1;31m---------------------------------------------------------------------------\u001b[0m\n\u001b[1;31mOSError\u001b[0m                                   Traceback (most recent call last)",
        "\u001b[1;32m<ipython-input-152-0ef0078378ae>\u001b[0m in \u001b[0;36m<module>\u001b[1;34m()\u001b[0m\n\u001b[1;32m----> 1\u001b[1;33m \u001b[0mos\u001b[0m\u001b[1;33m.\u001b[0m\u001b[0mmkdir\u001b[0m\u001b[1;33m(\u001b[0m\u001b[1;34m'/home/will/github'\u001b[0m\u001b[1;33m)\u001b[0m\u001b[1;33m\u001b[0m\u001b[0m\n\u001b[0m",
        "\u001b[1;31mOSError\u001b[0m: [Errno 17] File exists: '/home/will/github'"
       ]
      }
     ],
     "prompt_number": 152
    },
    {
     "cell_type": "code",
     "collapsed": false,
     "input": [
      "os.chdir('/home/' + 'wcmckee')"
     ],
     "language": "python",
     "metadata": {},
     "outputs": [],
     "prompt_number": 41
    },
    {
     "cell_type": "code",
     "collapsed": false,
     "input": [
      "lisdir = os.listdir('/home/wcmckee')\n",
      "curlist = []\n",
      "for ls in lisdir:\n",
      "    #print ls\n",
      "    curlist.append(ls)"
     ],
     "language": "python",
     "metadata": {},
     "outputs": [],
     "prompt_number": 43
    },
    {
     "cell_type": "code",
     "collapsed": false,
     "input": [
      "dlrepo = list(set(gitlist) - set(curlist))"
     ],
     "language": "python",
     "metadata": {},
     "outputs": [],
     "prompt_number": 44
    },
    {
     "cell_type": "code",
     "collapsed": false,
     "input": [
      "print dlrepo"
     ],
     "language": "python",
     "metadata": {},
     "outputs": [
      {
       "output_type": "stream",
       "stream": "stdout",
       "text": [
        "[u'UnityLuaIntegration', u'molyjam2013', u'prodo-game', u'reddit_bot', u'DeltaBot', u'intercity', u'pyunderdog', u'skins', u'haskell-learn', u'DailyProgBot', u'ouya-unity-plugin', u'RasPiWrite', u'HTML5-Tiny', u'raspi', u'pymel', u'ggj14', u'python-patterns', u'hackage-server', u'clint', u'bacongamejam05', u'bbc2wp', u'pybackupz', u'wcmckee.com', u'selfspy', u'4chan-API', u'vIPer', u'BroBeurFishingDream', u'RedditPress', u'art-lastfm', u'tweepy', u'html5lib-python', u'python-guide', u'redtube', u'pytm', u'TPB', u'bgj05-hungry', u'opencompetencies', u'broLove', u'BirdCage', u'python-pandora', u'LD48-Skins', u'autopaintpy123', u'anim_framework', u'iamagamer', u'imgur-python', u'pithos', u'brobeur-static', u'Triger', u'ipython', u'wirepil', u'pyroster', u'Minecraft', u'RPIO', u'marshmallow', u'openfaux-server', u'SoundWall', u'AsylumJamCrushGame', u'miniprojects', u'paintingautopy', u'xboxdrv', u'battlenet', u'massive-wright', u'SuburbNightmare', u'SortPictures', u'Projects', u'ihaskell-notebook', u'flask', u'BeOk', u'pywp-post', u'intro_programming', u'wcmStringPY']\n"
       ]
      }
     ],
     "prompt_number": 45
    },
    {
     "cell_type": "code",
     "collapsed": false,
     "input": [],
     "language": "python",
     "metadata": {},
     "outputs": [],
     "prompt_number": 45
    },
    {
     "cell_type": "code",
     "collapsed": false,
     "input": [
      "'''\n",
      "for gi in gitlist:\n",
      "    #print gi\n",
      "    #git.Git().clone(\"https://github.com/\" + theuser + \"/\" + dlrepo)\n",
      "    print (\"Downloading: \" + theuser + \"/\" + dlrepo)\n",
      "\n",
      "\n",
      "\n",
      "'''"
     ],
     "language": "python",
     "metadata": {},
     "outputs": [
      {
       "metadata": {},
       "output_type": "pyout",
       "prompt_number": 46,
       "text": [
        "'\\nfor gi in gitlist:\\n    #print gi\\n    #git.Git().clone(\"https://github.com/\" + theuser + \"/\" + dlrepo)\\n    print (\"Downloading: \" + theuser + \"/\" + dlrepo)\\n\\n\\n\\n'"
       ]
      }
     ],
     "prompt_number": 46
    },
    {
     "cell_type": "code",
     "collapsed": false,
     "input": [
      "from clint.textui import colored"
     ],
     "language": "python",
     "metadata": {},
     "outputs": [],
     "prompt_number": 47
    },
    {
     "cell_type": "code",
     "collapsed": false,
     "input": [
      "for gitbl in dlrepo:\n",
      "        #print ('Downloading - ' + theuser + \" - \"  + gitbl)\n",
      "        print (colored.red('Downloading - ' + 'wcmckee' + \" - \"  + gitbl))\n",
      "        #git.Git().clone(\"https://github.com/\" + 'wcmckee' + \"/\" + gitbl)\n"
     ],
     "language": "python",
     "metadata": {},
     "outputs": [
      {
       "output_type": "stream",
       "stream": "stdout",
       "text": [
        "Downloading - wcmckee - UnityLuaIntegration\n",
        "Downloading - wcmckee - molyjam2013\n",
        "Downloading - wcmckee - prodo-game\n",
        "Downloading - wcmckee - reddit_bot\n",
        "Downloading - wcmckee - DeltaBot\n",
        "Downloading - wcmckee - intercity\n",
        "Downloading - wcmckee - pyunderdog\n",
        "Downloading - wcmckee - skins\n",
        "Downloading - wcmckee - haskell-learn\n",
        "Downloading - wcmckee - DailyProgBot\n",
        "Downloading - wcmckee - ouya-unity-plugin\n",
        "Downloading - wcmckee - RasPiWrite\n",
        "Downloading - wcmckee - HTML5-Tiny\n",
        "Downloading - wcmckee - raspi\n",
        "Downloading - wcmckee - pymel\n",
        "Downloading - wcmckee - ggj14\n",
        "Downloading - wcmckee - python-patterns\n",
        "Downloading - wcmckee - hackage-server\n",
        "Downloading - wcmckee - clint\n",
        "Downloading - wcmckee - bacongamejam05\n",
        "Downloading - wcmckee - bbc2wp\n",
        "Downloading - wcmckee - pybackupz\n",
        "Downloading - wcmckee - wcmckee.com\n",
        "Downloading - wcmckee - selfspy\n",
        "Downloading - wcmckee - 4chan-API\n",
        "Downloading - wcmckee - vIPer\n",
        "Downloading - wcmckee - BroBeurFishingDream\n",
        "Downloading - wcmckee - RedditPress\n",
        "Downloading - wcmckee - art-lastfm\n",
        "Downloading - wcmckee - tweepy\n",
        "Downloading - wcmckee - html5lib-python\n",
        "Downloading - wcmckee - python-guide\n",
        "Downloading - wcmckee - redtube\n",
        "Downloading - wcmckee - pytm\n",
        "Downloading - wcmckee - TPB\n",
        "Downloading - wcmckee - bgj05-hungry\n",
        "Downloading - wcmckee - opencompetencies\n",
        "Downloading - wcmckee - broLove\n",
        "Downloading - wcmckee - BirdCage\n",
        "Downloading - wcmckee - python-pandora\n",
        "Downloading - wcmckee - LD48-Skins\n",
        "Downloading - wcmckee - autopaintpy123\n",
        "Downloading - wcmckee - anim_framework\n",
        "Downloading - wcmckee - iamagamer\n",
        "Downloading - wcmckee - imgur-python\n",
        "Downloading - wcmckee - pithos\n",
        "Downloading - wcmckee - brobeur-static\n",
        "Downloading - wcmckee - Triger\n",
        "Downloading - wcmckee - ipython\n",
        "Downloading - wcmckee - wirepil\n",
        "Downloading - wcmckee - pyroster\n",
        "Downloading - wcmckee - Minecraft\n",
        "Downloading - wcmckee - RPIO\n",
        "Downloading - wcmckee - marshmallow\n",
        "Downloading - wcmckee - openfaux-server\n",
        "Downloading - wcmckee - SoundWall\n",
        "Downloading - wcmckee - AsylumJamCrushGame\n",
        "Downloading - wcmckee - miniprojects\n",
        "Downloading - wcmckee - paintingautopy\n",
        "Downloading - wcmckee - xboxdrv\n",
        "Downloading - wcmckee - battlenet\n",
        "Downloading - wcmckee - massive-wright\n",
        "Downloading - wcmckee - SuburbNightmare\n",
        "Downloading - wcmckee - SortPictures\n",
        "Downloading - wcmckee - Projects\n",
        "Downloading - wcmckee - ihaskell-notebook\n",
        "Downloading - wcmckee - flask\n",
        "Downloading - wcmckee - BeOk\n",
        "Downloading - wcmckee - pywp-post\n",
        "Downloading - wcmckee - intro_programming\n",
        "Downloading - wcmckee - wcmStringPY\n"
       ]
      }
     ],
     "prompt_number": 51
    },
    {
     "cell_type": "code",
     "collapsed": false,
     "input": [
      "def printme( str ):\n",
      "   \"This prints a passed string into this function\"\n",
      "   print str;\n",
      "   return;\n",
      "\n",
      "# Now you can call printme function\n",
      "printme(\"I'm first call to user defined function!\");\n",
      "printme(\"Again second call to the same function\");"
     ],
     "language": "python",
     "metadata": {},
     "outputs": [
      {
       "output_type": "stream",
       "stream": "stdout",
       "text": [
        "I'm first call to user defined function!\n",
        "Again second call to the same function\n"
       ]
      }
     ],
     "prompt_number": 315
    },
    {
     "cell_type": "code",
     "collapsed": false,
     "input": [
      "import requests\n",
      "import json"
     ],
     "language": "python",
     "metadata": {},
     "outputs": [],
     "prompt_number": 53
    },
    {
     "cell_type": "code",
     "collapsed": false,
     "input": [
      "jamft = requests.get('https://raw.githubusercontent.com/leafo/compohub/master/jams/2014.json')"
     ],
     "language": "python",
     "metadata": {},
     "outputs": [],
     "prompt_number": 54
    },
    {
     "cell_type": "code",
     "collapsed": false,
     "input": [
      "jamft.text"
     ],
     "language": "python",
     "metadata": {},
     "outputs": [
      {
       "metadata": {},
       "output_type": "pyout",
       "prompt_number": 55,
       "text": [
        "u'{\\n    \"jams\": [\\n        {\\n            \"name\": \"Global Game Jam 2014\",\\n            \"start_date\": \"2014-01-24 05:00:00 +0000\",\\n            \"end_date\": \"2014-01-26 05:00:00 +0000\",\\n            \"description\": \"The Global Game Jam (GGJ) is the world\\'s largest game jam event taking place around the world at physical locations. Think of it as a hackathon focused on game development.\",\\n            \"local\": true,\\n            \"url\": \"http:\\\\/\\\\/globalgamejam.org\\\\/\",\\n            \"tags\": [\\n                \"global-game-jam\"\\n            ],\\n            \"image\": \"jams\\\\/images\\\\/21092272484ec673cc161ac7.89017946.png\"\\n        },\\n        {\\n            \"name\": \"Nordic Game Jam\",\\n            \"start_date\": \"2014-02-14 08:00:00 +0000\",\\n            \"end_date\": \"2014-02-16 03:00:00 +0000\",\\n            \"description\": \"Nordic Game Jam is the biggest video game industry event in Denmark and one of the largest game jams in the whole world.\",\\n            \"local\": false,\\n            \"url\": \"http:\\\\/\\\\/nordicgamejam.org\\\\/\",\\n            \"tags\": [\\n                \"nordic-game-jam\"\\n            ]\\n        },\\n        {\\n            \"name\": \"Mini Ludum Dare #48\",\\n            \"start_date\": \"2014-01-10\",\\n            \"end_date\": \"2014-01-12\",\\n            \"description\": \"Mini Ludum Dares are here to fill the boring months without ordinary Ludum Dares. The host changes every time and so do the rules. It all depends on the host but MiniLDs are often relaxed compared to LDs.\",\\n            \"local\": false,\\n            \"url\": \"http:\\\\/\\\\/www.ludumdare.com\\\\/compo\\\\/2013\\\\/12\\\\/29\\\\/minild-48\\\\/\",\\n            \"tags\": [\\n                \"minild\",\\n                \"ludum-dare\"\\n            ],\\n            \"image\": \"jams\\\\/images\\\\/2576340814e81fd09b7e248.82235325.png\"\\n        },\\n        {\\n            \"name\": \"One Game a Month\",\\n            \"start_date\": \"2014-02-01\",\\n            \"end_date\": \"2014-02-28\",\\n            \"description\": \"Gamification added to game development. Try to release a new game every month and earn experience points.\",\\n            \"local\": true,\\n            \"url\": \"http:\\\\/\\\\/www.onegameamonth.com\",\\n            \"tags\": [\\n                \"one-game-a-month\"\\n            ],\\n            \"image\": \"jams\\\\/images\\\\/screenshot_1362265626.98_0.15127399745.png\"\\n        },\\n        {\\n            \"name\": \"One Game a Month\",\\n            \"start_date\": \"2014-03-01\",\\n            \"end_date\": \"2014-03-31\",\\n            \"description\": \"Gamification added to game development. Try to release a new game every month and earn experience points.\",\\n            \"local\": true,\\n            \"url\": \"http:\\\\/\\\\/www.onegameamonth.com\",\\n            \"tags\": [\\n                \"one-game-a-month\"\\n            ],\\n            \"image\": \"jams\\\\/images\\\\/screenshot_1362265626.98_0.15127399745.png\"\\n        },\\n        {\\n            \"name\": \"One Game a Month\",\\n            \"start_date\": \"2014-04-01\",\\n            \"end_date\": \"2014-04-30\",\\n            \"description\": \"Gamification added to game development. Try to release a new game every month and earn experience points.\",\\n            \"local\": true,\\n            \"url\": \"http:\\\\/\\\\/www.onegameamonth.com\",\\n            \"tags\": [\\n                \"one-game-a-month\"\\n            ],\\n            \"image\": \"jams\\\\/images\\\\/screenshot_1362265626.98_0.15127399745.png\"\\n        },\\n        {\\n            \"name\": \"One Game a Month\",\\n            \"start_date\": \"2014-05-01\",\\n            \"end_date\": \"2014-05-31\",\\n            \"description\": \"Gamification added to game development. Try to release a new game every month and earn experience points.\",\\n            \"local\": true,\\n            \"url\": \"http:\\\\/\\\\/www.onegameamonth.com\",\\n            \"tags\": [\\n                \"one-game-a-month\"\\n            ],\\n            \"image\": \"jams\\\\/images\\\\/screenshot_1362265626.98_0.15127399745.png\"\\n        },\\n        {\\n            \"name\": \"LOWREZ Jam\",\\n            \"start_date\": \"2014-05-01 00:00 -0700\",\\n            \"end_date\": \"2014-05-31 00:00 -0700\",\\n            \"description\": \"Create a game with a maximum screen resolution of 32\\xd732 pixels.\",\\n            \"local\": true,\\n            \"url\": \"http://jams.gamejolt.io/lowrezjam2014/\",\\n            \"tags\": [\\n                \"lowrez-jam\"\\n            ]\\n        },\\n        {\\n            \"name\": \"One Game a Month\",\\n            \"start_date\": \"2014-06-01\",\\n            \"end_date\": \"2014-06-30\",\\n            \"description\": \"Gamification added to game development. Try to release a new game every month and earn experience points.\",\\n            \"local\": true,\\n            \"url\": \"http:\\\\/\\\\/www.onegameamonth.com\",\\n            \"tags\": [\\n                \"one-game-a-month\"\\n            ],\\n            \"image\": \"jams\\\\/images\\\\/screenshot_1362265626.98_0.15127399745.png\"\\n        },\\n        {\\n            \"name\": \"One Game a Month\",\\n            \"start_date\": \"2014-07-01\",\\n            \"end_date\": \"2014-07-31\",\\n            \"description\": \"Gamification added to game development. Try to release a new game every month and earn experience points.\",\\n            \"local\": true,\\n            \"url\": \"http:\\\\/\\\\/www.onegameamonth.com\",\\n            \"tags\": [\\n                \"one-game-a-month\"\\n            ],\\n            \"image\": \"jams\\\\/images\\\\/screenshot_1362265626.98_0.15127399745.png\"\\n        },\\n        {\\n            \"name\": \"One Game a Month\",\\n            \"start_date\": \"2014-08-01\",\\n            \"end_date\": \"2014-08-31\",\\n            \"description\": \"Gamification added to game development. Try to release a new game every month and earn experience points.\",\\n            \"local\": true,\\n            \"url\": \"http:\\\\/\\\\/www.onegameamonth.com\",\\n            \"tags\": [\\n                \"one-game-a-month\"\\n            ],\\n            \"image\": \"jams\\\\/images\\\\/screenshot_1362265626.98_0.15127399745.png\"\\n        },\\n        {\\n            \"name\": \"One Game a Month\",\\n            \"start_date\": \"2014-09-01\",\\n            \"end_date\": \"2014-09-30\",\\n            \"description\": \"Gamification added to game development. Try to release a new game every month and earn experience points.\",\\n            \"local\": true,\\n            \"url\": \"http:\\\\/\\\\/www.onegameamonth.com\",\\n            \"tags\": [\\n                \"one-game-a-month\"\\n            ],\\n            \"image\": \"jams\\\\/images\\\\/screenshot_1362265626.98_0.15127399745.png\"\\n        },\\n        {\\n            \"name\": \"One Game a Month\",\\n            \"start_date\": \"2014-10-01\",\\n            \"end_date\": \"2014-10-31\",\\n            \"description\": \"Gamification added to game development. Try to release a new game every month and earn experience points.\",\\n            \"local\": true,\\n            \"url\": \"http:\\\\/\\\\/www.onegameamonth.com\",\\n            \"tags\": [\\n                \"one-game-a-month\"\\n            ],\\n            \"image\": \"jams\\\\/images\\\\/screenshot_1362265626.98_0.15127399745.png\"\\n        },\\n        {\\n            \"name\": \"One Game a Month\",\\n            \"start_date\": \"2014-11-01\",\\n            \"end_date\": \"2014-11-30\",\\n            \"description\": \"Gamification added to game development. Try to release a new game every month and earn experience points.\",\\n            \"local\": true,\\n            \"url\": \"http:\\\\/\\\\/www.onegameamonth.com\",\\n            \"tags\": [\\n                \"one-game-a-month\"\\n            ],\\n            \"image\": \"jams\\\\/images\\\\/screenshot_1362265626.98_0.15127399745.png\"\\n        },\\n        {\\n            \"name\": \"One Game a Month\",\\n            \"start_date\": \"2014-12-01\",\\n            \"end_date\": \"2014-12-31\",\\n            \"description\": \"Gamification added to game development. Try to release a new game every month and earn experience points.\",\\n            \"local\": true,\\n            \"url\": \"http:\\\\/\\\\/www.onegameamonth.com\",\\n            \"tags\": [\\n                \"one-game-a-month\"\\n            ],\\n            \"image\": \"jams\\\\/images\\\\/screenshot_1362265626.98_0.15127399745.png\"\\n        },\\n        {\\n            \"name\": \"GMC JAM #13\",\\n            \"start_date\": \"2014-01-25 12:00:00 +0000\",\\n            \"end_date\": \"2014-01-28 12:00:00 +0000\",\\n            \"description\": \"A 72-hour game jam for <a href=\\\\\"http:\\\\/\\\\/www.yoyogames.com\\\\/gamemaker\\\\\">Game Maker<\\\\/a> users. Includes prizes.\",\\n            \"local\": false,\\n            \"url\": \"http:\\\\/\\\\/gmc.yoyogames.com\\\\/index.php?showtopic=606847\",\\n            \"tags\": [\\n                \"gmc-jam\"\\n            ],\\n            \"image\": \"jams\\\\/images\\\\/278394084f91d85bd2d4e0.09374261.png\"\\n        },\\n        {\\n            \"name\": \"gm(48) #9\",\\n            \"start_date\": \"2014-01-18 12:00:00 +0000\",\\n            \"end_date\": \"2014-01-20 12:00:00 +0000\",\\n            \"description\": \"Born in the Reddit community, the gm(48) occurs once every season. There will be a two-week voting period for the theme, which will be revealed at the start of the competition.\",\\n            \"local\": false,\\n            \"url\": \"http:\\\\/\\\\/www.reddit.com\\\\/r\\\\/gamemaker\\\\/comments\\\\/1hamju\\\\/announcement_gm48_rules_and_theme_suggestion\\\\/\",\\n            \"tags\": [\\n                \"gm-48\"\\n            ]\\n        },\\n        {\\n            \"name\": \"Candy Jam\",\\n            \"start_date\": \"2014-01-21\",\\n            \"end_date\": \"2014-02-03\",\\n            \"description\": \"A game jam in reaction of a company trademarking a very common noun.\",\\n            \"local\": false,\\n            \"url\": \"http:\\\\/\\\\/candycandycandycandyjam.tumblr.com\\\\/\",\\n            \"tags\": [\\n                \"candy-jam\"\\n            ]\\n        },\\n        {\\n            \"name\": \"7 Day Finish Yer Game Jam\",\\n            \"start_date\": \"2014-02-10 11:59:00 +0000\",\\n            \"end_date\": \"2014-02-17 11:59:00 +0000\",\\n            \"description\": \"Use this jam as a deadline for your current game. Start whenever, but finish within these 7 days!\",\\n            \"local\": false,\\n            \"url\": \"http:\\\\/\\\\/gallefray.github.io\\\\/FinishYourGame-Jam\\\\/\",\\n            \"tags\": [\\n                \"7-day-finish-yer-game-jam\"\\n            ]\\n        },\\n        {\\n            \"name\": \"RR Mini Comp: One Screen Cassette 50\",\\n            \"start_date\": \"2014-01-17\",\\n            \"end_date\": \"2014-02-17\",\\n            \"description\": \"Make a crappy one screen remake of another game.\",\\n            \"local\": false,\\n            \"url\": \"http:\\\\/\\\\/retroremakes.com\\\\/nostalgia\\\\/2014\\\\/01\\\\/17\\\\/rr-mini-comp-one-screen-cassette-50\\\\/\",\\n            \"tags\": [\\n                \"retro-remakes\"\\n            ]\\n        },\\n        {\\n            \"name\": \"GDSE Winter Game Jam\",\\n            \"start_date\": \"2014-01-31 05:00:00 +0000\",\\n            \"end_date\": \"2014-02-02 05:00:00 +0000\",\\n            \"description\": \"A jam hosted by Game Development Stack Exchange.\",\\n            \"local\": false,\\n            \"url\": \"http:\\\\/\\\\/meta.gamedev.stackexchange.com\\\\/questions\\\\/1449\\\\/the-2014-gdse-winter-game-jam\",\\n            \"tags\": [\\n                \"gdse-jam\"\\n            ]\\n        },\\n        {\\n            \"name\": \"Seven Day Roguelike Challenge\",\\n            \"start_date\": \"2014-03-08\",\\n            \"end_date\": \"2014-03-16\",\\n            \"description\": \"In Seven Day Roguelike Challenge you have a week to build a roguelike. Using pre-existing resources is allowed.\",\\n            \"local\": false,\\n            \"url\": \"http:\\\\/\\\\/7drl.org\",\\n            \"tags\": [\\n                \"seven-day-roguelike-challenge\"\\n            ],\\n            \"image\": \"jams\\\\/images\\\\/screenshot_1359836493.39_0.601642125852.png\"\\n        },\\n        {\\n            \"name\": \"The Arbitrary Gamejam\",\\n            \"start_date\": \"2014-02-07 02:00:00 +0000\",\\n            \"end_date\": \"2014-02-09 02:00:00 +0000\",\\n            \"description\": \"What is TAG - The Arbitrary Gamejam?\\\\r\\\\nI created TAG to try and add something exciting and good natured to the community. \\\\r\\\\nThe Arbitrary Gamejam is a weekend game jam with 3 themes designed to promote small and unknown indie developers.\\\\r\\\\nAt the end of each TAG, the submissions are rated by the host.\\\\r\\\\nThe person who submitted the best game will be \\\\\"tagged\\\\\" and is responsible for hosting the next TAG.\\\\r\\\\nThe idea is, as the Gamejam grows more popular, passing the Gamejam around will help small unknown indie developers pull traffic to their websites.\\\\r\\\\nBy using a random word generator to generate 2\\\\/3 themes, TAG is intentionally arbitrary to encourage outside-the-box thinking and wild combinations.\\\\r\\\\n\\\\r\\\\n\\\\r\\\\nWhen is TAG?\\\\r\\\\nTAG usually occurs on the first weekend of every month, Friday to Sunday.\\\\r\\\\nThe themes for each TAG will be posted on the Thursday before it starts, to give people some time to think about how the themes can fit together.\\\\r\\\\nThe Jam Begins at Midnight on Thursday and Ends at Midnight on Sunday.\\\\r\\\\n\\\\r\\\\n[Go to the Current Hosts site for a Countdown to the next TAG]\\\\r\\\\n\\\\r\\\\n\\\\r\\\\nHow Do I Host?\\\\r\\\\nFirst and foremost, you cannot host TAG twice in a row or more than two times in a single year (Unless yours is the only submission). If you end up hosting TAG, you can handle it in any way you want under two conditions.\\\\r\\\\nYou must keep the 4 core rules outlined below by linking to this page. This maintains the legitimacy of the jam by identifying you officially as current host and prevents non-tagged people from hosting.\\\\r\\\\nThere must be 2 randomly generated themes, the last theme is chosen by you.\\\\r\\\\nOther than that you are free to decide how people join and how submissions are rated\\\\/handled, and any further rules\\\\/restrictions you want to place on participants.\\\\r\\\\n\\\\r\\\\n\\\\r\\\\nThe 4 Core Rules\\\\r\\\\nSubmissions must come in within 12 hours of the Gamejam ending.\\\\r\\\\nSubmissions must be original works, no plagiarism.\\\\r\\\\nSubmissions can be based on any number of themes, but must incorporate at least 1 of the randomly generated themes.\\\\r\\\\nNo Pressure. Just have fun with it. Submissions will still be accepted even if they\\'re not complete.\\\\r\\\\n- - -\\\\r\\\\n\\\\r\\\\nTAG History\\\\r\\\\n\\\\r\\\\nA List of all previous TAGs, their hosts and their entries.\\\\r\\\\n\\\\r\\\\n#01 - August 2013 - Hosted by TickTakashi\\\\r\\\\n[Games]\\\\r\\\\n\\\\r\\\\n#02 - September 2013 - Hosted by Udell Games\\\\r\\\\n[Games]\\\\r\\\\n\\\\r\\\\n#03 - October 2013 - Hosted by Brendan LoBuglio\\\\r\\\\n[Not Yet Started]\\\\r\\\\n\\\\r\\\\n[TAG #03 Begins on October 11th]\",\\n            \"local\": false,\\n            \"url\": \"http:\\\\/\\\\/www.ticktakashi.com\\\\/p\\\\/tag-arbitrary-gamejam.html\",\\n            \"tags\": [\\n                \"the-arbitrary-gamejam\"\\n            ],\\n            \"image\": \"jams\\\\/images\\\\/screenshot_1380914266.52_0.935968657593.png\"\\n        },\\n        {\\n            \"name\": \"Flappy Jam\",\\n            \"start_date\": \"2014-02-09\",\\n            \"end_date\": \"2014-02-24\",\\n            \"description\": null,\\n            \"local\": true,\\n            \"url\": \"http:\\\\/\\\\/itch.io\\\\/jam\\\\/flappyjam\",\\n            \"tags\": [\\n                \"itch-io\"\\n            ],\\n            \"themes\": [\\n                \"make-a-game-like-flappy-bird\"\\n            ]\\n        },\\n        {\\n            \"name\": \"games++\",\\n            \"start_date\": \"2014-03-01 03:00:00 +0000\",\\n            \"end_date\": \"2014-03-02 01:00:00 +0000\",\\n            \"description\": \"Organized by Alex Myers + Jeff Thompson, games++ is a local game jam in\\\\r\\\\n\\\\r\\\\nStevens Institute of Technology\\\\r\\\\nVisual Art & Technology Program\\\\r\\\\nMorton Building, 2nd Floor\\\\r\\\\nHoboken, New Jersey \\\\r\\\\n\\\\r\\\\nand\\\\r\\\\n\\\\r\\\\nBellevue University\\\\r\\\\nGame Studies Program\\\\r\\\\nASB, Basement\\\\r\\\\nOmaha, Nebraska\\\\r\\\\n\",\\n            \"local\": false,\\n            \"url\": \"http:\\\\/\\\\/gamesplusplus.org\\\\/\",\\n            \"tags\": [\\n                \"games\"\\n            ]\\n        },\\n        {\\n            \"name\": \"MiniLD #49\",\\n            \"start_date\": \"2014-02-21\",\\n            \"end_date\": \"2014-02-24\",\\n            \"description\": \"Mini Ludum Dares are here to fill the boring months without ordinary Ludum Dares. The host changes every time and so do the rules. It all depends on the host but MiniLDs are often relaxed compared to LDs.\",\\n            \"local\": true,\\n            \"url\": \"http:\\\\/\\\\/www.ludumdare.com\\\\/compo\\\\/2014\\\\/02\\\\/15\\\\/minild-49\\\\/\",\\n            \"tags\": [\\n                \"minild\",\\n                \"ludum-dare\"\\n            ],\\n            \"themes\": [\\n                \"non-human-player\"\\n            ],\\n            \"image\": \"jams\\\\/images\\\\/2576340814e81fd09b7e248.82235325.png\"\\n        },\\n        {\\n            \"name\": \"Cyberpunk Game Jam 2014\",\\n            \"start_date\": \"2014-03-01 08:00:00 +0000\",\\n            \"end_date\": \"2014-03-11 08:00:00 +0000\",\\n            \"description\": null,\\n            \"local\": false,\\n            \"url\": \"http:\\\\/\\\\/www.punkcyb.org\\\\/\",\\n            \"tags\": [\\n                \"itch-io\"\\n            ],\\n            \"themes\": [\\n                \"must-be-cyberpunk-related\",\\n                \"will-be-80-s-based\"\\n            ]\\n        },\\n        {\\n            \"name\": \"Ludum Dare 29\",\\n            \"start_date\": \"2014-04-26 01:00:00 +0000\",\\n            \"end_date\": \"2014-04-29 01:00:00 +0000\",\\n            \"description\": \"Dual event with 48h competition and 72h jam. The competition has stricter rules than the jam and it\\'s only for solo developers but otherwise they are the same.\",\\n            \"local\": false,\\n            \"url\": \"http:\\\\/\\\\/www.ludumdare.com\\\\/compo\\\\/\",\\n            \"tags\": [\\n                \"ludum-dare\"\\n            ],\\n            \"image\": \"jams\\\\/images\\\\/2576340814e81fd09b7e248.82235325.png\"\\n        },\\n        {\\n            \"name\": \"Toronto Independent Game Jam\",\\n            \"start_date\": \"2014-04-25 10:00:00 -0400\",\\n            \"end_date\": \"2014-04-27 23:00:00 -0400\",\\n            \"description\": \"The Toronto Independent Game Jam (TOJam) is a free, annual, open-to-the-public event that attracts a mix of hobbyists, students, and professionals. For some, it\\'s an opportunity to try new ideas, for others it\\'s a chance to focus. For everyone, it\\'s a grand old time!\",\\n            \"local\": true,\\n            \"url\": \"http:\\\\/\\\\/www.tojam.ca\\\\/\",\\n            \"tags\": [\\n                \"tojam\",\\n                \"toronto\"\\n            ]\\n        },\\n        {\\n            \"name\": \"FGL Game Jam\",\\n            \"start_date\": \"2014-03-01 12:00:00 +0000\",\\n            \"end_date\": \"2014-03-03 12:00:00 +0000\",\\n            \"description\": \"A forum based 48h jam with prizes. Mobile and web games only.\",\\n            \"local\": false,\\n            \"url\": \"https:\\\\/\\\\/www.fgl.com\\\\/view_thread.php?thread_id=48101&offset=0#post333237\",\\n            \"tags\": [\\n                \"fgl-game-jam\"\\n            ]\\n        },\\n        {\\n            \"name\": \"BaconGameJam 07\",\\n            \"start_date\": \"2014-03-21 10:00:00 +0000\",\\n            \"end_date\": \"2014-03-23 10:00:00 +0000\",\\n            \"description\": \"Game jam for everyone. No strict restrictions.\",\\n            \"local\": false,\\n            \"url\": \"http:\\\\/\\\\/bacongamejam.org\\\\/jams\\\\/bacongamejam-07\\\\/\",\\n            \"tags\": [\\n                \"bacongamejam\"\\n            ],\\n            \"image\": \"jams\\\\/images\\\\/screenshot_1343586023.16_0.540877325193.png\"\\n        },\\n        {\\n            \"name\": \"NaNoRenO 2014\",\\n            \"start_date\": \"2014-02-28 11:00:00 +0000\",\\n            \"end_date\": \"2014-03-31 11:00:00 +0000\",\\n            \"description\": \"NaNoRenO is an event where creators make a game (mostly visual novels) from scratch during the month of March.\",\\n            \"local\": false,\\n            \"url\": \"http:\\\\/\\\\/lemmasoft.renai.us\\\\/forums\\\\/viewtopic.php?f=13&t=25262\",\\n            \"tags\": [\\n                \"nanoreno\"\\n            ]\\n        },\\n        {\\n            \"name\": \"The Arbitrary Game Jam 8\",\\n            \"start_date\": \"2014-03-08 12:00:00 +0000\",\\n            \"end_date\": \"2014-03-10 12:00:00 +0000\",\\n            \"description\": \"What is TAG - The Arbitrary Gamejam?\\\\r\\\\nI created TAG to try and add something exciting and good natured to the community. \\\\r\\\\nThe Arbitrary Gamejam is a weekend game jam with 3 themes designed to promote small and unknown indie developers.\\\\r\\\\nAt the end of each TAG, the submissions are rated by the host.\\\\r\\\\nThe person who submitted the best game will be \\\\\"tagged\\\\\" and is responsible for hosting the next TAG.\\\\r\\\\nThe idea is, as the Gamejam grows more popular, passing the Gamejam around will help small unknown indie developers pull traffic to their websites.\\\\r\\\\nBy using a random word generator to generate 2\\\\/3 themes, TAG is intentionally arbitrary to encourage outside-the-box thinking and wild combinations.\\\\r\\\\n\\\\r\\\\n\\\\r\\\\nWhen is TAG?\\\\r\\\\nTAG usually occurs on the first weekend of every month, Friday to Sunday.\\\\r\\\\nThe themes for each TAG will be posted on the Thursday before it starts, to give people some time to think about how the themes can fit together.\\\\r\\\\nThe Jam Begins at Midnight on Thursday and Ends at Midnight on Sunday.\\\\r\\\\n\\\\r\\\\n[Go to the Current Hosts site for a Countdown to the next TAG]\\\\r\\\\n\\\\r\\\\n\\\\r\\\\nHow Do I Host?\\\\r\\\\nFirst and foremost, you cannot host TAG twice in a row or more than two times in a single year (Unless yours is the only submission). If you end up hosting TAG, you can handle it in any way you want under two conditions.\\\\r\\\\nYou must keep the 4 core rules outlined below by linking to this page. This maintains the legitimacy of the jam by identifying you officially as current host and prevents non-tagged people from hosting.\\\\r\\\\nThere must be 2 randomly generated themes, the last theme is chosen by you.\\\\r\\\\nOther than that you are free to decide how people join and how submissions are rated\\\\/handled, and any further rules\\\\/restrictions you want to place on participants.\\\\r\\\\n\\\\r\\\\n\\\\r\\\\nThe 4 Core Rules\\\\r\\\\nSubmissions must come in within 12 hours of the Gamejam ending.\\\\r\\\\nSubmissions must be original works, no plagiarism.\\\\r\\\\nSubmissions can be based on any number of themes, but must incorporate at least 1 of the randomly generated themes.\\\\r\\\\nNo Pressure. Just have fun with it. Submissions will still be accepted even if they\\'re not complete.\\\\r\\\\n- - -\\\\r\\\\n\\\\r\\\\nTAG History\\\\r\\\\n\\\\r\\\\nA List of all previous TAGs, their hosts and their entries.\\\\r\\\\n\\\\r\\\\n#01 - August 2013 - Hosted by TickTakashi\\\\r\\\\n[Games]\\\\r\\\\n\\\\r\\\\n#02 - September 2013 - Hosted by Udell Games\\\\r\\\\n[Games]\\\\r\\\\n\\\\r\\\\n#03 - October 2013 - Hosted by Brendan LoBuglio\\\\r\\\\n[Not Yet Started]\\\\r\\\\n\\\\r\\\\n[TAG #03 Begins on October 11th]\",\\n            \"local\": false,\\n            \"url\": \"http:\\\\/\\\\/www.ticktakashi.com\\\\/p\\\\/tag-arbitrary-gamejam.html\",\\n            \"tags\": [\\n                \"the-arbitrary-gamejam\"\\n            ],\\n            \"image\": \"jams\\\\/images\\\\/screenshot_1380914266.52_0.935968657593.png\"\\n        },\\n        {\\n            \"name\": \"64Digits Spring Competition\",\\n            \"start_date\": \"2014-04-01 07:00:00 +0000\",\\n            \"end_date\": \"2014-04-30 06:59:00 +0000\",\\n            \"description\": \"64digits is a small, close-knit community focused on game development and artistic endeavours. A few times a year, they host competitions to hone their skills, express ideas, and just to have fun! The contest is held entirely online and everyone is encouraged to participate.\",\\n            \"local\": false,\\n            \"url\": \"http:\\\\/\\\\/competition.64digits.com\\\\/\",\\n            \"tags\": [\\n                \"64digits\"\\n            ],\\n            \"image\": \"jams\\\\/images\\\\/14398886984e81fd1418e4f9.82238073.png\"\\n        },\\n        {\\n            \"name\": \"Procedural Death Jam\",\\n            \"start_date\": \"2014-03-08 12:00:00 +0000\",\\n            \"end_date\": \"2014-03-15 11:59:00 +0000\",\\n            \"description\": \"Procedural Death Jam is a 7-day game jam. The theme is \\\\\"Procedural Death Labyrinth,\\\\\" a new way of describing games like FTL, Spelunky, Coin Crypt, The Binding of Isaac, etc, that\\'s less awkward than \\\\\"Rogue-Like-LIKE\\\\\" or \\\\\"Rogue-LITE.\\\\\"\",\\n            \"local\": false,\\n            \"url\": \"http:\\\\/\\\\/proceduraldeathjam.com\\\\/\",\\n            \"tags\": [\\n                \"procedural-death-jam\"\\n            ]\\n        },\\n        {\\n            \"name\": \"MiniLD #50\",\\n            \"start_date\": \"2014-03-22\",\\n            \"end_date\": \"2014-03-24\",\\n            \"description\": \"Mini Ludum Dares are here to fill the boring months without ordinary Ludum Dares. The host changes every time and so do the rules. It all depends on the host but MiniLDs are often relaxed compared to LDs.\",\\n            \"local\": false,\\n            \"url\": \"http:\\\\/\\\\/bit.ly\\\\/MiniLD50\",\\n            \"tags\": [\\n                \"minild\",\\n                \"ludum-dare\"\\n            ],\\n            \"themes\": [\\n                \"demakes\"\\n            ],\\n            \"image\": \"jams\\\\/images\\\\/2576340814e81fd09b7e248.82235325.png\"\\n        },\\n        {\\n            \"name\": \"Pi Jam 2014\",\\n            \"start_date\": \"2014-03-14\",\\n            \"end_date\": \"2014-03-16\",\\n            \"description\": \"Pi Jam is a 48-hour game jam themed around \\\\u00cf\\\\u20ac, that beautiful mathematical constant. VFS Hat Jam and Microsoft have joined for hosting this jam.\",\\n            \"local\": false,\\n            \"url\": \"http:\\\\/\\\\/pi-jam.com\\\\/\",\\n            \"tags\": [\\n                \"pi-jam\"\\n            ]\\n        },\\n        {\\n            \"name\": \"Insanity Jam 2014\",\\n            \"start_date\": \"2014-04-01 12:00:00 +0000\",\\n            \"end_date\": \"2014-04-04 11:59:00 +0000\",\\n            \"description\": \"The Insanity Jam is a relaxed, experimental, game jam that utilizes orteil42\\'s random game idea generator. This Jam aims to be inclusive, welcoming game creators anywhere in the world of all skill levels, from newbies to professionals.\\\\r\\\\n\\\\r\\\\nThe Jam is split into 2 parts: the Main Jam, and the Post Jam, during which developers may clean up their project or make late submissions. \",\\n            \"local\": true,\\n            \"url\": \"http:\\\\/\\\\/jam.alamantus.com\\\\/insanity2014\\\\/viewtopic.php?id=12\",\\n            \"tags\": [\\n                \"insanity-jam\"\\n            ]\\n        },\\n        {\\n            \"name\": \"PyWeek May 2014\",\\n            \"start_date\": \"2014-05-11 12:00:00 +0000\",\\n            \"end_date\": \"2014-05-18 12:00:00 +0000\",\\n            \"description\": \"A week-long Python game programming challenge that is arranged roughly three times a year. The theme and the winners are chosen by fellow game makers.\",\\n            \"local\": false,\\n            \"url\": \"http:\\\\/\\\\/pyweek.org\\\\/18\\\\/\",\\n            \"tags\": [\\n                \"pyweek\"\\n            ],\\n            \"image\": \"jams\\\\/images\\\\/2849173764e81fcee271a33.24238708.png\"\\n        },\\n        {\\n            \"name\": \"#1Up Norwich Game Jam\",\\n            \"start_date\": \"2014-04-07 12:00:00 +0000\",\\n            \"end_date\": \"2014-04-11 12:00:00 +0000\",\\n            \"description\": \"Make a game within 4 days and win prizes with a total value of over \\xa333,000, in a number of categories. The winning games also have the chance to be exhibited in The Forum at a special event later in the year.\",\\n            \"local\": false,\\n            \"url\": \"http:\\\\/\\\\/norwichgamingfestival.wordpress.com\\\\/create\\\\/game-jam\\\\/\",\\n            \"tags\": [\\n                \"1up-norwich-game-jam\"\\n            ]\\n        },\\n        {\\n            \"name\": \"2014 Spring GDSE GameJam\",\\n            \"start_date\": \"2014-04-05 12:00:00 +0000\",\\n            \"end_date\": \"2014-04-07 11:59:00 +0000\",\\n            \"description\": \"A jam hosted by Game Development Stack Exchange.\",\\n            \"local\": false,\\n            \"url\": \"http:\\\\/\\\\/meta.gamedev.stackexchange.com\\\\/questions\\\\/1565\\\\/the-2014-spring-gdse-gamejam\",\\n            \"tags\": [\\n                \"gdse-jam\"\\n            ]\\n        },\\n        {\\n            \"name\": \"Level up 2014\",\\n            \"start_date\": \"2014-03-17 06:01:00 +0000\",\\n            \"end_date\": \"2014-06-03 07:59:00 +0000\",\\n            \"description\": null,\\n            \"local\": false,\\n            \"url\": \"http:\\\\/\\\\/software.intel.com\\\\/sites\\\\/campaigns\\\\/levelup2014\\\\/\",\\n            \"tags\": [\\n                \"level-up\"\\n            ],\\n            \"image\": \"jams\\\\/images\\\\/553949174f2bd02caa84e1.40172513.png\"\\n        },\\n        {\\n            \"name\": \"The Arbitrary Gamejam 9\",\\n            \"start_date\": \"2014-04-04 07:00:00 +0000\",\\n            \"end_date\": \"2014-04-06 06:59:00 +0000\",\\n            \"description\": \"What is TAG - The Arbitrary Gamejam?\\\\r\\\\nI created TAG to try and add something exciting and good natured to the community. \\\\r\\\\nThe Arbitrary Gamejam is a weekend game jam with 3 themes designed to promote small and unknown indie developers.\\\\r\\\\nAt the end of each TAG, the submissions are rated by the host.\\\\r\\\\nThe person who submitted the best game will be \\\\\"tagged\\\\\" and is responsible for hosting the next TAG.\\\\r\\\\nThe idea is, as the Gamejam grows more popular, passing the Gamejam around will help small unknown indie developers pull traffic to their websites.\\\\r\\\\nBy using a random word generator to generate 2\\\\/3 themes, TAG is intentionally arbitrary to encourage outside-the-box thinking and wild combinations.\\\\r\\\\n\\\\r\\\\n\\\\r\\\\nWhen is TAG?\\\\r\\\\nTAG usually occurs on the first weekend of every month, Friday to Sunday.\\\\r\\\\nThe themes for each TAG will be posted on the Thursday before it starts, to give people some time to think about how the themes can fit together.\\\\r\\\\nThe Jam Begins at Midnight on Thursday and Ends at Midnight on Sunday.\\\\r\\\\n\\\\r\\\\n[Go to the Current Hosts site for a Countdown to the next TAG]\\\\r\\\\n\\\\r\\\\n\\\\r\\\\nHow Do I Host?\\\\r\\\\nFirst and foremost, you cannot host TAG twice in a row or more than two times in a single year (Unless yours is the only submission). If you end up hosting TAG, you can handle it in any way you want under two conditions.\\\\r\\\\nYou must keep the 4 core rules outlined below by linking to this page. This maintains the legitimacy of the jam by identifying you officially as current host and prevents non-tagged people from hosting.\\\\r\\\\nThere must be 2 randomly generated themes, the last theme is chosen by you.\\\\r\\\\nOther than that you are free to decide how people join and how submissions are rated\\\\/handled, and any further rules\\\\/restrictions you want to place on participants.\\\\r\\\\n\\\\r\\\\n\\\\r\\\\nThe 4 Core Rules\\\\r\\\\nSubmissions must come in within 12 hours of the Gamejam ending.\\\\r\\\\nSubmissions must be original works, no plagiarism.\\\\r\\\\nSubmissions can be based on any number of themes, but must incorporate at least 1 of the randomly generated themes.\\\\r\\\\nNo Pressure. Just have fun with it. Submissions will still be accepted even if they\\'re not complete.\\\\r\\\\n- - -\\\\r\\\\n\\\\r\\\\nTAG History\\\\r\\\\n\\\\r\\\\nA List of all previous TAGs, their hosts and their entries.\\\\r\\\\n\\\\r\\\\n#01 - August 2013 - Hosted by TickTakashi\\\\r\\\\n[Games]\\\\r\\\\n\\\\r\\\\n#02 - September 2013 - Hosted by Udell Games\\\\r\\\\n[Games]\\\\r\\\\n\\\\r\\\\n#03 - October 2013 - Hosted by Brendan LoBuglio\\\\r\\\\n[Not Yet Started]\\\\r\\\\n\\\\r\\\\n[TAG #03 Begins on October 11th]\",\\n            \"local\": false,\\n            \"url\": \"http:\\\\/\\\\/www.dopplex.net\\\\/TAG9\\\\/\",\\n            \"tags\": [\\n                \"the-arbitrary-gamejam\"\\n            ],\\n            \"image\": \"jams\\\\/images\\\\/screenshot_1380914266.52_0.935968657593.png\"\\n        },\\n        {\\n            \"name\": \"Public Domain Jam\",\\n            \"start_date\": \"2014-05-17\",\\n            \"end_date\": \"2014-05-24\",\\n            \"description\": \"TIRED OF THE CONSTANT FLOOD OF CTHULU AND ZOMBIE GAMES? Part of the reason they\\'re everywhere is that they\\'re both well known and free to use, and a lot of people who make games aren\\'t aware of just how many good stories they\\'re carrying around with them. There are SO MANY other stories and characters out there that are also free to use. The list goes on forever, and these are all stories that are free to be remixed and remade by anyone. Whatever the reason, a lot of these stories aren\\'t out there in games yet. SO LET\\'S MAKE SOME!\",\\n            \"local\": false,\\n            \"url\": \"http:\\\\/\\\\/itch.io\\\\/jam\\\\/the-public-domain-jam\",\\n            \"tags\": [\\n                \"public-domain-jam\"\\n            ],\\n            \"themes\": [\\n                \"public-domain\"\\n            ]\\n        },\\n        {\\n            \"name\": \"Gender Jam\",\\n            \"start_date\": \"2014-04-01\",\\n            \"end_date\": \"2014-04-30\",\\n            \"description\": \"Since this jam is not being hosted in a central location there will be no voting and you will need to find a place to post your game. Consider this a more relaxed game jam.  More of a personal challenge for everyone than a competition.\",\\n            \"local\": false,\\n            \"url\": \"http:\\\\/\\\\/www.deviever.com\\\\/?p=76\",\\n            \"tags\": [\\n                \"gender-jam\"\\n            ],\\n            \"themes\": [\\n                \"gender\"\\n            ]\\n        },\\n        {\\n            \"name\": \"HTML5 Game Jam Paris\",\\n            \"start_date\": \"2014-05-09 10:00:00 +0000\",\\n            \"end_date\": \"2014-05-11 07:00:00 +0000\",\\n            \"description\": \"HTML5 Game Jam Paris is an international event open to professionals, students and other web enthusiasts.\\\\r\\\\nDuring this event, teams of graphic artists and developers will battle to make the best game from scratch using the latest open web technologies.\\\\r\\\\n\\\\r\\\\nThe event will last the whole weekend (9 10 11 may 2014), and tech talks are planned\",\\n            \"local\": false,\\n            \"url\": \"http:\\\\/\\\\/html5gamejam.org\\\\/\",\\n            \"tags\": [\\n                \"html5-game-jam\"\\n            ]\\n        },\\n        {\\n            \"name\": \"gm(48) #10\",\\n            \"start_date\": \"2014-04-18\",\\n            \"end_date\": \"2014-04-19\",\\n            \"description\": \"Born in the Reddit community, the gm(48) occurs once every season. There will be a two-week voting period for the theme, which will be revealed at the start of the competition.\",\\n            \"local\": false,\\n            \"url\": \"http:\\\\/\\\\/www.reddit.com\\\\/r\\\\/gamemaker\",\\n            \"tags\": [\\n                \"gm-48\"\\n            ]\\n        },\\n        {\\n            \"name\": \"Waifu Jam 2014\",\\n            \"start_date\": \"2014-05-01\",\\n            \"end_date\": \"2014-05-10\",\\n            \"description\": \"Create a game that can make the player fall in love\",\\n            \"local\": false,\\n            \"url\": \"http://waifujam.pomf.se\",\\n            \"tags\": [\"waifu-jam\"]\\n        },\\n        {\\n            \"name\": \"The Arbitrary Gamejam 10\",\\n            \"start_date\": \"2014-05-02 07:00:00 -0400\",\\n            \"end_date\": \"2014-05-12 07:00:00 -0400\",\\n            \"description\": \"The Arbitrary Gamejam 10 (#TAGJam10) is the tenth game jam in a series of monthly game jams for indie game devs. Each month is hosted by winner of previous month. The Arbitrary Gamejam 10 will run will for 10 days rather than the usual 48/72 hours. Optional Bonus Rule 1: Post about your progress/lessons-learned after each day. Optional Bonus Rule 2: record and post a video of a mother playing the game or giving feedback on it (Mother\\'s Day - May 11)\",\\n            \"local\": false,\\n            \"url\": \"http://tagjam10.idumpling.com\",\\n            \"tags\": [\"the-arbitrary-gamejam\"],\\n            \"image\": \"http://tagjam10.idumpling.com/img/card_rotated_gray_320x200.png\"\\n        },\\n        {\\n            \"name\": \"Hack3city\",\\n            \"url\": \"http://hack3city.pl/\",\\n            \"start_date\": \"2014-05-05\",\\n            \"end_date\": \"2014-05-11\",\\n            \"description\": \"Hackaton in Poland. During one of the biggest conference about IT and new media in Poland, there will be possibility to take part in interesting hackhaton. If you want to participate, you have to choose one of the three ways of competition. Every one of this ways are hosted by other companies, such as Intel, Playsoft and Estimote. Spend a nice weekend in Gda\\u0144sk and learn something new.\"\\n        },\\n        {\\n            \"name\": \"Game Changer Game Jam\",\\n            \"url\": \"http://www.gcgj.org/\",\\n            \"start_date\": \"2014-05-02 11:40:00 -0700\",\\n            \"end_date\": \"2014-05-04 05:00:00 -0700\",\\n            \"description\": \"(Aarhus Denmark) We believe that Game Designers, Gamers and Games together hold an important role in society. That Game designers will be the future engagement hackers, change agents and architects of massive collaborative systems. That Games dealing with political, social and environmental challenges can be an platform for massive change, inspiring Gamers to connect and engage with important issues more effectively.\"\\n        },\\n        {\\n            \"name\": \"Dublin GameCraft 5 - Celebrating 2 years of Jams\",\\n            \"url\": \"http://dublingamecraft.com/events/dublin-gamecraft-5-2-years-of-jams-dit/\",\\n            \"start_date\": \"2014-05-17 11:40:00 -0000\",\\n            \"end_date\": \"2014-05-18 12:00:00 -0000\",\\n            \"description\": \"(Dublin, Ireland).Just over two years ago, GameCraft sloshed it\\u2019s way free of the primordial game development ooze and smote the world, or at least parts of Dublin, with it\\u2019s mighty presence! In celebration of that gooey and historic event, we\\u2019re returning to the source (DIT) for a (slightly belated) two year anniversary GameCraft. On the 17th of May 2014, DIT will be hosting three special GameCraft events: 24hour jam, 8 hour unpluged jam and a Jam for Kids with the help of Coder Dojo\"\\n        },\\n        {\\n            \"name\": \"Galway GameCraft \",\\n            \"url\": \"http://dublingamecraft.com/events/galway-gamecraft-10th-may/\",\\n            \"start_date\": \"2014-05-10 08:30:00 -0000\",\\n            \"end_date\": \"2014-05-10 21:00:00 -0000\",\\n            \"description\": \"(Galway, Ireland).Gamecraft has been happening all over the world and now in association with Insight, we\\u2019re coming to your virescent spring-time neck of the woods to lather you in a bath of frantic game development!\"\\n        },\\n        {\\n            \"name\": \"London GameCraft \",\\n            \"url\": \"http://dublingamecraft.com/events/london-gamecraft-june-2014/\",\\n            \"start_date\": \"2014-06-07 08:30:00 -0000\",\\n            \"end_date\": \"2014-06-07 22:00:00 -0000\",\\n            \"description\": \"(London, UK).where folks come together to make games! Teams (or brave individuals,) get together and are given a theme early in the morning and from there have as little as 8 hours (sometimes 12 if we\\u2019re feeling generous). Games are built from scratch on any platform you like, at the end of the day the games are demoed by a panel of judges who award prizes for the best contenders. It\\u2019s a great chance to flex your creative muscles, tackle some quick and dirty coding problems, and to get out there and meet other game-makers face to face.\"\\n        },\\n        {\\n            \"name\": \"Accessibility Jam 2014\",\\n            \"url\": \"http://jams.gamejolt.io/accessibilityjam/\",\\n            \"start_date\": \"2014-05-12 03:00:00\",\\n            \"end_date\": \"2014-06-02 01:59:00\",\\n            \"description\": \"The goal of this jam is to raise awareness, giving developers knowledge and experience of how to make mainstream video games accessible to gamers with disabilities, to provide good examples of what\\'s possible, and move accessibility towards being widely accepted good practice in the game design process. Over 20% of gamers have some form of impairment that can affect gameplay. They\\'re a huge group with very real spending power who can find life changing benefits from gaming, but they are often unnecessarily and unknowingly locked out by developers.\",\\n            \"local\": false,\\n            \"tags\": [\"accessibilityjam\"],\\n            \"image\": \"http://i.imgur.com/MCDc1br.png\"\\n        },\\n        {\\n            \"name\": \"Fuck This Jam\",\\n            \"url\": \"http://fuckthisjam.com/\",\\n            \"start_date\": \"2014-05-31 00:00:00\",\\n            \"end_date\": \"2014-06-06 23:59:00\",\\n            \"description\": \"Create games in a genre you hate.\",\\n            \"local\": false\\n        }\\n    ]\\n}\\n'"
       ]
      }
     ],
     "prompt_number": 55
    },
    {
     "cell_type": "code",
     "collapsed": false,
     "input": [
      "compdict = json.loads(jamft.text)"
     ],
     "language": "python",
     "metadata": {},
     "outputs": [],
     "prompt_number": 56
    },
    {
     "cell_type": "code",
     "collapsed": false,
     "input": [
      "compjam = compdict[u'jams']"
     ],
     "language": "python",
     "metadata": {},
     "outputs": [],
     "prompt_number": 57
    },
    {
     "cell_type": "code",
     "collapsed": false,
     "input": [
      "lencomp = len(compjam)"
     ],
     "language": "python",
     "metadata": {},
     "outputs": [],
     "prompt_number": 58
    },
    {
     "cell_type": "code",
     "collapsed": false,
     "input": [
      "import random"
     ],
     "language": "python",
     "metadata": {},
     "outputs": [],
     "prompt_number": 667
    },
    {
     "cell_type": "code",
     "collapsed": false,
     "input": [
      "genlin = random.randint(0, lencomp)"
     ],
     "language": "python",
     "metadata": {},
     "outputs": [],
     "prompt_number": 668
    },
    {
     "cell_type": "code",
     "collapsed": false,
     "input": [
      "ggj = compjam[genlin]"
     ],
     "language": "python",
     "metadata": {},
     "outputs": [],
     "prompt_number": 669
    },
    {
     "cell_type": "code",
     "collapsed": false,
     "input": [
      "jamlis = []"
     ],
     "language": "python",
     "metadata": {},
     "outputs": [],
     "prompt_number": 689
    },
    {
     "cell_type": "code",
     "collapsed": false,
     "input": [
      "#for gj in ggj.keys():\n",
      "    #print gj\n",
      "    #print ggj[gj]\n",
      "\n",
      "for jec in range(lencomp):\n",
      "    print compjam[jec][u'name']\n",
      "    jamlis.append(compjam[jec][u'name'])"
     ],
     "language": "python",
     "metadata": {},
     "outputs": [
      {
       "output_type": "stream",
       "stream": "stdout",
       "text": [
        "Global Game Jam 2014\n",
        "Nordic Game Jam\n",
        "Mini Ludum Dare #48\n",
        "One Game a Month\n",
        "One Game a Month\n",
        "One Game a Month\n",
        "One Game a Month\n",
        "One Game a Month\n",
        "One Game a Month\n",
        "One Game a Month\n",
        "One Game a Month\n",
        "One Game a Month\n",
        "One Game a Month\n",
        "One Game a Month\n",
        "GMC JAM #13\n",
        "gm(48) #9\n",
        "Candy Jam\n",
        "7 Day Finish Yer Game Jam\n",
        "RR Mini Comp: One Screen Cassette 50\n",
        "GDSE Winter Game Jam\n",
        "Seven Day Roguelike Challenge\n",
        "The Arbitrary Gamejam\n",
        "Flappy Jam\n",
        "games++\n",
        "MiniLD #49\n",
        "Cyberpunk Game Jam 2014\n",
        "Ludum Dare 29\n",
        "Toronto Independent Game Jam\n",
        "FGL Game Jam\n",
        "BaconGameJam 07\n",
        "NaNoRenO 2014\n",
        "The Arbitrary Game Jam 8\n",
        "64Digits Spring Competition\n",
        "Procedural Death Jam\n",
        "MiniLD #50\n",
        "Pi Jam 2014\n",
        "Insanity Jam 2014\n",
        "PyWeek May 2014\n",
        "#1Up Norwich Game Jam\n",
        "2014 Spring GDSE GameJam\n",
        "Level up 2014\n",
        "The Arbitrary Gamejam 9\n",
        "Public Domain Jam\n",
        "Gender Jam\n",
        "HTML5 Game Jam Paris\n",
        "gm(48) #10\n",
        "The Arbitrary Gamejam 10\n",
        "Hack3city\n",
        "Game Changer Game Jam\n"
       ]
      }
     ],
     "prompt_number": 690
    },
    {
     "cell_type": "code",
     "collapsed": false,
     "input": [
      "len(jamlis)"
     ],
     "language": "python",
     "metadata": {},
     "outputs": [
      {
       "metadata": {},
       "output_type": "pyout",
       "prompt_number": 692,
       "text": [
        "49"
       ]
      }
     ],
     "prompt_number": 692
    },
    {
     "cell_type": "code",
     "collapsed": false,
     "input": [
      "fujamft = list(set(jamlis))"
     ],
     "language": "python",
     "metadata": {},
     "outputs": [],
     "prompt_number": 695
    },
    {
     "cell_type": "code",
     "collapsed": false,
     "input": [
      "lencv = len(fujamft)"
     ],
     "language": "python",
     "metadata": {},
     "outputs": [],
     "prompt_number": 700
    },
    {
     "cell_type": "code",
     "collapsed": false,
     "input": [
      "chran = random.randint(0, lencv)"
     ],
     "language": "python",
     "metadata": {},
     "outputs": [],
     "prompt_number": 704
    },
    {
     "cell_type": "code",
     "collapsed": false,
     "input": [
      "lencv"
     ],
     "language": "python",
     "metadata": {},
     "outputs": [
      {
       "metadata": {},
       "output_type": "pyout",
       "prompt_number": 705,
       "text": [
        "39"
       ]
      }
     ],
     "prompt_number": 705
    },
    {
     "cell_type": "code",
     "collapsed": false,
     "input": [
      "import re\n",
      "\n",
      "a = 'a b .c???d;;'\n",
      "chars = [' ']\n",
      "\n",
      "print re.sub('[%s]' % ''.join(chars), '-', a)"
     ],
     "language": "python",
     "metadata": {},
     "outputs": [
      {
       "output_type": "stream",
       "stream": "stdout",
       "text": [
        "a-b-.c???d;;\n"
       ]
      }
     ],
     "prompt_number": 706
    },
    {
     "cell_type": "code",
     "collapsed": false,
     "input": [
      "for fuj in fujamft:\n",
      "    a = 'a b .c???d;;'\n",
      "    chars = [' ']\n",
      "\n",
      "    print re.sub('[%s]' % ''.join(chars), '-', a)\n",
      "    "
     ],
     "language": "python",
     "metadata": {},
     "outputs": [
      {
       "output_type": "stream",
       "stream": "stdout",
       "text": [
        "a-b-.c???d;;\n",
        "a-b-.c???d;;\n",
        "a-b-.c???d;;\n",
        "a-b-.c???d;;\n",
        "a-b-.c???d;;\n",
        "a-b-.c???d;;\n",
        "a-b-.c???d;;\n",
        "a-b-.c???d;;\n",
        "a-b-.c???d;;\n",
        "a-b-.c???d;;\n",
        "a-b-.c???d;;\n",
        "a-b-.c???d;;\n",
        "a-b-.c???d;;\n",
        "a-b-.c???d;;\n",
        "a-b-.c???d;;\n",
        "a-b-.c???d;;\n",
        "a-b-.c???d;;\n",
        "a-b-.c???d;;\n",
        "a-b-.c???d;;\n",
        "a-b-.c???d;;\n",
        "a-b-.c???d;;\n",
        "a-b-.c???d;;\n",
        "a-b-.c???d;;\n",
        "a-b-.c???d;;\n",
        "a-b-.c???d;;\n",
        "a-b-.c???d;;\n",
        "a-b-.c???d;;\n",
        "a-b-.c???d;;\n",
        "a-b-.c???d;;\n",
        "a-b-.c???d;;\n",
        "a-b-.c???d;;\n",
        "a-b-.c???d;;\n",
        "a-b-.c???d;;\n",
        "a-b-.c???d;;\n",
        "a-b-.c???d;;\n",
        "a-b-.c???d;;\n",
        "a-b-.c???d;;\n",
        "a-b-.c???d;;\n",
        "a-b-.c???d;;\n"
       ]
      }
     ],
     "prompt_number": 707
    },
    {
     "cell_type": "code",
     "collapsed": false,
     "input": [
      "fujamft[chran]"
     ],
     "language": "python",
     "metadata": {},
     "outputs": [
      {
       "metadata": {},
       "output_type": "pyout",
       "prompt_number": 708,
       "text": [
        "u'Seven Day Roguelike Challenge'"
       ]
      }
     ],
     "prompt_number": 708
    },
    {
     "cell_type": "code",
     "collapsed": false,
     "input": [
      "jamlis"
     ],
     "language": "python",
     "metadata": {},
     "outputs": [
      {
       "metadata": {},
       "output_type": "pyout",
       "prompt_number": 709,
       "text": [
        "[u'Global Game Jam 2014',\n",
        " u'Nordic Game Jam',\n",
        " u'Mini Ludum Dare #48',\n",
        " u'One Game a Month',\n",
        " u'One Game a Month',\n",
        " u'One Game a Month',\n",
        " u'One Game a Month',\n",
        " u'One Game a Month',\n",
        " u'One Game a Month',\n",
        " u'One Game a Month',\n",
        " u'One Game a Month',\n",
        " u'One Game a Month',\n",
        " u'One Game a Month',\n",
        " u'One Game a Month',\n",
        " u'GMC JAM #13',\n",
        " u'gm(48) #9',\n",
        " u'Candy Jam',\n",
        " u'7 Day Finish Yer Game Jam',\n",
        " u'RR Mini Comp: One Screen Cassette 50',\n",
        " u'GDSE Winter Game Jam',\n",
        " u'Seven Day Roguelike Challenge',\n",
        " u'The Arbitrary Gamejam',\n",
        " u'Flappy Jam',\n",
        " u'games++',\n",
        " u'MiniLD #49',\n",
        " u'Cyberpunk Game Jam 2014',\n",
        " u'Ludum Dare 29',\n",
        " u'Toronto Independent Game Jam',\n",
        " u'FGL Game Jam',\n",
        " u'BaconGameJam 07',\n",
        " u'NaNoRenO 2014',\n",
        " u'The Arbitrary Game Jam 8',\n",
        " u'64Digits Spring Competition',\n",
        " u'Procedural Death Jam',\n",
        " u'MiniLD #50',\n",
        " u'Pi Jam 2014',\n",
        " u'Insanity Jam 2014',\n",
        " u'PyWeek May 2014',\n",
        " u'#1Up Norwich Game Jam',\n",
        " u'2014 Spring GDSE GameJam',\n",
        " u'Level up 2014',\n",
        " u'The Arbitrary Gamejam 9',\n",
        " u'Public Domain Jam',\n",
        " u'Gender Jam',\n",
        " u'HTML5 Game Jam Paris',\n",
        " u'gm(48) #10',\n",
        " u'The Arbitrary Gamejam 10',\n",
        " u'Hack3city',\n",
        " u'Game Changer Game Jam']"
       ]
      }
     ],
     "prompt_number": 709
    },
    {
     "cell_type": "code",
     "collapsed": false,
     "input": [
      "for mehc in ggj.keys():\n",
      "    print mehc"
     ],
     "language": "python",
     "metadata": {},
     "outputs": [
      {
       "output_type": "stream",
       "stream": "stdout",
       "text": [
        "description\n",
        "end_date\n",
        "tags\n",
        "url\n",
        "local\n",
        "start_date\n",
        "name\n"
       ]
      }
     ],
     "prompt_number": 710
    },
    {
     "cell_type": "code",
     "collapsed": false,
     "input": [
      "compft = compjam[0:lencomp]"
     ],
     "language": "python",
     "metadata": {},
     "outputs": [],
     "prompt_number": 631
    },
    {
     "cell_type": "code",
     "collapsed": false,
     "input": [
      "compft.sort"
     ],
     "language": "python",
     "metadata": {},
     "outputs": [
      {
       "metadata": {},
       "output_type": "pyout",
       "prompt_number": 633,
       "text": [
        "<function sort>"
       ]
      }
     ],
     "prompt_number": 633
    },
    {
     "cell_type": "code",
     "collapsed": false,
     "input": [
      "dictv = compdict.values()"
     ],
     "language": "python",
     "metadata": {},
     "outputs": [],
     "prompt_number": 642
    },
    {
     "cell_type": "code",
     "collapsed": false,
     "input": [
      "dictv.count('id')"
     ],
     "language": "python",
     "metadata": {},
     "outputs": [
      {
       "metadata": {},
       "output_type": "pyout",
       "prompt_number": 645,
       "text": [
        "0"
       ]
      }
     ],
     "prompt_number": 645
    },
    {
     "cell_type": "markdown",
     "metadata": {},
     "source": [
      "<h1>This is header one</h1>\n",
      "\n",
      "This is going to be a \n",
      "\n",
      "new line.\n",
      "\n"
     ]
    },
    {
     "cell_type": "code",
     "collapsed": false,
     "input": [],
     "language": "python",
     "metadata": {},
     "outputs": []
    }
   ],
   "metadata": {}
  }
 ]
}