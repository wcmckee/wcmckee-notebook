{
 "metadata": {
  "name": "",
  "signature": "sha256:750233355b4de2b2d76a00d446a2ad05ae1dd078f8bbc5de86b7898b9b03afc7"
 },
 "nbformat": 3,
 "nbformat_minor": 0,
 "worksheets": [
  {
   "cells": [
    {
     "cell_type": "heading",
     "level": 1,
     "metadata": {},
     "source": [
      "RedTube json Python"
     ]
    },
    {
     "cell_type": "markdown",
     "metadata": {},
     "source": [
      "This takes data from the website redtube and saves it as an index.html.\n",
      "When I first wrote this script I manually wrote the html tags. That was before I found dominate. \n",
      "Since discovering dominate I have been using it everywhere. It allows me to visually see the output of the scripts I write. \n",
      "The posibilities are endless..."
     ]
    },
    {
     "cell_type": "code",
     "collapsed": false,
     "input": [
      "import os\n",
      "import random\n",
      "import requests\n",
      "from bs4 import BeautifulSoup\n",
      "import re\n",
      "import json\n",
      "import time\n",
      "import dominate\n",
      "from dominate.tags import *\n",
      "from time import gmtime, strftime\n"
     ],
     "language": "python",
     "metadata": {},
     "outputs": [],
     "prompt_number": 220
    },
    {
     "cell_type": "markdown",
     "metadata": {},
     "source": [
      "Requests and json are the two main modules used for this. Random can also be handy"
     ]
    },
    {
     "cell_type": "code",
     "collapsed": false,
     "input": [
      "getprn = requests.get('http://api.redtube.com/?output=json&data=redtube.Videos.searchVideos&page=1')"
     ],
     "language": "python",
     "metadata": {},
     "outputs": [],
     "prompt_number": 221
    },
    {
     "cell_type": "markdown",
     "metadata": {},
     "source": [
      "Simple requests command to get the json object. This could be any json object - not just RedTube"
     ]
    },
    {
     "cell_type": "code",
     "collapsed": false,
     "input": [
      "loaprn = json.loads(getprn.text)\n",
      "#print loaUrl"
     ],
     "language": "python",
     "metadata": {},
     "outputs": [],
     "prompt_number": 222
    },
    {
     "cell_type": "markdown",
     "metadata": {},
     "source": [
      "Convert it into readable text that you can work with"
     ]
    },
    {
     "cell_type": "code",
     "collapsed": false,
     "input": [
      "naoprn = loaprn[u'videos'][0]\n",
      "print naoprn"
     ],
     "language": "python",
     "metadata": {},
     "outputs": [
      {
       "output_type": "stream",
       "stream": "stdout",
       "text": [
        "{u'video': {u'rating': u'4.00', u'thumb': u'http://img.l3.cdn.redtubefiles.com/_thumbs/0000515/0515922/0515922_014m.jpg', u'ratings': u'4', u'url': u'http://www.redtube.com/515922', u'views': 12014, u'video_id': u'515922', u'publish_date': u'2014-08-06 10:24:01', u'duration': u'9:59', u'title': u'Cute teen blonde fantasy', u'tags': [{u'tag_name': u'Blonde'}, {u'tag_name': u'Blowjob'}, {u'tag_name': u'Caucasian'}, {u'tag_name': u'Couple'}, {u'tag_name': u'Cum Shot'}, {u'tag_name': u'Masturbation'}, {u'tag_name': u'Oral Sex'}, {u'tag_name': u'Shaved'}, {u'tag_name': u'Teen'}, {u'tag_name': u'Vaginal Masturbation'}, {u'tag_name': u'Vaginal Sex'}], u'default_thumb': u'http://img.l3.cdn.redtubefiles.com/_thumbs/0000515/0515922/0515922_014m.jpg'}}\n"
       ]
      }
     ],
     "prompt_number": 223
    },
    {
     "cell_type": "markdown",
     "metadata": {},
     "source": [
      "Compress down - look at first element of json object. You could cycle through older elements\n",
      "by increasing the int"
     ]
    },
    {
     "cell_type": "code",
     "collapsed": false,
     "input": [
      "ngeprn = naoprn[u'video']\n",
      "print ngeprn"
     ],
     "language": "python",
     "metadata": {},
     "outputs": [
      {
       "output_type": "stream",
       "stream": "stdout",
       "text": [
        "{u'rating': u'4.00', u'thumb': u'http://img.l3.cdn.redtubefiles.com/_thumbs/0000515/0515922/0515922_014m.jpg', u'ratings': u'4', u'url': u'http://www.redtube.com/515922', u'views': 12014, u'video_id': u'515922', u'publish_date': u'2014-08-06 10:24:01', u'duration': u'9:59', u'title': u'Cute teen blonde fantasy', u'tags': [{u'tag_name': u'Blonde'}, {u'tag_name': u'Blowjob'}, {u'tag_name': u'Caucasian'}, {u'tag_name': u'Couple'}, {u'tag_name': u'Cum Shot'}, {u'tag_name': u'Masturbation'}, {u'tag_name': u'Oral Sex'}, {u'tag_name': u'Shaved'}, {u'tag_name': u'Teen'}, {u'tag_name': u'Vaginal Masturbation'}, {u'tag_name': u'Vaginal Sex'}], u'default_thumb': u'http://img.l3.cdn.redtubefiles.com/_thumbs/0000515/0515922/0515922_014m.jpg'}\n"
       ]
      }
     ],
     "prompt_number": 224
    },
    {
     "cell_type": "markdown",
     "metadata": {},
     "source": [
      "Compress down again - this time video. It's always a bit of a trial and error to figure out\n",
      "navagating json objects, IPython is perfect for this. "
     ]
    },
    {
     "cell_type": "heading",
     "level": 2,
     "metadata": {},
     "source": [
      "Individual Data!"
     ]
    },
    {
     "cell_type": "markdown",
     "metadata": {},
     "source": [
      "This could be imporoved by turning the following unicode into a list and get the program\n",
      "to cycle though - saving off each element. Maybe save to a list?"
     ]
    },
    {
     "cell_type": "code",
     "collapsed": false,
     "input": [
      "prnliz = []"
     ],
     "language": "python",
     "metadata": {},
     "outputs": [],
     "prompt_number": 225
    },
    {
     "cell_type": "code",
     "collapsed": false,
     "input": [
      "for nge in ngeprn:\n",
      "    prnliz.append(ngeprn[nge])\n",
      "    print nge\n",
      "    print len(nge)"
     ],
     "language": "python",
     "metadata": {},
     "outputs": [
      {
       "output_type": "stream",
       "stream": "stdout",
       "text": [
        "rating\n",
        "6\n",
        "thumb\n",
        "5\n",
        "ratings\n",
        "7\n",
        "url\n",
        "3\n",
        "views\n",
        "5\n",
        "video_id\n",
        "8\n",
        "publish_date\n",
        "12\n",
        "duration\n",
        "8\n",
        "title\n",
        "5\n",
        "tags\n",
        "4\n",
        "default_thumb\n",
        "13\n"
       ]
      }
     ],
     "prompt_number": 226
    },
    {
     "cell_type": "code",
     "collapsed": false,
     "input": [
      "prnliz"
     ],
     "language": "python",
     "metadata": {},
     "outputs": [
      {
       "metadata": {},
       "output_type": "pyout",
       "prompt_number": 227,
       "text": [
        "[u'4.00',\n",
        " u'http://img.l3.cdn.redtubefiles.com/_thumbs/0000515/0515922/0515922_014m.jpg',\n",
        " u'4',\n",
        " u'http://www.redtube.com/515922',\n",
        " 12014,\n",
        " u'515922',\n",
        " u'2014-08-06 10:24:01',\n",
        " u'9:59',\n",
        " u'Cute teen blonde fantasy',\n",
        " [{u'tag_name': u'Blonde'},\n",
        "  {u'tag_name': u'Blowjob'},\n",
        "  {u'tag_name': u'Caucasian'},\n",
        "  {u'tag_name': u'Couple'},\n",
        "  {u'tag_name': u'Cum Shot'},\n",
        "  {u'tag_name': u'Masturbation'},\n",
        "  {u'tag_name': u'Oral Sex'},\n",
        "  {u'tag_name': u'Shaved'},\n",
        "  {u'tag_name': u'Teen'},\n",
        "  {u'tag_name': u'Vaginal Masturbation'},\n",
        "  {u'tag_name': u'Vaginal Sex'}],\n",
        " u'http://img.l3.cdn.redtubefiles.com/_thumbs/0000515/0515922/0515922_014m.jpg']"
       ]
      }
     ],
     "prompt_number": 227
    },
    {
     "cell_type": "code",
     "collapsed": false,
     "input": [
      "for liz in prnliz:\n",
      "    print liz"
     ],
     "language": "python",
     "metadata": {},
     "outputs": [
      {
       "output_type": "stream",
       "stream": "stdout",
       "text": [
        "4.00\n",
        "http://img.l3.cdn.redtubefiles.com/_thumbs/0000515/0515922/0515922_014m.jpg\n",
        "4\n",
        "http://www.redtube.com/515922\n",
        "12014\n",
        "515922\n",
        "2014-08-06 10:24:01\n",
        "9:59\n",
        "Cute teen blonde fantasy\n",
        "[{u'tag_name': u'Blonde'}, {u'tag_name': u'Blowjob'}, {u'tag_name': u'Caucasian'}, {u'tag_name': u'Couple'}, {u'tag_name': u'Cum Shot'}, {u'tag_name': u'Masturbation'}, {u'tag_name': u'Oral Sex'}, {u'tag_name': u'Shaved'}, {u'tag_name': u'Teen'}, {u'tag_name': u'Vaginal Masturbation'}, {u'tag_name': u'Vaginal Sex'}]\n",
        "http://img.l3.cdn.redtubefiles.com/_thumbs/0000515/0515922/0515922_014m.jpg\n"
       ]
      }
     ],
     "prompt_number": 228
    },
    {
     "cell_type": "code",
     "collapsed": false,
     "input": [
      "tagprn = ngeprn[u'tags']\n",
      "print tagprn"
     ],
     "language": "python",
     "metadata": {},
     "outputs": [
      {
       "output_type": "stream",
       "stream": "stdout",
       "text": [
        "[{u'tag_name': u'Blonde'}, {u'tag_name': u'Blowjob'}, {u'tag_name': u'Caucasian'}, {u'tag_name': u'Couple'}, {u'tag_name': u'Cum Shot'}, {u'tag_name': u'Masturbation'}, {u'tag_name': u'Oral Sex'}, {u'tag_name': u'Shaved'}, {u'tag_name': u'Teen'}, {u'tag_name': u'Vaginal Masturbation'}, {u'tag_name': u'Vaginal Sex'}]\n"
       ]
      }
     ],
     "prompt_number": 229
    },
    {
     "cell_type": "code",
     "collapsed": false,
     "input": [
      "derbprn = (tagprn, 'tag_name')\n",
      "print derbprn"
     ],
     "language": "python",
     "metadata": {},
     "outputs": [
      {
       "output_type": "stream",
       "stream": "stdout",
       "text": [
        "([{u'tag_name': u'Blonde'}, {u'tag_name': u'Blowjob'}, {u'tag_name': u'Caucasian'}, {u'tag_name': u'Couple'}, {u'tag_name': u'Cum Shot'}, {u'tag_name': u'Masturbation'}, {u'tag_name': u'Oral Sex'}, {u'tag_name': u'Shaved'}, {u'tag_name': u'Teen'}, {u'tag_name': u'Vaginal Masturbation'}, {u'tag_name': u'Vaginal Sex'}], 'tag_name')\n"
       ]
      }
     ],
     "prompt_number": 230
    },
    {
     "cell_type": "code",
     "collapsed": false,
     "input": [
      "for deb in derbprn:\n",
      "    print deb"
     ],
     "language": "python",
     "metadata": {},
     "outputs": [
      {
       "output_type": "stream",
       "stream": "stdout",
       "text": [
        "[{u'tag_name': u'Blonde'}, {u'tag_name': u'Blowjob'}, {u'tag_name': u'Caucasian'}, {u'tag_name': u'Couple'}, {u'tag_name': u'Cum Shot'}, {u'tag_name': u'Masturbation'}, {u'tag_name': u'Oral Sex'}, {u'tag_name': u'Shaved'}, {u'tag_name': u'Teen'}, {u'tag_name': u'Vaginal Masturbation'}, {u'tag_name': u'Vaginal Sex'}]\n",
        "tag_name\n"
       ]
      }
     ],
     "prompt_number": 231
    },
    {
     "cell_type": "code",
     "collapsed": false,
     "input": [
      "thNum = 0\n",
      "taTrn = tagPrn[thNum]\n",
      "print taTrn\n",
      "thNum + 1"
     ],
     "language": "python",
     "metadata": {},
     "outputs": [
      {
       "output_type": "stream",
       "stream": "stdout",
       "text": [
        "{u'tag_name': u'Amateur'}\n"
       ]
      },
      {
       "metadata": {},
       "output_type": "pyout",
       "prompt_number": 232,
       "text": [
        "1"
       ]
      }
     ],
     "prompt_number": 232
    },
    {
     "cell_type": "markdown",
     "metadata": {},
     "source": [
      "TODO: Cycle the list and print all tags"
     ]
    },
    {
     "cell_type": "code",
     "collapsed": false,
     "input": [
      "naTrn = taTrn['tag_name']\n",
      "print naTrn"
     ],
     "language": "python",
     "metadata": {},
     "outputs": [
      {
       "output_type": "stream",
       "stream": "stdout",
       "text": [
        "Amateur\n"
       ]
      }
     ],
     "prompt_number": 233
    },
    {
     "cell_type": "code",
     "collapsed": false,
     "input": [],
     "language": "python",
     "metadata": {},
     "outputs": [],
     "prompt_number": 233
    },
    {
     "cell_type": "heading",
     "level": 2,
     "metadata": {},
     "source": [
      "Saving Data"
     ]
    },
    {
     "cell_type": "markdown",
     "metadata": {},
     "source": []
    },
    {
     "cell_type": "code",
     "collapsed": false,
     "input": [
      "doc = dominate.document(title='nsfw')"
     ],
     "language": "python",
     "metadata": {},
     "outputs": [],
     "prompt_number": 245
    },
    {
     "cell_type": "code",
     "collapsed": false,
     "input": [
      "with doc.head:\n",
      "    link(rel='stylesheet', href='style.css')\n",
      "    script(type='text/javascript', src='script.js')\n",
      "\n",
      "with doc:\n",
      "    with div(id=header):\n",
      "        attr(cls='header')\n",
      "        #<img src=\"smiley.gif\" alt=\"Smiley face\" height=\"42\" width=\"42\">\n",
      "        h1('nsfw')\n",
      "        img(scr='logo.gif')\n",
      "        h2('warning: porn. get out now.')\n",
      "        p(strftime(\"%a, %d %b %Y %H:%M:%S +0000\", gmtime()))\n",
      "        a('about', href='http://brobeur.com/nsfw/about')\n",
      "        a('contact', href='http://brobeur.com/nsfw/contact') \n",
      "        a('blog', href='http://brobeur.com/wcmckee.com/wcmckee/output')\n",
      "        \n",
      "    with div(id='body'):\n",
      "        h1(prnliz[8])\n",
      "        img(prnliz[1])\n",
      "        #for liz in prnliz:\n",
      "        #    h1(liz)[7]\n",
      "            \n",
      "    \\]\n",
      "    \n",
      "    \n",
      "    \n",
      "    \n",
      "    \n",
      "    \n",
      "    \n",
      "    \n",
      "    \n",
      "    \n",
      "    \n",
      "                                                                                                                                                                                                                 #with div(id='pnr').add(p()):\n",
      "        #for i in jplis:\n",
      "            #(img(i.lower(), src='%s' % i))\n",
      "            #(a(i.lower(), href='%s' % i))\n",
      "            \n",
      "    with div(id='footer'):\n",
      "        p(a('nsfw: warning porn - is open source', href='https://github.com/wcmckee/wcmckee-notebook'))\n",
      "\n",
      "\n",
      "            \n",
      "\n",
      "print doc"
     ],
     "language": "python",
     "metadata": {},
     "outputs": [
      {
       "output_type": "stream",
       "stream": "stdout",
       "text": [
        "<!DOCTYPE html>\n",
        "<html>\n",
        "  <head>\n",
        "    <title>nsfw</title>\n",
        "    <link href=\"style.css\" rel=\"stylesheet\">\n",
        "    <script src=\"script.js\" type=\"text/javascript\"></script>\n",
        "  </head>\n",
        "  <body>\n",
        "    <div class=\"header\" id=\"&lt;class 'dominate.tags.header'&gt;\">\n",
        "      <h1>nsfw</h1>\n",
        "      <img scr=\"logo.gif\">\n",
        "      <h2>warning: porn. get out now.</h2>\n",
        "      <p>Wed, 06 Aug 2014 08:48:39 +0000</p>\n",
        "      <a href=\"http://brobeur.com/nsfw/about\">about</a>\n",
        "      <a href=\"http://brobeur.com/nsfw/contact\">contact</a>\n",
        "      <a href=\"http://brobeur.com/wcmckee.com/wcmckee/output\">blog</a>\n",
        "    </div>\n",
        "    <div id=\"body\">\n",
        "      <h1>Cute teen blonde fantasy</h1>\n",
        "      <img>\n",
        "    </div>\n",
        "    <div id=\"footer\">\n",
        "      <p>\n",
        "        <a href=\"https://github.com/wcmckee/wcmckee-notebook\">nsfw: warning porn - is open source</a>\n",
        "      </p>\n",
        "    </div>\n",
        "  </body>\n",
        "</html>\n"
       ]
      }
     ],
     "prompt_number": 246
    },
    {
     "cell_type": "code",
     "collapsed": false,
     "input": [
      "os.chdir('/var/www/nsfw/')"
     ],
     "language": "python",
     "metadata": {},
     "outputs": [],
     "prompt_number": 236
    },
    {
     "cell_type": "code",
     "collapsed": false,
     "input": [],
     "language": "python",
     "metadata": {},
     "outputs": [],
     "prompt_number": 236
    },
    {
     "cell_type": "code",
     "collapsed": false,
     "input": [
      "savPrn = open('index.html','w')\n",
      "savPrn.write(str(doc))\n",
      "savPrn.close()"
     ],
     "language": "python",
     "metadata": {},
     "outputs": [],
     "prompt_number": 237
    },
    {
     "cell_type": "code",
     "collapsed": false,
     "input": [
      "opPrn = open('index.html','r')\n",
      "for op in opPrn:\n",
      "    print op"
     ],
     "language": "python",
     "metadata": {},
     "outputs": [
      {
       "output_type": "stream",
       "stream": "stdout",
       "text": [
        "<!DOCTYPE html>\n",
        "\n",
        "<html>\n",
        "\n",
        "  <head>\n",
        "\n",
        "    <title>nsfw</title>\n",
        "\n",
        "  </head>\n",
        "\n",
        "  <body></body>\n",
        "\n",
        "</html>\n"
       ]
      }
     ],
     "prompt_number": 238
    },
    {
     "cell_type": "code",
     "collapsed": false,
     "input": [],
     "language": "python",
     "metadata": {},
     "outputs": [],
     "prompt_number": 238
    }
   ],
   "metadata": {}
  }
 ]
}