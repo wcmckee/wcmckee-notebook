{
 "metadata": {
  "name": "",
  "signature": "sha256:a7830a0874717922ba0a3b0d2df369784e1123a3de6bd6722f2f49c4dc837e30"
 },
 "nbformat": 3,
 "nbformat_minor": 0,
 "worksheets": [
  {
   "cells": [
    {
     "cell_type": "heading",
     "level": 1,
     "metadata": {},
     "source": [
      "RedTube json Python"
     ]
    },
    {
     "cell_type": "markdown",
     "metadata": {},
     "source": [
      "This takes data from the website redtube and saves it as an index.html.\n",
      "When I first wrote this script I manually wrote the html tags. That was before I found dominate. \n",
      "Since discovering dominate I have been using it everywhere. It allows me to visually see the output of the scripts I write. \n",
      "The posibilities are endless..."
     ]
    },
    {
     "cell_type": "code",
     "collapsed": false,
     "input": [
      "import os\n",
      "import random\n",
      "import requests\n",
      "from bs4 import BeautifulSoup\n",
      "import re\n",
      "import json\n",
      "import time\n",
      "import dominate\n",
      "from dominate.tags import *\n",
      "from time import gmtime, strftime\n"
     ],
     "language": "python",
     "metadata": {},
     "outputs": [],
     "prompt_number": 391
    },
    {
     "cell_type": "markdown",
     "metadata": {},
     "source": [
      "Requests and json are the two main modules used for this. Random can also be handy"
     ]
    },
    {
     "cell_type": "code",
     "collapsed": false,
     "input": [
      "getprn = requests.get('http://api.redtube.com/?output=json&data=redtube.Videos.searchVideos&page=1')"
     ],
     "language": "python",
     "metadata": {},
     "outputs": [],
     "prompt_number": 392
    },
    {
     "cell_type": "markdown",
     "metadata": {},
     "source": [
      "Simple requests command to get the json object. This could be any json object - not just RedTube"
     ]
    },
    {
     "cell_type": "code",
     "collapsed": false,
     "input": [
      "loaprn = json.loads(getprn.text)\n",
      "#print loaUrl"
     ],
     "language": "python",
     "metadata": {},
     "outputs": [],
     "prompt_number": 393
    },
    {
     "cell_type": "markdown",
     "metadata": {},
     "source": [
      "Convert it into readable text that you can work with"
     ]
    },
    {
     "cell_type": "code",
     "collapsed": false,
     "input": [
      "naoprn = loaprn[u'videos'][0]\n",
      "print naoprn"
     ],
     "language": "python",
     "metadata": {},
     "outputs": [
      {
       "output_type": "stream",
       "stream": "stdout",
       "text": [
        "{u'video': {u'rating': u'4.04', u'thumb': u'http://img.l3.cdn.redtubefiles.com/_thumbs/0000812/0812799/0812799_014m.jpg', u'ratings': u'23', u'url': u'http://www.redtube.com/812799', u'views': 23273, u'video_id': u'812799', u'publish_date': u'2014-08-10 00:18:01', u'duration': u'12:03', u'title': u'Reality Kings - Kali gets a sexy massage ', u'tags': [{u'tag_name': u'Big Ass'}, {u'tag_name': u'Big Cock'}, {u'tag_name': u'Big Tits'}, {u'tag_name': u'Blonde'}, {u'tag_name': u'Blowjob'}, {u'tag_name': u'Couple'}, {u'tag_name': u'Cum Shot'}, {u'tag_name': u'HD'}, {u'tag_name': u'Oral Sex'}, {u'tag_name': u'Piercings'}, {u'tag_name': u'Tattoos'}, {u'tag_name': u'Vaginal Sex'}], u'default_thumb': u'http://img.l3.cdn.redtubefiles.com/_thumbs/0000812/0812799/0812799_014m.jpg'}}\n"
       ]
      }
     ],
     "prompt_number": 394
    },
    {
     "cell_type": "markdown",
     "metadata": {},
     "source": [
      "Compress down - look at first element of json object. You could cycle through older elements\n",
      "by increasing the int"
     ]
    },
    {
     "cell_type": "code",
     "collapsed": false,
     "input": [
      "ngeprn = naoprn[u'video']\n",
      "print ngeprn"
     ],
     "language": "python",
     "metadata": {},
     "outputs": [
      {
       "output_type": "stream",
       "stream": "stdout",
       "text": [
        "{u'rating': u'4.04', u'thumb': u'http://img.l3.cdn.redtubefiles.com/_thumbs/0000812/0812799/0812799_014m.jpg', u'ratings': u'23', u'url': u'http://www.redtube.com/812799', u'views': 23273, u'video_id': u'812799', u'publish_date': u'2014-08-10 00:18:01', u'duration': u'12:03', u'title': u'Reality Kings - Kali gets a sexy massage ', u'tags': [{u'tag_name': u'Big Ass'}, {u'tag_name': u'Big Cock'}, {u'tag_name': u'Big Tits'}, {u'tag_name': u'Blonde'}, {u'tag_name': u'Blowjob'}, {u'tag_name': u'Couple'}, {u'tag_name': u'Cum Shot'}, {u'tag_name': u'HD'}, {u'tag_name': u'Oral Sex'}, {u'tag_name': u'Piercings'}, {u'tag_name': u'Tattoos'}, {u'tag_name': u'Vaginal Sex'}], u'default_thumb': u'http://img.l3.cdn.redtubefiles.com/_thumbs/0000812/0812799/0812799_014m.jpg'}\n"
       ]
      }
     ],
     "prompt_number": 395
    },
    {
     "cell_type": "markdown",
     "metadata": {},
     "source": [
      "Compress down again - this time video. It's always a bit of a trial and error to figure out\n",
      "navagating json objects, IPython is perfect for this. "
     ]
    },
    {
     "cell_type": "heading",
     "level": 2,
     "metadata": {},
     "source": [
      "Individual Data!"
     ]
    },
    {
     "cell_type": "markdown",
     "metadata": {},
     "source": [
      "This could be imporoved by turning the following unicode into a list and get the program\n",
      "to cycle though - saving off each element. Maybe save to a list?"
     ]
    },
    {
     "cell_type": "code",
     "collapsed": false,
     "input": [
      "prnliz = []"
     ],
     "language": "python",
     "metadata": {},
     "outputs": [],
     "prompt_number": 396
    },
    {
     "cell_type": "code",
     "collapsed": false,
     "input": [
      "for nge in ngeprn:\n",
      "    prnliz.append(ngeprn[nge])\n",
      "    print nge\n",
      "    print len(nge)"
     ],
     "language": "python",
     "metadata": {},
     "outputs": [
      {
       "output_type": "stream",
       "stream": "stdout",
       "text": [
        "rating\n",
        "6\n",
        "thumb\n",
        "5\n",
        "ratings\n",
        "7\n",
        "url\n",
        "3\n",
        "views\n",
        "5\n",
        "video_id\n",
        "8\n",
        "publish_date\n",
        "12\n",
        "duration\n",
        "8\n",
        "title\n",
        "5\n",
        "tags\n",
        "4\n",
        "default_thumb\n",
        "13\n"
       ]
      }
     ],
     "prompt_number": 397
    },
    {
     "cell_type": "code",
     "collapsed": false,
     "input": [
      "prnliz"
     ],
     "language": "python",
     "metadata": {},
     "outputs": [
      {
       "metadata": {},
       "output_type": "pyout",
       "prompt_number": 398,
       "text": [
        "[u'4.04',\n",
        " u'http://img.l3.cdn.redtubefiles.com/_thumbs/0000812/0812799/0812799_014m.jpg',\n",
        " u'23',\n",
        " u'http://www.redtube.com/812799',\n",
        " 23273,\n",
        " u'812799',\n",
        " u'2014-08-10 00:18:01',\n",
        " u'12:03',\n",
        " u'Reality Kings - Kali gets a sexy massage ',\n",
        " [{u'tag_name': u'Big Ass'},\n",
        "  {u'tag_name': u'Big Cock'},\n",
        "  {u'tag_name': u'Big Tits'},\n",
        "  {u'tag_name': u'Blonde'},\n",
        "  {u'tag_name': u'Blowjob'},\n",
        "  {u'tag_name': u'Couple'},\n",
        "  {u'tag_name': u'Cum Shot'},\n",
        "  {u'tag_name': u'HD'},\n",
        "  {u'tag_name': u'Oral Sex'},\n",
        "  {u'tag_name': u'Piercings'},\n",
        "  {u'tag_name': u'Tattoos'},\n",
        "  {u'tag_name': u'Vaginal Sex'}],\n",
        " u'http://img.l3.cdn.redtubefiles.com/_thumbs/0000812/0812799/0812799_014m.jpg']"
       ]
      }
     ],
     "prompt_number": 398
    },
    {
     "cell_type": "code",
     "collapsed": false,
     "input": [
      "for liz in prnliz:\n",
      "    print liz"
     ],
     "language": "python",
     "metadata": {},
     "outputs": [
      {
       "output_type": "stream",
       "stream": "stdout",
       "text": [
        "4.04\n",
        "http://img.l3.cdn.redtubefiles.com/_thumbs/0000812/0812799/0812799_014m.jpg\n",
        "23\n",
        "http://www.redtube.com/812799\n",
        "23273\n",
        "812799\n",
        "2014-08-10 00:18:01\n",
        "12:03\n",
        "Reality Kings - Kali gets a sexy massage \n",
        "[{u'tag_name': u'Big Ass'}, {u'tag_name': u'Big Cock'}, {u'tag_name': u'Big Tits'}, {u'tag_name': u'Blonde'}, {u'tag_name': u'Blowjob'}, {u'tag_name': u'Couple'}, {u'tag_name': u'Cum Shot'}, {u'tag_name': u'HD'}, {u'tag_name': u'Oral Sex'}, {u'tag_name': u'Piercings'}, {u'tag_name': u'Tattoos'}, {u'tag_name': u'Vaginal Sex'}]\n",
        "http://img.l3.cdn.redtubefiles.com/_thumbs/0000812/0812799/0812799_014m.jpg\n"
       ]
      }
     ],
     "prompt_number": 399
    },
    {
     "cell_type": "code",
     "collapsed": false,
     "input": [
      "tagprn = ngeprn[u'tags']\n",
      "print tagprn"
     ],
     "language": "python",
     "metadata": {},
     "outputs": [
      {
       "output_type": "stream",
       "stream": "stdout",
       "text": [
        "[{u'tag_name': u'Big Ass'}, {u'tag_name': u'Big Cock'}, {u'tag_name': u'Big Tits'}, {u'tag_name': u'Blonde'}, {u'tag_name': u'Blowjob'}, {u'tag_name': u'Couple'}, {u'tag_name': u'Cum Shot'}, {u'tag_name': u'HD'}, {u'tag_name': u'Oral Sex'}, {u'tag_name': u'Piercings'}, {u'tag_name': u'Tattoos'}, {u'tag_name': u'Vaginal Sex'}]\n"
       ]
      }
     ],
     "prompt_number": 400
    },
    {
     "cell_type": "code",
     "collapsed": false,
     "input": [
      "tagval = []"
     ],
     "language": "python",
     "metadata": {},
     "outputs": [],
     "prompt_number": 401
    },
    {
     "cell_type": "code",
     "collapsed": false,
     "input": [
      "for ta in tagprn:\n",
      "    print ta.values()\n",
      "    tagval.append(ta.values())"
     ],
     "language": "python",
     "metadata": {},
     "outputs": [
      {
       "output_type": "stream",
       "stream": "stdout",
       "text": [
        "[u'Big Ass']\n",
        "[u'Big Cock']\n",
        "[u'Big Tits']\n",
        "[u'Blonde']\n",
        "[u'Blowjob']\n",
        "[u'Couple']\n",
        "[u'Cum Shot']\n",
        "[u'HD']\n",
        "[u'Oral Sex']\n",
        "[u'Piercings']\n",
        "[u'Tattoos']\n",
        "[u'Vaginal Sex']\n"
       ]
      }
     ],
     "prompt_number": 402
    },
    {
     "cell_type": "code",
     "collapsed": false,
     "input": [
      "for tag in tagval:\n",
      "    print tag"
     ],
     "language": "python",
     "metadata": {},
     "outputs": [
      {
       "output_type": "stream",
       "stream": "stdout",
       "text": [
        "[u'Big Ass']\n",
        "[u'Big Cock']\n",
        "[u'Big Tits']\n",
        "[u'Blonde']\n",
        "[u'Blowjob']\n",
        "[u'Couple']\n",
        "[u'Cum Shot']\n",
        "[u'HD']\n",
        "[u'Oral Sex']\n",
        "[u'Piercings']\n",
        "[u'Tattoos']\n",
        "[u'Vaginal Sex']\n"
       ]
      }
     ],
     "prompt_number": 403
    },
    {
     "cell_type": "code",
     "collapsed": false,
     "input": [
      "derbprn = (tagprn, 'tag_name')\n",
      "print derbprn"
     ],
     "language": "python",
     "metadata": {},
     "outputs": [
      {
       "output_type": "stream",
       "stream": "stdout",
       "text": [
        "([{u'tag_name': u'Big Ass'}, {u'tag_name': u'Big Cock'}, {u'tag_name': u'Big Tits'}, {u'tag_name': u'Blonde'}, {u'tag_name': u'Blowjob'}, {u'tag_name': u'Couple'}, {u'tag_name': u'Cum Shot'}, {u'tag_name': u'HD'}, {u'tag_name': u'Oral Sex'}, {u'tag_name': u'Piercings'}, {u'tag_name': u'Tattoos'}, {u'tag_name': u'Vaginal Sex'}], 'tag_name')\n"
       ]
      }
     ],
     "prompt_number": 404
    },
    {
     "cell_type": "code",
     "collapsed": false,
     "input": [
      "for deb in derbprn:\n",
      "    print deb"
     ],
     "language": "python",
     "metadata": {},
     "outputs": [
      {
       "output_type": "stream",
       "stream": "stdout",
       "text": [
        "[{u'tag_name': u'Big Ass'}, {u'tag_name': u'Big Cock'}, {u'tag_name': u'Big Tits'}, {u'tag_name': u'Blonde'}, {u'tag_name': u'Blowjob'}, {u'tag_name': u'Couple'}, {u'tag_name': u'Cum Shot'}, {u'tag_name': u'HD'}, {u'tag_name': u'Oral Sex'}, {u'tag_name': u'Piercings'}, {u'tag_name': u'Tattoos'}, {u'tag_name': u'Vaginal Sex'}]\n",
        "tag_name\n"
       ]
      }
     ],
     "prompt_number": 405
    },
    {
     "cell_type": "code",
     "collapsed": false,
     "input": [
      "thNum = 0\n",
      "taTrn = tagPrn[thNum]\n",
      "print taTrn\n",
      "thNum + 1"
     ],
     "language": "python",
     "metadata": {},
     "outputs": [
      {
       "output_type": "stream",
       "stream": "stdout",
       "text": [
        "{u'tag_name': u'Amateur'}\n"
       ]
      },
      {
       "metadata": {},
       "output_type": "pyout",
       "prompt_number": 406,
       "text": [
        "1"
       ]
      }
     ],
     "prompt_number": 406
    },
    {
     "cell_type": "markdown",
     "metadata": {},
     "source": [
      "TODO: Cycle the list and print all tags"
     ]
    },
    {
     "cell_type": "code",
     "collapsed": false,
     "input": [
      "naTrn = taTrn['tag_name']\n",
      "print naTrn"
     ],
     "language": "python",
     "metadata": {},
     "outputs": [
      {
       "output_type": "stream",
       "stream": "stdout",
       "text": [
        "Amateur\n"
       ]
      }
     ],
     "prompt_number": 407
    },
    {
     "cell_type": "code",
     "collapsed": false,
     "input": [],
     "language": "python",
     "metadata": {},
     "outputs": [],
     "prompt_number": 407
    },
    {
     "cell_type": "heading",
     "level": 2,
     "metadata": {},
     "source": [
      "Saving Data"
     ]
    },
    {
     "cell_type": "markdown",
     "metadata": {},
     "source": []
    },
    {
     "cell_type": "code",
     "collapsed": false,
     "input": [
      "doc = dominate.document(title='nsfw')"
     ],
     "language": "python",
     "metadata": {},
     "outputs": [],
     "prompt_number": 408
    },
    {
     "cell_type": "code",
     "collapsed": false,
     "input": [
      "with doc.head:\n",
      "    link(rel='stylesheet', href='style.css')\n",
      "    script(type='text/javascript', src='script.js')\n",
      "\n",
      "with doc:\n",
      "    with div(id=header):\n",
      "        attr(cls='header')\n",
      "        #<img src=\"smiley.gif\" alt=\"Smiley face\" height=\"42\" width=\"42\">\n",
      "        h1('nsfw')\n",
      "        img(scr='logo.gif')\n",
      "        h2('warning: porn. get out now.')\n",
      "        p(strftime(\"%a, %d %b %Y %H:%M:%S +0000\", gmtime()))\n",
      "        a('about', href='http://brobeur.com/nsfw/about')\n",
      "        a('contact', href='http://brobeur.com/nsfw/contact') \n",
      "        a('blog', href='http://brobeur.com/wcmckee.com/wcmckee/output')\n",
      "        \n",
      "    with div(id='body'):\n",
      "        h1(prnliz[9])\n",
      "        #img(prnliz[1])\n",
      "        (img(src= prnliz[1]))\n",
      "        #for liz in prnliz:\n",
      "        #    h1(liz)[7]\n",
      "        for tag in tagval:\n",
      "            p(tag)\n",
      "    \n",
      "    \n",
      "    \n",
      "    \n",
      "    \n",
      "    \n",
      "    \n",
      "    \n",
      "    \n",
      "    \n",
      "                                                                                                                                                                                                                 #with div(id='pnr').add(p()):\n",
      "        #for i in jplis:\n",
      "            #(img(i.lower(), src='%s' % i))\n",
      "            #(a(i.lower(), href='%s' % i))\n",
      "            \n",
      "    with div(id='footer'):\n",
      "        p(a('nsfw: warning porn - is open source', href='https://github.com/wcmckee/wcmckee-notebook'))\n",
      "\n",
      "\n",
      "            \n",
      "\n",
      "print doc"
     ],
     "language": "python",
     "metadata": {},
     "outputs": [
      {
       "output_type": "stream",
       "stream": "stdout",
       "text": [
        "<!DOCTYPE html>\n",
        "<html>\n",
        "  <head>\n",
        "    <title>nsfw</title>\n",
        "    <link href=\"style.css\" rel=\"stylesheet\">\n",
        "    <script src=\"script.js\" type=\"text/javascript\"></script>\n",
        "  </head>\n",
        "  <body>\n",
        "    <div class=\"header\" id=\"&lt;class 'dominate.tags.header'&gt;\">\n",
        "      <h1>nsfw</h1>\n",
        "      <img scr=\"logo.gif\">\n",
        "      <h2>warning: porn. get out now.</h2>\n",
        "      <p>Sat, 09 Aug 2014 22:29:04 +0000</p>\n",
        "      <a href=\"http://brobeur.com/nsfw/about\">about</a>\n",
        "      <a href=\"http://brobeur.com/nsfw/contact\">contact</a>\n",
        "      <a href=\"http://brobeur.com/wcmckee.com/wcmckee/output\">blog</a>\n",
        "    </div>\n",
        "    <div id=\"body\">\n",
        "      <h1 tag:name=\"Vaginal Sex\"></h1>\n",
        "      <img src=\"http://img.l3.cdn.redtubefiles.com/_thumbs/0000812/0812799/0812799_014m.jpg\">\n",
        "      <p>Big Ass</p>\n",
        "      <p>Big Cock</p>\n",
        "      <p>Big Tits</p>\n",
        "      <p>Blonde</p>\n",
        "      <p>Blowjob</p>\n",
        "      <p>Couple</p>\n",
        "      <p>Cum Shot</p>\n",
        "      <p>HD</p>\n",
        "      <p>Oral Sex</p>\n",
        "      <p>Piercings</p>\n",
        "      <p>Tattoos</p>\n",
        "      <p>Vaginal Sex</p>\n",
        "    </div>\n",
        "    <div id=\"footer\">\n",
        "      <p>\n",
        "        <a href=\"https://github.com/wcmckee/wcmckee-notebook\">nsfw: warning porn - is open source</a>\n",
        "      </p>\n",
        "    </div>\n",
        "  </body>\n",
        "</html>\n"
       ]
      }
     ],
     "prompt_number": 409
    },
    {
     "cell_type": "code",
     "collapsed": false,
     "input": [
      "os.chdir('/var/www/nsfw/')"
     ],
     "language": "python",
     "metadata": {},
     "outputs": [],
     "prompt_number": 410
    },
    {
     "cell_type": "code",
     "collapsed": false,
     "input": [],
     "language": "python",
     "metadata": {},
     "outputs": [],
     "prompt_number": 410
    },
    {
     "cell_type": "code",
     "collapsed": false,
     "input": [
      "savPrn = open('index.html','w')\n",
      "savPrn.write(str(doc))\n",
      "savPrn.close()"
     ],
     "language": "python",
     "metadata": {},
     "outputs": [],
     "prompt_number": 411
    },
    {
     "cell_type": "code",
     "collapsed": false,
     "input": [
      "opPrn = open('index.html','r')\n",
      "for op in opPrn:\n",
      "    print op"
     ],
     "language": "python",
     "metadata": {},
     "outputs": [
      {
       "output_type": "stream",
       "stream": "stdout",
       "text": [
        "<!DOCTYPE html>\n",
        "\n",
        "<html>\n",
        "\n",
        "  <head>\n",
        "\n",
        "    <title>nsfw</title>\n",
        "\n",
        "    <link href=\"style.css\" rel=\"stylesheet\">\n",
        "\n",
        "    <script src=\"script.js\" type=\"text/javascript\"></script>\n",
        "\n",
        "  </head>\n",
        "\n",
        "  <body>\n",
        "\n",
        "    <div class=\"header\" id=\"&lt;class 'dominate.tags.header'&gt;\">\n",
        "\n",
        "      <h1>nsfw</h1>\n",
        "\n",
        "      <img scr=\"logo.gif\">\n",
        "\n",
        "      <h2>warning: porn. get out now.</h2>\n",
        "\n",
        "      <p>Sat, 09 Aug 2014 22:29:04 +0000</p>\n",
        "\n",
        "      <a href=\"http://brobeur.com/nsfw/about\">about</a>\n",
        "\n",
        "      <a href=\"http://brobeur.com/nsfw/contact\">contact</a>\n",
        "\n",
        "      <a href=\"http://brobeur.com/wcmckee.com/wcmckee/output\">blog</a>\n",
        "\n",
        "    </div>\n",
        "\n",
        "    <div id=\"body\">\n",
        "\n",
        "      <h1 tag:name=\"Vaginal Sex\"></h1>\n",
        "\n",
        "      <img src=\"http://img.l3.cdn.redtubefiles.com/_thumbs/0000812/0812799/0812799_014m.jpg\">\n",
        "\n",
        "      <p>Big Ass</p>\n",
        "\n",
        "      <p>Big Cock</p>\n",
        "\n",
        "      <p>Big Tits</p>\n",
        "\n",
        "      <p>Blonde</p>\n",
        "\n",
        "      <p>Blowjob</p>\n",
        "\n",
        "      <p>Couple</p>\n",
        "\n",
        "      <p>Cum Shot</p>\n",
        "\n",
        "      <p>HD</p>\n",
        "\n",
        "      <p>Oral Sex</p>\n",
        "\n",
        "      <p>Piercings</p>\n",
        "\n",
        "      <p>Tattoos</p>\n",
        "\n",
        "      <p>Vaginal Sex</p>\n",
        "\n",
        "    </div>\n",
        "\n",
        "    <div id=\"footer\">\n",
        "\n",
        "      <p>\n",
        "\n",
        "        <a href=\"https://github.com/wcmckee/wcmckee-notebook\">nsfw: warning porn - is open source</a>\n",
        "\n",
        "      </p>\n",
        "\n",
        "    </div>\n",
        "\n",
        "  </body>\n",
        "\n",
        "</html>\n"
       ]
      }
     ],
     "prompt_number": 412
    },
    {
     "cell_type": "code",
     "collapsed": false,
     "input": [],
     "language": "python",
     "metadata": {},
     "outputs": [],
     "prompt_number": 412
    },
    {
     "cell_type": "code",
     "collapsed": false,
     "input": [],
     "language": "python",
     "metadata": {},
     "outputs": [],
     "prompt_number": 412
    },
    {
     "cell_type": "code",
     "collapsed": false,
     "input": [],
     "language": "python",
     "metadata": {},
     "outputs": [],
     "prompt_number": 412
    },
    {
     "cell_type": "code",
     "collapsed": false,
     "input": [],
     "language": "python",
     "metadata": {},
     "outputs": [],
     "prompt_number": 412
    },
    {
     "cell_type": "code",
     "collapsed": false,
     "input": [],
     "language": "python",
     "metadata": {},
     "outputs": [],
     "prompt_number": 412
    },
    {
     "cell_type": "code",
     "collapsed": false,
     "input": [],
     "language": "python",
     "metadata": {},
     "outputs": [],
     "prompt_number": 390
    },
    {
     "cell_type": "code",
     "collapsed": false,
     "input": [],
     "language": "python",
     "metadata": {},
     "outputs": [],
     "prompt_number": 390
    },
    {
     "cell_type": "code",
     "collapsed": false,
     "input": [],
     "language": "python",
     "metadata": {},
     "outputs": [],
     "prompt_number": 390
    },
    {
     "cell_type": "code",
     "collapsed": false,
     "input": [],
     "language": "python",
     "metadata": {},
     "outputs": [],
     "prompt_number": 390
    },
    {
     "cell_type": "code",
     "collapsed": false,
     "input": [],
     "language": "python",
     "metadata": {},
     "outputs": [],
     "prompt_number": 390
    },
    {
     "cell_type": "code",
     "collapsed": false,
     "input": [],
     "language": "python",
     "metadata": {},
     "outputs": [],
     "prompt_number": 390
    },
    {
     "cell_type": "code",
     "collapsed": false,
     "input": [],
     "language": "python",
     "metadata": {},
     "outputs": [],
     "prompt_number": 390
    },
    {
     "cell_type": "code",
     "collapsed": false,
     "input": [],
     "language": "python",
     "metadata": {},
     "outputs": [],
     "prompt_number": 390
    },
    {
     "cell_type": "code",
     "collapsed": false,
     "input": [],
     "language": "python",
     "metadata": {},
     "outputs": [],
     "prompt_number": 390
    },
    {
     "cell_type": "code",
     "collapsed": false,
     "input": [],
     "language": "python",
     "metadata": {},
     "outputs": [],
     "prompt_number": 390
    },
    {
     "cell_type": "code",
     "collapsed": false,
     "input": [],
     "language": "python",
     "metadata": {},
     "outputs": [],
     "prompt_number": 390
    },
    {
     "cell_type": "code",
     "collapsed": false,
     "input": [],
     "language": "python",
     "metadata": {},
     "outputs": [],
     "prompt_number": 390
    },
    {
     "cell_type": "code",
     "collapsed": false,
     "input": [],
     "language": "python",
     "metadata": {},
     "outputs": [],
     "prompt_number": 390
    },
    {
     "cell_type": "code",
     "collapsed": false,
     "input": [],
     "language": "python",
     "metadata": {},
     "outputs": [],
     "prompt_number": 390
    },
    {
     "cell_type": "code",
     "collapsed": false,
     "input": [],
     "language": "python",
     "metadata": {},
     "outputs": [],
     "prompt_number": 390
    },
    {
     "cell_type": "code",
     "collapsed": false,
     "input": [],
     "language": "python",
     "metadata": {},
     "outputs": [],
     "prompt_number": 390
    },
    {
     "cell_type": "code",
     "collapsed": false,
     "input": [],
     "language": "python",
     "metadata": {},
     "outputs": [],
     "prompt_number": 390
    },
    {
     "cell_type": "code",
     "collapsed": false,
     "input": [],
     "language": "python",
     "metadata": {},
     "outputs": [],
     "prompt_number": 390
    },
    {
     "cell_type": "code",
     "collapsed": false,
     "input": [],
     "language": "python",
     "metadata": {},
     "outputs": [],
     "prompt_number": 390
    },
    {
     "cell_type": "code",
     "collapsed": false,
     "input": [],
     "language": "python",
     "metadata": {},
     "outputs": [],
     "prompt_number": 390
    },
    {
     "cell_type": "code",
     "collapsed": false,
     "input": [],
     "language": "python",
     "metadata": {},
     "outputs": [],
     "prompt_number": 390
    },
    {
     "cell_type": "code",
     "collapsed": false,
     "input": [],
     "language": "python",
     "metadata": {},
     "outputs": [],
     "prompt_number": 390
    },
    {
     "cell_type": "code",
     "collapsed": false,
     "input": [],
     "language": "python",
     "metadata": {},
     "outputs": [],
     "prompt_number": 390
    },
    {
     "cell_type": "code",
     "collapsed": false,
     "input": [],
     "language": "python",
     "metadata": {},
     "outputs": [],
     "prompt_number": 390
    },
    {
     "cell_type": "code",
     "collapsed": false,
     "input": [],
     "language": "python",
     "metadata": {},
     "outputs": [],
     "prompt_number": 390
    },
    {
     "cell_type": "code",
     "collapsed": false,
     "input": [],
     "language": "python",
     "metadata": {},
     "outputs": [],
     "prompt_number": 390
    },
    {
     "cell_type": "code",
     "collapsed": false,
     "input": [],
     "language": "python",
     "metadata": {},
     "outputs": [],
     "prompt_number": 390
    },
    {
     "cell_type": "code",
     "collapsed": false,
     "input": [],
     "language": "python",
     "metadata": {},
     "outputs": [],
     "prompt_number": 390
    },
    {
     "cell_type": "code",
     "collapsed": false,
     "input": [],
     "language": "python",
     "metadata": {},
     "outputs": [],
     "prompt_number": 390
    },
    {
     "cell_type": "code",
     "collapsed": false,
     "input": [],
     "language": "python",
     "metadata": {},
     "outputs": [],
     "prompt_number": 390
    },
    {
     "cell_type": "code",
     "collapsed": false,
     "input": [],
     "language": "python",
     "metadata": {},
     "outputs": [],
     "prompt_number": 390
    },
    {
     "cell_type": "code",
     "collapsed": false,
     "input": [],
     "language": "python",
     "metadata": {},
     "outputs": [],
     "prompt_number": 390
    },
    {
     "cell_type": "code",
     "collapsed": false,
     "input": [],
     "language": "python",
     "metadata": {},
     "outputs": [],
     "prompt_number": 390
    },
    {
     "cell_type": "code",
     "collapsed": false,
     "input": [],
     "language": "python",
     "metadata": {},
     "outputs": [],
     "prompt_number": 390
    },
    {
     "cell_type": "code",
     "collapsed": false,
     "input": [],
     "language": "python",
     "metadata": {},
     "outputs": [],
     "prompt_number": 390
    },
    {
     "cell_type": "code",
     "collapsed": false,
     "input": [],
     "language": "python",
     "metadata": {},
     "outputs": [],
     "prompt_number": 390
    },
    {
     "cell_type": "code",
     "collapsed": false,
     "input": [],
     "language": "python",
     "metadata": {},
     "outputs": [],
     "prompt_number": 390
    },
    {
     "cell_type": "code",
     "collapsed": false,
     "input": [],
     "language": "python",
     "metadata": {},
     "outputs": [],
     "prompt_number": 390
    },
    {
     "cell_type": "code",
     "collapsed": false,
     "input": [],
     "language": "python",
     "metadata": {},
     "outputs": [],
     "prompt_number": 390
    },
    {
     "cell_type": "code",
     "collapsed": false,
     "input": [],
     "language": "python",
     "metadata": {},
     "outputs": [],
     "prompt_number": 390
    },
    {
     "cell_type": "code",
     "collapsed": false,
     "input": [],
     "language": "python",
     "metadata": {},
     "outputs": [],
     "prompt_number": 390
    },
    {
     "cell_type": "code",
     "collapsed": false,
     "input": [],
     "language": "python",
     "metadata": {},
     "outputs": [],
     "prompt_number": 390
    },
    {
     "cell_type": "code",
     "collapsed": false,
     "input": [],
     "language": "python",
     "metadata": {},
     "outputs": [],
     "prompt_number": 390
    },
    {
     "cell_type": "code",
     "collapsed": false,
     "input": [],
     "language": "python",
     "metadata": {},
     "outputs": [],
     "prompt_number": 390
    },
    {
     "cell_type": "code",
     "collapsed": false,
     "input": [],
     "language": "python",
     "metadata": {},
     "outputs": [],
     "prompt_number": 390
    },
    {
     "cell_type": "code",
     "collapsed": false,
     "input": [],
     "language": "python",
     "metadata": {},
     "outputs": [],
     "prompt_number": 390
    },
    {
     "cell_type": "code",
     "collapsed": false,
     "input": [],
     "language": "python",
     "metadata": {},
     "outputs": [],
     "prompt_number": 390
    },
    {
     "cell_type": "code",
     "collapsed": false,
     "input": [],
     "language": "python",
     "metadata": {},
     "outputs": []
    }
   ],
   "metadata": {}
  }
 ]
}