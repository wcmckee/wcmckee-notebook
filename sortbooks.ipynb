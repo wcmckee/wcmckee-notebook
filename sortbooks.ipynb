{
 "metadata": {
  "name": "",
  "signature": "sha256:475345588e89763d8e94a7840429503651a555e2e7fd35c8f58cd71be69df87a"
 },
 "nbformat": 3,
 "nbformat_minor": 0,
 "worksheets": [
  {
   "cells": [
    {
     "cell_type": "markdown",
     "metadata": {},
     "source": [
      "This is a script to get all notebooks from a github user and download, turning them into rst pages."
     ]
    },
    {
     "cell_type": "code",
     "collapsed": false,
     "input": [
      "ls"
     ],
     "language": "python",
     "metadata": {},
     "outputs": [
      {
       "output_type": "stream",
       "stream": "stdout",
       "text": [
        "9BAAdt                 json.html         riftplz.py\r\n",
        "Game Of Thrones.html   json.ipynb        salecus.ipynb\r\n",
        "Game Of Thrones.ipynb  jsonBehind.html   savPrn\r\n",
        "LICENSE                jsonBehind.ipynb  scrapnot.html\r\n",
        "LICENSE.save           karen.html        scrapnot.ipynb\r\n",
        "NumPyExplore.html      karen.ipynb       scrapnot.py\r\n",
        "NumPyExplore.ipynb     linkz             skins.html\r\n",
        "README.md              loop.html         skins.ipynb\r\n",
        "Untitled0.html         loop.ipynb        sortbooks.html\r\n",
        "Untitled0.ipynb        markdown.html     sortbooks.ipynb\r\n",
        "Untitled1.html         markdown.ipynb    spellcheckin.html\r\n",
        "Untitled1.ipynb        markdown.py       spellcheckin.ipynb\r\n",
        "Untitled2.ipynb        master.html       tarpipe.html\r\n",
        "Untitled2.py           metatime.html     tarpipe.ipynb\r\n",
        "adypost.html           metatime.ipynb    tarpipe.py\r\n",
        "adypost.ipynb          myfile.txt        test-wp.html\r\n",
        "adypost.py             nbconv.html       test-wp.ipynb\r\n",
        "aklmcam.html           nbconv.ipynb      test.html\r\n",
        "aklmcam.ipynb          nbconv.py         test.ipynb\r\n",
        "aklmcam.py             netcafe.html      testing.txt\r\n",
        "artcontrol.html        netcafe.ipynb     tlc.html\r\n",
        "artcontrol.ipynb       opche.html        tlc.ipynb\r\n",
        "artcontrol.py          opche.ipynb       tlc.py\r\n",
        "bugit.html             openimg.html      tlchome.html\r\n",
        "bugit.ipynb            openimg.ipynb     tpb.html\r\n",
        "bugit.py               output            tpb.ipynb\r\n",
        "compohub.ipynb         outpuz.txt        url redirect.html\r\n",
        "compohub.py            pyEmailz.html     url redirect.ipynb\r\n",
        "cpuclu.json            pyEmailz.ipynb    utils.html\r\n",
        "csae__                 pyEmailz.py       utils.ipynb\r\n",
        "digzocean.html         pyatakl.html      wallpapersav.html\r\n",
        "digzocean.ipynb        pyatakl.ipynb     wallpapersav.ipynb\r\n",
        "digzocean.py           pyatakl.py        wcmckee.rst\r\n",
        "flask-test.html        pydog.html        wcmdocker.html\r\n",
        "flask-test.ipynb       pydog.ipynb       wcmdocker.ipynb\r\n",
        "flask-test.py          pydog.py          wcmgit.html\r\n",
        "ftpWCM.html            pynztacam.html    wcmgit.ipynb\r\n",
        "ftpWCM.ipynb           pynztacam.ipynb   wcmgit.py\r\n",
        "ftpWCM.py              pyssh.html        webData.html\r\n",
        "getdrawn.html          pyssh.ipynb       webData.ipynb\r\n",
        "getdrawn.ipynb         pywgit.ipynb      webData.py\r\n",
        "getdrawn.py            redTube.html      whai.html\r\n",
        "hackbrobeur.html       redTube.ipynb     whai.ipynb\r\n",
        "hackbrobeur.ipynb      redTube.py        whai.py\r\n",
        "hackbrobeur.py         reddit.html       wiki.md\r\n",
        "hamgar.html            reddit.ipynb      wirePIL.html\r\n",
        "hamgar.ipynb           reddit.py         wirePIL.ipynb\r\n",
        "htmldoc                result            wordpress.html\r\n",
        "imgedit.ipynb          rgdsnatch.html    wordpress.ipynb\r\n",
        "imgedit.py             rgdsnatch.ipynb   yoga.ipynb\r\n",
        "index.html             rgdsnatch.py      yoga.py\r\n",
        "index.ipynb            rgdsnatch.tex\r\n",
        "index.py               riftplz.ipynb\r\n"
       ]
      }
     ],
     "prompt_number": 1
    },
    {
     "cell_type": "code",
     "collapsed": false,
     "input": [
      "import os"
     ],
     "language": "python",
     "metadata": {},
     "outputs": [],
     "prompt_number": 2
    },
    {
     "cell_type": "code",
     "collapsed": false,
     "input": [
      "listkindy = list(os.listdir(os.getcwd()))"
     ],
     "language": "python",
     "metadata": {},
     "outputs": [],
     "prompt_number": 6
    },
    {
     "cell_type": "code",
     "collapsed": false,
     "input": [
      "os.listdir(os.getcwd)"
     ],
     "language": "python",
     "metadata": {},
     "outputs": [
      {
       "ename": "TypeError",
       "evalue": "coercing to Unicode: need string or buffer, builtin_function_or_method found",
       "output_type": "pyerr",
       "traceback": [
        "\u001b[1;31m---------------------------------------------------------------------------\u001b[0m\n\u001b[1;31mTypeError\u001b[0m                                 Traceback (most recent call last)",
        "\u001b[1;32m<ipython-input-7-277901f21ef6>\u001b[0m in \u001b[0;36m<module>\u001b[1;34m()\u001b[0m\n\u001b[1;32m----> 1\u001b[1;33m \u001b[0mos\u001b[0m\u001b[1;33m.\u001b[0m\u001b[0mlistdir\u001b[0m\u001b[1;33m(\u001b[0m\u001b[0mos\u001b[0m\u001b[1;33m.\u001b[0m\u001b[0mgetcwd\u001b[0m\u001b[1;33m)\u001b[0m\u001b[1;33m\u001b[0m\u001b[0m\n\u001b[0m",
        "\u001b[1;31mTypeError\u001b[0m: coercing to Unicode: need string or buffer, builtin_function_or_method found"
       ]
      }
     ],
     "prompt_number": 7
    },
    {
     "cell_type": "code",
     "collapsed": false,
     "input": [
      "gdir = ('/home/public/github/')"
     ],
     "language": "python",
     "metadata": {},
     "outputs": [],
     "prompt_number": 8
    },
    {
     "cell_type": "code",
     "collapsed": false,
     "input": [
      "os.listdir('/home/public/github/')"
     ],
     "language": "python",
     "metadata": {},
     "outputs": [
      {
       "ename": "OSError",
       "evalue": "[Errno 2] No such file or directory: '/home/public/github/'",
       "output_type": "pyerr",
       "traceback": [
        "\u001b[1;31m---------------------------------------------------------------------------\u001b[0m\n\u001b[1;31mOSError\u001b[0m                                   Traceback (most recent call last)",
        "\u001b[1;32m<ipython-input-9-ee89d493c687>\u001b[0m in \u001b[0;36m<module>\u001b[1;34m()\u001b[0m\n\u001b[1;32m----> 1\u001b[1;33m \u001b[0mos\u001b[0m\u001b[1;33m.\u001b[0m\u001b[0mlistdir\u001b[0m\u001b[1;33m(\u001b[0m\u001b[1;34m'/home/public/github/'\u001b[0m\u001b[1;33m)\u001b[0m\u001b[1;33m\u001b[0m\u001b[0m\n\u001b[0m",
        "\u001b[1;31mOSError\u001b[0m: [Errno 2] No such file or directory: '/home/public/github/'"
       ]
      }
     ],
     "prompt_number": 9
    },
    {
     "cell_type": "code",
     "collapsed": false,
     "input": [
      "dabook = []"
     ],
     "language": "python",
     "metadata": {},
     "outputs": [],
     "prompt_number": 10
    },
    {
     "cell_type": "code",
     "collapsed": false,
     "input": [
      "os.mkdir('notebooks')"
     ],
     "language": "python",
     "metadata": {},
     "outputs": [],
     "prompt_number": 11
    },
    {
     "cell_type": "code",
     "collapsed": false,
     "input": [
      "import shutil"
     ],
     "language": "python",
     "metadata": {},
     "outputs": [],
     "prompt_number": 12
    },
    {
     "cell_type": "code",
     "collapsed": false,
     "input": [
      "os.getcwd()"
     ],
     "language": "python",
     "metadata": {},
     "outputs": [
      {
       "metadata": {},
       "output_type": "pyout",
       "prompt_number": 13,
       "text": [
        "'/var/www/wcmckee-notebook'"
       ]
      }
     ],
     "prompt_number": 13
    },
    {
     "cell_type": "code",
     "collapsed": false,
     "input": [
      "for filz in os.listdir(gdir):\n",
      "    print filz\n",
      "    for fila in os.listdir(gdir + filz):\n",
      "        print fila\n",
      "        if 'ipynb' in fila:\n",
      "            dabook.append(os.getcwd() + '/' + filz + '/' + fila)\n",
      "        #    shutil.copy(fila, '/home/public/notebooks')\n",
      "            \n",
      "    "
     ],
     "language": "python",
     "metadata": {},
     "outputs": [
      {
       "ename": "OSError",
       "evalue": "[Errno 2] No such file or directory: '/home/public/github/'",
       "output_type": "pyerr",
       "traceback": [
        "\u001b[1;31m---------------------------------------------------------------------------\u001b[0m\n\u001b[1;31mOSError\u001b[0m                                   Traceback (most recent call last)",
        "\u001b[1;32m<ipython-input-14-390feb717b63>\u001b[0m in \u001b[0;36m<module>\u001b[1;34m()\u001b[0m\n\u001b[1;32m----> 1\u001b[1;33m \u001b[1;32mfor\u001b[0m \u001b[0mfilz\u001b[0m \u001b[1;32min\u001b[0m \u001b[0mos\u001b[0m\u001b[1;33m.\u001b[0m\u001b[0mlistdir\u001b[0m\u001b[1;33m(\u001b[0m\u001b[0mgdir\u001b[0m\u001b[1;33m)\u001b[0m\u001b[1;33m:\u001b[0m\u001b[1;33m\u001b[0m\u001b[0m\n\u001b[0m\u001b[0;32m      2\u001b[0m     \u001b[1;32mprint\u001b[0m \u001b[0mfilz\u001b[0m\u001b[1;33m\u001b[0m\u001b[0m\n\u001b[0;32m      3\u001b[0m     \u001b[1;32mfor\u001b[0m \u001b[0mfila\u001b[0m \u001b[1;32min\u001b[0m \u001b[0mos\u001b[0m\u001b[1;33m.\u001b[0m\u001b[0mlistdir\u001b[0m\u001b[1;33m(\u001b[0m\u001b[0mgdir\u001b[0m \u001b[1;33m+\u001b[0m \u001b[0mfilz\u001b[0m\u001b[1;33m)\u001b[0m\u001b[1;33m:\u001b[0m\u001b[1;33m\u001b[0m\u001b[0m\n\u001b[0;32m      4\u001b[0m         \u001b[1;32mprint\u001b[0m \u001b[0mfila\u001b[0m\u001b[1;33m\u001b[0m\u001b[0m\n\u001b[0;32m      5\u001b[0m         \u001b[1;32mif\u001b[0m \u001b[1;34m'ipynb'\u001b[0m \u001b[1;32min\u001b[0m \u001b[0mfila\u001b[0m\u001b[1;33m:\u001b[0m\u001b[1;33m\u001b[0m\u001b[0m\n",
        "\u001b[1;31mOSError\u001b[0m: [Errno 2] No such file or directory: '/home/public/github/'"
       ]
      }
     ],
     "prompt_number": 14
    },
    {
     "cell_type": "code",
     "collapsed": false,
     "input": [
      "#for da in dabook:\n",
      "#    if 'checkpoints' or '.html' in da:\n",
      "#        dabook.remove(da) # removes too many, filter so it only \n",
      "                            #removes files i don't want. if they dont end\n",
      "    #with .ipynb, i dont want to see them. "
     ],
     "language": "python",
     "metadata": {},
     "outputs": [],
     "prompt_number": 15
    },
    {
     "cell_type": "code",
     "collapsed": false,
     "input": [
      "dabook"
     ],
     "language": "python",
     "metadata": {},
     "outputs": [
      {
       "metadata": {},
       "output_type": "pyout",
       "prompt_number": 16,
       "text": [
        "[]"
       ]
      }
     ],
     "prompt_number": 16
    },
    {
     "cell_type": "code",
     "collapsed": false,
     "input": [],
     "language": "python",
     "metadata": {},
     "outputs": [],
     "prompt_number": 86
    },
    {
     "cell_type": "code",
     "collapsed": false,
     "input": [],
     "language": "python",
     "metadata": {},
     "outputs": [],
     "prompt_number": 54
    },
    {
     "cell_type": "code",
     "collapsed": false,
     "input": [],
     "language": "python",
     "metadata": {},
     "outputs": []
    }
   ],
   "metadata": {}
  }
 ]
}