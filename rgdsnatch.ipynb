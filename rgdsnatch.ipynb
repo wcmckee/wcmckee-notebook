{
 "metadata": {
  "name": "",
  "signature": "sha256:94641c0f19d700cae936a3961f9c8a9f510001f2acb372ed975e88dbfb6a2d4f"
 },
 "nbformat": 3,
 "nbformat_minor": 0,
 "worksheets": [
  {
   "cells": [
    {
     "cell_type": "code",
     "collapsed": false,
     "input": [
      "import os\n",
      "import random\n",
      "import requests\n",
      "import re\n",
      "import json\n",
      "import praw"
     ],
     "language": "python",
     "metadata": {},
     "outputs": [],
     "prompt_number": 328
    },
    {
     "cell_type": "code",
     "collapsed": false,
     "input": [
      "#os.chdir('~/.rgd')"
     ],
     "language": "python",
     "metadata": {},
     "outputs": [],
     "prompt_number": 329
    },
    {
     "cell_type": "code",
     "collapsed": false,
     "input": [
      "r = praw.Reddit(user_agent='rgdsnatch')"
     ],
     "language": "python",
     "metadata": {},
     "outputs": [
      {
       "output_type": "stream",
       "stream": "stdout",
       "text": [
        "Version 2.1.16 of praw is outdated. Version 2.1.17 was released Wednesday June 18, 2014.\n"
       ]
      }
     ],
     "prompt_number": 330
    },
    {
     "cell_type": "code",
     "collapsed": false,
     "input": [
      "r.login('artcontrol', 'zipit123')"
     ],
     "language": "python",
     "metadata": {},
     "outputs": [],
     "prompt_number": 331
    },
    {
     "cell_type": "code",
     "collapsed": false,
     "input": [
      "usrd = r.get_my_subreddits()"
     ],
     "language": "python",
     "metadata": {},
     "outputs": [],
     "prompt_number": 332
    },
    {
     "cell_type": "code",
     "collapsed": false,
     "input": [
      "suls = []"
     ],
     "language": "python",
     "metadata": {},
     "outputs": [],
     "prompt_number": 333
    },
    {
     "cell_type": "code",
     "collapsed": false,
     "input": [
      "for subs in usrd:\n",
      "    print subs\n",
      "    suls.append(subs)"
     ],
     "language": "python",
     "metadata": {},
     "outputs": [
      {
       "output_type": "stream",
       "stream": "stdout",
       "text": [
        "todayilearned\n",
        "blog\n",
        "science\n",
        "IAmA\n",
        "videos\n",
        "technology\n",
        "bestof\n",
        "askscience\n",
        "books\n",
        "television\n",
        "food\n",
        "photoshopbattles\n",
        "GetMotivated\n",
        "listentothis\n",
        "Documentaries\n",
        "Art\n",
        "trees\n",
        "programming\n",
        "gameofthrones\n",
        "Android\n",
        "Minecraft\n",
        "comics\n",
        "skyrim\n",
        "breakingbad\n",
        "buildapc\n"
       ]
      }
     ],
     "prompt_number": 334
    },
    {
     "cell_type": "code",
     "collapsed": false,
     "input": [
      "suls"
     ],
     "language": "python",
     "metadata": {},
     "outputs": [
      {
       "metadata": {},
       "output_type": "pyout",
       "prompt_number": 335,
       "text": [
        "[Subreddit(display_name='todayilearned'),\n",
        " Subreddit(display_name='blog'),\n",
        " Subreddit(display_name='science'),\n",
        " Subreddit(display_name='IAmA'),\n",
        " Subreddit(display_name='videos'),\n",
        " Subreddit(display_name='technology'),\n",
        " Subreddit(display_name='bestof'),\n",
        " Subreddit(display_name='askscience'),\n",
        " Subreddit(display_name='books'),\n",
        " Subreddit(display_name='television'),\n",
        " Subreddit(display_name='food'),\n",
        " Subreddit(display_name='photoshopbattles'),\n",
        " Subreddit(display_name='GetMotivated'),\n",
        " Subreddit(display_name='listentothis'),\n",
        " Subreddit(display_name='Documentaries'),\n",
        " Subreddit(display_name='Art'),\n",
        " Subreddit(display_name='trees'),\n",
        " Subreddit(display_name='programming'),\n",
        " Subreddit(display_name='gameofthrones'),\n",
        " Subreddit(display_name='Android'),\n",
        " Subreddit(display_name='Minecraft'),\n",
        " Subreddit(display_name='comics'),\n",
        " Subreddit(display_name='skyrim'),\n",
        " Subreddit(display_name='breakingbad'),\n",
        " Subreddit(display_name='buildapc')]"
       ]
      }
     ],
     "prompt_number": 335
    },
    {
     "cell_type": "code",
     "collapsed": false,
     "input": [
      "lesuls = len(suls)\n",
      "\n",
      "ransuz = random.randint(0, lesuls)\n",
      "\n",
      "thesubraz = suls[ransuz]"
     ],
     "language": "python",
     "metadata": {},
     "outputs": [],
     "prompt_number": 336
    },
    {
     "cell_type": "code",
     "collapsed": false,
     "input": [
      "suls"
     ],
     "language": "python",
     "metadata": {},
     "outputs": [
      {
       "metadata": {},
       "output_type": "pyout",
       "prompt_number": 337,
       "text": [
        "[Subreddit(display_name='todayilearned'),\n",
        " Subreddit(display_name='blog'),\n",
        " Subreddit(display_name='science'),\n",
        " Subreddit(display_name='IAmA'),\n",
        " Subreddit(display_name='videos'),\n",
        " Subreddit(display_name='technology'),\n",
        " Subreddit(display_name='bestof'),\n",
        " Subreddit(display_name='askscience'),\n",
        " Subreddit(display_name='books'),\n",
        " Subreddit(display_name='television'),\n",
        " Subreddit(display_name='food'),\n",
        " Subreddit(display_name='photoshopbattles'),\n",
        " Subreddit(display_name='GetMotivated'),\n",
        " Subreddit(display_name='listentothis'),\n",
        " Subreddit(display_name='Documentaries'),\n",
        " Subreddit(display_name='Art'),\n",
        " Subreddit(display_name='trees'),\n",
        " Subreddit(display_name='programming'),\n",
        " Subreddit(display_name='gameofthrones'),\n",
        " Subreddit(display_name='Android'),\n",
        " Subreddit(display_name='Minecraft'),\n",
        " Subreddit(display_name='comics'),\n",
        " Subreddit(display_name='skyrim'),\n",
        " Subreddit(display_name='breakingbad'),\n",
        " Subreddit(display_name='buildapc')]"
       ]
      }
     ],
     "prompt_number": 337
    },
    {
     "cell_type": "code",
     "collapsed": false,
     "input": [
      "print thesubraz"
     ],
     "language": "python",
     "metadata": {},
     "outputs": [
      {
       "output_type": "stream",
       "stream": "stdout",
       "text": [
        "programming\n"
       ]
      }
     ],
     "prompt_number": 338
    },
    {
     "cell_type": "code",
     "collapsed": false,
     "input": [
      "rd = r.get_subreddit('redditgetsdrawn')"
     ],
     "language": "python",
     "metadata": {},
     "outputs": [],
     "prompt_number": 339
    },
    {
     "cell_type": "code",
     "collapsed": false,
     "input": [
      "rdnewz = rd.get_new()"
     ],
     "language": "python",
     "metadata": {},
     "outputs": [],
     "prompt_number": 340
    },
    {
     "cell_type": "code",
     "collapsed": false,
     "input": [
      "rdnew = []"
     ],
     "language": "python",
     "metadata": {},
     "outputs": [],
     "prompt_number": 341
    },
    {
     "cell_type": "code",
     "collapsed": false,
     "input": [
      "rdnew"
     ],
     "language": "python",
     "metadata": {},
     "outputs": [
      {
       "metadata": {},
       "output_type": "pyout",
       "prompt_number": 342,
       "text": [
        "[]"
       ]
      }
     ],
     "prompt_number": 342
    },
    {
     "cell_type": "code",
     "collapsed": false,
     "input": [
      "for uz in rdnewz:\n",
      "    #print uz\n",
      "    rdnew.append(uz)"
     ],
     "language": "python",
     "metadata": {},
     "outputs": [],
     "prompt_number": 343
    },
    {
     "cell_type": "code",
     "collapsed": false,
     "input": [
      "rdnew"
     ],
     "language": "python",
     "metadata": {},
     "outputs": [
      {
       "metadata": {},
       "output_type": "pyout",
       "prompt_number": 344,
       "text": [
        "[<praw.objects.Submission at 0x7fd2b086afd0>,\n",
        " <praw.objects.Submission at 0x7fd2b0886150>,\n",
        " <praw.objects.Submission at 0x7fd2b0886250>,\n",
        " <praw.objects.Submission at 0x7fd2b0886390>,\n",
        " <praw.objects.Submission at 0x7fd2b0886490>,\n",
        " <praw.objects.Submission at 0x7fd2b0886590>,\n",
        " <praw.objects.Submission at 0x7fd2b0886690>,\n",
        " <praw.objects.Submission at 0x7fd2b0886790>,\n",
        " <praw.objects.Submission at 0x7fd2b0886890>,\n",
        " <praw.objects.Submission at 0x7fd2b08869d0>,\n",
        " <praw.objects.Submission at 0x7fd2b0886ad0>,\n",
        " <praw.objects.Submission at 0x7fd2b0886b90>,\n",
        " <praw.objects.Submission at 0x7fd2b0886c90>,\n",
        " <praw.objects.Submission at 0x7fd2b0886d90>,\n",
        " <praw.objects.Submission at 0x7fd2b0886e90>,\n",
        " <praw.objects.Submission at 0x7fd2b0886f90>,\n",
        " <praw.objects.Submission at 0x7fd2b08920d0>,\n",
        " <praw.objects.Submission at 0x7fd2b0892210>,\n",
        " <praw.objects.Submission at 0x7fd2b0892310>,\n",
        " <praw.objects.Submission at 0x7fd2b0892450>,\n",
        " <praw.objects.Submission at 0x7fd2b0892550>,\n",
        " <praw.objects.Submission at 0x7fd2b0892650>,\n",
        " <praw.objects.Submission at 0x7fd2b0892750>,\n",
        " <praw.objects.Submission at 0x7fd2b0892810>,\n",
        " <praw.objects.Submission at 0x7fd2b0892950>]"
       ]
      }
     ],
     "prompt_number": 344
    },
    {
     "cell_type": "code",
     "collapsed": false,
     "input": [
      "ransubz = random.randint(0,24)"
     ],
     "language": "python",
     "metadata": {},
     "outputs": [],
     "prompt_number": 345
    },
    {
     "cell_type": "code",
     "collapsed": false,
     "input": [
      "print ransubz"
     ],
     "language": "python",
     "metadata": {},
     "outputs": [
      {
       "output_type": "stream",
       "stream": "stdout",
       "text": [
        "5\n"
       ]
      }
     ],
     "prompt_number": 346
    },
    {
     "cell_type": "code",
     "collapsed": false,
     "input": [
      "ransev = rdnew[ransubz]"
     ],
     "language": "python",
     "metadata": {},
     "outputs": [],
     "prompt_number": 347
    },
    {
     "cell_type": "code",
     "collapsed": false,
     "input": [
      "rgdautoz = str(ransev.author)\n"
     ],
     "language": "python",
     "metadata": {},
     "outputs": [],
     "prompt_number": 348
    },
    {
     "cell_type": "code",
     "collapsed": false,
     "input": [
      "rgdsubred = str(ransev.subreddit)"
     ],
     "language": "python",
     "metadata": {},
     "outputs": [],
     "prompt_number": 349
    },
    {
     "cell_type": "code",
     "collapsed": false,
     "input": [
      "sutit = ('[' + rgdsubred + ']')"
     ],
     "language": "python",
     "metadata": {},
     "outputs": [],
     "prompt_number": 350
    },
    {
     "cell_type": "code",
     "collapsed": false,
     "input": [
      "sutit"
     ],
     "language": "python",
     "metadata": {},
     "outputs": [
      {
       "metadata": {},
       "output_type": "pyout",
       "prompt_number": 351,
       "text": [
        "'[redditgetsdrawn]'"
       ]
      }
     ],
     "prompt_number": 351
    },
    {
     "cell_type": "code",
     "collapsed": false,
     "input": [
      "rgdaqwew = ('xpost[RGD]' + rgdautoz)"
     ],
     "language": "python",
     "metadata": {},
     "outputs": [],
     "prompt_number": 352
    },
    {
     "cell_type": "code",
     "collapsed": false,
     "input": [
      "rgdaturo = str(ransev.url)"
     ],
     "language": "python",
     "metadata": {},
     "outputs": [],
     "prompt_number": 353
    },
    {
     "cell_type": "code",
     "collapsed": false,
     "input": [
      "rgdatit = str(ransev.title)"
     ],
     "language": "python",
     "metadata": {},
     "outputs": [],
     "prompt_number": 354
    },
    {
     "cell_type": "code",
     "collapsed": false,
     "input": [
      "rgdatit"
     ],
     "language": "python",
     "metadata": {},
     "outputs": [
      {
       "metadata": {},
       "output_type": "pyout",
       "prompt_number": 355,
       "text": [
        "\"Draw me like one of your french girls... Wait, don't do that.\""
       ]
      }
     ],
     "prompt_number": 355
    },
    {
     "cell_type": "code",
     "collapsed": false,
     "input": [
      "#rd.get_top"
     ],
     "language": "python",
     "metadata": {},
     "outputs": [],
     "prompt_number": 324
    },
    {
     "cell_type": "code",
     "collapsed": false,
     "input": [
      "linkdict = {}"
     ],
     "language": "python",
     "metadata": {},
     "outputs": [],
     "prompt_number": 325
    },
    {
     "cell_type": "code",
     "collapsed": false,
     "input": [
      "ophtml = open('index.html', 'a')"
     ],
     "language": "python",
     "metadata": {},
     "outputs": [],
     "prompt_number": 326
    },
    {
     "cell_type": "code",
     "collapsed": false,
     "input": [
      "ls"
     ],
     "language": "python",
     "metadata": {},
     "outputs": [
      {
       "output_type": "stream",
       "stream": "stdout",
       "text": [
        "\u001b[0m\u001b[01;35mFlchick.jpg\u001b[0m             \u001b[01;35mfile01.jpg\u001b[0m   \u001b[01;35miwasfresh.jpg\u001b[0m     style.css\r\n",
        "\u001b[01;35mIT4EtjR.jpg\u001b[0m             idcomt.json  \u001b[01;35mjarwastudios.jpg\u001b[0m  userurl.json\r\n",
        "\u001b[01;35mTheSuperAwesomeKAT.jpg\u001b[0m  index.html   \u001b[01;35mlairlu.jpg\u001b[0m        wiki.md\r\n"
       ]
      }
     ],
     "prompt_number": 327
    },
    {
     "cell_type": "code",
     "collapsed": false,
     "input": [
      "ady = r.get_subreddit('artcontroldrawsyou')"
     ],
     "language": "python",
     "metadata": {},
     "outputs": [],
     "prompt_number": 274
    },
    {
     "cell_type": "code",
     "collapsed": false,
     "input": [
      "comrgd =  rgdatit + ' ' + rgdaturo"
     ],
     "language": "python",
     "metadata": {},
     "outputs": [],
     "prompt_number": 275
    },
    {
     "cell_type": "code",
     "collapsed": false,
     "input": [
      "comrgd"
     ],
     "language": "python",
     "metadata": {},
     "outputs": [
      {
       "metadata": {},
       "output_type": "pyout",
       "prompt_number": 276,
       "text": [
        "'[F]irst post. Showing off my new bra. http://i.imgur.com/crD7Ivw.jpg'"
       ]
      }
     ],
     "prompt_number": 276
    },
    {
     "cell_type": "code",
     "collapsed": false,
     "input": [
      "import time"
     ],
     "language": "python",
     "metadata": {},
     "outputs": [],
     "prompt_number": 277
    },
    {
     "cell_type": "code",
     "collapsed": false,
     "input": [
      "loctime = time.localtime()"
     ],
     "language": "python",
     "metadata": {},
     "outputs": [],
     "prompt_number": 278
    },
    {
     "cell_type": "code",
     "collapsed": false,
     "input": [
      "loctime.tm_mday"
     ],
     "language": "python",
     "metadata": {},
     "outputs": [
      {
       "metadata": {},
       "output_type": "pyout",
       "prompt_number": 279,
       "text": [
        "9"
       ]
      }
     ],
     "prompt_number": 279
    },
    {
     "cell_type": "code",
     "collapsed": false,
     "input": [
      "loctime.tm_mon"
     ],
     "language": "python",
     "metadata": {},
     "outputs": [
      {
       "metadata": {},
       "output_type": "pyout",
       "prompt_number": 280,
       "text": [
        "7"
       ]
      }
     ],
     "prompt_number": 280
    },
    {
     "cell_type": "code",
     "collapsed": false,
     "input": [
      "thedat = (str(loctime.tm_mday) + '/' + str(loctime.tm_mon))"
     ],
     "language": "python",
     "metadata": {},
     "outputs": [],
     "prompt_number": 281
    },
    {
     "cell_type": "code",
     "collapsed": false,
     "input": [
      "thedat"
     ],
     "language": "python",
     "metadata": {},
     "outputs": [
      {
       "metadata": {},
       "output_type": "pyout",
       "prompt_number": 282,
       "text": [
        "'9/7'"
       ]
      }
     ],
     "prompt_number": 282
    },
    {
     "cell_type": "code",
     "collapsed": false,
     "input": [
      "mixtut = (thedat + sutit + rgdautoz)"
     ],
     "language": "python",
     "metadata": {},
     "outputs": [],
     "prompt_number": 283
    },
    {
     "cell_type": "code",
     "collapsed": false,
     "input": [
      "loctime"
     ],
     "language": "python",
     "metadata": {},
     "outputs": [
      {
       "metadata": {},
       "output_type": "pyout",
       "prompt_number": 284,
       "text": [
        "time.struct_time(tm_year=2014, tm_mon=7, tm_mday=9, tm_hour=4, tm_min=54, tm_sec=52, tm_wday=2, tm_yday=190, tm_isdst=0)"
       ]
      }
     ],
     "prompt_number": 284
    },
    {
     "cell_type": "code",
     "collapsed": false,
     "input": [
      "ady.submit(mixtut , (rgdaqwew, comrgd))"
     ],
     "language": "python",
     "metadata": {},
     "outputs": [
      {
       "metadata": {},
       "output_type": "pyout",
       "prompt_number": 285,
       "text": [
        "<praw.objects.Submission at 0x2d1a990>"
       ]
      }
     ],
     "prompt_number": 285
    },
    {
     "cell_type": "raw",
     "metadata": {},
     "source": [
      "for newa in rdnew:\n",
      "    #rint newa.url\n",
      "    print len(newa)\n",
      "    htmstr = (str(newa.title) + '<a href=\"' + \n",
      "                 str(newa.url) + \n",
      "                 '\"><img class=\"aligncenter size-large wp-image-5723\" alt=\"' +\n",
      "                 str(newa.author) +\n",
      "                 '\" src=\"' + \n",
      "                 str(newa.url) + \n",
      "                 '\" /></a>')\n",
      "    #ophtml.write(htmstr)\n",
      "    #ady.submit(('[RGD]' + newa.author), newa.url)\n",
      "    print newa.author\n",
      "    #print newa.media\n",
      "    ophtml.write(htmstr)\n",
      "    print newa.selftext\n",
      "    print newa.title\n",
      "    print newa.url\n",
      "    print newa.num_comments\n",
      "    \n",
      "    linkdict.update({str(newa.author): str(newa.url)})\n"
     ]
    },
    {
     "cell_type": "code",
     "collapsed": false,
     "input": [
      "#print str(newa.title)"
     ],
     "language": "python",
     "metadata": {},
     "outputs": [],
     "prompt_number": 286
    },
    {
     "cell_type": "code",
     "collapsed": false,
     "input": [
      "import json"
     ],
     "language": "python",
     "metadata": {},
     "outputs": [],
     "prompt_number": 287
    },
    {
     "cell_type": "code",
     "collapsed": false,
     "input": [
      "newzjson = json.dumps(linkdict)"
     ],
     "language": "python",
     "metadata": {},
     "outputs": [],
     "prompt_number": 288
    },
    {
     "cell_type": "code",
     "collapsed": false,
     "input": [
      "#newzjson"
     ],
     "language": "python",
     "metadata": {},
     "outputs": [],
     "prompt_number": 289
    },
    {
     "cell_type": "code",
     "collapsed": false,
     "input": [],
     "language": "python",
     "metadata": {},
     "outputs": [],
     "prompt_number": 289
    },
    {
     "cell_type": "code",
     "collapsed": false,
     "input": [
      "rmine = r.get_redditor('itwillbemine')\n"
     ],
     "language": "python",
     "metadata": {},
     "outputs": [],
     "prompt_number": 290
    },
    {
     "cell_type": "code",
     "collapsed": false,
     "input": [
      "#opest = open('userurl.json', 'r')\n",
      "#opest.read()\n",
      "#opest.close()"
     ],
     "language": "python",
     "metadata": {},
     "outputs": [],
     "prompt_number": 291
    },
    {
     "cell_type": "code",
     "collapsed": false,
     "input": [
      "mincom = rmine.get_comments()"
     ],
     "language": "python",
     "metadata": {},
     "outputs": [],
     "prompt_number": 292
    },
    {
     "cell_type": "code",
     "collapsed": false,
     "input": [
      "#print mincom"
     ],
     "language": "python",
     "metadata": {},
     "outputs": [],
     "prompt_number": 293
    },
    {
     "cell_type": "code",
     "collapsed": false,
     "input": [
      "minels = []"
     ],
     "language": "python",
     "metadata": {},
     "outputs": []
    },
    {
     "cell_type": "code",
     "collapsed": false,
     "input": [
      "\n",
      "dausr = {}"
     ],
     "language": "python",
     "metadata": {},
     "outputs": []
    },
    {
     "cell_type": "code",
     "collapsed": false,
     "input": [
      "for newa in rdnew:\n",
      "    #rint newa.url\n",
      "    #print newa.author\n",
      "    linkdict.update({str(newa.author): str(newa.url)})"
     ],
     "language": "python",
     "metadata": {},
     "outputs": []
    },
    {
     "cell_type": "code",
     "collapsed": false,
     "input": [
      "for con in mincom:\n",
      "    #print con.body\n",
      "    minels.append(con)\n",
      "    dausr.update({str(con.id): str(con.body)})"
     ],
     "language": "python",
     "metadata": {},
     "outputs": []
    },
    {
     "cell_type": "code",
     "collapsed": false,
     "input": [
      "minels"
     ],
     "language": "python",
     "metadata": {},
     "outputs": []
    },
    {
     "cell_type": "code",
     "collapsed": false,
     "input": [
      "noizjson = json.dumps(dausr)"
     ],
     "language": "python",
     "metadata": {},
     "outputs": []
    },
    {
     "cell_type": "code",
     "collapsed": false,
     "input": [
      "newposts = open('userurl.json', 'a')\n",
      "newposts.write(newzjson)\n",
      "print ('file userurl.json updated')\n",
      "newcomments = open('idcomt.json', 'a')\n",
      "newcomments.write(noizjson)\n",
      "print ('user comments updated')\n",
      "newposts.close()\n",
      "newcomments.close()"
     ],
     "language": "python",
     "metadata": {},
     "outputs": []
    },
    {
     "cell_type": "code",
     "collapsed": false,
     "input": [
      "rdusr = str(con.author)\n"
     ],
     "language": "python",
     "metadata": {},
     "outputs": []
    },
    {
     "cell_type": "code",
     "collapsed": false,
     "input": [
      "minelsz = []"
     ],
     "language": "python",
     "metadata": {},
     "outputs": []
    },
    {
     "cell_type": "code",
     "collapsed": false,
     "input": [],
     "language": "python",
     "metadata": {},
     "outputs": []
    },
    {
     "cell_type": "code",
     "collapsed": false,
     "input": [
      "#for mina in minels:\n",
      "    #print mina.body\n",
      "   # minelsz.append(mina.body)"
     ],
     "language": "python",
     "metadata": {},
     "outputs": []
    },
    {
     "cell_type": "code",
     "collapsed": false,
     "input": [
      "#minelsz"
     ],
     "language": "python",
     "metadata": {},
     "outputs": []
    },
    {
     "cell_type": "code",
     "collapsed": false,
     "input": [
      "#mina.body"
     ],
     "language": "python",
     "metadata": {},
     "outputs": []
    },
    {
     "cell_type": "code",
     "collapsed": false,
     "input": [],
     "language": "python",
     "metadata": {},
     "outputs": []
    }
   ],
   "metadata": {}
  }
 ]
}