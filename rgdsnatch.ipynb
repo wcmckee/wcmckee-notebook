{
 "metadata": {
  "name": "",
  "signature": "sha256:7ca6add2fcd00aa390e013776c03c590a24e07eaea63ab741c12ee8ffa252396"
 },
 "nbformat": 3,
 "nbformat_minor": 0,
 "worksheets": [
  {
   "cells": [
    {
     "cell_type": "markdown",
     "metadata": {},
     "source": [
      "RedditGetsDrawn Snatch\n",
      "\n",
      "This is a Python script that takes data from reddit and posts it to another subreddit. It also creates a html file with the images embed into. The images are the most recent 25 on r/redditgetsdrawn.\n",
      "\n"
     ]
    },
    {
     "cell_type": "markdown",
     "metadata": {},
     "source": [
      "TODO\n",
      "\n",
      "submit art to users via website\n",
      "\n",
      "fix image sizes (need to scale down to 550px)\n",
      "\n",
      "Save to server rather than imgur\n",
      "\n",
      "Archieve, snapshots of rgd\n",
      "\n",
      "more artcontrol\n",
      "\n",
      "itwillbemine comments to html - currently being saved in contact \n",
      "\n",
      "work on css, div up page, title, side, body, fo\n",
      "update twitter with ONE IMAGE and announce that the list has been updated.\n",
      "\n",
      "write blog post and submits to artcontroldrawsyou/blog \n",
      "\n",
      "gets sticked post on reddit\n",
      "\n",
      "delete about/contact page and have on all same page. can still have link to blog. \n",
      "about \n",
      "contact etc... along the top.\n",
      "other sections\n",
      "\n",
      "post images to blog for archieve - save body to wcmckee.com/blog - md format?\n",
      "\n",
      "nikola install - build site.\n",
      "\n",
      "cronjob to update site ever ?? hours? 4?\n",
      "\n",
      "photos section: latest 25 photos submitted to redditgetsdrawn.\n",
      "art section: latest 25 art submitted to redditgetsdrawn. "
     ]
    },
    {
     "cell_type": "code",
     "collapsed": false,
     "input": [
      "import os\n",
      "import random\n",
      "import requests\n",
      "from bs4 import BeautifulSoup\n",
      "import re\n",
      "import json\n",
      "import time\n",
      "import praw\n",
      "import dominate\n",
      "from dominate.tags import *\n",
      "from time import gmtime, strftime\n",
      "\n"
     ],
     "language": "python",
     "metadata": {},
     "outputs": [],
     "prompt_number": 1497
    },
    {
     "cell_type": "code",
     "collapsed": false,
     "input": [
      "os.chdir('/var/www/artcontroldrawsyou')"
     ],
     "language": "python",
     "metadata": {},
     "outputs": [],
     "prompt_number": 1498
    },
    {
     "cell_type": "code",
     "collapsed": false,
     "input": [
      "r = praw.Reddit(user_agent='rgdsnatch')"
     ],
     "language": "python",
     "metadata": {},
     "outputs": [
      {
       "output_type": "stream",
       "stream": "stdout",
       "text": [
        "Version 2.1.17 of praw is outdated. Version 2.1.18 was released 12 hours ago.\n"
       ]
      }
     ],
     "prompt_number": 1499
    },
    {
     "cell_type": "code",
     "collapsed": false,
     "input": [
      "#r.login('artcontrol', 'taylor123vag!')"
     ],
     "language": "python",
     "metadata": {},
     "outputs": [],
     "prompt_number": 1500
    },
    {
     "cell_type": "code",
     "collapsed": false,
     "input": [
      "rd = r.get_subreddit('redditgetsdrawn')"
     ],
     "language": "python",
     "metadata": {},
     "outputs": [],
     "prompt_number": 1501
    },
    {
     "cell_type": "code",
     "collapsed": false,
     "input": [
      "subz = rd.get_hot().next()\n",
      "istit = (subz.title)\n",
      "istxt = (subz.selftext_html)\n",
      "istick = (subz.stickied)"
     ],
     "language": "python",
     "metadata": {},
     "outputs": [],
     "prompt_number": 1502
    },
    {
     "cell_type": "code",
     "collapsed": false,
     "input": [
      "istit"
     ],
     "language": "python",
     "metadata": {},
     "outputs": [
      {
       "metadata": {},
       "output_type": "pyout",
       "prompt_number": 1503,
       "text": [
        "u'Wondering which photo to submit to RGD? Did you post something and it was downvoted and ignored? Well, never fear - please consider this your ULTIMATE GUIDE TO POSTING TO RGD, straight from RGD artists. Caps for emphasis!'"
       ]
      }
     ],
     "prompt_number": 1503
    },
    {
     "cell_type": "code",
     "collapsed": false,
     "input": [
      "istxt"
     ],
     "language": "python",
     "metadata": {},
     "outputs": [
      {
       "metadata": {},
       "output_type": "pyout",
       "prompt_number": 1504,
       "text": [
        "u'&lt;!-- SC_OFF --&gt;&lt;div class=\"md\"&gt;&lt;p&gt;Note: Please see our most recent RGD Mod Favorites &lt;a href=\"http://www.reddit.com/r/redditgetsdrawn/comments/2ci5tz/its_time_for_rgd_mod_favorites_july_27_august_2/\"&gt;here!&lt;/a&gt;&lt;/p&gt;\\n\\n&lt;p&gt;We have had this request over and over, in variously-worded forms - &amp;quot;can we please have a guide to posting?&amp;quot; Well, now is your chance to read or participate! We would like to invite all of our regular artists to leave a comment below and tell the RGD submitters exactly what kind of posts you do like to draw, as well as the posts you prefer to ignore.&lt;/p&gt;\\n\\n&lt;p&gt;I will be linking to this post forevermore in the future.&lt;/p&gt;\\n\\n&lt;p&gt;Disclaimers!&lt;/p&gt;\\n\\n&lt;p&gt;1) Just because one artist dislikes or likes something does not mean that all RGD artists will feel the same way. So my advice to submitters is to read ALL of the advice below and pay attention to trends (features of photos that are mentioned over and over by many), as well as which comments are the most upvoted.&lt;/p&gt;\\n\\n&lt;p&gt;2) My other piece of advice to RGD submitters is to pay special attention to the people commenting below who have purple flair next to their names. Those are people that you can quickly verify are indeed RGD artists and are therefore qualified to post in this thread.&lt;/p&gt;\\n\\n&lt;p&gt;With that said - go!&lt;/p&gt;\\n\\n&lt;p&gt;&lt;strong&gt;Note: Comments that don&amp;#39;t give specific feedback about photo preferences will be removed, or, in other words, this post isn&amp;#39;t for extraneous chatter&lt;/strong&gt; :D&lt;/p&gt;\\n&lt;/div&gt;&lt;!-- SC_ON --&gt;'"
       ]
      }
     ],
     "prompt_number": 1504
    },
    {
     "cell_type": "code",
     "collapsed": false,
     "input": [
      "if istick = True:\n",
      "    "
     ],
     "language": "python",
     "metadata": {},
     "outputs": [
      {
       "ename": "SyntaxError",
       "evalue": "invalid syntax (<ipython-input-1505-ba3e16af1a86>, line 1)",
       "output_type": "pyerr",
       "traceback": [
        "\u001b[1;36m  File \u001b[1;32m\"<ipython-input-1505-ba3e16af1a86>\"\u001b[1;36m, line \u001b[1;32m1\u001b[0m\n\u001b[1;33m    if istick = True:\u001b[0m\n\u001b[1;37m              ^\u001b[0m\n\u001b[1;31mSyntaxError\u001b[0m\u001b[1;31m:\u001b[0m invalid syntax\n"
       ]
      }
     ],
     "prompt_number": 1505
    },
    {
     "cell_type": "code",
     "collapsed": false,
     "input": [
      "rdnewz = rd.get_new()"
     ],
     "language": "python",
     "metadata": {},
     "outputs": [],
     "prompt_number": 1506
    },
    {
     "cell_type": "code",
     "collapsed": false,
     "input": [
      "rdnew = []"
     ],
     "language": "python",
     "metadata": {},
     "outputs": [],
     "prompt_number": 1507
    },
    {
     "cell_type": "code",
     "collapsed": false,
     "input": [
      "rdnew"
     ],
     "language": "python",
     "metadata": {},
     "outputs": [
      {
       "metadata": {},
       "output_type": "pyout",
       "prompt_number": 1508,
       "text": [
        "[]"
       ]
      }
     ],
     "prompt_number": 1508
    },
    {
     "cell_type": "code",
     "collapsed": false,
     "input": [
      "for uz in rdnewz:\n",
      "    #print uz\n",
      "    rdnew.append(uz)"
     ],
     "language": "python",
     "metadata": {},
     "outputs": [],
     "prompt_number": 1509
    },
    {
     "cell_type": "code",
     "collapsed": false,
     "input": [
      "urzlis = []\n",
      "titlis = []"
     ],
     "language": "python",
     "metadata": {},
     "outputs": [],
     "prompt_number": 1510
    },
    {
     "cell_type": "code",
     "collapsed": false,
     "input": [
      "#os.chdir('imgs')"
     ],
     "language": "python",
     "metadata": {},
     "outputs": [],
     "prompt_number": 1511
    },
    {
     "cell_type": "code",
     "collapsed": false,
     "input": [
      "for rdn in rdnew:\n",
      "    print rdn.url\n",
      "    urzlis.append(rdn.url)\n",
      "    titlis.append(rdn.author.name)\n",
      "    "
     ],
     "language": "python",
     "metadata": {},
     "outputs": [
      {
       "output_type": "stream",
       "stream": "stdout",
       "text": [
        "http://i.imgur.com/u8mbLiw.jpg\n",
        "http://i.imgur.com/Mju9BXH.jpg\n",
        "http://imgur.com/Q9tElPb\n",
        "http://i.imgur.com/muDfFju.jpg\n",
        "http://i.imgur.com/IxBMCvT.jpg\n",
        "http://imgur.com/RXpQoaN\n",
        "http://imgur.com/skxZ5uH\n",
        "http://i.imgur.com/tj9uiAX.png\n",
        "http://www.reddit.com/r/redditgetsdrawn/comments/2cucoh/wondering_which_photo_to_submit_to_rgd_did_you/\n",
        "http://imgur.com/gZuFu59.jpg\n",
        "http://imgur.com/CW3zSIr\n",
        "http://imgur.com/MxiSCW7\n",
        "http://i.imgur.com/OA390ig.jpg\n",
        "http://i.imgur.com/hfB67wF.jpg\n",
        "http://imgur.com/eqXEW6K\n",
        "http://i.imgur.com/GTpLhdk.jpg\n",
        "http://imgur.com/0m4eF50\n",
        "http://imgur.com/a/bLfyw\n",
        "http://i.imgur.com/Cy42Q9c.jpg\n",
        "http://imgur.com/mx4PbC9\n",
        "http://imgur.com/3hMKUTw\n",
        "http://i.imgur.com/uRYOUS4.jpg\n",
        "http://i.imgur.com/vSiR8W7.jpg\n",
        "http://i.imgur.com/qKyisFl.jpg\n",
        "http://imgur.com/nYv8JL7\n"
       ]
      }
     ],
     "prompt_number": 1512
    },
    {
     "cell_type": "code",
     "collapsed": false,
     "input": [
      "titlis"
     ],
     "language": "python",
     "metadata": {},
     "outputs": [
      {
       "metadata": {},
       "output_type": "pyout",
       "prompt_number": 1513,
       "text": [
        "[u'MoroseCode',\n",
        " u'Tokey_McStoned',\n",
        " u'mar10wright',\n",
        " u'ThrowAwayAccountXVI',\n",
        " u'ImpartialUsername',\n",
        " u'Mrs_Punter',\n",
        " u'CreativaTEA',\n",
        " u'tinyzombie',\n",
        " u'ItWillBeMine',\n",
        " u'Dropzoffire',\n",
        " u'Firecaptain',\n",
        " u'drawmeplease11',\n",
        " u'MaBay',\n",
        " u'privatenuisance',\n",
        " u'licoricesquid',\n",
        " u'JasonKattan',\n",
        " u'sophimper',\n",
        " u'k_steezie',\n",
        " u'schactc',\n",
        " u'ktvoort',\n",
        " u'thelonesloth',\n",
        " u'TrevsRobinson',\n",
        " u'Iyernhyde',\n",
        " u'iloveariiii',\n",
        " u'domalom']"
       ]
      }
     ],
     "prompt_number": 1513
    },
    {
     "cell_type": "code",
     "collapsed": false,
     "input": [
      "jplis = []"
     ],
     "language": "python",
     "metadata": {},
     "outputs": [],
     "prompt_number": 1514
    },
    {
     "cell_type": "code",
     "collapsed": false,
     "input": [
      "for iz in jplis:\n",
      "    print iz"
     ],
     "language": "python",
     "metadata": {},
     "outputs": [],
     "prompt_number": 1515
    },
    {
     "cell_type": "code",
     "collapsed": false,
     "input": [
      "for urz in urzlis:\n",
      "    if '.jpg' in urz:\n",
      "        jplis.append(urz)"
     ],
     "language": "python",
     "metadata": {},
     "outputs": [],
     "prompt_number": 1516
    },
    {
     "cell_type": "code",
     "collapsed": false,
     "input": [
      "doc = dominate.document(title='artcontroldrawsyou')"
     ],
     "language": "python",
     "metadata": {},
     "outputs": [],
     "prompt_number": 1517
    },
    {
     "cell_type": "code",
     "collapsed": false,
     "input": [],
     "language": "python",
     "metadata": {},
     "outputs": [],
     "prompt_number": 1517
    },
    {
     "cell_type": "code",
     "collapsed": false,
     "input": [
      "with doc.head:\n",
      "    link(rel='stylesheet', href='style.css')\n",
      "    script(type='text/javascript', src='script.js')\n",
      "\n",
      "with doc:\n",
      "    with div():\n",
      "        attr(cls='header')\n",
      "        #<img src=\"smiley.gif\" alt=\"Smiley face\" height=\"42\" width=\"42\">\n",
      "        h1('artcontroldrawsyou!')\n",
      "        img(scr='logo.gif')\n",
      "        h2('go away artcontrol')\n",
      "        p(strftime(\"%a, %d %b %Y %H:%M:%S +0000\", gmtime()))\n",
      "        a('about', href='http://brobeur.com/artcontroldrawsyou/about')\n",
      "        a('contact', href='http://brobeur.com/artcontroldrawsyou/contact') \n",
      "        a('blog', href='http://brobeur.com/wcmckee.com/wcmckee/output')\n",
      "        \n",
      "    with div(id='authors'):\n",
      "        for tits in titlis:\n",
      "            (tits)\n",
      "            (a(tits, href='https://reddit.com/u/%s' % tits))\n",
      "            \n",
      "    \n",
      "    with div(id='body').add(p()):\n",
      "        for i in jplis:\n",
      "            (img(i.lower(), src='%s' % i))\n",
      "            (a(i.lower(), href='%s' % i))\n",
      "            \n",
      "    with div(id='footer'):\n",
      "        p(a('artcontroldrawsyou is open source', href='https://github.com/wcmckee/wcmckee-notebook'))\n",
      "\n",
      "\n",
      "            \n",
      "\n",
      "print doc"
     ],
     "language": "python",
     "metadata": {},
     "outputs": [
      {
       "output_type": "stream",
       "stream": "stdout",
       "text": [
        "<!DOCTYPE html>\n",
        "<html>\n",
        "  <head>\n",
        "    <title>artcontroldrawsyou</title>\n",
        "    <link href=\"style.css\" rel=\"stylesheet\">\n",
        "    <script src=\"script.js\" type=\"text/javascript\"></script>\n",
        "  </head>\n",
        "  <body>\n",
        "    <div class=\"header\">\n",
        "      <h1>artcontroldrawsyou!</h1>\n",
        "      <img scr=\"logo.gif\">\n",
        "      <h2>go away artcontrol</h2>\n",
        "      <p>Thu, 07 Aug 2014 04:47:35 +0000</p>\n",
        "      <a href=\"http://brobeur.com/artcontroldrawsyou/about\">about</a>\n",
        "      <a href=\"http://brobeur.com/artcontroldrawsyou/contact\">contact</a>\n",
        "      <a href=\"http://brobeur.com/wcmckee.com/wcmckee/output\">blog</a>\n",
        "    </div>\n",
        "    <div id=\"authors\">\n",
        "      <a href=\"https://reddit.com/u/MoroseCode\">MoroseCode</a>\n",
        "      <a href=\"https://reddit.com/u/Tokey_McStoned\">Tokey_McStoned</a>\n",
        "      <a href=\"https://reddit.com/u/mar10wright\">mar10wright</a>\n",
        "      <a href=\"https://reddit.com/u/ThrowAwayAccountXVI\">ThrowAwayAccountXVI</a>\n",
        "      <a href=\"https://reddit.com/u/ImpartialUsername\">ImpartialUsername</a>\n",
        "      <a href=\"https://reddit.com/u/Mrs_Punter\">Mrs_Punter</a>\n",
        "      <a href=\"https://reddit.com/u/CreativaTEA\">CreativaTEA</a>\n",
        "      <a href=\"https://reddit.com/u/tinyzombie\">tinyzombie</a>\n",
        "      <a href=\"https://reddit.com/u/ItWillBeMine\">ItWillBeMine</a>\n",
        "      <a href=\"https://reddit.com/u/Dropzoffire\">Dropzoffire</a>\n",
        "      <a href=\"https://reddit.com/u/Firecaptain\">Firecaptain</a>\n",
        "      <a href=\"https://reddit.com/u/drawmeplease11\">drawmeplease11</a>\n",
        "      <a href=\"https://reddit.com/u/MaBay\">MaBay</a>\n",
        "      <a href=\"https://reddit.com/u/privatenuisance\">privatenuisance</a>\n",
        "      <a href=\"https://reddit.com/u/licoricesquid\">licoricesquid</a>\n",
        "      <a href=\"https://reddit.com/u/JasonKattan\">JasonKattan</a>\n",
        "      <a href=\"https://reddit.com/u/sophimper\">sophimper</a>\n",
        "      <a href=\"https://reddit.com/u/k_steezie\">k_steezie</a>\n",
        "      <a href=\"https://reddit.com/u/schactc\">schactc</a>\n",
        "      <a href=\"https://reddit.com/u/ktvoort\">ktvoort</a>\n",
        "      <a href=\"https://reddit.com/u/thelonesloth\">thelonesloth</a>\n",
        "      <a href=\"https://reddit.com/u/TrevsRobinson\">TrevsRobinson</a>\n",
        "      <a href=\"https://reddit.com/u/Iyernhyde\">Iyernhyde</a>\n",
        "      <a href=\"https://reddit.com/u/iloveariiii\">iloveariiii</a>\n",
        "      <a href=\"https://reddit.com/u/domalom\">domalom</a>\n",
        "    </div>\n",
        "    <div id=\"body\">\n",
        "      <p>\n",
        "        <img src=\"http://i.imgur.com/u8mbLiw.jpg\">\n",
        "        <a href=\"http://i.imgur.com/u8mbLiw.jpg\">http://i.imgur.com/u8mbliw.jpg</a>\n",
        "        <img src=\"http://i.imgur.com/Mju9BXH.jpg\">\n",
        "        <a href=\"http://i.imgur.com/Mju9BXH.jpg\">http://i.imgur.com/mju9bxh.jpg</a>\n",
        "        <img src=\"http://i.imgur.com/muDfFju.jpg\">\n",
        "        <a href=\"http://i.imgur.com/muDfFju.jpg\">http://i.imgur.com/mudffju.jpg</a>\n",
        "        <img src=\"http://i.imgur.com/IxBMCvT.jpg\">\n",
        "        <a href=\"http://i.imgur.com/IxBMCvT.jpg\">http://i.imgur.com/ixbmcvt.jpg</a>\n",
        "        <img src=\"http://imgur.com/gZuFu59.jpg\">\n",
        "        <a href=\"http://imgur.com/gZuFu59.jpg\">http://imgur.com/gzufu59.jpg</a>\n",
        "        <img src=\"http://i.imgur.com/OA390ig.jpg\">\n",
        "        <a href=\"http://i.imgur.com/OA390ig.jpg\">http://i.imgur.com/oa390ig.jpg</a>\n",
        "        <img src=\"http://i.imgur.com/hfB67wF.jpg\">\n",
        "        <a href=\"http://i.imgur.com/hfB67wF.jpg\">http://i.imgur.com/hfb67wf.jpg</a>\n",
        "        <img src=\"http://i.imgur.com/GTpLhdk.jpg\">\n",
        "        <a href=\"http://i.imgur.com/GTpLhdk.jpg\">http://i.imgur.com/gtplhdk.jpg</a>\n",
        "        <img src=\"http://i.imgur.com/Cy42Q9c.jpg\">\n",
        "        <a href=\"http://i.imgur.com/Cy42Q9c.jpg\">http://i.imgur.com/cy42q9c.jpg</a>\n",
        "        <img src=\"http://i.imgur.com/uRYOUS4.jpg\">\n",
        "        <a href=\"http://i.imgur.com/uRYOUS4.jpg\">http://i.imgur.com/uryous4.jpg</a>\n",
        "        <img src=\"http://i.imgur.com/vSiR8W7.jpg\">\n",
        "        <a href=\"http://i.imgur.com/vSiR8W7.jpg\">http://i.imgur.com/vsir8w7.jpg</a>\n",
        "        <img src=\"http://i.imgur.com/qKyisFl.jpg\">\n",
        "        <a href=\"http://i.imgur.com/qKyisFl.jpg\">http://i.imgur.com/qkyisfl.jpg</a>\n",
        "      </p>\n",
        "    </div>\n",
        "    <div id=\"footer\">\n",
        "      <p>\n",
        "        <a href=\"https://github.com/wcmckee/wcmckee-notebook\">artcontroldrawsyou is open source</a>\n",
        "      </p>\n",
        "    </div>\n",
        "  </body>\n",
        "</html>\n"
       ]
      }
     ],
     "prompt_number": 1518
    },
    {
     "cell_type": "code",
     "collapsed": false,
     "input": [
      "ophtml = open('index.html', 'w')"
     ],
     "language": "python",
     "metadata": {},
     "outputs": [],
     "prompt_number": 1519
    },
    {
     "cell_type": "code",
     "collapsed": false,
     "input": [
      "ophtml.write(str(doc))"
     ],
     "language": "python",
     "metadata": {},
     "outputs": [],
     "prompt_number": 1520
    },
    {
     "cell_type": "code",
     "collapsed": false,
     "input": [
      "ophtml.close()"
     ],
     "language": "python",
     "metadata": {},
     "outputs": [],
     "prompt_number": 1521
    },
    {
     "cell_type": "code",
     "collapsed": false,
     "input": [
      "'''def fcopy(src,dest):\n",
      "    \"\"\"\n",
      "    Copy file from source to dest.  dest can include an absolute or relative path\n",
      "    If the path doesn't exist, it gets created\n",
      "    \"\"\"\n",
      "    dest_dir = os.path.dirname(dest)\n",
      "    try:\n",
      "        os.makedirs(dest_dir)\n",
      "    except os.error as e:\n",
      "        pass #Assume it exists.  This could fail if you don't have permissions, etc...\n",
      "    shutil.copy(src,dest)'''"
     ],
     "language": "python",
     "metadata": {},
     "outputs": [
      {
       "metadata": {},
       "output_type": "pyout",
       "prompt_number": 1522,
       "text": [
        "'def fcopy(src,dest):\\n    \"\"\"\\n    Copy file from source to dest.  dest can include an absolute or relative path\\n    If the path doesn\\'t exist, it gets created\\n    \"\"\"\\n    dest_dir = os.path.dirname(dest)\\n    try:\\n        os.makedirs(dest_dir)\\n    except os.error as e:\\n        pass #Assume it exists.  This could fail if you don\\'t have permissions, etc...\\n    shutil.copy(src,dest)'"
       ]
      }
     ],
     "prompt_number": 1522
    },
    {
     "cell_type": "markdown",
     "metadata": {},
     "source": [
      "cycle though folder and create file in each folder"
     ]
    },
    {
     "cell_type": "code",
     "collapsed": false,
     "input": [
      "#fcopy('/var/www/artcontroldrawsyou/home/')"
     ],
     "language": "python",
     "metadata": {},
     "outputs": [],
     "prompt_number": 1523
    },
    {
     "cell_type": "code",
     "collapsed": false,
     "input": [
      "for usz in titlis:\n",
      "    print usz\n",
      "    #os.mkdir(usz)\n",
      "    #os.chdir('/var/www/artcontroldrawsyou/home/' + usz)"
     ],
     "language": "python",
     "metadata": {},
     "outputs": [
      {
       "output_type": "stream",
       "stream": "stdout",
       "text": [
        "MoroseCode\n",
        "Tokey_McStoned\n",
        "mar10wright\n",
        "ThrowAwayAccountXVI\n",
        "ImpartialUsername\n",
        "Mrs_Punter\n",
        "CreativaTEA\n",
        "tinyzombie\n",
        "ItWillBeMine\n",
        "Dropzoffire\n",
        "Firecaptain\n",
        "drawmeplease11\n",
        "MaBay\n",
        "privatenuisance\n",
        "licoricesquid\n",
        "JasonKattan\n",
        "sophimper\n",
        "k_steezie\n",
        "schactc\n",
        "ktvoort\n",
        "thelonesloth\n",
        "TrevsRobinson\n",
        "Iyernhyde\n",
        "iloveariiii\n",
        "domalom\n"
       ]
      }
     ],
     "prompt_number": 1524
    },
    {
     "cell_type": "code",
     "collapsed": false,
     "input": [
      "'''for filz in titlis:\n",
      "    print filz\n",
      "    \n",
      "    \n",
      "    #os.chdir('/var/www/artcontroldrawsyou/home' + usz)\n",
      "    bulkc = dominate.document(title=filz)\n",
      "    with bulkc.head:\n",
      "        link(rel='stylesheet', href='style.css')\n",
      "        script(type='text/javascript', src='script.js')\n",
      "\n",
      "    with bulkc:\n",
      "        with div():\n",
      "            attr(cls='header')\n",
      "            #<img src=\"smiley.gif\" alt=\"Smiley face\" height=\"42\" width=\"42\">\n",
      "            h1(filz)\n",
      "            img(scr='http://artcontrol.me/wp-content/uploads/2014/08/daenuhlyn-headcoloe.png')\n",
      "            h2('go away artcontrol')\n",
      "        \n",
      "        with div(id='photographs'):\n",
      "            for tits in titlis:\n",
      "                h3(tits)\n",
      "                (a(tits, href='%s' % tits.lower))\n",
      "            \n",
      "    \n",
      "        with div(id='body').add(p()):\n",
      "            for i in jplis:\n",
      "                li(img(i.lower(), src='%s' % i))\n",
      "                li(a(i.lower(), href='%s' % i))\n",
      "                \n",
      "        with div(id='footer'):\n",
      "            p(a('artcontroldrawsyou is opensource', href='https://github.com/wcmckee/wcmckee-notebook'))\n",
      "        \n",
      "        with open('/var/www/artcontroldrawsyou/home/' + filz + '/index.html', 'w') as fout:\n",
      "            fout.write(str(bulkc))\n",
      "            \n",
      "    #with open('index.html', 'w') as indx:\n",
      "       #bulkc = indx.write() \n",
      "        #print bulkc'''"
     ],
     "language": "python",
     "metadata": {},
     "outputs": [
      {
       "metadata": {},
       "output_type": "pyout",
       "prompt_number": 1525,
       "text": [
        "'for filz in titlis:\\n    print filz\\n    \\n    \\n    #os.chdir(\\'/var/www/artcontroldrawsyou/home\\' + usz)\\n    bulkc = dominate.document(title=filz)\\n    with bulkc.head:\\n        link(rel=\\'stylesheet\\', href=\\'style.css\\')\\n        script(type=\\'text/javascript\\', src=\\'script.js\\')\\n\\n    with bulkc:\\n        with div():\\n            attr(cls=\\'header\\')\\n            #<img src=\"smiley.gif\" alt=\"Smiley face\" height=\"42\" width=\"42\">\\n            h1(filz)\\n            img(scr=\\'http://artcontrol.me/wp-content/uploads/2014/08/daenuhlyn-headcoloe.png\\')\\n            h2(\\'go away artcontrol\\')\\n        \\n        with div(id=\\'photographs\\'):\\n            for tits in titlis:\\n                h3(tits)\\n                (a(tits, href=\\'%s\\' % tits.lower))\\n            \\n    \\n        with div(id=\\'body\\').add(p()):\\n            for i in jplis:\\n                li(img(i.lower(), src=\\'%s\\' % i))\\n                li(a(i.lower(), href=\\'%s\\' % i))\\n                \\n        with div(id=\\'footer\\'):\\n            p(a(\\'artcontroldrawsyou is opensource\\', href=\\'https://github.com/wcmckee/wcmckee-notebook\\'))\\n        \\n        with open(\\'/var/www/artcontroldrawsyou/home/\\' + filz + \\'/index.html\\', \\'w\\') as fout:\\n            fout.write(str(bulkc))\\n            \\n    #with open(\\'index.html\\', \\'w\\') as indx:\\n       #bulkc = indx.write() \\n        #print bulkc'"
       ]
      }
     ],
     "prompt_number": 1525
    },
    {
     "cell_type": "code",
     "collapsed": false,
     "input": [
      "ransubz = random.randint(0,24)"
     ],
     "language": "python",
     "metadata": {},
     "outputs": [],
     "prompt_number": 1526
    },
    {
     "cell_type": "code",
     "collapsed": false,
     "input": [
      "print ransubz"
     ],
     "language": "python",
     "metadata": {},
     "outputs": [
      {
       "output_type": "stream",
       "stream": "stdout",
       "text": [
        "5\n"
       ]
      }
     ],
     "prompt_number": 1527
    },
    {
     "cell_type": "code",
     "collapsed": false,
     "input": [
      "ransev = rdnew[ransubz]"
     ],
     "language": "python",
     "metadata": {},
     "outputs": [],
     "prompt_number": 1528
    },
    {
     "cell_type": "code",
     "collapsed": false,
     "input": [
      "rgdautoz = str(ransev.author)\n"
     ],
     "language": "python",
     "metadata": {},
     "outputs": [],
     "prompt_number": 1529
    },
    {
     "cell_type": "code",
     "collapsed": false,
     "input": [
      "rgdsubred = str(ransev.subreddit)"
     ],
     "language": "python",
     "metadata": {},
     "outputs": [],
     "prompt_number": 1530
    },
    {
     "cell_type": "code",
     "collapsed": false,
     "input": [
      "sutit = ('[' + rgdsubred + ']')"
     ],
     "language": "python",
     "metadata": {},
     "outputs": [],
     "prompt_number": 1531
    },
    {
     "cell_type": "code",
     "collapsed": false,
     "input": [
      "sutit"
     ],
     "language": "python",
     "metadata": {},
     "outputs": [
      {
       "metadata": {},
       "output_type": "pyout",
       "prompt_number": 1532,
       "text": [
        "'[redditgetsdrawn]'"
       ]
      }
     ],
     "prompt_number": 1532
    },
    {
     "cell_type": "code",
     "collapsed": false,
     "input": [
      "rgdaqwew = ('xpost[RGD]' + rgdautoz)"
     ],
     "language": "python",
     "metadata": {},
     "outputs": [],
     "prompt_number": 1533
    },
    {
     "cell_type": "code",
     "collapsed": false,
     "input": [
      "rgdaturo = str(ransev.url)"
     ],
     "language": "python",
     "metadata": {},
     "outputs": [],
     "prompt_number": 1534
    },
    {
     "cell_type": "code",
     "collapsed": false,
     "input": [
      "rgdatit = str(ransev.title)"
     ],
     "language": "python",
     "metadata": {},
     "outputs": [],
     "prompt_number": 1535
    },
    {
     "cell_type": "code",
     "collapsed": false,
     "input": [
      "rgdatit"
     ],
     "language": "python",
     "metadata": {},
     "outputs": [
      {
       "metadata": {},
       "output_type": "pyout",
       "prompt_number": 1536,
       "text": [
        "'Reddit, please draw my handsome son and I!'"
       ]
      }
     ],
     "prompt_number": 1536
    },
    {
     "cell_type": "code",
     "collapsed": false,
     "input": [
      "#rd.get_top"
     ],
     "language": "python",
     "metadata": {},
     "outputs": [],
     "prompt_number": 1537
    },
    {
     "cell_type": "code",
     "collapsed": false,
     "input": [
      "linkdict = {}"
     ],
     "language": "python",
     "metadata": {},
     "outputs": [],
     "prompt_number": 1538
    },
    {
     "cell_type": "code",
     "collapsed": false,
     "input": [
      "ady = r.get_subreddit('artcontroldrawsyou')"
     ],
     "language": "python",
     "metadata": {},
     "outputs": [],
     "prompt_number": 1539
    },
    {
     "cell_type": "code",
     "collapsed": false,
     "input": [
      "comrgd =  rgdatit + ' ' + rgdaturo"
     ],
     "language": "python",
     "metadata": {},
     "outputs": [],
     "prompt_number": 1540
    },
    {
     "cell_type": "code",
     "collapsed": false,
     "input": [
      "loctime = time.localtime()"
     ],
     "language": "python",
     "metadata": {},
     "outputs": [],
     "prompt_number": 1541
    },
    {
     "cell_type": "code",
     "collapsed": false,
     "input": [
      "loctime.tm_mday"
     ],
     "language": "python",
     "metadata": {},
     "outputs": [
      {
       "metadata": {},
       "output_type": "pyout",
       "prompt_number": 1542,
       "text": [
        "7"
       ]
      }
     ],
     "prompt_number": 1542
    },
    {
     "cell_type": "code",
     "collapsed": false,
     "input": [
      "loctime.tm_mon"
     ],
     "language": "python",
     "metadata": {},
     "outputs": [
      {
       "metadata": {},
       "output_type": "pyout",
       "prompt_number": 1543,
       "text": [
        "8"
       ]
      }
     ],
     "prompt_number": 1543
    },
    {
     "cell_type": "code",
     "collapsed": false,
     "input": [
      "thedat = (str(loctime.tm_mday) + '/' + str(loctime.tm_mon))"
     ],
     "language": "python",
     "metadata": {},
     "outputs": [],
     "prompt_number": 1544
    },
    {
     "cell_type": "code",
     "collapsed": false,
     "input": [
      "thedat"
     ],
     "language": "python",
     "metadata": {},
     "outputs": [
      {
       "metadata": {},
       "output_type": "pyout",
       "prompt_number": 1545,
       "text": [
        "'7/8'"
       ]
      }
     ],
     "prompt_number": 1545
    },
    {
     "cell_type": "code",
     "collapsed": false,
     "input": [
      "mixtut = (thedat + sutit + rgdautoz)"
     ],
     "language": "python",
     "metadata": {},
     "outputs": [],
     "prompt_number": 1546
    },
    {
     "cell_type": "code",
     "collapsed": false,
     "input": [
      "loctime"
     ],
     "language": "python",
     "metadata": {},
     "outputs": [
      {
       "metadata": {},
       "output_type": "pyout",
       "prompt_number": 1547,
       "text": [
        "time.struct_time(tm_year=2014, tm_mon=8, tm_mday=7, tm_hour=4, tm_min=47, tm_sec=40, tm_wday=3, tm_yday=219, tm_isdst=0)"
       ]
      }
     ],
     "prompt_number": 1547
    },
    {
     "cell_type": "code",
     "collapsed": false,
     "input": [
      "#ady.submit(mixtut , (rgdaqwew, comrgd))"
     ],
     "language": "python",
     "metadata": {},
     "outputs": [],
     "prompt_number": 1548
    },
    {
     "cell_type": "code",
     "collapsed": false,
     "input": [
      "'''for newa in rdnew:\n",
      "    #rint newa.url\n",
      "    print len(newa)\n",
      "    htmstr = (str(newa.title) + '<a href=\"' + \n",
      "                 str(newa.url) + \n",
      "                 '\"><img class=\"aligncenter size-large wp-image-5723\" alt=\"' +\n",
      "                 str(newa.author) +\n",
      "                 '\" src=\"' + \n",
      "                 str(newa.url) + \n",
      "                 '\" /></a>')\n",
      "    #ophtml.write(htmstr)\n",
      "    #ady.submit(('[RGD]' + newa.author), newa.url)\n",
      "    print newa.author\n",
      "    #print newa.media\n",
      "    ophtml.write(htmstr)\n",
      "    print newa.selftext\n",
      "    print newa.url\n",
      "    print newa.num_comments\n",
      "    \n",
      "    linkdict.update({str(newa.author): str(newa.url)})\n",
      "'''\n"
     ],
     "language": "python",
     "metadata": {},
     "outputs": [
      {
       "metadata": {},
       "output_type": "pyout",
       "prompt_number": 1549,
       "text": [
        "'for newa in rdnew:\\n    #rint newa.url\\n    print len(newa)\\n    htmstr = (str(newa.title) + \\'<a href=\"\\' + \\n                 str(newa.url) + \\n                 \\'\"><img class=\"aligncenter size-large wp-image-5723\" alt=\"\\' +\\n                 str(newa.author) +\\n                 \\'\" src=\"\\' + \\n                 str(newa.url) + \\n                 \\'\" /></a>\\')\\n    #ophtml.write(htmstr)\\n    #ady.submit((\\'[RGD]\\' + newa.author), newa.url)\\n    print newa.author\\n    #print newa.media\\n    ophtml.write(htmstr)\\n    print newa.selftext\\n    print newa.url\\n    print newa.num_comments\\n    \\n    linkdict.update({str(newa.author): str(newa.url)})\\n'"
       ]
      }
     ],
     "prompt_number": 1549
    },
    {
     "cell_type": "code",
     "collapsed": false,
     "input": [
      "#print str(newa.title)"
     ],
     "language": "python",
     "metadata": {},
     "outputs": [],
     "prompt_number": 1550
    },
    {
     "cell_type": "code",
     "collapsed": false,
     "input": [
      "import json"
     ],
     "language": "python",
     "metadata": {},
     "outputs": [],
     "prompt_number": 1551
    },
    {
     "cell_type": "code",
     "collapsed": false,
     "input": [
      "newzjson = json.dumps(linkdict)"
     ],
     "language": "python",
     "metadata": {},
     "outputs": [],
     "prompt_number": 1552
    },
    {
     "cell_type": "code",
     "collapsed": false,
     "input": [
      "#newzjson"
     ],
     "language": "python",
     "metadata": {},
     "outputs": [],
     "prompt_number": 1553
    },
    {
     "cell_type": "code",
     "collapsed": false,
     "input": [],
     "language": "python",
     "metadata": {},
     "outputs": [],
     "prompt_number": 1553
    },
    {
     "cell_type": "code",
     "collapsed": false,
     "input": [
      "rmine = r.get_redditor('itwillbemine')\n"
     ],
     "language": "python",
     "metadata": {},
     "outputs": [],
     "prompt_number": 1554
    },
    {
     "cell_type": "code",
     "collapsed": false,
     "input": [
      "#opest = open('userurl.json', 'r')\n",
      "#opest.read()\n",
      "#opest.close()"
     ],
     "language": "python",
     "metadata": {},
     "outputs": [],
     "prompt_number": 1555
    },
    {
     "cell_type": "code",
     "collapsed": false,
     "input": [
      "mincom = rmine.get_comments()"
     ],
     "language": "python",
     "metadata": {},
     "outputs": [],
     "prompt_number": 1556
    },
    {
     "cell_type": "code",
     "collapsed": false,
     "input": [
      "#print mincom"
     ],
     "language": "python",
     "metadata": {},
     "outputs": [],
     "prompt_number": 1557
    },
    {
     "cell_type": "code",
     "collapsed": false,
     "input": [
      "minels = []"
     ],
     "language": "python",
     "metadata": {},
     "outputs": [],
     "prompt_number": 1558
    },
    {
     "cell_type": "code",
     "collapsed": false,
     "input": [
      "\n",
      "dausr = {}"
     ],
     "language": "python",
     "metadata": {},
     "outputs": [],
     "prompt_number": 1559
    },
    {
     "cell_type": "code",
     "collapsed": false,
     "input": [
      "for newa in rdnew:\n",
      "    #rint newa.url\n",
      "    #print newa.author\n",
      "    linkdict.update({str(newa.author): str(newa.url)})"
     ],
     "language": "python",
     "metadata": {},
     "outputs": [],
     "prompt_number": 1560
    },
    {
     "cell_type": "code",
     "collapsed": false,
     "input": [
      "for con in mincom:\n",
      "    #print con.body\n",
      "    minels.append(con)\n",
      "    dausr.update({str(con.id): str(con.body)})"
     ],
     "language": "python",
     "metadata": {},
     "outputs": [],
     "prompt_number": 1561
    },
    {
     "cell_type": "code",
     "collapsed": false,
     "input": [
      "itwillbemine = dominate.document(title='itwillbemine')"
     ],
     "language": "python",
     "metadata": {},
     "outputs": [],
     "prompt_number": 1562
    },
    {
     "cell_type": "code",
     "collapsed": false,
     "input": [
      "with itwillbemine.head:\n",
      "    link(rel='stylesheet', href='style.css')\n",
      "    script(type='text/javascript', src='script.js')\n",
      "\n",
      "with itwillbemine:\n",
      "    with div():\n",
      "        attr(cls='header')\n",
      "        #<img src=\"smiley.gif\" alt=\"Smiley face\" height=\"42\" width=\"42\">\n",
      "        h1('itwillbemine')\n",
      "        img(scr='logo.gif')\n",
      "        h2('go away artcontrol')\n",
      "        p(strftime(\"%a, %d %b %Y %H:%M:%S +0000\", gmtime()))\n",
      "        a('about', href='http://brobeur.com/artcontroldrawsyou/about')\n",
      "        a('contact', href='http://brobeur.com/artcontroldrawsyou/contact') \n",
      "        a('blog', href='http://brobeur.com/artcontroldrawsyou/wcmckee.com/wcmckee/output')\n",
      "    \n",
      "    with div():\n",
      "        attr(cls='header')\n",
      "        #<img src=\"smiley.gif\" alt=\"Smiley face\" height=\"42\" width=\"42\">\n",
      "        h1('itwillbemine')\n",
      "        p(img(scr='http://brobeur.com/artcontroldrawsyou/logo.gif'))\n",
      "        #for mine in minels:\n",
      "            #h1(mine.author_flair_text())\n",
      "            #p(mine.body)\n",
      "        \n",
      "    with div(id='author'):\n",
      "        for tits in titlis:\n",
      "            h3(tits)\n",
      "    \n",
      "    with div(id='body').add(p()):\n",
      "        for mine in minels:\n",
      "            #h1(mine.created)\n",
      "            p(mine.body)\n",
      "            \n",
      "\n",
      "\n",
      "\n",
      "print itwillbemine"
     ],
     "language": "python",
     "metadata": {},
     "outputs": [
      {
       "output_type": "stream",
       "stream": "stdout",
       "text": [
        "<!DOCTYPE html>\n",
        "<html>\n",
        "  <head>\n",
        "    <title>itwillbemine</title>\n",
        "    <link href=\"style.css\" rel=\"stylesheet\">\n",
        "    <script src=\"script.js\" type=\"text/javascript\"></script>\n",
        "  </head>\n",
        "  <body>\n",
        "    <div class=\"header\">\n",
        "      <h1>itwillbemine</h1>\n",
        "      <img scr=\"logo.gif\">\n",
        "      <h2>go away artcontrol</h2>\n",
        "      <p>Thu, 07 Aug 2014 04:47:46 +0000</p>\n",
        "      <a href=\"http://brobeur.com/artcontroldrawsyou/about\">about</a>\n",
        "      <a href=\"http://brobeur.com/artcontroldrawsyou/contact\">contact</a>\n",
        "      <a href=\"http://brobeur.com/artcontroldrawsyou/wcmckee.com/wcmckee/output\">blog</a>\n",
        "    </div>\n",
        "    <div class=\"header\">\n",
        "      <h1>itwillbemine</h1>\n",
        "      <p>\n",
        "        <img scr=\"http://brobeur.com/artcontroldrawsyou/logo.gif\">\n",
        "      </p>\n",
        "    </div>\n",
        "    <div id=\"author\">\n",
        "      <h3>MoroseCode</h3>\n",
        "      <h3>Tokey_McStoned</h3>\n",
        "      <h3>mar10wright</h3>\n",
        "      <h3>ThrowAwayAccountXVI</h3>\n",
        "      <h3>ImpartialUsername</h3>\n",
        "      <h3>Mrs_Punter</h3>\n",
        "      <h3>CreativaTEA</h3>\n",
        "      <h3>tinyzombie</h3>\n",
        "      <h3>ItWillBeMine</h3>\n",
        "      <h3>Dropzoffire</h3>\n",
        "      <h3>Firecaptain</h3>\n",
        "      <h3>drawmeplease11</h3>\n",
        "      <h3>MaBay</h3>\n",
        "      <h3>privatenuisance</h3>\n",
        "      <h3>licoricesquid</h3>\n",
        "      <h3>JasonKattan</h3>\n",
        "      <h3>sophimper</h3>\n",
        "      <h3>k_steezie</h3>\n",
        "      <h3>schactc</h3>\n",
        "      <h3>ktvoort</h3>\n",
        "      <h3>thelonesloth</h3>\n",
        "      <h3>TrevsRobinson</h3>\n",
        "      <h3>Iyernhyde</h3>\n",
        "      <h3>iloveariiii</h3>\n",
        "      <h3>domalom</h3>\n",
        "    </div>\n",
        "    <div id=\"body\">\n",
        "      <p>\n",
        "        <p>It pretty much exists (/r/ photoshopbattles) </p>\n",
        "        <p>Oh my god! This is the nicest/best thing I've ever read.\n",
        "\n",
        "....Can we be friends? \n",
        "\n",
        "P.S. #12 &amp;lt;3</p>\n",
        "        <p>&amp;lt;3</p>\n",
        "        <p>Oftentimes when you see something that says [deleted,] a mod has actually just removed the comment. And that's what happened here. ;)</p>\n",
        "        <p>Removed. This is not /r/redditgetsphotoshopped.</p>\n",
        "        <p>Post removed; please see our list of approved relationships.</p>\n",
        "        <p>http://i.imgur.com/93gk5nE.gif</p>\n",
        "        <p>&amp;gt; Holi/Color Run photos. We get many more than you might think.\n",
        "\n",
        "AMEN :D\n",
        "\n",
        "</p>\n",
        "        <p>Awesome, thank you jhred! :)</p>\n",
        "        <p>Thank you!</p>\n",
        "        <p>Thank you!\n",
        "\n",
        "(I probably should have done it way sooner) D:</p>\n",
        "        <p>This is fabulous! YOU'RE fabulous.</p>\n",
        "        <p>Hear, hear!</p>\n",
        "        <p>This is more than okay, I love the specificity (^and ^you)! :D</p>\n",
        "        <p>I just pictured you babysitting and it amused me greatly. \n",
        "\n",
        "Thanks Dead! </p>\n",
        "        <p>&amp;lt;3</p>\n",
        "        <p>Verified!</p>\n",
        "        <p>Fancy meeting you here! Thank you Chardee! ;)</p>\n",
        "        <p>Thank you! We're still letting in the bad selfies taken with potatoes, though. :( We don't currently have any rules on photo quality. We're filtering out posts that break our other million rules ;)</p>\n",
        "        <p>Thank you!</p>\n",
        "        <p>Thank you!</p>\n",
        "        <p>Thanks! Glad you got some great art. </p>\n",
        "        <p>Thanks! However, had to remove your comment, since you are not an artist giving feedback to submitters about photos. :)</p>\n",
        "        <p>It's very okay! Thank you.\n",
        "\n",
        "</p>\n",
        "        <p>Okay, that's a fair question, however (and I am also not trying to piss you off, in all seriousness), we do ask that questions about modding, RGD rules, or mod decisions be addressed via modmail or via our monthly state of the union post, and the reason we ask this is because having long conversations like this tends to derail a thread and take the focus away from the art. However, it's my bday, and I'm modding, so I'm gonna just answer your question.\n",
        "\n",
        "You are correct that some artists may have already started working on a piece for your previous post. That's why it's SO IMPORTANT (!) to make sure your post follows all the rules, so that we don't have to remove it.\n",
        "\n",
        "When we come across a rule-breaking post, we have two options: leave it up, or take it down. My preference is to take it down. We are certainly within our rights to do so. To leave it up is like rewarding the rule-break, so to speak. We also have so many people who break our rules, that if we left all rule-breaking posts up, the front page would be full of them.\n",
        "\n",
        "Removing the post helps an OP learn. It's also frankly a slight form of punishment for not reading and following our rules before participating, the plea of which is posted in every place we can think to post it. \n",
        "\n",
        "However, if a post has received art, we will sometimes (if it is a lot of art) leave the post up. \n",
        "\n",
        "&amp;gt; isn't removing the post that already has a decent amount of up-votes (and potential artists) the same as if I deleted the post myself?\n",
        "\n",
        "No. The important part is that if you (or any OP) had read and followed the submission rules in the first place, this would never be an issue.\n",
        "\n",
        "For any further conversation about this, please message the moderators. Thank you!</p>\n",
        "      </p>\n",
        "    </div>\n",
        "  </body>\n",
        "</html>\n"
       ]
      }
     ],
     "prompt_number": 1563
    },
    {
     "cell_type": "code",
     "collapsed": false,
     "input": [
      "savmine = open('reddit.html', 'w')\n",
      "savmine.write(str(itwillbemine))\n",
      "savmine.close()"
     ],
     "language": "python",
     "metadata": {},
     "outputs": [],
     "prompt_number": 1564
    },
    {
     "cell_type": "code",
     "collapsed": false,
     "input": [
      "noizjson = json.dumps(dausr)"
     ],
     "language": "python",
     "metadata": {},
     "outputs": [],
     "prompt_number": 1565
    },
    {
     "cell_type": "code",
     "collapsed": false,
     "input": [
      "newposts = open('userurl.json', 'a')\n",
      "newposts.write(newzjson)\n",
      "print ('file userurl.json updated')\n",
      "newcomments = open('idcomt.json', 'a')\n",
      "newcomments.write(noizjson)\n",
      "print ('user comments updated')\n",
      "newposts.close()\n",
      "newcomments.close()"
     ],
     "language": "python",
     "metadata": {},
     "outputs": [
      {
       "output_type": "stream",
       "stream": "stdout",
       "text": [
        "file userurl.json updated\n",
        "user comments updated\n"
       ]
      }
     ],
     "prompt_number": 1566
    },
    {
     "cell_type": "code",
     "collapsed": false,
     "input": [
      "rdusr = str(con.author)\n"
     ],
     "language": "python",
     "metadata": {},
     "outputs": [],
     "prompt_number": 1567
    },
    {
     "cell_type": "code",
     "collapsed": false,
     "input": [
      "minelsz = []"
     ],
     "language": "python",
     "metadata": {},
     "outputs": [],
     "prompt_number": 1568
    },
    {
     "cell_type": "code",
     "collapsed": false,
     "input": [
      "#for mina in minels:\n",
      "    #print mina.body\n",
      "   # minelsz.append(mina.body)"
     ],
     "language": "python",
     "metadata": {},
     "outputs": [],
     "prompt_number": 1569
    },
    {
     "cell_type": "code",
     "collapsed": false,
     "input": [
      "#minelsz"
     ],
     "language": "python",
     "metadata": {},
     "outputs": [],
     "prompt_number": 1570
    },
    {
     "cell_type": "code",
     "collapsed": false,
     "input": [
      "#mina.body"
     ],
     "language": "python",
     "metadata": {},
     "outputs": [],
     "prompt_number": 1571
    },
    {
     "cell_type": "code",
     "collapsed": false,
     "input": [
      "import feedparser"
     ],
     "language": "python",
     "metadata": {},
     "outputs": [],
     "prompt_number": 1572
    },
    {
     "cell_type": "code",
     "collapsed": false,
     "input": [
      "mcs = feedparser.parse('http://mcsteffen.tumblr.com/rss')"
     ],
     "language": "python",
     "metadata": {},
     "outputs": [],
     "prompt_number": 1573
    },
    {
     "cell_type": "code",
     "collapsed": false,
     "input": [
      "emcs = mcs['entries']"
     ],
     "language": "python",
     "metadata": {},
     "outputs": [],
     "prompt_number": 1574
    },
    {
     "cell_type": "code",
     "collapsed": false,
     "input": [
      "for em in emcs:\n",
      "    print em"
     ],
     "language": "python",
     "metadata": {},
     "outputs": [
      {
       "output_type": "stream",
       "stream": "stdout",
       "text": [
        "{'summary_detail': {'base': u'http://mcsteffen.tumblr.com/rss', 'type': u'text/html', 'value': u'<img src=\"http://33.media.tumblr.com/5ce90c0f253d7d9ee4382f8c6e789520/tumblr_n9w96us1xs1t8sai5o1_500.jpg\" /><br /><br /><p>West Wendover Home</p>', 'language': None}, 'published_parsed': time.struct_time(tm_year=2014, tm_mon=8, tm_mday=6, tm_hour=16, tm_min=44, tm_sec=54, tm_wday=2, tm_yday=218, tm_isdst=0), 'links': [{'href': u'http://mcsteffen.tumblr.com/post/93980684024', 'type': u'text/html', 'rel': u'alternate'}], 'title': u'West Wendover Home', 'tags': [{'term': u'redditartistnetwork', 'scheme': None, 'label': None}, {'term': u'reddit artist network', 'scheme': None, 'label': None}, {'term': u'abandonedporn', 'scheme': None, 'label': None}, {'term': u'drawing', 'scheme': None, 'label': None}, {'term': u'acrylic', 'scheme': None, 'label': None}, {'term': u'wendover', 'scheme': None, 'label': None}, {'term': u'desert', 'scheme': None, 'label': None}, {'term': u'dusk', 'scheme': None, 'label': None}, {'term': u'utah', 'scheme': None, 'label': None}, {'term': u'landscspe', 'scheme': None, 'label': None}], 'summary': u'<img src=\"http://33.media.tumblr.com/5ce90c0f253d7d9ee4382f8c6e789520/tumblr_n9w96us1xs1t8sai5o1_500.jpg\" /><br /><br /><p>West Wendover Home</p>', 'guidislink': False, 'title_detail': {'base': u'http://mcsteffen.tumblr.com/rss', 'type': u'text/plain', 'value': u'West Wendover Home', 'language': None}, 'link': u'http://mcsteffen.tumblr.com/post/93980684024', 'published': u'Wed, 06 Aug 2014 12:44:54 -0400', 'id': u'http://mcsteffen.tumblr.com/post/93980684024'}\n",
        "{'summary_detail': {'base': u'http://mcsteffen.tumblr.com/rss', 'type': u'text/html', 'value': u'<img src=\"http://31.media.tumblr.com/11e436f1af1931cdaa3eb52ce80d4304/tumblr_n9pz76J7DB1t8sai5o1_500.jpg\" /><br /><br /><p>Rim Fire 2, 40 x 26\\xa01/2 inches, pencil and graphite on paper</p>', 'language': None}, 'published_parsed': time.struct_time(tm_year=2014, tm_mon=8, tm_mday=3, tm_hour=7, tm_min=23, tm_sec=30, tm_wday=6, tm_yday=215, tm_isdst=0), 'links': [{'href': u'http://mcsteffen.tumblr.com/post/93663063144', 'type': u'text/html', 'rel': u'alternate'}], 'title': u'Rim Fire 2, 40 x 26\\xa01/2 inches, pencil and graphite on...', 'tags': [{'term': u'landscapedrawing', 'scheme': None, 'label': None}, {'term': u'landscape drawing', 'scheme': None, 'label': None}, {'term': u'pencilandgraphite', 'scheme': None, 'label': None}, {'term': u'pencil', 'scheme': None, 'label': None}, {'term': u'artistlounge', 'scheme': None, 'label': None}, {'term': u'redditartistnetwork', 'scheme': None, 'label': None}, {'term': u'yosemite', 'scheme': None, 'label': None}, {'term': u'rim fire', 'scheme': None, 'label': None}, {'term': u'rimfire', 'scheme': None, 'label': None}, {'term': u'landscape', 'scheme': None, 'label': None}, {'term': u'reddit', 'scheme': None, 'label': None}, {'term': u'forestfire', 'scheme': None, 'label': None}, {'term': u'california', 'scheme': None, 'label': None}, {'term': u'drawing', 'scheme': None, 'label': None}], 'summary': u'<img src=\"http://31.media.tumblr.com/11e436f1af1931cdaa3eb52ce80d4304/tumblr_n9pz76J7DB1t8sai5o1_500.jpg\" /><br /><br /><p>Rim Fire 2, 40 x 26\\xa01/2 inches, pencil and graphite on paper</p>', 'guidislink': False, 'title_detail': {'base': u'http://mcsteffen.tumblr.com/rss', 'type': u'text/plain', 'value': u'Rim Fire 2, 40 x 26\\xa01/2 inches, pencil and graphite on...', 'language': None}, 'link': u'http://mcsteffen.tumblr.com/post/93663063144', 'published': u'Sun, 03 Aug 2014 03:23:30 -0400', 'id': u'http://mcsteffen.tumblr.com/post/93663063144'}\n",
        "{'summary_detail': {'base': u'http://mcsteffen.tumblr.com/rss', 'type': u'text/html', 'value': u'<img src=\"http://38.media.tumblr.com/f3817e5e8c03f24a535814e75c7203d2/tumblr_n9mzq4fl9R1t8sai5o1_500.jpg\" /><br /><br /><p>Rim Fire 1, pencil and graphite on paper</p>', 'language': None}, 'published_parsed': time.struct_time(tm_year=2014, tm_mon=8, tm_mday=1, tm_hour=16, tm_min=42, tm_sec=4, tm_wday=4, tm_yday=213, tm_isdst=0), 'links': [{'href': u'http://mcsteffen.tumblr.com/post/93509038514', 'type': u'text/html', 'rel': u'alternate'}], 'title': u'Rim Fire 1, pencil and graphite on paper', 'tags': [{'term': u'landscape', 'scheme': None, 'label': None}, {'term': u'landscape drawing', 'scheme': None, 'label': None}, {'term': u'rim fire', 'scheme': None, 'label': None}, {'term': u'rimfire', 'scheme': None, 'label': None}, {'term': u'yosemite', 'scheme': None, 'label': None}, {'term': u'california', 'scheme': None, 'label': None}, {'term': u'artist lounge', 'scheme': None, 'label': None}, {'term': u'redditartistnetwork', 'scheme': None, 'label': None}, {'term': u'reddit artist network', 'scheme': None, 'label': None}, {'term': u'drawing', 'scheme': None, 'label': None}, {'term': u'pencil drawing', 'scheme': None, 'label': None}, {'term': u'funisher', 'scheme': None, 'label': None}, {'term': u'hiking', 'scheme': None, 'label': None}, {'term': u'art', 'scheme': None, 'label': None}], 'summary': u'<img src=\"http://38.media.tumblr.com/f3817e5e8c03f24a535814e75c7203d2/tumblr_n9mzq4fl9R1t8sai5o1_500.jpg\" /><br /><br /><p>Rim Fire 1, pencil and graphite on paper</p>', 'guidislink': False, 'title_detail': {'base': u'http://mcsteffen.tumblr.com/rss', 'type': u'text/plain', 'value': u'Rim Fire 1, pencil and graphite on paper', 'language': None}, 'link': u'http://mcsteffen.tumblr.com/post/93509038514', 'published': u'Fri, 01 Aug 2014 12:42:04 -0400', 'id': u'http://mcsteffen.tumblr.com/post/93509038514'}\n",
        "{'summary_detail': {'base': u'http://mcsteffen.tumblr.com/rss', 'type': u'text/html', 'value': u'<img src=\"http://38.media.tumblr.com/018b0938fde692ff0ca2bc19db18bab4/tumblr_n85fm3Z6uq1qg45pdo1_500.jpg\" /><br /><br /><p><a class=\"tumblr_blog\" href=\"http://osaft.tumblr.com/post/90677710590/comedy-gold-with-mcsteffen-nottherogeruknow-and\">osaft</a>:</p>\\n\\n<blockquote><p>Comedy Gold with <a class=\"tumblelog\" href=\"http://tmblr.co/mrHolH0AaL0YBsXWUyZeEWQ\">mcsteffen</a> , <a class=\"tumblelog\" href=\"http://tmblr.co/mPPcQWm7xfpLmnCPFo36taQ\">nottherogeruknow</a> and moi<u><br /></u></p></blockquote>\\n\\nBringing it back the way it shoulda been! Beautiful drawing by the beautiful <a class=\"tumblelog\" href=\"http://tmblr.co/mvmqaltOPNXNRufmqAn2xBg\">osaft</a>!', 'language': None}, 'published_parsed': time.struct_time(tm_year=2014, tm_mon=7, tm_mday=3, tm_hour=18, tm_min=50, tm_sec=21, tm_wday=3, tm_yday=184, tm_isdst=0), 'links': [{'href': u'http://mcsteffen.tumblr.com/post/90678988129', 'type': u'text/html', 'rel': u'alternate'}], 'title': u'osaft:\\n\\nComedy Gold with mcsteffen , nottherogeruknow and...', 'tags': [{'term': u'TGAGAAPP', 'scheme': None, 'label': None}, {'term': u'2G1G1P', 'scheme': None, 'label': None}, {'term': u'cartooning', 'scheme': None, 'label': None}, {'term': u'roadtohollywood', 'scheme': None, 'label': None}, {'term': u'boobs', 'scheme': None, 'label': None}, {'term': u'bff', 'scheme': None, 'label': None}, {'term': u'comedygoldmine', 'scheme': None, 'label': None}], 'summary': u'<img src=\"http://38.media.tumblr.com/018b0938fde692ff0ca2bc19db18bab4/tumblr_n85fm3Z6uq1qg45pdo1_500.jpg\" /><br /><br /><p><a class=\"tumblr_blog\" href=\"http://osaft.tumblr.com/post/90677710590/comedy-gold-with-mcsteffen-nottherogeruknow-and\">osaft</a>:</p>\\n\\n<blockquote><p>Comedy Gold with <a class=\"tumblelog\" href=\"http://tmblr.co/mrHolH0AaL0YBsXWUyZeEWQ\">mcsteffen</a> , <a class=\"tumblelog\" href=\"http://tmblr.co/mPPcQWm7xfpLmnCPFo36taQ\">nottherogeruknow</a> and moi<u><br /></u></p></blockquote>\\n\\nBringing it back the way it shoulda been! Beautiful drawing by the beautiful <a class=\"tumblelog\" href=\"http://tmblr.co/mvmqaltOPNXNRufmqAn2xBg\">osaft</a>!', 'guidislink': False, 'title_detail': {'base': u'http://mcsteffen.tumblr.com/rss', 'type': u'text/plain', 'value': u'osaft:\\n\\nComedy Gold with mcsteffen , nottherogeruknow and...', 'language': None}, 'link': u'http://mcsteffen.tumblr.com/post/90678988129', 'published': u'Thu, 03 Jul 2014 14:50:21 -0400', 'id': u'http://mcsteffen.tumblr.com/post/90678988129'}\n",
        "{'summary_detail': {'base': u'http://mcsteffen.tumblr.com/rss', 'type': u'text/html', 'value': u'<img src=\"http://38.media.tumblr.com/4b193ced537b2169b7f3c64de342e768/tumblr_n83ohf0fzv1qg45pdo1_500.jpg\" /><br /> <br /><img src=\"http://37.media.tumblr.com/02275e50e6e4ed89676eb61e350575c0/tumblr_n83ohf0fzv1qg45pdo2_500.jpg\" /><br /> <br /><p>Portrait of\\xa0<a class=\"tumblelog\" href=\"http://tmblr.co/mdKApUvkTXycUmehUhDw4DA\">katlix</a>\\xa0and myself by the ridiculously talented and wonderful\\xa0<a class=\"tumblr_blog\" href=\"http://osaft.tumblr.com/post/90582945065/katlix-and-mcsteffen-3-3-3-3-3-3-3-3-3\">osaft</a>!</p>', 'language': None}, 'published_parsed': time.struct_time(tm_year=2014, tm_mon=7, tm_mday=3, tm_hour=6, tm_min=49, tm_sec=20, tm_wday=3, tm_yday=184, tm_isdst=0), 'links': [{'href': u'http://mcsteffen.tumblr.com/post/90637782104', 'type': u'text/html', 'rel': u'alternate'}], 'title': u'Portrait of\\xa0katlix\\xa0and myself by the ridiculously talented and...', 'tags': [{'term': u'reddit', 'scheme': None, 'label': None}, {'term': u'redditartistnetwork', 'scheme': None, 'label': None}, {'term': u'skateboarding', 'scheme': None, 'label': None}, {'term': u'portraiture', 'scheme': None, 'label': None}, {'term': u'batman', 'scheme': None, 'label': None}], 'summary': u'<img src=\"http://38.media.tumblr.com/4b193ced537b2169b7f3c64de342e768/tumblr_n83ohf0fzv1qg45pdo1_500.jpg\" /><br /> <br /><img src=\"http://37.media.tumblr.com/02275e50e6e4ed89676eb61e350575c0/tumblr_n83ohf0fzv1qg45pdo2_500.jpg\" /><br /> <br /><p>Portrait of\\xa0<a class=\"tumblelog\" href=\"http://tmblr.co/mdKApUvkTXycUmehUhDw4DA\">katlix</a>\\xa0and myself by the ridiculously talented and wonderful\\xa0<a class=\"tumblr_blog\" href=\"http://osaft.tumblr.com/post/90582945065/katlix-and-mcsteffen-3-3-3-3-3-3-3-3-3\">osaft</a>!</p>', 'guidislink': False, 'title_detail': {'base': u'http://mcsteffen.tumblr.com/rss', 'type': u'text/plain', 'value': u'Portrait of\\xa0katlix\\xa0and myself by the ridiculously talented and...', 'language': None}, 'link': u'http://mcsteffen.tumblr.com/post/90637782104', 'published': u'Thu, 03 Jul 2014 02:49:20 -0400', 'id': u'http://mcsteffen.tumblr.com/post/90637782104'}\n",
        "{'summary_detail': {'base': u'http://mcsteffen.tumblr.com/rss', 'type': u'text/html', 'value': u'<img src=\"http://31.media.tumblr.com/03a08772c9c3cbea84383f5a27eb2c43/tumblr_n6zybli8gr1t8sai5o1_500.jpg\" /><br /><br /><p>Portrait of /u/Daven2ude</p>', 'language': None}, 'published_parsed': time.struct_time(tm_year=2014, tm_mon=6, tm_mday=11, tm_hour=8, tm_min=59, tm_sec=45, tm_wday=2, tm_yday=162, tm_isdst=0), 'links': [{'href': u'http://mcsteffen.tumblr.com/post/88459616224', 'type': u'text/html', 'rel': u'alternate'}], 'title': u'Portrait of /u/Daven2ude', 'tags': [{'term': u'RedditGetsDrawn', 'scheme': None, 'label': None}, {'term': u'copic markers', 'scheme': None, 'label': None}, {'term': u'prismacolor markers', 'scheme': None, 'label': None}, {'term': u'prismacolor', 'scheme': None, 'label': None}, {'term': u'copic', 'scheme': None, 'label': None}, {'term': u'pencil', 'scheme': None, 'label': None}, {'term': u'portraiture', 'scheme': None, 'label': None}, {'term': u'drawing', 'scheme': None, 'label': None}, {'term': u'sketching', 'scheme': None, 'label': None}, {'term': u'reddit', 'scheme': None, 'label': None}, {'term': u'redditartistnetwork', 'scheme': None, 'label': None}], 'summary': u'<img src=\"http://31.media.tumblr.com/03a08772c9c3cbea84383f5a27eb2c43/tumblr_n6zybli8gr1t8sai5o1_500.jpg\" /><br /><br /><p>Portrait of /u/Daven2ude</p>', 'guidislink': False, 'title_detail': {'base': u'http://mcsteffen.tumblr.com/rss', 'type': u'text/plain', 'value': u'Portrait of /u/Daven2ude', 'language': None}, 'link': u'http://mcsteffen.tumblr.com/post/88459616224', 'published': u'Wed, 11 Jun 2014 04:59:45 -0400', 'id': u'http://mcsteffen.tumblr.com/post/88459616224'}\n",
        "{'summary_detail': {'base': u'http://mcsteffen.tumblr.com/rss', 'type': u'text/html', 'value': u'<img src=\"http://31.media.tumblr.com/c062a07836c7873309643aacebb03409/tumblr_n6tvo9efMl1t8sai5o1_500.jpg\" /><br /><br /><p>Portrait of /u/ChardeeMacdennisTime. \\xa0Pencil and Marker on paper.</p>', 'language': None}, 'published_parsed': time.struct_time(tm_year=2014, tm_mon=6, tm_mday=8, tm_hour=2, tm_min=16, tm_sec=57, tm_wday=6, tm_yday=159, tm_isdst=0), 'links': [{'href': u'http://mcsteffen.tumblr.com/post/88132869394', 'type': u'text/html', 'rel': u'alternate'}], 'title': u'Portrait of /u/ChardeeMacdennisTime. \\xa0Pencil and Marker on...', 'tags': [{'term': u'redditartistnetwork', 'scheme': None, 'label': None}, {'term': u'redditgetsdrawn', 'scheme': None, 'label': None}, {'term': u'artistlounge', 'scheme': None, 'label': None}, {'term': u'reddit', 'scheme': None, 'label': None}, {'term': u'portraiture', 'scheme': None, 'label': None}, {'term': u'copic', 'scheme': None, 'label': None}, {'term': u'markers', 'scheme': None, 'label': None}, {'term': u'prismacolor', 'scheme': None, 'label': None}, {'term': u'pencil', 'scheme': None, 'label': None}, {'term': u'sketching', 'scheme': None, 'label': None}, {'term': u'copicmarkers', 'scheme': None, 'label': None}, {'term': u'copic markers', 'scheme': None, 'label': None}, {'term': u'rgd', 'scheme': None, 'label': None}], 'summary': u'<img src=\"http://31.media.tumblr.com/c062a07836c7873309643aacebb03409/tumblr_n6tvo9efMl1t8sai5o1_500.jpg\" /><br /><br /><p>Portrait of /u/ChardeeMacdennisTime. \\xa0Pencil and Marker on paper.</p>', 'guidislink': False, 'title_detail': {'base': u'http://mcsteffen.tumblr.com/rss', 'type': u'text/plain', 'value': u'Portrait of /u/ChardeeMacdennisTime. \\xa0Pencil and Marker on...', 'language': None}, 'link': u'http://mcsteffen.tumblr.com/post/88132869394', 'published': u'Sat, 07 Jun 2014 22:16:57 -0400', 'id': u'http://mcsteffen.tumblr.com/post/88132869394'}\n",
        "{'summary_detail': {'base': u'http://mcsteffen.tumblr.com/rss', 'type': u'text/html', 'value': u'<img src=\"http://38.media.tumblr.com/8dc9075b558c521c5a7afe521142cc34/tumblr_n51kxtcIOC1t8sai5o1_500.jpg\" /><br /><br /><p>Portrait of /u/yomatz</p>', 'language': None}, 'published_parsed': time.struct_time(tm_year=2014, tm_mon=5, tm_mday=4, tm_hour=8, tm_min=58, tm_sec=41, tm_wday=6, tm_yday=124, tm_isdst=0), 'links': [{'href': u'http://mcsteffen.tumblr.com/post/84702067334', 'type': u'text/html', 'rel': u'alternate'}], 'title': u'Portrait of /u/yomatz', 'tags': [{'term': u'redditgetsdrawn rgd portraiture drawing', 'scheme': None, 'label': None}], 'summary': u'<img src=\"http://38.media.tumblr.com/8dc9075b558c521c5a7afe521142cc34/tumblr_n51kxtcIOC1t8sai5o1_500.jpg\" /><br /><br /><p>Portrait of /u/yomatz</p>', 'guidislink': False, 'title_detail': {'base': u'http://mcsteffen.tumblr.com/rss', 'type': u'text/plain', 'value': u'Portrait of /u/yomatz', 'language': None}, 'link': u'http://mcsteffen.tumblr.com/post/84702067334', 'published': u'Sun, 04 May 2014 04:58:41 -0400', 'id': u'http://mcsteffen.tumblr.com/post/84702067334'}\n",
        "{'summary_detail': {'base': u'http://mcsteffen.tumblr.com/rss', 'type': u'text/html', 'value': u'<img src=\"http://38.media.tumblr.com/b8480ba389be6572f4bf08141eac6ce5/tumblr_n3e72pVmaq1t8sai5o1_500.jpg\" /><br /><br /><p>/u/ItWillBeMine</p>', 'language': None}, 'published_parsed': time.struct_time(tm_year=2014, tm_mon=4, tm_mday=2, tm_hour=7, tm_min=20, tm_sec=49, tm_wday=2, tm_yday=92, tm_isdst=0), 'links': [{'href': u'http://mcsteffen.tumblr.com/post/81470400358', 'type': u'text/html', 'rel': u'alternate'}], 'title': u'/u/ItWillBeMine', 'tags': [{'term': u'RedditGetsDrawn', 'scheme': None, 'label': None}, {'term': u'/r/redditgetsdrawn', 'scheme': None, 'label': None}, {'term': u'RGD', 'scheme': None, 'label': None}, {'term': u'portraiture', 'scheme': None, 'label': None}, {'term': u'drawing', 'scheme': None, 'label': None}, {'term': u'funisher', 'scheme': None, 'label': None}], 'summary': u'<img src=\"http://38.media.tumblr.com/b8480ba389be6572f4bf08141eac6ce5/tumblr_n3e72pVmaq1t8sai5o1_500.jpg\" /><br /><br /><p>/u/ItWillBeMine</p>', 'guidislink': False, 'title_detail': {'base': u'http://mcsteffen.tumblr.com/rss', 'type': u'text/plain', 'value': u'/u/ItWillBeMine', 'language': None}, 'link': u'http://mcsteffen.tumblr.com/post/81470400358', 'published': u'Wed, 02 Apr 2014 03:20:49 -0400', 'id': u'http://mcsteffen.tumblr.com/post/81470400358'}\n",
        "{'summary_detail': {'base': u'http://mcsteffen.tumblr.com/rss', 'type': u'text/html', 'value': u'<img src=\"http://37.media.tumblr.com/32e94e70b0921e15d1725566cef13f33/tumblr_n37ymbeLeI1t8sai5o1_500.jpg\" /><br /><br /><p>/u/curiousnonsense\\u2019s great uncle</p>', 'language': None}, 'published_parsed': time.struct_time(tm_year=2014, tm_mon=3, tm_mday=29, tm_hour=22, tm_min=32, tm_sec=35, tm_wday=5, tm_yday=88, tm_isdst=0), 'links': [{'href': u'http://mcsteffen.tumblr.com/post/81117377637', 'type': u'text/html', 'rel': u'alternate'}], 'title': u'/u/curiousnonsense\\u2019s great uncle', 'tags': [{'term': u'RGD', 'scheme': None, 'label': None}, {'term': u'RedditGetsDrawn', 'scheme': None, 'label': None}, {'term': u'funisher', 'scheme': None, 'label': None}, {'term': u'/r/redditgetsdrawn', 'scheme': None, 'label': None}, {'term': u'portraiture', 'scheme': None, 'label': None}, {'term': u'drawing', 'scheme': None, 'label': None}, {'term': u'markers', 'scheme': None, 'label': None}, {'term': u'prismacolor', 'scheme': None, 'label': None}, {'term': u'prismacolor markers', 'scheme': None, 'label': None}], 'summary': u'<img src=\"http://37.media.tumblr.com/32e94e70b0921e15d1725566cef13f33/tumblr_n37ymbeLeI1t8sai5o1_500.jpg\" /><br /><br /><p>/u/curiousnonsense\\u2019s great uncle</p>', 'guidislink': False, 'title_detail': {'base': u'http://mcsteffen.tumblr.com/rss', 'type': u'text/plain', 'value': u'/u/curiousnonsense\\u2019s great uncle', 'language': None}, 'link': u'http://mcsteffen.tumblr.com/post/81117377637', 'published': u'Sat, 29 Mar 2014 18:32:35 -0400', 'id': u'http://mcsteffen.tumblr.com/post/81117377637'}\n",
        "{'summary_detail': {'base': u'http://mcsteffen.tumblr.com/rss', 'type': u'text/html', 'value': u'<img src=\"http://38.media.tumblr.com/b60cb65ab4e60dfeb32e7b24432a7be3/tumblr_n2svjsIgTY1t8sai5o1_500.jpg\" /><br /><br /><p>Recent landscape commission</p>', 'language': None}, 'published_parsed': time.struct_time(tm_year=2014, tm_mon=3, tm_mday=21, tm_hour=19, tm_min=2, tm_sec=16, tm_wday=4, tm_yday=80, tm_isdst=0), 'links': [{'href': u'http://mcsteffen.tumblr.com/post/80280221308', 'type': u'text/html', 'rel': u'alternate'}], 'title': u'Recent landscape commission', 'tags': [{'term': u'new zealand', 'scheme': None, 'label': None}, {'term': u'oil painting', 'scheme': None, 'label': None}, {'term': u'painting', 'scheme': None, 'label': None}, {'term': u'landscape painting', 'scheme': None, 'label': None}, {'term': u'art commission', 'scheme': None, 'label': None}], 'summary': u'<img src=\"http://38.media.tumblr.com/b60cb65ab4e60dfeb32e7b24432a7be3/tumblr_n2svjsIgTY1t8sai5o1_500.jpg\" /><br /><br /><p>Recent landscape commission</p>', 'guidislink': False, 'title_detail': {'base': u'http://mcsteffen.tumblr.com/rss', 'type': u'text/plain', 'value': u'Recent landscape commission', 'language': None}, 'link': u'http://mcsteffen.tumblr.com/post/80280221308', 'published': u'Fri, 21 Mar 2014 15:02:16 -0400', 'id': u'http://mcsteffen.tumblr.com/post/80280221308'}\n",
        "{'summary_detail': {'base': u'http://mcsteffen.tumblr.com/rss', 'type': u'text/html', 'value': u'<img src=\"http://31.media.tumblr.com/875be53500ea4b979a58a09f5b940a76/tumblr_n2rd5gI4M41t8sai5o1_500.jpg\" /><br /><br /><p>/u/Catness_NeverClean from /r/prettygirlsuglyfaces</p>', 'language': None}, 'published_parsed': time.struct_time(tm_year=2014, tm_mon=3, tm_mday=20, tm_hour=23, tm_min=27, tm_sec=16, tm_wday=3, tm_yday=79, tm_isdst=0), 'links': [{'href': u'http://mcsteffen.tumblr.com/post/80208053307', 'type': u'text/html', 'rel': u'alternate'}], 'title': u'/u/Catness_NeverClean from /r/prettygirlsuglyfaces', 'tags': [{'term': u'drawing', 'scheme': None, 'label': None}, {'term': u'portrait', 'scheme': None, 'label': None}, {'term': u'funisher', 'scheme': None, 'label': None}, {'term': u'PrettyGirlsUglyFaces', 'scheme': None, 'label': None}, {'term': u'reddit', 'scheme': None, 'label': None}], 'summary': u'<img src=\"http://31.media.tumblr.com/875be53500ea4b979a58a09f5b940a76/tumblr_n2rd5gI4M41t8sai5o1_500.jpg\" /><br /><br /><p>/u/Catness_NeverClean from /r/prettygirlsuglyfaces</p>', 'guidislink': False, 'title_detail': {'base': u'http://mcsteffen.tumblr.com/rss', 'type': u'text/plain', 'value': u'/u/Catness_NeverClean from /r/prettygirlsuglyfaces', 'language': None}, 'link': u'http://mcsteffen.tumblr.com/post/80208053307', 'published': u'Thu, 20 Mar 2014 19:27:16 -0400', 'id': u'http://mcsteffen.tumblr.com/post/80208053307'}\n",
        "{'summary_detail': {'base': u'http://mcsteffen.tumblr.com/rss', 'type': u'text/html', 'value': u'<img src=\"http://33.media.tumblr.com/4a9f14996a9a6be04c3ec5644fa1b661/tumblr_n2r4ntnY4F1t8sai5o1_500.jpg\" /><br /><br /><p>/u/Hotnonsense\\u2019s daughter from /r/redditgetsdrawn</p>', 'language': None}, 'published_parsed': time.struct_time(tm_year=2014, tm_mon=3, tm_mday=20, tm_hour=20, tm_min=23, tm_sec=53, tm_wday=3, tm_yday=79, tm_isdst=0), 'links': [{'href': u'http://mcsteffen.tumblr.com/post/80190751038', 'type': u'text/html', 'rel': u'alternate'}], 'title': u'/u/Hotnonsense\\u2019s daughter from /r/redditgetsdrawn', 'tags': [{'term': u'RGD', 'scheme': None, 'label': None}, {'term': u'RedditGetsDrawn', 'scheme': None, 'label': None}, {'term': u'portraiture', 'scheme': None, 'label': None}, {'term': u'funisher', 'scheme': None, 'label': None}, {'term': u'drawing', 'scheme': None, 'label': None}], 'summary': u'<img src=\"http://33.media.tumblr.com/4a9f14996a9a6be04c3ec5644fa1b661/tumblr_n2r4ntnY4F1t8sai5o1_500.jpg\" /><br /><br /><p>/u/Hotnonsense\\u2019s daughter from /r/redditgetsdrawn</p>', 'guidislink': False, 'title_detail': {'base': u'http://mcsteffen.tumblr.com/rss', 'type': u'text/plain', 'value': u'/u/Hotnonsense\\u2019s daughter from /r/redditgetsdrawn', 'language': None}, 'link': u'http://mcsteffen.tumblr.com/post/80190751038', 'published': u'Thu, 20 Mar 2014 16:23:53 -0400', 'id': u'http://mcsteffen.tumblr.com/post/80190751038'}\n",
        "{'summary_detail': {'base': u'http://mcsteffen.tumblr.com/rss', 'type': u'text/html', 'value': u'<img src=\"http://33.media.tumblr.com/eb3c44b5249af01c4b6e77e87056ca4d/tumblr_n29gvzgNdO1t8sai5o1_500.jpg\" /><br /><br /><p>/u/blackzao</p>', 'language': None}, 'published_parsed': time.struct_time(tm_year=2014, tm_mon=3, tm_mday=11, tm_hour=7, tm_min=31, tm_sec=11, tm_wday=1, tm_yday=70, tm_isdst=0), 'links': [{'href': u'http://mcsteffen.tumblr.com/post/79247221533', 'type': u'text/html', 'rel': u'alternate'}], 'title': u'/u/blackzao', 'tags': [{'term': u'portraiture', 'scheme': None, 'label': None}, {'term': u'RedditGetsDrawn', 'scheme': None, 'label': None}, {'term': u'/r/redditgetsdrawn', 'scheme': None, 'label': None}, {'term': u'RGD', 'scheme': None, 'label': None}, {'term': u'funisher', 'scheme': None, 'label': None}, {'term': u'mike steffen', 'scheme': None, 'label': None}], 'summary': u'<img src=\"http://33.media.tumblr.com/eb3c44b5249af01c4b6e77e87056ca4d/tumblr_n29gvzgNdO1t8sai5o1_500.jpg\" /><br /><br /><p>/u/blackzao</p>', 'guidislink': False, 'title_detail': {'base': u'http://mcsteffen.tumblr.com/rss', 'type': u'text/plain', 'value': u'/u/blackzao', 'language': None}, 'link': u'http://mcsteffen.tumblr.com/post/79247221533', 'published': u'Tue, 11 Mar 2014 03:31:11 -0400', 'id': u'http://mcsteffen.tumblr.com/post/79247221533'}\n",
        "{'summary_detail': {'base': u'http://mcsteffen.tumblr.com/rss', 'type': u'text/html', 'value': u'<img src=\"http://31.media.tumblr.com/47e18d37bf3cc77af96cec189afff66a/tumblr_n28b4rv12K1t8sai5o1_500.jpg\" /><br /><br /><p>Portrait of Melvin</p>', 'language': None}, 'published_parsed': time.struct_time(tm_year=2014, tm_mon=3, tm_mday=10, tm_hour=16, tm_min=29, tm_sec=15, tm_wday=0, tm_yday=69, tm_isdst=0), 'links': [{'href': u'http://mcsteffen.tumblr.com/post/79172519099', 'type': u'text/html', 'rel': u'alternate'}], 'title': u'Portrait of Melvin', 'tags': [{'term': u'RGD', 'scheme': None, 'label': None}, {'term': u'/r/redditgetsdrawn', 'scheme': None, 'label': None}, {'term': u'RedditGetsDrawn', 'scheme': None, 'label': None}, {'term': u'/r/artistlounge', 'scheme': None, 'label': None}, {'term': u'artistlounge', 'scheme': None, 'label': None}, {'term': u'portraiture', 'scheme': None, 'label': None}, {'term': u'drawing', 'scheme': None, 'label': None}, {'term': u'mike steffen', 'scheme': None, 'label': None}, {'term': u'funisher', 'scheme': None, 'label': None}], 'summary': u'<img src=\"http://31.media.tumblr.com/47e18d37bf3cc77af96cec189afff66a/tumblr_n28b4rv12K1t8sai5o1_500.jpg\" /><br /><br /><p>Portrait of Melvin</p>', 'guidislink': False, 'title_detail': {'base': u'http://mcsteffen.tumblr.com/rss', 'type': u'text/plain', 'value': u'Portrait of Melvin', 'language': None}, 'link': u'http://mcsteffen.tumblr.com/post/79172519099', 'published': u'Mon, 10 Mar 2014 12:29:15 -0400', 'id': u'http://mcsteffen.tumblr.com/post/79172519099'}\n",
        "{'summary_detail': {'base': u'http://mcsteffen.tumblr.com/rss', 'type': u'text/html', 'value': u'<br /><br /><p>Newb School: Episode Fucked Up</p>', 'language': None}, 'published_parsed': time.struct_time(tm_year=2014, tm_mon=3, tm_mday=9, tm_hour=10, tm_min=55, tm_sec=5, tm_wday=6, tm_yday=68, tm_isdst=0), 'links': [{'href': u'http://mcsteffen.tumblr.com/post/79044786476', 'type': u'text/html', 'rel': u'alternate'}], 'title': u'Newb School: Episode Fucked Up', 'tags': [{'term': u'/r/redditgetsdrawn', 'scheme': None, 'label': None}, {'term': u'RedditGetsDrawn', 'scheme': None, 'label': None}, {'term': u'/r/artistlounge', 'scheme': None, 'label': None}, {'term': u'rgd', 'scheme': None, 'label': None}, {'term': u'mike steffen', 'scheme': None, 'label': None}, {'term': u'art', 'scheme': None, 'label': None}, {'term': u'instructional', 'scheme': None, 'label': None}, {'term': u'artistlounge', 'scheme': None, 'label': None}, {'term': u'funisher', 'scheme': None, 'label': None}], 'summary': u'<br /><br /><p>Newb School: Episode Fucked Up</p>', 'guidislink': False, 'title_detail': {'base': u'http://mcsteffen.tumblr.com/rss', 'type': u'text/plain', 'value': u'Newb School: Episode Fucked Up', 'language': None}, 'link': u'http://mcsteffen.tumblr.com/post/79044786476', 'published': u'Sun, 09 Mar 2014 06:55:05 -0400', 'id': u'http://mcsteffen.tumblr.com/post/79044786476'}\n",
        "{'summary_detail': {'base': u'http://mcsteffen.tumblr.com/rss', 'type': u'text/html', 'value': u'<img src=\"http://31.media.tumblr.com/b89cc31d9ca0510c9a078ad67ead8975/tumblr_n1s51zhZlt1t8sai5o1_500.jpg\" /><br /><br /><p>First time hanging this in a show. :)</p>', 'language': None}, 'published_parsed': time.struct_time(tm_year=2014, tm_mon=3, tm_mday=1, tm_hour=22, tm_min=56, tm_sec=22, tm_wday=5, tm_yday=60, tm_isdst=0), 'links': [{'href': u'http://mcsteffen.tumblr.com/post/78255101926', 'type': u'text/html', 'rel': u'alternate'}], 'title': u'First time hanging this in a show. :)', 'tags': [{'term': u'ntropic', 'scheme': None, 'label': None}, {'term': u'landscape painting', 'scheme': None, 'label': None}, {'term': u'mike steffen', 'scheme': None, 'label': None}, {'term': u'art', 'scheme': None, 'label': None}], 'summary': u'<img src=\"http://31.media.tumblr.com/b89cc31d9ca0510c9a078ad67ead8975/tumblr_n1s51zhZlt1t8sai5o1_500.jpg\" /><br /><br /><p>First time hanging this in a show. :)</p>', 'guidislink': False, 'title_detail': {'base': u'http://mcsteffen.tumblr.com/rss', 'type': u'text/plain', 'value': u'First time hanging this in a show. :)', 'language': None}, 'link': u'http://mcsteffen.tumblr.com/post/78255101926', 'published': u'Sat, 01 Mar 2014 17:56:22 -0500', 'id': u'http://mcsteffen.tumblr.com/post/78255101926'}\n",
        "{'summary_detail': {'base': u'http://mcsteffen.tumblr.com/rss', 'type': u'text/html', 'value': u'<img src=\"http://38.media.tumblr.com/a2d384e4b9959edf9d806c1d28f46ee2/tumblr_n1p09uo6Fn1t8sai5o1_500.jpg\" /><br /><br /><p>Sketch of /u/arretez\\u2019s friend</p>', 'language': None}, 'published_parsed': time.struct_time(tm_year=2014, tm_mon=2, tm_mday=28, tm_hour=6, tm_min=20, tm_sec=18, tm_wday=4, tm_yday=59, tm_isdst=0), 'links': [{'href': u'http://mcsteffen.tumblr.com/post/78086866029', 'type': u'text/html', 'rel': u'alternate'}], 'title': u'Sketch of /u/arretez\\u2019s friend', 'tags': [{'term': u'RGD', 'scheme': None, 'label': None}, {'term': u'/r/artistlounge', 'scheme': None, 'label': None}, {'term': u'/r/redditgetsdrawn', 'scheme': None, 'label': None}, {'term': u'redditgetsdrawn', 'scheme': None, 'label': None}, {'term': u'funisher', 'scheme': None, 'label': None}, {'term': u'mike steffen', 'scheme': None, 'label': None}, {'term': u'sketch', 'scheme': None, 'label': None}, {'term': u'art', 'scheme': None, 'label': None}], 'summary': u'<img src=\"http://38.media.tumblr.com/a2d384e4b9959edf9d806c1d28f46ee2/tumblr_n1p09uo6Fn1t8sai5o1_500.jpg\" /><br /><br /><p>Sketch of /u/arretez\\u2019s friend</p>', 'guidislink': False, 'title_detail': {'base': u'http://mcsteffen.tumblr.com/rss', 'type': u'text/plain', 'value': u'Sketch of /u/arretez\\u2019s friend', 'language': None}, 'link': u'http://mcsteffen.tumblr.com/post/78086866029', 'published': u'Fri, 28 Feb 2014 01:20:18 -0500', 'id': u'http://mcsteffen.tumblr.com/post/78086866029'}\n",
        "{'summary_detail': {'base': u'http://mcsteffen.tumblr.com/rss', 'type': u'text/html', 'value': u'<img src=\"http://31.media.tumblr.com/67b29f3fa6e636fa938d66c6bd87e392/tumblr_mz8djw4VLL1t8sai5o1_500.jpg\" /><br /><br /><p>/u/Birdynumnums1, pencil on paper</p>', 'language': None}, 'published_parsed': time.struct_time(tm_year=2014, tm_mon=1, tm_mday=11, tm_hour=9, tm_min=40, tm_sec=44, tm_wday=5, tm_yday=11, tm_isdst=0), 'links': [{'href': u'http://mcsteffen.tumblr.com/post/72961361062', 'type': u'text/html', 'rel': u'alternate'}], 'title': u'/u/Birdynumnums1, pencil on paper', 'tags': [{'term': u'rgd', 'scheme': None, 'label': None}, {'term': u'/r/redditgetsdrawn', 'scheme': None, 'label': None}, {'term': u'/r/artistlounge', 'scheme': None, 'label': None}, {'term': u'funisher', 'scheme': None, 'label': None}, {'term': u'mike steffen', 'scheme': None, 'label': None}, {'term': u'drawing', 'scheme': None, 'label': None}, {'term': u'art', 'scheme': None, 'label': None}, {'term': u'portraiture', 'scheme': None, 'label': None}], 'summary': u'<img src=\"http://31.media.tumblr.com/67b29f3fa6e636fa938d66c6bd87e392/tumblr_mz8djw4VLL1t8sai5o1_500.jpg\" /><br /><br /><p>/u/Birdynumnums1, pencil on paper</p>', 'guidislink': False, 'title_detail': {'base': u'http://mcsteffen.tumblr.com/rss', 'type': u'text/plain', 'value': u'/u/Birdynumnums1, pencil on paper', 'language': None}, 'link': u'http://mcsteffen.tumblr.com/post/72961361062', 'published': u'Sat, 11 Jan 2014 04:40:44 -0500', 'id': u'http://mcsteffen.tumblr.com/post/72961361062'}\n",
        "{'summary_detail': {'base': u'http://mcsteffen.tumblr.com/rss', 'type': u'text/html', 'value': u'<img src=\"http://31.media.tumblr.com/e7e60139d8fe58d4d82942998e55000b/tumblr_mz8dh8zvR11t8sai5o1_500.jpg\" /><br /><br /><p>/u/Internet_Exploder, Oil on Wood Panel, 14 x 11 inches</p>', 'language': None}, 'published_parsed': time.struct_time(tm_year=2014, tm_mon=1, tm_mday=11, tm_hour=9, tm_min=39, tm_sec=8, tm_wday=5, tm_yday=11, tm_isdst=0), 'links': [{'href': u'http://mcsteffen.tumblr.com/post/72961290241', 'type': u'text/html', 'rel': u'alternate'}], 'title': u'/u/Internet_Exploder, Oil on Wood Panel, 14 x 11 inches', 'tags': [{'term': u'RGD', 'scheme': None, 'label': None}, {'term': u'/r/redditgetsdrawn', 'scheme': None, 'label': None}, {'term': u'/r/artistlounge', 'scheme': None, 'label': None}, {'term': u'art', 'scheme': None, 'label': None}, {'term': u'mike steffen', 'scheme': None, 'label': None}, {'term': u'funisher', 'scheme': None, 'label': None}], 'summary': u'<img src=\"http://31.media.tumblr.com/e7e60139d8fe58d4d82942998e55000b/tumblr_mz8dh8zvR11t8sai5o1_500.jpg\" /><br /><br /><p>/u/Internet_Exploder, Oil on Wood Panel, 14 x 11 inches</p>', 'guidislink': False, 'title_detail': {'base': u'http://mcsteffen.tumblr.com/rss', 'type': u'text/plain', 'value': u'/u/Internet_Exploder, Oil on Wood Panel, 14 x 11 inches', 'language': None}, 'link': u'http://mcsteffen.tumblr.com/post/72961290241', 'published': u'Sat, 11 Jan 2014 04:39:08 -0500', 'id': u'http://mcsteffen.tumblr.com/post/72961290241'}\n"
       ]
      }
     ],
     "prompt_number": 1575
    },
    {
     "cell_type": "code",
     "collapsed": false,
     "input": [
      "tumlis = []"
     ],
     "language": "python",
     "metadata": {},
     "outputs": [],
     "prompt_number": 1576
    },
    {
     "cell_type": "code",
     "collapsed": false,
     "input": [
      "for em in emcs:\n",
      "    tumlis.append((em['summary_detail']['value']))\n",
      "    "
     ],
     "language": "python",
     "metadata": {},
     "outputs": [],
     "prompt_number": 1577
    },
    {
     "cell_type": "code",
     "collapsed": false,
     "input": [
      "tumlis"
     ],
     "language": "python",
     "metadata": {},
     "outputs": [
      {
       "metadata": {},
       "output_type": "pyout",
       "prompt_number": 1578,
       "text": [
        "[u'<img src=\"http://33.media.tumblr.com/5ce90c0f253d7d9ee4382f8c6e789520/tumblr_n9w96us1xs1t8sai5o1_500.jpg\" /><br /><br /><p>West Wendover Home</p>',\n",
        " u'<img src=\"http://31.media.tumblr.com/11e436f1af1931cdaa3eb52ce80d4304/tumblr_n9pz76J7DB1t8sai5o1_500.jpg\" /><br /><br /><p>Rim Fire 2, 40 x 26\\xa01/2 inches, pencil and graphite on paper</p>',\n",
        " u'<img src=\"http://38.media.tumblr.com/f3817e5e8c03f24a535814e75c7203d2/tumblr_n9mzq4fl9R1t8sai5o1_500.jpg\" /><br /><br /><p>Rim Fire 1, pencil and graphite on paper</p>',\n",
        " u'<img src=\"http://38.media.tumblr.com/018b0938fde692ff0ca2bc19db18bab4/tumblr_n85fm3Z6uq1qg45pdo1_500.jpg\" /><br /><br /><p><a class=\"tumblr_blog\" href=\"http://osaft.tumblr.com/post/90677710590/comedy-gold-with-mcsteffen-nottherogeruknow-and\">osaft</a>:</p>\\n\\n<blockquote><p>Comedy Gold with <a class=\"tumblelog\" href=\"http://tmblr.co/mrHolH0AaL0YBsXWUyZeEWQ\">mcsteffen</a> , <a class=\"tumblelog\" href=\"http://tmblr.co/mPPcQWm7xfpLmnCPFo36taQ\">nottherogeruknow</a> and moi<u><br /></u></p></blockquote>\\n\\nBringing it back the way it shoulda been! Beautiful drawing by the beautiful <a class=\"tumblelog\" href=\"http://tmblr.co/mvmqaltOPNXNRufmqAn2xBg\">osaft</a>!',\n",
        " u'<img src=\"http://38.media.tumblr.com/4b193ced537b2169b7f3c64de342e768/tumblr_n83ohf0fzv1qg45pdo1_500.jpg\" /><br /> <br /><img src=\"http://37.media.tumblr.com/02275e50e6e4ed89676eb61e350575c0/tumblr_n83ohf0fzv1qg45pdo2_500.jpg\" /><br /> <br /><p>Portrait of\\xa0<a class=\"tumblelog\" href=\"http://tmblr.co/mdKApUvkTXycUmehUhDw4DA\">katlix</a>\\xa0and myself by the ridiculously talented and wonderful\\xa0<a class=\"tumblr_blog\" href=\"http://osaft.tumblr.com/post/90582945065/katlix-and-mcsteffen-3-3-3-3-3-3-3-3-3\">osaft</a>!</p>',\n",
        " u'<img src=\"http://31.media.tumblr.com/03a08772c9c3cbea84383f5a27eb2c43/tumblr_n6zybli8gr1t8sai5o1_500.jpg\" /><br /><br /><p>Portrait of /u/Daven2ude</p>',\n",
        " u'<img src=\"http://31.media.tumblr.com/c062a07836c7873309643aacebb03409/tumblr_n6tvo9efMl1t8sai5o1_500.jpg\" /><br /><br /><p>Portrait of /u/ChardeeMacdennisTime. \\xa0Pencil and Marker on paper.</p>',\n",
        " u'<img src=\"http://38.media.tumblr.com/8dc9075b558c521c5a7afe521142cc34/tumblr_n51kxtcIOC1t8sai5o1_500.jpg\" /><br /><br /><p>Portrait of /u/yomatz</p>',\n",
        " u'<img src=\"http://38.media.tumblr.com/b8480ba389be6572f4bf08141eac6ce5/tumblr_n3e72pVmaq1t8sai5o1_500.jpg\" /><br /><br /><p>/u/ItWillBeMine</p>',\n",
        " u'<img src=\"http://37.media.tumblr.com/32e94e70b0921e15d1725566cef13f33/tumblr_n37ymbeLeI1t8sai5o1_500.jpg\" /><br /><br /><p>/u/curiousnonsense\\u2019s great uncle</p>',\n",
        " u'<img src=\"http://38.media.tumblr.com/b60cb65ab4e60dfeb32e7b24432a7be3/tumblr_n2svjsIgTY1t8sai5o1_500.jpg\" /><br /><br /><p>Recent landscape commission</p>',\n",
        " u'<img src=\"http://31.media.tumblr.com/875be53500ea4b979a58a09f5b940a76/tumblr_n2rd5gI4M41t8sai5o1_500.jpg\" /><br /><br /><p>/u/Catness_NeverClean from /r/prettygirlsuglyfaces</p>',\n",
        " u'<img src=\"http://33.media.tumblr.com/4a9f14996a9a6be04c3ec5644fa1b661/tumblr_n2r4ntnY4F1t8sai5o1_500.jpg\" /><br /><br /><p>/u/Hotnonsense\\u2019s daughter from /r/redditgetsdrawn</p>',\n",
        " u'<img src=\"http://33.media.tumblr.com/eb3c44b5249af01c4b6e77e87056ca4d/tumblr_n29gvzgNdO1t8sai5o1_500.jpg\" /><br /><br /><p>/u/blackzao</p>',\n",
        " u'<img src=\"http://31.media.tumblr.com/47e18d37bf3cc77af96cec189afff66a/tumblr_n28b4rv12K1t8sai5o1_500.jpg\" /><br /><br /><p>Portrait of Melvin</p>',\n",
        " u'<br /><br /><p>Newb School: Episode Fucked Up</p>',\n",
        " u'<img src=\"http://31.media.tumblr.com/b89cc31d9ca0510c9a078ad67ead8975/tumblr_n1s51zhZlt1t8sai5o1_500.jpg\" /><br /><br /><p>First time hanging this in a show. :)</p>',\n",
        " u'<img src=\"http://38.media.tumblr.com/a2d384e4b9959edf9d806c1d28f46ee2/tumblr_n1p09uo6Fn1t8sai5o1_500.jpg\" /><br /><br /><p>Sketch of /u/arretez\\u2019s friend</p>',\n",
        " u'<img src=\"http://31.media.tumblr.com/67b29f3fa6e636fa938d66c6bd87e392/tumblr_mz8djw4VLL1t8sai5o1_500.jpg\" /><br /><br /><p>/u/Birdynumnums1, pencil on paper</p>',\n",
        " u'<img src=\"http://31.media.tumblr.com/e7e60139d8fe58d4d82942998e55000b/tumblr_mz8dh8zvR11t8sai5o1_500.jpg\" /><br /><br /><p>/u/Internet_Exploder, Oil on Wood Panel, 14 x 11 inches</p>']"
       ]
      }
     ],
     "prompt_number": 1578
    },
    {
     "cell_type": "code",
     "collapsed": false,
     "input": [
      "contactpage = dominate.document(title='contact')"
     ],
     "language": "python",
     "metadata": {},
     "outputs": [],
     "prompt_number": 1579
    },
    {
     "cell_type": "code",
     "collapsed": false,
     "input": [
      "x = '''\n",
      "hello\n",
      "'''"
     ],
     "language": "python",
     "metadata": {},
     "outputs": [],
     "prompt_number": 1580
    },
    {
     "cell_type": "code",
     "collapsed": false,
     "input": [
      "x"
     ],
     "language": "python",
     "metadata": {},
     "outputs": [
      {
       "metadata": {},
       "output_type": "pyout",
       "prompt_number": 1581,
       "text": [
        "'\\nhello\\n'"
       ]
      }
     ],
     "prompt_number": 1581
    },
    {
     "cell_type": "code",
     "collapsed": false,
     "input": [
      "with contactpage.head:\n",
      "    link(rel='stylesheet', href='style.css')\n",
      "    script(type='text/javascript', src='script.js')\n",
      "\n",
      "with contactpage:\n",
      "    with div():\n",
      "        dominate.tags.\n",
      "        attr(cls='top')\n",
      "        #<img src=\"smiley.gif\" alt=\"Smiley face\" height=\"42\" width=\"42\">\n",
      "        h1('artcontroldrawsyou!')\n",
      "        img(scr='logo.gif')\n",
      "        h2('go away artcontrol')\n",
      "        p(strftime(\"%a, %d %b %Y %H:%M:%S +0000\", gmtime()))\n",
      "        a('about', href='http://brobeur.com/artcontroldrawsyou/about')\n",
      "        a('contact', href='http://brobeur.com/artcontroldrawsyou/contact') \n",
      "        a('blog', href='http://brobeur.com/artcontroldrawsyou/wcmckee.com/wcmckee/output')\n",
      "\n",
      "    with div():\n",
      "        attr(cls='header')\n",
      "        #<img src=\"smiley.gif\" alt=\"Smiley face\" height=\"42\" width=\"42\">\n",
      "        h1('contact')\n",
      "        p('email: will@artcontrol.me twitter: art_control')\n",
      "        p('Recent comments from itwillbemine:')\n",
      "        #for mine in minels:\n",
      "            #h1(mine.author_flair_text())\n",
      "            #p(mine.body)\n",
      "        \n",
      " #   with div(id='author'):\n",
      "  #     for tum in tumlis:\n",
      "   #         p(tum)\n",
      "    \n",
      "    \n",
      "    with div(id='body'):\n",
      "        for mine in minels:\n",
      "            #h1(mine.created)\n",
      "            li(mine.body)\n",
      "            \n",
      "\n",
      "\n",
      "\n",
      "\n",
      "print contactpage"
     ],
     "language": "python",
     "metadata": {},
     "outputs": [
      {
       "ename": "SyntaxError",
       "evalue": "invalid syntax (<ipython-input-1582-19fa7c868107>, line 7)",
       "output_type": "pyerr",
       "traceback": [
        "\u001b[1;36m  File \u001b[1;32m\"<ipython-input-1582-19fa7c868107>\"\u001b[1;36m, line \u001b[1;32m7\u001b[0m\n\u001b[1;33m    dominate.tags.\u001b[0m\n\u001b[1;37m                  ^\u001b[0m\n\u001b[1;31mSyntaxError\u001b[0m\u001b[1;31m:\u001b[0m invalid syntax\n"
       ]
      }
     ],
     "prompt_number": 1582
    },
    {
     "cell_type": "code",
     "collapsed": false,
     "input": [
      "os.chdir('contact')"
     ],
     "language": "python",
     "metadata": {},
     "outputs": [],
     "prompt_number": 1583
    },
    {
     "cell_type": "code",
     "collapsed": false,
     "input": [
      "savcon = open('index.html', 'w')\n",
      "savcon.write(str(contactpage))\n",
      "savcon.close()"
     ],
     "language": "python",
     "metadata": {},
     "outputs": [],
     "prompt_number": 1584
    },
    {
     "cell_type": "code",
     "collapsed": false,
     "input": [
      "dirdir = os.chdir('/var/www/artcontroldrawsyou')"
     ],
     "language": "python",
     "metadata": {},
     "outputs": [],
     "prompt_number": 1585
    },
    {
     "cell_type": "code",
     "collapsed": false,
     "input": [
      "dirdir"
     ],
     "language": "python",
     "metadata": {},
     "outputs": [],
     "prompt_number": 1586
    },
    {
     "cell_type": "code",
     "collapsed": false,
     "input": [
      "aboutpage = dominate.document(title='about')\n",
      "with aboutpage.head:\n",
      "    link(rel='stylesheet', href='style.css')\n",
      "    script(type='text/javascript', src='script.js')\n",
      "\n",
      "with aboutpage:\n",
      "    with div():\n",
      "        attr(cls='header')\n",
      "        #<img src=\"smiley.gif\" alt=\"Smiley face\" height=\"42\" width=\"42\">\n",
      "        h1('artcontroldrawsyou!')\n",
      "        img(scr='logo.gif')\n",
      "        h2('go away artcontrol')\n",
      "        p(strftime(\"%a, %d %b %Y %H:%M:%S +0000\", gmtime()))\n",
      "        a('about', href='https://brobeur.com/artcontroldrawsyou/about')\n",
      "        a('contact', href='http://brobeur.com/artcontroldrawsyou/contact') \n",
      "        a('blog', href='http://brobeur.com/artcontroldrawsyou/wcmckee.com/wcmckee/output')\n",
      "    with div():\n",
      "        attr(cls='header')\n",
      "        #<img src=\"smiley.gif\" alt=\"Smiley face\" height=\"42\" width=\"42\">\n",
      "        h1('about')\n",
      "        p('artcontroldrawsyou is a website that takes RedditGetsDrawn data and posts it here.')\n",
      "        p('artcontrol is not allowed to submit artwork to redditgetsdrawn so this was created')\n",
      "        #for mine in minels:\n",
      "            #h1(mine.author_flair_text())\n",
      "            #p(mine.body)\n",
      "        \n",
      "    '''with div(id='author'):\n",
      "        for tits in titlis:\n",
      "            h3(tits)\n",
      "    \n",
      "    with div(id='body').add(p()):\n",
      "        for mine in minels:\n",
      "            #h1(mine.created)\n",
      "            p(mine.body)\n",
      "            \n",
      "\n",
      "\n",
      "\n",
      "'''\n",
      "print aboutpage"
     ],
     "language": "python",
     "metadata": {},
     "outputs": [
      {
       "output_type": "stream",
       "stream": "stdout",
       "text": [
        "<!DOCTYPE html>\n",
        "<html>\n",
        "  <head>\n",
        "    <title>about</title>\n",
        "    <link href=\"style.css\" rel=\"stylesheet\">\n",
        "    <script src=\"script.js\" type=\"text/javascript\"></script>\n",
        "  </head>\n",
        "  <body>\n",
        "    <div class=\"header\">\n",
        "      <h1>artcontroldrawsyou!</h1>\n",
        "      <img scr=\"logo.gif\">\n",
        "      <h2>go away artcontrol</h2>\n",
        "      <p>Thu, 07 Aug 2014 04:47:51 +0000</p>\n",
        "      <a href=\"https://brobeur.com/artcontroldrawsyou/about\">about</a>\n",
        "      <a href=\"http://brobeur.com/artcontroldrawsyou/contact\">contact</a>\n",
        "      <a href=\"http://brobeur.com/artcontroldrawsyou/wcmckee.com/wcmckee/output\">blog</a>\n",
        "    </div>\n",
        "    <div class=\"header\">\n",
        "      <h1>about</h1>\n",
        "      <p>artcontroldrawsyou is a website that takes RedditGetsDrawn data and posts it here.</p>\n",
        "      <p>artcontrol is not allowed to submit artwork to redditgetsdrawn so this was created</p>\n",
        "    </div>\n",
        "  </body>\n",
        "</html>\n"
       ]
      }
     ],
     "prompt_number": 1587
    },
    {
     "cell_type": "code",
     "collapsed": false,
     "input": [
      "os.chdir('about')"
     ],
     "language": "python",
     "metadata": {},
     "outputs": [],
     "prompt_number": 1588
    },
    {
     "cell_type": "code",
     "collapsed": false,
     "input": [
      "aboucr = open('index.html', 'w')\n",
      "aboucr.write(str(aboutpage))\n",
      "aboucr.close()"
     ],
     "language": "python",
     "metadata": {},
     "outputs": [],
     "prompt_number": 1589
    },
    {
     "cell_type": "code",
     "collapsed": false,
     "input": [
      "os.chdir('/var/www/artcontroldrawsyou/')"
     ],
     "language": "python",
     "metadata": {},
     "outputs": [],
     "prompt_number": 1590
    },
    {
     "cell_type": "code",
     "collapsed": false,
     "input": [],
     "language": "python",
     "metadata": {},
     "outputs": [],
     "prompt_number": 1590
    },
    {
     "cell_type": "code",
     "collapsed": false,
     "input": [],
     "language": "python",
     "metadata": {},
     "outputs": []
    },
    {
     "cell_type": "code",
     "collapsed": false,
     "input": [],
     "language": "python",
     "metadata": {},
     "outputs": []
    },
    {
     "cell_type": "code",
     "collapsed": false,
     "input": [],
     "language": "python",
     "metadata": {},
     "outputs": []
    },
    {
     "cell_type": "code",
     "collapsed": false,
     "input": [],
     "language": "python",
     "metadata": {},
     "outputs": []
    },
    {
     "cell_type": "code",
     "collapsed": false,
     "input": [],
     "language": "python",
     "metadata": {},
     "outputs": []
    },
    {
     "cell_type": "code",
     "collapsed": false,
     "input": [],
     "language": "python",
     "metadata": {},
     "outputs": []
    },
    {
     "cell_type": "code",
     "collapsed": false,
     "input": [],
     "language": "python",
     "metadata": {},
     "outputs": []
    },
    {
     "cell_type": "code",
     "collapsed": false,
     "input": [],
     "language": "python",
     "metadata": {},
     "outputs": []
    },
    {
     "cell_type": "code",
     "collapsed": false,
     "input": [],
     "language": "python",
     "metadata": {},
     "outputs": []
    },
    {
     "cell_type": "code",
     "collapsed": false,
     "input": [],
     "language": "python",
     "metadata": {},
     "outputs": []
    },
    {
     "cell_type": "code",
     "collapsed": false,
     "input": [],
     "language": "python",
     "metadata": {},
     "outputs": []
    },
    {
     "cell_type": "code",
     "collapsed": false,
     "input": [],
     "language": "python",
     "metadata": {},
     "outputs": []
    },
    {
     "cell_type": "code",
     "collapsed": false,
     "input": [],
     "language": "python",
     "metadata": {},
     "outputs": []
    },
    {
     "cell_type": "code",
     "collapsed": false,
     "input": [],
     "language": "python",
     "metadata": {},
     "outputs": []
    },
    {
     "cell_type": "code",
     "collapsed": false,
     "input": [],
     "language": "python",
     "metadata": {},
     "outputs": []
    },
    {
     "cell_type": "code",
     "collapsed": false,
     "input": [],
     "language": "python",
     "metadata": {},
     "outputs": []
    },
    {
     "cell_type": "code",
     "collapsed": false,
     "input": [],
     "language": "python",
     "metadata": {},
     "outputs": []
    },
    {
     "cell_type": "code",
     "collapsed": false,
     "input": [],
     "language": "python",
     "metadata": {},
     "outputs": []
    },
    {
     "cell_type": "code",
     "collapsed": false,
     "input": [],
     "language": "python",
     "metadata": {},
     "outputs": [],
     "prompt_number": 1496
    },
    {
     "cell_type": "code",
     "collapsed": false,
     "input": [],
     "language": "python",
     "metadata": {},
     "outputs": [],
     "prompt_number": 1496
    },
    {
     "cell_type": "code",
     "collapsed": false,
     "input": [],
     "language": "python",
     "metadata": {},
     "outputs": []
    }
   ],
   "metadata": {}
  }
 ]
}