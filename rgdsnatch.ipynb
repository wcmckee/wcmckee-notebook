{
 "metadata": {
  "name": "",
  "signature": "sha256:0ef32b282ea38b4b52a04cce4a0fa57aaf96c482719865f25ff6a0d5e150eb64"
 },
 "nbformat": 3,
 "nbformat_minor": 0,
 "worksheets": [
  {
   "cells": [
    {
     "cell_type": "code",
     "collapsed": false,
     "input": [
      "import os\n",
      "import random\n",
      "import requests\n",
      "import re\n",
      "import json\n",
      "import praw\n",
      "import dominate\n",
      "from dominate.tags import *"
     ],
     "language": "python",
     "metadata": {},
     "outputs": [],
     "prompt_number": 101
    },
    {
     "cell_type": "code",
     "collapsed": false,
     "input": [
      "os.chdir('/home/wcmckee/artcontroldrawsyou')"
     ],
     "language": "python",
     "metadata": {},
     "outputs": [],
     "prompt_number": 288
    },
    {
     "cell_type": "code",
     "collapsed": false,
     "input": [
      "r = praw.Reddit(user_agent='rgdsnatch')"
     ],
     "language": "python",
     "metadata": {},
     "outputs": [],
     "prompt_number": 289
    },
    {
     "cell_type": "code",
     "collapsed": false,
     "input": [
      "r.login('artcontrol', 'zipit123')"
     ],
     "language": "python",
     "metadata": {},
     "outputs": [],
     "prompt_number": 290
    },
    {
     "cell_type": "code",
     "collapsed": false,
     "input": [
      "usrd = r.get_my_subreddits()"
     ],
     "language": "python",
     "metadata": {},
     "outputs": [],
     "prompt_number": 291
    },
    {
     "cell_type": "code",
     "collapsed": false,
     "input": [
      "suls = []"
     ],
     "language": "python",
     "metadata": {},
     "outputs": [],
     "prompt_number": 292
    },
    {
     "cell_type": "code",
     "collapsed": false,
     "input": [
      "for subs in usrd:\n",
      "    print subs\n",
      "    suls.append(subs)"
     ],
     "language": "python",
     "metadata": {},
     "outputs": [
      {
       "output_type": "stream",
       "stream": "stdout",
       "text": [
        "todayilearned\n",
        "blog\n",
        "science\n",
        "IAmA\n",
        "videos\n",
        "technology\n",
        "bestof\n",
        "askscience\n",
        "books\n",
        "television\n",
        "food\n",
        "photoshopbattles\n",
        "GetMotivated\n",
        "listentothis\n",
        "Documentaries\n",
        "Art\n",
        "trees\n",
        "programming\n",
        "Android\n",
        "gameofthrones\n",
        "Minecraft\n",
        "comics\n",
        "skyrim\n",
        "buildapc\n",
        "breakingbad\n"
       ]
      }
     ],
     "prompt_number": 293
    },
    {
     "cell_type": "code",
     "collapsed": false,
     "input": [
      "suls"
     ],
     "language": "python",
     "metadata": {},
     "outputs": [
      {
       "metadata": {},
       "output_type": "pyout",
       "prompt_number": 294,
       "text": [
        "[Subreddit(display_name='todayilearned'),\n",
        " Subreddit(display_name='blog'),\n",
        " Subreddit(display_name='science'),\n",
        " Subreddit(display_name='IAmA'),\n",
        " Subreddit(display_name='videos'),\n",
        " Subreddit(display_name='technology'),\n",
        " Subreddit(display_name='bestof'),\n",
        " Subreddit(display_name='askscience'),\n",
        " Subreddit(display_name='books'),\n",
        " Subreddit(display_name='television'),\n",
        " Subreddit(display_name='food'),\n",
        " Subreddit(display_name='photoshopbattles'),\n",
        " Subreddit(display_name='GetMotivated'),\n",
        " Subreddit(display_name='listentothis'),\n",
        " Subreddit(display_name='Documentaries'),\n",
        " Subreddit(display_name='Art'),\n",
        " Subreddit(display_name='trees'),\n",
        " Subreddit(display_name='programming'),\n",
        " Subreddit(display_name='Android'),\n",
        " Subreddit(display_name='gameofthrones'),\n",
        " Subreddit(display_name='Minecraft'),\n",
        " Subreddit(display_name='comics'),\n",
        " Subreddit(display_name='skyrim'),\n",
        " Subreddit(display_name='buildapc'),\n",
        " Subreddit(display_name='breakingbad')]"
       ]
      }
     ],
     "prompt_number": 294
    },
    {
     "cell_type": "code",
     "collapsed": false,
     "input": [
      "lesuls = len(suls)\n",
      "\n",
      "ransuz = random.randint(0, lesuls)\n",
      "\n",
      "thesubraz = suls[ransuz]"
     ],
     "language": "python",
     "metadata": {},
     "outputs": [],
     "prompt_number": 295
    },
    {
     "cell_type": "code",
     "collapsed": false,
     "input": [
      "suls"
     ],
     "language": "python",
     "metadata": {},
     "outputs": [
      {
       "metadata": {},
       "output_type": "pyout",
       "prompt_number": 296,
       "text": [
        "[Subreddit(display_name='todayilearned'),\n",
        " Subreddit(display_name='blog'),\n",
        " Subreddit(display_name='science'),\n",
        " Subreddit(display_name='IAmA'),\n",
        " Subreddit(display_name='videos'),\n",
        " Subreddit(display_name='technology'),\n",
        " Subreddit(display_name='bestof'),\n",
        " Subreddit(display_name='askscience'),\n",
        " Subreddit(display_name='books'),\n",
        " Subreddit(display_name='television'),\n",
        " Subreddit(display_name='food'),\n",
        " Subreddit(display_name='photoshopbattles'),\n",
        " Subreddit(display_name='GetMotivated'),\n",
        " Subreddit(display_name='listentothis'),\n",
        " Subreddit(display_name='Documentaries'),\n",
        " Subreddit(display_name='Art'),\n",
        " Subreddit(display_name='trees'),\n",
        " Subreddit(display_name='programming'),\n",
        " Subreddit(display_name='Android'),\n",
        " Subreddit(display_name='gameofthrones'),\n",
        " Subreddit(display_name='Minecraft'),\n",
        " Subreddit(display_name='comics'),\n",
        " Subreddit(display_name='skyrim'),\n",
        " Subreddit(display_name='buildapc'),\n",
        " Subreddit(display_name='breakingbad')]"
       ]
      }
     ],
     "prompt_number": 296
    },
    {
     "cell_type": "code",
     "collapsed": false,
     "input": [
      "print thesubraz"
     ],
     "language": "python",
     "metadata": {},
     "outputs": [
      {
       "output_type": "stream",
       "stream": "stdout",
       "text": [
        "skyrim\n"
       ]
      }
     ],
     "prompt_number": 297
    },
    {
     "cell_type": "code",
     "collapsed": false,
     "input": [
      "rd = r.get_subreddit('redditgetsdrawn')"
     ],
     "language": "python",
     "metadata": {},
     "outputs": [],
     "prompt_number": 298
    },
    {
     "cell_type": "code",
     "collapsed": false,
     "input": [
      "rdnewz = rd.get_new()"
     ],
     "language": "python",
     "metadata": {},
     "outputs": [],
     "prompt_number": 299
    },
    {
     "cell_type": "code",
     "collapsed": false,
     "input": [
      "rdnew = []"
     ],
     "language": "python",
     "metadata": {},
     "outputs": [],
     "prompt_number": 300
    },
    {
     "cell_type": "code",
     "collapsed": false,
     "input": [
      "rdnew"
     ],
     "language": "python",
     "metadata": {},
     "outputs": [
      {
       "metadata": {},
       "output_type": "pyout",
       "prompt_number": 301,
       "text": [
        "[]"
       ]
      }
     ],
     "prompt_number": 301
    },
    {
     "cell_type": "code",
     "collapsed": false,
     "input": [
      "for uz in rdnewz:\n",
      "    #print uz\n",
      "    rdnew.append(uz)"
     ],
     "language": "python",
     "metadata": {},
     "outputs": [],
     "prompt_number": 302
    },
    {
     "cell_type": "code",
     "collapsed": false,
     "input": [
      "urzlis = []"
     ],
     "language": "python",
     "metadata": {},
     "outputs": [],
     "prompt_number": 303
    },
    {
     "cell_type": "code",
     "collapsed": false,
     "input": [
      "os.chdir('imgs')"
     ],
     "language": "python",
     "metadata": {},
     "outputs": [],
     "prompt_number": 307
    },
    {
     "cell_type": "code",
     "collapsed": false,
     "input": [
      "for rdn in rdnew:\n",
      "    print rdn.url\n",
      "    urzlis.append(rdn.url)\n",
      "    "
     ],
     "language": "python",
     "metadata": {},
     "outputs": [
      {
       "output_type": "stream",
       "stream": "stdout",
       "text": [
        "http://i.imgur.com/iebMRTk.jpg\n",
        "http://i.imgur.com/R3rfJnK.gif\n",
        "http://i.imgur.com/PbybhGc.jpg\n",
        "http://i.imgur.com/40RWPan.jpg?1?1014\n",
        "http://i.imgur.com/M9S29ME.jpg?1\n",
        "http://i.imgur.com/QmLNayj.jpg\n",
        "http://i.imgur.com/vb9FmGc.jpg\n",
        "http://i.imgur.com/6FeT6SU.jpg\n",
        "http://i.imgur.com/HF0zKkO.jpg\n",
        "http://imgur.com/aFo6KTN\n",
        "http://imgur.com/I9UfiGU\n",
        "http://i.imgur.com/xQW8c2H.jpg\n",
        "http://i.imgur.com/NurXeuP.jpg\n",
        "http://i.imgur.com/20BHaXN.jpg\n",
        "http://imgur.com/a/ssBsp\n",
        "http://imgur.com/asiLliH\n",
        "http://imgur.com/j0e5ifd\n",
        "http://i.imgur.com/GI0tcjy.jpg?1\n",
        "http://imgur.com/MZ6UaaI\n",
        "http://i.imgur.com/dOd8cuv.jpg\n",
        "http://i.imgur.com/Gwq1pea.jpg\n",
        "http://i.imgur.com/As4jmJu.jpg\n",
        "http://i.imgur.com/J5tWv4f.jpg\n",
        "http://imgur.com/rBxWouz\n",
        "http://i.imgur.com/aKvLaSp.jpg\n"
       ]
      }
     ],
     "prompt_number": 308
    },
    {
     "cell_type": "code",
     "collapsed": false,
     "input": [
      "jplis = []"
     ],
     "language": "python",
     "metadata": {},
     "outputs": [],
     "prompt_number": 309
    },
    {
     "cell_type": "code",
     "collapsed": false,
     "input": [
      "for urz in urzlis:\n",
      "    if '.jpg' in urz:\n",
      "        jplis.append(urz)"
     ],
     "language": "python",
     "metadata": {},
     "outputs": [],
     "prompt_number": 310
    },
    {
     "cell_type": "code",
     "collapsed": false,
     "input": [
      "doc = dominate.document(title='artcontroldrawsyou')"
     ],
     "language": "python",
     "metadata": {},
     "outputs": [],
     "prompt_number": 311
    },
    {
     "cell_type": "code",
     "collapsed": false,
     "input": [
      "with doc.head:\n",
      "    link(rel='stylesheet', href='style.css')\n",
      "    script(type='text/javascript', src='script.js')\n",
      "\n",
      "with doc:\n",
      "    with div(id='header').add(p()):\n",
      "        for i in jplis:\n",
      "            li(img(i.lower(), src='%s' % i))\n",
      "            li(a(i.lower(), href='%s' % i))\n",
      "\n",
      "    with div():\n",
      "        attr(cls='body')\n",
      "        p('Lorem ipsum..')\n",
      "\n",
      "print doc"
     ],
     "language": "python",
     "metadata": {},
     "outputs": [
      {
       "output_type": "stream",
       "stream": "stdout",
       "text": [
        "<!DOCTYPE html>\n",
        "<html>\n",
        "  <head>\n",
        "    <title>artcontroldrawsyou</title>\n",
        "    <link href=\"style.css\" rel=\"stylesheet\">\n",
        "    <script src=\"script.js\" type=\"text/javascript\"></script>\n",
        "  </head>\n",
        "  <body>\n",
        "    <div id=\"header\">\n",
        "      <p>\n",
        "        <li>\n",
        "          <img src=\"http://i.imgur.com/iebMRTk.jpg\">\n",
        "        </li>\n",
        "        <li>\n",
        "          <a href=\"http://i.imgur.com/iebMRTk.jpg\">http://i.imgur.com/iebmrtk.jpg</a>\n",
        "        </li>\n",
        "        <li>\n",
        "          <img src=\"http://i.imgur.com/PbybhGc.jpg\">\n",
        "        </li>\n",
        "        <li>\n",
        "          <a href=\"http://i.imgur.com/PbybhGc.jpg\">http://i.imgur.com/pbybhgc.jpg</a>\n",
        "        </li>\n",
        "        <li>\n",
        "          <img src=\"http://i.imgur.com/40RWPan.jpg?1?1014\">\n",
        "        </li>\n",
        "        <li>\n",
        "          <a href=\"http://i.imgur.com/40RWPan.jpg?1?1014\">http://i.imgur.com/40rwpan.jpg?1?1014</a>\n",
        "        </li>\n",
        "        <li>\n",
        "          <img src=\"http://i.imgur.com/M9S29ME.jpg?1\">\n",
        "        </li>\n",
        "        <li>\n",
        "          <a href=\"http://i.imgur.com/M9S29ME.jpg?1\">http://i.imgur.com/m9s29me.jpg?1</a>\n",
        "        </li>\n",
        "        <li>\n",
        "          <img src=\"http://i.imgur.com/QmLNayj.jpg\">\n",
        "        </li>\n",
        "        <li>\n",
        "          <a href=\"http://i.imgur.com/QmLNayj.jpg\">http://i.imgur.com/qmlnayj.jpg</a>\n",
        "        </li>\n",
        "        <li>\n",
        "          <img src=\"http://i.imgur.com/vb9FmGc.jpg\">\n",
        "        </li>\n",
        "        <li>\n",
        "          <a href=\"http://i.imgur.com/vb9FmGc.jpg\">http://i.imgur.com/vb9fmgc.jpg</a>\n",
        "        </li>\n",
        "        <li>\n",
        "          <img src=\"http://i.imgur.com/6FeT6SU.jpg\">\n",
        "        </li>\n",
        "        <li>\n",
        "          <a href=\"http://i.imgur.com/6FeT6SU.jpg\">http://i.imgur.com/6fet6su.jpg</a>\n",
        "        </li>\n",
        "        <li>\n",
        "          <img src=\"http://i.imgur.com/HF0zKkO.jpg\">\n",
        "        </li>\n",
        "        <li>\n",
        "          <a href=\"http://i.imgur.com/HF0zKkO.jpg\">http://i.imgur.com/hf0zkko.jpg</a>\n",
        "        </li>\n",
        "        <li>\n",
        "          <img src=\"http://i.imgur.com/xQW8c2H.jpg\">\n",
        "        </li>\n",
        "        <li>\n",
        "          <a href=\"http://i.imgur.com/xQW8c2H.jpg\">http://i.imgur.com/xqw8c2h.jpg</a>\n",
        "        </li>\n",
        "        <li>\n",
        "          <img src=\"http://i.imgur.com/NurXeuP.jpg\">\n",
        "        </li>\n",
        "        <li>\n",
        "          <a href=\"http://i.imgur.com/NurXeuP.jpg\">http://i.imgur.com/nurxeup.jpg</a>\n",
        "        </li>\n",
        "        <li>\n",
        "          <img src=\"http://i.imgur.com/20BHaXN.jpg\">\n",
        "        </li>\n",
        "        <li>\n",
        "          <a href=\"http://i.imgur.com/20BHaXN.jpg\">http://i.imgur.com/20bhaxn.jpg</a>\n",
        "        </li>\n",
        "        <li>\n",
        "          <img src=\"http://i.imgur.com/GI0tcjy.jpg?1\">\n",
        "        </li>\n",
        "        <li>\n",
        "          <a href=\"http://i.imgur.com/GI0tcjy.jpg?1\">http://i.imgur.com/gi0tcjy.jpg?1</a>\n",
        "        </li>\n",
        "        <li>\n",
        "          <img src=\"http://i.imgur.com/dOd8cuv.jpg\">\n",
        "        </li>\n",
        "        <li>\n",
        "          <a href=\"http://i.imgur.com/dOd8cuv.jpg\">http://i.imgur.com/dod8cuv.jpg</a>\n",
        "        </li>\n",
        "        <li>\n",
        "          <img src=\"http://i.imgur.com/Gwq1pea.jpg\">\n",
        "        </li>\n",
        "        <li>\n",
        "          <a href=\"http://i.imgur.com/Gwq1pea.jpg\">http://i.imgur.com/gwq1pea.jpg</a>\n",
        "        </li>\n",
        "        <li>\n",
        "          <img src=\"http://i.imgur.com/As4jmJu.jpg\">\n",
        "        </li>\n",
        "        <li>\n",
        "          <a href=\"http://i.imgur.com/As4jmJu.jpg\">http://i.imgur.com/as4jmju.jpg</a>\n",
        "        </li>\n",
        "        <li>\n",
        "          <img src=\"http://i.imgur.com/J5tWv4f.jpg\">\n",
        "        </li>\n",
        "        <li>\n",
        "          <a href=\"http://i.imgur.com/J5tWv4f.jpg\">http://i.imgur.com/j5twv4f.jpg</a>\n",
        "        </li>\n",
        "        <li>\n",
        "          <img src=\"http://i.imgur.com/aKvLaSp.jpg\">\n",
        "        </li>\n",
        "        <li>\n",
        "          <a href=\"http://i.imgur.com/aKvLaSp.jpg\">http://i.imgur.com/akvlasp.jpg</a>\n",
        "        </li>\n",
        "        <li>\n",
        "          <img src=\"http://i.imgur.com/iebMRTk.jpg\">\n",
        "        </li>\n",
        "        <li>\n",
        "          <a href=\"http://i.imgur.com/iebMRTk.jpg\">http://i.imgur.com/iebmrtk.jpg</a>\n",
        "        </li>\n",
        "        <li>\n",
        "          <img src=\"http://i.imgur.com/PbybhGc.jpg\">\n",
        "        </li>\n",
        "        <li>\n",
        "          <a href=\"http://i.imgur.com/PbybhGc.jpg\">http://i.imgur.com/pbybhgc.jpg</a>\n",
        "        </li>\n",
        "        <li>\n",
        "          <img src=\"http://i.imgur.com/40RWPan.jpg?1?1014\">\n",
        "        </li>\n",
        "        <li>\n",
        "          <a href=\"http://i.imgur.com/40RWPan.jpg?1?1014\">http://i.imgur.com/40rwpan.jpg?1?1014</a>\n",
        "        </li>\n",
        "        <li>\n",
        "          <img src=\"http://i.imgur.com/M9S29ME.jpg?1\">\n",
        "        </li>\n",
        "        <li>\n",
        "          <a href=\"http://i.imgur.com/M9S29ME.jpg?1\">http://i.imgur.com/m9s29me.jpg?1</a>\n",
        "        </li>\n",
        "        <li>\n",
        "          <img src=\"http://i.imgur.com/QmLNayj.jpg\">\n",
        "        </li>\n",
        "        <li>\n",
        "          <a href=\"http://i.imgur.com/QmLNayj.jpg\">http://i.imgur.com/qmlnayj.jpg</a>\n",
        "        </li>\n",
        "        <li>\n",
        "          <img src=\"http://i.imgur.com/vb9FmGc.jpg\">\n",
        "        </li>\n",
        "        <li>\n",
        "          <a href=\"http://i.imgur.com/vb9FmGc.jpg\">http://i.imgur.com/vb9fmgc.jpg</a>\n",
        "        </li>\n",
        "        <li>\n",
        "          <img src=\"http://i.imgur.com/6FeT6SU.jpg\">\n",
        "        </li>\n",
        "        <li>\n",
        "          <a href=\"http://i.imgur.com/6FeT6SU.jpg\">http://i.imgur.com/6fet6su.jpg</a>\n",
        "        </li>\n",
        "        <li>\n",
        "          <img src=\"http://i.imgur.com/HF0zKkO.jpg\">\n",
        "        </li>\n",
        "        <li>\n",
        "          <a href=\"http://i.imgur.com/HF0zKkO.jpg\">http://i.imgur.com/hf0zkko.jpg</a>\n",
        "        </li>\n",
        "        <li>\n",
        "          <img src=\"http://i.imgur.com/xQW8c2H.jpg\">\n",
        "        </li>\n",
        "        <li>\n",
        "          <a href=\"http://i.imgur.com/xQW8c2H.jpg\">http://i.imgur.com/xqw8c2h.jpg</a>\n",
        "        </li>\n",
        "        <li>\n",
        "          <img src=\"http://i.imgur.com/NurXeuP.jpg\">\n",
        "        </li>\n",
        "        <li>\n",
        "          <a href=\"http://i.imgur.com/NurXeuP.jpg\">http://i.imgur.com/nurxeup.jpg</a>\n",
        "        </li>\n",
        "        <li>\n",
        "          <img src=\"http://i.imgur.com/20BHaXN.jpg\">\n",
        "        </li>\n",
        "        <li>\n",
        "          <a href=\"http://i.imgur.com/20BHaXN.jpg\">http://i.imgur.com/20bhaxn.jpg</a>\n",
        "        </li>\n",
        "        <li>\n",
        "          <img src=\"http://i.imgur.com/GI0tcjy.jpg?1\">\n",
        "        </li>\n",
        "        <li>\n",
        "          <a href=\"http://i.imgur.com/GI0tcjy.jpg?1\">http://i.imgur.com/gi0tcjy.jpg?1</a>\n",
        "        </li>\n",
        "        <li>\n",
        "          <img src=\"http://i.imgur.com/dOd8cuv.jpg\">\n",
        "        </li>\n",
        "        <li>\n",
        "          <a href=\"http://i.imgur.com/dOd8cuv.jpg\">http://i.imgur.com/dod8cuv.jpg</a>\n",
        "        </li>\n",
        "        <li>\n",
        "          <img src=\"http://i.imgur.com/Gwq1pea.jpg\">\n",
        "        </li>\n",
        "        <li>\n",
        "          <a href=\"http://i.imgur.com/Gwq1pea.jpg\">http://i.imgur.com/gwq1pea.jpg</a>\n",
        "        </li>\n",
        "        <li>\n",
        "          <img src=\"http://i.imgur.com/As4jmJu.jpg\">\n",
        "        </li>\n",
        "        <li>\n",
        "          <a href=\"http://i.imgur.com/As4jmJu.jpg\">http://i.imgur.com/as4jmju.jpg</a>\n",
        "        </li>\n",
        "        <li>\n",
        "          <img src=\"http://i.imgur.com/J5tWv4f.jpg\">\n",
        "        </li>\n",
        "        <li>\n",
        "          <a href=\"http://i.imgur.com/J5tWv4f.jpg\">http://i.imgur.com/j5twv4f.jpg</a>\n",
        "        </li>\n",
        "        <li>\n",
        "          <img src=\"http://i.imgur.com/aKvLaSp.jpg\">\n",
        "        </li>\n",
        "        <li>\n",
        "          <a href=\"http://i.imgur.com/aKvLaSp.jpg\">http://i.imgur.com/akvlasp.jpg</a>\n",
        "        </li>\n",
        "      </p>\n",
        "    </div>\n",
        "    <div class=\"body\">\n",
        "      <p>Lorem ipsum..</p>\n",
        "    </div>\n",
        "  </body>\n",
        "</html>\n"
       ]
      }
     ],
     "prompt_number": 312
    },
    {
     "cell_type": "code",
     "collapsed": false,
     "input": [
      "ophtml = open('index.html', 'w')"
     ],
     "language": "python",
     "metadata": {},
     "outputs": [],
     "prompt_number": 313
    },
    {
     "cell_type": "code",
     "collapsed": false,
     "input": [
      "ophtml.write(str(doc))"
     ],
     "language": "python",
     "metadata": {},
     "outputs": [],
     "prompt_number": 314
    },
    {
     "cell_type": "code",
     "collapsed": false,
     "input": [
      "ophtml.close()"
     ],
     "language": "python",
     "metadata": {},
     "outputs": [],
     "prompt_number": 315
    },
    {
     "cell_type": "code",
     "collapsed": false,
     "input": [
      "cat index.html"
     ],
     "language": "python",
     "metadata": {},
     "outputs": [
      {
       "output_type": "stream",
       "stream": "stdout",
       "text": [
        "<!DOCTYPE html>\r\n",
        "<html>\r\n",
        "  <head>\r\n",
        "    <title>artcontroldrawsyou</title>\r\n",
        "    <link href=\"style.css\" rel=\"stylesheet\">\r\n",
        "    <script src=\"script.js\" type=\"text/javascript\"></script>\r\n",
        "  </head>\r\n",
        "  <body>\r\n",
        "    <div id=\"header\">\r\n",
        "      <p>\r\n",
        "        <li>\r\n",
        "          <img src=\"http://i.imgur.com/iebMRTk.jpg\">\r\n",
        "        </li>\r\n",
        "        <li>\r\n",
        "          <a href=\"http://i.imgur.com/iebMRTk.jpg\">http://i.imgur.com/iebmrtk.jpg</a>\r\n",
        "        </li>\r\n",
        "        <li>\r\n",
        "          <img src=\"http://i.imgur.com/PbybhGc.jpg\">\r\n",
        "        </li>\r\n",
        "        <li>\r\n",
        "          <a href=\"http://i.imgur.com/PbybhGc.jpg\">http://i.imgur.com/pbybhgc.jpg</a>\r\n",
        "        </li>\r\n",
        "        <li>\r\n",
        "          <img src=\"http://i.imgur.com/40RWPan.jpg?1?1014\">\r\n",
        "        </li>\r\n",
        "        <li>\r\n",
        "          <a href=\"http://i.imgur.com/40RWPan.jpg?1?1014\">http://i.imgur.com/40rwpan.jpg?1?1014</a>\r\n",
        "        </li>\r\n",
        "        <li>\r\n",
        "          <img src=\"http://i.imgur.com/M9S29ME.jpg?1\">\r\n",
        "        </li>\r\n",
        "        <li>\r\n",
        "          <a href=\"http://i.imgur.com/M9S29ME.jpg?1\">http://i.imgur.com/m9s29me.jpg?1</a>\r\n",
        "        </li>\r\n",
        "        <li>\r\n",
        "          <img src=\"http://i.imgur.com/QmLNayj.jpg\">\r\n",
        "        </li>\r\n",
        "        <li>\r\n",
        "          <a href=\"http://i.imgur.com/QmLNayj.jpg\">http://i.imgur.com/qmlnayj.jpg</a>\r\n",
        "        </li>\r\n",
        "        <li>\r\n",
        "          <img src=\"http://i.imgur.com/vb9FmGc.jpg\">\r\n",
        "        </li>\r\n",
        "        <li>\r\n",
        "          <a href=\"http://i.imgur.com/vb9FmGc.jpg\">http://i.imgur.com/vb9fmgc.jpg</a>\r\n",
        "        </li>\r\n",
        "        <li>\r\n",
        "          <img src=\"http://i.imgur.com/6FeT6SU.jpg\">\r\n",
        "        </li>\r\n",
        "        <li>\r\n",
        "          <a href=\"http://i.imgur.com/6FeT6SU.jpg\">http://i.imgur.com/6fet6su.jpg</a>\r\n",
        "        </li>\r\n",
        "        <li>\r\n",
        "          <img src=\"http://i.imgur.com/HF0zKkO.jpg\">\r\n",
        "        </li>\r\n",
        "        <li>\r\n",
        "          <a href=\"http://i.imgur.com/HF0zKkO.jpg\">http://i.imgur.com/hf0zkko.jpg</a>\r\n",
        "        </li>\r\n",
        "        <li>\r\n",
        "          <img src=\"http://i.imgur.com/xQW8c2H.jpg\">\r\n",
        "        </li>\r\n",
        "        <li>\r\n",
        "          <a href=\"http://i.imgur.com/xQW8c2H.jpg\">http://i.imgur.com/xqw8c2h.jpg</a>\r\n",
        "        </li>\r\n",
        "        <li>\r\n",
        "          <img src=\"http://i.imgur.com/NurXeuP.jpg\">\r\n",
        "        </li>\r\n",
        "        <li>\r\n",
        "          <a href=\"http://i.imgur.com/NurXeuP.jpg\">http://i.imgur.com/nurxeup.jpg</a>\r\n",
        "        </li>\r\n",
        "        <li>\r\n",
        "          <img src=\"http://i.imgur.com/20BHaXN.jpg\">\r\n",
        "        </li>\r\n",
        "        <li>\r\n",
        "          <a href=\"http://i.imgur.com/20BHaXN.jpg\">http://i.imgur.com/20bhaxn.jpg</a>\r\n",
        "        </li>\r\n",
        "        <li>\r\n",
        "          <img src=\"http://i.imgur.com/GI0tcjy.jpg?1\">\r\n",
        "        </li>\r\n",
        "        <li>\r\n",
        "          <a href=\"http://i.imgur.com/GI0tcjy.jpg?1\">http://i.imgur.com/gi0tcjy.jpg?1</a>\r\n",
        "        </li>\r\n",
        "        <li>\r\n",
        "          <img src=\"http://i.imgur.com/dOd8cuv.jpg\">\r\n",
        "        </li>\r\n",
        "        <li>\r\n",
        "          <a href=\"http://i.imgur.com/dOd8cuv.jpg\">http://i.imgur.com/dod8cuv.jpg</a>\r\n",
        "        </li>\r\n",
        "        <li>\r\n",
        "          <img src=\"http://i.imgur.com/Gwq1pea.jpg\">\r\n",
        "        </li>\r\n",
        "        <li>\r\n",
        "          <a href=\"http://i.imgur.com/Gwq1pea.jpg\">http://i.imgur.com/gwq1pea.jpg</a>\r\n",
        "        </li>\r\n",
        "        <li>\r\n",
        "          <img src=\"http://i.imgur.com/As4jmJu.jpg\">\r\n",
        "        </li>\r\n",
        "        <li>\r\n",
        "          <a href=\"http://i.imgur.com/As4jmJu.jpg\">http://i.imgur.com/as4jmju.jpg</a>\r\n",
        "        </li>\r\n",
        "        <li>\r\n",
        "          <img src=\"http://i.imgur.com/J5tWv4f.jpg\">\r\n",
        "        </li>\r\n",
        "        <li>\r\n",
        "          <a href=\"http://i.imgur.com/J5tWv4f.jpg\">http://i.imgur.com/j5twv4f.jpg</a>\r\n",
        "        </li>\r\n",
        "        <li>\r\n",
        "          <img src=\"http://i.imgur.com/aKvLaSp.jpg\">\r\n",
        "        </li>\r\n",
        "        <li>\r\n",
        "          <a href=\"http://i.imgur.com/aKvLaSp.jpg\">http://i.imgur.com/akvlasp.jpg</a>\r\n",
        "        </li>\r\n",
        "        <li>\r\n",
        "          <img src=\"http://i.imgur.com/iebMRTk.jpg\">\r\n",
        "        </li>\r\n",
        "        <li>\r\n",
        "          <a href=\"http://i.imgur.com/iebMRTk.jpg\">http://i.imgur.com/iebmrtk.jpg</a>\r\n",
        "        </li>\r\n",
        "        <li>\r\n",
        "          <img src=\"http://i.imgur.com/PbybhGc.jpg\">\r\n",
        "        </li>\r\n",
        "        <li>\r\n",
        "          <a href=\"http://i.imgur.com/PbybhGc.jpg\">http://i.imgur.com/pbybhgc.jpg</a>\r\n",
        "        </li>\r\n",
        "        <li>\r\n",
        "          <img src=\"http://i.imgur.com/40RWPan.jpg?1?1014\">\r\n",
        "        </li>\r\n",
        "        <li>\r\n",
        "          <a href=\"http://i.imgur.com/40RWPan.jpg?1?1014\">http://i.imgur.com/40rwpan.jpg?1?1014</a>\r\n",
        "        </li>\r\n",
        "        <li>\r\n",
        "          <img src=\"http://i.imgur.com/M9S29ME.jpg?1\">\r\n",
        "        </li>\r\n",
        "        <li>\r\n",
        "          <a href=\"http://i.imgur.com/M9S29ME.jpg?1\">http://i.imgur.com/m9s29me.jpg?1</a>\r\n",
        "        </li>\r\n",
        "        <li>\r\n",
        "          <img src=\"http://i.imgur.com/QmLNayj.jpg\">\r\n",
        "        </li>\r\n",
        "        <li>\r\n",
        "          <a href=\"http://i.imgur.com/QmLNayj.jpg\">http://i.imgur.com/qmlnayj.jpg</a>\r\n",
        "        </li>\r\n",
        "        <li>\r\n",
        "          <img src=\"http://i.imgur.com/vb9FmGc.jpg\">\r\n",
        "        </li>\r\n",
        "        <li>\r\n",
        "          <a href=\"http://i.imgur.com/vb9FmGc.jpg\">http://i.imgur.com/vb9fmgc.jpg</a>\r\n",
        "        </li>\r\n",
        "        <li>\r\n",
        "          <img src=\"http://i.imgur.com/6FeT6SU.jpg\">\r\n",
        "        </li>\r\n",
        "        <li>\r\n",
        "          <a href=\"http://i.imgur.com/6FeT6SU.jpg\">http://i.imgur.com/6fet6su.jpg</a>\r\n",
        "        </li>\r\n",
        "        <li>\r\n",
        "          <img src=\"http://i.imgur.com/HF0zKkO.jpg\">\r\n",
        "        </li>\r\n",
        "        <li>\r\n",
        "          <a href=\"http://i.imgur.com/HF0zKkO.jpg\">http://i.imgur.com/hf0zkko.jpg</a>\r\n",
        "        </li>\r\n",
        "        <li>\r\n",
        "          <img src=\"http://i.imgur.com/xQW8c2H.jpg\">\r\n",
        "        </li>\r\n",
        "        <li>\r\n",
        "          <a href=\"http://i.imgur.com/xQW8c2H.jpg\">http://i.imgur.com/xqw8c2h.jpg</a>\r\n",
        "        </li>\r\n",
        "        <li>\r\n",
        "          <img src=\"http://i.imgur.com/NurXeuP.jpg\">\r\n",
        "        </li>\r\n",
        "        <li>\r\n",
        "          <a href=\"http://i.imgur.com/NurXeuP.jpg\">http://i.imgur.com/nurxeup.jpg</a>\r\n",
        "        </li>\r\n",
        "        <li>\r\n",
        "          <img src=\"http://i.imgur.com/20BHaXN.jpg\">\r\n",
        "        </li>\r\n",
        "        <li>\r\n",
        "          <a href=\"http://i.imgur.com/20BHaXN.jpg\">http://i.imgur.com/20bhaxn.jpg</a>\r\n",
        "        </li>\r\n",
        "        <li>\r\n",
        "          <img src=\"http://i.imgur.com/GI0tcjy.jpg?1\">\r\n",
        "        </li>\r\n",
        "        <li>\r\n",
        "          <a href=\"http://i.imgur.com/GI0tcjy.jpg?1\">http://i.imgur.com/gi0tcjy.jpg?1</a>\r\n",
        "        </li>\r\n",
        "        <li>\r\n",
        "          <img src=\"http://i.imgur.com/dOd8cuv.jpg\">\r\n",
        "        </li>\r\n",
        "        <li>\r\n",
        "          <a href=\"http://i.imgur.com/dOd8cuv.jpg\">http://i.imgur.com/dod8cuv.jpg</a>\r\n",
        "        </li>\r\n",
        "        <li>\r\n",
        "          <img src=\"http://i.imgur.com/Gwq1pea.jpg\">\r\n",
        "        </li>\r\n",
        "        <li>\r\n",
        "          <a href=\"http://i.imgur.com/Gwq1pea.jpg\">http://i.imgur.com/gwq1pea.jpg</a>\r\n",
        "        </li>\r\n",
        "        <li>\r\n",
        "          <img src=\"http://i.imgur.com/As4jmJu.jpg\">\r\n",
        "        </li>\r\n",
        "        <li>\r\n",
        "          <a href=\"http://i.imgur.com/As4jmJu.jpg\">http://i.imgur.com/as4jmju.jpg</a>\r\n",
        "        </li>\r\n",
        "        <li>\r\n",
        "          <img src=\"http://i.imgur.com/J5tWv4f.jpg\">\r\n",
        "        </li>\r\n",
        "        <li>\r\n",
        "          <a href=\"http://i.imgur.com/J5tWv4f.jpg\">http://i.imgur.com/j5twv4f.jpg</a>\r\n",
        "        </li>\r\n",
        "        <li>\r\n",
        "          <img src=\"http://i.imgur.com/aKvLaSp.jpg\">\r\n",
        "        </li>\r\n",
        "        <li>\r\n",
        "          <a href=\"http://i.imgur.com/aKvLaSp.jpg\">http://i.imgur.com/akvlasp.jpg</a>\r\n",
        "        </li>\r\n",
        "      </p>\r\n",
        "    </div>\r\n",
        "    <div class=\"body\">\r\n",
        "      <p>Lorem ipsum..</p>\r\n",
        "    </div>\r\n",
        "  </body>\r\n",
        "</html>"
       ]
      }
     ],
     "prompt_number": 316
    },
    {
     "cell_type": "code",
     "collapsed": false,
     "input": [
      "jplis"
     ],
     "language": "python",
     "metadata": {},
     "outputs": [
      {
       "metadata": {},
       "output_type": "pyout",
       "prompt_number": 317,
       "text": [
        "[u'http://i.imgur.com/iebMRTk.jpg',\n",
        " u'http://i.imgur.com/PbybhGc.jpg',\n",
        " u'http://i.imgur.com/40RWPan.jpg?1?1014',\n",
        " u'http://i.imgur.com/M9S29ME.jpg?1',\n",
        " u'http://i.imgur.com/QmLNayj.jpg',\n",
        " u'http://i.imgur.com/vb9FmGc.jpg',\n",
        " u'http://i.imgur.com/6FeT6SU.jpg',\n",
        " u'http://i.imgur.com/HF0zKkO.jpg',\n",
        " u'http://i.imgur.com/xQW8c2H.jpg',\n",
        " u'http://i.imgur.com/NurXeuP.jpg',\n",
        " u'http://i.imgur.com/20BHaXN.jpg',\n",
        " u'http://i.imgur.com/GI0tcjy.jpg?1',\n",
        " u'http://i.imgur.com/dOd8cuv.jpg',\n",
        " u'http://i.imgur.com/Gwq1pea.jpg',\n",
        " u'http://i.imgur.com/As4jmJu.jpg',\n",
        " u'http://i.imgur.com/J5tWv4f.jpg',\n",
        " u'http://i.imgur.com/aKvLaSp.jpg',\n",
        " u'http://i.imgur.com/iebMRTk.jpg',\n",
        " u'http://i.imgur.com/PbybhGc.jpg',\n",
        " u'http://i.imgur.com/40RWPan.jpg?1?1014',\n",
        " u'http://i.imgur.com/M9S29ME.jpg?1',\n",
        " u'http://i.imgur.com/QmLNayj.jpg',\n",
        " u'http://i.imgur.com/vb9FmGc.jpg',\n",
        " u'http://i.imgur.com/6FeT6SU.jpg',\n",
        " u'http://i.imgur.com/HF0zKkO.jpg',\n",
        " u'http://i.imgur.com/xQW8c2H.jpg',\n",
        " u'http://i.imgur.com/NurXeuP.jpg',\n",
        " u'http://i.imgur.com/20BHaXN.jpg',\n",
        " u'http://i.imgur.com/GI0tcjy.jpg?1',\n",
        " u'http://i.imgur.com/dOd8cuv.jpg',\n",
        " u'http://i.imgur.com/Gwq1pea.jpg',\n",
        " u'http://i.imgur.com/As4jmJu.jpg',\n",
        " u'http://i.imgur.com/J5tWv4f.jpg',\n",
        " u'http://i.imgur.com/aKvLaSp.jpg']"
       ]
      }
     ],
     "prompt_number": 317
    },
    {
     "cell_type": "code",
     "collapsed": false,
     "input": [
      "rdnew"
     ],
     "language": "python",
     "metadata": {},
     "outputs": [
      {
       "metadata": {},
       "output_type": "pyout",
       "prompt_number": 318,
       "text": [
        "[<praw.objects.Submission at 0x26b7090>,\n",
        " <praw.objects.Submission at 0x26b7750>,\n",
        " <praw.objects.Submission at 0x26b7850>,\n",
        " <praw.objects.Submission at 0x26b7950>,\n",
        " <praw.objects.Submission at 0x26b7a10>,\n",
        " <praw.objects.Submission at 0x26b7b10>,\n",
        " <praw.objects.Submission at 0x26b7c10>,\n",
        " <praw.objects.Submission at 0x26b7d10>,\n",
        " <praw.objects.Submission at 0x26b7e50>,\n",
        " <praw.objects.Submission at 0x26b7f50>,\n",
        " <praw.objects.Submission at 0x2831090>,\n",
        " <praw.objects.Submission at 0x2831190>,\n",
        " <praw.objects.Submission at 0x2831290>,\n",
        " <praw.objects.Submission at 0x2831390>,\n",
        " <praw.objects.Submission at 0x2831510>,\n",
        " <praw.objects.Submission at 0x2831610>,\n",
        " <praw.objects.Submission at 0x28316d0>,\n",
        " <praw.objects.Submission at 0x2831810>,\n",
        " <praw.objects.Submission at 0x2831910>,\n",
        " <praw.objects.Submission at 0x2831a50>,\n",
        " <praw.objects.Submission at 0x2831b50>,\n",
        " <praw.objects.Submission at 0x2831c50>,\n",
        " <praw.objects.Submission at 0x2831d50>,\n",
        " <praw.objects.Submission at 0x2831e50>,\n",
        " <praw.objects.Submission at 0x2831f50>]"
       ]
      }
     ],
     "prompt_number": 318
    },
    {
     "cell_type": "code",
     "collapsed": false,
     "input": [
      "ransubz = random.randint(0,24)"
     ],
     "language": "python",
     "metadata": {},
     "outputs": [],
     "prompt_number": 319
    },
    {
     "cell_type": "code",
     "collapsed": false,
     "input": [
      "print ransubz"
     ],
     "language": "python",
     "metadata": {},
     "outputs": [
      {
       "output_type": "stream",
       "stream": "stdout",
       "text": [
        "8\n"
       ]
      }
     ],
     "prompt_number": 320
    },
    {
     "cell_type": "code",
     "collapsed": false,
     "input": [
      "ransev = rdnew[ransubz]"
     ],
     "language": "python",
     "metadata": {},
     "outputs": [],
     "prompt_number": 321
    },
    {
     "cell_type": "code",
     "collapsed": false,
     "input": [
      "rgdautoz = str(ransev.author)\n"
     ],
     "language": "python",
     "metadata": {},
     "outputs": [],
     "prompt_number": 322
    },
    {
     "cell_type": "code",
     "collapsed": false,
     "input": [
      "rgdsubred = str(ransev.subreddit)"
     ],
     "language": "python",
     "metadata": {},
     "outputs": [],
     "prompt_number": 323
    },
    {
     "cell_type": "code",
     "collapsed": false,
     "input": [
      "sutit = ('[' + rgdsubred + ']')"
     ],
     "language": "python",
     "metadata": {},
     "outputs": [],
     "prompt_number": 324
    },
    {
     "cell_type": "code",
     "collapsed": false,
     "input": [
      "sutit"
     ],
     "language": "python",
     "metadata": {},
     "outputs": [
      {
       "metadata": {},
       "output_type": "pyout",
       "prompt_number": 325,
       "text": [
        "'[redditgetsdrawn]'"
       ]
      }
     ],
     "prompt_number": 325
    },
    {
     "cell_type": "code",
     "collapsed": false,
     "input": [
      "rgdaqwew = ('xpost[RGD]' + rgdautoz)"
     ],
     "language": "python",
     "metadata": {},
     "outputs": [],
     "prompt_number": 326
    },
    {
     "cell_type": "code",
     "collapsed": false,
     "input": [
      "rgdaturo = str(ransev.url)"
     ],
     "language": "python",
     "metadata": {},
     "outputs": [],
     "prompt_number": 327
    },
    {
     "cell_type": "code",
     "collapsed": false,
     "input": [
      "rgdatit = str(ransev.title)"
     ],
     "language": "python",
     "metadata": {},
     "outputs": [],
     "prompt_number": 328
    },
    {
     "cell_type": "code",
     "collapsed": false,
     "input": [
      "rgdatit"
     ],
     "language": "python",
     "metadata": {},
     "outputs": [
      {
       "metadata": {},
       "output_type": "pyout",
       "prompt_number": 329,
       "text": [
        "'My friend and coworker who taught me so much about helping people and being a better person.'"
       ]
      }
     ],
     "prompt_number": 329
    },
    {
     "cell_type": "code",
     "collapsed": false,
     "input": [
      "#rd.get_top"
     ],
     "language": "python",
     "metadata": {},
     "outputs": [],
     "prompt_number": 330
    },
    {
     "cell_type": "code",
     "collapsed": false,
     "input": [
      "linkdict = {}"
     ],
     "language": "python",
     "metadata": {},
     "outputs": [],
     "prompt_number": 331
    },
    {
     "cell_type": "code",
     "collapsed": false,
     "input": [
      "ls"
     ],
     "language": "python",
     "metadata": {},
     "outputs": [
      {
       "output_type": "stream",
       "stream": "stdout",
       "text": [
        "index.html\r\n"
       ]
      }
     ],
     "prompt_number": 332
    },
    {
     "cell_type": "code",
     "collapsed": false,
     "input": [
      "ady = r.get_subreddit('artcontroldrawsyou')"
     ],
     "language": "python",
     "metadata": {},
     "outputs": [],
     "prompt_number": 333
    },
    {
     "cell_type": "code",
     "collapsed": false,
     "input": [
      "comrgd =  rgdatit + ' ' + rgdaturo"
     ],
     "language": "python",
     "metadata": {},
     "outputs": [],
     "prompt_number": 334
    },
    {
     "cell_type": "code",
     "collapsed": false,
     "input": [
      "comrgd"
     ],
     "language": "python",
     "metadata": {},
     "outputs": [
      {
       "metadata": {},
       "output_type": "pyout",
       "prompt_number": 335,
       "text": [
        "'My friend and coworker who taught me so much about helping people and being a better person. http://i.imgur.com/HF0zKkO.jpg'"
       ]
      }
     ],
     "prompt_number": 335
    },
    {
     "cell_type": "code",
     "collapsed": false,
     "input": [
      "import time"
     ],
     "language": "python",
     "metadata": {},
     "outputs": [],
     "prompt_number": 336
    },
    {
     "cell_type": "code",
     "collapsed": false,
     "input": [
      "loctime = time.localtime()"
     ],
     "language": "python",
     "metadata": {},
     "outputs": [],
     "prompt_number": 337
    },
    {
     "cell_type": "code",
     "collapsed": false,
     "input": [
      "loctime.tm_mday"
     ],
     "language": "python",
     "metadata": {},
     "outputs": [
      {
       "metadata": {},
       "output_type": "pyout",
       "prompt_number": 338,
       "text": [
        "2"
       ]
      }
     ],
     "prompt_number": 338
    },
    {
     "cell_type": "code",
     "collapsed": false,
     "input": [
      "loctime.tm_mon"
     ],
     "language": "python",
     "metadata": {},
     "outputs": [
      {
       "metadata": {},
       "output_type": "pyout",
       "prompt_number": 339,
       "text": [
        "8"
       ]
      }
     ],
     "prompt_number": 339
    },
    {
     "cell_type": "code",
     "collapsed": false,
     "input": [
      "thedat = (str(loctime.tm_mday) + '/' + str(loctime.tm_mon))"
     ],
     "language": "python",
     "metadata": {},
     "outputs": [],
     "prompt_number": 340
    },
    {
     "cell_type": "code",
     "collapsed": false,
     "input": [
      "thedat"
     ],
     "language": "python",
     "metadata": {},
     "outputs": [
      {
       "metadata": {},
       "output_type": "pyout",
       "prompt_number": 341,
       "text": [
        "'2/8'"
       ]
      }
     ],
     "prompt_number": 341
    },
    {
     "cell_type": "code",
     "collapsed": false,
     "input": [
      "mixtut = (thedat + sutit + rgdautoz)"
     ],
     "language": "python",
     "metadata": {},
     "outputs": [],
     "prompt_number": 342
    },
    {
     "cell_type": "code",
     "collapsed": false,
     "input": [
      "loctime"
     ],
     "language": "python",
     "metadata": {},
     "outputs": [
      {
       "metadata": {},
       "output_type": "pyout",
       "prompt_number": 343,
       "text": [
        "time.struct_time(tm_year=2014, tm_mon=8, tm_mday=2, tm_hour=23, tm_min=34, tm_sec=12, tm_wday=5, tm_yday=214, tm_isdst=0)"
       ]
      }
     ],
     "prompt_number": 343
    },
    {
     "cell_type": "code",
     "collapsed": false,
     "input": [
      "ady.submit(mixtut , (rgdaqwew, comrgd))"
     ],
     "language": "python",
     "metadata": {},
     "outputs": [
      {
       "metadata": {},
       "output_type": "pyout",
       "prompt_number": 344,
       "text": [
        "<praw.objects.Submission at 0x24540d0>"
       ]
      }
     ],
     "prompt_number": 344
    },
    {
     "cell_type": "raw",
     "metadata": {},
     "source": [
      "for newa in rdnew:\n",
      "    #rint newa.url\n",
      "    print len(newa)\n",
      "    htmstr = (str(newa.title) + '<a href=\"' + \n",
      "                 str(newa.url) + \n",
      "                 '\"><img class=\"aligncenter size-large wp-image-5723\" alt=\"' +\n",
      "                 str(newa.author) +\n",
      "                 '\" src=\"' + \n",
      "                 str(newa.url) + \n",
      "                 '\" /></a>')\n",
      "    #ophtml.write(htmstr)\n",
      "    #ady.submit(('[RGD]' + newa.author), newa.url)\n",
      "    print newa.author\n",
      "    #print newa.media\n",
      "    ophtml.write(htmstr)\n",
      "    print newa.selftext\n",
      "    print newa.url\n",
      "    print newa.num_comments\n",
      "    \n",
      "    linkdict.update({str(newa.author): str(newa.url)})\n"
     ]
    },
    {
     "cell_type": "code",
     "collapsed": false,
     "input": [
      "#print str(newa.title)"
     ],
     "language": "python",
     "metadata": {},
     "outputs": [],
     "prompt_number": 345
    },
    {
     "cell_type": "code",
     "collapsed": false,
     "input": [
      "import json"
     ],
     "language": "python",
     "metadata": {},
     "outputs": [],
     "prompt_number": 346
    },
    {
     "cell_type": "code",
     "collapsed": false,
     "input": [
      "newzjson = json.dumps(linkdict)"
     ],
     "language": "python",
     "metadata": {},
     "outputs": []
    },
    {
     "cell_type": "code",
     "collapsed": false,
     "input": [
      "#newzjson"
     ],
     "language": "python",
     "metadata": {},
     "outputs": []
    },
    {
     "cell_type": "code",
     "collapsed": false,
     "input": [],
     "language": "python",
     "metadata": {},
     "outputs": [],
     "prompt_number": 201
    },
    {
     "cell_type": "code",
     "collapsed": false,
     "input": [
      "rmine = r.get_redditor('itwillbemine')\n"
     ],
     "language": "python",
     "metadata": {},
     "outputs": [],
     "prompt_number": 202
    },
    {
     "cell_type": "code",
     "collapsed": false,
     "input": [
      "#opest = open('userurl.json', 'r')\n",
      "#opest.read()\n",
      "#opest.close()"
     ],
     "language": "python",
     "metadata": {},
     "outputs": [],
     "prompt_number": 203
    },
    {
     "cell_type": "code",
     "collapsed": false,
     "input": [
      "mincom = rmine.get_comments()"
     ],
     "language": "python",
     "metadata": {},
     "outputs": [],
     "prompt_number": 204
    },
    {
     "cell_type": "code",
     "collapsed": false,
     "input": [
      "#print mincom"
     ],
     "language": "python",
     "metadata": {},
     "outputs": [],
     "prompt_number": 205
    },
    {
     "cell_type": "code",
     "collapsed": false,
     "input": [
      "minels = []"
     ],
     "language": "python",
     "metadata": {},
     "outputs": [],
     "prompt_number": 206
    },
    {
     "cell_type": "code",
     "collapsed": false,
     "input": [
      "\n",
      "dausr = {}"
     ],
     "language": "python",
     "metadata": {},
     "outputs": [],
     "prompt_number": 207
    },
    {
     "cell_type": "code",
     "collapsed": false,
     "input": [
      "for newa in rdnew:\n",
      "    #rint newa.url\n",
      "    #print newa.author\n",
      "    linkdict.update({str(newa.author): str(newa.url)})"
     ],
     "language": "python",
     "metadata": {},
     "outputs": [],
     "prompt_number": 208
    },
    {
     "cell_type": "code",
     "collapsed": false,
     "input": [
      "for con in mincom:\n",
      "    #print con.body\n",
      "    minels.append(con)\n",
      "    dausr.update({str(con.id): str(con.body)})"
     ],
     "language": "python",
     "metadata": {},
     "outputs": [],
     "prompt_number": 209
    },
    {
     "cell_type": "code",
     "collapsed": false,
     "input": [
      "minels"
     ],
     "language": "python",
     "metadata": {},
     "outputs": [
      {
       "metadata": {},
       "output_type": "pyout",
       "prompt_number": 210,
       "text": [
        "[<praw.objects.Comment at 0x203bbd0>,\n",
        " <praw.objects.Comment at 0x2430a90>,\n",
        " <praw.objects.Comment at 0x2430ed0>,\n",
        " <praw.objects.Comment at 0x2430fd0>,\n",
        " <praw.objects.Comment at 0x2430950>,\n",
        " <praw.objects.Comment at 0x2430b90>,\n",
        " <praw.objects.Comment at 0x2430e90>,\n",
        " <praw.objects.Comment at 0x241d410>,\n",
        " <praw.objects.Comment at 0x241d110>,\n",
        " <praw.objects.Comment at 0x241d790>,\n",
        " <praw.objects.Comment at 0x2427ad0>,\n",
        " <praw.objects.Comment at 0x2428610>,\n",
        " <praw.objects.Comment at 0x2428a10>,\n",
        " <praw.objects.Comment at 0x2428910>,\n",
        " <praw.objects.Comment at 0x2428810>,\n",
        " <praw.objects.Comment at 0x2428710>,\n",
        " <praw.objects.Comment at 0x242add0>,\n",
        " <praw.objects.Comment at 0x24c4090>,\n",
        " <praw.objects.Comment at 0x24c4190>,\n",
        " <praw.objects.Comment at 0x24c4250>,\n",
        " <praw.objects.Comment at 0x24c4350>,\n",
        " <praw.objects.Comment at 0x24c4490>,\n",
        " <praw.objects.Comment at 0x24c4590>,\n",
        " <praw.objects.Comment at 0x24c4690>,\n",
        " <praw.objects.Comment at 0x24c4790>]"
       ]
      }
     ],
     "prompt_number": 210
    },
    {
     "cell_type": "code",
     "collapsed": false,
     "input": [
      "noizjson = json.dumps(dausr)"
     ],
     "language": "python",
     "metadata": {},
     "outputs": [],
     "prompt_number": 211
    },
    {
     "cell_type": "code",
     "collapsed": false,
     "input": [
      "newposts = open('userurl.json', 'a')\n",
      "newposts.write(newzjson)\n",
      "print ('file userurl.json updated')\n",
      "newcomments = open('idcomt.json', 'a')\n",
      "newcomments.write(noizjson)\n",
      "print ('user comments updated')\n",
      "newposts.close()\n",
      "newcomments.close()"
     ],
     "language": "python",
     "metadata": {},
     "outputs": [
      {
       "output_type": "stream",
       "stream": "stdout",
       "text": [
        "file userurl.json updated\n",
        "user comments updated\n"
       ]
      }
     ],
     "prompt_number": 212
    },
    {
     "cell_type": "code",
     "collapsed": false,
     "input": [
      "rdusr = str(con.author)\n"
     ],
     "language": "python",
     "metadata": {},
     "outputs": [],
     "prompt_number": 213
    },
    {
     "cell_type": "code",
     "collapsed": false,
     "input": [
      "minelsz = []"
     ],
     "language": "python",
     "metadata": {},
     "outputs": [],
     "prompt_number": 214
    },
    {
     "cell_type": "code",
     "collapsed": false,
     "input": [
      "ls"
     ],
     "language": "python",
     "metadata": {},
     "outputs": [
      {
       "output_type": "stream",
       "stream": "stdout",
       "text": [
        "idcomt.json  index.html  userurl.json\r\n"
       ]
      }
     ],
     "prompt_number": 215
    },
    {
     "cell_type": "code",
     "collapsed": false,
     "input": [
      "#for mina in minels:\n",
      "    #print mina.body\n",
      "   # minelsz.append(mina.body)"
     ],
     "language": "python",
     "metadata": {},
     "outputs": [],
     "prompt_number": 216
    },
    {
     "cell_type": "code",
     "collapsed": false,
     "input": [
      "#minelsz"
     ],
     "language": "python",
     "metadata": {},
     "outputs": [],
     "prompt_number": 217
    },
    {
     "cell_type": "code",
     "collapsed": false,
     "input": [
      "#mina.body"
     ],
     "language": "python",
     "metadata": {},
     "outputs": [],
     "prompt_number": 218
    },
    {
     "cell_type": "code",
     "collapsed": false,
     "input": [
      "cat idcomt.json"
     ],
     "language": "python",
     "metadata": {},
     "outputs": [
      {
       "output_type": "stream",
       "stream": "stdout",
       "text": [
        "{\"cjf39lh\": \"Posting, deleting, reposting, frequent posting = ban\\n\\nhttp://www.reddit.com/r/redditgetsdrawn/comments/2cd8rg/hey_rgd_can_you_please_draw_me_and_my_son_as_our/\", \"cjf2y0s\": \"I marked this NSFW for you - please use that button in the future as appropriate.\", \"cjeysgu\": \"GIFT :)\", \"cjf0qu1\": \"Why, thank you!\", \"cjf2z5c\": \"Your post was removed; see our rule on weddings.\", \"cjf08y2\": \"&lt;3\", \"cjf3205\": \"Gift posts aren't allowed, so your post was removed.\", \"cjf2wx9\": \"Gift posts aren't allowed, so your post was removed.\", \"cjf37hg\": \"Both of your posts have been removed. Deleting posts is not allowed. Read our rules.\", \"cjf3154\": \"At my workplace, it most certainly would.\", \"cjf3a5a\": \"You broke our frequent posting rule:\\n\\nhttp://www.reddit.com/r/redditgetsdrawn/comments/2cft4l/anyone_want_to_draw_me/\\n\\nThis post was removed.\", \"cjf38yi\": \"Posting, deleting, reposting, frequent posting = ban\\n\\nhttp://www.reddit.com/r/redditgetsdrawn/comments/2ce8fk/new_guy_here_could_someone_please_make_a_drawing/\", \"cjf367h\": \"You can be shitty at drawing - hey, I am too! But you do have to give it a serious attempt. So beginners have to take care to try their best in order to not have their submissions confused with troll art.\\n\\nRegarding you comment about fun, [oh yes, I like to have fun](http://i.imgur.com/vbfPgyD.gif)\", \"cjf32a5\": \"Sad posts aren't allowed, so this was removed. Please read our rules.\", \"cjf3383\": \"All children have to be clothed, so your post was removed.\", \"cjf2pnz\": \"Layperson's opinion: Number 1 - it contains a haunting quality that the second didn't make me feel. Both are spectacular.\", \"cjf2vyh\": \"Your comment was inappropriate and was removed. Please consider this a warning.\", \"cjf2orb\": \"Please don't say things like \\\"best\\\" or \\\"win\\\" in this sub - if you must, use the word \\\"favorite\\\" - it's less insulting and less controversial to the other artists. Thanks!\", \"cjf0q9m\": \"Hey man, whatever tips yer hat.\", \"cjf33jy\": \"Gift posts aren't allowed, so your post was removed.\", \"cjf44wj\": \"It might be the tree and it's angles, along with the angle of the ground as well as the shadows in the foreground. In the second one, the trees/line are more uniform (and thus, more comforting)? \\n\\nThey are both beautiful. Love them!\", \"cjf2xbt\": \"Post removed for having an unclear title. Please review our rules.\", \"cjf30ss\": \"You can't give names in this sub, so your post was removed.\", \"cjf2wmc\": \"Your images are not publicly available, so your post was removed.\", \"cjf32v2\": \"1) unclear title\\n\\n2) sad title\\n\\n3) gift post\\n\\n\\nYou broke three rules in one go! Congrats! Please read our rules before posting.\"}{\"cjf39lh\": \"Posting, deleting, reposting, frequent posting = ban\\n\\nhttp://www.reddit.com/r/redditgetsdrawn/comments/2cd8rg/hey_rgd_can_you_please_draw_me_and_my_son_as_our/\", \"cjf2y0s\": \"I marked this NSFW for you - please use that button in the future as appropriate.\", \"cjeysgu\": \"GIFT :)\", \"cjf0qu1\": \"Why, thank you!\", \"cjf2z5c\": \"Your post was removed; see our rule on weddings.\", \"cjf08y2\": \"&lt;3\", \"cjf3205\": \"Gift posts aren't allowed, so your post was removed.\", \"cjf2wx9\": \"Gift posts aren't allowed, so your post was removed.\", \"cjf37hg\": \"Both of your posts have been removed. Deleting posts is not allowed. Read our rules.\", \"cjf3154\": \"At my workplace, it most certainly would.\", \"cjf3a5a\": \"You broke our frequent posting rule:\\n\\nhttp://www.reddit.com/r/redditgetsdrawn/comments/2cft4l/anyone_want_to_draw_me/\\n\\nThis post was removed.\", \"cjf38yi\": \"Posting, deleting, reposting, frequent posting = ban\\n\\nhttp://www.reddit.com/r/redditgetsdrawn/comments/2ce8fk/new_guy_here_could_someone_please_make_a_drawing/\", \"cjf367h\": \"You can be shitty at drawing - hey, I am too! But you do have to give it a serious attempt. So beginners have to take care to try their best in order to not have their submissions confused with troll art.\\n\\nRegarding you comment about fun, [oh yes, I like to have fun](http://i.imgur.com/vbfPgyD.gif)\", \"cjf32a5\": \"Sad posts aren't allowed, so this was removed. Please read our rules.\", \"cjf3383\": \"All children have to be clothed, so your post was removed.\", \"cjf2pnz\": \"Layperson's opinion: Number 1 - it contains a haunting quality that the second didn't make me feel. Both are spectacular.\", \"cjf2vyh\": \"Your comment was inappropriate and was removed. Please consider this a warning.\", \"cjf2orb\": \"Please don't say things like \\\"best\\\" or \\\"win\\\" in this sub - if you must, use the word \\\"favorite\\\" - it's less insulting and less controversial to the other artists. Thanks!\", \"cjf0q9m\": \"Hey man, whatever tips yer hat.\", \"cjf33jy\": \"Gift posts aren't allowed, so your post was removed.\", \"cjf44wj\": \"It might be the tree and it's angles, along with the angle of the ground as well as the shadows in the foreground. In the second one, the trees/line are more uniform (and thus, more comforting)? \\n\\nThey are both beautiful. Love them!\", \"cjf2xbt\": \"Post removed for having an unclear title. Please review our rules.\", \"cjf30ss\": \"You can't give names in this sub, so your post was removed.\", \"cjf2wmc\": \"Your images are not publicly available, so your post was removed.\", \"cjf32v2\": \"1) unclear title\\n\\n2) sad title\\n\\n3) gift post\\n\\n\\nYou broke three rules in one go! Congrats! Please read our rules before posting.\"}{\"cjf39lh\": \"Posting, deleting, reposting, frequent posting = ban\\n\\nhttp://www.reddit.com/r/redditgetsdrawn/comments/2cd8rg/hey_rgd_can_you_please_draw_me_and_my_son_as_our/\", \"cjf2y0s\": \"I marked this NSFW for you - please use that button in the future as appropriate.\", \"cjeysgu\": \"GIFT :)\", \"cjf0qu1\": \"Why, thank you!\", \"cjf2z5c\": \"Your post was removed; see our rule on weddings.\", \"cjf08y2\": \"&lt;3\", \"cjf3205\": \"Gift posts aren't allowed, so your post was removed.\", \"cjf2wx9\": \"Gift posts aren't allowed, so your post was removed.\", \"cjf37hg\": \"Both of your posts have been removed. Deleting posts is not allowed. Read our rules.\", \"cjf3154\": \"At my workplace, it most certainly would.\", \"cjf3a5a\": \"You broke our frequent posting rule:\\n\\nhttp://www.reddit.com/r/redditgetsdrawn/comments/2cft4l/anyone_want_to_draw_me/\\n\\nThis post was removed.\", \"cjf38yi\": \"Posting, deleting, reposting, frequent posting = ban\\n\\nhttp://www.reddit.com/r/redditgetsdrawn/comments/2ce8fk/new_guy_here_could_someone_please_make_a_drawing/\", \"cjf367h\": \"You can be shitty at drawing - hey, I am too! But you do have to give it a serious attempt. So beginners have to take care to try their best in order to not have their submissions confused with troll art.\\n\\nRegarding you comment about fun, [oh yes, I like to have fun](http://i.imgur.com/vbfPgyD.gif)\", \"cjf32a5\": \"Sad posts aren't allowed, so this was removed. Please read our rules.\", \"cjf3383\": \"All children have to be clothed, so your post was removed.\", \"cjf2pnz\": \"Layperson's opinion: Number 1 - it contains a haunting quality that the second didn't make me feel. Both are spectacular.\", \"cjf2vyh\": \"Your comment was inappropriate and was removed. Please consider this a warning.\", \"cjf2orb\": \"Please don't say things like \\\"best\\\" or \\\"win\\\" in this sub - if you must, use the word \\\"favorite\\\" - it's less insulting and less controversial to the other artists. Thanks!\", \"cjf0q9m\": \"Hey man, whatever tips yer hat.\", \"cjf33jy\": \"Gift posts aren't allowed, so your post was removed.\", \"cjf44wj\": \"It might be the tree and it's angles, along with the angle of the ground as well as the shadows in the foreground. In the second one, the trees/line are more uniform (and thus, more comforting)? \\n\\nThey are both beautiful. Love them!\", \"cjf2xbt\": \"Post removed for having an unclear title. Please review our rules.\", \"cjf30ss\": \"You can't give names in this sub, so your post was removed.\", \"cjf2wmc\": \"Your images are not publicly available, so your post was removed.\", \"cjf32v2\": \"1) unclear title\\n\\n2) sad title\\n\\n3) gift post\\n\\n\\nYou broke three rules in one go! Congrats! Please read our rules before posting.\"}"
       ]
      }
     ],
     "prompt_number": 219
    },
    {
     "cell_type": "code",
     "collapsed": false,
     "input": [],
     "language": "python",
     "metadata": {},
     "outputs": []
    }
   ],
   "metadata": {}
  }
 ]
}