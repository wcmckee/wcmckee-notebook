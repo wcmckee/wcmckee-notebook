{
 "metadata": {
  "name": "",
  "signature": "sha256:7b5df030df3e635a6a4ef6bfa76917953a4e56f03ec2005adaf1729983bc72b7"
 },
 "nbformat": 3,
 "nbformat_minor": 0,
 "worksheets": [
  {
   "cells": [
    {
     "cell_type": "markdown",
     "metadata": {},
     "source": [
      "RedditGetsDrawn Snatch\n",
      "\n",
      "This is a Python script that takes data from reddit and posts it to another subreddit. It also creates a html file with the images embed into. The images are the most recent 25 on r/redditgetsdrawn.\n",
      "\n"
     ]
    },
    {
     "cell_type": "markdown",
     "metadata": {},
     "source": [
      "TODO\n",
      "\n",
      "submit art to users via website\n",
      "\n",
      "fix image sizes (need to scale down to 550px)\n",
      "\n",
      "Save to server rather than imgur\n",
      "\n",
      "Archieve, snapshots of rgd\n",
      "\n",
      "more artcontrol\n",
      "\n",
      "itwillbemine comments to html\n",
      "\n",
      "work on css, div up page, title, side, body, footer\n",
      "\n"
     ]
    },
    {
     "cell_type": "code",
     "collapsed": false,
     "input": [
      "import os\n",
      "import random\n",
      "import requests\n",
      "import re\n",
      "import json\n",
      "import time\n",
      "import praw\n",
      "import dominate\n",
      "from dominate.tags import *\n"
     ],
     "language": "python",
     "metadata": {},
     "outputs": [],
     "prompt_number": 8
    },
    {
     "cell_type": "code",
     "collapsed": false,
     "input": [
      "os.chdir('/var/www/artcontroldrawsyou')"
     ],
     "language": "python",
     "metadata": {},
     "outputs": [],
     "prompt_number": 9
    },
    {
     "cell_type": "code",
     "collapsed": false,
     "input": [
      "r = praw.Reddit(user_agent='rgdsnatch')"
     ],
     "language": "python",
     "metadata": {},
     "outputs": [],
     "prompt_number": 10
    },
    {
     "cell_type": "code",
     "collapsed": false,
     "input": [
      "#r.login()"
     ],
     "language": "python",
     "metadata": {},
     "outputs": [],
     "prompt_number": 11
    },
    {
     "cell_type": "code",
     "collapsed": false,
     "input": [
      "rd = r.get_subreddit('redditgetsdrawn')"
     ],
     "language": "python",
     "metadata": {},
     "outputs": [],
     "prompt_number": 12
    },
    {
     "cell_type": "code",
     "collapsed": false,
     "input": [
      "rdnewz = rd.get_new()"
     ],
     "language": "python",
     "metadata": {},
     "outputs": [],
     "prompt_number": 13
    },
    {
     "cell_type": "code",
     "collapsed": false,
     "input": [
      "rdnew = []"
     ],
     "language": "python",
     "metadata": {},
     "outputs": [],
     "prompt_number": 14
    },
    {
     "cell_type": "code",
     "collapsed": false,
     "input": [
      "rdnew"
     ],
     "language": "python",
     "metadata": {},
     "outputs": [
      {
       "metadata": {},
       "output_type": "pyout",
       "prompt_number": 15,
       "text": [
        "[]"
       ]
      }
     ],
     "prompt_number": 15
    },
    {
     "cell_type": "code",
     "collapsed": false,
     "input": [
      "for uz in rdnewz:\n",
      "    #print uz\n",
      "    rdnew.append(uz)"
     ],
     "language": "python",
     "metadata": {},
     "outputs": [],
     "prompt_number": 16
    },
    {
     "cell_type": "code",
     "collapsed": false,
     "input": [
      "urzlis = []\n",
      "titlis = []"
     ],
     "language": "python",
     "metadata": {},
     "outputs": [],
     "prompt_number": 17
    },
    {
     "cell_type": "code",
     "collapsed": false,
     "input": [
      "#os.chdir('imgs')"
     ],
     "language": "python",
     "metadata": {},
     "outputs": [],
     "prompt_number": 18
    },
    {
     "cell_type": "code",
     "collapsed": false,
     "input": [
      "for rdn in rdnew:\n",
      "    print rdn.url\n",
      "    urzlis.append(rdn.url)\n",
      "    titlis.append(rdn.author.name)\n",
      "    "
     ],
     "language": "python",
     "metadata": {},
     "outputs": [
      {
       "output_type": "stream",
       "stream": "stdout",
       "text": [
        "http://i.imgur.com/kPLXoVD.jpg\n",
        "http://imgur.com/n6nE8yv\n",
        "http://imgur.com/48PTQL9\n",
        "http://i.imgur.com/QxZ83W0.jpg\n",
        "http://i.imgur.com/LgOYBcS.jpg\n",
        "http://imgur.com/55OKmFU\n",
        "http://i.imgur.com/cx0X5hx.jpg\n",
        "http://i.imgur.com/4zeHQrp.jpg\n",
        "http://imgur.com/gallery/4DHzJ/new\n",
        "http://i.imgur.com/eRX1HoR.jpg\n",
        "http://i.imgur.com/f7omtH6.jpg\n",
        "http://i.imgur.com/k6zWbLE.jpg\n",
        "http://i.imgur.com/HQ2CRtf.jpg\n",
        "http://imgur.com/4l71GF7\n",
        "http://imgur.com/s5VPBT7\n",
        "http://imgur.com/2Or37Rp\n",
        "http://imgur.com/gSUjOab\n",
        "http://imgur.com/GnfU6XJ\n",
        "http://i.imgur.com/4BVMVXBh.jpg\n",
        "http://imgur.com/WQnsseE\n",
        "http://i.imgur.com/ETnGwP9.jpg\n",
        "http://imgur.com/uQeYQXx\n",
        "http://i.imgur.com/3memBDF.jpg\n",
        "http://i.imgur.com/bwCQHn8.jpg\n",
        "http://i.imgur.com/T4ms6Pc.jpg\n"
       ]
      }
     ],
     "prompt_number": 19
    },
    {
     "cell_type": "code",
     "collapsed": false,
     "input": [
      "titlis"
     ],
     "language": "python",
     "metadata": {},
     "outputs": [
      {
       "metadata": {},
       "output_type": "pyout",
       "prompt_number": 20,
       "text": [
        "[u'xrainbow-britex',\n",
        " u'BettyVonBlack',\n",
        " u'Dharmie-',\n",
        " u'life_at_the_lake',\n",
        " u'Uhm_yup',\n",
        " u'BlubbethGoat',\n",
        " u'LeedlePizza',\n",
        " u'Zancanda',\n",
        " u'fenterson',\n",
        " u'kaybaby00',\n",
        " u'Fatty_Cat',\n",
        " u'cattata',\n",
        " u'Omridd1',\n",
        " u'Trentl14',\n",
        " u'oldschool_ent',\n",
        " u'Acromioon',\n",
        " u'iloveyousarah',\n",
        " u'BlackGuyReadsThis',\n",
        " u'Mr_Bl00DY',\n",
        " u'2ndhandskin',\n",
        " u'orvane',\n",
        " u'Booboo_the_bear',\n",
        " u'Acemyke',\n",
        " u'dddg',\n",
        " u'Jisifus']"
       ]
      }
     ],
     "prompt_number": 20
    },
    {
     "cell_type": "code",
     "collapsed": false,
     "input": [
      "jplis = []"
     ],
     "language": "python",
     "metadata": {},
     "outputs": [],
     "prompt_number": 21
    },
    {
     "cell_type": "code",
     "collapsed": false,
     "input": [
      "from time import gmtime, strftime\n"
     ],
     "language": "python",
     "metadata": {},
     "outputs": [],
     "prompt_number": 22
    },
    {
     "cell_type": "code",
     "collapsed": false,
     "input": [
      "for iz in jplis:\n",
      "    print iz"
     ],
     "language": "python",
     "metadata": {},
     "outputs": [],
     "prompt_number": 23
    },
    {
     "cell_type": "code",
     "collapsed": false,
     "input": [
      "for urz in urzlis:\n",
      "    if '.jpg' in urz:\n",
      "        jplis.append(urz)"
     ],
     "language": "python",
     "metadata": {},
     "outputs": [],
     "prompt_number": 24
    },
    {
     "cell_type": "code",
     "collapsed": false,
     "input": [
      "doc = dominate.document(title='artcontroldrawsyou')"
     ],
     "language": "python",
     "metadata": {},
     "outputs": [],
     "prompt_number": 25
    },
    {
     "cell_type": "code",
     "collapsed": false,
     "input": [],
     "language": "python",
     "metadata": {},
     "outputs": [],
     "prompt_number": 25
    },
    {
     "cell_type": "code",
     "collapsed": false,
     "input": [
      "with doc.head:\n",
      "    link(rel='stylesheet', href='style.css')\n",
      "    script(type='text/javascript', src='script.js')\n",
      "\n",
      "with doc:\n",
      "    with div():\n",
      "        attr(cls='header')\n",
      "        #<img src=\"smiley.gif\" alt=\"Smiley face\" height=\"42\" width=\"42\">\n",
      "        h1('artcontroldrawsyou!')\n",
      "        img(scr='logo.gif')\n",
      "        h2('go away artcontrol')\n",
      "        p(strftime(\"%a, %d %b %Y %H:%M:%S +0000\", gmtime()))\n",
      "        a('about', href='about')\n",
      "        a('contact', href='contact') \n",
      "        a('blog', href='blog')\n",
      "        \n",
      "    with div(id='authors'):\n",
      "        for tits in titlis:\n",
      "            (tits)\n",
      "            (a(tits, href='https://reddit.com/u/%s' % tits))\n",
      "            \n",
      "    \n",
      "    with div(id='body').add(p()):\n",
      "        for i in jplis:\n",
      "            (img(i.lower(), src='%s' % i))\n",
      "            (a(i.lower(), href='%s' % i))\n",
      "            \n",
      "    with div(id='footer'):\n",
      "        p(a('artcontroldrawsyou is opensource', href='https://github.com/wcmckee/wcmckee-notebook'))\n",
      "\n",
      "\n",
      "            \n",
      "\n",
      "print doc"
     ],
     "language": "python",
     "metadata": {},
     "outputs": [
      {
       "output_type": "stream",
       "stream": "stdout",
       "text": [
        "<!DOCTYPE html>\n",
        "<html>\n",
        "  <head>\n",
        "    <title>artcontroldrawsyou</title>\n",
        "    <link href=\"style.css\" rel=\"stylesheet\">\n",
        "    <script src=\"script.js\" type=\"text/javascript\"></script>\n",
        "  </head>\n",
        "  <body>\n",
        "    <div class=\"header\">\n",
        "      <h1>artcontroldrawsyou!</h1>\n",
        "      <img scr=\"logo.gif\">\n",
        "      <h2>go away artcontrol</h2>\n",
        "      <p>Mon, 04 Aug 2014 12:35:35 +0000</p>\n",
        "      <a href=\"about\">about</a>\n",
        "      <a href=\"contact\">contact</a>\n",
        "      <a href=\"blog\">blog</a>\n",
        "    </div>\n",
        "    <div id=\"authors\">\n",
        "      <a href=\"https://reddit.com/u/xrainbow-britex\">xrainbow-britex</a>\n",
        "      <a href=\"https://reddit.com/u/BettyVonBlack\">BettyVonBlack</a>\n",
        "      <a href=\"https://reddit.com/u/Dharmie-\">Dharmie-</a>\n",
        "      <a href=\"https://reddit.com/u/life_at_the_lake\">life_at_the_lake</a>\n",
        "      <a href=\"https://reddit.com/u/Uhm_yup\">Uhm_yup</a>\n",
        "      <a href=\"https://reddit.com/u/BlubbethGoat\">BlubbethGoat</a>\n",
        "      <a href=\"https://reddit.com/u/LeedlePizza\">LeedlePizza</a>\n",
        "      <a href=\"https://reddit.com/u/Zancanda\">Zancanda</a>\n",
        "      <a href=\"https://reddit.com/u/fenterson\">fenterson</a>\n",
        "      <a href=\"https://reddit.com/u/kaybaby00\">kaybaby00</a>\n",
        "      <a href=\"https://reddit.com/u/Fatty_Cat\">Fatty_Cat</a>\n",
        "      <a href=\"https://reddit.com/u/cattata\">cattata</a>\n",
        "      <a href=\"https://reddit.com/u/Omridd1\">Omridd1</a>\n",
        "      <a href=\"https://reddit.com/u/Trentl14\">Trentl14</a>\n",
        "      <a href=\"https://reddit.com/u/oldschool_ent\">oldschool_ent</a>\n",
        "      <a href=\"https://reddit.com/u/Acromioon\">Acromioon</a>\n",
        "      <a href=\"https://reddit.com/u/iloveyousarah\">iloveyousarah</a>\n",
        "      <a href=\"https://reddit.com/u/BlackGuyReadsThis\">BlackGuyReadsThis</a>\n",
        "      <a href=\"https://reddit.com/u/Mr_Bl00DY\">Mr_Bl00DY</a>\n",
        "      <a href=\"https://reddit.com/u/2ndhandskin\">2ndhandskin</a>\n",
        "      <a href=\"https://reddit.com/u/orvane\">orvane</a>\n",
        "      <a href=\"https://reddit.com/u/Booboo_the_bear\">Booboo_the_bear</a>\n",
        "      <a href=\"https://reddit.com/u/Acemyke\">Acemyke</a>\n",
        "      <a href=\"https://reddit.com/u/dddg\">dddg</a>\n",
        "      <a href=\"https://reddit.com/u/Jisifus\">Jisifus</a>\n",
        "    </div>\n",
        "    <div id=\"body\">\n",
        "      <p>\n",
        "        <img src=\"http://i.imgur.com/kPLXoVD.jpg\">\n",
        "        <a href=\"http://i.imgur.com/kPLXoVD.jpg\">http://i.imgur.com/kplxovd.jpg</a>\n",
        "        <img src=\"http://i.imgur.com/QxZ83W0.jpg\">\n",
        "        <a href=\"http://i.imgur.com/QxZ83W0.jpg\">http://i.imgur.com/qxz83w0.jpg</a>\n",
        "        <img src=\"http://i.imgur.com/LgOYBcS.jpg\">\n",
        "        <a href=\"http://i.imgur.com/LgOYBcS.jpg\">http://i.imgur.com/lgoybcs.jpg</a>\n",
        "        <img src=\"http://i.imgur.com/cx0X5hx.jpg\">\n",
        "        <a href=\"http://i.imgur.com/cx0X5hx.jpg\">http://i.imgur.com/cx0x5hx.jpg</a>\n",
        "        <img src=\"http://i.imgur.com/4zeHQrp.jpg\">\n",
        "        <a href=\"http://i.imgur.com/4zeHQrp.jpg\">http://i.imgur.com/4zehqrp.jpg</a>\n",
        "        <img src=\"http://i.imgur.com/eRX1HoR.jpg\">\n",
        "        <a href=\"http://i.imgur.com/eRX1HoR.jpg\">http://i.imgur.com/erx1hor.jpg</a>\n",
        "        <img src=\"http://i.imgur.com/f7omtH6.jpg\">\n",
        "        <a href=\"http://i.imgur.com/f7omtH6.jpg\">http://i.imgur.com/f7omth6.jpg</a>\n",
        "        <img src=\"http://i.imgur.com/k6zWbLE.jpg\">\n",
        "        <a href=\"http://i.imgur.com/k6zWbLE.jpg\">http://i.imgur.com/k6zwble.jpg</a>\n",
        "        <img src=\"http://i.imgur.com/HQ2CRtf.jpg\">\n",
        "        <a href=\"http://i.imgur.com/HQ2CRtf.jpg\">http://i.imgur.com/hq2crtf.jpg</a>\n",
        "        <img src=\"http://i.imgur.com/4BVMVXBh.jpg\">\n",
        "        <a href=\"http://i.imgur.com/4BVMVXBh.jpg\">http://i.imgur.com/4bvmvxbh.jpg</a>\n",
        "        <img src=\"http://i.imgur.com/ETnGwP9.jpg\">\n",
        "        <a href=\"http://i.imgur.com/ETnGwP9.jpg\">http://i.imgur.com/etngwp9.jpg</a>\n",
        "        <img src=\"http://i.imgur.com/3memBDF.jpg\">\n",
        "        <a href=\"http://i.imgur.com/3memBDF.jpg\">http://i.imgur.com/3membdf.jpg</a>\n",
        "        <img src=\"http://i.imgur.com/bwCQHn8.jpg\">\n",
        "        <a href=\"http://i.imgur.com/bwCQHn8.jpg\">http://i.imgur.com/bwcqhn8.jpg</a>\n",
        "        <img src=\"http://i.imgur.com/T4ms6Pc.jpg\">\n",
        "        <a href=\"http://i.imgur.com/T4ms6Pc.jpg\">http://i.imgur.com/t4ms6pc.jpg</a>\n",
        "      </p>\n",
        "    </div>\n",
        "    <div id=\"footer\">\n",
        "      <p>\n",
        "        <a href=\"https://github.com/wcmckee/wcmckee-notebook\">artcontroldrawsyou is opensource</a>\n",
        "      </p>\n",
        "    </div>\n",
        "  </body>\n",
        "</html>\n"
       ]
      }
     ],
     "prompt_number": 26
    },
    {
     "cell_type": "code",
     "collapsed": false,
     "input": [
      "ophtml = open('index.html', 'w')"
     ],
     "language": "python",
     "metadata": {},
     "outputs": [],
     "prompt_number": 27
    },
    {
     "cell_type": "code",
     "collapsed": false,
     "input": [
      "ophtml.write(str(doc))"
     ],
     "language": "python",
     "metadata": {},
     "outputs": [],
     "prompt_number": 28
    },
    {
     "cell_type": "code",
     "collapsed": false,
     "input": [
      "ophtml.close()"
     ],
     "language": "python",
     "metadata": {},
     "outputs": [],
     "prompt_number": 29
    },
    {
     "cell_type": "code",
     "collapsed": false,
     "input": [
      "'''def fcopy(src,dest):\n",
      "    \"\"\"\n",
      "    Copy file from source to dest.  dest can include an absolute or relative path\n",
      "    If the path doesn't exist, it gets created\n",
      "    \"\"\"\n",
      "    dest_dir = os.path.dirname(dest)\n",
      "    try:\n",
      "        os.makedirs(dest_dir)\n",
      "    except os.error as e:\n",
      "        pass #Assume it exists.  This could fail if you don't have permissions, etc...\n",
      "    shutil.copy(src,dest)'''"
     ],
     "language": "python",
     "metadata": {},
     "outputs": [
      {
       "metadata": {},
       "output_type": "pyout",
       "prompt_number": 30,
       "text": [
        "'def fcopy(src,dest):\\n    \"\"\"\\n    Copy file from source to dest.  dest can include an absolute or relative path\\n    If the path doesn\\'t exist, it gets created\\n    \"\"\"\\n    dest_dir = os.path.dirname(dest)\\n    try:\\n        os.makedirs(dest_dir)\\n    except os.error as e:\\n        pass #Assume it exists.  This could fail if you don\\'t have permissions, etc...\\n    shutil.copy(src,dest)'"
       ]
      }
     ],
     "prompt_number": 30
    },
    {
     "cell_type": "markdown",
     "metadata": {},
     "source": [
      "cycle though folder and create file in each folder"
     ]
    },
    {
     "cell_type": "code",
     "collapsed": false,
     "input": [
      "#fcopy('/var/www/artcontroldrawsyou/home/')"
     ],
     "language": "python",
     "metadata": {},
     "outputs": [],
     "prompt_number": 31
    },
    {
     "cell_type": "code",
     "collapsed": false,
     "input": [
      "for usz in titlis:\n",
      "    print usz\n",
      "    #os.mkdir(usz)\n",
      "    #os.chdir('/var/www/artcontroldrawsyou/home/' + usz)"
     ],
     "language": "python",
     "metadata": {},
     "outputs": [
      {
       "output_type": "stream",
       "stream": "stdout",
       "text": [
        "xrainbow-britex\n",
        "BettyVonBlack\n",
        "Dharmie-\n",
        "life_at_the_lake\n",
        "Uhm_yup\n",
        "BlubbethGoat\n",
        "LeedlePizza\n",
        "Zancanda\n",
        "fenterson\n",
        "kaybaby00\n",
        "Fatty_Cat\n",
        "cattata\n",
        "Omridd1\n",
        "Trentl14\n",
        "oldschool_ent\n",
        "Acromioon\n",
        "iloveyousarah\n",
        "BlackGuyReadsThis\n",
        "Mr_Bl00DY\n",
        "2ndhandskin\n",
        "orvane\n",
        "Booboo_the_bear\n",
        "Acemyke\n",
        "dddg\n",
        "Jisifus\n"
       ]
      }
     ],
     "prompt_number": 32
    },
    {
     "cell_type": "code",
     "collapsed": false,
     "input": [
      "'''for filz in titlis:\n",
      "    print filz\n",
      "    \n",
      "    \n",
      "    #os.chdir('/var/www/artcontroldrawsyou/home' + usz)\n",
      "    bulkc = dominate.document(title=filz)\n",
      "    with bulkc.head:\n",
      "        link(rel='stylesheet', href='style.css')\n",
      "        script(type='text/javascript', src='script.js')\n",
      "\n",
      "    with bulkc:\n",
      "        with div():\n",
      "            attr(cls='header')\n",
      "            #<img src=\"smiley.gif\" alt=\"Smiley face\" height=\"42\" width=\"42\">\n",
      "            h1(filz)\n",
      "            img(scr='http://artcontrol.me/wp-content/uploads/2014/08/daenuhlyn-headcoloe.png')\n",
      "            h2('go away artcontrol')\n",
      "        \n",
      "        with div(id='photographs'):\n",
      "            for tits in titlis:\n",
      "                h3(tits)\n",
      "                (a(tits, href='%s' % tits.lower))\n",
      "            \n",
      "    \n",
      "        with div(id='body').add(p()):\n",
      "            for i in jplis:\n",
      "                li(img(i.lower(), src='%s' % i))\n",
      "                li(a(i.lower(), href='%s' % i))\n",
      "                \n",
      "        with div(id='footer'):\n",
      "            p(a('artcontroldrawsyou is opensource', href='https://github.com/wcmckee/wcmckee-notebook'))\n",
      "        \n",
      "        with open('/var/www/artcontroldrawsyou/home/' + filz + '/index.html', 'w') as fout:\n",
      "            fout.write(str(bulkc))\n",
      "            \n",
      "    #with open('index.html', 'w') as indx:\n",
      "       #bulkc = indx.write() \n",
      "        #print bulkc'''"
     ],
     "language": "python",
     "metadata": {},
     "outputs": [
      {
       "metadata": {},
       "output_type": "pyout",
       "prompt_number": 33,
       "text": [
        "'for filz in titlis:\\n    print filz\\n    \\n    \\n    #os.chdir(\\'/var/www/artcontroldrawsyou/home\\' + usz)\\n    bulkc = dominate.document(title=filz)\\n    with bulkc.head:\\n        link(rel=\\'stylesheet\\', href=\\'style.css\\')\\n        script(type=\\'text/javascript\\', src=\\'script.js\\')\\n\\n    with bulkc:\\n        with div():\\n            attr(cls=\\'header\\')\\n            #<img src=\"smiley.gif\" alt=\"Smiley face\" height=\"42\" width=\"42\">\\n            h1(filz)\\n            img(scr=\\'http://artcontrol.me/wp-content/uploads/2014/08/daenuhlyn-headcoloe.png\\')\\n            h2(\\'go away artcontrol\\')\\n        \\n        with div(id=\\'photographs\\'):\\n            for tits in titlis:\\n                h3(tits)\\n                (a(tits, href=\\'%s\\' % tits.lower))\\n            \\n    \\n        with div(id=\\'body\\').add(p()):\\n            for i in jplis:\\n                li(img(i.lower(), src=\\'%s\\' % i))\\n                li(a(i.lower(), href=\\'%s\\' % i))\\n                \\n        with div(id=\\'footer\\'):\\n            p(a(\\'artcontroldrawsyou is opensource\\', href=\\'https://github.com/wcmckee/wcmckee-notebook\\'))\\n        \\n        with open(\\'/var/www/artcontroldrawsyou/home/\\' + filz + \\'/index.html\\', \\'w\\') as fout:\\n            fout.write(str(bulkc))\\n            \\n    #with open(\\'index.html\\', \\'w\\') as indx:\\n       #bulkc = indx.write() \\n        #print bulkc'"
       ]
      }
     ],
     "prompt_number": 33
    },
    {
     "cell_type": "code",
     "collapsed": false,
     "input": [
      "rmine = r.get_redditor('itwillbemine')"
     ],
     "language": "python",
     "metadata": {},
     "outputs": [],
     "prompt_number": 40
    },
    {
     "cell_type": "code",
     "collapsed": false,
     "input": [
      "#opest = open('userurl.json', 'r')\n",
      "#opest.read()\n",
      "#opest.close()"
     ],
     "language": "python",
     "metadata": {},
     "outputs": [],
     "prompt_number": 41
    },
    {
     "cell_type": "code",
     "collapsed": false,
     "input": [
      "mincom = rmine.get_comments()"
     ],
     "language": "python",
     "metadata": {},
     "outputs": [],
     "prompt_number": 42
    },
    {
     "cell_type": "code",
     "collapsed": false,
     "input": [
      "#print mincom"
     ],
     "language": "python",
     "metadata": {},
     "outputs": [],
     "prompt_number": 43
    },
    {
     "cell_type": "code",
     "collapsed": false,
     "input": [
      "minels = []"
     ],
     "language": "python",
     "metadata": {},
     "outputs": [],
     "prompt_number": 44
    },
    {
     "cell_type": "code",
     "collapsed": false,
     "input": [
      "\n",
      "dausr = {}"
     ],
     "language": "python",
     "metadata": {},
     "outputs": [],
     "prompt_number": 45
    },
    {
     "cell_type": "code",
     "collapsed": false,
     "input": [
      "itwillbemine = dominate.document(title='itwillbemine')"
     ],
     "language": "python",
     "metadata": {},
     "outputs": [],
     "prompt_number": 48
    },
    {
     "cell_type": "code",
     "collapsed": false,
     "input": [
      "with itwillbemine.head:\n",
      "    link(rel='stylesheet', href='style.css')\n",
      "    script(type='text/javascript', src='script.js')\n",
      "\n",
      "with itwillbemine:\n",
      "    with div():\n",
      "        attr(cls='header')\n",
      "        #<img src=\"smiley.gif\" alt=\"Smiley face\" height=\"42\" width=\"42\">\n",
      "        h1('itwillbemine')\n",
      "        p(img(scr='http://brobeur.com/artcontroldrawsyou/logo.gif'))\n",
      "        #for mine in minels:\n",
      "            #h1(mine.author_flair_text())\n",
      "            #p(mine.body)\n",
      "        \n",
      "    with div(id='author'):\n",
      "        for tits in titlis:\n",
      "            h3(tits)\n",
      "    \n",
      "    with div(id='body').add(p()):\n",
      "        for mine in minels:\n",
      "            #h1(mine.created)\n",
      "            p(mine.body)\n",
      "            \n",
      "\n",
      "\n",
      "\n",
      "print itwillbemine"
     ],
     "language": "python",
     "metadata": {},
     "outputs": [
      {
       "output_type": "stream",
       "stream": "stdout",
       "text": [
        "<!DOCTYPE html>\n",
        "<html>\n",
        "  <head>\n",
        "    <title>itwillbemine</title>\n",
        "    <link href=\"style.css\" rel=\"stylesheet\">\n",
        "    <script src=\"script.js\" type=\"text/javascript\"></script>\n",
        "  </head>\n",
        "  <body>\n",
        "    <div class=\"header\">\n",
        "      <h1>itwillbemine</h1>\n",
        "      <p>\n",
        "        <img scr=\"http://brobeur.com/artcontroldrawsyou/logo.gif\">\n",
        "      </p>\n",
        "    </div>\n",
        "    <div id=\"author\">\n",
        "      <h3>xrainbow-britex</h3>\n",
        "      <h3>BettyVonBlack</h3>\n",
        "      <h3>Dharmie-</h3>\n",
        "      <h3>life_at_the_lake</h3>\n",
        "      <h3>Uhm_yup</h3>\n",
        "      <h3>BlubbethGoat</h3>\n",
        "      <h3>LeedlePizza</h3>\n",
        "      <h3>Zancanda</h3>\n",
        "      <h3>fenterson</h3>\n",
        "      <h3>kaybaby00</h3>\n",
        "      <h3>Fatty_Cat</h3>\n",
        "      <h3>cattata</h3>\n",
        "      <h3>Omridd1</h3>\n",
        "      <h3>Trentl14</h3>\n",
        "      <h3>oldschool_ent</h3>\n",
        "      <h3>Acromioon</h3>\n",
        "      <h3>iloveyousarah</h3>\n",
        "      <h3>BlackGuyReadsThis</h3>\n",
        "      <h3>Mr_Bl00DY</h3>\n",
        "      <h3>2ndhandskin</h3>\n",
        "      <h3>orvane</h3>\n",
        "      <h3>Booboo_the_bear</h3>\n",
        "      <h3>Acemyke</h3>\n",
        "      <h3>dddg</h3>\n",
        "      <h3>Jisifus</h3>\n",
        "    </div>\n",
        "    <div id=\"body\">\n",
        "      <p>\n",
        "        <p>Offering compensation of any sort is not allowed, so your post was removed.</p>\n",
        "        <p>Gift posts aren't allowed, so your post was removed.</p>\n",
        "        <p>How did you do this already if it's been in the spam filter this whole time? Are you a wizard? :D</p>\n",
        "        <p>Per our rules, you must verify with the mods before this is visible, since you're using a new account.</p>\n",
        "        <p>Ha! Sorry. Post is visible. :)</p>\n",
        "        <p>Just to be clear, is this your cat?</p>\n",
        "        <p>His name is visible, so this post was removed. Please review our rules.</p>\n",
        "        <p>Sad posts are not allowed, so this was removed. Please review our rules.</p>\n",
        "        <p>Okay, thank you.</p>\n",
        "        <p>Absolutely! Racism in any form is completely prohibited here. Let me know if you have any other problems at all. Generally, this is a super warm/nice community. Thanks for posting!</p>\n",
        "        <p>A &quot;start?&quot; How about, you're lucky you got anything at all, since many posts get ignored? Or how about, what this artist did for you was well over good enough? Hopefully you didn't intend that the way it sounded.</p>\n",
        "        <p>Gag me. Comment removed.</p>\n",
        "        <p>You can't name/advertise your band in this sub, and you can't use the art here to promote your band. Post removed, please review our rules.</p>\n",
        "        <p>Post removed for having an unclear title. Please review our rules.</p>\n",
        "        <p>Repost/frequent posting. Post removed.</p>\n",
        "        <p>Fair enough.</p>\n",
        "        <p>Post removed - you can't use the art you receive here to promote your band.</p>\n",
        "        <p>If you say so. Please be mindful of the way your feedback comes across in the future. Thank you.</p>\n",
        "        <p>Correction: (based on your reddit profile) you seem like the nicest person ever (but I will take all your internet niceness with a grain of salt). :D\n",
        "\n",
        "In any case, great job! I've never seen anything like that before.</p>\n",
        "        <p>Yay, you artist genius, you!</p>\n",
        "        <p>I love all of you.</p>\n",
        "        <p>&amp;lt;3 Love it. You seem like the nicest person ever - every time I see you 'round Reddit, you're doing something nice.</p>\n",
        "        <p>Post removed. Please see our rule about using this sub for occupational use.</p>\n",
        "        <p>Except that you just did. O_O This will be your last warning.</p>\n",
        "        <p>Submissions that are purely filtered or manipulated are removed.</p>\n",
        "      </p>\n",
        "    </div>\n",
        "  </body>\n",
        "</html>\n"
       ]
      }
     ],
     "prompt_number": 49
    },
    {
     "cell_type": "code",
     "collapsed": false,
     "input": [
      "savmine = open('reddit.html', 'w')\n",
      "savmine.write(str(itwillbemine))\n",
      "savmine.close()"
     ],
     "language": "python",
     "metadata": {},
     "outputs": [],
     "prompt_number": 50
    },
    {
     "cell_type": "code",
     "collapsed": false,
     "input": [
      "noizjson = json.dumps(dausr)"
     ],
     "language": "python",
     "metadata": {},
     "outputs": [],
     "prompt_number": 51
    },
    {
     "cell_type": "code",
     "collapsed": false,
     "input": [
      "rdusr = str(con.author)\n"
     ],
     "language": "python",
     "metadata": {},
     "outputs": [],
     "prompt_number": 278
    },
    {
     "cell_type": "code",
     "collapsed": false,
     "input": [
      "minelsz = []"
     ],
     "language": "python",
     "metadata": {},
     "outputs": [],
     "prompt_number": 279
    },
    {
     "cell_type": "code",
     "collapsed": false,
     "input": [
      "#for mina in minels:\n",
      "    #print mina.body\n",
      "   # minelsz.append(mina.body)"
     ],
     "language": "python",
     "metadata": {},
     "outputs": [],
     "prompt_number": 280
    },
    {
     "cell_type": "code",
     "collapsed": false,
     "input": [
      "#minelsz"
     ],
     "language": "python",
     "metadata": {},
     "outputs": [],
     "prompt_number": 281
    },
    {
     "cell_type": "code",
     "collapsed": false,
     "input": [
      "#mina.body"
     ],
     "language": "python",
     "metadata": {},
     "outputs": [],
     "prompt_number": 282
    },
    {
     "cell_type": "code",
     "collapsed": false,
     "input": [
      "import feedparser"
     ],
     "language": "python",
     "metadata": {},
     "outputs": [],
     "prompt_number": 54
    },
    {
     "cell_type": "code",
     "collapsed": false,
     "input": [
      "mcs = feedparser.parse('http://mcsteffen.tumblr.com/rss')"
     ],
     "language": "python",
     "metadata": {},
     "outputs": [],
     "prompt_number": 55
    },
    {
     "cell_type": "code",
     "collapsed": false,
     "input": [
      "emcs = mcs['entries']"
     ],
     "language": "python",
     "metadata": {},
     "outputs": [],
     "prompt_number": 56
    },
    {
     "cell_type": "code",
     "collapsed": false,
     "input": [
      "for em in emcs:\n",
      "    print em"
     ],
     "language": "python",
     "metadata": {},
     "outputs": [
      {
       "output_type": "stream",
       "stream": "stdout",
       "text": [
        "{'summary_detail': {'base': u'http://mcsteffen.tumblr.com/rss', 'type': u'text/html', 'value': u'<img src=\"http://31.media.tumblr.com/11e436f1af1931cdaa3eb52ce80d4304/tumblr_n9pz76J7DB1t8sai5o1_500.jpg\" /><br /><br /><p>Rim Fire 2, 40 x 26\\xa01/2 inches, pencil and graphite on paper</p>', 'language': None}, 'published_parsed': time.struct_time(tm_year=2014, tm_mon=8, tm_mday=3, tm_hour=7, tm_min=23, tm_sec=30, tm_wday=6, tm_yday=215, tm_isdst=0), 'links': [{'href': u'http://mcsteffen.tumblr.com/post/93663063144', 'type': u'text/html', 'rel': u'alternate'}], 'title': u'Rim Fire 2, 40 x 26\\xa01/2 inches, pencil and graphite on...', 'tags': [{'term': u'landscapedrawing', 'scheme': None, 'label': None}, {'term': u'landscape drawing', 'scheme': None, 'label': None}, {'term': u'pencilandgraphite', 'scheme': None, 'label': None}, {'term': u'pencil', 'scheme': None, 'label': None}, {'term': u'artistlounge', 'scheme': None, 'label': None}, {'term': u'redditartistnetwork', 'scheme': None, 'label': None}, {'term': u'yosemite', 'scheme': None, 'label': None}, {'term': u'rim fire', 'scheme': None, 'label': None}, {'term': u'rimfire', 'scheme': None, 'label': None}, {'term': u'landscape', 'scheme': None, 'label': None}, {'term': u'reddit', 'scheme': None, 'label': None}, {'term': u'forestfire', 'scheme': None, 'label': None}, {'term': u'california', 'scheme': None, 'label': None}, {'term': u'drawing', 'scheme': None, 'label': None}], 'summary': u'<img src=\"http://31.media.tumblr.com/11e436f1af1931cdaa3eb52ce80d4304/tumblr_n9pz76J7DB1t8sai5o1_500.jpg\" /><br /><br /><p>Rim Fire 2, 40 x 26\\xa01/2 inches, pencil and graphite on paper</p>', 'guidislink': False, 'title_detail': {'base': u'http://mcsteffen.tumblr.com/rss', 'type': u'text/plain', 'value': u'Rim Fire 2, 40 x 26\\xa01/2 inches, pencil and graphite on...', 'language': None}, 'link': u'http://mcsteffen.tumblr.com/post/93663063144', 'published': u'Sun, 03 Aug 2014 03:23:30 -0400', 'id': u'http://mcsteffen.tumblr.com/post/93663063144'}\n",
        "{'summary_detail': {'base': u'http://mcsteffen.tumblr.com/rss', 'type': u'text/html', 'value': u'<img src=\"http://38.media.tumblr.com/f3817e5e8c03f24a535814e75c7203d2/tumblr_n9mzq4fl9R1t8sai5o1_500.jpg\" /><br /><br /><p>Rim Fire 1, pencil and graphite on paper</p>', 'language': None}, 'published_parsed': time.struct_time(tm_year=2014, tm_mon=8, tm_mday=1, tm_hour=16, tm_min=42, tm_sec=4, tm_wday=4, tm_yday=213, tm_isdst=0), 'links': [{'href': u'http://mcsteffen.tumblr.com/post/93509038514', 'type': u'text/html', 'rel': u'alternate'}], 'title': u'Rim Fire 1, pencil and graphite on paper', 'tags': [{'term': u'landscape', 'scheme': None, 'label': None}, {'term': u'landscape drawing', 'scheme': None, 'label': None}, {'term': u'rim fire', 'scheme': None, 'label': None}, {'term': u'rimfire', 'scheme': None, 'label': None}, {'term': u'yosemite', 'scheme': None, 'label': None}, {'term': u'california', 'scheme': None, 'label': None}, {'term': u'artist lounge', 'scheme': None, 'label': None}, {'term': u'redditartistnetwork', 'scheme': None, 'label': None}, {'term': u'reddit artist network', 'scheme': None, 'label': None}, {'term': u'drawing', 'scheme': None, 'label': None}, {'term': u'pencil drawing', 'scheme': None, 'label': None}, {'term': u'funisher', 'scheme': None, 'label': None}, {'term': u'hiking', 'scheme': None, 'label': None}, {'term': u'art', 'scheme': None, 'label': None}], 'summary': u'<img src=\"http://38.media.tumblr.com/f3817e5e8c03f24a535814e75c7203d2/tumblr_n9mzq4fl9R1t8sai5o1_500.jpg\" /><br /><br /><p>Rim Fire 1, pencil and graphite on paper</p>', 'guidislink': False, 'title_detail': {'base': u'http://mcsteffen.tumblr.com/rss', 'type': u'text/plain', 'value': u'Rim Fire 1, pencil and graphite on paper', 'language': None}, 'link': u'http://mcsteffen.tumblr.com/post/93509038514', 'published': u'Fri, 01 Aug 2014 12:42:04 -0400', 'id': u'http://mcsteffen.tumblr.com/post/93509038514'}\n",
        "{'summary_detail': {'base': u'http://mcsteffen.tumblr.com/rss', 'type': u'text/html', 'value': u'<img src=\"http://38.media.tumblr.com/018b0938fde692ff0ca2bc19db18bab4/tumblr_n85fm3Z6uq1qg45pdo1_500.jpg\" /><br /><br /><p><a class=\"tumblr_blog\" href=\"http://osaft.tumblr.com/post/90677710590/comedy-gold-with-mcsteffen-nottherogeruknow-and\">osaft</a>:</p>\\n\\n<blockquote><p>Comedy Gold with <a class=\"tumblelog\" href=\"http://tmblr.co/mrHolH0AaL0YBsXWUyZeEWQ\">mcsteffen</a> , <a class=\"tumblelog\" href=\"http://tmblr.co/mPPcQWm7xfpLmnCPFo36taQ\">nottherogeruknow</a> and moi<u><br /></u></p></blockquote>\\n\\nBringing it back the way it shoulda been! Beautiful drawing by the beautiful <a class=\"tumblelog\" href=\"http://tmblr.co/mvmqaltOPNXNRufmqAn2xBg\">osaft</a>!', 'language': None}, 'published_parsed': time.struct_time(tm_year=2014, tm_mon=7, tm_mday=3, tm_hour=18, tm_min=50, tm_sec=21, tm_wday=3, tm_yday=184, tm_isdst=0), 'links': [{'href': u'http://mcsteffen.tumblr.com/post/90678988129', 'type': u'text/html', 'rel': u'alternate'}], 'title': u'osaft:\\n\\nComedy Gold with mcsteffen , nottherogeruknow and...', 'tags': [{'term': u'TGAGAAPP', 'scheme': None, 'label': None}, {'term': u'2G1G1P', 'scheme': None, 'label': None}, {'term': u'cartooning', 'scheme': None, 'label': None}, {'term': u'roadtohollywood', 'scheme': None, 'label': None}, {'term': u'boobs', 'scheme': None, 'label': None}, {'term': u'bff', 'scheme': None, 'label': None}, {'term': u'comedygoldmine', 'scheme': None, 'label': None}], 'summary': u'<img src=\"http://38.media.tumblr.com/018b0938fde692ff0ca2bc19db18bab4/tumblr_n85fm3Z6uq1qg45pdo1_500.jpg\" /><br /><br /><p><a class=\"tumblr_blog\" href=\"http://osaft.tumblr.com/post/90677710590/comedy-gold-with-mcsteffen-nottherogeruknow-and\">osaft</a>:</p>\\n\\n<blockquote><p>Comedy Gold with <a class=\"tumblelog\" href=\"http://tmblr.co/mrHolH0AaL0YBsXWUyZeEWQ\">mcsteffen</a> , <a class=\"tumblelog\" href=\"http://tmblr.co/mPPcQWm7xfpLmnCPFo36taQ\">nottherogeruknow</a> and moi<u><br /></u></p></blockquote>\\n\\nBringing it back the way it shoulda been! Beautiful drawing by the beautiful <a class=\"tumblelog\" href=\"http://tmblr.co/mvmqaltOPNXNRufmqAn2xBg\">osaft</a>!', 'guidislink': False, 'title_detail': {'base': u'http://mcsteffen.tumblr.com/rss', 'type': u'text/plain', 'value': u'osaft:\\n\\nComedy Gold with mcsteffen , nottherogeruknow and...', 'language': None}, 'link': u'http://mcsteffen.tumblr.com/post/90678988129', 'published': u'Thu, 03 Jul 2014 14:50:21 -0400', 'id': u'http://mcsteffen.tumblr.com/post/90678988129'}\n",
        "{'summary_detail': {'base': u'http://mcsteffen.tumblr.com/rss', 'type': u'text/html', 'value': u'<img src=\"http://38.media.tumblr.com/4b193ced537b2169b7f3c64de342e768/tumblr_n83ohf0fzv1qg45pdo1_500.jpg\" /><br /> <br /><img src=\"http://37.media.tumblr.com/02275e50e6e4ed89676eb61e350575c0/tumblr_n83ohf0fzv1qg45pdo2_500.jpg\" /><br /> <br /><p>Portrait of\\xa0<a class=\"tumblelog\" href=\"http://tmblr.co/mdKApUvkTXycUmehUhDw4DA\">katlix</a>\\xa0and myself by the ridiculously talented and wonderful\\xa0<a class=\"tumblr_blog\" href=\"http://osaft.tumblr.com/post/90582945065/katlix-and-mcsteffen-3-3-3-3-3-3-3-3-3\">osaft</a>!</p>', 'language': None}, 'published_parsed': time.struct_time(tm_year=2014, tm_mon=7, tm_mday=3, tm_hour=6, tm_min=49, tm_sec=20, tm_wday=3, tm_yday=184, tm_isdst=0), 'links': [{'href': u'http://mcsteffen.tumblr.com/post/90637782104', 'type': u'text/html', 'rel': u'alternate'}], 'title': u'Portrait of\\xa0katlix\\xa0and myself by the ridiculously talented and...', 'tags': [{'term': u'reddit', 'scheme': None, 'label': None}, {'term': u'redditartistnetwork', 'scheme': None, 'label': None}, {'term': u'skateboarding', 'scheme': None, 'label': None}, {'term': u'portraiture', 'scheme': None, 'label': None}, {'term': u'batman', 'scheme': None, 'label': None}], 'summary': u'<img src=\"http://38.media.tumblr.com/4b193ced537b2169b7f3c64de342e768/tumblr_n83ohf0fzv1qg45pdo1_500.jpg\" /><br /> <br /><img src=\"http://37.media.tumblr.com/02275e50e6e4ed89676eb61e350575c0/tumblr_n83ohf0fzv1qg45pdo2_500.jpg\" /><br /> <br /><p>Portrait of\\xa0<a class=\"tumblelog\" href=\"http://tmblr.co/mdKApUvkTXycUmehUhDw4DA\">katlix</a>\\xa0and myself by the ridiculously talented and wonderful\\xa0<a class=\"tumblr_blog\" href=\"http://osaft.tumblr.com/post/90582945065/katlix-and-mcsteffen-3-3-3-3-3-3-3-3-3\">osaft</a>!</p>', 'guidislink': False, 'title_detail': {'base': u'http://mcsteffen.tumblr.com/rss', 'type': u'text/plain', 'value': u'Portrait of\\xa0katlix\\xa0and myself by the ridiculously talented and...', 'language': None}, 'link': u'http://mcsteffen.tumblr.com/post/90637782104', 'published': u'Thu, 03 Jul 2014 02:49:20 -0400', 'id': u'http://mcsteffen.tumblr.com/post/90637782104'}\n",
        "{'summary_detail': {'base': u'http://mcsteffen.tumblr.com/rss', 'type': u'text/html', 'value': u'<img src=\"http://31.media.tumblr.com/03a08772c9c3cbea84383f5a27eb2c43/tumblr_n6zybli8gr1t8sai5o1_500.jpg\" /><br /><br /><p>Portrait of /u/Daven2ude</p>', 'language': None}, 'published_parsed': time.struct_time(tm_year=2014, tm_mon=6, tm_mday=11, tm_hour=8, tm_min=59, tm_sec=45, tm_wday=2, tm_yday=162, tm_isdst=0), 'links': [{'href': u'http://mcsteffen.tumblr.com/post/88459616224', 'type': u'text/html', 'rel': u'alternate'}], 'title': u'Portrait of /u/Daven2ude', 'tags': [{'term': u'RedditGetsDrawn', 'scheme': None, 'label': None}, {'term': u'copic markers', 'scheme': None, 'label': None}, {'term': u'prismacolor markers', 'scheme': None, 'label': None}, {'term': u'prismacolor', 'scheme': None, 'label': None}, {'term': u'copic', 'scheme': None, 'label': None}, {'term': u'pencil', 'scheme': None, 'label': None}, {'term': u'portraiture', 'scheme': None, 'label': None}, {'term': u'drawing', 'scheme': None, 'label': None}, {'term': u'sketching', 'scheme': None, 'label': None}, {'term': u'reddit', 'scheme': None, 'label': None}, {'term': u'redditartistnetwork', 'scheme': None, 'label': None}], 'summary': u'<img src=\"http://31.media.tumblr.com/03a08772c9c3cbea84383f5a27eb2c43/tumblr_n6zybli8gr1t8sai5o1_500.jpg\" /><br /><br /><p>Portrait of /u/Daven2ude</p>', 'guidislink': False, 'title_detail': {'base': u'http://mcsteffen.tumblr.com/rss', 'type': u'text/plain', 'value': u'Portrait of /u/Daven2ude', 'language': None}, 'link': u'http://mcsteffen.tumblr.com/post/88459616224', 'published': u'Wed, 11 Jun 2014 04:59:45 -0400', 'id': u'http://mcsteffen.tumblr.com/post/88459616224'}\n",
        "{'summary_detail': {'base': u'http://mcsteffen.tumblr.com/rss', 'type': u'text/html', 'value': u'<img src=\"http://31.media.tumblr.com/c062a07836c7873309643aacebb03409/tumblr_n6tvo9efMl1t8sai5o1_500.jpg\" /><br /><br /><p>Portrait of /u/ChardeeMacdennisTime. \\xa0Pencil and Marker on paper.</p>', 'language': None}, 'published_parsed': time.struct_time(tm_year=2014, tm_mon=6, tm_mday=8, tm_hour=2, tm_min=16, tm_sec=57, tm_wday=6, tm_yday=159, tm_isdst=0), 'links': [{'href': u'http://mcsteffen.tumblr.com/post/88132869394', 'type': u'text/html', 'rel': u'alternate'}], 'title': u'Portrait of /u/ChardeeMacdennisTime. \\xa0Pencil and Marker on...', 'tags': [{'term': u'redditartistnetwork', 'scheme': None, 'label': None}, {'term': u'redditgetsdrawn', 'scheme': None, 'label': None}, {'term': u'artistlounge', 'scheme': None, 'label': None}, {'term': u'reddit', 'scheme': None, 'label': None}, {'term': u'portraiture', 'scheme': None, 'label': None}, {'term': u'copic', 'scheme': None, 'label': None}, {'term': u'markers', 'scheme': None, 'label': None}, {'term': u'prismacolor', 'scheme': None, 'label': None}, {'term': u'pencil', 'scheme': None, 'label': None}, {'term': u'sketching', 'scheme': None, 'label': None}, {'term': u'copicmarkers', 'scheme': None, 'label': None}, {'term': u'copic markers', 'scheme': None, 'label': None}, {'term': u'rgd', 'scheme': None, 'label': None}], 'summary': u'<img src=\"http://31.media.tumblr.com/c062a07836c7873309643aacebb03409/tumblr_n6tvo9efMl1t8sai5o1_500.jpg\" /><br /><br /><p>Portrait of /u/ChardeeMacdennisTime. \\xa0Pencil and Marker on paper.</p>', 'guidislink': False, 'title_detail': {'base': u'http://mcsteffen.tumblr.com/rss', 'type': u'text/plain', 'value': u'Portrait of /u/ChardeeMacdennisTime. \\xa0Pencil and Marker on...', 'language': None}, 'link': u'http://mcsteffen.tumblr.com/post/88132869394', 'published': u'Sat, 07 Jun 2014 22:16:57 -0400', 'id': u'http://mcsteffen.tumblr.com/post/88132869394'}\n",
        "{'summary_detail': {'base': u'http://mcsteffen.tumblr.com/rss', 'type': u'text/html', 'value': u'<img src=\"http://38.media.tumblr.com/8dc9075b558c521c5a7afe521142cc34/tumblr_n51kxtcIOC1t8sai5o1_500.jpg\" /><br /><br /><p>Portrait of /u/yomatz</p>', 'language': None}, 'published_parsed': time.struct_time(tm_year=2014, tm_mon=5, tm_mday=4, tm_hour=8, tm_min=58, tm_sec=41, tm_wday=6, tm_yday=124, tm_isdst=0), 'links': [{'href': u'http://mcsteffen.tumblr.com/post/84702067334', 'type': u'text/html', 'rel': u'alternate'}], 'title': u'Portrait of /u/yomatz', 'tags': [{'term': u'redditgetsdrawn rgd portraiture drawing', 'scheme': None, 'label': None}], 'summary': u'<img src=\"http://38.media.tumblr.com/8dc9075b558c521c5a7afe521142cc34/tumblr_n51kxtcIOC1t8sai5o1_500.jpg\" /><br /><br /><p>Portrait of /u/yomatz</p>', 'guidislink': False, 'title_detail': {'base': u'http://mcsteffen.tumblr.com/rss', 'type': u'text/plain', 'value': u'Portrait of /u/yomatz', 'language': None}, 'link': u'http://mcsteffen.tumblr.com/post/84702067334', 'published': u'Sun, 04 May 2014 04:58:41 -0400', 'id': u'http://mcsteffen.tumblr.com/post/84702067334'}\n",
        "{'summary_detail': {'base': u'http://mcsteffen.tumblr.com/rss', 'type': u'text/html', 'value': u'<img src=\"http://38.media.tumblr.com/b8480ba389be6572f4bf08141eac6ce5/tumblr_n3e72pVmaq1t8sai5o1_500.jpg\" /><br /><br /><p>/u/ItWillBeMine</p>', 'language': None}, 'published_parsed': time.struct_time(tm_year=2014, tm_mon=4, tm_mday=2, tm_hour=7, tm_min=20, tm_sec=49, tm_wday=2, tm_yday=92, tm_isdst=0), 'links': [{'href': u'http://mcsteffen.tumblr.com/post/81470400358', 'type': u'text/html', 'rel': u'alternate'}], 'title': u'/u/ItWillBeMine', 'tags': [{'term': u'RedditGetsDrawn', 'scheme': None, 'label': None}, {'term': u'/r/redditgetsdrawn', 'scheme': None, 'label': None}, {'term': u'RGD', 'scheme': None, 'label': None}, {'term': u'portraiture', 'scheme': None, 'label': None}, {'term': u'drawing', 'scheme': None, 'label': None}, {'term': u'funisher', 'scheme': None, 'label': None}], 'summary': u'<img src=\"http://38.media.tumblr.com/b8480ba389be6572f4bf08141eac6ce5/tumblr_n3e72pVmaq1t8sai5o1_500.jpg\" /><br /><br /><p>/u/ItWillBeMine</p>', 'guidislink': False, 'title_detail': {'base': u'http://mcsteffen.tumblr.com/rss', 'type': u'text/plain', 'value': u'/u/ItWillBeMine', 'language': None}, 'link': u'http://mcsteffen.tumblr.com/post/81470400358', 'published': u'Wed, 02 Apr 2014 03:20:49 -0400', 'id': u'http://mcsteffen.tumblr.com/post/81470400358'}\n",
        "{'summary_detail': {'base': u'http://mcsteffen.tumblr.com/rss', 'type': u'text/html', 'value': u'<img src=\"http://37.media.tumblr.com/32e94e70b0921e15d1725566cef13f33/tumblr_n37ymbeLeI1t8sai5o1_500.jpg\" /><br /><br /><p>/u/curiousnonsense\\u2019s great uncle</p>', 'language': None}, 'published_parsed': time.struct_time(tm_year=2014, tm_mon=3, tm_mday=29, tm_hour=22, tm_min=32, tm_sec=35, tm_wday=5, tm_yday=88, tm_isdst=0), 'links': [{'href': u'http://mcsteffen.tumblr.com/post/81117377637', 'type': u'text/html', 'rel': u'alternate'}], 'title': u'/u/curiousnonsense\\u2019s great uncle', 'tags': [{'term': u'RGD', 'scheme': None, 'label': None}, {'term': u'RedditGetsDrawn', 'scheme': None, 'label': None}, {'term': u'funisher', 'scheme': None, 'label': None}, {'term': u'/r/redditgetsdrawn', 'scheme': None, 'label': None}, {'term': u'portraiture', 'scheme': None, 'label': None}, {'term': u'drawing', 'scheme': None, 'label': None}, {'term': u'markers', 'scheme': None, 'label': None}, {'term': u'prismacolor', 'scheme': None, 'label': None}, {'term': u'prismacolor markers', 'scheme': None, 'label': None}], 'summary': u'<img src=\"http://37.media.tumblr.com/32e94e70b0921e15d1725566cef13f33/tumblr_n37ymbeLeI1t8sai5o1_500.jpg\" /><br /><br /><p>/u/curiousnonsense\\u2019s great uncle</p>', 'guidislink': False, 'title_detail': {'base': u'http://mcsteffen.tumblr.com/rss', 'type': u'text/plain', 'value': u'/u/curiousnonsense\\u2019s great uncle', 'language': None}, 'link': u'http://mcsteffen.tumblr.com/post/81117377637', 'published': u'Sat, 29 Mar 2014 18:32:35 -0400', 'id': u'http://mcsteffen.tumblr.com/post/81117377637'}\n",
        "{'summary_detail': {'base': u'http://mcsteffen.tumblr.com/rss', 'type': u'text/html', 'value': u'<img src=\"http://38.media.tumblr.com/b60cb65ab4e60dfeb32e7b24432a7be3/tumblr_n2svjsIgTY1t8sai5o1_500.jpg\" /><br /><br /><p>Recent landscape commission</p>', 'language': None}, 'published_parsed': time.struct_time(tm_year=2014, tm_mon=3, tm_mday=21, tm_hour=19, tm_min=2, tm_sec=16, tm_wday=4, tm_yday=80, tm_isdst=0), 'links': [{'href': u'http://mcsteffen.tumblr.com/post/80280221308', 'type': u'text/html', 'rel': u'alternate'}], 'title': u'Recent landscape commission', 'tags': [{'term': u'new zealand', 'scheme': None, 'label': None}, {'term': u'oil painting', 'scheme': None, 'label': None}, {'term': u'painting', 'scheme': None, 'label': None}, {'term': u'landscape painting', 'scheme': None, 'label': None}, {'term': u'art commission', 'scheme': None, 'label': None}], 'summary': u'<img src=\"http://38.media.tumblr.com/b60cb65ab4e60dfeb32e7b24432a7be3/tumblr_n2svjsIgTY1t8sai5o1_500.jpg\" /><br /><br /><p>Recent landscape commission</p>', 'guidislink': False, 'title_detail': {'base': u'http://mcsteffen.tumblr.com/rss', 'type': u'text/plain', 'value': u'Recent landscape commission', 'language': None}, 'link': u'http://mcsteffen.tumblr.com/post/80280221308', 'published': u'Fri, 21 Mar 2014 15:02:16 -0400', 'id': u'http://mcsteffen.tumblr.com/post/80280221308'}\n",
        "{'summary_detail': {'base': u'http://mcsteffen.tumblr.com/rss', 'type': u'text/html', 'value': u'<img src=\"http://31.media.tumblr.com/875be53500ea4b979a58a09f5b940a76/tumblr_n2rd5gI4M41t8sai5o1_500.jpg\" /><br /><br /><p>/u/Catness_NeverClean from /r/prettygirlsuglyfaces</p>', 'language': None}, 'published_parsed': time.struct_time(tm_year=2014, tm_mon=3, tm_mday=20, tm_hour=23, tm_min=27, tm_sec=16, tm_wday=3, tm_yday=79, tm_isdst=0), 'links': [{'href': u'http://mcsteffen.tumblr.com/post/80208053307', 'type': u'text/html', 'rel': u'alternate'}], 'title': u'/u/Catness_NeverClean from /r/prettygirlsuglyfaces', 'tags': [{'term': u'drawing', 'scheme': None, 'label': None}, {'term': u'portrait', 'scheme': None, 'label': None}, {'term': u'funisher', 'scheme': None, 'label': None}, {'term': u'PrettyGirlsUglyFaces', 'scheme': None, 'label': None}, {'term': u'reddit', 'scheme': None, 'label': None}], 'summary': u'<img src=\"http://31.media.tumblr.com/875be53500ea4b979a58a09f5b940a76/tumblr_n2rd5gI4M41t8sai5o1_500.jpg\" /><br /><br /><p>/u/Catness_NeverClean from /r/prettygirlsuglyfaces</p>', 'guidislink': False, 'title_detail': {'base': u'http://mcsteffen.tumblr.com/rss', 'type': u'text/plain', 'value': u'/u/Catness_NeverClean from /r/prettygirlsuglyfaces', 'language': None}, 'link': u'http://mcsteffen.tumblr.com/post/80208053307', 'published': u'Thu, 20 Mar 2014 19:27:16 -0400', 'id': u'http://mcsteffen.tumblr.com/post/80208053307'}\n",
        "{'summary_detail': {'base': u'http://mcsteffen.tumblr.com/rss', 'type': u'text/html', 'value': u'<img src=\"http://33.media.tumblr.com/4a9f14996a9a6be04c3ec5644fa1b661/tumblr_n2r4ntnY4F1t8sai5o1_500.jpg\" /><br /><br /><p>/u/Hotnonsense\\u2019s daughter from /r/redditgetsdrawn</p>', 'language': None}, 'published_parsed': time.struct_time(tm_year=2014, tm_mon=3, tm_mday=20, tm_hour=20, tm_min=23, tm_sec=53, tm_wday=3, tm_yday=79, tm_isdst=0), 'links': [{'href': u'http://mcsteffen.tumblr.com/post/80190751038', 'type': u'text/html', 'rel': u'alternate'}], 'title': u'/u/Hotnonsense\\u2019s daughter from /r/redditgetsdrawn', 'tags': [{'term': u'RGD', 'scheme': None, 'label': None}, {'term': u'RedditGetsDrawn', 'scheme': None, 'label': None}, {'term': u'portraiture', 'scheme': None, 'label': None}, {'term': u'funisher', 'scheme': None, 'label': None}, {'term': u'drawing', 'scheme': None, 'label': None}], 'summary': u'<img src=\"http://33.media.tumblr.com/4a9f14996a9a6be04c3ec5644fa1b661/tumblr_n2r4ntnY4F1t8sai5o1_500.jpg\" /><br /><br /><p>/u/Hotnonsense\\u2019s daughter from /r/redditgetsdrawn</p>', 'guidislink': False, 'title_detail': {'base': u'http://mcsteffen.tumblr.com/rss', 'type': u'text/plain', 'value': u'/u/Hotnonsense\\u2019s daughter from /r/redditgetsdrawn', 'language': None}, 'link': u'http://mcsteffen.tumblr.com/post/80190751038', 'published': u'Thu, 20 Mar 2014 16:23:53 -0400', 'id': u'http://mcsteffen.tumblr.com/post/80190751038'}\n",
        "{'summary_detail': {'base': u'http://mcsteffen.tumblr.com/rss', 'type': u'text/html', 'value': u'<img src=\"http://33.media.tumblr.com/eb3c44b5249af01c4b6e77e87056ca4d/tumblr_n29gvzgNdO1t8sai5o1_500.jpg\" /><br /><br /><p>/u/blackzao</p>', 'language': None}, 'published_parsed': time.struct_time(tm_year=2014, tm_mon=3, tm_mday=11, tm_hour=7, tm_min=31, tm_sec=11, tm_wday=1, tm_yday=70, tm_isdst=0), 'links': [{'href': u'http://mcsteffen.tumblr.com/post/79247221533', 'type': u'text/html', 'rel': u'alternate'}], 'title': u'/u/blackzao', 'tags': [{'term': u'portraiture', 'scheme': None, 'label': None}, {'term': u'RedditGetsDrawn', 'scheme': None, 'label': None}, {'term': u'/r/redditgetsdrawn', 'scheme': None, 'label': None}, {'term': u'RGD', 'scheme': None, 'label': None}, {'term': u'funisher', 'scheme': None, 'label': None}, {'term': u'mike steffen', 'scheme': None, 'label': None}], 'summary': u'<img src=\"http://33.media.tumblr.com/eb3c44b5249af01c4b6e77e87056ca4d/tumblr_n29gvzgNdO1t8sai5o1_500.jpg\" /><br /><br /><p>/u/blackzao</p>', 'guidislink': False, 'title_detail': {'base': u'http://mcsteffen.tumblr.com/rss', 'type': u'text/plain', 'value': u'/u/blackzao', 'language': None}, 'link': u'http://mcsteffen.tumblr.com/post/79247221533', 'published': u'Tue, 11 Mar 2014 03:31:11 -0400', 'id': u'http://mcsteffen.tumblr.com/post/79247221533'}\n",
        "{'summary_detail': {'base': u'http://mcsteffen.tumblr.com/rss', 'type': u'text/html', 'value': u'<img src=\"http://31.media.tumblr.com/47e18d37bf3cc77af96cec189afff66a/tumblr_n28b4rv12K1t8sai5o1_500.jpg\" /><br /><br /><p>Portrait of Melvin</p>', 'language': None}, 'published_parsed': time.struct_time(tm_year=2014, tm_mon=3, tm_mday=10, tm_hour=16, tm_min=29, tm_sec=15, tm_wday=0, tm_yday=69, tm_isdst=0), 'links': [{'href': u'http://mcsteffen.tumblr.com/post/79172519099', 'type': u'text/html', 'rel': u'alternate'}], 'title': u'Portrait of Melvin', 'tags': [{'term': u'RGD', 'scheme': None, 'label': None}, {'term': u'/r/redditgetsdrawn', 'scheme': None, 'label': None}, {'term': u'RedditGetsDrawn', 'scheme': None, 'label': None}, {'term': u'/r/artistlounge', 'scheme': None, 'label': None}, {'term': u'artistlounge', 'scheme': None, 'label': None}, {'term': u'portraiture', 'scheme': None, 'label': None}, {'term': u'drawing', 'scheme': None, 'label': None}, {'term': u'mike steffen', 'scheme': None, 'label': None}, {'term': u'funisher', 'scheme': None, 'label': None}], 'summary': u'<img src=\"http://31.media.tumblr.com/47e18d37bf3cc77af96cec189afff66a/tumblr_n28b4rv12K1t8sai5o1_500.jpg\" /><br /><br /><p>Portrait of Melvin</p>', 'guidislink': False, 'title_detail': {'base': u'http://mcsteffen.tumblr.com/rss', 'type': u'text/plain', 'value': u'Portrait of Melvin', 'language': None}, 'link': u'http://mcsteffen.tumblr.com/post/79172519099', 'published': u'Mon, 10 Mar 2014 12:29:15 -0400', 'id': u'http://mcsteffen.tumblr.com/post/79172519099'}\n",
        "{'summary_detail': {'base': u'http://mcsteffen.tumblr.com/rss', 'type': u'text/html', 'value': u'<br /><br /><p>Newb School: Episode Fucked Up</p>', 'language': None}, 'published_parsed': time.struct_time(tm_year=2014, tm_mon=3, tm_mday=9, tm_hour=10, tm_min=55, tm_sec=5, tm_wday=6, tm_yday=68, tm_isdst=0), 'links': [{'href': u'http://mcsteffen.tumblr.com/post/79044786476', 'type': u'text/html', 'rel': u'alternate'}], 'title': u'Newb School: Episode Fucked Up', 'tags': [{'term': u'/r/redditgetsdrawn', 'scheme': None, 'label': None}, {'term': u'RedditGetsDrawn', 'scheme': None, 'label': None}, {'term': u'/r/artistlounge', 'scheme': None, 'label': None}, {'term': u'rgd', 'scheme': None, 'label': None}, {'term': u'mike steffen', 'scheme': None, 'label': None}, {'term': u'art', 'scheme': None, 'label': None}, {'term': u'instructional', 'scheme': None, 'label': None}, {'term': u'artistlounge', 'scheme': None, 'label': None}, {'term': u'funisher', 'scheme': None, 'label': None}], 'summary': u'<br /><br /><p>Newb School: Episode Fucked Up</p>', 'guidislink': False, 'title_detail': {'base': u'http://mcsteffen.tumblr.com/rss', 'type': u'text/plain', 'value': u'Newb School: Episode Fucked Up', 'language': None}, 'link': u'http://mcsteffen.tumblr.com/post/79044786476', 'published': u'Sun, 09 Mar 2014 06:55:05 -0400', 'id': u'http://mcsteffen.tumblr.com/post/79044786476'}\n",
        "{'summary_detail': {'base': u'http://mcsteffen.tumblr.com/rss', 'type': u'text/html', 'value': u'<img src=\"http://31.media.tumblr.com/b89cc31d9ca0510c9a078ad67ead8975/tumblr_n1s51zhZlt1t8sai5o1_500.jpg\" /><br /><br /><p>First time hanging this in a show. :)</p>', 'language': None}, 'published_parsed': time.struct_time(tm_year=2014, tm_mon=3, tm_mday=1, tm_hour=22, tm_min=56, tm_sec=22, tm_wday=5, tm_yday=60, tm_isdst=0), 'links': [{'href': u'http://mcsteffen.tumblr.com/post/78255101926', 'type': u'text/html', 'rel': u'alternate'}], 'title': u'First time hanging this in a show. :)', 'tags': [{'term': u'ntropic', 'scheme': None, 'label': None}, {'term': u'landscape painting', 'scheme': None, 'label': None}, {'term': u'mike steffen', 'scheme': None, 'label': None}, {'term': u'art', 'scheme': None, 'label': None}], 'summary': u'<img src=\"http://31.media.tumblr.com/b89cc31d9ca0510c9a078ad67ead8975/tumblr_n1s51zhZlt1t8sai5o1_500.jpg\" /><br /><br /><p>First time hanging this in a show. :)</p>', 'guidislink': False, 'title_detail': {'base': u'http://mcsteffen.tumblr.com/rss', 'type': u'text/plain', 'value': u'First time hanging this in a show. :)', 'language': None}, 'link': u'http://mcsteffen.tumblr.com/post/78255101926', 'published': u'Sat, 01 Mar 2014 17:56:22 -0500', 'id': u'http://mcsteffen.tumblr.com/post/78255101926'}\n",
        "{'summary_detail': {'base': u'http://mcsteffen.tumblr.com/rss', 'type': u'text/html', 'value': u'<img src=\"http://38.media.tumblr.com/a2d384e4b9959edf9d806c1d28f46ee2/tumblr_n1p09uo6Fn1t8sai5o1_500.jpg\" /><br /><br /><p>Sketch of /u/arretez\\u2019s friend</p>', 'language': None}, 'published_parsed': time.struct_time(tm_year=2014, tm_mon=2, tm_mday=28, tm_hour=6, tm_min=20, tm_sec=18, tm_wday=4, tm_yday=59, tm_isdst=0), 'links': [{'href': u'http://mcsteffen.tumblr.com/post/78086866029', 'type': u'text/html', 'rel': u'alternate'}], 'title': u'Sketch of /u/arretez\\u2019s friend', 'tags': [{'term': u'RGD', 'scheme': None, 'label': None}, {'term': u'/r/artistlounge', 'scheme': None, 'label': None}, {'term': u'/r/redditgetsdrawn', 'scheme': None, 'label': None}, {'term': u'redditgetsdrawn', 'scheme': None, 'label': None}, {'term': u'funisher', 'scheme': None, 'label': None}, {'term': u'mike steffen', 'scheme': None, 'label': None}, {'term': u'sketch', 'scheme': None, 'label': None}, {'term': u'art', 'scheme': None, 'label': None}], 'summary': u'<img src=\"http://38.media.tumblr.com/a2d384e4b9959edf9d806c1d28f46ee2/tumblr_n1p09uo6Fn1t8sai5o1_500.jpg\" /><br /><br /><p>Sketch of /u/arretez\\u2019s friend</p>', 'guidislink': False, 'title_detail': {'base': u'http://mcsteffen.tumblr.com/rss', 'type': u'text/plain', 'value': u'Sketch of /u/arretez\\u2019s friend', 'language': None}, 'link': u'http://mcsteffen.tumblr.com/post/78086866029', 'published': u'Fri, 28 Feb 2014 01:20:18 -0500', 'id': u'http://mcsteffen.tumblr.com/post/78086866029'}\n",
        "{'summary_detail': {'base': u'http://mcsteffen.tumblr.com/rss', 'type': u'text/html', 'value': u'<img src=\"http://31.media.tumblr.com/67b29f3fa6e636fa938d66c6bd87e392/tumblr_mz8djw4VLL1t8sai5o1_500.jpg\" /><br /><br /><p>/u/Birdynumnums1, pencil on paper</p>', 'language': None}, 'published_parsed': time.struct_time(tm_year=2014, tm_mon=1, tm_mday=11, tm_hour=9, tm_min=40, tm_sec=44, tm_wday=5, tm_yday=11, tm_isdst=0), 'links': [{'href': u'http://mcsteffen.tumblr.com/post/72961361062', 'type': u'text/html', 'rel': u'alternate'}], 'title': u'/u/Birdynumnums1, pencil on paper', 'tags': [{'term': u'rgd', 'scheme': None, 'label': None}, {'term': u'/r/redditgetsdrawn', 'scheme': None, 'label': None}, {'term': u'/r/artistlounge', 'scheme': None, 'label': None}, {'term': u'funisher', 'scheme': None, 'label': None}, {'term': u'mike steffen', 'scheme': None, 'label': None}, {'term': u'drawing', 'scheme': None, 'label': None}, {'term': u'art', 'scheme': None, 'label': None}, {'term': u'portraiture', 'scheme': None, 'label': None}], 'summary': u'<img src=\"http://31.media.tumblr.com/67b29f3fa6e636fa938d66c6bd87e392/tumblr_mz8djw4VLL1t8sai5o1_500.jpg\" /><br /><br /><p>/u/Birdynumnums1, pencil on paper</p>', 'guidislink': False, 'title_detail': {'base': u'http://mcsteffen.tumblr.com/rss', 'type': u'text/plain', 'value': u'/u/Birdynumnums1, pencil on paper', 'language': None}, 'link': u'http://mcsteffen.tumblr.com/post/72961361062', 'published': u'Sat, 11 Jan 2014 04:40:44 -0500', 'id': u'http://mcsteffen.tumblr.com/post/72961361062'}\n",
        "{'summary_detail': {'base': u'http://mcsteffen.tumblr.com/rss', 'type': u'text/html', 'value': u'<img src=\"http://31.media.tumblr.com/e7e60139d8fe58d4d82942998e55000b/tumblr_mz8dh8zvR11t8sai5o1_500.jpg\" /><br /><br /><p>/u/Internet_Exploder, Oil on Wood Panel, 14 x 11 inches</p>', 'language': None}, 'published_parsed': time.struct_time(tm_year=2014, tm_mon=1, tm_mday=11, tm_hour=9, tm_min=39, tm_sec=8, tm_wday=5, tm_yday=11, tm_isdst=0), 'links': [{'href': u'http://mcsteffen.tumblr.com/post/72961290241', 'type': u'text/html', 'rel': u'alternate'}], 'title': u'/u/Internet_Exploder, Oil on Wood Panel, 14 x 11 inches', 'tags': [{'term': u'RGD', 'scheme': None, 'label': None}, {'term': u'/r/redditgetsdrawn', 'scheme': None, 'label': None}, {'term': u'/r/artistlounge', 'scheme': None, 'label': None}, {'term': u'art', 'scheme': None, 'label': None}, {'term': u'mike steffen', 'scheme': None, 'label': None}, {'term': u'funisher', 'scheme': None, 'label': None}], 'summary': u'<img src=\"http://31.media.tumblr.com/e7e60139d8fe58d4d82942998e55000b/tumblr_mz8dh8zvR11t8sai5o1_500.jpg\" /><br /><br /><p>/u/Internet_Exploder, Oil on Wood Panel, 14 x 11 inches</p>', 'guidislink': False, 'title_detail': {'base': u'http://mcsteffen.tumblr.com/rss', 'type': u'text/plain', 'value': u'/u/Internet_Exploder, Oil on Wood Panel, 14 x 11 inches', 'language': None}, 'link': u'http://mcsteffen.tumblr.com/post/72961290241', 'published': u'Sat, 11 Jan 2014 04:39:08 -0500', 'id': u'http://mcsteffen.tumblr.com/post/72961290241'}\n",
        "{'summary_detail': {'base': u'http://mcsteffen.tumblr.com/rss', 'type': u'text/html', 'value': u'<img src=\"http://33.media.tumblr.com/4075917b855bf3f83112a7ef04a4f9e1/tumblr_myep73x95N1t8sai5o1_500.jpg\" /><br /><br /><p>Poeptal</p>', 'language': None}, 'published_parsed': time.struct_time(tm_year=2013, tm_mon=12, tm_mday=26, tm_hour=9, tm_min=4, tm_sec=15, tm_wday=3, tm_yday=360, tm_isdst=0), 'links': [{'href': u'http://mcsteffen.tumblr.com/post/71188778392', 'type': u'text/html', 'rel': u'alternate'}], 'title': u'Poeptal', 'tags': [{'term': u'/r/fancyfollicles', 'scheme': None, 'label': None}, {'term': u'rgd', 'scheme': None, 'label': None}, {'term': u'/r/redditgetsdrawn', 'scheme': None, 'label': None}, {'term': u'funisher', 'scheme': None, 'label': None}, {'term': u'mike steffen', 'scheme': None, 'label': None}], 'summary': u'<img src=\"http://33.media.tumblr.com/4075917b855bf3f83112a7ef04a4f9e1/tumblr_myep73x95N1t8sai5o1_500.jpg\" /><br /><br /><p>Poeptal</p>', 'guidislink': False, 'title_detail': {'base': u'http://mcsteffen.tumblr.com/rss', 'type': u'text/plain', 'value': u'Poeptal', 'language': None}, 'link': u'http://mcsteffen.tumblr.com/post/71188778392', 'published': u'Thu, 26 Dec 2013 04:04:15 -0500', 'id': u'http://mcsteffen.tumblr.com/post/71188778392'}\n"
       ]
      }
     ],
     "prompt_number": 57
    },
    {
     "cell_type": "code",
     "collapsed": false,
     "input": [
      "for em in emcs:\n",
      "    print len(em['summary_detail']['value'])\n",
      "    "
     ],
     "language": "python",
     "metadata": {},
     "outputs": [
      {
       "output_type": "stream",
       "stream": "stdout",
       "text": [
        "187\n",
        "167\n",
        "657\n",
        "514\n",
        "151\n",
        "192\n",
        "148\n",
        "142\n",
        "159\n",
        "154\n",
        "177\n",
        "176\n",
        "138\n",
        "145\n",
        "49\n",
        "164\n",
        "156\n",
        "160\n",
        "182\n",
        "134\n"
       ]
      }
     ],
     "prompt_number": 58
    },
    {
     "cell_type": "code",
     "collapsed": false,
     "input": [
      "contactpage = dominate.document(title='contact')"
     ],
     "language": "python",
     "metadata": {},
     "outputs": [],
     "prompt_number": 59
    },
    {
     "cell_type": "code",
     "collapsed": false,
     "input": [
      "with contactpage.head:\n",
      "    link(rel='stylesheet', href='style.css')\n",
      "    script(type='text/javascript', src='script.js')\n",
      "\n",
      "with contactpage:\n",
      "    with div():\n",
      "        attr(cls='header')\n",
      "        #<img src=\"smiley.gif\" alt=\"Smiley face\" height=\"42\" width=\"42\">\n",
      "        h1('contact')\n",
      "        p('email: will@artcontrol.me twitter: art_control')\n",
      "        #for mine in minels:\n",
      "            #h1(mine.author_flair_text())\n",
      "            #p(mine.body)\n",
      "        \n",
      "    '''with div(id='author'):\n",
      "        for tits in titlis:\n",
      "            h3(tits)\n",
      "    \n",
      "    with div(id='body').add(p()):\n",
      "        for mine in minels:\n",
      "            #h1(mine.created)\n",
      "            p(mine.body)\n",
      "            \n",
      "\n",
      "\n",
      "\n",
      "'''\n",
      "print contactpage"
     ],
     "language": "python",
     "metadata": {},
     "outputs": [
      {
       "output_type": "stream",
       "stream": "stdout",
       "text": [
        "<!DOCTYPE html>\n",
        "<html>\n",
        "  <head>\n",
        "    <title>contact</title>\n",
        "    <link href=\"style.css\" rel=\"stylesheet\">\n",
        "    <script src=\"script.js\" type=\"text/javascript\"></script>\n",
        "  </head>\n",
        "  <body>\n",
        "    <div class=\"header\">\n",
        "      <h1>contact</h1>\n",
        "      <p>email: will@artcontrol.me twitter: art_control</p>\n",
        "    </div>\n",
        "  </body>\n",
        "</html>\n"
       ]
      }
     ],
     "prompt_number": 60
    },
    {
     "cell_type": "code",
     "collapsed": false,
     "input": [
      "os.chdir('contact')"
     ],
     "language": "python",
     "metadata": {},
     "outputs": [],
     "prompt_number": 61
    },
    {
     "cell_type": "code",
     "collapsed": false,
     "input": [
      "savcon = open('index.html', 'w')\n",
      "savcon.write(str(contactpage))\n",
      "savcon.close()"
     ],
     "language": "python",
     "metadata": {},
     "outputs": [],
     "prompt_number": 62
    },
    {
     "cell_type": "code",
     "collapsed": false,
     "input": [
      "dirdir = os.chdir('/var/www/artcontroldrawsyou')"
     ],
     "language": "python",
     "metadata": {},
     "outputs": [],
     "prompt_number": 63
    },
    {
     "cell_type": "code",
     "collapsed": false,
     "input": [
      "dirdir"
     ],
     "language": "python",
     "metadata": {},
     "outputs": [],
     "prompt_number": 64
    },
    {
     "cell_type": "code",
     "collapsed": false,
     "input": [
      "aboutpage = dominate.document(title='about')\n",
      "with aboutpage.head:\n",
      "    link(rel='stylesheet', href='style.css')\n",
      "    script(type='text/javascript', src='script.js')\n",
      "\n",
      "with aboutpage:\n",
      "    with div():\n",
      "        attr(cls='header')\n",
      "        #<img src=\"smiley.gif\" alt=\"Smiley face\" height=\"42\" width=\"42\">\n",
      "        h1('about')\n",
      "        p('artcontroldrawsyou is a website that takes RedditGetsDrawn data and posts it here.')\n",
      "        #for mine in minels:\n",
      "            #h1(mine.author_flair_text())\n",
      "            #p(mine.body)\n",
      "        \n",
      "    '''with div(id='author'):\n",
      "        for tits in titlis:\n",
      "            h3(tits)\n",
      "    \n",
      "    with div(id='body').add(p()):\n",
      "        for mine in minels:\n",
      "            #h1(mine.created)\n",
      "            p(mine.body)\n",
      "            \n",
      "\n",
      "\n",
      "\n",
      "'''\n",
      "print aboutpage"
     ],
     "language": "python",
     "metadata": {},
     "outputs": [
      {
       "output_type": "stream",
       "stream": "stdout",
       "text": [
        "<!DOCTYPE html>\n",
        "<html>\n",
        "  <head>\n",
        "    <title>about</title>\n",
        "    <link href=\"style.css\" rel=\"stylesheet\">\n",
        "    <script src=\"script.js\" type=\"text/javascript\"></script>\n",
        "  </head>\n",
        "  <body>\n",
        "    <div class=\"header\">\n",
        "      <h1>about</h1>\n",
        "      <p>artcontroldrawsyou is a website that takes RedditGetsDrawn data and posts it here.</p>\n",
        "    </div>\n",
        "  </body>\n",
        "</html>\n"
       ]
      }
     ],
     "prompt_number": 65
    },
    {
     "cell_type": "code",
     "collapsed": false,
     "input": [
      "os.chdir('about')"
     ],
     "language": "python",
     "metadata": {},
     "outputs": [],
     "prompt_number": 66
    },
    {
     "cell_type": "code",
     "collapsed": false,
     "input": [
      "aboucr = open('index.html', 'w')\n",
      "aboucr.write(str(aboutpage))\n",
      "aboucr.close()"
     ],
     "language": "python",
     "metadata": {},
     "outputs": [],
     "prompt_number": 67
    },
    {
     "cell_type": "code",
     "collapsed": false,
     "input": [
      "os.chdir('/var/www/artcontroldrawsyou/')"
     ],
     "language": "python",
     "metadata": {},
     "outputs": [],
     "prompt_number": 68
    },
    {
     "cell_type": "code",
     "collapsed": false,
     "input": [
      "import requests"
     ],
     "language": "python",
     "metadata": {},
     "outputs": [],
     "prompt_number": 69
    },
    {
     "cell_type": "code",
     "collapsed": false,
     "input": [
      "requests.get('https://github.com/wcmckee/hamiltoncomputerclub.org.nz/archive/master.zip')"
     ],
     "language": "python",
     "metadata": {},
     "outputs": [
      {
       "metadata": {},
       "output_type": "pyout",
       "prompt_number": 70,
       "text": [
        "<Response [200]>"
       ]
      }
     ],
     "prompt_number": 70
    }
   ],
   "metadata": {}
  }
 ]
}