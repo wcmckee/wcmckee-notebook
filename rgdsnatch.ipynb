{
 "metadata": {
  "name": "",
  "signature": "sha256:3a75a2262d91d80800ef5a6990fe8e756608063c701beb3e3a1e850a212b3bd7"
 },
 "nbformat": 3,
 "nbformat_minor": 0,
 "worksheets": [
  {
   "cells": [
    {
     "cell_type": "markdown",
     "metadata": {},
     "source": [
      "RedditGetsDrawn Snatch\n",
      "\n",
      "This is a Python script that takes data from reddit and posts it to another subreddit. It also creates a html file with the images embed into. The images are the most recent 25 on r/redditgetsdrawn.\n",
      "\n"
     ]
    },
    {
     "cell_type": "markdown",
     "metadata": {},
     "source": [
      "TODO\n",
      "\n",
      "submit art to users via website\n",
      "\n",
      "fix image sizes (need to scale down to 550px)\n",
      "\n",
      "Save to server rather than imgur\n",
      "\n",
      "Archieve, snapshots of rgd\n",
      "\n",
      "more artcontrol\n",
      "\n",
      "itwillbemine comments to html - currently being saved in contact \n",
      "\n",
      "work on css, div up page, title, side, body, fo\n",
      "update twitter with ONE IMAGE and announce that the list has been updated.\n",
      "\n",
      "write blog post and submits to artcontroldrawsyou/blog \n",
      "\n",
      "gets sticked post on reddit\n",
      "\n",
      "delete about/contact page and have on all same page. can still have link to blog. \n",
      "about \n",
      "contact etc... along the top.\n",
      "other sections\n",
      "\n",
      "post images to blog for archieve - save body to wcmckee.com/blog - md format?\n",
      "\n",
      "nikola install - build site.\n",
      "\n",
      "cronjob to update site ever ?? hours? 4?\n",
      "\n",
      "photos section: latest 25 photos submitted to redditgetsdrawn.\n",
      "art section: latest 25 art submitted to redditgetsdrawn. "
     ]
    },
    {
     "cell_type": "code",
     "collapsed": false,
     "input": [
      "import os\n",
      "import random\n",
      "import requests\n",
      "from bs4 import BeautifulSoup\n",
      "import re\n",
      "import json\n",
      "import time\n",
      "import praw\n",
      "import dominate\n",
      "from dominate.tags import *\n",
      "from time import gmtime, strftime\n",
      "\n"
     ],
     "language": "python",
     "metadata": {},
     "outputs": [],
     "prompt_number": 1
    },
    {
     "cell_type": "code",
     "collapsed": false,
     "input": [
      "os.chdir('/var/www/artcontroldrawsyou')"
     ],
     "language": "python",
     "metadata": {},
     "outputs": [],
     "prompt_number": 2
    },
    {
     "cell_type": "code",
     "collapsed": false,
     "input": [
      "r = praw.Reddit(user_agent='rgdsnatch')"
     ],
     "language": "python",
     "metadata": {},
     "outputs": [],
     "prompt_number": 3
    },
    {
     "cell_type": "code",
     "collapsed": false,
     "input": [
      "#r.login('artcontrol', 'taylor123vag!')"
     ],
     "language": "python",
     "metadata": {},
     "outputs": [],
     "prompt_number": 4
    },
    {
     "cell_type": "code",
     "collapsed": false,
     "input": [
      "rd = r.get_subreddit('redditgetsdrawn')"
     ],
     "language": "python",
     "metadata": {},
     "outputs": [],
     "prompt_number": 5
    },
    {
     "cell_type": "code",
     "collapsed": false,
     "input": [
      "subz = rd.get_hot().next()\n",
      "istit = (subz.title)\n",
      "istxt = (subz.selftext_html)\n",
      "istick = (subz.stickied)"
     ],
     "language": "python",
     "metadata": {},
     "outputs": [],
     "prompt_number": 6
    },
    {
     "cell_type": "code",
     "collapsed": false,
     "input": [
      "istit"
     ],
     "language": "python",
     "metadata": {},
     "outputs": [
      {
       "metadata": {},
       "output_type": "pyout",
       "prompt_number": 7,
       "text": [
        "u\"It's time for RGD Mod Favorites (August 24 - August 30)! See inside for details\""
       ]
      }
     ],
     "prompt_number": 7
    },
    {
     "cell_type": "code",
     "collapsed": false,
     "input": [
      "istxt"
     ],
     "language": "python",
     "metadata": {},
     "outputs": [
      {
       "metadata": {},
       "output_type": "pyout",
       "prompt_number": 8,
       "text": [
        "u'&lt;!-- SC_OFF --&gt;&lt;div class=\"md\"&gt;&lt;p&gt;Every week, each mod selects his or her favorite five pieces from RGD that week, along with a favorite submitted photo! Let&amp;#39;s take a look.&lt;/p&gt;\\n\\n&lt;p&gt;Fivepm was on vacation this week, and meeps won&amp;#39;t be participating in the foreseeable future due to time constraints.&lt;/p&gt;\\n\\n&lt;p&gt;Here they are!&lt;/p&gt;\\n\\n&lt;p&gt;&lt;strong&gt;Selections from Chokeberry&lt;/strong&gt;&lt;/p&gt;\\n\\n&lt;p&gt;Submitter &lt;a href=\"http://i.imgur.com/vQTcbic.jpg\"&gt;shabedrisi1&lt;/a&gt;, artist &lt;a href=\"http://i.imgur.com/4Juvifo.jpg\"&gt;Taurox&lt;/a&gt;, &lt;a href=\"http://www.reddit.com/r/redditgetsdrawn/comments/2cjfe4/this_picture_was_taken_of_me_at_the_gay_parade_in/ck3flyq\"&gt;Permalink&lt;/a&gt;&lt;/p&gt;\\n\\n&lt;p&gt;Submitter &lt;a href=\"http://i.imgur.com/fA7Txg8.jpg\"&gt;Zemzk&lt;/a&gt;, artist &lt;a href=\"http://i.imgur.com/w2D9Qfy.png\"&gt;silentlights&lt;/a&gt;, &lt;a href=\"http://www.reddit.com/r/redditgetsdrawn/comments/2eos02/theres_so_many_amazing_artists_id_love_to_see/ck1oh6x\"&gt;Permalink&lt;/a&gt;&lt;/p&gt;\\n\\n&lt;p&gt;Submitter &lt;a href=\"http://i.imgur.com/OQAvRkR.jpg\"&gt;Raecas11, NSFW&lt;/a&gt;, artist &lt;a href=\"http://i.imgur.com/1ALy6Ss.jpg\"&gt;who-died&lt;/a&gt;, &lt;a href=\"http://www.reddit.com/r/redditgetsdrawn/comments/2ehr4t/any_one_want_to_draw_a_spookier_version_of_me/cjztwpy\"&gt;Permalink&lt;/a&gt;&lt;/p&gt;\\n\\n&lt;p&gt;Submitter &lt;a href=\"http://i.imgur.com/uNprD8s.jpg\"&gt;Inspector_Santini&lt;/a&gt;, artist &lt;a href=\"http://fc05.deviantart.net/fs71/i/2014/239/0/8/rgd_inspector_santini_by_jonathanhankin-d7wyemp.jpg\"&gt;dead_painter&lt;/a&gt;, &lt;a href=\"http://www.reddit.com/r/redditgetsdrawn/comments/2erz52/hey_its_me/ck2hy0q\"&gt;Permalink&lt;/a&gt;&lt;/p&gt;\\n\\n&lt;p&gt;Submitter &lt;a href=\"http://i.imgur.com/wSk1NB3.jpg\"&gt;HoesLoveMeLikeSatan&lt;/a&gt;, artist &lt;a href=\"http://i.imgur.com/502praE.jpg\"&gt;Riptide_&lt;/a&gt;, &lt;a href=\"http://www.reddit.com/r/redditgetsdrawn/comments/2erya9/would_love_to_see_this_picture_of_myself_drawn/ck2lwv3\"&gt;Permalink&lt;/a&gt;&lt;/p&gt;\\n\\n&lt;p&gt;&lt;strong&gt;Selections from heyryaaan&lt;/strong&gt;&lt;/p&gt;\\n\\n&lt;p&gt;Submitter &lt;a href=\"http://i.imgur.com/HloeFf0.png\"&gt;alpakin&lt;/a&gt;, artist &lt;a href=\"http://i.imgur.com/copWiie.jpg\"&gt;blacklipstick&lt;/a&gt;, &lt;a href=\"http://www.reddit.com/r/redditgetsdrawn/comments/2efuuy/here_is_an_interesting_harley_quinnesque_photo_of/cjziv7m\"&gt;Permalink&lt;/a&gt;&lt;/p&gt;\\n\\n&lt;p&gt;Submitter &lt;a href=\"http://i.imgur.com/ZvYsJuM.jpg\"&gt;cruzas&lt;/a&gt;, artist &lt;a href=\"http://i.imgur.com/47HZgDD.jpg\"&gt;TeachersPen&lt;/a&gt;, &lt;a href=\"http://www.reddit.com/r/redditgetsdrawn/comments/2eof3v/can_you_make_this_picture_of_me_more_royalhigh/ck1k7fs\"&gt;Permalink&lt;/a&gt;&lt;/p&gt;\\n\\n&lt;p&gt;Submitter &lt;a href=\"http://i.imgur.com/SIl8GAW.jpg\"&gt;ashbgash09&lt;/a&gt;, artist &lt;a href=\"http://i.imgur.com/diEiHz0.jpg\"&gt;TimeLockedArt&lt;/a&gt;, &lt;a href=\"http://www.reddit.com/r/redditgetsdrawn/comments/2enbvw/my_favorite_photo_of_my_nephew_is_blurred_i_would/ck2v1y0\"&gt;Permalink&lt;/a&gt;&lt;/p&gt;\\n\\n&lt;p&gt;Submitter &lt;a href=\"http://i.imgur.com/dNGj4hr.jpg\"&gt;IllBePhrank&lt;/a&gt;, artist &lt;a href=\"http://i.imgur.com/FBrfEi0.jpg\"&gt;Chokeberry&lt;/a&gt;, &lt;a href=\"http://www.reddit.com/r/redditgetsdrawn/comments/2eczrh/one_day_a_hawk_landed_on_my_back_because_it_was/ck1r6me\"&gt;Permalink&lt;/a&gt;&lt;/p&gt;\\n\\n&lt;p&gt;Submitter &lt;a href=\"http://i.imgur.com/mkCjzR2.jpg\"&gt;IreadAlotofArticles&lt;/a&gt;, artist &lt;a href=\"http://i.imgur.com/h5HiSSI.jpg\"&gt;too_weak_too_slow&lt;/a&gt;, &lt;a href=\"http://www.reddit.com/r/redditgetsdrawn/comments/2eghy8/id_be_honored_if_you_would_attempt_a_realism/ck0io9f\"&gt;Permalink&lt;/a&gt;&lt;/p&gt;\\n\\n&lt;p&gt;&lt;strong&gt;Selections from ItWillBeMine&lt;/strong&gt;&lt;/p&gt;\\n\\n&lt;p&gt;Submitter &lt;a href=\"http://i.imgur.com/PrDznYZ.jpg\"&gt;Sci41horses&lt;/a&gt;, artist &lt;a href=\"http://i.imgur.com/RyFODAE.png\"&gt;sikefoo&lt;/a&gt;, &lt;a href=\"http://www.reddit.com/r/redditgetsdrawn/comments/2ehi74/would_you_like_to_draw_my_horse/ck02pd6\"&gt;Permalink&lt;/a&gt;&lt;/p&gt;\\n\\n&lt;p&gt;Submitter &lt;a href=\"http://i.imgur.com/QdOxvaB.jpg\"&gt;sgt_mary_mary&lt;/a&gt;, artist &lt;a href=\"http://i.imgur.com/TE5TSxR.jpg\"&gt;drokart&lt;/a&gt;, &lt;a href=\"http://www.reddit.com/r/redditgetsdrawn/comments/2enoe1/me_with_some_green_stuff_on_my_head/ck1l2tg\"&gt;Permalink&lt;/a&gt;&lt;/p&gt;\\n\\n&lt;p&gt;Submitter &lt;a href=\"http://i.imgur.com/0Bv2TqV.jpg\"&gt;Elwenaur - gore warning&lt;/a&gt;, artists &lt;a href=\"http://i.imgur.com/qwcAcgv.jpg\"&gt;Dr_Pepper_Spray and I_may_be_dead&lt;/a&gt;, &lt;a href=\"http://www.reddit.com/r/redditgetsdrawn/comments/2enfon/longtime_artist_firsttime_submitter_anyone_want/ck1gzy1\"&gt;Permalink&lt;/a&gt;&lt;/p&gt;\\n\\n&lt;p&gt;Submitter &lt;a href=\"http://i.imgur.com/Agdz0np.jpg\"&gt;Peter108&lt;/a&gt;, artist &lt;a href=\"http://i.imgur.com/j38XE59.jpg\"&gt;The_Drawist&lt;/a&gt;, &lt;a href=\"http://www.reddit.com/r/redditgetsdrawn/comments/2ejkya/would_anybody_be_kind_enough_to_draw_my_little/ck0r2ip\"&gt;Permalink&lt;/a&gt;&lt;/p&gt;\\n\\n&lt;p&gt;Submitter &lt;a href=\"http://i.imgur.com/4X6ORZS.jpg\"&gt;2000YearOldRoman&lt;/a&gt;, artist &lt;a href=\"http://i.imgur.com/kx7CfpQ.jpg\"&gt;jhred&lt;/a&gt;, &lt;a href=\"http://www.reddit.com/r/redditgetsdrawn/comments/2eqkpb/my_daughter_found_a_crab_claw_that_she_thought/ck3bhr1\"&gt;Permalink&lt;/a&gt;&lt;/p&gt;\\n\\n&lt;p&gt;&lt;strong&gt;Selections from orvane&lt;/strong&gt;&lt;/p&gt;\\n\\n&lt;p&gt;Submitter &lt;a href=\"http://i.imgur.com/au1PkKb.jpg\"&gt;friendlyfire_&lt;/a&gt;, artist &lt;a href=\"http://i.imgur.com/RDsa43u.png\"&gt;sikefoo&lt;/a&gt;, &lt;a href=\"http://www.reddit.com/r/redditgetsdrawn/comments/2ep7io/a_spooky_old_image_of_me_with_my_head_in_a_scanner/ck2275y\"&gt;Permalink&lt;/a&gt;&lt;/p&gt;\\n\\n&lt;p&gt;Submitter &lt;a href=\"http://i.imgur.com/X2ojugD.jpg\"&gt;hampaw&lt;/a&gt;, artist &lt;a href=\"http://i.imgur.com/LouAFFM.png\"&gt;ninjamonkeydog&lt;/a&gt;, &lt;a href=\"http://www.reddit.com/r/redditgetsdrawn/comments/2ejtlz/my_bear_was_on_a_ranch_this_weekend_i_think_he/ck0n2io\"&gt;Permalink&lt;/a&gt;&lt;/p&gt;\\n\\n&lt;p&gt;Submitter &lt;a href=\"http://i.imgur.com/4X6ORZS.jpg\"&gt;2000YearOldRoman&lt;/a&gt;, artist &lt;a href=\"http://i.imgur.com/NaxToUF.jpg\"&gt;Lairosiel&lt;/a&gt;, &lt;a href=\"http://www.reddit.com/r/redditgetsdrawn/comments/2eqkpb/my_daughter_found_a_crab_claw_that_she_thought/ck231q4\"&gt;Permalink&lt;/a&gt;&lt;/p&gt;\\n\\n&lt;p&gt;Submitter &lt;a href=\"http://i.imgur.com/qQDjL3Z.jpg\"&gt;kudrykat&lt;/a&gt;, artist &lt;a href=\"http://i.imgur.com/QCFiD8y.jpg\"&gt;Chokeberry&lt;/a&gt;, &lt;a href=\"http://www.reddit.com/r/redditgetsdrawn/comments/2eks3z/i_had_a_photoshoot_of_myself_recently_would_you/ck0n5xk\"&gt;Permalink&lt;/a&gt;&lt;/p&gt;\\n\\n&lt;p&gt;Submitter &lt;a href=\"http://i.imgur.com/SiOw2Lw.jpg\"&gt;t00_legit_t0_quit&lt;/a&gt;, artist &lt;a href=\"http://i.imgur.com/NvpMNSy.jpg\"&gt;blacklipstick&lt;/a&gt;, &lt;a href=\"http://www.reddit.com/r/redditgetsdrawn/comments/2ei2l1/i_love_all_of_you_and_your_creative_touches/ck00fq4\"&gt;Permalink&lt;/a&gt;&lt;/p&gt;\\n\\n&lt;p&gt;&lt;strong&gt;Selections from sgt_mary_mary&lt;/strong&gt;&lt;/p&gt;\\n\\n&lt;p&gt;Submitter &lt;a href=\"http://i.imgur.com/ffVZcJE.jpg\"&gt;Inspector_Santini&lt;/a&gt;, artist &lt;a href=\"https://i.imgur.com/O4eIkug.jpg\"&gt;-OchreJelly-&lt;/a&gt;, &lt;a href=\"http://www.reddit.com/r/redditgetsdrawn/comments/2erz52/hey_its_me/ck2n87e\"&gt;Permalink&lt;/a&gt;&lt;/p&gt;\\n\\n&lt;p&gt;Submitter &lt;a href=\"http://i.imgur.com/amWhDFA.jpg\"&gt;ThatsWhatSpikeSaid&lt;/a&gt;, artist &lt;a href=\"http://i.imgur.com/uPNJAOF.jpg\"&gt;Ebhagz&lt;/a&gt;, &lt;a href=\"http://www.reddit.com/r/redditgetsdrawn/comments/2eso1y/very_excited_to_have_just_discovered_this/ck3b22p\"&gt;Permalink&lt;/a&gt;&lt;/p&gt;\\n\\n&lt;p&gt;Submitter &lt;a href=\"http://i.imgur.com/X2ojugD.jpg\"&gt;hampaw&lt;/a&gt;, artist &lt;a href=\"http://i.imgur.com/zZO0jSj.jpg\"&gt;altrian&lt;/a&gt;, &lt;a href=\"http://www.reddit.com/r/redditgetsdrawn/comments/2ejtlz/my_bear_was_on_a_ranch_this_weekend_i_think_he/ck0v4zx\"&gt;Permalink&lt;/a&gt;&lt;/p&gt;\\n\\n&lt;p&gt;Submitter &lt;a href=\"http://i.imgur.com/dkqjLjZ.jpg\"&gt;sgt_mary_mary&lt;/a&gt;, artist &lt;a href=\"http://i.imgur.com/3kbJOCV.jpg\"&gt;Pydkou&lt;/a&gt;, &lt;a href=\"http://www.reddit.com/r/redditgetsdrawn/comments/2enoe1/me_with_some_green_stuff_on_my_head/ck20ciq\"&gt;Permalink&lt;/a&gt;&lt;/p&gt;\\n\\n&lt;p&gt;Submitter &lt;a href=\"http://i.imgur.com/7d7bMEw.png\"&gt;TJAbbene&lt;/a&gt;, artist &lt;a href=\"http://i.imgur.com/6utxKK9.jpg\"&gt;tentativesteps&lt;/a&gt;, &lt;a href=\"http://www.reddit.com/r/redditgetsdrawn/comments/2ejrmm/my_beautiful_sister_showing_her_peacock/ck0p768\"&gt;Permalink&lt;/a&gt;&lt;/p&gt;\\n\\n&lt;p&gt;&lt;strong&gt;Selections from yowtfyo&lt;/strong&gt;&lt;/p&gt;\\n\\n&lt;p&gt;Submitter &lt;a href=\"http://i.imgur.com/0Bv2TqV.jpg\"&gt;Elwenaur, gore warning&lt;/a&gt;, artist &lt;a href=\"http://i.imgur.com/lJNqjtX.png\"&gt;megaswan&lt;/a&gt;, &lt;a href=\"http://www.reddit.com/r/redditgetsdrawn/comments/2enfon/longtime_artist_firsttime_submitter_anyone_want/ck24eye\"&gt;Permalink&lt;/a&gt;&lt;/p&gt;\\n\\n&lt;p&gt;Submitter &lt;a href=\"http://i.imgur.com/wJxiIjP.jpg\"&gt;TessDevin&lt;/a&gt;, artist &lt;a href=\"http://i.imgur.com/xRfJDbg.jpg\"&gt;A_Haert&lt;/a&gt;, &lt;a href=\"http://www.reddit.com/r/redditgetsdrawn/comments/2efyji/do_you_like_colours_draw_me_at_torontos_buskerfest/cjzl07m\"&gt;Permalink&lt;/a&gt;&lt;/p&gt;\\n\\n&lt;p&gt;Submitter &lt;a href=\"http://i.imgur.com/5ywWbZz.jpg\"&gt;astalavistaz&lt;/a&gt;, artist &lt;a href=\"http://33.media.tumblr.com/295247d5d49529af377abf41be31b4a7/tumblr_nauixmGsGW1qghr41o1_500.png\"&gt;JeepersMister&lt;/a&gt;, &lt;a href=\"http://www.reddit.com/r/redditgetsdrawn/comments/2ehcd1/let_me_show_you_the_dance_of_my_people/cjzqaik\"&gt;Permalink&lt;/a&gt;&lt;/p&gt;\\n\\n&lt;p&gt;Submitter &lt;a href=\"http://i.imgur.com/xWR0YLk.jpg\"&gt;CalvinCooliodge&lt;/a&gt;, artist &lt;a href=\"http://i.imgur.com/fOIoMyg.png\"&gt;hypofun&lt;/a&gt;, &lt;a href=\"http://www.reddit.com/r/redditgetsdrawn/comments/2etcso/my_son_screaming_in_the_yard/ck38clp\"&gt;Permalink&lt;/a&gt;&lt;/p&gt;\\n\\n&lt;p&gt;Submitter &lt;a href=\"http://i.imgur.com/6D2ZD.jpg\"&gt;Nikolaz42&lt;/a&gt;, artist &lt;a href=\"http://i.imgur.com/rhncSUK.jpg\"&gt;littlebutmighty&lt;/a&gt;, &lt;a href=\"http://www.reddit.com/r/redditgetsdrawn/comments/2evlme/a_picture_of_my_daughter_and_my_grandmother_thanks/ck3l5ft\"&gt;Permalink&lt;/a&gt;&lt;/p&gt;\\n\\n&lt;p&gt;And now for the favorite photos!&lt;/p&gt;\\n\\n&lt;p&gt;&lt;strong&gt;Chokeberry:&lt;/strong&gt; Submitter &lt;a href=\"http://i.imgur.com/4X6ORZS.jpg\"&gt;2000YearOldRoman&lt;/a&gt;, &lt;a href=\"http://www.reddit.com/r/redditgetsdrawn/comments/2eqkpb/my_daughter_found_a_crab_claw_that_she_thought/\"&gt;Permalink&lt;/a&gt;&lt;/p&gt;\\n\\n&lt;p&gt;&lt;strong&gt;heyryaaan:&lt;/strong&gt; Submitter &lt;a href=\"http://i.imgur.com/qQDjL3Z.jpg\"&gt;kudryat&lt;/a&gt;, &lt;a href=\"http://www.reddit.com/r/redditgetsdrawn/comments/2eks3z/i_had_a_photoshoot_of_myself_recently_would_you/\"&gt;Permalink&lt;/a&gt;&lt;/p&gt;\\n\\n&lt;p&gt;&lt;strong&gt;ItWillBeMine:&lt;/strong&gt; Submitter &lt;a href=\"http://i.imgur.com/RVcdenQ.jpg\"&gt;eaa513&lt;/a&gt;, &lt;a href=\"http://www.reddit.com/r/redditgetsdrawn/comments/2egp2a/rawww_suggested_i_share_this_with_you_anyone_want/\"&gt;Permalink&lt;/a&gt;&lt;/p&gt;\\n\\n&lt;p&gt;&lt;strong&gt;orvane:&lt;/strong&gt; Submitter &lt;a href=\"http://i.imgur.com/4UFCgCM.jpg\"&gt;riquelmeizpro&lt;/a&gt;, &lt;a href=\"http://www.reddit.com/r/redditgetsdrawn/comments/2emuro/can_someone_draw_me/\"&gt;Permalink&lt;/a&gt;&lt;/p&gt;\\n\\n&lt;p&gt;&lt;strong&gt;sgt_mary_mary:&lt;/strong&gt; Submitter &lt;a href=\"http://i.imgur.com/2D6vSti.jpg\"&gt;Ch11rcH&lt;/a&gt;, &lt;a href=\"http://www.reddit.com/r/redditgetsdrawn/comments/2ejl3d/my_wife_says_this_photo_is_pure_happiness_i_think/\"&gt;Permalink&lt;/a&gt;&lt;/p&gt;\\n\\n&lt;p&gt;&lt;strong&gt;yowtfyo:&lt;/strong&gt; Submitter &lt;a href=\"http://i.imgur.com/7d7bMEw.png\"&gt;TJAbbene&lt;/a&gt;, &lt;a href=\"http://www.reddit.com/r/redditgetsdrawn/comments/2ejrmm/my_beautiful_sister_showing_her_peacock/\"&gt;Permalink&lt;/a&gt;&lt;/p&gt;\\n\\n&lt;p&gt;Congrats to all who were selected! Ye shall be receiving flair, posthaste. See you next week! Please note that we&amp;#39;ll also be selecting and announcing an Artist of the Month sometime this week.&lt;/p&gt;\\n&lt;/div&gt;&lt;!-- SC_ON --&gt;'"
       ]
      }
     ],
     "prompt_number": 8
    },
    {
     "cell_type": "code",
     "collapsed": false,
     "input": [
      "rdnewz = rd.get_new()"
     ],
     "language": "python",
     "metadata": {},
     "outputs": [],
     "prompt_number": 9
    },
    {
     "cell_type": "code",
     "collapsed": false,
     "input": [
      "rdnew = []"
     ],
     "language": "python",
     "metadata": {},
     "outputs": [],
     "prompt_number": 10
    },
    {
     "cell_type": "code",
     "collapsed": false,
     "input": [
      "rdnew"
     ],
     "language": "python",
     "metadata": {},
     "outputs": [
      {
       "metadata": {},
       "output_type": "pyout",
       "prompt_number": 11,
       "text": [
        "[]"
       ]
      }
     ],
     "prompt_number": 11
    },
    {
     "cell_type": "code",
     "collapsed": false,
     "input": [
      "for uz in rdnewz:\n",
      "    #print uz\n",
      "    rdnew.append(uz)"
     ],
     "language": "python",
     "metadata": {},
     "outputs": [],
     "prompt_number": 12
    },
    {
     "cell_type": "code",
     "collapsed": false,
     "input": [
      "urzlis = []\n",
      "titlis = []"
     ],
     "language": "python",
     "metadata": {},
     "outputs": [],
     "prompt_number": 13
    },
    {
     "cell_type": "code",
     "collapsed": false,
     "input": [
      "#os.chdir('imgs')"
     ],
     "language": "python",
     "metadata": {},
     "outputs": [],
     "prompt_number": 14
    },
    {
     "cell_type": "code",
     "collapsed": false,
     "input": [
      "for rdn in rdnew:\n",
      "    print rdn.url\n",
      "    urzlis.append(rdn.url)\n",
      "    titlis.append(rdn.author.name)\n",
      "    "
     ],
     "language": "python",
     "metadata": {},
     "outputs": [
      {
       "output_type": "stream",
       "stream": "stdout",
       "text": [
        "http://imgur.com/gallery/YpZuIAP\n",
        "http://imgur.com/piO1GMF\n",
        "http://i.imgur.com/jaEFEpq.jpg\n",
        "http://imgur.com/oQKR2mg\n",
        "http://i.imgur.com/8aVkY8l.jpg\n",
        "http://imgur.com/tr5ogvM\n",
        "http://i.imgur.com/nS3XMEY.png\n",
        "http://i.imgur.com/uchKKda.jpg\n",
        "http://i.imgur.com/wd80JkU.jpg\n",
        "http://imgur.com/gu8V8HU\n",
        "http://imgur.com/F1n3Ck3\n",
        "http://i.imgur.com/i7ohocs.jpg\n",
        "http://i.imgur.com/Jf5TjZ6.jpg\n",
        "http://i.imgur.com/3XiLOng.jpg\n",
        "http://i.imgur.com/tpj77ZK.jpg\n",
        "http://i.imgur.com/3nYOBPG.jpg\n",
        "http://imgur.com/zl6th8f\n",
        "http://m.imgur.com/oCJOMmv\n",
        "http://i.imgur.com/SvaXoWC.jpg\n",
        "http://imgur.com/l87KzEq\n",
        "http://i.imgur.com/O6GHorj.jpg\n",
        "http://i.imgur.com/ZY2sQQR.jpg\n",
        "http://i.imgur.com/2Yu1LLx.jpg\n",
        "http://i.imgur.com/lTk16O3.jpg\n",
        "http://i.imgur.com/BWItx9Q.jpg\n"
       ]
      }
     ],
     "prompt_number": 15
    },
    {
     "cell_type": "code",
     "collapsed": false,
     "input": [
      "titlis"
     ],
     "language": "python",
     "metadata": {},
     "outputs": [
      {
       "metadata": {},
       "output_type": "pyout",
       "prompt_number": 16,
       "text": [
        "[u'ThwompStomps',\n",
        " u'beachboy182',\n",
        " u'losertakesitall',\n",
        " u'pukerock',\n",
        " u'EasyLeit',\n",
        " u'kiki0116',\n",
        " u'mezilla11',\n",
        " u'Kaylorz',\n",
        " u'nickleon44',\n",
        " u'majorassholesir',\n",
        " u'b3ccuh',\n",
        " u'emmam456',\n",
        " u'JSpangDerulo',\n",
        " u'GuyBanks',\n",
        " u'plokm5432',\n",
        " u'buttnibbler',\n",
        " u'forgotthefuckingname',\n",
        " u'TabithaRose711',\n",
        " u'IllBePhrank',\n",
        " u'jeunesauce',\n",
        " u'IamAmyzing',\n",
        " u'ofalco',\n",
        " u'matthewhayden72',\n",
        " u'catstastic13',\n",
        " u'MrBoobieBuyer']"
       ]
      }
     ],
     "prompt_number": 16
    },
    {
     "cell_type": "code",
     "collapsed": false,
     "input": [
      "jplis = []"
     ],
     "language": "python",
     "metadata": {},
     "outputs": [],
     "prompt_number": 17
    },
    {
     "cell_type": "code",
     "collapsed": false,
     "input": [
      "for iz in jplis:\n",
      "    print iz"
     ],
     "language": "python",
     "metadata": {},
     "outputs": [],
     "prompt_number": 18
    },
    {
     "cell_type": "code",
     "collapsed": false,
     "input": [
      "for urz in urzlis:\n",
      "    if '.jpg' in urz:\n",
      "        jplis.append(urz)"
     ],
     "language": "python",
     "metadata": {},
     "outputs": [],
     "prompt_number": 193
    },
    {
     "cell_type": "code",
     "collapsed": false,
     "input": [
      "doc = dominate.document(title='artcontroldrawsyou')"
     ],
     "language": "python",
     "metadata": {},
     "outputs": [],
     "prompt_number": 194
    },
    {
     "cell_type": "code",
     "collapsed": false,
     "input": [],
     "language": "python",
     "metadata": {},
     "outputs": [],
     "prompt_number": 194
    },
    {
     "cell_type": "code",
     "collapsed": false,
     "input": [
      "ophtml = open('index.html', 'w')"
     ],
     "language": "python",
     "metadata": {},
     "outputs": [],
     "prompt_number": 196
    },
    {
     "cell_type": "code",
     "collapsed": false,
     "input": [
      "ophtml.write(str(doc))"
     ],
     "language": "python",
     "metadata": {},
     "outputs": [],
     "prompt_number": 197
    },
    {
     "cell_type": "code",
     "collapsed": false,
     "input": [
      "ophtml.close()"
     ],
     "language": "python",
     "metadata": {},
     "outputs": [],
     "prompt_number": 198
    },
    {
     "cell_type": "code",
     "collapsed": false,
     "input": [
      "'''def fcopy(src,dest):\n",
      "    \"\"\"\n",
      "    Copy file from source to dest.  dest can include an absolute or relative path\n",
      "    If the path doesn't exist, it gets created\n",
      "    \"\"\"\n",
      "    dest_dir = os.path.dirname(dest)\n",
      "    try:\n",
      "        os.makedirs(dest_dir)\n",
      "    except os.error as e:\n",
      "        pass #Assume it exists.  This could fail if you don't have permissions, etc...\n",
      "    shutil.copy(src,dest)'''"
     ],
     "language": "python",
     "metadata": {},
     "outputs": [
      {
       "metadata": {},
       "output_type": "pyout",
       "prompt_number": 199,
       "text": [
        "'def fcopy(src,dest):\\n    \"\"\"\\n    Copy file from source to dest.  dest can include an absolute or relative path\\n    If the path doesn\\'t exist, it gets created\\n    \"\"\"\\n    dest_dir = os.path.dirname(dest)\\n    try:\\n        os.makedirs(dest_dir)\\n    except os.error as e:\\n        pass #Assume it exists.  This could fail if you don\\'t have permissions, etc...\\n    shutil.copy(src,dest)'"
       ]
      }
     ],
     "prompt_number": 199
    },
    {
     "cell_type": "markdown",
     "metadata": {},
     "source": [
      "cycle though folder and create file in each folder"
     ]
    },
    {
     "cell_type": "code",
     "collapsed": false,
     "input": [
      "#fcopy('/var/www/artcontroldrawsyou/home/')"
     ],
     "language": "python",
     "metadata": {},
     "outputs": [],
     "prompt_number": 26
    },
    {
     "cell_type": "code",
     "collapsed": false,
     "input": [
      "for usz in titlis:\n",
      "    print usz\n",
      "    #os.mkdir(usz)\n",
      "    #os.chdir('/var/www/artcontroldrawsyou/home/' + usz)"
     ],
     "language": "python",
     "metadata": {},
     "outputs": [
      {
       "output_type": "stream",
       "stream": "stdout",
       "text": [
        "ThwompStomps\n",
        "beachboy182\n",
        "losertakesitall\n",
        "pukerock\n",
        "EasyLeit\n",
        "kiki0116\n",
        "mezilla11\n",
        "Kaylorz\n",
        "nickleon44\n",
        "majorassholesir\n",
        "b3ccuh\n",
        "emmam456\n",
        "JSpangDerulo\n",
        "GuyBanks\n",
        "plokm5432\n",
        "buttnibbler\n",
        "forgotthefuckingname\n",
        "TabithaRose711\n",
        "IllBePhrank\n",
        "jeunesauce\n",
        "IamAmyzing\n",
        "ofalco\n",
        "matthewhayden72\n",
        "catstastic13\n",
        "MrBoobieBuyer\n"
       ]
      }
     ],
     "prompt_number": 27
    },
    {
     "cell_type": "code",
     "collapsed": false,
     "input": [
      "'''for filz in titlis:\n",
      "    print filz\n",
      "    \n",
      "    \n",
      "    #os.chdir('/var/www/artcontroldrawsyou/home' + usz)\n",
      "    bulkc = dominate.document(title=filz)\n",
      "    with bulkc.head:\n",
      "        link(rel='stylesheet', href='style.css')\n",
      "        script(type='text/javascript', src='script.js')\n",
      "\n",
      "    with bulkc:\n",
      "        with div():\n",
      "            attr(cls='header')\n",
      "            #<img src=\"smiley.gif\" alt=\"Smiley face\" height=\"42\" width=\"42\">\n",
      "            h1(filz)\n",
      "            img(scr='http://artcontrol.me/wp-content/uploads/2014/08/daenuhlyn-headcoloe.png')\n",
      "            h2('go away artcontrol')\n",
      "        \n",
      "        with div(id='photographs'):\n",
      "            for tits in titlis:\n",
      "                h3(tits)\n",
      "                (a(tits, href='%s' % tits.lower))\n",
      "            \n",
      "    \n",
      "        with div(id='body').add(p()):\n",
      "            for i in jplis:\n",
      "                li(img(i.lower(), src='%s' % i))\n",
      "                li(a(i.lower(), href='%s' % i))\n",
      "                \n",
      "        with div(id='footer'):\n",
      "            p(a('artcontroldrawsyou is opensource', href='https://github.com/wcmckee/wcmckee-notebook'))\n",
      "        \n",
      "        with open('/var/www/artcontroldrawsyou/home/' + filz + '/index.html', 'w') as fout:\n",
      "            fout.write(str(bulkc))\n",
      "            \n",
      "    #with open('index.html', 'w') as indx:\n",
      "       #bulkc = indx.write() \n",
      "        #print bulkc'''"
     ],
     "language": "python",
     "metadata": {},
     "outputs": [
      {
       "metadata": {},
       "output_type": "pyout",
       "prompt_number": 28,
       "text": [
        "'for filz in titlis:\\n    print filz\\n    \\n    \\n    #os.chdir(\\'/var/www/artcontroldrawsyou/home\\' + usz)\\n    bulkc = dominate.document(title=filz)\\n    with bulkc.head:\\n        link(rel=\\'stylesheet\\', href=\\'style.css\\')\\n        script(type=\\'text/javascript\\', src=\\'script.js\\')\\n\\n    with bulkc:\\n        with div():\\n            attr(cls=\\'header\\')\\n            #<img src=\"smiley.gif\" alt=\"Smiley face\" height=\"42\" width=\"42\">\\n            h1(filz)\\n            img(scr=\\'http://artcontrol.me/wp-content/uploads/2014/08/daenuhlyn-headcoloe.png\\')\\n            h2(\\'go away artcontrol\\')\\n        \\n        with div(id=\\'photographs\\'):\\n            for tits in titlis:\\n                h3(tits)\\n                (a(tits, href=\\'%s\\' % tits.lower))\\n            \\n    \\n        with div(id=\\'body\\').add(p()):\\n            for i in jplis:\\n                li(img(i.lower(), src=\\'%s\\' % i))\\n                li(a(i.lower(), href=\\'%s\\' % i))\\n                \\n        with div(id=\\'footer\\'):\\n            p(a(\\'artcontroldrawsyou is opensource\\', href=\\'https://github.com/wcmckee/wcmckee-notebook\\'))\\n        \\n        with open(\\'/var/www/artcontroldrawsyou/home/\\' + filz + \\'/index.html\\', \\'w\\') as fout:\\n            fout.write(str(bulkc))\\n            \\n    #with open(\\'index.html\\', \\'w\\') as indx:\\n       #bulkc = indx.write() \\n        #print bulkc'"
       ]
      }
     ],
     "prompt_number": 28
    },
    {
     "cell_type": "code",
     "collapsed": false,
     "input": [
      "ransubz = random.randint(0,24)"
     ],
     "language": "python",
     "metadata": {},
     "outputs": [],
     "prompt_number": 29
    },
    {
     "cell_type": "code",
     "collapsed": false,
     "input": [
      "print ransubz"
     ],
     "language": "python",
     "metadata": {},
     "outputs": [
      {
       "output_type": "stream",
       "stream": "stdout",
       "text": [
        "9\n"
       ]
      }
     ],
     "prompt_number": 30
    },
    {
     "cell_type": "code",
     "collapsed": false,
     "input": [
      "ransev = rdnew[ransubz]"
     ],
     "language": "python",
     "metadata": {},
     "outputs": [],
     "prompt_number": 31
    },
    {
     "cell_type": "code",
     "collapsed": false,
     "input": [
      "rgdautoz = str(ransev.author)\n"
     ],
     "language": "python",
     "metadata": {},
     "outputs": [],
     "prompt_number": 32
    },
    {
     "cell_type": "code",
     "collapsed": false,
     "input": [
      "rgdsubred = str(ransev.subreddit)"
     ],
     "language": "python",
     "metadata": {},
     "outputs": [],
     "prompt_number": 33
    },
    {
     "cell_type": "code",
     "collapsed": false,
     "input": [
      "sutit = ('[' + rgdsubred + ']')"
     ],
     "language": "python",
     "metadata": {},
     "outputs": [],
     "prompt_number": 34
    },
    {
     "cell_type": "code",
     "collapsed": false,
     "input": [
      "sutit"
     ],
     "language": "python",
     "metadata": {},
     "outputs": [
      {
       "metadata": {},
       "output_type": "pyout",
       "prompt_number": 35,
       "text": [
        "'[redditgetsdrawn]'"
       ]
      }
     ],
     "prompt_number": 35
    },
    {
     "cell_type": "code",
     "collapsed": false,
     "input": [
      "rgdaqwew = ('xpost[RGD]' + rgdautoz)"
     ],
     "language": "python",
     "metadata": {},
     "outputs": [],
     "prompt_number": 36
    },
    {
     "cell_type": "code",
     "collapsed": false,
     "input": [
      "rgdaturo = str(ransev.url)"
     ],
     "language": "python",
     "metadata": {},
     "outputs": [],
     "prompt_number": 37
    },
    {
     "cell_type": "code",
     "collapsed": false,
     "input": [
      "rgdatit = str(ransev.title)"
     ],
     "language": "python",
     "metadata": {},
     "outputs": [],
     "prompt_number": 38
    },
    {
     "cell_type": "code",
     "collapsed": false,
     "input": [
      "rgdatit"
     ],
     "language": "python",
     "metadata": {},
     "outputs": [
      {
       "metadata": {},
       "output_type": "pyout",
       "prompt_number": 39,
       "text": [
        "\"Hi all, can you please draw my girlfriend and I? Our anniversary is coming up and I'd like to give her something personal and beautiful. Thanks in advance, looking forward to everything!\""
       ]
      }
     ],
     "prompt_number": 39
    },
    {
     "cell_type": "code",
     "collapsed": false,
     "input": [
      "#rd.get_top"
     ],
     "language": "python",
     "metadata": {},
     "outputs": [],
     "prompt_number": 40
    },
    {
     "cell_type": "code",
     "collapsed": false,
     "input": [
      "linkdict = {}"
     ],
     "language": "python",
     "metadata": {},
     "outputs": [],
     "prompt_number": 41
    },
    {
     "cell_type": "code",
     "collapsed": false,
     "input": [
      "ady = r.get_subreddit('artcontroldrawsyou')"
     ],
     "language": "python",
     "metadata": {},
     "outputs": [],
     "prompt_number": 42
    },
    {
     "cell_type": "code",
     "collapsed": false,
     "input": [
      "comrgd =  rgdatit + ' ' + rgdaturo"
     ],
     "language": "python",
     "metadata": {},
     "outputs": [],
     "prompt_number": 43
    },
    {
     "cell_type": "code",
     "collapsed": false,
     "input": [
      "loctime = time.localtime()"
     ],
     "language": "python",
     "metadata": {},
     "outputs": [],
     "prompt_number": 44
    },
    {
     "cell_type": "code",
     "collapsed": false,
     "input": [
      "loctime.tm_mday"
     ],
     "language": "python",
     "metadata": {},
     "outputs": [
      {
       "metadata": {},
       "output_type": "pyout",
       "prompt_number": 45,
       "text": [
        "2"
       ]
      }
     ],
     "prompt_number": 45
    },
    {
     "cell_type": "code",
     "collapsed": false,
     "input": [
      "loctime.tm_mon"
     ],
     "language": "python",
     "metadata": {},
     "outputs": [
      {
       "metadata": {},
       "output_type": "pyout",
       "prompt_number": 46,
       "text": [
        "9"
       ]
      }
     ],
     "prompt_number": 46
    },
    {
     "cell_type": "code",
     "collapsed": false,
     "input": [
      "thedat = (str(loctime.tm_mday) + '/' + str(loctime.tm_mon))"
     ],
     "language": "python",
     "metadata": {},
     "outputs": [],
     "prompt_number": 47
    },
    {
     "cell_type": "code",
     "collapsed": false,
     "input": [
      "thedat"
     ],
     "language": "python",
     "metadata": {},
     "outputs": [
      {
       "metadata": {},
       "output_type": "pyout",
       "prompt_number": 48,
       "text": [
        "'2/9'"
       ]
      }
     ],
     "prompt_number": 48
    },
    {
     "cell_type": "code",
     "collapsed": false,
     "input": [
      "mixtut = (thedat + sutit + rgdautoz)"
     ],
     "language": "python",
     "metadata": {},
     "outputs": [],
     "prompt_number": 49
    },
    {
     "cell_type": "code",
     "collapsed": false,
     "input": [
      "loctime"
     ],
     "language": "python",
     "metadata": {},
     "outputs": [
      {
       "metadata": {},
       "output_type": "pyout",
       "prompt_number": 50,
       "text": [
        "time.struct_time(tm_year=2014, tm_mon=9, tm_mday=2, tm_hour=8, tm_min=44, tm_sec=31, tm_wday=1, tm_yday=245, tm_isdst=0)"
       ]
      }
     ],
     "prompt_number": 50
    },
    {
     "cell_type": "code",
     "collapsed": false,
     "input": [
      "#ady.submit(mixtut , (rgdaqwew, comrgd))"
     ],
     "language": "python",
     "metadata": {},
     "outputs": [],
     "prompt_number": 51
    },
    {
     "cell_type": "code",
     "collapsed": false,
     "input": [
      "'''for newa in rdnew:\n",
      "    #rint newa.url\n",
      "    print len(newa)\n",
      "    htmstr = (str(newa.title) + '<a href=\"' + \n",
      "                 str(newa.url) + \n",
      "                 '\"><img class=\"aligncenter size-large wp-image-5723\" alt=\"' +\n",
      "                 str(newa.author) +\n",
      "                 '\" src=\"' + \n",
      "                 str(newa.url) + \n",
      "                 '\" /></a>')\n",
      "    #ophtml.write(htmstr)\n",
      "    #ady.submit(('[RGD]' + newa.author), newa.url)\n",
      "    print newa.author\n",
      "    #print newa.media\n",
      "    ophtml.write(htmstr)\n",
      "    print newa.selftext\n",
      "    print newa.url\n",
      "    print newa.num_comments\n",
      "    \n",
      "    linkdict.update({str(newa.author): str(newa.url)})\n",
      "'''\n"
     ],
     "language": "python",
     "metadata": {},
     "outputs": [
      {
       "metadata": {},
       "output_type": "pyout",
       "prompt_number": 52,
       "text": [
        "'for newa in rdnew:\\n    #rint newa.url\\n    print len(newa)\\n    htmstr = (str(newa.title) + \\'<a href=\"\\' + \\n                 str(newa.url) + \\n                 \\'\"><img class=\"aligncenter size-large wp-image-5723\" alt=\"\\' +\\n                 str(newa.author) +\\n                 \\'\" src=\"\\' + \\n                 str(newa.url) + \\n                 \\'\" /></a>\\')\\n    #ophtml.write(htmstr)\\n    #ady.submit((\\'[RGD]\\' + newa.author), newa.url)\\n    print newa.author\\n    #print newa.media\\n    ophtml.write(htmstr)\\n    print newa.selftext\\n    print newa.url\\n    print newa.num_comments\\n    \\n    linkdict.update({str(newa.author): str(newa.url)})\\n'"
       ]
      }
     ],
     "prompt_number": 52
    },
    {
     "cell_type": "code",
     "collapsed": false,
     "input": [
      "#print str(newa.title)"
     ],
     "language": "python",
     "metadata": {},
     "outputs": [],
     "prompt_number": 53
    },
    {
     "cell_type": "code",
     "collapsed": false,
     "input": [
      "import json"
     ],
     "language": "python",
     "metadata": {},
     "outputs": [],
     "prompt_number": 54
    },
    {
     "cell_type": "code",
     "collapsed": false,
     "input": [
      "newzjson = json.dumps(linkdict)"
     ],
     "language": "python",
     "metadata": {},
     "outputs": [],
     "prompt_number": 55
    },
    {
     "cell_type": "code",
     "collapsed": false,
     "input": [
      "#newzjson"
     ],
     "language": "python",
     "metadata": {},
     "outputs": [],
     "prompt_number": 56
    },
    {
     "cell_type": "code",
     "collapsed": false,
     "input": [],
     "language": "python",
     "metadata": {},
     "outputs": [],
     "prompt_number": 56
    },
    {
     "cell_type": "code",
     "collapsed": false,
     "input": [
      "rmine = r.get_redditor('itwillbemine')\n"
     ],
     "language": "python",
     "metadata": {},
     "outputs": [],
     "prompt_number": 57
    },
    {
     "cell_type": "code",
     "collapsed": false,
     "input": [
      "#opest = open('userurl.json', 'r')\n",
      "#opest.read()\n",
      "#opest.close()"
     ],
     "language": "python",
     "metadata": {},
     "outputs": [],
     "prompt_number": 58
    },
    {
     "cell_type": "code",
     "collapsed": false,
     "input": [
      "mincom = rmine.get_comments()"
     ],
     "language": "python",
     "metadata": {},
     "outputs": [],
     "prompt_number": 59
    },
    {
     "cell_type": "code",
     "collapsed": false,
     "input": [
      "#print mincom"
     ],
     "language": "python",
     "metadata": {},
     "outputs": [],
     "prompt_number": 60
    },
    {
     "cell_type": "code",
     "collapsed": false,
     "input": [
      "minels = []"
     ],
     "language": "python",
     "metadata": {},
     "outputs": [],
     "prompt_number": 61
    },
    {
     "cell_type": "code",
     "collapsed": false,
     "input": [
      "\n",
      "dausr = {}"
     ],
     "language": "python",
     "metadata": {},
     "outputs": [],
     "prompt_number": 62
    },
    {
     "cell_type": "code",
     "collapsed": false,
     "input": [
      "for newa in rdnew:\n",
      "    #rint newa.url\n",
      "    #print newa.author\n",
      "    linkdict.update({str(newa.author): str(newa.url)})"
     ],
     "language": "python",
     "metadata": {},
     "outputs": [],
     "prompt_number": 172
    },
    {
     "cell_type": "code",
     "collapsed": false,
     "input": [],
     "language": "python",
     "metadata": {},
     "outputs": [],
     "prompt_number": 173
    },
    {
     "cell_type": "code",
     "collapsed": false,
     "input": [
      "for con in mincom:\n",
      "    #print con.body\n",
      "    minels.append(con)\n",
      "    dausr.update({str(con.id): str(con.body)})"
     ],
     "language": "python",
     "metadata": {},
     "outputs": [],
     "prompt_number": 174
    },
    {
     "cell_type": "code",
     "collapsed": false,
     "input": [
      "itwillbemine = dominate.document(title='itwillbemine')"
     ],
     "language": "python",
     "metadata": {},
     "outputs": [],
     "prompt_number": 175
    },
    {
     "cell_type": "code",
     "collapsed": false,
     "input": [
      "with itwillbemine.head:\n",
      "    link(rel='stylesheet', href='style.css')\n",
      "    script(type='text/javascript', src='script.js')\n",
      "\n",
      "with itwillbemine:\n",
      "    with div():\n",
      "        attr(cls='header')\n",
      "        #<img src=\"smiley.gif\" alt=\"Smiley face\" height=\"42\" width=\"42\">\n",
      "        h1('itwillbemine')\n",
      "        img(scr='logo.gif')\n",
      "        h2('go away artcontrol')\n",
      "        p(strftime(\"%a, %d %b %Y %H:%M:%S +0000\", gmtime()))\n",
      "        a('about', href='http://brobeur.com/artcontroldrawsyou/about')\n",
      "        a('contact', href='http://brobeur.com/artcontroldrawsyou/contact') \n",
      "        a('blog', href='http://brobeur.com/artcontroldrawsyou/wcmckee.com/wcmckee/output')\n",
      "    \n",
      "    with div():\n",
      "        attr(cls='header')\n",
      "        #<img src=\"smiley.gif\" alt=\"Smiley face\" height=\"42\" width=\"42\">\n",
      "        h1('itwillbemine')\n",
      "        p(img(scr='http://brobeur.com/artcontroldrawsyou/logo.gif'))\n",
      "        #for mine in minels:\n",
      "            #h1(mine.author_flair_text())\n",
      "            #p(mine.body)\n",
      "        \n",
      "    with div(id='author'):\n",
      "        for tits in titlis:\n",
      "            h3(tits)\n",
      "    \n",
      "    with div(id='body').add(p()):\n",
      "        for mine in minels:\n",
      "            #h1(mine.created)\n",
      "            p(mine.body)\n",
      "            \n",
      "\n",
      "\n",
      "\n",
      "print itwillbemine"
     ],
     "language": "python",
     "metadata": {},
     "outputs": [
      {
       "output_type": "stream",
       "stream": "stdout",
       "text": [
        "<!DOCTYPE html>\n",
        "<html>\n",
        "  <head>\n",
        "    <title>itwillbemine</title>\n",
        "    <link href=\"style.css\" rel=\"stylesheet\">\n",
        "    <script src=\"script.js\" type=\"text/javascript\"></script>\n",
        "  </head>\n",
        "  <body>\n",
        "    <div class=\"header\">\n",
        "      <h1>itwillbemine</h1>\n",
        "      <img scr=\"logo.gif\">\n",
        "      <h2>go away artcontrol</h2>\n",
        "      <p>Tue, 02 Sep 2014 09:20:46 +0000</p>\n",
        "      <a href=\"http://brobeur.com/artcontroldrawsyou/about\">about</a>\n",
        "      <a href=\"http://brobeur.com/artcontroldrawsyou/contact\">contact</a>\n",
        "      <a href=\"http://brobeur.com/artcontroldrawsyou/wcmckee.com/wcmckee/output\">blog</a>\n",
        "    </div>\n",
        "    <div class=\"header\">\n",
        "      <h1>itwillbemine</h1>\n",
        "      <p>\n",
        "        <img scr=\"http://brobeur.com/artcontroldrawsyou/logo.gif\">\n",
        "      </p>\n",
        "    </div>\n",
        "    <div id=\"author\">\n",
        "      <h3>ThwompStomps</h3>\n",
        "      <h3>beachboy182</h3>\n",
        "      <h3>losertakesitall</h3>\n",
        "      <h3>pukerock</h3>\n",
        "      <h3>EasyLeit</h3>\n",
        "      <h3>kiki0116</h3>\n",
        "      <h3>mezilla11</h3>\n",
        "      <h3>Kaylorz</h3>\n",
        "      <h3>nickleon44</h3>\n",
        "      <h3>majorassholesir</h3>\n",
        "      <h3>b3ccuh</h3>\n",
        "      <h3>emmam456</h3>\n",
        "      <h3>JSpangDerulo</h3>\n",
        "      <h3>GuyBanks</h3>\n",
        "      <h3>plokm5432</h3>\n",
        "      <h3>buttnibbler</h3>\n",
        "      <h3>forgotthefuckingname</h3>\n",
        "      <h3>TabithaRose711</h3>\n",
        "      <h3>IllBePhrank</h3>\n",
        "      <h3>jeunesauce</h3>\n",
        "      <h3>IamAmyzing</h3>\n",
        "      <h3>ofalco</h3>\n",
        "      <h3>matthewhayden72</h3>\n",
        "      <h3>catstastic13</h3>\n",
        "      <h3>MrBoobieBuyer</h3>\n",
        "    </div>\n",
        "    <div id=\"body\">\n",
        "      <p>\n",
        "        <p>Sure, it's www.facebook.com/redditgetsdrawn :)</p>\n",
        "        <p>Yep.</p>\n",
        "        <p>Your comment was removed. Read the rules of the sub before participating.</p>\n",
        "        <p>Post removed for an unclear title; please read our rules.</p>\n",
        "        <p>OP, you have artists to thank.</p>\n",
        "        <p>Hey HMB! Would you mind linking directly to the relevant image next time? Thank you, and thanks for all you do in RGD! :) </p>\n",
        "        <p>Yaaaay, it's milldogg! &amp;lt;3</p>\n",
        "        <p>This reminds me of /u/powersimon, which is a compliment! :)</p>\n",
        "        <p>I like how you did the lighting/sunlight :)</p>\n",
        "        <p>&amp;lt;3 Whew, good! For what it's worth - awesome job on the skull :)</p>\n",
        "        <p>Thank you, that's really nice to hear! :)</p>\n",
        "        <p>Since I've determined that this is a beginner, you shouldn't laugh at him/her. O_O</p>\n",
        "        <p>&amp;lt;3</p>\n",
        "        <p>**VERY NICE DRAWING**</p>\n",
        "        <p>Yessss, love to see you working in color!</p>\n",
        "        <p>We require all attempts here to be serious and made with effort. Even a cute stick figure is still just a stick figure and can be made in about two minutes or less. It's also hard to make a likeness to OP when you're just doing stick figures.</p>\n",
        "        <p>You should have PMd your question - it wasn't an appropriate comment for this thread.</p>\n",
        "        <p>Thank you :D</p>\n",
        "        <p>I was just thinking about you today! Good to see you! :D</p>\n",
        "        <p>Your comment was removed. Please read the rules of the sub before participating, and do not comment on appearance in this sub.</p>\n",
        "        <p>Your comment was removed as well.</p>\n",
        "        <p>Great job! However, per our rules, please don't comment on appearance in this sub. Thanks!</p>\n",
        "        <p>Your comment was removed. Please read the rules of the sub before participating.</p>\n",
        "        <p>&amp;lt;3 Thank you for being here :)</p>\n",
        "        <p>I love that! This has been my favorite drawing exercise to date. :)</p>\n",
        "      </p>\n",
        "    </div>\n",
        "  </body>\n",
        "</html>\n"
       ]
      }
     ],
     "prompt_number": 176
    },
    {
     "cell_type": "code",
     "collapsed": false,
     "input": [
      "savmine = open('reddit.html', 'w')\n",
      "savmine.write(str(itwillbemine))\n",
      "savmine.close()"
     ],
     "language": "python",
     "metadata": {},
     "outputs": [],
     "prompt_number": 177
    },
    {
     "cell_type": "code",
     "collapsed": false,
     "input": [
      "noizjson = json.dumps(dausr)"
     ],
     "language": "python",
     "metadata": {},
     "outputs": [],
     "prompt_number": 178
    },
    {
     "cell_type": "code",
     "collapsed": false,
     "input": [
      "linkdict"
     ],
     "language": "python",
     "metadata": {},
     "outputs": [
      {
       "metadata": {},
       "output_type": "pyout",
       "prompt_number": 180,
       "text": [
        "{'EasyLeit': 'http://i.imgur.com/8aVkY8l.jpg',\n",
        " 'GuyBanks': 'http://i.imgur.com/3XiLOng.jpg',\n",
        " 'IamAmyzing': 'http://i.imgur.com/O6GHorj.jpg',\n",
        " 'IllBePhrank': 'http://i.imgur.com/SvaXoWC.jpg',\n",
        " 'JSpangDerulo': 'http://i.imgur.com/Jf5TjZ6.jpg',\n",
        " 'Kaylorz': 'http://i.imgur.com/uchKKda.jpg',\n",
        " 'MrBoobieBuyer': 'http://i.imgur.com/BWItx9Q.jpg',\n",
        " 'TabithaRose711': 'http://m.imgur.com/oCJOMmv',\n",
        " 'ThwompStomps': 'http://imgur.com/gallery/YpZuIAP',\n",
        " 'b3ccuh': 'http://imgur.com/F1n3Ck3',\n",
        " 'beachboy182': 'http://imgur.com/piO1GMF',\n",
        " 'buttnibbler': 'http://i.imgur.com/3nYOBPG.jpg',\n",
        " 'catstastic13': 'http://i.imgur.com/lTk16O3.jpg',\n",
        " 'emmam456': 'http://i.imgur.com/i7ohocs.jpg',\n",
        " 'forgotthefuckingname': 'http://imgur.com/zl6th8f',\n",
        " 'jeunesauce': 'http://imgur.com/l87KzEq',\n",
        " 'kiki0116': 'http://imgur.com/tr5ogvM',\n",
        " 'losertakesitall': 'http://i.imgur.com/jaEFEpq.jpg',\n",
        " 'majorassholesir': 'http://imgur.com/gu8V8HU',\n",
        " 'matthewhayden72': 'http://i.imgur.com/2Yu1LLx.jpg',\n",
        " 'mezilla11': 'http://i.imgur.com/nS3XMEY.png',\n",
        " 'nickleon44': 'http://i.imgur.com/wd80JkU.jpg',\n",
        " 'ofalco': 'http://i.imgur.com/ZY2sQQR.jpg',\n",
        " 'plokm5432': 'http://i.imgur.com/tpj77ZK.jpg',\n",
        " 'pukerock': 'http://imgur.com/oQKR2mg'}"
       ]
      }
     ],
     "prompt_number": 180
    },
    {
     "cell_type": "code",
     "collapsed": false,
     "input": [
      "newposts = open('userurl.json', 'a')\n",
      "newposts.write(str(linkdict))\n",
      "print ('file userurl.json updated')\n",
      "newcomments = open('idcomt.json', 'a')\n",
      "newcomments.write(noizjson)\n",
      "print ('user comments updated')\n",
      "newposts.close()\n",
      "newcomments.close()"
     ],
     "language": "python",
     "metadata": {},
     "outputs": [
      {
       "output_type": "stream",
       "stream": "stdout",
       "text": [
        "file userurl.json updated\n",
        "user comments updated\n"
       ]
      }
     ],
     "prompt_number": 182
    },
    {
     "cell_type": "code",
     "collapsed": false,
     "input": [
      "rdusr = str(con.author)\n"
     ],
     "language": "python",
     "metadata": {},
     "outputs": [],
     "prompt_number": 183
    },
    {
     "cell_type": "code",
     "collapsed": false,
     "input": [
      "minelsz = []"
     ],
     "language": "python",
     "metadata": {},
     "outputs": [],
     "prompt_number": 71
    },
    {
     "cell_type": "code",
     "collapsed": false,
     "input": [
      "#for mina in minels:\n",
      "    #print mina.body\n",
      "   # minelsz.append(mina.body)"
     ],
     "language": "python",
     "metadata": {},
     "outputs": [],
     "prompt_number": 72
    },
    {
     "cell_type": "code",
     "collapsed": false,
     "input": [
      "#minelsz"
     ],
     "language": "python",
     "metadata": {},
     "outputs": [],
     "prompt_number": 73
    },
    {
     "cell_type": "code",
     "collapsed": false,
     "input": [
      "#mina.body"
     ],
     "language": "python",
     "metadata": {},
     "outputs": [],
     "prompt_number": 74
    },
    {
     "cell_type": "code",
     "collapsed": false,
     "input": [
      "import feedparser"
     ],
     "language": "python",
     "metadata": {},
     "outputs": [],
     "prompt_number": 184
    },
    {
     "cell_type": "code",
     "collapsed": false,
     "input": [
      "mcs = feedparser.parse('http://mcsteffen.tumblr.com/rss')"
     ],
     "language": "python",
     "metadata": {},
     "outputs": [],
     "prompt_number": 185
    },
    {
     "cell_type": "code",
     "collapsed": false,
     "input": [
      "emcs = mcs['entries']"
     ],
     "language": "python",
     "metadata": {},
     "outputs": [],
     "prompt_number": 186
    },
    {
     "cell_type": "code",
     "collapsed": false,
     "input": [
      "for em in emcs:\n",
      "    print em"
     ],
     "language": "python",
     "metadata": {},
     "outputs": [
      {
       "output_type": "stream",
       "stream": "stdout",
       "text": [
        "{'summary_detail': {'base': u'http://mcsteffen.tumblr.com/rss', 'type': u'text/html', 'value': u'<img src=\"http://33.media.tumblr.com/8d296e208104299904cd950e54bbb321/tumblr_nab26vEZmn1t8sai5o1_500.jpg\" /><br /><br /><p><a class=\"tumblelog\" href=\"http://tmblr.co/mq4n0laUh5KXeRzqSl0YjRQ\">meatyelbow</a> added watercolor!</p>', 'language': None}, 'published_parsed': time.struct_time(tm_year=2014, tm_mon=8, tm_mday=14, tm_hour=16, tm_min=37, tm_sec=43, tm_wday=3, tm_yday=226, tm_isdst=0), 'links': [{'href': u'http://mcsteffen.tumblr.com/post/94733683759', 'type': u'text/html', 'rel': u'alternate'}], 'title': u'meatyelbow added watercolor!', 'tags': [{'term': u'collab', 'scheme': None, 'label': None}, {'term': u'collaboration', 'scheme': None, 'label': None}, {'term': u'watercolor', 'scheme': None, 'label': None}, {'term': u'meatyelbow', 'scheme': None, 'label': None}, {'term': u'portrait', 'scheme': None, 'label': None}, {'term': u'digital art', 'scheme': None, 'label': None}, {'term': u'mixed media', 'scheme': None, 'label': None}], 'summary': u'<img src=\"http://33.media.tumblr.com/8d296e208104299904cd950e54bbb321/tumblr_nab26vEZmn1t8sai5o1_500.jpg\" /><br /><br /><p><a class=\"tumblelog\" href=\"http://tmblr.co/mq4n0laUh5KXeRzqSl0YjRQ\">meatyelbow</a> added watercolor!</p>', 'guidislink': False, 'title_detail': {'base': u'http://mcsteffen.tumblr.com/rss', 'type': u'text/plain', 'value': u'meatyelbow added watercolor!', 'language': None}, 'link': u'http://mcsteffen.tumblr.com/post/94733683759', 'published': u'Thu, 14 Aug 2014 12:37:43 -0400', 'id': u'http://mcsteffen.tumblr.com/post/94733683759'}\n",
        "{'summary_detail': {'base': u'http://mcsteffen.tumblr.com/rss', 'type': u'text/html', 'value': u'<img src=\"http://38.media.tumblr.com/22437df41a29ddaaac56051458f95014/tumblr_nab241KZAd1t8sai5o1_500.jpg\" /><br /><br /><p>Portrait of /u/Churaqe, digital painting</p>', 'language': None}, 'published_parsed': time.struct_time(tm_year=2014, tm_mon=8, tm_mday=14, tm_hour=16, tm_min=36, tm_sec=0, tm_wday=3, tm_yday=226, tm_isdst=0), 'links': [{'href': u'http://mcsteffen.tumblr.com/post/94733568084', 'type': u'text/html', 'rel': u'alternate'}], 'title': u'Portrait of /u/Churaqe, digital painting', 'tags': [{'term': u'digital art', 'scheme': None, 'label': None}, {'term': u'digital painting', 'scheme': None, 'label': None}, {'term': u'redditgetsdrawn', 'scheme': None, 'label': None}, {'term': u'reddit', 'scheme': None, 'label': None}, {'term': u'black and white', 'scheme': None, 'label': None}, {'term': u'portraiture', 'scheme': None, 'label': None}, {'term': u'hatching', 'scheme': None, 'label': None}, {'term': u'crosshatching', 'scheme': None, 'label': None}, {'term': u'reddit art', 'scheme': None, 'label': None}, {'term': u'funisher', 'scheme': None, 'label': None}], 'summary': u'<img src=\"http://38.media.tumblr.com/22437df41a29ddaaac56051458f95014/tumblr_nab241KZAd1t8sai5o1_500.jpg\" /><br /><br /><p>Portrait of /u/Churaqe, digital painting</p>', 'guidislink': False, 'title_detail': {'base': u'http://mcsteffen.tumblr.com/rss', 'type': u'text/plain', 'value': u'Portrait of /u/Churaqe, digital painting', 'language': None}, 'link': u'http://mcsteffen.tumblr.com/post/94733568084', 'published': u'Thu, 14 Aug 2014 12:36:00 -0400', 'id': u'http://mcsteffen.tumblr.com/post/94733568084'}\n",
        "{'summary_detail': {'base': u'http://mcsteffen.tumblr.com/rss', 'type': u'text/html', 'value': u'<img src=\"http://38.media.tumblr.com/8554ac54b4b7f28b53d0a01f2da53628/tumblr_n9yl4a0ZZw1sjrx42o1_500.jpg\" /><br /><br /><p>Michael Dimock\\u2019s lines are so good. Such a great drawing.</p>', 'language': None}, 'published_parsed': time.struct_time(tm_year=2014, tm_mon=8, tm_mday=13, tm_hour=18, tm_min=17, tm_sec=34, tm_wday=2, tm_yday=225, tm_isdst=0), 'links': [{'href': u'http://mcsteffen.tumblr.com/post/94647065879', 'type': u'text/html', 'rel': u'alternate'}], 'title': u'Michael Dimock\\u2019s lines are so good. Such a great drawing.', 'tags': [{'term': u'pen and ink', 'scheme': None, 'label': None}, {'term': u'drawing', 'scheme': None, 'label': None}, {'term': u'portrait', 'scheme': None, 'label': None}, {'term': u'portraiture', 'scheme': None, 'label': None}, {'term': u'hair', 'scheme': None, 'label': None}, {'term': u'reddit', 'scheme': None, 'label': None}], 'summary': u'<img src=\"http://38.media.tumblr.com/8554ac54b4b7f28b53d0a01f2da53628/tumblr_n9yl4a0ZZw1sjrx42o1_500.jpg\" /><br /><br /><p>Michael Dimock\\u2019s lines are so good. Such a great drawing.</p>', 'guidislink': False, 'title_detail': {'base': u'http://mcsteffen.tumblr.com/rss', 'type': u'text/plain', 'value': u'Michael Dimock\\u2019s lines are so good. Such a great drawing.', 'language': None}, 'link': u'http://mcsteffen.tumblr.com/post/94647065879', 'published': u'Wed, 13 Aug 2014 14:17:34 -0400', 'id': u'http://mcsteffen.tumblr.com/post/94647065879'}\n",
        "{'summary_detail': {'base': u'http://mcsteffen.tumblr.com/rss', 'type': u'text/html', 'value': u'<br /><br /><p>Not the Joy of Painting</p>', 'language': None}, 'published_parsed': time.struct_time(tm_year=2014, tm_mon=8, tm_mday=13, tm_hour=7, tm_min=2, tm_sec=57, tm_wday=2, tm_yday=225, tm_isdst=0), 'links': [{'href': u'http://mcsteffen.tumblr.com/post/94611327359', 'type': u'text/html', 'rel': u'alternate'}], 'title': u'Not the Joy of Painting', 'tags': [{'term': u'art fail', 'scheme': None, 'label': None}, {'term': u'drawing', 'scheme': None, 'label': None}, {'term': u'watchredditgetsdrawn', 'scheme': None, 'label': None}, {'term': u'pencil on paper', 'scheme': None, 'label': None}, {'term': u'portraiture', 'scheme': None, 'label': None}, {'term': u'fuck it', 'scheme': None, 'label': None}, {'term': u'portrait', 'scheme': None, 'label': None}, {'term': u'reddit art', 'scheme': None, 'label': None}, {'term': u'sketching', 'scheme': None, 'label': None}], 'summary': u'<br /><br /><p>Not the Joy of Painting</p>', 'guidislink': False, 'title_detail': {'base': u'http://mcsteffen.tumblr.com/rss', 'type': u'text/plain', 'value': u'Not the Joy of Painting', 'language': None}, 'link': u'http://mcsteffen.tumblr.com/post/94611327359', 'published': u'Wed, 13 Aug 2014 03:02:57 -0400', 'id': u'http://mcsteffen.tumblr.com/post/94611327359'}\n",
        "{'summary_detail': {'base': u'http://mcsteffen.tumblr.com/rss', 'type': u'text/html', 'value': u'<img src=\"http://33.media.tumblr.com/1006326dc341bd4a91a214b88bd6d2be/tumblr_na7pwnlPI71t8sai5o1_500.jpg\" /><br /><br /><p>Interpretation for /u/xkisses</p>', 'language': None}, 'published_parsed': time.struct_time(tm_year=2014, tm_mon=8, tm_mday=12, tm_hour=21, tm_min=19, tm_sec=35, tm_wday=1, tm_yday=224, tm_isdst=0), 'links': [{'href': u'http://mcsteffen.tumblr.com/post/94565379439', 'type': u'text/html', 'rel': u'alternate'}], 'title': u'Interpretation for /u/xkisses', 'tags': [{'term': u'drawing', 'scheme': None, 'label': None}, {'term': u'redditgetsdrawn', 'scheme': None, 'label': None}, {'term': u'redditartistnetwork', 'scheme': None, 'label': None}, {'term': u'penandink', 'scheme': None, 'label': None}, {'term': u'digital art', 'scheme': None, 'label': None}, {'term': u'minimal', 'scheme': None, 'label': None}, {'term': u'portrait', 'scheme': None, 'label': None}, {'term': u'portraiture', 'scheme': None, 'label': None}, {'term': u'sexy', 'scheme': None, 'label': None}, {'term': u'kiss', 'scheme': None, 'label': None}, {'term': u'pen and ink', 'scheme': None, 'label': None}], 'summary': u'<img src=\"http://33.media.tumblr.com/1006326dc341bd4a91a214b88bd6d2be/tumblr_na7pwnlPI71t8sai5o1_500.jpg\" /><br /><br /><p>Interpretation for /u/xkisses</p>', 'guidislink': False, 'title_detail': {'base': u'http://mcsteffen.tumblr.com/rss', 'type': u'text/plain', 'value': u'Interpretation for /u/xkisses', 'language': None}, 'link': u'http://mcsteffen.tumblr.com/post/94565379439', 'published': u'Tue, 12 Aug 2014 17:19:35 -0400', 'id': u'http://mcsteffen.tumblr.com/post/94565379439'}\n",
        "{'summary_detail': {'base': u'http://mcsteffen.tumblr.com/rss', 'type': u'text/html', 'value': u'<img src=\"http://38.media.tumblr.com/6392c6d6a5d59efea4faee6375183c6b/tumblr_na3vxeDAoC1t8sai5o1_500.jpg\" /><br /><br /><p>Grantsville, 72\\u201d x 48\\u201d, oil on canvas</p>', 'language': None}, 'published_parsed': time.struct_time(tm_year=2014, tm_mon=8, tm_mday=10, tm_hour=19, tm_min=39, tm_sec=13, tm_wday=6, tm_yday=222, tm_isdst=0), 'links': [{'href': u'http://mcsteffen.tumblr.com/post/94362007369', 'type': u'text/html', 'rel': u'alternate'}], 'title': u'Grantsville, 72\\u201d x 48\\u201d, oil on canvas', 'tags': [{'term': u'utah', 'scheme': None, 'label': None}, {'term': u'utahlandscape', 'scheme': None, 'label': None}, {'term': u'landscape', 'scheme': None, 'label': None}, {'term': u'landscape painting', 'scheme': None, 'label': None}, {'term': u'painting', 'scheme': None, 'label': None}, {'term': u'oilpainting', 'scheme': None, 'label': None}, {'term': u'oil painting', 'scheme': None, 'label': None}, {'term': u'redditartistnetwork', 'scheme': None, 'label': None}, {'term': u'greatsaltlake', 'scheme': None, 'label': None}, {'term': u'mountains', 'scheme': None, 'label': None}, {'term': u'rocky mountains', 'scheme': None, 'label': None}, {'term': u'great basin', 'scheme': None, 'label': None}], 'summary': u'<img src=\"http://38.media.tumblr.com/6392c6d6a5d59efea4faee6375183c6b/tumblr_na3vxeDAoC1t8sai5o1_500.jpg\" /><br /><br /><p>Grantsville, 72\\u201d x 48\\u201d, oil on canvas</p>', 'guidislink': False, 'title_detail': {'base': u'http://mcsteffen.tumblr.com/rss', 'type': u'text/plain', 'value': u'Grantsville, 72\\u201d x 48\\u201d, oil on canvas', 'language': None}, 'link': u'http://mcsteffen.tumblr.com/post/94362007369', 'published': u'Sun, 10 Aug 2014 15:39:13 -0400', 'id': u'http://mcsteffen.tumblr.com/post/94362007369'}\n",
        "{'summary_detail': {'base': u'http://mcsteffen.tumblr.com/rss', 'type': u'text/html', 'value': u'<img src=\"http://33.media.tumblr.com/b3f75f45ff7b27245d700e4ace7906d0/tumblr_na02n3v6Ux1t8sai5o1_500.jpg\" /><br /><br /><p>Athennna\\u2019s grandpa, 12 x 9 inches, pencil on paper</p>', 'language': None}, 'published_parsed': time.struct_time(tm_year=2014, tm_mon=8, tm_mday=8, tm_hour=18, tm_min=13, tm_sec=51, tm_wday=4, tm_yday=220, tm_isdst=0), 'links': [{'href': u'http://mcsteffen.tumblr.com/post/94174610084', 'type': u'text/html', 'rel': u'alternate'}], 'title': u'Athennna\\u2019s grandpa, 12 x 9 inches, pencil on paper', 'tags': [{'term': u'drawing', 'scheme': None, 'label': None}, {'term': u'pencil on paper', 'scheme': None, 'label': None}, {'term': u'pencil', 'scheme': None, 'label': None}, {'term': u'portrait', 'scheme': None, 'label': None}, {'term': u'portraiture', 'scheme': None, 'label': None}, {'term': u'redditgetsdrawn', 'scheme': None, 'label': None}, {'term': u'redditartistnetwork', 'scheme': None, 'label': None}, {'term': u'rgd', 'scheme': None, 'label': None}, {'term': u'reddit', 'scheme': None, 'label': None}, {'term': u'grandparents', 'scheme': None, 'label': None}, {'term': u'oldschool', 'scheme': None, 'label': None}, {'term': u'historic photograph', 'scheme': None, 'label': None}], 'summary': u'<img src=\"http://33.media.tumblr.com/b3f75f45ff7b27245d700e4ace7906d0/tumblr_na02n3v6Ux1t8sai5o1_500.jpg\" /><br /><br /><p>Athennna\\u2019s grandpa, 12 x 9 inches, pencil on paper</p>', 'guidislink': False, 'title_detail': {'base': u'http://mcsteffen.tumblr.com/rss', 'type': u'text/plain', 'value': u'Athennna\\u2019s grandpa, 12 x 9 inches, pencil on paper', 'language': None}, 'link': u'http://mcsteffen.tumblr.com/post/94174610084', 'published': u'Fri, 08 Aug 2014 14:13:51 -0400', 'id': u'http://mcsteffen.tumblr.com/post/94174610084'}\n",
        "{'summary_detail': {'base': u'http://mcsteffen.tumblr.com/rss', 'type': u'text/html', 'value': u'<img src=\"http://38.media.tumblr.com/b9bd7f30fdf3938d2390f72fc7e7b30b/tumblr_n9x74tpxCi1t8sai5o1_500.jpg\" /><br /><br /><p>Portrait of clyde2003 uncle, 12 x 9 inches, pencil on paper</p>', 'language': None}, 'published_parsed': time.struct_time(tm_year=2014, tm_mon=8, tm_mday=7, tm_hour=4, tm_min=58, tm_sec=5, tm_wday=3, tm_yday=219, tm_isdst=0), 'links': [{'href': u'http://mcsteffen.tumblr.com/post/94038868289', 'type': u'text/html', 'rel': u'alternate'}], 'title': u'Portrait of clyde2003 uncle, 12 x 9 inches, pencil on paper', 'tags': [{'term': u'cowboy', 'scheme': None, 'label': None}, {'term': u'hats', 'scheme': None, 'label': None}, {'term': u'cowboyhats', 'scheme': None, 'label': None}, {'term': u'portrait', 'scheme': None, 'label': None}, {'term': u'portraiture', 'scheme': None, 'label': None}, {'term': u'redditgetsdrawn', 'scheme': None, 'label': None}, {'term': u'rgd', 'scheme': None, 'label': None}, {'term': u'redditartistnetwork', 'scheme': None, 'label': None}, {'term': u'pencil', 'scheme': None, 'label': None}, {'term': u'pencil drawing', 'scheme': None, 'label': None}, {'term': u'drawing', 'scheme': None, 'label': None}, {'term': u'sketching', 'scheme': None, 'label': None}, {'term': u'reddit artist network', 'scheme': None, 'label': None}, {'term': u'RGD', 'scheme': None, 'label': None}], 'summary': u'<img src=\"http://38.media.tumblr.com/b9bd7f30fdf3938d2390f72fc7e7b30b/tumblr_n9x74tpxCi1t8sai5o1_500.jpg\" /><br /><br /><p>Portrait of clyde2003 uncle, 12 x 9 inches, pencil on paper</p>', 'guidislink': False, 'title_detail': {'base': u'http://mcsteffen.tumblr.com/rss', 'type': u'text/plain', 'value': u'Portrait of clyde2003 uncle, 12 x 9 inches, pencil on paper', 'language': None}, 'link': u'http://mcsteffen.tumblr.com/post/94038868289', 'published': u'Thu, 07 Aug 2014 00:58:05 -0400', 'id': u'http://mcsteffen.tumblr.com/post/94038868289'}\n",
        "{'summary_detail': {'base': u'http://mcsteffen.tumblr.com/rss', 'type': u'text/html', 'value': u'<img src=\"http://33.media.tumblr.com/5ce90c0f253d7d9ee4382f8c6e789520/tumblr_n9w96us1xs1t8sai5o1_500.jpg\" /><br /><br /><p>West Wendover Home</p>', 'language': None}, 'published_parsed': time.struct_time(tm_year=2014, tm_mon=8, tm_mday=6, tm_hour=16, tm_min=44, tm_sec=54, tm_wday=2, tm_yday=218, tm_isdst=0), 'links': [{'href': u'http://mcsteffen.tumblr.com/post/93980684024', 'type': u'text/html', 'rel': u'alternate'}], 'title': u'West Wendover Home', 'tags': [{'term': u'redditartistnetwork', 'scheme': None, 'label': None}, {'term': u'reddit artist network', 'scheme': None, 'label': None}, {'term': u'abandonedporn', 'scheme': None, 'label': None}, {'term': u'drawing', 'scheme': None, 'label': None}, {'term': u'acrylic', 'scheme': None, 'label': None}, {'term': u'wendover', 'scheme': None, 'label': None}, {'term': u'desert', 'scheme': None, 'label': None}, {'term': u'dusk', 'scheme': None, 'label': None}, {'term': u'utah', 'scheme': None, 'label': None}, {'term': u'landscspe', 'scheme': None, 'label': None}], 'summary': u'<img src=\"http://33.media.tumblr.com/5ce90c0f253d7d9ee4382f8c6e789520/tumblr_n9w96us1xs1t8sai5o1_500.jpg\" /><br /><br /><p>West Wendover Home</p>', 'guidislink': False, 'title_detail': {'base': u'http://mcsteffen.tumblr.com/rss', 'type': u'text/plain', 'value': u'West Wendover Home', 'language': None}, 'link': u'http://mcsteffen.tumblr.com/post/93980684024', 'published': u'Wed, 06 Aug 2014 12:44:54 -0400', 'id': u'http://mcsteffen.tumblr.com/post/93980684024'}\n",
        "{'summary_detail': {'base': u'http://mcsteffen.tumblr.com/rss', 'type': u'text/html', 'value': u'<img src=\"http://33.media.tumblr.com/11e436f1af1931cdaa3eb52ce80d4304/tumblr_n9pz76J7DB1t8sai5o1_500.jpg\" /><br /><br /><p>Rim Fire 2, 40 x 26\\xa01/2 inches, pencil and graphite on paper</p>', 'language': None}, 'published_parsed': time.struct_time(tm_year=2014, tm_mon=8, tm_mday=3, tm_hour=7, tm_min=23, tm_sec=30, tm_wday=6, tm_yday=215, tm_isdst=0), 'links': [{'href': u'http://mcsteffen.tumblr.com/post/93663063144', 'type': u'text/html', 'rel': u'alternate'}], 'title': u'Rim Fire 2, 40 x 26\\xa01/2 inches, pencil and graphite on...', 'tags': [{'term': u'landscapedrawing', 'scheme': None, 'label': None}, {'term': u'landscape drawing', 'scheme': None, 'label': None}, {'term': u'pencilandgraphite', 'scheme': None, 'label': None}, {'term': u'pencil', 'scheme': None, 'label': None}, {'term': u'artistlounge', 'scheme': None, 'label': None}, {'term': u'redditartistnetwork', 'scheme': None, 'label': None}, {'term': u'yosemite', 'scheme': None, 'label': None}, {'term': u'rim fire', 'scheme': None, 'label': None}, {'term': u'rimfire', 'scheme': None, 'label': None}, {'term': u'landscape', 'scheme': None, 'label': None}, {'term': u'reddit', 'scheme': None, 'label': None}, {'term': u'forestfire', 'scheme': None, 'label': None}, {'term': u'california', 'scheme': None, 'label': None}, {'term': u'drawing', 'scheme': None, 'label': None}], 'summary': u'<img src=\"http://33.media.tumblr.com/11e436f1af1931cdaa3eb52ce80d4304/tumblr_n9pz76J7DB1t8sai5o1_500.jpg\" /><br /><br /><p>Rim Fire 2, 40 x 26\\xa01/2 inches, pencil and graphite on paper</p>', 'guidislink': False, 'title_detail': {'base': u'http://mcsteffen.tumblr.com/rss', 'type': u'text/plain', 'value': u'Rim Fire 2, 40 x 26\\xa01/2 inches, pencil and graphite on...', 'language': None}, 'link': u'http://mcsteffen.tumblr.com/post/93663063144', 'published': u'Sun, 03 Aug 2014 03:23:30 -0400', 'id': u'http://mcsteffen.tumblr.com/post/93663063144'}\n",
        "{'summary_detail': {'base': u'http://mcsteffen.tumblr.com/rss', 'type': u'text/html', 'value': u'<img src=\"http://38.media.tumblr.com/f3817e5e8c03f24a535814e75c7203d2/tumblr_n9mzq4fl9R1t8sai5o1_500.jpg\" /><br /><br /><p>Rim Fire 1, pencil and graphite on paper</p>', 'language': None}, 'published_parsed': time.struct_time(tm_year=2014, tm_mon=8, tm_mday=1, tm_hour=16, tm_min=42, tm_sec=4, tm_wday=4, tm_yday=213, tm_isdst=0), 'links': [{'href': u'http://mcsteffen.tumblr.com/post/93509038514', 'type': u'text/html', 'rel': u'alternate'}], 'title': u'Rim Fire 1, pencil and graphite on paper', 'tags': [{'term': u'landscape', 'scheme': None, 'label': None}, {'term': u'landscape drawing', 'scheme': None, 'label': None}, {'term': u'rim fire', 'scheme': None, 'label': None}, {'term': u'rimfire', 'scheme': None, 'label': None}, {'term': u'yosemite', 'scheme': None, 'label': None}, {'term': u'california', 'scheme': None, 'label': None}, {'term': u'artist lounge', 'scheme': None, 'label': None}, {'term': u'redditartistnetwork', 'scheme': None, 'label': None}, {'term': u'reddit artist network', 'scheme': None, 'label': None}, {'term': u'drawing', 'scheme': None, 'label': None}, {'term': u'pencil drawing', 'scheme': None, 'label': None}, {'term': u'funisher', 'scheme': None, 'label': None}, {'term': u'hiking', 'scheme': None, 'label': None}, {'term': u'art', 'scheme': None, 'label': None}], 'summary': u'<img src=\"http://38.media.tumblr.com/f3817e5e8c03f24a535814e75c7203d2/tumblr_n9mzq4fl9R1t8sai5o1_500.jpg\" /><br /><br /><p>Rim Fire 1, pencil and graphite on paper</p>', 'guidislink': False, 'title_detail': {'base': u'http://mcsteffen.tumblr.com/rss', 'type': u'text/plain', 'value': u'Rim Fire 1, pencil and graphite on paper', 'language': None}, 'link': u'http://mcsteffen.tumblr.com/post/93509038514', 'published': u'Fri, 01 Aug 2014 12:42:04 -0400', 'id': u'http://mcsteffen.tumblr.com/post/93509038514'}\n",
        "{'summary_detail': {'base': u'http://mcsteffen.tumblr.com/rss', 'type': u'text/html', 'value': u'<img src=\"http://38.media.tumblr.com/018b0938fde692ff0ca2bc19db18bab4/tumblr_n85fm3Z6uq1qg45pdo1_500.jpg\" /><br /><br /><p><a class=\"tumblr_blog\" href=\"http://osaft.tumblr.com/post/90677710590/comedy-gold-with-mcsteffen-nottherogeruknow-and\">osaft</a>:</p>\\n\\n<blockquote><p>Comedy Gold with <a class=\"tumblelog\" href=\"http://tmblr.co/mrHolH0AaL0YBsXWUyZeEWQ\">mcsteffen</a> , <a class=\"tumblelog\" href=\"http://tmblr.co/mPPcQWm7xfpLmnCPFo36taQ\">nottherogeruknow</a> and moi<u><br /></u></p></blockquote>\\n\\nBringing it back the way it shoulda been! Beautiful drawing by the beautiful <a class=\"tumblelog\" href=\"http://tmblr.co/mvmqaltOPNXNRufmqAn2xBg\">osaft</a>!', 'language': None}, 'published_parsed': time.struct_time(tm_year=2014, tm_mon=7, tm_mday=3, tm_hour=18, tm_min=50, tm_sec=21, tm_wday=3, tm_yday=184, tm_isdst=0), 'links': [{'href': u'http://mcsteffen.tumblr.com/post/90678988129', 'type': u'text/html', 'rel': u'alternate'}], 'title': u'osaft:\\n\\nComedy Gold with mcsteffen , nottherogeruknow and...', 'tags': [{'term': u'TGAGAAPP', 'scheme': None, 'label': None}, {'term': u'2G1G1P', 'scheme': None, 'label': None}, {'term': u'cartooning', 'scheme': None, 'label': None}, {'term': u'roadtohollywood', 'scheme': None, 'label': None}, {'term': u'boobs', 'scheme': None, 'label': None}, {'term': u'bff', 'scheme': None, 'label': None}, {'term': u'comedygoldmine', 'scheme': None, 'label': None}], 'summary': u'<img src=\"http://38.media.tumblr.com/018b0938fde692ff0ca2bc19db18bab4/tumblr_n85fm3Z6uq1qg45pdo1_500.jpg\" /><br /><br /><p><a class=\"tumblr_blog\" href=\"http://osaft.tumblr.com/post/90677710590/comedy-gold-with-mcsteffen-nottherogeruknow-and\">osaft</a>:</p>\\n\\n<blockquote><p>Comedy Gold with <a class=\"tumblelog\" href=\"http://tmblr.co/mrHolH0AaL0YBsXWUyZeEWQ\">mcsteffen</a> , <a class=\"tumblelog\" href=\"http://tmblr.co/mPPcQWm7xfpLmnCPFo36taQ\">nottherogeruknow</a> and moi<u><br /></u></p></blockquote>\\n\\nBringing it back the way it shoulda been! Beautiful drawing by the beautiful <a class=\"tumblelog\" href=\"http://tmblr.co/mvmqaltOPNXNRufmqAn2xBg\">osaft</a>!', 'guidislink': False, 'title_detail': {'base': u'http://mcsteffen.tumblr.com/rss', 'type': u'text/plain', 'value': u'osaft:\\n\\nComedy Gold with mcsteffen , nottherogeruknow and...', 'language': None}, 'link': u'http://mcsteffen.tumblr.com/post/90678988129', 'published': u'Thu, 03 Jul 2014 14:50:21 -0400', 'id': u'http://mcsteffen.tumblr.com/post/90678988129'}\n",
        "{'summary_detail': {'base': u'http://mcsteffen.tumblr.com/rss', 'type': u'text/html', 'value': u'<img src=\"http://38.media.tumblr.com/4b193ced537b2169b7f3c64de342e768/tumblr_n83ohf0fzv1qg45pdo1_500.jpg\" /><br /> <br /><img src=\"http://31.media.tumblr.com/02275e50e6e4ed89676eb61e350575c0/tumblr_n83ohf0fzv1qg45pdo2_500.jpg\" /><br /> <br /><p>Portrait of\\xa0<a class=\"tumblelog\" href=\"http://tmblr.co/mdKApUvkTXycUmehUhDw4DA\">katlix</a>\\xa0and myself by the ridiculously talented and wonderful\\xa0<a class=\"tumblr_blog\" href=\"http://osaft.tumblr.com/post/90582945065/katlix-and-mcsteffen-3-3-3-3-3-3-3-3-3\">osaft</a>!</p>', 'language': None}, 'published_parsed': time.struct_time(tm_year=2014, tm_mon=7, tm_mday=3, tm_hour=6, tm_min=49, tm_sec=20, tm_wday=3, tm_yday=184, tm_isdst=0), 'links': [{'href': u'http://mcsteffen.tumblr.com/post/90637782104', 'type': u'text/html', 'rel': u'alternate'}], 'title': u'Portrait of\\xa0katlix\\xa0and myself by the ridiculously talented and...', 'tags': [{'term': u'reddit', 'scheme': None, 'label': None}, {'term': u'redditartistnetwork', 'scheme': None, 'label': None}, {'term': u'skateboarding', 'scheme': None, 'label': None}, {'term': u'portraiture', 'scheme': None, 'label': None}, {'term': u'batman', 'scheme': None, 'label': None}], 'summary': u'<img src=\"http://38.media.tumblr.com/4b193ced537b2169b7f3c64de342e768/tumblr_n83ohf0fzv1qg45pdo1_500.jpg\" /><br /> <br /><img src=\"http://31.media.tumblr.com/02275e50e6e4ed89676eb61e350575c0/tumblr_n83ohf0fzv1qg45pdo2_500.jpg\" /><br /> <br /><p>Portrait of\\xa0<a class=\"tumblelog\" href=\"http://tmblr.co/mdKApUvkTXycUmehUhDw4DA\">katlix</a>\\xa0and myself by the ridiculously talented and wonderful\\xa0<a class=\"tumblr_blog\" href=\"http://osaft.tumblr.com/post/90582945065/katlix-and-mcsteffen-3-3-3-3-3-3-3-3-3\">osaft</a>!</p>', 'guidislink': False, 'title_detail': {'base': u'http://mcsteffen.tumblr.com/rss', 'type': u'text/plain', 'value': u'Portrait of\\xa0katlix\\xa0and myself by the ridiculously talented and...', 'language': None}, 'link': u'http://mcsteffen.tumblr.com/post/90637782104', 'published': u'Thu, 03 Jul 2014 02:49:20 -0400', 'id': u'http://mcsteffen.tumblr.com/post/90637782104'}\n",
        "{'summary_detail': {'base': u'http://mcsteffen.tumblr.com/rss', 'type': u'text/html', 'value': u'<img src=\"http://33.media.tumblr.com/03a08772c9c3cbea84383f5a27eb2c43/tumblr_n6zybli8gr1t8sai5o1_500.jpg\" /><br /><br /><p>Portrait of /u/Daven2ude</p>', 'language': None}, 'published_parsed': time.struct_time(tm_year=2014, tm_mon=6, tm_mday=11, tm_hour=8, tm_min=59, tm_sec=45, tm_wday=2, tm_yday=162, tm_isdst=0), 'links': [{'href': u'http://mcsteffen.tumblr.com/post/88459616224', 'type': u'text/html', 'rel': u'alternate'}], 'title': u'Portrait of /u/Daven2ude', 'tags': [{'term': u'RedditGetsDrawn', 'scheme': None, 'label': None}, {'term': u'copic markers', 'scheme': None, 'label': None}, {'term': u'prismacolor markers', 'scheme': None, 'label': None}, {'term': u'prismacolor', 'scheme': None, 'label': None}, {'term': u'copic', 'scheme': None, 'label': None}, {'term': u'pencil', 'scheme': None, 'label': None}, {'term': u'portraiture', 'scheme': None, 'label': None}, {'term': u'drawing', 'scheme': None, 'label': None}, {'term': u'sketching', 'scheme': None, 'label': None}, {'term': u'reddit', 'scheme': None, 'label': None}, {'term': u'redditartistnetwork', 'scheme': None, 'label': None}], 'summary': u'<img src=\"http://33.media.tumblr.com/03a08772c9c3cbea84383f5a27eb2c43/tumblr_n6zybli8gr1t8sai5o1_500.jpg\" /><br /><br /><p>Portrait of /u/Daven2ude</p>', 'guidislink': False, 'title_detail': {'base': u'http://mcsteffen.tumblr.com/rss', 'type': u'text/plain', 'value': u'Portrait of /u/Daven2ude', 'language': None}, 'link': u'http://mcsteffen.tumblr.com/post/88459616224', 'published': u'Wed, 11 Jun 2014 04:59:45 -0400', 'id': u'http://mcsteffen.tumblr.com/post/88459616224'}\n",
        "{'summary_detail': {'base': u'http://mcsteffen.tumblr.com/rss', 'type': u'text/html', 'value': u'<img src=\"http://33.media.tumblr.com/c062a07836c7873309643aacebb03409/tumblr_n6tvo9efMl1t8sai5o1_500.jpg\" /><br /><br /><p>Portrait of /u/ChardeeMacdennisTime. \\xa0Pencil and Marker on paper.</p>', 'language': None}, 'published_parsed': time.struct_time(tm_year=2014, tm_mon=6, tm_mday=8, tm_hour=2, tm_min=16, tm_sec=57, tm_wday=6, tm_yday=159, tm_isdst=0), 'links': [{'href': u'http://mcsteffen.tumblr.com/post/88132869394', 'type': u'text/html', 'rel': u'alternate'}], 'title': u'Portrait of /u/ChardeeMacdennisTime. \\xa0Pencil and Marker on...', 'tags': [{'term': u'redditartistnetwork', 'scheme': None, 'label': None}, {'term': u'redditgetsdrawn', 'scheme': None, 'label': None}, {'term': u'artistlounge', 'scheme': None, 'label': None}, {'term': u'reddit', 'scheme': None, 'label': None}, {'term': u'portraiture', 'scheme': None, 'label': None}, {'term': u'copic', 'scheme': None, 'label': None}, {'term': u'markers', 'scheme': None, 'label': None}, {'term': u'prismacolor', 'scheme': None, 'label': None}, {'term': u'pencil', 'scheme': None, 'label': None}, {'term': u'sketching', 'scheme': None, 'label': None}, {'term': u'copicmarkers', 'scheme': None, 'label': None}, {'term': u'copic markers', 'scheme': None, 'label': None}, {'term': u'rgd', 'scheme': None, 'label': None}], 'summary': u'<img src=\"http://33.media.tumblr.com/c062a07836c7873309643aacebb03409/tumblr_n6tvo9efMl1t8sai5o1_500.jpg\" /><br /><br /><p>Portrait of /u/ChardeeMacdennisTime. \\xa0Pencil and Marker on paper.</p>', 'guidislink': False, 'title_detail': {'base': u'http://mcsteffen.tumblr.com/rss', 'type': u'text/plain', 'value': u'Portrait of /u/ChardeeMacdennisTime. \\xa0Pencil and Marker on...', 'language': None}, 'link': u'http://mcsteffen.tumblr.com/post/88132869394', 'published': u'Sat, 07 Jun 2014 22:16:57 -0400', 'id': u'http://mcsteffen.tumblr.com/post/88132869394'}\n",
        "{'summary_detail': {'base': u'http://mcsteffen.tumblr.com/rss', 'type': u'text/html', 'value': u'<img src=\"http://38.media.tumblr.com/8dc9075b558c521c5a7afe521142cc34/tumblr_n51kxtcIOC1t8sai5o1_500.jpg\" /><br /><br /><p>Portrait of /u/yomatz</p>', 'language': None}, 'published_parsed': time.struct_time(tm_year=2014, tm_mon=5, tm_mday=4, tm_hour=8, tm_min=58, tm_sec=41, tm_wday=6, tm_yday=124, tm_isdst=0), 'links': [{'href': u'http://mcsteffen.tumblr.com/post/84702067334', 'type': u'text/html', 'rel': u'alternate'}], 'title': u'Portrait of /u/yomatz', 'tags': [{'term': u'redditgetsdrawn rgd portraiture drawing', 'scheme': None, 'label': None}], 'summary': u'<img src=\"http://38.media.tumblr.com/8dc9075b558c521c5a7afe521142cc34/tumblr_n51kxtcIOC1t8sai5o1_500.jpg\" /><br /><br /><p>Portrait of /u/yomatz</p>', 'guidislink': False, 'title_detail': {'base': u'http://mcsteffen.tumblr.com/rss', 'type': u'text/plain', 'value': u'Portrait of /u/yomatz', 'language': None}, 'link': u'http://mcsteffen.tumblr.com/post/84702067334', 'published': u'Sun, 04 May 2014 04:58:41 -0400', 'id': u'http://mcsteffen.tumblr.com/post/84702067334'}\n",
        "{'summary_detail': {'base': u'http://mcsteffen.tumblr.com/rss', 'type': u'text/html', 'value': u'<img src=\"http://38.media.tumblr.com/b8480ba389be6572f4bf08141eac6ce5/tumblr_n3e72pVmaq1t8sai5o1_500.jpg\" /><br /><br /><p>/u/ItWillBeMine</p>', 'language': None}, 'published_parsed': time.struct_time(tm_year=2014, tm_mon=4, tm_mday=2, tm_hour=7, tm_min=20, tm_sec=49, tm_wday=2, tm_yday=92, tm_isdst=0), 'links': [{'href': u'http://mcsteffen.tumblr.com/post/81470400358', 'type': u'text/html', 'rel': u'alternate'}], 'title': u'/u/ItWillBeMine', 'tags': [{'term': u'RedditGetsDrawn', 'scheme': None, 'label': None}, {'term': u'/r/redditgetsdrawn', 'scheme': None, 'label': None}, {'term': u'RGD', 'scheme': None, 'label': None}, {'term': u'portraiture', 'scheme': None, 'label': None}, {'term': u'drawing', 'scheme': None, 'label': None}, {'term': u'funisher', 'scheme': None, 'label': None}], 'summary': u'<img src=\"http://38.media.tumblr.com/b8480ba389be6572f4bf08141eac6ce5/tumblr_n3e72pVmaq1t8sai5o1_500.jpg\" /><br /><br /><p>/u/ItWillBeMine</p>', 'guidislink': False, 'title_detail': {'base': u'http://mcsteffen.tumblr.com/rss', 'type': u'text/plain', 'value': u'/u/ItWillBeMine', 'language': None}, 'link': u'http://mcsteffen.tumblr.com/post/81470400358', 'published': u'Wed, 02 Apr 2014 03:20:49 -0400', 'id': u'http://mcsteffen.tumblr.com/post/81470400358'}\n",
        "{'summary_detail': {'base': u'http://mcsteffen.tumblr.com/rss', 'type': u'text/html', 'value': u'<img src=\"http://31.media.tumblr.com/32e94e70b0921e15d1725566cef13f33/tumblr_n37ymbeLeI1t8sai5o1_500.jpg\" /><br /><br /><p>/u/curiousnonsense\\u2019s great uncle</p>', 'language': None}, 'published_parsed': time.struct_time(tm_year=2014, tm_mon=3, tm_mday=29, tm_hour=22, tm_min=32, tm_sec=35, tm_wday=5, tm_yday=88, tm_isdst=0), 'links': [{'href': u'http://mcsteffen.tumblr.com/post/81117377637', 'type': u'text/html', 'rel': u'alternate'}], 'title': u'/u/curiousnonsense\\u2019s great uncle', 'tags': [{'term': u'RGD', 'scheme': None, 'label': None}, {'term': u'RedditGetsDrawn', 'scheme': None, 'label': None}, {'term': u'funisher', 'scheme': None, 'label': None}, {'term': u'/r/redditgetsdrawn', 'scheme': None, 'label': None}, {'term': u'portraiture', 'scheme': None, 'label': None}, {'term': u'drawing', 'scheme': None, 'label': None}, {'term': u'markers', 'scheme': None, 'label': None}, {'term': u'prismacolor', 'scheme': None, 'label': None}, {'term': u'prismacolor markers', 'scheme': None, 'label': None}], 'summary': u'<img src=\"http://31.media.tumblr.com/32e94e70b0921e15d1725566cef13f33/tumblr_n37ymbeLeI1t8sai5o1_500.jpg\" /><br /><br /><p>/u/curiousnonsense\\u2019s great uncle</p>', 'guidislink': False, 'title_detail': {'base': u'http://mcsteffen.tumblr.com/rss', 'type': u'text/plain', 'value': u'/u/curiousnonsense\\u2019s great uncle', 'language': None}, 'link': u'http://mcsteffen.tumblr.com/post/81117377637', 'published': u'Sat, 29 Mar 2014 18:32:35 -0400', 'id': u'http://mcsteffen.tumblr.com/post/81117377637'}\n",
        "{'summary_detail': {'base': u'http://mcsteffen.tumblr.com/rss', 'type': u'text/html', 'value': u'<img src=\"http://38.media.tumblr.com/b60cb65ab4e60dfeb32e7b24432a7be3/tumblr_n2svjsIgTY1t8sai5o1_500.jpg\" /><br /><br /><p>Recent landscape commission</p>', 'language': None}, 'published_parsed': time.struct_time(tm_year=2014, tm_mon=3, tm_mday=21, tm_hour=19, tm_min=2, tm_sec=16, tm_wday=4, tm_yday=80, tm_isdst=0), 'links': [{'href': u'http://mcsteffen.tumblr.com/post/80280221308', 'type': u'text/html', 'rel': u'alternate'}], 'title': u'Recent landscape commission', 'tags': [{'term': u'new zealand', 'scheme': None, 'label': None}, {'term': u'oil painting', 'scheme': None, 'label': None}, {'term': u'painting', 'scheme': None, 'label': None}, {'term': u'landscape painting', 'scheme': None, 'label': None}, {'term': u'art commission', 'scheme': None, 'label': None}], 'summary': u'<img src=\"http://38.media.tumblr.com/b60cb65ab4e60dfeb32e7b24432a7be3/tumblr_n2svjsIgTY1t8sai5o1_500.jpg\" /><br /><br /><p>Recent landscape commission</p>', 'guidislink': False, 'title_detail': {'base': u'http://mcsteffen.tumblr.com/rss', 'type': u'text/plain', 'value': u'Recent landscape commission', 'language': None}, 'link': u'http://mcsteffen.tumblr.com/post/80280221308', 'published': u'Fri, 21 Mar 2014 15:02:16 -0400', 'id': u'http://mcsteffen.tumblr.com/post/80280221308'}\n",
        "{'summary_detail': {'base': u'http://mcsteffen.tumblr.com/rss', 'type': u'text/html', 'value': u'<img src=\"http://33.media.tumblr.com/875be53500ea4b979a58a09f5b940a76/tumblr_n2rd5gI4M41t8sai5o1_500.jpg\" /><br /><br /><p>/u/Catness_NeverClean from /r/prettygirlsuglyfaces</p>', 'language': None}, 'published_parsed': time.struct_time(tm_year=2014, tm_mon=3, tm_mday=20, tm_hour=23, tm_min=27, tm_sec=16, tm_wday=3, tm_yday=79, tm_isdst=0), 'links': [{'href': u'http://mcsteffen.tumblr.com/post/80208053307', 'type': u'text/html', 'rel': u'alternate'}], 'title': u'/u/Catness_NeverClean from /r/prettygirlsuglyfaces', 'tags': [{'term': u'drawing', 'scheme': None, 'label': None}, {'term': u'portrait', 'scheme': None, 'label': None}, {'term': u'funisher', 'scheme': None, 'label': None}, {'term': u'PrettyGirlsUglyFaces', 'scheme': None, 'label': None}, {'term': u'reddit', 'scheme': None, 'label': None}], 'summary': u'<img src=\"http://33.media.tumblr.com/875be53500ea4b979a58a09f5b940a76/tumblr_n2rd5gI4M41t8sai5o1_500.jpg\" /><br /><br /><p>/u/Catness_NeverClean from /r/prettygirlsuglyfaces</p>', 'guidislink': False, 'title_detail': {'base': u'http://mcsteffen.tumblr.com/rss', 'type': u'text/plain', 'value': u'/u/Catness_NeverClean from /r/prettygirlsuglyfaces', 'language': None}, 'link': u'http://mcsteffen.tumblr.com/post/80208053307', 'published': u'Thu, 20 Mar 2014 19:27:16 -0400', 'id': u'http://mcsteffen.tumblr.com/post/80208053307'}\n"
       ]
      }
     ],
     "prompt_number": 187
    },
    {
     "cell_type": "code",
     "collapsed": false,
     "input": [
      "tumlis = []"
     ],
     "language": "python",
     "metadata": {},
     "outputs": [],
     "prompt_number": 188
    },
    {
     "cell_type": "code",
     "collapsed": false,
     "input": [
      "with doc.head:\n",
      "    link(rel='stylesheet', href='style.css')\n",
      "    script(type='text/javascript', src='script.js')\n",
      "\n",
      "with doc:\n",
      "    with div():\n",
      "        attr(cls='header')\n",
      "        #<img src=\"smiley.gif\" alt=\"Smiley face\" height=\"42\" width=\"42\">\n",
      "        (h1(a('artcontroldrawsyou', href='http://brobeur.com/artcontroldrawsyou')))\n",
      "        img(scr='logo.gif')\n",
      "        h2('go away artcontrol')\n",
      "        p(strftime(\"%a, %d %b %Y %H:%M:%S +0000\", gmtime()))\n",
      "       \n",
      "        a('contact', href='http://brobeur.com/artcontroldrawsyou/contact') \n",
      "        a('blog', href='http://brobeur.com/wcmckee.com/wcmckee/output')\n",
      "        \n",
      "    with div(id='about'):\n",
      "        p('artcontroldrawsyou is a website that takes RedditGetsDrawn data and posts it here.')\n",
      "        p('artcontrol is not allowed to submit artwork to redditgetsdrawn so this was created')\n",
      "        for tits in titlis:\n",
      "            (tits)\n",
      "            (a(tits, href='https://reddit.com/u/%s' % tits))\n",
      "            \n",
      "    \n",
      "    with div(id='body').add(p()):\n",
      "        for i in jplis:\n",
      "            (img(i.lower(), src='%s' % i))\n",
      "            #(a(i.lower(), href='%s' % i))\n",
      "            \n",
      "    with div(id='footer'):\n",
      "        p(a('artcontroldrawsyou is open source', href='https://github.com/wcmckee/wcmckee-notebook'))\n",
      "\n",
      "\n",
      "            \n",
      "\n",
      "print doc"
     ],
     "language": "python",
     "metadata": {},
     "outputs": [
      {
       "output_type": "stream",
       "stream": "stdout",
       "text": [
        "<!DOCTYPE html>\n",
        "<html>\n",
        "  <head>\n",
        "    <title>artcontroldrawsyou</title>\n",
        "    <link href=\"style.css\" rel=\"stylesheet\">\n",
        "    <script src=\"script.js\" type=\"text/javascript\"></script>\n",
        "  </head>\n",
        "  <body>\n",
        "    <div class=\"header\">\n",
        "      <h1>\n",
        "        <a href=\"http://brobeur.com/artcontroldrawsyou\">artcontroldrawsyou</a>\n",
        "      </h1>\n",
        "      <img scr=\"logo.gif\">\n",
        "      <h2>go away artcontrol</h2>\n",
        "      <p>Tue, 02 Sep 2014 09:30:27 +0000</p>\n",
        "      <a href=\"http://brobeur.com/artcontroldrawsyou/contact\">contact</a>\n",
        "      <a href=\"http://brobeur.com/wcmckee.com/wcmckee/output\">blog</a>\n",
        "    </div>\n",
        "    <div id=\"about\">\n",
        "      <p>artcontroldrawsyou is a website that takes RedditGetsDrawn data and posts it here.</p>\n",
        "      <p>artcontrol is not allowed to submit artwork to redditgetsdrawn so this was created</p>\n",
        "      <a href=\"https://reddit.com/u/ThwompStomps\">ThwompStomps</a>\n",
        "      <a href=\"https://reddit.com/u/beachboy182\">beachboy182</a>\n",
        "      <a href=\"https://reddit.com/u/losertakesitall\">losertakesitall</a>\n",
        "      <a href=\"https://reddit.com/u/pukerock\">pukerock</a>\n",
        "      <a href=\"https://reddit.com/u/EasyLeit\">EasyLeit</a>\n",
        "      <a href=\"https://reddit.com/u/kiki0116\">kiki0116</a>\n",
        "      <a href=\"https://reddit.com/u/mezilla11\">mezilla11</a>\n",
        "      <a href=\"https://reddit.com/u/Kaylorz\">Kaylorz</a>\n",
        "      <a href=\"https://reddit.com/u/nickleon44\">nickleon44</a>\n",
        "      <a href=\"https://reddit.com/u/majorassholesir\">majorassholesir</a>\n",
        "      <a href=\"https://reddit.com/u/b3ccuh\">b3ccuh</a>\n",
        "      <a href=\"https://reddit.com/u/emmam456\">emmam456</a>\n",
        "      <a href=\"https://reddit.com/u/JSpangDerulo\">JSpangDerulo</a>\n",
        "      <a href=\"https://reddit.com/u/GuyBanks\">GuyBanks</a>\n",
        "      <a href=\"https://reddit.com/u/plokm5432\">plokm5432</a>\n",
        "      <a href=\"https://reddit.com/u/buttnibbler\">buttnibbler</a>\n",
        "      <a href=\"https://reddit.com/u/forgotthefuckingname\">forgotthefuckingname</a>\n",
        "      <a href=\"https://reddit.com/u/TabithaRose711\">TabithaRose711</a>\n",
        "      <a href=\"https://reddit.com/u/IllBePhrank\">IllBePhrank</a>\n",
        "      <a href=\"https://reddit.com/u/jeunesauce\">jeunesauce</a>\n",
        "      <a href=\"https://reddit.com/u/IamAmyzing\">IamAmyzing</a>\n",
        "      <a href=\"https://reddit.com/u/ofalco\">ofalco</a>\n",
        "      <a href=\"https://reddit.com/u/matthewhayden72\">matthewhayden72</a>\n",
        "      <a href=\"https://reddit.com/u/catstastic13\">catstastic13</a>\n",
        "      <a href=\"https://reddit.com/u/MrBoobieBuyer\">MrBoobieBuyer</a>\n",
        "    </div>\n",
        "    <div id=\"body\">\n",
        "      <p>\n",
        "        <img src=\"http://i.imgur.com/jaEFEpq.jpg\">\n",
        "        <img src=\"http://i.imgur.com/8aVkY8l.jpg\">\n",
        "        <img src=\"http://i.imgur.com/uchKKda.jpg\">\n",
        "        <img src=\"http://i.imgur.com/wd80JkU.jpg\">\n",
        "        <img src=\"http://i.imgur.com/i7ohocs.jpg\">\n",
        "        <img src=\"http://i.imgur.com/Jf5TjZ6.jpg\">\n",
        "        <img src=\"http://i.imgur.com/3XiLOng.jpg\">\n",
        "        <img src=\"http://i.imgur.com/tpj77ZK.jpg\">\n",
        "        <img src=\"http://i.imgur.com/3nYOBPG.jpg\">\n",
        "        <img src=\"http://i.imgur.com/SvaXoWC.jpg\">\n",
        "        <img src=\"http://i.imgur.com/O6GHorj.jpg\">\n",
        "        <img src=\"http://i.imgur.com/ZY2sQQR.jpg\">\n",
        "        <img src=\"http://i.imgur.com/2Yu1LLx.jpg\">\n",
        "        <img src=\"http://i.imgur.com/lTk16O3.jpg\">\n",
        "        <img src=\"http://i.imgur.com/BWItx9Q.jpg\">\n",
        "        <img src=\"http://i.imgur.com/jaEFEpq.jpg\">\n",
        "        <img src=\"http://i.imgur.com/8aVkY8l.jpg\">\n",
        "        <img src=\"http://i.imgur.com/uchKKda.jpg\">\n",
        "        <img src=\"http://i.imgur.com/wd80JkU.jpg\">\n",
        "        <img src=\"http://i.imgur.com/i7ohocs.jpg\">\n",
        "        <img src=\"http://i.imgur.com/Jf5TjZ6.jpg\">\n",
        "        <img src=\"http://i.imgur.com/3XiLOng.jpg\">\n",
        "        <img src=\"http://i.imgur.com/tpj77ZK.jpg\">\n",
        "        <img src=\"http://i.imgur.com/3nYOBPG.jpg\">\n",
        "        <img src=\"http://i.imgur.com/SvaXoWC.jpg\">\n",
        "        <img src=\"http://i.imgur.com/O6GHorj.jpg\">\n",
        "        <img src=\"http://i.imgur.com/ZY2sQQR.jpg\">\n",
        "        <img src=\"http://i.imgur.com/2Yu1LLx.jpg\">\n",
        "        <img src=\"http://i.imgur.com/lTk16O3.jpg\">\n",
        "        <img src=\"http://i.imgur.com/BWItx9Q.jpg\">\n",
        "      </p>\n",
        "    </div>\n",
        "    <div id=\"footer\">\n",
        "      <p>\n",
        "        <a href=\"https://github.com/wcmckee/wcmckee-notebook\">artcontroldrawsyou is open source</a>\n",
        "      </p>\n",
        "    </div>\n",
        "  </body>\n",
        "</html>\n"
       ]
      }
     ],
     "prompt_number": 195
    },
    {
     "cell_type": "code",
     "collapsed": false,
     "input": [
      "for em in emcs:\n",
      "    tumlis.append((em['summary_detail']['value']))\n",
      "    "
     ],
     "language": "python",
     "metadata": {},
     "outputs": [],
     "prompt_number": 189
    },
    {
     "cell_type": "code",
     "collapsed": false,
     "input": [
      "tumlis"
     ],
     "language": "python",
     "metadata": {},
     "outputs": [
      {
       "metadata": {},
       "output_type": "pyout",
       "prompt_number": 190,
       "text": [
        "[u'<img src=\"http://33.media.tumblr.com/8d296e208104299904cd950e54bbb321/tumblr_nab26vEZmn1t8sai5o1_500.jpg\" /><br /><br /><p><a class=\"tumblelog\" href=\"http://tmblr.co/mq4n0laUh5KXeRzqSl0YjRQ\">meatyelbow</a> added watercolor!</p>',\n",
        " u'<img src=\"http://38.media.tumblr.com/22437df41a29ddaaac56051458f95014/tumblr_nab241KZAd1t8sai5o1_500.jpg\" /><br /><br /><p>Portrait of /u/Churaqe, digital painting</p>',\n",
        " u'<img src=\"http://38.media.tumblr.com/8554ac54b4b7f28b53d0a01f2da53628/tumblr_n9yl4a0ZZw1sjrx42o1_500.jpg\" /><br /><br /><p>Michael Dimock\\u2019s lines are so good. Such a great drawing.</p>',\n",
        " u'<br /><br /><p>Not the Joy of Painting</p>',\n",
        " u'<img src=\"http://33.media.tumblr.com/1006326dc341bd4a91a214b88bd6d2be/tumblr_na7pwnlPI71t8sai5o1_500.jpg\" /><br /><br /><p>Interpretation for /u/xkisses</p>',\n",
        " u'<img src=\"http://38.media.tumblr.com/6392c6d6a5d59efea4faee6375183c6b/tumblr_na3vxeDAoC1t8sai5o1_500.jpg\" /><br /><br /><p>Grantsville, 72\\u201d x 48\\u201d, oil on canvas</p>',\n",
        " u'<img src=\"http://33.media.tumblr.com/b3f75f45ff7b27245d700e4ace7906d0/tumblr_na02n3v6Ux1t8sai5o1_500.jpg\" /><br /><br /><p>Athennna\\u2019s grandpa, 12 x 9 inches, pencil on paper</p>',\n",
        " u'<img src=\"http://38.media.tumblr.com/b9bd7f30fdf3938d2390f72fc7e7b30b/tumblr_n9x74tpxCi1t8sai5o1_500.jpg\" /><br /><br /><p>Portrait of clyde2003 uncle, 12 x 9 inches, pencil on paper</p>',\n",
        " u'<img src=\"http://33.media.tumblr.com/5ce90c0f253d7d9ee4382f8c6e789520/tumblr_n9w96us1xs1t8sai5o1_500.jpg\" /><br /><br /><p>West Wendover Home</p>',\n",
        " u'<img src=\"http://33.media.tumblr.com/11e436f1af1931cdaa3eb52ce80d4304/tumblr_n9pz76J7DB1t8sai5o1_500.jpg\" /><br /><br /><p>Rim Fire 2, 40 x 26\\xa01/2 inches, pencil and graphite on paper</p>',\n",
        " u'<img src=\"http://38.media.tumblr.com/f3817e5e8c03f24a535814e75c7203d2/tumblr_n9mzq4fl9R1t8sai5o1_500.jpg\" /><br /><br /><p>Rim Fire 1, pencil and graphite on paper</p>',\n",
        " u'<img src=\"http://38.media.tumblr.com/018b0938fde692ff0ca2bc19db18bab4/tumblr_n85fm3Z6uq1qg45pdo1_500.jpg\" /><br /><br /><p><a class=\"tumblr_blog\" href=\"http://osaft.tumblr.com/post/90677710590/comedy-gold-with-mcsteffen-nottherogeruknow-and\">osaft</a>:</p>\\n\\n<blockquote><p>Comedy Gold with <a class=\"tumblelog\" href=\"http://tmblr.co/mrHolH0AaL0YBsXWUyZeEWQ\">mcsteffen</a> , <a class=\"tumblelog\" href=\"http://tmblr.co/mPPcQWm7xfpLmnCPFo36taQ\">nottherogeruknow</a> and moi<u><br /></u></p></blockquote>\\n\\nBringing it back the way it shoulda been! Beautiful drawing by the beautiful <a class=\"tumblelog\" href=\"http://tmblr.co/mvmqaltOPNXNRufmqAn2xBg\">osaft</a>!',\n",
        " u'<img src=\"http://38.media.tumblr.com/4b193ced537b2169b7f3c64de342e768/tumblr_n83ohf0fzv1qg45pdo1_500.jpg\" /><br /> <br /><img src=\"http://31.media.tumblr.com/02275e50e6e4ed89676eb61e350575c0/tumblr_n83ohf0fzv1qg45pdo2_500.jpg\" /><br /> <br /><p>Portrait of\\xa0<a class=\"tumblelog\" href=\"http://tmblr.co/mdKApUvkTXycUmehUhDw4DA\">katlix</a>\\xa0and myself by the ridiculously talented and wonderful\\xa0<a class=\"tumblr_blog\" href=\"http://osaft.tumblr.com/post/90582945065/katlix-and-mcsteffen-3-3-3-3-3-3-3-3-3\">osaft</a>!</p>',\n",
        " u'<img src=\"http://33.media.tumblr.com/03a08772c9c3cbea84383f5a27eb2c43/tumblr_n6zybli8gr1t8sai5o1_500.jpg\" /><br /><br /><p>Portrait of /u/Daven2ude</p>',\n",
        " u'<img src=\"http://33.media.tumblr.com/c062a07836c7873309643aacebb03409/tumblr_n6tvo9efMl1t8sai5o1_500.jpg\" /><br /><br /><p>Portrait of /u/ChardeeMacdennisTime. \\xa0Pencil and Marker on paper.</p>',\n",
        " u'<img src=\"http://38.media.tumblr.com/8dc9075b558c521c5a7afe521142cc34/tumblr_n51kxtcIOC1t8sai5o1_500.jpg\" /><br /><br /><p>Portrait of /u/yomatz</p>',\n",
        " u'<img src=\"http://38.media.tumblr.com/b8480ba389be6572f4bf08141eac6ce5/tumblr_n3e72pVmaq1t8sai5o1_500.jpg\" /><br /><br /><p>/u/ItWillBeMine</p>',\n",
        " u'<img src=\"http://31.media.tumblr.com/32e94e70b0921e15d1725566cef13f33/tumblr_n37ymbeLeI1t8sai5o1_500.jpg\" /><br /><br /><p>/u/curiousnonsense\\u2019s great uncle</p>',\n",
        " u'<img src=\"http://38.media.tumblr.com/b60cb65ab4e60dfeb32e7b24432a7be3/tumblr_n2svjsIgTY1t8sai5o1_500.jpg\" /><br /><br /><p>Recent landscape commission</p>',\n",
        " u'<img src=\"http://33.media.tumblr.com/875be53500ea4b979a58a09f5b940a76/tumblr_n2rd5gI4M41t8sai5o1_500.jpg\" /><br /><br /><p>/u/Catness_NeverClean from /r/prettygirlsuglyfaces</p>']"
       ]
      }
     ],
     "prompt_number": 190
    },
    {
     "cell_type": "code",
     "collapsed": false,
     "input": [
      "contactpage = dominate.document(title='contact')"
     ],
     "language": "python",
     "metadata": {},
     "outputs": [],
     "prompt_number": 191
    },
    {
     "cell_type": "code",
     "collapsed": false,
     "input": [
      "with contactpage.head:\n",
      "    link(rel='stylesheet', href='style.css')\n",
      "    script(type='text/javascript', src='script.js')\n",
      "\n",
      "with contactpage:\n",
      "    with div():\n",
      "        attr(cls='top')\n",
      "        #<img src=\"smiley.gif\" alt=\"Smiley face\" height=\"42\" width=\"42\">\n",
      "        h1('rgdsnatch')\n",
      "        img(scr='logo.gif')\n",
      "        h2('go away artcontrol')\n",
      "        p(strftime(\"%a, %d %b %Y %H:%M:%S +0000\", gmtime()))\n",
      "        a('about', href='http://brobeur.com/artcontroldrawsyou/about')\n",
      "        a('contact', href='http://brobeur.com/artcontroldrawsyou/contact') \n",
      "        a('blog', href='http://brobeur.com/artcontroldrawsyou/wcmckee.com/wcmckee/output')\n",
      "\n",
      "    with div():\n",
      "        attr(cls='header')\n",
      "        #<img src=\"smiley.gif\" alt=\"Smiley face\" height=\"42\" width=\"42\">\n",
      "        h1('contact')\n",
      "        p('email: will@artcontrol.me twitter: art_control')\n",
      "        p('Recent comments from itwillbemine:')\n",
      "        #for mine in minels:\n",
      "            #h1(mine.author_flair_text())\n",
      "            #p(mine.body)\n",
      "        \n",
      " #   with div(id='author'):\n",
      "  #     for tum in tumlis:\n",
      "   #         p(tum)\n",
      "    \n",
      "    \n",
      "    with div(id='body'):\n",
      "        for mine in minels:\n",
      "            #h1(mine.created)\n",
      "            li(mine.body)\n",
      "            \n",
      "\n",
      "\n",
      "\n",
      "\n",
      "print contactpage"
     ],
     "language": "python",
     "metadata": {},
     "outputs": [
      {
       "output_type": "stream",
       "stream": "stdout",
       "text": [
        "<!DOCTYPE html>\n",
        "<html>\n",
        "  <head>\n",
        "    <title>contact</title>\n",
        "    <link href=\"style.css\" rel=\"stylesheet\">\n",
        "    <script src=\"script.js\" type=\"text/javascript\"></script>\n",
        "  </head>\n",
        "  <body>\n",
        "    <div class=\"top\">\n",
        "      <h1>rgdsnatch</h1>\n",
        "      <img scr=\"logo.gif\">\n",
        "      <h2>go away artcontrol</h2>\n",
        "      <p>Tue, 02 Sep 2014 09:28:03 +0000</p>\n",
        "      <a href=\"http://brobeur.com/artcontroldrawsyou/about\">about</a>\n",
        "      <a href=\"http://brobeur.com/artcontroldrawsyou/contact\">contact</a>\n",
        "      <a href=\"http://brobeur.com/artcontroldrawsyou/wcmckee.com/wcmckee/output\">blog</a>\n",
        "    </div>\n",
        "    <div class=\"header\">\n",
        "      <h1>contact</h1>\n",
        "      <p>email: will@artcontrol.me twitter: art_control</p>\n",
        "      <p>Recent comments from itwillbemine:</p>\n",
        "    </div>\n",
        "    <div id=\"body\">\n",
        "      <li>Sure, it's www.facebook.com/redditgetsdrawn :)</li>\n",
        "      <li>Yep.</li>\n",
        "      <li>Your comment was removed. Read the rules of the sub before participating.</li>\n",
        "      <li>Post removed for an unclear title; please read our rules.</li>\n",
        "      <li>OP, you have artists to thank.</li>\n",
        "      <li>Hey HMB! Would you mind linking directly to the relevant image next time? Thank you, and thanks for all you do in RGD! :) </li>\n",
        "      <li>Yaaaay, it's milldogg! &amp;lt;3</li>\n",
        "      <li>This reminds me of /u/powersimon, which is a compliment! :)</li>\n",
        "      <li>I like how you did the lighting/sunlight :)</li>\n",
        "      <li>&amp;lt;3 Whew, good! For what it's worth - awesome job on the skull :)</li>\n",
        "      <li>Thank you, that's really nice to hear! :)</li>\n",
        "      <li>Since I've determined that this is a beginner, you shouldn't laugh at him/her. O_O</li>\n",
        "      <li>&amp;lt;3</li>\n",
        "      <li>**VERY NICE DRAWING**</li>\n",
        "      <li>Yessss, love to see you working in color!</li>\n",
        "      <li>We require all attempts here to be serious and made with effort. Even a cute stick figure is still just a stick figure and can be made in about two minutes or less. It's also hard to make a likeness to OP when you're just doing stick figures.</li>\n",
        "      <li>You should have PMd your question - it wasn't an appropriate comment for this thread.</li>\n",
        "      <li>Thank you :D</li>\n",
        "      <li>I was just thinking about you today! Good to see you! :D</li>\n",
        "      <li>Your comment was removed. Please read the rules of the sub before participating, and do not comment on appearance in this sub.</li>\n",
        "      <li>Your comment was removed as well.</li>\n",
        "      <li>Great job! However, per our rules, please don't comment on appearance in this sub. Thanks!</li>\n",
        "      <li>Your comment was removed. Please read the rules of the sub before participating.</li>\n",
        "      <li>&amp;lt;3 Thank you for being here :)</li>\n",
        "      <li>I love that! This has been my favorite drawing exercise to date. :)</li>\n",
        "    </div>\n",
        "  </body>\n",
        "</html>\n"
       ]
      }
     ],
     "prompt_number": 192
    },
    {
     "cell_type": "code",
     "collapsed": false,
     "input": [
      "os.chdir('contact')"
     ],
     "language": "python",
     "metadata": {},
     "outputs": [],
     "prompt_number": 3029
    },
    {
     "cell_type": "code",
     "collapsed": false,
     "input": [
      "savcon = open('index.html', 'w')\n",
      "savcon.write(str(contactpage))\n",
      "savcon.close()"
     ],
     "language": "python",
     "metadata": {},
     "outputs": [],
     "prompt_number": 3030
    },
    {
     "cell_type": "code",
     "collapsed": false,
     "input": [
      "dirdir = os.chdir('/var/www/artcontroldrawsyou')"
     ],
     "language": "python",
     "metadata": {},
     "outputs": [],
     "prompt_number": 3031
    },
    {
     "cell_type": "code",
     "collapsed": false,
     "input": [
      "dirdir"
     ],
     "language": "python",
     "metadata": {},
     "outputs": [],
     "prompt_number": 3032
    },
    {
     "cell_type": "code",
     "collapsed": false,
     "input": [
      "aboutpage = dominate.document(title='about')\n",
      "with aboutpage.head:\n",
      "    link(rel='stylesheet', href='style.css')\n",
      "    script(type='text/javascript', src='script.js')\n",
      "\n",
      "with aboutpage:\n",
      "    with div():\n",
      "        attr(cls='header')\n",
      "        #<img src=\"smiley.gif\" alt=\"Smiley face\" height=\"42\" width=\"42\">\n",
      "        h1('artcontroldrawsyou!')\n",
      "        img(scr='logo.gif')\n",
      "        h2('go away artcontrol')\n",
      "        p(strftime(\"%a, %d %b %Y %H:%M:%S +0000\", gmtime()))\n",
      "        a('about', href='https://brobeur.com/artcontroldrawsyou/about')\n",
      "        a('contact', href='http://brobeur.com/artcontroldrawsyou/contact') \n",
      "        a('blog', href='http://brobeur.com/artcontroldrawsyou/wcmckee.com/wcmckee/output')\n",
      "    with div():\n",
      "        attr(cls='header')\n",
      "        #<img src=\"smiley.gif\" alt=\"Smiley face\" height=\"42\" width=\"42\">\n",
      "        h1('about')\n",
      "        #for mine in minels:\n",
      "            #h1(mine.author_flair_text())\n",
      "            #p(mine.body)\n",
      "        \n",
      "    '''with div(id='author'):\n",
      "        for tits in titlis:\n",
      "            h3(tits)\n",
      "    \n",
      "    with div(id='body').add(p()):\n",
      "        for mine in minels:\n",
      "            #h1(mine.created)\n",
      "            p(mine.body)\n",
      "            \n",
      "\n",
      "\n",
      "\n",
      "'''\n",
      "print aboutpage"
     ],
     "language": "python",
     "metadata": {},
     "outputs": [
      {
       "output_type": "stream",
       "stream": "stdout",
       "text": [
        "<!DOCTYPE html>\n",
        "<html>\n",
        "  <head>\n",
        "    <title>about</title>\n",
        "    <link href=\"style.css\" rel=\"stylesheet\">\n",
        "    <script src=\"script.js\" type=\"text/javascript\"></script>\n",
        "  </head>\n",
        "  <body>\n",
        "    <div class=\"header\">\n",
        "      <h1>artcontroldrawsyou!</h1>\n",
        "      <img scr=\"logo.gif\">\n",
        "      <h2>go away artcontrol</h2>\n",
        "      <p>Sun, 31 Aug 2014 10:44:17 +0000</p>\n",
        "      <a href=\"https://brobeur.com/artcontroldrawsyou/about\">about</a>\n",
        "      <a href=\"http://brobeur.com/artcontroldrawsyou/contact\">contact</a>\n",
        "      <a href=\"http://brobeur.com/artcontroldrawsyou/wcmckee.com/wcmckee/output\">blog</a>\n",
        "    </div>\n",
        "    <div class=\"header\">\n",
        "      <h1>about</h1>\n",
        "      <p>artcontroldrawsyou is a website that takes RedditGetsDrawn data and posts it here.</p>\n",
        "      <p>artcontrol is not allowed to submit artwork to redditgetsdrawn so this was created</p>\n",
        "    </div>\n",
        "  </body>\n",
        "</html>\n"
       ]
      }
     ],
     "prompt_number": 3033
    },
    {
     "cell_type": "code",
     "collapsed": false,
     "input": [
      "os.chdir('about')"
     ],
     "language": "python",
     "metadata": {},
     "outputs": [],
     "prompt_number": 3034
    },
    {
     "cell_type": "code",
     "collapsed": false,
     "input": [
      "aboucr = open('index.html', 'w')\n",
      "aboucr.write(str(aboutpage))\n",
      "aboucr.close()"
     ],
     "language": "python",
     "metadata": {},
     "outputs": [],
     "prompt_number": 3035
    },
    {
     "cell_type": "code",
     "collapsed": false,
     "input": [
      "os.chdir('/var/www/artcontroldrawsyou/')"
     ],
     "language": "python",
     "metadata": {},
     "outputs": [],
     "prompt_number": 3036
    },
    {
     "cell_type": "code",
     "collapsed": false,
     "input": [],
     "language": "python",
     "metadata": {},
     "outputs": [],
     "prompt_number": 3036
    },
    {
     "cell_type": "code",
     "collapsed": false,
     "input": [],
     "language": "python",
     "metadata": {},
     "outputs": [],
     "prompt_number": 3036
    }
   ],
   "metadata": {}
  }
 ]
}