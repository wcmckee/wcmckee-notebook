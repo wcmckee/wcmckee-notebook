{
 "metadata": {
  "name": "",
  "signature": "sha256:8c534cf376da7ccb093e32ae02b443ca67aac6de5927de4659706d3dbdc8da20"
 },
 "nbformat": 3,
 "nbformat_minor": 0,
 "worksheets": [
  {
   "cells": [
    {
     "cell_type": "markdown",
     "metadata": {},
     "source": [
      "This is a python script that takes game jam from compohub and publishes to brobeur jam site.\n",
      "It also gets jam data from gamejolt, itch.io, twitter, 1GAM, reddit. \n",
      "\n",
      "create a jam:\n",
      "    enter jam name: \n",
      "        blah blah blah jam\n",
      "        \n",
      "    start date:\n",
      "        data and time that the event begins\n",
      "        \n",
      "    end date:\n",
      "        date and time that the event ends. \n",
      "        \n",
      "    "
     ]
    },
    {
     "cell_type": "code",
     "collapsed": false,
     "input": [],
     "language": "python",
     "metadata": {},
     "outputs": []
    }
   ],
   "metadata": {}
  }
 ]
}