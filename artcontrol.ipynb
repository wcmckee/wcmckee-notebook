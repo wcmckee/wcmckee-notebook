{
 "metadata": {
  "name": "",
  "signature": "sha256:f7160acd5d57be0d70dac74871b0aa205435d9613b0e99e2f4b61fe7ffd6cf98"
 },
 "nbformat": 3,
 "nbformat_minor": 0,
 "worksheets": [
  {
   "cells": [
    {
     "cell_type": "heading",
     "level": 1,
     "metadata": {},
     "source": [
      "ArtControl.me Python Development"
     ]
    },
    {
     "cell_type": "code",
     "collapsed": false,
     "input": [
      "import requests\n",
      "import json"
     ],
     "language": "python",
     "metadata": {},
     "outputs": [],
     "prompt_number": 1
    },
    {
     "cell_type": "code",
     "collapsed": false,
     "input": [
      "webArt = ('http://artcontrol.me/?wpapi=search&dev=1&keyword=post&count=2&page=1&content=1')"
     ],
     "language": "python",
     "metadata": {},
     "outputs": [],
     "prompt_number": 2
    },
    {
     "cell_type": "code",
     "collapsed": false,
     "input": [
      "dawArt = requests.get(webArt)\n"
     ],
     "language": "python",
     "metadata": {},
     "outputs": [],
     "prompt_number": 3
    },
    {
     "cell_type": "code",
     "collapsed": false,
     "input": [
      "jawArt = json.loads(dawArt.text)\n",
      "print jawArt"
     ],
     "language": "python",
     "metadata": {},
     "outputs": [
      {
       "output_type": "stream",
       "stream": "stdout",
       "text": [
        "{u'status': u'ok', u'count': u'2', u'count_total': 10, u'posts': [{u'status': u'publish', u'category': [{u'term_group': 0, u'count': 98, u'name': u'draw', u'parent': 0, u'term_id': 7, u'cat_ID': 7, u'category_description': u'', u'category_parent': 0, u'object_id': 5975, u'filter': u'raw', u'category_count': 98, u'term_taxonomy_id': 7, u'cat_name': u'draw', u'taxonomy': u'category', u'category_nicename': u'draw', u'slug': u'draw', u'description': u''}], u'name': u'akl-child-draw', u'parent': u'0', u'title': u'akl child draw', u'url': u'http://artcontrol.me/?p=5975', u'author': [{u'first_name': u'Will', u'last_name': u'mckee', u'name': u'Will', u'nicename': u'wmckee', u'url': u'', u'slug': u'wmckee', u'gravatar': u'http://www.gravatar.com/avatar/5e2931ce807064cea9fc263f5346ad86?s=100&d=mm&r=g', u'id': u'1', u'description': u''}], u'excerpt': u\"Here are some recent traditional drawings.\\r\\nIt's been awhile since I have updated so this is somewhat of a bulk post.\\r\\n\\r\\n\\r\\n\\r\\n&nbsp;\\r\\n\\r\\nThis was drawn at Fairfield Community\", u'modified': u'2014-10-17 00:05:58', u'slug': u'akl child draw', u'content': u'Here are some recent traditional drawings.\\r\\nIt\\'s been awhile since I have updated so this is somewhat of a bulk post.\\r\\n\\r\\n<a href=\"http://artcontrol.me/wp-content/uploads/2014/10/20140926_163958.jpg\"><img class=\"aligncenter size-large wp-image-5979\" src=\"http://artcontrol.me/wp-content/uploads/2014/10/20140926_163958-768x1024.jpg\" alt=\"20140926_163958\" width=\"768\" height=\"1024\" /></a>\\r\\n\\r\\n&nbsp;\\r\\n\\r\\nThis was drawn at Fairfield Community Centre. I have been really enjoying drawing spikes. Those sharp edges, getting them to look good.\\r\\n\\r\\n&nbsp;\\r\\n\\r\\n<a href=\"http://artcontrol.me/wp-content/uploads/2014/10/20140926_164008.jpg\"><img class=\"aligncenter size-large wp-image-5980\" src=\"http://artcontrol.me/wp-content/uploads/2014/10/20140926_164008-1024x768.jpg\" alt=\"20140926_164008\" width=\"788\" height=\"591\" /></a>\\r\\n\\r\\n&nbsp;\\r\\n\\r\\nDolly drew this colorful character. I love the level of detail. Eyes with eyeballs, a mouth, hair, top (shaped beautifully). Arms. Though the left\\xa0arm is very fat! Both arms are interesting and different. The fingers count to 5 on the right hand. Left hand has four fingers.\\r\\n\\r\\n<a href=\"http://artcontrol.me/wp-content/uploads/2014/10/20141003_155835.jpg\"><img class=\"aligncenter size-large wp-image-5982\" src=\"http://artcontrol.me/wp-content/uploads/2014/10/20141003_155835-1024x768.jpg\" alt=\"20141003_155835\" width=\"788\" height=\"591\" /></a>\\r\\n\\r\\n&nbsp;\\r\\n\\r\\nI sat at the Queen Street, Auckland Burger Fuel store with my sister and drew this. We ordered \\'The Bastard\\' and shared it. Clouds and burgers were a focus. I copied logo and text from Burger Fuel.\\r\\n\\r\\n&nbsp;\\r\\n\\r\\n<a href=\"http://artcontrol.me/wp-content/uploads/2014/10/20141004_120520.jpg\"><img class=\"aligncenter wp-image-5983 size-large\" src=\"http://artcontrol.me/wp-content/uploads/2014/10/20141004_120520-e1413455995192-1024x768.jpg\" alt=\"20141004_120520\" width=\"788\" height=\"591\" /></a>\\r\\n\\r\\n&nbsp;\\r\\n\\r\\n&nbsp;\\r\\n\\r\\nThis was drawn at Overload in Auckland. I used Horse Ninja postcard as reference.\\r\\n\\r\\n&nbsp;\\r\\n\\r\\n<a href=\"http://artcontrol.me/wp-content/uploads/2014/10/20141013_115449.jpg\"><img class=\"aligncenter size-large wp-image-5985\" src=\"http://artcontrol.me/wp-content/uploads/2014/10/20141013_115449-1024x768.jpg\" alt=\"20141013_115449\" width=\"788\" height=\"591\" /></a>\\r\\n\\r\\n&nbsp;\\r\\n\\r\\nColoured Pencil and ink. Blue colored pencil and yellow and green ink.\\r\\n\\r\\n<a href=\"http://artcontrol.me/wp-content/uploads/2014/10/20141013_115456.jpg\"><img class=\"aligncenter size-large wp-image-5986\" src=\"http://artcontrol.me/wp-content/uploads/2014/10/20141013_115456-1024x768.jpg\" alt=\"20141013_115456\" width=\"788\" height=\"591\" /></a>\\r\\n\\r\\n&nbsp;\\r\\n\\r\\nClose up of the character.\\r\\n\\r\\n<a href=\"http://artcontrol.me/wp-content/uploads/2014/10/20141014_105526.jpg\">\\r\\n</a> <a href=\"http://artcontrol.me/wp-content/uploads/2014/10/20141014_105534.jpg\"><img class=\"aligncenter size-large wp-image-5988\" src=\"http://artcontrol.me/wp-content/uploads/2014/10/20141014_105534-768x1024.jpg\" alt=\"20141014_105534\" width=\"768\" height=\"1024\" /></a>\\r\\n\\r\\n&nbsp;\\r\\n\\r\\nTexture of colored pencil. Sitting on the concrete outside and making markings.\\r\\n\\r\\n<a href=\"http://artcontrol.me/wp-content/uploads/2014/10/20141014_105545.jpg\"><img class=\"aligncenter size-large wp-image-5989\" src=\"http://artcontrol.me/wp-content/uploads/2014/10/20141014_105545-1024x768.jpg\" alt=\"20141014_105545\" width=\"788\" height=\"591\" /></a>\\r\\n\\r\\n&nbsp;\\r\\n\\r\\nAmazing marks from the kids.\\r\\n\\r\\n<a href=\"http://artcontrol.me/wp-content/uploads/2014/10/20141015_152517.jpg\"><img class=\"aligncenter size-large wp-image-5990\" src=\"http://artcontrol.me/wp-content/uploads/2014/10/20141015_152517-768x1024.jpg\" alt=\"20141015_152517\" width=\"768\" height=\"1024\" /></a>\\r\\n\\r\\n&nbsp;\\r\\n\\r\\n&nbsp;\\r\\n\\r\\nPlant in a tree, with a landscape at the bottom. Similar to the landscapes I draw.\\r\\n\\r\\n&nbsp;\\r\\n\\r\\n<a href=\"http://artcontrol.me/wp-content/uploads/2014/10/20141015_152654.jpg\"><img class=\"aligncenter size-large wp-image-5992\" src=\"http://artcontrol.me/wp-content/uploads/2014/10/20141015_152654-1024x768.jpg\" alt=\"20141015_152654\" width=\"788\" height=\"591\" /></a>\\r\\n\\r\\n&nbsp;\\r\\n\\r\\nStarted with the robot and grew. Houses in the landscape, along with wild forests.\\r\\n\\r\\n&nbsp;\\r\\n\\r\\n<a href=\"http://artcontrol.me/wp-content/uploads/2014/10/20141015_152706.jpg\"><img class=\"aligncenter size-large wp-image-5993\" src=\"http://artcontrol.me/wp-content/uploads/2014/10/20141015_152706-768x1024.jpg\" alt=\"20141015_152706\" width=\"768\" height=\"1024\" /></a>\\r\\n\\r\\n&nbsp;\\r\\n\\r\\nI did a drawing of Dollys tree inside a bubble. The brick wall at the base. I was drawing straight lines and not making them rugged. I was told this was wrong and that I should do it more ruged, like the original. I obeyed (and agreed).\\r\\n\\r\\n<a href=\"http://artcontrol.me/wp-content/uploads/2014/10/20141015_152718.jpg\"><img class=\"aligncenter size-large wp-image-5994\" src=\"http://artcontrol.me/wp-content/uploads/2014/10/20141015_152718-1024x768.jpg\" alt=\"20141015_152718\" width=\"788\" height=\"591\" /></a>\\r\\n\\r\\n&nbsp;\\r\\n\\r\\nGreat shapes. We thought it was a snake at first but later relized there may be some rivers and boats happening. How exciting!\\r\\n\\r\\n&nbsp;', u'comment_count': u'0', u'tag': {u'10': {u'term_group': 0, u'count': 44, u'name': u'pencil', u'parent': 0, u'term_id': 10, u'object_id': 5975, u'filter': u'raw', u'term_taxonomy_id': 10, u'taxonomy': u'post_tag', u'slug': u'pencil', u'description': u''}, u'88': {u'term_group': 0, u'count': 11, u'name': u'auckland', u'parent': 0, u'term_id': 88, u'object_id': 5975, u'filter': u'raw', u'term_taxonomy_id': 90, u'taxonomy': u'post_tag', u'slug': u'auckland', u'description': u''}, u'172': {u'term_group': 0, u'count': 3, u'name': u'child', u'parent': 0, u'term_id': 172, u'object_id': 5975, u'filter': u'raw', u'term_taxonomy_id': 189, u'taxonomy': u'post_tag', u'slug': u'child', u'description': u''}, u'193': {u'term_group': 0, u'count': 2, u'name': u'pen', u'parent': 0, u'term_id': 193, u'object_id': 5975, u'filter': u'raw', u'term_taxonomy_id': 211, u'taxonomy': u'post_tag', u'slug': u'pen', u'description': u''}}, u'date': u'2014-10-17 00:05:58', u'type': u'post', u'id': u'5975', u'comment_status': u'open'}, {u'status': u'publish', u'category': [{u'term_group': 0, u'count': 2, u'name': u'concept art', u'parent': 0, u'term_id': 117, u'cat_ID': 117, u'category_description': u'', u'category_parent': 0, u'object_id': 5909, u'filter': u'raw', u'category_count': 2, u'term_taxonomy_id': 281, u'cat_name': u'concept art', u'taxonomy': u'category', u'category_nicename': u'concept-art', u'slug': u'concept-art', u'description': u''}], u'name': u'ld-connected-worlds-concept-art', u'parent': u'0', u'title': u'LD48 - connected worlds concept art', u'url': u'http://artcontrol.me/?p=5909', u'author': [{u'first_name': u'Will', u'last_name': u'mckee', u'name': u'Will', u'nicename': u'wmckee', u'url': u'', u'slug': u'wmckee', u'gravatar': u'http://www.gravatar.com/avatar/5e2931ce807064cea9fc263f5346ad86?s=100&d=mm&r=g', u'id': u'1', u'description': u''}], u'excerpt': u\"Hello.\\r\\nBeen awile since an update.\\r\\nLost my tablet pen but found it again, and it's taken me a bit to get back into digital painting since then.\\r\\nI have been busy with\", u'modified': u'2014-08-23 15:02:53', u'slug': u'LD48 - connected worlds concept art', u'content': u'Hello.\\r\\nBeen awile since an update.\\r\\nLost my tablet pen but found it again, and it\\'s taken me a bit to get back into digital painting since then.\\r\\nI have been busy with drawing and painting with children. Felt pens, pencil, oil pastel, and poster paint has been the medium of choice.\\r\\nHere are digital painting s I created today for Ludum Dare. The theme is connected worlds.\\r\\nI\\'m looking at creating an open world mmo-like zone. Models will be created tonight and I\\'ll put everything together in Unity3d on Sunday.\\r\\n<a href=\"http://artcontrol.me/wp-content/uploads/2014/08/connected-color.png\"><img class=\"aligncenter size-large wp-image-5910\" src=\"http://artcontrol.me/wp-content/uploads/2014/08/connected-color-768x1024.png\" alt=\"connected-color\" width=\"768\" height=\"1024\" /></a>\\r\\n\\r\\n<a href=\"http://artcontrol.me/wp-content/uploads/2014/08/connected-line.png\"><img class=\"aligncenter size-large wp-image-5911\" src=\"http://artcontrol.me/wp-content/uploads/2014/08/connected-line-768x1024.png\" alt=\"connected-line\" width=\"768\" height=\"1024\" /></a>\\r\\n\\r\\n<a href=\"http://artcontrol.me/wp-content/uploads/2014/08/fhouse-COLOR.png\"><img class=\"aligncenter size-large wp-image-5912\" src=\"http://artcontrol.me/wp-content/uploads/2014/08/fhouse-COLOR-768x1024.png\" alt=\"fhouse-COLOR\" width=\"768\" height=\"1024\" /></a>\\r\\n\\r\\n<a href=\"http://artcontrol.me/wp-content/uploads/2014/08/fhouse-bw.png\"><img class=\"aligncenter size-large wp-image-5913\" src=\"http://artcontrol.me/wp-content/uploads/2014/08/fhouse-bw-768x1024.png\" alt=\"fhouse-bw\" width=\"768\" height=\"1024\" /></a>\\r\\n\\r\\n<a href=\"http://artcontrol.me/wp-content/uploads/2014/08/fhouse-color.png\"><img class=\"aligncenter size-large wp-image-5914\" src=\"http://artcontrol.me/wp-content/uploads/2014/08/fhouse-color-768x1024.png\" alt=\"fhouse-color\" width=\"768\" height=\"1024\" /></a>\\r\\n\\r\\n<a href=\"http://artcontrol.me/wp-content/uploads/2014/08/vamp-line.png\"><img class=\"aligncenter size-large wp-image-5915\" src=\"http://artcontrol.me/wp-content/uploads/2014/08/vamp-line-768x1024.png\" alt=\"vamp-line\" width=\"768\" height=\"1024\" /></a>\\r\\n\\r\\nEnjoy -\\r\\nwcmckee', u'comment_count': u'0', u'tag': {u'262': {u'term_group': 0, u'count': 1, u'name': u'connected worlds', u'parent': 0, u'term_id': 262, u'object_id': 5909, u'filter': u'raw', u'term_taxonomy_id': 286, u'taxonomy': u'post_tag', u'slug': u'connected-worlds', u'description': u''}, u'117': {u'term_group': 0, u'count': 14, u'name': u'concept art', u'parent': 0, u'term_id': 117, u'object_id': 5909, u'filter': u'raw', u'term_taxonomy_id': 123, u'taxonomy': u'post_tag', u'slug': u'concept-art', u'description': u''}, u'59': {u'term_group': 0, u'count': 110, u'name': u'GIMP', u'parent': 0, u'term_id': 59, u'object_id': 5909, u'filter': u'raw', u'term_taxonomy_id': 60, u'taxonomy': u'post_tag', u'slug': u'gimp', u'description': u''}, u'261': {u'term_group': 0, u'count': 1, u'name': u'ludum dare', u'parent': 0, u'term_id': 261, u'object_id': 5909, u'filter': u'raw', u'term_taxonomy_id': 285, u'taxonomy': u'post_tag', u'slug': u'ludum-dare', u'description': u''}}, u'date': u'2014-08-23 15:02:03', u'type': u'post', u'id': u'5909', u'comment_status': u'open'}], u'currPage': 1, u'pages': 5}\n"
       ]
      }
     ],
     "prompt_number": 4
    },
    {
     "cell_type": "code",
     "collapsed": false,
     "input": [
      "lodArt = jawArt['posts']"
     ],
     "language": "python",
     "metadata": {},
     "outputs": [],
     "prompt_number": 5
    },
    {
     "cell_type": "markdown",
     "metadata": {},
     "source": [
      "print lodArt[1]"
     ]
    },
    {
     "cell_type": "code",
     "collapsed": false,
     "input": [
      "#print lodArt[0]\n",
      "\n",
      "behArt = lodArt[1]\n",
      "\n",
      "areArt = behArt['content']\n",
      "print areArt"
     ],
     "language": "python",
     "metadata": {},
     "outputs": [
      {
       "output_type": "stream",
       "stream": "stdout",
       "text": [
        "Hello.\r\n",
        "Been awile since an update.\r\n",
        "Lost my tablet pen but found it again, and it's taken me a bit to get back into digital painting since then.\r\n",
        "I have been busy with drawing and painting with children. Felt pens, pencil, oil pastel, and poster paint has been the medium of choice.\r\n",
        "Here are digital painting s I created today for Ludum Dare. The theme is connected worlds.\r\n",
        "I'm looking at creating an open world mmo-like zone. Models will be created tonight and I'll put everything together in Unity3d on Sunday.\r\n",
        "<a href=\"http://artcontrol.me/wp-content/uploads/2014/08/connected-color.png\"><img class=\"aligncenter size-large wp-image-5910\" src=\"http://artcontrol.me/wp-content/uploads/2014/08/connected-color-768x1024.png\" alt=\"connected-color\" width=\"768\" height=\"1024\" /></a>\r\n",
        "\r\n",
        "<a href=\"http://artcontrol.me/wp-content/uploads/2014/08/connected-line.png\"><img class=\"aligncenter size-large wp-image-5911\" src=\"http://artcontrol.me/wp-content/uploads/2014/08/connected-line-768x1024.png\" alt=\"connected-line\" width=\"768\" height=\"1024\" /></a>\r\n",
        "\r\n",
        "<a href=\"http://artcontrol.me/wp-content/uploads/2014/08/fhouse-COLOR.png\"><img class=\"aligncenter size-large wp-image-5912\" src=\"http://artcontrol.me/wp-content/uploads/2014/08/fhouse-COLOR-768x1024.png\" alt=\"fhouse-COLOR\" width=\"768\" height=\"1024\" /></a>\r\n",
        "\r\n",
        "<a href=\"http://artcontrol.me/wp-content/uploads/2014/08/fhouse-bw.png\"><img class=\"aligncenter size-large wp-image-5913\" src=\"http://artcontrol.me/wp-content/uploads/2014/08/fhouse-bw-768x1024.png\" alt=\"fhouse-bw\" width=\"768\" height=\"1024\" /></a>\r\n",
        "\r\n",
        "<a href=\"http://artcontrol.me/wp-content/uploads/2014/08/fhouse-color.png\"><img class=\"aligncenter size-large wp-image-5914\" src=\"http://artcontrol.me/wp-content/uploads/2014/08/fhouse-color-768x1024.png\" alt=\"fhouse-color\" width=\"768\" height=\"1024\" /></a>\r\n",
        "\r\n",
        "<a href=\"http://artcontrol.me/wp-content/uploads/2014/08/vamp-line.png\"><img class=\"aligncenter size-large wp-image-5915\" src=\"http://artcontrol.me/wp-content/uploads/2014/08/vamp-line-768x1024.png\" alt=\"vamp-line\" width=\"768\" height=\"1024\" /></a>\r\n",
        "\r\n",
        "Enjoy -\r\n",
        "wcmckee\n"
       ]
      }
     ],
     "prompt_number": 8
    },
    {
     "cell_type": "code",
     "collapsed": false,
     "input": [
      "from bs4 import BeautifulSoup"
     ],
     "language": "python",
     "metadata": {},
     "outputs": [],
     "prompt_number": 9
    },
    {
     "cell_type": "code",
     "collapsed": false,
     "input": [
      "postData = BeautifulSoup(areArt)\n",
      "#print postData\n",
      "\n",
      "linkData = postData.find_all('a')\n",
      "print linkData[0]"
     ],
     "language": "python",
     "metadata": {},
     "outputs": [
      {
       "output_type": "stream",
       "stream": "stdout",
       "text": [
        "<a href=\"http://artcontrol.me/wp-content/uploads/2014/08/connected-color.png\"><img alt=\"connected-color\" class=\"aligncenter size-large wp-image-5910\" height=\"1024\" src=\"http://artcontrol.me/wp-content/uploads/2014/08/connected-color-768x1024.png\" width=\"768\"/></a>\n"
       ]
      }
     ],
     "prompt_number": 10
    },
    {
     "cell_type": "code",
     "collapsed": false,
     "input": [
      "for link in postData.find_all('a'):\n",
      "    print(link.get('href'))"
     ],
     "language": "python",
     "metadata": {},
     "outputs": [
      {
       "output_type": "stream",
       "stream": "stdout",
       "text": [
        "http://artcontrol.me/wp-content/uploads/2014/08/connected-color.png\n",
        "http://artcontrol.me/wp-content/uploads/2014/08/connected-line.png\n",
        "http://artcontrol.me/wp-content/uploads/2014/08/fhouse-COLOR.png\n",
        "http://artcontrol.me/wp-content/uploads/2014/08/fhouse-bw.png\n",
        "http://artcontrol.me/wp-content/uploads/2014/08/fhouse-color.png\n",
        "http://artcontrol.me/wp-content/uploads/2014/08/vamp-line.png\n"
       ]
      }
     ],
     "prompt_number": 11
    },
    {
     "cell_type": "code",
     "collapsed": false,
     "input": [
      "txtzData = (postData.get_text())\n",
      "\n",
      "print imgzData\n",
      "\n"
     ],
     "language": "python",
     "metadata": {},
     "outputs": [
      {
       "ename": "NameError",
       "evalue": "name 'imgzData' is not defined",
       "output_type": "pyerr",
       "traceback": [
        "\u001b[1;31m---------------------------------------------------------------------------\u001b[0m\n\u001b[1;31mNameError\u001b[0m                                 Traceback (most recent call last)",
        "\u001b[1;32m<ipython-input-12-b427047460bb>\u001b[0m in \u001b[0;36m<module>\u001b[1;34m()\u001b[0m\n\u001b[0;32m      1\u001b[0m \u001b[0mtxtzData\u001b[0m \u001b[1;33m=\u001b[0m \u001b[1;33m(\u001b[0m\u001b[0mpostData\u001b[0m\u001b[1;33m.\u001b[0m\u001b[0mget_text\u001b[0m\u001b[1;33m(\u001b[0m\u001b[1;33m)\u001b[0m\u001b[1;33m)\u001b[0m\u001b[1;33m\u001b[0m\u001b[0m\n\u001b[0;32m      2\u001b[0m \u001b[1;33m\u001b[0m\u001b[0m\n\u001b[1;32m----> 3\u001b[1;33m \u001b[1;32mprint\u001b[0m \u001b[0mimgzData\u001b[0m\u001b[1;33m\u001b[0m\u001b[0m\n\u001b[0m\u001b[0;32m      4\u001b[0m \u001b[1;33m\u001b[0m\u001b[0m\n",
        "\u001b[1;31mNameError\u001b[0m: name 'imgzData' is not defined"
       ]
      }
     ],
     "prompt_number": 12
    },
    {
     "cell_type": "code",
     "collapsed": false,
     "input": [
      "tlahArt = getArt['title']\n",
      "print tlahArt"
     ],
     "language": "python",
     "metadata": {},
     "outputs": []
    },
    {
     "cell_type": "code",
     "collapsed": false,
     "input": [
      "dictData = {'imgz': linkData, 'text': txtzData}\n",
      "\n",
      "print dictData"
     ],
     "language": "python",
     "metadata": {},
     "outputs": []
    },
    {
     "cell_type": "code",
     "collapsed": false,
     "input": [
      "getArt = requests.get('http://artcontrol.me/?wpapi=get_posts&dev=0')\n",
      "jsnArt = json.loads(getArt.text)\n",
      "print jsnArt"
     ],
     "language": "python",
     "metadata": {},
     "outputs": []
    },
    {
     "cell_type": "code",
     "collapsed": false,
     "input": [
      "print titArtpoArt = jsnArt['posts']\n",
      "titArt =  poArt[0]\n",
      "print titArt"
     ],
     "language": "python",
     "metadata": {},
     "outputs": []
    },
    {
     "cell_type": "code",
     "collapsed": false,
     "input": [
      "yaeArt = len(titArt)\n",
      "print yaeArt"
     ],
     "language": "python",
     "metadata": {},
     "outputs": []
    },
    {
     "cell_type": "markdown",
     "metadata": {},
     "source": [
      "How can I get these 16 results in a list?"
     ]
    },
    {
     "cell_type": "markdown",
     "metadata": {},
     "source": [
      "After some thought I just made a list manually. This needs to be fixed to auto collect\n",
      "these items"
     ]
    },
    {
     "cell_type": "code",
     "collapsed": false,
     "input": [
      "lipArt = ('name','parent','title','url','author','excerpt','slug','comment_count','tag',\n",
      "          'date','type','page','id','comment_status')"
     ],
     "language": "python",
     "metadata": {},
     "outputs": []
    },
    {
     "cell_type": "code",
     "collapsed": false,
     "input": [
      "print lipArt"
     ],
     "language": "python",
     "metadata": {},
     "outputs": []
    },
    {
     "cell_type": "code",
     "collapsed": false,
     "input": [
      "contArt = len(lipArt)"
     ],
     "language": "python",
     "metadata": {},
     "outputs": []
    },
    {
     "cell_type": "code",
     "collapsed": false,
     "input": [
      "print contArt"
     ],
     "language": "python",
     "metadata": {},
     "outputs": []
    },
    {
     "cell_type": "code",
     "collapsed": false,
     "input": [
      "randArt = random.randint(0,14)"
     ],
     "language": "python",
     "metadata": {},
     "outputs": []
    },
    {
     "cell_type": "code",
     "collapsed": false,
     "input": [
      "jerArt = lipArt[randArt]\n",
      "print jerArt"
     ],
     "language": "python",
     "metadata": {},
     "outputs": []
    },
    {
     "cell_type": "code",
     "collapsed": false,
     "input": [
      "repArt = titArt[jerArt]\n",
      "print repArt"
     ],
     "language": "python",
     "metadata": {},
     "outputs": []
    },
    {
     "cell_type": "code",
     "collapsed": false,
     "input": [
      "titleArt = titArt['title']\n",
      "print titleArt"
     ],
     "language": "python",
     "metadata": {},
     "outputs": [
      {
       "ename": "NameError",
       "evalue": "name 'titArt' is not defined",
       "output_type": "pyerr",
       "traceback": [
        "\u001b[1;31m---------------------------------------------------------------------------\u001b[0m\n\u001b[1;31mNameError\u001b[0m                                 Traceback (most recent call last)",
        "\u001b[1;32m<ipython-input-13-aa3336836259>\u001b[0m in \u001b[0;36m<module>\u001b[1;34m()\u001b[0m\n\u001b[1;32m----> 1\u001b[1;33m \u001b[0mtitleArt\u001b[0m \u001b[1;33m=\u001b[0m \u001b[0mtitArt\u001b[0m\u001b[1;33m[\u001b[0m\u001b[1;34m'title'\u001b[0m\u001b[1;33m]\u001b[0m\u001b[1;33m\u001b[0m\u001b[0m\n\u001b[0m\u001b[0;32m      2\u001b[0m \u001b[1;32mprint\u001b[0m \u001b[0mtitleArt\u001b[0m\u001b[1;33m\u001b[0m\u001b[0m\n",
        "\u001b[1;31mNameError\u001b[0m: name 'titArt' is not defined"
       ]
      }
     ],
     "prompt_number": 13
    },
    {
     "cell_type": "code",
     "collapsed": false,
     "input": [
      "extrArt = titArt['excerpt']\n",
      "print extrArt"
     ],
     "language": "python",
     "metadata": {},
     "outputs": [
      {
       "ename": "NameError",
       "evalue": "name 'titArt' is not defined",
       "output_type": "pyerr",
       "traceback": [
        "\u001b[1;31m---------------------------------------------------------------------------\u001b[0m\n\u001b[1;31mNameError\u001b[0m                                 Traceback (most recent call last)",
        "\u001b[1;32m<ipython-input-14-9c75993f7501>\u001b[0m in \u001b[0;36m<module>\u001b[1;34m()\u001b[0m\n\u001b[1;32m----> 1\u001b[1;33m \u001b[0mextrArt\u001b[0m \u001b[1;33m=\u001b[0m \u001b[0mtitArt\u001b[0m\u001b[1;33m[\u001b[0m\u001b[1;34m'excerpt'\u001b[0m\u001b[1;33m]\u001b[0m\u001b[1;33m\u001b[0m\u001b[0m\n\u001b[0m\u001b[0;32m      2\u001b[0m \u001b[1;32mprint\u001b[0m \u001b[0mextrArt\u001b[0m\u001b[1;33m\u001b[0m\u001b[0m\n",
        "\u001b[1;31mNameError\u001b[0m: name 'titArt' is not defined"
       ]
      }
     ],
     "prompt_number": 14
    },
    {
     "cell_type": "code",
     "collapsed": false,
     "input": [
      "dateArt = titArt['date']\n",
      "print dateArt"
     ],
     "language": "python",
     "metadata": {},
     "outputs": [
      {
       "ename": "NameError",
       "evalue": "name 'titArt' is not defined",
       "output_type": "pyerr",
       "traceback": [
        "\u001b[1;31m---------------------------------------------------------------------------\u001b[0m\n\u001b[1;31mNameError\u001b[0m                                 Traceback (most recent call last)",
        "\u001b[1;32m<ipython-input-15-8ebd958c499e>\u001b[0m in \u001b[0;36m<module>\u001b[1;34m()\u001b[0m\n\u001b[1;32m----> 1\u001b[1;33m \u001b[0mdateArt\u001b[0m \u001b[1;33m=\u001b[0m \u001b[0mtitArt\u001b[0m\u001b[1;33m[\u001b[0m\u001b[1;34m'date'\u001b[0m\u001b[1;33m]\u001b[0m\u001b[1;33m\u001b[0m\u001b[0m\n\u001b[0m\u001b[0;32m      2\u001b[0m \u001b[1;32mprint\u001b[0m \u001b[0mdateArt\u001b[0m\u001b[1;33m\u001b[0m\u001b[0m\n",
        "\u001b[1;31mNameError\u001b[0m: name 'titArt' is not defined"
       ]
      }
     ],
     "prompt_number": 15
    },
    {
     "cell_type": "code",
     "collapsed": false,
     "input": [],
     "language": "python",
     "metadata": {},
     "outputs": []
    }
   ],
   "metadata": {}
  }
 ]
}