{
 "metadata": {
  "name": "",
  "signature": "sha256:2146ba197424c0b66f6cf9c194b68a98deb15f8d700c700cef72e90492723d9c"
 },
 "nbformat": 3,
 "nbformat_minor": 0,
 "worksheets": [
  {
   "cells": [
    {
     "cell_type": "heading",
     "level": 1,
     "metadata": {},
     "source": [
      "ArtControl.me Python Development"
     ]
    },
    {
     "cell_type": "code",
     "collapsed": false,
     "input": [
      "import requests\n",
      "import json"
     ],
     "language": "python",
     "metadata": {},
     "outputs": [],
     "prompt_number": 1
    },
    {
     "cell_type": "code",
     "collapsed": false,
     "input": [
      "webArt = ('http://artcontrol.me/?wpapi=search&dev=1&keyword=post&count=2&page=1&content=1')"
     ],
     "language": "python",
     "metadata": {},
     "outputs": [],
     "prompt_number": 2
    },
    {
     "cell_type": "code",
     "collapsed": false,
     "input": [
      "dawArt = requests.get(webArt)\n"
     ],
     "language": "python",
     "metadata": {},
     "outputs": [],
     "prompt_number": 3
    },
    {
     "cell_type": "code",
     "collapsed": false,
     "input": [
      "jawArt = json.loads(dawArt.text)\n",
      "print jawArt"
     ],
     "language": "python",
     "metadata": {},
     "outputs": [
      {
       "output_type": "stream",
       "stream": "stdout",
       "text": [
        "{u'status': u'ok', u'count': u'2', u'count_total': 10, u'posts': [{u'status': u'publish', u'category': [{u'term_group': 0, u'count': 4, u'name': u'artcontroldrawsyou', u'parent': 0, u'term_id': 245, u'cat_ID': 245, u'category_description': u'', u'category_parent': 0, u'object_id': 5894, u'filter': u'raw', u'category_count': 4, u'term_taxonomy_id': 265, u'cat_name': u'artcontroldrawsyou', u'taxonomy': u'category', u'category_nicename': u'artcontroldrawsyou', u'slug': u'artcontroldrawsyou', u'description': u''}], u'name': u'syntheticturtle', u'parent': u'0', u'title': u'syntheticturtle', u'url': u'http://artcontrol.me/?p=5894', u'author': [{u'first_name': u'Will', u'last_name': u'mckee', u'name': u'Will', u'nicename': u'wmckee', u'url': u'', u'slug': u'wmckee', u'gravatar': u'http://www.gravatar.com/avatar/5e2931ce807064cea9fc263f5346ad86?s=100&d=mm&r=g', u'id': u'1', u'description': u''}], u'excerpt': u\"&nbsp;\\r\\n\\r\\n&nbsp;\\r\\n\\r\\n&nbsp;\\r\\n\\r\\n&nbsp;\\r\\n\\r\\nPortrait I painted of Reddit user - syntheticturtle.\\r\\n\\r\\nThis was from redditgetsdrawn.\\r\\n\\r\\nI've started working on another game - this\", u'modified': u'2014-08-02 21:48:25', u'slug': u'syntheticturtle', u'content': u'&nbsp;\\r\\n\\r\\n&nbsp;\\r\\n\\r\\n&nbsp;\\r\\n\\r\\n&nbsp;\\r\\n\\r\\nPortrait I painted of Reddit user - syntheticturtle.\\r\\n\\r\\nThis was from redditgetsdrawn.\\r\\n\\r\\nI\\'ve started working on another game - this time for the Peace, Love and Jam. It starts next weekend but I\\'m going to just work on it during the weekend since I don\\'t have time during the week.\\r\\n\\r\\nI\\'ve been setting up an easel at Fairfield Community Centre to get the after-school kids to do some art. It\\'s great - got a minute of six year olds, up to twelve. I\\'ll make another post in the future with some of these images (been taking photos on my phone).\\r\\n\\r\\nEnjoy this digital painting, three layer, line, gray, and color.\\r\\n<a href=\"http://artcontrol.me/wp-content/uploads/2014/08/syntheticturtle-line.png\"><img class=\"aligncenter size-large wp-image-5897\" src=\"http://artcontrol.me/wp-content/uploads/2014/08/syntheticturtle-line-1024x723.png\" alt=\"syntheticturtle-line\" width=\"788\" height=\"556\" /></a> <a href=\"http://artcontrol.me/wp-content/uploads/2014/08/syntheticturtle-gray.png\"><img class=\"aligncenter size-large wp-image-5896\" src=\"http://artcontrol.me/wp-content/uploads/2014/08/syntheticturtle-gray-1024x723.png\" alt=\"syntheticturtle-gray\" width=\"788\" height=\"556\" /></a> <a href=\"http://artcontrol.me/wp-content/uploads/2014/08/syntheticturtle-color.png\"><img class=\"aligncenter size-large wp-image-5895\" src=\"http://artcontrol.me/wp-content/uploads/2014/08/syntheticturtle-color-1024x723.png\" alt=\"syntheticturtle-color\" width=\"788\" height=\"556\" /></a>', u'comment_count': u'0', u'tag': {u'119': {u'term_group': 0, u'count': 19, u'name': u'redditgetsdrawn', u'parent': 0, u'term_id': 119, u'object_id': 5894, u'filter': u'raw', u'term_taxonomy_id': 125, u'taxonomy': u'post_tag', u'slug': u'redditgetsdrawn', u'description': u''}, u'59': {u'term_group': 0, u'count': 109, u'name': u'GIMP', u'parent': 0, u'term_id': 59, u'object_id': 5894, u'filter': u'raw', u'term_taxonomy_id': 60, u'taxonomy': u'post_tag', u'slug': u'gimp', u'description': u''}}, u'date': u'2014-08-02 21:48:25', u'type': u'post', u'id': u'5894', u'comment_status': u'open'}, {u'status': u'publish', u'category': [{u'term_group': 0, u'count': 4, u'name': u'artcontroldrawsyou', u'parent': 0, u'term_id': 245, u'cat_ID': 245, u'category_description': u'', u'category_parent': 0, u'object_id': 5765, u'filter': u'raw', u'category_count': 4, u'term_taxonomy_id': 265, u'cat_name': u'artcontroldrawsyou', u'taxonomy': u'category', u'category_nicename': u'artcontroldrawsyou', u'slug': u'artcontroldrawsyou', u'description': u''}], u'name': u'side-look', u'parent': u'0', u'title': u'side look', u'url': u'http://artcontrol.me/?p=5765', u'author': [{u'first_name': u'Will', u'last_name': u'mckee', u'name': u'Will', u'nicename': u'wmckee', u'url': u'', u'slug': u'wmckee', u'gravatar': u'http://www.gravatar.com/avatar/5e2931ce807064cea9fc263f5346ad86?s=100&d=mm&r=g', u'id': u'1', u'description': u''}], u'excerpt': u'I have continued to paint works that have been posted on r/artcontroldrawsyou, tonal grayscal and color layers were created.\\r\\n\\r\\nThis is the theme on EOW: Temple of A Hundred', u'modified': u'2014-06-17 21:09:03', u'slug': u'side look', u'content': u'I have continued to paint works that have been posted on r/artcontroldrawsyou, tonal grayscal and color layers were created.\\r\\n\\r\\nThis is the theme on EOW: Temple of A Hundred Relic. Followed by two paintings - one of a mother and child (line, bw, and color) and woman looking sideways (line, bw).\\r\\n\\r\\nEnjoy -\\r\\n\\r\\n&nbsp;\\r\\n\\r\\n&nbsp;\\r\\n\\r\\n<a href=\"http://artcontrol.me/wp-content/uploads/2014/06/june-temp-line.png\"><img class=\"aligncenter size-large wp-image-5766\" alt=\"june-temp-line\" src=\"http://artcontrol.me/wp-content/uploads/2014/06/june-temp-line-1024x682.png\" width=\"720\" height=\"479\" /></a>\\xa0 <a href=\"http://artcontrol.me/wp-content/uploads/2014/06/june-gabbsterr-line.png\"><img class=\"aligncenter size-large wp-image-5769\" alt=\"june-gabbsterr-line\" src=\"http://artcontrol.me/wp-content/uploads/2014/06/june-gabbsterr-line-1024x682.png\" width=\"720\" height=\"479\" /></a><a href=\"http://artcontrol.me/wp-content/uploads/2014/06/june-gabbsterr-bw.png\"><img class=\"aligncenter size-large wp-image-5768\" alt=\"june-gabbsterr-bw\" src=\"http://artcontrol.me/wp-content/uploads/2014/06/june-gabbsterr-bw-1024x682.png\" width=\"720\" height=\"479\" /></a><a href=\"http://artcontrol.me/wp-content/uploads/2014/06/june-gabbsterr-color.png\"><img class=\"aligncenter size-large wp-image-5767\" alt=\"june-gabbsterr-color\" src=\"http://artcontrol.me/wp-content/uploads/2014/06/june-gabbsterr-color-1024x682.png\" width=\"720\" height=\"479\" /></a>\\xa0<a href=\"http://artcontrol.me/wp-content/uploads/2014/06/june-sidelook-line.png\"><img class=\"aligncenter size-large wp-image-5771\" alt=\"june-sidelook-line\" src=\"http://artcontrol.me/wp-content/uploads/2014/06/june-sidelook-line-1024x682.png\" width=\"720\" height=\"479\" /></a> <a href=\"http://artcontrol.me/wp-content/uploads/2014/06/june-sidelook-bw.png\"><img class=\"aligncenter size-large wp-image-5770\" alt=\"june-sidelook-bw\" src=\"http://artcontrol.me/wp-content/uploads/2014/06/june-sidelook-bw-1024x682.png\" width=\"720\" height=\"479\" /></a>', u'comment_count': u'0', u'tag': {u'15': {u'term_group': 0, u'count': 10, u'name': u'paint', u'parent': 0, u'term_id': 15, u'object_id': 5765, u'filter': u'raw', u'term_taxonomy_id': 134, u'taxonomy': u'post_tag', u'slug': u'paint', u'description': u''}, u'54': {u'term_group': 0, u'count': 7, u'name': u'eow', u'parent': 0, u'term_id': 54, u'object_id': 5765, u'filter': u'raw', u'term_taxonomy_id': 55, u'taxonomy': u'post_tag', u'slug': u'eow', u'description': u''}, u'59': {u'term_group': 0, u'count': 109, u'name': u'GIMP', u'parent': 0, u'term_id': 59, u'object_id': 5765, u'filter': u'raw', u'term_taxonomy_id': 60, u'taxonomy': u'post_tag', u'slug': u'gimp', u'description': u''}, u'20': {u'term_group': 0, u'count': 41, u'name': u'portrait', u'parent': 0, u'term_id': 20, u'object_id': 5765, u'filter': u'raw', u'term_taxonomy_id': 20, u'taxonomy': u'post_tag', u'slug': u'portrait', u'description': u''}}, u'date': u'2014-06-17 21:09:03', u'type': u'post', u'id': u'5765', u'comment_status': u'open'}], u'currPage': 1, u'pages': 5}\n"
       ]
      }
     ],
     "prompt_number": 4
    },
    {
     "cell_type": "code",
     "collapsed": false,
     "input": [
      "lodArt = jawArt['posts']"
     ],
     "language": "python",
     "metadata": {},
     "outputs": [],
     "prompt_number": 5
    },
    {
     "cell_type": "code",
     "collapsed": false,
     "input": [
      "print lodArt[1]"
     ],
     "language": "python",
     "metadata": {},
     "outputs": [
      {
       "output_type": "stream",
       "stream": "stdout",
       "text": [
        "{u'status': u'publish', u'category': [{u'term_group': 0, u'count': 4, u'name': u'artcontroldrawsyou', u'parent': 0, u'term_id': 245, u'cat_ID': 245, u'category_description': u'', u'category_parent': 0, u'object_id': 5765, u'filter': u'raw', u'category_count': 4, u'term_taxonomy_id': 265, u'cat_name': u'artcontroldrawsyou', u'taxonomy': u'category', u'category_nicename': u'artcontroldrawsyou', u'slug': u'artcontroldrawsyou', u'description': u''}], u'name': u'side-look', u'parent': u'0', u'title': u'side look', u'url': u'http://artcontrol.me/?p=5765', u'author': [{u'first_name': u'Will', u'last_name': u'mckee', u'name': u'Will', u'nicename': u'wmckee', u'url': u'', u'slug': u'wmckee', u'gravatar': u'http://www.gravatar.com/avatar/5e2931ce807064cea9fc263f5346ad86?s=100&d=mm&r=g', u'id': u'1', u'description': u''}], u'excerpt': u'I have continued to paint works that have been posted on r/artcontroldrawsyou, tonal grayscal and color layers were created.\\r\\n\\r\\nThis is the theme on EOW: Temple of A Hundred', u'modified': u'2014-06-17 21:09:03', u'slug': u'side look', u'content': u'I have continued to paint works that have been posted on r/artcontroldrawsyou, tonal grayscal and color layers were created.\\r\\n\\r\\nThis is the theme on EOW: Temple of A Hundred Relic. Followed by two paintings - one of a mother and child (line, bw, and color) and woman looking sideways (line, bw).\\r\\n\\r\\nEnjoy -\\r\\n\\r\\n&nbsp;\\r\\n\\r\\n&nbsp;\\r\\n\\r\\n<a href=\"http://artcontrol.me/wp-content/uploads/2014/06/june-temp-line.png\"><img class=\"aligncenter size-large wp-image-5766\" alt=\"june-temp-line\" src=\"http://artcontrol.me/wp-content/uploads/2014/06/june-temp-line-1024x682.png\" width=\"720\" height=\"479\" /></a>\\xa0 <a href=\"http://artcontrol.me/wp-content/uploads/2014/06/june-gabbsterr-line.png\"><img class=\"aligncenter size-large wp-image-5769\" alt=\"june-gabbsterr-line\" src=\"http://artcontrol.me/wp-content/uploads/2014/06/june-gabbsterr-line-1024x682.png\" width=\"720\" height=\"479\" /></a><a href=\"http://artcontrol.me/wp-content/uploads/2014/06/june-gabbsterr-bw.png\"><img class=\"aligncenter size-large wp-image-5768\" alt=\"june-gabbsterr-bw\" src=\"http://artcontrol.me/wp-content/uploads/2014/06/june-gabbsterr-bw-1024x682.png\" width=\"720\" height=\"479\" /></a><a href=\"http://artcontrol.me/wp-content/uploads/2014/06/june-gabbsterr-color.png\"><img class=\"aligncenter size-large wp-image-5767\" alt=\"june-gabbsterr-color\" src=\"http://artcontrol.me/wp-content/uploads/2014/06/june-gabbsterr-color-1024x682.png\" width=\"720\" height=\"479\" /></a>\\xa0<a href=\"http://artcontrol.me/wp-content/uploads/2014/06/june-sidelook-line.png\"><img class=\"aligncenter size-large wp-image-5771\" alt=\"june-sidelook-line\" src=\"http://artcontrol.me/wp-content/uploads/2014/06/june-sidelook-line-1024x682.png\" width=\"720\" height=\"479\" /></a> <a href=\"http://artcontrol.me/wp-content/uploads/2014/06/june-sidelook-bw.png\"><img class=\"aligncenter size-large wp-image-5770\" alt=\"june-sidelook-bw\" src=\"http://artcontrol.me/wp-content/uploads/2014/06/june-sidelook-bw-1024x682.png\" width=\"720\" height=\"479\" /></a>', u'comment_count': u'0', u'tag': {u'15': {u'term_group': 0, u'count': 10, u'name': u'paint', u'parent': 0, u'term_id': 15, u'object_id': 5765, u'filter': u'raw', u'term_taxonomy_id': 134, u'taxonomy': u'post_tag', u'slug': u'paint', u'description': u''}, u'54': {u'term_group': 0, u'count': 7, u'name': u'eow', u'parent': 0, u'term_id': 54, u'object_id': 5765, u'filter': u'raw', u'term_taxonomy_id': 55, u'taxonomy': u'post_tag', u'slug': u'eow', u'description': u''}, u'59': {u'term_group': 0, u'count': 109, u'name': u'GIMP', u'parent': 0, u'term_id': 59, u'object_id': 5765, u'filter': u'raw', u'term_taxonomy_id': 60, u'taxonomy': u'post_tag', u'slug': u'gimp', u'description': u''}, u'20': {u'term_group': 0, u'count': 41, u'name': u'portrait', u'parent': 0, u'term_id': 20, u'object_id': 5765, u'filter': u'raw', u'term_taxonomy_id': 20, u'taxonomy': u'post_tag', u'slug': u'portrait', u'description': u''}}, u'date': u'2014-06-17 21:09:03', u'type': u'post', u'id': u'5765', u'comment_status': u'open'}\n"
       ]
      }
     ],
     "prompt_number": 6
    },
    {
     "cell_type": "code",
     "collapsed": false,
     "input": [
      "print lodArt[1]"
     ],
     "language": "python",
     "metadata": {},
     "outputs": [
      {
       "output_type": "stream",
       "stream": "stdout",
       "text": [
        "{u'status': u'publish', u'category': [{u'term_group': 0, u'count': 4, u'name': u'artcontroldrawsyou', u'parent': 0, u'term_id': 245, u'cat_ID': 245, u'category_description': u'', u'category_parent': 0, u'object_id': 5765, u'filter': u'raw', u'category_count': 4, u'term_taxonomy_id': 265, u'cat_name': u'artcontroldrawsyou', u'taxonomy': u'category', u'category_nicename': u'artcontroldrawsyou', u'slug': u'artcontroldrawsyou', u'description': u''}], u'name': u'side-look', u'parent': u'0', u'title': u'side look', u'url': u'http://artcontrol.me/?p=5765', u'author': [{u'first_name': u'Will', u'last_name': u'mckee', u'name': u'Will', u'nicename': u'wmckee', u'url': u'', u'slug': u'wmckee', u'gravatar': u'http://www.gravatar.com/avatar/5e2931ce807064cea9fc263f5346ad86?s=100&d=mm&r=g', u'id': u'1', u'description': u''}], u'excerpt': u'I have continued to paint works that have been posted on r/artcontroldrawsyou, tonal grayscal and color layers were created.\\r\\n\\r\\nThis is the theme on EOW: Temple of A Hundred', u'modified': u'2014-06-17 21:09:03', u'slug': u'side look', u'content': u'I have continued to paint works that have been posted on r/artcontroldrawsyou, tonal grayscal and color layers were created.\\r\\n\\r\\nThis is the theme on EOW: Temple of A Hundred Relic. Followed by two paintings - one of a mother and child (line, bw, and color) and woman looking sideways (line, bw).\\r\\n\\r\\nEnjoy -\\r\\n\\r\\n&nbsp;\\r\\n\\r\\n&nbsp;\\r\\n\\r\\n<a href=\"http://artcontrol.me/wp-content/uploads/2014/06/june-temp-line.png\"><img class=\"aligncenter size-large wp-image-5766\" alt=\"june-temp-line\" src=\"http://artcontrol.me/wp-content/uploads/2014/06/june-temp-line-1024x682.png\" width=\"720\" height=\"479\" /></a>\\xa0 <a href=\"http://artcontrol.me/wp-content/uploads/2014/06/june-gabbsterr-line.png\"><img class=\"aligncenter size-large wp-image-5769\" alt=\"june-gabbsterr-line\" src=\"http://artcontrol.me/wp-content/uploads/2014/06/june-gabbsterr-line-1024x682.png\" width=\"720\" height=\"479\" /></a><a href=\"http://artcontrol.me/wp-content/uploads/2014/06/june-gabbsterr-bw.png\"><img class=\"aligncenter size-large wp-image-5768\" alt=\"june-gabbsterr-bw\" src=\"http://artcontrol.me/wp-content/uploads/2014/06/june-gabbsterr-bw-1024x682.png\" width=\"720\" height=\"479\" /></a><a href=\"http://artcontrol.me/wp-content/uploads/2014/06/june-gabbsterr-color.png\"><img class=\"aligncenter size-large wp-image-5767\" alt=\"june-gabbsterr-color\" src=\"http://artcontrol.me/wp-content/uploads/2014/06/june-gabbsterr-color-1024x682.png\" width=\"720\" height=\"479\" /></a>\\xa0<a href=\"http://artcontrol.me/wp-content/uploads/2014/06/june-sidelook-line.png\"><img class=\"aligncenter size-large wp-image-5771\" alt=\"june-sidelook-line\" src=\"http://artcontrol.me/wp-content/uploads/2014/06/june-sidelook-line-1024x682.png\" width=\"720\" height=\"479\" /></a> <a href=\"http://artcontrol.me/wp-content/uploads/2014/06/june-sidelook-bw.png\"><img class=\"aligncenter size-large wp-image-5770\" alt=\"june-sidelook-bw\" src=\"http://artcontrol.me/wp-content/uploads/2014/06/june-sidelook-bw-1024x682.png\" width=\"720\" height=\"479\" /></a>', u'comment_count': u'0', u'tag': {u'15': {u'term_group': 0, u'count': 10, u'name': u'paint', u'parent': 0, u'term_id': 15, u'object_id': 5765, u'filter': u'raw', u'term_taxonomy_id': 134, u'taxonomy': u'post_tag', u'slug': u'paint', u'description': u''}, u'54': {u'term_group': 0, u'count': 7, u'name': u'eow', u'parent': 0, u'term_id': 54, u'object_id': 5765, u'filter': u'raw', u'term_taxonomy_id': 55, u'taxonomy': u'post_tag', u'slug': u'eow', u'description': u''}, u'59': {u'term_group': 0, u'count': 109, u'name': u'GIMP', u'parent': 0, u'term_id': 59, u'object_id': 5765, u'filter': u'raw', u'term_taxonomy_id': 60, u'taxonomy': u'post_tag', u'slug': u'gimp', u'description': u''}, u'20': {u'term_group': 0, u'count': 41, u'name': u'portrait', u'parent': 0, u'term_id': 20, u'object_id': 5765, u'filter': u'raw', u'term_taxonomy_id': 20, u'taxonomy': u'post_tag', u'slug': u'portrait', u'description': u''}}, u'date': u'2014-06-17 21:09:03', u'type': u'post', u'id': u'5765', u'comment_status': u'open'}\n"
       ]
      }
     ],
     "prompt_number": 7
    },
    {
     "cell_type": "code",
     "collapsed": false,
     "input": [
      "#print lodArt[0]\n",
      "\n",
      "behArt = lodArt[1]\n",
      "\n",
      "areArt = behArt['content']\n",
      "print areArt"
     ],
     "language": "python",
     "metadata": {},
     "outputs": [
      {
       "output_type": "stream",
       "stream": "stdout",
       "text": [
        "I have continued to paint works that have been posted on r/artcontroldrawsyou, tonal grayscal and color layers were created.\r\n",
        "\r\n",
        "This is the theme on EOW: Temple of A Hundred Relic. Followed by two paintings - one of a mother and child (line, bw, and color) and woman looking sideways (line, bw).\r\n",
        "\r\n",
        "Enjoy -\r\n",
        "\r\n",
        "&nbsp;\r\n",
        "\r\n",
        "&nbsp;\r\n",
        "\r\n",
        "<a href=\"http://artcontrol.me/wp-content/uploads/2014/06/june-temp-line.png\"><img class=\"aligncenter size-large wp-image-5766\" alt=\"june-temp-line\" src=\"http://artcontrol.me/wp-content/uploads/2014/06/june-temp-line-1024x682.png\" width=\"720\" height=\"479\" /></a>\u00a0 <a href=\"http://artcontrol.me/wp-content/uploads/2014/06/june-gabbsterr-line.png\"><img class=\"aligncenter size-large wp-image-5769\" alt=\"june-gabbsterr-line\" src=\"http://artcontrol.me/wp-content/uploads/2014/06/june-gabbsterr-line-1024x682.png\" width=\"720\" height=\"479\" /></a><a href=\"http://artcontrol.me/wp-content/uploads/2014/06/june-gabbsterr-bw.png\"><img class=\"aligncenter size-large wp-image-5768\" alt=\"june-gabbsterr-bw\" src=\"http://artcontrol.me/wp-content/uploads/2014/06/june-gabbsterr-bw-1024x682.png\" width=\"720\" height=\"479\" /></a><a href=\"http://artcontrol.me/wp-content/uploads/2014/06/june-gabbsterr-color.png\"><img class=\"aligncenter size-large wp-image-5767\" alt=\"june-gabbsterr-color\" src=\"http://artcontrol.me/wp-content/uploads/2014/06/june-gabbsterr-color-1024x682.png\" width=\"720\" height=\"479\" /></a>\u00a0<a href=\"http://artcontrol.me/wp-content/uploads/2014/06/june-sidelook-line.png\"><img class=\"aligncenter size-large wp-image-5771\" alt=\"june-sidelook-line\" src=\"http://artcontrol.me/wp-content/uploads/2014/06/june-sidelook-line-1024x682.png\" width=\"720\" height=\"479\" /></a> <a href=\"http://artcontrol.me/wp-content/uploads/2014/06/june-sidelook-bw.png\"><img class=\"aligncenter size-large wp-image-5770\" alt=\"june-sidelook-bw\" src=\"http://artcontrol.me/wp-content/uploads/2014/06/june-sidelook-bw-1024x682.png\" width=\"720\" height=\"479\" /></a>\n"
       ]
      }
     ],
     "prompt_number": 8
    },
    {
     "cell_type": "code",
     "collapsed": false,
     "input": [
      "from bs4 import BeautifulSoup"
     ],
     "language": "python",
     "metadata": {},
     "outputs": [],
     "prompt_number": 9
    },
    {
     "cell_type": "code",
     "collapsed": false,
     "input": [
      "postData = BeautifulSoup(areArt)\n",
      "#print postData\n",
      "\n",
      "linkData = postData.find_all('a')\n",
      "print linkData[0]"
     ],
     "language": "python",
     "metadata": {},
     "outputs": [
      {
       "output_type": "stream",
       "stream": "stdout",
       "text": [
        "<a href=\"http://artcontrol.me/wp-content/uploads/2014/06/june-temp-line.png\"><img alt=\"june-temp-line\" class=\"aligncenter size-large wp-image-5766\" height=\"479\" src=\"http://artcontrol.me/wp-content/uploads/2014/06/june-temp-line-1024x682.png\" width=\"720\"/></a>\n"
       ]
      }
     ],
     "prompt_number": 10
    },
    {
     "cell_type": "code",
     "collapsed": false,
     "input": [
      "for link in postData.find_all('a'):\n",
      "    print(link.get('href'))"
     ],
     "language": "python",
     "metadata": {},
     "outputs": [
      {
       "output_type": "stream",
       "stream": "stdout",
       "text": [
        "http://artcontrol.me/wp-content/uploads/2014/06/june-temp-line.png\n",
        "http://artcontrol.me/wp-content/uploads/2014/06/june-gabbsterr-line.png\n",
        "http://artcontrol.me/wp-content/uploads/2014/06/june-gabbsterr-bw.png\n",
        "http://artcontrol.me/wp-content/uploads/2014/06/june-gabbsterr-color.png\n",
        "http://artcontrol.me/wp-content/uploads/2014/06/june-sidelook-line.png\n",
        "http://artcontrol.me/wp-content/uploads/2014/06/june-sidelook-bw.png\n"
       ]
      }
     ],
     "prompt_number": 11
    },
    {
     "cell_type": "code",
     "collapsed": false,
     "input": [
      "txtzData = (postData.get_text())\n",
      "\n",
      "print imgzData\n",
      "\n"
     ],
     "language": "python",
     "metadata": {},
     "outputs": [
      {
       "ename": "NameError",
       "evalue": "name 'imgzData' is not defined",
       "output_type": "pyerr",
       "traceback": [
        "\u001b[1;31m---------------------------------------------------------------------------\u001b[0m\n\u001b[1;31mNameError\u001b[0m                                 Traceback (most recent call last)",
        "\u001b[1;32m<ipython-input-12-b427047460bb>\u001b[0m in \u001b[0;36m<module>\u001b[1;34m()\u001b[0m\n\u001b[0;32m      1\u001b[0m \u001b[0mtxtzData\u001b[0m \u001b[1;33m=\u001b[0m \u001b[1;33m(\u001b[0m\u001b[0mpostData\u001b[0m\u001b[1;33m.\u001b[0m\u001b[0mget_text\u001b[0m\u001b[1;33m(\u001b[0m\u001b[1;33m)\u001b[0m\u001b[1;33m)\u001b[0m\u001b[1;33m\u001b[0m\u001b[0m\n\u001b[0;32m      2\u001b[0m \u001b[1;33m\u001b[0m\u001b[0m\n\u001b[1;32m----> 3\u001b[1;33m \u001b[1;32mprint\u001b[0m \u001b[0mimgzData\u001b[0m\u001b[1;33m\u001b[0m\u001b[0m\n\u001b[0m\u001b[0;32m      4\u001b[0m \u001b[1;33m\u001b[0m\u001b[0m\n",
        "\u001b[1;31mNameError\u001b[0m: name 'imgzData' is not defined"
       ]
      }
     ],
     "prompt_number": 12
    },
    {
     "cell_type": "code",
     "collapsed": false,
     "input": [
      "tlahArt = getArt['title']\n",
      "print tlahArt"
     ],
     "language": "python",
     "metadata": {},
     "outputs": []
    },
    {
     "cell_type": "code",
     "collapsed": false,
     "input": [
      "dictData = {'imgz': linkData, 'text': txtzData}\n",
      "\n",
      "print dictData"
     ],
     "language": "python",
     "metadata": {},
     "outputs": []
    },
    {
     "cell_type": "code",
     "collapsed": false,
     "input": [
      "getArt = requests.get('http://artcontrol.me/?wpapi=get_posts&dev=0')\n",
      "jsnArt = json.loads(getArt.text)\n",
      "print jsnArt"
     ],
     "language": "python",
     "metadata": {},
     "outputs": []
    },
    {
     "cell_type": "code",
     "collapsed": false,
     "input": [
      "print titArtpoArt = jsnArt['posts']\n",
      "titArt =  poArt[0]\n",
      "print titArt"
     ],
     "language": "python",
     "metadata": {},
     "outputs": []
    },
    {
     "cell_type": "code",
     "collapsed": false,
     "input": [
      "yaeArt = len(titArt)\n",
      "print yaeArt"
     ],
     "language": "python",
     "metadata": {},
     "outputs": []
    },
    {
     "cell_type": "markdown",
     "metadata": {},
     "source": [
      "How can I get these 16 results in a list?"
     ]
    },
    {
     "cell_type": "markdown",
     "metadata": {},
     "source": [
      "After some thought I just made a list manually. This needs to be fixed to auto collect\n",
      "these items"
     ]
    },
    {
     "cell_type": "code",
     "collapsed": false,
     "input": [
      "lipArt = ('name','parent','title','url','author','excerpt','slug','comment_count','tag',\n",
      "          'date','type','page','id','comment_status')"
     ],
     "language": "python",
     "metadata": {},
     "outputs": []
    },
    {
     "cell_type": "code",
     "collapsed": false,
     "input": [
      "print lipArt"
     ],
     "language": "python",
     "metadata": {},
     "outputs": [
      {
       "ename": "NameError",
       "evalue": "name 'lipArt' is not defined",
       "output_type": "pyerr",
       "traceback": [
        "\u001b[1;31m---------------------------------------------------------------------------\u001b[0m\n\u001b[1;31mNameError\u001b[0m                                 Traceback (most recent call last)",
        "\u001b[1;32m<ipython-input-13-9e45d057845e>\u001b[0m in \u001b[0;36m<module>\u001b[1;34m()\u001b[0m\n\u001b[1;32m----> 1\u001b[1;33m \u001b[1;32mprint\u001b[0m \u001b[0mlipArt\u001b[0m\u001b[1;33m\u001b[0m\u001b[0m\n\u001b[0m",
        "\u001b[1;31mNameError\u001b[0m: name 'lipArt' is not defined"
       ]
      }
     ],
     "prompt_number": 13
    },
    {
     "cell_type": "code",
     "collapsed": false,
     "input": [
      "contArt = len(lipArt)"
     ],
     "language": "python",
     "metadata": {},
     "outputs": [
      {
       "ename": "NameError",
       "evalue": "name 'lipArt' is not defined",
       "output_type": "pyerr",
       "traceback": [
        "\u001b[1;31m---------------------------------------------------------------------------\u001b[0m\n\u001b[1;31mNameError\u001b[0m                                 Traceback (most recent call last)",
        "\u001b[1;32m<ipython-input-14-9c62bdfd414a>\u001b[0m in \u001b[0;36m<module>\u001b[1;34m()\u001b[0m\n\u001b[1;32m----> 1\u001b[1;33m \u001b[0mcontArt\u001b[0m \u001b[1;33m=\u001b[0m \u001b[0mlen\u001b[0m\u001b[1;33m(\u001b[0m\u001b[0mlipArt\u001b[0m\u001b[1;33m)\u001b[0m\u001b[1;33m\u001b[0m\u001b[0m\n\u001b[0m",
        "\u001b[1;31mNameError\u001b[0m: name 'lipArt' is not defined"
       ]
      }
     ],
     "prompt_number": 14
    },
    {
     "cell_type": "code",
     "collapsed": false,
     "input": [
      "print contArt"
     ],
     "language": "python",
     "metadata": {},
     "outputs": [
      {
       "ename": "NameError",
       "evalue": "name 'contArt' is not defined",
       "output_type": "pyerr",
       "traceback": [
        "\u001b[1;31m---------------------------------------------------------------------------\u001b[0m\n\u001b[1;31mNameError\u001b[0m                                 Traceback (most recent call last)",
        "\u001b[1;32m<ipython-input-15-0bd8efadf478>\u001b[0m in \u001b[0;36m<module>\u001b[1;34m()\u001b[0m\n\u001b[1;32m----> 1\u001b[1;33m \u001b[1;32mprint\u001b[0m \u001b[0mcontArt\u001b[0m\u001b[1;33m\u001b[0m\u001b[0m\n\u001b[0m",
        "\u001b[1;31mNameError\u001b[0m: name 'contArt' is not defined"
       ]
      }
     ],
     "prompt_number": 15
    },
    {
     "cell_type": "code",
     "collapsed": false,
     "input": [
      "randArt = random.randint(0,14)"
     ],
     "language": "python",
     "metadata": {},
     "outputs": [
      {
       "ename": "NameError",
       "evalue": "name 'random' is not defined",
       "output_type": "pyerr",
       "traceback": [
        "\u001b[1;31m---------------------------------------------------------------------------\u001b[0m\n\u001b[1;31mNameError\u001b[0m                                 Traceback (most recent call last)",
        "\u001b[1;32m<ipython-input-16-4afa217b9756>\u001b[0m in \u001b[0;36m<module>\u001b[1;34m()\u001b[0m\n\u001b[1;32m----> 1\u001b[1;33m \u001b[0mrandArt\u001b[0m \u001b[1;33m=\u001b[0m \u001b[0mrandom\u001b[0m\u001b[1;33m.\u001b[0m\u001b[0mrandint\u001b[0m\u001b[1;33m(\u001b[0m\u001b[1;36m0\u001b[0m\u001b[1;33m,\u001b[0m\u001b[1;36m14\u001b[0m\u001b[1;33m)\u001b[0m\u001b[1;33m\u001b[0m\u001b[0m\n\u001b[0m",
        "\u001b[1;31mNameError\u001b[0m: name 'random' is not defined"
       ]
      }
     ],
     "prompt_number": 16
    },
    {
     "cell_type": "code",
     "collapsed": false,
     "input": [
      "jerArt = lipArt[randArt]\n",
      "print jerArt"
     ],
     "language": "python",
     "metadata": {},
     "outputs": []
    },
    {
     "cell_type": "code",
     "collapsed": false,
     "input": [
      "repArt = titArt[jerArt]\n",
      "print repArt"
     ],
     "language": "python",
     "metadata": {},
     "outputs": []
    },
    {
     "cell_type": "code",
     "collapsed": false,
     "input": [
      "titleArt = titArt['title']\n",
      "print titleArt"
     ],
     "language": "python",
     "metadata": {},
     "outputs": []
    },
    {
     "cell_type": "code",
     "collapsed": false,
     "input": [
      "extrArt = titArt['excerpt']\n",
      "print extrArt"
     ],
     "language": "python",
     "metadata": {},
     "outputs": []
    },
    {
     "cell_type": "code",
     "collapsed": false,
     "input": [
      "dateArt = titArt['date']\n",
      "print dateArt"
     ],
     "language": "python",
     "metadata": {},
     "outputs": []
    }
   ],
   "metadata": {}
  }
 ]
}