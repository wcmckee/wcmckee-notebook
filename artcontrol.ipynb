{
 "cells": [
  {
   "cell_type": "markdown",
   "metadata": {},
   "source": [
    "# ArtControl.me Python Development"
   ]
  },
  {
   "cell_type": "code",
   "execution_count": 1,
   "metadata": {
    "collapsed": false
   },
   "outputs": [],
   "source": [
    "import requests\n",
    "import json"
   ]
  },
  {
   "cell_type": "code",
   "execution_count": 4,
   "metadata": {
    "collapsed": false
   },
   "outputs": [],
   "source": [
    "webArt = ('http://artcontrol.me/?wpapi=search&dev=1&keyword=post&count=2&page=1&content=1')"
   ]
  },
  {
   "cell_type": "code",
   "execution_count": 7,
   "metadata": {
    "collapsed": false
   },
   "outputs": [],
   "source": [
    "dawArt = requests.get(webArt)\n"
   ]
  },
  {
   "cell_type": "code",
   "execution_count": 8,
   "metadata": {
    "collapsed": false
   },
   "outputs": [
    {
     "name": "stdout",
     "output_type": "stream",
     "text": [
      "{u'status': u'ok', u'count': u'2', u'count_total': 10, u'posts': [{u'status': u'publish', u'category': [{u'term_group': 0, u'count': 84, u'name': u'Digital Painting', u'parent': 0, u'term_id': 169, u'cat_ID': 169, u'category_description': u'', u'category_parent': 0, u'object_id': 6152, u'filter': u'raw', u'category_count': 84, u'term_taxonomy_id': 181, u'cat_name': u'Digital Painting', u'taxonomy': u'category', u'category_nicename': u'digpaint', u'slug': u'digpaint', u'description': u''}, {u'term_group': 0, u'count': 33, u'name': u'RedditGetsDrawn', u'parent': 169, u'term_id': 170, u'cat_ID': 170, u'category_description': u'', u'category_parent': 169, u'object_id': 6152, u'filter': u'raw', u'category_count': 33, u'term_taxonomy_id': 182, u'cat_name': u'RedditGetsDrawn', u'taxonomy': u'category', u'category_nicename': u'redditgetsdrawn-digpaint', u'slug': u'redditgetsdrawn-digpaint', u'description': u''}], u'name': u'lana-gestdrawn', u'parent': u'0', u'title': u'lana getsdrawn', u'url': u'http://artcontrol.me/?p=6152', u'author': [{u'first_name': u'Will', u'last_name': u'mckee', u'name': u'Will', u'nicename': u'wmckee', u'url': u'', u'slug': u'wmckee', u'gravatar': u'http://www.gravatar.com/avatar/5e2931ce807064cea9fc263f5346ad86?s=100&d=mm&r=g', u'id': u'1', u'description': u''}], u'excerpt': u\"Happy New Year.\\r\\nHere's the first post of 2015.\\r\\nA series of GetsDrawn digital painting works. Three layers - line, grayscale, colour.\\r\\n\\r\\n\\r\\n\\r\\n&nbsp;\\r\\n\\r\\nLine. Square spiky\", u'modified': u'2015-01-02 20:24:22', u'slug': u'lana getsdrawn', u'content': u'Happy New Year.\\r\\nHere\\'s the first post of 2015.\\r\\nA series of GetsDrawn digital painting works. Three layers - line, grayscale, colour.\\r\\n\\r\\n<a href=\"http://artcontrol.me/wp-content/uploads/2015/01/kieraJo-line.png\"><img class=\"aligncenter size-large wp-image-6158\" src=\"http://artcontrol.me/wp-content/uploads/2015/01/kieraJo-line-1024x724.png\" alt=\"kieraJo-line\" width=\"788\" height=\"557\" /></a>\\r\\n\\r\\n&nbsp;\\r\\n\\r\\nLine. Square spiky landmasses. Below - water. Curly hair is a focus in the portrait. Eyes are large. Neck and should simple.\\r\\n\\r\\n<a href=\"http://artcontrol.me/wp-content/uploads/2015/01/kieraJo-bw.png\"><img class=\"aligncenter size-large wp-image-6156\" src=\"http://artcontrol.me/wp-content/uploads/2015/01/kieraJo-bw-1024x724.png\" alt=\"kieraJo-bw\" width=\"788\" height=\"557\" /></a>Simple light background with dark landmasses. Below the water is medium. Hair a mixture of dark, medium and light. Tones in face, light. Neck and shoulder are dark.\\r\\n\\r\\n<a href=\"http://artcontrol.me/wp-content/uploads/2015/01/kieraJo-color.png\"><img class=\"aligncenter size-large wp-image-6157\" src=\"http://artcontrol.me/wp-content/uploads/2015/01/kieraJo-color-1024x724.png\" alt=\"kieraJo-color\" width=\"788\" height=\"557\" /></a>Red hair, eyes, lips. Yellow skin. Blue sky/landmass. Green water.\\r\\n\\r\\n<a href=\"http://artcontrol.me/wp-content/uploads/2015/01/msos-line.png\"><img class=\"aligncenter size-large wp-image-6155\" src=\"http://artcontrol.me/wp-content/uploads/2015/01/msos-line-1024x724.png\" alt=\"msos-line\" width=\"788\" height=\"557\" /></a>\\r\\n\\r\\nDeveloping the landmass in the distance to a building. Spikes still everywhere. Cute frekles on her face. Her hair is wavery. Water drifting on the bottom third.\\r\\n\\r\\n<a href=\"http://artcontrol.me/wp-content/uploads/2015/01/msos-bw.png\"><img class=\"aligncenter size-large wp-image-6153\" src=\"http://artcontrol.me/wp-content/uploads/2015/01/msos-bw-1024x724.png\" alt=\"msos-bw\" width=\"788\" height=\"557\" /></a>\\r\\n\\r\\nMerging the background landmass and sky into the portrait. Skin tones light, slightly darker for the freckles. Dark for background. Light for water.\\r\\n\\r\\n<a href=\"http://artcontrol.me/wp-content/uploads/2015/01/msos-color.png\"><img class=\"aligncenter size-large wp-image-6154\" src=\"http://artcontrol.me/wp-content/uploads/2015/01/msos-color-1024x724.png\" alt=\"msos-color\" width=\"788\" height=\"557\" /></a>\\r\\n\\r\\nColour helps differ the portrait from the background. Yellow for the skin tones, along with the doors on the building in the distance. Red for hair, eyes, and mouth. Green for the water.\\r\\n\\r\\n<a href=\"http://artcontrol.me/wp-content/uploads/2015/01/logathion-line.png\"><img class=\"aligncenter size-large wp-image-6151\" src=\"http://artcontrol.me/wp-content/uploads/2015/01/logathion-line-1024x724.png\" alt=\"logathion-line\" width=\"788\" height=\"557\" /></a>\\r\\n\\r\\nTwo portraits. Glasses are always enjoyable - part of the reason I choose this. Simple spiky landmass with spike sun. Plain nothing for below the line.\\r\\n\\r\\n<a href=\"http://artcontrol.me/wp-content/uploads/2015/01/logathion-bw.png\"><img class=\"aligncenter size-large wp-image-6149\" src=\"http://artcontrol.me/wp-content/uploads/2015/01/logathion-bw-1024x724.png\" alt=\"logathion-bw\" width=\"788\" height=\"557\" /></a>\\r\\n\\r\\nThe tonal grayscale layer is simple. Ignored the water and clothing areas. Hair was dark and medium skin tones. Medium for landmass/sky. Hair is the darkest area.\\r\\n\\r\\n<a href=\"http://artcontrol.me/wp-content/uploads/2015/01/logathion-color.png\"><img class=\"aligncenter size-large wp-image-6150\" src=\"http://artcontrol.me/wp-content/uploads/2015/01/logathion-color-1024x724.png\" alt=\"logathion-color\" width=\"788\" height=\"557\" /></a>\\r\\n\\r\\nMixing it up with a very light red for the blonde on the right. Blue for the sky and landmass. Missed yellow on the necks.\\r\\n\\r\\n<a href=\"http://artcontrol.me/wp-content/uploads/2015/01/lanadelrey-line.png\"><img class=\"aligncenter size-large wp-image-6148\" src=\"http://artcontrol.me/wp-content/uploads/2015/01/lanadelrey-line-1024x724.png\" alt=\"lanadelrey-line\" width=\"788\" height=\"557\" /></a>\\r\\n\\r\\nCircus wheel happening on the left in the distance. The reference was a photograph portrait of Lana Del Rey. Spikely landmass. An ocean flows into the foreground. <a href=\"http://artcontrol.me/wp-content/uploads/2015/01/lanadelrey-bw.png\"><img class=\"aligncenter size-large wp-image-6146\" src=\"http://artcontrol.me/wp-content/uploads/2015/01/lanadelrey-bw-1024x724.png\" alt=\"lanadelrey-bw\" width=\"788\" height=\"557\" /></a>\\r\\n\\r\\nLight for the portrait. Dark for the key landmass in distance - wheel, spikes, and small islands. Medium dark for the ocean.\\r\\n\\r\\n&nbsp;\\r\\n\\r\\nRed for hair and eyes. Ignored mouth. Yellow for skin tones. Large brush strokes for the skin. Blue for the sky and landmass. Very dark blue in areas.\\xa0 Green for the water - again a very dark green used.\\xa0 \\xa0\\xa0\\xa0\\xa0\\xa0 <a href=\"http://artcontrol.me/wp-content/uploads/2015/01/lanadelrey-color.png\"><img class=\"aligncenter size-large wp-image-6147\" src=\"http://artcontrol.me/wp-content/uploads/2015/01/lanadelrey-color-1024x724.png\" alt=\"lanadelrey-color\" width=\"788\" height=\"557\" /></a>\\r\\n\\r\\nHope you enjoyed these digital paintings completed in gimp on my Dell laptop running Fedora 21 KDE desktop.', u'comment_count': u'0', u'tag': {u'280': {u'term_group': 0, u'count': 8, u'name': u'getsdrawn', u'parent': 0, u'term_id': 280, u'object_id': 6152, u'filter': u'raw', u'term_taxonomy_id': 304, u'taxonomy': u'post_tag', u'slug': u'getsdrawn', u'description': u''}, u'283': {u'term_group': 0, u'count': 5, u'name': u'colour', u'parent': 0, u'term_id': 283, u'object_id': 6152, u'filter': u'raw', u'term_taxonomy_id': 307, u'taxonomy': u'post_tag', u'slug': u'colour', u'description': u''}, u'59': {u'term_group': 0, u'count': 124, u'name': u'GIMP', u'parent': 0, u'term_id': 59, u'object_id': 6152, u'filter': u'raw', u'term_taxonomy_id': 60, u'taxonomy': u'post_tag', u'slug': u'gimp', u'description': u''}}, u'date': u'2015-01-02 20:24:22', u'type': u'post', u'id': u'6152', u'comment_status': u'open'}, {u'status': u'publish', u'category': [{u'term_group': 0, u'count': 84, u'name': u'Digital Painting', u'parent': 0, u'term_id': 169, u'cat_ID': 169, u'category_description': u'', u'category_parent': 0, u'object_id': 6137, u'filter': u'raw', u'category_count': 84, u'term_taxonomy_id': 181, u'cat_name': u'Digital Painting', u'taxonomy': u'category', u'category_nicename': u'digpaint', u'slug': u'digpaint', u'description': u''}], u'name': u'alibear-autumnwolf-landscapes', u'parent': u'0', u'title': u'alibear autumnwolf landscapes', u'url': u'http://artcontrol.me/?p=6137', u'author': [{u'first_name': u'Will', u'last_name': u'mckee', u'name': u'Will', u'nicename': u'wmckee', u'url': u'', u'slug': u'wmckee', u'gravatar': u'http://www.gravatar.com/avatar/5e2931ce807064cea9fc263f5346ad86?s=100&d=mm&r=g', u'id': u'1', u'description': u''}], u'excerpt': u\"I'm back in Hamilton so back into digital painting. During my trip away I wrote code and drew in a notebook. It's been great to get back into the digital painting. I've\", u'modified': u'2014-12-28 17:11:29', u'slug': u'alibear autumnwolf landscapes', u'content': u'I\\'m back in Hamilton so back into digital painting. During my trip away I wrote code and drew in a notebook. It\\'s been great to get back into the digital painting. I\\'ve created two words so far:<a href=\"http://artcontrol.me/wp-content/uploads/2014/12/alibear-line.png\"><img class=\"aligncenter size-large wp-image-6140\" src=\"http://artcontrol.me/wp-content/uploads/2014/12/alibear-line-1024x724.png\" alt=\"alibear-line\" width=\"788\" height=\"557\" /></a>\\r\\n\\r\\n&nbsp;\\r\\n\\r\\nThis girl wanted turned into an Elf. I drew the giant ear she is wearing into her face. In the background, a landscape. No clouds in the sky, instead just a sun with messy spikes. Water is below.\\r\\n\\r\\n<a href=\"http://artcontrol.me/wp-content/uploads/2014/12/alibear-color.png\"><img class=\"aligncenter size-large wp-image-6139\" src=\"http://artcontrol.me/wp-content/uploads/2014/12/alibear-color-1024x724.png\" alt=\"alibear-color\" width=\"788\" height=\"557\" /></a>\\r\\n\\r\\nGrayscale tonal layer. Light skintones. Light water and sun. Medium background with dark landmass. The rightside landmass is textured nicely.\\r\\n\\r\\nI had done a colour layer for this but saved over it with the grayscale. It\\'s at home and I don\\'t have access to it now. I\\'ll see how I go updating this post later. Other option is to not worry about it.\\r\\n\\r\\n<a href=\"http://artcontrol.me/wp-content/uploads/2014/12/autumnwolfmoon89-line.png\"><img class=\"aligncenter size-large wp-image-6143\" src=\"http://artcontrol.me/wp-content/uploads/2014/12/autumnwolfmoon89-line-1024x724.png\" alt=\"autumnwolfmoon89-line\" width=\"788\" height=\"557\" /></a>\\r\\n\\r\\nThe Nightmare Before Christmas. Jack Skellington is in the middle. Two people huddled around him. Horizon line down the bottom third. Similar block shapes being built up to the previous painting. These are larger and more square like than the usual spiky landmass.\\r\\n\\r\\n<a href=\"http://artcontrol.me/wp-content/uploads/2014/12/autumnwolfmoon89-bw.png\"><img class=\"aligncenter size-large wp-image-6141\" src=\"http://artcontrol.me/wp-content/uploads/2014/12/autumnwolfmoon89-bw-1024x724.png\" alt=\"autumnwolfmoon89-bw\" width=\"788\" height=\"557\" /></a>\\r\\n\\r\\nGrayscale. Keeping it simple and not worrying about detail - just capturing those lights and darks. Her face in partical is simple - the nose and mouth has been left out. Only two eyes stare out. Light for the skintones and dark for the clothing and hair. Light for the water and medium for the sky. Instead of going with small clouds, the sky is split with areas of zig zags.\\r\\n\\r\\n<a href=\"http://artcontrol.me/wp-content/uploads/2014/12/autumnwolfmoon89-color.png\"><img class=\"aligncenter size-large wp-image-6142\" src=\"http://artcontrol.me/wp-content/uploads/2014/12/autumnwolfmoon89-color-1024x724.png\" alt=\"autumnwolfmoon89-color\" width=\"788\" height=\"557\" /></a>\\r\\n\\r\\nColour. Yellow for skin, red for hair and dark areas of clothing. Much of the clothing areas have been left alone. Blue for the sky, with a dark blue for darker areas of the sky. Green for the water.\\r\\n\\r\\n&nbsp;', u'comment_count': u'0', u'tag': {u'280': {u'term_group': 0, u'count': 8, u'name': u'getsdrawn', u'parent': 0, u'term_id': 280, u'object_id': 6137, u'filter': u'raw', u'term_taxonomy_id': 304, u'taxonomy': u'post_tag', u'slug': u'getsdrawn', u'description': u''}, u'59': {u'term_group': 0, u'count': 124, u'name': u'GIMP', u'parent': 0, u'term_id': 59, u'object_id': 6137, u'filter': u'raw', u'term_taxonomy_id': 60, u'taxonomy': u'post_tag', u'slug': u'gimp', u'description': u''}}, u'date': u'2014-12-28 17:11:29', u'type': u'post', u'id': u'6137', u'comment_status': u'open'}], u'currPage': 1, u'pages': 5}\n"
     ]
    }
   ],
   "source": [
    "jawArt = json.loads(dawArt.text)\n",
    "print jawArt"
   ]
  },
  {
   "cell_type": "code",
   "execution_count": 9,
   "metadata": {
    "collapsed": false
   },
   "outputs": [],
   "source": [
    "lodArt = jawArt['posts']"
   ]
  },
  {
   "cell_type": "markdown",
   "metadata": {},
   "source": [
    "print lodArt[1]"
   ]
  },
  {
   "cell_type": "code",
   "execution_count": 10,
   "metadata": {
    "collapsed": false
   },
   "outputs": [
    {
     "name": "stdout",
     "output_type": "stream",
     "text": [
      "I'm back in Hamilton so back into digital painting. During my trip away I wrote code and drew in a notebook. It's been great to get back into the digital painting. I've created two words so far:<a href=\"http://artcontrol.me/wp-content/uploads/2014/12/alibear-line.png\"><img class=\"aligncenter size-large wp-image-6140\" src=\"http://artcontrol.me/wp-content/uploads/2014/12/alibear-line-1024x724.png\" alt=\"alibear-line\" width=\"788\" height=\"557\" /></a>\r\n",
      "\r\n",
      "&nbsp;\r\n",
      "\r\n",
      "This girl wanted turned into an Elf. I drew the giant ear she is wearing into her face. In the background, a landscape. No clouds in the sky, instead just a sun with messy spikes. Water is below.\r\n",
      "\r\n",
      "<a href=\"http://artcontrol.me/wp-content/uploads/2014/12/alibear-color.png\"><img class=\"aligncenter size-large wp-image-6139\" src=\"http://artcontrol.me/wp-content/uploads/2014/12/alibear-color-1024x724.png\" alt=\"alibear-color\" width=\"788\" height=\"557\" /></a>\r\n",
      "\r\n",
      "Grayscale tonal layer. Light skintones. Light water and sun. Medium background with dark landmass. The rightside landmass is textured nicely.\r\n",
      "\r\n",
      "I had done a colour layer for this but saved over it with the grayscale. It's at home and I don't have access to it now. I'll see how I go updating this post later. Other option is to not worry about it.\r\n",
      "\r\n",
      "<a href=\"http://artcontrol.me/wp-content/uploads/2014/12/autumnwolfmoon89-line.png\"><img class=\"aligncenter size-large wp-image-6143\" src=\"http://artcontrol.me/wp-content/uploads/2014/12/autumnwolfmoon89-line-1024x724.png\" alt=\"autumnwolfmoon89-line\" width=\"788\" height=\"557\" /></a>\r\n",
      "\r\n",
      "The Nightmare Before Christmas. Jack Skellington is in the middle. Two people huddled around him. Horizon line down the bottom third. Similar block shapes being built up to the previous painting. These are larger and more square like than the usual spiky landmass.\r\n",
      "\r\n",
      "<a href=\"http://artcontrol.me/wp-content/uploads/2014/12/autumnwolfmoon89-bw.png\"><img class=\"aligncenter size-large wp-image-6141\" src=\"http://artcontrol.me/wp-content/uploads/2014/12/autumnwolfmoon89-bw-1024x724.png\" alt=\"autumnwolfmoon89-bw\" width=\"788\" height=\"557\" /></a>\r\n",
      "\r\n",
      "Grayscale. Keeping it simple and not worrying about detail - just capturing those lights and darks. Her face in partical is simple - the nose and mouth has been left out. Only two eyes stare out. Light for the skintones and dark for the clothing and hair. Light for the water and medium for the sky. Instead of going with small clouds, the sky is split with areas of zig zags.\r\n",
      "\r\n",
      "<a href=\"http://artcontrol.me/wp-content/uploads/2014/12/autumnwolfmoon89-color.png\"><img class=\"aligncenter size-large wp-image-6142\" src=\"http://artcontrol.me/wp-content/uploads/2014/12/autumnwolfmoon89-color-1024x724.png\" alt=\"autumnwolfmoon89-color\" width=\"788\" height=\"557\" /></a>\r\n",
      "\r\n",
      "Colour. Yellow for skin, red for hair and dark areas of clothing. Much of the clothing areas have been left alone. Blue for the sky, with a dark blue for darker areas of the sky. Green for the water.\r\n",
      "\r\n",
      "&nbsp;\n"
     ]
    }
   ],
   "source": [
    "#print lodArt[0]\n",
    "\n",
    "behArt = lodArt[1]\n",
    "\n",
    "areArt = behArt['content']\n",
    "print areArt"
   ]
  },
  {
   "cell_type": "code",
   "execution_count": 11,
   "metadata": {
    "collapsed": false
   },
   "outputs": [],
   "source": [
    "from bs4 import BeautifulSoup"
   ]
  },
  {
   "cell_type": "code",
   "execution_count": 12,
   "metadata": {
    "collapsed": false
   },
   "outputs": [
    {
     "name": "stdout",
     "output_type": "stream",
     "text": [
      "<a href=\"http://artcontrol.me/wp-content/uploads/2014/12/alibear-line.png\"><img alt=\"alibear-line\" class=\"aligncenter size-large wp-image-6140\" height=\"557\" src=\"http://artcontrol.me/wp-content/uploads/2014/12/alibear-line-1024x724.png\" width=\"788\"/></a>\n"
     ]
    }
   ],
   "source": [
    "postData = BeautifulSoup(areArt)\n",
    "#print postData\n",
    "\n",
    "linkData = postData.find_all('a')\n",
    "print linkData[0]"
   ]
  },
  {
   "cell_type": "code",
   "execution_count": 13,
   "metadata": {
    "collapsed": false
   },
   "outputs": [
    {
     "name": "stdout",
     "output_type": "stream",
     "text": [
      "http://artcontrol.me/wp-content/uploads/2014/12/alibear-line.png\n",
      "http://artcontrol.me/wp-content/uploads/2014/12/alibear-color.png\n",
      "http://artcontrol.me/wp-content/uploads/2014/12/autumnwolfmoon89-line.png\n",
      "http://artcontrol.me/wp-content/uploads/2014/12/autumnwolfmoon89-bw.png\n",
      "http://artcontrol.me/wp-content/uploads/2014/12/autumnwolfmoon89-color.png\n"
     ]
    }
   ],
   "source": [
    "for link in postData.find_all('a'):\n",
    "    print(link.get('href'))"
   ]
  },
  {
   "cell_type": "code",
   "execution_count": 14,
   "metadata": {
    "collapsed": false
   },
   "outputs": [
    {
     "ename": "NameError",
     "evalue": "name 'imgzData' is not defined",
     "output_type": "error",
     "traceback": [
      "\u001b[1;31m---------------------------------------------------------------------------\u001b[0m",
      "\u001b[1;31mNameError\u001b[0m                                 Traceback (most recent call last)",
      "\u001b[1;32m<ipython-input-14-b427047460bb>\u001b[0m in \u001b[0;36m<module>\u001b[1;34m()\u001b[0m\n\u001b[0;32m      1\u001b[0m \u001b[0mtxtzData\u001b[0m \u001b[1;33m=\u001b[0m \u001b[1;33m(\u001b[0m\u001b[0mpostData\u001b[0m\u001b[1;33m.\u001b[0m\u001b[0mget_text\u001b[0m\u001b[1;33m(\u001b[0m\u001b[1;33m)\u001b[0m\u001b[1;33m)\u001b[0m\u001b[1;33m\u001b[0m\u001b[0m\n\u001b[0;32m      2\u001b[0m \u001b[1;33m\u001b[0m\u001b[0m\n\u001b[1;32m----> 3\u001b[1;33m \u001b[1;32mprint\u001b[0m \u001b[0mimgzData\u001b[0m\u001b[1;33m\u001b[0m\u001b[0m\n\u001b[0m\u001b[0;32m      4\u001b[0m \u001b[1;33m\u001b[0m\u001b[0m\n",
      "\u001b[1;31mNameError\u001b[0m: name 'imgzData' is not defined"
     ]
    }
   ],
   "source": [
    "txtzData = (postData.get_text())\n",
    "\n",
    "print imgzData\n",
    "\n"
   ]
  },
  {
   "cell_type": "code",
   "execution_count": null,
   "metadata": {
    "collapsed": false
   },
   "outputs": [],
   "source": [
    "tlahArt = getArt['title']\n",
    "print tlahArt"
   ]
  },
  {
   "cell_type": "code",
   "execution_count": null,
   "metadata": {
    "collapsed": false
   },
   "outputs": [],
   "source": [
    "dictData = {'imgz': linkData, 'text': txtzData}\n",
    "\n",
    "print dictData"
   ]
  },
  {
   "cell_type": "code",
   "execution_count": null,
   "metadata": {
    "collapsed": false
   },
   "outputs": [],
   "source": [
    "getArt = requests.get('http://artcontrol.me/?wpapi=get_posts&dev=0')\n",
    "jsnArt = json.loads(getArt.text)\n",
    "print jsnArt"
   ]
  },
  {
   "cell_type": "code",
   "execution_count": null,
   "metadata": {
    "collapsed": false
   },
   "outputs": [],
   "source": [
    "print titArtpoArt = jsnArt['posts']\n",
    "titArt =  poArt[0]\n",
    "print titArt"
   ]
  },
  {
   "cell_type": "code",
   "execution_count": null,
   "metadata": {
    "collapsed": false
   },
   "outputs": [],
   "source": [
    "yaeArt = len(titArt)\n",
    "print yaeArt"
   ]
  },
  {
   "cell_type": "markdown",
   "metadata": {},
   "source": [
    "How can I get these 16 results in a list?"
   ]
  },
  {
   "cell_type": "markdown",
   "metadata": {},
   "source": [
    "After some thought I just made a list manually. This needs to be fixed to auto collect\n",
    "these items"
   ]
  },
  {
   "cell_type": "code",
   "execution_count": null,
   "metadata": {
    "collapsed": false
   },
   "outputs": [],
   "source": [
    "lipArt = ('name','parent','title','url','author','excerpt','slug','comment_count','tag',\n",
    "          'date','type','page','id','comment_status')"
   ]
  },
  {
   "cell_type": "code",
   "execution_count": null,
   "metadata": {
    "collapsed": false
   },
   "outputs": [],
   "source": [
    "print lipArt"
   ]
  },
  {
   "cell_type": "code",
   "execution_count": null,
   "metadata": {
    "collapsed": false
   },
   "outputs": [],
   "source": [
    "contArt = len(lipArt)"
   ]
  },
  {
   "cell_type": "code",
   "execution_count": null,
   "metadata": {
    "collapsed": false
   },
   "outputs": [],
   "source": [
    "print contArt"
   ]
  },
  {
   "cell_type": "code",
   "execution_count": null,
   "metadata": {
    "collapsed": false
   },
   "outputs": [],
   "source": [
    "randArt = random.randint(0,14)"
   ]
  },
  {
   "cell_type": "code",
   "execution_count": null,
   "metadata": {
    "collapsed": false
   },
   "outputs": [],
   "source": [
    "jerArt = lipArt[randArt]\n",
    "print jerArt"
   ]
  },
  {
   "cell_type": "code",
   "execution_count": null,
   "metadata": {
    "collapsed": false
   },
   "outputs": [],
   "source": [
    "repArt = titArt[jerArt]\n",
    "print repArt"
   ]
  },
  {
   "cell_type": "code",
   "execution_count": 13,
   "metadata": {
    "collapsed": false
   },
   "outputs": [
    {
     "ename": "NameError",
     "evalue": "name 'titArt' is not defined",
     "output_type": "error",
     "traceback": [
      "\u001b[1;31m---------------------------------------------------------------------------\u001b[0m\n\u001b[1;31mNameError\u001b[0m                                 Traceback (most recent call last)",
      "\u001b[1;32m<ipython-input-13-aa3336836259>\u001b[0m in \u001b[0;36m<module>\u001b[1;34m()\u001b[0m\n\u001b[1;32m----> 1\u001b[1;33m \u001b[0mtitleArt\u001b[0m \u001b[1;33m=\u001b[0m \u001b[0mtitArt\u001b[0m\u001b[1;33m[\u001b[0m\u001b[1;34m'title'\u001b[0m\u001b[1;33m]\u001b[0m\u001b[1;33m\u001b[0m\u001b[0m\n\u001b[0m\u001b[0;32m      2\u001b[0m \u001b[1;32mprint\u001b[0m \u001b[0mtitleArt\u001b[0m\u001b[1;33m\u001b[0m\u001b[0m\n",
      "\u001b[1;31mNameError\u001b[0m: name 'titArt' is not defined"
     ]
    }
   ],
   "source": [
    "titleArt = titArt['title']\n",
    "print titleArt"
   ]
  },
  {
   "cell_type": "code",
   "execution_count": 14,
   "metadata": {
    "collapsed": false
   },
   "outputs": [
    {
     "ename": "NameError",
     "evalue": "name 'titArt' is not defined",
     "output_type": "error",
     "traceback": [
      "\u001b[1;31m---------------------------------------------------------------------------\u001b[0m\n\u001b[1;31mNameError\u001b[0m                                 Traceback (most recent call last)",
      "\u001b[1;32m<ipython-input-14-9c75993f7501>\u001b[0m in \u001b[0;36m<module>\u001b[1;34m()\u001b[0m\n\u001b[1;32m----> 1\u001b[1;33m \u001b[0mextrArt\u001b[0m \u001b[1;33m=\u001b[0m \u001b[0mtitArt\u001b[0m\u001b[1;33m[\u001b[0m\u001b[1;34m'excerpt'\u001b[0m\u001b[1;33m]\u001b[0m\u001b[1;33m\u001b[0m\u001b[0m\n\u001b[0m\u001b[0;32m      2\u001b[0m \u001b[1;32mprint\u001b[0m \u001b[0mextrArt\u001b[0m\u001b[1;33m\u001b[0m\u001b[0m\n",
      "\u001b[1;31mNameError\u001b[0m: name 'titArt' is not defined"
     ]
    }
   ],
   "source": [
    "extrArt = titArt['excerpt']\n",
    "print extrArt"
   ]
  },
  {
   "cell_type": "code",
   "execution_count": 15,
   "metadata": {
    "collapsed": false
   },
   "outputs": [
    {
     "ename": "NameError",
     "evalue": "name 'titArt' is not defined",
     "output_type": "error",
     "traceback": [
      "\u001b[1;31m---------------------------------------------------------------------------\u001b[0m\n\u001b[1;31mNameError\u001b[0m                                 Traceback (most recent call last)",
      "\u001b[1;32m<ipython-input-15-8ebd958c499e>\u001b[0m in \u001b[0;36m<module>\u001b[1;34m()\u001b[0m\n\u001b[1;32m----> 1\u001b[1;33m \u001b[0mdateArt\u001b[0m \u001b[1;33m=\u001b[0m \u001b[0mtitArt\u001b[0m\u001b[1;33m[\u001b[0m\u001b[1;34m'date'\u001b[0m\u001b[1;33m]\u001b[0m\u001b[1;33m\u001b[0m\u001b[0m\n\u001b[0m\u001b[0;32m      2\u001b[0m \u001b[1;32mprint\u001b[0m \u001b[0mdateArt\u001b[0m\u001b[1;33m\u001b[0m\u001b[0m\n",
      "\u001b[1;31mNameError\u001b[0m: name 'titArt' is not defined"
     ]
    }
   ],
   "source": [
    "dateArt = titArt['date']\n",
    "print dateArt"
   ]
  },
  {
   "cell_type": "code",
   "execution_count": null,
   "metadata": {
    "collapsed": false
   },
   "outputs": [],
   "source": []
  }
 ],
 "metadata": {
  "kernelspec": {
   "display_name": "Python 2",
   "name": "python2"
  },
  "language_info": {
   "codemirror_mode": {
    "name": "ipython",
    "version": 2
   },
   "file_extension": ".py",
   "mimetype": "text/x-python",
   "name": "python",
   "nbconvert_exporter": "python",
   "pygments_lexer": "ipython2",
   "version": "2.7.8"
  }
 },
 "nbformat": 4,
 "nbformat_minor": 0
}
