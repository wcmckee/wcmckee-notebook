{
 "cells": [
  {
   "cell_type": "markdown",
   "metadata": {},
   "source": [
    "BroBeur Tweet\n",
    "\n",
    "Sends tweets for brobeur"
   ]
  },
  {
   "cell_type": "code",
   "execution_count": 53,
   "metadata": {
    "collapsed": false
   },
   "outputs": [],
   "source": [
    "from TwitterFollowBot import TwitterBot\n",
    "import praw\n",
    "import random\n"
   ]
  },
  {
   "cell_type": "code",
   "execution_count": 54,
   "metadata": {
    "collapsed": true
   },
   "outputs": [],
   "source": [
    "my_bot = TwitterBot()"
   ]
  },
  {
   "cell_type": "code",
   "execution_count": 56,
   "metadata": {
    "collapsed": true
   },
   "outputs": [],
   "source": [
    "r = praw.Reddit('brobeurtweet')"
   ]
  },
  {
   "cell_type": "code",
   "execution_count": 57,
   "metadata": {
    "collapsed": true
   },
   "outputs": [],
   "source": [
    "subredz = ['DevBlogs', 'gamedev', 'gamejams', 'Games', 'gaming']"
   ]
  },
  {
   "cell_type": "code",
   "execution_count": 58,
   "metadata": {
    "collapsed": false
   },
   "outputs": [],
   "source": [
    "randsubrepo = random.choice(subredz)"
   ]
  },
  {
   "cell_type": "code",
   "execution_count": 59,
   "metadata": {
    "collapsed": false
   },
   "outputs": [],
   "source": [
    "hashthi = ('#' + randsubrepo)"
   ]
  },
  {
   "cell_type": "code",
   "execution_count": 60,
   "metadata": {
    "collapsed": true
   },
   "outputs": [],
   "source": [
    "rgvz = r.get_subreddit(randsubrepo)"
   ]
  },
  {
   "cell_type": "code",
   "execution_count": 61,
   "metadata": {
    "collapsed": false
   },
   "outputs": [],
   "source": [
    "rgtnew = rgvz.get_new"
   ]
  },
  {
   "cell_type": "code",
   "execution_count": 62,
   "metadata": {
    "collapsed": false
   },
   "outputs": [],
   "source": [
    "ransub = rgvz.get_random_submission()"
   ]
  },
  {
   "cell_type": "code",
   "execution_count": 63,
   "metadata": {
    "collapsed": false
   },
   "outputs": [],
   "source": [
    "rantit = ransub.title"
   ]
  },
  {
   "cell_type": "code",
   "execution_count": null,
   "metadata": {
    "collapsed": true
   },
   "outputs": [],
   "source": []
  },
  {
   "cell_type": "code",
   "execution_count": 64,
   "metadata": {
    "collapsed": false
   },
   "outputs": [],
   "source": [
    "randurl = ransub.url"
   ]
  },
  {
   "cell_type": "code",
   "execution_count": 65,
   "metadata": {
    "collapsed": false
   },
   "outputs": [
    {
     "data": {
      "text/plain": [
       "{'contributors': None,\n",
       " 'coordinates': None,\n",
       " 'created_at': 'Sat Aug 08 10:46:02 +0000 2015',\n",
       " 'entities': {'hashtags': [{'indices': [77, 86], 'text': 'DevBlogs'}],\n",
       "  'symbols': [],\n",
       "  'urls': [{'display_url': 'eepurl.com/brajuT',\n",
       "    'expanded_url': 'http://eepurl.com/brajuT',\n",
       "    'indices': [54, 76],\n",
       "    'url': 'http://t.co/2b6IpnpKTH'}],\n",
       "  'user_mentions': []},\n",
       " 'favorite_count': 0,\n",
       " 'favorited': False,\n",
       " 'geo': None,\n",
       " 'id': 629966793390452736,\n",
       " 'id_str': '629966793390452736',\n",
       " 'in_reply_to_screen_name': None,\n",
       " 'in_reply_to_status_id': None,\n",
       " 'in_reply_to_status_id_str': None,\n",
       " 'in_reply_to_user_id': None,\n",
       " 'in_reply_to_user_id_str': None,\n",
       " 'is_quote_status': False,\n",
       " 'lang': 'en',\n",
       " 'place': None,\n",
       " 'possibly_sensitive': False,\n",
       " 'retweet_count': 0,\n",
       " 'retweeted': False,\n",
       " 'source': '<a href=\"http://brobeur.com\" rel=\"nofollow\">brobeurtweet</a>',\n",
       " 'text': 'Blacksea Odyssey (Space Fishing Shooter): New Enemies http://t.co/2b6IpnpKTH #DevBlogs',\n",
       " 'truncated': False,\n",
       " 'user': {'contributors_enabled': False,\n",
       "  'created_at': 'Sat Mar 30 01:44:05 +0000 2013',\n",
       "  'default_profile': False,\n",
       "  'default_profile_image': False,\n",
       "  'description': 'Video Game Development.',\n",
       "  'entities': {'description': {'urls': []},\n",
       "   'url': {'urls': [{'display_url': 'brobeur.com',\n",
       "      'expanded_url': 'http://brobeur.com',\n",
       "      'indices': [0, 22],\n",
       "      'url': 'http://t.co/KRO9XPRA01'}]}},\n",
       "  'favourites_count': 4,\n",
       "  'follow_request_sent': False,\n",
       "  'followers_count': 509,\n",
       "  'following': False,\n",
       "  'friends_count': 1152,\n",
       "  'geo_enabled': False,\n",
       "  'has_extended_profile': False,\n",
       "  'id': 1315550370,\n",
       "  'id_str': '1315550370',\n",
       "  'is_translation_enabled': False,\n",
       "  'is_translator': False,\n",
       "  'lang': 'en',\n",
       "  'listed_count': 14,\n",
       "  'location': 'Hamilton, New Zealand',\n",
       "  'name': 'BroBeur.com',\n",
       "  'notifications': False,\n",
       "  'profile_background_color': 'C0DEED',\n",
       "  'profile_background_image_url': 'http://abs.twimg.com/images/themes/theme1/bg.png',\n",
       "  'profile_background_image_url_https': 'https://abs.twimg.com/images/themes/theme1/bg.png',\n",
       "  'profile_background_tile': False,\n",
       "  'profile_banner_url': 'https://pbs.twimg.com/profile_banners/1315550370/1431862528',\n",
       "  'profile_image_url': 'http://pbs.twimg.com/profile_images/487211737284739072/HBzP949-_normal.png',\n",
       "  'profile_image_url_https': 'https://pbs.twimg.com/profile_images/487211737284739072/HBzP949-_normal.png',\n",
       "  'profile_link_color': '300808',\n",
       "  'profile_sidebar_border_color': 'C0DEED',\n",
       "  'profile_sidebar_fill_color': 'DDEEF6',\n",
       "  'profile_text_color': '333333',\n",
       "  'profile_use_background_image': True,\n",
       "  'protected': False,\n",
       "  'screen_name': 'brobeur',\n",
       "  'statuses_count': 490,\n",
       "  'time_zone': 'Auckland',\n",
       "  'url': 'http://t.co/KRO9XPRA01',\n",
       "  'utc_offset': 43200,\n",
       "  'verified': False}}"
      ]
     },
     "execution_count": 65,
     "metadata": {},
     "output_type": "execute_result"
    }
   ],
   "source": [
    "my_bot.send_tweet(rantit + ' ' + randurl + ' '  + hashthi)"
   ]
  },
  {
   "cell_type": "code",
   "execution_count": 66,
   "metadata": {
    "collapsed": false
   },
   "outputs": [],
   "source": [
    "my_bot.auto_rt(\"#gamejams\", count=1)\n"
   ]
  },
  {
   "cell_type": "code",
   "execution_count": 67,
   "metadata": {
    "collapsed": false
   },
   "outputs": [
    {
     "name": "stdout",
     "output_type": "stream",
     "text": [
      "followed abinash_assam\n"
     ]
    }
   ],
   "source": [
    "my_bot.auto_follow(\"#gamedev\", count=1)\n"
   ]
  },
  {
   "cell_type": "code",
   "execution_count": null,
   "metadata": {
    "collapsed": true
   },
   "outputs": [],
   "source": []
  }
 ],
 "metadata": {
  "kernelspec": {
   "display_name": "Python 3",
   "language": "python",
   "name": "python3"
  },
  "language_info": {
   "codemirror_mode": {
    "name": "ipython",
    "version": 3
   },
   "file_extension": ".py",
   "mimetype": "text/x-python",
   "name": "python",
   "nbconvert_exporter": "python",
   "pygments_lexer": "ipython3",
   "version": "3.4.2"
  }
 },
 "nbformat": 4,
 "nbformat_minor": 0
}
