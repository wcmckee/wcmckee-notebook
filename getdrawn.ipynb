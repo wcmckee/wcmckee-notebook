{
 "metadata": {
  "name": "",
  "signature": "sha256:7e572f4676793f5c0610cb032454364676f178e5bb62cef5141f52b043a3f9fc"
 },
 "nbformat": 3,
 "nbformat_minor": 0,
 "worksheets": [
  {
   "cells": [
    {
     "cell_type": "markdown",
     "metadata": {},
     "source": [
      "Get Drawn\n",
      "\n",
      "A python script for reddit "
     ]
    },
    {
     "cell_type": "code",
     "collapsed": false,
     "input": [
      "x = 'hello ther!'"
     ],
     "language": "python",
     "metadata": {},
     "outputs": [],
     "prompt_number": 192
    },
    {
     "cell_type": "code",
     "collapsed": false,
     "input": [
      "mylist = []"
     ],
     "language": "python",
     "metadata": {},
     "outputs": [],
     "prompt_number": 193
    },
    {
     "cell_type": "code",
     "collapsed": false,
     "input": [
      "mylist.append('testing adding this to the list!')"
     ],
     "language": "python",
     "metadata": {},
     "outputs": [],
     "prompt_number": 194
    },
    {
     "cell_type": "code",
     "collapsed": false,
     "input": [
      "mylist"
     ],
     "language": "python",
     "metadata": {},
     "outputs": [
      {
       "metadata": {},
       "output_type": "pyout",
       "prompt_number": 195,
       "text": [
        "['testing adding this to the list!']"
       ]
      }
     ],
     "prompt_number": 195
    },
    {
     "cell_type": "code",
     "collapsed": false,
     "input": [
      "import os\n",
      "import random\n",
      "import bs4\n",
      "import requests\n",
      "import re\n",
      "import json"
     ],
     "language": "python",
     "metadata": {},
     "outputs": [],
     "prompt_number": 196
    },
    {
     "cell_type": "code",
     "collapsed": false,
     "input": [
      "import praw\n"
     ],
     "language": "python",
     "metadata": {},
     "outputs": [],
     "prompt_number": 197
    },
    {
     "cell_type": "code",
     "collapsed": false,
     "input": [
      "r = praw.Reddit(user_agent='redditgetsdrawn blog post')"
     ],
     "language": "python",
     "metadata": {},
     "outputs": [],
     "prompt_number": 198
    },
    {
     "cell_type": "code",
     "collapsed": false,
     "input": [
      "rd = r.get_subreddit('redditgetsdrawn')"
     ],
     "language": "python",
     "metadata": {},
     "outputs": [],
     "prompt_number": 199
    },
    {
     "cell_type": "code",
     "collapsed": false,
     "input": [
      "rd.url"
     ],
     "language": "python",
     "metadata": {},
     "outputs": [
      {
       "metadata": {},
       "output_type": "pyout",
       "prompt_number": 200,
       "text": [
        "u'/r/redditgetsdrawn/'"
       ]
      }
     ],
     "prompt_number": 200
    },
    {
     "cell_type": "code",
     "collapsed": false,
     "input": [
      "rd.created"
     ],
     "language": "python",
     "metadata": {},
     "outputs": [
      {
       "metadata": {},
       "output_type": "pyout",
       "prompt_number": 201,
       "text": [
        "1329037453.0"
       ]
      }
     ],
     "prompt_number": 201
    },
    {
     "cell_type": "code",
     "collapsed": false,
     "input": [
      "subls = []"
     ],
     "language": "python",
     "metadata": {},
     "outputs": [],
     "prompt_number": 202
    },
    {
     "cell_type": "code",
     "collapsed": false,
     "input": [
      "subrd = rd.subscribers\n",
      "subls.append(subrd)"
     ],
     "language": "python",
     "metadata": {},
     "outputs": [],
     "prompt_number": 203
    },
    {
     "cell_type": "code",
     "collapsed": false,
     "input": [
      "subls"
     ],
     "language": "python",
     "metadata": {},
     "outputs": [
      {
       "metadata": {},
       "output_type": "pyout",
       "prompt_number": 204,
       "text": [
        "[63428]"
       ]
      }
     ],
     "prompt_number": 204
    },
    {
     "cell_type": "code",
     "collapsed": false,
     "input": [
      "wikipg = list(rd.get_wiki_pages())[4]"
     ],
     "language": "python",
     "metadata": {},
     "outputs": [],
     "prompt_number": 205
    },
    {
     "cell_type": "code",
     "collapsed": false,
     "input": [
      "from string import maketrans   # Required to call maketrans function.\n",
      "\n",
      "intab = \"aeiou\"\n",
      "outtab = \"12345\"\n",
      "trantab = maketrans(intab, outtab)\n",
      "\n",
      "\n",
      "str = \"this is string example....wow!!!\";\n",
      "print str.translate(trantab);"
     ],
     "language": "python",
     "metadata": {},
     "outputs": [
      {
       "output_type": "stream",
       "stream": "stdout",
       "text": [
        "th3s 3s str3ng 2x1mpl2....w4w!!!\n"
       ]
      }
     ],
     "prompt_number": 206
    },
    {
     "cell_type": "code",
     "collapsed": false,
     "input": [
      "wikipg.has_fetched"
     ],
     "language": "python",
     "metadata": {},
     "outputs": [
      {
       "metadata": {},
       "output_type": "pyout",
       "prompt_number": 207,
       "text": [
        "False"
       ]
      }
     ],
     "prompt_number": 207
    },
    {
     "cell_type": "code",
     "collapsed": false,
     "input": [
      "wikipg.revision_by"
     ],
     "language": "python",
     "metadata": {},
     "outputs": [
      {
       "metadata": {},
       "output_type": "pyout",
       "prompt_number": 208,
       "text": [
        "Redditor(user_name='ItWillBeMine')"
       ]
      }
     ],
     "prompt_number": 208
    },
    {
     "cell_type": "code",
     "collapsed": false,
     "input": [
      "#wikipg.content_html"
     ],
     "language": "python",
     "metadata": {},
     "outputs": [],
     "prompt_number": 209
    },
    {
     "cell_type": "code",
     "collapsed": false,
     "input": [
      "savmd = open('wiki.md', 'w')"
     ],
     "language": "python",
     "metadata": {},
     "outputs": [],
     "prompt_number": 210
    },
    {
     "cell_type": "code",
     "collapsed": false,
     "input": [
      "wikip = wikipg.content_md"
     ],
     "language": "python",
     "metadata": {},
     "outputs": [],
     "prompt_number": 211
    },
    {
     "cell_type": "code",
     "collapsed": false,
     "input": [
      "savmd.write(wikip)"
     ],
     "language": "python",
     "metadata": {},
     "outputs": [],
     "prompt_number": 212
    },
    {
     "cell_type": "code",
     "collapsed": false,
     "input": [
      "savmd.close()"
     ],
     "language": "python",
     "metadata": {},
     "outputs": [],
     "prompt_number": 213
    },
    {
     "cell_type": "code",
     "collapsed": false,
     "input": [
      "allmods = list(rd.get_moderators())"
     ],
     "language": "python",
     "metadata": {},
     "outputs": [],
     "prompt_number": 214
    },
    {
     "cell_type": "code",
     "collapsed": true,
     "input": [
      "allmods.sort()"
     ],
     "language": "python",
     "metadata": {},
     "outputs": [],
     "prompt_number": 215
    },
    {
     "cell_type": "code",
     "collapsed": false,
     "input": [
      "allmods"
     ],
     "language": "python",
     "metadata": {},
     "outputs": [
      {
       "metadata": {},
       "output_type": "pyout",
       "prompt_number": 35,
       "text": [
        "[Redditor(user_name='AutoModerator'),\n",
        " Redditor(user_name='fivepmsomewhere'),\n",
        " Redditor(user_name='heyryaaan'),\n",
        " Redditor(user_name='ItWillBeMine'),\n",
        " Redditor(user_name='meeps114'),\n",
        " Redditor(user_name='RGD_Mod'),\n",
        " Redditor(user_name='sgt_mary_mary'),\n",
        " Redditor(user_name='yowtfyo')]"
       ]
      }
     ],
     "prompt_number": 35
    },
    {
     "cell_type": "code",
     "collapsed": true,
     "input": [
      "modzro = allmods[1]"
     ],
     "language": "python",
     "metadata": {},
     "outputs": [],
     "prompt_number": 39
    },
    {
     "cell_type": "code",
     "collapsed": true,
     "input": [
      "modcom = modzro.get_comments()"
     ],
     "language": "python",
     "metadata": {},
     "outputs": [],
     "prompt_number": 40
    },
    {
     "cell_type": "code",
     "collapsed": false,
     "input": [
      "banlolz = []"
     ],
     "language": "python",
     "metadata": {},
     "outputs": [],
     "prompt_number": 41
    },
    {
     "cell_type": "code",
     "collapsed": true,
     "input": [
      "for infz in modcom:\n",
      "    print infz\n",
      "    banlolz.append(infz)"
     ],
     "language": "python",
     "metadata": {},
     "outputs": [
      {
       "output_type": "stream",
       "stream": "stdout",
       "text": [
        "Cute pic! You should xpost to /r/redditgetsdrawn.\n",
        "No, that's OK - you can take it down.\n",
        "Even though it was never seen on the sub, we prefer you don't delete posts si...\n",
        "Post removed and you're thisclose to being banned. You may only post [once](h...\n",
        "Removed. You may not delete your [posts](http://redd.it/2cdrpq) and you also ...\n",
        "Post removed. You may not [repost](http://redd.it/2cegus), delete pictures or...\n",
        "Post removed. You may only post [once](http://redd.it/2c7ds3) every 72 hours....\n",
        "Post removed. You may only post [once](http://redd.it/2ccvzf) every 72 hours....\n",
        "Post removed. You may only post [once](http://redd.it/2ce633) every 72 hours....\n",
        "Post removed. You may only post once every 72 hours. Please read and follow t...\n",
        "Post removed. [reposts](http://redd.it/2cdc67) are not allowed. It's also aga...\n",
        "Comment removed. It is against the rules to solicit artists. Please read the ...\n",
        "OMG, you must post this to /r/redditgetsdrawn. The artists will love this.\n",
        "This one got flagged because you called the cat ugly. Even if it's all in goo...\n",
        "also removed. please don't start a debate in the threads. it wasn't appropria...\n",
        "Comment removed. Be civil or be gone, my friend.\n",
        "Comment removed. Doesn't contain art and please don't hit on our submitters. ...\n",
        "I am actually the marketing director. But I know the company has be appetite ...\n",
        "OK, I guess I should have done more homework before coming here. we're a 200-...\n",
        "I'm no developer or overly tech-savvy - what do y9ou mean you can reference S...\n",
        "Good to know. Thanks.\n",
        "Thanks. Did you ever consider icontact? That's the other one we were looking at.\n",
        "Don't to spend more than $1,00 - $2,000 per year on a solution. Does ExacTarg...\n",
        "Great pic. You should xpost to /r/redditgetsdrawn.\n",
        "Comment removed because it does not contain artwork. Please read the rules of...\n"
       ]
      }
     ],
     "prompt_number": 42
    },
    {
     "cell_type": "code",
     "collapsed": false,
     "input": [
      "len(banlolz)\n",
      "\n",
      "banlizt = []"
     ],
     "language": "python",
     "metadata": {},
     "outputs": [],
     "prompt_number": 43
    },
    {
     "cell_type": "code",
     "collapsed": false,
     "input": [
      "for banz in banlolz:\n",
      "    print banz\n",
      "    banlizt.append((banz.body))\n",
      "    \n",
      "    "
     ],
     "language": "python",
     "metadata": {},
     "outputs": [
      {
       "output_type": "stream",
       "stream": "stdout",
       "text": [
        "Cute pic! You should xpost to /r/redditgetsdrawn.\n",
        "No, that's OK - you can take it down.\n",
        "Even though it was never seen on the sub, we prefer you don't delete posts si...\n",
        "Post removed and you're thisclose to being banned. You may only post [once](h...\n",
        "Removed. You may not delete your [posts](http://redd.it/2cdrpq) and you also ...\n",
        "Post removed. You may not [repost](http://redd.it/2cegus), delete pictures or...\n",
        "Post removed. You may only post [once](http://redd.it/2c7ds3) every 72 hours....\n",
        "Post removed. You may only post [once](http://redd.it/2ccvzf) every 72 hours....\n",
        "Post removed. You may only post [once](http://redd.it/2ce633) every 72 hours....\n",
        "Post removed. You may only post once every 72 hours. Please read and follow t...\n",
        "Post removed. [reposts](http://redd.it/2cdc67) are not allowed. It's also aga...\n",
        "Comment removed. It is against the rules to solicit artists. Please read the ...\n",
        "OMG, you must post this to /r/redditgetsdrawn. The artists will love this.\n",
        "This one got flagged because you called the cat ugly. Even if it's all in goo...\n",
        "also removed. please don't start a debate in the threads. it wasn't appropria...\n",
        "Comment removed. Be civil or be gone, my friend.\n",
        "Comment removed. Doesn't contain art and please don't hit on our submitters. ...\n",
        "I am actually the marketing director. But I know the company has be appetite ...\n",
        "OK, I guess I should have done more homework before coming here. we're a 200-...\n",
        "I'm no developer or overly tech-savvy - what do y9ou mean you can reference S...\n",
        "Good to know. Thanks.\n",
        "Thanks. Did you ever consider icontact? That's the other one we were looking at.\n",
        "Don't to spend more than $1,00 - $2,000 per year on a solution. Does ExacTarg...\n",
        "Great pic. You should xpost to /r/redditgetsdrawn.\n",
        "Comment removed because it does not contain artwork. Please read the rules of...\n"
       ]
      }
     ],
     "prompt_number": 44
    },
    {
     "cell_type": "code",
     "collapsed": false,
     "input": [
      "blsz = []"
     ],
     "language": "python",
     "metadata": {},
     "outputs": [],
     "prompt_number": 45
    },
    {
     "cell_type": "code",
     "collapsed": false,
     "input": [
      "banlizt\n",
      "for bez in banlizt:\n",
      "    \n",
      "    print bez\n",
      "    #if  'remove' or 'banned' in bez: \n",
      "     #   blsz.append(bez)"
     ],
     "language": "python",
     "metadata": {},
     "outputs": [
      {
       "output_type": "stream",
       "stream": "stdout",
       "text": [
        "Cute pic! You should xpost to /r/redditgetsdrawn.\n",
        "No, that's OK - you can take it down.\n",
        "Even though it was never seen on the sub, we prefer you don't delete posts since it's useful to have them in your history so we can be sure you're not re-posting the same photo (which is not allowed). Since no one saw the picture, I'm wondering why you would want to delete the photo/post?\n",
        "Post removed and you're thisclose to being banned. You may only post [once](http://redd.it/2cfdr5) every 72 hours, and your comment to the artist who drew your last picture was rude, which we don't tolerate around here. Please read and follow the rules if you want to continue to participate in our sub.\n",
        "Removed. You may not delete your [posts](http://redd.it/2cdrpq) and you also violated the frequent posting rule. Please read and follow the rules. Failure to do so will result in a ban.\n",
        "Post removed. You may not [repost](http://redd.it/2cegus), delete pictures or post more than once every 72 hours. Please read and follow the rules or you risk getting banned.\n",
        "Post removed. You may only post [once](http://redd.it/2c7ds3) every 72 hours. Please read and follow the rules before posting again.\n",
        "Post removed. You may only post [once](http://redd.it/2ccvzf) every 72 hours. Please read and follow the rules before posting again.\n",
        "Post removed. You may only post [once](http://redd.it/2ce633) every 72 hours. Please read and follow the rules before posting again.\n",
        "Post removed. You may only post once every 72 hours. Please read and follow the rules of the sub.\n",
        "Post removed. [reposts](http://redd.it/2cdc67) are not allowed. It's also against the rules to post more than once every 72 hours and delete your posts. This is a warning - read and follow the rules or next time you'll be banned.\n",
        "Comment removed. It is against the rules to solicit artists. Please read the rules before participating in our sub.\n",
        "OMG, you must post this to /r/redditgetsdrawn. The artists will love this.\n",
        "This one got flagged because you called the cat ugly. Even if it's all in good fun, we'd prefer you not do that.\n",
        "also removed. please don't start a debate in the threads. it wasn't appropriate and it was deleted. If you have further questions, please message the mods.\n",
        "Comment removed. Be civil or be gone, my friend.\n",
        "Comment removed. Doesn't contain art and please don't hit on our submitters. This isn't amihot.\n",
        "I am actually the marketing director. But I know the company has be appetite for (or need of) a $30k email solution. We have about 6,000 people in our database and just need to send them alerts now and then and invites to events. Since we already use SF for prospect tracking, I wanted to find a mail solution that integrates with it well. I'll check out mailchimp. Thanks.\n",
        "OK, I guess I should have done more homework before coming here. we're a 200-person company and cannot afford a 30K email marketing solution, nor do we need something that powerful. I guess my real question should have been which email marketing app works best with SF. \n",
        "I'm no developer or overly tech-savvy - what do y9ou mean you can reference SF objects with ampScript?\n",
        "Good to know. Thanks.\n",
        "Thanks. Did you ever consider icontact? That's the other one we were looking at.\n",
        "Don't to spend more than $1,00 - $2,000 per year on a solution. Does ExacTarget have an event management tool? I think we initially looked at it and it didn't. That could be a problem. Does Hubspot compete in this space and do they have event management? \n",
        "Great pic. You should xpost to /r/redditgetsdrawn.\n",
        "Comment removed because it does not contain artwork. Please read the rules of the sub before participating.\n"
       ]
      }
     ],
     "prompt_number": 46
    },
    {
     "cell_type": "code",
     "collapsed": false,
     "input": [
      "blsz"
     ],
     "language": "python",
     "metadata": {},
     "outputs": [
      {
       "metadata": {},
       "output_type": "pyout",
       "prompt_number": 47,
       "text": [
        "[]"
       ]
      }
     ],
     "prompt_number": 47
    },
    {
     "cell_type": "code",
     "collapsed": false,
     "input": [
      "izone = banlizt[0]"
     ],
     "language": "python",
     "metadata": {},
     "outputs": [],
     "prompt_number": 48
    },
    {
     "cell_type": "code",
     "collapsed": false,
     "input": [
      "szone = str(izone())"
     ],
     "language": "python",
     "metadata": {},
     "outputs": [
      {
       "ename": "TypeError",
       "evalue": "'unicode' object is not callable",
       "output_type": "pyerr",
       "traceback": [
        "\u001b[1;31m---------------------------------------------------------------------------\u001b[0m\n\u001b[1;31mTypeError\u001b[0m                                 Traceback (most recent call last)",
        "\u001b[1;32m<ipython-input-49-9b76133fc8e3>\u001b[0m in \u001b[0;36m<module>\u001b[1;34m()\u001b[0m\n\u001b[1;32m----> 1\u001b[1;33m \u001b[0mszone\u001b[0m \u001b[1;33m=\u001b[0m \u001b[0mstr\u001b[0m\u001b[1;33m(\u001b[0m\u001b[0mizone\u001b[0m\u001b[1;33m(\u001b[0m\u001b[1;33m)\u001b[0m\u001b[1;33m)\u001b[0m\u001b[1;33m\u001b[0m\u001b[0m\n\u001b[0m",
        "\u001b[1;31mTypeError\u001b[0m: 'unicode' object is not callable"
       ]
      }
     ],
     "prompt_number": 49
    },
    {
     "cell_type": "code",
     "collapsed": false,
     "input": [
      "str = banlizt;\n",
      "print str.translate(trantab);"
     ],
     "language": "python",
     "metadata": {},
     "outputs": [
      {
       "ename": "AttributeError",
       "evalue": "'list' object has no attribute 'translate'",
       "output_type": "pyerr",
       "traceback": [
        "\u001b[1;31m---------------------------------------------------------------------------\u001b[0m\n\u001b[1;31mAttributeError\u001b[0m                            Traceback (most recent call last)",
        "\u001b[1;32m<ipython-input-50-9f9d97c3619f>\u001b[0m in \u001b[0;36m<module>\u001b[1;34m()\u001b[0m\n\u001b[0;32m      1\u001b[0m \u001b[0mstr\u001b[0m \u001b[1;33m=\u001b[0m \u001b[0mbanlizt\u001b[0m\u001b[1;33m;\u001b[0m\u001b[1;33m\u001b[0m\u001b[0m\n\u001b[1;32m----> 2\u001b[1;33m \u001b[1;32mprint\u001b[0m \u001b[0mstr\u001b[0m\u001b[1;33m.\u001b[0m\u001b[0mtranslate\u001b[0m\u001b[1;33m(\u001b[0m\u001b[0mtrantab\u001b[0m\u001b[1;33m)\u001b[0m\u001b[1;33m;\u001b[0m\u001b[1;33m\u001b[0m\u001b[0m\n\u001b[0m",
        "\u001b[1;31mAttributeError\u001b[0m: 'list' object has no attribute 'translate'"
       ]
      }
     ],
     "prompt_number": 50
    },
    {
     "cell_type": "code",
     "collapsed": true,
     "input": [
      "modzro.fullname"
     ],
     "language": "python",
     "metadata": {},
     "outputs": [
      {
       "metadata": {},
       "output_type": "pyout",
       "prompt_number": 51,
       "text": [
        "u't2_c5ebg'"
       ]
      }
     ],
     "prompt_number": 51
    },
    {
     "cell_type": "code",
     "collapsed": true,
     "input": [
      "print infz.subreddit"
     ],
     "language": "python",
     "metadata": {},
     "outputs": [
      {
       "output_type": "stream",
       "stream": "stdout",
       "text": [
        "redditgetsdrawn\n"
       ]
      }
     ],
     "prompt_number": 52
    },
    {
     "cell_type": "code",
     "collapsed": true,
     "input": [
      "print infz.body"
     ],
     "language": "python",
     "metadata": {},
     "outputs": [
      {
       "output_type": "stream",
       "stream": "stdout",
       "text": [
        "Comment removed because it does not contain artwork. Please read the rules of the sub before participating.\n"
       ]
      }
     ],
     "prompt_number": 53
    },
    {
     "cell_type": "code",
     "collapsed": false,
     "input": [
      "rd.get_rising"
     ],
     "language": "python",
     "metadata": {},
     "outputs": [
      {
       "metadata": {},
       "output_type": "pyout",
       "prompt_number": 54,
       "text": [
        "<bound method Subreddit._sorted of Subreddit(display_name='redditgetsdrawn')>"
       ]
      }
     ],
     "prompt_number": 54
    },
    {
     "cell_type": "code",
     "collapsed": false,
     "input": [
      "rd.get_top_from_year"
     ],
     "language": "python",
     "metadata": {},
     "outputs": [
      {
       "metadata": {},
       "output_type": "pyout",
       "prompt_number": 55,
       "text": [
        "<bound method Subreddit._sorted of Subreddit(display_name='redditgetsdrawn')>"
       ]
      }
     ],
     "prompt_number": 55
    },
    {
     "cell_type": "code",
     "collapsed": false,
     "input": [
      "rd.get_stylesheet()"
     ],
     "language": "python",
     "metadata": {},
     "outputs": [
      {
       "metadata": {},
       "output_type": "pyout",
       "prompt_number": 56,
       "text": [
        "{u'images': [{u'link': u'url(%%Banner%%)',\n",
        "   u'name': u'Banner',\n",
        "   u'url': u'http://a.thumbs.redditmedia.com/D4W5RE9vihCGYzTb.png'},\n",
        "  {u'link': u'url(%%commentbox%%)',\n",
        "   u'name': u'commentbox',\n",
        "   u'url': u'http://b.thumbs.redditmedia.com/R22VvxwhdS-Wmjsg.png'},\n",
        "  {u'link': u'url(%%RGDtext%%)',\n",
        "   u'name': u'RGDtext',\n",
        "   u'url': u'http://f.thumbs.redditmedia.com/F8zFK7R0vqyDRfw_.png'},\n",
        "  {u'link': u'url(%%Background%%)',\n",
        "   u'name': u'Background',\n",
        "   u'url': u'http://c.thumbs.redditmedia.com/wLrYssI2q9h7rVNP.png'},\n",
        "  {u'link': u'url(%%transparent%%)',\n",
        "   u'name': u'transparent',\n",
        "   u'url': u'http://a.thumbs.redditmedia.com/yLTSl14oXyN-6-7J.png'}],\n",
        " u'stylesheet': u'/****************************************************************************\\n BEGIN: banner and header menus\\n ****************************************************************************/\\n#header {\\n    overflow: visible !important;\\n    background-image:url(%%Banner%%);\\n    background-repeat: repeat-x;\\n    height:130px;\\n    margin-top:20px;\\n    border-bottom:2px #545454;\\n}\\n\\n#header-img.default-header {\\n    display:none !important;\\n}\\n\\n\\n\\n#sr-header-area{\\n    position:absolute;\\n    top:-20px;\\n    border-bottom:2px #545454 !important;    /* default: 1px solid gray */\\n    width:100%;\\n    height:20px;\\n}\\n\\n/* RES-subscription bar */\\n\\n#sr-header-area {\\n    padding: 3px 0px 4px 3px;\\n    background-color: #545454;\\n    white-space: nowrap;\\n    overflow: hidden;\\n    text-transform: uppercase;\\n    height: 14px; \\n    }\\n\\n#sr-header-area a {\\n    color: white\\n    }\\n\\n#RESShortcutsEditContainer{\\n    background-color: #545454 !important;\\n}\\n#RESShortcutsSort{\\n    background-color: #545454 !important;\\n    color: #FFFFFF ! important;\\n}\\n#RESShortcutsRight{\\n    background-color: #545454 !important;\\n    color: #FFFFFF ! important;\\n}\\n#RESShortcutsLeft{\\n    background-color: #545454 !important;\\n    color: #FFFFFF ! important;\\n}\\n#RESShortcutsAdd{\\n    background-color: #545454 !important;\\n    color: #FFFFFF ! important;\\n}\\n#RESShortcutsTrash{\\n    background-color: #545454 !important;\\n    color: #FFFFFF ! important;\\n}\\n\\n/* End RES-subscription bar */\\n\\n\\n\\n#header-bottom-right{\\n    background-color:#FFFFFF;                    /* default: #EFF7FF */\\n    padding:2px 5px 0px 5px !important;          /* default: 4px 4px 7px */\\n    border-radius:0px !important;                /* default: 0 0 0 3px */\\n    top:132px !important;                        /* default: 19px */\\n    width:auto;\\n    text-align:right;\\n    z-index:9;\\n}\\n\\n#header-bottom-right #mail{\\n    text-align:left;\\n}\\n\\n#header-bottom-right #modmail{\\n    text-align:left;\\n}\\n\\n\\n/* userbar position */\\n\\n#header #header-bottom-right { \\n    top: 110px !important; \\n}\\n\\n\\n\\n/* Begin userbar transparency */\\n\\n#header-bottom-right{\\n    border:none;\\n    position:absolute;\\n    right:0;\\n    bottom:0;\\n    background-image: url(%%transparent%%);\\n    background-color: transparent;\\n    margin: 0;\\n}\\n#header-bottom-right a {\\n    text-decoration: none;\\n    color: #fff !important;\\n}\\nbody.res-nightmode #header-bottom-right {\\n    background-color: transparent!important\\n}\\n#header-bottom-right a, .dropdown.srdrop .selected {\\n    color: #fff !important\\n}\\n#header-bottom-right a:hover{\\n    text-decoration: none;\\n    color: #bbb !important\\n}\\n#userbarToggle.userbarHide, #userbarToggle.userbarShow {\\n    border:none !important;\\n    color: #fff!important;\\n    background-color: transparent;\\n}\\n.res-nightmode #userbarToggle.userbarHide, .res-nightmode #userbarToggle.userbarShow {\\n    border:none !important;\\n    color: #fff!important;\\n    background-color: transparent;\\n}\\n#userbarToggle.userbarShow { top: -15px; left: -11px;}\\n.user .userkarma { color: #fff \\n}\\n\\n\\n#sr-header-area .sr-list {\\n    margin-right: 45px;\\n} \\n.RESDropdownList li {\\n    border: none!important;\\n}\\n#RESShortcutsSort, #RESShortcutsRight, #RESShortcutsAdd, #RESShortcutsLeft {\\n    color: #fff !important\\n}\\n#sort-menu.drop-choices, #sort-menu.drop-choices a {\\n    background-image: url(%%transparent%%) !important;\\n    background-color: transparent !important;\\n    border:none !important;\\n    color: #fff !important;\\n}\\n#RESPrefsDropdown.RESDropdownList, #RESAccountSwitcherDropdown {\\n    background-image: url(%%transparent%%) !important;\\n    background-color: transparent;\\n    border:none;\\n    color: #fff !important;\\n}\\n#RESPrefsDropdown.RESDropdownList li:last-child, #RESAccountSwitcherDropdown li:last-child {\\n    border-bottom-left-radius: 4px;\\n    border-bottom-right-radius: 4px;\\n}\\n#RESAccountSwitcherIconOverlay {\\n    display: none!important\\n}\\n#RESAccountSwitcherDropdown {\\n    margin-top: 7px;\\n}\\n.pref-lang {\\n    font-weight: normal;\\n}\\n.RESDropdownList li, .RESDropdownList a {\\n    color: #fff !important;\\n    background:none!important;\\n}\\n.RESDropdownList li a:hover, .RESDropdownList li:hover {\\n    border:none !important;\\n    background-color: #96bf43 !important;\\n}\\n\\n#RESMainGearOverlay, #RESMainGearOverlay:hover {\\n    background: none !important;\\n    border:none !important;\\n}\\n#RESMainGearOverlay .gearIcon {\\n    display: none!important\\n}\\n\\n/* End userbar transparency */\\n\\n\\n\\n\\n\\n\\n#header-bottom-left{\\n    position:absolute;\\n    top:132px;\\n}\\n\\n#header-bottom-left #header-img-a{\\n    display:none !important;\\n}\\n\\n#header-bottom-left .pagename a{\\n    background:url(%%RGDtext%%);\\n    background-repeat:no-repeat;\\n    float:left;\\n    width:187px;\\n    height:20px;\\n    margin-top:4px;\\n    margin-left:5px;\\n    text-indent:-9999px;\\n}\\n\\n.tabmenu{\\n    float:left;\\n}\\n\\n\\n\\n\\n\\n.side{\\n    margin-top:22px;\\n    border-top: 0px solid transparent;\\n}\\n\\n.side .md * { \\n    font-size: 1em; \\n}\\n\\n.titlebox .redditname a{\\n    background:url(%%RGDtext%%);\\n    background-repeat:no-repeat;\\n    float:left;\\n    width:187px !important;\\n    height:20px !important;\\n    text-indent:-9999px;\\n}\\n\\n.side .redditname a {\\n    font-size: 0em; \\n}\\n\\n.titlebox .bottom {\\n    display:none\\n}\\n\\n.content{\\n    padding-top:7px;\\n    margin-top:31px;\\n    border-top: 3px solid #787878;\\n}\\n/****************************************************************************\\n END: banner and header menus\\n ****************************************************************************/\\n\\n/****************************************************************************\\n BEGIN: tabmenu tweaks\\n ****************************************************************************/\\n#header .tabmenu li {\\n    margin: 0;\\n}\\n\\n#header .tabmenu a { \\n    padding: 2px 6px 4px 6px; font-size: 80%;\\n    margin: 3px !important;\\n}\\n\\n.tabmenu a[href$=\"/controversial/\"] {\\n    display:none !important;\\n}\\n\\n#header-bottom-left ul.tabmenu li a[href=\"http://www.reddit.com/r/redditgetsdrawn/ads/\"] {\\n    display: none;\\n}\\n\\n\\n#header .tabmenu li a { \\n    color: #FFFFFF; background-color: #737373; \\n    margin: 0;\\n}\\n#header .tabmenu li.selected a { \\n    color: #FFFFFF; background-color: #3399cc; \\n}\\n\\n#header .tabmenu li a:hover { \\n    color: #FFFFFF; background-color: #96bf43; \\n}\\n#header .tabmenu li.selected a:hover { \\n    color: #FFFFFF; background-color: #7a9642; \\n}\\n\\n/****************************************************************************\\n END: tabmenu tweaks\\n ****************************************************************************/\\n\\n/****************************************************************************\\n BEGIN: subscribe button tweaks\\n ****************************************************************************/\\n.fancy-toggle-button a {\\n    color: #FFFFFF !important;\\n    background: #96bf43 !important;\\n    border: 1px solid #92a4b2 !important;\\n}\\n.subButtons .RESshortcutside {\\n    background: #787878;\\n    border: 1px solid #92a4b2 !important;\\n} \\n.subButtons .RESDashboardToggle {\\n    background: #3399cc;\\n    border: 1px solid #92a4b2 !important;\\n}\\n\\n\\n.fancy-toggle-button a:hover {\\n    color: #FFFFFF !important;\\n    background: #7a9642 !important;\\n}\\n.subButtons .RESshortcutside:hover {\\n    background: #616161;\\n    border: 1px solid #92a4b2 !important;\\n} \\n.subButtons .RESDashboardToggle:hover {\\n    background: #256E93;\\n    border: 1px solid #92a4b2 !important;\\n}\\n\\n\\n.fancy-toggle-button a.remove {\\n    color: #FFFFFF !important;\\n    background: #96bf43 !important;\\n    border: 1px solid #92a4b2 !important\\n}\\n.subButtons .RESshortcutside.remove {\\n    background:#787878;\\n    border: 1px solid #92a4b2 !important;\\n}\\n.subButtons .RESDashboardToggle.remove {\\n    background: #3399cc;\\n    border: 1px solid #92a4b2 !important;\\n}\\n\\n/****************************************************************************\\n END: subscribe button tweaks\\n ****************************************************************************/\\n \\n\\n/****************************************************************************\\n BEGIN: body watermark\\n ****************************************************************************/\\nbody {\\n   background: url(%%Background%%) no-repeat fixed center center;\\n}\\n/****************************************************************************\\n END: body watermark\\n ****************************************************************************/\\n \\n\\n/****************************************************************************\\n BEGIN: change submit a link button\\n ****************************************************************************/\\n/* Remove submit text button */\\n\\n.submit-text { \\n    display:none; \\n}\\n\\n/*end remove submit text button*/\\n\\n.morelink{\\n    font-weight:heavy;\\n    letter-spacing:2px;\\n    background:  #7a9642;\\n    border: none;\\n    -moz-border-radius:2px;\\n    -webkit-border-radius:2px;\\n    -o-border-radius:2px;\\n    -ms-border-radius:2px;\\n    -khtml-border-radius:2px;\\n    border-radius:2px;\\n    height: 30px;\\n    line-height: 30px;\\n    overflow: hidden;\\n    color: white;\\n}\\n\\n.morelink:hover{\\n    background: #A7B9CB;\\n    background-color: #96bf43;\\n    border-color: #96bf43;\\n}\\n\\n.morelink .nub {\\n    display: none;\\n}\\n\\n.morelink {\\n    color:#FFF; \\n    font-family: \"Calibri\", Candara, Segoe, Segoe UI, Optima, Arial, sans-serif;\\n    font-size:17px; \\n    width: 301px;\\n}\\n\\n.morelink a, .morelink a:hover{\\n    color: white;\\n}\\n\\n.sidebox.submit-link .morelink::before {\\n    display: block;\\n    clear: none;\\n    content: \"Submit a New Post\";\\n    font-size: 95%;\\n    overflow: hidden;\\n}\\n\\n.sidebox.submit .morelink a {\\n    position: absolute;\\n    top: 0;\\n    padding-left: 1000px;\\n    font-size: 0px;\\n    text-align: right;\\n    color: #56a6f7;\\n}\\n\\n.sidebox.submit.submit-link {\\n    width: 150px;\\n}\\n\\n.sidebox.create {\\n    display: none;\\n}\\n\\n.sidebox.submit.disabled {\\n    display: none;\\n}\\n\\n/* NIGHTMODE FIXES */\\n\\n.res-nightmode .sidebox.submit.submit-text{\\n    background: none !important;\\n    margin-top: -45px;\\n    margin-left: 153px;\\n}\\n\\n.res-nightmode .sidebox {\\n    padding-left: 0px !important;\\n    border: 2px solid #151515 !important;\\n}\\n\\n.res-nightmode .morelink {\\n    height: 29px !important;\\n}\\n\\n.res-nightmode .morelink {\\n    background:rgb(39, 63, 87) !important;\\n}\\n\\n.res-nightmode .morelink:hover {\\n    background: #449ef8 !important;\\n    background-color: #9edbf8 !important;\\n    border-color: #9edbf8 !important;\\n}\\n\\n/****************************************************************************\\n END: change submit a link button\\n ****************************************************************************/\\n \\n \\n/****************************************************************************\\n BEGIN: collapsible sidebar ala /r/canada\\n ****************************************************************************/\\n/***** Sidebar headings *****/\\n.titlebox blockquote {\\n    border: 1px solid #AAA;\\n    text-shadow: 0 1px 0 white;\\n    color: #787878;\\n    font-weight: bold;\\n    border-radius: 10px;\\n    -moz-border-radius: 10px;\\n    -webkit-border-radius: 10px\\n}\\n    \\n.sidecontentbox .content, .linkinfo, .footer {\\n    background: transparent !important;\\n    border: 1px solid #AAA;\\n    margin: 7px 0 0;\\n    -moz-border-radius: 5px;\\n    -webkit-border-radius: 5px;\\n    border-radius: 5px\\n}\\n    \\n.link.last-clicked {\\n    overflow: hidden\\n}\\n    \\n.linkinfo {\\n    margin-bottom: 10px\\n}\\n    \\n.titlebox {\\n    padding: 10px;\\n    background: transparent !important; /*Sidebar Background color*/\\n    border: 1px solid #AAA; /*Sidebar border color*/\\n    color: #787878; /*Text color in sidebar*/\\n    border-radius: 10px;\\n    -moz-border-radius: 10px;\\n    -webkit-border-radius: 10px\\n}\\n    \\n.titlebox .bottom {\\n    border: 0\\n}\\n    \\n.titlebox form.toggle {\\n    background-color: transparent\\n}\\n    \\n.titlebox .usertext {\\n    margin: 15px 0;\\n    line-height: 120%;\\n    font-size: small\\n}\\n    \\n.titlebox .usertext .md {\\n    margin: 0;\\n    padding: 0;\\n    overflow: visible\\n}\\n    \\n.titlebox .usertext .md h2 {\\n    font-size: 1.2em;\\n    font-weight: bold;\\n    color: #eee; /*Text color of ##*/\\n    background-color: #787878; /*Background color of ##*/\\n}\\n    \\n.titlebox .usertext .md &gt; h1 {\\n    border: 0;\\n    margin: 0;\\n    padding: 0;\\n    font-size: medium !important;\\n    background-color: #3399cc; /*Background color of #*/\\n    color: #eee; /*Text color of #*/\\n    width: 288px;\\n    padding: 5px 10px;\\n    padding-left: 20px;\\n    padding-right: 0;\\n    margin-right: 13px;\\n    margin-left: -18px;\\n    border-bottom: 1px solid #3399cc; /*Border of #*/\\n    margin-bottom: 5px;\\n    margin-top: 10px;\\n    z-index: 100\\n}\\n    \\n.res-nightmode .usertext .md &gt; h1 {\\n    background-color: #377798; /*Nightmode fix for #*/\\n    border-bottom: 1px solid #377798;\\n}\\n\\n.titlebox .usertext .md &gt; h1:after {\\n    display: block;\\n    content: \"\";\\n    border-color: transparent #23698c transparent transparent; /*Color of the little triangle^*/\\n    border-style: solid;\\n    border-width: 15px;\\n    height: 0px;\\n    width: 0px;\\n    position: absolute;\\n    z-index: -1;\\n    margin-left: -35px;\\n    margin-top: -10px\\n}\\n\\n/***** Collapsible menu *****/\\n.side { \\n    margin: 0px; \\n}\\n\\n.side .titlebox .md h3 + ul {\\n    margin-top: 0;\\n    margin-bottom: 0;\\n    padding: 3px;\\n}\\n    \\n.md { \\n    overflow: visible; \\n}\\n\\ndiv.titlebox .md h3, div.titlebox .md h3 a, div.titlebox .md h2, div.titlebox .md h2 a, div.titlebox .md h4, div.titlebox .md h4 a {\\n    color: #eee; /*General Header text color*/\\n}\\n    \\n.sidecontentbox a.helplink {\\n    margin-right: 5px;\\n}\\n.icon-menu a {\\n    background: transparent;\\n}\\ndiv.titlebox .md h3 + ul {\\n    display: none;\\n}\\ndiv.titlebox .md h3:hover + ul, div.titlebox .md ul:hover {\\n    display: block;\\n}\\ndiv.titlebox .md ul li:hover {\\n    background-color: #eee; \\n  /*Color you seen when ^ hovering over sidebar items*/\\n}\\n\\n.res-nightmode .titlebox .md ul li:hover {\\n    background-color: #393939;\\n  /*Color you seen when ^ hovering over sidebar items- Nightmode*/\\n}\\ndiv.titlebox .md h3, div.titlebox .md h2, div.titlebox .md h4 {\\n    background-color: #96bf43; /*### background color*/\\n    color: #fff; /*### Text color*/\\n    width: 280px;\\n    line-height: 23px;\\n    font-weight: normal;\\n    font-size: 14px;\\n    cursor: pointer;\\n    padding-left: 20px;\\n    margin-top: 4px;\\n    margin-left: -11px;\\n}\\n\\n.res-nightmode div.titlebox .md h3, div.titlebox .md h2, div.titlebox .md h4 { \\n    background-color: #7a9642; /*Nightmode background color*/\\n}\\n\\ndiv.titlebox .md h3:after, div.titlebox .md h2:after, div.titlebox .md h4:after {\\n    margin-bottom: 10px;\\n}\\n\\ndiv.titlebox .md h3:before { \\n    content: \"+\"; \\n    color: #fff; /*color of the + in ###*/\\n    padding-right: 5px; \\n} \\n\\ndiv.titlebox ul {\\n    line-height: 1.7em\\n}\\n\\n/****************************************************************************\\n END: collapsible sidebar ala /r/canada\\n ****************************************************************************/\\n \\n \\n/****************************************************************************\\n BEGIN: message before submission page\\n ****************************************************************************/\\n.formtabs-content{\\n    border-top:0px;\\n}\\n\\n#newlink .infobar {\\n    display:none !important;\\n}\\n\\n#title-field:before{\\n    display: block;\\n    background-color: yellow;\\n    content: \" Do not contact the mods if you do not see your submission in the new queue. All posts land in the spam filter until reviewed and approved. If your submission is not approved, a mod will explain the reason(s) why. Be sure to review the rules before participating.  \";\\n    font-weight:bold;\\n    font-size:14px;\\n    padding:2px;\\n    margin-top: 5px;\\n    margin-bottom: 5px;\\n    border:1px solid yellow;\\n    border-radius: 5px;\\n}\\n\\n#text-field:before{\\n    display: block;\\n    background-color: yellow;\\n    content: \"Your text should NOT contain names.  Your photo should be hosted on IMGUR only.\";\\n    font-weight:bold;\\n    font-size:14px;\\n    padding:2px;\\n    margin-top: 5px;\\n    margin-bottom: 5px;\\n    border:1px solid yellow;\\n    border-radius: 5px;\\n}\\n\\n#url-field:before{\\n    display: block;\\n    background-color: yellow;\\n    content: \" In your title, please state your relations with the person in the photo. See below for further submission rules.\";\\n    font-weight:bold;\\n    font-size:14px;\\n    padding:2px;\\n    margin-top: 5px;\\n    margin-bottom: 5px;\\n    border:1px solid yellow;\\n    border-radius: 5px;\\n}\\n\\n.info-notice:after{\\n    display: block;\\n    background-color: yellow;\\n    content: \"Please wait at least three days between submissions.\";\\n    font-weight:bold;\\n    font-size:14px;\\n    padding:2px;\\n    margin-top: 5px;\\n    border:1px solid yellow;\\n    border-radius: 5px;\\n}\\n\\ndiv.submit_text.roundfield.enabled h1:after{\\n    display: block;\\n    background-color: yellow;\\n    content: \"Read the rules below before submitting your image! \";\\n    font-weight:bold;\\n    font-size:14px;\\n}\\n\\ndiv.submit_text.roundfield.enabled h1 {\\n    text-transform: uppercase;\\n    background-color: yellow;\\n}\\n\\n/****************************************************************************\\n END: message before submission page\\n ****************************************************************************/\\n \\n \\n/****************************************************************************\\n BEGIN: Model Roulette button\\n ****************************************************************************/\\n.side .md a[href=\"http://www.reddit.com/r/redditgetsdrawn/random\"] {\\n    display: block;\\n    border: 0px solid #e6e6e6;\\n    border-radius: 1px;\\n    padding: 3px 5px;\\n    font-size: 15px;\\n    color: #FFFFFF;\\n    text-align: center;\\n}\\n\\n.side .md a[href=\"http://www.reddit.com/r/redditgetsdrawn/random\"]:hover {\\n    background: #246B8F;\\n}\\n\\n/****************************************************************************\\n END: Model Roulette button\\n ****************************************************************************/\\n \\n \\n/**************************************************************************** \\nBEGIN: Custom online users text \\n*****************************************************************************/\\n.titlebox .word {\\n    display: none\\n}\\n.titlebox .number:after {\\n    content: \" Subscribers\";\\n}\\n.titlebox .users-online span.number:after {\\n    content: \" Artists and art-lovers here now\";\\n}\\n\\n/**************************************************************************** \\nBEGIN: Custom online users text \\n*****************************************************************************/\\n\\n\\n/****************************************************************************\\n BEGIN: disable downvote arrows\\n ****************************************************************************/\\ndiv.link div.arrow.down { \\n   visibility: hidden;\\n   display: none;\\n}\\n\\ndiv.comment div.arrow.down { \\n   visibility: hidden;\\n   display: none;\\n}\\n/****************************************************************************\\n END: disable downvote arrows\\n ****************************************************************************/\\n\\n\\n/****************************************************************************\\n BEGIN: rules note beneath comment entry\\n ****************************************************************************/\\n.commentarea {\\n    position: static;\\n}\\n\\n.commentarea .usertext .usertext-edit:after {\\n    content: \"Note: RedditGetsDrawn is strictly moderated.  Please read the rules on the wiki before participating.\";\\n    display: block;\\n    text-align: left;\\n    margin-top: -5px;\\n    padding: 4px;\\n    background-color: #def;\\n    border: 1px solid #59c;\\n    font-size: 11px;\\n    font-weight: bold;\\n}\\n\\n/****************************************************************************\\n END: rules note beneath comment entry\\n ****************************************************************************/\\n\\n\\n /****************************************************************************\\n BEGIN: comment box background message\\n ****************************************************************************/\\n.commentarea&gt;.usertext textarea {\\n    background-image:url(%%commentbox%%);\\n    background-repeat: no-repeat;\\n    border: 1px solid #ccc;\\n}\\n\\n.commentarea&gt;.usertext textarea:focus {\\n    background-position: -504px -104px;\\n}\\n\\n/****************************************************************************\\n END: comment box background message\\n ****************************************************************************/\\n\\n\\n/****************************************************************************\\n BEGIN: wash out deleted messages (Void)\\n ****************************************************************************\\nform.grayed, form.grayed ~ ul.flat-list.buttons {\\n display: none;\\n}\\np.tagline &gt; a.expand:first-child + em:after, div.collapsed &gt; a.expand:first-child + em:after {\\n visibility: visible;\\n font-size: x-small;\\n font-weight: bold;\\n content: \"[deleted]\";\\n}\\np.tagline &gt; a.expand:first-child + em, div.collapsed &gt; a.expand:first-child + em {\\n visibility: hidden;\\n font-size: 0;\\n}\\ndiv.collapsed &gt; a.expand:first-child + em + time + a.expand, div.collapsed &gt; a.expand:first-child + em + a.expand {\\n display: none;\\n}\\n****************************************************************************\\n END: wash out deleted messages\\n ****************************************************************************/\\n\\n\\n/****************************************************************************\\n BEGIN: hide RES keyboard shortcut annotations\\n ****************************************************************************/\\n.keyNavAnnotation{\\n display:none;\\n}\\n/****************************************************************************\\n END: hide RES keyboard shortcut annotations\\n ****************************************************************************/\\n\\n\\n/****************************************************************************\\n BEGIN: viewed/new/sticky link color\\n ****************************************************************************/\\n#siteTable div.thing a.title {\\n    color: #3399cc\\n}  \\n\\n#siteTable div.thing a.title:visited {\\n    color: #787878;\\n}\\n  \\n.thing.stickied a.title, .thing.stickied a.title:visited, .thing.stickied a.title.visited {\\n    font-weight: bold;\\n    color: #7a9642 !important;\\n}\\n\\n/****************************************************************************\\n END: viewed/new/sticky link color\\n ****************************************************************************/\\n \\n \\n/****************************************************************************\\n BEGIN: flair color\\n ****************************************************************************/\\n\\n.flair[title*=\"Best of RGD Winner\"], .flair[title*=\"Best of RGD Winner (x2)\"]{\\n    background-color: #A280A2 !important;\\n    font-size: 9px;\\n    font-weight: normal;\\n    color: #FFFFFF !important;\\n    border-color: #FFFFFF;\\n    border-width: 1px;\\n    border-radius: 3px;\\n    padding: 2px;\\n}\\n\\n.flair[title*=\"Best of RGD Winner (x3)\"], .flair[title*=\"Best of RGD Winner (x4)\"]{\\n    background-color: #987298 !important;\\n    font-size: 9px;\\n    font-weight: normal;\\n    color: #FFFFFF !important;\\n    border-color: #FFFFFF;\\n    border-width: 1px;\\n    border-radius: 3px;\\n    padding: 2px;\\n}\\n\\n.flair[title*=\"Best of RGD Winner (x5)\"], .flair[title*=\"Best of RGD Winner (x6)\"]{\\n    background-color: #8D628D !important;\\n    font-size: 9px;\\n    font-weight: normal;\\n    color: #FFFFFF !important;\\n    border-color: #FFFFFF;\\n    border-width: 1px;\\n    border-radius: 3px;\\n    padding: 2px;\\n}\\n\\n.flair[title*=\"Best of RGD Winner (x7)\"], .flair[title*=\"Best of RGD Winner (x8)\"]{\\n    background-color: #805180 !important;\\n    font-size: 9px;\\n    font-weight: normal;\\n    color: #FFFFFF !important;\\n    border-color: #FFFFFF;\\n    border-width: 1px;\\n    border-radius: 3px;\\n    padding: 2px;\\n}\\n\\n.flair[title*=\"Best of RGD Winner (x9)\"], .flair[title*=\"Best of RGD Winner (x10)\"]{\\n    background-color: #602560 !important;\\n    font-size: 9px;\\n    font-weight: normal;\\n    color: #FFFFFF !important;\\n    border-color: #FFFFFF;\\n    border-width: 1px;\\n    border-radius: 3px;\\n    padding: 2px;\\n}\\n\\n\\n\\n.flair[title*=\"Best of RGD Winner (x11)\"], .flair[title*=\"Best of RGD Winner (x12)\"], .flair[title*=\"Best of RGD Winner (x13)\"], \\n.flair[title*=\"Best of RGD Winner (x14)\"], .flair[title*=\"Best of RGD Winner (x15)\"], .flair[title*=\"Best of RGD Winner (x16)\"], .flair[title*=\"Best of RGD Winner (x17)\"], \\n.flair[title*=\"Best of RGD Winner (x18)\"], .flair[title*=\"Best of RGD Winner (x19)\"], .flair[title*=\"Best of RGD Winner (x20)\"], .flair[title*=\"Best of RGD Winner (x21)\"],\\n.flair[title*=\"Best of RGD Winner (x22)\"], .flair[title*=\"Best of RGD Winner (x23)\"], .flair[title*=\"Best of RGD Winner (x24)\"], .flair[title*=\"Best of RGD Winner (x25)\"],\\n.flair[title*=\"Best of RGD Winner (x26)\"], .flair[title*=\"Best of RGD Winner (x27)\"], .flair[title*=\"Best of RGD Winner (x28)\"], .flair[title*=\"Best of RGD Winner (x29)\"],\\n.flair[title*=\"Best of RGD Winner (x30)\"], .flair[title*=\"Best of RGD Winner (x31)\"], .flair[title*=\"Best of RGD Winner (x32)\"], .flair[title*=\"Best of RGD Winner (x33)\"],\\n.flair[title*=\"Best of RGD Winner (x34)\"], .flair[title*=\"Best of RGD Winner (x35)\"], .flair[title*=\"Best of RGD Winner (x36)\"], .flair[title*=\"Best of RGD Winner (x37)\"],\\n.flair[title*=\"Best of RGD Winner (x38)\"], .flair[title*=\"Best of RGD Winner (x39)\"], .flair[title*=\"Best of RGD Winner (x40)\"], .flair[title*=\"Best of RGD Winner (x41)\"],\\n.flair[title*=\"Best of RGD Winner (x42)\"], .flair[title*=\"Best of RGD Winner (x43)\"], .flair[title*=\"Best of RGD Winner (x44)\"], .flair[title*=\"Best of RGD Winner (x45)\"],\\n.flair[title*=\"Best of RGD Winner (x46)\"], .flair[title*=\"Best of RGD Winner (x47)\"], .flair[title*=\"Best of RGD Winner (x48)\"], .flair[title*=\"Best of RGD Winner (x49)\"], .flair[title*=\"Best of RGD Winner (x50)\"]{\\n    background-color: #4D1E4D !important;\\n    font-size: 9px;\\n    font-weight: normal;\\n    color: #FFFFFF !important;\\n    border-color: #FFFFFF;\\n    border-width: 1px;\\n    border-radius: 3px;\\n    padding: 2px;\\n}\\n/****************************************************************************\\n END: flair color\\n ****************************************************************************/\\n \\n\\n/****************************************************************************\\n BEGIN: Make deleted comments less noticeable (Stolen from science)\\n*****************************************************************************/\\n.deleted .grayed {\\n    display: none;\\n}\\n\\n/****************************************************************************\\n END: Make deleted comments less noticeable (Stolen from science)\\n*****************************************************************************/\\n\\n\\n/****************************************************************************\\n BEGIN: Warning message for submissions\\n*****************************************************************************/\\n.sidebox.submit:hover:before{\\n    position:fixed;\\n    display:block;\\n    top:0;\\n    text-align:center;\\n    background-color:#3399cc; /*Edit to your liking*/\\n    color:white; /*Font color*/\\n    z-index:1000;\\n    padding:5px 0;\\n    width:100%;\\n    left:0;\\n    font-size:20px;\\n    font-weight:normal;\\n    content:\"This subreddit is strictly moderated. Please read the rules before posting.\"\\n}\\n\\n/****************************************************************************\\n END: Warning message for submissions\\n*****************************************************************************/\\n\\n\\n/****************************************************************************\\n BEGIN: Announcement banner\\n*****************************************************************************/\\n.titlebox .usertext-body .md h6 {\\n    position: absolute;\\n    top: 125px;\\n    left: 10px;\\n    z-index: 100;\\n}\\n.usertext-body .md h6 {\\n    line-height: 13px;\\n    margin: 0 auto;\\n    height: 18px;\\n    white-space: nowrap;\\n    background:#96bf43;\\n    opacity:0.9;\\n    /*background: url(%%image%%);*/ /* optional */\\n    font-size: 13px;\\n    font-weight: normal;\\n    color: #FFFFFF;\\n    text-align: center;\\n/* 2nd px padding sets the width of the banner */\\n    padding: 5px 10px 0px 10px;\\n    display: block;\\n    border-top-right-radius: 10px;\\n    border-bottom-right-radius: 10px;\\n    border-top-left-radius: 10px;\\n    border-bottom-left-radius: 10px;\\n}\\n  \\n/* use ######yourmessagehere in sidebar */\\n\\n/****************************************************************************\\n END: Announcement banner\\n*****************************************************************************/',\n",
        " u'subreddit_id': u't5_2tjl7'}"
       ]
      }
     ],
     "prompt_number": 56
    },
    {
     "cell_type": "code",
     "collapsed": true,
     "input": [
      "seclis = list(rd.get_comments())"
     ],
     "language": "python",
     "metadata": {},
     "outputs": [],
     "prompt_number": 57
    },
    {
     "cell_type": "code",
     "collapsed": true,
     "input": [
      "newcoms = []"
     ],
     "language": "python",
     "metadata": {},
     "outputs": [],
     "prompt_number": 58
    },
    {
     "cell_type": "code",
     "collapsed": false,
     "input": [
      "for comes in seclis:\n",
      "    print (comes)\n",
      "    newcoms.append(comes)"
     ],
     "language": "python",
     "metadata": {},
     "outputs": [
      {
       "output_type": "stream",
       "stream": "stdout",
       "text": [
        "Thank you, glad you like it!\n",
        "&lt;3 this!\n",
        "[Here's a 40 minute sketch](http://i.imgur.com/1fdN3fd.png)\n",
        "Your submission has been automatically removed. **All images must be uploaded...\n",
        "So appropriate as many people tell me I'm a big bird.   Haha.   I like it,  t...\n",
        "I have a stalker.   Haha. \n",
        "This is fantastic!!!! You do wonderful work!!\n",
        "Here you go :P \n",
        "http://imgur.com/jqqQjIY\n",
        "Ahh! It's so cool! Thank you :)\n",
        "You are welcome. Really glad you liked it, and thank you for the pic.\n",
        "Yep, I had a bit of break before finding RGD. It's a great motivator!   and t...\n",
        "How many worlds have [you](http://imgur.com/EbFSIto) destroyed today?\n",
        "As long as you promise to.. keep being annoying with so much good art, everyt...\n",
        "Gave it a shot. Dancing whirlwind :)\n",
        "\n",
        "http://imgur.com/q8Kbc4h\n",
        "Thanks!\n",
        "Haha, the jazzed up version is awesome! (As is the original, nice work)\n",
        "\n",
        "There's a reason /u/Enevon has been an RGD winner 26 times... :-)\n",
        "\n",
        "SORRY I ANNOYED YOU WITH MY ART!!!!^jk^:-*^I^love^you\n",
        "\n",
        "Gz to you too!!!! That...\n",
        "[you know what they say about me](http://i.imgur.com/hUr28s4.gif)\n",
        "many thanks!\n",
        "Here's a [quick one](http://i.imgur.com/1jozK53.jpg) before heading out to wo...\n",
        "[watercolour](https://33.media.tumblr.com/7318ccc8f9a60707ecfa95f3186a4252/tu...\n",
        "Witchard?\n",
        "\n",
        "and, Argh!.. I've never wanted to placeholder a pic so badly!\n",
        "gave it a shot...\n",
        "\n",
        "http://i.imgur.com/Ior7YPQ.jpg :)\n",
        "I got picked in the same SgtMaryMary slot as FinaSusu!  Too Much Honoured!\n"
       ]
      }
     ],
     "prompt_number": 59
    },
    {
     "cell_type": "code",
     "collapsed": true,
     "input": [
      "senrgd = []"
     ],
     "language": "python",
     "metadata": {},
     "outputs": [],
     "prompt_number": 60
    },
    {
     "cell_type": "code",
     "collapsed": true,
     "input": [
      "for comz in newcoms:\n",
      "    print comz\n",
      "    senrgd.append(comz.submission.url)"
     ],
     "language": "python",
     "metadata": {},
     "outputs": [
      {
       "output_type": "stream",
       "stream": "stdout",
       "text": [
        "Thank you, glad you like it!\n",
        "&lt;3 this!"
       ]
      },
      {
       "output_type": "stream",
       "stream": "stdout",
       "text": [
        "\n",
        "[Here's a 40 minute sketch](http://i.imgur.com/1fdN3fd.png)"
       ]
      },
      {
       "output_type": "stream",
       "stream": "stdout",
       "text": [
        "\n",
        "Your submission has been automatically removed. **All images must be uploaded..."
       ]
      },
      {
       "output_type": "stream",
       "stream": "stdout",
       "text": [
        "\n",
        "So appropriate as many people tell me I'm a big bird.   Haha.   I like it,  t..."
       ]
      },
      {
       "output_type": "stream",
       "stream": "stdout",
       "text": [
        "\n",
        "I have a stalker.   Haha. "
       ]
      },
      {
       "output_type": "stream",
       "stream": "stdout",
       "text": [
        "\n",
        "This is fantastic!!!! You do wonderful work!!\n",
        "Here you go :P \n",
        "http://imgur.com/jqqQjIY\n",
        "Ahh! It's so cool! Thank you :)"
       ]
      },
      {
       "output_type": "stream",
       "stream": "stdout",
       "text": [
        "\n",
        "You are welcome. Really glad you liked it, and thank you for the pic."
       ]
      },
      {
       "output_type": "stream",
       "stream": "stdout",
       "text": [
        "\n",
        "Yep, I had a bit of break before finding RGD. It's a great motivator!   and t..."
       ]
      },
      {
       "output_type": "stream",
       "stream": "stdout",
       "text": [
        "\n",
        "How many worlds have [you](http://imgur.com/EbFSIto) destroyed today?"
       ]
      },
      {
       "output_type": "stream",
       "stream": "stdout",
       "text": [
        "\n",
        "As long as you promise to.. keep being annoying with so much good art, everyt..."
       ]
      },
      {
       "output_type": "stream",
       "stream": "stdout",
       "text": [
        "\n",
        "Gave it a shot. Dancing whirlwind :)\n",
        "\n",
        "http://imgur.com/q8Kbc4h"
       ]
      },
      {
       "output_type": "stream",
       "stream": "stdout",
       "text": [
        "\n",
        "Thanks!"
       ]
      },
      {
       "output_type": "stream",
       "stream": "stdout",
       "text": [
        "\n",
        "Haha, the jazzed up version is awesome! (As is the original, nice work)\n",
        "\n",
        "There's a reason /u/Enevon has been an RGD winner 26 times... :-)\n"
       ]
      },
      {
       "output_type": "stream",
       "stream": "stdout",
       "text": [
        "\n",
        "SORRY I ANNOYED YOU WITH MY ART!!!!^jk^:-*^I^love^you\n",
        "\n",
        "Gz to you too!!!! That...\n",
        "[you know what they say about me](http://i.imgur.com/hUr28s4.gif)\n",
        "many thanks!"
       ]
      },
      {
       "output_type": "stream",
       "stream": "stdout",
       "text": [
        "\n",
        "Here's a [quick one](http://i.imgur.com/1jozK53.jpg) before heading out to wo...\n",
        "[watercolour](https://33.media.tumblr.com/7318ccc8f9a60707ecfa95f3186a4252/tu...\n",
        "Witchard?\n",
        "\n",
        "and, Argh!.. I've never wanted to placeholder a pic so badly!\n",
        "gave it a shot...\n",
        "\n",
        "http://i.imgur.com/Ior7YPQ.jpg :)\n",
        "I got picked in the same SgtMaryMary slot as FinaSusu!  Too Much Honoured!\n"
       ]
      }
     ],
     "prompt_number": 61
    },
    {
     "cell_type": "code",
     "collapsed": false,
     "input": [
      "senlis = []"
     ],
     "language": "python",
     "metadata": {},
     "outputs": [],
     "prompt_number": 66
    },
    {
     "cell_type": "code",
     "collapsed": false,
     "input": [
      "for sen in senrgd:\n",
      "    if '.jpg' in sen:\n",
      "        senlis.append(sen)"
     ],
     "language": "python",
     "metadata": {},
     "outputs": [],
     "prompt_number": 67
    },
    {
     "cell_type": "code",
     "collapsed": false,
     "input": [
      "senlis"
     ],
     "language": "python",
     "metadata": {},
     "outputs": [
      {
       "metadata": {},
       "output_type": "pyout",
       "prompt_number": 68,
       "text": [
        "[u'http://i.imgur.com/k6zWbLE.jpg',\n",
        " u'https://fbcdn-sphotos-g-a.akamaihd.net/hphotos-ak-xaf1/v/t1.0-9/1926729_10151904258802441_196393728_n.jpg?oh=c749af2ba93b50bbef800932501a6192&amp;oe=5454D3CF&amp;__gda__=1413757252_164f0905f38700f604da509d87a998cc',\n",
        " u'http://i.imgur.com/tCAhL8d.jpg',\n",
        " u'http://i.imgur.com/tCAhL8d.jpg',\n",
        " u'http://i.imgur.com/ETnGwP9.jpg',\n",
        " u'http://i.imgur.com/k6zWbLE.jpg',\n",
        " u'http://i.imgur.com/ETnGwP9.jpg']"
       ]
      }
     ],
     "prompt_number": 68
    },
    {
     "cell_type": "code",
     "collapsed": true,
     "input": [
      "import pyimgur"
     ],
     "language": "python",
     "metadata": {},
     "outputs": [],
     "prompt_number": 69
    },
    {
     "cell_type": "code",
     "collapsed": true,
     "input": [
      "pyimgur.Imgur.upload_image"
     ],
     "language": "python",
     "metadata": {},
     "outputs": [
      {
       "metadata": {},
       "output_type": "pyout",
       "prompt_number": 70,
       "text": [
        "<unbound method Imgur.upload_image>"
       ]
      }
     ],
     "prompt_number": 70
    },
    {
     "cell_type": "code",
     "collapsed": true,
     "input": [
      "comz.submission.url"
     ],
     "language": "python",
     "metadata": {},
     "outputs": [
      {
       "metadata": {},
       "output_type": "pyout",
       "prompt_number": 64,
       "text": [
        "u'http://www.reddit.com/r/redditgetsdrawn/comments/2ci5tz/its_time_for_rgd_mod_favorites_july_27_august_2/'"
       ]
      }
     ],
     "prompt_number": 64
    },
    {
     "cell_type": "code",
     "collapsed": true,
     "input": [
      "allcom = r.get_subreddit('redditgetsdrawn')"
     ],
     "language": "python",
     "metadata": {},
     "outputs": [],
     "prompt_number": 71
    },
    {
     "cell_type": "code",
     "collapsed": true,
     "input": [
      "lisbox = senrgd[1]"
     ],
     "language": "python",
     "metadata": {},
     "outputs": [],
     "prompt_number": 72
    },
    {
     "cell_type": "code",
     "collapsed": false,
     "input": [
      "import bs4"
     ],
     "language": "python",
     "metadata": {},
     "outputs": [],
     "prompt_number": 73
    },
    {
     "cell_type": "code",
     "collapsed": false,
     "input": [
      "soup = bs4.BeautifulSoup(lisbox)"
     ],
     "language": "python",
     "metadata": {},
     "outputs": [
      {
       "output_type": "stream",
       "stream": "stderr",
       "text": [
        "/usr/local/lib/python2.7/dist-packages/bs4/__init__.py:189: UserWarning: \"http://i.imgur.com/k6zWbLE.jpg\" looks like a URL. Beautiful Soup is not an HTTP client. You should probably use an HTTP client to get the document behind the URL, and feed that document to Beautiful Soup.\n",
        "  '\"%s\" looks like a URL. Beautiful Soup is not an HTTP client. You should probably use an HTTP client to get the document behind the URL, and feed that document to Beautiful Soup.' % markup)\n"
       ]
      }
     ],
     "prompt_number": 74
    },
    {
     "cell_type": "code",
     "collapsed": false,
     "input": [
      "soup.contents"
     ],
     "language": "python",
     "metadata": {},
     "outputs": [
      {
       "metadata": {},
       "output_type": "pyout",
       "prompt_number": 75,
       "text": [
        "[u'http://i.imgur.com/k6zWbLE.jpg']"
       ]
      }
     ],
     "prompt_number": 75
    },
    {
     "cell_type": "code",
     "collapsed": false,
     "input": [
      "soup.index"
     ],
     "language": "python",
     "metadata": {},
     "outputs": [
      {
       "metadata": {},
       "output_type": "pyout",
       "prompt_number": 76,
       "text": [
        "<bound method BeautifulSoup.index of http://i.imgur.com/k6zWbLE.jpg>"
       ]
      }
     ],
     "prompt_number": 76
    },
    {
     "cell_type": "code",
     "collapsed": false,
     "input": [
      "print soup.name\n",
      "print soup.contents"
     ],
     "language": "python",
     "metadata": {},
     "outputs": [
      {
       "output_type": "stream",
       "stream": "stdout",
       "text": [
        "[document]\n",
        "[u'http://i.imgur.com/k6zWbLE.jpg']\n"
       ]
      }
     ],
     "prompt_number": 77
    },
    {
     "cell_type": "code",
     "collapsed": false,
     "input": [
      "myString = str(soup.string)\n",
      "\n",
      "rdgimg = re.search(\"(?P<url>https?://[^\\s]+)\", myString).group(\"url\")"
     ],
     "language": "python",
     "metadata": {},
     "outputs": [
      {
       "ename": "TypeError",
       "evalue": "'list' object is not callable",
       "output_type": "pyerr",
       "traceback": [
        "\u001b[1;31m---------------------------------------------------------------------------\u001b[0m\n\u001b[1;31mTypeError\u001b[0m                                 Traceback (most recent call last)",
        "\u001b[1;32m<ipython-input-78-77099d5fcdba>\u001b[0m in \u001b[0;36m<module>\u001b[1;34m()\u001b[0m\n\u001b[1;32m----> 1\u001b[1;33m \u001b[0mmyString\u001b[0m \u001b[1;33m=\u001b[0m \u001b[0mstr\u001b[0m\u001b[1;33m(\u001b[0m\u001b[0msoup\u001b[0m\u001b[1;33m.\u001b[0m\u001b[0mstring\u001b[0m\u001b[1;33m)\u001b[0m\u001b[1;33m\u001b[0m\u001b[0m\n\u001b[0m\u001b[0;32m      2\u001b[0m \u001b[1;33m\u001b[0m\u001b[0m\n\u001b[0;32m      3\u001b[0m \u001b[0mrdgimg\u001b[0m \u001b[1;33m=\u001b[0m \u001b[0mre\u001b[0m\u001b[1;33m.\u001b[0m\u001b[0msearch\u001b[0m\u001b[1;33m(\u001b[0m\u001b[1;34m\"(?P<url>https?://[^\\s]+)\"\u001b[0m\u001b[1;33m,\u001b[0m \u001b[0mmyString\u001b[0m\u001b[1;33m)\u001b[0m\u001b[1;33m.\u001b[0m\u001b[0mgroup\u001b[0m\u001b[1;33m(\u001b[0m\u001b[1;34m\"url\"\u001b[0m\u001b[1;33m)\u001b[0m\u001b[1;33m\u001b[0m\u001b[0m\n",
        "\u001b[1;31mTypeError\u001b[0m: 'list' object is not callable"
       ]
      }
     ],
     "prompt_number": 78
    },
    {
     "cell_type": "code",
     "collapsed": false,
     "input": [
      "from IPython.display import Image"
     ],
     "language": "python",
     "metadata": {},
     "outputs": [],
     "prompt_number": 79
    },
    {
     "cell_type": "code",
     "collapsed": false,
     "input": [
      "print rdgimg"
     ],
     "language": "python",
     "metadata": {},
     "outputs": [
      {
       "ename": "NameError",
       "evalue": "name 'rdgimg' is not defined",
       "output_type": "pyerr",
       "traceback": [
        "\u001b[1;31m---------------------------------------------------------------------------\u001b[0m\n\u001b[1;31mNameError\u001b[0m                                 Traceback (most recent call last)",
        "\u001b[1;32m<ipython-input-80-ca53a01c245e>\u001b[0m in \u001b[0;36m<module>\u001b[1;34m()\u001b[0m\n\u001b[1;32m----> 1\u001b[1;33m \u001b[1;32mprint\u001b[0m \u001b[0mrdgimg\u001b[0m\u001b[1;33m\u001b[0m\u001b[0m\n\u001b[0m",
        "\u001b[1;31mNameError\u001b[0m: name 'rdgimg' is not defined"
       ]
      }
     ],
     "prompt_number": 80
    },
    {
     "cell_type": "code",
     "collapsed": false,
     "input": [
      "os.chdir('/home/wcmckee/rgd')"
     ],
     "language": "python",
     "metadata": {},
     "outputs": [
      {
       "ename": "OSError",
       "evalue": "[Errno 2] No such file or directory: '/home/wcmckee/rgd'",
       "output_type": "pyerr",
       "traceback": [
        "\u001b[1;31m---------------------------------------------------------------------------\u001b[0m\n\u001b[1;31mOSError\u001b[0m                                   Traceback (most recent call last)",
        "\u001b[1;32m<ipython-input-81-b53828a90ae6>\u001b[0m in \u001b[0;36m<module>\u001b[1;34m()\u001b[0m\n\u001b[1;32m----> 1\u001b[1;33m \u001b[0mos\u001b[0m\u001b[1;33m.\u001b[0m\u001b[0mchdir\u001b[0m\u001b[1;33m(\u001b[0m\u001b[1;34m'/home/wcmckee/rgd'\u001b[0m\u001b[1;33m)\u001b[0m\u001b[1;33m\u001b[0m\u001b[0m\n\u001b[0m",
        "\u001b[1;31mOSError\u001b[0m: [Errno 2] No such file or directory: '/home/wcmckee/rgd'"
       ]
      }
     ],
     "prompt_number": 81
    },
    {
     "cell_type": "code",
     "collapsed": false,
     "input": [
      "import requests"
     ],
     "language": "python",
     "metadata": {},
     "outputs": [],
     "prompt_number": 82
    },
    {
     "cell_type": "code",
     "collapsed": false,
     "input": [
      "reqrgd = requests.get(rdgimg)"
     ],
     "language": "python",
     "metadata": {},
     "outputs": [
      {
       "ename": "NameError",
       "evalue": "name 'rdgimg' is not defined",
       "output_type": "pyerr",
       "traceback": [
        "\u001b[1;31m---------------------------------------------------------------------------\u001b[0m\n\u001b[1;31mNameError\u001b[0m                                 Traceback (most recent call last)",
        "\u001b[1;32m<ipython-input-83-f4c125b89c40>\u001b[0m in \u001b[0;36m<module>\u001b[1;34m()\u001b[0m\n\u001b[1;32m----> 1\u001b[1;33m \u001b[0mreqrgd\u001b[0m \u001b[1;33m=\u001b[0m \u001b[0mrequests\u001b[0m\u001b[1;33m.\u001b[0m\u001b[0mget\u001b[0m\u001b[1;33m(\u001b[0m\u001b[0mrdgimg\u001b[0m\u001b[1;33m)\u001b[0m\u001b[1;33m\u001b[0m\u001b[0m\n\u001b[0m",
        "\u001b[1;31mNameError\u001b[0m: name 'rdgimg' is not defined"
       ]
      }
     ],
     "prompt_number": 83
    },
    {
     "cell_type": "code",
     "collapsed": false,
     "input": [
      "#reqrgd.text"
     ],
     "language": "python",
     "metadata": {},
     "outputs": [],
     "prompt_number": 84
    },
    {
     "cell_type": "code",
     "collapsed": false,
     "input": [
      "finz = (comus + '.jpg')"
     ],
     "language": "python",
     "metadata": {},
     "outputs": [
      {
       "ename": "NameError",
       "evalue": "name 'comus' is not defined",
       "output_type": "pyerr",
       "traceback": [
        "\u001b[1;31m---------------------------------------------------------------------------\u001b[0m\n\u001b[1;31mNameError\u001b[0m                                 Traceback (most recent call last)",
        "\u001b[1;32m<ipython-input-85-8e450c6bf7e2>\u001b[0m in \u001b[0;36m<module>\u001b[1;34m()\u001b[0m\n\u001b[1;32m----> 1\u001b[1;33m \u001b[0mfinz\u001b[0m \u001b[1;33m=\u001b[0m \u001b[1;33m(\u001b[0m\u001b[0mcomus\u001b[0m \u001b[1;33m+\u001b[0m \u001b[1;34m'.jpg'\u001b[0m\u001b[1;33m)\u001b[0m\u001b[1;33m\u001b[0m\u001b[0m\n\u001b[0m",
        "\u001b[1;31mNameError\u001b[0m: name 'comus' is not defined"
       ]
      }
     ],
     "prompt_number": 85
    },
    {
     "cell_type": "code",
     "collapsed": false,
     "input": [
      "savrgd = open(finz, 'wb')"
     ],
     "language": "python",
     "metadata": {},
     "outputs": [
      {
       "ename": "NameError",
       "evalue": "name 'finz' is not defined",
       "output_type": "pyerr",
       "traceback": [
        "\u001b[1;31m---------------------------------------------------------------------------\u001b[0m\n\u001b[1;31mNameError\u001b[0m                                 Traceback (most recent call last)",
        "\u001b[1;32m<ipython-input-86-c38a3fc633e7>\u001b[0m in \u001b[0;36m<module>\u001b[1;34m()\u001b[0m\n\u001b[1;32m----> 1\u001b[1;33m \u001b[0msavrgd\u001b[0m \u001b[1;33m=\u001b[0m \u001b[0mopen\u001b[0m\u001b[1;33m(\u001b[0m\u001b[0mfinz\u001b[0m\u001b[1;33m,\u001b[0m \u001b[1;34m'wb'\u001b[0m\u001b[1;33m)\u001b[0m\u001b[1;33m\u001b[0m\u001b[0m\n\u001b[0m",
        "\u001b[1;31mNameError\u001b[0m: name 'finz' is not defined"
       ]
      }
     ],
     "prompt_number": 86
    },
    {
     "cell_type": "code",
     "collapsed": false,
     "input": [
      "savrgd.write(reqrgd.url)\n",
      "savrgd.close()"
     ],
     "language": "python",
     "metadata": {},
     "outputs": [
      {
       "ename": "NameError",
       "evalue": "name 'savrgd' is not defined",
       "output_type": "pyerr",
       "traceback": [
        "\u001b[1;31m---------------------------------------------------------------------------\u001b[0m\n\u001b[1;31mNameError\u001b[0m                                 Traceback (most recent call last)",
        "\u001b[1;32m<ipython-input-87-00e6f48860e9>\u001b[0m in \u001b[0;36m<module>\u001b[1;34m()\u001b[0m\n\u001b[1;32m----> 1\u001b[1;33m \u001b[0msavrgd\u001b[0m\u001b[1;33m.\u001b[0m\u001b[0mwrite\u001b[0m\u001b[1;33m(\u001b[0m\u001b[0mreqrgd\u001b[0m\u001b[1;33m.\u001b[0m\u001b[0murl\u001b[0m\u001b[1;33m)\u001b[0m\u001b[1;33m\u001b[0m\u001b[0m\n\u001b[0m\u001b[0;32m      2\u001b[0m \u001b[0msavrgd\u001b[0m\u001b[1;33m.\u001b[0m\u001b[0mclose\u001b[0m\u001b[1;33m(\u001b[0m\u001b[1;33m)\u001b[0m\u001b[1;33m\u001b[0m\u001b[0m\n",
        "\u001b[1;31mNameError\u001b[0m: name 'savrgd' is not defined"
       ]
      }
     ],
     "prompt_number": 87
    },
    {
     "cell_type": "code",
     "collapsed": false,
     "input": [
      "finz"
     ],
     "language": "python",
     "metadata": {},
     "outputs": [
      {
       "ename": "NameError",
       "evalue": "name 'finz' is not defined",
       "output_type": "pyerr",
       "traceback": [
        "\u001b[1;31m---------------------------------------------------------------------------\u001b[0m\n\u001b[1;31mNameError\u001b[0m                                 Traceback (most recent call last)",
        "\u001b[1;32m<ipython-input-88-f4a89cf5ee16>\u001b[0m in \u001b[0;36m<module>\u001b[1;34m()\u001b[0m\n\u001b[1;32m----> 1\u001b[1;33m \u001b[0mfinz\u001b[0m\u001b[1;33m\u001b[0m\u001b[0m\n\u001b[0m",
        "\u001b[1;31mNameError\u001b[0m: name 'finz' is not defined"
       ]
      }
     ],
     "prompt_number": 88
    },
    {
     "cell_type": "code",
     "collapsed": false,
     "input": [
      "import urllib\n",
      "resource = urllib.urlopen(rdgimg)\n",
      "output = open(finz,\"wb\")\n",
      "output.write(resource.read())\n",
      "output.close()"
     ],
     "language": "python",
     "metadata": {},
     "outputs": [
      {
       "ename": "NameError",
       "evalue": "name 'rdgimg' is not defined",
       "output_type": "pyerr",
       "traceback": [
        "\u001b[1;31m---------------------------------------------------------------------------\u001b[0m\n\u001b[1;31mNameError\u001b[0m                                 Traceback (most recent call last)",
        "\u001b[1;32m<ipython-input-89-e88360a7c01b>\u001b[0m in \u001b[0;36m<module>\u001b[1;34m()\u001b[0m\n\u001b[0;32m      1\u001b[0m \u001b[1;32mimport\u001b[0m \u001b[0murllib\u001b[0m\u001b[1;33m\u001b[0m\u001b[0m\n\u001b[1;32m----> 2\u001b[1;33m \u001b[0mresource\u001b[0m \u001b[1;33m=\u001b[0m \u001b[0murllib\u001b[0m\u001b[1;33m.\u001b[0m\u001b[0murlopen\u001b[0m\u001b[1;33m(\u001b[0m\u001b[0mrdgimg\u001b[0m\u001b[1;33m)\u001b[0m\u001b[1;33m\u001b[0m\u001b[0m\n\u001b[0m\u001b[0;32m      3\u001b[0m \u001b[0moutput\u001b[0m \u001b[1;33m=\u001b[0m \u001b[0mopen\u001b[0m\u001b[1;33m(\u001b[0m\u001b[0mfinz\u001b[0m\u001b[1;33m,\u001b[0m\u001b[1;34m\"wb\"\u001b[0m\u001b[1;33m)\u001b[0m\u001b[1;33m\u001b[0m\u001b[0m\n\u001b[0;32m      4\u001b[0m \u001b[0moutput\u001b[0m\u001b[1;33m.\u001b[0m\u001b[0mwrite\u001b[0m\u001b[1;33m(\u001b[0m\u001b[0mresource\u001b[0m\u001b[1;33m.\u001b[0m\u001b[0mread\u001b[0m\u001b[1;33m(\u001b[0m\u001b[1;33m)\u001b[0m\u001b[1;33m)\u001b[0m\u001b[1;33m\u001b[0m\u001b[0m\n\u001b[0;32m      5\u001b[0m \u001b[0moutput\u001b[0m\u001b[1;33m.\u001b[0m\u001b[0mclose\u001b[0m\u001b[1;33m(\u001b[0m\u001b[1;33m)\u001b[0m\u001b[1;33m\u001b[0m\u001b[0m\n",
        "\u001b[1;31mNameError\u001b[0m: name 'rdgimg' is not defined"
       ]
      }
     ],
     "prompt_number": 89
    },
    {
     "cell_type": "code",
     "collapsed": false,
     "input": [
      "ls"
     ],
     "language": "python",
     "metadata": {},
     "outputs": [
      {
       "output_type": "stream",
       "stream": "stdout",
       "text": [
        "Game Of Thrones.html  index.ipynb       rgdsnatch.ipynb\r\n",
        "LICENSE               index.py          rgdsnatch.py\r\n",
        "NumPyExplore.html     json.html         scrapnot.html\r\n",
        "NumPyExplore.ipynb    json.ipynb        scrapnot.ipynb\r\n",
        "README.md             jsonBehind.html   skins.html\r\n",
        "Untitled0.html        jsonBehind.ipynb  skins.ipynb\r\n",
        "Untitled0.ipynb       karen.html        sortbooks.html\r\n",
        "Untitled1.html        karen.ipynb       sortbooks.ipynb\r\n",
        "Untitled1.ipynb       linkz             spellcheckin.html\r\n",
        "adypost.html          loop.html         spellcheckin.ipynb\r\n",
        "adypost.ipynb         loop.ipynb        tarpipe.html\r\n",
        "adypost.py            markdown.html     tarpipe.ipynb\r\n",
        "aklmcam.html          markdown.ipynb    tarpipe.py\r\n",
        "aklmcam.ipynb         master.html       test-wp.html\r\n",
        "aklmcam.py            metatime.html     test-wp.ipynb\r\n",
        "artcontrol.html       metatime.ipynb    test.html\r\n",
        "artcontrol.ipynb      myfile.txt        test.ipynb\r\n",
        "artcontrol.py         nbconv.html       testing.txt\r\n",
        "bugit.html            nbconv.ipynb      tlc.html\r\n",
        "bugit.ipynb           nbconv.py         tlc.ipynb\r\n",
        "bugit.py              netcafe.html      tpb.html\r\n",
        "compohub.ipynb        netcafe.ipynb     tpb.ipynb\r\n",
        "compohub.py           opche.html        url redirect.html\r\n",
        "digzocean.html        opche.ipynb       url redirect.ipynb\r\n",
        "digzocean.ipynb       openimg.html      utils.html\r\n",
        "digzocean.py          openimg.ipynb     utils.ipynb\r\n",
        "flask-test.html       output            wallpapersav.html\r\n",
        "flask-test.ipynb      outpuz.txt        wallpapersav.ipynb\r\n",
        "flask-test.py         pyEmailz.html     wcmdocker.html\r\n",
        "ftpWCM.html           pyEmailz.ipynb    wcmdocker.ipynb\r\n",
        "ftpWCM.ipynb          pyatakl.html      wcmgit.html\r\n",
        "ftpWCM.py             pyatakl.ipynb     wcmgit.ipynb\r\n",
        "getdrawn.html         pydog.html        webData.html\r\n",
        "getdrawn.ipynb        pydog.ipynb       webData.ipynb\r\n",
        "getdrawn.py           pynztacam.html    webData.py\r\n",
        "hackbrobeur.html      pynztacam.ipynb   whai.html\r\n",
        "hackbrobeur.ipynb     pyssh.html        whai.ipynb\r\n",
        "hackbrobeur.py        pyssh.ipynb       wiki.md\r\n",
        "hamgar.html           redTube.html      wirePIL.html\r\n",
        "hamgar.ipynb          redTube.ipynb     wirePIL.ipynb\r\n",
        "\u001b[0m\u001b[01;34mhtml\u001b[0m/                 reddit.html       wordpress.html\r\n",
        "htmldoc               reddit.ipynb      wordpress.ipynb\r\n",
        "imgedit.ipynb         reddit.py\r\n",
        "index.html            rgdsnatch.html\r\n"
       ]
      }
     ],
     "prompt_number": 90
    },
    {
     "cell_type": "code",
     "collapsed": true,
     "input": [
      "dizusr = Image(filename=finz)"
     ],
     "language": "python",
     "metadata": {},
     "outputs": [
      {
       "ename": "NameError",
       "evalue": "name 'finz' is not defined",
       "output_type": "pyerr",
       "traceback": [
        "\u001b[1;31m---------------------------------------------------------------------------\u001b[0m\n\u001b[1;31mNameError\u001b[0m                                 Traceback (most recent call last)",
        "\u001b[1;32m<ipython-input-91-48bb6f1a6e7b>\u001b[0m in \u001b[0;36m<module>\u001b[1;34m()\u001b[0m\n\u001b[1;32m----> 1\u001b[1;33m \u001b[0mdizusr\u001b[0m \u001b[1;33m=\u001b[0m \u001b[0mImage\u001b[0m\u001b[1;33m(\u001b[0m\u001b[0mfilename\u001b[0m\u001b[1;33m=\u001b[0m\u001b[0mfinz\u001b[0m\u001b[1;33m)\u001b[0m\u001b[1;33m\u001b[0m\u001b[0m\n\u001b[0m",
        "\u001b[1;31mNameError\u001b[0m: name 'finz' is not defined"
       ]
      }
     ],
     "prompt_number": 91
    },
    {
     "cell_type": "code",
     "collapsed": false,
     "input": [],
     "language": "python",
     "metadata": {},
     "outputs": [],
     "prompt_number": 91
    },
    {
     "cell_type": "code",
     "collapsed": true,
     "input": [
      "dizusr"
     ],
     "language": "python",
     "metadata": {},
     "outputs": [
      {
       "ename": "NameError",
       "evalue": "name 'dizusr' is not defined",
       "output_type": "pyerr",
       "traceback": [
        "\u001b[1;31m---------------------------------------------------------------------------\u001b[0m\n\u001b[1;31mNameError\u001b[0m                                 Traceback (most recent call last)",
        "\u001b[1;32m<ipython-input-92-748782340326>\u001b[0m in \u001b[0;36m<module>\u001b[1;34m()\u001b[0m\n\u001b[1;32m----> 1\u001b[1;33m \u001b[0mdizusr\u001b[0m\u001b[1;33m\u001b[0m\u001b[0m\n\u001b[0m",
        "\u001b[1;31mNameError\u001b[0m: name 'dizusr' is not defined"
       ]
      }
     ],
     "prompt_number": 92
    },
    {
     "cell_type": "code",
     "collapsed": true,
     "input": [
      "r.login('snatchrgd', 'camp123')\n",
      "#r.login('artcontrol', 'test123')"
     ],
     "language": "python",
     "metadata": {},
     "outputs": [],
     "prompt_number": 98
    },
    {
     "cell_type": "code",
     "collapsed": true,
     "input": [
      "r.client_id"
     ],
     "language": "python",
     "metadata": {},
     "outputs": [],
     "prompt_number": 99
    },
    {
     "cell_type": "code",
     "collapsed": true,
     "input": [
      "redfront = r.get_front_page()"
     ],
     "language": "python",
     "metadata": {},
     "outputs": [],
     "prompt_number": 100
    },
    {
     "cell_type": "code",
     "collapsed": true,
     "input": [
      "for red in redfront:\n",
      "    print red"
     ],
     "language": "python",
     "metadata": {},
     "outputs": [
      {
       "output_type": "stream",
       "stream": "stdout",
       "text": [
        "2865 :: I saw the train too\n",
        "4238 :: Miley Cyrus crashes professor's physics lesson\n",
        "2729 :: France: Israel security does not justify \u2018slaughter\u2019\n",
        "3782 :: I've always wondered how the musicians at Vans Warped Tour don't die ...\n",
        "1820 :: Lord Arch George, Victoria Australia by unknown [843x596]\n",
        "2748 :: TIL Carl Sagan describes the Bermuda Triangle as a statistical fallac...\n",
        "2929 :: Always the most satisfying FPS kill [FIXED]\n",
        "3121 :: Teriyaki Chicken in a Pineapple Bowl\n",
        "3895 :: I crossed IMDB's top 250 list with movies available on Netflix and ma...\n",
        "1252 :: This website has same design for 17 years.\n",
        "2454 :: Man Locks Himself In Hot Car To Prove That Babies And Dogs Are Cowards\n",
        "3743 :: Thanks to the Internet, I have probably seen more naked ladies than a...\n",
        "3167 :: My cousin juster posted this derpy guy on her FB wall. THAT FACE!!!\n",
        "2485 :: Man accidentally kills himself posing with a gun for a Facebook selfie\n",
        "3328 :: My wife made my boys a treehouse.\n",
        "3807 :: I found a pool above the sidewalk today.\n",
        "2950 :: What is something incredibly frightening about our world today that t...\n",
        "1084 :: A girl who grew up in a concentration camp draws a picture of \u201cHome\u201d ...\n",
        "352 :: More military armored surplus going to police departments\n",
        "642 :: John Oliver on Native Advertising\n",
        "1753 :: LPT: Greatly improve your memory using \"memory palaces.\"\n",
        "2109 :: Update for the friend in a coma/Offspring concert thread.\n",
        "1254 :: IamA John Bowman - Father of one of the youngest school shooting vict...\n",
        "2583 :: \"Turing molecules\" Finally discovered. Not only did Alan Turing break...\n",
        "1583 :: where does a lonely ant go when it is separated from its colony?\n"
       ]
      }
     ],
     "prompt_number": 101
    },
    {
     "cell_type": "code",
     "collapsed": true,
     "input": [
      "red"
     ],
     "language": "python",
     "metadata": {},
     "outputs": [
      {
       "metadata": {},
       "output_type": "pyout",
       "prompt_number": 102,
       "text": [
        "<praw.objects.Submission at 0x7f0e3061ad90>"
       ]
      }
     ],
     "prompt_number": 102
    },
    {
     "cell_type": "code",
     "collapsed": true,
     "input": [
      "red.comments"
     ],
     "language": "python",
     "metadata": {},
     "outputs": [
      {
       "metadata": {},
       "output_type": "pyout",
       "prompt_number": 103,
       "text": [
        "[<praw.objects.Comment at 0x7f0e30648250>,\n",
        " <praw.objects.Comment at 0x7f0e30648810>,\n",
        " <praw.objects.Comment at 0x7f0e30648d50>,\n",
        " <praw.objects.Comment at 0x7f0e30666910>,\n",
        " <praw.objects.Comment at 0x7f0e30666a10>,\n",
        " <praw.objects.Comment at 0x7f0e30666ad0>,\n",
        " <praw.objects.MoreComments at 0x7f0e30666b50>]"
       ]
      }
     ],
     "prompt_number": 103
    },
    {
     "cell_type": "code",
     "collapsed": true,
     "input": [
      "red.downs"
     ],
     "language": "python",
     "metadata": {},
     "outputs": [
      {
       "metadata": {},
       "output_type": "pyout",
       "prompt_number": 104,
       "text": [
        "0"
       ]
      }
     ],
     "prompt_number": 104
    },
    {
     "cell_type": "code",
     "collapsed": true,
     "input": [
      "red.title"
     ],
     "language": "python",
     "metadata": {},
     "outputs": [
      {
       "metadata": {},
       "output_type": "pyout",
       "prompt_number": 105,
       "text": [
        "u'where does a lonely ant go when it is separated from its colony?'"
       ]
      }
     ],
     "prompt_number": 105
    },
    {
     "cell_type": "code",
     "collapsed": true,
     "input": [
      "mymod = r.get_my_moderation()"
     ],
     "language": "python",
     "metadata": {},
     "outputs": [],
     "prompt_number": 106
    },
    {
     "cell_type": "code",
     "collapsed": true,
     "input": [
      "for mo in mymod:\n",
      "    print mo"
     ],
     "language": "python",
     "metadata": {},
     "outputs": [
      {
       "output_type": "stream",
       "stream": "stdout",
       "text": [
        "artcontroldrawsyou\n"
       ]
      }
     ],
     "prompt_number": 107
    },
    {
     "cell_type": "code",
     "collapsed": true,
     "input": [
      "rdrawn = r.get_subreddit('redditgetsdrawn')"
     ],
     "language": "python",
     "metadata": {},
     "outputs": [],
     "prompt_number": 108
    },
    {
     "cell_type": "code",
     "collapsed": true,
     "input": [
      "rdrawn.subscribe()"
     ],
     "language": "python",
     "metadata": {},
     "outputs": [
      {
       "metadata": {},
       "output_type": "pyout",
       "prompt_number": 109,
       "text": [
        "{}"
       ]
      }
     ],
     "prompt_number": 109
    },
    {
     "cell_type": "code",
     "collapsed": true,
     "input": [
      "rdnew = rdrawn.get_new"
     ],
     "language": "python",
     "metadata": {},
     "outputs": [],
     "prompt_number": 110
    },
    {
     "cell_type": "code",
     "collapsed": false,
     "input": [
      "rdrawn.submit('test', rdgimg)"
     ],
     "language": "python",
     "metadata": {},
     "outputs": [
      {
       "ename": "NameError",
       "evalue": "name 'rdgimg' is not defined",
       "output_type": "pyerr",
       "traceback": [
        "\u001b[1;31m---------------------------------------------------------------------------\u001b[0m\n\u001b[1;31mNameError\u001b[0m                                 Traceback (most recent call last)",
        "\u001b[1;32m<ipython-input-111-29657f392a3a>\u001b[0m in \u001b[0;36m<module>\u001b[1;34m()\u001b[0m\n\u001b[1;32m----> 1\u001b[1;33m \u001b[0mrdrawn\u001b[0m\u001b[1;33m.\u001b[0m\u001b[0msubmit\u001b[0m\u001b[1;33m(\u001b[0m\u001b[1;34m'test'\u001b[0m\u001b[1;33m,\u001b[0m \u001b[0mrdgimg\u001b[0m\u001b[1;33m)\u001b[0m\u001b[1;33m\u001b[0m\u001b[0m\n\u001b[0m",
        "\u001b[1;31mNameError\u001b[0m: name 'rdgimg' is not defined"
       ]
      }
     ],
     "prompt_number": 111
    },
    {
     "cell_type": "code",
     "collapsed": true,
     "input": [
      "redls = []"
     ],
     "language": "python",
     "metadata": {},
     "outputs": [],
     "prompt_number": 112
    },
    {
     "cell_type": "code",
     "collapsed": true,
     "input": [
      "for rd in rdnew():\n",
      "    print rd\n",
      "    redls.append(rd)"
     ],
     "language": "python",
     "metadata": {},
     "outputs": [
      {
       "output_type": "stream",
       "stream": "stdout",
       "text": [
        "3 :: Fellow artists, would you like to render my muse Zippy?\n",
        "2 :: My daughter is two months old today!\n",
        "1 :: Our 8 month old son loving the sunshine!\n",
        "1 :: Will someone please draw my granddaughter? Any style welcome. Thank you!\n",
        "1 :: Myself portraying a WW2 Canadian paratrooper during a reenactment last May\n",
        "0 :: Can someone draw me and my best friend?\n",
        "1 :: My dad and I at my friend's Quince, would love if someone drew us in som...\n",
        "1 :: I was feeling fierce today, care to draw me?\n",
        "2 :: A couple of pics of me and my flower beard in all it's summery glory! Wo...\n",
        "2 :: I would love to be drawn by a talented artist and see the results :) thi...\n",
        "3 :: Reddit, draw me in my homemade purple maid costume. All art styles and m...\n",
        "7 :: it's actually pretty easy being green (want to draw me?)\n",
        "1 :: Can someone please draw my cousin and I? All styles are greatly apprecia...\n",
        "1 :: Myself seemingly up to no good late at night\n",
        "3 :: Hello artists! I would love to be drawn. All styles welcome, and thanks ...\n",
        "8 :: Hi, it's just me...anyone wanna have a go at it? :) all styles are welcome!\n",
        "3 :: My SO and I.\n",
        "3 :: If reddit could draw my gf that would be awesome, all styles welcome!\n",
        "10 :: This is me and my father underwater. Draw us!\n",
        "2 :: Would love for you guys to have a go at drawing me. All styles welcome!\n",
        "4 :: This is me, the background is also me, don't know how that happened. Dra...\n",
        "1 :: Reunited after a year apart, he clearly missed me.\n",
        "2 :: My younger cousin at the beach\n",
        "13 :: This is me, on a beautiful, care-free day I'd like to always remember. ...\n",
        "0 :: I was quite the womanizer!\n"
       ]
      }
     ],
     "prompt_number": 113
    },
    {
     "cell_type": "code",
     "collapsed": true,
     "input": [
      "    rd.selftext"
     ],
     "language": "python",
     "metadata": {},
     "outputs": [
      {
       "metadata": {},
       "output_type": "pyout",
       "prompt_number": 114,
       "text": [
        "u''"
       ]
      }
     ],
     "prompt_number": 114
    },
    {
     "cell_type": "code",
     "collapsed": true,
     "input": [
      "rdurlz = []\n",
      "rdusers = []"
     ],
     "language": "python",
     "metadata": {},
     "outputs": [],
     "prompt_number": 115
    },
    {
     "cell_type": "code",
     "collapsed": true,
     "input": [
      "for itez in redls:\n",
      "    print itez.url\n",
      "    rdurlz.append(itez.url)\n",
      "    rdusers.append(itez.author)"
     ],
     "language": "python",
     "metadata": {},
     "outputs": [
      {
       "output_type": "stream",
       "stream": "stdout",
       "text": [
        "http://i.imgur.com/kPLXoVD.jpg\n",
        "http://imgur.com/n6nE8yv\n",
        "http://imgur.com/48PTQL9\n",
        "http://i.imgur.com/QxZ83W0.jpg\n",
        "http://i.imgur.com/LgOYBcS.jpg\n",
        "http://imgur.com/55OKmFU\n",
        "http://i.imgur.com/cx0X5hx.jpg\n",
        "http://i.imgur.com/4zeHQrp.jpg\n",
        "http://imgur.com/gallery/4DHzJ/new\n",
        "http://i.imgur.com/eRX1HoR.jpg\n",
        "http://i.imgur.com/f7omtH6.jpg\n",
        "http://i.imgur.com/k6zWbLE.jpg\n",
        "http://i.imgur.com/HQ2CRtf.jpg\n",
        "http://imgur.com/4l71GF7\n",
        "http://imgur.com/s5VPBT7\n",
        "http://imgur.com/2Or37Rp\n",
        "http://imgur.com/gSUjOab\n",
        "http://imgur.com/GnfU6XJ\n",
        "http://i.imgur.com/4BVMVXBh.jpg\n",
        "http://imgur.com/WQnsseE\n",
        "http://i.imgur.com/ETnGwP9.jpg\n",
        "http://imgur.com/uQeYQXx\n",
        "http://i.imgur.com/3memBDF.jpg\n",
        "http://i.imgur.com/bwCQHn8.jpg\n",
        "http://i.imgur.com/T4ms6Pc.jpg\n"
       ]
      }
     ],
     "prompt_number": 116
    },
    {
     "cell_type": "code",
     "collapsed": false,
     "input": [
      "uzrlaz = []"
     ],
     "language": "python",
     "metadata": {},
     "outputs": [],
     "prompt_number": 117
    },
    {
     "cell_type": "code",
     "collapsed": false,
     "input": [
      "rgdict = {'user': 'wcmckee', 'img': 'test'}\n",
      "linkdict = {'links': 'artcontrol', 'user': 'url'}"
     ],
     "language": "python",
     "metadata": {},
     "outputs": [],
     "prompt_number": 118
    },
    {
     "cell_type": "code",
     "collapsed": false,
     "input": [
      "for rduzr in rdusers, :\n",
      "    print rduzr\n",
      "    uzrlaz.append(str(rduzr))\n",
      "    rgdict.update({str(rduzr): 'url'})\n",
      "\n",
      "    "
     ],
     "language": "python",
     "metadata": {},
     "outputs": [
      {
       "output_type": "stream",
       "stream": "stdout",
       "text": [
        "[Redditor(user_name='xrainbow-britex'), Redditor(user_name='BettyVonBlack'), Redditor(user_name='Dharmie-'), Redditor(user_name='life_at_the_lake'), Redditor(user_name='Uhm_yup'), Redditor(user_name='BlubbethGoat'), Redditor(user_name='LeedlePizza'), Redditor(user_name='Zancanda'), Redditor(user_name='fenterson'), Redditor(user_name='kaybaby00'), Redditor(user_name='Fatty_Cat'), Redditor(user_name='cattata'), Redditor(user_name='Omridd1'), Redditor(user_name='Trentl14'), Redditor(user_name='oldschool_ent'), Redditor(user_name='Acromioon'), Redditor(user_name='iloveyousarah'), Redditor(user_name='BlackGuyReadsThis'), Redditor(user_name='Mr_Bl00DY'), Redditor(user_name='2ndhandskin'), Redditor(user_name='orvane'), Redditor(user_name='Booboo_the_bear'), Redditor(user_name='Acemyke'), Redditor(user_name='dddg'), Redditor(user_name='Jisifus')]\n"
       ]
      },
      {
       "ename": "TypeError",
       "evalue": "'list' object is not callable",
       "output_type": "pyerr",
       "traceback": [
        "\u001b[1;31m---------------------------------------------------------------------------\u001b[0m\n\u001b[1;31mTypeError\u001b[0m                                 Traceback (most recent call last)",
        "\u001b[1;32m<ipython-input-119-3671bab66e5c>\u001b[0m in \u001b[0;36m<module>\u001b[1;34m()\u001b[0m\n\u001b[0;32m      1\u001b[0m \u001b[1;32mfor\u001b[0m \u001b[0mrduzr\u001b[0m \u001b[1;32min\u001b[0m \u001b[0mrdusers\u001b[0m\u001b[1;33m,\u001b[0m \u001b[1;33m:\u001b[0m\u001b[1;33m\u001b[0m\u001b[0m\n\u001b[0;32m      2\u001b[0m     \u001b[1;32mprint\u001b[0m \u001b[0mrduzr\u001b[0m\u001b[1;33m\u001b[0m\u001b[0m\n\u001b[1;32m----> 3\u001b[1;33m     \u001b[0muzrlaz\u001b[0m\u001b[1;33m.\u001b[0m\u001b[0mappend\u001b[0m\u001b[1;33m(\u001b[0m\u001b[0mstr\u001b[0m\u001b[1;33m(\u001b[0m\u001b[0mrduzr\u001b[0m\u001b[1;33m)\u001b[0m\u001b[1;33m)\u001b[0m\u001b[1;33m\u001b[0m\u001b[0m\n\u001b[0m\u001b[0;32m      4\u001b[0m     \u001b[0mrgdict\u001b[0m\u001b[1;33m.\u001b[0m\u001b[0mupdate\u001b[0m\u001b[1;33m(\u001b[0m\u001b[1;33m{\u001b[0m\u001b[0mstr\u001b[0m\u001b[1;33m(\u001b[0m\u001b[0mrduzr\u001b[0m\u001b[1;33m)\u001b[0m\u001b[1;33m:\u001b[0m \u001b[1;34m'url'\u001b[0m\u001b[1;33m}\u001b[0m\u001b[1;33m)\u001b[0m\u001b[1;33m\u001b[0m\u001b[0m\n\u001b[0;32m      5\u001b[0m \u001b[1;33m\u001b[0m\u001b[0m\n",
        "\u001b[1;31mTypeError\u001b[0m: 'list' object is not callable"
       ]
      }
     ],
     "prompt_number": 119
    },
    {
     "cell_type": "code",
     "collapsed": false,
     "input": [
      "for itez in redls:\n",
      "    print itez.url\n",
      "    linkdict.update({str(itez.author):itez.url})\n",
      "    "
     ],
     "language": "python",
     "metadata": {},
     "outputs": [
      {
       "output_type": "stream",
       "stream": "stdout",
       "text": [
        "http://i.imgur.com/kPLXoVD.jpg\n"
       ]
      },
      {
       "ename": "TypeError",
       "evalue": "'list' object is not callable",
       "output_type": "pyerr",
       "traceback": [
        "\u001b[1;31m---------------------------------------------------------------------------\u001b[0m\n\u001b[1;31mTypeError\u001b[0m                                 Traceback (most recent call last)",
        "\u001b[1;32m<ipython-input-120-b0d85f196ae9>\u001b[0m in \u001b[0;36m<module>\u001b[1;34m()\u001b[0m\n\u001b[0;32m      1\u001b[0m \u001b[1;32mfor\u001b[0m \u001b[0mitez\u001b[0m \u001b[1;32min\u001b[0m \u001b[0mredls\u001b[0m\u001b[1;33m:\u001b[0m\u001b[1;33m\u001b[0m\u001b[0m\n\u001b[0;32m      2\u001b[0m     \u001b[1;32mprint\u001b[0m \u001b[0mitez\u001b[0m\u001b[1;33m.\u001b[0m\u001b[0murl\u001b[0m\u001b[1;33m\u001b[0m\u001b[0m\n\u001b[1;32m----> 3\u001b[1;33m     \u001b[0mlinkdict\u001b[0m\u001b[1;33m.\u001b[0m\u001b[0mupdate\u001b[0m\u001b[1;33m(\u001b[0m\u001b[1;33m{\u001b[0m\u001b[0mstr\u001b[0m\u001b[1;33m(\u001b[0m\u001b[0mitez\u001b[0m\u001b[1;33m.\u001b[0m\u001b[0mauthor\u001b[0m\u001b[1;33m)\u001b[0m\u001b[1;33m:\u001b[0m\u001b[0mitez\u001b[0m\u001b[1;33m.\u001b[0m\u001b[0murl\u001b[0m\u001b[1;33m}\u001b[0m\u001b[1;33m)\u001b[0m\u001b[1;33m\u001b[0m\u001b[0m\n\u001b[0m\u001b[0;32m      4\u001b[0m \u001b[1;33m\u001b[0m\u001b[0m\n",
        "\u001b[1;31mTypeError\u001b[0m: 'list' object is not callable"
       ]
      }
     ],
     "prompt_number": 120
    },
    {
     "cell_type": "code",
     "collapsed": false,
     "input": [
      "linkdict"
     ],
     "language": "python",
     "metadata": {},
     "outputs": [
      {
       "metadata": {},
       "output_type": "pyout",
       "prompt_number": 121,
       "text": [
        "{'links': 'artcontrol', 'user': 'url'}"
       ]
      }
     ],
     "prompt_number": 121
    },
    {
     "cell_type": "code",
     "collapsed": false,
     "input": [
      "rgdict"
     ],
     "language": "python",
     "metadata": {},
     "outputs": [
      {
       "metadata": {},
       "output_type": "pyout",
       "prompt_number": 122,
       "text": [
        "{'img': 'test', 'user': 'wcmckee'}"
       ]
      }
     ],
     "prompt_number": 122
    },
    {
     "cell_type": "code",
     "collapsed": false,
     "input": [
      "for rez in uzrlaz:\n",
      "    rgdict.update({'user': rez})\n"
     ],
     "language": "python",
     "metadata": {},
     "outputs": [],
     "prompt_number": 123
    },
    {
     "cell_type": "code",
     "collapsed": false,
     "input": [
      "    rgdict"
     ],
     "language": "python",
     "metadata": {},
     "outputs": [
      {
       "metadata": {},
       "output_type": "pyout",
       "prompt_number": 124,
       "text": [
        "{'img': 'test', 'user': 'wcmckee'}"
       ]
      }
     ],
     "prompt_number": 124
    },
    {
     "cell_type": "code",
     "collapsed": false,
     "input": [
      "rgdict.update({'id': rez})"
     ],
     "language": "python",
     "metadata": {},
     "outputs": [
      {
       "ename": "NameError",
       "evalue": "name 'rez' is not defined",
       "output_type": "pyerr",
       "traceback": [
        "\u001b[1;31m---------------------------------------------------------------------------\u001b[0m\n\u001b[1;31mNameError\u001b[0m                                 Traceback (most recent call last)",
        "\u001b[1;32m<ipython-input-125-eab3f72e9f2a>\u001b[0m in \u001b[0;36m<module>\u001b[1;34m()\u001b[0m\n\u001b[1;32m----> 1\u001b[1;33m \u001b[0mrgdict\u001b[0m\u001b[1;33m.\u001b[0m\u001b[0mupdate\u001b[0m\u001b[1;33m(\u001b[0m\u001b[1;33m{\u001b[0m\u001b[1;34m'id'\u001b[0m\u001b[1;33m:\u001b[0m \u001b[0mrez\u001b[0m\u001b[1;33m}\u001b[0m\u001b[1;33m)\u001b[0m\u001b[1;33m\u001b[0m\u001b[0m\n\u001b[0m",
        "\u001b[1;31mNameError\u001b[0m: name 'rez' is not defined"
       ]
      }
     ],
     "prompt_number": 125
    },
    {
     "cell_type": "code",
     "collapsed": false,
     "input": [
      "rgdict"
     ],
     "language": "python",
     "metadata": {},
     "outputs": [
      {
       "metadata": {},
       "output_type": "pyout",
       "prompt_number": 126,
       "text": [
        "{'img': 'test', 'user': 'wcmckee'}"
       ]
      }
     ],
     "prompt_number": 126
    },
    {
     "cell_type": "code",
     "collapsed": false,
     "input": [
      "uzrlaz"
     ],
     "language": "python",
     "metadata": {},
     "outputs": [
      {
       "metadata": {},
       "output_type": "pyout",
       "prompt_number": 127,
       "text": [
        "[]"
       ]
      }
     ],
     "prompt_number": 127
    },
    {
     "cell_type": "code",
     "collapsed": true,
     "input": [
      "rd.downs\n",
      "rd.ups"
     ],
     "language": "python",
     "metadata": {},
     "outputs": [
      {
       "metadata": {},
       "output_type": "pyout",
       "prompt_number": 128,
       "text": [
        "0"
       ]
      }
     ],
     "prompt_number": 128
    },
    {
     "cell_type": "code",
     "collapsed": false,
     "input": [
      "nezlis = []"
     ],
     "language": "python",
     "metadata": {},
     "outputs": [],
     "prompt_number": 129
    },
    {
     "cell_type": "code",
     "collapsed": false,
     "input": [
      "#rdurlz\n",
      "\n",
      "for jpgz in rdurlz:\n",
      "    if  '.jpg' in jpgz:\n",
      "        nezlis.append(jpgz)\n",
      "    #else print 'didnt append'\n",
      "        \n",
      "\n",
      "#if  '*.jpg' in rdurlz:\n",
      "#    print '*.jpg'"
     ],
     "language": "python",
     "metadata": {},
     "outputs": [],
     "prompt_number": 130
    },
    {
     "cell_type": "code",
     "collapsed": false,
     "input": [
      "nezlis"
     ],
     "language": "python",
     "metadata": {},
     "outputs": [
      {
       "metadata": {},
       "output_type": "pyout",
       "prompt_number": 131,
       "text": [
        "[u'http://i.imgur.com/kPLXoVD.jpg',\n",
        " u'http://i.imgur.com/QxZ83W0.jpg',\n",
        " u'http://i.imgur.com/LgOYBcS.jpg',\n",
        " u'http://i.imgur.com/cx0X5hx.jpg',\n",
        " u'http://i.imgur.com/4zeHQrp.jpg',\n",
        " u'http://i.imgur.com/eRX1HoR.jpg',\n",
        " u'http://i.imgur.com/f7omtH6.jpg',\n",
        " u'http://i.imgur.com/k6zWbLE.jpg',\n",
        " u'http://i.imgur.com/HQ2CRtf.jpg',\n",
        " u'http://i.imgur.com/4BVMVXBh.jpg',\n",
        " u'http://i.imgur.com/ETnGwP9.jpg',\n",
        " u'http://i.imgur.com/3memBDF.jpg',\n",
        " u'http://i.imgur.com/bwCQHn8.jpg',\n",
        " u'http://i.imgur.com/T4ms6Pc.jpg']"
       ]
      }
     ],
     "prompt_number": 131
    },
    {
     "cell_type": "code",
     "collapsed": false,
     "input": [
      "import random"
     ],
     "language": "python",
     "metadata": {},
     "outputs": [],
     "prompt_number": 132
    },
    {
     "cell_type": "code",
     "collapsed": false,
     "input": [
      "lrdz = len(rdurlz)"
     ],
     "language": "python",
     "metadata": {},
     "outputs": [],
     "prompt_number": 133
    },
    {
     "cell_type": "code",
     "collapsed": false,
     "input": [
      "recrand = random.randint(0, lrdz)"
     ],
     "language": "python",
     "metadata": {},
     "outputs": [],
     "prompt_number": 134
    },
    {
     "cell_type": "code",
     "collapsed": false,
     "input": [
      "recrand"
     ],
     "language": "python",
     "metadata": {},
     "outputs": [
      {
       "metadata": {},
       "output_type": "pyout",
       "prompt_number": 135,
       "text": [
        "25"
       ]
      }
     ],
     "prompt_number": 135
    },
    {
     "cell_type": "code",
     "collapsed": false,
     "input": [
      "freimg = nezlis[recrand]"
     ],
     "language": "python",
     "metadata": {},
     "outputs": [
      {
       "ename": "IndexError",
       "evalue": "list index out of range",
       "output_type": "pyerr",
       "traceback": [
        "\u001b[1;31m---------------------------------------------------------------------------\u001b[0m\n\u001b[1;31mIndexError\u001b[0m                                Traceback (most recent call last)",
        "\u001b[1;32m<ipython-input-136-1e2f07ff06ae>\u001b[0m in \u001b[0;36m<module>\u001b[1;34m()\u001b[0m\n\u001b[1;32m----> 1\u001b[1;33m \u001b[0mfreimg\u001b[0m \u001b[1;33m=\u001b[0m \u001b[0mnezlis\u001b[0m\u001b[1;33m[\u001b[0m\u001b[0mrecrand\u001b[0m\u001b[1;33m]\u001b[0m\u001b[1;33m\u001b[0m\u001b[0m\n\u001b[0m",
        "\u001b[1;31mIndexError\u001b[0m: list index out of range"
       ]
      }
     ],
     "prompt_number": 136
    },
    {
     "cell_type": "code",
     "collapsed": false,
     "input": [
      "strfre = str(freimg)"
     ],
     "language": "python",
     "metadata": {},
     "outputs": [
      {
       "ename": "NameError",
       "evalue": "name 'freimg' is not defined",
       "output_type": "pyerr",
       "traceback": [
        "\u001b[1;31m---------------------------------------------------------------------------\u001b[0m\n\u001b[1;31mNameError\u001b[0m                                 Traceback (most recent call last)",
        "\u001b[1;32m<ipython-input-137-b59f505c3ec5>\u001b[0m in \u001b[0;36m<module>\u001b[1;34m()\u001b[0m\n\u001b[1;32m----> 1\u001b[1;33m \u001b[0mstrfre\u001b[0m \u001b[1;33m=\u001b[0m \u001b[0mstr\u001b[0m\u001b[1;33m(\u001b[0m\u001b[0mfreimg\u001b[0m\u001b[1;33m)\u001b[0m\u001b[1;33m\u001b[0m\u001b[0m\n\u001b[0m",
        "\u001b[1;31mNameError\u001b[0m: name 'freimg' is not defined"
       ]
      }
     ],
     "prompt_number": 137
    },
    {
     "cell_type": "code",
     "collapsed": false,
     "input": [],
     "language": "python",
     "metadata": {},
     "outputs": [],
     "prompt_number": 137
    },
    {
     "cell_type": "code",
     "collapsed": false,
     "input": [
      "Image(strfre)"
     ],
     "language": "python",
     "metadata": {},
     "outputs": [
      {
       "ename": "NameError",
       "evalue": "name 'strfre' is not defined",
       "output_type": "pyerr",
       "traceback": [
        "\u001b[1;31m---------------------------------------------------------------------------\u001b[0m\n\u001b[1;31mNameError\u001b[0m                                 Traceback (most recent call last)",
        "\u001b[1;32m<ipython-input-138-d2d5f66e9466>\u001b[0m in \u001b[0;36m<module>\u001b[1;34m()\u001b[0m\n\u001b[1;32m----> 1\u001b[1;33m \u001b[0mImage\u001b[0m\u001b[1;33m(\u001b[0m\u001b[0mstrfre\u001b[0m\u001b[1;33m)\u001b[0m\u001b[1;33m\u001b[0m\u001b[0m\n\u001b[0m",
        "\u001b[1;31mNameError\u001b[0m: name 'strfre' is not defined"
       ]
      }
     ],
     "prompt_number": 138
    },
    {
     "cell_type": "code",
     "collapsed": false,
     "input": [
      "resource = urllib.urlopen(rdgimg)\n",
      "output = open(fulzname,\"w\")\n",
      "output.write(rdgimg)\n",
      "output.close()"
     ],
     "language": "python",
     "metadata": {},
     "outputs": [
      {
       "ename": "NameError",
       "evalue": "name 'rdgimg' is not defined",
       "output_type": "pyerr",
       "traceback": [
        "\u001b[1;31m---------------------------------------------------------------------------\u001b[0m\n\u001b[1;31mNameError\u001b[0m                                 Traceback (most recent call last)",
        "\u001b[1;32m<ipython-input-139-e133437438de>\u001b[0m in \u001b[0;36m<module>\u001b[1;34m()\u001b[0m\n\u001b[1;32m----> 1\u001b[1;33m \u001b[0mresource\u001b[0m \u001b[1;33m=\u001b[0m \u001b[0murllib\u001b[0m\u001b[1;33m.\u001b[0m\u001b[0murlopen\u001b[0m\u001b[1;33m(\u001b[0m\u001b[0mrdgimg\u001b[0m\u001b[1;33m)\u001b[0m\u001b[1;33m\u001b[0m\u001b[0m\n\u001b[0m\u001b[0;32m      2\u001b[0m \u001b[0moutput\u001b[0m \u001b[1;33m=\u001b[0m \u001b[0mopen\u001b[0m\u001b[1;33m(\u001b[0m\u001b[0mfulzname\u001b[0m\u001b[1;33m,\u001b[0m\u001b[1;34m\"w\"\u001b[0m\u001b[1;33m)\u001b[0m\u001b[1;33m\u001b[0m\u001b[0m\n\u001b[0;32m      3\u001b[0m \u001b[0moutput\u001b[0m\u001b[1;33m.\u001b[0m\u001b[0mwrite\u001b[0m\u001b[1;33m(\u001b[0m\u001b[0mrdgimg\u001b[0m\u001b[1;33m)\u001b[0m\u001b[1;33m\u001b[0m\u001b[0m\n\u001b[0;32m      4\u001b[0m \u001b[0moutput\u001b[0m\u001b[1;33m.\u001b[0m\u001b[0mclose\u001b[0m\u001b[1;33m(\u001b[0m\u001b[1;33m)\u001b[0m\u001b[1;33m\u001b[0m\u001b[0m\n",
        "\u001b[1;31mNameError\u001b[0m: name 'rdgimg' is not defined"
       ]
      }
     ],
     "prompt_number": 139
    },
    {
     "cell_type": "code",
     "collapsed": false,
     "input": [
      "import o"
     ],
     "language": "python",
     "metadata": {},
     "outputs": [
      {
       "ename": "ImportError",
       "evalue": "No module named o",
       "output_type": "pyerr",
       "traceback": [
        "\u001b[1;31m---------------------------------------------------------------------------\u001b[0m\n\u001b[1;31mImportError\u001b[0m                               Traceback (most recent call last)",
        "\u001b[1;32m<ipython-input-140-17db705b77b7>\u001b[0m in \u001b[0;36m<module>\u001b[1;34m()\u001b[0m\n\u001b[1;32m----> 1\u001b[1;33m \u001b[1;32mimport\u001b[0m \u001b[0mo\u001b[0m\u001b[1;33m\u001b[0m\u001b[0m\n\u001b[0m",
        "\u001b[1;31mImportError\u001b[0m: No module named o"
       ]
      }
     ],
     "prompt_number": 140
    },
    {
     "cell_type": "code",
     "collapsed": false,
     "input": [
      "fulzname"
     ],
     "language": "python",
     "metadata": {},
     "outputs": [
      {
       "ename": "NameError",
       "evalue": "name 'fulzname' is not defined",
       "output_type": "pyerr",
       "traceback": [
        "\u001b[1;31m---------------------------------------------------------------------------\u001b[0m\n\u001b[1;31mNameError\u001b[0m                                 Traceback (most recent call last)",
        "\u001b[1;32m<ipython-input-141-5a655f2091f1>\u001b[0m in \u001b[0;36m<module>\u001b[1;34m()\u001b[0m\n\u001b[1;32m----> 1\u001b[1;33m \u001b[0mfulzname\u001b[0m\u001b[1;33m\u001b[0m\u001b[0m\n\u001b[0m",
        "\u001b[1;31mNameError\u001b[0m: name 'fulzname' is not defined"
       ]
      }
     ],
     "prompt_number": 141
    },
    {
     "cell_type": "code",
     "collapsed": false,
     "input": [
      "rdurlz"
     ],
     "language": "python",
     "metadata": {},
     "outputs": [
      {
       "metadata": {},
       "output_type": "pyout",
       "prompt_number": 142,
       "text": [
        "[u'http://i.imgur.com/kPLXoVD.jpg',\n",
        " u'http://imgur.com/n6nE8yv',\n",
        " u'http://imgur.com/48PTQL9',\n",
        " u'http://i.imgur.com/QxZ83W0.jpg',\n",
        " u'http://i.imgur.com/LgOYBcS.jpg',\n",
        " u'http://imgur.com/55OKmFU',\n",
        " u'http://i.imgur.com/cx0X5hx.jpg',\n",
        " u'http://i.imgur.com/4zeHQrp.jpg',\n",
        " u'http://imgur.com/gallery/4DHzJ/new',\n",
        " u'http://i.imgur.com/eRX1HoR.jpg',\n",
        " u'http://i.imgur.com/f7omtH6.jpg',\n",
        " u'http://i.imgur.com/k6zWbLE.jpg',\n",
        " u'http://i.imgur.com/HQ2CRtf.jpg',\n",
        " u'http://imgur.com/4l71GF7',\n",
        " u'http://imgur.com/s5VPBT7',\n",
        " u'http://imgur.com/2Or37Rp',\n",
        " u'http://imgur.com/gSUjOab',\n",
        " u'http://imgur.com/GnfU6XJ',\n",
        " u'http://i.imgur.com/4BVMVXBh.jpg',\n",
        " u'http://imgur.com/WQnsseE',\n",
        " u'http://i.imgur.com/ETnGwP9.jpg',\n",
        " u'http://imgur.com/uQeYQXx',\n",
        " u'http://i.imgur.com/3memBDF.jpg',\n",
        " u'http://i.imgur.com/bwCQHn8.jpg',\n",
        " u'http://i.imgur.com/T4ms6Pc.jpg']"
       ]
      }
     ],
     "prompt_number": 142
    },
    {
     "cell_type": "code",
     "collapsed": true,
     "input": [
      "savreq = requests.get(rdurlz[7])"
     ],
     "language": "python",
     "metadata": {},
     "outputs": [],
     "prompt_number": 143
    },
    {
     "cell_type": "code",
     "collapsed": true,
     "input": [
      "rezlz =  redls[0]"
     ],
     "language": "python",
     "metadata": {},
     "outputs": [],
     "prompt_number": 144
    },
    {
     "cell_type": "code",
     "collapsed": true,
     "input": [
      "reuzrz = rezlz.author"
     ],
     "language": "python",
     "metadata": {},
     "outputs": [],
     "prompt_number": 145
    },
    {
     "cell_type": "code",
     "collapsed": true,
     "input": [
      "usrzname = str(reuzrz.name)"
     ],
     "language": "python",
     "metadata": {},
     "outputs": [
      {
       "ename": "TypeError",
       "evalue": "'list' object is not callable",
       "output_type": "pyerr",
       "traceback": [
        "\u001b[1;31m---------------------------------------------------------------------------\u001b[0m\n\u001b[1;31mTypeError\u001b[0m                                 Traceback (most recent call last)",
        "\u001b[1;32m<ipython-input-146-dfb087c21a5d>\u001b[0m in \u001b[0;36m<module>\u001b[1;34m()\u001b[0m\n\u001b[1;32m----> 1\u001b[1;33m \u001b[0musrzname\u001b[0m \u001b[1;33m=\u001b[0m \u001b[0mstr\u001b[0m\u001b[1;33m(\u001b[0m\u001b[0mreuzrz\u001b[0m\u001b[1;33m.\u001b[0m\u001b[0mname\u001b[0m\u001b[1;33m)\u001b[0m\u001b[1;33m\u001b[0m\u001b[0m\n\u001b[0m",
        "\u001b[1;31mTypeError\u001b[0m: 'list' object is not callable"
       ]
      }
     ],
     "prompt_number": 146
    },
    {
     "cell_type": "code",
     "collapsed": true,
     "input": [
      "fulzname = (usrzname + '.jpg')"
     ],
     "language": "python",
     "metadata": {},
     "outputs": [
      {
       "ename": "NameError",
       "evalue": "name 'usrzname' is not defined",
       "output_type": "pyerr",
       "traceback": [
        "\u001b[1;31m---------------------------------------------------------------------------\u001b[0m\n\u001b[1;31mNameError\u001b[0m                                 Traceback (most recent call last)",
        "\u001b[1;32m<ipython-input-147-e837ff0b3ba8>\u001b[0m in \u001b[0;36m<module>\u001b[1;34m()\u001b[0m\n\u001b[1;32m----> 1\u001b[1;33m \u001b[0mfulzname\u001b[0m \u001b[1;33m=\u001b[0m \u001b[1;33m(\u001b[0m\u001b[0musrzname\u001b[0m \u001b[1;33m+\u001b[0m \u001b[1;34m'.jpg'\u001b[0m\u001b[1;33m)\u001b[0m\u001b[1;33m\u001b[0m\u001b[0m\n\u001b[0m",
        "\u001b[1;31mNameError\u001b[0m: name 'usrzname' is not defined"
       ]
      }
     ],
     "prompt_number": 147
    },
    {
     "cell_type": "code",
     "collapsed": false,
     "input": [
      "resource = urllib.urlopen(rdgimg)\n",
      "output = open(fulzname,\"w\")\n",
      "output.write(rdgimg)\n",
      "output.close()"
     ],
     "language": "python",
     "metadata": {},
     "outputs": [
      {
       "ename": "NameError",
       "evalue": "name 'rdgimg' is not defined",
       "output_type": "pyerr",
       "traceback": [
        "\u001b[1;31m---------------------------------------------------------------------------\u001b[0m\n\u001b[1;31mNameError\u001b[0m                                 Traceback (most recent call last)",
        "\u001b[1;32m<ipython-input-148-e133437438de>\u001b[0m in \u001b[0;36m<module>\u001b[1;34m()\u001b[0m\n\u001b[1;32m----> 1\u001b[1;33m \u001b[0mresource\u001b[0m \u001b[1;33m=\u001b[0m \u001b[0murllib\u001b[0m\u001b[1;33m.\u001b[0m\u001b[0murlopen\u001b[0m\u001b[1;33m(\u001b[0m\u001b[0mrdgimg\u001b[0m\u001b[1;33m)\u001b[0m\u001b[1;33m\u001b[0m\u001b[0m\n\u001b[0m\u001b[0;32m      2\u001b[0m \u001b[0moutput\u001b[0m \u001b[1;33m=\u001b[0m \u001b[0mopen\u001b[0m\u001b[1;33m(\u001b[0m\u001b[0mfulzname\u001b[0m\u001b[1;33m,\u001b[0m\u001b[1;34m\"w\"\u001b[0m\u001b[1;33m)\u001b[0m\u001b[1;33m\u001b[0m\u001b[0m\n\u001b[0;32m      3\u001b[0m \u001b[0moutput\u001b[0m\u001b[1;33m.\u001b[0m\u001b[0mwrite\u001b[0m\u001b[1;33m(\u001b[0m\u001b[0mrdgimg\u001b[0m\u001b[1;33m)\u001b[0m\u001b[1;33m\u001b[0m\u001b[0m\n\u001b[0;32m      4\u001b[0m \u001b[0moutput\u001b[0m\u001b[1;33m.\u001b[0m\u001b[0mclose\u001b[0m\u001b[1;33m(\u001b[0m\u001b[1;33m)\u001b[0m\u001b[1;33m\u001b[0m\u001b[0m\n",
        "\u001b[1;31mNameError\u001b[0m: name 'rdgimg' is not defined"
       ]
      }
     ],
     "prompt_number": 148
    },
    {
     "cell_type": "code",
     "collapsed": false,
     "input": [
      "fulzname"
     ],
     "language": "python",
     "metadata": {},
     "outputs": [
      {
       "ename": "NameError",
       "evalue": "name 'fulzname' is not defined",
       "output_type": "pyerr",
       "traceback": [
        "\u001b[1;31m---------------------------------------------------------------------------\u001b[0m\n\u001b[1;31mNameError\u001b[0m                                 Traceback (most recent call last)",
        "\u001b[1;32m<ipython-input-149-5a655f2091f1>\u001b[0m in \u001b[0;36m<module>\u001b[1;34m()\u001b[0m\n\u001b[1;32m----> 1\u001b[1;33m \u001b[0mfulzname\u001b[0m\u001b[1;33m\u001b[0m\u001b[0m\n\u001b[0m",
        "\u001b[1;31mNameError\u001b[0m: name 'fulzname' is not defined"
       ]
      }
     ],
     "prompt_number": 149
    },
    {
     "cell_type": "code",
     "collapsed": false,
     "input": [
      "Image(fulzname)"
     ],
     "language": "python",
     "metadata": {},
     "outputs": [
      {
       "ename": "NameError",
       "evalue": "name 'fulzname' is not defined",
       "output_type": "pyerr",
       "traceback": [
        "\u001b[1;31m---------------------------------------------------------------------------\u001b[0m\n\u001b[1;31mNameError\u001b[0m                                 Traceback (most recent call last)",
        "\u001b[1;32m<ipython-input-150-bf624285a166>\u001b[0m in \u001b[0;36m<module>\u001b[1;34m()\u001b[0m\n\u001b[1;32m----> 1\u001b[1;33m \u001b[0mImage\u001b[0m\u001b[1;33m(\u001b[0m\u001b[0mfulzname\u001b[0m\u001b[1;33m)\u001b[0m\u001b[1;33m\u001b[0m\u001b[0m\n\u001b[0m",
        "\u001b[1;31mNameError\u001b[0m: name 'fulzname' is not defined"
       ]
      }
     ],
     "prompt_number": 150
    },
    {
     "cell_type": "code",
     "collapsed": false,
     "input": [
      "ls"
     ],
     "language": "python",
     "metadata": {},
     "outputs": [
      {
       "output_type": "stream",
       "stream": "stdout",
       "text": [
        "Game Of Thrones.html  index.ipynb       rgdsnatch.ipynb\r\n",
        "LICENSE               index.py          rgdsnatch.py\r\n",
        "NumPyExplore.html     json.html         scrapnot.html\r\n",
        "NumPyExplore.ipynb    json.ipynb        scrapnot.ipynb\r\n",
        "README.md             jsonBehind.html   skins.html\r\n",
        "Untitled0.html        jsonBehind.ipynb  skins.ipynb\r\n",
        "Untitled0.ipynb       karen.html        sortbooks.html\r\n",
        "Untitled1.html        karen.ipynb       sortbooks.ipynb\r\n",
        "Untitled1.ipynb       linkz             spellcheckin.html\r\n",
        "adypost.html          loop.html         spellcheckin.ipynb\r\n",
        "adypost.ipynb         loop.ipynb        tarpipe.html\r\n",
        "adypost.py            markdown.html     tarpipe.ipynb\r\n",
        "aklmcam.html          markdown.ipynb    tarpipe.py\r\n",
        "aklmcam.ipynb         master.html       test-wp.html\r\n",
        "aklmcam.py            metatime.html     test-wp.ipynb\r\n",
        "artcontrol.html       metatime.ipynb    test.html\r\n",
        "artcontrol.ipynb      myfile.txt        test.ipynb\r\n",
        "artcontrol.py         nbconv.html       testing.txt\r\n",
        "bugit.html            nbconv.ipynb      tlc.html\r\n",
        "bugit.ipynb           nbconv.py         tlc.ipynb\r\n",
        "bugit.py              netcafe.html      tpb.html\r\n",
        "compohub.ipynb        netcafe.ipynb     tpb.ipynb\r\n",
        "compohub.py           opche.html        url redirect.html\r\n",
        "digzocean.html        opche.ipynb       url redirect.ipynb\r\n",
        "digzocean.ipynb       openimg.html      utils.html\r\n",
        "digzocean.py          openimg.ipynb     utils.ipynb\r\n",
        "flask-test.html       output            wallpapersav.html\r\n",
        "flask-test.ipynb      outpuz.txt        wallpapersav.ipynb\r\n",
        "flask-test.py         pyEmailz.html     wcmdocker.html\r\n",
        "ftpWCM.html           pyEmailz.ipynb    wcmdocker.ipynb\r\n",
        "ftpWCM.ipynb          pyatakl.html      wcmgit.html\r\n",
        "ftpWCM.py             pyatakl.ipynb     wcmgit.ipynb\r\n",
        "getdrawn.html         pydog.html        webData.html\r\n",
        "getdrawn.ipynb        pydog.ipynb       webData.ipynb\r\n",
        "getdrawn.py           pynztacam.html    webData.py\r\n",
        "hackbrobeur.html      pynztacam.ipynb   whai.html\r\n",
        "hackbrobeur.ipynb     pyssh.html        whai.ipynb\r\n",
        "hackbrobeur.py        pyssh.ipynb       wiki.md\r\n",
        "hamgar.html           redTube.html      wirePIL.html\r\n",
        "hamgar.ipynb          redTube.ipynb     wirePIL.ipynb\r\n",
        "\u001b[0m\u001b[01;34mhtml\u001b[0m/                 reddit.html       wordpress.html\r\n",
        "htmldoc               reddit.ipynb      wordpress.ipynb\r\n",
        "imgedit.ipynb         reddit.py\r\n",
        "index.html            rgdsnatch.html\r\n"
       ]
      }
     ],
     "prompt_number": 151
    },
    {
     "cell_type": "code",
     "collapsed": true,
     "input": [
      "rgdtit = rd.title"
     ],
     "language": "python",
     "metadata": {},
     "outputs": [],
     "prompt_number": 152
    },
    {
     "cell_type": "code",
     "collapsed": true,
     "input": [
      "rdurlz = str(rd.url)"
     ],
     "language": "python",
     "metadata": {},
     "outputs": [
      {
       "ename": "TypeError",
       "evalue": "'list' object is not callable",
       "output_type": "pyerr",
       "traceback": [
        "\u001b[1;31m---------------------------------------------------------------------------\u001b[0m\n\u001b[1;31mTypeError\u001b[0m                                 Traceback (most recent call last)",
        "\u001b[1;32m<ipython-input-153-e692d18db54d>\u001b[0m in \u001b[0;36m<module>\u001b[1;34m()\u001b[0m\n\u001b[1;32m----> 1\u001b[1;33m \u001b[0mrdurlz\u001b[0m \u001b[1;33m=\u001b[0m \u001b[0mstr\u001b[0m\u001b[1;33m(\u001b[0m\u001b[0mrd\u001b[0m\u001b[1;33m.\u001b[0m\u001b[0murl\u001b[0m\u001b[1;33m)\u001b[0m\u001b[1;33m\u001b[0m\u001b[0m\n\u001b[0m",
        "\u001b[1;31mTypeError\u001b[0m: 'list' object is not callable"
       ]
      }
     ],
     "prompt_number": 153
    },
    {
     "cell_type": "code",
     "collapsed": true,
     "input": [
      "rdauth =rd.author"
     ],
     "language": "python",
     "metadata": {},
     "outputs": [],
     "prompt_number": 154
    },
    {
     "cell_type": "code",
     "collapsed": true,
     "input": [
      "rdusern = str(rdauth.name)"
     ],
     "language": "python",
     "metadata": {},
     "outputs": [
      {
       "ename": "TypeError",
       "evalue": "'list' object is not callable",
       "output_type": "pyerr",
       "traceback": [
        "\u001b[1;31m---------------------------------------------------------------------------\u001b[0m\n\u001b[1;31mTypeError\u001b[0m                                 Traceback (most recent call last)",
        "\u001b[1;32m<ipython-input-155-d4fb89bd468e>\u001b[0m in \u001b[0;36m<module>\u001b[1;34m()\u001b[0m\n\u001b[1;32m----> 1\u001b[1;33m \u001b[0mrdusern\u001b[0m \u001b[1;33m=\u001b[0m \u001b[0mstr\u001b[0m\u001b[1;33m(\u001b[0m\u001b[0mrdauth\u001b[0m\u001b[1;33m.\u001b[0m\u001b[0mname\u001b[0m\u001b[1;33m)\u001b[0m\u001b[1;33m\u001b[0m\u001b[0m\n\u001b[0m",
        "\u001b[1;31mTypeError\u001b[0m: 'list' object is not callable"
       ]
      }
     ],
     "prompt_number": 155
    },
    {
     "cell_type": "code",
     "collapsed": true,
     "input": [
      "rdauth.is_gold"
     ],
     "language": "python",
     "metadata": {},
     "outputs": [
      {
       "metadata": {},
       "output_type": "pyout",
       "prompt_number": 156,
       "text": [
        "False"
       ]
      }
     ],
     "prompt_number": 156
    },
    {
     "cell_type": "code",
     "collapsed": true,
     "input": [
      "rdauth.json_dict"
     ],
     "language": "python",
     "metadata": {},
     "outputs": [],
     "prompt_number": 157
    },
    {
     "cell_type": "code",
     "collapsed": true,
     "input": [
      "rdauth.id"
     ],
     "language": "python",
     "metadata": {},
     "outputs": [
      {
       "metadata": {},
       "output_type": "pyout",
       "prompt_number": 158,
       "text": [
        "u'c2jn9'"
       ]
      }
     ],
     "prompt_number": 158
    },
    {
     "cell_type": "code",
     "collapsed": true,
     "input": [
      "rdsub = rdauth.get_submitted"
     ],
     "language": "python",
     "metadata": {},
     "outputs": [],
     "prompt_number": 159
    },
    {
     "cell_type": "code",
     "collapsed": true,
     "input": [
      "for rsu in rdsub():\n",
      "    print rsu"
     ],
     "language": "python",
     "metadata": {},
     "outputs": [
      {
       "output_type": "stream",
       "stream": "stdout",
       "text": [
        "1 :: [Request/Serious] Please remove the white cable in the middle, the left ...\n",
        "0 :: I was quite the womanizer!\n",
        "2 :: My kind of curves (X-Post /r/Stacked)\n",
        "12 :: First submission! (yay)\n",
        "2 :: What to do with the shipping number?\n",
        "58 :: Warp 5.06, Photonic torpedoes, Phaser cannons, Polarized hull plating, ...\n",
        "1 :: Cause for random lag spikes? (League of Legends)\n",
        "11 :: My dad in the mountains\n",
        "0 :: Jolene Blalock\n",
        "1 :: I'm currently sitting on my balcony waiting for the post car to arrive, AMA\n",
        "3 :: Pl\u00e1cido Domingo just had an interview in Austrian TV...\n",
        "4 :: My last name is a color, AMA\n",
        "1 :: What impact will Boko Haram have on our country's muslim population?\n",
        "4 :: Austrian right-wing populistic politician \"HC Strache\" mistakes a satiri...\n",
        "104 :: Brother detected!\n",
        "181 :: Only yesterday\n",
        "53 :: Was ist das Leben ohne Liebesglanz?\n",
        "208 :: Feld am See, Austria [3000x2252]\n",
        "5 :: [Austria] A light on our terrace attracted about a quajillion bugs. Here...\n",
        "1 :: Can't join the IRC channel\n",
        "0 :: A list of German words used in Serbia/Croatia/Bosnia\n",
        "30 :: Today I freed my friend from his old Xbox, I think he likes it.\n",
        "0 :: Any advice on how to deal with these fuckers without ripping them all of?\n",
        "1 :: View from our undeground railway station up to one of our biggest hotels...\n",
        "27 :: So we're doing honest battle stations now?\n"
       ]
      }
     ],
     "prompt_number": 160
    },
    {
     "cell_type": "code",
     "collapsed": true,
     "input": [
      "rsu.selftext"
     ],
     "language": "python",
     "metadata": {},
     "outputs": [
      {
       "metadata": {},
       "output_type": "pyout",
       "prompt_number": 162,
       "text": [
        "u''"
       ]
      }
     ],
     "prompt_number": 162
    },
    {
     "cell_type": "code",
     "collapsed": true,
     "input": [
      "othasub = rsu.subreddit"
     ],
     "language": "python",
     "metadata": {},
     "outputs": [],
     "prompt_number": 163
    },
    {
     "cell_type": "code",
     "collapsed": true,
     "input": [
      "print othasub"
     ],
     "language": "python",
     "metadata": {},
     "outputs": [
      {
       "output_type": "stream",
       "stream": "stdout",
       "text": [
        "battlestations\n"
       ]
      }
     ],
     "prompt_number": 164
    },
    {
     "cell_type": "code",
     "collapsed": true,
     "input": [
      "artget = r.get_subreddit('artcontroldrawsyou')"
     ],
     "language": "python",
     "metadata": {},
     "outputs": [],
     "prompt_number": 165
    },
    {
     "cell_type": "code",
     "collapsed": false,
     "input": [
      "artget.submit(rdusern, rdurlz )"
     ],
     "language": "python",
     "metadata": {},
     "outputs": [
      {
       "ename": "NameError",
       "evalue": "name 'rdusern' is not defined",
       "output_type": "pyerr",
       "traceback": [
        "\u001b[1;31m---------------------------------------------------------------------------\u001b[0m\n\u001b[1;31mNameError\u001b[0m                                 Traceback (most recent call last)",
        "\u001b[1;32m<ipython-input-166-06108427cfa3>\u001b[0m in \u001b[0;36m<module>\u001b[1;34m()\u001b[0m\n\u001b[1;32m----> 1\u001b[1;33m \u001b[0martget\u001b[0m\u001b[1;33m.\u001b[0m\u001b[0msubmit\u001b[0m\u001b[1;33m(\u001b[0m\u001b[0mrdusern\u001b[0m\u001b[1;33m,\u001b[0m \u001b[0mrdurlz\u001b[0m \u001b[1;33m)\u001b[0m\u001b[1;33m\u001b[0m\u001b[0m\n\u001b[0m",
        "\u001b[1;31mNameError\u001b[0m: name 'rdusern' is not defined"
       ]
      }
     ],
     "prompt_number": 166
    },
    {
     "cell_type": "code",
     "collapsed": true,
     "input": [
      "artctrl = r.get_redditor('artcontrol')"
     ],
     "language": "python",
     "metadata": {},
     "outputs": [],
     "prompt_number": 167
    },
    {
     "cell_type": "code",
     "collapsed": false,
     "input": [
      "arlik = artctrl.get_liked"
     ],
     "language": "python",
     "metadata": {},
     "outputs": [],
     "prompt_number": 168
    },
    {
     "cell_type": "code",
     "collapsed": false,
     "input": [
      "arlik"
     ],
     "language": "python",
     "metadata": {},
     "outputs": [
      {
       "metadata": {},
       "output_type": "pyout",
       "prompt_number": 169,
       "text": [
        "<bound method Redditor.get_liked of Redditor(user_name='artcontrol')>"
       ]
      }
     ],
     "prompt_number": 169
    },
    {
     "cell_type": "code",
     "collapsed": false,
     "input": [
      "print arlik"
     ],
     "language": "python",
     "metadata": {},
     "outputs": [
      {
       "output_type": "stream",
       "stream": "stdout",
       "text": [
        "<bound method Redditor.get_liked of Redditor(user_name='artcontrol')>\n"
       ]
      }
     ],
     "prompt_number": 170
    },
    {
     "cell_type": "code",
     "collapsed": false,
     "input": [
      "print arlik()"
     ],
     "language": "python",
     "metadata": {},
     "outputs": [
      {
       "output_type": "stream",
       "stream": "stdout",
       "text": [
        "<generator object get_content at 0x7f0e3066c870>\n"
       ]
      }
     ],
     "prompt_number": 171
    },
    {
     "cell_type": "code",
     "collapsed": false,
     "input": [
      "drzu = r.get_subreddit('artcontroldrawsyou')"
     ],
     "language": "python",
     "metadata": {},
     "outputs": [],
     "prompt_number": 173
    },
    {
     "cell_type": "code",
     "collapsed": false,
     "input": [
      "drzu"
     ],
     "language": "python",
     "metadata": {},
     "outputs": [
      {
       "metadata": {},
       "output_type": "pyout",
       "prompt_number": 174,
       "text": [
        "Subreddit(display_name='artcontroldrawsyou')"
       ]
      }
     ],
     "prompt_number": 174
    },
    {
     "cell_type": "code",
     "collapsed": false,
     "input": [
      "drzu.upload_image()"
     ],
     "language": "python",
     "metadata": {},
     "outputs": [
      {
       "ename": "TypeError",
       "evalue": "upload_image() takes at least 3 arguments (2 given)",
       "output_type": "pyerr",
       "traceback": [
        "\u001b[1;31m---------------------------------------------------------------------------\u001b[0m\n\u001b[1;31mTypeError\u001b[0m                                 Traceback (most recent call last)",
        "\u001b[1;32m<ipython-input-175-2376010eaf9a>\u001b[0m in \u001b[0;36m<module>\u001b[1;34m()\u001b[0m\n\u001b[1;32m----> 1\u001b[1;33m \u001b[0mdrzu\u001b[0m\u001b[1;33m.\u001b[0m\u001b[0mupload_image\u001b[0m\u001b[1;33m(\u001b[0m\u001b[1;33m)\u001b[0m\u001b[1;33m\u001b[0m\u001b[0m\n\u001b[0m",
        "\u001b[1;32m/usr/local/lib/python2.7/dist-packages/praw/decorators.pyc\u001b[0m in \u001b[0;36mwrapped\u001b[1;34m(self, *args, **kwargs)\u001b[0m\n\u001b[0;32m     56\u001b[0m             \u001b[1;32mreturn\u001b[0m \u001b[0mfunction\u001b[0m\u001b[1;33m(\u001b[0m\u001b[0mself\u001b[0m\u001b[1;33m.\u001b[0m\u001b[0mreddit_session\u001b[0m\u001b[1;33m,\u001b[0m \u001b[1;33m*\u001b[0m\u001b[0margs\u001b[0m\u001b[1;33m,\u001b[0m \u001b[1;33m**\u001b[0m\u001b[0mkwargs\u001b[0m\u001b[1;33m)\u001b[0m\u001b[1;33m\u001b[0m\u001b[0m\n\u001b[0;32m     57\u001b[0m         \u001b[1;32melse\u001b[0m\u001b[1;33m:\u001b[0m\u001b[1;33m\u001b[0m\u001b[0m\n\u001b[1;32m---> 58\u001b[1;33m             \u001b[1;32mreturn\u001b[0m \u001b[0mfunction\u001b[0m\u001b[1;33m(\u001b[0m\u001b[0mself\u001b[0m\u001b[1;33m.\u001b[0m\u001b[0mreddit_session\u001b[0m\u001b[1;33m,\u001b[0m \u001b[0mself\u001b[0m\u001b[1;33m,\u001b[0m \u001b[1;33m*\u001b[0m\u001b[0margs\u001b[0m\u001b[1;33m,\u001b[0m \u001b[1;33m**\u001b[0m\u001b[0mkwargs\u001b[0m\u001b[1;33m)\u001b[0m\u001b[1;33m\u001b[0m\u001b[0m\n\u001b[0m\u001b[0;32m     59\u001b[0m     \u001b[1;31m# Only grab the short-line doc and add a link to the complete doc\u001b[0m\u001b[1;33m\u001b[0m\u001b[1;33m\u001b[0m\u001b[0m\n\u001b[0;32m     60\u001b[0m     \u001b[0mwrapped\u001b[0m\u001b[1;33m.\u001b[0m\u001b[0m__doc__\u001b[0m \u001b[1;33m=\u001b[0m \u001b[0mwrapped\u001b[0m\u001b[1;33m.\u001b[0m\u001b[0m__doc__\u001b[0m\u001b[1;33m.\u001b[0m\u001b[0msplit\u001b[0m\u001b[1;33m(\u001b[0m\u001b[1;34m'\\n'\u001b[0m\u001b[1;33m,\u001b[0m \u001b[1;36m1\u001b[0m\u001b[1;33m)\u001b[0m\u001b[1;33m[\u001b[0m\u001b[1;36m0\u001b[0m\u001b[1;33m]\u001b[0m\u001b[1;33m\u001b[0m\u001b[0m\n",
        "\u001b[1;32m/usr/local/lib/python2.7/dist-packages/praw/decorators.pyc\u001b[0m in \u001b[0;36mwrapped\u001b[1;34m(cls, *args, **kwargs)\u001b[0m\n\u001b[0;32m    321\u001b[0m                 \u001b[1;32mraise\u001b[0m \u001b[0merrors\u001b[0m\u001b[1;33m.\u001b[0m\u001b[0mLoginRequired\u001b[0m\u001b[1;33m(\u001b[0m\u001b[0mfunction\u001b[0m\u001b[1;33m.\u001b[0m\u001b[0m__name__\u001b[0m\u001b[1;33m)\u001b[0m\u001b[1;33m\u001b[0m\u001b[0m\n\u001b[0;32m    322\u001b[0m             \u001b[1;32mtry\u001b[0m\u001b[1;33m:\u001b[0m\u001b[1;33m\u001b[0m\u001b[0m\n\u001b[1;32m--> 323\u001b[1;33m                 \u001b[1;32mreturn\u001b[0m \u001b[0mfunction\u001b[0m\u001b[1;33m(\u001b[0m\u001b[0mcls\u001b[0m\u001b[1;33m,\u001b[0m \u001b[1;33m*\u001b[0m\u001b[0margs\u001b[0m\u001b[1;33m,\u001b[0m \u001b[1;33m**\u001b[0m\u001b[0mkwargs\u001b[0m\u001b[1;33m)\u001b[0m\u001b[1;33m\u001b[0m\u001b[0m\n\u001b[0m\u001b[0;32m    324\u001b[0m             \u001b[1;32mfinally\u001b[0m\u001b[1;33m:\u001b[0m\u001b[1;33m\u001b[0m\u001b[0m\n\u001b[0;32m    325\u001b[0m                 \u001b[0mobj\u001b[0m\u001b[1;33m.\u001b[0m\u001b[0m_use_oauth\u001b[0m \u001b[1;33m=\u001b[0m \u001b[0mFalse\u001b[0m  \u001b[1;31m# pylint: disable-msg=W0212\u001b[0m\u001b[1;33m\u001b[0m\u001b[0m\n",
        "\u001b[1;31mTypeError\u001b[0m: upload_image() takes at least 3 arguments (2 given)"
       ]
      }
     ],
     "prompt_number": 175
    },
    {
     "cell_type": "code",
     "collapsed": false,
     "input": [],
     "language": "python",
     "metadata": {},
     "outputs": []
    },
    {
     "cell_type": "code",
     "collapsed": false,
     "input": [],
     "language": "python",
     "metadata": {},
     "outputs": []
    }
   ],
   "metadata": {}
  }
 ]
}