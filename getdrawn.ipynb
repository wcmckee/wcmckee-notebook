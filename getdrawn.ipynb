{
 "metadata": {
  "name": "",
  "signature": "sha256:2b20c3fd92514bed93f50c5848549e2bd47ebd81b8647192708841cb14577ccd"
 },
 "nbformat": 3,
 "nbformat_minor": 0,
 "worksheets": [
  {
   "cells": [
    {
     "cell_type": "heading",
     "level": 5,
     "metadata": {},
     "source": [
      "Get Drawn\n",
      "\n",
      "A python script for reddit "
     ]
    },
    {
     "cell_type": "code",
     "collapsed": false,
     "input": [
      "import os\n",
      "import random\n",
      "import bs4\n",
      "import requests\n",
      "import re\n",
      "import json"
     ],
     "language": "python",
     "metadata": {},
     "outputs": [],
     "prompt_number": 221
    },
    {
     "cell_type": "code",
     "collapsed": false,
     "input": [
      "import praw\n"
     ],
     "language": "python",
     "metadata": {},
     "outputs": [],
     "prompt_number": 222
    },
    {
     "cell_type": "code",
     "collapsed": false,
     "input": [
      "r = praw.Reddit(user_agent='redditgetsdrawn blog post')"
     ],
     "language": "python",
     "metadata": {},
     "outputs": [
      {
       "output_type": "stream",
       "stream": "stdout",
       "text": [
        "Version 2.1.17 of praw is outdated. Version 2.1.18 was released Wednesday August 06, 2014.\n"
       ]
      }
     ],
     "prompt_number": 223
    },
    {
     "cell_type": "code",
     "collapsed": false,
     "input": [
      "rd = r.get_subreddit('redditgetsdrawn')"
     ],
     "language": "python",
     "metadata": {},
     "outputs": [],
     "prompt_number": 224
    },
    {
     "cell_type": "code",
     "collapsed": false,
     "input": [
      "rd.url"
     ],
     "language": "python",
     "metadata": {},
     "outputs": [
      {
       "metadata": {},
       "output_type": "pyout",
       "prompt_number": 225,
       "text": [
        "u'/r/redditgetsdrawn/'"
       ]
      }
     ],
     "prompt_number": 225
    },
    {
     "cell_type": "code",
     "collapsed": false,
     "input": [
      "rd.created"
     ],
     "language": "python",
     "metadata": {},
     "outputs": [
      {
       "metadata": {},
       "output_type": "pyout",
       "prompt_number": 226,
       "text": [
        "1329037453.0"
       ]
      }
     ],
     "prompt_number": 226
    },
    {
     "cell_type": "code",
     "collapsed": false,
     "input": [
      "subls = []"
     ],
     "language": "python",
     "metadata": {},
     "outputs": [],
     "prompt_number": 227
    },
    {
     "cell_type": "code",
     "collapsed": false,
     "input": [
      "subrd = rd.subscribers\n",
      "subls.append(subrd)"
     ],
     "language": "python",
     "metadata": {},
     "outputs": [],
     "prompt_number": 228
    },
    {
     "cell_type": "code",
     "collapsed": false,
     "input": [
      "subls"
     ],
     "language": "python",
     "metadata": {},
     "outputs": [
      {
       "metadata": {},
       "output_type": "pyout",
       "prompt_number": 229,
       "text": [
        "[65006]"
       ]
      }
     ],
     "prompt_number": 229
    },
    {
     "cell_type": "code",
     "collapsed": false,
     "input": [
      "wikipg = list(rd.get_wiki_pages())[4]"
     ],
     "language": "python",
     "metadata": {},
     "outputs": [],
     "prompt_number": 230
    },
    {
     "cell_type": "code",
     "collapsed": false,
     "input": [
      "from string import maketrans   # Required to call maketrans function.\n",
      "\n",
      "intab = \"aeiou\"\n",
      "outtab = \"12345\"\n",
      "trantab = maketrans(intab, outtab)\n",
      "\n",
      "\n",
      "str = \"this is string example....wow!!!\";\n",
      "print str.translate(trantab);"
     ],
     "language": "python",
     "metadata": {},
     "outputs": [
      {
       "output_type": "stream",
       "stream": "stdout",
       "text": [
        "th3s 3s str3ng 2x1mpl2....w4w!!!\n"
       ]
      }
     ],
     "prompt_number": 231
    },
    {
     "cell_type": "code",
     "collapsed": false,
     "input": [
      "wikipg.has_fetched"
     ],
     "language": "python",
     "metadata": {},
     "outputs": [
      {
       "metadata": {},
       "output_type": "pyout",
       "prompt_number": 232,
       "text": [
        "False"
       ]
      }
     ],
     "prompt_number": 232
    },
    {
     "cell_type": "code",
     "collapsed": false,
     "input": [
      "wikipg.revision_by"
     ],
     "language": "python",
     "metadata": {},
     "outputs": [
      {
       "metadata": {},
       "output_type": "pyout",
       "prompt_number": 233,
       "text": [
        "Redditor(user_name='ItWillBeMine')"
       ]
      }
     ],
     "prompt_number": 233
    },
    {
     "cell_type": "code",
     "collapsed": false,
     "input": [
      "#wikipg.content_html"
     ],
     "language": "python",
     "metadata": {},
     "outputs": [],
     "prompt_number": 234
    },
    {
     "cell_type": "code",
     "collapsed": false,
     "input": [
      "savmd = open('wiki.md', 'w')"
     ],
     "language": "python",
     "metadata": {},
     "outputs": [
      {
       "output_type": "stream",
       "stream": "stdout",
       "text": [
        "Traceback (most recent call last):\n",
        "  File \"/usr/local/lib/python2.7/dist-packages/IPython/core/ultratb.py\", line 766, in structured_traceback\n",
        "    records = _fixed_getinnerframes(etb, context, tb_offset)\n",
        "  File \"/usr/local/lib/python2.7/dist-packages/IPython/core/ultratb.py\", line 249, in _fixed_getinnerframes\n",
        "    records  = fix_frame_records_filenames(inspect.getinnerframes(etb, context))\n",
        "  File \"/usr/lib/python2.7/inspect.py\", line 1043, in getinnerframes\n",
        "    framelist.append((tb.tb_frame,) + getframeinfo(tb, context))\n",
        "  File \"/usr/lib/python2.7/inspect.py\", line 1003, in getframeinfo\n",
        "    filename = getsourcefile(frame) or getfile(frame)\n",
        "  File \"/usr/lib/python2.7/inspect.py\", line 454, in getsourcefile\n",
        "    if hasattr(getmodule(object, filename), '__loader__'):\n",
        "  File \"/usr/lib/python2.7/inspect.py\", line 483, in getmodule\n",
        "    file = getabsfile(object, _filename)\n",
        "  File \"/usr/lib/python2.7/inspect.py\", line 467, in getabsfile\n",
        "    return os.path.normcase(os.path.abspath(_filename))\n",
        "  File \"/usr/lib/python2.7/posixpath.py\", line 356, in abspath\n",
        "    cwd = os.getcwd()\n",
        "OSError: [Errno 2] No such file or directory\n"
       ]
      },
      {
       "output_type": "stream",
       "stream": "stderr",
       "text": [
        "ERROR: Internal Python error in the inspect module.\n",
        "Below is the traceback from this internal error.\n",
        "\n",
        "\n",
        "Unfortunately, your original traceback can not be constructed.\n",
        "\n"
       ]
      },
      {
       "ename": "IOError",
       "evalue": "[Errno 2] No such file or directory: 'wiki.md'",
       "output_type": "pyerr",
       "traceback": ""
      }
     ],
     "prompt_number": 235
    },
    {
     "cell_type": "code",
     "collapsed": false,
     "input": [
      "wikip = wikipg.content_md"
     ],
     "language": "python",
     "metadata": {},
     "outputs": [],
     "prompt_number": 236
    },
    {
     "cell_type": "code",
     "collapsed": false,
     "input": [
      "savmd.write(wikip)"
     ],
     "language": "python",
     "metadata": {},
     "outputs": [
      {
       "output_type": "stream",
       "stream": "stdout",
       "text": [
        "Traceback (most recent call last):\n",
        "  File \"/usr/local/lib/python2.7/dist-packages/IPython/core/ultratb.py\", line 766, in structured_traceback\n",
        "    records = _fixed_getinnerframes(etb, context, tb_offset)\n",
        "  File \"/usr/local/lib/python2.7/dist-packages/IPython/core/ultratb.py\", line 249, in _fixed_getinnerframes\n",
        "    records  = fix_frame_records_filenames(inspect.getinnerframes(etb, context))\n",
        "  File \"/usr/lib/python2.7/inspect.py\", line 1043, in getinnerframes\n",
        "    framelist.append((tb.tb_frame,) + getframeinfo(tb, context))\n",
        "  File \"/usr/lib/python2.7/inspect.py\", line 1003, in getframeinfo\n",
        "    filename = getsourcefile(frame) or getfile(frame)\n",
        "  File \"/usr/lib/python2.7/inspect.py\", line 454, in getsourcefile\n",
        "    if hasattr(getmodule(object, filename), '__loader__'):\n",
        "  File \"/usr/lib/python2.7/inspect.py\", line 483, in getmodule\n",
        "    file = getabsfile(object, _filename)\n",
        "  File \"/usr/lib/python2.7/inspect.py\", line 467, in getabsfile\n",
        "    return os.path.normcase(os.path.abspath(_filename))\n",
        "  File \"/usr/lib/python2.7/posixpath.py\", line 356, in abspath\n",
        "    cwd = os.getcwd()\n",
        "OSError: [Errno 2] No such file or directory\n"
       ]
      },
      {
       "output_type": "stream",
       "stream": "stderr",
       "text": [
        "ERROR: Internal Python error in the inspect module.\n",
        "Below is the traceback from this internal error.\n",
        "\n",
        "\n",
        "Unfortunately, your original traceback can not be constructed.\n",
        "\n"
       ]
      },
      {
       "ename": "ValueError",
       "evalue": "I/O operation on closed file",
       "output_type": "pyerr",
       "traceback": ""
      }
     ],
     "prompt_number": 237
    },
    {
     "cell_type": "code",
     "collapsed": false,
     "input": [
      "savmd.close()"
     ],
     "language": "python",
     "metadata": {},
     "outputs": [],
     "prompt_number": 238
    },
    {
     "cell_type": "code",
     "collapsed": false,
     "input": [
      "allmods = list(rd.get_moderators())"
     ],
     "language": "python",
     "metadata": {},
     "outputs": [],
     "prompt_number": 239
    },
    {
     "cell_type": "code",
     "collapsed": true,
     "input": [
      "allmods.sort()"
     ],
     "language": "python",
     "metadata": {},
     "outputs": [],
     "prompt_number": 240
    },
    {
     "cell_type": "code",
     "collapsed": false,
     "input": [
      "allmods"
     ],
     "language": "python",
     "metadata": {},
     "outputs": [
      {
       "metadata": {},
       "output_type": "pyout",
       "prompt_number": 241,
       "text": [
        "[Redditor(user_name='AutoModerator'),\n",
        " Redditor(user_name='Chokeberry'),\n",
        " Redditor(user_name='fivepmsomewhere'),\n",
        " Redditor(user_name='heyryaaan'),\n",
        " Redditor(user_name='ItWillBeMine'),\n",
        " Redditor(user_name='meeps114'),\n",
        " Redditor(user_name='orvane'),\n",
        " Redditor(user_name='RGD_Mod'),\n",
        " Redditor(user_name='sgt_mary_mary'),\n",
        " Redditor(user_name='yowtfyo')]"
       ]
      }
     ],
     "prompt_number": 241
    },
    {
     "cell_type": "code",
     "collapsed": true,
     "input": [
      "modzro = allmods[1]"
     ],
     "language": "python",
     "metadata": {},
     "outputs": [],
     "prompt_number": 242
    },
    {
     "cell_type": "code",
     "collapsed": true,
     "input": [
      "modcom = modzro.get_comments()"
     ],
     "language": "python",
     "metadata": {},
     "outputs": [],
     "prompt_number": 243
    },
    {
     "cell_type": "code",
     "collapsed": false,
     "input": [
      "banlolz = []"
     ],
     "language": "python",
     "metadata": {},
     "outputs": [],
     "prompt_number": 244
    },
    {
     "cell_type": "code",
     "collapsed": true,
     "input": [
      "for infz in modcom:\n",
      "    print infz\n",
      "    banlolz.append(infz)"
     ],
     "language": "python",
     "metadata": {},
     "outputs": [
      {
       "output_type": "stream",
       "stream": "stdout",
       "text": [
        "Just a reminder; requests for commissions, or anything that is professional, ...\n",
        "Your comment was removed for not containing art. If you choose to pass on an ...\n",
        "Glad you like it! \n",
        "The longer I draw, the more I believe its mostly hard work and persistence.\n",
        "\n",
        "...\n",
        "So glad you like it!\n",
        "Thank you! :) I feel like I have been improving since I started visiting RGD.\n",
        "What /u/funisher said. !\n",
        "I linked this post to my fiance, and he offered to do this for date night thi...\n",
        "[I am obsessed.](http://i.imgur.com/0lkBWTM) So good! \n",
        "beautiful!\n",
        "thank you!\n",
        "[Apparently, this is the face you make when I draw you!](http://i.imgur.com/V...\n",
        "I love this. \n",
        "[Sketch! :)](http://i.imgur.com/HpdSgzH)\n",
        "That earring though. :D\n",
        "Hey, thanks! I'm giving the coloring a go, but I'm somewhat new at digital ar...\n",
        "Thank you so much /u/sgt_mary_mary! :) It's such an unexpected pleasure to kn...\n",
        "[***NSFW*** WIP](http://i.imgur.com/LPtN9uU)\n",
        "\n",
        "\n",
        "\n",
        "Permission to wander into nsf...\n",
        ":) Glad you like it.\n",
        "[Done!](http://i.imgur.com/NqBQcPp)\n",
        "\n",
        "[Finished!] (http://i.imgur.com/6OjKnTb)\n",
        "\n",
        "[WIP 3](http://i.imgur.com/jFKi3Tk)...\n",
        "Hey, I know it has been forever, but the power went out while I was working o...\n",
        "Oh my gosh don't tease me. :D\n",
        "You do have every right to say whatever you please, as do I, so I won't be sh...\n",
        "Oh my gosh this is wonderful! Your work is always so stylish and consistent.\n"
       ]
      }
     ],
     "prompt_number": 245
    },
    {
     "cell_type": "code",
     "collapsed": false,
     "input": [
      "len(banlolz)\n",
      "\n",
      "banlizt = []"
     ],
     "language": "python",
     "metadata": {},
     "outputs": [],
     "prompt_number": 246
    },
    {
     "cell_type": "code",
     "collapsed": false,
     "input": [
      "for banz in banlolz:\n",
      "    print banz\n",
      "    banlizt.append((banz.body))\n",
      "    \n",
      "    "
     ],
     "language": "python",
     "metadata": {},
     "outputs": [
      {
       "output_type": "stream",
       "stream": "stdout",
       "text": [
        "Just a reminder; requests for commissions, or anything that is professional, ...\n",
        "Your comment was removed for not containing art. If you choose to pass on an ...\n",
        "Glad you like it! \n",
        "The longer I draw, the more I believe its mostly hard work and persistence.\n",
        "\n",
        "...\n",
        "So glad you like it!\n",
        "Thank you! :) I feel like I have been improving since I started visiting RGD.\n",
        "What /u/funisher said. !\n",
        "I linked this post to my fiance, and he offered to do this for date night thi...\n",
        "[I am obsessed.](http://i.imgur.com/0lkBWTM) So good! \n",
        "beautiful!\n",
        "thank you!\n",
        "[Apparently, this is the face you make when I draw you!](http://i.imgur.com/V...\n",
        "I love this. \n",
        "[Sketch! :)](http://i.imgur.com/HpdSgzH)\n",
        "That earring though. :D\n",
        "Hey, thanks! I'm giving the coloring a go, but I'm somewhat new at digital ar...\n",
        "Thank you so much /u/sgt_mary_mary! :) It's such an unexpected pleasure to kn...\n",
        "[***NSFW*** WIP](http://i.imgur.com/LPtN9uU)\n",
        "\n",
        "\n",
        "\n",
        "Permission to wander into nsf...\n",
        ":) Glad you like it.\n",
        "[Done!](http://i.imgur.com/NqBQcPp)\n",
        "\n",
        "[Finished!] (http://i.imgur.com/6OjKnTb)\n",
        "\n",
        "[WIP 3](http://i.imgur.com/jFKi3Tk)...\n",
        "Hey, I know it has been forever, but the power went out while I was working o...\n",
        "Oh my gosh don't tease me. :D\n",
        "You do have every right to say whatever you please, as do I, so I won't be sh...\n",
        "Oh my gosh this is wonderful! Your work is always so stylish and consistent.\n"
       ]
      }
     ],
     "prompt_number": 247
    },
    {
     "cell_type": "code",
     "collapsed": false,
     "input": [
      "blsz = []"
     ],
     "language": "python",
     "metadata": {},
     "outputs": [],
     "prompt_number": 248
    },
    {
     "cell_type": "code",
     "collapsed": false,
     "input": [
      "banlizt\n",
      "for bez in banlizt:\n",
      "    \n",
      "    print bez\n",
      "    #if  'remove' or 'banned' in bez: \n",
      "     #   blsz.append(bez)"
     ],
     "language": "python",
     "metadata": {},
     "outputs": [
      {
       "output_type": "stream",
       "stream": "stdout",
       "text": [
        "Just a reminder; requests for commissions, or anything that is professional, business, or commercial-related (like a tattoo design) are not allowed on the sub, and should be conducted via pm.\n",
        "Your comment was removed for not containing art. If you choose to pass on an image for a particular reason, feel free to give OP constructive feedback as to why.\n",
        "Glad you like it! \n",
        "The longer I draw, the more I believe its mostly hard work and persistence.\n",
        "\n",
        "I've been drawing since I was a little kid, and I have no idea what made me start, but the only times I significantly improve are times when I practice my butt off.\n",
        "So glad you like it!\n",
        "Thank you! :) I feel like I have been improving since I started visiting RGD.\n",
        "What /u/funisher said. !\n",
        "I linked this post to my fiance, and he offered to do this for date night this week. (Though he warned that he is bringing a book!)\n",
        "\n",
        "&lt;3 Thanks lady!\n",
        "[I am obsessed.](http://i.imgur.com/0lkBWTM) So good! \n",
        "beautiful!\n",
        "thank you!\n",
        "[Apparently, this is the face you make when I draw you!](http://i.imgur.com/Vt6zGjR)\n",
        "I love this. \n",
        "[Sketch! :)](http://i.imgur.com/HpdSgzH)\n",
        "That earring though. :D\n",
        "Hey, thanks! I'm giving the coloring a go, but I'm somewhat new at digital art so it is moving veerrrryyy slowly. hehe.\n",
        "Thank you so much /u/sgt_mary_mary! :) It's such an unexpected pleasure to know someone really digs something you made.\n",
        "[***NSFW*** WIP](http://i.imgur.com/LPtN9uU)\n",
        "\n",
        "\n",
        "\n",
        "Permission to wander into nsfw territory kindly given by /u/Nakittina.\n",
        ":) Glad you like it.\n",
        "[Done!](http://i.imgur.com/NqBQcPp)\n",
        "\n",
        "[Finished!] (http://i.imgur.com/6OjKnTb)\n",
        "\n",
        "[WIP 3](http://i.imgur.com/jFKi3Tk)\n",
        "\n",
        "[WIP 2](http://i.imgur.com/IMEOgwh)\n",
        "\n",
        "[WIP 1](http://i.imgur.com/wzY2EWu)\n",
        "\n",
        "Love the colors in your pic!\n",
        "\n",
        "CCW\n",
        "Hey, I know it has been forever, but the power went out while I was working on your drawing and I thought it was lost. Lo and behold, I started photoshop up today and there it was.  [So here you are. :)](http://i.imgur.com/15c4yZx)\n",
        "\n",
        "I have some very similar self-portraits. lol.\n",
        "Oh my gosh don't tease me. :D\n",
        "You do have every right to say whatever you please, as do I, so I won't be shutting the fuck up anytime soon. \n",
        "\n",
        "But please don't expect to have that attitude welcomed in that particular sub.\n",
        "\n",
        "*BTW, tagged you as \"universal arbiter of art quality.\" Don't let it go to your head.\n",
        "Oh my gosh this is wonderful! Your work is always so stylish and consistent.\n"
       ]
      }
     ],
     "prompt_number": 249
    },
    {
     "cell_type": "code",
     "collapsed": false,
     "input": [
      "blsz"
     ],
     "language": "python",
     "metadata": {},
     "outputs": [
      {
       "metadata": {},
       "output_type": "pyout",
       "prompt_number": 250,
       "text": [
        "[]"
       ]
      }
     ],
     "prompt_number": 250
    },
    {
     "cell_type": "code",
     "collapsed": false,
     "input": [
      "izone = banlizt[0]"
     ],
     "language": "python",
     "metadata": {},
     "outputs": [],
     "prompt_number": 251
    },
    {
     "cell_type": "code",
     "collapsed": false,
     "input": [
      "szone = str(izone())"
     ],
     "language": "python",
     "metadata": {},
     "outputs": [
      {
       "output_type": "stream",
       "stream": "stdout",
       "text": [
        "Traceback (most recent call last):\n",
        "  File \"/usr/local/lib/python2.7/dist-packages/IPython/core/ultratb.py\", line 766, in structured_traceback\n",
        "    records = _fixed_getinnerframes(etb, context, tb_offset)\n",
        "  File \"/usr/local/lib/python2.7/dist-packages/IPython/core/ultratb.py\", line 249, in _fixed_getinnerframes\n",
        "    records  = fix_frame_records_filenames(inspect.getinnerframes(etb, context))\n",
        "  File \"/usr/lib/python2.7/inspect.py\", line 1043, in getinnerframes\n",
        "    framelist.append((tb.tb_frame,) + getframeinfo(tb, context))\n",
        "  File \"/usr/lib/python2.7/inspect.py\", line 1003, in getframeinfo\n",
        "    filename = getsourcefile(frame) or getfile(frame)\n",
        "  File \"/usr/lib/python2.7/inspect.py\", line 454, in getsourcefile\n",
        "    if hasattr(getmodule(object, filename), '__loader__'):\n",
        "  File \"/usr/lib/python2.7/inspect.py\", line 483, in getmodule\n",
        "    file = getabsfile(object, _filename)\n",
        "  File \"/usr/lib/python2.7/inspect.py\", line 467, in getabsfile\n",
        "    return os.path.normcase(os.path.abspath(_filename))\n",
        "  File \"/usr/lib/python2.7/posixpath.py\", line 356, in abspath\n",
        "    cwd = os.getcwd()\n",
        "OSError: [Errno 2] No such file or directory\n"
       ]
      },
      {
       "output_type": "stream",
       "stream": "stderr",
       "text": [
        "ERROR: Internal Python error in the inspect module.\n",
        "Below is the traceback from this internal error.\n",
        "\n",
        "\n",
        "Unfortunately, your original traceback can not be constructed.\n",
        "\n"
       ]
      },
      {
       "ename": "TypeError",
       "evalue": "'unicode' object is not callable",
       "output_type": "pyerr",
       "traceback": ""
      }
     ],
     "prompt_number": 252
    },
    {
     "cell_type": "code",
     "collapsed": false,
     "input": [
      "str = banlizt;\n",
      "print str.translate(trantab);"
     ],
     "language": "python",
     "metadata": {},
     "outputs": [
      {
       "output_type": "stream",
       "stream": "stdout",
       "text": [
        "Traceback (most recent call last):\n",
        "  File \"/usr/local/lib/python2.7/dist-packages/IPython/core/ultratb.py\", line 766, in structured_traceback\n",
        "    records = _fixed_getinnerframes(etb, context, tb_offset)\n",
        "  File \"/usr/local/lib/python2.7/dist-packages/IPython/core/ultratb.py\", line 249, in _fixed_getinnerframes\n",
        "    records  = fix_frame_records_filenames(inspect.getinnerframes(etb, context))\n",
        "  File \"/usr/lib/python2.7/inspect.py\", line 1043, in getinnerframes\n",
        "    framelist.append((tb.tb_frame,) + getframeinfo(tb, context))\n",
        "  File \"/usr/lib/python2.7/inspect.py\", line 1003, in getframeinfo\n",
        "    filename = getsourcefile(frame) or getfile(frame)\n",
        "  File \"/usr/lib/python2.7/inspect.py\", line 454, in getsourcefile\n",
        "    if hasattr(getmodule(object, filename), '__loader__'):\n",
        "  File \"/usr/lib/python2.7/inspect.py\", line 483, in getmodule\n",
        "    file = getabsfile(object, _filename)\n",
        "  File \"/usr/lib/python2.7/inspect.py\", line 467, in getabsfile\n",
        "    return os.path.normcase(os.path.abspath(_filename))\n",
        "  File \"/usr/lib/python2.7/posixpath.py\", line 356, in abspath\n",
        "    cwd = os.getcwd()\n",
        "OSError: [Errno 2] No such file or directory\n"
       ]
      },
      {
       "output_type": "stream",
       "stream": "stderr",
       "text": [
        "ERROR: Internal Python error in the inspect module.\n",
        "Below is the traceback from this internal error.\n",
        "\n",
        "\n",
        "Unfortunately, your original traceback can not be constructed.\n",
        "\n"
       ]
      },
      {
       "ename": "AttributeError",
       "evalue": "'list' object has no attribute 'translate'",
       "output_type": "pyerr",
       "traceback": ""
      }
     ],
     "prompt_number": 253
    },
    {
     "cell_type": "code",
     "collapsed": true,
     "input": [
      "modzro.fullname"
     ],
     "language": "python",
     "metadata": {},
     "outputs": [
      {
       "metadata": {},
       "output_type": "pyout",
       "prompt_number": 254,
       "text": [
        "u't2_5piu1'"
       ]
      }
     ],
     "prompt_number": 254
    },
    {
     "cell_type": "code",
     "collapsed": true,
     "input": [
      "print infz.subreddit"
     ],
     "language": "python",
     "metadata": {},
     "outputs": [
      {
       "output_type": "stream",
       "stream": "stdout",
       "text": [
        "redditgetsdrawn\n"
       ]
      }
     ],
     "prompt_number": 255
    },
    {
     "cell_type": "code",
     "collapsed": true,
     "input": [
      "print infz.body"
     ],
     "language": "python",
     "metadata": {},
     "outputs": [
      {
       "output_type": "stream",
       "stream": "stdout",
       "text": [
        "Oh my gosh this is wonderful! Your work is always so stylish and consistent.\n"
       ]
      }
     ],
     "prompt_number": 256
    },
    {
     "cell_type": "code",
     "collapsed": false,
     "input": [
      "rd.get_rising"
     ],
     "language": "python",
     "metadata": {},
     "outputs": [
      {
       "metadata": {},
       "output_type": "pyout",
       "prompt_number": 257,
       "text": [
        "<bound method Subreddit._sorted of Subreddit(display_name='redditgetsdrawn')>"
       ]
      }
     ],
     "prompt_number": 257
    },
    {
     "cell_type": "code",
     "collapsed": false,
     "input": [
      "rd.get_top_from_year"
     ],
     "language": "python",
     "metadata": {},
     "outputs": [
      {
       "metadata": {},
       "output_type": "pyout",
       "prompt_number": 258,
       "text": [
        "<bound method Subreddit._sorted of Subreddit(display_name='redditgetsdrawn')>"
       ]
      }
     ],
     "prompt_number": 258
    },
    {
     "cell_type": "code",
     "collapsed": false,
     "input": [
      "rd.get_stylesheet()"
     ],
     "language": "python",
     "metadata": {},
     "outputs": [
      {
       "metadata": {},
       "output_type": "pyout",
       "prompt_number": 259,
       "text": [
        "{u'images': [{u'link': u'url(%%Banner%%)',\n",
        "   u'name': u'Banner',\n",
        "   u'url': u'http://b.thumbs.redditmedia.com/lh0P4in55BKht5fu.png'},\n",
        "  {u'link': u'url(%%commentbox%%)',\n",
        "   u'name': u'commentbox',\n",
        "   u'url': u'http://b.thumbs.redditmedia.com/R22VvxwhdS-Wmjsg.png'},\n",
        "  {u'link': u'url(%%RGDtext%%)',\n",
        "   u'name': u'RGDtext',\n",
        "   u'url': u'http://f.thumbs.redditmedia.com/F8zFK7R0vqyDRfw_.png'},\n",
        "  {u'link': u'url(%%Background%%)',\n",
        "   u'name': u'Background',\n",
        "   u'url': u'http://c.thumbs.redditmedia.com/wLrYssI2q9h7rVNP.png'},\n",
        "  {u'link': u'url(%%transparent%%)',\n",
        "   u'name': u'transparent',\n",
        "   u'url': u'http://a.thumbs.redditmedia.com/yLTSl14oXyN-6-7J.png'}],\n",
        " u'stylesheet': u'/****************************************************************************\\n BEGIN: banner and header menus\\n ****************************************************************************/\\n#header {\\n    overflow: visible !important;\\n    background-image:url(%%Banner%%);\\n    background-repeat: repeat-x;\\n    height:130px;\\n    margin-top:20px;\\n    border-bottom:2px #545454;\\n}\\n\\n#header-img.default-header {\\n    display:none !important;\\n}\\n\\n\\n\\n#sr-header-area{\\n    position:absolute;\\n    top:-20px;\\n    border-bottom:2px #545454 !important;    /* default: 1px solid gray */\\n    width:100%;\\n    height:20px;\\n}\\n\\n/* RES-subscription bar */\\n\\n#sr-header-area {\\n    padding: 3px 0px 4px 3px;\\n    background-color: #545454;\\n    white-space: nowrap;\\n    overflow: hidden;\\n    text-transform: uppercase;\\n    height: 14px; \\n    }\\n\\n#sr-header-area a {\\n    color: white\\n    }\\n\\n#RESShortcutsEditContainer{\\n    background-color: #545454 !important;\\n}\\n#RESShortcutsSort{\\n    background-color: #545454 !important;\\n    color: #FFFFFF ! important;\\n}\\n#RESShortcutsRight{\\n    background-color: #545454 !important;\\n    color: #FFFFFF ! important;\\n}\\n#RESShortcutsLeft{\\n    background-color: #545454 !important;\\n    color: #FFFFFF ! important;\\n}\\n#RESShortcutsAdd{\\n    background-color: #545454 !important;\\n    color: #FFFFFF ! important;\\n}\\n#RESShortcutsTrash{\\n    background-color: #545454 !important;\\n    color: #FFFFFF ! important;\\n}\\n\\n/* End RES-subscription bar */\\n\\n\\n\\n#header-bottom-right{\\n    background-color:#FFFFFF;                    /* default: #EFF7FF */\\n    padding:2px 5px 0px 5px !important;          /* default: 4px 4px 7px */\\n    border-radius:0px !important;                /* default: 0 0 0 3px */\\n    top:132px !important;                        /* default: 19px */\\n    width:auto;\\n    text-align:right;\\n    z-index:9;\\n}\\n\\n#header-bottom-right #mail{\\n    text-align:left;\\n}\\n\\n#header-bottom-right #modmail{\\n    text-align:left;\\n}\\n\\n\\n/* userbar position */\\n\\n#header #header-bottom-right { \\n    top: 110px !important; \\n}\\n\\n\\n\\n/* Begin userbar transparency */\\n\\n#header-bottom-right{\\n    border:none;\\n    position:absolute;\\n    right:0;\\n    bottom:0;\\n    background-image: url(%%transparent%%);\\n    background-color: transparent;\\n    margin: 0;\\n}\\n#header-bottom-right a {\\n    text-decoration: none;\\n    color: #fff !important;\\n}\\nbody.res-nightmode #header-bottom-right {\\n    background-color: transparent!important\\n}\\n#header-bottom-right a, .dropdown.srdrop .selected {\\n    color: #fff !important\\n}\\n#header-bottom-right a:hover{\\n    text-decoration: none;\\n    color: #bbb !important\\n}\\n#userbarToggle.userbarHide, #userbarToggle.userbarShow {\\n    border:none !important;\\n    color: #fff!important;\\n    background-color: transparent;\\n}\\n.res-nightmode #userbarToggle.userbarHide, .res-nightmode #userbarToggle.userbarShow {\\n    border:none !important;\\n    color: #fff!important;\\n    background-color: transparent;\\n}\\n#userbarToggle.userbarShow { top: -15px; left: -11px;}\\n.user .userkarma { color: #fff \\n}\\n\\n\\n#sr-header-area .sr-list {\\n    margin-right: 45px;\\n} \\n.RESDropdownList li {\\n    border: none!important;\\n}\\n#RESShortcutsSort, #RESShortcutsRight, #RESShortcutsAdd, #RESShortcutsLeft {\\n    color: #fff !important\\n}\\n#sort-menu.drop-choices, #sort-menu.drop-choices a {\\n    background-image: url(%%transparent%%) !important;\\n    background-color: transparent !important;\\n    border:none !important;\\n    color: #fff !important;\\n}\\n#RESPrefsDropdown.RESDropdownList, #RESAccountSwitcherDropdown {\\n    background-image: url(%%transparent%%) !important;\\n    background-color: transparent;\\n    border:none;\\n    color: #fff !important;\\n}\\n#RESPrefsDropdown.RESDropdownList li:last-child, #RESAccountSwitcherDropdown li:last-child {\\n    border-bottom-left-radius: 4px;\\n    border-bottom-right-radius: 4px;\\n}\\n#RESAccountSwitcherIconOverlay {\\n    display: none!important\\n}\\n#RESAccountSwitcherDropdown {\\n    margin-top: 7px;\\n}\\n.pref-lang {\\n    font-weight: normal;\\n}\\n.RESDropdownList li, .RESDropdownList a {\\n    color: #fff !important;\\n    background:none!important;\\n}\\n.RESDropdownList li a:hover, .RESDropdownList li:hover {\\n    border:none !important;\\n    background-color: #96bf43 !important;\\n}\\n\\n#RESMainGearOverlay, #RESMainGearOverlay:hover {\\n    background: none !important;\\n    border:none !important;\\n}\\n#RESMainGearOverlay .gearIcon {\\n    display: none!important\\n}\\n\\n/* End userbar transparency */\\n\\n\\n\\n\\n\\n\\n#header-bottom-left{\\n    position:absolute;\\n    top:132px;\\n}\\n\\n#header-bottom-left #header-img-a{\\n    display:none !important;\\n}\\n\\n#header-bottom-left .pagename a{\\n    background:url(%%RGDtext%%);\\n    background-repeat:no-repeat;\\n    float:left;\\n    width:187px;\\n    height:20px;\\n    margin-top:4px;\\n    margin-left:5px;\\n    text-indent:-9999px;\\n}\\n\\n.tabmenu{\\n    float:left;\\n}\\n\\n\\n\\n\\n\\n.side{\\n    margin-top:22px;\\n    border-top: 0px solid transparent;\\n}\\n\\n.side .md * { \\n    font-size: 1em; \\n}\\n\\n.titlebox .redditname a{\\n    background:url(%%RGDtext%%);\\n    background-repeat:no-repeat;\\n    float:left;\\n    width:187px !important;\\n    height:20px !important;\\n    text-indent:-9999px;\\n}\\n\\n.side .redditname a {\\n    font-size: 0em; \\n}\\n\\n.titlebox .bottom {\\n    display:none\\n}\\n\\n.content{\\n    padding-top:7px;\\n    margin-top:31px;\\n    border-top: 3px solid #787878;\\n}\\n/****************************************************************************\\n END: banner and header menus\\n ****************************************************************************/\\n\\n/****************************************************************************\\n BEGIN: tabmenu tweaks\\n ****************************************************************************/\\n#header .tabmenu li {\\n    margin: 0;\\n}\\n\\n#header .tabmenu a { \\n    padding: 2px 6px 4px 6px; font-size: 80%;\\n    margin: 3px !important;\\n}\\n\\n.tabmenu a[href$=\"/controversial/\"] {\\n    display:none !important;\\n}\\n\\n#header-bottom-left ul.tabmenu li a[href=\"http://www.reddit.com/r/redditgetsdrawn/ads/\"] {\\n    display: none;\\n}\\n\\n\\n#header .tabmenu li a { \\n    color: #FFFFFF; background-color: #737373; \\n    margin: 0;\\n}\\n#header .tabmenu li.selected a { \\n    color: #FFFFFF; background-color: #3399cc; \\n}\\n\\n#header .tabmenu li a:hover { \\n    color: #FFFFFF; background-color: #96bf43; \\n}\\n#header .tabmenu li.selected a:hover { \\n    color: #FFFFFF; background-color: #7a9642; \\n}\\n\\n/****************************************************************************\\n END: tabmenu tweaks\\n ****************************************************************************/\\n\\n/****************************************************************************\\n BEGIN: subscribe button tweaks\\n ****************************************************************************/\\n.fancy-toggle-button a {\\n    color: #FFFFFF !important;\\n    background: #96bf43 !important;\\n    border: 1px solid #92a4b2 !important;\\n}\\n.subButtons .RESshortcutside {\\n    background: #787878;\\n    border: 1px solid #92a4b2 !important;\\n} \\n.subButtons .RESDashboardToggle {\\n    background: #3399cc;\\n    border: 1px solid #92a4b2 !important;\\n}\\n\\n\\n.fancy-toggle-button a:hover {\\n    color: #FFFFFF !important;\\n    background: #7a9642 !important;\\n}\\n.subButtons .RESshortcutside:hover {\\n    background: #616161;\\n    border: 1px solid #92a4b2 !important;\\n} \\n.subButtons .RESDashboardToggle:hover {\\n    background: #256E93;\\n    border: 1px solid #92a4b2 !important;\\n}\\n\\n\\n.fancy-toggle-button a.remove {\\n    color: #FFFFFF !important;\\n    background: #96bf43 !important;\\n    border: 1px solid #92a4b2 !important\\n}\\n.subButtons .RESshortcutside.remove {\\n    background:#787878;\\n    border: 1px solid #92a4b2 !important;\\n}\\n.subButtons .RESDashboardToggle.remove {\\n    background: #3399cc;\\n    border: 1px solid #92a4b2 !important;\\n}\\n\\n/****************************************************************************\\n END: subscribe button tweaks\\n ****************************************************************************/\\n \\n\\n/****************************************************************************\\n BEGIN: body watermark\\n ****************************************************************************/\\nbody {\\n   background: url(%%Background%%) no-repeat fixed center center;\\n}\\n/****************************************************************************\\n END: body watermark\\n ****************************************************************************/\\n \\n\\n/****************************************************************************\\n BEGIN: change submit a link button\\n ****************************************************************************/\\n/* Remove submit text button */\\n\\n.submit-text { \\n    display:none; \\n}\\n\\n/*end remove submit text button*/\\n\\n.morelink{\\n    font-weight:heavy;\\n    letter-spacing:2px;\\n    background:  #7a9642;\\n    border: none;\\n    -moz-border-radius:2px;\\n    -webkit-border-radius:2px;\\n    -o-border-radius:2px;\\n    -ms-border-radius:2px;\\n    -khtml-border-radius:2px;\\n    border-radius:2px;\\n    height: 30px;\\n    line-height: 30px;\\n    overflow: hidden;\\n    color: white;\\n}\\n\\n.morelink:hover{\\n    background: #A7B9CB;\\n    background-color: #96bf43;\\n    border-color: #96bf43;\\n}\\n\\n.morelink .nub {\\n    display: none;\\n}\\n\\n.morelink {\\n    color:#FFF; \\n    font-family: \"Calibri\", Candara, Segoe, Segoe UI, Optima, Arial, sans-serif;\\n    font-size:17px; \\n    width: 301px;\\n}\\n\\n.morelink a, .morelink a:hover{\\n    color: white;\\n}\\n\\n.sidebox.submit-link .morelink::before {\\n    display: block;\\n    clear: none;\\n    content: \"Submit a New Post\";\\n    font-size: 95%;\\n    overflow: hidden;\\n}\\n\\n.sidebox.submit .morelink a {\\n    position: absolute;\\n    top: 0;\\n    padding-left: 1000px;\\n    font-size: 0px;\\n    text-align: right;\\n    color: #56a6f7;\\n}\\n\\n.sidebox.submit.submit-link {\\n    width: 150px;\\n}\\n\\n.sidebox.create {\\n    display: none;\\n}\\n\\n.sidebox.submit.disabled {\\n    display: none;\\n}\\n\\n/* NIGHTMODE FIXES */\\n\\n.res-nightmode .sidebox.submit.submit-text{\\n    background: none !important;\\n    margin-top: -45px;\\n    margin-left: 153px;\\n}\\n\\n.res-nightmode .sidebox {\\n    padding-left: 0px !important;\\n    border: 2px solid #151515 !important;\\n}\\n\\n.res-nightmode .morelink {\\n    height: 29px !important;\\n}\\n\\n.res-nightmode .morelink {\\n    background:rgb(39, 63, 87) !important;\\n}\\n\\n.res-nightmode .morelink:hover {\\n    background: #449ef8 !important;\\n    background-color: #9edbf8 !important;\\n    border-color: #9edbf8 !important;\\n}\\n\\n/****************************************************************************\\n END: change submit a link button\\n ****************************************************************************/\\n \\n \\n/****************************************************************************\\n BEGIN: collapsible sidebar ala /r/canada\\n ****************************************************************************/\\n/***** Sidebar headings *****/\\n.titlebox blockquote {\\n    border: 1px solid #AAA;\\n    text-shadow: 0 1px 0 white;\\n    color: #787878;\\n    font-weight: bold;\\n    border-radius: 10px;\\n    -moz-border-radius: 10px;\\n    -webkit-border-radius: 10px\\n}\\n    \\n.sidecontentbox .content, .linkinfo, .footer {\\n    background: transparent !important;\\n    border: 1px solid #AAA;\\n    margin: 7px 0 0;\\n    -moz-border-radius: 5px;\\n    -webkit-border-radius: 5px;\\n    border-radius: 5px\\n}\\n    \\n.link.last-clicked {\\n    overflow: hidden\\n}\\n    \\n.linkinfo {\\n    margin-bottom: 10px\\n}\\n    \\n.titlebox {\\n    padding: 10px;\\n    background: transparent !important; /*Sidebar Background color*/\\n    border: 1px solid #AAA; /*Sidebar border color*/\\n    color: #787878; /*Text color in sidebar*/\\n    border-radius: 10px;\\n    -moz-border-radius: 10px;\\n    -webkit-border-radius: 10px\\n}\\n    \\n.titlebox .bottom {\\n    border: 0\\n}\\n    \\n.titlebox form.toggle {\\n    background-color: transparent\\n}\\n    \\n.titlebox .usertext {\\n    margin: 15px 0;\\n    line-height: 120%;\\n    font-size: small\\n}\\n    \\n.titlebox .usertext .md {\\n    margin: 0;\\n    padding: 0;\\n    overflow: visible\\n}\\n    \\n.titlebox .usertext .md h2 {\\n    font-size: 1.2em;\\n    font-weight: bold;\\n    color: #eee; /*Text color of ##*/\\n    background-color: #787878; /*Background color of ##*/\\n}\\n    \\n.titlebox .usertext .md &gt; h1 {\\n    border: 0;\\n    margin: 0;\\n    padding: 0;\\n    font-size: medium !important;\\n    background-color: #3399cc; /*Background color of #*/\\n    color: #eee; /*Text color of #*/\\n    width: 288px;\\n    padding: 5px 10px;\\n    padding-left: 20px;\\n    padding-right: 0;\\n    margin-right: 13px;\\n    margin-left: -18px;\\n    border-bottom: 1px solid #3399cc; /*Border of #*/\\n    margin-bottom: 5px;\\n    margin-top: 10px;\\n    z-index: 100\\n}\\n    \\n.res-nightmode .usertext .md &gt; h1 {\\n    background-color: #377798; /*Nightmode fix for #*/\\n    border-bottom: 1px solid #377798;\\n}\\n\\n.titlebox .usertext .md &gt; h1:after {\\n    display: block;\\n    content: \"\";\\n    border-color: transparent #23698c transparent transparent; /*Color of the little triangle^*/\\n    border-style: solid;\\n    border-width: 15px;\\n    height: 0px;\\n    width: 0px;\\n    position: absolute;\\n    z-index: -1;\\n    margin-left: -35px;\\n    margin-top: -10px\\n}\\n\\n/***** Collapsible menu *****/\\n.side { \\n    margin: 0px; \\n}\\n\\n.side .titlebox .md h3 + ul {\\n    margin-top: 0;\\n    margin-bottom: 0;\\n    padding: 3px;\\n}\\n    \\n.md { \\n    overflow: visible; \\n}\\n\\ndiv.titlebox .md h3, div.titlebox .md h3 a, div.titlebox .md h2, div.titlebox .md h2 a, div.titlebox .md h4, div.titlebox .md h4 a {\\n    color: #eee; /*General Header text color*/\\n}\\n    \\n.sidecontentbox a.helplink {\\n    margin-right: 5px;\\n}\\n.icon-menu a {\\n    background: transparent;\\n}\\ndiv.titlebox .md h3 + ul {\\n    display: none;\\n}\\ndiv.titlebox .md h3:hover + ul, div.titlebox .md ul:hover {\\n    display: block;\\n}\\ndiv.titlebox .md ul li:hover {\\n    background-color: #eee; \\n  /*Color you seen when ^ hovering over sidebar items*/\\n}\\n\\n.res-nightmode .titlebox .md ul li:hover {\\n    background-color: #393939;\\n  /*Color you seen when ^ hovering over sidebar items- Nightmode*/\\n}\\ndiv.titlebox .md h3, div.titlebox .md h2, div.titlebox .md h4 {\\n    background-color: #96bf43; /*### background color*/\\n    color: #fff; /*### Text color*/\\n    width: 280px;\\n    line-height: 23px;\\n    font-weight: normal;\\n    font-size: 14px;\\n    cursor: pointer;\\n    padding-left: 20px;\\n    margin-top: 4px;\\n    margin-left: -11px;\\n}\\n\\n.res-nightmode div.titlebox .md h3, div.titlebox .md h2, div.titlebox .md h4 { \\n    background-color: #7a9642; /*Nightmode background color*/\\n}\\n\\ndiv.titlebox .md h3:after, div.titlebox .md h2:after, div.titlebox .md h4:after {\\n    margin-bottom: 10px;\\n}\\n\\ndiv.titlebox .md h3:before { \\n    content: \"+\"; \\n    color: #fff; /*color of the + in ###*/\\n    padding-right: 5px; \\n} \\n\\ndiv.titlebox ul {\\n    line-height: 1.7em\\n}\\n\\n/****************************************************************************\\n END: collapsible sidebar ala /r/canada\\n ****************************************************************************/\\n \\n \\n/****************************************************************************\\n BEGIN: message before submission page\\n ****************************************************************************/\\n.formtabs-content{\\n    border-top:0px;\\n}\\n\\n#newlink .infobar {\\n    display:none !important;\\n}\\n\\n#title-field:before{\\n    display: block;\\n    background-color: yellow;\\n    content: \" Do not contact the mods if you do not see your submission in the new queue. All posts land in the spam filter until reviewed and approved. If your submission is not approved, a mod will explain the reason(s) why. Be sure to review the rules before participating.  \";\\n    font-weight:bold;\\n    font-size:14px;\\n    padding:2px;\\n    margin-top: 5px;\\n    margin-bottom: 5px;\\n    border:1px solid yellow;\\n    border-radius: 5px;\\n}\\n\\n#text-field:before{\\n    display: block;\\n    background-color: yellow;\\n    content: \"Your text should NOT contain names.  Your photo should be hosted on IMGUR only.\";\\n    font-weight:bold;\\n    font-size:14px;\\n    padding:2px;\\n    margin-top: 5px;\\n    margin-bottom: 5px;\\n    border:1px solid yellow;\\n    border-radius: 5px;\\n}\\n\\n#url-field:before{\\n    display: block;\\n    background-color: yellow;\\n    content: \" In your title, please state your relations with the person in the photo. See below for further submission rules.\";\\n    font-weight:bold;\\n    font-size:14px;\\n    padding:2px;\\n    margin-top: 5px;\\n    margin-bottom: 5px;\\n    border:1px solid yellow;\\n    border-radius: 5px;\\n}\\n\\n.info-notice:after{\\n    display: block;\\n    background-color: yellow;\\n    content: \"Please wait at least three days between submissions.\";\\n    font-weight:bold;\\n    font-size:14px;\\n    padding:2px;\\n    margin-top: 5px;\\n    border:1px solid yellow;\\n    border-radius: 5px;\\n}\\n\\ndiv.submit_text.roundfield.enabled h1:after{\\n    display: block;\\n    background-color: yellow;\\n    content: \"Read the rules below before submitting your image! \";\\n    font-weight:bold;\\n    font-size:14px;\\n}\\n\\ndiv.submit_text.roundfield.enabled h1 {\\n    text-transform: uppercase;\\n    background-color: yellow;\\n}\\n\\n/****************************************************************************\\n END: message before submission page\\n ****************************************************************************/\\n \\n \\n/****************************************************************************\\n BEGIN: Model Roulette button\\n ****************************************************************************/\\n.side .md a[href=\"http://www.reddit.com/r/redditgetsdrawn/random\"] {\\n    display: block;\\n    border: 0px solid #e6e6e6;\\n    border-radius: 1px;\\n    padding: 3px 5px;\\n    font-size: 15px;\\n    color: #FFFFFF;\\n    text-align: center;\\n}\\n\\n.side .md a[href=\"http://www.reddit.com/r/redditgetsdrawn/random\"]:hover {\\n    background: #246B8F;\\n}\\n\\n/****************************************************************************\\n END: Model Roulette button\\n ****************************************************************************/\\n \\n \\n/**************************************************************************** \\nBEGIN: Custom online users text \\n*****************************************************************************/\\n.titlebox .word {\\n    display: none\\n}\\n.titlebox .number:after {\\n    content: \" Subscribers\";\\n}\\n.titlebox .users-online span.number:after {\\n    content: \" Artists and art-lovers here now\";\\n}\\n\\n/**************************************************************************** \\nBEGIN: Custom online users text \\n*****************************************************************************/\\n\\n\\n/****************************************************************************\\n BEGIN: disable downvote arrows\\n ****************************************************************************/\\ndiv.link div.arrow.down { \\n   visibility: hidden;\\n   display: none;\\n}\\n\\ndiv.comment div.arrow.down { \\n   visibility: hidden;\\n   display: none;\\n}\\n/****************************************************************************\\n END: disable downvote arrows\\n ****************************************************************************/\\n\\n\\n/****************************************************************************\\n BEGIN: rules note beneath comment entry\\n ****************************************************************************/\\n.commentarea {\\n    position: static;\\n}\\n\\n.commentarea .usertext .usertext-edit:after {\\n    content: \"Note: RedditGetsDrawn is strictly moderated.  Please read the rules on the wiki before participating.\";\\n    display: block;\\n    text-align: left;\\n    margin-top: -5px;\\n    padding: 4px;\\n    background-color: #def;\\n    border: 1px solid #59c;\\n    font-size: 11px;\\n    font-weight: bold;\\n}\\n\\n/****************************************************************************\\n END: rules note beneath comment entry\\n ****************************************************************************/\\n\\n\\n /****************************************************************************\\n BEGIN: comment box background message\\n ****************************************************************************/\\n.commentarea&gt;.usertext textarea {\\n    background-image:url(%%commentbox%%);\\n    background-repeat: no-repeat;\\n    border: 1px solid #ccc;\\n}\\n\\n.commentarea&gt;.usertext textarea:focus {\\n    background-position: -504px -104px;\\n}\\n\\n/****************************************************************************\\n END: comment box background message\\n ****************************************************************************/\\n\\n\\n/****************************************************************************\\n BEGIN: wash out deleted messages (Void)\\n ****************************************************************************\\nform.grayed, form.grayed ~ ul.flat-list.buttons {\\n display: none;\\n}\\np.tagline &gt; a.expand:first-child + em:after, div.collapsed &gt; a.expand:first-child + em:after {\\n visibility: visible;\\n font-size: x-small;\\n font-weight: bold;\\n content: \"[deleted]\";\\n}\\np.tagline &gt; a.expand:first-child + em, div.collapsed &gt; a.expand:first-child + em {\\n visibility: hidden;\\n font-size: 0;\\n}\\ndiv.collapsed &gt; a.expand:first-child + em + time + a.expand, div.collapsed &gt; a.expand:first-child + em + a.expand {\\n display: none;\\n}\\n****************************************************************************\\n END: wash out deleted messages\\n ****************************************************************************/\\n\\n\\n/****************************************************************************\\n BEGIN: hide RES keyboard shortcut annotations\\n ****************************************************************************/\\n.keyNavAnnotation{\\n display:none;\\n}\\n/****************************************************************************\\n END: hide RES keyboard shortcut annotations\\n ****************************************************************************/\\n\\n\\n/****************************************************************************\\n BEGIN: viewed/new/sticky link color\\n ****************************************************************************/\\n#siteTable div.thing a.title {\\n    color: #3399cc\\n}  \\n\\n#siteTable div.thing a.title:visited {\\n    color: #787878;\\n}\\n  \\n.thing.stickied a.title, .thing.stickied a.title:visited, .thing.stickied a.title.visited {\\n    font-weight: bold;\\n    color: #7a9642 !important;\\n}\\n\\n/****************************************************************************\\n END: viewed/new/sticky link color\\n ****************************************************************************/\\n \\n \\n/****************************************************************************\\n BEGIN: flair color\\n ****************************************************************************/\\n\\n.flair[title*=\"Best of RGD Winner\"], .flair[title*=\"Best of RGD Winner (x2)\"]{\\n    background-color: #A280A2 !important;\\n    font-size: 9px;\\n    font-weight: normal;\\n    color: #FFFFFF !important;\\n    border-color: #FFFFFF;\\n    border-width: 1px;\\n    border-radius: 3px;\\n    padding: 2px;\\n}\\n\\n.flair[title*=\"Best of RGD Winner (x3)\"], .flair[title*=\"Best of RGD Winner (x4)\"]{\\n    background-color: #987298 !important;\\n    font-size: 9px;\\n    font-weight: normal;\\n    color: #FFFFFF !important;\\n    border-color: #FFFFFF;\\n    border-width: 1px;\\n    border-radius: 3px;\\n    padding: 2px;\\n}\\n\\n.flair[title*=\"Best of RGD Winner (x5)\"], .flair[title*=\"Best of RGD Winner (x6)\"]{\\n    background-color: #8D628D !important;\\n    font-size: 9px;\\n    font-weight: normal;\\n    color: #FFFFFF !important;\\n    border-color: #FFFFFF;\\n    border-width: 1px;\\n    border-radius: 3px;\\n    padding: 2px;\\n}\\n\\n.flair[title*=\"Best of RGD Winner (x7)\"], .flair[title*=\"Best of RGD Winner (x8)\"]{\\n    background-color: #805180 !important;\\n    font-size: 9px;\\n    font-weight: normal;\\n    color: #FFFFFF !important;\\n    border-color: #FFFFFF;\\n    border-width: 1px;\\n    border-radius: 3px;\\n    padding: 2px;\\n}\\n\\n.flair[title*=\"Best of RGD Winner (x9)\"], .flair[title*=\"Best of RGD Winner (x10)\"]{\\n    background-color: #602560 !important;\\n    font-size: 9px;\\n    font-weight: normal;\\n    color: #FFFFFF !important;\\n    border-color: #FFFFFF;\\n    border-width: 1px;\\n    border-radius: 3px;\\n    padding: 2px;\\n}\\n\\n\\n\\n.flair[title*=\"Best of RGD Winner (x11)\"], .flair[title*=\"Best of RGD Winner (x12)\"], .flair[title*=\"Best of RGD Winner (x13)\"], \\n.flair[title*=\"Best of RGD Winner (x14)\"], .flair[title*=\"Best of RGD Winner (x15)\"], .flair[title*=\"Best of RGD Winner (x16)\"], .flair[title*=\"Best of RGD Winner (x17)\"], \\n.flair[title*=\"Best of RGD Winner (x18)\"], .flair[title*=\"Best of RGD Winner (x19)\"], .flair[title*=\"Best of RGD Winner (x20)\"], .flair[title*=\"Best of RGD Winner (x21)\"],\\n.flair[title*=\"Best of RGD Winner (x22)\"], .flair[title*=\"Best of RGD Winner (x23)\"], .flair[title*=\"Best of RGD Winner (x24)\"], .flair[title*=\"Best of RGD Winner (x25)\"],\\n.flair[title*=\"Best of RGD Winner (x26)\"], .flair[title*=\"Best of RGD Winner (x27)\"], .flair[title*=\"Best of RGD Winner (x28)\"], .flair[title*=\"Best of RGD Winner (x29)\"],\\n.flair[title*=\"Best of RGD Winner (x30)\"], .flair[title*=\"Best of RGD Winner (x31)\"], .flair[title*=\"Best of RGD Winner (x32)\"], .flair[title*=\"Best of RGD Winner (x33)\"],\\n.flair[title*=\"Best of RGD Winner (x34)\"], .flair[title*=\"Best of RGD Winner (x35)\"], .flair[title*=\"Best of RGD Winner (x36)\"], .flair[title*=\"Best of RGD Winner (x37)\"],\\n.flair[title*=\"Best of RGD Winner (x38)\"], .flair[title*=\"Best of RGD Winner (x39)\"], .flair[title*=\"Best of RGD Winner (x40)\"], .flair[title*=\"Best of RGD Winner (x41)\"],\\n.flair[title*=\"Best of RGD Winner (x42)\"], .flair[title*=\"Best of RGD Winner (x43)\"], .flair[title*=\"Best of RGD Winner (x44)\"], .flair[title*=\"Best of RGD Winner (x45)\"],\\n.flair[title*=\"Best of RGD Winner (x46)\"], .flair[title*=\"Best of RGD Winner (x47)\"], .flair[title*=\"Best of RGD Winner (x48)\"], .flair[title*=\"Best of RGD Winner (x49)\"], .flair[title*=\"Best of RGD Winner (x50)\"]{\\n    background-color: #4D1E4D !important;\\n    font-size: 9px;\\n    font-weight: normal;\\n    color: #FFFFFF !important;\\n    border-color: #FFFFFF;\\n    border-width: 1px;\\n    border-radius: 3px;\\n    padding: 2px;\\n}\\n/****************************************************************************\\n END: flair color\\n ****************************************************************************/\\n \\n\\n/****************************************************************************\\n BEGIN: Make deleted comments less noticeable (Stolen from science)\\n*****************************************************************************/\\n.deleted .grayed {\\n    display: none;\\n}\\n\\n/****************************************************************************\\n END: Make deleted comments less noticeable (Stolen from science)\\n*****************************************************************************/\\n\\n\\n/****************************************************************************\\n BEGIN: Warning message for submissions\\n*****************************************************************************/\\n.sidebox.submit:hover:before{\\n    position:fixed;\\n    display:block;\\n    top:0;\\n    text-align:center;\\n    background-color:#3399cc; /*Edit to your liking*/\\n    color:white; /*Font color*/\\n    z-index:1000;\\n    padding:5px 0;\\n    width:100%;\\n    left:0;\\n    font-size:20px;\\n    font-weight:normal;\\n    content:\"This subreddit is strictly moderated. Please read the rules before posting.\"\\n}\\n\\n/****************************************************************************\\n END: Warning message for submissions\\n*****************************************************************************/\\n\\n\\n/****************************************************************************\\n BEGIN: Announcement banner\\n*****************************************************************************/\\n.titlebox .usertext-body .md h6 {\\n    position: absolute;\\n    top: 125px;\\n    left: 10px;\\n    z-index: 100;\\n}\\n.usertext-body .md h6 {\\n    line-height: 13px;\\n    margin: 0 auto;\\n    height: 18px;\\n    white-space: nowrap;\\n    background:#96bf43;\\n    opacity:0.9;\\n    /*background: url(%%image%%);*/ /* optional */\\n    font-size: 13px;\\n    font-weight: normal;\\n    color: #FFFFFF;\\n    text-align: center;\\n/* 2nd px padding sets the width of the banner */\\n    padding: 5px 10px 0px 10px;\\n    display: block;\\n    border-top-right-radius: 10px;\\n    border-bottom-right-radius: 10px;\\n    border-top-left-radius: 10px;\\n    border-bottom-left-radius: 10px;\\n}\\n  \\n/* use ######yourmessagehere in sidebar */\\n\\n/****************************************************************************\\n END: Announcement banner\\n*****************************************************************************/',\n",
        " u'subreddit_id': u't5_2tjl7'}"
       ]
      }
     ],
     "prompt_number": 259
    },
    {
     "cell_type": "code",
     "collapsed": true,
     "input": [
      "seclis = list(rd.get_comments())"
     ],
     "language": "python",
     "metadata": {},
     "outputs": [],
     "prompt_number": 260
    },
    {
     "cell_type": "code",
     "collapsed": true,
     "input": [
      "newcoms = []"
     ],
     "language": "python",
     "metadata": {},
     "outputs": [],
     "prompt_number": 261
    },
    {
     "cell_type": "code",
     "collapsed": false,
     "input": [
      "for comes in seclis:\n",
      "    print (comes)\n",
      "    newcoms.append(comes)"
     ],
     "language": "python",
     "metadata": {},
     "outputs": [
      {
       "output_type": "stream",
       "stream": "stdout",
       "text": [
        "OP you have an artist to thank. &gt;:{\n",
        "this is just awesome. thank you\n",
        "thank you so much! it's great!\n",
        "awesome job!!! thanks so much\n",
        "what an awesome thing to say, thank you! :)\n",
        "wonderful! thank you so much!\n",
        "\n",
        "Girlfriend, but plans are afoot to change that...\n",
        "[INTENSE!](http://i.imgur.com/i9WyT16.jpg)\n",
        "\n",
        "^^ink ^^on ^^paper\n",
        "This is pretty awesome! Thank you!\n",
        "Pretty impressive! Thanks!\n",
        "Nope. We don't get any context for reported posts. We have to do some digging...\n",
        "Holy crap! That's pretty cool! Thanks!\n",
        "Thank you! I'm digging it!\n",
        "That's pretty awesome! Thanks!\n",
        "I love it! Thank you!\n",
        "My take! \n",
        "\n",
        "http://imgur.com/0dwXChW\n",
        "[Nice colors :)] (http://i.imgur.com/9YJMm4V.jpg)\n",
        "This sub blows.\n",
        "http://imgur.com/X9vQwQk\n",
        "that is amazing!! i hope to be as wonderful of an artist as you one day. than...\n",
        "thats great :) its so simple but gorgeous.\n",
        "wow... im super super happy with it! :D as an artist myself that is so inspir...\n",
        "[Imgur](http://i.imgur.com/N1zfNxp)\n",
        ":)\n",
        "man I must have erased your right cheek half a dozen times\n",
        "\n",
        "http://jarnagua.t...\n",
        "We don't get any context, but if there's nothing obviously wrong with the rep...\n"
       ]
      }
     ],
     "prompt_number": 262
    },
    {
     "cell_type": "code",
     "collapsed": true,
     "input": [
      "senrgd = []"
     ],
     "language": "python",
     "metadata": {},
     "outputs": [],
     "prompt_number": 263
    },
    {
     "cell_type": "code",
     "collapsed": true,
     "input": [
      "for comz in newcoms:\n",
      "    print comz\n",
      "    senrgd.append(comz.submission.url)"
     ],
     "language": "python",
     "metadata": {},
     "outputs": [
      {
       "output_type": "stream",
       "stream": "stdout",
       "text": [
        "OP you have an artist to thank. &gt;:{\n",
        "this is just awesome. thank you"
       ]
      },
      {
       "output_type": "stream",
       "stream": "stdout",
       "text": [
        "\n",
        "thank you so much! it's great!"
       ]
      },
      {
       "output_type": "stream",
       "stream": "stdout",
       "text": [
        "\n",
        "awesome job!!! thanks so much\n",
        "what an awesome thing to say, thank you! :)"
       ]
      },
      {
       "output_type": "stream",
       "stream": "stdout",
       "text": [
        "\n",
        "wonderful! thank you so much!\n",
        "\n",
        "Girlfriend, but plans are afoot to change that..."
       ]
      },
      {
       "output_type": "stream",
       "stream": "stdout",
       "text": [
        "\n",
        "[INTENSE!](http://i.imgur.com/i9WyT16.jpg)\n",
        "\n",
        "^^ink ^^on ^^paper"
       ]
      },
      {
       "output_type": "stream",
       "stream": "stdout",
       "text": [
        "\n",
        "This is pretty awesome! Thank you!"
       ]
      },
      {
       "output_type": "stream",
       "stream": "stdout",
       "text": [
        "\n",
        "Pretty impressive! Thanks!"
       ]
      },
      {
       "output_type": "stream",
       "stream": "stdout",
       "text": [
        "\n",
        "Nope. We don't get any context for reported posts. We have to do some digging...\n",
        "Holy crap! That's pretty cool! Thanks!"
       ]
      },
      {
       "output_type": "stream",
       "stream": "stdout",
       "text": [
        "\n",
        "Thank you! I'm digging it!\n",
        "That's pretty awesome! Thanks!\n",
        "I love it! Thank you!\n",
        "My take! \n",
        "\n",
        "http://imgur.com/0dwXChW\n",
        "[Nice colors :)] (http://i.imgur.com/9YJMm4V.jpg)"
       ]
      },
      {
       "output_type": "stream",
       "stream": "stdout",
       "text": [
        "\n",
        "This sub blows."
       ]
      },
      {
       "output_type": "stream",
       "stream": "stdout",
       "text": [
        "\n",
        "http://imgur.com/X9vQwQk"
       ]
      },
      {
       "output_type": "stream",
       "stream": "stdout",
       "text": [
        "\n",
        "that is amazing!! i hope to be as wonderful of an artist as you one day. than...\n",
        "thats great :) its so simple but gorgeous."
       ]
      },
      {
       "output_type": "stream",
       "stream": "stdout",
       "text": [
        "\n",
        "wow... im super super happy with it! :D as an artist myself that is so inspir...\n",
        "[Imgur](http://i.imgur.com/N1zfNxp)\n",
        ":)\n",
        "man I must have erased your right cheek half a dozen times\n",
        "\n",
        "http://jarnagua.t..."
       ]
      },
      {
       "output_type": "stream",
       "stream": "stdout",
       "text": [
        "\n",
        "We don't get any context, but if there's nothing obviously wrong with the rep..."
       ]
      },
      {
       "output_type": "stream",
       "stream": "stdout",
       "text": [
        "\n"
       ]
      }
     ],
     "prompt_number": 264
    },
    {
     "cell_type": "code",
     "collapsed": false,
     "input": [
      "senlis = []"
     ],
     "language": "python",
     "metadata": {},
     "outputs": [],
     "prompt_number": 265
    },
    {
     "cell_type": "code",
     "collapsed": false,
     "input": [
      "for sen in senrgd:\n",
      "    if '.jpg' in sen:\n",
      "        senlis.append(sen)"
     ],
     "language": "python",
     "metadata": {},
     "outputs": [],
     "prompt_number": 266
    },
    {
     "cell_type": "code",
     "collapsed": false,
     "input": [
      "senlis"
     ],
     "language": "python",
     "metadata": {},
     "outputs": [
      {
       "metadata": {},
       "output_type": "pyout",
       "prompt_number": 267,
       "text": [
        "[u'http://i.imgur.com/q3viF99.jpg',\n",
        " u'http://i.imgur.com/g3xGsFb.jpg',\n",
        " u'http://i.imgur.com/g3xGsFb.jpg',\n",
        " u'http://i.imgur.com/g3xGsFb.jpg',\n",
        " u'http://i.imgur.com/g3xGsFb.jpg',\n",
        " u'http://i.imgur.com/g3xGsFb.jpg',\n",
        " u'http://i.imgur.com/g3xGsFb.jpg',\n",
        " u'http://i.imgur.com/zhf3Xvp.jpg',\n",
        " u'http://i.imgur.com/8w63OWC.jpg',\n",
        " u'http://i.imgur.com/3Mkoc50.jpg',\n",
        " u'http://i.imgur.com/3Mkoc50.jpg',\n",
        " u'http://i.imgur.com/3Mkoc50.jpg',\n",
        " u'http://i.imgur.com/K4ILuSn.jpg']"
       ]
      }
     ],
     "prompt_number": 267
    },
    {
     "cell_type": "code",
     "collapsed": true,
     "input": [
      "import pyimgur"
     ],
     "language": "python",
     "metadata": {},
     "outputs": [],
     "prompt_number": 268
    },
    {
     "cell_type": "code",
     "collapsed": true,
     "input": [
      "pyimgur.Imgur.upload_image"
     ],
     "language": "python",
     "metadata": {},
     "outputs": [
      {
       "metadata": {},
       "output_type": "pyout",
       "prompt_number": 269,
       "text": [
        "<unbound method Imgur.upload_image>"
       ]
      }
     ],
     "prompt_number": 269
    },
    {
     "cell_type": "code",
     "collapsed": true,
     "input": [
      "comz.submission.url"
     ],
     "language": "python",
     "metadata": {},
     "outputs": [
      {
       "metadata": {},
       "output_type": "pyout",
       "prompt_number": 270,
       "text": [
        "u'http://www.reddit.com/r/redditgetsdrawn/comments/2dl2bp/its_time_for_our_monthly_state_of_the_union_post/'"
       ]
      }
     ],
     "prompt_number": 270
    },
    {
     "cell_type": "code",
     "collapsed": true,
     "input": [
      "allcom = r.get_subreddit('redditgetsdrawn')"
     ],
     "language": "python",
     "metadata": {},
     "outputs": [],
     "prompt_number": 271
    },
    {
     "cell_type": "code",
     "collapsed": true,
     "input": [
      "lisbox = senrgd[1]"
     ],
     "language": "python",
     "metadata": {},
     "outputs": [],
     "prompt_number": 272
    },
    {
     "cell_type": "code",
     "collapsed": false,
     "input": [
      "import bs4"
     ],
     "language": "python",
     "metadata": {},
     "outputs": [],
     "prompt_number": 273
    },
    {
     "cell_type": "code",
     "collapsed": false,
     "input": [
      "soup = bs4.BeautifulSoup(lisbox)"
     ],
     "language": "python",
     "metadata": {},
     "outputs": [
      {
       "output_type": "stream",
       "stream": "stderr",
       "text": [
        "/usr/local/lib/python2.7/dist-packages/bs4/__init__.py:189: UserWarning: \"http://imgur.com/mlJiNLg\" looks like a URL. Beautiful Soup is not an HTTP client. You should probably use an HTTP client to get the document behind the URL, and feed that document to Beautiful Soup.\n",
        "  '\"%s\" looks like a URL. Beautiful Soup is not an HTTP client. You should probably use an HTTP client to get the document behind the URL, and feed that document to Beautiful Soup.' % markup)\n"
       ]
      }
     ],
     "prompt_number": 274
    },
    {
     "cell_type": "code",
     "collapsed": false,
     "input": [
      "soup.contents"
     ],
     "language": "python",
     "metadata": {},
     "outputs": [
      {
       "metadata": {},
       "output_type": "pyout",
       "prompt_number": 275,
       "text": [
        "[u'http://imgur.com/mlJiNLg']"
       ]
      }
     ],
     "prompt_number": 275
    },
    {
     "cell_type": "code",
     "collapsed": false,
     "input": [
      "soup.index"
     ],
     "language": "python",
     "metadata": {},
     "outputs": [
      {
       "metadata": {},
       "output_type": "pyout",
       "prompt_number": 276,
       "text": [
        "<bound method BeautifulSoup.index of http://imgur.com/mlJiNLg>"
       ]
      }
     ],
     "prompt_number": 276
    },
    {
     "cell_type": "code",
     "collapsed": false,
     "input": [
      "print soup.name\n",
      "print soup.contents"
     ],
     "language": "python",
     "metadata": {},
     "outputs": [
      {
       "output_type": "stream",
       "stream": "stdout",
       "text": [
        "[document]\n",
        "[u'http://imgur.com/mlJiNLg']\n"
       ]
      }
     ],
     "prompt_number": 277
    },
    {
     "cell_type": "code",
     "collapsed": false,
     "input": [
      "myString = str(soup.string)\n",
      "\n",
      "rdgimg = re.search(\"(?P<url>https?://[^\\s]+)\", myString).group(\"url\")"
     ],
     "language": "python",
     "metadata": {},
     "outputs": [
      {
       "output_type": "stream",
       "stream": "stdout",
       "text": [
        "Traceback (most recent call last):\n",
        "  File \"/usr/local/lib/python2.7/dist-packages/IPython/core/ultratb.py\", line 766, in structured_traceback\n",
        "    records = _fixed_getinnerframes(etb, context, tb_offset)\n",
        "  File \"/usr/local/lib/python2.7/dist-packages/IPython/core/ultratb.py\", line 249, in _fixed_getinnerframes\n",
        "    records  = fix_frame_records_filenames(inspect.getinnerframes(etb, context))\n",
        "  File \"/usr/lib/python2.7/inspect.py\", line 1043, in getinnerframes\n",
        "    framelist.append((tb.tb_frame,) + getframeinfo(tb, context))\n",
        "  File \"/usr/lib/python2.7/inspect.py\", line 1003, in getframeinfo\n",
        "    filename = getsourcefile(frame) or getfile(frame)\n",
        "  File \"/usr/lib/python2.7/inspect.py\", line 454, in getsourcefile\n",
        "    if hasattr(getmodule(object, filename), '__loader__'):\n",
        "  File \"/usr/lib/python2.7/inspect.py\", line 483, in getmodule\n",
        "    file = getabsfile(object, _filename)\n",
        "  File \"/usr/lib/python2.7/inspect.py\", line 467, in getabsfile\n",
        "    return os.path.normcase(os.path.abspath(_filename))\n",
        "  File \"/usr/lib/python2.7/posixpath.py\", line 356, in abspath\n",
        "    cwd = os.getcwd()\n",
        "OSError: [Errno 2] No such file or directory\n"
       ]
      },
      {
       "output_type": "stream",
       "stream": "stderr",
       "text": [
        "ERROR: Internal Python error in the inspect module.\n",
        "Below is the traceback from this internal error.\n",
        "\n",
        "\n",
        "Unfortunately, your original traceback can not be constructed.\n",
        "\n"
       ]
      },
      {
       "ename": "TypeError",
       "evalue": "'list' object is not callable",
       "output_type": "pyerr",
       "traceback": ""
      }
     ],
     "prompt_number": 278
    },
    {
     "cell_type": "code",
     "collapsed": false,
     "input": [
      "from IPython.display import Image"
     ],
     "language": "python",
     "metadata": {},
     "outputs": [],
     "prompt_number": 279
    },
    {
     "cell_type": "code",
     "collapsed": false,
     "input": [
      "print rdgimg"
     ],
     "language": "python",
     "metadata": {},
     "outputs": [
      {
       "output_type": "stream",
       "stream": "stdout",
       "text": [
        "Traceback (most recent call last):\n",
        "  File \"/usr/local/lib/python2.7/dist-packages/IPython/core/ultratb.py\", line 766, in structured_traceback\n",
        "    records = _fixed_getinnerframes(etb, context, tb_offset)\n",
        "  File \"/usr/local/lib/python2.7/dist-packages/IPython/core/ultratb.py\", line 249, in _fixed_getinnerframes\n",
        "    records  = fix_frame_records_filenames(inspect.getinnerframes(etb, context))\n",
        "  File \"/usr/lib/python2.7/inspect.py\", line 1043, in getinnerframes\n",
        "    framelist.append((tb.tb_frame,) + getframeinfo(tb, context))\n",
        "  File \"/usr/lib/python2.7/inspect.py\", line 1003, in getframeinfo\n",
        "    filename = getsourcefile(frame) or getfile(frame)\n",
        "  File \"/usr/lib/python2.7/inspect.py\", line 454, in getsourcefile\n",
        "    if hasattr(getmodule(object, filename), '__loader__'):\n",
        "  File \"/usr/lib/python2.7/inspect.py\", line 483, in getmodule\n",
        "    file = getabsfile(object, _filename)\n",
        "  File \"/usr/lib/python2.7/inspect.py\", line 467, in getabsfile\n",
        "    return os.path.normcase(os.path.abspath(_filename))\n",
        "  File \"/usr/lib/python2.7/posixpath.py\", line 356, in abspath\n",
        "    cwd = os.getcwd()\n",
        "OSError: [Errno 2] No such file or directory\n"
       ]
      },
      {
       "output_type": "stream",
       "stream": "stderr",
       "text": [
        "ERROR: Internal Python error in the inspect module.\n",
        "Below is the traceback from this internal error.\n",
        "\n",
        "\n",
        "Unfortunately, your original traceback can not be constructed.\n",
        "\n"
       ]
      },
      {
       "ename": "NameError",
       "evalue": "name 'rdgimg' is not defined",
       "output_type": "pyerr",
       "traceback": ""
      }
     ],
     "prompt_number": 280
    },
    {
     "cell_type": "code",
     "collapsed": false,
     "input": [
      "os.chdir('/home/wcmckee/rgd')"
     ],
     "language": "python",
     "metadata": {},
     "outputs": [
      {
       "output_type": "stream",
       "stream": "stdout",
       "text": [
        "Traceback (most recent call last):\n",
        "  File \"/usr/local/lib/python2.7/dist-packages/IPython/core/ultratb.py\", line 766, in structured_traceback\n",
        "    records = _fixed_getinnerframes(etb, context, tb_offset)\n",
        "  File \"/usr/local/lib/python2.7/dist-packages/IPython/core/ultratb.py\", line 249, in _fixed_getinnerframes\n",
        "    records  = fix_frame_records_filenames(inspect.getinnerframes(etb, context))\n",
        "  File \"/usr/lib/python2.7/inspect.py\", line 1043, in getinnerframes\n",
        "    framelist.append((tb.tb_frame,) + getframeinfo(tb, context))\n",
        "  File \"/usr/lib/python2.7/inspect.py\", line 1003, in getframeinfo\n",
        "    filename = getsourcefile(frame) or getfile(frame)\n",
        "  File \"/usr/lib/python2.7/inspect.py\", line 454, in getsourcefile\n",
        "    if hasattr(getmodule(object, filename), '__loader__'):\n",
        "  File \"/usr/lib/python2.7/inspect.py\", line 483, in getmodule\n",
        "    file = getabsfile(object, _filename)\n",
        "  File \"/usr/lib/python2.7/inspect.py\", line 467, in getabsfile\n",
        "    return os.path.normcase(os.path.abspath(_filename))\n",
        "  File \"/usr/lib/python2.7/posixpath.py\", line 356, in abspath\n",
        "    cwd = os.getcwd()\n",
        "OSError: [Errno 2] No such file or directory\n"
       ]
      },
      {
       "output_type": "stream",
       "stream": "stderr",
       "text": [
        "ERROR: Internal Python error in the inspect module.\n",
        "Below is the traceback from this internal error.\n",
        "\n",
        "\n",
        "Unfortunately, your original traceback can not be constructed.\n",
        "\n"
       ]
      },
      {
       "ename": "OSError",
       "evalue": "[Errno 2] No such file or directory: '/home/wcmckee/rgd'",
       "output_type": "pyerr",
       "traceback": ""
      }
     ],
     "prompt_number": 281
    },
    {
     "cell_type": "code",
     "collapsed": false,
     "input": [
      "import requests"
     ],
     "language": "python",
     "metadata": {},
     "outputs": [],
     "prompt_number": 282
    },
    {
     "cell_type": "code",
     "collapsed": false,
     "input": [
      "reqrgd = requests.get(rdgimg)"
     ],
     "language": "python",
     "metadata": {},
     "outputs": [
      {
       "output_type": "stream",
       "stream": "stdout",
       "text": [
        "Traceback (most recent call last):\n",
        "  File \"/usr/local/lib/python2.7/dist-packages/IPython/core/ultratb.py\", line 766, in structured_traceback\n",
        "    records = _fixed_getinnerframes(etb, context, tb_offset)\n",
        "  File \"/usr/local/lib/python2.7/dist-packages/IPython/core/ultratb.py\", line 249, in _fixed_getinnerframes\n",
        "    records  = fix_frame_records_filenames(inspect.getinnerframes(etb, context))\n",
        "  File \"/usr/lib/python2.7/inspect.py\", line 1043, in getinnerframes\n",
        "    framelist.append((tb.tb_frame,) + getframeinfo(tb, context))\n",
        "  File \"/usr/lib/python2.7/inspect.py\", line 1003, in getframeinfo\n",
        "    filename = getsourcefile(frame) or getfile(frame)\n",
        "  File \"/usr/lib/python2.7/inspect.py\", line 454, in getsourcefile\n",
        "    if hasattr(getmodule(object, filename), '__loader__'):\n",
        "  File \"/usr/lib/python2.7/inspect.py\", line 483, in getmodule\n",
        "    file = getabsfile(object, _filename)\n",
        "  File \"/usr/lib/python2.7/inspect.py\", line 467, in getabsfile\n",
        "    return os.path.normcase(os.path.abspath(_filename))\n",
        "  File \"/usr/lib/python2.7/posixpath.py\", line 356, in abspath\n",
        "    cwd = os.getcwd()\n",
        "OSError: [Errno 2] No such file or directory\n"
       ]
      },
      {
       "output_type": "stream",
       "stream": "stderr",
       "text": [
        "ERROR: Internal Python error in the inspect module.\n",
        "Below is the traceback from this internal error.\n",
        "\n",
        "\n",
        "Unfortunately, your original traceback can not be constructed.\n",
        "\n"
       ]
      },
      {
       "ename": "NameError",
       "evalue": "name 'rdgimg' is not defined",
       "output_type": "pyerr",
       "traceback": ""
      }
     ],
     "prompt_number": 283
    },
    {
     "cell_type": "code",
     "collapsed": false,
     "input": [
      "#reqrgd.text"
     ],
     "language": "python",
     "metadata": {},
     "outputs": [],
     "prompt_number": 284
    },
    {
     "cell_type": "code",
     "collapsed": false,
     "input": [
      "finz = (comus + '.jpg')"
     ],
     "language": "python",
     "metadata": {},
     "outputs": [
      {
       "output_type": "stream",
       "stream": "stdout",
       "text": [
        "Traceback (most recent call last):\n",
        "  File \"/usr/local/lib/python2.7/dist-packages/IPython/core/ultratb.py\", line 766, in structured_traceback\n",
        "    records = _fixed_getinnerframes(etb, context, tb_offset)\n",
        "  File \"/usr/local/lib/python2.7/dist-packages/IPython/core/ultratb.py\", line 249, in _fixed_getinnerframes\n",
        "    records  = fix_frame_records_filenames(inspect.getinnerframes(etb, context))\n",
        "  File \"/usr/lib/python2.7/inspect.py\", line 1043, in getinnerframes\n",
        "    framelist.append((tb.tb_frame,) + getframeinfo(tb, context))\n",
        "  File \"/usr/lib/python2.7/inspect.py\", line 1003, in getframeinfo\n",
        "    filename = getsourcefile(frame) or getfile(frame)\n",
        "  File \"/usr/lib/python2.7/inspect.py\", line 454, in getsourcefile\n",
        "    if hasattr(getmodule(object, filename), '__loader__'):\n",
        "  File \"/usr/lib/python2.7/inspect.py\", line 483, in getmodule\n",
        "    file = getabsfile(object, _filename)\n",
        "  File \"/usr/lib/python2.7/inspect.py\", line 467, in getabsfile\n",
        "    return os.path.normcase(os.path.abspath(_filename))\n",
        "  File \"/usr/lib/python2.7/posixpath.py\", line 356, in abspath\n",
        "    cwd = os.getcwd()\n",
        "OSError: [Errno 2] No such file or directory\n"
       ]
      },
      {
       "output_type": "stream",
       "stream": "stderr",
       "text": [
        "ERROR: Internal Python error in the inspect module.\n",
        "Below is the traceback from this internal error.\n",
        "\n",
        "\n",
        "Unfortunately, your original traceback can not be constructed.\n",
        "\n"
       ]
      },
      {
       "ename": "NameError",
       "evalue": "name 'comus' is not defined",
       "output_type": "pyerr",
       "traceback": ""
      }
     ],
     "prompt_number": 285
    },
    {
     "cell_type": "code",
     "collapsed": false,
     "input": [
      "savrgd = open(finz, 'wb')"
     ],
     "language": "python",
     "metadata": {},
     "outputs": [
      {
       "output_type": "stream",
       "stream": "stdout",
       "text": [
        "Traceback (most recent call last):\n",
        "  File \"/usr/local/lib/python2.7/dist-packages/IPython/core/ultratb.py\", line 766, in structured_traceback\n",
        "    records = _fixed_getinnerframes(etb, context, tb_offset)\n",
        "  File \"/usr/local/lib/python2.7/dist-packages/IPython/core/ultratb.py\", line 249, in _fixed_getinnerframes\n",
        "    records  = fix_frame_records_filenames(inspect.getinnerframes(etb, context))\n",
        "  File \"/usr/lib/python2.7/inspect.py\", line 1043, in getinnerframes\n",
        "    framelist.append((tb.tb_frame,) + getframeinfo(tb, context))\n",
        "  File \"/usr/lib/python2.7/inspect.py\", line 1003, in getframeinfo\n",
        "    filename = getsourcefile(frame) or getfile(frame)\n",
        "  File \"/usr/lib/python2.7/inspect.py\", line 454, in getsourcefile\n",
        "    if hasattr(getmodule(object, filename), '__loader__'):\n",
        "  File \"/usr/lib/python2.7/inspect.py\", line 483, in getmodule\n",
        "    file = getabsfile(object, _filename)\n",
        "  File \"/usr/lib/python2.7/inspect.py\", line 467, in getabsfile\n",
        "    return os.path.normcase(os.path.abspath(_filename))\n",
        "  File \"/usr/lib/python2.7/posixpath.py\", line 356, in abspath\n",
        "    cwd = os.getcwd()\n",
        "OSError: [Errno 2] No such file or directory\n"
       ]
      },
      {
       "output_type": "stream",
       "stream": "stderr",
       "text": [
        "ERROR: Internal Python error in the inspect module.\n",
        "Below is the traceback from this internal error.\n",
        "\n",
        "\n",
        "Unfortunately, your original traceback can not be constructed.\n",
        "\n"
       ]
      },
      {
       "ename": "NameError",
       "evalue": "name 'finz' is not defined",
       "output_type": "pyerr",
       "traceback": ""
      }
     ],
     "prompt_number": 286
    },
    {
     "cell_type": "code",
     "collapsed": false,
     "input": [
      "savrgd.write(reqrgd.url)\n",
      "savrgd.close()"
     ],
     "language": "python",
     "metadata": {},
     "outputs": [
      {
       "output_type": "stream",
       "stream": "stdout",
       "text": [
        "Traceback (most recent call last):\n",
        "  File \"/usr/local/lib/python2.7/dist-packages/IPython/core/ultratb.py\", line 766, in structured_traceback\n",
        "    records = _fixed_getinnerframes(etb, context, tb_offset)\n",
        "  File \"/usr/local/lib/python2.7/dist-packages/IPython/core/ultratb.py\", line 249, in _fixed_getinnerframes\n",
        "    records  = fix_frame_records_filenames(inspect.getinnerframes(etb, context))\n",
        "  File \"/usr/lib/python2.7/inspect.py\", line 1043, in getinnerframes\n",
        "    framelist.append((tb.tb_frame,) + getframeinfo(tb, context))\n",
        "  File \"/usr/lib/python2.7/inspect.py\", line 1003, in getframeinfo\n",
        "    filename = getsourcefile(frame) or getfile(frame)\n",
        "  File \"/usr/lib/python2.7/inspect.py\", line 454, in getsourcefile\n",
        "    if hasattr(getmodule(object, filename), '__loader__'):\n",
        "  File \"/usr/lib/python2.7/inspect.py\", line 483, in getmodule\n",
        "    file = getabsfile(object, _filename)\n",
        "  File \"/usr/lib/python2.7/inspect.py\", line 467, in getabsfile\n",
        "    return os.path.normcase(os.path.abspath(_filename))\n",
        "  File \"/usr/lib/python2.7/posixpath.py\", line 356, in abspath\n",
        "    cwd = os.getcwd()\n",
        "OSError: [Errno 2] No such file or directory\n"
       ]
      },
      {
       "output_type": "stream",
       "stream": "stderr",
       "text": [
        "ERROR: Internal Python error in the inspect module.\n",
        "Below is the traceback from this internal error.\n",
        "\n",
        "\n",
        "Unfortunately, your original traceback can not be constructed.\n",
        "\n"
       ]
      },
      {
       "ename": "NameError",
       "evalue": "name 'savrgd' is not defined",
       "output_type": "pyerr",
       "traceback": ""
      }
     ],
     "prompt_number": 287
    },
    {
     "cell_type": "code",
     "collapsed": false,
     "input": [
      "finz"
     ],
     "language": "python",
     "metadata": {},
     "outputs": [
      {
       "output_type": "stream",
       "stream": "stdout",
       "text": [
        "Traceback (most recent call last):\n",
        "  File \"/usr/local/lib/python2.7/dist-packages/IPython/core/ultratb.py\", line 766, in structured_traceback\n",
        "    records = _fixed_getinnerframes(etb, context, tb_offset)\n",
        "  File \"/usr/local/lib/python2.7/dist-packages/IPython/core/ultratb.py\", line 249, in _fixed_getinnerframes\n",
        "    records  = fix_frame_records_filenames(inspect.getinnerframes(etb, context))\n",
        "  File \"/usr/lib/python2.7/inspect.py\", line 1043, in getinnerframes\n",
        "    framelist.append((tb.tb_frame,) + getframeinfo(tb, context))\n",
        "  File \"/usr/lib/python2.7/inspect.py\", line 1003, in getframeinfo\n",
        "    filename = getsourcefile(frame) or getfile(frame)\n",
        "  File \"/usr/lib/python2.7/inspect.py\", line 454, in getsourcefile\n",
        "    if hasattr(getmodule(object, filename), '__loader__'):\n",
        "  File \"/usr/lib/python2.7/inspect.py\", line 483, in getmodule\n",
        "    file = getabsfile(object, _filename)\n",
        "  File \"/usr/lib/python2.7/inspect.py\", line 467, in getabsfile\n",
        "    return os.path.normcase(os.path.abspath(_filename))\n",
        "  File \"/usr/lib/python2.7/posixpath.py\", line 356, in abspath\n",
        "    cwd = os.getcwd()\n",
        "OSError: [Errno 2] No such file or directory\n"
       ]
      },
      {
       "output_type": "stream",
       "stream": "stderr",
       "text": [
        "ERROR: Internal Python error in the inspect module.\n",
        "Below is the traceback from this internal error.\n",
        "\n",
        "\n",
        "Unfortunately, your original traceback can not be constructed.\n",
        "\n"
       ]
      },
      {
       "ename": "NameError",
       "evalue": "name 'finz' is not defined",
       "output_type": "pyerr",
       "traceback": ""
      }
     ],
     "prompt_number": 288
    },
    {
     "cell_type": "code",
     "collapsed": false,
     "input": [
      "import urllib\n",
      "resource = urllib.urlopen(rdgimg)\n",
      "output = open(finz,\"wb\")\n",
      "output.write(resource.read())\n",
      "output.close()"
     ],
     "language": "python",
     "metadata": {},
     "outputs": [
      {
       "output_type": "stream",
       "stream": "stdout",
       "text": [
        "Traceback (most recent call last):\n",
        "  File \"/usr/local/lib/python2.7/dist-packages/IPython/core/ultratb.py\", line 766, in structured_traceback\n",
        "    records = _fixed_getinnerframes(etb, context, tb_offset)\n",
        "  File \"/usr/local/lib/python2.7/dist-packages/IPython/core/ultratb.py\", line 249, in _fixed_getinnerframes\n",
        "    records  = fix_frame_records_filenames(inspect.getinnerframes(etb, context))\n",
        "  File \"/usr/lib/python2.7/inspect.py\", line 1043, in getinnerframes\n",
        "    framelist.append((tb.tb_frame,) + getframeinfo(tb, context))\n",
        "  File \"/usr/lib/python2.7/inspect.py\", line 1003, in getframeinfo\n",
        "    filename = getsourcefile(frame) or getfile(frame)\n",
        "  File \"/usr/lib/python2.7/inspect.py\", line 454, in getsourcefile\n",
        "    if hasattr(getmodule(object, filename), '__loader__'):\n",
        "  File \"/usr/lib/python2.7/inspect.py\", line 483, in getmodule\n",
        "    file = getabsfile(object, _filename)\n",
        "  File \"/usr/lib/python2.7/inspect.py\", line 467, in getabsfile\n",
        "    return os.path.normcase(os.path.abspath(_filename))\n",
        "  File \"/usr/lib/python2.7/posixpath.py\", line 356, in abspath\n",
        "    cwd = os.getcwd()\n",
        "OSError: [Errno 2] No such file or directory\n"
       ]
      },
      {
       "output_type": "stream",
       "stream": "stderr",
       "text": [
        "ERROR: Internal Python error in the inspect module.\n",
        "Below is the traceback from this internal error.\n",
        "\n",
        "\n",
        "Unfortunately, your original traceback can not be constructed.\n",
        "\n"
       ]
      },
      {
       "ename": "NameError",
       "evalue": "name 'rdgimg' is not defined",
       "output_type": "pyerr",
       "traceback": ""
      }
     ],
     "prompt_number": 289
    },
    {
     "cell_type": "code",
     "collapsed": false,
     "input": [
      "ls"
     ],
     "language": "python",
     "metadata": {},
     "outputs": [
      {
       "output_type": "stream",
       "stream": "stdout",
       "text": [
        "sh: 0: getcwd() failed: No such file or directory\r\n"
       ]
      }
     ],
     "prompt_number": 290
    },
    {
     "cell_type": "code",
     "collapsed": true,
     "input": [
      "dizusr = Image(filename=finz)"
     ],
     "language": "python",
     "metadata": {},
     "outputs": [
      {
       "output_type": "stream",
       "stream": "stdout",
       "text": [
        "Traceback (most recent call last):\n",
        "  File \"/usr/local/lib/python2.7/dist-packages/IPython/core/ultratb.py\", line 766, in structured_traceback\n",
        "    records = _fixed_getinnerframes(etb, context, tb_offset)\n",
        "  File \"/usr/local/lib/python2.7/dist-packages/IPython/core/ultratb.py\", line 249, in _fixed_getinnerframes\n",
        "    records  = fix_frame_records_filenames(inspect.getinnerframes(etb, context))\n",
        "  File \"/usr/lib/python2.7/inspect.py\", line 1043, in getinnerframes\n",
        "    framelist.append((tb.tb_frame,) + getframeinfo(tb, context))\n",
        "  File \"/usr/lib/python2.7/inspect.py\", line 1003, in getframeinfo\n",
        "    filename = getsourcefile(frame) or getfile(frame)\n",
        "  File \"/usr/lib/python2.7/inspect.py\", line 454, in getsourcefile\n",
        "    if hasattr(getmodule(object, filename), '__loader__'):\n",
        "  File \"/usr/lib/python2.7/inspect.py\", line 483, in getmodule\n",
        "    file = getabsfile(object, _filename)\n",
        "  File \"/usr/lib/python2.7/inspect.py\", line 467, in getabsfile\n",
        "    return os.path.normcase(os.path.abspath(_filename))\n",
        "  File \"/usr/lib/python2.7/posixpath.py\", line 356, in abspath\n",
        "    cwd = os.getcwd()\n",
        "OSError: [Errno 2] No such file or directory\n"
       ]
      },
      {
       "output_type": "stream",
       "stream": "stderr",
       "text": [
        "ERROR: Internal Python error in the inspect module.\n",
        "Below is the traceback from this internal error.\n",
        "\n",
        "\n",
        "Unfortunately, your original traceback can not be constructed.\n",
        "\n"
       ]
      },
      {
       "ename": "NameError",
       "evalue": "name 'finz' is not defined",
       "output_type": "pyerr",
       "traceback": ""
      }
     ],
     "prompt_number": 291
    },
    {
     "cell_type": "code",
     "collapsed": false,
     "input": [],
     "language": "python",
     "metadata": {},
     "outputs": [],
     "prompt_number": 291
    },
    {
     "cell_type": "code",
     "collapsed": true,
     "input": [
      "dizusr"
     ],
     "language": "python",
     "metadata": {},
     "outputs": [
      {
       "output_type": "stream",
       "stream": "stdout",
       "text": [
        "Traceback (most recent call last):\n",
        "  File \"/usr/local/lib/python2.7/dist-packages/IPython/core/ultratb.py\", line 766, in structured_traceback\n",
        "    records = _fixed_getinnerframes(etb, context, tb_offset)\n",
        "  File \"/usr/local/lib/python2.7/dist-packages/IPython/core/ultratb.py\", line 249, in _fixed_getinnerframes\n",
        "    records  = fix_frame_records_filenames(inspect.getinnerframes(etb, context))\n",
        "  File \"/usr/lib/python2.7/inspect.py\", line 1043, in getinnerframes\n",
        "    framelist.append((tb.tb_frame,) + getframeinfo(tb, context))\n",
        "  File \"/usr/lib/python2.7/inspect.py\", line 1003, in getframeinfo\n",
        "    filename = getsourcefile(frame) or getfile(frame)\n",
        "  File \"/usr/lib/python2.7/inspect.py\", line 454, in getsourcefile\n",
        "    if hasattr(getmodule(object, filename), '__loader__'):\n",
        "  File \"/usr/lib/python2.7/inspect.py\", line 483, in getmodule\n",
        "    file = getabsfile(object, _filename)\n",
        "  File \"/usr/lib/python2.7/inspect.py\", line 467, in getabsfile\n",
        "    return os.path.normcase(os.path.abspath(_filename))\n",
        "  File \"/usr/lib/python2.7/posixpath.py\", line 356, in abspath\n",
        "    cwd = os.getcwd()\n",
        "OSError: [Errno 2] No such file or directory\n"
       ]
      },
      {
       "output_type": "stream",
       "stream": "stderr",
       "text": [
        "ERROR: Internal Python error in the inspect module.\n",
        "Below is the traceback from this internal error.\n",
        "\n",
        "\n",
        "Unfortunately, your original traceback can not be constructed.\n",
        "\n"
       ]
      },
      {
       "ename": "NameError",
       "evalue": "name 'dizusr' is not defined",
       "output_type": "pyerr",
       "traceback": ""
      }
     ],
     "prompt_number": 292
    },
    {
     "cell_type": "code",
     "collapsed": true,
     "input": [
      "r.login('snatchrgd', 'camp123')\n",
      "#r.login('artcontrol', 'test123')"
     ],
     "language": "python",
     "metadata": {},
     "outputs": [],
     "prompt_number": 293
    },
    {
     "cell_type": "code",
     "collapsed": true,
     "input": [
      "r.client_id"
     ],
     "language": "python",
     "metadata": {},
     "outputs": [],
     "prompt_number": 294
    },
    {
     "cell_type": "code",
     "collapsed": true,
     "input": [
      "redfront = r.get_front_page()"
     ],
     "language": "python",
     "metadata": {},
     "outputs": [],
     "prompt_number": 295
    },
    {
     "cell_type": "code",
     "collapsed": true,
     "input": [
      "for red in redfront:\n",
      "    print red"
     ],
     "language": "python",
     "metadata": {},
     "outputs": [
      {
       "output_type": "stream",
       "stream": "stdout",
       "text": [
        "3772 :: This trend is hilarious.\n",
        "3783 :: A neighbor 3D printed a walker for his crippled little buddy\n",
        "2408 :: IamA guy who was falsely accused of molesting my stepdaughter by my e...\n",
        "3104 :: ALL the 22 Jump Street Sequels in one easy GIF\n",
        "3825 :: Woman can't keep her s*** together after an almost-accident\n",
        "3697 :: State Troopers just relieved local police in Ferguson, MO. Their lead...\n",
        "3969 :: It could be the most exotic material on the planet. Seven particles o...\n",
        "1679 :: First Look at the Stormtroopers From Star Wars Episode VII\n",
        "3373 :: TLOU is still a horrible choice for couples cosplay.\n",
        "1239 :: TIL Feminist actually help change the definition of rape to include m...\n",
        "4197 :: I made a ball out of binder clips\n",
        "4116 :: Congressman wants to stop transfer of weapons to police\n",
        "2919 :: What is the worst thing you've ever seen or heard in a game of \"truth...\n",
        "1410 :: BF said he had a hard day at work. Made him a steak supper.\n",
        "3430 :: When The Simpsons first aired, I was 10 years old, the same age as Ba...\n",
        "3209 :: TIFU by Discovering my Vagina [NSFW]\n",
        "2825 :: LPT: When highlighting text to copy from a webpage, you don't have to...\n",
        "2142 :: DIY Functional Frankenstein Light Switch\n",
        "399 :: Genetically modified anaerobic bacteria injected into inoperable tumor...\n",
        "3103 :: Svartifoss, an Icelandic waterfall cutting through a columnar basalt ...\n",
        "1927 :: So I found this monkey in the attic...\n",
        "2671 :: A Jehovah's Witness knocks on a Jew's door...\n",
        "390 :: With all the water pressure on top of it, how is the ocean floor not e...\n",
        "474 :: I was followed into the bathroom and assaulted 5 days ago, and this is...\n",
        "221 :: ELI5: Does NASA have an official protocol for if/when they find proof ...\n"
       ]
      }
     ],
     "prompt_number": 296
    },
    {
     "cell_type": "code",
     "collapsed": true,
     "input": [
      "red"
     ],
     "language": "python",
     "metadata": {},
     "outputs": [
      {
       "metadata": {},
       "output_type": "pyout",
       "prompt_number": 297,
       "text": [
        "<praw.objects.Submission at 0x184a850>"
       ]
      }
     ],
     "prompt_number": 297
    },
    {
     "cell_type": "code",
     "collapsed": true,
     "input": [
      "red.comments"
     ],
     "language": "python",
     "metadata": {},
     "outputs": [
      {
       "metadata": {},
       "output_type": "pyout",
       "prompt_number": 298,
       "text": [
        "[<praw.objects.Comment at 0x7f0e30e2dd90>,\n",
        " <praw.objects.Comment at 0x7f0e30e2de10>,\n",
        " <praw.objects.Comment at 0x7f0e30dc6690>,\n",
        " <praw.objects.Comment at 0x7f0e30dc6090>,\n",
        " <praw.objects.Comment at 0x7f0e30dbad10>,\n",
        " <praw.objects.Comment at 0x1c13050>,\n",
        " <praw.objects.Comment at 0x1c138d0>,\n",
        " <praw.objects.Comment at 0x1c13a10>,\n",
        " <praw.objects.Comment at 0x1c13cd0>,\n",
        " <praw.objects.Comment at 0x7f0e303ed650>,\n",
        " <praw.objects.Comment at 0x1b3ec10>,\n",
        " <praw.objects.Comment at 0x1b3e990>,\n",
        " <praw.objects.Comment at 0x1b3eb90>,\n",
        " <praw.objects.Comment at 0x1b3ec90>,\n",
        " <praw.objects.Comment at 0x1b3eed0>,\n",
        " <praw.objects.Comment at 0x1b3ed90>,\n",
        " <praw.objects.Comment at 0x1b3e850>,\n",
        " <praw.objects.Comment at 0x1c53110>,\n",
        " <praw.objects.Comment at 0x1c53210>,\n",
        " <praw.objects.Comment at 0x1c532d0>,\n",
        " <praw.objects.Comment at 0x1c53390>,\n",
        " <praw.objects.Comment at 0x1c53690>,\n",
        " <praw.objects.Comment at 0x1c538d0>,\n",
        " <praw.objects.Comment at 0x1c539d0>,\n",
        " <praw.objects.Comment at 0x1c53a90>,\n",
        " <praw.objects.Comment at 0x1c53c90>,\n",
        " <praw.objects.Comment at 0x1c53e10>,\n",
        " <praw.objects.Comment at 0x1c53ed0>,\n",
        " <praw.objects.Comment at 0x1c53f90>]"
       ]
      }
     ],
     "prompt_number": 298
    },
    {
     "cell_type": "code",
     "collapsed": true,
     "input": [
      "red.downs"
     ],
     "language": "python",
     "metadata": {},
     "outputs": [
      {
       "metadata": {},
       "output_type": "pyout",
       "prompt_number": 299,
       "text": [
        "0"
       ]
      }
     ],
     "prompt_number": 299
    },
    {
     "cell_type": "code",
     "collapsed": true,
     "input": [
      "red.title"
     ],
     "language": "python",
     "metadata": {},
     "outputs": [
      {
       "metadata": {},
       "output_type": "pyout",
       "prompt_number": 300,
       "text": [
        "u'ELI5: Does NASA have an official protocol for if/when they find proof of extraterrestrial life? If so, what is it?'"
       ]
      }
     ],
     "prompt_number": 300
    },
    {
     "cell_type": "code",
     "collapsed": true,
     "input": [
      "mymod = r.get_my_moderation()"
     ],
     "language": "python",
     "metadata": {},
     "outputs": [],
     "prompt_number": 301
    },
    {
     "cell_type": "code",
     "collapsed": true,
     "input": [
      "for mo in mymod:\n",
      "    print mo"
     ],
     "language": "python",
     "metadata": {},
     "outputs": [
      {
       "output_type": "stream",
       "stream": "stdout",
       "text": [
        "artcontroldrawsyou\n"
       ]
      }
     ],
     "prompt_number": 302
    },
    {
     "cell_type": "code",
     "collapsed": true,
     "input": [
      "rdrawn = r.get_subreddit('redditgetsdrawn')"
     ],
     "language": "python",
     "metadata": {},
     "outputs": [],
     "prompt_number": 303
    },
    {
     "cell_type": "code",
     "collapsed": true,
     "input": [
      "rdrawn.subscribe()"
     ],
     "language": "python",
     "metadata": {},
     "outputs": [
      {
       "metadata": {},
       "output_type": "pyout",
       "prompt_number": 304,
       "text": [
        "{}"
       ]
      }
     ],
     "prompt_number": 304
    },
    {
     "cell_type": "code",
     "collapsed": true,
     "input": [
      "rdnew = rdrawn.get_new"
     ],
     "language": "python",
     "metadata": {},
     "outputs": [],
     "prompt_number": 305
    },
    {
     "cell_type": "code",
     "collapsed": false,
     "input": [
      "rdrawn.submit('test', rdgimg)"
     ],
     "language": "python",
     "metadata": {},
     "outputs": [
      {
       "output_type": "stream",
       "stream": "stdout",
       "text": [
        "Traceback (most recent call last):\n",
        "  File \"/usr/local/lib/python2.7/dist-packages/IPython/core/ultratb.py\", line 766, in structured_traceback\n",
        "    records = _fixed_getinnerframes(etb, context, tb_offset)\n",
        "  File \"/usr/local/lib/python2.7/dist-packages/IPython/core/ultratb.py\", line 249, in _fixed_getinnerframes\n",
        "    records  = fix_frame_records_filenames(inspect.getinnerframes(etb, context))\n",
        "  File \"/usr/lib/python2.7/inspect.py\", line 1043, in getinnerframes\n",
        "    framelist.append((tb.tb_frame,) + getframeinfo(tb, context))\n",
        "  File \"/usr/lib/python2.7/inspect.py\", line 1003, in getframeinfo\n",
        "    filename = getsourcefile(frame) or getfile(frame)\n",
        "  File \"/usr/lib/python2.7/inspect.py\", line 454, in getsourcefile\n",
        "    if hasattr(getmodule(object, filename), '__loader__'):\n",
        "  File \"/usr/lib/python2.7/inspect.py\", line 483, in getmodule\n",
        "    file = getabsfile(object, _filename)\n",
        "  File \"/usr/lib/python2.7/inspect.py\", line 467, in getabsfile\n",
        "    return os.path.normcase(os.path.abspath(_filename))\n",
        "  File \"/usr/lib/python2.7/posixpath.py\", line 356, in abspath\n",
        "    cwd = os.getcwd()\n",
        "OSError: [Errno 2] No such file or directory\n"
       ]
      },
      {
       "output_type": "stream",
       "stream": "stderr",
       "text": [
        "ERROR: Internal Python error in the inspect module.\n",
        "Below is the traceback from this internal error.\n",
        "\n",
        "\n",
        "Unfortunately, your original traceback can not be constructed.\n",
        "\n"
       ]
      },
      {
       "ename": "NameError",
       "evalue": "name 'rdgimg' is not defined",
       "output_type": "pyerr",
       "traceback": ""
      }
     ],
     "prompt_number": 306
    },
    {
     "cell_type": "code",
     "collapsed": true,
     "input": [
      "redls = []"
     ],
     "language": "python",
     "metadata": {},
     "outputs": [],
     "prompt_number": 307
    },
    {
     "cell_type": "code",
     "collapsed": true,
     "input": [
      "for rd in rdnew():\n",
      "    print rd\n",
      "    redls.append(rd)"
     ],
     "language": "python",
     "metadata": {},
     "outputs": [
      {
       "output_type": "stream",
       "stream": "stdout",
       "text": [
        "2 :: Me and my best friend\n",
        "4 :: I was looking to be drawn. One suggestion, could I be drawn like Daken, ...\n",
        "2 :: Draw me please! Any style is welcome!\n",
        "3 :: I got attacked by a bug at my sister's wedding. Thought it might be fun ...\n",
        "2 :: Could somebody draw my boyfriend and I, please?\n",
        "3 :: I just graduated, and for my graduation shoot, my friends and i brought ...\n",
        "2 :: I miss my fish eye, it took such interesting portraits (draw me my lovel...\n",
        "2 :: Draw me as a mermaid? I am obsessed with mermaids and am gushing to see ...\n",
        "3 :: Could you please draw me and my SO? This is from our recent trip to San ...\n",
        "0 :: This is my corgi with my good friends husky. They're best friends. I'd b...\n",
        "3 :: Draw me? It would make me super happy!\n",
        "2 :: My little brother :)\n",
        "2 :: Would like to see what you guys can do with this pic of my cousin\n",
        "3 :: Back in June, I went on a life changing missions trip down to Belize. In...\n",
        "3 :: Could someone draw me as an evil villain - destroyer of all things good ...\n",
        "0 :: Snow White is not impressed with your shit. But she (my best friend in t...\n",
        "2 :: Can you draw my frat brothers/sisters and I?\n",
        "3 :: My wife just started her first year of teaching. We spent a month design...\n",
        "2 :: Went to an event this weekend where the theme was combat/military. Here'...\n",
        "2 :: Favorite photo of the better half, wish I could draw well enough to do i...\n",
        "2 :: One of my best friends\n",
        "2 :: My wife caught this picture of me and my rescued mutt, Echo taking a bre...\n",
        "2 :: Will some of you awesomely talented individuals please create something ...\n",
        "2 :: My brother is an indy wrestler. Can anyone make him look WWE worthy?\n",
        "4 :: I'd love to see your take on my ballet picture.\n"
       ]
      }
     ],
     "prompt_number": 308
    },
    {
     "cell_type": "code",
     "collapsed": true,
     "input": [
      "    rd.selftext"
     ],
     "language": "python",
     "metadata": {},
     "outputs": [
      {
       "metadata": {},
       "output_type": "pyout",
       "prompt_number": 309,
       "text": [
        "u''"
       ]
      }
     ],
     "prompt_number": 309
    },
    {
     "cell_type": "code",
     "collapsed": true,
     "input": [
      "rdurlz = []\n",
      "rdusers = []"
     ],
     "language": "python",
     "metadata": {},
     "outputs": [],
     "prompt_number": 310
    },
    {
     "cell_type": "code",
     "collapsed": true,
     "input": [
      "for itez in redls:\n",
      "    print itez.url\n",
      "    rdurlz.append(itez.url)\n",
      "    rdusers.append(itez.author)"
     ],
     "language": "python",
     "metadata": {},
     "outputs": [
      {
       "output_type": "stream",
       "stream": "stdout",
       "text": [
        "http://imgur.com/1hKgMnR\n",
        "http://imgur.com/UMOAHfM\n",
        "http://i.imgur.com/B3zy1cX.jpg\n",
        "http://imgur.com/NR3ZTY2\n",
        "http://imgur.com/brqFEeS\n",
        "http://imgur.com/rcODqEy\n",
        "http://imgur.com/m9d762o\n",
        "http://i.imgur.com/Qp5MUt2.jpg\n",
        "http://imgur.com/GYZBWt2\n",
        "http://i.imgur.com/JkmDvVR.jpg\n",
        "http://imgur.com/HiIV8es\n",
        "http://i.imgur.com/Ki0kkad.jpg\n",
        "http://i.imgur.com/siJ9Y0U.jpg\n",
        "http://i.imgur.com/f78gxPN.jpg\n",
        "http://imgur.com/QrhOhL5\n",
        "http://imgur.com/KnCkKZA\n",
        "http://imgur.com/qrcEIog\n",
        "http://i.imgur.com/izLsyM3.jpg\n",
        "http://i.imgur.com/SY2kgUS.jpg\n",
        "http://i.imgur.com/bFi2rqj.jpg?1\n",
        "http://imgur.com/9bfLOGr\n",
        "http://imgur.com/9lJGeJG\n",
        "http://i.imgur.com/9zlT6mh.jpg\n",
        "http://imgur.com/VgEy0s4\n",
        "http://imgur.com/ppztWXz\n"
       ]
      }
     ],
     "prompt_number": 311
    },
    {
     "cell_type": "code",
     "collapsed": false,
     "input": [
      "uzrlaz = []"
     ],
     "language": "python",
     "metadata": {},
     "outputs": [],
     "prompt_number": 312
    },
    {
     "cell_type": "code",
     "collapsed": false,
     "input": [
      "rgdict = {'user': 'wcmckee', 'img': 'test'}\n",
      "linkdict = {'links': 'artcontrol', 'user': 'url'}"
     ],
     "language": "python",
     "metadata": {},
     "outputs": [],
     "prompt_number": 313
    },
    {
     "cell_type": "code",
     "collapsed": false,
     "input": [
      "for rduzr in rdusers, :\n",
      "    print rduzr\n",
      "    uzrlaz.append(str(rduzr))\n",
      "    rgdict.update({str(rduzr): 'url'})\n",
      "\n",
      "    "
     ],
     "language": "python",
     "metadata": {},
     "outputs": [
      {
       "output_type": "stream",
       "stream": "stdout",
       "text": [
        "[Redditor(user_name='tracymichelle85'), Redditor(user_name='Gardenhose_enema'), Redditor(user_name='nipolas'), Redditor(user_name='pineapplepanda'), Redditor(user_name='pieceolisa'), Redditor(user_name='Maggod'), Redditor(user_name='dynamique'), Redditor(user_name='ohlawless'), Redditor(user_name='booskadoo'), Redditor(user_name='buttholemuffin'), Redditor(user_name='ghola_'), Redditor(user_name='Trohli'), Redditor(user_name='jcpptt'), Redditor(user_name='PlgglyWlggly'), Redditor(user_name='vokyam'), Redditor(user_name='RhapsodysBlues'), Redditor(user_name='keh12003'), Redditor(user_name='8bittank'), Redditor(user_name='Night-Sprite'), Redditor(user_name='unthused'), Redditor(user_name='rbloedow'), Redditor(user_name='Pvt_Donkey'), Redditor(user_name='ManttisToboggan'), Redditor(user_name='midnightintheheights'), Redditor(user_name='butternotbutterflies')]\n",
        "Traceback (most recent call last):\n",
        "  File \"/usr/local/lib/python2.7/dist-packages/IPython/core/ultratb.py\", line 766, in structured_traceback\n",
        "    records = _fixed_getinnerframes(etb, context, tb_offset)\n",
        "  File \"/usr/local/lib/python2.7/dist-packages/IPython/core/ultratb.py\", line 249, in _fixed_getinnerframes\n",
        "    records  = fix_frame_records_filenames(inspect.getinnerframes(etb, context))\n",
        "  File \"/usr/lib/python2.7/inspect.py\", line 1043, in getinnerframes\n",
        "    framelist.append((tb.tb_frame,) + getframeinfo(tb, context))\n",
        "  File \"/usr/lib/python2.7/inspect.py\", line 1003, in getframeinfo\n",
        "    filename = getsourcefile(frame) or getfile(frame)\n",
        "  File \"/usr/lib/python2.7/inspect.py\", line 454, in getsourcefile\n",
        "    if hasattr(getmodule(object, filename), '__loader__'):\n",
        "  File \"/usr/lib/python2.7/inspect.py\", line 483, in getmodule\n",
        "    file = getabsfile(object, _filename)\n",
        "  File \"/usr/lib/python2.7/inspect.py\", line 467, in getabsfile\n",
        "    return os.path.normcase(os.path.abspath(_filename))\n",
        "  File \"/usr/lib/python2.7/posixpath.py\", line 356, in abspath\n",
        "    cwd = os.getcwd()\n",
        "OSError: [Errno 2] No such file or directory\n"
       ]
      },
      {
       "output_type": "stream",
       "stream": "stderr",
       "text": [
        "ERROR: Internal Python error in the inspect module.\n",
        "Below is the traceback from this internal error.\n",
        "\n",
        "\n",
        "Unfortunately, your original traceback can not be constructed.\n",
        "\n"
       ]
      },
      {
       "ename": "TypeError",
       "evalue": "'list' object is not callable",
       "output_type": "pyerr",
       "traceback": ""
      }
     ],
     "prompt_number": 314
    },
    {
     "cell_type": "code",
     "collapsed": false,
     "input": [
      "for itez in redls:\n",
      "    print itez.url\n",
      "    linkdict.update({str(itez.author):itez.url})\n",
      "    "
     ],
     "language": "python",
     "metadata": {},
     "outputs": [
      {
       "output_type": "stream",
       "stream": "stdout",
       "text": [
        "http://imgur.com/1hKgMnR\n",
        "Traceback (most recent call last):\n",
        "  File \"/usr/local/lib/python2.7/dist-packages/IPython/core/ultratb.py\", line 766, in structured_traceback\n",
        "    records = _fixed_getinnerframes(etb, context, tb_offset)\n",
        "  File \"/usr/local/lib/python2.7/dist-packages/IPython/core/ultratb.py\", line 249, in _fixed_getinnerframes\n",
        "    records  = fix_frame_records_filenames(inspect.getinnerframes(etb, context))\n",
        "  File \"/usr/lib/python2.7/inspect.py\", line 1043, in getinnerframes\n",
        "    framelist.append((tb.tb_frame,) + getframeinfo(tb, context))\n",
        "  File \"/usr/lib/python2.7/inspect.py\", line 1003, in getframeinfo\n",
        "    filename = getsourcefile(frame) or getfile(frame)\n",
        "  File \"/usr/lib/python2.7/inspect.py\", line 454, in getsourcefile\n",
        "    if hasattr(getmodule(object, filename), '__loader__'):\n",
        "  File \"/usr/lib/python2.7/inspect.py\", line 483, in getmodule\n",
        "    file = getabsfile(object, _filename)\n",
        "  File \"/usr/lib/python2.7/inspect.py\", line 467, in getabsfile\n",
        "    return os.path.normcase(os.path.abspath(_filename))\n",
        "  File \"/usr/lib/python2.7/posixpath.py\", line 356, in abspath\n",
        "    cwd = os.getcwd()\n",
        "OSError: [Errno 2] No such file or directory\n"
       ]
      },
      {
       "output_type": "stream",
       "stream": "stderr",
       "text": [
        "ERROR: Internal Python error in the inspect module.\n",
        "Below is the traceback from this internal error.\n",
        "\n",
        "\n",
        "Unfortunately, your original traceback can not be constructed.\n",
        "\n"
       ]
      },
      {
       "ename": "TypeError",
       "evalue": "'list' object is not callable",
       "output_type": "pyerr",
       "traceback": ""
      }
     ],
     "prompt_number": 315
    },
    {
     "cell_type": "code",
     "collapsed": false,
     "input": [
      "linkdict"
     ],
     "language": "python",
     "metadata": {},
     "outputs": [
      {
       "metadata": {},
       "output_type": "pyout",
       "prompt_number": 316,
       "text": [
        "{'links': 'artcontrol', 'user': 'url'}"
       ]
      }
     ],
     "prompt_number": 316
    },
    {
     "cell_type": "code",
     "collapsed": false,
     "input": [
      "rgdict"
     ],
     "language": "python",
     "metadata": {},
     "outputs": [
      {
       "metadata": {},
       "output_type": "pyout",
       "prompt_number": 317,
       "text": [
        "{'img': 'test', 'user': 'wcmckee'}"
       ]
      }
     ],
     "prompt_number": 317
    },
    {
     "cell_type": "code",
     "collapsed": false,
     "input": [
      "for rez in uzrlaz:\n",
      "    rgdict.update({'user': rez})\n"
     ],
     "language": "python",
     "metadata": {},
     "outputs": [],
     "prompt_number": 318
    },
    {
     "cell_type": "code",
     "collapsed": false,
     "input": [
      "    rgdict"
     ],
     "language": "python",
     "metadata": {},
     "outputs": [
      {
       "metadata": {},
       "output_type": "pyout",
       "prompt_number": 319,
       "text": [
        "{'img': 'test', 'user': 'wcmckee'}"
       ]
      }
     ],
     "prompt_number": 319
    },
    {
     "cell_type": "code",
     "collapsed": false,
     "input": [
      "rgdict.update({'id': rez})"
     ],
     "language": "python",
     "metadata": {},
     "outputs": [
      {
       "output_type": "stream",
       "stream": "stdout",
       "text": [
        "Traceback (most recent call last):\n",
        "  File \"/usr/local/lib/python2.7/dist-packages/IPython/core/ultratb.py\", line 766, in structured_traceback\n",
        "    records = _fixed_getinnerframes(etb, context, tb_offset)\n",
        "  File \"/usr/local/lib/python2.7/dist-packages/IPython/core/ultratb.py\", line 249, in _fixed_getinnerframes\n",
        "    records  = fix_frame_records_filenames(inspect.getinnerframes(etb, context))\n",
        "  File \"/usr/lib/python2.7/inspect.py\", line 1043, in getinnerframes\n",
        "    framelist.append((tb.tb_frame,) + getframeinfo(tb, context))\n",
        "  File \"/usr/lib/python2.7/inspect.py\", line 1003, in getframeinfo\n",
        "    filename = getsourcefile(frame) or getfile(frame)\n",
        "  File \"/usr/lib/python2.7/inspect.py\", line 454, in getsourcefile\n",
        "    if hasattr(getmodule(object, filename), '__loader__'):\n",
        "  File \"/usr/lib/python2.7/inspect.py\", line 483, in getmodule\n",
        "    file = getabsfile(object, _filename)\n",
        "  File \"/usr/lib/python2.7/inspect.py\", line 467, in getabsfile\n",
        "    return os.path.normcase(os.path.abspath(_filename))\n",
        "  File \"/usr/lib/python2.7/posixpath.py\", line 356, in abspath\n",
        "    cwd = os.getcwd()\n",
        "OSError: [Errno 2] No such file or directory\n"
       ]
      },
      {
       "output_type": "stream",
       "stream": "stderr",
       "text": [
        "ERROR: Internal Python error in the inspect module.\n",
        "Below is the traceback from this internal error.\n",
        "\n",
        "\n",
        "Unfortunately, your original traceback can not be constructed.\n",
        "\n"
       ]
      },
      {
       "ename": "NameError",
       "evalue": "name 'rez' is not defined",
       "output_type": "pyerr",
       "traceback": ""
      }
     ],
     "prompt_number": 320
    },
    {
     "cell_type": "code",
     "collapsed": false,
     "input": [
      "rgdict"
     ],
     "language": "python",
     "metadata": {},
     "outputs": [
      {
       "metadata": {},
       "output_type": "pyout",
       "prompt_number": 321,
       "text": [
        "{'img': 'test', 'user': 'wcmckee'}"
       ]
      }
     ],
     "prompt_number": 321
    },
    {
     "cell_type": "code",
     "collapsed": false,
     "input": [
      "uzrlaz"
     ],
     "language": "python",
     "metadata": {},
     "outputs": [
      {
       "metadata": {},
       "output_type": "pyout",
       "prompt_number": 322,
       "text": [
        "[]"
       ]
      }
     ],
     "prompt_number": 322
    },
    {
     "cell_type": "code",
     "collapsed": true,
     "input": [
      "rd.downs\n",
      "rd.ups"
     ],
     "language": "python",
     "metadata": {},
     "outputs": [
      {
       "metadata": {},
       "output_type": "pyout",
       "prompt_number": 323,
       "text": [
        "4"
       ]
      }
     ],
     "prompt_number": 323
    },
    {
     "cell_type": "code",
     "collapsed": false,
     "input": [
      "nezlis = []"
     ],
     "language": "python",
     "metadata": {},
     "outputs": [],
     "prompt_number": 324
    },
    {
     "cell_type": "code",
     "collapsed": false,
     "input": [
      "#rdurlz\n",
      "\n",
      "for jpgz in rdurlz:\n",
      "    if  '.jpg' in jpgz:\n",
      "        nezlis.append(jpgz)\n",
      "    #else print 'didnt append'\n",
      "        \n",
      "\n",
      "#if  '*.jpg' in rdurlz:\n",
      "#    print '*.jpg'"
     ],
     "language": "python",
     "metadata": {},
     "outputs": [],
     "prompt_number": 325
    },
    {
     "cell_type": "code",
     "collapsed": false,
     "input": [
      "nezlis"
     ],
     "language": "python",
     "metadata": {},
     "outputs": [
      {
       "metadata": {},
       "output_type": "pyout",
       "prompt_number": 326,
       "text": [
        "[u'http://i.imgur.com/B3zy1cX.jpg',\n",
        " u'http://i.imgur.com/Qp5MUt2.jpg',\n",
        " u'http://i.imgur.com/JkmDvVR.jpg',\n",
        " u'http://i.imgur.com/Ki0kkad.jpg',\n",
        " u'http://i.imgur.com/siJ9Y0U.jpg',\n",
        " u'http://i.imgur.com/f78gxPN.jpg',\n",
        " u'http://i.imgur.com/izLsyM3.jpg',\n",
        " u'http://i.imgur.com/SY2kgUS.jpg',\n",
        " u'http://i.imgur.com/bFi2rqj.jpg?1',\n",
        " u'http://i.imgur.com/9zlT6mh.jpg']"
       ]
      }
     ],
     "prompt_number": 326
    },
    {
     "cell_type": "code",
     "collapsed": false,
     "input": [
      "import random"
     ],
     "language": "python",
     "metadata": {},
     "outputs": [],
     "prompt_number": 327
    },
    {
     "cell_type": "code",
     "collapsed": false,
     "input": [
      "lrdz = len(rdurlz)"
     ],
     "language": "python",
     "metadata": {},
     "outputs": [],
     "prompt_number": 328
    },
    {
     "cell_type": "code",
     "collapsed": false,
     "input": [
      "recrand = random.randint(0, lrdz)"
     ],
     "language": "python",
     "metadata": {},
     "outputs": [],
     "prompt_number": 329
    },
    {
     "cell_type": "code",
     "collapsed": false,
     "input": [
      "recrand"
     ],
     "language": "python",
     "metadata": {},
     "outputs": [
      {
       "metadata": {},
       "output_type": "pyout",
       "prompt_number": 330,
       "text": [
        "19"
       ]
      }
     ],
     "prompt_number": 330
    },
    {
     "cell_type": "code",
     "collapsed": false,
     "input": [
      "freimg = nezlis[recrand]"
     ],
     "language": "python",
     "metadata": {},
     "outputs": [
      {
       "output_type": "stream",
       "stream": "stdout",
       "text": [
        "Traceback (most recent call last):\n",
        "  File \"/usr/local/lib/python2.7/dist-packages/IPython/core/ultratb.py\", line 766, in structured_traceback\n",
        "    records = _fixed_getinnerframes(etb, context, tb_offset)\n",
        "  File \"/usr/local/lib/python2.7/dist-packages/IPython/core/ultratb.py\", line 249, in _fixed_getinnerframes\n",
        "    records  = fix_frame_records_filenames(inspect.getinnerframes(etb, context))\n",
        "  File \"/usr/lib/python2.7/inspect.py\", line 1043, in getinnerframes\n",
        "    framelist.append((tb.tb_frame,) + getframeinfo(tb, context))\n",
        "  File \"/usr/lib/python2.7/inspect.py\", line 1003, in getframeinfo\n",
        "    filename = getsourcefile(frame) or getfile(frame)\n",
        "  File \"/usr/lib/python2.7/inspect.py\", line 454, in getsourcefile\n",
        "    if hasattr(getmodule(object, filename), '__loader__'):\n",
        "  File \"/usr/lib/python2.7/inspect.py\", line 483, in getmodule\n",
        "    file = getabsfile(object, _filename)\n",
        "  File \"/usr/lib/python2.7/inspect.py\", line 467, in getabsfile\n",
        "    return os.path.normcase(os.path.abspath(_filename))\n",
        "  File \"/usr/lib/python2.7/posixpath.py\", line 356, in abspath\n",
        "    cwd = os.getcwd()\n",
        "OSError: [Errno 2] No such file or directory\n"
       ]
      },
      {
       "output_type": "stream",
       "stream": "stderr",
       "text": [
        "ERROR: Internal Python error in the inspect module.\n",
        "Below is the traceback from this internal error.\n",
        "\n",
        "\n",
        "Unfortunately, your original traceback can not be constructed.\n",
        "\n"
       ]
      },
      {
       "ename": "IndexError",
       "evalue": "list index out of range",
       "output_type": "pyerr",
       "traceback": ""
      }
     ],
     "prompt_number": 331
    },
    {
     "cell_type": "code",
     "collapsed": false,
     "input": [
      "strfre = str(freimg)"
     ],
     "language": "python",
     "metadata": {},
     "outputs": [
      {
       "output_type": "stream",
       "stream": "stdout",
       "text": [
        "Traceback (most recent call last):\n",
        "  File \"/usr/local/lib/python2.7/dist-packages/IPython/core/ultratb.py\", line 766, in structured_traceback\n",
        "    records = _fixed_getinnerframes(etb, context, tb_offset)\n",
        "  File \"/usr/local/lib/python2.7/dist-packages/IPython/core/ultratb.py\", line 249, in _fixed_getinnerframes\n",
        "    records  = fix_frame_records_filenames(inspect.getinnerframes(etb, context))\n",
        "  File \"/usr/lib/python2.7/inspect.py\", line 1043, in getinnerframes\n",
        "    framelist.append((tb.tb_frame,) + getframeinfo(tb, context))\n",
        "  File \"/usr/lib/python2.7/inspect.py\", line 1003, in getframeinfo\n",
        "    filename = getsourcefile(frame) or getfile(frame)\n",
        "  File \"/usr/lib/python2.7/inspect.py\", line 454, in getsourcefile\n",
        "    if hasattr(getmodule(object, filename), '__loader__'):\n",
        "  File \"/usr/lib/python2.7/inspect.py\", line 483, in getmodule\n",
        "    file = getabsfile(object, _filename)\n",
        "  File \"/usr/lib/python2.7/inspect.py\", line 467, in getabsfile\n",
        "    return os.path.normcase(os.path.abspath(_filename))\n",
        "  File \"/usr/lib/python2.7/posixpath.py\", line 356, in abspath\n",
        "    cwd = os.getcwd()\n",
        "OSError: [Errno 2] No such file or directory\n"
       ]
      },
      {
       "output_type": "stream",
       "stream": "stderr",
       "text": [
        "ERROR: Internal Python error in the inspect module.\n",
        "Below is the traceback from this internal error.\n",
        "\n",
        "\n",
        "Unfortunately, your original traceback can not be constructed.\n",
        "\n"
       ]
      },
      {
       "ename": "NameError",
       "evalue": "name 'freimg' is not defined",
       "output_type": "pyerr",
       "traceback": ""
      }
     ],
     "prompt_number": 332
    },
    {
     "cell_type": "code",
     "collapsed": false,
     "input": [],
     "language": "python",
     "metadata": {},
     "outputs": [],
     "prompt_number": 332
    },
    {
     "cell_type": "code",
     "collapsed": false,
     "input": [
      "Image(strfre)"
     ],
     "language": "python",
     "metadata": {},
     "outputs": [
      {
       "output_type": "stream",
       "stream": "stdout",
       "text": [
        "Traceback (most recent call last):\n",
        "  File \"/usr/local/lib/python2.7/dist-packages/IPython/core/ultratb.py\", line 766, in structured_traceback\n",
        "    records = _fixed_getinnerframes(etb, context, tb_offset)\n",
        "  File \"/usr/local/lib/python2.7/dist-packages/IPython/core/ultratb.py\", line 249, in _fixed_getinnerframes\n",
        "    records  = fix_frame_records_filenames(inspect.getinnerframes(etb, context))\n",
        "  File \"/usr/lib/python2.7/inspect.py\", line 1043, in getinnerframes\n",
        "    framelist.append((tb.tb_frame,) + getframeinfo(tb, context))\n",
        "  File \"/usr/lib/python2.7/inspect.py\", line 1003, in getframeinfo\n",
        "    filename = getsourcefile(frame) or getfile(frame)\n",
        "  File \"/usr/lib/python2.7/inspect.py\", line 454, in getsourcefile\n",
        "    if hasattr(getmodule(object, filename), '__loader__'):\n",
        "  File \"/usr/lib/python2.7/inspect.py\", line 483, in getmodule\n",
        "    file = getabsfile(object, _filename)\n",
        "  File \"/usr/lib/python2.7/inspect.py\", line 467, in getabsfile\n",
        "    return os.path.normcase(os.path.abspath(_filename))\n",
        "  File \"/usr/lib/python2.7/posixpath.py\", line 356, in abspath\n",
        "    cwd = os.getcwd()\n",
        "OSError: [Errno 2] No such file or directory\n"
       ]
      },
      {
       "output_type": "stream",
       "stream": "stderr",
       "text": [
        "ERROR: Internal Python error in the inspect module.\n",
        "Below is the traceback from this internal error.\n",
        "\n",
        "\n",
        "Unfortunately, your original traceback can not be constructed.\n",
        "\n"
       ]
      },
      {
       "ename": "NameError",
       "evalue": "name 'strfre' is not defined",
       "output_type": "pyerr",
       "traceback": ""
      }
     ],
     "prompt_number": 333
    },
    {
     "cell_type": "code",
     "collapsed": false,
     "input": [
      "resource = urllib.urlopen(rdgimg)\n",
      "output = open(fulzname,\"w\")\n",
      "output.write(rdgimg)\n",
      "output.close()"
     ],
     "language": "python",
     "metadata": {},
     "outputs": [
      {
       "output_type": "stream",
       "stream": "stdout",
       "text": [
        "Traceback (most recent call last):\n",
        "  File \"/usr/local/lib/python2.7/dist-packages/IPython/core/ultratb.py\", line 766, in structured_traceback\n",
        "    records = _fixed_getinnerframes(etb, context, tb_offset)\n",
        "  File \"/usr/local/lib/python2.7/dist-packages/IPython/core/ultratb.py\", line 249, in _fixed_getinnerframes\n",
        "    records  = fix_frame_records_filenames(inspect.getinnerframes(etb, context))\n",
        "  File \"/usr/lib/python2.7/inspect.py\", line 1043, in getinnerframes\n",
        "    framelist.append((tb.tb_frame,) + getframeinfo(tb, context))\n",
        "  File \"/usr/lib/python2.7/inspect.py\", line 1003, in getframeinfo\n",
        "    filename = getsourcefile(frame) or getfile(frame)\n",
        "  File \"/usr/lib/python2.7/inspect.py\", line 454, in getsourcefile\n",
        "    if hasattr(getmodule(object, filename), '__loader__'):\n",
        "  File \"/usr/lib/python2.7/inspect.py\", line 483, in getmodule\n",
        "    file = getabsfile(object, _filename)\n",
        "  File \"/usr/lib/python2.7/inspect.py\", line 467, in getabsfile\n",
        "    return os.path.normcase(os.path.abspath(_filename))\n",
        "  File \"/usr/lib/python2.7/posixpath.py\", line 356, in abspath\n",
        "    cwd = os.getcwd()\n",
        "OSError: [Errno 2] No such file or directory\n"
       ]
      },
      {
       "output_type": "stream",
       "stream": "stderr",
       "text": [
        "ERROR: Internal Python error in the inspect module.\n",
        "Below is the traceback from this internal error.\n",
        "\n",
        "\n",
        "Unfortunately, your original traceback can not be constructed.\n",
        "\n"
       ]
      },
      {
       "ename": "NameError",
       "evalue": "name 'rdgimg' is not defined",
       "output_type": "pyerr",
       "traceback": ""
      }
     ],
     "prompt_number": 334
    },
    {
     "cell_type": "code",
     "collapsed": false,
     "input": [
      "import o"
     ],
     "language": "python",
     "metadata": {},
     "outputs": [
      {
       "output_type": "stream",
       "stream": "stdout",
       "text": [
        "Traceback (most recent call last):\n",
        "  File \"/usr/local/lib/python2.7/dist-packages/IPython/core/ultratb.py\", line 766, in structured_traceback\n",
        "    records = _fixed_getinnerframes(etb, context, tb_offset)\n",
        "  File \"/usr/local/lib/python2.7/dist-packages/IPython/core/ultratb.py\", line 249, in _fixed_getinnerframes\n",
        "    records  = fix_frame_records_filenames(inspect.getinnerframes(etb, context))\n",
        "  File \"/usr/lib/python2.7/inspect.py\", line 1043, in getinnerframes\n",
        "    framelist.append((tb.tb_frame,) + getframeinfo(tb, context))\n",
        "  File \"/usr/lib/python2.7/inspect.py\", line 1003, in getframeinfo\n",
        "    filename = getsourcefile(frame) or getfile(frame)\n",
        "  File \"/usr/lib/python2.7/inspect.py\", line 454, in getsourcefile\n",
        "    if hasattr(getmodule(object, filename), '__loader__'):\n",
        "  File \"/usr/lib/python2.7/inspect.py\", line 483, in getmodule\n",
        "    file = getabsfile(object, _filename)\n",
        "  File \"/usr/lib/python2.7/inspect.py\", line 467, in getabsfile\n",
        "    return os.path.normcase(os.path.abspath(_filename))\n",
        "  File \"/usr/lib/python2.7/posixpath.py\", line 356, in abspath\n",
        "    cwd = os.getcwd()\n",
        "OSError: [Errno 2] No such file or directory\n"
       ]
      },
      {
       "output_type": "stream",
       "stream": "stderr",
       "text": [
        "ERROR: Internal Python error in the inspect module.\n",
        "Below is the traceback from this internal error.\n",
        "\n",
        "\n",
        "Unfortunately, your original traceback can not be constructed.\n",
        "\n"
       ]
      },
      {
       "ename": "ImportError",
       "evalue": "No module named o",
       "output_type": "pyerr",
       "traceback": ""
      }
     ],
     "prompt_number": 335
    },
    {
     "cell_type": "code",
     "collapsed": false,
     "input": [
      "fulzname"
     ],
     "language": "python",
     "metadata": {},
     "outputs": [
      {
       "output_type": "stream",
       "stream": "stdout",
       "text": [
        "Traceback (most recent call last):\n",
        "  File \"/usr/local/lib/python2.7/dist-packages/IPython/core/ultratb.py\", line 766, in structured_traceback\n",
        "    records = _fixed_getinnerframes(etb, context, tb_offset)\n",
        "  File \"/usr/local/lib/python2.7/dist-packages/IPython/core/ultratb.py\", line 249, in _fixed_getinnerframes\n",
        "    records  = fix_frame_records_filenames(inspect.getinnerframes(etb, context))\n",
        "  File \"/usr/lib/python2.7/inspect.py\", line 1043, in getinnerframes\n",
        "    framelist.append((tb.tb_frame,) + getframeinfo(tb, context))\n",
        "  File \"/usr/lib/python2.7/inspect.py\", line 1003, in getframeinfo\n",
        "    filename = getsourcefile(frame) or getfile(frame)\n",
        "  File \"/usr/lib/python2.7/inspect.py\", line 454, in getsourcefile\n",
        "    if hasattr(getmodule(object, filename), '__loader__'):\n",
        "  File \"/usr/lib/python2.7/inspect.py\", line 483, in getmodule\n",
        "    file = getabsfile(object, _filename)\n",
        "  File \"/usr/lib/python2.7/inspect.py\", line 467, in getabsfile\n",
        "    return os.path.normcase(os.path.abspath(_filename))\n",
        "  File \"/usr/lib/python2.7/posixpath.py\", line 356, in abspath\n",
        "    cwd = os.getcwd()\n",
        "OSError: [Errno 2] No such file or directory\n"
       ]
      },
      {
       "output_type": "stream",
       "stream": "stderr",
       "text": [
        "ERROR: Internal Python error in the inspect module.\n",
        "Below is the traceback from this internal error.\n",
        "\n",
        "\n",
        "Unfortunately, your original traceback can not be constructed.\n",
        "\n"
       ]
      },
      {
       "ename": "NameError",
       "evalue": "name 'fulzname' is not defined",
       "output_type": "pyerr",
       "traceback": ""
      }
     ],
     "prompt_number": 336
    },
    {
     "cell_type": "code",
     "collapsed": false,
     "input": [
      "rdurlz"
     ],
     "language": "python",
     "metadata": {},
     "outputs": [
      {
       "metadata": {},
       "output_type": "pyout",
       "prompt_number": 337,
       "text": [
        "[u'http://imgur.com/1hKgMnR',\n",
        " u'http://imgur.com/UMOAHfM',\n",
        " u'http://i.imgur.com/B3zy1cX.jpg',\n",
        " u'http://imgur.com/NR3ZTY2',\n",
        " u'http://imgur.com/brqFEeS',\n",
        " u'http://imgur.com/rcODqEy',\n",
        " u'http://imgur.com/m9d762o',\n",
        " u'http://i.imgur.com/Qp5MUt2.jpg',\n",
        " u'http://imgur.com/GYZBWt2',\n",
        " u'http://i.imgur.com/JkmDvVR.jpg',\n",
        " u'http://imgur.com/HiIV8es',\n",
        " u'http://i.imgur.com/Ki0kkad.jpg',\n",
        " u'http://i.imgur.com/siJ9Y0U.jpg',\n",
        " u'http://i.imgur.com/f78gxPN.jpg',\n",
        " u'http://imgur.com/QrhOhL5',\n",
        " u'http://imgur.com/KnCkKZA',\n",
        " u'http://imgur.com/qrcEIog',\n",
        " u'http://i.imgur.com/izLsyM3.jpg',\n",
        " u'http://i.imgur.com/SY2kgUS.jpg',\n",
        " u'http://i.imgur.com/bFi2rqj.jpg?1',\n",
        " u'http://imgur.com/9bfLOGr',\n",
        " u'http://imgur.com/9lJGeJG',\n",
        " u'http://i.imgur.com/9zlT6mh.jpg',\n",
        " u'http://imgur.com/VgEy0s4',\n",
        " u'http://imgur.com/ppztWXz']"
       ]
      }
     ],
     "prompt_number": 337
    },
    {
     "cell_type": "code",
     "collapsed": true,
     "input": [
      "savreq = requests.get(rdurlz[7])"
     ],
     "language": "python",
     "metadata": {},
     "outputs": [],
     "prompt_number": 338
    },
    {
     "cell_type": "code",
     "collapsed": true,
     "input": [
      "rezlz =  redls[0]"
     ],
     "language": "python",
     "metadata": {},
     "outputs": [],
     "prompt_number": 339
    },
    {
     "cell_type": "code",
     "collapsed": true,
     "input": [
      "reuzrz = rezlz.author"
     ],
     "language": "python",
     "metadata": {},
     "outputs": [],
     "prompt_number": 340
    },
    {
     "cell_type": "code",
     "collapsed": true,
     "input": [
      "usrzname = str(reuzrz.name)"
     ],
     "language": "python",
     "metadata": {},
     "outputs": [
      {
       "output_type": "stream",
       "stream": "stdout",
       "text": [
        "Traceback (most recent call last):\n",
        "  File \"/usr/local/lib/python2.7/dist-packages/IPython/core/ultratb.py\", line 766, in structured_traceback\n",
        "    records = _fixed_getinnerframes(etb, context, tb_offset)\n",
        "  File \"/usr/local/lib/python2.7/dist-packages/IPython/core/ultratb.py\", line 249, in _fixed_getinnerframes\n",
        "    records  = fix_frame_records_filenames(inspect.getinnerframes(etb, context))\n",
        "  File \"/usr/lib/python2.7/inspect.py\", line 1043, in getinnerframes\n",
        "    framelist.append((tb.tb_frame,) + getframeinfo(tb, context))\n",
        "  File \"/usr/lib/python2.7/inspect.py\", line 1003, in getframeinfo\n",
        "    filename = getsourcefile(frame) or getfile(frame)\n",
        "  File \"/usr/lib/python2.7/inspect.py\", line 454, in getsourcefile\n",
        "    if hasattr(getmodule(object, filename), '__loader__'):\n",
        "  File \"/usr/lib/python2.7/inspect.py\", line 483, in getmodule\n",
        "    file = getabsfile(object, _filename)\n",
        "  File \"/usr/lib/python2.7/inspect.py\", line 467, in getabsfile\n",
        "    return os.path.normcase(os.path.abspath(_filename))\n",
        "  File \"/usr/lib/python2.7/posixpath.py\", line 356, in abspath\n",
        "    cwd = os.getcwd()\n",
        "OSError: [Errno 2] No such file or directory\n"
       ]
      },
      {
       "output_type": "stream",
       "stream": "stderr",
       "text": [
        "ERROR: Internal Python error in the inspect module.\n",
        "Below is the traceback from this internal error.\n",
        "\n",
        "\n",
        "Unfortunately, your original traceback can not be constructed.\n",
        "\n"
       ]
      },
      {
       "ename": "TypeError",
       "evalue": "'list' object is not callable",
       "output_type": "pyerr",
       "traceback": ""
      }
     ],
     "prompt_number": 341
    },
    {
     "cell_type": "code",
     "collapsed": true,
     "input": [
      "fulzname = (usrzname + '.jpg')"
     ],
     "language": "python",
     "metadata": {},
     "outputs": [
      {
       "output_type": "stream",
       "stream": "stdout",
       "text": [
        "Traceback (most recent call last):\n",
        "  File \"/usr/local/lib/python2.7/dist-packages/IPython/core/ultratb.py\", line 766, in structured_traceback\n",
        "    records = _fixed_getinnerframes(etb, context, tb_offset)\n",
        "  File \"/usr/local/lib/python2.7/dist-packages/IPython/core/ultratb.py\", line 249, in _fixed_getinnerframes\n",
        "    records  = fix_frame_records_filenames(inspect.getinnerframes(etb, context))\n",
        "  File \"/usr/lib/python2.7/inspect.py\", line 1043, in getinnerframes\n",
        "    framelist.append((tb.tb_frame,) + getframeinfo(tb, context))\n",
        "  File \"/usr/lib/python2.7/inspect.py\", line 1003, in getframeinfo\n",
        "    filename = getsourcefile(frame) or getfile(frame)\n",
        "  File \"/usr/lib/python2.7/inspect.py\", line 454, in getsourcefile\n",
        "    if hasattr(getmodule(object, filename), '__loader__'):\n",
        "  File \"/usr/lib/python2.7/inspect.py\", line 483, in getmodule\n",
        "    file = getabsfile(object, _filename)\n",
        "  File \"/usr/lib/python2.7/inspect.py\", line 467, in getabsfile\n",
        "    return os.path.normcase(os.path.abspath(_filename))\n",
        "  File \"/usr/lib/python2.7/posixpath.py\", line 356, in abspath\n",
        "    cwd = os.getcwd()\n",
        "OSError: [Errno 2] No such file or directory\n"
       ]
      },
      {
       "output_type": "stream",
       "stream": "stderr",
       "text": [
        "ERROR: Internal Python error in the inspect module.\n",
        "Below is the traceback from this internal error.\n",
        "\n",
        "\n",
        "Unfortunately, your original traceback can not be constructed.\n",
        "\n"
       ]
      },
      {
       "ename": "NameError",
       "evalue": "name 'usrzname' is not defined",
       "output_type": "pyerr",
       "traceback": ""
      }
     ],
     "prompt_number": 342
    },
    {
     "cell_type": "code",
     "collapsed": false,
     "input": [
      "resource = urllib.urlopen(rdgimg)\n",
      "output = open(fulzname,\"w\")\n",
      "output.write(rdgimg)\n",
      "output.close()"
     ],
     "language": "python",
     "metadata": {},
     "outputs": [
      {
       "output_type": "stream",
       "stream": "stdout",
       "text": [
        "Traceback (most recent call last):\n",
        "  File \"/usr/local/lib/python2.7/dist-packages/IPython/core/ultratb.py\", line 766, in structured_traceback\n",
        "    records = _fixed_getinnerframes(etb, context, tb_offset)\n",
        "  File \"/usr/local/lib/python2.7/dist-packages/IPython/core/ultratb.py\", line 249, in _fixed_getinnerframes\n",
        "    records  = fix_frame_records_filenames(inspect.getinnerframes(etb, context))\n",
        "  File \"/usr/lib/python2.7/inspect.py\", line 1043, in getinnerframes\n",
        "    framelist.append((tb.tb_frame,) + getframeinfo(tb, context))\n",
        "  File \"/usr/lib/python2.7/inspect.py\", line 1003, in getframeinfo\n",
        "    filename = getsourcefile(frame) or getfile(frame)\n",
        "  File \"/usr/lib/python2.7/inspect.py\", line 454, in getsourcefile\n",
        "    if hasattr(getmodule(object, filename), '__loader__'):\n",
        "  File \"/usr/lib/python2.7/inspect.py\", line 483, in getmodule\n",
        "    file = getabsfile(object, _filename)\n",
        "  File \"/usr/lib/python2.7/inspect.py\", line 467, in getabsfile\n",
        "    return os.path.normcase(os.path.abspath(_filename))\n",
        "  File \"/usr/lib/python2.7/posixpath.py\", line 356, in abspath\n",
        "    cwd = os.getcwd()\n",
        "OSError: [Errno 2] No such file or directory\n"
       ]
      },
      {
       "output_type": "stream",
       "stream": "stderr",
       "text": [
        "ERROR: Internal Python error in the inspect module.\n",
        "Below is the traceback from this internal error.\n",
        "\n",
        "\n",
        "Unfortunately, your original traceback can not be constructed.\n",
        "\n"
       ]
      },
      {
       "ename": "NameError",
       "evalue": "name 'rdgimg' is not defined",
       "output_type": "pyerr",
       "traceback": ""
      }
     ],
     "prompt_number": 343
    },
    {
     "cell_type": "code",
     "collapsed": false,
     "input": [
      "fulzname"
     ],
     "language": "python",
     "metadata": {},
     "outputs": [
      {
       "output_type": "stream",
       "stream": "stdout",
       "text": [
        "Traceback (most recent call last):\n",
        "  File \"/usr/local/lib/python2.7/dist-packages/IPython/core/ultratb.py\", line 766, in structured_traceback\n",
        "    records = _fixed_getinnerframes(etb, context, tb_offset)\n",
        "  File \"/usr/local/lib/python2.7/dist-packages/IPython/core/ultratb.py\", line 249, in _fixed_getinnerframes\n",
        "    records  = fix_frame_records_filenames(inspect.getinnerframes(etb, context))\n",
        "  File \"/usr/lib/python2.7/inspect.py\", line 1043, in getinnerframes\n",
        "    framelist.append((tb.tb_frame,) + getframeinfo(tb, context))\n",
        "  File \"/usr/lib/python2.7/inspect.py\", line 1003, in getframeinfo\n",
        "    filename = getsourcefile(frame) or getfile(frame)\n",
        "  File \"/usr/lib/python2.7/inspect.py\", line 454, in getsourcefile\n",
        "    if hasattr(getmodule(object, filename), '__loader__'):\n",
        "  File \"/usr/lib/python2.7/inspect.py\", line 483, in getmodule\n",
        "    file = getabsfile(object, _filename)\n",
        "  File \"/usr/lib/python2.7/inspect.py\", line 467, in getabsfile\n",
        "    return os.path.normcase(os.path.abspath(_filename))\n",
        "  File \"/usr/lib/python2.7/posixpath.py\", line 356, in abspath\n",
        "    cwd = os.getcwd()\n",
        "OSError: [Errno 2] No such file or directory\n"
       ]
      },
      {
       "output_type": "stream",
       "stream": "stderr",
       "text": [
        "ERROR: Internal Python error in the inspect module.\n",
        "Below is the traceback from this internal error.\n",
        "\n",
        "\n",
        "Unfortunately, your original traceback can not be constructed.\n",
        "\n"
       ]
      },
      {
       "ename": "NameError",
       "evalue": "name 'fulzname' is not defined",
       "output_type": "pyerr",
       "traceback": ""
      }
     ],
     "prompt_number": 344
    },
    {
     "cell_type": "code",
     "collapsed": false,
     "input": [
      "Image(fulzname)"
     ],
     "language": "python",
     "metadata": {},
     "outputs": [
      {
       "output_type": "stream",
       "stream": "stdout",
       "text": [
        "Traceback (most recent call last):\n",
        "  File \"/usr/local/lib/python2.7/dist-packages/IPython/core/ultratb.py\", line 766, in structured_traceback\n",
        "    records = _fixed_getinnerframes(etb, context, tb_offset)\n",
        "  File \"/usr/local/lib/python2.7/dist-packages/IPython/core/ultratb.py\", line 249, in _fixed_getinnerframes\n",
        "    records  = fix_frame_records_filenames(inspect.getinnerframes(etb, context))\n",
        "  File \"/usr/lib/python2.7/inspect.py\", line 1043, in getinnerframes\n",
        "    framelist.append((tb.tb_frame,) + getframeinfo(tb, context))\n",
        "  File \"/usr/lib/python2.7/inspect.py\", line 1003, in getframeinfo\n",
        "    filename = getsourcefile(frame) or getfile(frame)\n",
        "  File \"/usr/lib/python2.7/inspect.py\", line 454, in getsourcefile\n",
        "    if hasattr(getmodule(object, filename), '__loader__'):\n",
        "  File \"/usr/lib/python2.7/inspect.py\", line 483, in getmodule\n",
        "    file = getabsfile(object, _filename)\n",
        "  File \"/usr/lib/python2.7/inspect.py\", line 467, in getabsfile\n",
        "    return os.path.normcase(os.path.abspath(_filename))\n",
        "  File \"/usr/lib/python2.7/posixpath.py\", line 356, in abspath\n",
        "    cwd = os.getcwd()\n",
        "OSError: [Errno 2] No such file or directory\n"
       ]
      },
      {
       "output_type": "stream",
       "stream": "stderr",
       "text": [
        "ERROR: Internal Python error in the inspect module.\n",
        "Below is the traceback from this internal error.\n",
        "\n",
        "\n",
        "Unfortunately, your original traceback can not be constructed.\n",
        "\n"
       ]
      },
      {
       "ename": "NameError",
       "evalue": "name 'fulzname' is not defined",
       "output_type": "pyerr",
       "traceback": ""
      }
     ],
     "prompt_number": 345
    },
    {
     "cell_type": "code",
     "collapsed": true,
     "input": [
      "rgdtit = rd.title"
     ],
     "language": "python",
     "metadata": {},
     "outputs": [],
     "prompt_number": 347
    },
    {
     "cell_type": "code",
     "collapsed": true,
     "input": [
      "rdurlz = str(rd.url)"
     ],
     "language": "python",
     "metadata": {},
     "outputs": [
      {
       "output_type": "stream",
       "stream": "stdout",
       "text": [
        "Traceback (most recent call last):\n",
        "  File \"/usr/local/lib/python2.7/dist-packages/IPython/core/ultratb.py\", line 766, in structured_traceback\n",
        "    records = _fixed_getinnerframes(etb, context, tb_offset)\n",
        "  File \"/usr/local/lib/python2.7/dist-packages/IPython/core/ultratb.py\", line 249, in _fixed_getinnerframes\n",
        "    records  = fix_frame_records_filenames(inspect.getinnerframes(etb, context))\n",
        "  File \"/usr/lib/python2.7/inspect.py\", line 1043, in getinnerframes\n",
        "    framelist.append((tb.tb_frame,) + getframeinfo(tb, context))\n",
        "  File \"/usr/lib/python2.7/inspect.py\", line 1003, in getframeinfo\n",
        "    filename = getsourcefile(frame) or getfile(frame)\n",
        "  File \"/usr/lib/python2.7/inspect.py\", line 454, in getsourcefile\n",
        "    if hasattr(getmodule(object, filename), '__loader__'):\n",
        "  File \"/usr/lib/python2.7/inspect.py\", line 483, in getmodule\n",
        "    file = getabsfile(object, _filename)\n",
        "  File \"/usr/lib/python2.7/inspect.py\", line 467, in getabsfile\n",
        "    return os.path.normcase(os.path.abspath(_filename))\n",
        "  File \"/usr/lib/python2.7/posixpath.py\", line 356, in abspath\n",
        "    cwd = os.getcwd()\n",
        "OSError: [Errno 2] No such file or directory\n"
       ]
      },
      {
       "output_type": "stream",
       "stream": "stderr",
       "text": [
        "ERROR: Internal Python error in the inspect module.\n",
        "Below is the traceback from this internal error.\n",
        "\n",
        "\n",
        "Unfortunately, your original traceback can not be constructed.\n",
        "\n"
       ]
      },
      {
       "ename": "TypeError",
       "evalue": "'list' object is not callable",
       "output_type": "pyerr",
       "traceback": ""
      }
     ],
     "prompt_number": 348
    },
    {
     "cell_type": "code",
     "collapsed": true,
     "input": [
      "rdauth =rd.author"
     ],
     "language": "python",
     "metadata": {},
     "outputs": [],
     "prompt_number": 349
    },
    {
     "cell_type": "code",
     "collapsed": true,
     "input": [
      "rdusern = str(rdauth.name)"
     ],
     "language": "python",
     "metadata": {},
     "outputs": [
      {
       "output_type": "stream",
       "stream": "stdout",
       "text": [
        "Traceback (most recent call last):\n",
        "  File \"/usr/local/lib/python2.7/dist-packages/IPython/core/ultratb.py\", line 766, in structured_traceback\n",
        "    records = _fixed_getinnerframes(etb, context, tb_offset)\n",
        "  File \"/usr/local/lib/python2.7/dist-packages/IPython/core/ultratb.py\", line 249, in _fixed_getinnerframes\n",
        "    records  = fix_frame_records_filenames(inspect.getinnerframes(etb, context))\n",
        "  File \"/usr/lib/python2.7/inspect.py\", line 1043, in getinnerframes\n",
        "    framelist.append((tb.tb_frame,) + getframeinfo(tb, context))\n",
        "  File \"/usr/lib/python2.7/inspect.py\", line 1003, in getframeinfo\n",
        "    filename = getsourcefile(frame) or getfile(frame)\n",
        "  File \"/usr/lib/python2.7/inspect.py\", line 454, in getsourcefile\n",
        "    if hasattr(getmodule(object, filename), '__loader__'):\n",
        "  File \"/usr/lib/python2.7/inspect.py\", line 483, in getmodule\n",
        "    file = getabsfile(object, _filename)\n",
        "  File \"/usr/lib/python2.7/inspect.py\", line 467, in getabsfile\n",
        "    return os.path.normcase(os.path.abspath(_filename))\n",
        "  File \"/usr/lib/python2.7/posixpath.py\", line 356, in abspath\n",
        "    cwd = os.getcwd()\n",
        "OSError: [Errno 2] No such file or directory\n"
       ]
      },
      {
       "output_type": "stream",
       "stream": "stderr",
       "text": [
        "ERROR: Internal Python error in the inspect module.\n",
        "Below is the traceback from this internal error.\n",
        "\n",
        "\n",
        "Unfortunately, your original traceback can not be constructed.\n",
        "\n"
       ]
      },
      {
       "ename": "TypeError",
       "evalue": "'list' object is not callable",
       "output_type": "pyerr",
       "traceback": ""
      }
     ],
     "prompt_number": 350
    },
    {
     "cell_type": "code",
     "collapsed": true,
     "input": [
      "rdauth.is_gold"
     ],
     "language": "python",
     "metadata": {},
     "outputs": [
      {
       "metadata": {},
       "output_type": "pyout",
       "prompt_number": 351,
       "text": [
        "False"
       ]
      }
     ],
     "prompt_number": 351
    },
    {
     "cell_type": "code",
     "collapsed": true,
     "input": [
      "rdauth.json_dict"
     ],
     "language": "python",
     "metadata": {},
     "outputs": [],
     "prompt_number": 352
    },
    {
     "cell_type": "code",
     "collapsed": true,
     "input": [
      "rdauth.id"
     ],
     "language": "python",
     "metadata": {},
     "outputs": [
      {
       "metadata": {},
       "output_type": "pyout",
       "prompt_number": 353,
       "text": [
        "u'f3s7f'"
       ]
      }
     ],
     "prompt_number": 353
    },
    {
     "cell_type": "code",
     "collapsed": true,
     "input": [
      "rdsub = rdauth.get_submitted"
     ],
     "language": "python",
     "metadata": {},
     "outputs": [],
     "prompt_number": 354
    },
    {
     "cell_type": "code",
     "collapsed": true,
     "input": [
      "for rsu in rdsub():\n",
      "    print rsu"
     ],
     "language": "python",
     "metadata": {},
     "outputs": [
      {
       "output_type": "stream",
       "stream": "stdout",
       "text": [
        "4 :: I'd love to see your take on my ballet picture.\n",
        "0 :: My family is stopping in Nashville for just a night. What are fun, cheap...\n",
        "11 :: Can someone make a gif of Tim and David hugging during the celebration?\n",
        "2 :: What do you think is the most erased word?\n",
        "11 :: What are things that people constantly tell you? Be still, be quiet, etc.\n",
        "4 :: What is your favorite feel-good subreddit?\n",
        "19 :: TIL that if mermaids did exist, they would be part whale or dolphin, no...\n",
        "6 :: I am a writer setting my story in Phoenix, Arizona and need help describ...\n"
       ]
      }
     ],
     "prompt_number": 355
    },
    {
     "cell_type": "code",
     "collapsed": true,
     "input": [
      "rsu.selftext"
     ],
     "language": "python",
     "metadata": {},
     "outputs": [
      {
       "metadata": {},
       "output_type": "pyout",
       "prompt_number": 356,
       "text": [
        "u'Questions:\\nCan you describe Phoenix in four words?\\nWhat is your favorite place to visit in Phoenix?\\nWhat sets Phoenix apart from other major cities?\\n\\nThank you so much!'"
       ]
      }
     ],
     "prompt_number": 356
    },
    {
     "cell_type": "code",
     "collapsed": true,
     "input": [
      "othasub = rsu.subreddit"
     ],
     "language": "python",
     "metadata": {},
     "outputs": [],
     "prompt_number": 357
    },
    {
     "cell_type": "code",
     "collapsed": true,
     "input": [
      "print othasub"
     ],
     "language": "python",
     "metadata": {},
     "outputs": [
      {
       "output_type": "stream",
       "stream": "stdout",
       "text": [
        "arizona\n"
       ]
      }
     ],
     "prompt_number": 358
    },
    {
     "cell_type": "code",
     "collapsed": true,
     "input": [
      "artget = r.get_subreddit('artcontroldrawsyou')"
     ],
     "language": "python",
     "metadata": {},
     "outputs": [],
     "prompt_number": 359
    },
    {
     "cell_type": "code",
     "collapsed": false,
     "input": [
      "artget.submit(rdusern, rdurlz )"
     ],
     "language": "python",
     "metadata": {},
     "outputs": [
      {
       "output_type": "stream",
       "stream": "stdout",
       "text": [
        "Traceback (most recent call last):\n",
        "  File \"/usr/local/lib/python2.7/dist-packages/IPython/core/ultratb.py\", line 766, in structured_traceback\n",
        "    records = _fixed_getinnerframes(etb, context, tb_offset)\n",
        "  File \"/usr/local/lib/python2.7/dist-packages/IPython/core/ultratb.py\", line 249, in _fixed_getinnerframes\n",
        "    records  = fix_frame_records_filenames(inspect.getinnerframes(etb, context))\n",
        "  File \"/usr/lib/python2.7/inspect.py\", line 1043, in getinnerframes\n",
        "    framelist.append((tb.tb_frame,) + getframeinfo(tb, context))\n",
        "  File \"/usr/lib/python2.7/inspect.py\", line 1003, in getframeinfo\n",
        "    filename = getsourcefile(frame) or getfile(frame)\n",
        "  File \"/usr/lib/python2.7/inspect.py\", line 454, in getsourcefile\n",
        "    if hasattr(getmodule(object, filename), '__loader__'):\n",
        "  File \"/usr/lib/python2.7/inspect.py\", line 483, in getmodule\n",
        "    file = getabsfile(object, _filename)\n",
        "  File \"/usr/lib/python2.7/inspect.py\", line 467, in getabsfile\n",
        "    return os.path.normcase(os.path.abspath(_filename))\n",
        "  File \"/usr/lib/python2.7/posixpath.py\", line 356, in abspath\n",
        "    cwd = os.getcwd()\n",
        "OSError: [Errno 2] No such file or directory\n"
       ]
      },
      {
       "output_type": "stream",
       "stream": "stderr",
       "text": [
        "ERROR: Internal Python error in the inspect module.\n",
        "Below is the traceback from this internal error.\n",
        "\n",
        "\n",
        "Unfortunately, your original traceback can not be constructed.\n",
        "\n"
       ]
      },
      {
       "ename": "NameError",
       "evalue": "name 'rdusern' is not defined",
       "output_type": "pyerr",
       "traceback": ""
      }
     ],
     "prompt_number": 360
    },
    {
     "cell_type": "code",
     "collapsed": true,
     "input": [
      "artctrl = r.get_redditor('artcontrol')"
     ],
     "language": "python",
     "metadata": {},
     "outputs": [],
     "prompt_number": 361
    },
    {
     "cell_type": "code",
     "collapsed": false,
     "input": [
      "arlik = artctrl.get_liked"
     ],
     "language": "python",
     "metadata": {},
     "outputs": [],
     "prompt_number": 362
    },
    {
     "cell_type": "code",
     "collapsed": false,
     "input": [
      "arlik"
     ],
     "language": "python",
     "metadata": {},
     "outputs": [
      {
       "metadata": {},
       "output_type": "pyout",
       "prompt_number": 363,
       "text": [
        "<bound method Redditor.get_liked of Redditor(user_name='artcontrol')>"
       ]
      }
     ],
     "prompt_number": 363
    },
    {
     "cell_type": "code",
     "collapsed": false,
     "input": [
      "print arlik"
     ],
     "language": "python",
     "metadata": {},
     "outputs": [
      {
       "output_type": "stream",
       "stream": "stdout",
       "text": [
        "<bound method Redditor.get_liked of Redditor(user_name='artcontrol')>\n"
       ]
      }
     ],
     "prompt_number": 364
    },
    {
     "cell_type": "code",
     "collapsed": false,
     "input": [
      "print arlik()"
     ],
     "language": "python",
     "metadata": {},
     "outputs": [
      {
       "output_type": "stream",
       "stream": "stdout",
       "text": [
        "<generator object get_content at 0x7f0e30e40be0>\n"
       ]
      }
     ],
     "prompt_number": 365
    },
    {
     "cell_type": "code",
     "collapsed": false,
     "input": [
      "drzu = r.get_subreddit('artcontroldrawsyou')"
     ],
     "language": "python",
     "metadata": {},
     "outputs": [],
     "prompt_number": 366
    },
    {
     "cell_type": "code",
     "collapsed": false,
     "input": [
      "drzu"
     ],
     "language": "python",
     "metadata": {},
     "outputs": [
      {
       "metadata": {},
       "output_type": "pyout",
       "prompt_number": 367,
       "text": [
        "Subreddit(display_name='artcontroldrawsyou')"
       ]
      }
     ],
     "prompt_number": 367
    },
    {
     "cell_type": "code",
     "collapsed": false,
     "input": [
      "drzu.upload_image()"
     ],
     "language": "python",
     "metadata": {},
     "outputs": [
      {
       "output_type": "stream",
       "stream": "stdout",
       "text": [
        "Traceback (most recent call last):\n",
        "  File \"/usr/local/lib/python2.7/dist-packages/IPython/core/ultratb.py\", line 766, in structured_traceback\n",
        "    records = _fixed_getinnerframes(etb, context, tb_offset)\n",
        "  File \"/usr/local/lib/python2.7/dist-packages/IPython/core/ultratb.py\", line 249, in _fixed_getinnerframes\n",
        "    records  = fix_frame_records_filenames(inspect.getinnerframes(etb, context))\n",
        "  File \"/usr/lib/python2.7/inspect.py\", line 1043, in getinnerframes\n",
        "    framelist.append((tb.tb_frame,) + getframeinfo(tb, context))\n",
        "  File \"/usr/lib/python2.7/inspect.py\", line 1003, in getframeinfo\n",
        "    filename = getsourcefile(frame) or getfile(frame)\n",
        "  File \"/usr/lib/python2.7/inspect.py\", line 454, in getsourcefile\n",
        "    if hasattr(getmodule(object, filename), '__loader__'):\n",
        "  File \"/usr/lib/python2.7/inspect.py\", line 483, in getmodule\n",
        "    file = getabsfile(object, _filename)\n",
        "  File \"/usr/lib/python2.7/inspect.py\", line 467, in getabsfile\n",
        "    return os.path.normcase(os.path.abspath(_filename))\n",
        "  File \"/usr/lib/python2.7/posixpath.py\", line 356, in abspath\n",
        "    cwd = os.getcwd()\n",
        "OSError: [Errno 2] No such file or directory\n"
       ]
      },
      {
       "output_type": "stream",
       "stream": "stderr",
       "text": [
        "ERROR: Internal Python error in the inspect module.\n",
        "Below is the traceback from this internal error.\n",
        "\n",
        "\n",
        "Unfortunately, your original traceback can not be constructed.\n",
        "\n"
       ]
      },
      {
       "ename": "TypeError",
       "evalue": "upload_image() takes at least 3 arguments (2 given)",
       "output_type": "pyerr",
       "traceback": ""
      }
     ],
     "prompt_number": 368
    },
    {
     "cell_type": "code",
     "collapsed": false,
     "input": [],
     "language": "python",
     "metadata": {},
     "outputs": [],
     "prompt_number": 368
    },
    {
     "cell_type": "code",
     "collapsed": false,
     "input": [],
     "language": "python",
     "metadata": {},
     "outputs": []
    }
   ],
   "metadata": {}
  }
 ]
}