{
 "metadata": {
  "name": "",
  "signature": "sha256:c062f83afb89f8d79750d159488c3b9ef0b7759ef88a13574c71f22ce45042dd"
 },
 "nbformat": 3,
 "nbformat_minor": 0,
 "worksheets": [
  {
   "cells": [
    {
     "cell_type": "code",
     "collapsed": false,
     "input": [
      "from collections import OrderedDict\n",
      "\n",
      "from purl import URL as PURL\n",
      "\n",
      "\n",
      "def URL(base, path, segments=None, defaults=None):\n",
      "    url_class = type(Segments.__name__, Segments.__bases__,\n",
      "                     dict(Segments.__dict__))\n",
      "    segments = [] if segments is None else segments\n",
      "    defaults = [] if defaults is None else defaults\n",
      "    for segment in segments:\n",
      "        setattr(url_class, segment, url_class._segment(segment))\n",
      "    return url_class(base, path, segments, defaults)\n",
      "\n",
      "\n",
      "class Segments(object):\n",
      "    def __init__(self, base, path, segments, defaults):\n",
      "        self.base = PURL(base, path=path)\n",
      "        self.segments = OrderedDict(zip(segments, defaults))\n",
      "\n",
      "    def build(self):\n",
      "        segments = self.base.path_segments() + tuple(self.segments.values())\n",
      "        url = self.base.path_segments(segments)\n",
      "        return url\n",
      "\n",
      "    def __str__(self):\n",
      "        return self.build().as_string()\n",
      "\n",
      "    def _get_segment(self, segment):\n",
      "        return self.segments[segment]\n",
      "\n",
      "    def _set_segment(self, segment, value):\n",
      "        self.segments[segment] = value\n",
      "\n",
      "    @classmethod\n",
      "    def _segment(cls, segment):\n",
      "        return property(\n",
      "                fget=lambda x: cls._get_segment(x, segment),\n",
      "                fset=lambda x, v: cls._set_segment(x, segment, v),\n",
      "                )"
     ],
     "language": "python",
     "metadata": {},
     "outputs": [],
     "prompt_number": 2
    },
    {
     "cell_type": "code",
     "collapsed": false,
     "input": [],
     "language": "python",
     "metadata": {},
     "outputs": []
    }
   ],
   "metadata": {}
  }
 ]
}