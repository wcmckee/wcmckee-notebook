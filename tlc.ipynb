{
 "metadata": {
  "name": "",
  "signature": "sha256:21c7387fb6b44679a78288f2557d32a02c594f31664243454004746d1c8fe40c"
 },
 "nbformat": 3,
 "nbformat_minor": 0,
 "worksheets": [
  {
   "cells": [
    {
     "cell_type": "heading",
     "level": 1,
     "metadata": {},
     "source": [
      "TLC"
     ]
    },
    {
     "cell_type": "code",
     "collapsed": false,
     "input": [
      "import requests\n",
      "from bs4 import BeautifulSoup"
     ],
     "language": "python",
     "metadata": {},
     "outputs": [],
     "prompt_number": 1
    },
    {
     "cell_type": "code",
     "collapsed": false,
     "input": [
      "def geturl():\n",
      "    return put"
     ],
     "language": "python",
     "metadata": {},
     "outputs": [],
     "prompt_number": 2
    },
    {
     "cell_type": "code",
     "collapsed": false,
     "input": [
      "urlReq = requests.get('http://tlcxpress.ac.nz/')"
     ],
     "language": "python",
     "metadata": {},
     "outputs": [],
     "prompt_number": 3
    },
    {
     "cell_type": "code",
     "collapsed": false,
     "input": [
      "def dtlc(webaddr):\n",
      "    return requests.get(webaddr)\n",
      "\n",
      "def "
     ],
     "language": "python",
     "metadata": {},
     "outputs": [
      {
       "ename": "SyntaxError",
       "evalue": "invalid syntax (<ipython-input-4-7b9697606587>, line 4)",
       "output_type": "pyerr",
       "traceback": [
        "\u001b[1;36m  File \u001b[1;32m\"<ipython-input-4-7b9697606587>\"\u001b[1;36m, line \u001b[1;32m4\u001b[0m\n\u001b[1;33m    def\u001b[0m\n\u001b[1;37m        ^\u001b[0m\n\u001b[1;31mSyntaxError\u001b[0m\u001b[1;31m:\u001b[0m invalid syntax\n"
       ]
      }
     ],
     "prompt_number": 4
    },
    {
     "cell_type": "code",
     "collapsed": false,
     "input": [
      "dtlc('http://tlcxpress.ac.nz/').text"
     ],
     "language": "python",
     "metadata": {},
     "outputs": [
      {
       "ename": "NameError",
       "evalue": "name 'dtlc' is not defined",
       "output_type": "pyerr",
       "traceback": [
        "\u001b[1;31m---------------------------------------------------------------------------\u001b[0m\n\u001b[1;31mNameError\u001b[0m                                 Traceback (most recent call last)",
        "\u001b[1;32m<ipython-input-5-0e61e614d531>\u001b[0m in \u001b[0;36m<module>\u001b[1;34m()\u001b[0m\n\u001b[1;32m----> 1\u001b[1;33m \u001b[0mdtlc\u001b[0m\u001b[1;33m(\u001b[0m\u001b[1;34m'http://tlcxpress.ac.nz/'\u001b[0m\u001b[1;33m)\u001b[0m\u001b[1;33m.\u001b[0m\u001b[0mtext\u001b[0m\u001b[1;33m\u001b[0m\u001b[0m\n\u001b[0m",
        "\u001b[1;31mNameError\u001b[0m: name 'dtlc' is not defined"
       ]
      }
     ],
     "prompt_number": 5
    },
    {
     "cell_type": "code",
     "collapsed": false,
     "input": [
      "print urlReq.text"
     ],
     "language": "python",
     "metadata": {},
     "outputs": [
      {
       "output_type": "stream",
       "stream": "stdout",
       "text": [
        "<!DOCTYPE html PUBLIC \"-//W3C//DTD XHTML 1.0 Transitional//EN\" \"http://www.w3.org/TR/xhtml1/DTD/xhtml1-transitional.dtd\"> \n",
        "<html xmlns=\"http://www.w3.org/1999/xhtml\">\n",
        "\t<head>\n",
        "\t\t<meta http-equiv=\"Content-Type\" content=\"text/html; charset=utf-8\" />\n",
        "\t\t<meta name=\"description\" content=\"TLC Xpress is The Learning Connexion's free online newsletter and notices hub.\" />\n",
        "\t\t<title>A Trip to Patea | TLC Xpress | The Learning Connexion School of Art and Creativity Blog</title>\n",
        "\t\t<link rel=\"profile\" href=\"http://gmpg.org/xfn/11\" />\n",
        "\t\t<link rel=\"stylesheet\" type=\"text/css\" media=\"all\" href=\"http://tlcxpress.ac.nz/wp-content/themes/xpress/style.css\" />\n",
        "\t\t<link rel=\"pingback\" href=\"http://tlcxpress.ac.nz/xmlrpc.php\" />\n",
        "\n",
        "\t\t<link rel='stylesheet' id='gigya_css-css'  href='http://tlcxpress.ac.nz/wp-content/plugins/gigya-socialize-for-wordpress/gigya.css?ver=3.9.2' type='text/css' media='all' />\n",
        "<link rel='stylesheet' id='simple_mp3_style-css'  href='http://tlcxpress.ac.nz/wp-content/plugins/mp3-player/style.css?ver=3.9.2' type='text/css' media='all' />\n",
        "<link rel='stylesheet' id='mr_social_sharing-css'  href='http://tlcxpress.ac.nz/wp-content/plugins/social-sharing-toolkit/style_2.1.2.css?ver=3.9.2' type='text/css' media='all' />\n",
        "<link rel='stylesheet' id='mr_social_sharing_custom-css'  href='http://tlcxpress.ac.nz/wp-content/uploads/social_sharing_custom.css?ver=3.9.2' type='text/css' media='all' />\n",
        "<script type=\"text/javascript\">\r\n",
        "            //<![CDATA[\r\n",
        "            var site_url=  'http://tlcxpress.ac.nz';                            \r\n",
        "            //]]>\r\n",
        "            </script><script type='text/javascript' src='http://tlcxpress.ac.nz/wp-includes/js/jquery/jquery.js?ver=1.11.0'></script>\n",
        "<script type='text/javascript' src='http://tlcxpress.ac.nz/wp-includes/js/jquery/jquery-migrate.min.js?ver=1.2.1'></script>\n",
        "<script type='text/javascript'>\n",
        "/* <![CDATA[ */\n",
        "var gigyaParams = {\"ajaxurl\":\"http:\\/\\/tlcxpress.ac.nz\\/wp-admin\\/admin-ajax.php\",\"logoutUrl\":\"http:\\/\\/tlcxpress.ac.nz\\/wp-login.php?action=logout&_wpnonce=adbfc4af94\",\"connectWithoutLoginBehavior\":null,\"jsonExampleURL\":\"http:\\/\\/tlcxpress.ac.nz\\/wp-content\\/plugins\\/gigya-socialize-for-wordpress\\/admin\\/forms\\/json\\/advance_example.json\",\"enabledProviders\":null,\"lang\":null};\n",
        "/* ]]> */\n",
        "</script>\n",
        "<script type='text/javascript' src='http://tlcxpress.ac.nz/wp-content/plugins/gigya-socialize-for-wordpress/gigya.js?ver=3.9.2'></script>\n",
        "<script type='text/javascript' src='http://tlcxpress.ac.nz/wp-content/plugins/mp3-player/javascript.js?ver=3.9.2'></script>\n",
        "<script type='text/javascript' src='http://tlcxpress.ac.nz/wp-content/plugins/mp3-player/js.js?ver=3.9.2'></script>\n",
        "<script type='text/javascript' src='http://tlcxpress.ac.nz/wp-content/plugins/social-sharing-toolkit/includes/buttons/button.facebook.js?ver=3.9.2'></script>\n",
        "<link rel=\"EditURI\" type=\"application/rsd+xml\" title=\"RSD\" href=\"http://tlcxpress.ac.nz/xmlrpc.php?rsd\" />\n",
        "<link rel=\"wlwmanifest\" type=\"application/wlwmanifest+xml\" href=\"http://tlcxpress.ac.nz/wp-includes/wlwmanifest.xml\" /> \n",
        "<meta name=\"generator\" content=\"WordPress 3.9.2\" />\n",
        "<meta name='description' content='On Thursday, Kate and I packed up The Learning Connexion van with our cameras and lights and headed up to the third largest South Taranaki town, Patea, to make a resource video about print-maker and South Taranaki District Council Arts Co-ordinator, Michaela Stoneman.' />\r\n",
        "<meta name='keywords' content='Patea, Michaela Stoneman' />\r\n",
        "\n",
        "\t<!-- Added by Richard Matthews on 26.07.2012 to allow for google analytics -->\n",
        "\t\t<script type=\"text/javascript\">\n",
        "\n",
        "\t\t var _gaq = _gaq || [];\n",
        "\t\t_gaq.push(['_setAccount', 'UA-3260176-4']);\n",
        "  \t\t_gaq.push(['_trackPageview']);\n",
        "\n",
        "  \t\t(function() {\n",
        "    \t\t\tvar ga = document.createElement('script'); ga.type = 'text/javascript'; ga.async = true;\n",
        "    \t\t\tga.src = ('https:' == document.location.protocol ? 'https://ssl' : 'http://www') + '.google-analytics.com/ga.js';\n",
        "    \t\t\tvar s = document.getElementsByTagName('script')[0]; s.parentNode.insertBefore(ga, s);\n",
        "  \t\t})();\n",
        "\t\t</script>\n",
        "\t</head>\n",
        "\n",
        "\t<body>\n",
        "\t\t<!-- Page -->\n",
        "\t\t<div id=\"page\">\n",
        "\n",
        "\t\t\t<!-- Header -->\n",
        "\t\t\t<div id=\"header\">\n",
        "\t\t\t\t<!-- Navbar -->\n",
        "\t\t\t\t<div id=\"navbar\">\n",
        "\t\t\t\t\t<ul>\n",
        "\t\t\t\t\t\t<li><a href=\"/\"><img src=\"/wp-content/themes/xpress/img/home.png\" alt=\"TLC Xpress Home\" /></a></li>\n",
        "\t\t\t\t\t\t<li><a href=\"/category/out-and-about/\"><img src=\"/wp-content/themes/xpress/img/out-and-about.png\" alt=\"Out &amp; About - What's going on in your creative community?\" /></a></li>\n",
        "\t\t\t\t\t\t<li><a href=\"/category/features/\"><img src=\"/wp-content/themes/xpress/img/features.png\" alt=\"Features - Coverage of what's happening\" /></a></li>\n",
        "\t\t\t\t\t\t<li><a href=\"/category/creativity-hub/\"><img src=\"/wp-content/themes/xpress/img/miracle-department.png\" alt=\"Creativity Hub - TLC's director Jonathan Milne imparts creative knowledge\" /></a></li>\n",
        "\t\t\t\t\t\t<li><a href=\"/category/tlc-people/\"><img src=\"/wp-content/themes/xpress/img/tlc-people.png\" alt=\"TLC People - TLC students &amp; graduates - what are they getting up to\" /></a></li>\n",
        "\t\t\t\t\t\t<li><a href=\"/category/tips-and-tricks/\"><img src=\"/wp-content/themes/xpress/img/tips-and-tricks.png\" alt=\"Tips &amp; Tricks - Art techniques &amp; projects to fire your creative dynamo\" /></a></li>\n",
        "\t\t\t\t\t</ul>\n",
        "\t\t\t\t</div>\n",
        "\t\t\t</div>\n",
        "\n",
        "<!-- Body -->\n",
        "<div id=\"body\">\n",
        "\n",
        "\t<!-- Content -->\n",
        "\t<div id=\"content\">\n",
        "\t\n",
        "\t\t<!-- Miracle Department -->\n",
        "\t\t<div id=\"miracledept\">\n",
        "\t\t\t<img src=\"/wp-content/themes/xpress/img/miracledept-text.png\" alt=\"Jonathan Milne's Miracle Department\" />\n",
        "\t\t\t\t\t\t\t<h2><a href=\"http://tlcxpress.ac.nz/2014/07/unobtainium-and-creativity/\" title=\"Permalink to Unobtainium and Creativity\" rel=\"bookmark\"><b>Unobtainium and Creativity</b></a></h2>\n",
        "\t\t\t\t<p>Throughout our history we humans have been easily lured by dangerous bling and the myth of living 'happily ever after'. The drama kicks in when we suspend moral and rational judgement for the sake of treasure. The movie 'Avatar' is the same parable told with beguiling special effects and the quest for a rare and valuable mineral called 'unobtainium'.\r\n",
        " <a href=\"http://tlcxpress.ac.nz/2014/07/unobtainium-and-creativity/\">Read more</a></p>\n",
        "\t\t\t\t\t</div>\n",
        "\t\t\n",
        "\t\t<div class=\"hr\"><hr /></div>\n",
        "\t\t\n",
        "\t\t<p><img src=\"/wp-content/themes/xpress/img/feature-articles.png\" alt=\"Feature Articles\" /></p>\n",
        "\t\t\n",
        "\t\t\t\t\t\t\t\t\t<h2><a href=\"http://tlcxpress.ac.nz/2014/07/a-trip-to-patea/\" title=\"Permalink to A Trip to Patea\" rel=\"bookmark\">A Trip to Patea</a></h2>\n",
        "\t\t\t\t<p class=\"subheading\">Wednesday, July 23rd 2014</p>\n",
        "\t\t\t\t<img src=\"http://tlcxpress.ac.nz/wp-content/uploads/2014/07/Michaela-Stoneman.jpg\" alt=\"\" width=\"600\" height=\"360\" />\t\t\t\t<p>On Thursday. Kate and I packed up The Learning Connexion van with our cameras and lights and headed up to the third largest South Taranaki town, Patea, to make a resource video about print-maker and South Taranaki District Council Arts Co-ordinator, Michaela Stoneman.</p>\n",
        "\t\t\t\t<p><a href=\"http://tlcxpress.ac.nz/2014/07/a-trip-to-patea/\">Read more</a></p>\n",
        "\t\t\t\t<div class=\"hr\"><hr /></div>\t\t\t\t\t\t\t<h2><a href=\"http://tlcxpress.ac.nz/2014/07/graduate-profile-jojo-jowett/\" title=\"Permalink to Graduate Profile &#8211; Jojo Jowett\" rel=\"bookmark\">Graduate Profile &#8211; Jojo Jowett</a></h2>\n",
        "\t\t\t\t<p class=\"subheading\"></p>\n",
        "\t\t\t\t<img src=\"http://tlcxpress.ac.nz/wp-content/uploads/2014/07/save-me-you-listen-4_Xpress_cover.jpg\" alt=\"\" width=\"600\" height=\"360\" />\t\t\t\t<p>Jojo Jowett trained and worked as a naval engineer in the Philippines. When Jojo eventually emigrated to New Zealand, doing an art programme became a possibility for her. She jumped at the opportunity and hasn't looked back.\r\n",
        "</p>\n",
        "\t\t\t\t<p><a href=\"http://tlcxpress.ac.nz/2014/07/graduate-profile-jojo-jowett/\">Read more</a></p>\n",
        "\t\t\t\t<div class=\"hr\"><hr /></div>\t\t\t\t\t\t\t<h2><a href=\"http://tlcxpress.ac.nz/2014/07/school-holidays-at-the-learning-connexion/\" title=\"Permalink to School Holidays at the Learning Connexion\" rel=\"bookmark\">School Holidays at the Learning Connexion</a></h2>\n",
        "\t\t\t\t<p class=\"subheading\">Monday, July 21st 2014</p>\n",
        "\t\t\t\t<img src=\"http://tlcxpress.ac.nz/wp-content/uploads/2014/07/KIDSHOLIDAYPROG_XPRESS.jpg\" alt=\"\" width=\"600\" height=\"360\" />\t\t\t\t<p>When we popped in on the school holiday art programme at The Learning Connexion recently, we found twenty two enthusiastic and creatively charged children, ranging in age from 5-14 years.</p>\n",
        "\t\t\t\t<p><a href=\"http://tlcxpress.ac.nz/2014/07/school-holidays-at-the-learning-connexion/\">Read more</a></p>\n",
        "\t\t\t\t<div class=\"hr\"><hr /></div>\t\t\t\t\t\t\t<h2><a href=\"http://tlcxpress.ac.nz/2014/06/the-learning-connexion-student-exhibition/\" title=\"Permalink to The Learning Connexion Student Exhibition\" rel=\"bookmark\">The Learning Connexion Student Exhibition</a></h2>\n",
        "\t\t\t\t<p class=\"subheading\">Friday, June 27th 2014</p>\n",
        "\t\t\t\t<img src=\"http://tlcxpress.ac.nz/wp-content/uploads/2014/06/Jamie-Ngan.jpg\" alt=\"\" width=\"600\" height=\"360\" />\t\t\t\t<p>See a selection of images from the Learning Connexion Term 2, 2014 student exhibition.</p>\n",
        "\t\t\t\t<p><a href=\"http://tlcxpress.ac.nz/2014/06/the-learning-connexion-student-exhibition/\">Read more</a></p>\n",
        "\t\t\t\t\t</div>\n",
        "\t\n",
        "\t<!-- Sidebar -->\n",
        "\t<div id=\"sidebar\">\n",
        "\t\t<!-- Search -->\n",
        "<img class=\"heading\" src=\"/wp-content/themes/xpress/img/headings/search.png\" alt=\"Search\" />\n",
        "<form action=\"/\" method=\"get\">\n",
        "\t<label>Keywords:</label><br />\n",
        "\t<input type=\"text\" name=\"s\" />\n",
        "\t<input type=\"submit\" value=\"Search\" />\n",
        "</form>\n",
        "<p>Not sure where to begin?<br /><a href=\"/random/\">Read a random article</a></p>\n",
        "<p>TLC Xpress is The Learning Connexion's free online newsletter and notices hub.</p>\n",
        "\n",
        "<!-- Subscribe -->\n",
        "<img class=\"heading\" src=\"/wp-content/themes/xpress/img/headings/subscribe.png\" alt=\"Subscribe\" />\n",
        "<form action=\"http://sendout.tlcstudents.ac.nz/subscribe/\" method=\"post\">\n",
        "\t<label>Email:</label><br />\n",
        "\t<input type=\"text\" name=\"email\" />\n",
        "\t<input type=\"submit\" value=\"Submit\" />\n",
        "</form>\n",
        "\n",
        "\n",
        "<!-- Notices -->\n",
        "<a href=\"http://tlcxpress.ac.nz/tlc-website/notices/\"><img class=\"heading\" src=\"/wp-content/themes/xpress/img/headings/notices.png\" alt=\"Notices\" /></a>\n",
        "<p><a href=\"http://tlcxpress.ac.nz/2014/07/new-block-week-classes-8th-12th-september/\" class=\"notice\">New Block Week Classes (8th &#8211; 12th September)</a></p><p>See all our new Block Week Classes on offer.</p><div class=\"hr\"><hr /></div><p><a href=\"http://tlcxpress.ac.nz/2014/05/exhibiting-at-the-learning-connexion/\" class=\"notice\">Exhibiting at The Learning Connexion</a></p><p>Originally from the small town of Opotiki, Michael came to study with The Learning Connexion straight from college.</p><div class=\"hr\"><hr /></div><p><a href=\"http://tlcxpress.ac.nz/2014/05/the-learning-connexion-student-art-exhibition/\" class=\"notice\">The Learning Connexion Student Art Exhibition</a></p><p>Each term The Learning Connexion hosts a large student-run exhibition at our campus nestled in the bush on the edge of the Hutt Valley in Taita.\r\n",
        "\r\n",
        "Us...</p><div class=\"hr\"><hr /></div><p><a href=\"http://tlcxpress.ac.nz/2014/05/the-parkin-drawing-prize/\" class=\"notice\">The Parkin Drawing Prize</a></p><p>The Parkin Drawing Prize is valued at $20,000 and is Aotearoa New Zealand's premier award for drawing. It promotes drawing in all its forms - as disco...</p><div class=\"hr\"><hr /></div><p><a href=\"http://tlcxpress.ac.nz/2014/05/introducing-dane-divine/\" class=\"notice\">Introducing: Dane Divine</a></p><p>We are excited to introduce a new staff member who has taken on the newly formed role of Learning Support at the Learning Connexion. Dane is here to help students to create catch-up plans if they are falling behind with their work, to help with literacy, numeracy and organising skills as well as working towards students' employment goals and generally supporting their learning needs. Dane outlines her background and interests in creativity and education.</p>    <script type=\"text/javascript\">\n",
        "    // <![CDATA[\n",
        "        var disqus_shortname = 'tlcxpress';\n",
        "        (function () {\n",
        "            var nodes = document.getElementsByTagName('span');\n",
        "            for (var i = 0, url; i < nodes.length; i++) {\n",
        "                if (nodes[i].className.indexOf('dsq-postid') != -1) {\n",
        "                    nodes[i].parentNode.setAttribute('data-disqus-identifier', nodes[i].getAttribute('rel'));\n",
        "                    url = nodes[i].parentNode.href.split('#', 1);\n",
        "                    if (url.length == 1) { url = url[0]; }\n",
        "                    else { url = url[1]; }\n",
        "                    nodes[i].parentNode.href = url + '#disqus_thread';\n",
        "                }\n",
        "            }\n",
        "            var s = document.createElement('script'); s.async = true;\n",
        "            s.type = 'text/javascript';\n",
        "            s.src = '//' + disqus_shortname + '.disqus.com/count.js';\n",
        "            (document.getElementsByTagName('HEAD')[0] || document.getElementsByTagName('BODY')[0]).appendChild(s);\n",
        "        }());\n",
        "    //]]>\n",
        "    </script>\n",
        "<div id=\"moreNotices\">\n",
        "<br />\n",
        "<a href=\"http://tlcxpress.ac.nz/tlc-website/notices/\">More notices?</a>\n",
        "</div>\n",
        "<!-- Recent -->\n",
        "<img class=\"heading\" src=\"/wp-content/themes/xpress/img/headings/recent.png\" alt=\"Recent\" />\n",
        "<ul>\n",
        "<li><a href=\"http://tlcxpress.ac.nz/2014/07/a-trip-to-patea/\">A Trip to Patea</a></li><li><a href=\"http://tlcxpress.ac.nz/2014/07/graduate-profile-jojo-jowett/\">Graduate Profile &#8211; Jojo Jowett</a></li><li><a href=\"http://tlcxpress.ac.nz/2014/07/new-block-week-classes-8th-12th-september/\">New Block Week Classes (8th &#8211; 12th September)</a></li><li><a href=\"http://tlcxpress.ac.nz/2014/07/school-holidays-at-the-learning-connexion/\">School Holidays at the Learning Connexion</a></li><li><a href=\"http://tlcxpress.ac.nz/2014/07/unobtainium-and-creativity/\">Unobtainium and Creativity</a></li></ul>\n",
        "\t</div>\n",
        "\n",
        "</div>\n",
        "\n",
        "<!-- Original Footer -->\r\n",
        "<!-- <div id=\"footer\">\r\n",
        "\t<iframe src=\"http://www.facebook.com/plugins/like.php?href=http%3A%2F%2Ftlcxpress.ac.nz%2F&amp;layout=standard&amp;show_faces=false&amp;width=450&amp;action=like&amp;font=tahoma&amp;colorscheme=light&amp;height=35\" scrolling=\"no\" frameborder=\"0\" style=\"border:none; overflow:hidden; width:350px; height:35px; float: left;\"></iframe>\r\n",
        "\t<p>\r\n",
        "\t\t<a href=\"http://tlc.ac.nz/\">TLC Home</a> | <a href=\"http://tlcstudents.ac.nz/\">TLC Student Home</a> | &copy; 2014 The Learning Connexion\r\n",
        "\t</p>\r\n",
        "</div>\r\n",
        "-->\r\n",
        "\r\n",
        "<!-- New Footer 26/04/2012-->\r\n",
        "<div id=\"footer\">\r\n",
        "<div class=\"images\">\r\n",
        "\t<!-- /wp-content/themes/xpress/img/home.png -->\r\n",
        "\t<a href=\"http://tlc.ac.nz\"><img src=\"/wp-content/themes/xpress/img/footer/tlc.png\" alt=\"TLC.AC.NZ\" /></a>\r\n",
        "\t<a href=\"http://tlcstudents.ac.nz/\"><img src=\"/wp-content/themes/xpress/img/footer/student-site.png\" alt=\"TLC Student Site\" /></a>\r\n",
        "\t<a href=\"http://www.flickr.com/thelearningconnexion/\"><img src=\"/wp-content/themes/xpress/img/footer/flickr.png\" alt=\"TLC's Flickr\" /></a>\r\n",
        "\t<a href=\"http://www.facebook.com/thelearningconnexion\"><img src=\"/wp-content/themes/xpress/img/footer/facebook.png\" alt=\"TLC's Facebook\" /></a>\r\n",
        "\t<a href=\"http://www.youtube.com/user/learningconnexion\"><img src=\"/wp-content/themes/xpress/img/footer/youtube.png\" alt=\"TLC's YouTube\" /></a>\r\n",
        "\t<a href=\"http://twitter.com/#!/tlcxpress\"><img src=\"/wp-content/themes/xpress/img/footer/twitter.png\" alt=\"TLC's Twitter\" /></a>\r\n",
        "</div>\r\n",
        "\t<p>\r\n",
        "\t\t<b>The Learning Connexion</b> - 182 Eastern Hutt Rd, Taita, Lower Hutt 5019\r\n",
        "\t\t<br />\r\n",
        "\t\t0800 ART POWER (278 769)\r\n",
        "\t\tinfo@tlc.ac.nz\r\n",
        "\t\twww.tlc.ac.nz\r\n",
        "\t</p>\r\n",
        "</div>\r\n",
        "</div>\r\n",
        "\r\n",
        "<script type=\"text/javascript\">\r\n",
        "\r\n",
        "  var _gaq = _gaq || [];\r\n",
        "\r\n",
        "  _gaq.push(['_setAccount', 'UA-3260176-3']);\r\n",
        "\r\n",
        "  _gaq.push(['_trackPageview']);\r\n",
        "\r\n",
        "  (function() {\r\n",
        "\r\n",
        "    var ga = document.createElement('script'); ga.type = 'text/javascript'; ga.async = true;\r\n",
        "\r\n",
        "    ga.src = ('https:' == document.location.protocol ? 'https://ssl' : 'http://www') + '.google-analytics.com/ga.js';\r\n",
        "\r\n",
        "    var s = document.getElementsByTagName('script')[0]; s.parentNode.insertBefore(ga, s);\r\n",
        "\r\n",
        "  })();\r\n",
        "\r\n",
        "</script>\r\n",
        "<script type='text/javascript' src='http://tlcxpress.ac.nz/wp-includes/js/jquery/ui/jquery.ui.core.min.js?ver=1.10.4'></script>\n",
        "<script type='text/javascript' src='http://tlcxpress.ac.nz/wp-includes/js/jquery/ui/jquery.ui.widget.min.js?ver=1.10.4'></script>\n",
        "<script type='text/javascript' src='http://tlcxpress.ac.nz/wp-includes/js/jquery/ui/jquery.ui.mouse.min.js?ver=1.10.4'></script>\n",
        "<script type='text/javascript' src='http://tlcxpress.ac.nz/wp-includes/js/jquery/ui/jquery.ui.resizable.min.js?ver=1.10.4'></script>\n",
        "<script type='text/javascript' src='http://tlcxpress.ac.nz/wp-includes/js/jquery/ui/jquery.ui.draggable.min.js?ver=1.10.4'></script>\n",
        "<script type='text/javascript' src='http://tlcxpress.ac.nz/wp-includes/js/jquery/ui/jquery.ui.button.min.js?ver=1.10.4'></script>\n",
        "<script type='text/javascript' src='http://tlcxpress.ac.nz/wp-includes/js/jquery/ui/jquery.ui.position.min.js?ver=1.10.4'></script>\n",
        "<script type='text/javascript' src='http://tlcxpress.ac.nz/wp-includes/js/jquery/ui/jquery.ui.dialog.min.js?ver=1.10.4'></script>\n",
        "<script type='text/javascript' src='http://tlcxpress.ac.nz/wp-content/plugins/social-sharing-toolkit/script_2.1.2.js?ver=3.9.2'></script>\n",
        "<script type='text/javascript' src='//connect.facebook.net/en_US/all.js?ver=3.9.2#xfbml=1&#038;appId=188707654478'></script>\n",
        "<script type='text/javascript' src='http://tlcxpress.ac.nz/wp-content/plugins/social-sharing-toolkit/includes/buttons/button.googleplus.js?ver=3.9.2'></script>\n",
        "<script type='text/javascript' src='https://platform.twitter.com/widgets.js?ver=3.9.2'></script>\n",
        "</body>\r\n",
        "</html>\n"
       ]
      }
     ],
     "prompt_number": 6
    },
    {
     "cell_type": "code",
     "collapsed": false,
     "input": [
      "f = open(\"myfile.txt\", \"a\")\n",
      "\n"
     ],
     "language": "python",
     "metadata": {},
     "outputs": [],
     "prompt_number": 7
    },
    {
     "cell_type": "code",
     "collapsed": false,
     "input": [
      "for data in urlReq:\n",
      "    #print data\n",
      "    \n",
      "    endAte = BeautifulSoup(data)\n",
      "    \n",
      "    #print >> f, '>', endAte\n",
      "    \n",
      "    #laAte = endAte.get_text()\n",
      "    #print laAte\n",
      "    \n",
      "    liAte = endAte.find_all('a')\n",
      "    print liAte\n",
      "    \n",
      "    cntAte = len(liAte)\n",
      "    print cntAte\n",
      "    leAte = endAte.p\n",
      "    #print leAte\n",
      "    \n",
      "    "
     ],
     "language": "python",
     "metadata": {},
     "outputs": [
      {
       "output_type": "stream",
       "stream": "stdout",
       "text": [
        "[]\n",
        "0\n",
        "[]\n",
        "0\n",
        "[]\n",
        "0\n",
        "[]\n",
        "0\n",
        "[]\n",
        "0\n",
        "[]\n",
        "0\n",
        "[]\n",
        "0\n",
        "[]\n",
        "0\n",
        "[]\n",
        "0\n",
        "[]\n",
        "0\n",
        "[]\n",
        "0\n",
        "[]\n",
        "0\n",
        "[]\n",
        "0\n",
        "[]\n",
        "0\n",
        "[]\n",
        "0\n",
        "[]\n",
        "0\n",
        "[]\n",
        "0\n",
        "[]\n",
        "0\n",
        "[]\n",
        "0\n",
        "[]\n",
        "0\n",
        "[]\n",
        "0\n",
        "[]\n",
        "0\n",
        "[]\n",
        "0\n",
        "[]\n",
        "0\n",
        "[]\n",
        "0\n",
        "[]\n",
        "0\n",
        "[]\n",
        "0\n",
        "[]\n",
        "0\n",
        "[]\n",
        "0\n",
        "[]\n",
        "0\n",
        "[]\n",
        "0\n",
        "[]\n",
        "0\n",
        "[<a href=\"/\"></a>]\n",
        "1\n",
        "[<a href=\"/category/out-and-about/\"></a>]\n",
        "1\n",
        "[]\n",
        "0\n",
        "[]\n",
        "0\n",
        "[<a href=\"/category/creativity-hub/\"></a>]\n",
        "1\n",
        "[<a href=\"/category/tlc-people/\"></a>]\n",
        "1\n",
        "[]\n",
        "0\n",
        "[<a href=\"/category/tips-and-tricks/\"></a>]\n",
        "1\n",
        "[]\n",
        "0\n",
        "[]\n",
        "0\n",
        "[]\n",
        "0\n",
        "[]\n",
        "0\n",
        "[]\n",
        "0\n",
        "[]\n",
        "0\n",
        "[]\n",
        "0\n",
        "[<a href=\"http://tlcxpress.ac.nz/2014/07/unobtainium-and-creativity/\">Read more</a>]\n",
        "1\n",
        "[]\n",
        "0\n",
        "[<a href=\"http://tlcxpress.ac.nz/2014/07/a-trip-to-patea/\" rel=\"bookmark\" title=\"Permalink to A Trip to Patea\">A Trip to Pat</a>]\n",
        "1\n",
        "[]\n",
        "0\n",
        "[]\n",
        "0\n",
        "[]\n",
        "0\n",
        "[]\n",
        "0\n",
        "[]\n",
        "0\n",
        "[]\n",
        "0\n",
        "[]\n",
        "0\n",
        "[]\n",
        "0\n",
        "[]\n",
        "0\n",
        "[<a href=\"http://tlcxpress.ac.nz/2014/07/graduate-profile-jojo-jowett/\">Read more</a>]\n",
        "1\n",
        "[]\n",
        "0\n",
        "[]\n",
        "0\n",
        "[]\n",
        "0\n",
        "[]\n",
        "0\n",
        "[]\n",
        "0\n",
        "[<a href=\"http://tlcxpress.ac.nz/2014/07/school-holidays-at-the-learning-connexion/\">Read more</a>]\n",
        "1\n",
        "[]\n",
        "0\n",
        "[]\n",
        "0\n",
        "[]\n",
        "0\n",
        "[]\n",
        "0\n",
        "[]\n",
        "0\n",
        "[]\n",
        "0\n",
        "[]\n",
        "0\n",
        "[<a href=\"/random/\">Read a random article</a>]\n",
        "1\n",
        "[]\n",
        "0\n",
        "[]\n",
        "0\n",
        "[]\n",
        "0\n",
        "[<a href=\"http://tlcxpress.ac.nz/tlc-website/notices/\"></a>]\n",
        "1\n",
        "[]\n",
        "0\n",
        "[]\n",
        "0\n",
        "[<a class=\"notice\" href=\"http://tlcxpress.ac.nz/2014/05/exhibiting-at-the-learning-connexion/\">Exhibiting at The L</a>]\n",
        "1\n",
        "[]\n",
        "0\n",
        "[]\n",
        "0\n",
        "[]\n",
        "0\n",
        "[]\n",
        "0\n",
        "[<a class=\"notice\" href=\"http://tlcxpress.ac.nz/2014/05/the-parkin-drawing-prize/\">The Parkin Drawing Prize</a>]\n",
        "1\n",
        "[]\n",
        "0\n",
        "[]\n",
        "0\n",
        "[]\n",
        "0\n",
        "[]\n",
        "0\n",
        "[]\n",
        "0\n",
        "[]\n",
        "0\n",
        "[]\n",
        "0\n",
        "[]\n",
        "0\n",
        "[]\n",
        "0\n",
        "[]\n",
        "0\n",
        "[]\n",
        "0\n",
        "[]\n",
        "0\n",
        "[]\n",
        "0\n",
        "[]\n",
        "0\n",
        "[<a href=\"http://tlcxpress.ac.nz/tlc-website/notices/\">More notices?</a>]\n",
        "1\n",
        "[]\n",
        "0\n",
        "[]\n",
        "0\n",
        "[]\n",
        "0\n",
        "[]\n",
        "0\n",
        "[]\n",
        "0\n",
        "[]\n",
        "0\n",
        "[]"
       ]
      },
      {
       "output_type": "stream",
       "stream": "stdout",
       "text": [
        "\n",
        "0\n",
        "[]\n",
        "0\n",
        "[<a href=\"http://tlc.ac.nz/\">TLC Home</a>]\n",
        "1\n",
        "[<a href=\"http://tlcstudents.ac.nz/\">TLC Student Home</a>]\n",
        "1\n",
        "[]\n",
        "0\n",
        "[]\n",
        "0\n",
        "[]\n",
        "0\n",
        "[]\n",
        "0\n",
        "[]\n",
        "0\n",
        "[<a href=\"http://www.youtube.com/user/learningconnexion\"></a>]\n",
        "1\n",
        "[<a href=\"http://twitter.com/#!/tlcxpress\"></a>]\n",
        "1\n",
        "[]\n",
        "0\n",
        "[]\n",
        "0\n",
        "[]\n",
        "0\n",
        "[]\n",
        "0\n",
        "[]\n",
        "0\n",
        "[]\n",
        "0\n",
        "[]\n",
        "0\n",
        "[]\n",
        "0\n",
        "[]\n",
        "0\n",
        "[]\n",
        "0\n",
        "[]\n",
        "0\n",
        "[]\n",
        "0\n",
        "[]\n",
        "0\n",
        "[]\n",
        "0\n",
        "[]\n",
        "0\n",
        "[]\n",
        "0\n",
        "[]\n",
        "0\n",
        "[]\n",
        "0\n"
       ]
      }
     ],
     "prompt_number": 8
    },
    {
     "cell_type": "markdown",
     "metadata": {},
     "source": [
      "That's alot of [] that are totally not needed."
     ]
    },
    {
     "cell_type": "code",
     "collapsed": false,
     "input": [
      "%%bash\n",
      "\n",
      "wget \\\n",
      "     --recursive \\\n",
      "     --no-clobber \\\n",
      "     --page-requisites \\\n",
      "     --html-extension \\\n",
      "     --convert-links \\\n",
      "     --restrict-file-names=windows \\\n",
      "     --domains http://www.tlcstudents.ac.nz \\\n",
      "     --no-parent \\\n",
      "         http://www.tlcstudents.ac.nz/home\n"
     ],
     "language": "python",
     "metadata": {},
     "outputs": [
      {
       "output_type": "stream",
       "stream": "stderr",
       "text": [
        "Both --no-clobber and --convert-links were specified,only --convert-links will be used.\n",
        "--2014-08-15 07:30:42--  http://www.tlcstudents.ac.nz/home\n",
        "Resolving www.tlcstudents.ac.nz (www.tlcstudents.ac.nz)... 203.167.233.6\n",
        "Connecting to www.tlcstudents.ac.nz (www.tlcstudents.ac.nz)|203.167.233.6|:80... connected.\n",
        "HTTP request sent, awaiting response... 200 OK\n",
        "Length: 5386 (5.3K) [text/html]\n",
        "Saving to: `www.tlcstudents.ac.nz/home.html'\n",
        "\n",
        "     0K .....                                                 100% 24.4K=0.2s\n",
        "\n",
        "2014-08-15 07:30:42 (24.4 KB/s) - `www.tlcstudents.ac.nz/home.html' saved [5386/5386]\n",
        "\n",
        "FINISHED --2014-08-15 07:30:42--\n",
        "Total wall clock time: 0.7s\n",
        "Downloaded: 1 files, 5.3K in 0.2s (24.4 KB/s)\n",
        "Converting www.tlcstudents.ac.nz/home.html... 2-21\n",
        "Converted 1 files in 0.02 seconds.\n"
       ]
      }
     ],
     "prompt_number": 33
    },
    {
     "cell_type": "code",
     "collapsed": false,
     "input": [
      "openSlc = open('home.html','r')\n"
     ],
     "language": "python",
     "metadata": {},
     "outputs": [
      {
       "ename": "IOError",
       "evalue": "[Errno 2] No such file or directory: 'home.html'",
       "output_type": "pyerr",
       "traceback": [
        "\u001b[1;31m---------------------------------------------------------------------------\u001b[0m\n\u001b[1;31mIOError\u001b[0m                                   Traceback (most recent call last)",
        "\u001b[1;32m<ipython-input-10-3076399d2bdb>\u001b[0m in \u001b[0;36m<module>\u001b[1;34m()\u001b[0m\n\u001b[1;32m----> 1\u001b[1;33m \u001b[0mopenSlc\u001b[0m \u001b[1;33m=\u001b[0m \u001b[0mopen\u001b[0m\u001b[1;33m(\u001b[0m\u001b[1;34m'home.html'\u001b[0m\u001b[1;33m,\u001b[0m\u001b[1;34m'r'\u001b[0m\u001b[1;33m)\u001b[0m\u001b[1;33m\u001b[0m\u001b[0m\n\u001b[0m",
        "\u001b[1;31mIOError\u001b[0m: [Errno 2] No such file or directory: 'home.html'"
       ]
      }
     ],
     "prompt_number": 10
    },
    {
     "cell_type": "code",
     "collapsed": false,
     "input": [
      "opz = open('result','w')\n",
      "for slc in openSlc:\n",
      "    print slc[0]\n",
      "\n",
      "opz.write(slc)\n",
      "    \n",
      "    "
     ],
     "language": "python",
     "metadata": {},
     "outputs": [
      {
       "ename": "NameError",
       "evalue": "name 'openSlc' is not defined",
       "output_type": "pyerr",
       "traceback": [
        "\u001b[1;31m---------------------------------------------------------------------------\u001b[0m\n\u001b[1;31mNameError\u001b[0m                                 Traceback (most recent call last)",
        "\u001b[1;32m<ipython-input-11-a5a5a36693f1>\u001b[0m in \u001b[0;36m<module>\u001b[1;34m()\u001b[0m\n\u001b[0;32m      1\u001b[0m \u001b[0mopz\u001b[0m \u001b[1;33m=\u001b[0m \u001b[0mopen\u001b[0m\u001b[1;33m(\u001b[0m\u001b[1;34m'result'\u001b[0m\u001b[1;33m,\u001b[0m\u001b[1;34m'w'\u001b[0m\u001b[1;33m)\u001b[0m\u001b[1;33m\u001b[0m\u001b[0m\n\u001b[1;32m----> 2\u001b[1;33m \u001b[1;32mfor\u001b[0m \u001b[0mslc\u001b[0m \u001b[1;32min\u001b[0m \u001b[0mopenSlc\u001b[0m\u001b[1;33m:\u001b[0m\u001b[1;33m\u001b[0m\u001b[0m\n\u001b[0m\u001b[0;32m      3\u001b[0m     \u001b[1;32mprint\u001b[0m \u001b[0mslc\u001b[0m\u001b[1;33m[\u001b[0m\u001b[1;36m0\u001b[0m\u001b[1;33m]\u001b[0m\u001b[1;33m\u001b[0m\u001b[0m\n\u001b[0;32m      4\u001b[0m \u001b[1;33m\u001b[0m\u001b[0m\n\u001b[0;32m      5\u001b[0m \u001b[0mopz\u001b[0m\u001b[1;33m.\u001b[0m\u001b[0mwrite\u001b[0m\u001b[1;33m(\u001b[0m\u001b[0mslc\u001b[0m\u001b[1;33m)\u001b[0m\u001b[1;33m\u001b[0m\u001b[0m\n",
        "\u001b[1;31mNameError\u001b[0m: name 'openSlc' is not defined"
       ]
      }
     ],
     "prompt_number": 11
    },
    {
     "cell_type": "code",
     "collapsed": false,
     "input": [
      "endAte = BeautifulSoup(slc)\n",
      "print endAte\n",
      "    \n",
      "laAte = endAte.get_text()\n",
      "print laAte\n",
      "    \n",
      "liAte = endAte.find_all('a')\n",
      "print liAte\n",
      "cntAte = len(liAte)\n",
      "#print cntAte\n",
      "\n",
      "leAte = endAte.p\n",
      "#print leAte"
     ],
     "language": "python",
     "metadata": {},
     "outputs": [
      {
       "ename": "NameError",
       "evalue": "name 'slc' is not defined",
       "output_type": "pyerr",
       "traceback": [
        "\u001b[1;31m---------------------------------------------------------------------------\u001b[0m\n\u001b[1;31mNameError\u001b[0m                                 Traceback (most recent call last)",
        "\u001b[1;32m<ipython-input-12-54fdcf37473b>\u001b[0m in \u001b[0;36m<module>\u001b[1;34m()\u001b[0m\n\u001b[1;32m----> 1\u001b[1;33m \u001b[0mendAte\u001b[0m \u001b[1;33m=\u001b[0m \u001b[0mBeautifulSoup\u001b[0m\u001b[1;33m(\u001b[0m\u001b[0mslc\u001b[0m\u001b[1;33m)\u001b[0m\u001b[1;33m\u001b[0m\u001b[0m\n\u001b[0m\u001b[0;32m      2\u001b[0m \u001b[1;32mprint\u001b[0m \u001b[0mendAte\u001b[0m\u001b[1;33m\u001b[0m\u001b[0m\n\u001b[0;32m      3\u001b[0m \u001b[1;33m\u001b[0m\u001b[0m\n\u001b[0;32m      4\u001b[0m \u001b[0mlaAte\u001b[0m \u001b[1;33m=\u001b[0m \u001b[0mendAte\u001b[0m\u001b[1;33m.\u001b[0m\u001b[0mget_text\u001b[0m\u001b[1;33m(\u001b[0m\u001b[1;33m)\u001b[0m\u001b[1;33m\u001b[0m\u001b[0m\n\u001b[0;32m      5\u001b[0m \u001b[1;32mprint\u001b[0m \u001b[0mlaAte\u001b[0m\u001b[1;33m\u001b[0m\u001b[0m\n",
        "\u001b[1;31mNameError\u001b[0m: name 'slc' is not defined"
       ]
      }
     ],
     "prompt_number": 12
    },
    {
     "cell_type": "code",
     "collapsed": false,
     "input": [
      "filOpn = open('myfile.txt','r')\n",
      "blehDat = filOpn.read()"
     ],
     "language": "python",
     "metadata": {},
     "outputs": [],
     "prompt_number": 14
    },
    {
     "cell_type": "code",
     "collapsed": false,
     "input": [
      "print blehDat"
     ],
     "language": "python",
     "metadata": {},
     "outputs": [
      {
       "output_type": "stream",
       "stream": "stdout",
       "text": [
        "\n"
       ]
      }
     ],
     "prompt_number": 15
    },
    {
     "cell_type": "code",
     "collapsed": false,
     "input": [
      "blehDat = BeautifulSoup(blehDat)"
     ],
     "language": "python",
     "metadata": {},
     "outputs": [],
     "prompt_number": 16
    },
    {
     "cell_type": "code",
     "collapsed": false,
     "input": [
      "classz = blehDat.find_all([\"a\"])"
     ],
     "language": "python",
     "metadata": {},
     "outputs": [],
     "prompt_number": 17
    },
    {
     "cell_type": "code",
     "collapsed": false,
     "input": [
      "print classz.sort"
     ],
     "language": "python",
     "metadata": {},
     "outputs": [
      {
       "output_type": "stream",
       "stream": "stdout",
       "text": [
        "<built-in method sort of ResultSet object at 0x2733d08>\n"
       ]
      }
     ],
     "prompt_number": 18
    },
    {
     "cell_type": "code",
     "collapsed": false,
     "input": [
      "classString = str(classz)"
     ],
     "language": "python",
     "metadata": {},
     "outputs": [],
     "prompt_number": 19
    },
    {
     "cell_type": "code",
     "collapsed": false,
     "input": [
      "print classz[0]"
     ],
     "language": "python",
     "metadata": {},
     "outputs": [
      {
       "ename": "IndexError",
       "evalue": "list index out of range",
       "output_type": "pyerr",
       "traceback": [
        "\u001b[1;31m---------------------------------------------------------------------------\u001b[0m\n\u001b[1;31mIndexError\u001b[0m                                Traceback (most recent call last)",
        "\u001b[1;32m<ipython-input-20-2703ccb25781>\u001b[0m in \u001b[0;36m<module>\u001b[1;34m()\u001b[0m\n\u001b[1;32m----> 1\u001b[1;33m \u001b[1;32mprint\u001b[0m \u001b[0mclassz\u001b[0m\u001b[1;33m[\u001b[0m\u001b[1;36m0\u001b[0m\u001b[1;33m]\u001b[0m\u001b[1;33m\u001b[0m\u001b[0m\n\u001b[0m",
        "\u001b[1;31mIndexError\u001b[0m: list index out of range"
       ]
      }
     ],
     "prompt_number": 20
    },
    {
     "cell_type": "code",
     "collapsed": false,
     "input": [
      "tlcSite = open('tlchome.html', 'w')"
     ],
     "language": "python",
     "metadata": {},
     "outputs": [],
     "prompt_number": 21
    },
    {
     "cell_type": "code",
     "collapsed": false,
     "input": [
      "tlcSite.write(classString)"
     ],
     "language": "python",
     "metadata": {},
     "outputs": [],
     "prompt_number": 22
    },
    {
     "cell_type": "code",
     "collapsed": false,
     "input": [
      "tlcSite.close()"
     ],
     "language": "python",
     "metadata": {},
     "outputs": [],
     "prompt_number": 23
    },
    {
     "cell_type": "code",
     "collapsed": false,
     "input": [
      "openClass = open('tlchome.html', 'r')"
     ],
     "language": "python",
     "metadata": {},
     "outputs": [],
     "prompt_number": 24
    },
    {
     "cell_type": "code",
     "collapsed": false,
     "input": [],
     "language": "python",
     "metadata": {},
     "outputs": [],
     "prompt_number": 24
    },
    {
     "cell_type": "code",
     "collapsed": false,
     "input": [
      "openClass.readlines()"
     ],
     "language": "python",
     "metadata": {},
     "outputs": [
      {
       "metadata": {},
       "output_type": "pyout",
       "prompt_number": 25,
       "text": [
        "['[]']"
       ]
      }
     ],
     "prompt_number": 25
    },
    {
     "cell_type": "code",
     "collapsed": false,
     "input": [
      "openClass.close()"
     ],
     "language": "python",
     "metadata": {},
     "outputs": [],
     "prompt_number": 26
    },
    {
     "cell_type": "code",
     "collapsed": false,
     "input": [
      "last_link = blehDat.find(\"a\")"
     ],
     "language": "python",
     "metadata": {},
     "outputs": [],
     "prompt_number": 27
    },
    {
     "cell_type": "code",
     "collapsed": false,
     "input": [
      "print last_link"
     ],
     "language": "python",
     "metadata": {},
     "outputs": [
      {
       "output_type": "stream",
       "stream": "stdout",
       "text": [
        "None\n"
       ]
      }
     ],
     "prompt_number": 28
    },
    {
     "cell_type": "code",
     "collapsed": false,
     "input": [
      "blehDat.title"
     ],
     "language": "python",
     "metadata": {},
     "outputs": [],
     "prompt_number": 29
    },
    {
     "cell_type": "code",
     "collapsed": false,
     "input": [
      "blehDat.title.name"
     ],
     "language": "python",
     "metadata": {},
     "outputs": [
      {
       "ename": "AttributeError",
       "evalue": "'NoneType' object has no attribute 'name'",
       "output_type": "pyerr",
       "traceback": [
        "\u001b[1;31m---------------------------------------------------------------------------\u001b[0m\n\u001b[1;31mAttributeError\u001b[0m                            Traceback (most recent call last)",
        "\u001b[1;32m<ipython-input-30-2d5093e0e9c9>\u001b[0m in \u001b[0;36m<module>\u001b[1;34m()\u001b[0m\n\u001b[1;32m----> 1\u001b[1;33m \u001b[0mblehDat\u001b[0m\u001b[1;33m.\u001b[0m\u001b[0mtitle\u001b[0m\u001b[1;33m.\u001b[0m\u001b[0mname\u001b[0m\u001b[1;33m\u001b[0m\u001b[0m\n\u001b[0m",
        "\u001b[1;31mAttributeError\u001b[0m: 'NoneType' object has no attribute 'name'"
       ]
      }
     ],
     "prompt_number": 30
    },
    {
     "cell_type": "code",
     "collapsed": false,
     "input": [
      "blehDat.title.string"
     ],
     "language": "python",
     "metadata": {},
     "outputs": [
      {
       "ename": "AttributeError",
       "evalue": "'NoneType' object has no attribute 'string'",
       "output_type": "pyerr",
       "traceback": [
        "\u001b[1;31m---------------------------------------------------------------------------\u001b[0m\n\u001b[1;31mAttributeError\u001b[0m                            Traceback (most recent call last)",
        "\u001b[1;32m<ipython-input-31-055eabcfcbeb>\u001b[0m in \u001b[0;36m<module>\u001b[1;34m()\u001b[0m\n\u001b[1;32m----> 1\u001b[1;33m \u001b[0mblehDat\u001b[0m\u001b[1;33m.\u001b[0m\u001b[0mtitle\u001b[0m\u001b[1;33m.\u001b[0m\u001b[0mstring\u001b[0m\u001b[1;33m\u001b[0m\u001b[0m\n\u001b[0m",
        "\u001b[1;31mAttributeError\u001b[0m: 'NoneType' object has no attribute 'string'"
       ]
      }
     ],
     "prompt_number": 31
    },
    {
     "cell_type": "code",
     "collapsed": false,
     "input": [
      "blehDat.text"
     ],
     "language": "python",
     "metadata": {},
     "outputs": [
      {
       "metadata": {},
       "output_type": "pyout",
       "prompt_number": 32,
       "text": [
        "u''"
       ]
      }
     ],
     "prompt_number": 32
    },
    {
     "cell_type": "code",
     "collapsed": false,
     "input": [],
     "language": "python",
     "metadata": {},
     "outputs": [],
     "prompt_number": 41
    },
    {
     "cell_type": "code",
     "collapsed": false,
     "input": [],
     "language": "python",
     "metadata": {},
     "outputs": [],
     "prompt_number": 41
    },
    {
     "cell_type": "code",
     "collapsed": false,
     "input": [],
     "language": "python",
     "metadata": {},
     "outputs": [],
     "prompt_number": 41
    },
    {
     "cell_type": "code",
     "collapsed": false,
     "input": [],
     "language": "python",
     "metadata": {},
     "outputs": []
    }
   ],
   "metadata": {}
  }
 ]
}