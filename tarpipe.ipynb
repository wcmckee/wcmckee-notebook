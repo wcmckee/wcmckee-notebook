{
 "metadata": {
  "name": "",
  "signature": "sha256:c003ee0ecd25385f8306a3f36ade73afcea5e23f6f9d7433242a5049ee4298f3"
 },
 "nbformat": 3,
 "nbformat_minor": 0,
 "worksheets": [
  {
   "cells": [
    {
     "cell_type": "code",
     "collapsed": false,
     "input": [
      "#%%bash\n",
      "#tar zcvf - /home/public/cam | ssh pi@10.1.1.14 \"cat > /home/pi/sativacam.tar.gz\"\n",
      "#sudo rm /home/public/cam/*"
     ],
     "language": "python",
     "metadata": {},
     "outputs": [],
     "prompt_number": 7
    },
    {
     "cell_type": "code",
     "collapsed": false,
     "input": [
      "import tarfile"
     ],
     "language": "python",
     "metadata": {},
     "outputs": [],
     "prompt_number": 8
    },
    {
     "cell_type": "code",
     "collapsed": false,
     "input": [
      "ls"
     ],
     "language": "python",
     "metadata": {},
     "outputs": [
      {
       "output_type": "stream",
       "stream": "stdout",
       "text": [
        "adypost.ipynb  carparks        \u001b[0m\u001b[01;32mjob.sh\u001b[0m*         rgdsnatch.ipynb  test.ipynb          utils.py\r\n",
        "adypost.py     getdrawn.ipynb  markdown.ipynb  \u001b[01;32mrgdsnatch.py\u001b[0m*    test.py             wiki.md\r\n",
        "brief.txt      \u001b[01;32mgetdrawn.py\u001b[0m*    markdown.py     style.css        url redirect.ipynb\r\n",
        "bugit.ipynb    index.html      pyatakl.ipynb   tarpipe.ipynb    url redirect.py\r\n",
        "bugit.py       __init__.py     pyatakl.py      tarpipe.py       utils.ipynb\r\n"
       ]
      }
     ],
     "prompt_number": 3
    },
    {
     "cell_type": "code",
     "collapsed": false,
     "input": [
      "tar = tarfile.open(\"sativacam.tar.gz\", \"w:gz\")\n",
      "tar.add(\"/home/public/cam\", arcname=\"TarName\")\n",
      "tar.close()"
     ],
     "language": "python",
     "metadata": {},
     "outputs": [],
     "prompt_number": 4
    },
    {
     "cell_type": "code",
     "collapsed": false,
     "input": [
      "ls -l"
     ],
     "language": "python",
     "metadata": {},
     "outputs": [
      {
       "output_type": "stream",
       "stream": "stdout",
       "text": [
        "total 832560\r\n",
        "-rw-r--r-- 1 public public     29248 Jun 29 12:31 adypost.ipynb\r\n",
        "-rw-r--r-- 1 public public       531 Jun 29 12:31 adypost.py\r\n",
        "-rw-r--r-- 1 public public       289 Jun 29 12:31 brief.txt\r\n",
        "-rw-r--r-- 1 public public     10903 Jun 29 13:52 bugit.ipynb\r\n",
        "-rw-r--r-- 1 public public       956 Jun 29 13:52 bugit.py\r\n",
        "-rw-r--r-- 1 public public         0 Jun 29 12:31 carparks\r\n",
        "-rw-r--r-- 1 public public    869277 Jun 29 12:31 getdrawn.ipynb\r\n",
        "-rwxr-xr-x 1 public public      6878 Jun 29 12:31 \u001b[0m\u001b[01;32mgetdrawn.py\u001b[0m*\r\n",
        "-rw-r--r-- 1 public public         0 Jun 29 12:31 index.html\r\n",
        "-rw-r--r-- 1 public public       123 Jun 29 12:31 __init__.py\r\n",
        "-rwxr-xr-x 1 public public        32 Jun 29 12:31 \u001b[01;32mjob.sh\u001b[0m*\r\n",
        "-rw-r--r-- 1 public public      3118 Jun 29 12:31 markdown.ipynb\r\n",
        "-rw-r--r-- 1 public public      1409 Jun 29 12:31 markdown.py\r\n",
        "-rw-r--r-- 1 public public     60876 Jun 29 12:31 pyatakl.ipynb\r\n",
        "-rw-r--r-- 1 public public      5419 Jun 29 12:31 pyatakl.py\r\n",
        "-rw-r--r-- 1 public public     41445 Jun 29 12:31 rgdsnatch.ipynb\r\n",
        "-rwxr-xr-x 1 public public      3921 Jun 29 12:31 \u001b[01;32mrgdsnatch.py\u001b[0m*\r\n",
        "-rw-r--r-- 1 public public 850561914 Jul  1 19:23 sativacam.tar.gz\r\n",
        "-rw-r--r-- 1 public public      9759 Jun 29 12:31 style.css\r\n",
        "-rw-r--r-- 1 public public      3083 Jul  1 19:24 tarpipe.ipynb\r\n",
        "-rw-r--r-- 1 public public       484 Jul  1 19:24 tarpipe.py\r\n",
        "-rw-r--r-- 1 public public      4052 Jun 29 12:31 test.ipynb\r\n",
        "-rw-r--r-- 1 public public       375 Jun 29 12:31 test.py\r\n",
        "-rw-r--r-- 1 public public      4769 Jun 29 12:31 url redirect.ipynb\r\n",
        "-rw-r--r-- 1 public public       618 Jun 29 12:31 url redirect.py\r\n",
        "-rw-r--r-- 1 public public      2266 Jun 29 12:31 utils.ipynb\r\n",
        "-rw-r--r-- 1 public public      1354 Jun 29 12:31 utils.py\r\n",
        "-rw-r--r-- 1 public public     10541 Jun 29 12:31 wiki.md\r\n"
       ]
      }
     ],
     "prompt_number": 6
    },
    {
     "cell_type": "code",
     "collapsed": false,
     "input": [
      "ls"
     ],
     "language": "python",
     "metadata": {},
     "outputs": []
    },
    {
     "cell_type": "code",
     "collapsed": false,
     "input": [],
     "language": "python",
     "metadata": {},
     "outputs": []
    }
   ],
   "metadata": {}
  }
 ]
}