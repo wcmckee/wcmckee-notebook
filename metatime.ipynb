{
 "metadata": {
  "name": "",
  "signature": "sha256:ab180a903e2e67b0b70df09bd42a740ae9c5554dcddb29827c63be7df2405dc5"
 },
 "nbformat": 3,
 "nbformat_minor": 0,
 "worksheets": [
  {
   "cells": [
    {
     "cell_type": "code",
     "collapsed": false,
     "input": [
      "import os\n",
      "\n",
      "os.chdir('/home/wcmckee/meta')"
     ],
     "language": "python",
     "metadata": {},
     "outputs": [],
     "prompt_number": 6
    },
    {
     "cell_type": "code",
     "collapsed": false,
     "input": [
      "os.mkdir('/home/wcmckee/meta')"
     ],
     "language": "python",
     "metadata": {},
     "outputs": [],
     "prompt_number": 3
    },
    {
     "cell_type": "code",
     "collapsed": false,
     "input": [
      "ls"
     ],
     "language": "python",
     "metadata": {},
     "outputs": [
      {
       "output_type": "stream",
       "stream": "stdout",
       "text": [
        "\u001b[0m\u001b[01;34mtime\u001b[0m/\r\n"
       ]
      }
     ],
     "prompt_number": 7
    },
    {
     "cell_type": "code",
     "collapsed": false,
     "input": [
      "cd time"
     ],
     "language": "python",
     "metadata": {},
     "outputs": [
      {
       "output_type": "stream",
       "stream": "stdout",
       "text": [
        "/home/wcmckee/meta/time\n"
       ]
      }
     ],
     "prompt_number": 8
    },
    {
     "cell_type": "code",
     "collapsed": false,
     "input": [
      "ls"
     ],
     "language": "python",
     "metadata": {},
     "outputs": [
      {
       "output_type": "stream",
       "stream": "stdout",
       "text": [
        "bula    four           lucky      sativa       smoketest\r\n",
        "eight   fuckthepolice  mokopapa   seven        tekau\r\n",
        "eleven  hipi           one        six          three\r\n",
        "figlet  indica         poaka      sleepy       twelve\r\n",
        "five    kiore          prototype  smokescreen  two\r\n"
       ]
      }
     ],
     "prompt_number": 34
    },
    {
     "cell_type": "code",
     "collapsed": false,
     "input": [
      "rdfil = open('indica', 'r')"
     ],
     "language": "python",
     "metadata": {},
     "outputs": [],
     "prompt_number": 43
    },
    {
     "cell_type": "code",
     "collapsed": false,
     "input": [],
     "language": "python",
     "metadata": {},
     "outputs": [],
     "prompt_number": 43
    },
    {
     "cell_type": "code",
     "collapsed": false,
     "input": [
      "newfilz = rdfil.read()"
     ],
     "language": "python",
     "metadata": {},
     "outputs": [],
     "prompt_number": 44
    },
    {
     "cell_type": "code",
     "collapsed": false,
     "input": [],
     "language": "python",
     "metadata": {},
     "outputs": [],
     "prompt_number": 52
    },
    {
     "cell_type": "code",
     "collapsed": false,
     "input": [
      "nezflz"
     ],
     "language": "python",
     "metadata": {},
     "outputs": [
      {
       "metadata": {},
       "output_type": "pyout",
       "prompt_number": 53,
       "text": [
        "<function readinto>"
       ]
      }
     ],
     "prompt_number": 53
    },
    {
     "cell_type": "code",
     "collapsed": false,
     "input": [
      "newfilz"
     ],
     "language": "python",
     "metadata": {},
     "outputs": [
      {
       "metadata": {},
       "output_type": "pyout",
       "prompt_number": 54,
       "text": [
        "'07/02/14-15:18 \\n07/02/14-15:19 \\n07/02/14-15:20 \\n07/02/14-15:21 \\n07/02/14-15:23 wcmckee\\n07/02/14-15:24 wcmckee\\n07/02/14-15:25 wcmckee\\n07/02/14-15:26 wcmckee\\n07/02/14-15:27 wcmckee\\n07/02/14-15:28 wcmckee\\n07/02/14-15:29 wcmckee\\n07/02/14-15:30 wcmckee\\n07/02/14-15:31 wcmckee\\n07/02/14-15:32 wcmckee\\n07/02/14-15:33 wcmckee\\n07/02/14-15:34 wcmckee\\n07/02/14-15:35 wcmckee\\n07/02/14-15:36 wcmckee\\n07/02/14-15:37 wcmckee\\n07/02/14-15:38 wcmckee\\n07/02/14-15:39 wcmckee\\n07/02/14-15:40 wcmckee\\n07/02/14-15:41 wcmckee\\n07/02/14-15:42 wcmckee\\n07/02/14-15:43 wcmckee\\n07/02/14-15:44 wcmckee\\n07/02/14-15:45 wcmckee\\n07/02/14-15:46 wcmckee\\n07/02/14-15:47 wcmckee\\n07/02/14-15:48 wcmckee\\n07/02/14-15:49 wcmckee\\n07/02/14-15:50 wcmckee\\n07/02/14-15:51 wcmckee\\n07/02/14-15:52 wcmckee\\n07/02/14-15:53 wcmckee\\n07/02/14-15:54 wcmckee\\n07/02/14-15:55 wcmckee\\n07/02/14-15:56 wcmckee\\n07/02/14-15:57 wcmckee\\n07/02/14-15:58 wcmckee\\n07/02/14-15:59 wcmckee\\n07/02/14-16:00 wcmckee\\n07/02/14-16:01 wcmckee\\n07/02/14-16:02 wcmckee\\n07/02/14-16:03 wcmckee\\n07/02/14-16:04 wcmckee\\n07/02/14-16:05 wcmckee\\n07/02/14-16:06 wcmckee\\n07/02/14-16:07 wcmckee\\n07/02/14-16:08 wcmckee\\n07/02/14-16:09 wcmckee\\n07/02/14-16:10 wcmckee\\n07/02/14-16:11 wcmckee\\n07/02/14-16:12 wcmckee\\n07/02/14-16:13 wcmckee\\n07/02/14-16:14 wcmckee\\n07/02/14-16:15 wcmckee\\n07/02/14-16:16 wcmckee\\n07/02/14-16:17 wcmckee\\n07/02/14-16:18 wcmckee\\n07/02/14-16:19 wcmckee\\n07/02/14-16:20 wcmckee\\n07/02/14-16:21 wcmckee\\n07/02/14-16:22 wcmckee\\n07/02/14-16:23 wcmckee\\n07/02/14-16:24 wcmckee\\n07/02/14-16:25 wcmckee\\n07/02/14-16:26 wcmckee\\n07/02/14-16:27 wcmckee\\n07/02/14-16:28 wcmckee\\n07/02/14-16:29 wcmckee\\n07/02/14-16:30 wcmckee\\n07/02/14-16:31 wcmckee\\n07/02/14-16:32 wcmckee\\n07/02/14-16:33 wcmckee\\n07/02/14-16:34 wcmckee\\n07/02/14-16:35 wcmckee\\n07/02/14-16:36 wcmckee\\n07/02/14-16:37 wcmckee\\n07/02/14-16:38 wcmckee\\n07/02/14-16:39 wcmckee\\n07/02/14-16:40 wcmckee\\n07/02/14-16:41 wcmckee\\n07/02/14-16:42 wcmckee\\n07/02/14-16:43 wcmckee\\n07/02/14-16:44 wcmckee\\n07/02/14-16:45 wcmckee\\n07/02/14-16:46 wcmckee\\n07/02/14-16:47 wcmckee\\n07/02/14-16:48 wcmckee\\n07/02/14-16:49 wcmckee\\n07/02/14-16:50 wcmckee\\n07/02/14-16:51 wcmckee\\n07/02/14-16:52 wcmckee\\n07/02/14-16:53 wcmckee\\n07/02/14-16:58 wcmckee\\n07/02/14-16:59 wcmckee\\n07/02/14-17:00 wcmckee\\n07/02/14-17:01 wcmckee\\n07/02/14-17:02 wcmckee\\n07/02/14-17:03 wcmckee\\n07/02/14-17:04 wcmckee\\n07/02/14-17:05 wcmckee\\n07/02/14-17:06 wcmckee\\n07/02/14-17:07 wcmckee\\n07/02/14-17:08 wcmckee\\n07/02/14-17:09 wcmckee\\n07/02/14-17:10 wcmckee\\n07/02/14-17:11 wcmckee\\n07/02/14-17:12 wcmckee\\n07/02/14-17:13 wcmckee\\n07/02/14-17:14 wcmckee\\n07/02/14-17:15 wcmckee\\n07/02/14-17:16 wcmckee\\n07/02/14-17:17 wcmckee\\n07/02/14-17:18 wcmckee\\n07/02/14-17:19 wcmckee\\n07/02/14-17:20 wcmckee\\n07/02/14-17:21 wcmckee\\n07/02/14-17:22 wcmckee\\n07/02/14-17:23 wcmckee\\n07/02/14-17:24 wcmckee\\n07/02/14-17:25 wcmckee\\n07/02/14-17:26 wcmckee\\n07/02/14-17:27 wcmckee\\n07/02/14-17:28 wcmckee\\n07/02/14-17:29 wcmckee\\n07/02/14-17:30 wcmckee\\n07/02/14-17:31 wcmckee\\n07/02/14-17:32 wcmckee\\n07/02/14-17:33 wcmckee\\n07/02/14-17:34 wcmckee\\n07/02/14-17:35 wcmckee\\n07/02/14-17:36 wcmckee\\n07/02/14-17:37 wcmckee\\n07/02/14-17:38 wcmckee\\n07/02/14-17:39 wcmckee\\n07/02/14-17:40 wcmckee\\n07/02/14-17:41 wcmckee\\n07/02/14-17:42 wcmckee\\n07/02/14-17:43 wcmckee\\n07/02/14-17:44 wcmckee\\n07/02/14-17:45 wcmckee\\n07/02/14-17:46 wcmckee\\n07/02/14-17:47 wcmckee\\n07/02/14-17:48 wcmckee\\n07/02/14-17:49 wcmckee\\n07/02/14-17:50 wcmckee\\n07/02/14-17:51 wcmckee\\n07/02/14-17:52 wcmckee\\n07/02/14-17:53 wcmckee\\n07/02/14-17:54 wcmckee\\n07/02/14-17:55 wcmckee\\n07/02/14-17:56 wcmckee\\n07/02/14-17:57 wcmckee\\n07/02/14-17:58 wcmckee\\n07/02/14-17:59 wcmckee\\n07/02/14-18:00 wcmckee\\n07/02/14-18:01 wcmckee\\n07/02/14-18:02 wcmckee\\n07/02/14-18:03 wcmckee\\n07/02/14-18:04 wcmckee\\n07/02/14-18:05 wcmckee\\n07/02/14-18:06 wcmckee\\n07/02/14-18:07 wcmckee\\n07/02/14-18:08 wcmckee\\n07/02/14-18:09 wcmckee\\n07/02/14-18:10 wcmckee\\n07/02/14-18:11 wcmckee\\n07/02/14-18:12 wcmckee\\n07/02/14-18:13 wcmckee\\n07/02/14-18:14 wcmckee\\n07/02/14-18:15 wcmckee\\n07/02/14-18:16 wcmckee\\n07/02/14-18:17 wcmckee\\n07/02/14-18:18 wcmckee\\n07/02/14-18:19 wcmckee\\n07/02/14-18:20 wcmckee\\n07/02/14-18:21 wcmckee\\n07/02/14-18:22 wcmckee\\n07/02/14-18:23 wcmckee\\n07/02/14-18:24 wcmckee\\n07/02/14-18:25 wcmckee\\n07/02/14-18:26 wcmckee\\n07/02/14-18:27 wcmckee\\n07/02/14-18:28 wcmckee\\n07/02/14-18:29 wcmckee\\n07/02/14-18:30 wcmckee\\n07/02/14-18:31 wcmckee\\n07/02/14-18:32 wcmckee\\n07/02/14-18:33 wcmckee\\n07/02/14-18:34 wcmckee\\n'"
       ]
      }
     ],
     "prompt_number": 54
    },
    {
     "cell_type": "code",
     "collapsed": false,
     "input": [],
     "language": "python",
     "metadata": {},
     "outputs": []
    }
   ],
   "metadata": {}
  }
 ]
}