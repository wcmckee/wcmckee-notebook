{
 "metadata": {
  "name": "",
  "signature": "sha256:dba4d5bd394a24e4e01215f4fd33fb50ad446a8a957718e97fbcc9fd4556e4cc"
 },
 "nbformat": 3,
 "nbformat_minor": 0,
 "worksheets": [
  {
   "cells": [
    {
     "cell_type": "markdown",
     "metadata": {},
     "source": [
      "technology review.\n",
      "\n",
      "saving torrent files, bunch of mp3 files (music folder) if avi go into movie folder, if sample etc (3) goes videos. "
     ]
    }
   ],
   "metadata": {}
  }
 ]
}