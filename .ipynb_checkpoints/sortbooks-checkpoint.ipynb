{
 "metadata": {
  "name": "",
  "signature": "sha256:3a4b901e79925e3159570564de9a754786c68426fcfa6d61ee8372f2baf5790d"
 },
 "nbformat": 3,
 "nbformat_minor": 0,
 "worksheets": [
  {
   "cells": [
    {
     "cell_type": "markdown",
     "metadata": {},
     "source": [
      "This is a script to get all notebooks from a github user and download, turning them into rst pages."
     ]
    },
    {
     "cell_type": "code",
     "collapsed": false,
     "input": [
      "ls"
     ],
     "language": "python",
     "metadata": {},
     "outputs": [
      {
       "output_type": "stream",
       "stream": "stdout",
       "text": [
        "\u001b[0m\u001b[01;34martcontrol-api\u001b[0m/  \u001b[01;34mBeOk\u001b[0m/       \u001b[01;34mnotebooks\u001b[0m/  \u001b[01;34mpybackupz\u001b[0m/   \u001b[01;34mpywp-post\u001b[0m/     \u001b[01;34mRedditPress\u001b[0m/  \u001b[01;34mwirepil\u001b[0m/\r\n",
        "\u001b[01;34mbbc2wp\u001b[0m/          \u001b[01;34mintercity\u001b[0m/  \u001b[01;34mpyatakl\u001b[0m/    \u001b[01;34mpyunderdog\u001b[0m/  \u001b[01;34mRedditePress\u001b[0m/  \u001b[01;34mskins\u001b[0m/\r\n"
       ]
      }
     ],
     "prompt_number": 43
    },
    {
     "cell_type": "code",
     "collapsed": false,
     "input": [
      "import os"
     ],
     "language": "python",
     "metadata": {},
     "outputs": [],
     "prompt_number": 44
    },
    {
     "cell_type": "code",
     "collapsed": false,
     "input": [
      "listkindy = list(os.listdir(os.getcwd())"
     ],
     "language": "python",
     "metadata": {},
     "outputs": [
      {
       "ename": "SyntaxError",
       "evalue": "unexpected EOF while parsing (<ipython-input-45-602fb1135544>, line 1)",
       "output_type": "pyerr",
       "traceback": [
        "\u001b[1;36m  File \u001b[1;32m\"<ipython-input-45-602fb1135544>\"\u001b[1;36m, line \u001b[1;32m1\u001b[0m\n\u001b[1;33m    listkindy = list(os.listdir(os.getcwd())\u001b[0m\n\u001b[1;37m                                            ^\u001b[0m\n\u001b[1;31mSyntaxError\u001b[0m\u001b[1;31m:\u001b[0m unexpected EOF while parsing\n"
       ]
      }
     ],
     "prompt_number": 45
    },
    {
     "cell_type": "code",
     "collapsed": false,
     "input": [
      "os.listdir(os.getcwd)"
     ],
     "language": "python",
     "metadata": {},
     "outputs": [
      {
       "ename": "TypeError",
       "evalue": "coercing to Unicode: need string or buffer, builtin_function_or_method found",
       "output_type": "pyerr",
       "traceback": [
        "\u001b[1;31m---------------------------------------------------------------------------\u001b[0m\n\u001b[1;31mTypeError\u001b[0m                                 Traceback (most recent call last)",
        "\u001b[1;32m<ipython-input-46-277901f21ef6>\u001b[0m in \u001b[0;36m<module>\u001b[1;34m()\u001b[0m\n\u001b[1;32m----> 1\u001b[1;33m \u001b[0mos\u001b[0m\u001b[1;33m.\u001b[0m\u001b[0mlistdir\u001b[0m\u001b[1;33m(\u001b[0m\u001b[0mos\u001b[0m\u001b[1;33m.\u001b[0m\u001b[0mgetcwd\u001b[0m\u001b[1;33m)\u001b[0m\u001b[1;33m\u001b[0m\u001b[0m\n\u001b[0m",
        "\u001b[1;31mTypeError\u001b[0m: coercing to Unicode: need string or buffer, builtin_function_or_method found"
       ]
      }
     ],
     "prompt_number": 46
    },
    {
     "cell_type": "code",
     "collapsed": false,
     "input": [
      "gdir = ('/home/public/github/')"
     ],
     "language": "python",
     "metadata": {},
     "outputs": [],
     "prompt_number": 47
    },
    {
     "cell_type": "code",
     "collapsed": false,
     "input": [
      "os.listdir('/home/public/github/')"
     ],
     "language": "python",
     "metadata": {},
     "outputs": [
      {
       "metadata": {},
       "output_type": "pyout",
       "prompt_number": 48,
       "text": [
        "['notebooks',\n",
        " 'pyatakl',\n",
        " 'BeOk',\n",
        " 'RedditPress',\n",
        " 'pyunderdog',\n",
        " 'pybackupz',\n",
        " 'artcontrol-api',\n",
        " 'RedditePress',\n",
        " 'intercity',\n",
        " 'wirepil',\n",
        " 'pywp-post',\n",
        " 'bbc2wp',\n",
        " 'skins']"
       ]
      }
     ],
     "prompt_number": 48
    },
    {
     "cell_type": "code",
     "collapsed": false,
     "input": [
      "dabook = []"
     ],
     "language": "python",
     "metadata": {},
     "outputs": [],
     "prompt_number": 77
    },
    {
     "cell_type": "code",
     "collapsed": false,
     "input": [
      "os.mkdir('notebooks')"
     ],
     "language": "python",
     "metadata": {},
     "outputs": [
      {
       "ename": "OSError",
       "evalue": "[Errno 17] File exists: 'notebooks'",
       "output_type": "pyerr",
       "traceback": [
        "\u001b[1;31m---------------------------------------------------------------------------\u001b[0m\n\u001b[1;31mOSError\u001b[0m                                   Traceback (most recent call last)",
        "\u001b[1;32m<ipython-input-78-537696104ceb>\u001b[0m in \u001b[0;36m<module>\u001b[1;34m()\u001b[0m\n\u001b[1;32m----> 1\u001b[1;33m \u001b[0mos\u001b[0m\u001b[1;33m.\u001b[0m\u001b[0mmkdir\u001b[0m\u001b[1;33m(\u001b[0m\u001b[1;34m'notebooks'\u001b[0m\u001b[1;33m)\u001b[0m\u001b[1;33m\u001b[0m\u001b[0m\n\u001b[0m",
        "\u001b[1;31mOSError\u001b[0m: [Errno 17] File exists: 'notebooks'"
       ]
      }
     ],
     "prompt_number": 78
    },
    {
     "cell_type": "code",
     "collapsed": false,
     "input": [
      "import shutil"
     ],
     "language": "python",
     "metadata": {},
     "outputs": [],
     "prompt_number": 79
    },
    {
     "cell_type": "code",
     "collapsed": false,
     "input": [
      "os.getcwd()"
     ],
     "language": "python",
     "metadata": {},
     "outputs": [
      {
       "metadata": {},
       "output_type": "pyout",
       "prompt_number": 80,
       "text": [
        "'/home/public/github'"
       ]
      }
     ],
     "prompt_number": 80
    },
    {
     "cell_type": "code",
     "collapsed": false,
     "input": [
      "for filz in os.listdir(gdir):\n",
      "    print filz\n",
      "    for fila in os.listdir(gdir + filz):\n",
      "        print fila\n",
      "        if 'ipynb' in fila:\n",
      "            dabook.append(os.getcwd() + '/' + filz + '/' + fila)\n",
      "        #    shutil.copy(fila, '/home/public/notebooks')\n",
      "            \n",
      "    "
     ],
     "language": "python",
     "metadata": {},
     "outputs": [
      {
       "output_type": "stream",
       "stream": "stdout",
       "text": [
        "notebooks\n",
        "pyatakl\n",
        ".gitignore\n",
        "pyatakl\n",
        ".git\n",
        "README.md\n",
        "LICENSE\n",
        "tests\n",
        ".ipynb_checkpoints\n",
        "BeOk\n",
        "CVipynb_files\n",
        "ang.png\n",
        "savPrn\n",
        "start.py\n",
        "savTlc\n",
        ".git\n",
        "artcontrol.ipynb\n",
        "redTube.ipynb\n",
        "README.md\n",
        "aslyum.ipynb\n",
        "CV.ipynb\n",
        "www.website.org\n",
        "CV2.ipynb\n",
        "LICENSE\n",
        "twitter.py\n",
        "civ.html\n",
        "Linux\n",
        "land.png\n",
        "CV.ipynb_files\n",
        "tweet\n",
        "civ\n",
        "CVipynb.html\n",
        "code.html\n",
        "CV.ipynb.html\n",
        "depTlc\n",
        "RedditPress\n",
        "random\n",
        "tradeLast.py\n",
        "image.svg\n",
        "apiNyt\n",
        ".git\n",
        "scatter.svg\n",
        "README.md\n",
        "wordpress_xmlrpc\n",
        "Untitled0.ipynb\n",
        "urlSave\n",
        "redDrawn.py\n",
        "tradeTitle\n",
        "TradePress.py\n",
        "twitter.txt\n",
        "NumPyExplore.ipynb\n",
        "titleData\n",
        "subrd\n",
        "redditdrawn\n",
        "LastData\n",
        "doc\n",
        "tradeData\n",
        "json.ipynb\n",
        "numFile\n",
        "fileSave\n",
        "trademe.py\n",
        "wriBbc\n",
        "pprint\n",
        "pyunderdog\n",
        ".gitignore\n",
        "underdog\n",
        "pydog.ipynb\n",
        ".git\n",
        "README.md\n",
        "LICENSE\n",
        "pyEmailz.ipynb\n",
        "pyunderdog.py\n",
        "pybackupz\n",
        ".git\n",
        "README.md\n",
        "LICENSE\n",
        "backupz.ipynb\n",
        "pybac.py\n",
        "artcontrol-api\n",
        "imgedit.ipynb\n",
        "pywgit.py\n",
        "wcmckee.rst\n",
        "Untitled1.py\n",
        "testz\n",
        "artcontrol.py\n",
        "pynztacam.py\n",
        ".gitignore\n",
        "scrapnot.ipynb\n",
        "dh.py\n",
        "ipython_log.py.001~\n",
        "savPrn\n",
        "ipython_log.py\n",
        "testing123\n",
        "pyssh.py\n",
        ".git\n",
        "Untitled3.ipynb\n",
        "Untitled1.ipynb\n",
        "dh.ipynb\n",
        "myfile.txt\n",
        "githcli\n",
        "artcontrol.ipynb\n",
        "Game Of Thrones.ipynb\n",
        "oceanconnor.ipynb\n",
        "README.md\n",
        "salecus.ipynb\n",
        "passwd\n",
        "pyssh.ipynb\n",
        "hcpux\n",
        "Untitled0.py\n",
        "redTube.py\n",
        "githsec\n",
        "Untitled0.ipynb\n",
        "LICENSE\n",
        "config\n",
        "test.html\n",
        "122.jpg\n",
        "output.file\n",
        "aklmcam.py\n",
        "aklmcam.ipynb\n",
        "pyblen.py\n",
        "spellcheckin.ipynb\n",
        "passap\n",
        "artcontrolme.wordpress.2014-02-10.xml\n",
        "example.xls\n",
        ".ipynb_checkpoints\n",
        "pynztacam.ipynb\n",
        "openimg.ipynb\n",
        "ipython_log.py.002~\n",
        "spellcheckin.py\n",
        "cpuclu.json\n",
        "Game Of Thrones.py\n",
        "tlchome.html\n",
        "Untitled3.py\n",
        "pywgit.ipynb\n",
        "latepost\n",
        "tlc.py\n",
        "gpaz\n",
        "uploads.html\n",
        "Untitled2.ipynb\n",
        "pywgitz.py\n",
        "tlc.ipynb\n",
        "linkz\n",
        "atkey\n",
        "Peterwest.py\n",
        "openimg.py\n",
        "scrapnot.py\n",
        "~\n",
        "prnsav\n",
        "sortbooks.ipynb\n",
        "Untitled2.py\n",
        "result\n",
        "Peterwest.ipynb\n",
        "tpb.ipynb\n",
        "dhcpd.leases\n",
        "salecus.py\n",
        "home.html\n",
        "RedditePress\n",
        ".git\n",
        "intercity\n",
        ".git\n",
        "intercity.py\n",
        "outpuz.txt\n",
        "README.md\n",
        "webData.ipynb\n",
        "README.MD\n",
        "htmldoc\n",
        "output\n",
        "textOutput\n",
        "outputz\n",
        "testing.txt\n",
        "wirepil\n",
        ".gitignore\n",
        ".git\n",
        "wirePIL.py\n",
        "artcontrol.ipynb\n",
        "README.md\n",
        "smerk-color.png\n",
        "reddit.ipynb\n",
        "wirePIL.ipynb\n",
        "Untitled0.ipynb\n",
        "LICENSE\n",
        "hello.PNG\n",
        "blendTitle.jpg\n",
        "loop.ipynb\n",
        "love.ttf\n",
        "street1016.jpg\n",
        "ftpWCM.ipynb\n",
        "street0276.jpg\n",
        "street1715.jpg\n",
        "33561.jpg\n",
        "edit.jpg\n",
        "guardian_gaza_ipynb\n",
        "title1111.jpg\n",
        "cs.ttf\n",
        "pywp-post\n",
        ".gitignore\n",
        "post.py\n",
        "wordpress.ipynb\n",
        "test-wp.ipynb\n",
        ".git\n",
        "README.md\n",
        "LICENSE\n",
        "test.py\n",
        "netcafe.ipynb\n",
        "pywp-post.py\n",
        "bbc2wp\n",
        "savFile\n",
        "savPrn\n",
        ".jsonEdit.py.swo\n",
        ".git\n",
        "redTube.ipynb\n",
        "jsonEdit.py\n",
        "README.md\n",
        "jsonBehind.ipynb\n",
        "pressBbc.py\n",
        ".jsonEdit.py.swp\n",
        "pressPrn.py\n",
        "NumPyExplore.ipynb\n",
        "savTit\n",
        "tacBbc\n",
        "savTag\n",
        "savBbc\n",
        "json(6).ipynb\n",
        "skins\n",
        ".git\n",
        "karen.ipynb\n",
        "README.md\n",
        "skins.py\n",
        "LICENSE\n",
        "hamgar.ipynb\n",
        "skins.ipynb\n"
       ]
      }
     ],
     "prompt_number": 81
    },
    {
     "cell_type": "code",
     "collapsed": false,
     "input": [
      "#for da in dabook:\n",
      "#    if 'checkpoints' or '.html' in da:\n",
      "#        dabook.remove(da) # removes too many, filter so it only \n",
      "                            #removes files i don't want. if they dont end\n",
      "    #with .ipynb, i dont want to see them. "
     ],
     "language": "python",
     "metadata": {},
     "outputs": [],
     "prompt_number": 85
    },
    {
     "cell_type": "code",
     "collapsed": false,
     "input": [
      "dabook"
     ],
     "language": "python",
     "metadata": {},
     "outputs": [
      {
       "metadata": {},
       "output_type": "pyout",
       "prompt_number": 86,
       "text": [
        "['/home/public/github/BeOk/CVipynb_files',\n",
        " '/home/public/github/BeOk/redTube.ipynb',\n",
        " '/home/public/github/BeOk/CV.ipynb',\n",
        " '/home/public/github/BeOk/CV.ipynb_files',\n",
        " '/home/public/github/BeOk/CV.ipynb.html',\n",
        " '/home/public/github/RedditPress/NumPyExplore.ipynb',\n",
        " '/home/public/github/pyunderdog/pydog.ipynb',\n",
        " '/home/public/github/pybackupz/backupz.ipynb',\n",
        " '/home/public/github/artcontrol-api/scrapnot.ipynb',\n",
        " '/home/public/github/artcontrol-api/Untitled1.ipynb',\n",
        " '/home/public/github/artcontrol-api/artcontrol.ipynb',\n",
        " '/home/public/github/artcontrol-api/oceanconnor.ipynb',\n",
        " '/home/public/github/artcontrol-api/pyssh.ipynb',\n",
        " '/home/public/github/artcontrol-api/aklmcam.ipynb',\n",
        " '/home/public/github/artcontrol-api/.ipynb_checkpoints',\n",
        " '/home/public/github/artcontrol-api/openimg.ipynb',\n",
        " '/home/public/github/artcontrol-api/Untitled2.ipynb',\n",
        " '/home/public/github/artcontrol-api/sortbooks.ipynb',\n",
        " '/home/public/github/artcontrol-api/tpb.ipynb',\n",
        " '/home/public/github/wirepil/artcontrol.ipynb',\n",
        " '/home/public/github/wirepil/wirePIL.ipynb',\n",
        " '/home/public/github/wirepil/loop.ipynb',\n",
        " '/home/public/github/wirepil/guardian_gaza_ipynb',\n",
        " '/home/public/github/pywp-post/test-wp.ipynb',\n",
        " '/home/public/github/bbc2wp/redTube.ipynb',\n",
        " '/home/public/github/bbc2wp/NumPyExplore.ipynb',\n",
        " '/home/public/github/skins/karen.ipynb',\n",
        " '/home/public/github/skins/skins.ipynb']"
       ]
      }
     ],
     "prompt_number": 86
    },
    {
     "cell_type": "code",
     "collapsed": false,
     "input": [],
     "language": "python",
     "metadata": {},
     "outputs": [],
     "prompt_number": 86
    },
    {
     "cell_type": "code",
     "collapsed": false,
     "input": [],
     "language": "python",
     "metadata": {},
     "outputs": [],
     "prompt_number": 54
    },
    {
     "cell_type": "code",
     "collapsed": false,
     "input": [],
     "language": "python",
     "metadata": {},
     "outputs": []
    }
   ],
   "metadata": {}
  }
 ]
}