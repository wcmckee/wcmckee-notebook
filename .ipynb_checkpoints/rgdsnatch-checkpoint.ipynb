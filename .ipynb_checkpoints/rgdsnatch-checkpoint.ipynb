{
 "metadata": {
  "name": "",
  "signature": "sha256:b747c4296ecca0e7e2517c9549373b081e217d061519ffa538b34d96113fe083"
 },
 "nbformat": 3,
 "nbformat_minor": 0,
 "worksheets": [
  {
   "cells": [
    {
     "cell_type": "markdown",
     "metadata": {},
     "source": [
      "RedditGetsDrawn Snatch\n",
      "\n",
      "This is a Python script that takes data from reddit and posts it to another subreddit. It also creates a html file with the images embed into. The images are the most recent 25 on r/redditgetsdrawn.\n",
      "\n"
     ]
    },
    {
     "cell_type": "markdown",
     "metadata": {},
     "source": [
      "TODO\n",
      "\n",
      "submit art to users via website\n",
      "\n",
      "fix image sizes (need to scale down to 550px)\n",
      "\n",
      "Save to server rather than imgur\n",
      "\n",
      "Archieve, snapshots of rgd\n",
      "\n",
      "more artcontrol\n",
      "\n",
      "itwillbemine comments to html\n",
      "\n",
      "work on css, div up page, title, side, body, footer\n",
      "\n"
     ]
    },
    {
     "cell_type": "code",
     "collapsed": false,
     "input": [
      "import os\n",
      "import random\n",
      "import requests\n",
      "import re\n",
      "import json\n",
      "import praw\n",
      "import dominate\n",
      "from dominate.tags import *\n"
     ],
     "language": "python",
     "metadata": {},
     "outputs": [],
     "prompt_number": 610
    },
    {
     "cell_type": "code",
     "collapsed": false,
     "input": [
      "os.chdir('/var/www/artcontroldrawsyou')"
     ],
     "language": "python",
     "metadata": {},
     "outputs": [],
     "prompt_number": 611
    },
    {
     "cell_type": "code",
     "collapsed": false,
     "input": [
      "r = praw.Reddit(user_agent='rgdsnatch')"
     ],
     "language": "python",
     "metadata": {},
     "outputs": [],
     "prompt_number": 612
    },
    {
     "cell_type": "code",
     "collapsed": false,
     "input": [
      "r.login('artcontrol', 'zipit123')"
     ],
     "language": "python",
     "metadata": {},
     "outputs": [],
     "prompt_number": 613
    },
    {
     "cell_type": "code",
     "collapsed": false,
     "input": [
      "usrd = r.get_my_subreddits()"
     ],
     "language": "python",
     "metadata": {},
     "outputs": [],
     "prompt_number": 614
    },
    {
     "cell_type": "code",
     "collapsed": false,
     "input": [
      "suls = []"
     ],
     "language": "python",
     "metadata": {},
     "outputs": [],
     "prompt_number": 615
    },
    {
     "cell_type": "code",
     "collapsed": false,
     "input": [
      "for subs in usrd:\n",
      "    print subs\n",
      "    suls.append(subs)"
     ],
     "language": "python",
     "metadata": {},
     "outputs": [
      {
       "output_type": "stream",
       "stream": "stdout",
       "text": [
        "todayilearned\n",
        "blog\n",
        "science\n",
        "IAmA\n",
        "videos\n",
        "technology\n",
        "bestof\n",
        "askscience\n",
        "books\n",
        "television\n",
        "food\n",
        "photoshopbattles\n",
        "GetMotivated\n",
        "listentothis\n",
        "Documentaries\n",
        "Art\n",
        "trees\n",
        "programming\n",
        "Android\n",
        "gameofthrones\n",
        "Minecraft\n",
        "comics\n",
        "skyrim\n",
        "buildapc\n",
        "breakingbad\n"
       ]
      }
     ],
     "prompt_number": 616
    },
    {
     "cell_type": "code",
     "collapsed": false,
     "input": [
      "suls"
     ],
     "language": "python",
     "metadata": {},
     "outputs": [
      {
       "metadata": {},
       "output_type": "pyout",
       "prompt_number": 617,
       "text": [
        "[Subreddit(display_name='todayilearned'),\n",
        " Subreddit(display_name='blog'),\n",
        " Subreddit(display_name='science'),\n",
        " Subreddit(display_name='IAmA'),\n",
        " Subreddit(display_name='videos'),\n",
        " Subreddit(display_name='technology'),\n",
        " Subreddit(display_name='bestof'),\n",
        " Subreddit(display_name='askscience'),\n",
        " Subreddit(display_name='books'),\n",
        " Subreddit(display_name='television'),\n",
        " Subreddit(display_name='food'),\n",
        " Subreddit(display_name='photoshopbattles'),\n",
        " Subreddit(display_name='GetMotivated'),\n",
        " Subreddit(display_name='listentothis'),\n",
        " Subreddit(display_name='Documentaries'),\n",
        " Subreddit(display_name='Art'),\n",
        " Subreddit(display_name='trees'),\n",
        " Subreddit(display_name='programming'),\n",
        " Subreddit(display_name='Android'),\n",
        " Subreddit(display_name='gameofthrones'),\n",
        " Subreddit(display_name='Minecraft'),\n",
        " Subreddit(display_name='comics'),\n",
        " Subreddit(display_name='skyrim'),\n",
        " Subreddit(display_name='buildapc'),\n",
        " Subreddit(display_name='breakingbad')]"
       ]
      }
     ],
     "prompt_number": 617
    },
    {
     "cell_type": "code",
     "collapsed": false,
     "input": [
      "lesuls = len(suls)\n",
      "\n",
      "ransuz = random.randint(0, lesuls)\n",
      "\n",
      "thesubraz = suls[ransuz]"
     ],
     "language": "python",
     "metadata": {},
     "outputs": [],
     "prompt_number": 618
    },
    {
     "cell_type": "code",
     "collapsed": false,
     "input": [
      "suls"
     ],
     "language": "python",
     "metadata": {},
     "outputs": [
      {
       "metadata": {},
       "output_type": "pyout",
       "prompt_number": 619,
       "text": [
        "[Subreddit(display_name='todayilearned'),\n",
        " Subreddit(display_name='blog'),\n",
        " Subreddit(display_name='science'),\n",
        " Subreddit(display_name='IAmA'),\n",
        " Subreddit(display_name='videos'),\n",
        " Subreddit(display_name='technology'),\n",
        " Subreddit(display_name='bestof'),\n",
        " Subreddit(display_name='askscience'),\n",
        " Subreddit(display_name='books'),\n",
        " Subreddit(display_name='television'),\n",
        " Subreddit(display_name='food'),\n",
        " Subreddit(display_name='photoshopbattles'),\n",
        " Subreddit(display_name='GetMotivated'),\n",
        " Subreddit(display_name='listentothis'),\n",
        " Subreddit(display_name='Documentaries'),\n",
        " Subreddit(display_name='Art'),\n",
        " Subreddit(display_name='trees'),\n",
        " Subreddit(display_name='programming'),\n",
        " Subreddit(display_name='Android'),\n",
        " Subreddit(display_name='gameofthrones'),\n",
        " Subreddit(display_name='Minecraft'),\n",
        " Subreddit(display_name='comics'),\n",
        " Subreddit(display_name='skyrim'),\n",
        " Subreddit(display_name='buildapc'),\n",
        " Subreddit(display_name='breakingbad')]"
       ]
      }
     ],
     "prompt_number": 619
    },
    {
     "cell_type": "code",
     "collapsed": false,
     "input": [
      "print thesubraz"
     ],
     "language": "python",
     "metadata": {},
     "outputs": [
      {
       "output_type": "stream",
       "stream": "stdout",
       "text": [
        "skyrim\n"
       ]
      }
     ],
     "prompt_number": 620
    },
    {
     "cell_type": "code",
     "collapsed": false,
     "input": [
      "rd = r.get_subreddit('redditgetsdrawn')"
     ],
     "language": "python",
     "metadata": {},
     "outputs": [],
     "prompt_number": 621
    },
    {
     "cell_type": "code",
     "collapsed": false,
     "input": [
      "rdnewz = rd.get_new()"
     ],
     "language": "python",
     "metadata": {},
     "outputs": [],
     "prompt_number": 622
    },
    {
     "cell_type": "code",
     "collapsed": false,
     "input": [
      "rdnew = []"
     ],
     "language": "python",
     "metadata": {},
     "outputs": [],
     "prompt_number": 623
    },
    {
     "cell_type": "code",
     "collapsed": false,
     "input": [
      "rdnew"
     ],
     "language": "python",
     "metadata": {},
     "outputs": [
      {
       "metadata": {},
       "output_type": "pyout",
       "prompt_number": 624,
       "text": [
        "[]"
       ]
      }
     ],
     "prompt_number": 624
    },
    {
     "cell_type": "code",
     "collapsed": false,
     "input": [
      "for uz in rdnewz:\n",
      "    #print uz\n",
      "    rdnew.append(uz)"
     ],
     "language": "python",
     "metadata": {},
     "outputs": [],
     "prompt_number": 625
    },
    {
     "cell_type": "code",
     "collapsed": false,
     "input": [
      "urzlis = []\n",
      "titlis = []"
     ],
     "language": "python",
     "metadata": {},
     "outputs": [],
     "prompt_number": 626
    },
    {
     "cell_type": "code",
     "collapsed": false,
     "input": [
      "#os.chdir('imgs')"
     ],
     "language": "python",
     "metadata": {},
     "outputs": [],
     "prompt_number": 627
    },
    {
     "cell_type": "code",
     "collapsed": false,
     "input": [
      "for rdn in rdnew:\n",
      "    print rdn.url\n",
      "    urzlis.append(rdn.url)\n",
      "    titlis.append(rdn.author.name)\n",
      "    "
     ],
     "language": "python",
     "metadata": {},
     "outputs": [
      {
       "output_type": "stream",
       "stream": "stdout",
       "text": [
        "http://i.imgur.com/iebMRTk.jpg\n",
        "http://i.imgur.com/R3rfJnK.gif\n",
        "http://i.imgur.com/PbybhGc.jpg\n",
        "http://i.imgur.com/40RWPan.jpg?1?1014\n",
        "http://i.imgur.com/M9S29ME.jpg?1\n",
        "http://i.imgur.com/QmLNayj.jpg\n",
        "http://i.imgur.com/vb9FmGc.jpg\n",
        "http://i.imgur.com/6FeT6SU.jpg\n",
        "http://i.imgur.com/HF0zKkO.jpg\n",
        "http://imgur.com/aFo6KTN\n",
        "http://imgur.com/I9UfiGU\n",
        "http://i.imgur.com/xQW8c2H.jpg\n",
        "http://i.imgur.com/NurXeuP.jpg\n",
        "http://i.imgur.com/20BHaXN.jpg\n",
        "http://imgur.com/a/ssBsp\n",
        "http://imgur.com/asiLliH\n",
        "http://imgur.com/j0e5ifd\n",
        "http://i.imgur.com/GI0tcjy.jpg?1\n",
        "http://imgur.com/MZ6UaaI\n",
        "http://i.imgur.com/dOd8cuv.jpg\n",
        "http://i.imgur.com/Gwq1pea.jpg\n",
        "http://i.imgur.com/As4jmJu.jpg\n",
        "http://i.imgur.com/J5tWv4f.jpg\n",
        "http://imgur.com/rBxWouz\n",
        "http://i.imgur.com/aKvLaSp.jpg\n"
       ]
      }
     ],
     "prompt_number": 628
    },
    {
     "cell_type": "code",
     "collapsed": false,
     "input": [
      "titlis"
     ],
     "language": "python",
     "metadata": {},
     "outputs": [
      {
       "metadata": {},
       "output_type": "pyout",
       "prompt_number": 629,
       "text": [
        "[u'Shelton500',\n",
        " u'Tunadude',\n",
        " u'Person_of_interest_',\n",
        " u'cpninsano',\n",
        " u'13a13y13looz',\n",
        " u'Jay_Jay_Kawalski',\n",
        " u'Loopyprawn',\n",
        " u'sunatori',\n",
        " u'FeedMeBodies539',\n",
        " u'youownnothing',\n",
        " u'inobnoxious',\n",
        " u'Throwawaydoee',\n",
        " u'MrMalta',\n",
        " u'kaishu_',\n",
        " u'originalusrname',\n",
        " u'bently82',\n",
        " u'eljue',\n",
        " u'Stopjonah',\n",
        " u'melissasoliz',\n",
        " u'ThatGuyAnderson',\n",
        " u'x_ellie_k',\n",
        " u'wyld3',\n",
        " u'thewolfman15',\n",
        " u'CUNT-MUFFINS',\n",
        " u'Yamsss']"
       ]
      }
     ],
     "prompt_number": 629
    },
    {
     "cell_type": "code",
     "collapsed": false,
     "input": [
      "jplis = []"
     ],
     "language": "python",
     "metadata": {},
     "outputs": [],
     "prompt_number": 880
    },
    {
     "cell_type": "code",
     "collapsed": false,
     "input": [
      "for urz in urzlis:\n",
      "    if '.jpg' in urz:\n",
      "        jplis.append(urz)"
     ],
     "language": "python",
     "metadata": {},
     "outputs": [],
     "prompt_number": 897
    },
    {
     "cell_type": "code",
     "collapsed": false,
     "input": [
      "doc = dominate.document(title='artcontroldrawsyou')"
     ],
     "language": "python",
     "metadata": {},
     "outputs": [],
     "prompt_number": 922
    },
    {
     "cell_type": "code",
     "collapsed": false,
     "input": [
      "with doc.head:\n",
      "    link(rel='stylesheet', href='style.css')\n",
      "    script(type='text/javascript', src='script.js')\n",
      "\n",
      "with doc:\n",
      "    with div():\n",
      "        attr(cls='header')\n",
      "        #<img src=\"smiley.gif\" alt=\"Smiley face\" height=\"42\" width=\"42\">\n",
      "        h1('artcontroldrawsyou!')\n",
      "        p(img(scr='http://brobeur.com/artcontroldrawsyou/logo.gif'))\n",
      "        h2('go away artcontrol')\n",
      "        \n",
      "    with div(id='author'):\n",
      "        for tits in titlis:\n",
      "            h3(tits)\n",
      "            h2(a(tits, href='%s' % tits))\n",
      "    \n",
      "    with div(id='body').add(p()):\n",
      "        for i in jplis:\n",
      "            li(img(i.lower(), src='%s' % i))\n",
      "            li(a(i.lower(), href='%s' % i))\n",
      "            \n",
      "\n",
      "\n",
      "\n",
      "print doc"
     ],
     "language": "python",
     "metadata": {},
     "outputs": [
      {
       "output_type": "stream",
       "stream": "stdout",
       "text": [
        "<!DOCTYPE html>\n",
        "<html>\n",
        "  <head>\n",
        "    <title>artcontroldrawsyou</title>\n",
        "    <link href=\"style.css\" rel=\"stylesheet\">\n",
        "    <script src=\"script.js\" type=\"text/javascript\"></script>\n",
        "  </head>\n",
        "  <body>\n",
        "    <div class=\"header\">\n",
        "      <h1>artcontroldrawsyou!</h1>\n",
        "      <p>\n",
        "        <img scr=\"http://brobeur.com/artcontroldrawsyou/logo.gif\">\n",
        "      </p>\n",
        "      <h2>go away artcontrol</h2>\n",
        "    </div>\n",
        "    <div id=\"author\">\n",
        "      <h3>Shelton500</h3>\n",
        "      <h2>\n",
        "        <a href=\"Shelton500\">Shelton500</a>\n",
        "      </h2>\n",
        "      <h3>Tunadude</h3>\n",
        "      <h2>\n",
        "        <a href=\"Tunadude\">Tunadude</a>\n",
        "      </h2>\n",
        "      <h3>Person_of_interest_</h3>\n",
        "      <h2>\n",
        "        <a href=\"Person_of_interest_\">Person_of_interest_</a>\n",
        "      </h2>\n",
        "      <h3>cpninsano</h3>\n",
        "      <h2>\n",
        "        <a href=\"cpninsano\">cpninsano</a>\n",
        "      </h2>\n",
        "      <h3>13a13y13looz</h3>\n",
        "      <h2>\n",
        "        <a href=\"13a13y13looz\">13a13y13looz</a>\n",
        "      </h2>\n",
        "      <h3>Jay_Jay_Kawalski</h3>\n",
        "      <h2>\n",
        "        <a href=\"Jay_Jay_Kawalski\">Jay_Jay_Kawalski</a>\n",
        "      </h2>\n",
        "      <h3>Loopyprawn</h3>\n",
        "      <h2>\n",
        "        <a href=\"Loopyprawn\">Loopyprawn</a>\n",
        "      </h2>\n",
        "      <h3>sunatori</h3>\n",
        "      <h2>\n",
        "        <a href=\"sunatori\">sunatori</a>\n",
        "      </h2>\n",
        "      <h3>FeedMeBodies539</h3>\n",
        "      <h2>\n",
        "        <a href=\"FeedMeBodies539\">FeedMeBodies539</a>\n",
        "      </h2>\n",
        "      <h3>youownnothing</h3>\n",
        "      <h2>\n",
        "        <a href=\"youownnothing\">youownnothing</a>\n",
        "      </h2>\n",
        "      <h3>inobnoxious</h3>\n",
        "      <h2>\n",
        "        <a href=\"inobnoxious\">inobnoxious</a>\n",
        "      </h2>\n",
        "      <h3>Throwawaydoee</h3>\n",
        "      <h2>\n",
        "        <a href=\"Throwawaydoee\">Throwawaydoee</a>\n",
        "      </h2>\n",
        "      <h3>MrMalta</h3>\n",
        "      <h2>\n",
        "        <a href=\"MrMalta\">MrMalta</a>\n",
        "      </h2>\n",
        "      <h3>kaishu_</h3>\n",
        "      <h2>\n",
        "        <a href=\"kaishu_\">kaishu_</a>\n",
        "      </h2>\n",
        "      <h3>originalusrname</h3>\n",
        "      <h2>\n",
        "        <a href=\"originalusrname\">originalusrname</a>\n",
        "      </h2>\n",
        "      <h3>bently82</h3>\n",
        "      <h2>\n",
        "        <a href=\"bently82\">bently82</a>\n",
        "      </h2>\n",
        "      <h3>eljue</h3>\n",
        "      <h2>\n",
        "        <a href=\"eljue\">eljue</a>\n",
        "      </h2>\n",
        "      <h3>Stopjonah</h3>\n",
        "      <h2>\n",
        "        <a href=\"Stopjonah\">Stopjonah</a>\n",
        "      </h2>\n",
        "      <h3>melissasoliz</h3>\n",
        "      <h2>\n",
        "        <a href=\"melissasoliz\">melissasoliz</a>\n",
        "      </h2>\n",
        "      <h3>ThatGuyAnderson</h3>\n",
        "      <h2>\n",
        "        <a href=\"ThatGuyAnderson\">ThatGuyAnderson</a>\n",
        "      </h2>\n",
        "      <h3>x_ellie_k</h3>\n",
        "      <h2>\n",
        "        <a href=\"x_ellie_k\">x_ellie_k</a>\n",
        "      </h2>\n",
        "      <h3>wyld3</h3>\n",
        "      <h2>\n",
        "        <a href=\"wyld3\">wyld3</a>\n",
        "      </h2>\n",
        "      <h3>thewolfman15</h3>\n",
        "      <h2>\n",
        "        <a href=\"thewolfman15\">thewolfman15</a>\n",
        "      </h2>\n",
        "      <h3>CUNT-MUFFINS</h3>\n",
        "      <h2>\n",
        "        <a href=\"CUNT-MUFFINS\">CUNT-MUFFINS</a>\n",
        "      </h2>\n",
        "      <h3>Yamsss</h3>\n",
        "      <h2>\n",
        "        <a href=\"Yamsss\">Yamsss</a>\n",
        "      </h2>\n",
        "    </div>\n",
        "    <div id=\"body\">\n",
        "      <p>\n",
        "        <li>\n",
        "          <img src=\"http://i.imgur.com/iebMRTk.jpg\">\n",
        "        </li>\n",
        "        <li>\n",
        "          <a href=\"http://i.imgur.com/iebMRTk.jpg\">http://i.imgur.com/iebmrtk.jpg</a>\n",
        "        </li>\n",
        "        <li>\n",
        "          <img src=\"http://i.imgur.com/PbybhGc.jpg\">\n",
        "        </li>\n",
        "        <li>\n",
        "          <a href=\"http://i.imgur.com/PbybhGc.jpg\">http://i.imgur.com/pbybhgc.jpg</a>\n",
        "        </li>\n",
        "        <li>\n",
        "          <img src=\"http://i.imgur.com/40RWPan.jpg?1?1014\">\n",
        "        </li>\n",
        "        <li>\n",
        "          <a href=\"http://i.imgur.com/40RWPan.jpg?1?1014\">http://i.imgur.com/40rwpan.jpg?1?1014</a>\n",
        "        </li>\n",
        "        <li>\n",
        "          <img src=\"http://i.imgur.com/M9S29ME.jpg?1\">\n",
        "        </li>\n",
        "        <li>\n",
        "          <a href=\"http://i.imgur.com/M9S29ME.jpg?1\">http://i.imgur.com/m9s29me.jpg?1</a>\n",
        "        </li>\n",
        "        <li>\n",
        "          <img src=\"http://i.imgur.com/QmLNayj.jpg\">\n",
        "        </li>\n",
        "        <li>\n",
        "          <a href=\"http://i.imgur.com/QmLNayj.jpg\">http://i.imgur.com/qmlnayj.jpg</a>\n",
        "        </li>\n",
        "        <li>\n",
        "          <img src=\"http://i.imgur.com/vb9FmGc.jpg\">\n",
        "        </li>\n",
        "        <li>\n",
        "          <a href=\"http://i.imgur.com/vb9FmGc.jpg\">http://i.imgur.com/vb9fmgc.jpg</a>\n",
        "        </li>\n",
        "        <li>\n",
        "          <img src=\"http://i.imgur.com/6FeT6SU.jpg\">\n",
        "        </li>\n",
        "        <li>\n",
        "          <a href=\"http://i.imgur.com/6FeT6SU.jpg\">http://i.imgur.com/6fet6su.jpg</a>\n",
        "        </li>\n",
        "        <li>\n",
        "          <img src=\"http://i.imgur.com/HF0zKkO.jpg\">\n",
        "        </li>\n",
        "        <li>\n",
        "          <a href=\"http://i.imgur.com/HF0zKkO.jpg\">http://i.imgur.com/hf0zkko.jpg</a>\n",
        "        </li>\n",
        "        <li>\n",
        "          <img src=\"http://i.imgur.com/xQW8c2H.jpg\">\n",
        "        </li>\n",
        "        <li>\n",
        "          <a href=\"http://i.imgur.com/xQW8c2H.jpg\">http://i.imgur.com/xqw8c2h.jpg</a>\n",
        "        </li>\n",
        "        <li>\n",
        "          <img src=\"http://i.imgur.com/NurXeuP.jpg\">\n",
        "        </li>\n",
        "        <li>\n",
        "          <a href=\"http://i.imgur.com/NurXeuP.jpg\">http://i.imgur.com/nurxeup.jpg</a>\n",
        "        </li>\n",
        "        <li>\n",
        "          <img src=\"http://i.imgur.com/20BHaXN.jpg\">\n",
        "        </li>\n",
        "        <li>\n",
        "          <a href=\"http://i.imgur.com/20BHaXN.jpg\">http://i.imgur.com/20bhaxn.jpg</a>\n",
        "        </li>\n",
        "        <li>\n",
        "          <img src=\"http://i.imgur.com/GI0tcjy.jpg?1\">\n",
        "        </li>\n",
        "        <li>\n",
        "          <a href=\"http://i.imgur.com/GI0tcjy.jpg?1\">http://i.imgur.com/gi0tcjy.jpg?1</a>\n",
        "        </li>\n",
        "        <li>\n",
        "          <img src=\"http://i.imgur.com/dOd8cuv.jpg\">\n",
        "        </li>\n",
        "        <li>\n",
        "          <a href=\"http://i.imgur.com/dOd8cuv.jpg\">http://i.imgur.com/dod8cuv.jpg</a>\n",
        "        </li>\n",
        "        <li>\n",
        "          <img src=\"http://i.imgur.com/Gwq1pea.jpg\">\n",
        "        </li>\n",
        "        <li>\n",
        "          <a href=\"http://i.imgur.com/Gwq1pea.jpg\">http://i.imgur.com/gwq1pea.jpg</a>\n",
        "        </li>\n",
        "        <li>\n",
        "          <img src=\"http://i.imgur.com/As4jmJu.jpg\">\n",
        "        </li>\n",
        "        <li>\n",
        "          <a href=\"http://i.imgur.com/As4jmJu.jpg\">http://i.imgur.com/as4jmju.jpg</a>\n",
        "        </li>\n",
        "        <li>\n",
        "          <img src=\"http://i.imgur.com/J5tWv4f.jpg\">\n",
        "        </li>\n",
        "        <li>\n",
        "          <a href=\"http://i.imgur.com/J5tWv4f.jpg\">http://i.imgur.com/j5twv4f.jpg</a>\n",
        "        </li>\n",
        "        <li>\n",
        "          <img src=\"http://i.imgur.com/aKvLaSp.jpg\">\n",
        "        </li>\n",
        "        <li>\n",
        "          <a href=\"http://i.imgur.com/aKvLaSp.jpg\">http://i.imgur.com/akvlasp.jpg</a>\n",
        "        </li>\n",
        "        <li>\n",
        "          <img src=\"http://i.imgur.com/iebMRTk.jpg\">\n",
        "        </li>\n",
        "        <li>\n",
        "          <a href=\"http://i.imgur.com/iebMRTk.jpg\">http://i.imgur.com/iebmrtk.jpg</a>\n",
        "        </li>\n",
        "        <li>\n",
        "          <img src=\"http://i.imgur.com/PbybhGc.jpg\">\n",
        "        </li>\n",
        "        <li>\n",
        "          <a href=\"http://i.imgur.com/PbybhGc.jpg\">http://i.imgur.com/pbybhgc.jpg</a>\n",
        "        </li>\n",
        "        <li>\n",
        "          <img src=\"http://i.imgur.com/40RWPan.jpg?1?1014\">\n",
        "        </li>\n",
        "        <li>\n",
        "          <a href=\"http://i.imgur.com/40RWPan.jpg?1?1014\">http://i.imgur.com/40rwpan.jpg?1?1014</a>\n",
        "        </li>\n",
        "        <li>\n",
        "          <img src=\"http://i.imgur.com/M9S29ME.jpg?1\">\n",
        "        </li>\n",
        "        <li>\n",
        "          <a href=\"http://i.imgur.com/M9S29ME.jpg?1\">http://i.imgur.com/m9s29me.jpg?1</a>\n",
        "        </li>\n",
        "        <li>\n",
        "          <img src=\"http://i.imgur.com/QmLNayj.jpg\">\n",
        "        </li>\n",
        "        <li>\n",
        "          <a href=\"http://i.imgur.com/QmLNayj.jpg\">http://i.imgur.com/qmlnayj.jpg</a>\n",
        "        </li>\n",
        "        <li>\n",
        "          <img src=\"http://i.imgur.com/vb9FmGc.jpg\">\n",
        "        </li>\n",
        "        <li>\n",
        "          <a href=\"http://i.imgur.com/vb9FmGc.jpg\">http://i.imgur.com/vb9fmgc.jpg</a>\n",
        "        </li>\n",
        "        <li>\n",
        "          <img src=\"http://i.imgur.com/6FeT6SU.jpg\">\n",
        "        </li>\n",
        "        <li>\n",
        "          <a href=\"http://i.imgur.com/6FeT6SU.jpg\">http://i.imgur.com/6fet6su.jpg</a>\n",
        "        </li>\n",
        "        <li>\n",
        "          <img src=\"http://i.imgur.com/HF0zKkO.jpg\">\n",
        "        </li>\n",
        "        <li>\n",
        "          <a href=\"http://i.imgur.com/HF0zKkO.jpg\">http://i.imgur.com/hf0zkko.jpg</a>\n",
        "        </li>\n",
        "        <li>\n",
        "          <img src=\"http://i.imgur.com/xQW8c2H.jpg\">\n",
        "        </li>\n",
        "        <li>\n",
        "          <a href=\"http://i.imgur.com/xQW8c2H.jpg\">http://i.imgur.com/xqw8c2h.jpg</a>\n",
        "        </li>\n",
        "        <li>\n",
        "          <img src=\"http://i.imgur.com/NurXeuP.jpg\">\n",
        "        </li>\n",
        "        <li>\n",
        "          <a href=\"http://i.imgur.com/NurXeuP.jpg\">http://i.imgur.com/nurxeup.jpg</a>\n",
        "        </li>\n",
        "        <li>\n",
        "          <img src=\"http://i.imgur.com/20BHaXN.jpg\">\n",
        "        </li>\n",
        "        <li>\n",
        "          <a href=\"http://i.imgur.com/20BHaXN.jpg\">http://i.imgur.com/20bhaxn.jpg</a>\n",
        "        </li>\n",
        "        <li>\n",
        "          <img src=\"http://i.imgur.com/GI0tcjy.jpg?1\">\n",
        "        </li>\n",
        "        <li>\n",
        "          <a href=\"http://i.imgur.com/GI0tcjy.jpg?1\">http://i.imgur.com/gi0tcjy.jpg?1</a>\n",
        "        </li>\n",
        "        <li>\n",
        "          <img src=\"http://i.imgur.com/dOd8cuv.jpg\">\n",
        "        </li>\n",
        "        <li>\n",
        "          <a href=\"http://i.imgur.com/dOd8cuv.jpg\">http://i.imgur.com/dod8cuv.jpg</a>\n",
        "        </li>\n",
        "        <li>\n",
        "          <img src=\"http://i.imgur.com/Gwq1pea.jpg\">\n",
        "        </li>\n",
        "        <li>\n",
        "          <a href=\"http://i.imgur.com/Gwq1pea.jpg\">http://i.imgur.com/gwq1pea.jpg</a>\n",
        "        </li>\n",
        "        <li>\n",
        "          <img src=\"http://i.imgur.com/As4jmJu.jpg\">\n",
        "        </li>\n",
        "        <li>\n",
        "          <a href=\"http://i.imgur.com/As4jmJu.jpg\">http://i.imgur.com/as4jmju.jpg</a>\n",
        "        </li>\n",
        "        <li>\n",
        "          <img src=\"http://i.imgur.com/J5tWv4f.jpg\">\n",
        "        </li>\n",
        "        <li>\n",
        "          <a href=\"http://i.imgur.com/J5tWv4f.jpg\">http://i.imgur.com/j5twv4f.jpg</a>\n",
        "        </li>\n",
        "        <li>\n",
        "          <img src=\"http://i.imgur.com/aKvLaSp.jpg\">\n",
        "        </li>\n",
        "        <li>\n",
        "          <a href=\"http://i.imgur.com/aKvLaSp.jpg\">http://i.imgur.com/akvlasp.jpg</a>\n",
        "        </li>\n",
        "        <li>\n",
        "          <img src=\"http://i.imgur.com/iebMRTk.jpg\">\n",
        "        </li>\n",
        "        <li>\n",
        "          <a href=\"http://i.imgur.com/iebMRTk.jpg\">http://i.imgur.com/iebmrtk.jpg</a>\n",
        "        </li>\n",
        "        <li>\n",
        "          <img src=\"http://i.imgur.com/PbybhGc.jpg\">\n",
        "        </li>\n",
        "        <li>\n",
        "          <a href=\"http://i.imgur.com/PbybhGc.jpg\">http://i.imgur.com/pbybhgc.jpg</a>\n",
        "        </li>\n",
        "        <li>\n",
        "          <img src=\"http://i.imgur.com/40RWPan.jpg?1?1014\">\n",
        "        </li>\n",
        "        <li>\n",
        "          <a href=\"http://i.imgur.com/40RWPan.jpg?1?1014\">http://i.imgur.com/40rwpan.jpg?1?1014</a>\n",
        "        </li>\n",
        "        <li>\n",
        "          <img src=\"http://i.imgur.com/M9S29ME.jpg?1\">\n",
        "        </li>\n",
        "        <li>\n",
        "          <a href=\"http://i.imgur.com/M9S29ME.jpg?1\">http://i.imgur.com/m9s29me.jpg?1</a>\n",
        "        </li>\n",
        "        <li>\n",
        "          <img src=\"http://i.imgur.com/QmLNayj.jpg\">\n",
        "        </li>\n",
        "        <li>\n",
        "          <a href=\"http://i.imgur.com/QmLNayj.jpg\">http://i.imgur.com/qmlnayj.jpg</a>\n",
        "        </li>\n",
        "        <li>\n",
        "          <img src=\"http://i.imgur.com/vb9FmGc.jpg\">\n",
        "        </li>\n",
        "        <li>\n",
        "          <a href=\"http://i.imgur.com/vb9FmGc.jpg\">http://i.imgur.com/vb9fmgc.jpg</a>\n",
        "        </li>\n",
        "        <li>\n",
        "          <img src=\"http://i.imgur.com/6FeT6SU.jpg\">\n",
        "        </li>\n",
        "        <li>\n",
        "          <a href=\"http://i.imgur.com/6FeT6SU.jpg\">http://i.imgur.com/6fet6su.jpg</a>\n",
        "        </li>\n",
        "        <li>\n",
        "          <img src=\"http://i.imgur.com/HF0zKkO.jpg\">\n",
        "        </li>\n",
        "        <li>\n",
        "          <a href=\"http://i.imgur.com/HF0zKkO.jpg\">http://i.imgur.com/hf0zkko.jpg</a>\n",
        "        </li>\n",
        "        <li>\n",
        "          <img src=\"http://i.imgur.com/xQW8c2H.jpg\">\n",
        "        </li>\n",
        "        <li>\n",
        "          <a href=\"http://i.imgur.com/xQW8c2H.jpg\">http://i.imgur.com/xqw8c2h.jpg</a>\n",
        "        </li>\n",
        "        <li>\n",
        "          <img src=\"http://i.imgur.com/NurXeuP.jpg\">\n",
        "        </li>\n",
        "        <li>\n",
        "          <a href=\"http://i.imgur.com/NurXeuP.jpg\">http://i.imgur.com/nurxeup.jpg</a>\n",
        "        </li>\n",
        "        <li>\n",
        "          <img src=\"http://i.imgur.com/20BHaXN.jpg\">\n",
        "        </li>\n",
        "        <li>\n",
        "          <a href=\"http://i.imgur.com/20BHaXN.jpg\">http://i.imgur.com/20bhaxn.jpg</a>\n",
        "        </li>\n",
        "        <li>\n",
        "          <img src=\"http://i.imgur.com/GI0tcjy.jpg?1\">\n",
        "        </li>\n",
        "        <li>\n",
        "          <a href=\"http://i.imgur.com/GI0tcjy.jpg?1\">http://i.imgur.com/gi0tcjy.jpg?1</a>\n",
        "        </li>\n",
        "        <li>\n",
        "          <img src=\"http://i.imgur.com/dOd8cuv.jpg\">\n",
        "        </li>\n",
        "        <li>\n",
        "          <a href=\"http://i.imgur.com/dOd8cuv.jpg\">http://i.imgur.com/dod8cuv.jpg</a>\n",
        "        </li>\n",
        "        <li>\n",
        "          <img src=\"http://i.imgur.com/Gwq1pea.jpg\">\n",
        "        </li>\n",
        "        <li>\n",
        "          <a href=\"http://i.imgur.com/Gwq1pea.jpg\">http://i.imgur.com/gwq1pea.jpg</a>\n",
        "        </li>\n",
        "        <li>\n",
        "          <img src=\"http://i.imgur.com/As4jmJu.jpg\">\n",
        "        </li>\n",
        "        <li>\n",
        "          <a href=\"http://i.imgur.com/As4jmJu.jpg\">http://i.imgur.com/as4jmju.jpg</a>\n",
        "        </li>\n",
        "        <li>\n",
        "          <img src=\"http://i.imgur.com/J5tWv4f.jpg\">\n",
        "        </li>\n",
        "        <li>\n",
        "          <a href=\"http://i.imgur.com/J5tWv4f.jpg\">http://i.imgur.com/j5twv4f.jpg</a>\n",
        "        </li>\n",
        "        <li>\n",
        "          <img src=\"http://i.imgur.com/aKvLaSp.jpg\">\n",
        "        </li>\n",
        "        <li>\n",
        "          <a href=\"http://i.imgur.com/aKvLaSp.jpg\">http://i.imgur.com/akvlasp.jpg</a>\n",
        "        </li>\n",
        "      </p>\n",
        "    </div>\n",
        "  </body>\n",
        "</html>\n"
       ]
      }
     ],
     "prompt_number": 923
    },
    {
     "cell_type": "code",
     "collapsed": false,
     "input": [],
     "language": "python",
     "metadata": {},
     "outputs": [],
     "prompt_number": 887
    },
    {
     "cell_type": "code",
     "collapsed": false,
     "input": [
      "ophtml = open('index.html', 'w')"
     ],
     "language": "python",
     "metadata": {},
     "outputs": [],
     "prompt_number": 900
    },
    {
     "cell_type": "code",
     "collapsed": false,
     "input": [
      "ophtml.write(str(doc))"
     ],
     "language": "python",
     "metadata": {},
     "outputs": [],
     "prompt_number": 901
    },
    {
     "cell_type": "code",
     "collapsed": false,
     "input": [
      "ophtml.close()"
     ],
     "language": "python",
     "metadata": {},
     "outputs": [],
     "prompt_number": 902
    },
    {
     "cell_type": "code",
     "collapsed": false,
     "input": [
      "import PIL"
     ],
     "language": "python",
     "metadata": {},
     "outputs": [],
     "prompt_number": 893
    },
    {
     "cell_type": "code",
     "collapsed": false,
     "input": [
      "jplis"
     ],
     "language": "python",
     "metadata": {},
     "outputs": [
      {
       "metadata": {},
       "output_type": "pyout",
       "prompt_number": 894,
       "text": [
        "[u'http://i.imgur.com/iebMRTk.jpg',\n",
        " u'http://i.imgur.com/PbybhGc.jpg',\n",
        " u'http://i.imgur.com/40RWPan.jpg?1?1014',\n",
        " u'http://i.imgur.com/M9S29ME.jpg?1',\n",
        " u'http://i.imgur.com/QmLNayj.jpg',\n",
        " u'http://i.imgur.com/vb9FmGc.jpg',\n",
        " u'http://i.imgur.com/6FeT6SU.jpg',\n",
        " u'http://i.imgur.com/HF0zKkO.jpg',\n",
        " u'http://i.imgur.com/xQW8c2H.jpg',\n",
        " u'http://i.imgur.com/NurXeuP.jpg',\n",
        " u'http://i.imgur.com/20BHaXN.jpg',\n",
        " u'http://i.imgur.com/GI0tcjy.jpg?1',\n",
        " u'http://i.imgur.com/dOd8cuv.jpg',\n",
        " u'http://i.imgur.com/Gwq1pea.jpg',\n",
        " u'http://i.imgur.com/As4jmJu.jpg',\n",
        " u'http://i.imgur.com/J5tWv4f.jpg',\n",
        " u'http://i.imgur.com/aKvLaSp.jpg',\n",
        " u'http://i.imgur.com/iebMRTk.jpg',\n",
        " u'http://i.imgur.com/PbybhGc.jpg',\n",
        " u'http://i.imgur.com/40RWPan.jpg?1?1014',\n",
        " u'http://i.imgur.com/M9S29ME.jpg?1',\n",
        " u'http://i.imgur.com/QmLNayj.jpg',\n",
        " u'http://i.imgur.com/vb9FmGc.jpg',\n",
        " u'http://i.imgur.com/6FeT6SU.jpg',\n",
        " u'http://i.imgur.com/HF0zKkO.jpg',\n",
        " u'http://i.imgur.com/xQW8c2H.jpg',\n",
        " u'http://i.imgur.com/NurXeuP.jpg',\n",
        " u'http://i.imgur.com/20BHaXN.jpg',\n",
        " u'http://i.imgur.com/GI0tcjy.jpg?1',\n",
        " u'http://i.imgur.com/dOd8cuv.jpg',\n",
        " u'http://i.imgur.com/Gwq1pea.jpg',\n",
        " u'http://i.imgur.com/As4jmJu.jpg',\n",
        " u'http://i.imgur.com/J5tWv4f.jpg',\n",
        " u'http://i.imgur.com/aKvLaSp.jpg']"
       ]
      }
     ],
     "prompt_number": 894
    },
    {
     "cell_type": "code",
     "collapsed": false,
     "input": [
      "rdnew"
     ],
     "language": "python",
     "metadata": {},
     "outputs": [
      {
       "metadata": {},
       "output_type": "pyout",
       "prompt_number": 895,
       "text": [
        "[<praw.objects.Submission at 0x2b3b350>,\n",
        " <praw.objects.Submission at 0x2b3ba10>,\n",
        " <praw.objects.Submission at 0x2b3bb10>,\n",
        " <praw.objects.Submission at 0x2b3bc10>,\n",
        " <praw.objects.Submission at 0x2463150>,\n",
        " <praw.objects.Submission at 0x24634d0>,\n",
        " <praw.objects.Submission at 0x24639d0>,\n",
        " <praw.objects.Submission at 0x24630d0>,\n",
        " <praw.objects.Submission at 0x2463ad0>,\n",
        " <praw.objects.Submission at 0x2476610>,\n",
        " <praw.objects.Submission at 0x2476650>,\n",
        " <praw.objects.Submission at 0x2427d50>,\n",
        " <praw.objects.Submission at 0x2427510>,\n",
        " <praw.objects.Submission at 0x2427610>,\n",
        " <praw.objects.Submission at 0x2427e50>,\n",
        " <praw.objects.Submission at 0x2b3bc50>,\n",
        " <praw.objects.Submission at 0x2d49bd0>,\n",
        " <praw.objects.Submission at 0x2d49ad0>,\n",
        " <praw.objects.Submission at 0x2d499d0>,\n",
        " <praw.objects.Submission at 0x2d49910>,\n",
        " <praw.objects.Submission at 0x2d49810>,\n",
        " <praw.objects.Submission at 0x2d49710>,\n",
        " <praw.objects.Submission at 0x2d49610>,\n",
        " <praw.objects.Submission at 0x2d49510>,\n",
        " <praw.objects.Submission at 0x2d49410>]"
       ]
      }
     ],
     "prompt_number": 895
    },
    {
     "cell_type": "code",
     "collapsed": false,
     "input": [
      "ransubz = random.randint(0,24)"
     ],
     "language": "python",
     "metadata": {},
     "outputs": [],
     "prompt_number": 896
    },
    {
     "cell_type": "code",
     "collapsed": false,
     "input": [
      "print ransubz"
     ],
     "language": "python",
     "metadata": {},
     "outputs": [
      {
       "output_type": "stream",
       "stream": "stdout",
       "text": [
        "24\n"
       ]
      }
     ],
     "prompt_number": 806
    },
    {
     "cell_type": "code",
     "collapsed": false,
     "input": [
      "ransev = rdnew[ransubz]"
     ],
     "language": "python",
     "metadata": {},
     "outputs": [],
     "prompt_number": 807
    },
    {
     "cell_type": "code",
     "collapsed": false,
     "input": [
      "rgdautoz = str(ransev.author)\n"
     ],
     "language": "python",
     "metadata": {},
     "outputs": [],
     "prompt_number": 808
    },
    {
     "cell_type": "code",
     "collapsed": false,
     "input": [
      "rgdsubred = str(ransev.subreddit)"
     ],
     "language": "python",
     "metadata": {},
     "outputs": [],
     "prompt_number": 809
    },
    {
     "cell_type": "code",
     "collapsed": false,
     "input": [
      "sutit = ('[' + rgdsubred + ']')"
     ],
     "language": "python",
     "metadata": {},
     "outputs": [],
     "prompt_number": 810
    },
    {
     "cell_type": "code",
     "collapsed": false,
     "input": [
      "sutit"
     ],
     "language": "python",
     "metadata": {},
     "outputs": [
      {
       "metadata": {},
       "output_type": "pyout",
       "prompt_number": 811,
       "text": [
        "'[redditgetsdrawn]'"
       ]
      }
     ],
     "prompt_number": 811
    },
    {
     "cell_type": "code",
     "collapsed": false,
     "input": [
      "rgdaqwew = ('xpost[RGD]' + rgdautoz)"
     ],
     "language": "python",
     "metadata": {},
     "outputs": [],
     "prompt_number": 812
    },
    {
     "cell_type": "code",
     "collapsed": false,
     "input": [
      "rgdaturo = str(ransev.url)"
     ],
     "language": "python",
     "metadata": {},
     "outputs": [],
     "prompt_number": 813
    },
    {
     "cell_type": "code",
     "collapsed": false,
     "input": [
      "rgdatit = str(ransev.title)"
     ],
     "language": "python",
     "metadata": {},
     "outputs": [],
     "prompt_number": 814
    },
    {
     "cell_type": "code",
     "collapsed": false,
     "input": [
      "rgdatit"
     ],
     "language": "python",
     "metadata": {},
     "outputs": [
      {
       "metadata": {},
       "output_type": "pyout",
       "prompt_number": 815,
       "text": [
        "'My SO and I at a Baseball game. :D'"
       ]
      }
     ],
     "prompt_number": 815
    },
    {
     "cell_type": "code",
     "collapsed": false,
     "input": [
      "#rd.get_top"
     ],
     "language": "python",
     "metadata": {},
     "outputs": [],
     "prompt_number": 816
    },
    {
     "cell_type": "code",
     "collapsed": false,
     "input": [
      "linkdict = {}"
     ],
     "language": "python",
     "metadata": {},
     "outputs": [],
     "prompt_number": 817
    },
    {
     "cell_type": "code",
     "collapsed": false,
     "input": [
      "ls"
     ],
     "language": "python",
     "metadata": {},
     "outputs": [
      {
       "output_type": "stream",
       "stream": "stdout",
       "text": [
        "idcomt.json  \u001b[0m\u001b[01;34mimgs\u001b[0m/  index.html  \u001b[01;35mlogo.gif\u001b[0m  style.css  userurl.json\r\n"
       ]
      }
     ],
     "prompt_number": 818
    },
    {
     "cell_type": "code",
     "collapsed": false,
     "input": [
      "ady = r.get_subreddit('artcontroldrawsyou')"
     ],
     "language": "python",
     "metadata": {},
     "outputs": [],
     "prompt_number": 819
    },
    {
     "cell_type": "code",
     "collapsed": false,
     "input": [
      "comrgd =  rgdatit + ' ' + rgdaturo"
     ],
     "language": "python",
     "metadata": {},
     "outputs": [],
     "prompt_number": 820
    },
    {
     "cell_type": "code",
     "collapsed": false,
     "input": [
      "comrgd"
     ],
     "language": "python",
     "metadata": {},
     "outputs": [
      {
       "metadata": {},
       "output_type": "pyout",
       "prompt_number": 821,
       "text": [
        "'My SO and I at a Baseball game. :D http://i.imgur.com/aKvLaSp.jpg'"
       ]
      }
     ],
     "prompt_number": 821
    },
    {
     "cell_type": "code",
     "collapsed": false,
     "input": [
      "import time"
     ],
     "language": "python",
     "metadata": {},
     "outputs": [],
     "prompt_number": 822
    },
    {
     "cell_type": "code",
     "collapsed": false,
     "input": [
      "loctime = time.localtime()"
     ],
     "language": "python",
     "metadata": {},
     "outputs": [],
     "prompt_number": 823
    },
    {
     "cell_type": "code",
     "collapsed": false,
     "input": [
      "loctime.tm_mday"
     ],
     "language": "python",
     "metadata": {},
     "outputs": [
      {
       "metadata": {},
       "output_type": "pyout",
       "prompt_number": 824,
       "text": [
        "3"
       ]
      }
     ],
     "prompt_number": 824
    },
    {
     "cell_type": "code",
     "collapsed": false,
     "input": [
      "loctime.tm_mon"
     ],
     "language": "python",
     "metadata": {},
     "outputs": [
      {
       "metadata": {},
       "output_type": "pyout",
       "prompt_number": 825,
       "text": [
        "8"
       ]
      }
     ],
     "prompt_number": 825
    },
    {
     "cell_type": "code",
     "collapsed": false,
     "input": [
      "thedat = (str(loctime.tm_mday) + '/' + str(loctime.tm_mon))"
     ],
     "language": "python",
     "metadata": {},
     "outputs": [],
     "prompt_number": 826
    },
    {
     "cell_type": "code",
     "collapsed": false,
     "input": [
      "thedat"
     ],
     "language": "python",
     "metadata": {},
     "outputs": [
      {
       "metadata": {},
       "output_type": "pyout",
       "prompt_number": 827,
       "text": [
        "'3/8'"
       ]
      }
     ],
     "prompt_number": 827
    },
    {
     "cell_type": "code",
     "collapsed": false,
     "input": [
      "mixtut = (thedat + sutit + rgdautoz)"
     ],
     "language": "python",
     "metadata": {},
     "outputs": [],
     "prompt_number": 828
    },
    {
     "cell_type": "code",
     "collapsed": false,
     "input": [
      "loctime"
     ],
     "language": "python",
     "metadata": {},
     "outputs": [
      {
       "metadata": {},
       "output_type": "pyout",
       "prompt_number": 829,
       "text": [
        "time.struct_time(tm_year=2014, tm_mon=8, tm_mday=3, tm_hour=1, tm_min=3, tm_sec=7, tm_wday=6, tm_yday=215, tm_isdst=0)"
       ]
      }
     ],
     "prompt_number": 829
    },
    {
     "cell_type": "code",
     "collapsed": false,
     "input": [
      "ady.submit(mixtut , (rgdaqwew, comrgd))"
     ],
     "language": "python",
     "metadata": {},
     "outputs": [
      {
       "metadata": {},
       "output_type": "pyout",
       "prompt_number": 830,
       "text": [
        "<praw.objects.Submission at 0x2d44850>"
       ]
      }
     ],
     "prompt_number": 830
    },
    {
     "cell_type": "raw",
     "metadata": {},
     "source": [
      "for newa in rdnew:\n",
      "    #rint newa.url\n",
      "    print len(newa)\n",
      "    htmstr = (str(newa.title) + '<a href=\"' + \n",
      "                 str(newa.url) + \n",
      "                 '\"><img class=\"aligncenter size-large wp-image-5723\" alt=\"' +\n",
      "                 str(newa.author) +\n",
      "                 '\" src=\"' + \n",
      "                 str(newa.url) + \n",
      "                 '\" /></a>')\n",
      "    #ophtml.write(htmstr)\n",
      "    #ady.submit(('[RGD]' + newa.author), newa.url)\n",
      "    print newa.author\n",
      "    #print newa.media\n",
      "    ophtml.write(htmstr)\n",
      "    print newa.selftext\n",
      "    print newa.url\n",
      "    print newa.num_comments\n",
      "    \n",
      "    linkdict.update({str(newa.author): str(newa.url)})\n"
     ]
    },
    {
     "cell_type": "code",
     "collapsed": false,
     "input": [
      "#print str(newa.title)"
     ],
     "language": "python",
     "metadata": {},
     "outputs": [],
     "prompt_number": 831
    },
    {
     "cell_type": "code",
     "collapsed": false,
     "input": [
      "import json"
     ],
     "language": "python",
     "metadata": {},
     "outputs": [],
     "prompt_number": 832
    },
    {
     "cell_type": "code",
     "collapsed": false,
     "input": [
      "newzjson = json.dumps(linkdict)"
     ],
     "language": "python",
     "metadata": {},
     "outputs": [],
     "prompt_number": 833
    },
    {
     "cell_type": "code",
     "collapsed": false,
     "input": [
      "#newzjson"
     ],
     "language": "python",
     "metadata": {},
     "outputs": [],
     "prompt_number": 834
    },
    {
     "cell_type": "code",
     "collapsed": false,
     "input": [],
     "language": "python",
     "metadata": {},
     "outputs": [],
     "prompt_number": 834
    },
    {
     "cell_type": "code",
     "collapsed": false,
     "input": [
      "rmine = r.get_redditor('itwillbemine')\n"
     ],
     "language": "python",
     "metadata": {},
     "outputs": [],
     "prompt_number": 835
    },
    {
     "cell_type": "code",
     "collapsed": false,
     "input": [
      "#opest = open('userurl.json', 'r')\n",
      "#opest.read()\n",
      "#opest.close()"
     ],
     "language": "python",
     "metadata": {},
     "outputs": [],
     "prompt_number": 836
    },
    {
     "cell_type": "code",
     "collapsed": false,
     "input": [
      "mincom = rmine.get_comments()"
     ],
     "language": "python",
     "metadata": {},
     "outputs": [],
     "prompt_number": 837
    },
    {
     "cell_type": "code",
     "collapsed": false,
     "input": [
      "#print mincom"
     ],
     "language": "python",
     "metadata": {},
     "outputs": [],
     "prompt_number": 838
    },
    {
     "cell_type": "code",
     "collapsed": false,
     "input": [
      "minels = []"
     ],
     "language": "python",
     "metadata": {},
     "outputs": [],
     "prompt_number": 839
    },
    {
     "cell_type": "code",
     "collapsed": false,
     "input": [
      "\n",
      "dausr = {}"
     ],
     "language": "python",
     "metadata": {},
     "outputs": [],
     "prompt_number": 840
    },
    {
     "cell_type": "code",
     "collapsed": false,
     "input": [
      "for newa in rdnew:\n",
      "    #rint newa.url\n",
      "    #print newa.author\n",
      "    linkdict.update({str(newa.author): str(newa.url)})"
     ],
     "language": "python",
     "metadata": {},
     "outputs": [],
     "prompt_number": 841
    },
    {
     "cell_type": "code",
     "collapsed": false,
     "input": [
      "for con in mincom:\n",
      "    #print con.body\n",
      "    minels.append(con)\n",
      "    dausr.update({str(con.id): str(con.body)})"
     ],
     "language": "python",
     "metadata": {},
     "outputs": [],
     "prompt_number": 842
    },
    {
     "cell_type": "code",
     "collapsed": false,
     "input": [
      "itwillbemine = dominate.document(title='itwillbemine')"
     ],
     "language": "python",
     "metadata": {},
     "outputs": [],
     "prompt_number": 916
    },
    {
     "cell_type": "code",
     "collapsed": false,
     "input": [
      "with itwillbemine.head:\n",
      "    link(rel='stylesheet', href='style.css')\n",
      "    script(type='text/javascript', src='script.js')\n",
      "\n",
      "with itwillbemine:\n",
      "    with div():\n",
      "        attr(cls='header')\n",
      "        #<img src=\"smiley.gif\" alt=\"Smiley face\" height=\"42\" width=\"42\">\n",
      "        h1('itwillbemine')\n",
      "        p(img(scr='http://brobeur.com/artcontroldrawsyou/logo.gif'))\n",
      "        for mine in minels:\n",
      "            h1(mine.created)\n",
      "            h2(mine.body)\n",
      "        \n",
      "    with div(id='author'):\n",
      "        for tits in titlis:\n",
      "            h3(tits)\n",
      "    \n",
      "    with div(id='body').add(p()):\n",
      "        for i in jplis:\n",
      "            li(img(i.lower(), src='%s' % i))\n",
      "            li(a(i.lower(), href='%s' % i))\n",
      "            \n",
      "\n",
      "\n",
      "\n",
      "print itwillbemine"
     ],
     "language": "python",
     "metadata": {},
     "outputs": [
      {
       "output_type": "stream",
       "stream": "stdout",
       "text": [
        "<!DOCTYPE html>\n",
        "<html>\n",
        "  <head>\n",
        "    <title>itwillbemine</title>\n",
        "    <link href=\"style.css\" rel=\"stylesheet\">\n",
        "    <script src=\"script.js\" type=\"text/javascript\"></script>\n",
        "  </head>\n",
        "  <body>\n",
        "    <div class=\"header\">\n",
        "      <h1>itwillbemine</h1>\n",
        "      <p>\n",
        "        <img scr=\"http://brobeur.com/artcontroldrawsyou/logo.gif\">\n",
        "      </p>\n",
        "      <h1>1407050620.0</h1>\n",
        "      <h2>I'm sorry too; the community voted this rule into place.</h2>\n",
        "      <h1>1407039446.0</h1>\n",
        "      <h2>It might be the tree and it's angles, along with the angle of the ground as well as the shadows in the foreground. In the second one, the trees/line are more uniform (and thus, more comforting)? \n",
        "\n",
        "They are both beautiful. Love them!</h2>\n",
        "      <h1>1407037387.0</h1>\n",
        "      <h2>You broke our frequent posting rule:\n",
        "\n",
        "http://www.reddit.com/r/redditgetsdrawn/comments/2cft4l/anyone_want_to_draw_me/\n",
        "\n",
        "This post was removed.</h2>\n",
        "      <h1>1407037350.0</h1>\n",
        "      <h2>Posting, deleting, reposting, frequent posting = ban\n",
        "\n",
        "http://www.reddit.com/r/redditgetsdrawn/comments/2cd8rg/hey_rgd_can_you_please_draw_me_and_my_son_as_our/</h2>\n",
        "      <h1>1407037309.0</h1>\n",
        "      <h2>Posting, deleting, reposting, frequent posting = ban\n",
        "\n",
        "http://www.reddit.com/r/redditgetsdrawn/comments/2ce8fk/new_guy_here_could_someone_please_make_a_drawing/</h2>\n",
        "      <h1>1407037207.0</h1>\n",
        "      <h2>Both of your posts have been removed. Deleting posts is not allowed. Read our rules.</h2>\n",
        "      <h1>1407037118.0</h1>\n",
        "      <h2>You can be shitty at drawing - hey, I am too! But you do have to give it a serious attempt. So beginners have to take care to try their best in order to not have their submissions confused with troll art.\n",
        "\n",
        "Regarding you comment about fun, [oh yes, I like to have fun](http://i.imgur.com/vbfPgyD.gif)</h2>\n",
        "      <h1>1407036939.0</h1>\n",
        "      <h2>Gift posts aren't allowed, so your post was removed.</h2>\n",
        "      <h1>1407036916.0</h1>\n",
        "      <h2>All children have to be clothed, so your post was removed.</h2>\n",
        "      <h1>1407036892.0</h1>\n",
        "      <h2>1) unclear title\n",
        "\n",
        "2) sad title\n",
        "\n",
        "3) gift post\n",
        "\n",
        "\n",
        "You broke three rules in one go! Congrats! Please read our rules before posting.</h2>\n",
        "      <h1>1407036850.0</h1>\n",
        "      <h2>Sad posts aren't allowed, so this was removed. Please read our rules.</h2>\n",
        "      <h1>1407036830.0</h1>\n",
        "      <h2>Gift posts aren't allowed, so your post was removed.</h2>\n",
        "      <h1>1407036772.0</h1>\n",
        "      <h2>At my workplace, it most certainly would.</h2>\n",
        "      <h1>1407036748.0</h1>\n",
        "      <h2>You can't give names in this sub, so your post was removed.</h2>\n",
        "      <h1>1407036637.0</h1>\n",
        "      <h2>Your post was removed; see our rule on weddings.</h2>\n",
        "      <h1>1407036561.0</h1>\n",
        "      <h2>I marked this NSFW for you - please use that button in the future as appropriate.</h2>\n",
        "      <h1>1407036512.0</h1>\n",
        "      <h2>Post removed for having an unclear title. Please review our rules.</h2>\n",
        "      <h1>1407036484.0</h1>\n",
        "      <h2>Gift posts aren't allowed, so your post was removed.</h2>\n",
        "      <h1>1407036463.0</h1>\n",
        "      <h2>Your images are not publicly available, so your post was removed.</h2>\n",
        "      <h1>1407036417.0</h1>\n",
        "      <h2>Your comment was inappropriate and was removed. Please consider this a warning.</h2>\n",
        "      <h1>1407035995.0</h1>\n",
        "      <h2>Layperson's opinion: Number 1 - it contains a haunting quality that the second didn't make me feel. Both are spectacular.</h2>\n",
        "      <h1>1407035936.0</h1>\n",
        "      <h2>Please don't say things like &quot;best&quot; or &quot;win&quot; in this sub - if you must, use the word &quot;favorite&quot; - it's less insulting and less controversial to the other artists. Thanks!</h2>\n",
        "      <h1>1407031305.0</h1>\n",
        "      <h2>Why, thank you!</h2>\n",
        "      <h1>1407031267.0</h1>\n",
        "      <h2>Hey man, whatever tips yer hat.</h2>\n",
        "      <h1>1407030137.0</h1>\n",
        "      <h2>&amp;lt;3</h2>\n",
        "    </div>\n",
        "    <div id=\"author\">\n",
        "      <h3>Shelton500</h3>\n",
        "      <h3>Tunadude</h3>\n",
        "      <h3>Person_of_interest_</h3>\n",
        "      <h3>cpninsano</h3>\n",
        "      <h3>13a13y13looz</h3>\n",
        "      <h3>Jay_Jay_Kawalski</h3>\n",
        "      <h3>Loopyprawn</h3>\n",
        "      <h3>sunatori</h3>\n",
        "      <h3>FeedMeBodies539</h3>\n",
        "      <h3>youownnothing</h3>\n",
        "      <h3>inobnoxious</h3>\n",
        "      <h3>Throwawaydoee</h3>\n",
        "      <h3>MrMalta</h3>\n",
        "      <h3>kaishu_</h3>\n",
        "      <h3>originalusrname</h3>\n",
        "      <h3>bently82</h3>\n",
        "      <h3>eljue</h3>\n",
        "      <h3>Stopjonah</h3>\n",
        "      <h3>melissasoliz</h3>\n",
        "      <h3>ThatGuyAnderson</h3>\n",
        "      <h3>x_ellie_k</h3>\n",
        "      <h3>wyld3</h3>\n",
        "      <h3>thewolfman15</h3>\n",
        "      <h3>CUNT-MUFFINS</h3>\n",
        "      <h3>Yamsss</h3>\n",
        "    </div>\n",
        "    <div id=\"body\">\n",
        "      <p>\n",
        "        <li>\n",
        "          <img src=\"http://i.imgur.com/iebMRTk.jpg\">\n",
        "        </li>\n",
        "        <li>\n",
        "          <a href=\"http://i.imgur.com/iebMRTk.jpg\">http://i.imgur.com/iebmrtk.jpg</a>\n",
        "        </li>\n",
        "        <li>\n",
        "          <img src=\"http://i.imgur.com/PbybhGc.jpg\">\n",
        "        </li>\n",
        "        <li>\n",
        "          <a href=\"http://i.imgur.com/PbybhGc.jpg\">http://i.imgur.com/pbybhgc.jpg</a>\n",
        "        </li>\n",
        "        <li>\n",
        "          <img src=\"http://i.imgur.com/40RWPan.jpg?1?1014\">\n",
        "        </li>\n",
        "        <li>\n",
        "          <a href=\"http://i.imgur.com/40RWPan.jpg?1?1014\">http://i.imgur.com/40rwpan.jpg?1?1014</a>\n",
        "        </li>\n",
        "        <li>\n",
        "          <img src=\"http://i.imgur.com/M9S29ME.jpg?1\">\n",
        "        </li>\n",
        "        <li>\n",
        "          <a href=\"http://i.imgur.com/M9S29ME.jpg?1\">http://i.imgur.com/m9s29me.jpg?1</a>\n",
        "        </li>\n",
        "        <li>\n",
        "          <img src=\"http://i.imgur.com/QmLNayj.jpg\">\n",
        "        </li>\n",
        "        <li>\n",
        "          <a href=\"http://i.imgur.com/QmLNayj.jpg\">http://i.imgur.com/qmlnayj.jpg</a>\n",
        "        </li>\n",
        "        <li>\n",
        "          <img src=\"http://i.imgur.com/vb9FmGc.jpg\">\n",
        "        </li>\n",
        "        <li>\n",
        "          <a href=\"http://i.imgur.com/vb9FmGc.jpg\">http://i.imgur.com/vb9fmgc.jpg</a>\n",
        "        </li>\n",
        "        <li>\n",
        "          <img src=\"http://i.imgur.com/6FeT6SU.jpg\">\n",
        "        </li>\n",
        "        <li>\n",
        "          <a href=\"http://i.imgur.com/6FeT6SU.jpg\">http://i.imgur.com/6fet6su.jpg</a>\n",
        "        </li>\n",
        "        <li>\n",
        "          <img src=\"http://i.imgur.com/HF0zKkO.jpg\">\n",
        "        </li>\n",
        "        <li>\n",
        "          <a href=\"http://i.imgur.com/HF0zKkO.jpg\">http://i.imgur.com/hf0zkko.jpg</a>\n",
        "        </li>\n",
        "        <li>\n",
        "          <img src=\"http://i.imgur.com/xQW8c2H.jpg\">\n",
        "        </li>\n",
        "        <li>\n",
        "          <a href=\"http://i.imgur.com/xQW8c2H.jpg\">http://i.imgur.com/xqw8c2h.jpg</a>\n",
        "        </li>\n",
        "        <li>\n",
        "          <img src=\"http://i.imgur.com/NurXeuP.jpg\">\n",
        "        </li>\n",
        "        <li>\n",
        "          <a href=\"http://i.imgur.com/NurXeuP.jpg\">http://i.imgur.com/nurxeup.jpg</a>\n",
        "        </li>\n",
        "        <li>\n",
        "          <img src=\"http://i.imgur.com/20BHaXN.jpg\">\n",
        "        </li>\n",
        "        <li>\n",
        "          <a href=\"http://i.imgur.com/20BHaXN.jpg\">http://i.imgur.com/20bhaxn.jpg</a>\n",
        "        </li>\n",
        "        <li>\n",
        "          <img src=\"http://i.imgur.com/GI0tcjy.jpg?1\">\n",
        "        </li>\n",
        "        <li>\n",
        "          <a href=\"http://i.imgur.com/GI0tcjy.jpg?1\">http://i.imgur.com/gi0tcjy.jpg?1</a>\n",
        "        </li>\n",
        "        <li>\n",
        "          <img src=\"http://i.imgur.com/dOd8cuv.jpg\">\n",
        "        </li>\n",
        "        <li>\n",
        "          <a href=\"http://i.imgur.com/dOd8cuv.jpg\">http://i.imgur.com/dod8cuv.jpg</a>\n",
        "        </li>\n",
        "        <li>\n",
        "          <img src=\"http://i.imgur.com/Gwq1pea.jpg\">\n",
        "        </li>\n",
        "        <li>\n",
        "          <a href=\"http://i.imgur.com/Gwq1pea.jpg\">http://i.imgur.com/gwq1pea.jpg</a>\n",
        "        </li>\n",
        "        <li>\n",
        "          <img src=\"http://i.imgur.com/As4jmJu.jpg\">\n",
        "        </li>\n",
        "        <li>\n",
        "          <a href=\"http://i.imgur.com/As4jmJu.jpg\">http://i.imgur.com/as4jmju.jpg</a>\n",
        "        </li>\n",
        "        <li>\n",
        "          <img src=\"http://i.imgur.com/J5tWv4f.jpg\">\n",
        "        </li>\n",
        "        <li>\n",
        "          <a href=\"http://i.imgur.com/J5tWv4f.jpg\">http://i.imgur.com/j5twv4f.jpg</a>\n",
        "        </li>\n",
        "        <li>\n",
        "          <img src=\"http://i.imgur.com/aKvLaSp.jpg\">\n",
        "        </li>\n",
        "        <li>\n",
        "          <a href=\"http://i.imgur.com/aKvLaSp.jpg\">http://i.imgur.com/akvlasp.jpg</a>\n",
        "        </li>\n",
        "        <li>\n",
        "          <img src=\"http://i.imgur.com/iebMRTk.jpg\">\n",
        "        </li>\n",
        "        <li>\n",
        "          <a href=\"http://i.imgur.com/iebMRTk.jpg\">http://i.imgur.com/iebmrtk.jpg</a>\n",
        "        </li>\n",
        "        <li>\n",
        "          <img src=\"http://i.imgur.com/PbybhGc.jpg\">\n",
        "        </li>\n",
        "        <li>\n",
        "          <a href=\"http://i.imgur.com/PbybhGc.jpg\">http://i.imgur.com/pbybhgc.jpg</a>\n",
        "        </li>\n",
        "        <li>\n",
        "          <img src=\"http://i.imgur.com/40RWPan.jpg?1?1014\">\n",
        "        </li>\n",
        "        <li>\n",
        "          <a href=\"http://i.imgur.com/40RWPan.jpg?1?1014\">http://i.imgur.com/40rwpan.jpg?1?1014</a>\n",
        "        </li>\n",
        "        <li>\n",
        "          <img src=\"http://i.imgur.com/M9S29ME.jpg?1\">\n",
        "        </li>\n",
        "        <li>\n",
        "          <a href=\"http://i.imgur.com/M9S29ME.jpg?1\">http://i.imgur.com/m9s29me.jpg?1</a>\n",
        "        </li>\n",
        "        <li>\n",
        "          <img src=\"http://i.imgur.com/QmLNayj.jpg\">\n",
        "        </li>\n",
        "        <li>\n",
        "          <a href=\"http://i.imgur.com/QmLNayj.jpg\">http://i.imgur.com/qmlnayj.jpg</a>\n",
        "        </li>\n",
        "        <li>\n",
        "          <img src=\"http://i.imgur.com/vb9FmGc.jpg\">\n",
        "        </li>\n",
        "        <li>\n",
        "          <a href=\"http://i.imgur.com/vb9FmGc.jpg\">http://i.imgur.com/vb9fmgc.jpg</a>\n",
        "        </li>\n",
        "        <li>\n",
        "          <img src=\"http://i.imgur.com/6FeT6SU.jpg\">\n",
        "        </li>\n",
        "        <li>\n",
        "          <a href=\"http://i.imgur.com/6FeT6SU.jpg\">http://i.imgur.com/6fet6su.jpg</a>\n",
        "        </li>\n",
        "        <li>\n",
        "          <img src=\"http://i.imgur.com/HF0zKkO.jpg\">\n",
        "        </li>\n",
        "        <li>\n",
        "          <a href=\"http://i.imgur.com/HF0zKkO.jpg\">http://i.imgur.com/hf0zkko.jpg</a>\n",
        "        </li>\n",
        "        <li>\n",
        "          <img src=\"http://i.imgur.com/xQW8c2H.jpg\">\n",
        "        </li>\n",
        "        <li>\n",
        "          <a href=\"http://i.imgur.com/xQW8c2H.jpg\">http://i.imgur.com/xqw8c2h.jpg</a>\n",
        "        </li>\n",
        "        <li>\n",
        "          <img src=\"http://i.imgur.com/NurXeuP.jpg\">\n",
        "        </li>\n",
        "        <li>\n",
        "          <a href=\"http://i.imgur.com/NurXeuP.jpg\">http://i.imgur.com/nurxeup.jpg</a>\n",
        "        </li>\n",
        "        <li>\n",
        "          <img src=\"http://i.imgur.com/20BHaXN.jpg\">\n",
        "        </li>\n",
        "        <li>\n",
        "          <a href=\"http://i.imgur.com/20BHaXN.jpg\">http://i.imgur.com/20bhaxn.jpg</a>\n",
        "        </li>\n",
        "        <li>\n",
        "          <img src=\"http://i.imgur.com/GI0tcjy.jpg?1\">\n",
        "        </li>\n",
        "        <li>\n",
        "          <a href=\"http://i.imgur.com/GI0tcjy.jpg?1\">http://i.imgur.com/gi0tcjy.jpg?1</a>\n",
        "        </li>\n",
        "        <li>\n",
        "          <img src=\"http://i.imgur.com/dOd8cuv.jpg\">\n",
        "        </li>\n",
        "        <li>\n",
        "          <a href=\"http://i.imgur.com/dOd8cuv.jpg\">http://i.imgur.com/dod8cuv.jpg</a>\n",
        "        </li>\n",
        "        <li>\n",
        "          <img src=\"http://i.imgur.com/Gwq1pea.jpg\">\n",
        "        </li>\n",
        "        <li>\n",
        "          <a href=\"http://i.imgur.com/Gwq1pea.jpg\">http://i.imgur.com/gwq1pea.jpg</a>\n",
        "        </li>\n",
        "        <li>\n",
        "          <img src=\"http://i.imgur.com/As4jmJu.jpg\">\n",
        "        </li>\n",
        "        <li>\n",
        "          <a href=\"http://i.imgur.com/As4jmJu.jpg\">http://i.imgur.com/as4jmju.jpg</a>\n",
        "        </li>\n",
        "        <li>\n",
        "          <img src=\"http://i.imgur.com/J5tWv4f.jpg\">\n",
        "        </li>\n",
        "        <li>\n",
        "          <a href=\"http://i.imgur.com/J5tWv4f.jpg\">http://i.imgur.com/j5twv4f.jpg</a>\n",
        "        </li>\n",
        "        <li>\n",
        "          <img src=\"http://i.imgur.com/aKvLaSp.jpg\">\n",
        "        </li>\n",
        "        <li>\n",
        "          <a href=\"http://i.imgur.com/aKvLaSp.jpg\">http://i.imgur.com/akvlasp.jpg</a>\n",
        "        </li>\n",
        "        <li>\n",
        "          <img src=\"http://i.imgur.com/iebMRTk.jpg\">\n",
        "        </li>\n",
        "        <li>\n",
        "          <a href=\"http://i.imgur.com/iebMRTk.jpg\">http://i.imgur.com/iebmrtk.jpg</a>\n",
        "        </li>\n",
        "        <li>\n",
        "          <img src=\"http://i.imgur.com/PbybhGc.jpg\">\n",
        "        </li>\n",
        "        <li>\n",
        "          <a href=\"http://i.imgur.com/PbybhGc.jpg\">http://i.imgur.com/pbybhgc.jpg</a>\n",
        "        </li>\n",
        "        <li>\n",
        "          <img src=\"http://i.imgur.com/40RWPan.jpg?1?1014\">\n",
        "        </li>\n",
        "        <li>\n",
        "          <a href=\"http://i.imgur.com/40RWPan.jpg?1?1014\">http://i.imgur.com/40rwpan.jpg?1?1014</a>\n",
        "        </li>\n",
        "        <li>\n",
        "          <img src=\"http://i.imgur.com/M9S29ME.jpg?1\">\n",
        "        </li>\n",
        "        <li>\n",
        "          <a href=\"http://i.imgur.com/M9S29ME.jpg?1\">http://i.imgur.com/m9s29me.jpg?1</a>\n",
        "        </li>\n",
        "        <li>\n",
        "          <img src=\"http://i.imgur.com/QmLNayj.jpg\">\n",
        "        </li>\n",
        "        <li>\n",
        "          <a href=\"http://i.imgur.com/QmLNayj.jpg\">http://i.imgur.com/qmlnayj.jpg</a>\n",
        "        </li>\n",
        "        <li>\n",
        "          <img src=\"http://i.imgur.com/vb9FmGc.jpg\">\n",
        "        </li>\n",
        "        <li>\n",
        "          <a href=\"http://i.imgur.com/vb9FmGc.jpg\">http://i.imgur.com/vb9fmgc.jpg</a>\n",
        "        </li>\n",
        "        <li>\n",
        "          <img src=\"http://i.imgur.com/6FeT6SU.jpg\">\n",
        "        </li>\n",
        "        <li>\n",
        "          <a href=\"http://i.imgur.com/6FeT6SU.jpg\">http://i.imgur.com/6fet6su.jpg</a>\n",
        "        </li>\n",
        "        <li>\n",
        "          <img src=\"http://i.imgur.com/HF0zKkO.jpg\">\n",
        "        </li>\n",
        "        <li>\n",
        "          <a href=\"http://i.imgur.com/HF0zKkO.jpg\">http://i.imgur.com/hf0zkko.jpg</a>\n",
        "        </li>\n",
        "        <li>\n",
        "          <img src=\"http://i.imgur.com/xQW8c2H.jpg\">\n",
        "        </li>\n",
        "        <li>\n",
        "          <a href=\"http://i.imgur.com/xQW8c2H.jpg\">http://i.imgur.com/xqw8c2h.jpg</a>\n",
        "        </li>\n",
        "        <li>\n",
        "          <img src=\"http://i.imgur.com/NurXeuP.jpg\">\n",
        "        </li>\n",
        "        <li>\n",
        "          <a href=\"http://i.imgur.com/NurXeuP.jpg\">http://i.imgur.com/nurxeup.jpg</a>\n",
        "        </li>\n",
        "        <li>\n",
        "          <img src=\"http://i.imgur.com/20BHaXN.jpg\">\n",
        "        </li>\n",
        "        <li>\n",
        "          <a href=\"http://i.imgur.com/20BHaXN.jpg\">http://i.imgur.com/20bhaxn.jpg</a>\n",
        "        </li>\n",
        "        <li>\n",
        "          <img src=\"http://i.imgur.com/GI0tcjy.jpg?1\">\n",
        "        </li>\n",
        "        <li>\n",
        "          <a href=\"http://i.imgur.com/GI0tcjy.jpg?1\">http://i.imgur.com/gi0tcjy.jpg?1</a>\n",
        "        </li>\n",
        "        <li>\n",
        "          <img src=\"http://i.imgur.com/dOd8cuv.jpg\">\n",
        "        </li>\n",
        "        <li>\n",
        "          <a href=\"http://i.imgur.com/dOd8cuv.jpg\">http://i.imgur.com/dod8cuv.jpg</a>\n",
        "        </li>\n",
        "        <li>\n",
        "          <img src=\"http://i.imgur.com/Gwq1pea.jpg\">\n",
        "        </li>\n",
        "        <li>\n",
        "          <a href=\"http://i.imgur.com/Gwq1pea.jpg\">http://i.imgur.com/gwq1pea.jpg</a>\n",
        "        </li>\n",
        "        <li>\n",
        "          <img src=\"http://i.imgur.com/As4jmJu.jpg\">\n",
        "        </li>\n",
        "        <li>\n",
        "          <a href=\"http://i.imgur.com/As4jmJu.jpg\">http://i.imgur.com/as4jmju.jpg</a>\n",
        "        </li>\n",
        "        <li>\n",
        "          <img src=\"http://i.imgur.com/J5tWv4f.jpg\">\n",
        "        </li>\n",
        "        <li>\n",
        "          <a href=\"http://i.imgur.com/J5tWv4f.jpg\">http://i.imgur.com/j5twv4f.jpg</a>\n",
        "        </li>\n",
        "        <li>\n",
        "          <img src=\"http://i.imgur.com/aKvLaSp.jpg\">\n",
        "        </li>\n",
        "        <li>\n",
        "          <a href=\"http://i.imgur.com/aKvLaSp.jpg\">http://i.imgur.com/akvlasp.jpg</a>\n",
        "        </li>\n",
        "      </p>\n",
        "    </div>\n",
        "  </body>\n",
        "</html>\n"
       ]
      }
     ],
     "prompt_number": 917
    },
    {
     "cell_type": "code",
     "collapsed": false,
     "input": [
      "minels"
     ],
     "language": "python",
     "metadata": {},
     "outputs": [
      {
       "metadata": {},
       "output_type": "pyout",
       "prompt_number": 843,
       "text": [
        "[<praw.objects.Comment at 0x3491f50>,\n",
        " <praw.objects.Comment at 0x349d250>,\n",
        " <praw.objects.Comment at 0x349d350>,\n",
        " <praw.objects.Comment at 0x349d450>,\n",
        " <praw.objects.Comment at 0x349d550>,\n",
        " <praw.objects.Comment at 0x349d650>,\n",
        " <praw.objects.Comment at 0x349d750>,\n",
        " <praw.objects.Comment at 0x349d850>,\n",
        " <praw.objects.Comment at 0x349d950>,\n",
        " <praw.objects.Comment at 0x349da90>,\n",
        " <praw.objects.Comment at 0x349db90>,\n",
        " <praw.objects.Comment at 0x349dc90>,\n",
        " <praw.objects.Comment at 0x349dd90>,\n",
        " <praw.objects.Comment at 0x349de90>,\n",
        " <praw.objects.Comment at 0x349df90>,\n",
        " <praw.objects.Comment at 0x34ae0d0>,\n",
        " <praw.objects.Comment at 0x34ae1d0>,\n",
        " <praw.objects.Comment at 0x34ae2d0>,\n",
        " <praw.objects.Comment at 0x34ae3d0>,\n",
        " <praw.objects.Comment at 0x34ae4d0>,\n",
        " <praw.objects.Comment at 0x34ae590>,\n",
        " <praw.objects.Comment at 0x34ae690>,\n",
        " <praw.objects.Comment at 0x34ae7d0>,\n",
        " <praw.objects.Comment at 0x34ae8d0>,\n",
        " <praw.objects.Comment at 0x34ae9d0>]"
       ]
      }
     ],
     "prompt_number": 843
    },
    {
     "cell_type": "code",
     "collapsed": false,
     "input": [
      "noizjson = json.dumps(dausr)"
     ],
     "language": "python",
     "metadata": {},
     "outputs": [],
     "prompt_number": 844
    },
    {
     "cell_type": "code",
     "collapsed": false,
     "input": [
      "newposts = open('userurl.json', 'a')\n",
      "newposts.write(newzjson)\n",
      "print ('file userurl.json updated')\n",
      "newcomments = open('idcomt.json', 'a')\n",
      "newcomments.write(noizjson)\n",
      "print ('user comments updated')\n",
      "newposts.close()\n",
      "newcomments.close()"
     ],
     "language": "python",
     "metadata": {},
     "outputs": [
      {
       "output_type": "stream",
       "stream": "stdout",
       "text": [
        "file userurl.json updated\n",
        "user comments updated\n"
       ]
      }
     ],
     "prompt_number": 845
    },
    {
     "cell_type": "code",
     "collapsed": false,
     "input": [
      "rdusr = str(con.author)\n"
     ],
     "language": "python",
     "metadata": {},
     "outputs": [],
     "prompt_number": 846
    },
    {
     "cell_type": "code",
     "collapsed": false,
     "input": [
      "minelsz = []"
     ],
     "language": "python",
     "metadata": {},
     "outputs": [],
     "prompt_number": 847
    },
    {
     "cell_type": "code",
     "collapsed": false,
     "input": [
      "#for mina in minels:\n",
      "    #print mina.body\n",
      "   # minelsz.append(mina.body)"
     ],
     "language": "python",
     "metadata": {},
     "outputs": [],
     "prompt_number": 848
    },
    {
     "cell_type": "code",
     "collapsed": false,
     "input": [
      "#minelsz"
     ],
     "language": "python",
     "metadata": {},
     "outputs": [],
     "prompt_number": 849
    },
    {
     "cell_type": "code",
     "collapsed": false,
     "input": [
      "#mina.body"
     ],
     "language": "python",
     "metadata": {},
     "outputs": [],
     "prompt_number": 850
    },
    {
     "cell_type": "code",
     "collapsed": false,
     "input": [],
     "language": "python",
     "metadata": {},
     "outputs": [],
     "prompt_number": 685
    },
    {
     "cell_type": "code",
     "collapsed": false,
     "input": [],
     "language": "python",
     "metadata": {},
     "outputs": [],
     "prompt_number": 609
    },
    {
     "cell_type": "code",
     "collapsed": false,
     "input": [],
     "language": "python",
     "metadata": {},
     "outputs": [],
     "prompt_number": 609
    },
    {
     "cell_type": "code",
     "collapsed": false,
     "input": [],
     "language": "python",
     "metadata": {},
     "outputs": []
    }
   ],
   "metadata": {}
  }
 ]
}