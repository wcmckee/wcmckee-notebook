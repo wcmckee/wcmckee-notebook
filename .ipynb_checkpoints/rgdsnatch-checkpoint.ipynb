{
 "metadata": {
  "name": "",
  "signature": "sha256:1678246753487ae3e43204ec88b69b9da4668a4cf6fa837a630258b6c7d8f5a8"
 },
 "nbformat": 3,
 "nbformat_minor": 0,
 "worksheets": [
  {
   "cells": [
    {
     "cell_type": "markdown",
     "metadata": {},
     "source": [
      "RedditGetsDrawn Snatch\n",
      "\n",
      "This is a Python script that takes data from reddit and posts it to another subreddit. It also creates a html file with the images embed into. The images are the most recent 25 on r/redditgetsdrawn.\n",
      "\n"
     ]
    },
    {
     "cell_type": "markdown",
     "metadata": {},
     "source": [
      "TODO\n",
      "\n",
      "submit art to users via website\n",
      "\n",
      "fix image sizes (need to scale down to 550px)\n",
      "\n",
      "Save to server rather than imgur\n",
      "\n",
      "Archieve, snapshots of rgd\n",
      "\n",
      "more artcontrol\n",
      "\n",
      "itwillbemine comments to html - currently being saved in contact \n",
      "\n",
      "work on css, div up page, title, side, body, footer\n",
      "\n",
      "update twitter with ONE IMAGE and announce that the list has been updated.\n",
      "\n",
      "write blog post and submits to artcontroldrawsyou/blog \n",
      "\n",
      "gets sticked post on reddit\n",
      "\n",
      "delete about/contact page and have on all same page. can still have link to blog. \n",
      "about \n",
      "contact etc... along the top.\n",
      "other sections\n",
      "\n",
      "post images to blog for archieve - save body to wcmckee.com/blog - md format?\n",
      "\n",
      "nikola install - build site.\n",
      "\n",
      "cronjob to update site ever ?? hours? 4?\n",
      "\n",
      "photos section: latest 25 photos submitted to redditgetsdrawn.\n",
      "art section: latest 25 art submitted to redditgetsdrawn. "
     ]
    },
    {
     "cell_type": "code",
     "collapsed": false,
     "input": [
      "import os\n",
      "import random\n",
      "import requests\n",
      "from bs4 import BeautifulSoup\n",
      "import re\n",
      "import json\n",
      "import time\n",
      "import praw\n",
      "import dominate\n",
      "from dominate.tags import *\n"
     ],
     "language": "python",
     "metadata": {},
     "outputs": [],
     "prompt_number": 899
    },
    {
     "cell_type": "code",
     "collapsed": false,
     "input": [
      "os.chdir('/var/www/artcontroldrawsyou')"
     ],
     "language": "python",
     "metadata": {},
     "outputs": [],
     "prompt_number": 900
    },
    {
     "cell_type": "code",
     "collapsed": false,
     "input": [
      "r = praw.Reddit(user_agent='rgdsnatch')"
     ],
     "language": "python",
     "metadata": {},
     "outputs": [],
     "prompt_number": 901
    },
    {
     "cell_type": "code",
     "collapsed": false,
     "input": [
      "#r.login('artcontrol', 'taylor123vag!')"
     ],
     "language": "python",
     "metadata": {},
     "outputs": [],
     "prompt_number": 902
    },
    {
     "cell_type": "code",
     "collapsed": false,
     "input": [
      "rd = r.get_subreddit('redditgetsdrawn')"
     ],
     "language": "python",
     "metadata": {},
     "outputs": [],
     "prompt_number": 903
    },
    {
     "cell_type": "code",
     "collapsed": false,
     "input": [
      "subz = rd.get_hot().next()\n",
      "istit = (subz.title)\n",
      "istxt = (subz.selftext_html)\n",
      "istick = (subz.stickied)"
     ],
     "language": "python",
     "metadata": {},
     "outputs": [],
     "prompt_number": 904
    },
    {
     "cell_type": "code",
     "collapsed": false,
     "input": [
      "istit"
     ],
     "language": "python",
     "metadata": {},
     "outputs": [
      {
       "metadata": {},
       "output_type": "pyout",
       "prompt_number": 905,
       "text": [
        "u\"It's time for RGD Mod Favorites (July 27 - August 2)! See inside for details!\""
       ]
      }
     ],
     "prompt_number": 905
    },
    {
     "cell_type": "code",
     "collapsed": false,
     "input": [
      "istxt"
     ],
     "language": "python",
     "metadata": {},
     "outputs": [
      {
       "metadata": {},
       "output_type": "pyout",
       "prompt_number": 906,
       "text": [
        "u'&lt;!-- SC_OFF --&gt;&lt;div class=\"md\"&gt;&lt;p&gt;Each week, every mod picks his or her favorite five RGD pieces from that week. Each Sunday, those selections are compiled and posted! Let&amp;#39;s take a gander, shall we? Shan&amp;#39;t we?&lt;/p&gt;\\n\\n&lt;p&gt;&lt;strong&gt;Selections from fivepmsomewhere&lt;/strong&gt;&lt;/p&gt;\\n\\n&lt;p&gt;Submitter &lt;a href=\"http://i.imgur.com/hSZlpTc.png\"&gt;futachankawaiidesune&lt;/a&gt;, artist &lt;a href=\"https://i.imgur.com/LWwJc4S.jpg\"&gt;bcsketches&lt;/a&gt;, &lt;a href=\"http://www.reddit.com/r/redditgetsdrawn/comments/2c8w7w/profile_of_me_in_drag_sans_wig_any_takers/cjdgaj1\"&gt;Permalink&lt;/a&gt;&lt;/p&gt;\\n\\n&lt;p&gt;Submitter &lt;a href=\"http://i.imgur.com/SfVd5lf.jpg\"&gt;ashcaughtemall&lt;/a&gt;, artist &lt;a href=\"http://i.imgur.com/ueDc70D.jpg\"&gt;---c&lt;/a&gt;, &lt;a href=\"http://www.reddit.com/r/redditgetsdrawn/comments/2c475g/please_draw_me_3/cjbv62n\"&gt;Permalink&lt;/a&gt;&lt;/p&gt;\\n\\n&lt;p&gt;Submitter &lt;a href=\"http://i.imgur.com/Hv8py7S.jpg\"&gt;pseudogentry&lt;/a&gt;, artist &lt;a href=\"http://i.imgur.com/YBg9dtb.jpg\"&gt;jareddrawsreddit&lt;/a&gt;, &lt;a href=\"http://www.reddit.com/r/redditgetsdrawn/comments/2bzirx/would_love_for_anyone_to_have_a_go_my_dad_and_me/cjb22hp\"&gt;Permalink&lt;/a&gt;&lt;/p&gt;\\n\\n&lt;p&gt;Submitter &lt;a href=\"http://i.imgur.com/bIj8t8W.jpg\"&gt;heyitslolo&lt;/a&gt;, artist &lt;a href=\"http://i.imgur.com/ugEwF8M.jpg\"&gt;learning_to_draw_ccw&lt;/a&gt;, &lt;a href=\"http://www.reddit.com/r/redditgetsdrawn/comments/2bwkrb/i_would_love_if_someone_would_draw_me/cj9xaxw\"&gt;Permalink&lt;/a&gt;&lt;/p&gt;\\n\\n&lt;p&gt;Submitter &lt;a href=\"http://i.imgur.com/hSZlpTc.png\"&gt;futachankawaiidesune&lt;/a&gt;, artist &lt;a href=\"http://i.imgur.com/qWdzBJk.jpg\"&gt;manderhits&lt;/a&gt;, &lt;a href=\"http://www.reddit.com/r/redditgetsdrawn/comments/2c8w7w/profile_of_me_in_drag_sans_wig_any_takers/cjd77jf\"&gt;Permalink&lt;/a&gt;&lt;/p&gt;\\n\\n&lt;p&gt;&lt;strong&gt;Selections from heyryaaan&lt;/strong&gt;&lt;/p&gt;\\n\\n&lt;p&gt;Submitter &lt;a href=\"http://i.imgur.com/3VgZwUH.jpg\"&gt;arc129&lt;/a&gt;, artist &lt;a href=\"http://i.imgur.com/rhwHpOP.jpg\"&gt;Kivakaa&lt;/a&gt;, &lt;a href=\"http://www.reddit.com/r/redditgetsdrawn/comments/2c763f/cool_moth_landed_on_me_as_i_arrived_home_from/cjcsifs\"&gt;Permalink&lt;/a&gt;&lt;/p&gt;\\n\\n&lt;p&gt;Submitter &lt;a href=\"http://i.imgur.com/26cDtN1.jpg\"&gt;iamarting&lt;/a&gt;, artist &lt;a href=\"http://i.imgur.com/3Uz21OP.gif\"&gt;Powersimon&lt;/a&gt;, &lt;a href=\"http://www.reddit.com/r/redditgetsdrawn/comments/2bw7gi/would_anyone_like_to_draw_me_and_my_fancy_coat/cj9ywau\"&gt;Permalink&lt;/a&gt;&lt;/p&gt;\\n\\n&lt;p&gt;Submitter &lt;a href=\"http://i.imgur.com/RWoJVD2.jpg\"&gt;MysteryViolaPlayer&lt;/a&gt;, artist &lt;a href=\"http://i.imgur.com/tLrHjIB.jpg\"&gt;The_Drawist&lt;/a&gt;, &lt;a href=\"http://www.reddit.com/r/redditgetsdrawn/comments/2c77zy/my_mothers_favorite_baby_picture_of_me_and_i/cjcr8by\"&gt;Permalink&lt;/a&gt;&lt;/p&gt;\\n\\n&lt;p&gt;Submitter &lt;a href=\"http://i.imgur.com/LSuAPPI.jpg\"&gt;yadi_1690&lt;/a&gt;, artist &lt;a href=\"http://i.imgur.com/gCCYqSt.jpg\"&gt;we_have_a_TREX&lt;/a&gt;, &lt;a href=\"http://www.reddit.com/r/redditgetsdrawn/comments/2c7ih7/can_someone_please_draw_me_would_love_to_see_your/cjd8d2m\"&gt;Permalink&lt;/a&gt;&lt;/p&gt;\\n\\n&lt;p&gt;Submitter &lt;a href=\"http://i.imgur.com/uAB0peA.jpg?1\"&gt;lonestargranger&lt;/a&gt;, artist &lt;a href=\"http://i.imgur.com/hvhAg0W.jpg\"&gt;Zhim&lt;/a&gt;, &lt;a href=\"http://www.reddit.com/r/redditgetsdrawn/comments/2c3qom/ive_been_a_lurker_for_a_while_would_be_extremely/cjc10ou\"&gt;Permalink&lt;/a&gt;&lt;/p&gt;\\n\\n&lt;p&gt;&lt;strong&gt;Selections from ItWillBeMine&lt;/strong&gt;&lt;/p&gt;\\n\\n&lt;p&gt;Submitter &lt;a href=\"http://i.imgur.com/8hiESDN.jpg\"&gt;gg-no-re&lt;/a&gt;, artist &lt;a href=\"http://i.imgur.com/wUrkhNr.jpg\"&gt;slam_nine&lt;/a&gt;, &lt;a href=\"http://www.reddit.com/r/redditgetsdrawn/comments/2bxa7l/a_picture_of_me_and_my_street_luge_in_front_of_a/cj9utn1\"&gt;Permalink&lt;/a&gt;&lt;/p&gt;\\n\\n&lt;p&gt;Submitter &lt;a href=\"http://i.imgur.com/C31aDVB.jpg\"&gt;arrabel&lt;/a&gt;, artist &lt;a href=\"http://i.imgur.com/1NDAECj.jpg\"&gt;rotis4&lt;/a&gt;, &lt;a href=\"http://www.reddit.com/r/redditgetsdrawn/comments/2bxvcs/i_used_to_do_a_lot_of_flying_photos_and_this_was/cjatd5b\"&gt;Permalink&lt;/a&gt;&lt;/p&gt;\\n\\n&lt;p&gt;Submitter &lt;a href=\"http://i.imgur.com/TWBnEJI.jpg\"&gt;Thankyousosomuch&lt;/a&gt;, artist &lt;a href=\"http://i.imgur.com/xH6kXXf.jpg\"&gt;cacophonyart&lt;/a&gt;, &lt;a href=\"http://www.reddit.com/r/redditgetsdrawn/comments/2c4bu0/thanks_for_drawing_my_greatest_grandma_shes_about/cjbvkn8\"&gt;Permalink&lt;/a&gt;&lt;/p&gt;\\n\\n&lt;p&gt;Submitter &lt;a href=\"http://i.imgur.com/bNAyb19.jpg\"&gt;sh0tzy&lt;/a&gt;, artist &lt;a href=\"http://i.imgur.com/tDOOHXA.jpg\"&gt;---c&lt;/a&gt;, &lt;a href=\"http://www.reddit.com/r/redditgetsdrawn/comments/2bw63j/one_of_my_favorite_pictures_of_my_son_the_beach/cj9ssno\"&gt;Permalink&lt;/a&gt;&lt;/p&gt;\\n\\n&lt;p&gt;Submitter &lt;a href=\"http://i.imgur.com/h3IDxxE.jpg\"&gt;omgitsbabyseat&lt;/a&gt;, artists &lt;a href=\"http://i.imgur.com/rNVApcQ.jpg\"&gt;Lairosiel and MeatyElbow&lt;/a&gt;, &lt;a href=\"http://www.reddit.com/r/redditgetsdrawn/comments/2cbzly/this_is_my_beautiful_daughter_and_she_loves_art_i/cje40p6\"&gt;Permalink&lt;/a&gt;&lt;/p&gt;\\n\\n&lt;p&gt;&lt;strong&gt;Selections from meeps114&lt;/strong&gt;&lt;/p&gt;\\n\\n&lt;p&gt;Submitter &lt;a href=\"http://i.imgur.com/ClxWVbQ.jpg\"&gt;aLousyFatKid&lt;/a&gt;, artist &lt;a href=\"http://i.imgur.com/IMIHY4y.jpg\"&gt;milldogg&lt;/a&gt;, &lt;a href=\"http://www.reddit.com/r/redditgetsdrawn/comments/2c92fb/have_some_fun_with_my_dog_gary_is_a_grump/cjdtno7\"&gt;Permalink&lt;/a&gt;&lt;/p&gt;\\n\\n&lt;p&gt;Submitter &lt;a href=\"http://i.imgur.com/XtIWPfx.jpg\"&gt;anonude, NSFW&lt;/a&gt;, artist &lt;a href=\"http://i.imgur.com/2mhO8bq.jpg\"&gt;orvane&lt;/a&gt;, &lt;a href=\"http://www.reddit.com/r/redditgetsdrawn/comments/2btl3q/a_few_redditors_on_rartgw_suggested_i_post_some/cj8zyeh\"&gt;Permalink&lt;/a&gt;&lt;/p&gt;\\n\\n&lt;p&gt;Submitter &lt;a href=\"http://i.imgur.com/3VgZwUH.jpg\"&gt;arc129&lt;/a&gt;, artist &lt;a href=\"https://i.imgur.com/n0lkjWp.jpg\"&gt;bcsketches&lt;/a&gt;, &lt;a href=\"http://www.reddit.com/r/redditgetsdrawn/comments/2c763f/cool_moth_landed_on_me_as_i_arrived_home_from/cjcpueg\"&gt;Permalink&lt;/a&gt;&lt;/p&gt;\\n\\n&lt;p&gt;Submitter &lt;a href=\"http://i.imgur.com/C31aDVB.jpg\"&gt;arabbel&lt;/a&gt;, artist &lt;a href=\"http://31.media.tumblr.com/31564e208847a5f4c5711359c3803382/tumblr_n9ghm0Zmvn1ty772no1_1280.png\"&gt;LucarioPrime&lt;/a&gt;, &lt;a href=\"http://www.reddit.com/r/redditgetsdrawn/comments/2bxvcs/i_used_to_do_a_lot_of_flying_photos_and_this_was/cjaq6lz\"&gt;Permalink&lt;/a&gt;&lt;/p&gt;\\n\\n&lt;p&gt;Submitter &lt;a href=\"http://i.imgur.com/XWqkLyD.jpg\"&gt;OtotheHtotheItotheO&lt;/a&gt;, artist &lt;a href=\"http://i.imgur.com/moKLMEi.jpg\"&gt;FlyinMayanLion&lt;/a&gt;, &lt;a href=\"http://www.reddit.com/r/redditgetsdrawn/comments/2c9w34/saw_a_luna_moth_picture_posted_yesterday_figured/cjehh8v\"&gt;Permalink&lt;/a&gt;&lt;/p&gt;\\n\\n&lt;p&gt;&lt;strong&gt;Selections from sgt_mary_mary&lt;/strong&gt;&lt;/p&gt;\\n\\n&lt;p&gt;Submitter &lt;a href=\"http://i.imgur.com/hL5YVo5.jpg\"&gt;poeticjustice226&lt;/a&gt;, artist &lt;a href=\"http://i.imgur.com/yqX9h64.jpg\"&gt;hedgie_wedgie&lt;/a&gt;, &lt;a href=\"http://www.reddit.com/r/redditgetsdrawn/comments/2c72ru/i_would_absolutely_love_for_you_guys_to_draw_my/cjdb8vl\"&gt;Permalink&lt;/a&gt;&lt;/p&gt;\\n\\n&lt;p&gt;Submitter &lt;a href=\"http://i.imgur.com/SfVd5lf.jpg\"&gt;ashcaughtemall&lt;/a&gt;, artist &lt;a href=\"http://i.imgur.com/pZ5mP8h.jpg\"&gt;Chokeberry&lt;/a&gt;, &lt;a href=\"http://www.reddit.com/r/redditgetsdrawn/comments/2c475g/please_draw_me_3/cjbu3rh\"&gt;Permalink&lt;/a&gt;&lt;/p&gt;\\n\\n&lt;p&gt;Submitter &lt;a href=\"http://i.imgur.com/hSZlpTc.png\"&gt;futachankawaiidesune&lt;/a&gt;, artist &lt;a href=\"http://i.imgur.com/l2QUzai.jpg\"&gt;Taurox&lt;/a&gt;, &lt;a href=\"http://www.reddit.com/r/redditgetsdrawn/comments/2c8w7w/profile_of_me_in_drag_sans_wig_any_takers/cjdmsii\"&gt;Permalink&lt;/a&gt;&lt;/p&gt;\\n\\n&lt;p&gt;Submitter &lt;a href=\"http://i.imgur.com/uAB0peA.jpg?1\"&gt;lonestargranger&lt;/a&gt;, artist &lt;a href=\"http://i.imgur.com/rshAaH2.jpg\"&gt;but_not_by_wolves&lt;/a&gt;, &lt;a href=\"http://www.reddit.com/r/redditgetsdrawn/comments/2c3qom/ive_been_a_lurker_for_a_while_would_be_extremely/cjc1r88\"&gt;Permalink&lt;/a&gt;&lt;/p&gt;\\n\\n&lt;p&gt;Submitter &lt;a href=\"http://i.imgur.com/pdnEjq3.jpg\"&gt;STEP___ &lt;/a&gt;, artist &lt;a href=\"http://38.media.tumblr.com/b0817b418e2d8ab98b5663ccce5efc3b/tumblr_n9lfljdiWe1tgjtw3o1_1280.png\"&gt;FinaSusu&lt;/a&gt;, &lt;a href=\"http://www.reddit.com/r/redditgetsdrawn/comments/2c8pjw/care_to_draw_me_again_wonderful_people/cjdcbt5\"&gt;Permalink&lt;/a&gt;&lt;/p&gt;\\n\\n&lt;p&gt;&lt;strong&gt;Selections from yowtfyo&lt;/strong&gt;&lt;/p&gt;\\n\\n&lt;p&gt;Submitter &lt;a href=\"http://i.imgur.com/A48meVY.jpg\"&gt;kbleu&lt;/a&gt;, artist &lt;a href=\"http://i.imgur.com/WTR0fti.jpg\"&gt;NinjaShira&lt;/a&gt;, &lt;a href=\"http://www.reddit.com/r/redditgetsdrawn/comments/2c67x3/my_roommates_and_i_after_we_thought_someone_was/cjcmnv5\"&gt;Permalink&lt;/a&gt;&lt;/p&gt;\\n\\n&lt;p&gt;Submitter &lt;a href=\"http://imgur.com/a/RHqPJ\"&gt;Jennylane25&lt;/a&gt;, artist &lt;a href=\"http://i.imgur.com/BtY305c.jpg\"&gt;shaaaaa&lt;/a&gt;, &lt;a href=\"http://www.reddit.com/r/redditgetsdrawn/comments/2c6r7v/anyone_want_to_draw_my_son_and_i_as_superheroes/cjclywr\"&gt;Permalink&lt;/a&gt;&lt;/p&gt;\\n\\n&lt;p&gt;Submitter &lt;a href=\"http://i.imgur.com/OcdOto8.jpg?1\"&gt;Rumformypups&lt;/a&gt;, artist &lt;a href=\"http://i.imgur.com/ARdpL7e.jpg\"&gt;smokeybeard&lt;/a&gt;, &lt;a href=\"http://www.reddit.com/r/redditgetsdrawn/comments/2cd3vt/a_shot_of_me_waiting_outside_the_bart_station_in/cjef16h\"&gt;Permalink&lt;/a&gt;&lt;/p&gt;\\n\\n&lt;p&gt;Submitter &lt;a href=\"http://i.imgur.com/vbFb05j.jpg\"&gt;totorose&lt;/a&gt;, artist &lt;a href=\"http://i.imgur.com/WowePkx.png\"&gt;theMaynEvent&lt;/a&gt;, &lt;a href=\"http://www.reddit.com/r/redditgetsdrawn/comments/2c22a8/would_love_for_someone_to_draw_this_photo_of_me/cjbfuyl\"&gt;Permalink&lt;/a&gt;&lt;/p&gt;\\n\\n&lt;p&gt;Submitter &lt;a href=\"http://i.imgur.com/XgDwBbl.jpg\"&gt;InfiniteThird&lt;/a&gt;, artist &lt;a href=\"http://i.imgur.com/A19MIUo.jpg\"&gt;jareddrawsreddit&lt;/a&gt;, &lt;a href=\"http://www.reddit.com/r/redditgetsdrawn/comments/2c1jsq/you_all_did_so_well_with_my_last_photo_i_thought/cjb666f\"&gt;Permalink&lt;/a&gt;&lt;/p&gt;\\n\\n&lt;p&gt;We want to continue to encourage submitters to post high-quality/interesting photos. Accordingly, each mod has selected a favorite RGD picture of the week. Both artists and submitters listed in these posts will receive flair.&lt;/p&gt;\\n\\n&lt;p&gt;&lt;strong&gt;fivepmsomewhere&lt;/strong&gt;: &lt;a href=\"http://i.imgur.com/3VgZwUH.jpg\"&gt;arc129&lt;/a&gt;, &lt;a href=\"http://www.reddit.com/r/redditgetsdrawn/top/?sort=top&amp;amp;t=week\"&gt;Permalink&lt;/a&gt;&lt;/p&gt;\\n\\n&lt;p&gt;&lt;strong&gt;heyryaaan&lt;/strong&gt;: &lt;a href=\"http://i.imgur.com/bIj8t8W.jpg\"&gt;heyitslolo&lt;/a&gt;, &lt;a href=\"http://www.reddit.com/r/redditgetsdrawn/comments/2bwkrb/i_would_love_if_someone_would_draw_me/\"&gt;Permalink&lt;/a&gt;&lt;/p&gt;\\n\\n&lt;p&gt;&lt;strong&gt;ItWillBeMine&lt;/strong&gt;: &lt;a href=\"http://i.imgur.com/y2x9W3f.jpg\"&gt;Foureyes89&lt;/a&gt;, &lt;a href=\"http://www.reddit.com/r/redditgetsdrawn/comments/2c497b/this_is_my_friend_looking_badass_can_someone/\"&gt;Permalink&lt;/a&gt;&lt;/p&gt;\\n\\n&lt;p&gt;&lt;strong&gt;meeps114&lt;/strong&gt;: &lt;a href=\"http://i.imgur.com/C31aDVB.jpg\"&gt;arabbel&lt;/a&gt;, &lt;a href=\"http://www.reddit.com/r/redditgetsdrawn/comments/2bxvcs/i_used_to_do_a_lot_of_flying_photos_and_this_was/\"&gt;Permalink&lt;/a&gt;&lt;/p&gt;\\n\\n&lt;p&gt;&lt;strong&gt;sgt_mary_mary&lt;/strong&gt;: &lt;a href=\"http://i.imgur.com/kb8aIz0.jpg\"&gt;poeticjustice226&lt;/a&gt;, &lt;a href=\"http://www.reddit.com/r/redditgetsdrawn/comments/2c72ru/i_would_absolutely_love_for_you_guys_to_draw_my/\"&gt;Permalink&lt;/a&gt;&lt;/p&gt;\\n\\n&lt;p&gt;&lt;strong&gt;yowtfyo&lt;/strong&gt;: &lt;a href=\"http://i.imgur.com/vwn5Lqd.jpg\"&gt;sageandonion&lt;/a&gt;, &lt;a href=\"http://www.reddit.com/r/redditgetsdrawn/comments/2ccl7o/me_in_afghanistan_with_this_little_dude/\"&gt;Permalink&lt;/a&gt;&lt;/p&gt;\\n&lt;/div&gt;&lt;!-- SC_ON --&gt;'"
       ]
      }
     ],
     "prompt_number": 906
    },
    {
     "cell_type": "code",
     "collapsed": false,
     "input": [
      "if istick = True:\n",
      "    "
     ],
     "language": "python",
     "metadata": {},
     "outputs": [
      {
       "ename": "SyntaxError",
       "evalue": "invalid syntax (<ipython-input-907-ba3e16af1a86>, line 1)",
       "output_type": "pyerr",
       "traceback": [
        "\u001b[1;36m  File \u001b[1;32m\"<ipython-input-907-ba3e16af1a86>\"\u001b[1;36m, line \u001b[1;32m1\u001b[0m\n\u001b[1;33m    if istick = True:\u001b[0m\n\u001b[1;37m              ^\u001b[0m\n\u001b[1;31mSyntaxError\u001b[0m\u001b[1;31m:\u001b[0m invalid syntax\n"
       ]
      }
     ],
     "prompt_number": 907
    },
    {
     "cell_type": "code",
     "collapsed": false,
     "input": [
      "rdnewz = rd.get_new()"
     ],
     "language": "python",
     "metadata": {},
     "outputs": [],
     "prompt_number": 908
    },
    {
     "cell_type": "code",
     "collapsed": false,
     "input": [
      "rdnew = []"
     ],
     "language": "python",
     "metadata": {},
     "outputs": [],
     "prompt_number": 909
    },
    {
     "cell_type": "code",
     "collapsed": false,
     "input": [
      "rdnew"
     ],
     "language": "python",
     "metadata": {},
     "outputs": [
      {
       "metadata": {},
       "output_type": "pyout",
       "prompt_number": 910,
       "text": [
        "[]"
       ]
      }
     ],
     "prompt_number": 910
    },
    {
     "cell_type": "code",
     "collapsed": false,
     "input": [
      "for uz in rdnewz:\n",
      "    #print uz\n",
      "    rdnew.append(uz)"
     ],
     "language": "python",
     "metadata": {},
     "outputs": [],
     "prompt_number": 911
    },
    {
     "cell_type": "code",
     "collapsed": false,
     "input": [
      "urzlis = []\n",
      "titlis = []"
     ],
     "language": "python",
     "metadata": {},
     "outputs": [],
     "prompt_number": 912
    },
    {
     "cell_type": "code",
     "collapsed": false,
     "input": [
      "#os.chdir('imgs')"
     ],
     "language": "python",
     "metadata": {},
     "outputs": [],
     "prompt_number": 913
    },
    {
     "cell_type": "code",
     "collapsed": false,
     "input": [
      "for rdn in rdnew:\n",
      "    print rdn.url\n",
      "    urzlis.append(rdn.url)\n",
      "    titlis.append(rdn.author.name)\n",
      "    "
     ],
     "language": "python",
     "metadata": {},
     "outputs": [
      {
       "output_type": "stream",
       "stream": "stdout",
       "text": [
        "http://imgur.com/v9vSO9U\n",
        "http://i.imgur.com/rHbBy6K.jpg\n",
        "http://i.imgur.com/ZexToPI.jpg\n",
        "http://i.imgur.com/t1HgLMo.jpg\n",
        "http://i.imgur.com/VqI5FFc.jpg\n",
        "http://i.imgur.com/LDXlWie.jpg\n",
        "http://i.imgur.com/RgooyN3.jpg\n",
        "http://imgur.com/NxTMyGD\n",
        "http://www.reddit.com/r/redditgetsdrawn/comments/2cmzex/august_1_is_already_over_well_heck_its_time_to/\n",
        "http://imgur.com/GHJawNP\n",
        "http://i.imgur.com/4CEDav6.jpg\n",
        "http://i.imgur.com/EmlglE1.jpg\n",
        "http://i.imgur.com/zijZ4kH.jpg\n",
        "http://i.imgur.com/OBaE1nh.jpg\n",
        "http://i.imgur.com/m67ppXJ.jpg\n",
        "http://imgur.com/ns7BqUX\n",
        "http://i.imgur.com/hqMUPgd.jpg\n",
        "http://i.imgur.com/5jJDyQi.jpg?1\n",
        "http://i.imgur.com/t0i70v2.jpg\n",
        "http://imgur.com/dtAoEns\n",
        "http://i.imgur.com/ozdr7oG.jpg\n",
        "http://imgur.com/9jrKMgt\n",
        "http://i.imgur.com/NRhvGTT.jpg\n",
        "http://i.imgur.com/F8cF3Ir.jpg\n",
        "http://imgur.com/JZuGhEj\n"
       ]
      }
     ],
     "prompt_number": 914
    },
    {
     "cell_type": "code",
     "collapsed": false,
     "input": [
      "titlis"
     ],
     "language": "python",
     "metadata": {},
     "outputs": [
      {
       "metadata": {},
       "output_type": "pyout",
       "prompt_number": 915,
       "text": [
        "[u'xNikkinicolex',\n",
        " u'rickjackwood',\n",
        " u'Kivakaa',\n",
        " u'tysonoff',\n",
        " u'IM_ALL_THAT_IS_MAN',\n",
        " u'nightingalesoul',\n",
        " u'hohohopeless',\n",
        " u'Rossii',\n",
        " u'ItWillBeMine',\n",
        " u'patozash',\n",
        " u'PinchMyPapayas',\n",
        " u'oodlethepoodle',\n",
        " u'peter-park0ur',\n",
        " u'avalanchethethird',\n",
        " u'fdjohna',\n",
        " u'Cannabrain',\n",
        " u'Droseph88',\n",
        " u'PG_Glenwood',\n",
        " u'x_xdoodlex_x',\n",
        " u'jdtatum',\n",
        " u'feelthesunnow',\n",
        " u'AkumaLamprey',\n",
        " u'DanimalHouse',\n",
        " u'DarwinsApostle',\n",
        " u'Urgrimm']"
       ]
      }
     ],
     "prompt_number": 915
    },
    {
     "cell_type": "code",
     "collapsed": false,
     "input": [
      "jplis = []"
     ],
     "language": "python",
     "metadata": {},
     "outputs": [],
     "prompt_number": 916
    },
    {
     "cell_type": "code",
     "collapsed": false,
     "input": [
      "from time import gmtime, strftime\n"
     ],
     "language": "python",
     "metadata": {},
     "outputs": [],
     "prompt_number": 917
    },
    {
     "cell_type": "code",
     "collapsed": false,
     "input": [
      "for iz in jplis:\n",
      "    print iz"
     ],
     "language": "python",
     "metadata": {},
     "outputs": [],
     "prompt_number": 918
    },
    {
     "cell_type": "code",
     "collapsed": false,
     "input": [
      "for urz in urzlis:\n",
      "    if '.jpg' in urz:\n",
      "        jplis.append(urz)"
     ],
     "language": "python",
     "metadata": {},
     "outputs": [],
     "prompt_number": 919
    },
    {
     "cell_type": "code",
     "collapsed": false,
     "input": [
      "doc = dominate.document(title='artcontroldrawsyou')"
     ],
     "language": "python",
     "metadata": {},
     "outputs": [],
     "prompt_number": 920
    },
    {
     "cell_type": "code",
     "collapsed": false,
     "input": [],
     "language": "python",
     "metadata": {},
     "outputs": [],
     "prompt_number": 920
    },
    {
     "cell_type": "code",
     "collapsed": false,
     "input": [
      "with doc.head:\n",
      "    link(rel='stylesheet', href='style.css')\n",
      "    script(type='text/javascript', src='script.js')\n",
      "\n",
      "with doc:\n",
      "    with div():\n",
      "        attr(cls='header')\n",
      "        #<img src=\"smiley.gif\" alt=\"Smiley face\" height=\"42\" width=\"42\">\n",
      "        h1('artcontroldrawsyou!')\n",
      "        img(scr='logo.gif')\n",
      "        h2('go away artcontrol')\n",
      "        p(strftime(\"%a, %d %b %Y %H:%M:%S +0000\", gmtime()))\n",
      "        a('about', href='http://brobeur.com/artcontroldrawsyou/about')\n",
      "        a('contact', href='http://brobeur.com/artcontroldrawsyou/contact') \n",
      "        a('blog', href='http://brobeur.com/wcmckee.com/wcmckee/output')\n",
      "        \n",
      "    with div(id='authors'):\n",
      "        for tits in titlis:\n",
      "            (tits)\n",
      "            (a(tits, href='https://reddit.com/u/%s' % tits))\n",
      "            \n",
      "    \n",
      "    with div(id='body').add(p()):\n",
      "        for i in jplis:\n",
      "            (img(i.lower(), src='%s' % i))\n",
      "            (a(i.lower(), href='%s' % i))\n",
      "            \n",
      "    with div(id='footer'):\n",
      "        p(a('artcontroldrawsyou is open source', href='https://github.com/wcmckee/wcmckee-notebook'))\n",
      "\n",
      "\n",
      "            \n",
      "\n",
      "print doc"
     ],
     "language": "python",
     "metadata": {},
     "outputs": [
      {
       "output_type": "stream",
       "stream": "stdout",
       "text": [
        "<!DOCTYPE html>\n",
        "<html>\n",
        "  <head>\n",
        "    <title>artcontroldrawsyou</title>\n",
        "    <link href=\"style.css\" rel=\"stylesheet\">\n",
        "    <script src=\"script.js\" type=\"text/javascript\"></script>\n",
        "  </head>\n",
        "  <body>\n",
        "    <div class=\"header\">\n",
        "      <h1>artcontroldrawsyou!</h1>\n",
        "      <img scr=\"logo.gif\">\n",
        "      <h2>go away artcontrol</h2>\n",
        "      <p>Tue, 05 Aug 2014 00:29:33 +0000</p>\n",
        "      <a href=\"http://brobeur.com/artcontroldrawsyou/about\">about</a>\n",
        "      <a href=\"http://brobeur.com/artcontroldrawsyou/contact\">contact</a>\n",
        "      <a href=\"http://brobeur.com/wcmckee.com/wcmckee/output\">blog</a>\n",
        "    </div>\n",
        "    <div id=\"authors\">\n",
        "      <a href=\"https://reddit.com/u/xNikkinicolex\">xNikkinicolex</a>\n",
        "      <a href=\"https://reddit.com/u/rickjackwood\">rickjackwood</a>\n",
        "      <a href=\"https://reddit.com/u/Kivakaa\">Kivakaa</a>\n",
        "      <a href=\"https://reddit.com/u/tysonoff\">tysonoff</a>\n",
        "      <a href=\"https://reddit.com/u/IM_ALL_THAT_IS_MAN\">IM_ALL_THAT_IS_MAN</a>\n",
        "      <a href=\"https://reddit.com/u/nightingalesoul\">nightingalesoul</a>\n",
        "      <a href=\"https://reddit.com/u/hohohopeless\">hohohopeless</a>\n",
        "      <a href=\"https://reddit.com/u/Rossii\">Rossii</a>\n",
        "      <a href=\"https://reddit.com/u/ItWillBeMine\">ItWillBeMine</a>\n",
        "      <a href=\"https://reddit.com/u/patozash\">patozash</a>\n",
        "      <a href=\"https://reddit.com/u/PinchMyPapayas\">PinchMyPapayas</a>\n",
        "      <a href=\"https://reddit.com/u/oodlethepoodle\">oodlethepoodle</a>\n",
        "      <a href=\"https://reddit.com/u/peter-park0ur\">peter-park0ur</a>\n",
        "      <a href=\"https://reddit.com/u/avalanchethethird\">avalanchethethird</a>\n",
        "      <a href=\"https://reddit.com/u/fdjohna\">fdjohna</a>\n",
        "      <a href=\"https://reddit.com/u/Cannabrain\">Cannabrain</a>\n",
        "      <a href=\"https://reddit.com/u/Droseph88\">Droseph88</a>\n",
        "      <a href=\"https://reddit.com/u/PG_Glenwood\">PG_Glenwood</a>\n",
        "      <a href=\"https://reddit.com/u/x_xdoodlex_x\">x_xdoodlex_x</a>\n",
        "      <a href=\"https://reddit.com/u/jdtatum\">jdtatum</a>\n",
        "      <a href=\"https://reddit.com/u/feelthesunnow\">feelthesunnow</a>\n",
        "      <a href=\"https://reddit.com/u/AkumaLamprey\">AkumaLamprey</a>\n",
        "      <a href=\"https://reddit.com/u/DanimalHouse\">DanimalHouse</a>\n",
        "      <a href=\"https://reddit.com/u/DarwinsApostle\">DarwinsApostle</a>\n",
        "      <a href=\"https://reddit.com/u/Urgrimm\">Urgrimm</a>\n",
        "    </div>\n",
        "    <div id=\"body\">\n",
        "      <p>\n",
        "        <img src=\"http://i.imgur.com/rHbBy6K.jpg\">\n",
        "        <a href=\"http://i.imgur.com/rHbBy6K.jpg\">http://i.imgur.com/rhbby6k.jpg</a>\n",
        "        <img src=\"http://i.imgur.com/ZexToPI.jpg\">\n",
        "        <a href=\"http://i.imgur.com/ZexToPI.jpg\">http://i.imgur.com/zextopi.jpg</a>\n",
        "        <img src=\"http://i.imgur.com/t1HgLMo.jpg\">\n",
        "        <a href=\"http://i.imgur.com/t1HgLMo.jpg\">http://i.imgur.com/t1hglmo.jpg</a>\n",
        "        <img src=\"http://i.imgur.com/VqI5FFc.jpg\">\n",
        "        <a href=\"http://i.imgur.com/VqI5FFc.jpg\">http://i.imgur.com/vqi5ffc.jpg</a>\n",
        "        <img src=\"http://i.imgur.com/LDXlWie.jpg\">\n",
        "        <a href=\"http://i.imgur.com/LDXlWie.jpg\">http://i.imgur.com/ldxlwie.jpg</a>\n",
        "        <img src=\"http://i.imgur.com/RgooyN3.jpg\">\n",
        "        <a href=\"http://i.imgur.com/RgooyN3.jpg\">http://i.imgur.com/rgooyn3.jpg</a>\n",
        "        <img src=\"http://i.imgur.com/4CEDav6.jpg\">\n",
        "        <a href=\"http://i.imgur.com/4CEDav6.jpg\">http://i.imgur.com/4cedav6.jpg</a>\n",
        "        <img src=\"http://i.imgur.com/EmlglE1.jpg\">\n",
        "        <a href=\"http://i.imgur.com/EmlglE1.jpg\">http://i.imgur.com/emlgle1.jpg</a>\n",
        "        <img src=\"http://i.imgur.com/zijZ4kH.jpg\">\n",
        "        <a href=\"http://i.imgur.com/zijZ4kH.jpg\">http://i.imgur.com/zijz4kh.jpg</a>\n",
        "        <img src=\"http://i.imgur.com/OBaE1nh.jpg\">\n",
        "        <a href=\"http://i.imgur.com/OBaE1nh.jpg\">http://i.imgur.com/obae1nh.jpg</a>\n",
        "        <img src=\"http://i.imgur.com/m67ppXJ.jpg\">\n",
        "        <a href=\"http://i.imgur.com/m67ppXJ.jpg\">http://i.imgur.com/m67ppxj.jpg</a>\n",
        "        <img src=\"http://i.imgur.com/hqMUPgd.jpg\">\n",
        "        <a href=\"http://i.imgur.com/hqMUPgd.jpg\">http://i.imgur.com/hqmupgd.jpg</a>\n",
        "        <img src=\"http://i.imgur.com/5jJDyQi.jpg?1\">\n",
        "        <a href=\"http://i.imgur.com/5jJDyQi.jpg?1\">http://i.imgur.com/5jjdyqi.jpg?1</a>\n",
        "        <img src=\"http://i.imgur.com/t0i70v2.jpg\">\n",
        "        <a href=\"http://i.imgur.com/t0i70v2.jpg\">http://i.imgur.com/t0i70v2.jpg</a>\n",
        "        <img src=\"http://i.imgur.com/ozdr7oG.jpg\">\n",
        "        <a href=\"http://i.imgur.com/ozdr7oG.jpg\">http://i.imgur.com/ozdr7og.jpg</a>\n",
        "        <img src=\"http://i.imgur.com/NRhvGTT.jpg\">\n",
        "        <a href=\"http://i.imgur.com/NRhvGTT.jpg\">http://i.imgur.com/nrhvgtt.jpg</a>\n",
        "        <img src=\"http://i.imgur.com/F8cF3Ir.jpg\">\n",
        "        <a href=\"http://i.imgur.com/F8cF3Ir.jpg\">http://i.imgur.com/f8cf3ir.jpg</a>\n",
        "      </p>\n",
        "    </div>\n",
        "    <div id=\"footer\">\n",
        "      <p>\n",
        "        <a href=\"https://github.com/wcmckee/wcmckee-notebook\">artcontroldrawsyou is open source</a>\n",
        "      </p>\n",
        "    </div>\n",
        "  </body>\n",
        "</html>\n"
       ]
      }
     ],
     "prompt_number": 921
    },
    {
     "cell_type": "code",
     "collapsed": false,
     "input": [
      "ophtml = open('index.html', 'w')"
     ],
     "language": "python",
     "metadata": {},
     "outputs": [],
     "prompt_number": 922
    },
    {
     "cell_type": "code",
     "collapsed": false,
     "input": [
      "ophtml.write(str(doc))"
     ],
     "language": "python",
     "metadata": {},
     "outputs": [],
     "prompt_number": 923
    },
    {
     "cell_type": "code",
     "collapsed": false,
     "input": [
      "ophtml.close()"
     ],
     "language": "python",
     "metadata": {},
     "outputs": [],
     "prompt_number": 924
    },
    {
     "cell_type": "code",
     "collapsed": false,
     "input": [
      "'''def fcopy(src,dest):\n",
      "    \"\"\"\n",
      "    Copy file from source to dest.  dest can include an absolute or relative path\n",
      "    If the path doesn't exist, it gets created\n",
      "    \"\"\"\n",
      "    dest_dir = os.path.dirname(dest)\n",
      "    try:\n",
      "        os.makedirs(dest_dir)\n",
      "    except os.error as e:\n",
      "        pass #Assume it exists.  This could fail if you don't have permissions, etc...\n",
      "    shutil.copy(src,dest)'''"
     ],
     "language": "python",
     "metadata": {},
     "outputs": [
      {
       "metadata": {},
       "output_type": "pyout",
       "prompt_number": 925,
       "text": [
        "'def fcopy(src,dest):\\n    \"\"\"\\n    Copy file from source to dest.  dest can include an absolute or relative path\\n    If the path doesn\\'t exist, it gets created\\n    \"\"\"\\n    dest_dir = os.path.dirname(dest)\\n    try:\\n        os.makedirs(dest_dir)\\n    except os.error as e:\\n        pass #Assume it exists.  This could fail if you don\\'t have permissions, etc...\\n    shutil.copy(src,dest)'"
       ]
      }
     ],
     "prompt_number": 925
    },
    {
     "cell_type": "markdown",
     "metadata": {},
     "source": [
      "cycle though folder and create file in each folder"
     ]
    },
    {
     "cell_type": "code",
     "collapsed": false,
     "input": [
      "#fcopy('/var/www/artcontroldrawsyou/home/')"
     ],
     "language": "python",
     "metadata": {},
     "outputs": [],
     "prompt_number": 926
    },
    {
     "cell_type": "code",
     "collapsed": false,
     "input": [
      "for usz in titlis:\n",
      "    print usz\n",
      "    #os.mkdir(usz)\n",
      "    #os.chdir('/var/www/artcontroldrawsyou/home/' + usz)"
     ],
     "language": "python",
     "metadata": {},
     "outputs": [
      {
       "output_type": "stream",
       "stream": "stdout",
       "text": [
        "xNikkinicolex\n",
        "rickjackwood\n",
        "Kivakaa\n",
        "tysonoff\n",
        "IM_ALL_THAT_IS_MAN\n",
        "nightingalesoul\n",
        "hohohopeless\n",
        "Rossii\n",
        "ItWillBeMine\n",
        "patozash\n",
        "PinchMyPapayas\n",
        "oodlethepoodle\n",
        "peter-park0ur\n",
        "avalanchethethird\n",
        "fdjohna\n",
        "Cannabrain\n",
        "Droseph88\n",
        "PG_Glenwood\n",
        "x_xdoodlex_x\n",
        "jdtatum\n",
        "feelthesunnow\n",
        "AkumaLamprey\n",
        "DanimalHouse\n",
        "DarwinsApostle\n",
        "Urgrimm\n"
       ]
      }
     ],
     "prompt_number": 927
    },
    {
     "cell_type": "code",
     "collapsed": false,
     "input": [
      "'''for filz in titlis:\n",
      "    print filz\n",
      "    \n",
      "    \n",
      "    #os.chdir('/var/www/artcontroldrawsyou/home' + usz)\n",
      "    bulkc = dominate.document(title=filz)\n",
      "    with bulkc.head:\n",
      "        link(rel='stylesheet', href='style.css')\n",
      "        script(type='text/javascript', src='script.js')\n",
      "\n",
      "    with bulkc:\n",
      "        with div():\n",
      "            attr(cls='header')\n",
      "            #<img src=\"smiley.gif\" alt=\"Smiley face\" height=\"42\" width=\"42\">\n",
      "            h1(filz)\n",
      "            img(scr='http://artcontrol.me/wp-content/uploads/2014/08/daenuhlyn-headcoloe.png')\n",
      "            h2('go away artcontrol')\n",
      "        \n",
      "        with div(id='photographs'):\n",
      "            for tits in titlis:\n",
      "                h3(tits)\n",
      "                (a(tits, href='%s' % tits.lower))\n",
      "            \n",
      "    \n",
      "        with div(id='body').add(p()):\n",
      "            for i in jplis:\n",
      "                li(img(i.lower(), src='%s' % i))\n",
      "                li(a(i.lower(), href='%s' % i))\n",
      "                \n",
      "        with div(id='footer'):\n",
      "            p(a('artcontroldrawsyou is opensource', href='https://github.com/wcmckee/wcmckee-notebook'))\n",
      "        \n",
      "        with open('/var/www/artcontroldrawsyou/home/' + filz + '/index.html', 'w') as fout:\n",
      "            fout.write(str(bulkc))\n",
      "            \n",
      "    #with open('index.html', 'w') as indx:\n",
      "       #bulkc = indx.write() \n",
      "        #print bulkc'''"
     ],
     "language": "python",
     "metadata": {},
     "outputs": [
      {
       "metadata": {},
       "output_type": "pyout",
       "prompt_number": 928,
       "text": [
        "'for filz in titlis:\\n    print filz\\n    \\n    \\n    #os.chdir(\\'/var/www/artcontroldrawsyou/home\\' + usz)\\n    bulkc = dominate.document(title=filz)\\n    with bulkc.head:\\n        link(rel=\\'stylesheet\\', href=\\'style.css\\')\\n        script(type=\\'text/javascript\\', src=\\'script.js\\')\\n\\n    with bulkc:\\n        with div():\\n            attr(cls=\\'header\\')\\n            #<img src=\"smiley.gif\" alt=\"Smiley face\" height=\"42\" width=\"42\">\\n            h1(filz)\\n            img(scr=\\'http://artcontrol.me/wp-content/uploads/2014/08/daenuhlyn-headcoloe.png\\')\\n            h2(\\'go away artcontrol\\')\\n        \\n        with div(id=\\'photographs\\'):\\n            for tits in titlis:\\n                h3(tits)\\n                (a(tits, href=\\'%s\\' % tits.lower))\\n            \\n    \\n        with div(id=\\'body\\').add(p()):\\n            for i in jplis:\\n                li(img(i.lower(), src=\\'%s\\' % i))\\n                li(a(i.lower(), href=\\'%s\\' % i))\\n                \\n        with div(id=\\'footer\\'):\\n            p(a(\\'artcontroldrawsyou is opensource\\', href=\\'https://github.com/wcmckee/wcmckee-notebook\\'))\\n        \\n        with open(\\'/var/www/artcontroldrawsyou/home/\\' + filz + \\'/index.html\\', \\'w\\') as fout:\\n            fout.write(str(bulkc))\\n            \\n    #with open(\\'index.html\\', \\'w\\') as indx:\\n       #bulkc = indx.write() \\n        #print bulkc'"
       ]
      }
     ],
     "prompt_number": 928
    },
    {
     "cell_type": "code",
     "collapsed": false,
     "input": [
      "ransubz = random.randint(0,24)"
     ],
     "language": "python",
     "metadata": {},
     "outputs": [],
     "prompt_number": 929
    },
    {
     "cell_type": "code",
     "collapsed": false,
     "input": [
      "print ransubz"
     ],
     "language": "python",
     "metadata": {},
     "outputs": [
      {
       "output_type": "stream",
       "stream": "stdout",
       "text": [
        "18\n"
       ]
      }
     ],
     "prompt_number": 930
    },
    {
     "cell_type": "code",
     "collapsed": false,
     "input": [
      "ransev = rdnew[ransubz]"
     ],
     "language": "python",
     "metadata": {},
     "outputs": [],
     "prompt_number": 931
    },
    {
     "cell_type": "code",
     "collapsed": false,
     "input": [
      "rgdautoz = str(ransev.author)\n"
     ],
     "language": "python",
     "metadata": {},
     "outputs": [],
     "prompt_number": 932
    },
    {
     "cell_type": "code",
     "collapsed": false,
     "input": [
      "rgdsubred = str(ransev.subreddit)"
     ],
     "language": "python",
     "metadata": {},
     "outputs": [],
     "prompt_number": 933
    },
    {
     "cell_type": "code",
     "collapsed": false,
     "input": [
      "sutit = ('[' + rgdsubred + ']')"
     ],
     "language": "python",
     "metadata": {},
     "outputs": [],
     "prompt_number": 934
    },
    {
     "cell_type": "code",
     "collapsed": false,
     "input": [
      "sutit"
     ],
     "language": "python",
     "metadata": {},
     "outputs": [
      {
       "metadata": {},
       "output_type": "pyout",
       "prompt_number": 935,
       "text": [
        "'[redditgetsdrawn]'"
       ]
      }
     ],
     "prompt_number": 935
    },
    {
     "cell_type": "code",
     "collapsed": false,
     "input": [
      "rgdaqwew = ('xpost[RGD]' + rgdautoz)"
     ],
     "language": "python",
     "metadata": {},
     "outputs": [],
     "prompt_number": 936
    },
    {
     "cell_type": "code",
     "collapsed": false,
     "input": [
      "rgdaturo = str(ransev.url)"
     ],
     "language": "python",
     "metadata": {},
     "outputs": [],
     "prompt_number": 937
    },
    {
     "cell_type": "code",
     "collapsed": false,
     "input": [
      "rgdatit = str(ransev.title)"
     ],
     "language": "python",
     "metadata": {},
     "outputs": [],
     "prompt_number": 938
    },
    {
     "cell_type": "code",
     "collapsed": false,
     "input": [
      "rgdatit"
     ],
     "language": "python",
     "metadata": {},
     "outputs": [
      {
       "metadata": {},
       "output_type": "pyout",
       "prompt_number": 939,
       "text": [
        "'Can anyone draw me and my best friend on walkies?'"
       ]
      }
     ],
     "prompt_number": 939
    },
    {
     "cell_type": "code",
     "collapsed": false,
     "input": [
      "#rd.get_top"
     ],
     "language": "python",
     "metadata": {},
     "outputs": [],
     "prompt_number": 940
    },
    {
     "cell_type": "code",
     "collapsed": false,
     "input": [
      "linkdict = {}"
     ],
     "language": "python",
     "metadata": {},
     "outputs": [],
     "prompt_number": 941
    },
    {
     "cell_type": "code",
     "collapsed": false,
     "input": [
      "ady = r.get_subreddit('artcontroldrawsyou')"
     ],
     "language": "python",
     "metadata": {},
     "outputs": [],
     "prompt_number": 942
    },
    {
     "cell_type": "code",
     "collapsed": false,
     "input": [
      "comrgd =  rgdatit + ' ' + rgdaturo"
     ],
     "language": "python",
     "metadata": {},
     "outputs": [],
     "prompt_number": 943
    },
    {
     "cell_type": "code",
     "collapsed": false,
     "input": [
      "loctime = time.localtime()"
     ],
     "language": "python",
     "metadata": {},
     "outputs": [],
     "prompt_number": 944
    },
    {
     "cell_type": "code",
     "collapsed": false,
     "input": [
      "loctime.tm_mday"
     ],
     "language": "python",
     "metadata": {},
     "outputs": [
      {
       "metadata": {},
       "output_type": "pyout",
       "prompt_number": 945,
       "text": [
        "5"
       ]
      }
     ],
     "prompt_number": 945
    },
    {
     "cell_type": "code",
     "collapsed": false,
     "input": [
      "loctime.tm_mon"
     ],
     "language": "python",
     "metadata": {},
     "outputs": [
      {
       "metadata": {},
       "output_type": "pyout",
       "prompt_number": 946,
       "text": [
        "8"
       ]
      }
     ],
     "prompt_number": 946
    },
    {
     "cell_type": "code",
     "collapsed": false,
     "input": [
      "thedat = (str(loctime.tm_mday) + '/' + str(loctime.tm_mon))"
     ],
     "language": "python",
     "metadata": {},
     "outputs": [],
     "prompt_number": 947
    },
    {
     "cell_type": "code",
     "collapsed": false,
     "input": [
      "thedat"
     ],
     "language": "python",
     "metadata": {},
     "outputs": [
      {
       "metadata": {},
       "output_type": "pyout",
       "prompt_number": 948,
       "text": [
        "'5/8'"
       ]
      }
     ],
     "prompt_number": 948
    },
    {
     "cell_type": "code",
     "collapsed": false,
     "input": [
      "mixtut = (thedat + sutit + rgdautoz)"
     ],
     "language": "python",
     "metadata": {},
     "outputs": [],
     "prompt_number": 949
    },
    {
     "cell_type": "code",
     "collapsed": false,
     "input": [
      "loctime"
     ],
     "language": "python",
     "metadata": {},
     "outputs": [
      {
       "metadata": {},
       "output_type": "pyout",
       "prompt_number": 950,
       "text": [
        "time.struct_time(tm_year=2014, tm_mon=8, tm_mday=5, tm_hour=0, tm_min=29, tm_sec=38, tm_wday=1, tm_yday=217, tm_isdst=0)"
       ]
      }
     ],
     "prompt_number": 950
    },
    {
     "cell_type": "code",
     "collapsed": false,
     "input": [
      "#ady.submit(mixtut , (rgdaqwew, comrgd))"
     ],
     "language": "python",
     "metadata": {},
     "outputs": [],
     "prompt_number": 951
    },
    {
     "cell_type": "code",
     "collapsed": false,
     "input": [
      "'''for newa in rdnew:\n",
      "    #rint newa.url\n",
      "    print len(newa)\n",
      "    htmstr = (str(newa.title) + '<a href=\"' + \n",
      "                 str(newa.url) + \n",
      "                 '\"><img class=\"aligncenter size-large wp-image-5723\" alt=\"' +\n",
      "                 str(newa.author) +\n",
      "                 '\" src=\"' + \n",
      "                 str(newa.url) + \n",
      "                 '\" /></a>')\n",
      "    #ophtml.write(htmstr)\n",
      "    #ady.submit(('[RGD]' + newa.author), newa.url)\n",
      "    print newa.author\n",
      "    #print newa.media\n",
      "    ophtml.write(htmstr)\n",
      "    print newa.selftext\n",
      "    print newa.url\n",
      "    print newa.num_comments\n",
      "    \n",
      "    linkdict.update({str(newa.author): str(newa.url)})\n",
      "'''\n"
     ],
     "language": "python",
     "metadata": {},
     "outputs": [
      {
       "metadata": {},
       "output_type": "pyout",
       "prompt_number": 952,
       "text": [
        "'for newa in rdnew:\\n    #rint newa.url\\n    print len(newa)\\n    htmstr = (str(newa.title) + \\'<a href=\"\\' + \\n                 str(newa.url) + \\n                 \\'\"><img class=\"aligncenter size-large wp-image-5723\" alt=\"\\' +\\n                 str(newa.author) +\\n                 \\'\" src=\"\\' + \\n                 str(newa.url) + \\n                 \\'\" /></a>\\')\\n    #ophtml.write(htmstr)\\n    #ady.submit((\\'[RGD]\\' + newa.author), newa.url)\\n    print newa.author\\n    #print newa.media\\n    ophtml.write(htmstr)\\n    print newa.selftext\\n    print newa.url\\n    print newa.num_comments\\n    \\n    linkdict.update({str(newa.author): str(newa.url)})\\n'"
       ]
      }
     ],
     "prompt_number": 952
    },
    {
     "cell_type": "code",
     "collapsed": false,
     "input": [
      "#print str(newa.title)"
     ],
     "language": "python",
     "metadata": {},
     "outputs": [],
     "prompt_number": 953
    },
    {
     "cell_type": "code",
     "collapsed": false,
     "input": [
      "import json"
     ],
     "language": "python",
     "metadata": {},
     "outputs": [],
     "prompt_number": 954
    },
    {
     "cell_type": "code",
     "collapsed": false,
     "input": [
      "newzjson = json.dumps(linkdict)"
     ],
     "language": "python",
     "metadata": {},
     "outputs": [],
     "prompt_number": 955
    },
    {
     "cell_type": "code",
     "collapsed": false,
     "input": [
      "#newzjson"
     ],
     "language": "python",
     "metadata": {},
     "outputs": [],
     "prompt_number": 956
    },
    {
     "cell_type": "code",
     "collapsed": false,
     "input": [],
     "language": "python",
     "metadata": {},
     "outputs": [],
     "prompt_number": 956
    },
    {
     "cell_type": "code",
     "collapsed": false,
     "input": [
      "rmine = r.get_redditor('itwillbemine')\n"
     ],
     "language": "python",
     "metadata": {},
     "outputs": [],
     "prompt_number": 957
    },
    {
     "cell_type": "code",
     "collapsed": false,
     "input": [
      "#opest = open('userurl.json', 'r')\n",
      "#opest.read()\n",
      "#opest.close()"
     ],
     "language": "python",
     "metadata": {},
     "outputs": [],
     "prompt_number": 958
    },
    {
     "cell_type": "code",
     "collapsed": false,
     "input": [
      "mincom = rmine.get_comments()"
     ],
     "language": "python",
     "metadata": {},
     "outputs": [],
     "prompt_number": 959
    },
    {
     "cell_type": "code",
     "collapsed": false,
     "input": [
      "#print mincom"
     ],
     "language": "python",
     "metadata": {},
     "outputs": [],
     "prompt_number": 960
    },
    {
     "cell_type": "code",
     "collapsed": false,
     "input": [
      "minels = []"
     ],
     "language": "python",
     "metadata": {},
     "outputs": [],
     "prompt_number": 961
    },
    {
     "cell_type": "code",
     "collapsed": false,
     "input": [
      "\n",
      "dausr = {}"
     ],
     "language": "python",
     "metadata": {},
     "outputs": [],
     "prompt_number": 962
    },
    {
     "cell_type": "code",
     "collapsed": false,
     "input": [
      "for newa in rdnew:\n",
      "    #rint newa.url\n",
      "    #print newa.author\n",
      "    linkdict.update({str(newa.author): str(newa.url)})"
     ],
     "language": "python",
     "metadata": {},
     "outputs": [],
     "prompt_number": 963
    },
    {
     "cell_type": "code",
     "collapsed": false,
     "input": [
      "for con in mincom:\n",
      "    #print con.body\n",
      "    minels.append(con)\n",
      "    dausr.update({str(con.id): str(con.body)})"
     ],
     "language": "python",
     "metadata": {},
     "outputs": [],
     "prompt_number": 964
    },
    {
     "cell_type": "code",
     "collapsed": false,
     "input": [
      "itwillbemine = dominate.document(title='itwillbemine')"
     ],
     "language": "python",
     "metadata": {},
     "outputs": [],
     "prompt_number": 965
    },
    {
     "cell_type": "code",
     "collapsed": false,
     "input": [
      "with itwillbemine.head:\n",
      "    link(rel='stylesheet', href='style.css')\n",
      "    script(type='text/javascript', src='script.js')\n",
      "\n",
      "with itwillbemine:\n",
      "    with div():\n",
      "        attr(cls='header')\n",
      "        #<img src=\"smiley.gif\" alt=\"Smiley face\" height=\"42\" width=\"42\">\n",
      "        h1('itwillbemine')\n",
      "        img(scr='logo.gif')\n",
      "        h2('go away artcontrol')\n",
      "        p(strftime(\"%a, %d %b %Y %H:%M:%S +0000\", gmtime()))\n",
      "        a('about', href='http://brobeur.com/artcontroldrawsyou/about')\n",
      "        a('contact', href='http://brobeur.com/artcontroldrawsyou/contact') \n",
      "        a('blog', href='http://brobeur.com/artcontroldrawsyou/wcmckee.com/wcmckee/output')\n",
      "    \n",
      "    with div():\n",
      "        attr(cls='header')\n",
      "        #<img src=\"smiley.gif\" alt=\"Smiley face\" height=\"42\" width=\"42\">\n",
      "        h1('itwillbemine')\n",
      "        p(img(scr='http://brobeur.com/artcontroldrawsyou/logo.gif'))\n",
      "        #for mine in minels:\n",
      "            #h1(mine.author_flair_text())\n",
      "            #p(mine.body)\n",
      "        \n",
      "    with div(id='author'):\n",
      "        for tits in titlis:\n",
      "            h3(tits)\n",
      "    \n",
      "    with div(id='body').add(p()):\n",
      "        for mine in minels:\n",
      "            #h1(mine.created)\n",
      "            p(mine.body)\n",
      "            \n",
      "\n",
      "\n",
      "\n",
      "print itwillbemine"
     ],
     "language": "python",
     "metadata": {},
     "outputs": [
      {
       "output_type": "stream",
       "stream": "stdout",
       "text": [
        "<!DOCTYPE html>\n",
        "<html>\n",
        "  <head>\n",
        "    <title>itwillbemine</title>\n",
        "    <link href=\"style.css\" rel=\"stylesheet\">\n",
        "    <script src=\"script.js\" type=\"text/javascript\"></script>\n",
        "  </head>\n",
        "  <body>\n",
        "    <div class=\"header\">\n",
        "      <h1>itwillbemine</h1>\n",
        "      <img scr=\"logo.gif\">\n",
        "      <h2>go away artcontrol</h2>\n",
        "      <p>Tue, 05 Aug 2014 00:29:43 +0000</p>\n",
        "      <a href=\"http://brobeur.com/artcontroldrawsyou/about\">about</a>\n",
        "      <a href=\"http://brobeur.com/artcontroldrawsyou/contact\">contact</a>\n",
        "      <a href=\"http://brobeur.com/artcontroldrawsyou/wcmckee.com/wcmckee/output\">blog</a>\n",
        "    </div>\n",
        "    <div class=\"header\">\n",
        "      <h1>itwillbemine</h1>\n",
        "      <p>\n",
        "        <img scr=\"http://brobeur.com/artcontroldrawsyou/logo.gif\">\n",
        "      </p>\n",
        "    </div>\n",
        "    <div id=\"author\">\n",
        "      <h3>xNikkinicolex</h3>\n",
        "      <h3>rickjackwood</h3>\n",
        "      <h3>Kivakaa</h3>\n",
        "      <h3>tysonoff</h3>\n",
        "      <h3>IM_ALL_THAT_IS_MAN</h3>\n",
        "      <h3>nightingalesoul</h3>\n",
        "      <h3>hohohopeless</h3>\n",
        "      <h3>Rossii</h3>\n",
        "      <h3>ItWillBeMine</h3>\n",
        "      <h3>patozash</h3>\n",
        "      <h3>PinchMyPapayas</h3>\n",
        "      <h3>oodlethepoodle</h3>\n",
        "      <h3>peter-park0ur</h3>\n",
        "      <h3>avalanchethethird</h3>\n",
        "      <h3>fdjohna</h3>\n",
        "      <h3>Cannabrain</h3>\n",
        "      <h3>Droseph88</h3>\n",
        "      <h3>PG_Glenwood</h3>\n",
        "      <h3>x_xdoodlex_x</h3>\n",
        "      <h3>jdtatum</h3>\n",
        "      <h3>feelthesunnow</h3>\n",
        "      <h3>AkumaLamprey</h3>\n",
        "      <h3>DanimalHouse</h3>\n",
        "      <h3>DarwinsApostle</h3>\n",
        "      <h3>Urgrimm</h3>\n",
        "    </div>\n",
        "    <div id=\"body\">\n",
        "      <p>\n",
        "        <p>This post is offensive and was removed. You can try again with a different photo.</p>\n",
        "        <p>I assume this is your cat?\n",
        "</p>\n",
        "        <p>1) your images aren't available\n",
        "\n",
        "2) gift posts aren't allowed, so your post was removed.</p>\n",
        "        <p>This is a repost. Post removed.</p>\n",
        "        <p>All children should be clothed in this sub, so this post was removed.</p>\n",
        "        <p>Please submit a different photo that doesn't have such blatant advertising.</p>\n",
        "        <p>This breaks two sub rules, and was removed.</p>\n",
        "        <p>Sorry it took so long. Feel free to try again in three days with a new photo if this one doesn't get any responses.  You won't have to verify next time.</p>\n",
        "        <p>Post removed. You can't use your birthday to get art here. Please review our rules.</p>\n",
        "        <p>Titles that elicit sympathy aren't allowed, and gift posts aren't allowed. Please review our rules.</p>\n",
        "        <p>Post removed; please review our list of approved relationships.</p>\n",
        "        <p>Post removed. Please review our list of approved relationships.</p>\n",
        "        <p>Your post is visible. :)</p>\n",
        "        <p>(Your post was removed since you were banned fo' attitude).</p>\n",
        "        <p>Please repost without the bit about being thousands of miles apart.</p>\n",
        "        <p>Gift posts aren't allowed, so your post was removed.</p>\n",
        "        <p>Reposting and frequent posting are not allowed, so your post was removed.</p>\n",
        "        <p>Gift posts aren't allowed, so your post was removed.</p>\n",
        "        <p>Sad posts are not allowed. Please read our rules before posting.</p>\n",
        "        <p>Gift posts aren't allowed. Please review our rules.</p>\n",
        "        <p>Your post was removed. Please review our list of approved relationships.</p>\n",
        "        <p>Sorry, this breaks sub rules and was removed. Please review our rules.</p>\n",
        "        <p>You should see the ones that never make it out of the gate!\n",
        "\n",
        "&quot;My dog just died of cancer, pls draw him, I'm so sad.&quot;\n",
        "\n",
        "&quot;I took a picture of my grandma's cactus, show me what you can do!&quot;\n",
        "\n",
        "&quot;This is my cousin's husband's neighbor, can you draw him?&quot;\n",
        "\n",
        "I'll definitely give it a try, just for you! Prepare your eyeballs! For the suck!</p>\n",
        "        <p>You know me, sometimes I just like to fuck a lil' shit up on a Monday...\n",
        "\n",
        "Seriously, tho, I believe that person has received the highest number of warnings prior to a ban ever in the history of RGD. I would say that person has received 12-15 warnings about rule-breaking, easily. Normally I give 0-2. :)\n",
        "\n",
        "P.S. I would draw you if I could! Have you ever seen my feeble art attempts before? I like to think of them as endearing. :D</p>\n",
        "        <p>Please send it to modmail - I am at work and cannot open it right now. I won't be able to open that link until tonight (my time).</p>\n",
        "      </p>\n",
        "    </div>\n",
        "  </body>\n",
        "</html>\n"
       ]
      }
     ],
     "prompt_number": 966
    },
    {
     "cell_type": "code",
     "collapsed": false,
     "input": [
      "savmine = open('reddit.html', 'w')\n",
      "savmine.write(str(itwillbemine))\n",
      "savmine.close()"
     ],
     "language": "python",
     "metadata": {},
     "outputs": [],
     "prompt_number": 967
    },
    {
     "cell_type": "code",
     "collapsed": false,
     "input": [
      "noizjson = json.dumps(dausr)"
     ],
     "language": "python",
     "metadata": {},
     "outputs": [],
     "prompt_number": 968
    },
    {
     "cell_type": "code",
     "collapsed": false,
     "input": [
      "newposts = open('userurl.json', 'a')\n",
      "newposts.write(newzjson)\n",
      "print ('file userurl.json updated')\n",
      "newcomments = open('idcomt.json', 'a')\n",
      "newcomments.write(noizjson)\n",
      "print ('user comments updated')\n",
      "newposts.close()\n",
      "newcomments.close()"
     ],
     "language": "python",
     "metadata": {},
     "outputs": [
      {
       "output_type": "stream",
       "stream": "stdout",
       "text": [
        "file userurl.json updated\n",
        "user comments updated\n"
       ]
      }
     ],
     "prompt_number": 969
    },
    {
     "cell_type": "code",
     "collapsed": false,
     "input": [
      "rdusr = str(con.author)\n"
     ],
     "language": "python",
     "metadata": {},
     "outputs": [],
     "prompt_number": 970
    },
    {
     "cell_type": "code",
     "collapsed": false,
     "input": [
      "minelsz = []"
     ],
     "language": "python",
     "metadata": {},
     "outputs": [],
     "prompt_number": 971
    },
    {
     "cell_type": "code",
     "collapsed": false,
     "input": [
      "#for mina in minels:\n",
      "    #print mina.body\n",
      "   # minelsz.append(mina.body)"
     ],
     "language": "python",
     "metadata": {},
     "outputs": [],
     "prompt_number": 972
    },
    {
     "cell_type": "code",
     "collapsed": false,
     "input": [
      "#minelsz"
     ],
     "language": "python",
     "metadata": {},
     "outputs": [],
     "prompt_number": 973
    },
    {
     "cell_type": "code",
     "collapsed": false,
     "input": [
      "#mina.body"
     ],
     "language": "python",
     "metadata": {},
     "outputs": [],
     "prompt_number": 974
    },
    {
     "cell_type": "code",
     "collapsed": false,
     "input": [
      "import feedparser"
     ],
     "language": "python",
     "metadata": {},
     "outputs": [],
     "prompt_number": 975
    },
    {
     "cell_type": "code",
     "collapsed": false,
     "input": [
      "mcs = feedparser.parse('http://mcsteffen.tumblr.com/rss')"
     ],
     "language": "python",
     "metadata": {},
     "outputs": [],
     "prompt_number": 976
    },
    {
     "cell_type": "code",
     "collapsed": false,
     "input": [
      "emcs = mcs['entries']"
     ],
     "language": "python",
     "metadata": {},
     "outputs": [],
     "prompt_number": 977
    },
    {
     "cell_type": "code",
     "collapsed": false,
     "input": [
      "for em in emcs:\n",
      "    print em"
     ],
     "language": "python",
     "metadata": {},
     "outputs": [
      {
       "output_type": "stream",
       "stream": "stdout",
       "text": [
        "{'summary_detail': {'base': u'http://mcsteffen.tumblr.com/rss', 'type': u'text/html', 'value': u'<img src=\"http://31.media.tumblr.com/11e436f1af1931cdaa3eb52ce80d4304/tumblr_n9pz76J7DB1t8sai5o1_500.jpg\" /><br /><br /><p>Rim Fire 2, 40 x 26\\xa01/2 inches, pencil and graphite on paper</p>', 'language': None}, 'published_parsed': time.struct_time(tm_year=2014, tm_mon=8, tm_mday=3, tm_hour=7, tm_min=23, tm_sec=30, tm_wday=6, tm_yday=215, tm_isdst=0), 'links': [{'href': u'http://mcsteffen.tumblr.com/post/93663063144', 'type': u'text/html', 'rel': u'alternate'}], 'title': u'Rim Fire 2, 40 x 26\\xa01/2 inches, pencil and graphite on...', 'tags': [{'term': u'landscapedrawing', 'scheme': None, 'label': None}, {'term': u'landscape drawing', 'scheme': None, 'label': None}, {'term': u'pencilandgraphite', 'scheme': None, 'label': None}, {'term': u'pencil', 'scheme': None, 'label': None}, {'term': u'artistlounge', 'scheme': None, 'label': None}, {'term': u'redditartistnetwork', 'scheme': None, 'label': None}, {'term': u'yosemite', 'scheme': None, 'label': None}, {'term': u'rim fire', 'scheme': None, 'label': None}, {'term': u'rimfire', 'scheme': None, 'label': None}, {'term': u'landscape', 'scheme': None, 'label': None}, {'term': u'reddit', 'scheme': None, 'label': None}, {'term': u'forestfire', 'scheme': None, 'label': None}, {'term': u'california', 'scheme': None, 'label': None}, {'term': u'drawing', 'scheme': None, 'label': None}], 'summary': u'<img src=\"http://31.media.tumblr.com/11e436f1af1931cdaa3eb52ce80d4304/tumblr_n9pz76J7DB1t8sai5o1_500.jpg\" /><br /><br /><p>Rim Fire 2, 40 x 26\\xa01/2 inches, pencil and graphite on paper</p>', 'guidislink': False, 'title_detail': {'base': u'http://mcsteffen.tumblr.com/rss', 'type': u'text/plain', 'value': u'Rim Fire 2, 40 x 26\\xa01/2 inches, pencil and graphite on...', 'language': None}, 'link': u'http://mcsteffen.tumblr.com/post/93663063144', 'published': u'Sun, 03 Aug 2014 03:23:30 -0400', 'id': u'http://mcsteffen.tumblr.com/post/93663063144'}\n",
        "{'summary_detail': {'base': u'http://mcsteffen.tumblr.com/rss', 'type': u'text/html', 'value': u'<img src=\"http://38.media.tumblr.com/f3817e5e8c03f24a535814e75c7203d2/tumblr_n9mzq4fl9R1t8sai5o1_500.jpg\" /><br /><br /><p>Rim Fire 1, pencil and graphite on paper</p>', 'language': None}, 'published_parsed': time.struct_time(tm_year=2014, tm_mon=8, tm_mday=1, tm_hour=16, tm_min=42, tm_sec=4, tm_wday=4, tm_yday=213, tm_isdst=0), 'links': [{'href': u'http://mcsteffen.tumblr.com/post/93509038514', 'type': u'text/html', 'rel': u'alternate'}], 'title': u'Rim Fire 1, pencil and graphite on paper', 'tags': [{'term': u'landscape', 'scheme': None, 'label': None}, {'term': u'landscape drawing', 'scheme': None, 'label': None}, {'term': u'rim fire', 'scheme': None, 'label': None}, {'term': u'rimfire', 'scheme': None, 'label': None}, {'term': u'yosemite', 'scheme': None, 'label': None}, {'term': u'california', 'scheme': None, 'label': None}, {'term': u'artist lounge', 'scheme': None, 'label': None}, {'term': u'redditartistnetwork', 'scheme': None, 'label': None}, {'term': u'reddit artist network', 'scheme': None, 'label': None}, {'term': u'drawing', 'scheme': None, 'label': None}, {'term': u'pencil drawing', 'scheme': None, 'label': None}, {'term': u'funisher', 'scheme': None, 'label': None}, {'term': u'hiking', 'scheme': None, 'label': None}, {'term': u'art', 'scheme': None, 'label': None}], 'summary': u'<img src=\"http://38.media.tumblr.com/f3817e5e8c03f24a535814e75c7203d2/tumblr_n9mzq4fl9R1t8sai5o1_500.jpg\" /><br /><br /><p>Rim Fire 1, pencil and graphite on paper</p>', 'guidislink': False, 'title_detail': {'base': u'http://mcsteffen.tumblr.com/rss', 'type': u'text/plain', 'value': u'Rim Fire 1, pencil and graphite on paper', 'language': None}, 'link': u'http://mcsteffen.tumblr.com/post/93509038514', 'published': u'Fri, 01 Aug 2014 12:42:04 -0400', 'id': u'http://mcsteffen.tumblr.com/post/93509038514'}\n",
        "{'summary_detail': {'base': u'http://mcsteffen.tumblr.com/rss', 'type': u'text/html', 'value': u'<img src=\"http://38.media.tumblr.com/018b0938fde692ff0ca2bc19db18bab4/tumblr_n85fm3Z6uq1qg45pdo1_500.jpg\" /><br /><br /><p><a class=\"tumblr_blog\" href=\"http://osaft.tumblr.com/post/90677710590/comedy-gold-with-mcsteffen-nottherogeruknow-and\">osaft</a>:</p>\\n\\n<blockquote><p>Comedy Gold with <a class=\"tumblelog\" href=\"http://tmblr.co/mrHolH0AaL0YBsXWUyZeEWQ\">mcsteffen</a> , <a class=\"tumblelog\" href=\"http://tmblr.co/mPPcQWm7xfpLmnCPFo36taQ\">nottherogeruknow</a> and moi<u><br /></u></p></blockquote>\\n\\nBringing it back the way it shoulda been! Beautiful drawing by the beautiful <a class=\"tumblelog\" href=\"http://tmblr.co/mvmqaltOPNXNRufmqAn2xBg\">osaft</a>!', 'language': None}, 'published_parsed': time.struct_time(tm_year=2014, tm_mon=7, tm_mday=3, tm_hour=18, tm_min=50, tm_sec=21, tm_wday=3, tm_yday=184, tm_isdst=0), 'links': [{'href': u'http://mcsteffen.tumblr.com/post/90678988129', 'type': u'text/html', 'rel': u'alternate'}], 'title': u'osaft:\\n\\nComedy Gold with mcsteffen , nottherogeruknow and...', 'tags': [{'term': u'TGAGAAPP', 'scheme': None, 'label': None}, {'term': u'2G1G1P', 'scheme': None, 'label': None}, {'term': u'cartooning', 'scheme': None, 'label': None}, {'term': u'roadtohollywood', 'scheme': None, 'label': None}, {'term': u'boobs', 'scheme': None, 'label': None}, {'term': u'bff', 'scheme': None, 'label': None}, {'term': u'comedygoldmine', 'scheme': None, 'label': None}], 'summary': u'<img src=\"http://38.media.tumblr.com/018b0938fde692ff0ca2bc19db18bab4/tumblr_n85fm3Z6uq1qg45pdo1_500.jpg\" /><br /><br /><p><a class=\"tumblr_blog\" href=\"http://osaft.tumblr.com/post/90677710590/comedy-gold-with-mcsteffen-nottherogeruknow-and\">osaft</a>:</p>\\n\\n<blockquote><p>Comedy Gold with <a class=\"tumblelog\" href=\"http://tmblr.co/mrHolH0AaL0YBsXWUyZeEWQ\">mcsteffen</a> , <a class=\"tumblelog\" href=\"http://tmblr.co/mPPcQWm7xfpLmnCPFo36taQ\">nottherogeruknow</a> and moi<u><br /></u></p></blockquote>\\n\\nBringing it back the way it shoulda been! Beautiful drawing by the beautiful <a class=\"tumblelog\" href=\"http://tmblr.co/mvmqaltOPNXNRufmqAn2xBg\">osaft</a>!', 'guidislink': False, 'title_detail': {'base': u'http://mcsteffen.tumblr.com/rss', 'type': u'text/plain', 'value': u'osaft:\\n\\nComedy Gold with mcsteffen , nottherogeruknow and...', 'language': None}, 'link': u'http://mcsteffen.tumblr.com/post/90678988129', 'published': u'Thu, 03 Jul 2014 14:50:21 -0400', 'id': u'http://mcsteffen.tumblr.com/post/90678988129'}\n",
        "{'summary_detail': {'base': u'http://mcsteffen.tumblr.com/rss', 'type': u'text/html', 'value': u'<img src=\"http://38.media.tumblr.com/4b193ced537b2169b7f3c64de342e768/tumblr_n83ohf0fzv1qg45pdo1_500.jpg\" /><br /> <br /><img src=\"http://37.media.tumblr.com/02275e50e6e4ed89676eb61e350575c0/tumblr_n83ohf0fzv1qg45pdo2_500.jpg\" /><br /> <br /><p>Portrait of\\xa0<a class=\"tumblelog\" href=\"http://tmblr.co/mdKApUvkTXycUmehUhDw4DA\">katlix</a>\\xa0and myself by the ridiculously talented and wonderful\\xa0<a class=\"tumblr_blog\" href=\"http://osaft.tumblr.com/post/90582945065/katlix-and-mcsteffen-3-3-3-3-3-3-3-3-3\">osaft</a>!</p>', 'language': None}, 'published_parsed': time.struct_time(tm_year=2014, tm_mon=7, tm_mday=3, tm_hour=6, tm_min=49, tm_sec=20, tm_wday=3, tm_yday=184, tm_isdst=0), 'links': [{'href': u'http://mcsteffen.tumblr.com/post/90637782104', 'type': u'text/html', 'rel': u'alternate'}], 'title': u'Portrait of\\xa0katlix\\xa0and myself by the ridiculously talented and...', 'tags': [{'term': u'reddit', 'scheme': None, 'label': None}, {'term': u'redditartistnetwork', 'scheme': None, 'label': None}, {'term': u'skateboarding', 'scheme': None, 'label': None}, {'term': u'portraiture', 'scheme': None, 'label': None}, {'term': u'batman', 'scheme': None, 'label': None}], 'summary': u'<img src=\"http://38.media.tumblr.com/4b193ced537b2169b7f3c64de342e768/tumblr_n83ohf0fzv1qg45pdo1_500.jpg\" /><br /> <br /><img src=\"http://37.media.tumblr.com/02275e50e6e4ed89676eb61e350575c0/tumblr_n83ohf0fzv1qg45pdo2_500.jpg\" /><br /> <br /><p>Portrait of\\xa0<a class=\"tumblelog\" href=\"http://tmblr.co/mdKApUvkTXycUmehUhDw4DA\">katlix</a>\\xa0and myself by the ridiculously talented and wonderful\\xa0<a class=\"tumblr_blog\" href=\"http://osaft.tumblr.com/post/90582945065/katlix-and-mcsteffen-3-3-3-3-3-3-3-3-3\">osaft</a>!</p>', 'guidislink': False, 'title_detail': {'base': u'http://mcsteffen.tumblr.com/rss', 'type': u'text/plain', 'value': u'Portrait of\\xa0katlix\\xa0and myself by the ridiculously talented and...', 'language': None}, 'link': u'http://mcsteffen.tumblr.com/post/90637782104', 'published': u'Thu, 03 Jul 2014 02:49:20 -0400', 'id': u'http://mcsteffen.tumblr.com/post/90637782104'}\n",
        "{'summary_detail': {'base': u'http://mcsteffen.tumblr.com/rss', 'type': u'text/html', 'value': u'<img src=\"http://31.media.tumblr.com/03a08772c9c3cbea84383f5a27eb2c43/tumblr_n6zybli8gr1t8sai5o1_500.jpg\" /><br /><br /><p>Portrait of /u/Daven2ude</p>', 'language': None}, 'published_parsed': time.struct_time(tm_year=2014, tm_mon=6, tm_mday=11, tm_hour=8, tm_min=59, tm_sec=45, tm_wday=2, tm_yday=162, tm_isdst=0), 'links': [{'href': u'http://mcsteffen.tumblr.com/post/88459616224', 'type': u'text/html', 'rel': u'alternate'}], 'title': u'Portrait of /u/Daven2ude', 'tags': [{'term': u'RedditGetsDrawn', 'scheme': None, 'label': None}, {'term': u'copic markers', 'scheme': None, 'label': None}, {'term': u'prismacolor markers', 'scheme': None, 'label': None}, {'term': u'prismacolor', 'scheme': None, 'label': None}, {'term': u'copic', 'scheme': None, 'label': None}, {'term': u'pencil', 'scheme': None, 'label': None}, {'term': u'portraiture', 'scheme': None, 'label': None}, {'term': u'drawing', 'scheme': None, 'label': None}, {'term': u'sketching', 'scheme': None, 'label': None}, {'term': u'reddit', 'scheme': None, 'label': None}, {'term': u'redditartistnetwork', 'scheme': None, 'label': None}], 'summary': u'<img src=\"http://31.media.tumblr.com/03a08772c9c3cbea84383f5a27eb2c43/tumblr_n6zybli8gr1t8sai5o1_500.jpg\" /><br /><br /><p>Portrait of /u/Daven2ude</p>', 'guidislink': False, 'title_detail': {'base': u'http://mcsteffen.tumblr.com/rss', 'type': u'text/plain', 'value': u'Portrait of /u/Daven2ude', 'language': None}, 'link': u'http://mcsteffen.tumblr.com/post/88459616224', 'published': u'Wed, 11 Jun 2014 04:59:45 -0400', 'id': u'http://mcsteffen.tumblr.com/post/88459616224'}\n",
        "{'summary_detail': {'base': u'http://mcsteffen.tumblr.com/rss', 'type': u'text/html', 'value': u'<img src=\"http://31.media.tumblr.com/c062a07836c7873309643aacebb03409/tumblr_n6tvo9efMl1t8sai5o1_500.jpg\" /><br /><br /><p>Portrait of /u/ChardeeMacdennisTime. \\xa0Pencil and Marker on paper.</p>', 'language': None}, 'published_parsed': time.struct_time(tm_year=2014, tm_mon=6, tm_mday=8, tm_hour=2, tm_min=16, tm_sec=57, tm_wday=6, tm_yday=159, tm_isdst=0), 'links': [{'href': u'http://mcsteffen.tumblr.com/post/88132869394', 'type': u'text/html', 'rel': u'alternate'}], 'title': u'Portrait of /u/ChardeeMacdennisTime. \\xa0Pencil and Marker on...', 'tags': [{'term': u'redditartistnetwork', 'scheme': None, 'label': None}, {'term': u'redditgetsdrawn', 'scheme': None, 'label': None}, {'term': u'artistlounge', 'scheme': None, 'label': None}, {'term': u'reddit', 'scheme': None, 'label': None}, {'term': u'portraiture', 'scheme': None, 'label': None}, {'term': u'copic', 'scheme': None, 'label': None}, {'term': u'markers', 'scheme': None, 'label': None}, {'term': u'prismacolor', 'scheme': None, 'label': None}, {'term': u'pencil', 'scheme': None, 'label': None}, {'term': u'sketching', 'scheme': None, 'label': None}, {'term': u'copicmarkers', 'scheme': None, 'label': None}, {'term': u'copic markers', 'scheme': None, 'label': None}, {'term': u'rgd', 'scheme': None, 'label': None}], 'summary': u'<img src=\"http://31.media.tumblr.com/c062a07836c7873309643aacebb03409/tumblr_n6tvo9efMl1t8sai5o1_500.jpg\" /><br /><br /><p>Portrait of /u/ChardeeMacdennisTime. \\xa0Pencil and Marker on paper.</p>', 'guidislink': False, 'title_detail': {'base': u'http://mcsteffen.tumblr.com/rss', 'type': u'text/plain', 'value': u'Portrait of /u/ChardeeMacdennisTime. \\xa0Pencil and Marker on...', 'language': None}, 'link': u'http://mcsteffen.tumblr.com/post/88132869394', 'published': u'Sat, 07 Jun 2014 22:16:57 -0400', 'id': u'http://mcsteffen.tumblr.com/post/88132869394'}\n",
        "{'summary_detail': {'base': u'http://mcsteffen.tumblr.com/rss', 'type': u'text/html', 'value': u'<img src=\"http://38.media.tumblr.com/8dc9075b558c521c5a7afe521142cc34/tumblr_n51kxtcIOC1t8sai5o1_500.jpg\" /><br /><br /><p>Portrait of /u/yomatz</p>', 'language': None}, 'published_parsed': time.struct_time(tm_year=2014, tm_mon=5, tm_mday=4, tm_hour=8, tm_min=58, tm_sec=41, tm_wday=6, tm_yday=124, tm_isdst=0), 'links': [{'href': u'http://mcsteffen.tumblr.com/post/84702067334', 'type': u'text/html', 'rel': u'alternate'}], 'title': u'Portrait of /u/yomatz', 'tags': [{'term': u'redditgetsdrawn rgd portraiture drawing', 'scheme': None, 'label': None}], 'summary': u'<img src=\"http://38.media.tumblr.com/8dc9075b558c521c5a7afe521142cc34/tumblr_n51kxtcIOC1t8sai5o1_500.jpg\" /><br /><br /><p>Portrait of /u/yomatz</p>', 'guidislink': False, 'title_detail': {'base': u'http://mcsteffen.tumblr.com/rss', 'type': u'text/plain', 'value': u'Portrait of /u/yomatz', 'language': None}, 'link': u'http://mcsteffen.tumblr.com/post/84702067334', 'published': u'Sun, 04 May 2014 04:58:41 -0400', 'id': u'http://mcsteffen.tumblr.com/post/84702067334'}\n",
        "{'summary_detail': {'base': u'http://mcsteffen.tumblr.com/rss', 'type': u'text/html', 'value': u'<img src=\"http://38.media.tumblr.com/b8480ba389be6572f4bf08141eac6ce5/tumblr_n3e72pVmaq1t8sai5o1_500.jpg\" /><br /><br /><p>/u/ItWillBeMine</p>', 'language': None}, 'published_parsed': time.struct_time(tm_year=2014, tm_mon=4, tm_mday=2, tm_hour=7, tm_min=20, tm_sec=49, tm_wday=2, tm_yday=92, tm_isdst=0), 'links': [{'href': u'http://mcsteffen.tumblr.com/post/81470400358', 'type': u'text/html', 'rel': u'alternate'}], 'title': u'/u/ItWillBeMine', 'tags': [{'term': u'RedditGetsDrawn', 'scheme': None, 'label': None}, {'term': u'/r/redditgetsdrawn', 'scheme': None, 'label': None}, {'term': u'RGD', 'scheme': None, 'label': None}, {'term': u'portraiture', 'scheme': None, 'label': None}, {'term': u'drawing', 'scheme': None, 'label': None}, {'term': u'funisher', 'scheme': None, 'label': None}], 'summary': u'<img src=\"http://38.media.tumblr.com/b8480ba389be6572f4bf08141eac6ce5/tumblr_n3e72pVmaq1t8sai5o1_500.jpg\" /><br /><br /><p>/u/ItWillBeMine</p>', 'guidislink': False, 'title_detail': {'base': u'http://mcsteffen.tumblr.com/rss', 'type': u'text/plain', 'value': u'/u/ItWillBeMine', 'language': None}, 'link': u'http://mcsteffen.tumblr.com/post/81470400358', 'published': u'Wed, 02 Apr 2014 03:20:49 -0400', 'id': u'http://mcsteffen.tumblr.com/post/81470400358'}\n",
        "{'summary_detail': {'base': u'http://mcsteffen.tumblr.com/rss', 'type': u'text/html', 'value': u'<img src=\"http://37.media.tumblr.com/32e94e70b0921e15d1725566cef13f33/tumblr_n37ymbeLeI1t8sai5o1_500.jpg\" /><br /><br /><p>/u/curiousnonsense\\u2019s great uncle</p>', 'language': None}, 'published_parsed': time.struct_time(tm_year=2014, tm_mon=3, tm_mday=29, tm_hour=22, tm_min=32, tm_sec=35, tm_wday=5, tm_yday=88, tm_isdst=0), 'links': [{'href': u'http://mcsteffen.tumblr.com/post/81117377637', 'type': u'text/html', 'rel': u'alternate'}], 'title': u'/u/curiousnonsense\\u2019s great uncle', 'tags': [{'term': u'RGD', 'scheme': None, 'label': None}, {'term': u'RedditGetsDrawn', 'scheme': None, 'label': None}, {'term': u'funisher', 'scheme': None, 'label': None}, {'term': u'/r/redditgetsdrawn', 'scheme': None, 'label': None}, {'term': u'portraiture', 'scheme': None, 'label': None}, {'term': u'drawing', 'scheme': None, 'label': None}, {'term': u'markers', 'scheme': None, 'label': None}, {'term': u'prismacolor', 'scheme': None, 'label': None}, {'term': u'prismacolor markers', 'scheme': None, 'label': None}], 'summary': u'<img src=\"http://37.media.tumblr.com/32e94e70b0921e15d1725566cef13f33/tumblr_n37ymbeLeI1t8sai5o1_500.jpg\" /><br /><br /><p>/u/curiousnonsense\\u2019s great uncle</p>', 'guidislink': False, 'title_detail': {'base': u'http://mcsteffen.tumblr.com/rss', 'type': u'text/plain', 'value': u'/u/curiousnonsense\\u2019s great uncle', 'language': None}, 'link': u'http://mcsteffen.tumblr.com/post/81117377637', 'published': u'Sat, 29 Mar 2014 18:32:35 -0400', 'id': u'http://mcsteffen.tumblr.com/post/81117377637'}\n",
        "{'summary_detail': {'base': u'http://mcsteffen.tumblr.com/rss', 'type': u'text/html', 'value': u'<img src=\"http://38.media.tumblr.com/b60cb65ab4e60dfeb32e7b24432a7be3/tumblr_n2svjsIgTY1t8sai5o1_500.jpg\" /><br /><br /><p>Recent landscape commission</p>', 'language': None}, 'published_parsed': time.struct_time(tm_year=2014, tm_mon=3, tm_mday=21, tm_hour=19, tm_min=2, tm_sec=16, tm_wday=4, tm_yday=80, tm_isdst=0), 'links': [{'href': u'http://mcsteffen.tumblr.com/post/80280221308', 'type': u'text/html', 'rel': u'alternate'}], 'title': u'Recent landscape commission', 'tags': [{'term': u'new zealand', 'scheme': None, 'label': None}, {'term': u'oil painting', 'scheme': None, 'label': None}, {'term': u'painting', 'scheme': None, 'label': None}, {'term': u'landscape painting', 'scheme': None, 'label': None}, {'term': u'art commission', 'scheme': None, 'label': None}], 'summary': u'<img src=\"http://38.media.tumblr.com/b60cb65ab4e60dfeb32e7b24432a7be3/tumblr_n2svjsIgTY1t8sai5o1_500.jpg\" /><br /><br /><p>Recent landscape commission</p>', 'guidislink': False, 'title_detail': {'base': u'http://mcsteffen.tumblr.com/rss', 'type': u'text/plain', 'value': u'Recent landscape commission', 'language': None}, 'link': u'http://mcsteffen.tumblr.com/post/80280221308', 'published': u'Fri, 21 Mar 2014 15:02:16 -0400', 'id': u'http://mcsteffen.tumblr.com/post/80280221308'}\n",
        "{'summary_detail': {'base': u'http://mcsteffen.tumblr.com/rss', 'type': u'text/html', 'value': u'<img src=\"http://31.media.tumblr.com/875be53500ea4b979a58a09f5b940a76/tumblr_n2rd5gI4M41t8sai5o1_500.jpg\" /><br /><br /><p>/u/Catness_NeverClean from /r/prettygirlsuglyfaces</p>', 'language': None}, 'published_parsed': time.struct_time(tm_year=2014, tm_mon=3, tm_mday=20, tm_hour=23, tm_min=27, tm_sec=16, tm_wday=3, tm_yday=79, tm_isdst=0), 'links': [{'href': u'http://mcsteffen.tumblr.com/post/80208053307', 'type': u'text/html', 'rel': u'alternate'}], 'title': u'/u/Catness_NeverClean from /r/prettygirlsuglyfaces', 'tags': [{'term': u'drawing', 'scheme': None, 'label': None}, {'term': u'portrait', 'scheme': None, 'label': None}, {'term': u'funisher', 'scheme': None, 'label': None}, {'term': u'PrettyGirlsUglyFaces', 'scheme': None, 'label': None}, {'term': u'reddit', 'scheme': None, 'label': None}], 'summary': u'<img src=\"http://31.media.tumblr.com/875be53500ea4b979a58a09f5b940a76/tumblr_n2rd5gI4M41t8sai5o1_500.jpg\" /><br /><br /><p>/u/Catness_NeverClean from /r/prettygirlsuglyfaces</p>', 'guidislink': False, 'title_detail': {'base': u'http://mcsteffen.tumblr.com/rss', 'type': u'text/plain', 'value': u'/u/Catness_NeverClean from /r/prettygirlsuglyfaces', 'language': None}, 'link': u'http://mcsteffen.tumblr.com/post/80208053307', 'published': u'Thu, 20 Mar 2014 19:27:16 -0400', 'id': u'http://mcsteffen.tumblr.com/post/80208053307'}\n",
        "{'summary_detail': {'base': u'http://mcsteffen.tumblr.com/rss', 'type': u'text/html', 'value': u'<img src=\"http://33.media.tumblr.com/4a9f14996a9a6be04c3ec5644fa1b661/tumblr_n2r4ntnY4F1t8sai5o1_500.jpg\" /><br /><br /><p>/u/Hotnonsense\\u2019s daughter from /r/redditgetsdrawn</p>', 'language': None}, 'published_parsed': time.struct_time(tm_year=2014, tm_mon=3, tm_mday=20, tm_hour=20, tm_min=23, tm_sec=53, tm_wday=3, tm_yday=79, tm_isdst=0), 'links': [{'href': u'http://mcsteffen.tumblr.com/post/80190751038', 'type': u'text/html', 'rel': u'alternate'}], 'title': u'/u/Hotnonsense\\u2019s daughter from /r/redditgetsdrawn', 'tags': [{'term': u'RGD', 'scheme': None, 'label': None}, {'term': u'RedditGetsDrawn', 'scheme': None, 'label': None}, {'term': u'portraiture', 'scheme': None, 'label': None}, {'term': u'funisher', 'scheme': None, 'label': None}, {'term': u'drawing', 'scheme': None, 'label': None}], 'summary': u'<img src=\"http://33.media.tumblr.com/4a9f14996a9a6be04c3ec5644fa1b661/tumblr_n2r4ntnY4F1t8sai5o1_500.jpg\" /><br /><br /><p>/u/Hotnonsense\\u2019s daughter from /r/redditgetsdrawn</p>', 'guidislink': False, 'title_detail': {'base': u'http://mcsteffen.tumblr.com/rss', 'type': u'text/plain', 'value': u'/u/Hotnonsense\\u2019s daughter from /r/redditgetsdrawn', 'language': None}, 'link': u'http://mcsteffen.tumblr.com/post/80190751038', 'published': u'Thu, 20 Mar 2014 16:23:53 -0400', 'id': u'http://mcsteffen.tumblr.com/post/80190751038'}\n",
        "{'summary_detail': {'base': u'http://mcsteffen.tumblr.com/rss', 'type': u'text/html', 'value': u'<img src=\"http://33.media.tumblr.com/eb3c44b5249af01c4b6e77e87056ca4d/tumblr_n29gvzgNdO1t8sai5o1_500.jpg\" /><br /><br /><p>/u/blackzao</p>', 'language': None}, 'published_parsed': time.struct_time(tm_year=2014, tm_mon=3, tm_mday=11, tm_hour=7, tm_min=31, tm_sec=11, tm_wday=1, tm_yday=70, tm_isdst=0), 'links': [{'href': u'http://mcsteffen.tumblr.com/post/79247221533', 'type': u'text/html', 'rel': u'alternate'}], 'title': u'/u/blackzao', 'tags': [{'term': u'portraiture', 'scheme': None, 'label': None}, {'term': u'RedditGetsDrawn', 'scheme': None, 'label': None}, {'term': u'/r/redditgetsdrawn', 'scheme': None, 'label': None}, {'term': u'RGD', 'scheme': None, 'label': None}, {'term': u'funisher', 'scheme': None, 'label': None}, {'term': u'mike steffen', 'scheme': None, 'label': None}], 'summary': u'<img src=\"http://33.media.tumblr.com/eb3c44b5249af01c4b6e77e87056ca4d/tumblr_n29gvzgNdO1t8sai5o1_500.jpg\" /><br /><br /><p>/u/blackzao</p>', 'guidislink': False, 'title_detail': {'base': u'http://mcsteffen.tumblr.com/rss', 'type': u'text/plain', 'value': u'/u/blackzao', 'language': None}, 'link': u'http://mcsteffen.tumblr.com/post/79247221533', 'published': u'Tue, 11 Mar 2014 03:31:11 -0400', 'id': u'http://mcsteffen.tumblr.com/post/79247221533'}\n",
        "{'summary_detail': {'base': u'http://mcsteffen.tumblr.com/rss', 'type': u'text/html', 'value': u'<img src=\"http://31.media.tumblr.com/47e18d37bf3cc77af96cec189afff66a/tumblr_n28b4rv12K1t8sai5o1_500.jpg\" /><br /><br /><p>Portrait of Melvin</p>', 'language': None}, 'published_parsed': time.struct_time(tm_year=2014, tm_mon=3, tm_mday=10, tm_hour=16, tm_min=29, tm_sec=15, tm_wday=0, tm_yday=69, tm_isdst=0), 'links': [{'href': u'http://mcsteffen.tumblr.com/post/79172519099', 'type': u'text/html', 'rel': u'alternate'}], 'title': u'Portrait of Melvin', 'tags': [{'term': u'RGD', 'scheme': None, 'label': None}, {'term': u'/r/redditgetsdrawn', 'scheme': None, 'label': None}, {'term': u'RedditGetsDrawn', 'scheme': None, 'label': None}, {'term': u'/r/artistlounge', 'scheme': None, 'label': None}, {'term': u'artistlounge', 'scheme': None, 'label': None}, {'term': u'portraiture', 'scheme': None, 'label': None}, {'term': u'drawing', 'scheme': None, 'label': None}, {'term': u'mike steffen', 'scheme': None, 'label': None}, {'term': u'funisher', 'scheme': None, 'label': None}], 'summary': u'<img src=\"http://31.media.tumblr.com/47e18d37bf3cc77af96cec189afff66a/tumblr_n28b4rv12K1t8sai5o1_500.jpg\" /><br /><br /><p>Portrait of Melvin</p>', 'guidislink': False, 'title_detail': {'base': u'http://mcsteffen.tumblr.com/rss', 'type': u'text/plain', 'value': u'Portrait of Melvin', 'language': None}, 'link': u'http://mcsteffen.tumblr.com/post/79172519099', 'published': u'Mon, 10 Mar 2014 12:29:15 -0400', 'id': u'http://mcsteffen.tumblr.com/post/79172519099'}\n",
        "{'summary_detail': {'base': u'http://mcsteffen.tumblr.com/rss', 'type': u'text/html', 'value': u'<br /><br /><p>Newb School: Episode Fucked Up</p>', 'language': None}, 'published_parsed': time.struct_time(tm_year=2014, tm_mon=3, tm_mday=9, tm_hour=10, tm_min=55, tm_sec=5, tm_wday=6, tm_yday=68, tm_isdst=0), 'links': [{'href': u'http://mcsteffen.tumblr.com/post/79044786476', 'type': u'text/html', 'rel': u'alternate'}], 'title': u'Newb School: Episode Fucked Up', 'tags': [{'term': u'/r/redditgetsdrawn', 'scheme': None, 'label': None}, {'term': u'RedditGetsDrawn', 'scheme': None, 'label': None}, {'term': u'/r/artistlounge', 'scheme': None, 'label': None}, {'term': u'rgd', 'scheme': None, 'label': None}, {'term': u'mike steffen', 'scheme': None, 'label': None}, {'term': u'art', 'scheme': None, 'label': None}, {'term': u'instructional', 'scheme': None, 'label': None}, {'term': u'artistlounge', 'scheme': None, 'label': None}, {'term': u'funisher', 'scheme': None, 'label': None}], 'summary': u'<br /><br /><p>Newb School: Episode Fucked Up</p>', 'guidislink': False, 'title_detail': {'base': u'http://mcsteffen.tumblr.com/rss', 'type': u'text/plain', 'value': u'Newb School: Episode Fucked Up', 'language': None}, 'link': u'http://mcsteffen.tumblr.com/post/79044786476', 'published': u'Sun, 09 Mar 2014 06:55:05 -0400', 'id': u'http://mcsteffen.tumblr.com/post/79044786476'}\n",
        "{'summary_detail': {'base': u'http://mcsteffen.tumblr.com/rss', 'type': u'text/html', 'value': u'<img src=\"http://31.media.tumblr.com/b89cc31d9ca0510c9a078ad67ead8975/tumblr_n1s51zhZlt1t8sai5o1_500.jpg\" /><br /><br /><p>First time hanging this in a show. :)</p>', 'language': None}, 'published_parsed': time.struct_time(tm_year=2014, tm_mon=3, tm_mday=1, tm_hour=22, tm_min=56, tm_sec=22, tm_wday=5, tm_yday=60, tm_isdst=0), 'links': [{'href': u'http://mcsteffen.tumblr.com/post/78255101926', 'type': u'text/html', 'rel': u'alternate'}], 'title': u'First time hanging this in a show. :)', 'tags': [{'term': u'ntropic', 'scheme': None, 'label': None}, {'term': u'landscape painting', 'scheme': None, 'label': None}, {'term': u'mike steffen', 'scheme': None, 'label': None}, {'term': u'art', 'scheme': None, 'label': None}], 'summary': u'<img src=\"http://31.media.tumblr.com/b89cc31d9ca0510c9a078ad67ead8975/tumblr_n1s51zhZlt1t8sai5o1_500.jpg\" /><br /><br /><p>First time hanging this in a show. :)</p>', 'guidislink': False, 'title_detail': {'base': u'http://mcsteffen.tumblr.com/rss', 'type': u'text/plain', 'value': u'First time hanging this in a show. :)', 'language': None}, 'link': u'http://mcsteffen.tumblr.com/post/78255101926', 'published': u'Sat, 01 Mar 2014 17:56:22 -0500', 'id': u'http://mcsteffen.tumblr.com/post/78255101926'}\n",
        "{'summary_detail': {'base': u'http://mcsteffen.tumblr.com/rss', 'type': u'text/html', 'value': u'<img src=\"http://38.media.tumblr.com/a2d384e4b9959edf9d806c1d28f46ee2/tumblr_n1p09uo6Fn1t8sai5o1_500.jpg\" /><br /><br /><p>Sketch of /u/arretez\\u2019s friend</p>', 'language': None}, 'published_parsed': time.struct_time(tm_year=2014, tm_mon=2, tm_mday=28, tm_hour=6, tm_min=20, tm_sec=18, tm_wday=4, tm_yday=59, tm_isdst=0), 'links': [{'href': u'http://mcsteffen.tumblr.com/post/78086866029', 'type': u'text/html', 'rel': u'alternate'}], 'title': u'Sketch of /u/arretez\\u2019s friend', 'tags': [{'term': u'RGD', 'scheme': None, 'label': None}, {'term': u'/r/artistlounge', 'scheme': None, 'label': None}, {'term': u'/r/redditgetsdrawn', 'scheme': None, 'label': None}, {'term': u'redditgetsdrawn', 'scheme': None, 'label': None}, {'term': u'funisher', 'scheme': None, 'label': None}, {'term': u'mike steffen', 'scheme': None, 'label': None}, {'term': u'sketch', 'scheme': None, 'label': None}, {'term': u'art', 'scheme': None, 'label': None}], 'summary': u'<img src=\"http://38.media.tumblr.com/a2d384e4b9959edf9d806c1d28f46ee2/tumblr_n1p09uo6Fn1t8sai5o1_500.jpg\" /><br /><br /><p>Sketch of /u/arretez\\u2019s friend</p>', 'guidislink': False, 'title_detail': {'base': u'http://mcsteffen.tumblr.com/rss', 'type': u'text/plain', 'value': u'Sketch of /u/arretez\\u2019s friend', 'language': None}, 'link': u'http://mcsteffen.tumblr.com/post/78086866029', 'published': u'Fri, 28 Feb 2014 01:20:18 -0500', 'id': u'http://mcsteffen.tumblr.com/post/78086866029'}\n",
        "{'summary_detail': {'base': u'http://mcsteffen.tumblr.com/rss', 'type': u'text/html', 'value': u'<img src=\"http://31.media.tumblr.com/67b29f3fa6e636fa938d66c6bd87e392/tumblr_mz8djw4VLL1t8sai5o1_500.jpg\" /><br /><br /><p>/u/Birdynumnums1, pencil on paper</p>', 'language': None}, 'published_parsed': time.struct_time(tm_year=2014, tm_mon=1, tm_mday=11, tm_hour=9, tm_min=40, tm_sec=44, tm_wday=5, tm_yday=11, tm_isdst=0), 'links': [{'href': u'http://mcsteffen.tumblr.com/post/72961361062', 'type': u'text/html', 'rel': u'alternate'}], 'title': u'/u/Birdynumnums1, pencil on paper', 'tags': [{'term': u'rgd', 'scheme': None, 'label': None}, {'term': u'/r/redditgetsdrawn', 'scheme': None, 'label': None}, {'term': u'/r/artistlounge', 'scheme': None, 'label': None}, {'term': u'funisher', 'scheme': None, 'label': None}, {'term': u'mike steffen', 'scheme': None, 'label': None}, {'term': u'drawing', 'scheme': None, 'label': None}, {'term': u'art', 'scheme': None, 'label': None}, {'term': u'portraiture', 'scheme': None, 'label': None}], 'summary': u'<img src=\"http://31.media.tumblr.com/67b29f3fa6e636fa938d66c6bd87e392/tumblr_mz8djw4VLL1t8sai5o1_500.jpg\" /><br /><br /><p>/u/Birdynumnums1, pencil on paper</p>', 'guidislink': False, 'title_detail': {'base': u'http://mcsteffen.tumblr.com/rss', 'type': u'text/plain', 'value': u'/u/Birdynumnums1, pencil on paper', 'language': None}, 'link': u'http://mcsteffen.tumblr.com/post/72961361062', 'published': u'Sat, 11 Jan 2014 04:40:44 -0500', 'id': u'http://mcsteffen.tumblr.com/post/72961361062'}\n",
        "{'summary_detail': {'base': u'http://mcsteffen.tumblr.com/rss', 'type': u'text/html', 'value': u'<img src=\"http://31.media.tumblr.com/e7e60139d8fe58d4d82942998e55000b/tumblr_mz8dh8zvR11t8sai5o1_500.jpg\" /><br /><br /><p>/u/Internet_Exploder, Oil on Wood Panel, 14 x 11 inches</p>', 'language': None}, 'published_parsed': time.struct_time(tm_year=2014, tm_mon=1, tm_mday=11, tm_hour=9, tm_min=39, tm_sec=8, tm_wday=5, tm_yday=11, tm_isdst=0), 'links': [{'href': u'http://mcsteffen.tumblr.com/post/72961290241', 'type': u'text/html', 'rel': u'alternate'}], 'title': u'/u/Internet_Exploder, Oil on Wood Panel, 14 x 11 inches', 'tags': [{'term': u'RGD', 'scheme': None, 'label': None}, {'term': u'/r/redditgetsdrawn', 'scheme': None, 'label': None}, {'term': u'/r/artistlounge', 'scheme': None, 'label': None}, {'term': u'art', 'scheme': None, 'label': None}, {'term': u'mike steffen', 'scheme': None, 'label': None}, {'term': u'funisher', 'scheme': None, 'label': None}], 'summary': u'<img src=\"http://31.media.tumblr.com/e7e60139d8fe58d4d82942998e55000b/tumblr_mz8dh8zvR11t8sai5o1_500.jpg\" /><br /><br /><p>/u/Internet_Exploder, Oil on Wood Panel, 14 x 11 inches</p>', 'guidislink': False, 'title_detail': {'base': u'http://mcsteffen.tumblr.com/rss', 'type': u'text/plain', 'value': u'/u/Internet_Exploder, Oil on Wood Panel, 14 x 11 inches', 'language': None}, 'link': u'http://mcsteffen.tumblr.com/post/72961290241', 'published': u'Sat, 11 Jan 2014 04:39:08 -0500', 'id': u'http://mcsteffen.tumblr.com/post/72961290241'}\n",
        "{'summary_detail': {'base': u'http://mcsteffen.tumblr.com/rss', 'type': u'text/html', 'value': u'<img src=\"http://33.media.tumblr.com/4075917b855bf3f83112a7ef04a4f9e1/tumblr_myep73x95N1t8sai5o1_500.jpg\" /><br /><br /><p>Poeptal</p>', 'language': None}, 'published_parsed': time.struct_time(tm_year=2013, tm_mon=12, tm_mday=26, tm_hour=9, tm_min=4, tm_sec=15, tm_wday=3, tm_yday=360, tm_isdst=0), 'links': [{'href': u'http://mcsteffen.tumblr.com/post/71188778392', 'type': u'text/html', 'rel': u'alternate'}], 'title': u'Poeptal', 'tags': [{'term': u'/r/fancyfollicles', 'scheme': None, 'label': None}, {'term': u'rgd', 'scheme': None, 'label': None}, {'term': u'/r/redditgetsdrawn', 'scheme': None, 'label': None}, {'term': u'funisher', 'scheme': None, 'label': None}, {'term': u'mike steffen', 'scheme': None, 'label': None}], 'summary': u'<img src=\"http://33.media.tumblr.com/4075917b855bf3f83112a7ef04a4f9e1/tumblr_myep73x95N1t8sai5o1_500.jpg\" /><br /><br /><p>Poeptal</p>', 'guidislink': False, 'title_detail': {'base': u'http://mcsteffen.tumblr.com/rss', 'type': u'text/plain', 'value': u'Poeptal', 'language': None}, 'link': u'http://mcsteffen.tumblr.com/post/71188778392', 'published': u'Thu, 26 Dec 2013 04:04:15 -0500', 'id': u'http://mcsteffen.tumblr.com/post/71188778392'}\n"
       ]
      }
     ],
     "prompt_number": 978
    },
    {
     "cell_type": "code",
     "collapsed": false,
     "input": [
      "tumlis = []"
     ],
     "language": "python",
     "metadata": {},
     "outputs": [],
     "prompt_number": 979
    },
    {
     "cell_type": "code",
     "collapsed": false,
     "input": [
      "for em in emcs:\n",
      "    tumlis.append((em['summary_detail']['value']))\n",
      "    "
     ],
     "language": "python",
     "metadata": {},
     "outputs": [],
     "prompt_number": 980
    },
    {
     "cell_type": "code",
     "collapsed": false,
     "input": [
      "tumlis"
     ],
     "language": "python",
     "metadata": {},
     "outputs": [
      {
       "metadata": {},
       "output_type": "pyout",
       "prompt_number": 981,
       "text": [
        "[u'<img src=\"http://31.media.tumblr.com/11e436f1af1931cdaa3eb52ce80d4304/tumblr_n9pz76J7DB1t8sai5o1_500.jpg\" /><br /><br /><p>Rim Fire 2, 40 x 26\\xa01/2 inches, pencil and graphite on paper</p>',\n",
        " u'<img src=\"http://38.media.tumblr.com/f3817e5e8c03f24a535814e75c7203d2/tumblr_n9mzq4fl9R1t8sai5o1_500.jpg\" /><br /><br /><p>Rim Fire 1, pencil and graphite on paper</p>',\n",
        " u'<img src=\"http://38.media.tumblr.com/018b0938fde692ff0ca2bc19db18bab4/tumblr_n85fm3Z6uq1qg45pdo1_500.jpg\" /><br /><br /><p><a class=\"tumblr_blog\" href=\"http://osaft.tumblr.com/post/90677710590/comedy-gold-with-mcsteffen-nottherogeruknow-and\">osaft</a>:</p>\\n\\n<blockquote><p>Comedy Gold with <a class=\"tumblelog\" href=\"http://tmblr.co/mrHolH0AaL0YBsXWUyZeEWQ\">mcsteffen</a> , <a class=\"tumblelog\" href=\"http://tmblr.co/mPPcQWm7xfpLmnCPFo36taQ\">nottherogeruknow</a> and moi<u><br /></u></p></blockquote>\\n\\nBringing it back the way it shoulda been! Beautiful drawing by the beautiful <a class=\"tumblelog\" href=\"http://tmblr.co/mvmqaltOPNXNRufmqAn2xBg\">osaft</a>!',\n",
        " u'<img src=\"http://38.media.tumblr.com/4b193ced537b2169b7f3c64de342e768/tumblr_n83ohf0fzv1qg45pdo1_500.jpg\" /><br /> <br /><img src=\"http://37.media.tumblr.com/02275e50e6e4ed89676eb61e350575c0/tumblr_n83ohf0fzv1qg45pdo2_500.jpg\" /><br /> <br /><p>Portrait of\\xa0<a class=\"tumblelog\" href=\"http://tmblr.co/mdKApUvkTXycUmehUhDw4DA\">katlix</a>\\xa0and myself by the ridiculously talented and wonderful\\xa0<a class=\"tumblr_blog\" href=\"http://osaft.tumblr.com/post/90582945065/katlix-and-mcsteffen-3-3-3-3-3-3-3-3-3\">osaft</a>!</p>',\n",
        " u'<img src=\"http://31.media.tumblr.com/03a08772c9c3cbea84383f5a27eb2c43/tumblr_n6zybli8gr1t8sai5o1_500.jpg\" /><br /><br /><p>Portrait of /u/Daven2ude</p>',\n",
        " u'<img src=\"http://31.media.tumblr.com/c062a07836c7873309643aacebb03409/tumblr_n6tvo9efMl1t8sai5o1_500.jpg\" /><br /><br /><p>Portrait of /u/ChardeeMacdennisTime. \\xa0Pencil and Marker on paper.</p>',\n",
        " u'<img src=\"http://38.media.tumblr.com/8dc9075b558c521c5a7afe521142cc34/tumblr_n51kxtcIOC1t8sai5o1_500.jpg\" /><br /><br /><p>Portrait of /u/yomatz</p>',\n",
        " u'<img src=\"http://38.media.tumblr.com/b8480ba389be6572f4bf08141eac6ce5/tumblr_n3e72pVmaq1t8sai5o1_500.jpg\" /><br /><br /><p>/u/ItWillBeMine</p>',\n",
        " u'<img src=\"http://37.media.tumblr.com/32e94e70b0921e15d1725566cef13f33/tumblr_n37ymbeLeI1t8sai5o1_500.jpg\" /><br /><br /><p>/u/curiousnonsense\\u2019s great uncle</p>',\n",
        " u'<img src=\"http://38.media.tumblr.com/b60cb65ab4e60dfeb32e7b24432a7be3/tumblr_n2svjsIgTY1t8sai5o1_500.jpg\" /><br /><br /><p>Recent landscape commission</p>',\n",
        " u'<img src=\"http://31.media.tumblr.com/875be53500ea4b979a58a09f5b940a76/tumblr_n2rd5gI4M41t8sai5o1_500.jpg\" /><br /><br /><p>/u/Catness_NeverClean from /r/prettygirlsuglyfaces</p>',\n",
        " u'<img src=\"http://33.media.tumblr.com/4a9f14996a9a6be04c3ec5644fa1b661/tumblr_n2r4ntnY4F1t8sai5o1_500.jpg\" /><br /><br /><p>/u/Hotnonsense\\u2019s daughter from /r/redditgetsdrawn</p>',\n",
        " u'<img src=\"http://33.media.tumblr.com/eb3c44b5249af01c4b6e77e87056ca4d/tumblr_n29gvzgNdO1t8sai5o1_500.jpg\" /><br /><br /><p>/u/blackzao</p>',\n",
        " u'<img src=\"http://31.media.tumblr.com/47e18d37bf3cc77af96cec189afff66a/tumblr_n28b4rv12K1t8sai5o1_500.jpg\" /><br /><br /><p>Portrait of Melvin</p>',\n",
        " u'<br /><br /><p>Newb School: Episode Fucked Up</p>',\n",
        " u'<img src=\"http://31.media.tumblr.com/b89cc31d9ca0510c9a078ad67ead8975/tumblr_n1s51zhZlt1t8sai5o1_500.jpg\" /><br /><br /><p>First time hanging this in a show. :)</p>',\n",
        " u'<img src=\"http://38.media.tumblr.com/a2d384e4b9959edf9d806c1d28f46ee2/tumblr_n1p09uo6Fn1t8sai5o1_500.jpg\" /><br /><br /><p>Sketch of /u/arretez\\u2019s friend</p>',\n",
        " u'<img src=\"http://31.media.tumblr.com/67b29f3fa6e636fa938d66c6bd87e392/tumblr_mz8djw4VLL1t8sai5o1_500.jpg\" /><br /><br /><p>/u/Birdynumnums1, pencil on paper</p>',\n",
        " u'<img src=\"http://31.media.tumblr.com/e7e60139d8fe58d4d82942998e55000b/tumblr_mz8dh8zvR11t8sai5o1_500.jpg\" /><br /><br /><p>/u/Internet_Exploder, Oil on Wood Panel, 14 x 11 inches</p>',\n",
        " u'<img src=\"http://33.media.tumblr.com/4075917b855bf3f83112a7ef04a4f9e1/tumblr_myep73x95N1t8sai5o1_500.jpg\" /><br /><br /><p>Poeptal</p>']"
       ]
      }
     ],
     "prompt_number": 981
    },
    {
     "cell_type": "code",
     "collapsed": false,
     "input": [
      "contactpage = dominate.document(title='contact')"
     ],
     "language": "python",
     "metadata": {},
     "outputs": [],
     "prompt_number": 982
    },
    {
     "cell_type": "code",
     "collapsed": false,
     "input": [
      "with contactpage.head:\n",
      "    link(rel='stylesheet', href='style.css')\n",
      "    script(type='text/javascript', src='script.js')\n",
      "\n",
      "with contactpage:\n",
      "    with div():\n",
      "        attr(cls='top')\n",
      "        #<img src=\"smiley.gif\" alt=\"Smiley face\" height=\"42\" width=\"42\">\n",
      "        h1('artcontroldrawsyou!')\n",
      "        img(scr='logo.gif')\n",
      "        h2('go away artcontrol')\n",
      "        p(strftime(\"%a, %d %b %Y %H:%M:%S +0000\", gmtime()))\n",
      "        a('about', href='http://brobeur.com/artcontroldrawsyou/about')\n",
      "        a('contact', href='http://brobeur.com/artcontroldrawsyou/contact') \n",
      "        a('blog', href='http://brobeur.com/artcontroldrawsyou/wcmckee.com/wcmckee/output')\n",
      "\n",
      "    with div():\n",
      "        attr(cls='header')\n",
      "        #<img src=\"smiley.gif\" alt=\"Smiley face\" height=\"42\" width=\"42\">\n",
      "        h1('contact')\n",
      "        p('email: will@artcontrol.me twitter: art_control')\n",
      "        p('Recent comments from itwillbemine:')\n",
      "        #for mine in minels:\n",
      "            #h1(mine.author_flair_text())\n",
      "            #p(mine.body)\n",
      "        \n",
      " #   with div(id='author'):\n",
      "  #     for tum in tumlis:\n",
      "   #         p(tum)\n",
      "    \n",
      "    \n",
      "    with div(id='body'):\n",
      "        for mine in minels:\n",
      "            #h1(mine.created)\n",
      "            li(mine.body)\n",
      "            \n",
      "\n",
      "\n",
      "\n",
      "\n",
      "print contactpage"
     ],
     "language": "python",
     "metadata": {},
     "outputs": [
      {
       "output_type": "stream",
       "stream": "stdout",
       "text": [
        "<!DOCTYPE html>\n",
        "<html>\n",
        "  <head>\n",
        "    <title>contact</title>\n",
        "    <link href=\"style.css\" rel=\"stylesheet\">\n",
        "    <script src=\"script.js\" type=\"text/javascript\"></script>\n",
        "  </head>\n",
        "  <body>\n",
        "    <div class=\"top\">\n",
        "      <h1>artcontroldrawsyou!</h1>\n",
        "      <img scr=\"logo.gif\">\n",
        "      <h2>go away artcontrol</h2>\n",
        "      <p>Tue, 05 Aug 2014 00:29:46 +0000</p>\n",
        "      <a href=\"http://brobeur.com/artcontroldrawsyou/about\">about</a>\n",
        "      <a href=\"http://brobeur.com/artcontroldrawsyou/contact\">contact</a>\n",
        "      <a href=\"http://brobeur.com/artcontroldrawsyou/wcmckee.com/wcmckee/output\">blog</a>\n",
        "    </div>\n",
        "    <div class=\"header\">\n",
        "      <h1>contact</h1>\n",
        "      <p>email: will@artcontrol.me twitter: art_control</p>\n",
        "      <p>Recent comments from itwillbemine:</p>\n",
        "    </div>\n",
        "    <div id=\"body\">\n",
        "      <li>This post is offensive and was removed. You can try again with a different photo.</li>\n",
        "      <li>I assume this is your cat?\n",
        "</li>\n",
        "      <li>1) your images aren't available\n",
        "\n",
        "2) gift posts aren't allowed, so your post was removed.</li>\n",
        "      <li>This is a repost. Post removed.</li>\n",
        "      <li>All children should be clothed in this sub, so this post was removed.</li>\n",
        "      <li>Please submit a different photo that doesn't have such blatant advertising.</li>\n",
        "      <li>This breaks two sub rules, and was removed.</li>\n",
        "      <li>Sorry it took so long. Feel free to try again in three days with a new photo if this one doesn't get any responses.  You won't have to verify next time.</li>\n",
        "      <li>Post removed. You can't use your birthday to get art here. Please review our rules.</li>\n",
        "      <li>Titles that elicit sympathy aren't allowed, and gift posts aren't allowed. Please review our rules.</li>\n",
        "      <li>Post removed; please review our list of approved relationships.</li>\n",
        "      <li>Post removed. Please review our list of approved relationships.</li>\n",
        "      <li>Your post is visible. :)</li>\n",
        "      <li>(Your post was removed since you were banned fo' attitude).</li>\n",
        "      <li>Please repost without the bit about being thousands of miles apart.</li>\n",
        "      <li>Gift posts aren't allowed, so your post was removed.</li>\n",
        "      <li>Reposting and frequent posting are not allowed, so your post was removed.</li>\n",
        "      <li>Gift posts aren't allowed, so your post was removed.</li>\n",
        "      <li>Sad posts are not allowed. Please read our rules before posting.</li>\n",
        "      <li>Gift posts aren't allowed. Please review our rules.</li>\n",
        "      <li>Your post was removed. Please review our list of approved relationships.</li>\n",
        "      <li>Sorry, this breaks sub rules and was removed. Please review our rules.</li>\n",
        "      <li>You should see the ones that never make it out of the gate!\n",
        "\n",
        "&quot;My dog just died of cancer, pls draw him, I'm so sad.&quot;\n",
        "\n",
        "&quot;I took a picture of my grandma's cactus, show me what you can do!&quot;\n",
        "\n",
        "&quot;This is my cousin's husband's neighbor, can you draw him?&quot;\n",
        "\n",
        "I'll definitely give it a try, just for you! Prepare your eyeballs! For the suck!</li>\n",
        "      <li>You know me, sometimes I just like to fuck a lil' shit up on a Monday...\n",
        "\n",
        "Seriously, tho, I believe that person has received the highest number of warnings prior to a ban ever in the history of RGD. I would say that person has received 12-15 warnings about rule-breaking, easily. Normally I give 0-2. :)\n",
        "\n",
        "P.S. I would draw you if I could! Have you ever seen my feeble art attempts before? I like to think of them as endearing. :D</li>\n",
        "      <li>Please send it to modmail - I am at work and cannot open it right now. I won't be able to open that link until tonight (my time).</li>\n",
        "    </div>\n",
        "  </body>\n",
        "</html>\n"
       ]
      }
     ],
     "prompt_number": 983
    },
    {
     "cell_type": "code",
     "collapsed": false,
     "input": [
      "os.chdir('contact')"
     ],
     "language": "python",
     "metadata": {},
     "outputs": [],
     "prompt_number": 984
    },
    {
     "cell_type": "code",
     "collapsed": false,
     "input": [
      "savcon = open('index.html', 'w')\n",
      "savcon.write(str(contactpage))\n",
      "savcon.close()"
     ],
     "language": "python",
     "metadata": {},
     "outputs": [],
     "prompt_number": 985
    },
    {
     "cell_type": "code",
     "collapsed": false,
     "input": [
      "dirdir = os.chdir('/var/www/artcontroldrawsyou')"
     ],
     "language": "python",
     "metadata": {},
     "outputs": [],
     "prompt_number": 986
    },
    {
     "cell_type": "code",
     "collapsed": false,
     "input": [
      "dirdir"
     ],
     "language": "python",
     "metadata": {},
     "outputs": [],
     "prompt_number": 987
    },
    {
     "cell_type": "code",
     "collapsed": false,
     "input": [
      "aboutpage = dominate.document(title='about')\n",
      "with aboutpage.head:\n",
      "    link(rel='stylesheet', href='style.css')\n",
      "    script(type='text/javascript', src='script.js')\n",
      "\n",
      "with aboutpage:\n",
      "    with div():\n",
      "        attr(cls='header')\n",
      "        #<img src=\"smiley.gif\" alt=\"Smiley face\" height=\"42\" width=\"42\">\n",
      "        h1('artcontroldrawsyou!')\n",
      "        img(scr='logo.gif')\n",
      "        h2('go away artcontrol')\n",
      "        p(strftime(\"%a, %d %b %Y %H:%M:%S +0000\", gmtime()))\n",
      "        a('about', href='https://brobeur.com/artcontroldrawsyou/about')\n",
      "        a('contact', href='http://brobeur.com/artcontroldrawsyou/contact') \n",
      "        a('blog', href='http://brobeur.com/artcontroldrawsyou/wcmckee.com/wcmckee/output')\n",
      "    with div():\n",
      "        attr(cls='header')\n",
      "        #<img src=\"smiley.gif\" alt=\"Smiley face\" height=\"42\" width=\"42\">\n",
      "        h1('about')\n",
      "        p('artcontroldrawsyou is a website that takes RedditGetsDrawn data and posts it here.')\n",
      "        p('artcontrol is not allowed to submit artwork to redditgetsdrawn so this was created')\n",
      "        #for mine in minels:\n",
      "            #h1(mine.author_flair_text())\n",
      "            #p(mine.body)\n",
      "        \n",
      "    '''with div(id='author'):\n",
      "        for tits in titlis:\n",
      "            h3(tits)\n",
      "    \n",
      "    with div(id='body').add(p()):\n",
      "        for mine in minels:\n",
      "            #h1(mine.created)\n",
      "            p(mine.body)\n",
      "            \n",
      "\n",
      "\n",
      "\n",
      "'''\n",
      "print aboutpage"
     ],
     "language": "python",
     "metadata": {},
     "outputs": [
      {
       "output_type": "stream",
       "stream": "stdout",
       "text": [
        "<!DOCTYPE html>\n",
        "<html>\n",
        "  <head>\n",
        "    <title>about</title>\n",
        "    <link href=\"style.css\" rel=\"stylesheet\">\n",
        "    <script src=\"script.js\" type=\"text/javascript\"></script>\n",
        "  </head>\n",
        "  <body>\n",
        "    <div class=\"header\">\n",
        "      <h1>artcontroldrawsyou!</h1>\n",
        "      <img scr=\"logo.gif\">\n",
        "      <h2>go away artcontrol</h2>\n",
        "      <p>Tue, 05 Aug 2014 00:29:47 +0000</p>\n",
        "      <a href=\"https://brobeur.com/artcontroldrawsyou/about\">about</a>\n",
        "      <a href=\"http://brobeur.com/artcontroldrawsyou/contact\">contact</a>\n",
        "      <a href=\"http://brobeur.com/artcontroldrawsyou/wcmckee.com/wcmckee/output\">blog</a>\n",
        "    </div>\n",
        "    <div class=\"header\">\n",
        "      <h1>about</h1>\n",
        "      <p>artcontroldrawsyou is a website that takes RedditGetsDrawn data and posts it here.</p>\n",
        "      <p>artcontrol is not allowed to submit artwork to redditgetsdrawn so this was created</p>\n",
        "    </div>\n",
        "  </body>\n",
        "</html>\n"
       ]
      }
     ],
     "prompt_number": 988
    },
    {
     "cell_type": "code",
     "collapsed": false,
     "input": [
      "os.chdir('about')"
     ],
     "language": "python",
     "metadata": {},
     "outputs": [],
     "prompt_number": 989
    },
    {
     "cell_type": "code",
     "collapsed": false,
     "input": [
      "aboucr = open('index.html', 'w')\n",
      "aboucr.write(str(aboutpage))\n",
      "aboucr.close()"
     ],
     "language": "python",
     "metadata": {},
     "outputs": [],
     "prompt_number": 990
    },
    {
     "cell_type": "code",
     "collapsed": false,
     "input": [
      "os.chdir('/var/www/artcontroldrawsyou/')"
     ],
     "language": "python",
     "metadata": {},
     "outputs": [],
     "prompt_number": 991
    },
    {
     "cell_type": "code",
     "collapsed": false,
     "input": [],
     "language": "python",
     "metadata": {},
     "outputs": [],
     "prompt_number": 991
    },
    {
     "cell_type": "code",
     "collapsed": false,
     "input": [],
     "language": "python",
     "metadata": {},
     "outputs": [],
     "prompt_number": 991
    },
    {
     "cell_type": "code",
     "collapsed": false,
     "input": [],
     "language": "python",
     "metadata": {},
     "outputs": [],
     "prompt_number": 991
    },
    {
     "cell_type": "code",
     "collapsed": false,
     "input": [],
     "language": "python",
     "metadata": {},
     "outputs": [],
     "prompt_number": 898
    },
    {
     "cell_type": "code",
     "collapsed": false,
     "input": [],
     "language": "python",
     "metadata": {},
     "outputs": [],
     "prompt_number": 898
    },
    {
     "cell_type": "code",
     "collapsed": false,
     "input": [],
     "language": "python",
     "metadata": {},
     "outputs": []
    }
   ],
   "metadata": {}
  }
 ]
}