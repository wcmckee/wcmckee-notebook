{
 "metadata": {
  "name": "",
  "signature": "sha256:751d9880d61d725e93f55c6bfc8641d1bd8d9b9021aba794a3436ac76d14563a"
 },
 "nbformat": 3,
 "nbformat_minor": 0,
 "worksheets": [
  {
   "cells": [
    {
     "cell_type": "markdown",
     "metadata": {},
     "source": [
      "RedditGetsDrawn Snatch\n",
      "\n",
      "This is a Python script that takes data from reddit and posts it to another subreddit. It also creates a html file with the images embed into. The images are the most recent 25 on r/redditgetsdrawn.\n",
      "\n"
     ]
    },
    {
     "cell_type": "markdown",
     "metadata": {},
     "source": [
      "TODO\n",
      "\n",
      "submit art to users via website\n",
      "\n",
      "fix image sizes (need to scale down to 550px)\n",
      "\n",
      "Save to server rather than imgur\n",
      "\n",
      "Archieve, snapshots of rgd\n",
      "\n",
      "more artcontrol\n",
      "\n",
      "itwillbemine comments to html\n",
      "\n",
      "work on css, div up page, title, side, body, footer\n",
      "\n"
     ]
    },
    {
     "cell_type": "code",
     "collapsed": false,
     "input": [
      "import os\n",
      "import random\n",
      "import requests\n",
      "import re\n",
      "import json\n",
      "import praw\n",
      "import dominate\n",
      "from dominate.tags import *\n"
     ],
     "language": "python",
     "metadata": {},
     "outputs": [],
     "prompt_number": 1
    },
    {
     "cell_type": "code",
     "collapsed": false,
     "input": [
      "os.chdir('/var/www/artcontroldrawsyou')"
     ],
     "language": "python",
     "metadata": {},
     "outputs": [],
     "prompt_number": 2
    },
    {
     "cell_type": "code",
     "collapsed": false,
     "input": [
      "r = praw.Reddit(user_agent='rgdsnatch')"
     ],
     "language": "python",
     "metadata": {},
     "outputs": [],
     "prompt_number": 3
    },
    {
     "cell_type": "code",
     "collapsed": false,
     "input": [
      "r.login('artcontrol', 'taylor123vag!')"
     ],
     "language": "python",
     "metadata": {},
     "outputs": [],
     "prompt_number": 4
    },
    {
     "cell_type": "code",
     "collapsed": false,
     "input": [
      "usrd = r.get_my_subreddits()"
     ],
     "language": "python",
     "metadata": {},
     "outputs": [],
     "prompt_number": 5
    },
    {
     "cell_type": "code",
     "collapsed": false,
     "input": [
      "suls = []"
     ],
     "language": "python",
     "metadata": {},
     "outputs": [],
     "prompt_number": 6
    },
    {
     "cell_type": "code",
     "collapsed": false,
     "input": [
      "for subs in usrd:\n",
      "    print subs\n",
      "    suls.append(subs)"
     ],
     "language": "python",
     "metadata": {},
     "outputs": [
      {
       "output_type": "stream",
       "stream": "stdout",
       "text": [
        "todayilearned\n",
        "blog\n",
        "science\n",
        "IAmA\n",
        "videos\n",
        "technology\n",
        "bestof\n",
        "askscience\n",
        "books\n",
        "television\n",
        "food\n",
        "photoshopbattles\n",
        "GetMotivated\n",
        "listentothis\n",
        "Documentaries\n",
        "Art\n",
        "trees\n",
        "programming\n",
        "Android\n",
        "gameofthrones\n",
        "Minecraft\n",
        "comics\n",
        "skyrim\n",
        "buildapc\n",
        "breakingbad\n"
       ]
      }
     ],
     "prompt_number": 7
    },
    {
     "cell_type": "code",
     "collapsed": false,
     "input": [
      "suls"
     ],
     "language": "python",
     "metadata": {},
     "outputs": [
      {
       "metadata": {},
       "output_type": "pyout",
       "prompt_number": 8,
       "text": [
        "[Subreddit(display_name='todayilearned'),\n",
        " Subreddit(display_name='blog'),\n",
        " Subreddit(display_name='science'),\n",
        " Subreddit(display_name='IAmA'),\n",
        " Subreddit(display_name='videos'),\n",
        " Subreddit(display_name='technology'),\n",
        " Subreddit(display_name='bestof'),\n",
        " Subreddit(display_name='askscience'),\n",
        " Subreddit(display_name='books'),\n",
        " Subreddit(display_name='television'),\n",
        " Subreddit(display_name='food'),\n",
        " Subreddit(display_name='photoshopbattles'),\n",
        " Subreddit(display_name='GetMotivated'),\n",
        " Subreddit(display_name='listentothis'),\n",
        " Subreddit(display_name='Documentaries'),\n",
        " Subreddit(display_name='Art'),\n",
        " Subreddit(display_name='trees'),\n",
        " Subreddit(display_name='programming'),\n",
        " Subreddit(display_name='Android'),\n",
        " Subreddit(display_name='gameofthrones'),\n",
        " Subreddit(display_name='Minecraft'),\n",
        " Subreddit(display_name='comics'),\n",
        " Subreddit(display_name='skyrim'),\n",
        " Subreddit(display_name='buildapc'),\n",
        " Subreddit(display_name='breakingbad')]"
       ]
      }
     ],
     "prompt_number": 8
    },
    {
     "cell_type": "code",
     "collapsed": false,
     "input": [
      "lesuls = len(suls)\n",
      "\n",
      "ransuz = random.randint(0, lesuls)\n",
      "\n",
      "thesubraz = suls[ransuz]"
     ],
     "language": "python",
     "metadata": {},
     "outputs": [],
     "prompt_number": 9
    },
    {
     "cell_type": "code",
     "collapsed": false,
     "input": [
      "suls"
     ],
     "language": "python",
     "metadata": {},
     "outputs": [
      {
       "metadata": {},
       "output_type": "pyout",
       "prompt_number": 10,
       "text": [
        "[Subreddit(display_name='todayilearned'),\n",
        " Subreddit(display_name='blog'),\n",
        " Subreddit(display_name='science'),\n",
        " Subreddit(display_name='IAmA'),\n",
        " Subreddit(display_name='videos'),\n",
        " Subreddit(display_name='technology'),\n",
        " Subreddit(display_name='bestof'),\n",
        " Subreddit(display_name='askscience'),\n",
        " Subreddit(display_name='books'),\n",
        " Subreddit(display_name='television'),\n",
        " Subreddit(display_name='food'),\n",
        " Subreddit(display_name='photoshopbattles'),\n",
        " Subreddit(display_name='GetMotivated'),\n",
        " Subreddit(display_name='listentothis'),\n",
        " Subreddit(display_name='Documentaries'),\n",
        " Subreddit(display_name='Art'),\n",
        " Subreddit(display_name='trees'),\n",
        " Subreddit(display_name='programming'),\n",
        " Subreddit(display_name='Android'),\n",
        " Subreddit(display_name='gameofthrones'),\n",
        " Subreddit(display_name='Minecraft'),\n",
        " Subreddit(display_name='comics'),\n",
        " Subreddit(display_name='skyrim'),\n",
        " Subreddit(display_name='buildapc'),\n",
        " Subreddit(display_name='breakingbad')]"
       ]
      }
     ],
     "prompt_number": 10
    },
    {
     "cell_type": "code",
     "collapsed": false,
     "input": [
      "print thesubraz"
     ],
     "language": "python",
     "metadata": {},
     "outputs": [
      {
       "output_type": "stream",
       "stream": "stdout",
       "text": [
        "bestof\n"
       ]
      }
     ],
     "prompt_number": 11
    },
    {
     "cell_type": "code",
     "collapsed": false,
     "input": [
      "rd = r.get_subreddit('redditgetsdrawn')"
     ],
     "language": "python",
     "metadata": {},
     "outputs": [],
     "prompt_number": 12
    },
    {
     "cell_type": "code",
     "collapsed": false,
     "input": [
      "rdnewz = rd.get_new()"
     ],
     "language": "python",
     "metadata": {},
     "outputs": [],
     "prompt_number": 13
    },
    {
     "cell_type": "code",
     "collapsed": false,
     "input": [
      "rdnew = []"
     ],
     "language": "python",
     "metadata": {},
     "outputs": [],
     "prompt_number": 14
    },
    {
     "cell_type": "code",
     "collapsed": false,
     "input": [
      "rdnew"
     ],
     "language": "python",
     "metadata": {},
     "outputs": [
      {
       "metadata": {},
       "output_type": "pyout",
       "prompt_number": 15,
       "text": [
        "[]"
       ]
      }
     ],
     "prompt_number": 15
    },
    {
     "cell_type": "code",
     "collapsed": false,
     "input": [
      "for uz in rdnewz:\n",
      "    #print uz\n",
      "    rdnew.append(uz)"
     ],
     "language": "python",
     "metadata": {},
     "outputs": [],
     "prompt_number": 16
    },
    {
     "cell_type": "code",
     "collapsed": false,
     "input": [
      "urzlis = []\n",
      "titlis = []"
     ],
     "language": "python",
     "metadata": {},
     "outputs": [],
     "prompt_number": 17
    },
    {
     "cell_type": "code",
     "collapsed": false,
     "input": [
      "#os.chdir('imgs')"
     ],
     "language": "python",
     "metadata": {},
     "outputs": [],
     "prompt_number": 18
    },
    {
     "cell_type": "code",
     "collapsed": false,
     "input": [
      "for rdn in rdnew:\n",
      "    print rdn.url\n",
      "    urzlis.append(rdn.url)\n",
      "    titlis.append(rdn.author.name)\n",
      "    "
     ],
     "language": "python",
     "metadata": {},
     "outputs": [
      {
       "output_type": "stream",
       "stream": "stdout",
       "text": [
        "http://i.imgur.com/cE8arOZ.jpg\n",
        "http://imgur.com/YHdsOHi\n",
        "http://imgur.com/Ae6pqD0\n",
        "http://i.imgur.com/XjCqBFB.jpg\n",
        "http://imgur.com/yIF3chY\n",
        "http://i.imgur.com/tCAhL8d.jpg\n",
        "http://imgur.com/MtFORJx\n",
        "http://imgur.com/o2EVfjF\n",
        "http://imgur.com/sKfmtik\n",
        "http://i.imgur.com/EcYSm5E.jpg\n",
        "http://i.imgur.com/MjzMMne.jpg\n",
        "http://i.imgur.com/0IZRLlg.jpg\n",
        "http://m.imgur.com/BWaNcAi\n",
        "http://imgur.com/1tZNtyT\n",
        "http://i.imgur.com/uGtKTxU.jpg\n",
        "http://i.imgur.com/YkNKAdU.jpg\n",
        "http://imgur.com/nGgFlFB\n",
        "http://i.imgur.com/UWKrQgB.jpg\n",
        "http://imgur.com/ZkBW3lI\n",
        "http://imgur.com/tq5LRgf\n",
        "http://i.imgur.com/45IOChA.jpg\n",
        "http://imgur.com/fVielfr\n",
        "http://i.imgur.com/IHxDTGo.jpg\n",
        "http://i.imgur.com/xsiMUt4.jpg\n",
        "http://i.imgur.com/8Elh75F.jpg\n"
       ]
      }
     ],
     "prompt_number": 19
    },
    {
     "cell_type": "code",
     "collapsed": false,
     "input": [
      "titlis"
     ],
     "language": "python",
     "metadata": {},
     "outputs": [
      {
       "metadata": {},
       "output_type": "pyout",
       "prompt_number": 20,
       "text": [
        "[u'gladdit',\n",
        " u'MasterfulTaco',\n",
        " u'ShinraX0',\n",
        " u'Daniel329',\n",
        " u'thief88',\n",
        " u'rokob',\n",
        " u'dorothyeleanorothy',\n",
        " u'ImaCulpA',\n",
        " u'fuzzymunkys',\n",
        " u'austinmars',\n",
        " u'iwantduck',\n",
        " u'XPugg',\n",
        " u'May_and_Mercury',\n",
        " u'YoloSloth',\n",
        " u'sweetiet1180',\n",
        " u'TheBigRich52',\n",
        " u'Calzord1',\n",
        " u'mikana',\n",
        " u'Wirtzilla',\n",
        " u'SpecialBrownies420',\n",
        " u'tanakasagara',\n",
        " u'azalearodz',\n",
        " u'KayGatsby',\n",
        " u'Davegarski',\n",
        " u'noodlezandrice']"
       ]
      }
     ],
     "prompt_number": 20
    },
    {
     "cell_type": "code",
     "collapsed": false,
     "input": [
      "from random import shuffle\n",
      "\n",
      "def shuffle_word(word):\n",
      "    word = list(word)\n",
      "    shuffle(word)\n",
      "    return ''.join(word)"
     ],
     "language": "python",
     "metadata": {},
     "outputs": [],
     "prompt_number": 21
    },
    {
     "cell_type": "code",
     "collapsed": false,
     "input": [
      "[shuffle_word(word) for wz in titlis]"
     ],
     "language": "python",
     "metadata": {},
     "outputs": [
      {
       "ename": "NameError",
       "evalue": "name 'word' is not defined",
       "output_type": "pyerr",
       "traceback": [
        "\u001b[1;31m---------------------------------------------------------------------------\u001b[0m\n\u001b[1;31mNameError\u001b[0m                                 Traceback (most recent call last)",
        "\u001b[1;32m<ipython-input-22-6fda9fdab490>\u001b[0m in \u001b[0;36m<module>\u001b[1;34m()\u001b[0m\n\u001b[1;32m----> 1\u001b[1;33m \u001b[1;33m[\u001b[0m\u001b[0mshuffle_word\u001b[0m\u001b[1;33m(\u001b[0m\u001b[0mword\u001b[0m\u001b[1;33m)\u001b[0m \u001b[1;32mfor\u001b[0m \u001b[0mwz\u001b[0m \u001b[1;32min\u001b[0m \u001b[0mtitlis\u001b[0m\u001b[1;33m]\u001b[0m\u001b[1;33m\u001b[0m\u001b[0m\n\u001b[0m",
        "\u001b[1;31mNameError\u001b[0m: name 'word' is not defined"
       ]
      }
     ],
     "prompt_number": 22
    },
    {
     "cell_type": "code",
     "collapsed": false,
     "input": [
      "jplis = []"
     ],
     "language": "python",
     "metadata": {},
     "outputs": [],
     "prompt_number": 23
    },
    {
     "cell_type": "code",
     "collapsed": false,
     "input": [],
     "language": "python",
     "metadata": {},
     "outputs": [],
     "prompt_number": 23
    },
    {
     "cell_type": "code",
     "collapsed": false,
     "input": [
      "for urz in urzlis:\n",
      "    if '.jpg' in urz:\n",
      "        jplis.append(urz)"
     ],
     "language": "python",
     "metadata": {},
     "outputs": [],
     "prompt_number": 24
    },
    {
     "cell_type": "code",
     "collapsed": false,
     "input": [
      "doc = dominate.document(title='artcontroldrawsyou')"
     ],
     "language": "python",
     "metadata": {},
     "outputs": [],
     "prompt_number": 25
    },
    {
     "cell_type": "code",
     "collapsed": false,
     "input": [
      "with doc.head:\n",
      "    link(rel='stylesheet', href='style.css')\n",
      "    script(type='text/javascript', src='script.js')\n",
      "\n",
      "with doc:\n",
      "    with div():\n",
      "        attr(cls='header')\n",
      "        #<img src=\"smiley.gif\" alt=\"Smiley face\" height=\"42\" width=\"42\">\n",
      "        h1('artcontroldrawsyou!')\n",
      "        img(scr='logo.gif')\n",
      "        h2('go away artcontrol')\n",
      "        \n",
      "    with div(id='author'):\n",
      "        for tits in titlis:\n",
      "            h3(tits)\n",
      "            (a(tits, href='%s/index.html' % tits))\n",
      "            \n",
      "    \n",
      "    with div(id='body').add(p()):\n",
      "        for i in jplis:\n",
      "            li(img(i.lower(), src='%s' % i))\n",
      "            li(a(i.lower(), href='%s' % i))\n",
      "            \n",
      "\n",
      "\n",
      "            \n",
      "\n",
      "print doc"
     ],
     "language": "python",
     "metadata": {},
     "outputs": [
      {
       "output_type": "stream",
       "stream": "stdout",
       "text": [
        "<!DOCTYPE html>\n",
        "<html>\n",
        "  <head>\n",
        "    <title>artcontroldrawsyou</title>\n",
        "    <link href=\"style.css\" rel=\"stylesheet\">\n",
        "    <script src=\"script.js\" type=\"text/javascript\"></script>\n",
        "  </head>\n",
        "  <body>\n",
        "    <div class=\"header\">\n",
        "      <h1>artcontroldrawsyou!</h1>\n",
        "      <img scr=\"logo.gif\">\n",
        "      <h2>go away artcontrol</h2>\n",
        "    </div>\n",
        "    <div id=\"author\">\n",
        "      <h3>gladdit</h3>\n",
        "      <a href=\"gladdit/index.html\">gladdit</a>\n",
        "      <h3>MasterfulTaco</h3>\n",
        "      <a href=\"MasterfulTaco/index.html\">MasterfulTaco</a>\n",
        "      <h3>ShinraX0</h3>\n",
        "      <a href=\"ShinraX0/index.html\">ShinraX0</a>\n",
        "      <h3>Daniel329</h3>\n",
        "      <a href=\"Daniel329/index.html\">Daniel329</a>\n",
        "      <h3>thief88</h3>\n",
        "      <a href=\"thief88/index.html\">thief88</a>\n",
        "      <h3>rokob</h3>\n",
        "      <a href=\"rokob/index.html\">rokob</a>\n",
        "      <h3>dorothyeleanorothy</h3>\n",
        "      <a href=\"dorothyeleanorothy/index.html\">dorothyeleanorothy</a>\n",
        "      <h3>ImaCulpA</h3>\n",
        "      <a href=\"ImaCulpA/index.html\">ImaCulpA</a>\n",
        "      <h3>fuzzymunkys</h3>\n",
        "      <a href=\"fuzzymunkys/index.html\">fuzzymunkys</a>\n",
        "      <h3>austinmars</h3>\n",
        "      <a href=\"austinmars/index.html\">austinmars</a>\n",
        "      <h3>iwantduck</h3>\n",
        "      <a href=\"iwantduck/index.html\">iwantduck</a>\n",
        "      <h3>XPugg</h3>\n",
        "      <a href=\"XPugg/index.html\">XPugg</a>\n",
        "      <h3>May_and_Mercury</h3>\n",
        "      <a href=\"May_and_Mercury/index.html\">May_and_Mercury</a>\n",
        "      <h3>YoloSloth</h3>\n",
        "      <a href=\"YoloSloth/index.html\">YoloSloth</a>\n",
        "      <h3>sweetiet1180</h3>\n",
        "      <a href=\"sweetiet1180/index.html\">sweetiet1180</a>\n",
        "      <h3>TheBigRich52</h3>\n",
        "      <a href=\"TheBigRich52/index.html\">TheBigRich52</a>\n",
        "      <h3>Calzord1</h3>\n",
        "      <a href=\"Calzord1/index.html\">Calzord1</a>\n",
        "      <h3>mikana</h3>\n",
        "      <a href=\"mikana/index.html\">mikana</a>\n",
        "      <h3>Wirtzilla</h3>\n",
        "      <a href=\"Wirtzilla/index.html\">Wirtzilla</a>\n",
        "      <h3>SpecialBrownies420</h3>\n",
        "      <a href=\"SpecialBrownies420/index.html\">SpecialBrownies420</a>\n",
        "      <h3>tanakasagara</h3>\n",
        "      <a href=\"tanakasagara/index.html\">tanakasagara</a>\n",
        "      <h3>azalearodz</h3>\n",
        "      <a href=\"azalearodz/index.html\">azalearodz</a>\n",
        "      <h3>KayGatsby</h3>\n",
        "      <a href=\"KayGatsby/index.html\">KayGatsby</a>\n",
        "      <h3>Davegarski</h3>\n",
        "      <a href=\"Davegarski/index.html\">Davegarski</a>\n",
        "      <h3>noodlezandrice</h3>\n",
        "      <a href=\"noodlezandrice/index.html\">noodlezandrice</a>\n",
        "    </div>\n",
        "    <div id=\"body\">\n",
        "      <p>\n",
        "        <li>\n",
        "          <img src=\"http://i.imgur.com/cE8arOZ.jpg\">\n",
        "        </li>\n",
        "        <li>\n",
        "          <a href=\"http://i.imgur.com/cE8arOZ.jpg\">http://i.imgur.com/ce8aroz.jpg</a>\n",
        "        </li>\n",
        "        <li>\n",
        "          <img src=\"http://i.imgur.com/XjCqBFB.jpg\">\n",
        "        </li>\n",
        "        <li>\n",
        "          <a href=\"http://i.imgur.com/XjCqBFB.jpg\">http://i.imgur.com/xjcqbfb.jpg</a>\n",
        "        </li>\n",
        "        <li>\n",
        "          <img src=\"http://i.imgur.com/tCAhL8d.jpg\">\n",
        "        </li>\n",
        "        <li>\n",
        "          <a href=\"http://i.imgur.com/tCAhL8d.jpg\">http://i.imgur.com/tcahl8d.jpg</a>\n",
        "        </li>\n",
        "        <li>\n",
        "          <img src=\"http://i.imgur.com/EcYSm5E.jpg\">\n",
        "        </li>\n",
        "        <li>\n",
        "          <a href=\"http://i.imgur.com/EcYSm5E.jpg\">http://i.imgur.com/ecysm5e.jpg</a>\n",
        "        </li>\n",
        "        <li>\n",
        "          <img src=\"http://i.imgur.com/MjzMMne.jpg\">\n",
        "        </li>\n",
        "        <li>\n",
        "          <a href=\"http://i.imgur.com/MjzMMne.jpg\">http://i.imgur.com/mjzmmne.jpg</a>\n",
        "        </li>\n",
        "        <li>\n",
        "          <img src=\"http://i.imgur.com/0IZRLlg.jpg\">\n",
        "        </li>\n",
        "        <li>\n",
        "          <a href=\"http://i.imgur.com/0IZRLlg.jpg\">http://i.imgur.com/0izrllg.jpg</a>\n",
        "        </li>\n",
        "        <li>\n",
        "          <img src=\"http://i.imgur.com/uGtKTxU.jpg\">\n",
        "        </li>\n",
        "        <li>\n",
        "          <a href=\"http://i.imgur.com/uGtKTxU.jpg\">http://i.imgur.com/ugtktxu.jpg</a>\n",
        "        </li>\n",
        "        <li>\n",
        "          <img src=\"http://i.imgur.com/YkNKAdU.jpg\">\n",
        "        </li>\n",
        "        <li>\n",
        "          <a href=\"http://i.imgur.com/YkNKAdU.jpg\">http://i.imgur.com/yknkadu.jpg</a>\n",
        "        </li>\n",
        "        <li>\n",
        "          <img src=\"http://i.imgur.com/UWKrQgB.jpg\">\n",
        "        </li>\n",
        "        <li>\n",
        "          <a href=\"http://i.imgur.com/UWKrQgB.jpg\">http://i.imgur.com/uwkrqgb.jpg</a>\n",
        "        </li>\n",
        "        <li>\n",
        "          <img src=\"http://i.imgur.com/45IOChA.jpg\">\n",
        "        </li>\n",
        "        <li>\n",
        "          <a href=\"http://i.imgur.com/45IOChA.jpg\">http://i.imgur.com/45iocha.jpg</a>\n",
        "        </li>\n",
        "        <li>\n",
        "          <img src=\"http://i.imgur.com/IHxDTGo.jpg\">\n",
        "        </li>\n",
        "        <li>\n",
        "          <a href=\"http://i.imgur.com/IHxDTGo.jpg\">http://i.imgur.com/ihxdtgo.jpg</a>\n",
        "        </li>\n",
        "        <li>\n",
        "          <img src=\"http://i.imgur.com/xsiMUt4.jpg\">\n",
        "        </li>\n",
        "        <li>\n",
        "          <a href=\"http://i.imgur.com/xsiMUt4.jpg\">http://i.imgur.com/xsimut4.jpg</a>\n",
        "        </li>\n",
        "        <li>\n",
        "          <img src=\"http://i.imgur.com/8Elh75F.jpg\">\n",
        "        </li>\n",
        "        <li>\n",
        "          <a href=\"http://i.imgur.com/8Elh75F.jpg\">http://i.imgur.com/8elh75f.jpg</a>\n",
        "        </li>\n",
        "      </p>\n",
        "    </div>\n",
        "  </body>\n",
        "</html>\n"
       ]
      }
     ],
     "prompt_number": 26
    },
    {
     "cell_type": "code",
     "collapsed": false,
     "input": [
      "ls"
     ],
     "language": "python",
     "metadata": {},
     "outputs": [
      {
       "output_type": "stream",
       "stream": "stdout",
       "text": [
        "\u001b[0m\u001b[01;34mhome\u001b[0m/  index.html  style.css\r\n"
       ]
      }
     ],
     "prompt_number": 27
    },
    {
     "cell_type": "code",
     "collapsed": false,
     "input": [
      "ophtml = open('index.html', 'w')"
     ],
     "language": "python",
     "metadata": {},
     "outputs": []
    },
    {
     "cell_type": "code",
     "collapsed": false,
     "input": [
      "ophtml.write(str(doc))"
     ],
     "language": "python",
     "metadata": {},
     "outputs": []
    },
    {
     "cell_type": "code",
     "collapsed": false,
     "input": [
      "ophtml.close()"
     ],
     "language": "python",
     "metadata": {},
     "outputs": []
    },
    {
     "cell_type": "code",
     "collapsed": false,
     "input": [
      "def fcopy(src,dest):\n",
      "    \"\"\"\n",
      "    Copy file from source to dest.  dest can include an absolute or relative path\n",
      "    If the path doesn't exist, it gets created\n",
      "    \"\"\"\n",
      "    dest_dir = os.path.dirname(dest)\n",
      "    try:\n",
      "        os.makedirs(dest_dir)\n",
      "    except os.error as e:\n",
      "        pass #Assume it exists.  This could fail if you don't have permissions, etc...\n",
      "    shutil.copy(src,dest)"
     ],
     "language": "python",
     "metadata": {},
     "outputs": []
    },
    {
     "cell_type": "markdown",
     "metadata": {},
     "source": [
      "cycle though folder and create file in each folder"
     ]
    },
    {
     "cell_type": "code",
     "collapsed": false,
     "input": [
      "fcopy('/var/www/artcontroldrawsyou/home/')"
     ],
     "language": "python",
     "metadata": {},
     "outputs": []
    },
    {
     "cell_type": "code",
     "collapsed": false,
     "input": [
      "ls"
     ],
     "language": "python",
     "metadata": {},
     "outputs": []
    },
    {
     "cell_type": "code",
     "collapsed": false,
     "input": [
      "for usz in titlis:\n",
      "    print usz\n",
      "    #os.mkdir(usz)\n",
      "    #os.chdir('/var/www/artcontroldrawsyou/home/' + usz)"
     ],
     "language": "python",
     "metadata": {},
     "outputs": []
    },
    {
     "cell_type": "code",
     "collapsed": false,
     "input": [
      "for filz in titlis:\n",
      "    print filz\n",
      "    \n",
      "    \n",
      "    #os.chdir('/var/www/artcontroldrawsyou/home' + usz)\n",
      "    bulkc = dominate.document(title=filz)\n",
      "    with bulkc.head:\n",
      "        link(rel='stylesheet', href='style.css')\n",
      "        script(type='text/javascript', src='script.js')\n",
      "\n",
      "    with bulkc:\n",
      "        with div():\n",
      "            attr(cls='header')\n",
      "            #<img src=\"smiley.gif\" alt=\"Smiley face\" height=\"42\" width=\"42\">\n",
      "            h1(filz)\n",
      "            img(scr='http://artcontrol.me/wp-content/uploads/2014/08/daenuhlyn-headcoloe.png')\n",
      "            h2('go away artcontrol')\n",
      "        \n",
      "        with div(id='photographs'):\n",
      "            for tits in titlis:\n",
      "                h3(tits)\n",
      "                (a(tits, href='%s' % tits.lower))\n",
      "            \n",
      "    \n",
      "        with div(id='body').add(p()):\n",
      "            for i in jplis:\n",
      "                li(img(i.lower(), src='%s' % i))\n",
      "                li(a(i.lower(), href='%s' % i))\n",
      "        \n",
      "        with open('/var/www/artcontroldrawsyou/home/' + filz + '/index.html', 'w') as fout:\n",
      "            fout.write(str(bulkc))\n",
      "            \n",
      "    #with open('index.html', 'w') as indx:\n",
      "       #bulkc = indx.write() \n",
      "        #print bulkc"
     ],
     "language": "python",
     "metadata": {},
     "outputs": []
    },
    {
     "cell_type": "code",
     "collapsed": false,
     "input": [
      "ransubz = random.randint(0,24)"
     ],
     "language": "python",
     "metadata": {},
     "outputs": [],
     "prompt_number": 28
    },
    {
     "cell_type": "code",
     "collapsed": false,
     "input": [
      "print ransubz"
     ],
     "language": "python",
     "metadata": {},
     "outputs": [
      {
       "output_type": "stream",
       "stream": "stdout",
       "text": [
        "10\n"
       ]
      }
     ],
     "prompt_number": 29
    },
    {
     "cell_type": "code",
     "collapsed": false,
     "input": [
      "ransev = rdnew[ransubz]"
     ],
     "language": "python",
     "metadata": {},
     "outputs": [],
     "prompt_number": 30
    },
    {
     "cell_type": "code",
     "collapsed": false,
     "input": [
      "rgdautoz = str(ransev.author)\n"
     ],
     "language": "python",
     "metadata": {},
     "outputs": [],
     "prompt_number": 31
    },
    {
     "cell_type": "code",
     "collapsed": false,
     "input": [
      "rgdsubred = str(ransev.subreddit)"
     ],
     "language": "python",
     "metadata": {},
     "outputs": [],
     "prompt_number": 32
    },
    {
     "cell_type": "code",
     "collapsed": false,
     "input": [
      "sutit = ('[' + rgdsubred + ']')"
     ],
     "language": "python",
     "metadata": {},
     "outputs": [],
     "prompt_number": 33
    },
    {
     "cell_type": "code",
     "collapsed": false,
     "input": [
      "sutit"
     ],
     "language": "python",
     "metadata": {},
     "outputs": [
      {
       "metadata": {},
       "output_type": "pyout",
       "prompt_number": 34,
       "text": [
        "'[redditgetsdrawn]'"
       ]
      }
     ],
     "prompt_number": 34
    },
    {
     "cell_type": "code",
     "collapsed": false,
     "input": [
      "rgdaqwew = ('xpost[RGD]' + rgdautoz)"
     ],
     "language": "python",
     "metadata": {},
     "outputs": [],
     "prompt_number": 35
    },
    {
     "cell_type": "code",
     "collapsed": false,
     "input": [
      "rgdaturo = str(ransev.url)"
     ],
     "language": "python",
     "metadata": {},
     "outputs": [],
     "prompt_number": 36
    },
    {
     "cell_type": "code",
     "collapsed": false,
     "input": [
      "rgdatit = str(ransev.title)"
     ],
     "language": "python",
     "metadata": {},
     "outputs": [],
     "prompt_number": 37
    },
    {
     "cell_type": "code",
     "collapsed": false,
     "input": [
      "rgdatit"
     ],
     "language": "python",
     "metadata": {},
     "outputs": [
      {
       "metadata": {},
       "output_type": "pyout",
       "prompt_number": 38,
       "text": [
        "'Hey reddit! I love your work and I am practicing myself a lot lately. Here is me alone after Disneyland.'"
       ]
      }
     ],
     "prompt_number": 38
    },
    {
     "cell_type": "code",
     "collapsed": false,
     "input": [
      "#rd.get_top"
     ],
     "language": "python",
     "metadata": {},
     "outputs": [],
     "prompt_number": 39
    },
    {
     "cell_type": "code",
     "collapsed": false,
     "input": [
      "linkdict = {}"
     ],
     "language": "python",
     "metadata": {},
     "outputs": [],
     "prompt_number": 40
    },
    {
     "cell_type": "code",
     "collapsed": false,
     "input": [
      "ls"
     ],
     "language": "python",
     "metadata": {},
     "outputs": [
      {
       "output_type": "stream",
       "stream": "stdout",
       "text": [
        "\u001b[0m\u001b[01;34mhome\u001b[0m/  index.html  style.css\r\n"
       ]
      }
     ],
     "prompt_number": 41
    },
    {
     "cell_type": "code",
     "collapsed": false,
     "input": [
      "ady = r.get_subreddit('artcontroldrawsyou')"
     ],
     "language": "python",
     "metadata": {},
     "outputs": [],
     "prompt_number": 42
    },
    {
     "cell_type": "code",
     "collapsed": false,
     "input": [
      "comrgd =  rgdatit + ' ' + rgdaturo"
     ],
     "language": "python",
     "metadata": {},
     "outputs": [],
     "prompt_number": 43
    },
    {
     "cell_type": "code",
     "collapsed": false,
     "input": [
      "comrgd"
     ],
     "language": "python",
     "metadata": {},
     "outputs": [
      {
       "metadata": {},
       "output_type": "pyout",
       "prompt_number": 44,
       "text": [
        "'Hey reddit! I love your work and I am practicing myself a lot lately. Here is me alone after Disneyland. http://i.imgur.com/MjzMMne.jpg'"
       ]
      }
     ],
     "prompt_number": 44
    },
    {
     "cell_type": "code",
     "collapsed": false,
     "input": [
      "import time"
     ],
     "language": "python",
     "metadata": {},
     "outputs": [],
     "prompt_number": 45
    },
    {
     "cell_type": "code",
     "collapsed": false,
     "input": [
      "loctime = time.localtime()"
     ],
     "language": "python",
     "metadata": {},
     "outputs": [],
     "prompt_number": 46
    },
    {
     "cell_type": "code",
     "collapsed": false,
     "input": [
      "loctime.tm_mday"
     ],
     "language": "python",
     "metadata": {},
     "outputs": [
      {
       "metadata": {},
       "output_type": "pyout",
       "prompt_number": 47,
       "text": [
        "4"
       ]
      }
     ],
     "prompt_number": 47
    },
    {
     "cell_type": "code",
     "collapsed": false,
     "input": [
      "loctime.tm_mon"
     ],
     "language": "python",
     "metadata": {},
     "outputs": [
      {
       "metadata": {},
       "output_type": "pyout",
       "prompt_number": 48,
       "text": [
        "8"
       ]
      }
     ],
     "prompt_number": 48
    },
    {
     "cell_type": "code",
     "collapsed": false,
     "input": [
      "thedat = (str(loctime.tm_mday) + '/' + str(loctime.tm_mon))"
     ],
     "language": "python",
     "metadata": {},
     "outputs": [],
     "prompt_number": 49
    },
    {
     "cell_type": "code",
     "collapsed": false,
     "input": [
      "thedat"
     ],
     "language": "python",
     "metadata": {},
     "outputs": [
      {
       "metadata": {},
       "output_type": "pyout",
       "prompt_number": 50,
       "text": [
        "'4/8'"
       ]
      }
     ],
     "prompt_number": 50
    },
    {
     "cell_type": "code",
     "collapsed": false,
     "input": [
      "mixtut = (thedat + sutit + rgdautoz)"
     ],
     "language": "python",
     "metadata": {},
     "outputs": [],
     "prompt_number": 51
    },
    {
     "cell_type": "code",
     "collapsed": false,
     "input": [
      "loctime"
     ],
     "language": "python",
     "metadata": {},
     "outputs": [
      {
       "metadata": {},
       "output_type": "pyout",
       "prompt_number": 52,
       "text": [
        "time.struct_time(tm_year=2014, tm_mon=8, tm_mday=4, tm_hour=0, tm_min=12, tm_sec=19, tm_wday=0, tm_yday=216, tm_isdst=0)"
       ]
      }
     ],
     "prompt_number": 52
    },
    {
     "cell_type": "code",
     "collapsed": false,
     "input": [
      "ady.submit(mixtut , (rgdaqwew, comrgd))"
     ],
     "language": "python",
     "metadata": {},
     "outputs": [
      {
       "metadata": {},
       "output_type": "pyout",
       "prompt_number": 53,
       "text": [
        "<praw.objects.Submission at 0x1f6ef90>"
       ]
      }
     ],
     "prompt_number": 53
    },
    {
     "cell_type": "raw",
     "metadata": {},
     "source": [
      "for newa in rdnew:\n",
      "    #rint newa.url\n",
      "    print len(newa)\n",
      "    htmstr = (str(newa.title) + '<a href=\"' + \n",
      "                 str(newa.url) + \n",
      "                 '\"><img class=\"aligncenter size-large wp-image-5723\" alt=\"' +\n",
      "                 str(newa.author) +\n",
      "                 '\" src=\"' + \n",
      "                 str(newa.url) + \n",
      "                 '\" /></a>')\n",
      "    #ophtml.write(htmstr)\n",
      "    #ady.submit(('[RGD]' + newa.author), newa.url)\n",
      "    print newa.author\n",
      "    #print newa.media\n",
      "    ophtml.write(htmstr)\n",
      "    print newa.selftext\n",
      "    print newa.url\n",
      "    print newa.num_comments\n",
      "    \n",
      "    linkdict.update({str(newa.author): str(newa.url)})\n"
     ]
    },
    {
     "cell_type": "code",
     "collapsed": false,
     "input": [
      "#print str(newa.title)"
     ],
     "language": "python",
     "metadata": {},
     "outputs": [],
     "prompt_number": 54
    },
    {
     "cell_type": "code",
     "collapsed": false,
     "input": [
      "import json"
     ],
     "language": "python",
     "metadata": {},
     "outputs": [],
     "prompt_number": 55
    },
    {
     "cell_type": "code",
     "collapsed": false,
     "input": [
      "newzjson = json.dumps(linkdict)"
     ],
     "language": "python",
     "metadata": {},
     "outputs": [],
     "prompt_number": 56
    },
    {
     "cell_type": "code",
     "collapsed": false,
     "input": [
      "#newzjson"
     ],
     "language": "python",
     "metadata": {},
     "outputs": [],
     "prompt_number": 57
    },
    {
     "cell_type": "code",
     "collapsed": false,
     "input": [],
     "language": "python",
     "metadata": {},
     "outputs": [],
     "prompt_number": 57
    },
    {
     "cell_type": "code",
     "collapsed": false,
     "input": [
      "rmine = r.get_redditor('itwillbemine')\n"
     ],
     "language": "python",
     "metadata": {},
     "outputs": [],
     "prompt_number": 58
    },
    {
     "cell_type": "code",
     "collapsed": false,
     "input": [
      "#opest = open('userurl.json', 'r')\n",
      "#opest.read()\n",
      "#opest.close()"
     ],
     "language": "python",
     "metadata": {},
     "outputs": [],
     "prompt_number": 59
    },
    {
     "cell_type": "code",
     "collapsed": false,
     "input": [
      "mincom = rmine.get_comments()"
     ],
     "language": "python",
     "metadata": {},
     "outputs": [],
     "prompt_number": 60
    },
    {
     "cell_type": "code",
     "collapsed": false,
     "input": [
      "#print mincom"
     ],
     "language": "python",
     "metadata": {},
     "outputs": [],
     "prompt_number": 61
    },
    {
     "cell_type": "code",
     "collapsed": false,
     "input": [
      "minels = []"
     ],
     "language": "python",
     "metadata": {},
     "outputs": [],
     "prompt_number": 62
    },
    {
     "cell_type": "code",
     "collapsed": false,
     "input": [
      "\n",
      "dausr = {}"
     ],
     "language": "python",
     "metadata": {},
     "outputs": [],
     "prompt_number": 63
    },
    {
     "cell_type": "code",
     "collapsed": false,
     "input": [
      "for newa in rdnew:\n",
      "    #rint newa.url\n",
      "    #print newa.author\n",
      "    linkdict.update({str(newa.author): str(newa.url)})"
     ],
     "language": "python",
     "metadata": {},
     "outputs": [],
     "prompt_number": 64
    },
    {
     "cell_type": "code",
     "collapsed": false,
     "input": [
      "for con in mincom:\n",
      "    #print con.body\n",
      "    minels.append(con)\n",
      "    dausr.update({str(con.id): str(con.body)})"
     ],
     "language": "python",
     "metadata": {},
     "outputs": [],
     "prompt_number": 65
    },
    {
     "cell_type": "code",
     "collapsed": false,
     "input": [
      "itwillbemine = dominate.document(title='itwillbemine')"
     ],
     "language": "python",
     "metadata": {},
     "outputs": [],
     "prompt_number": 66
    },
    {
     "cell_type": "code",
     "collapsed": false,
     "input": [
      "with itwillbemine.head:\n",
      "    link(rel='stylesheet', href='style.css')\n",
      "    script(type='text/javascript', src='script.js')\n",
      "\n",
      "with itwillbemine:\n",
      "    with div():\n",
      "        attr(cls='header')\n",
      "        #<img src=\"smiley.gif\" alt=\"Smiley face\" height=\"42\" width=\"42\">\n",
      "        h1('itwillbemine')\n",
      "        p(img(scr='http://brobeur.com/artcontroldrawsyou/logo.gif'))\n",
      "        for mine in minels:\n",
      "            h1(mine.created)\n",
      "            h2(mine.body)\n",
      "        \n",
      "    with div(id='author'):\n",
      "        for tits in titlis:\n",
      "            h3(tits)\n",
      "    \n",
      "    with div(id='body').add(p()):\n",
      "        for i in jplis:\n",
      "            li(img(i.lower(), src='%s' % i))\n",
      "            li(a(i.lower(), href='%s' % i))\n",
      "            \n",
      "\n",
      "\n",
      "\n",
      "print itwillbemine"
     ],
     "language": "python",
     "metadata": {},
     "outputs": [
      {
       "output_type": "stream",
       "stream": "stdout",
       "text": [
        "<!DOCTYPE html>\n",
        "<html>\n",
        "  <head>\n",
        "    <title>itwillbemine</title>\n",
        "    <link href=\"style.css\" rel=\"stylesheet\">\n",
        "    <script src=\"script.js\" type=\"text/javascript\"></script>\n",
        "  </head>\n",
        "  <body>\n",
        "    <div class=\"header\">\n",
        "      <h1>itwillbemine</h1>\n",
        "      <p>\n",
        "        <img scr=\"http://brobeur.com/artcontroldrawsyou/logo.gif\">\n",
        "      </p>\n",
        "      <h1>1407135568.0</h1>\n",
        "      <h2>Post removed - you can't use the art you receive here to promote your band.</h2>\n",
        "      <h1>1407135510.0</h1>\n",
        "      <h2>If you say so. Please be mindful of the way your feedback comes across in the future. Thank you.</h2>\n",
        "      <h1>1407133483.0</h1>\n",
        "      <h2>Correction: (based on your reddit profile) you seem like the nicest person ever (but I will take all your internet niceness with a grain of salt). :D\n",
        "\n",
        "In any case, great job! I've never seen anything like that before.</h2>\n",
        "      <h1>1407133274.0</h1>\n",
        "      <h2>Yay, you artist genius, you!</h2>\n",
        "      <h1>1407133212.0</h1>\n",
        "      <h2>I love all of you.</h2>\n",
        "      <h1>1407133109.0</h1>\n",
        "      <h2>&amp;lt;3 Love it. You seem like the nicest person ever - every time I see you 'round Reddit, you're doing something nice.</h2>\n",
        "      <h1>1407133043.0</h1>\n",
        "      <h2>Post removed. Please see our rule about using this sub for occupational use.</h2>\n",
        "      <h1>1407132931.0</h1>\n",
        "      <h2>Except that you just did. O_O This will be your last warning.</h2>\n",
        "      <h1>1407132886.0</h1>\n",
        "      <h2>Submissions that are purely filtered or manipulated are removed.</h2>\n",
        "      <h1>1407132802.0</h1>\n",
        "      <h2>That was so good that I almost feel like I need a cigarette. ;)</h2>\n",
        "      <h1>1407130395.0</h1>\n",
        "      <h2>Gift posts aren't allowed, so your post was removed. Please review our rules.</h2>\n",
        "      <h1>1407130341.0</h1>\n",
        "      <h2>Post removed. Please see our list of approved relationships.</h2>\n",
        "      <h1>1407129529.0</h1>\n",
        "      <h2>I CAN'T BELIEVE THOSE ARE WATERCOLORS, YOU ARE AMAZING. Caps for emphasis.</h2>\n",
        "      <h1>1407129506.0</h1>\n",
        "      <h2>Thanks!</h2>\n",
        "      <h1>1407129497.0</h1>\n",
        "      <h2>Agreed, love her, love her forevers</h2>\n",
        "      <h1>1407129464.0</h1>\n",
        "      <h2>&amp;lt;flashes toothy grin&amp;gt; :D</h2>\n",
        "      <h1>1407127235.0</h1>\n",
        "      <h2>I have a few that follow me around \n",
        "\n",
        "&amp;lt;waves to fan club&amp;gt;\n",
        "\n",
        "Hi, fan club! I envy your spare time. I really do.</h2>\n",
        "      <h1>1407122556.0</h1>\n",
        "      <h2>Check out our rules and see, please.</h2>\n",
        "      <h1>1407121995.0</h1>\n",
        "      <h2>Ahh, in RGD, unfortunately not. :(</h2>\n",
        "      <h1>1407121403.0</h1>\n",
        "      <h2>YW. One other option might be to contact artists privately, if you want, and ask if you can work out a deal. Some might do it for very little.</h2>\n",
        "      <h1>1407121206.0</h1>\n",
        "      <h2>Cheeky would be putting it lightly. I recommend trying /r/icandrawthat.</h2>\n",
        "      <h1>1407119928.0</h1>\n",
        "      <h2>You already received art on your last post:\n",
        "\n",
        "http://www.reddit.com/r/redditgetsdrawn/comments/2chgt7/could_you_draw_this_for_my_wife_please/\n",
        "\n",
        "This breaks the frequent posting rule. Another infraction will result in a ban.</h2>\n",
        "      <h1>1407119819.0</h1>\n",
        "      <h2>You broke our frequent posting rule:\n",
        "\n",
        "http://www.reddit.com/r/redditgetsdrawn/comments/2ce7uv/a_few_days_after_i_feel_off_a_motorbike_in_india/\n",
        "\n",
        "Post removed, and another infraction will result in a ban.</h2>\n",
        "      <h1>1407119778.0</h1>\n",
        "      <h2>You broke our frequent posting rule:\n",
        "\n",
        "http://www.reddit.com/r/redditgetsdrawn/comments/2cf65t/someone_please_draw_my_dog/\n",
        "\n",
        "Post removed, and if it happens again, you'll be banned.</h2>\n",
        "      <h1>1407119746.0</h1>\n",
        "      <h2>You broke our frequent posting rule:\n",
        "\n",
        "http://www.reddit.com/r/redditgetsdrawn/comments/2chqh4/there_is_some_incredible_talent_i_would_like_to/\n",
        "\n",
        "Post removed.</h2>\n",
        "    </div>\n",
        "    <div id=\"author\">\n",
        "      <h3>gladdit</h3>\n",
        "      <h3>MasterfulTaco</h3>\n",
        "      <h3>ShinraX0</h3>\n",
        "      <h3>Daniel329</h3>\n",
        "      <h3>thief88</h3>\n",
        "      <h3>rokob</h3>\n",
        "      <h3>dorothyeleanorothy</h3>\n",
        "      <h3>ImaCulpA</h3>\n",
        "      <h3>fuzzymunkys</h3>\n",
        "      <h3>austinmars</h3>\n",
        "      <h3>iwantduck</h3>\n",
        "      <h3>XPugg</h3>\n",
        "      <h3>May_and_Mercury</h3>\n",
        "      <h3>YoloSloth</h3>\n",
        "      <h3>sweetiet1180</h3>\n",
        "      <h3>TheBigRich52</h3>\n",
        "      <h3>Calzord1</h3>\n",
        "      <h3>mikana</h3>\n",
        "      <h3>Wirtzilla</h3>\n",
        "      <h3>SpecialBrownies420</h3>\n",
        "      <h3>tanakasagara</h3>\n",
        "      <h3>azalearodz</h3>\n",
        "      <h3>KayGatsby</h3>\n",
        "      <h3>Davegarski</h3>\n",
        "      <h3>noodlezandrice</h3>\n",
        "    </div>\n",
        "    <div id=\"body\">\n",
        "      <p>\n",
        "        <li>\n",
        "          <img src=\"http://i.imgur.com/cE8arOZ.jpg\">\n",
        "        </li>\n",
        "        <li>\n",
        "          <a href=\"http://i.imgur.com/cE8arOZ.jpg\">http://i.imgur.com/ce8aroz.jpg</a>\n",
        "        </li>\n",
        "        <li>\n",
        "          <img src=\"http://i.imgur.com/XjCqBFB.jpg\">\n",
        "        </li>\n",
        "        <li>\n",
        "          <a href=\"http://i.imgur.com/XjCqBFB.jpg\">http://i.imgur.com/xjcqbfb.jpg</a>\n",
        "        </li>\n",
        "        <li>\n",
        "          <img src=\"http://i.imgur.com/tCAhL8d.jpg\">\n",
        "        </li>\n",
        "        <li>\n",
        "          <a href=\"http://i.imgur.com/tCAhL8d.jpg\">http://i.imgur.com/tcahl8d.jpg</a>\n",
        "        </li>\n",
        "        <li>\n",
        "          <img src=\"http://i.imgur.com/EcYSm5E.jpg\">\n",
        "        </li>\n",
        "        <li>\n",
        "          <a href=\"http://i.imgur.com/EcYSm5E.jpg\">http://i.imgur.com/ecysm5e.jpg</a>\n",
        "        </li>\n",
        "        <li>\n",
        "          <img src=\"http://i.imgur.com/MjzMMne.jpg\">\n",
        "        </li>\n",
        "        <li>\n",
        "          <a href=\"http://i.imgur.com/MjzMMne.jpg\">http://i.imgur.com/mjzmmne.jpg</a>\n",
        "        </li>\n",
        "        <li>\n",
        "          <img src=\"http://i.imgur.com/0IZRLlg.jpg\">\n",
        "        </li>\n",
        "        <li>\n",
        "          <a href=\"http://i.imgur.com/0IZRLlg.jpg\">http://i.imgur.com/0izrllg.jpg</a>\n",
        "        </li>\n",
        "        <li>\n",
        "          <img src=\"http://i.imgur.com/uGtKTxU.jpg\">\n",
        "        </li>\n",
        "        <li>\n",
        "          <a href=\"http://i.imgur.com/uGtKTxU.jpg\">http://i.imgur.com/ugtktxu.jpg</a>\n",
        "        </li>\n",
        "        <li>\n",
        "          <img src=\"http://i.imgur.com/YkNKAdU.jpg\">\n",
        "        </li>\n",
        "        <li>\n",
        "          <a href=\"http://i.imgur.com/YkNKAdU.jpg\">http://i.imgur.com/yknkadu.jpg</a>\n",
        "        </li>\n",
        "        <li>\n",
        "          <img src=\"http://i.imgur.com/UWKrQgB.jpg\">\n",
        "        </li>\n",
        "        <li>\n",
        "          <a href=\"http://i.imgur.com/UWKrQgB.jpg\">http://i.imgur.com/uwkrqgb.jpg</a>\n",
        "        </li>\n",
        "        <li>\n",
        "          <img src=\"http://i.imgur.com/45IOChA.jpg\">\n",
        "        </li>\n",
        "        <li>\n",
        "          <a href=\"http://i.imgur.com/45IOChA.jpg\">http://i.imgur.com/45iocha.jpg</a>\n",
        "        </li>\n",
        "        <li>\n",
        "          <img src=\"http://i.imgur.com/IHxDTGo.jpg\">\n",
        "        </li>\n",
        "        <li>\n",
        "          <a href=\"http://i.imgur.com/IHxDTGo.jpg\">http://i.imgur.com/ihxdtgo.jpg</a>\n",
        "        </li>\n",
        "        <li>\n",
        "          <img src=\"http://i.imgur.com/xsiMUt4.jpg\">\n",
        "        </li>\n",
        "        <li>\n",
        "          <a href=\"http://i.imgur.com/xsiMUt4.jpg\">http://i.imgur.com/xsimut4.jpg</a>\n",
        "        </li>\n",
        "        <li>\n",
        "          <img src=\"http://i.imgur.com/8Elh75F.jpg\">\n",
        "        </li>\n",
        "        <li>\n",
        "          <a href=\"http://i.imgur.com/8Elh75F.jpg\">http://i.imgur.com/8elh75f.jpg</a>\n",
        "        </li>\n",
        "      </p>\n",
        "    </div>\n",
        "  </body>\n",
        "</html>\n"
       ]
      }
     ],
     "prompt_number": 67
    },
    {
     "cell_type": "code",
     "collapsed": false,
     "input": [
      "minels"
     ],
     "language": "python",
     "metadata": {},
     "outputs": [
      {
       "metadata": {},
       "output_type": "pyout",
       "prompt_number": 68,
       "text": [
        "[<praw.objects.Comment at 0x1fcd8d0>,\n",
        " <praw.objects.Comment at 0x231e490>,\n",
        " <praw.objects.Comment at 0x231e550>,\n",
        " <praw.objects.Comment at 0x231e590>,\n",
        " <praw.objects.Comment at 0x231e750>,\n",
        " <praw.objects.Comment at 0x231e7d0>,\n",
        " <praw.objects.Comment at 0x231e9d0>,\n",
        " <praw.objects.Comment at 0x231e910>,\n",
        " <praw.objects.Comment at 0x231eb10>,\n",
        " <praw.objects.Comment at 0x231ed10>,\n",
        " <praw.objects.Comment at 0x231ec10>,\n",
        " <praw.objects.Comment at 0x231ee10>,\n",
        " <praw.objects.Comment at 0x2323ad0>,\n",
        " <praw.objects.Comment at 0x2323c90>,\n",
        " <praw.objects.Comment at 0x2323d90>,\n",
        " <praw.objects.Comment at 0x2323e90>,\n",
        " <praw.objects.Comment at 0x2323f50>,\n",
        " <praw.objects.Comment at 0x23c2090>,\n",
        " <praw.objects.Comment at 0x23c2150>,\n",
        " <praw.objects.Comment at 0x23c2250>,\n",
        " <praw.objects.Comment at 0x23c2350>,\n",
        " <praw.objects.Comment at 0x23c2450>,\n",
        " <praw.objects.Comment at 0x23c2550>,\n",
        " <praw.objects.Comment at 0x23c2690>,\n",
        " <praw.objects.Comment at 0x23c2790>]"
       ]
      }
     ],
     "prompt_number": 68
    },
    {
     "cell_type": "code",
     "collapsed": false,
     "input": [
      "noizjson = json.dumps(dausr)"
     ],
     "language": "python",
     "metadata": {},
     "outputs": []
    },
    {
     "cell_type": "code",
     "collapsed": false,
     "input": [
      "newposts = open('userurl.json', 'a')\n",
      "newposts.write(newzjson)\n",
      "print ('file userurl.json updated')\n",
      "newcomments = open('idcomt.json', 'a')\n",
      "newcomments.write(noizjson)\n",
      "print ('user comments updated')\n",
      "newposts.close()\n",
      "newcomments.close()"
     ],
     "language": "python",
     "metadata": {},
     "outputs": []
    },
    {
     "cell_type": "code",
     "collapsed": false,
     "input": [
      "rdusr = str(con.author)\n"
     ],
     "language": "python",
     "metadata": {},
     "outputs": []
    },
    {
     "cell_type": "code",
     "collapsed": false,
     "input": [
      "minelsz = []"
     ],
     "language": "python",
     "metadata": {},
     "outputs": []
    },
    {
     "cell_type": "code",
     "collapsed": false,
     "input": [
      "#for mina in minels:\n",
      "    #print mina.body\n",
      "   # minelsz.append(mina.body)"
     ],
     "language": "python",
     "metadata": {},
     "outputs": []
    },
    {
     "cell_type": "code",
     "collapsed": false,
     "input": [
      "#minelsz"
     ],
     "language": "python",
     "metadata": {},
     "outputs": []
    },
    {
     "cell_type": "code",
     "collapsed": false,
     "input": [
      "#mina.body"
     ],
     "language": "python",
     "metadata": {},
     "outputs": []
    },
    {
     "cell_type": "code",
     "collapsed": false,
     "input": [],
     "language": "python",
     "metadata": {},
     "outputs": []
    },
    {
     "cell_type": "code",
     "collapsed": false,
     "input": [],
     "language": "python",
     "metadata": {},
     "outputs": []
    },
    {
     "cell_type": "code",
     "collapsed": false,
     "input": [],
     "language": "python",
     "metadata": {},
     "outputs": []
    },
    {
     "cell_type": "code",
     "collapsed": false,
     "input": [],
     "language": "python",
     "metadata": {},
     "outputs": []
    }
   ],
   "metadata": {}
  }
 ]
}