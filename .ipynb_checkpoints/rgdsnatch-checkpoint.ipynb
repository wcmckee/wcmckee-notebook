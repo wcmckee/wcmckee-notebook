{
 "metadata": {
  "name": "",
  "signature": "sha256:0a0ec09c70c0a4f62e40c26727330886d46d6b96c5735f6b2693140a689ad2b6"
 },
 "nbformat": 3,
 "nbformat_minor": 0,
 "worksheets": [
  {
   "cells": [
    {
     "cell_type": "markdown",
     "metadata": {},
     "source": [
      "RedditGetsDrawn Snatch\n",
      "\n",
      "This is a Python script that takes data from reddit and posts it to another subreddit. It also creates a html file with the images embed into. The images are the most recent 25 on r/redditgetsdrawn.\n",
      "\n"
     ]
    },
    {
     "cell_type": "markdown",
     "metadata": {},
     "source": [
      "TODO\n",
      "\n",
      "submit art to users via website\n",
      "\n",
      "fix image sizes (need to scale down to 550px)\n",
      "\n",
      "Save to server rather than imgur\n",
      "\n",
      "Archieve, snapshots of rgd\n",
      "\n",
      "more artcontrol\n",
      "\n",
      "itwillbemine comments to html - currently being saved in contact \n",
      "\n",
      "work on css, div up page, title, side, body, footer\n",
      "\n",
      "update twitter with ONE IMAGE and announce that the list has been updated.\n",
      "\n",
      "write blog post and submits to artcontroldrawsyou/blog \n",
      "\n",
      "\n",
      "\n"
     ]
    },
    {
     "cell_type": "code",
     "collapsed": false,
     "input": [
      "import os\n",
      "import random\n",
      "import requests\n",
      "import re\n",
      "import json\n",
      "import time\n",
      "import praw\n",
      "import dominate\n",
      "from dominate.tags import *\n"
     ],
     "language": "python",
     "metadata": {},
     "outputs": []
    },
    {
     "cell_type": "code",
     "collapsed": false,
     "input": [
      "os.chdir('/var/www/artcontroldrawsyou')"
     ],
     "language": "python",
     "metadata": {},
     "outputs": []
    },
    {
     "cell_type": "code",
     "collapsed": false,
     "input": [
      "r = praw.Reddit(user_agent='rgdsnatch')"
     ],
     "language": "python",
     "metadata": {},
     "outputs": []
    },
    {
     "cell_type": "code",
     "collapsed": false,
     "input": [
      "#r.login('artcontrol', 'taylor123vag!')"
     ],
     "language": "python",
     "metadata": {},
     "outputs": []
    },
    {
     "cell_type": "code",
     "collapsed": false,
     "input": [
      "rd = r.get_subreddit('redditgetsdrawn')"
     ],
     "language": "python",
     "metadata": {},
     "outputs": []
    },
    {
     "cell_type": "code",
     "collapsed": false,
     "input": [
      "subz = rd.get_hot().next()\n",
      "istit = (subz.title)\n",
      "istxt = (subz.selftext_html)\n",
      "istick = (subz.stickied)"
     ],
     "language": "python",
     "metadata": {},
     "outputs": [],
     "prompt_number": 803
    },
    {
     "cell_type": "code",
     "collapsed": false,
     "input": [
      "istit"
     ],
     "language": "python",
     "metadata": {},
     "outputs": [
      {
       "metadata": {},
       "output_type": "pyout",
       "prompt_number": 804,
       "text": [
        "u\"It's time for RGD Mod Favorites (July 27 - August 2)! See inside for details!\""
       ]
      }
     ],
     "prompt_number": 804
    },
    {
     "cell_type": "code",
     "collapsed": false,
     "input": [
      "istxt"
     ],
     "language": "python",
     "metadata": {},
     "outputs": [
      {
       "metadata": {},
       "output_type": "pyout",
       "prompt_number": 805,
       "text": [
        "u'&lt;!-- SC_OFF --&gt;&lt;div class=\"md\"&gt;&lt;p&gt;Each week, every mod picks his or her favorite five RGD pieces from that week. Each Sunday, those selections are compiled and posted! Let&amp;#39;s take a gander, shall we? Shan&amp;#39;t we?&lt;/p&gt;\\n\\n&lt;p&gt;&lt;strong&gt;Selections from fivepmsomewhere&lt;/strong&gt;&lt;/p&gt;\\n\\n&lt;p&gt;Submitter &lt;a href=\"http://i.imgur.com/hSZlpTc.png\"&gt;futachankawaiidesune&lt;/a&gt;, artist &lt;a href=\"https://i.imgur.com/LWwJc4S.jpg\"&gt;bcsketches&lt;/a&gt;, &lt;a href=\"http://www.reddit.com/r/redditgetsdrawn/comments/2c8w7w/profile_of_me_in_drag_sans_wig_any_takers/cjdgaj1\"&gt;Permalink&lt;/a&gt;&lt;/p&gt;\\n\\n&lt;p&gt;Submitter &lt;a href=\"http://i.imgur.com/SfVd5lf.jpg\"&gt;ashcaughtemall&lt;/a&gt;, artist &lt;a href=\"http://i.imgur.com/ueDc70D.jpg\"&gt;---c&lt;/a&gt;, &lt;a href=\"http://www.reddit.com/r/redditgetsdrawn/comments/2c475g/please_draw_me_3/cjbv62n\"&gt;Permalink&lt;/a&gt;&lt;/p&gt;\\n\\n&lt;p&gt;Submitter &lt;a href=\"http://i.imgur.com/Hv8py7S.jpg\"&gt;pseudogentry&lt;/a&gt;, artist &lt;a href=\"http://i.imgur.com/YBg9dtb.jpg\"&gt;jareddrawsreddit&lt;/a&gt;, &lt;a href=\"http://www.reddit.com/r/redditgetsdrawn/comments/2bzirx/would_love_for_anyone_to_have_a_go_my_dad_and_me/cjb22hp\"&gt;Permalink&lt;/a&gt;&lt;/p&gt;\\n\\n&lt;p&gt;Submitter &lt;a href=\"http://i.imgur.com/bIj8t8W.jpg\"&gt;heyitslolo&lt;/a&gt;, artist &lt;a href=\"http://i.imgur.com/ugEwF8M.jpg\"&gt;learning_to_draw_ccw&lt;/a&gt;, &lt;a href=\"http://www.reddit.com/r/redditgetsdrawn/comments/2bwkrb/i_would_love_if_someone_would_draw_me/cj9xaxw\"&gt;Permalink&lt;/a&gt;&lt;/p&gt;\\n\\n&lt;p&gt;Submitter &lt;a href=\"http://i.imgur.com/hSZlpTc.png\"&gt;futachankawaiidesune&lt;/a&gt;, artist &lt;a href=\"http://i.imgur.com/qWdzBJk.jpg\"&gt;manderhits&lt;/a&gt;, &lt;a href=\"http://www.reddit.com/r/redditgetsdrawn/comments/2c8w7w/profile_of_me_in_drag_sans_wig_any_takers/cjd77jf\"&gt;Permalink&lt;/a&gt;&lt;/p&gt;\\n\\n&lt;p&gt;&lt;strong&gt;Selections from heyryaaan&lt;/strong&gt;&lt;/p&gt;\\n\\n&lt;p&gt;Submitter &lt;a href=\"http://i.imgur.com/3VgZwUH.jpg\"&gt;arc129&lt;/a&gt;, artist &lt;a href=\"http://i.imgur.com/rhwHpOP.jpg\"&gt;Kivakaa&lt;/a&gt;, &lt;a href=\"http://www.reddit.com/r/redditgetsdrawn/comments/2c763f/cool_moth_landed_on_me_as_i_arrived_home_from/cjcsifs\"&gt;Permalink&lt;/a&gt;&lt;/p&gt;\\n\\n&lt;p&gt;Submitter &lt;a href=\"http://i.imgur.com/26cDtN1.jpg\"&gt;iamarting&lt;/a&gt;, artist &lt;a href=\"http://i.imgur.com/3Uz21OP.gif\"&gt;Powersimon&lt;/a&gt;, &lt;a href=\"http://www.reddit.com/r/redditgetsdrawn/comments/2bw7gi/would_anyone_like_to_draw_me_and_my_fancy_coat/cj9ywau\"&gt;Permalink&lt;/a&gt;&lt;/p&gt;\\n\\n&lt;p&gt;Submitter &lt;a href=\"http://i.imgur.com/RWoJVD2.jpg\"&gt;MysteryViolaPlayer&lt;/a&gt;, artist &lt;a href=\"http://i.imgur.com/tLrHjIB.jpg\"&gt;The_Drawist&lt;/a&gt;, &lt;a href=\"http://www.reddit.com/r/redditgetsdrawn/comments/2c77zy/my_mothers_favorite_baby_picture_of_me_and_i/cjcr8by\"&gt;Permalink&lt;/a&gt;&lt;/p&gt;\\n\\n&lt;p&gt;Submitter &lt;a href=\"http://i.imgur.com/LSuAPPI.jpg\"&gt;yadi_1690&lt;/a&gt;, artist &lt;a href=\"http://i.imgur.com/gCCYqSt.jpg\"&gt;we_have_a_TREX&lt;/a&gt;, &lt;a href=\"http://www.reddit.com/r/redditgetsdrawn/comments/2c7ih7/can_someone_please_draw_me_would_love_to_see_your/cjd8d2m\"&gt;Permalink&lt;/a&gt;&lt;/p&gt;\\n\\n&lt;p&gt;Submitter &lt;a href=\"http://i.imgur.com/uAB0peA.jpg?1\"&gt;lonestargranger&lt;/a&gt;, artist &lt;a href=\"http://i.imgur.com/hvhAg0W.jpg\"&gt;Zhim&lt;/a&gt;, &lt;a href=\"http://www.reddit.com/r/redditgetsdrawn/comments/2c3qom/ive_been_a_lurker_for_a_while_would_be_extremely/cjc10ou\"&gt;Permalink&lt;/a&gt;&lt;/p&gt;\\n\\n&lt;p&gt;&lt;strong&gt;Selections from ItWillBeMine&lt;/strong&gt;&lt;/p&gt;\\n\\n&lt;p&gt;Submitter &lt;a href=\"http://i.imgur.com/8hiESDN.jpg\"&gt;gg-no-re&lt;/a&gt;, artist &lt;a href=\"http://i.imgur.com/wUrkhNr.jpg\"&gt;slam_nine&lt;/a&gt;, &lt;a href=\"http://www.reddit.com/r/redditgetsdrawn/comments/2bxa7l/a_picture_of_me_and_my_street_luge_in_front_of_a/cj9utn1\"&gt;Permalink&lt;/a&gt;&lt;/p&gt;\\n\\n&lt;p&gt;Submitter &lt;a href=\"http://i.imgur.com/C31aDVB.jpg\"&gt;arrabel&lt;/a&gt;, artist &lt;a href=\"http://i.imgur.com/1NDAECj.jpg\"&gt;rotis4&lt;/a&gt;, &lt;a href=\"http://www.reddit.com/r/redditgetsdrawn/comments/2bxvcs/i_used_to_do_a_lot_of_flying_photos_and_this_was/cjatd5b\"&gt;Permalink&lt;/a&gt;&lt;/p&gt;\\n\\n&lt;p&gt;Submitter &lt;a href=\"http://i.imgur.com/TWBnEJI.jpg\"&gt;Thankyousosomuch&lt;/a&gt;, artist &lt;a href=\"http://i.imgur.com/xH6kXXf.jpg\"&gt;cacophonyart&lt;/a&gt;, &lt;a href=\"http://www.reddit.com/r/redditgetsdrawn/comments/2c4bu0/thanks_for_drawing_my_greatest_grandma_shes_about/cjbvkn8\"&gt;Permalink&lt;/a&gt;&lt;/p&gt;\\n\\n&lt;p&gt;Submitter &lt;a href=\"http://i.imgur.com/bNAyb19.jpg\"&gt;sh0tzy&lt;/a&gt;, artist &lt;a href=\"http://i.imgur.com/tDOOHXA.jpg\"&gt;---c&lt;/a&gt;, &lt;a href=\"http://www.reddit.com/r/redditgetsdrawn/comments/2bw63j/one_of_my_favorite_pictures_of_my_son_the_beach/cj9ssno\"&gt;Permalink&lt;/a&gt;&lt;/p&gt;\\n\\n&lt;p&gt;Submitter &lt;a href=\"http://i.imgur.com/h3IDxxE.jpg\"&gt;omgitsbabyseat&lt;/a&gt;, artists &lt;a href=\"http://i.imgur.com/rNVApcQ.jpg\"&gt;Lairosiel and MeatyElbow&lt;/a&gt;, &lt;a href=\"http://www.reddit.com/r/redditgetsdrawn/comments/2cbzly/this_is_my_beautiful_daughter_and_she_loves_art_i/cje40p6\"&gt;Permalink&lt;/a&gt;&lt;/p&gt;\\n\\n&lt;p&gt;&lt;strong&gt;Selections from meeps114&lt;/strong&gt;&lt;/p&gt;\\n\\n&lt;p&gt;Submitter &lt;a href=\"http://i.imgur.com/ClxWVbQ.jpg\"&gt;aLousyFatKid&lt;/a&gt;, artist &lt;a href=\"http://i.imgur.com/IMIHY4y.jpg\"&gt;milldogg&lt;/a&gt;, &lt;a href=\"http://www.reddit.com/r/redditgetsdrawn/comments/2c92fb/have_some_fun_with_my_dog_gary_is_a_grump/cjdtno7\"&gt;Permalink&lt;/a&gt;&lt;/p&gt;\\n\\n&lt;p&gt;Submitter &lt;a href=\"http://i.imgur.com/XtIWPfx.jpg\"&gt;anonude, NSFW&lt;/a&gt;, artist &lt;a href=\"http://i.imgur.com/2mhO8bq.jpg\"&gt;orvane&lt;/a&gt;, &lt;a href=\"http://www.reddit.com/r/redditgetsdrawn/comments/2btl3q/a_few_redditors_on_rartgw_suggested_i_post_some/cj8zyeh\"&gt;Permalink&lt;/a&gt;&lt;/p&gt;\\n\\n&lt;p&gt;Submitter &lt;a href=\"http://i.imgur.com/3VgZwUH.jpg\"&gt;arc129&lt;/a&gt;, artist &lt;a href=\"https://i.imgur.com/n0lkjWp.jpg\"&gt;bcsketches&lt;/a&gt;, &lt;a href=\"http://www.reddit.com/r/redditgetsdrawn/comments/2c763f/cool_moth_landed_on_me_as_i_arrived_home_from/cjcpueg\"&gt;Permalink&lt;/a&gt;&lt;/p&gt;\\n\\n&lt;p&gt;Submitter &lt;a href=\"http://i.imgur.com/C31aDVB.jpg\"&gt;arabbel&lt;/a&gt;, artist &lt;a href=\"http://31.media.tumblr.com/31564e208847a5f4c5711359c3803382/tumblr_n9ghm0Zmvn1ty772no1_1280.png\"&gt;LucarioPrime&lt;/a&gt;, &lt;a href=\"http://www.reddit.com/r/redditgetsdrawn/comments/2bxvcs/i_used_to_do_a_lot_of_flying_photos_and_this_was/cjaq6lz\"&gt;Permalink&lt;/a&gt;&lt;/p&gt;\\n\\n&lt;p&gt;Submitter &lt;a href=\"http://i.imgur.com/XWqkLyD.jpg\"&gt;OtotheHtotheItotheO&lt;/a&gt;, artist &lt;a href=\"http://i.imgur.com/moKLMEi.jpg\"&gt;FlyinMayanLion&lt;/a&gt;, &lt;a href=\"http://www.reddit.com/r/redditgetsdrawn/comments/2c9w34/saw_a_luna_moth_picture_posted_yesterday_figured/cjehh8v\"&gt;Permalink&lt;/a&gt;&lt;/p&gt;\\n\\n&lt;p&gt;&lt;strong&gt;Selections from sgt_mary_mary&lt;/strong&gt;&lt;/p&gt;\\n\\n&lt;p&gt;Submitter &lt;a href=\"http://i.imgur.com/hL5YVo5.jpg\"&gt;poeticjustice226&lt;/a&gt;, artist &lt;a href=\"http://i.imgur.com/yqX9h64.jpg\"&gt;hedgie_wedgie&lt;/a&gt;, &lt;a href=\"http://www.reddit.com/r/redditgetsdrawn/comments/2c72ru/i_would_absolutely_love_for_you_guys_to_draw_my/cjdb8vl\"&gt;Permalink&lt;/a&gt;&lt;/p&gt;\\n\\n&lt;p&gt;Submitter &lt;a href=\"http://i.imgur.com/SfVd5lf.jpg\"&gt;ashcaughtemall&lt;/a&gt;, artist &lt;a href=\"http://i.imgur.com/pZ5mP8h.jpg\"&gt;Chokeberry&lt;/a&gt;, &lt;a href=\"http://www.reddit.com/r/redditgetsdrawn/comments/2c475g/please_draw_me_3/cjbu3rh\"&gt;Permalink&lt;/a&gt;&lt;/p&gt;\\n\\n&lt;p&gt;Submitter &lt;a href=\"http://i.imgur.com/hSZlpTc.png\"&gt;futachankawaiidesune&lt;/a&gt;, artist &lt;a href=\"http://i.imgur.com/l2QUzai.jpg\"&gt;Taurox&lt;/a&gt;, &lt;a href=\"http://www.reddit.com/r/redditgetsdrawn/comments/2c8w7w/profile_of_me_in_drag_sans_wig_any_takers/cjdmsii\"&gt;Permalink&lt;/a&gt;&lt;/p&gt;\\n\\n&lt;p&gt;Submitter &lt;a href=\"http://i.imgur.com/uAB0peA.jpg?1\"&gt;lonestargranger&lt;/a&gt;, artist &lt;a href=\"http://i.imgur.com/rshAaH2.jpg\"&gt;but_not_by_wolves&lt;/a&gt;, &lt;a href=\"http://www.reddit.com/r/redditgetsdrawn/comments/2c3qom/ive_been_a_lurker_for_a_while_would_be_extremely/cjc1r88\"&gt;Permalink&lt;/a&gt;&lt;/p&gt;\\n\\n&lt;p&gt;Submitter &lt;a href=\"http://i.imgur.com/pdnEjq3.jpg\"&gt;STEP___ &lt;/a&gt;, artist &lt;a href=\"http://38.media.tumblr.com/b0817b418e2d8ab98b5663ccce5efc3b/tumblr_n9lfljdiWe1tgjtw3o1_1280.png\"&gt;FinaSusu&lt;/a&gt;, &lt;a href=\"http://www.reddit.com/r/redditgetsdrawn/comments/2c8pjw/care_to_draw_me_again_wonderful_people/cjdcbt5\"&gt;Permalink&lt;/a&gt;&lt;/p&gt;\\n\\n&lt;p&gt;&lt;strong&gt;Selections from yowtfyo&lt;/strong&gt;&lt;/p&gt;\\n\\n&lt;p&gt;Submitter &lt;a href=\"http://i.imgur.com/A48meVY.jpg\"&gt;kbleu&lt;/a&gt;, artist &lt;a href=\"http://i.imgur.com/WTR0fti.jpg\"&gt;NinjaShira&lt;/a&gt;, &lt;a href=\"http://www.reddit.com/r/redditgetsdrawn/comments/2c67x3/my_roommates_and_i_after_we_thought_someone_was/cjcmnv5\"&gt;Permalink&lt;/a&gt;&lt;/p&gt;\\n\\n&lt;p&gt;Submitter &lt;a href=\"http://imgur.com/a/RHqPJ\"&gt;Jennylane25&lt;/a&gt;, artist &lt;a href=\"http://i.imgur.com/BtY305c.jpg\"&gt;shaaaaa&lt;/a&gt;, &lt;a href=\"http://www.reddit.com/r/redditgetsdrawn/comments/2c6r7v/anyone_want_to_draw_my_son_and_i_as_superheroes/cjclywr\"&gt;Permalink&lt;/a&gt;&lt;/p&gt;\\n\\n&lt;p&gt;Submitter &lt;a href=\"http://i.imgur.com/OcdOto8.jpg?1\"&gt;Rumformypups&lt;/a&gt;, artist &lt;a href=\"http://i.imgur.com/ARdpL7e.jpg\"&gt;smokeybeard&lt;/a&gt;, &lt;a href=\"http://www.reddit.com/r/redditgetsdrawn/comments/2cd3vt/a_shot_of_me_waiting_outside_the_bart_station_in/cjef16h\"&gt;Permalink&lt;/a&gt;&lt;/p&gt;\\n\\n&lt;p&gt;Submitter &lt;a href=\"http://i.imgur.com/vbFb05j.jpg\"&gt;totorose&lt;/a&gt;, artist &lt;a href=\"http://i.imgur.com/WowePkx.png\"&gt;theMaynEvent&lt;/a&gt;, &lt;a href=\"http://www.reddit.com/r/redditgetsdrawn/comments/2c22a8/would_love_for_someone_to_draw_this_photo_of_me/cjbfuyl\"&gt;Permalink&lt;/a&gt;&lt;/p&gt;\\n\\n&lt;p&gt;Submitter &lt;a href=\"http://i.imgur.com/XgDwBbl.jpg\"&gt;InfiniteThird&lt;/a&gt;, artist &lt;a href=\"http://i.imgur.com/A19MIUo.jpg\"&gt;jareddrawsreddit&lt;/a&gt;, &lt;a href=\"http://www.reddit.com/r/redditgetsdrawn/comments/2c1jsq/you_all_did_so_well_with_my_last_photo_i_thought/cjb666f\"&gt;Permalink&lt;/a&gt;&lt;/p&gt;\\n\\n&lt;p&gt;We want to continue to encourage submitters to post high-quality/interesting photos. Accordingly, each mod has selected a favorite RGD picture of the week. Both artists and submitters listed in these posts will receive flair.&lt;/p&gt;\\n\\n&lt;p&gt;&lt;strong&gt;fivepmsomewhere&lt;/strong&gt;: &lt;a href=\"http://i.imgur.com/3VgZwUH.jpg\"&gt;arc129&lt;/a&gt;, &lt;a href=\"http://www.reddit.com/r/redditgetsdrawn/top/?sort=top&amp;amp;t=week\"&gt;Permalink&lt;/a&gt;&lt;/p&gt;\\n\\n&lt;p&gt;&lt;strong&gt;heyryaaan&lt;/strong&gt;: &lt;a href=\"http://i.imgur.com/bIj8t8W.jpg\"&gt;heyitslolo&lt;/a&gt;, &lt;a href=\"http://www.reddit.com/r/redditgetsdrawn/comments/2bwkrb/i_would_love_if_someone_would_draw_me/\"&gt;Permalink&lt;/a&gt;&lt;/p&gt;\\n\\n&lt;p&gt;&lt;strong&gt;ItWillBeMine&lt;/strong&gt;: &lt;a href=\"http://i.imgur.com/y2x9W3f.jpg\"&gt;Foureyes89&lt;/a&gt;, &lt;a href=\"http://www.reddit.com/r/redditgetsdrawn/comments/2c497b/this_is_my_friend_looking_badass_can_someone/\"&gt;Permalink&lt;/a&gt;&lt;/p&gt;\\n\\n&lt;p&gt;&lt;strong&gt;meeps114&lt;/strong&gt;: &lt;a href=\"http://i.imgur.com/C31aDVB.jpg\"&gt;arabbel&lt;/a&gt;, &lt;a href=\"http://www.reddit.com/r/redditgetsdrawn/comments/2bxvcs/i_used_to_do_a_lot_of_flying_photos_and_this_was/\"&gt;Permalink&lt;/a&gt;&lt;/p&gt;\\n\\n&lt;p&gt;&lt;strong&gt;sgt_mary_mary&lt;/strong&gt;: &lt;a href=\"http://i.imgur.com/kb8aIz0.jpg\"&gt;poeticjustice226&lt;/a&gt;, &lt;a href=\"http://www.reddit.com/r/redditgetsdrawn/comments/2c72ru/i_would_absolutely_love_for_you_guys_to_draw_my/\"&gt;Permalink&lt;/a&gt;&lt;/p&gt;\\n\\n&lt;p&gt;&lt;strong&gt;yowtfyo&lt;/strong&gt;: &lt;a href=\"http://i.imgur.com/vwn5Lqd.jpg\"&gt;sageandonion&lt;/a&gt;, &lt;a href=\"http://www.reddit.com/r/redditgetsdrawn/comments/2ccl7o/me_in_afghanistan_with_this_little_dude/\"&gt;Permalink&lt;/a&gt;&lt;/p&gt;\\n&lt;/div&gt;&lt;!-- SC_ON --&gt;'"
       ]
      }
     ],
     "prompt_number": 805
    },
    {
     "cell_type": "code",
     "collapsed": false,
     "input": [
      "if istick = True:\n",
      "    "
     ],
     "language": "python",
     "metadata": {},
     "outputs": []
    },
    {
     "cell_type": "code",
     "collapsed": false,
     "input": [
      "rdnewz = rd.get_new()"
     ],
     "language": "python",
     "metadata": {},
     "outputs": []
    },
    {
     "cell_type": "code",
     "collapsed": false,
     "input": [
      "rdnew = []"
     ],
     "language": "python",
     "metadata": {},
     "outputs": []
    },
    {
     "cell_type": "code",
     "collapsed": false,
     "input": [
      "rdnew"
     ],
     "language": "python",
     "metadata": {},
     "outputs": []
    },
    {
     "cell_type": "code",
     "collapsed": false,
     "input": [
      "for uz in rdnewz:\n",
      "    #print uz\n",
      "    rdnew.append(uz)"
     ],
     "language": "python",
     "metadata": {},
     "outputs": []
    },
    {
     "cell_type": "code",
     "collapsed": false,
     "input": [
      "urzlis = []\n",
      "titlis = []"
     ],
     "language": "python",
     "metadata": {},
     "outputs": []
    },
    {
     "cell_type": "code",
     "collapsed": false,
     "input": [
      "#os.chdir('imgs')"
     ],
     "language": "python",
     "metadata": {},
     "outputs": []
    },
    {
     "cell_type": "code",
     "collapsed": false,
     "input": [
      "for rdn in rdnew:\n",
      "    print rdn.url\n",
      "    urzlis.append(rdn.url)\n",
      "    titlis.append(rdn.author.name)\n",
      "    "
     ],
     "language": "python",
     "metadata": {},
     "outputs": []
    },
    {
     "cell_type": "code",
     "collapsed": false,
     "input": [
      "titlis"
     ],
     "language": "python",
     "metadata": {},
     "outputs": []
    },
    {
     "cell_type": "code",
     "collapsed": false,
     "input": [
      "jplis = []"
     ],
     "language": "python",
     "metadata": {},
     "outputs": []
    },
    {
     "cell_type": "code",
     "collapsed": false,
     "input": [
      "from time import gmtime, strftime\n"
     ],
     "language": "python",
     "metadata": {},
     "outputs": []
    },
    {
     "cell_type": "code",
     "collapsed": false,
     "input": [
      "for iz in jplis:\n",
      "    print iz"
     ],
     "language": "python",
     "metadata": {},
     "outputs": []
    },
    {
     "cell_type": "code",
     "collapsed": false,
     "input": [
      "for urz in urzlis:\n",
      "    if '.jpg' in urz:\n",
      "        jplis.append(urz)"
     ],
     "language": "python",
     "metadata": {},
     "outputs": []
    },
    {
     "cell_type": "code",
     "collapsed": false,
     "input": [
      "doc = dominate.document(title='artcontroldrawsyou')"
     ],
     "language": "python",
     "metadata": {},
     "outputs": []
    },
    {
     "cell_type": "code",
     "collapsed": false,
     "input": [],
     "language": "python",
     "metadata": {},
     "outputs": []
    },
    {
     "cell_type": "code",
     "collapsed": false,
     "input": [
      "with doc.head:\n",
      "    link(rel='stylesheet', href='style.css')\n",
      "    script(type='text/javascript', src='script.js')\n",
      "\n",
      "with doc:\n",
      "    with div():\n",
      "        attr(cls='header')\n",
      "        #<img src=\"smiley.gif\" alt=\"Smiley face\" height=\"42\" width=\"42\">\n",
      "        h1('artcontroldrawsyou!')\n",
      "        img(scr='logo.gif')\n",
      "        h2('go away artcontrol')\n",
      "        p(strftime(\"%a, %d %b %Y %H:%M:%S +0000\", gmtime()))\n",
      "        a('about', href='http://brobeur.com/artcontroldrawsyou/about')\n",
      "        a('contact', href='http://brobeur.com/artcontroldrawsyou/contact') \n",
      "        a('blog', href='http://brobeur.com/wcmckee.com/wcmckee/output')\n",
      "        \n",
      "    with div(id='authors'):\n",
      "        for tits in titlis:\n",
      "            (tits)\n",
      "            (a(tits, href='https://reddit.com/u/%s' % tits))\n",
      "            \n",
      "    \n",
      "    with div(id='body').add(p()):\n",
      "        for i in jplis:\n",
      "            (img(i.lower(), src='%s' % i))\n",
      "            (a(i.lower(), href='%s' % i))\n",
      "            \n",
      "    with div(id='footer'):\n",
      "        p(a('artcontroldrawsyou is open source', href='https://github.com/wcmckee/wcmckee-notebook'))\n",
      "\n",
      "\n",
      "            \n",
      "\n",
      "print doc"
     ],
     "language": "python",
     "metadata": {},
     "outputs": []
    },
    {
     "cell_type": "code",
     "collapsed": false,
     "input": [
      "ophtml = open('index.html', 'w')"
     ],
     "language": "python",
     "metadata": {},
     "outputs": []
    },
    {
     "cell_type": "code",
     "collapsed": false,
     "input": [
      "ophtml.write(str(doc))"
     ],
     "language": "python",
     "metadata": {},
     "outputs": []
    },
    {
     "cell_type": "code",
     "collapsed": false,
     "input": [
      "ophtml.close()"
     ],
     "language": "python",
     "metadata": {},
     "outputs": []
    },
    {
     "cell_type": "code",
     "collapsed": false,
     "input": [
      "'''def fcopy(src,dest):\n",
      "    \"\"\"\n",
      "    Copy file from source to dest.  dest can include an absolute or relative path\n",
      "    If the path doesn't exist, it gets created\n",
      "    \"\"\"\n",
      "    dest_dir = os.path.dirname(dest)\n",
      "    try:\n",
      "        os.makedirs(dest_dir)\n",
      "    except os.error as e:\n",
      "        pass #Assume it exists.  This could fail if you don't have permissions, etc...\n",
      "    shutil.copy(src,dest)'''"
     ],
     "language": "python",
     "metadata": {},
     "outputs": []
    },
    {
     "cell_type": "markdown",
     "metadata": {},
     "source": [
      "cycle though folder and create file in each folder"
     ]
    },
    {
     "cell_type": "code",
     "collapsed": false,
     "input": [
      "#fcopy('/var/www/artcontroldrawsyou/home/')"
     ],
     "language": "python",
     "metadata": {},
     "outputs": []
    },
    {
     "cell_type": "code",
     "collapsed": false,
     "input": [
      "for usz in titlis:\n",
      "    print usz\n",
      "    #os.mkdir(usz)\n",
      "    #os.chdir('/var/www/artcontroldrawsyou/home/' + usz)"
     ],
     "language": "python",
     "metadata": {},
     "outputs": []
    },
    {
     "cell_type": "code",
     "collapsed": false,
     "input": [
      "'''for filz in titlis:\n",
      "    print filz\n",
      "    \n",
      "    \n",
      "    #os.chdir('/var/www/artcontroldrawsyou/home' + usz)\n",
      "    bulkc = dominate.document(title=filz)\n",
      "    with bulkc.head:\n",
      "        link(rel='stylesheet', href='style.css')\n",
      "        script(type='text/javascript', src='script.js')\n",
      "\n",
      "    with bulkc:\n",
      "        with div():\n",
      "            attr(cls='header')\n",
      "            #<img src=\"smiley.gif\" alt=\"Smiley face\" height=\"42\" width=\"42\">\n",
      "            h1(filz)\n",
      "            img(scr='http://artcontrol.me/wp-content/uploads/2014/08/daenuhlyn-headcoloe.png')\n",
      "            h2('go away artcontrol')\n",
      "        \n",
      "        with div(id='photographs'):\n",
      "            for tits in titlis:\n",
      "                h3(tits)\n",
      "                (a(tits, href='%s' % tits.lower))\n",
      "            \n",
      "    \n",
      "        with div(id='body').add(p()):\n",
      "            for i in jplis:\n",
      "                li(img(i.lower(), src='%s' % i))\n",
      "                li(a(i.lower(), href='%s' % i))\n",
      "                \n",
      "        with div(id='footer'):\n",
      "            p(a('artcontroldrawsyou is opensource', href='https://github.com/wcmckee/wcmckee-notebook'))\n",
      "        \n",
      "        with open('/var/www/artcontroldrawsyou/home/' + filz + '/index.html', 'w') as fout:\n",
      "            fout.write(str(bulkc))\n",
      "            \n",
      "    #with open('index.html', 'w') as indx:\n",
      "       #bulkc = indx.write() \n",
      "        #print bulkc'''"
     ],
     "language": "python",
     "metadata": {},
     "outputs": []
    },
    {
     "cell_type": "code",
     "collapsed": false,
     "input": [
      "ransubz = random.randint(0,24)"
     ],
     "language": "python",
     "metadata": {},
     "outputs": []
    },
    {
     "cell_type": "code",
     "collapsed": false,
     "input": [
      "print ransubz"
     ],
     "language": "python",
     "metadata": {},
     "outputs": []
    },
    {
     "cell_type": "code",
     "collapsed": false,
     "input": [
      "ransev = rdnew[ransubz]"
     ],
     "language": "python",
     "metadata": {},
     "outputs": []
    },
    {
     "cell_type": "code",
     "collapsed": false,
     "input": [
      "rgdautoz = str(ransev.author)\n"
     ],
     "language": "python",
     "metadata": {},
     "outputs": []
    },
    {
     "cell_type": "code",
     "collapsed": false,
     "input": [
      "rgdsubred = str(ransev.subreddit)"
     ],
     "language": "python",
     "metadata": {},
     "outputs": []
    },
    {
     "cell_type": "code",
     "collapsed": false,
     "input": [
      "sutit = ('[' + rgdsubred + ']')"
     ],
     "language": "python",
     "metadata": {},
     "outputs": []
    },
    {
     "cell_type": "code",
     "collapsed": false,
     "input": [
      "sutit"
     ],
     "language": "python",
     "metadata": {},
     "outputs": []
    },
    {
     "cell_type": "code",
     "collapsed": false,
     "input": [
      "rgdaqwew = ('xpost[RGD]' + rgdautoz)"
     ],
     "language": "python",
     "metadata": {},
     "outputs": []
    },
    {
     "cell_type": "code",
     "collapsed": false,
     "input": [
      "rgdaturo = str(ransev.url)"
     ],
     "language": "python",
     "metadata": {},
     "outputs": []
    },
    {
     "cell_type": "code",
     "collapsed": false,
     "input": [
      "rgdatit = str(ransev.title)"
     ],
     "language": "python",
     "metadata": {},
     "outputs": []
    },
    {
     "cell_type": "code",
     "collapsed": false,
     "input": [
      "rgdatit"
     ],
     "language": "python",
     "metadata": {},
     "outputs": []
    },
    {
     "cell_type": "code",
     "collapsed": false,
     "input": [
      "#rd.get_top"
     ],
     "language": "python",
     "metadata": {},
     "outputs": []
    },
    {
     "cell_type": "code",
     "collapsed": false,
     "input": [
      "linkdict = {}"
     ],
     "language": "python",
     "metadata": {},
     "outputs": []
    },
    {
     "cell_type": "code",
     "collapsed": false,
     "input": [
      "ady = r.get_subreddit('artcontroldrawsyou')"
     ],
     "language": "python",
     "metadata": {},
     "outputs": []
    },
    {
     "cell_type": "code",
     "collapsed": false,
     "input": [
      "comrgd =  rgdatit + ' ' + rgdaturo"
     ],
     "language": "python",
     "metadata": {},
     "outputs": []
    },
    {
     "cell_type": "code",
     "collapsed": false,
     "input": [
      "loctime = time.localtime()"
     ],
     "language": "python",
     "metadata": {},
     "outputs": []
    },
    {
     "cell_type": "code",
     "collapsed": false,
     "input": [
      "loctime.tm_mday"
     ],
     "language": "python",
     "metadata": {},
     "outputs": []
    },
    {
     "cell_type": "code",
     "collapsed": false,
     "input": [
      "loctime.tm_mon"
     ],
     "language": "python",
     "metadata": {},
     "outputs": []
    },
    {
     "cell_type": "code",
     "collapsed": false,
     "input": [
      "thedat = (str(loctime.tm_mday) + '/' + str(loctime.tm_mon))"
     ],
     "language": "python",
     "metadata": {},
     "outputs": []
    },
    {
     "cell_type": "code",
     "collapsed": false,
     "input": [
      "thedat"
     ],
     "language": "python",
     "metadata": {},
     "outputs": []
    },
    {
     "cell_type": "code",
     "collapsed": false,
     "input": [
      "mixtut = (thedat + sutit + rgdautoz)"
     ],
     "language": "python",
     "metadata": {},
     "outputs": []
    },
    {
     "cell_type": "code",
     "collapsed": false,
     "input": [
      "loctime"
     ],
     "language": "python",
     "metadata": {},
     "outputs": []
    },
    {
     "cell_type": "code",
     "collapsed": false,
     "input": [
      "#ady.submit(mixtut , (rgdaqwew, comrgd))"
     ],
     "language": "python",
     "metadata": {},
     "outputs": []
    },
    {
     "cell_type": "code",
     "collapsed": false,
     "input": [
      "'''for newa in rdnew:\n",
      "    #rint newa.url\n",
      "    print len(newa)\n",
      "    htmstr = (str(newa.title) + '<a href=\"' + \n",
      "                 str(newa.url) + \n",
      "                 '\"><img class=\"aligncenter size-large wp-image-5723\" alt=\"' +\n",
      "                 str(newa.author) +\n",
      "                 '\" src=\"' + \n",
      "                 str(newa.url) + \n",
      "                 '\" /></a>')\n",
      "    #ophtml.write(htmstr)\n",
      "    #ady.submit(('[RGD]' + newa.author), newa.url)\n",
      "    print newa.author\n",
      "    #print newa.media\n",
      "    ophtml.write(htmstr)\n",
      "    print newa.selftext\n",
      "    print newa.url\n",
      "    print newa.num_comments\n",
      "    \n",
      "    linkdict.update({str(newa.author): str(newa.url)})\n",
      "'''\n"
     ],
     "language": "python",
     "metadata": {},
     "outputs": []
    },
    {
     "cell_type": "code",
     "collapsed": false,
     "input": [
      "#print str(newa.title)"
     ],
     "language": "python",
     "metadata": {},
     "outputs": []
    },
    {
     "cell_type": "code",
     "collapsed": false,
     "input": [
      "import json"
     ],
     "language": "python",
     "metadata": {},
     "outputs": []
    },
    {
     "cell_type": "code",
     "collapsed": false,
     "input": [
      "newzjson = json.dumps(linkdict)"
     ],
     "language": "python",
     "metadata": {},
     "outputs": []
    },
    {
     "cell_type": "code",
     "collapsed": false,
     "input": [
      "#newzjson"
     ],
     "language": "python",
     "metadata": {},
     "outputs": []
    },
    {
     "cell_type": "code",
     "collapsed": false,
     "input": [],
     "language": "python",
     "metadata": {},
     "outputs": []
    },
    {
     "cell_type": "code",
     "collapsed": false,
     "input": [
      "rmine = r.get_redditor('itwillbemine')\n"
     ],
     "language": "python",
     "metadata": {},
     "outputs": []
    },
    {
     "cell_type": "code",
     "collapsed": false,
     "input": [
      "#opest = open('userurl.json', 'r')\n",
      "#opest.read()\n",
      "#opest.close()"
     ],
     "language": "python",
     "metadata": {},
     "outputs": []
    },
    {
     "cell_type": "code",
     "collapsed": false,
     "input": [
      "mincom = rmine.get_comments()"
     ],
     "language": "python",
     "metadata": {},
     "outputs": []
    },
    {
     "cell_type": "code",
     "collapsed": false,
     "input": [
      "#print mincom"
     ],
     "language": "python",
     "metadata": {},
     "outputs": []
    },
    {
     "cell_type": "code",
     "collapsed": false,
     "input": [
      "minels = []"
     ],
     "language": "python",
     "metadata": {},
     "outputs": []
    },
    {
     "cell_type": "code",
     "collapsed": false,
     "input": [
      "\n",
      "dausr = {}"
     ],
     "language": "python",
     "metadata": {},
     "outputs": []
    },
    {
     "cell_type": "code",
     "collapsed": false,
     "input": [
      "for newa in rdnew:\n",
      "    #rint newa.url\n",
      "    #print newa.author\n",
      "    linkdict.update({str(newa.author): str(newa.url)})"
     ],
     "language": "python",
     "metadata": {},
     "outputs": []
    },
    {
     "cell_type": "code",
     "collapsed": false,
     "input": [
      "for con in mincom:\n",
      "    #print con.body\n",
      "    minels.append(con)\n",
      "    dausr.update({str(con.id): str(con.body)})"
     ],
     "language": "python",
     "metadata": {},
     "outputs": []
    },
    {
     "cell_type": "code",
     "collapsed": false,
     "input": [
      "itwillbemine = dominate.document(title='itwillbemine')"
     ],
     "language": "python",
     "metadata": {},
     "outputs": []
    },
    {
     "cell_type": "code",
     "collapsed": false,
     "input": [
      "with itwillbemine.head:\n",
      "    link(rel='stylesheet', href='style.css')\n",
      "    script(type='text/javascript', src='script.js')\n",
      "\n",
      "with itwillbemine:\n",
      "    with div():\n",
      "        attr(cls='header')\n",
      "        #<img src=\"smiley.gif\" alt=\"Smiley face\" height=\"42\" width=\"42\">\n",
      "        h1('itwillbemine')\n",
      "        img(scr='logo.gif')\n",
      "        h2('go away artcontrol')\n",
      "        p(strftime(\"%a, %d %b %Y %H:%M:%S +0000\", gmtime()))\n",
      "        a('about', href='http://brobeur.com/artcontroldrawsyou/about')\n",
      "        a('contact', href='http://brobeur.com/artcontroldrawsyou/contact') \n",
      "        a('blog', href='http://brobeur.com/artcontroldrawsyou/wcmckee.com/wcmckee/output')\n",
      "    \n",
      "    with div():\n",
      "        attr(cls='header')\n",
      "        #<img src=\"smiley.gif\" alt=\"Smiley face\" height=\"42\" width=\"42\">\n",
      "        h1('itwillbemine')\n",
      "        p(img(scr='http://brobeur.com/artcontroldrawsyou/logo.gif'))\n",
      "        #for mine in minels:\n",
      "            #h1(mine.author_flair_text())\n",
      "            #p(mine.body)\n",
      "        \n",
      "    with div(id='author'):\n",
      "        for tits in titlis:\n",
      "            h3(tits)\n",
      "    \n",
      "    with div(id='body').add(p()):\n",
      "        for mine in minels:\n",
      "            #h1(mine.created)\n",
      "            p(mine.body)\n",
      "            \n",
      "\n",
      "\n",
      "\n",
      "print itwillbemine"
     ],
     "language": "python",
     "metadata": {},
     "outputs": []
    },
    {
     "cell_type": "code",
     "collapsed": false,
     "input": [
      "savmine = open('reddit.html', 'w')\n",
      "savmine.write(str(itwillbemine))\n",
      "savmine.close()"
     ],
     "language": "python",
     "metadata": {},
     "outputs": []
    },
    {
     "cell_type": "code",
     "collapsed": false,
     "input": [
      "noizjson = json.dumps(dausr)"
     ],
     "language": "python",
     "metadata": {},
     "outputs": []
    },
    {
     "cell_type": "code",
     "collapsed": false,
     "input": [
      "newposts = open('userurl.json', 'a')\n",
      "newposts.write(newzjson)\n",
      "print ('file userurl.json updated')\n",
      "newcomments = open('idcomt.json', 'a')\n",
      "newcomments.write(noizjson)\n",
      "print ('user comments updated')\n",
      "newposts.close()\n",
      "newcomments.close()"
     ],
     "language": "python",
     "metadata": {},
     "outputs": []
    },
    {
     "cell_type": "code",
     "collapsed": false,
     "input": [
      "rdusr = str(con.author)\n"
     ],
     "language": "python",
     "metadata": {},
     "outputs": []
    },
    {
     "cell_type": "code",
     "collapsed": false,
     "input": [
      "minelsz = []"
     ],
     "language": "python",
     "metadata": {},
     "outputs": []
    },
    {
     "cell_type": "code",
     "collapsed": false,
     "input": [
      "#for mina in minels:\n",
      "    #print mina.body\n",
      "   # minelsz.append(mina.body)"
     ],
     "language": "python",
     "metadata": {},
     "outputs": []
    },
    {
     "cell_type": "code",
     "collapsed": false,
     "input": [
      "#minelsz"
     ],
     "language": "python",
     "metadata": {},
     "outputs": []
    },
    {
     "cell_type": "code",
     "collapsed": false,
     "input": [
      "#mina.body"
     ],
     "language": "python",
     "metadata": {},
     "outputs": []
    },
    {
     "cell_type": "code",
     "collapsed": false,
     "input": [
      "import feedparser"
     ],
     "language": "python",
     "metadata": {},
     "outputs": []
    },
    {
     "cell_type": "code",
     "collapsed": false,
     "input": [
      "mcs = feedparser.parse('http://mcsteffen.tumblr.com/rss')"
     ],
     "language": "python",
     "metadata": {},
     "outputs": []
    },
    {
     "cell_type": "code",
     "collapsed": false,
     "input": [
      "emcs = mcs['entries']"
     ],
     "language": "python",
     "metadata": {},
     "outputs": []
    },
    {
     "cell_type": "code",
     "collapsed": false,
     "input": [
      "for em in emcs:\n",
      "    print em"
     ],
     "language": "python",
     "metadata": {},
     "outputs": []
    },
    {
     "cell_type": "code",
     "collapsed": false,
     "input": [
      "tumlis = []"
     ],
     "language": "python",
     "metadata": {},
     "outputs": []
    },
    {
     "cell_type": "code",
     "collapsed": false,
     "input": [
      "for em in emcs:\n",
      "    tumlis.append((em['summary_detail']['value']))\n",
      "    "
     ],
     "language": "python",
     "metadata": {},
     "outputs": []
    },
    {
     "cell_type": "code",
     "collapsed": false,
     "input": [
      "tumlis"
     ],
     "language": "python",
     "metadata": {},
     "outputs": []
    },
    {
     "cell_type": "code",
     "collapsed": false,
     "input": [
      "contactpage = dominate.document(title='contact')"
     ],
     "language": "python",
     "metadata": {},
     "outputs": []
    },
    {
     "cell_type": "code",
     "collapsed": false,
     "input": [
      "with contactpage.head:\n",
      "    link(rel='stylesheet', href='style.css')\n",
      "    script(type='text/javascript', src='script.js')\n",
      "\n",
      "with contactpage:\n",
      "    with div():\n",
      "        attr(cls='top')\n",
      "        #<img src=\"smiley.gif\" alt=\"Smiley face\" height=\"42\" width=\"42\">\n",
      "        h1('artcontroldrawsyou!')\n",
      "        img(scr='logo.gif')\n",
      "        h2('go away artcontrol')\n",
      "        p(strftime(\"%a, %d %b %Y %H:%M:%S +0000\", gmtime()))\n",
      "        a('about', href='http://brobeur.com/artcontroldrawsyou/about')\n",
      "        a('contact', href='http://brobeur.com/artcontroldrawsyou/contact') \n",
      "        a('blog', href='http://brobeur.com/artcontroldrawsyou/wcmckee.com/wcmckee/output')\n",
      "\n",
      "    with div():\n",
      "        attr(cls='header')\n",
      "        #<img src=\"smiley.gif\" alt=\"Smiley face\" height=\"42\" width=\"42\">\n",
      "        h1('contact')\n",
      "        p('email: will@artcontrol.me twitter: art_control')\n",
      "        p('Recent comments from itwillbemine:')\n",
      "        #for mine in minels:\n",
      "            #h1(mine.author_flair_text())\n",
      "            #p(mine.body)\n",
      "        \n",
      " #   with div(id='author'):\n",
      "  #     for tum in tumlis:\n",
      "   #         p(tum)\n",
      "    \n",
      "    \n",
      "    with div(id='body'):\n",
      "        for mine in minels:\n",
      "            #h1(mine.created)\n",
      "            li(mine.body)\n",
      "            \n",
      "\n",
      "\n",
      "\n",
      "\n",
      "print contactpage"
     ],
     "language": "python",
     "metadata": {},
     "outputs": []
    },
    {
     "cell_type": "code",
     "collapsed": false,
     "input": [
      "os.chdir('contact')"
     ],
     "language": "python",
     "metadata": {},
     "outputs": []
    },
    {
     "cell_type": "code",
     "collapsed": false,
     "input": [
      "savcon = open('index.html', 'w')\n",
      "savcon.write(str(contactpage))\n",
      "savcon.close()"
     ],
     "language": "python",
     "metadata": {},
     "outputs": []
    },
    {
     "cell_type": "code",
     "collapsed": false,
     "input": [
      "dirdir = os.chdir('/var/www/artcontroldrawsyou')"
     ],
     "language": "python",
     "metadata": {},
     "outputs": []
    },
    {
     "cell_type": "code",
     "collapsed": false,
     "input": [
      "dirdir"
     ],
     "language": "python",
     "metadata": {},
     "outputs": []
    },
    {
     "cell_type": "code",
     "collapsed": false,
     "input": [
      "aboutpage = dominate.document(title='about')\n",
      "with aboutpage.head:\n",
      "    link(rel='stylesheet', href='style.css')\n",
      "    script(type='text/javascript', src='script.js')\n",
      "\n",
      "with aboutpage:\n",
      "    with div():\n",
      "        attr(cls='header')\n",
      "        #<img src=\"smiley.gif\" alt=\"Smiley face\" height=\"42\" width=\"42\">\n",
      "        h1('artcontroldrawsyou!')\n",
      "        img(scr='logo.gif')\n",
      "        h2('go away artcontrol')\n",
      "        p(strftime(\"%a, %d %b %Y %H:%M:%S +0000\", gmtime()))\n",
      "        a('about', href='https://brobeur.com/artcontroldrawsyou/about')\n",
      "        a('contact', href='http://brobeur.com/artcontroldrawsyou/contact') \n",
      "        a('blog', href='http://brobeur.com/artcontroldrawsyou/wcmckee.com/wcmckee/output')\n",
      "    with div():\n",
      "        attr(cls='header')\n",
      "        #<img src=\"smiley.gif\" alt=\"Smiley face\" height=\"42\" width=\"42\">\n",
      "        h1('about')\n",
      "        p('artcontroldrawsyou is a website that takes RedditGetsDrawn data and posts it here.')\n",
      "        p('artcontrol is not allowed to submit artwork to redditgetsdrawn so this was created')\n",
      "        #for mine in minels:\n",
      "            #h1(mine.author_flair_text())\n",
      "            #p(mine.body)\n",
      "        \n",
      "    '''with div(id='author'):\n",
      "        for tits in titlis:\n",
      "            h3(tits)\n",
      "    \n",
      "    with div(id='body').add(p()):\n",
      "        for mine in minels:\n",
      "            #h1(mine.created)\n",
      "            p(mine.body)\n",
      "            \n",
      "\n",
      "\n",
      "\n",
      "'''\n",
      "print aboutpage"
     ],
     "language": "python",
     "metadata": {},
     "outputs": []
    },
    {
     "cell_type": "code",
     "collapsed": false,
     "input": [
      "os.chdir('about')"
     ],
     "language": "python",
     "metadata": {},
     "outputs": []
    },
    {
     "cell_type": "code",
     "collapsed": false,
     "input": [
      "aboucr = open('index.html', 'w')\n",
      "aboucr.write(str(aboutpage))\n",
      "aboucr.close()"
     ],
     "language": "python",
     "metadata": {},
     "outputs": []
    },
    {
     "cell_type": "code",
     "collapsed": false,
     "input": [
      "os.chdir('/var/www/artcontroldrawsyou/')"
     ],
     "language": "python",
     "metadata": {},
     "outputs": []
    }
   ],
   "metadata": {}
  }
 ]
}