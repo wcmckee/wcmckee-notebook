{
 "metadata": {
  "name": "",
  "signature": "sha256:ec0a51360473d46b5607295be6ba75f881fac5cd4a3f24aee9bad8923321324d"
 },
 "nbformat": 3,
 "nbformat_minor": 0,
 "worksheets": [
  {
   "cells": [
    {
     "cell_type": "code",
     "collapsed": false,
     "input": [
      "import os\n",
      "import random\n",
      "import requests\n",
      "import re\n",
      "import json\n",
      "import praw\n",
      "import dominate\n",
      "from dominate.tags import *"
     ],
     "language": "python",
     "metadata": {},
     "outputs": [],
     "prompt_number": 101
    },
    {
     "cell_type": "code",
     "collapsed": false,
     "input": [
      "os.chdir('/home/wcmckee/.rgd')"
     ],
     "language": "python",
     "metadata": {},
     "outputs": [],
     "prompt_number": 38
    },
    {
     "cell_type": "code",
     "collapsed": false,
     "input": [
      "r = praw.Reddit(user_agent='rgdsnatch')"
     ],
     "language": "python",
     "metadata": {},
     "outputs": [],
     "prompt_number": 39
    },
    {
     "cell_type": "code",
     "collapsed": false,
     "input": [
      "r.login('artcontrol', 'zipit123')"
     ],
     "language": "python",
     "metadata": {},
     "outputs": [],
     "prompt_number": 40
    },
    {
     "cell_type": "code",
     "collapsed": false,
     "input": [
      "usrd = r.get_my_subreddits()"
     ],
     "language": "python",
     "metadata": {},
     "outputs": [],
     "prompt_number": 41
    },
    {
     "cell_type": "code",
     "collapsed": false,
     "input": [
      "suls = []"
     ],
     "language": "python",
     "metadata": {},
     "outputs": [],
     "prompt_number": 42
    },
    {
     "cell_type": "code",
     "collapsed": false,
     "input": [
      "for subs in usrd:\n",
      "    print subs\n",
      "    suls.append(subs)"
     ],
     "language": "python",
     "metadata": {},
     "outputs": [
      {
       "output_type": "stream",
       "stream": "stdout",
       "text": [
        "todayilearned\n",
        "blog\n",
        "science\n",
        "IAmA\n",
        "videos\n",
        "technology\n",
        "bestof\n",
        "askscience\n",
        "books\n",
        "television\n",
        "food\n",
        "photoshopbattles\n",
        "GetMotivated\n",
        "listentothis\n",
        "Documentaries\n",
        "Art\n",
        "trees\n",
        "programming\n",
        "Android\n",
        "gameofthrones\n",
        "Minecraft\n",
        "comics\n",
        "skyrim\n",
        "buildapc\n",
        "breakingbad\n"
       ]
      }
     ],
     "prompt_number": 43
    },
    {
     "cell_type": "code",
     "collapsed": false,
     "input": [
      "suls"
     ],
     "language": "python",
     "metadata": {},
     "outputs": [
      {
       "metadata": {},
       "output_type": "pyout",
       "prompt_number": 44,
       "text": [
        "[Subreddit(display_name='todayilearned'),\n",
        " Subreddit(display_name='blog'),\n",
        " Subreddit(display_name='science'),\n",
        " Subreddit(display_name='IAmA'),\n",
        " Subreddit(display_name='videos'),\n",
        " Subreddit(display_name='technology'),\n",
        " Subreddit(display_name='bestof'),\n",
        " Subreddit(display_name='askscience'),\n",
        " Subreddit(display_name='books'),\n",
        " Subreddit(display_name='television'),\n",
        " Subreddit(display_name='food'),\n",
        " Subreddit(display_name='photoshopbattles'),\n",
        " Subreddit(display_name='GetMotivated'),\n",
        " Subreddit(display_name='listentothis'),\n",
        " Subreddit(display_name='Documentaries'),\n",
        " Subreddit(display_name='Art'),\n",
        " Subreddit(display_name='trees'),\n",
        " Subreddit(display_name='programming'),\n",
        " Subreddit(display_name='Android'),\n",
        " Subreddit(display_name='gameofthrones'),\n",
        " Subreddit(display_name='Minecraft'),\n",
        " Subreddit(display_name='comics'),\n",
        " Subreddit(display_name='skyrim'),\n",
        " Subreddit(display_name='buildapc'),\n",
        " Subreddit(display_name='breakingbad')]"
       ]
      }
     ],
     "prompt_number": 44
    },
    {
     "cell_type": "code",
     "collapsed": false,
     "input": [
      "lesuls = len(suls)\n",
      "\n",
      "ransuz = random.randint(0, lesuls)\n",
      "\n",
      "thesubraz = suls[ransuz]"
     ],
     "language": "python",
     "metadata": {},
     "outputs": [],
     "prompt_number": 45
    },
    {
     "cell_type": "code",
     "collapsed": false,
     "input": [
      "suls"
     ],
     "language": "python",
     "metadata": {},
     "outputs": [
      {
       "metadata": {},
       "output_type": "pyout",
       "prompt_number": 15,
       "text": [
        "[Subreddit(display_name='todayilearned'),\n",
        " Subreddit(display_name='blog'),\n",
        " Subreddit(display_name='science'),\n",
        " Subreddit(display_name='IAmA'),\n",
        " Subreddit(display_name='videos'),\n",
        " Subreddit(display_name='technology'),\n",
        " Subreddit(display_name='bestof'),\n",
        " Subreddit(display_name='askscience'),\n",
        " Subreddit(display_name='books'),\n",
        " Subreddit(display_name='television'),\n",
        " Subreddit(display_name='food'),\n",
        " Subreddit(display_name='photoshopbattles'),\n",
        " Subreddit(display_name='GetMotivated'),\n",
        " Subreddit(display_name='listentothis'),\n",
        " Subreddit(display_name='Documentaries'),\n",
        " Subreddit(display_name='Art'),\n",
        " Subreddit(display_name='trees'),\n",
        " Subreddit(display_name='programming'),\n",
        " Subreddit(display_name='Android'),\n",
        " Subreddit(display_name='gameofthrones'),\n",
        " Subreddit(display_name='Minecraft'),\n",
        " Subreddit(display_name='comics'),\n",
        " Subreddit(display_name='skyrim'),\n",
        " Subreddit(display_name='buildapc'),\n",
        " Subreddit(display_name='breakingbad')]"
       ]
      }
     ],
     "prompt_number": 15
    },
    {
     "cell_type": "code",
     "collapsed": false,
     "input": [
      "print thesubraz"
     ],
     "language": "python",
     "metadata": {},
     "outputs": [
      {
       "output_type": "stream",
       "stream": "stdout",
       "text": [
        "todayilearned\n"
       ]
      }
     ],
     "prompt_number": 46
    },
    {
     "cell_type": "code",
     "collapsed": false,
     "input": [
      "rd = r.get_subreddit('redditgetsdrawn')"
     ],
     "language": "python",
     "metadata": {},
     "outputs": [],
     "prompt_number": 47
    },
    {
     "cell_type": "code",
     "collapsed": false,
     "input": [
      "rdnewz = rd.get_new()"
     ],
     "language": "python",
     "metadata": {},
     "outputs": [],
     "prompt_number": 48
    },
    {
     "cell_type": "code",
     "collapsed": false,
     "input": [
      "rdnew = []"
     ],
     "language": "python",
     "metadata": {},
     "outputs": [],
     "prompt_number": 49
    },
    {
     "cell_type": "code",
     "collapsed": false,
     "input": [
      "rdnew"
     ],
     "language": "python",
     "metadata": {},
     "outputs": [
      {
       "metadata": {},
       "output_type": "pyout",
       "prompt_number": 50,
       "text": [
        "[]"
       ]
      }
     ],
     "prompt_number": 50
    },
    {
     "cell_type": "code",
     "collapsed": false,
     "input": [
      "for uz in rdnewz:\n",
      "    #print uz\n",
      "    rdnew.append(uz)"
     ],
     "language": "python",
     "metadata": {},
     "outputs": [],
     "prompt_number": 51
    },
    {
     "cell_type": "code",
     "collapsed": false,
     "input": [
      "urzlis = []"
     ],
     "language": "python",
     "metadata": {},
     "outputs": [],
     "prompt_number": 104
    },
    {
     "cell_type": "code",
     "collapsed": false,
     "input": [
      "for rdn in rdnew:\n",
      "    print rdn.url\n",
      "    urzlis.append(rdn.url)\n",
      "    "
     ],
     "language": "python",
     "metadata": {},
     "outputs": [
      {
       "output_type": "stream",
       "stream": "stdout",
       "text": [
        "http://i.imgur.com/iebMRTk.jpg\n",
        "http://i.imgur.com/R3rfJnK.gif\n",
        "http://i.imgur.com/PbybhGc.jpg\n",
        "http://i.imgur.com/40RWPan.jpg?1?1014\n",
        "http://i.imgur.com/M9S29ME.jpg?1\n",
        "http://i.imgur.com/QmLNayj.jpg\n",
        "http://i.imgur.com/vb9FmGc.jpg\n",
        "http://i.imgur.com/6FeT6SU.jpg\n",
        "http://i.imgur.com/HF0zKkO.jpg\n",
        "http://imgur.com/aFo6KTN\n",
        "http://imgur.com/I9UfiGU\n",
        "http://i.imgur.com/xQW8c2H.jpg\n",
        "http://i.imgur.com/NurXeuP.jpg\n",
        "http://i.imgur.com/20BHaXN.jpg\n",
        "http://imgur.com/a/ssBsp\n",
        "http://imgur.com/asiLliH\n",
        "http://imgur.com/j0e5ifd\n",
        "http://i.imgur.com/GI0tcjy.jpg?1\n",
        "http://imgur.com/MZ6UaaI\n",
        "http://i.imgur.com/dOd8cuv.jpg\n",
        "http://i.imgur.com/Gwq1pea.jpg\n",
        "http://i.imgur.com/As4jmJu.jpg\n",
        "http://i.imgur.com/J5tWv4f.jpg\n",
        "http://imgur.com/rBxWouz\n",
        "http://i.imgur.com/aKvLaSp.jpg\n"
       ]
      }
     ],
     "prompt_number": 106
    },
    {
     "cell_type": "code",
     "collapsed": false,
     "input": [
      "jplis = []"
     ],
     "language": "python",
     "metadata": {},
     "outputs": [],
     "prompt_number": 134
    },
    {
     "cell_type": "code",
     "collapsed": false,
     "input": [
      "for urz in urzlis:\n",
      "    if '.jpg' in urz:\n",
      "        jplis.append(urz)"
     ],
     "language": "python",
     "metadata": {},
     "outputs": [],
     "prompt_number": 135
    },
    {
     "cell_type": "code",
     "collapsed": false,
     "input": [
      "doc = dominate.document(title='artcontroldrawsyou')"
     ],
     "language": "python",
     "metadata": {},
     "outputs": [],
     "prompt_number": 136
    },
    {
     "cell_type": "code",
     "collapsed": false,
     "input": [
      "with doc.head:\n",
      "    link(rel='))"
     ],
     "language": "python",
     "metadata": {},
     "outputs": [
      {
       "output_type": "stream",
       "stream": "stdout",
       "text": [
        "<!DOCTYPE html>\n",
        "<html>\n",
        "  <head>\n",
        "    <title>artcontroldrawsyou</title>\n",
        "    <link href=\"style.css\" rel=\"stylesheet\">\n",
        "    <script src=\"script.js\" type=\"text/javascript\"></script>\n",
        "  </head>\n",
        "  <body>\n",
        "    <div id=\"header\">\n",
        "      <ol>\n",
        "        <li>\n",
        "          <img href=\"http://i.imgur.com/iebMRTk.jpg\">\n",
        "        </li>\n",
        "        <li>\n",
        "          <img href=\"http://i.imgur.com/PbybhGc.jpg\">\n",
        "        </li>\n",
        "        <li>\n",
        "          <img href=\"http://i.imgur.com/40RWPan.jpg?1?1014\">\n",
        "        </li>\n",
        "        <li>\n",
        "          <img href=\"http://i.imgur.com/M9S29ME.jpg?1\">\n",
        "        </li>\n",
        "        <li>\n",
        "          <img href=\"http://i.imgur.com/QmLNayj.jpg\">\n",
        "        </li>\n",
        "        <li>\n",
        "          <img href=\"http://i.imgur.com/vb9FmGc.jpg\">\n",
        "        </li>\n",
        "        <li>\n",
        "          <img href=\"http://i.imgur.com/6FeT6SU.jpg\">\n",
        "        </li>\n",
        "        <li>\n",
        "          <img href=\"http://i.imgur.com/HF0zKkO.jpg\">\n",
        "        </li>\n",
        "        <li>\n",
        "          <img href=\"http://i.imgur.com/xQW8c2H.jpg\">\n",
        "        </li>\n",
        "        <li>\n",
        "          <img href=\"http://i.imgur.com/NurXeuP.jpg\">\n",
        "        </li>\n",
        "        <li>\n",
        "          <img href=\"http://i.imgur.com/20BHaXN.jpg\">\n",
        "        </li>\n",
        "        <li>\n",
        "          <img href=\"http://i.imgur.com/GI0tcjy.jpg?1\">\n",
        "        </li>\n",
        "        <li>\n",
        "          <img href=\"http://i.imgur.com/dOd8cuv.jpg\">\n",
        "        </li>\n",
        "        <li>\n",
        "          <img href=\"http://i.imgur.com/Gwq1pea.jpg\">\n",
        "        </li>\n",
        "        <li>\n",
        "          <img href=\"http://i.imgur.com/As4jmJu.jpg\">\n",
        "        </li>\n",
        "        <li>\n",
        "          <img href=\"http://i.imgur.com/J5tWv4f.jpg\">\n",
        "        </li>\n",
        "        <li>\n",
        "          <img href=\"http://i.imgur.com/aKvLaSp.jpg\">\n",
        "        </li>\n",
        "      </ol>\n",
        "    </div>\n",
        "    <div class=\"body\">\n",
        "      <p>Lorem ipsum..</p>\n",
        "    </div>\n",
        "  </body>\n",
        "</html>\n"
       ]
      }
     ],
     "prompt_number": 137
    },
    {
     "cell_type": "code",
     "collapsed": false,
     "input": [
      "ophtml = open('index.html', 'w')"
     ],
     "language": "python",
     "metadata": {},
     "outputs": [],
     "prompt_number": 152
    },
    {
     "cell_type": "code",
     "collapsed": false,
     "input": [
      "ophtml.write(str(doc))"
     ],
     "language": "python",
     "metadata": {},
     "outputs": [],
     "prompt_number": 153
    },
    {
     "cell_type": "code",
     "collapsed": false,
     "input": [
      "ophtml.close()"
     ],
     "language": "python",
     "metadata": {},
     "outputs": [],
     "prompt_number": 154
    },
    {
     "cell_type": "code",
     "collapsed": false,
     "input": [
      "cat index.html"
     ],
     "language": "python",
     "metadata": {},
     "outputs": [
      {
       "output_type": "stream",
       "stream": "stdout",
       "text": [
        "<!DOCTYPE html>\r\n",
        "<html>\r\n",
        "  <head>\r\n",
        "    <title>artcontroldrawsyou</title>\r\n",
        "    <link href=\"style.css\" rel=\"stylesheet\">\r\n",
        "    <script src=\"script.js\" type=\"text/javascript\"></script>\r\n",
        "  </head>\r\n",
        "  <body>\r\n",
        "    <div id=\"header\">\r\n",
        "      <ol>\r\n",
        "        <li>\r\n",
        "          <img href=\"http://i.imgur.com/iebMRTk.jpg\">\r\n",
        "        </li>\r\n",
        "        <li>\r\n",
        "          <img href=\"http://i.imgur.com/PbybhGc.jpg\">\r\n",
        "        </li>\r\n",
        "        <li>\r\n",
        "          <img href=\"http://i.imgur.com/40RWPan.jpg?1?1014\">\r\n",
        "        </li>\r\n",
        "        <li>\r\n",
        "          <img href=\"http://i.imgur.com/M9S29ME.jpg?1\">\r\n",
        "        </li>\r\n",
        "        <li>\r\n",
        "          <img href=\"http://i.imgur.com/QmLNayj.jpg\">\r\n",
        "        </li>\r\n",
        "        <li>\r\n",
        "          <img href=\"http://i.imgur.com/vb9FmGc.jpg\">\r\n",
        "        </li>\r\n",
        "        <li>\r\n",
        "          <img href=\"http://i.imgur.com/6FeT6SU.jpg\">\r\n",
        "        </li>\r\n",
        "        <li>\r\n",
        "          <img href=\"http://i.imgur.com/HF0zKkO.jpg\">\r\n",
        "        </li>\r\n",
        "        <li>\r\n",
        "          <img href=\"http://i.imgur.com/xQW8c2H.jpg\">\r\n",
        "        </li>\r\n",
        "        <li>\r\n",
        "          <img href=\"http://i.imgur.com/NurXeuP.jpg\">\r\n",
        "        </li>\r\n",
        "        <li>\r\n",
        "          <img href=\"http://i.imgur.com/20BHaXN.jpg\">\r\n",
        "        </li>\r\n",
        "        <li>\r\n",
        "          <img href=\"http://i.imgur.com/GI0tcjy.jpg?1\">\r\n",
        "        </li>\r\n",
        "        <li>\r\n",
        "          <img href=\"http://i.imgur.com/dOd8cuv.jpg\">\r\n",
        "        </li>\r\n",
        "        <li>\r\n",
        "          <img href=\"http://i.imgur.com/Gwq1pea.jpg\">\r\n",
        "        </li>\r\n",
        "        <li>\r\n",
        "          <img href=\"http://i.imgur.com/As4jmJu.jpg\">\r\n",
        "        </li>\r\n",
        "        <li>\r\n",
        "          <img href=\"http://i.imgur.com/J5tWv4f.jpg\">\r\n",
        "        </li>\r\n",
        "        <li>\r\n",
        "          <img href=\"http://i.imgur.com/aKvLaSp.jpg\">\r\n",
        "        </li>\r\n",
        "      </ol>\r\n",
        "    </div>\r\n",
        "    <div class=\"body\">\r\n",
        "      <p>Lorem ipsum..</p>\r\n",
        "    </div>\r\n",
        "  </body>\r\n",
        "</html>"
       ]
      }
     ],
     "prompt_number": 156
    },
    {
     "cell_type": "code",
     "collapsed": false,
     "input": [
      "jplis"
     ],
     "language": "python",
     "metadata": {},
     "outputs": [
      {
       "metadata": {},
       "output_type": "pyout",
       "prompt_number": 138,
       "text": [
        "[u'http://i.imgur.com/iebMRTk.jpg',\n",
        " u'http://i.imgur.com/PbybhGc.jpg',\n",
        " u'http://i.imgur.com/40RWPan.jpg?1?1014',\n",
        " u'http://i.imgur.com/M9S29ME.jpg?1',\n",
        " u'http://i.imgur.com/QmLNayj.jpg',\n",
        " u'http://i.imgur.com/vb9FmGc.jpg',\n",
        " u'http://i.imgur.com/6FeT6SU.jpg',\n",
        " u'http://i.imgur.com/HF0zKkO.jpg',\n",
        " u'http://i.imgur.com/xQW8c2H.jpg',\n",
        " u'http://i.imgur.com/NurXeuP.jpg',\n",
        " u'http://i.imgur.com/20BHaXN.jpg',\n",
        " u'http://i.imgur.com/GI0tcjy.jpg?1',\n",
        " u'http://i.imgur.com/dOd8cuv.jpg',\n",
        " u'http://i.imgur.com/Gwq1pea.jpg',\n",
        " u'http://i.imgur.com/As4jmJu.jpg',\n",
        " u'http://i.imgur.com/J5tWv4f.jpg',\n",
        " u'http://i.imgur.com/aKvLaSp.jpg']"
       ]
      }
     ],
     "prompt_number": 138
    },
    {
     "cell_type": "code",
     "collapsed": false,
     "input": [
      "rdnew"
     ],
     "language": "python",
     "metadata": {},
     "outputs": [
      {
       "metadata": {},
       "output_type": "pyout",
       "prompt_number": 52,
       "text": [
        "[<praw.objects.Submission at 0x2291490>,\n",
        " <praw.objects.Submission at 0x2291ad0>,\n",
        " <praw.objects.Submission at 0x2291bd0>,\n",
        " <praw.objects.Submission at 0x2291cd0>,\n",
        " <praw.objects.Submission at 0x2291dd0>,\n",
        " <praw.objects.Submission at 0x2291a50>,\n",
        " <praw.objects.Submission at 0x2291f90>,\n",
        " <praw.objects.Submission at 0x22a90d0>,\n",
        " <praw.objects.Submission at 0x22a9210>,\n",
        " <praw.objects.Submission at 0x22a9310>,\n",
        " <praw.objects.Submission at 0x22a9410>,\n",
        " <praw.objects.Submission at 0x22a9510>,\n",
        " <praw.objects.Submission at 0x22a9610>,\n",
        " <praw.objects.Submission at 0x22a9710>,\n",
        " <praw.objects.Submission at 0x22a9890>,\n",
        " <praw.objects.Submission at 0x22a9990>,\n",
        " <praw.objects.Submission at 0x22a9a90>,\n",
        " <praw.objects.Submission at 0x22a9b50>,\n",
        " <praw.objects.Submission at 0x22a9c90>,\n",
        " <praw.objects.Submission at 0x22a9dd0>,\n",
        " <praw.objects.Submission at 0x22a9ed0>,\n",
        " <praw.objects.Submission at 0x22a9fd0>,\n",
        " <praw.objects.Submission at 0x22b4110>,\n",
        " <praw.objects.Submission at 0x22b4210>,\n",
        " <praw.objects.Submission at 0x22b4310>]"
       ]
      }
     ],
     "prompt_number": 52
    },
    {
     "cell_type": "code",
     "collapsed": false,
     "input": [
      "ransubz = random.randint(0,24)"
     ],
     "language": "python",
     "metadata": {},
     "outputs": [],
     "prompt_number": 53
    },
    {
     "cell_type": "code",
     "collapsed": false,
     "input": [
      "print ransubz"
     ],
     "language": "python",
     "metadata": {},
     "outputs": [
      {
       "output_type": "stream",
       "stream": "stdout",
       "text": [
        "6\n"
       ]
      }
     ],
     "prompt_number": 54
    },
    {
     "cell_type": "code",
     "collapsed": false,
     "input": [
      "ransev = rdnew[ransubz]"
     ],
     "language": "python",
     "metadata": {},
     "outputs": [],
     "prompt_number": 55
    },
    {
     "cell_type": "code",
     "collapsed": false,
     "input": [
      "rgdautoz = str(ransev.author)\n"
     ],
     "language": "python",
     "metadata": {},
     "outputs": [],
     "prompt_number": 56
    },
    {
     "cell_type": "code",
     "collapsed": false,
     "input": [
      "rgdsubred = str(ransev.subreddit)"
     ],
     "language": "python",
     "metadata": {},
     "outputs": [],
     "prompt_number": 57
    },
    {
     "cell_type": "code",
     "collapsed": false,
     "input": [
      "sutit = ('[' + rgdsubred + ']')"
     ],
     "language": "python",
     "metadata": {},
     "outputs": [],
     "prompt_number": 58
    },
    {
     "cell_type": "code",
     "collapsed": false,
     "input": [
      "sutit"
     ],
     "language": "python",
     "metadata": {},
     "outputs": [
      {
       "metadata": {},
       "output_type": "pyout",
       "prompt_number": 59,
       "text": [
        "'[redditgetsdrawn]'"
       ]
      }
     ],
     "prompt_number": 59
    },
    {
     "cell_type": "code",
     "collapsed": false,
     "input": [
      "rgdaqwew = ('xpost[RGD]' + rgdautoz)"
     ],
     "language": "python",
     "metadata": {},
     "outputs": [],
     "prompt_number": 60
    },
    {
     "cell_type": "code",
     "collapsed": false,
     "input": [
      "rgdaturo = str(ransev.url)"
     ],
     "language": "python",
     "metadata": {},
     "outputs": [],
     "prompt_number": 61
    },
    {
     "cell_type": "code",
     "collapsed": false,
     "input": [
      "rgdatit = str(ransev.title)"
     ],
     "language": "python",
     "metadata": {},
     "outputs": [],
     "prompt_number": 62
    },
    {
     "cell_type": "code",
     "collapsed": false,
     "input": [
      "rgdatit"
     ],
     "language": "python",
     "metadata": {},
     "outputs": [
      {
       "metadata": {},
       "output_type": "pyout",
       "prompt_number": 63,
       "text": [
        "'Could anyone draw the 3 most beautiful ladies in the world for me? Any style is appreciated!'"
       ]
      }
     ],
     "prompt_number": 63
    },
    {
     "cell_type": "code",
     "collapsed": false,
     "input": [
      "#rd.get_top"
     ],
     "language": "python",
     "metadata": {},
     "outputs": [],
     "prompt_number": 64
    },
    {
     "cell_type": "code",
     "collapsed": false,
     "input": [
      "linkdict = {}"
     ],
     "language": "python",
     "metadata": {},
     "outputs": [],
     "prompt_number": 65
    },
    {
     "cell_type": "code",
     "collapsed": false,
     "input": [
      "ls"
     ],
     "language": "python",
     "metadata": {},
     "outputs": [
      {
       "output_type": "stream",
       "stream": "stdout",
       "text": [
        "index.html\r\n"
       ]
      }
     ],
     "prompt_number": 67
    },
    {
     "cell_type": "code",
     "collapsed": false,
     "input": [
      "ady = r.get_subreddit('artcontroldrawsyou')"
     ],
     "language": "python",
     "metadata": {},
     "outputs": [],
     "prompt_number": 68
    },
    {
     "cell_type": "code",
     "collapsed": false,
     "input": [
      "comrgd =  rgdatit + ' ' + rgdaturo"
     ],
     "language": "python",
     "metadata": {},
     "outputs": [],
     "prompt_number": 69
    },
    {
     "cell_type": "code",
     "collapsed": false,
     "input": [
      "comrgd"
     ],
     "language": "python",
     "metadata": {},
     "outputs": [
      {
       "metadata": {},
       "output_type": "pyout",
       "prompt_number": 70,
       "text": [
        "'Could anyone draw the 3 most beautiful ladies in the world for me? Any style is appreciated! http://i.imgur.com/vb9FmGc.jpg'"
       ]
      }
     ],
     "prompt_number": 70
    },
    {
     "cell_type": "code",
     "collapsed": false,
     "input": [
      "import time"
     ],
     "language": "python",
     "metadata": {},
     "outputs": [],
     "prompt_number": 71
    },
    {
     "cell_type": "code",
     "collapsed": false,
     "input": [
      "loctime = time.localtime()"
     ],
     "language": "python",
     "metadata": {},
     "outputs": [],
     "prompt_number": 72
    },
    {
     "cell_type": "code",
     "collapsed": false,
     "input": [
      "loctime.tm_mday"
     ],
     "language": "python",
     "metadata": {},
     "outputs": [
      {
       "metadata": {},
       "output_type": "pyout",
       "prompt_number": 73,
       "text": [
        "2"
       ]
      }
     ],
     "prompt_number": 73
    },
    {
     "cell_type": "code",
     "collapsed": false,
     "input": [
      "loctime.tm_mon"
     ],
     "language": "python",
     "metadata": {},
     "outputs": [
      {
       "metadata": {},
       "output_type": "pyout",
       "prompt_number": 74,
       "text": [
        "8"
       ]
      }
     ],
     "prompt_number": 74
    },
    {
     "cell_type": "code",
     "collapsed": false,
     "input": [
      "thedat = (str(loctime.tm_mday) + '/' + str(loctime.tm_mon))"
     ],
     "language": "python",
     "metadata": {},
     "outputs": [],
     "prompt_number": 75
    },
    {
     "cell_type": "code",
     "collapsed": false,
     "input": [
      "thedat"
     ],
     "language": "python",
     "metadata": {},
     "outputs": [
      {
       "metadata": {},
       "output_type": "pyout",
       "prompt_number": 76,
       "text": [
        "'2/8'"
       ]
      }
     ],
     "prompt_number": 76
    },
    {
     "cell_type": "code",
     "collapsed": false,
     "input": [
      "mixtut = (thedat + sutit + rgdautoz)"
     ],
     "language": "python",
     "metadata": {},
     "outputs": [],
     "prompt_number": 77
    },
    {
     "cell_type": "code",
     "collapsed": false,
     "input": [
      "loctime"
     ],
     "language": "python",
     "metadata": {},
     "outputs": [
      {
       "metadata": {},
       "output_type": "pyout",
       "prompt_number": 78,
       "text": [
        "time.struct_time(tm_year=2014, tm_mon=8, tm_mday=2, tm_hour=22, tm_min=49, tm_sec=44, tm_wday=5, tm_yday=214, tm_isdst=0)"
       ]
      }
     ],
     "prompt_number": 78
    },
    {
     "cell_type": "code",
     "collapsed": false,
     "input": [
      "ady.submit(mixtut , (rgdaqwew, comrgd))"
     ],
     "language": "python",
     "metadata": {},
     "outputs": [
      {
       "metadata": {},
       "output_type": "pyout",
       "prompt_number": 79,
       "text": [
        "<praw.objects.Submission at 0x22a9c10>"
       ]
      }
     ],
     "prompt_number": 79
    },
    {
     "cell_type": "raw",
     "metadata": {},
     "source": [
      "for newa in rdnew:\n",
      "    #rint newa.url\n",
      "    print len(newa)\n",
      "    htmstr = (str(newa.title) + '<a href=\"' + \n",
      "                 str(newa.url) + \n",
      "                 '\"><img class=\"aligncenter size-large wp-image-5723\" alt=\"' +\n",
      "                 str(newa.author) +\n",
      "                 '\" src=\"' + \n",
      "                 str(newa.url) + \n",
      "                 '\" /></a>')\n",
      "    #ophtml.write(htmstr)\n",
      "    #ady.submit(('[RGD]' + newa.author), newa.url)\n",
      "    print newa.author\n",
      "    #print newa.media\n",
      "    ophtml.write(htmstr)\n",
      "    print newa.selftext\n",
      "    print newa.url\n",
      "    print newa.num_comments\n",
      "    \n",
      "    linkdict.update({str(newa.author): str(newa.url)})\n"
     ]
    },
    {
     "cell_type": "code",
     "collapsed": false,
     "input": [
      "#print str(newa.title)"
     ],
     "language": "python",
     "metadata": {},
     "outputs": [],
     "prompt_number": 80
    },
    {
     "cell_type": "code",
     "collapsed": false,
     "input": [
      "import json"
     ],
     "language": "python",
     "metadata": {},
     "outputs": [],
     "prompt_number": 81
    },
    {
     "cell_type": "code",
     "collapsed": false,
     "input": [
      "newzjson = json.dumps(linkdict)"
     ],
     "language": "python",
     "metadata": {},
     "outputs": [],
     "prompt_number": 82
    },
    {
     "cell_type": "code",
     "collapsed": false,
     "input": [
      "#newzjson"
     ],
     "language": "python",
     "metadata": {},
     "outputs": [],
     "prompt_number": 83
    },
    {
     "cell_type": "code",
     "collapsed": false,
     "input": [],
     "language": "python",
     "metadata": {},
     "outputs": [],
     "prompt_number": 83
    },
    {
     "cell_type": "code",
     "collapsed": false,
     "input": [
      "rmine = r.get_redditor('itwillbemine')\n"
     ],
     "language": "python",
     "metadata": {},
     "outputs": [],
     "prompt_number": 84
    },
    {
     "cell_type": "code",
     "collapsed": false,
     "input": [
      "#opest = open('userurl.json', 'r')\n",
      "#opest.read()\n",
      "#opest.close()"
     ],
     "language": "python",
     "metadata": {},
     "outputs": [],
     "prompt_number": 85
    },
    {
     "cell_type": "code",
     "collapsed": false,
     "input": [
      "mincom = rmine.get_comments()"
     ],
     "language": "python",
     "metadata": {},
     "outputs": [],
     "prompt_number": 86
    },
    {
     "cell_type": "code",
     "collapsed": false,
     "input": [
      "#print mincom"
     ],
     "language": "python",
     "metadata": {},
     "outputs": [],
     "prompt_number": 87
    },
    {
     "cell_type": "code",
     "collapsed": false,
     "input": [
      "minels = []"
     ],
     "language": "python",
     "metadata": {},
     "outputs": [],
     "prompt_number": 88
    },
    {
     "cell_type": "code",
     "collapsed": false,
     "input": [
      "\n",
      "dausr = {}"
     ],
     "language": "python",
     "metadata": {},
     "outputs": [],
     "prompt_number": 89
    },
    {
     "cell_type": "code",
     "collapsed": false,
     "input": [
      "for newa in rdnew:\n",
      "    #rint newa.url\n",
      "    #print newa.author\n",
      "    linkdict.update({str(newa.author): str(newa.url)})"
     ],
     "language": "python",
     "metadata": {},
     "outputs": [],
     "prompt_number": 90
    },
    {
     "cell_type": "code",
     "collapsed": false,
     "input": [
      "for con in mincom:\n",
      "    #print con.body\n",
      "    minels.append(con)\n",
      "    dausr.update({str(con.id): str(con.body)})"
     ],
     "language": "python",
     "metadata": {},
     "outputs": [],
     "prompt_number": 91
    },
    {
     "cell_type": "code",
     "collapsed": false,
     "input": [
      "minels"
     ],
     "language": "python",
     "metadata": {},
     "outputs": [
      {
       "metadata": {},
       "output_type": "pyout",
       "prompt_number": 92,
       "text": [
        "[<praw.objects.Comment at 0x22b4e90>,\n",
        " <praw.objects.Comment at 0x22c2490>,\n",
        " <praw.objects.Comment at 0x22c2590>,\n",
        " <praw.objects.Comment at 0x22c2690>,\n",
        " <praw.objects.Comment at 0x22c2790>,\n",
        " <praw.objects.Comment at 0x22c2890>,\n",
        " <praw.objects.Comment at 0x22c2990>,\n",
        " <praw.objects.Comment at 0x22c2a90>,\n",
        " <praw.objects.Comment at 0x22c2bd0>,\n",
        " <praw.objects.Comment at 0x22c2cd0>,\n",
        " <praw.objects.Comment at 0x22c2dd0>,\n",
        " <praw.objects.Comment at 0x22c2ed0>,\n",
        " <praw.objects.Comment at 0x22c2fd0>,\n",
        " <praw.objects.Comment at 0x2402110>,\n",
        " <praw.objects.Comment at 0x2402210>,\n",
        " <praw.objects.Comment at 0x2402310>,\n",
        " <praw.objects.Comment at 0x2402410>,\n",
        " <praw.objects.Comment at 0x2402510>,\n",
        " <praw.objects.Comment at 0x2402610>,\n",
        " <praw.objects.Comment at 0x24026d0>,\n",
        " <praw.objects.Comment at 0x24027d0>,\n",
        " <praw.objects.Comment at 0x2402910>,\n",
        " <praw.objects.Comment at 0x2402a10>,\n",
        " <praw.objects.Comment at 0x2402b10>,\n",
        " <praw.objects.Comment at 0x2402c10>]"
       ]
      }
     ],
     "prompt_number": 92
    },
    {
     "cell_type": "code",
     "collapsed": false,
     "input": [
      "noizjson = json.dumps(dausr)"
     ],
     "language": "python",
     "metadata": {},
     "outputs": [],
     "prompt_number": 93
    },
    {
     "cell_type": "code",
     "collapsed": false,
     "input": [
      "newposts = open('userurl.json', 'a')\n",
      "newposts.write(newzjson)\n",
      "print ('file userurl.json updated')\n",
      "newcomments = open('idcomt.json', 'a')\n",
      "newcomments.write(noizjson)\n",
      "print ('user comments updated')\n",
      "newposts.close()\n",
      "newcomments.close()"
     ],
     "language": "python",
     "metadata": {},
     "outputs": [
      {
       "output_type": "stream",
       "stream": "stdout",
       "text": [
        "file userurl.json updated\n",
        "user comments updated\n"
       ]
      }
     ],
     "prompt_number": 94
    },
    {
     "cell_type": "code",
     "collapsed": false,
     "input": [
      "rdusr = str(con.author)\n"
     ],
     "language": "python",
     "metadata": {},
     "outputs": [],
     "prompt_number": 95
    },
    {
     "cell_type": "code",
     "collapsed": false,
     "input": [
      "minelsz = []"
     ],
     "language": "python",
     "metadata": {},
     "outputs": [],
     "prompt_number": 96
    },
    {
     "cell_type": "code",
     "collapsed": false,
     "input": [
      "ls"
     ],
     "language": "python",
     "metadata": {},
     "outputs": [
      {
       "output_type": "stream",
       "stream": "stdout",
       "text": [
        "idcomt.json  index.html  userurl.json\r\n"
       ]
      }
     ],
     "prompt_number": 99
    },
    {
     "cell_type": "code",
     "collapsed": false,
     "input": [
      "#for mina in minels:\n",
      "    #print mina.body\n",
      "   # minelsz.append(mina.body)"
     ],
     "language": "python",
     "metadata": {},
     "outputs": [],
     "prompt_number": 97
    },
    {
     "cell_type": "code",
     "collapsed": false,
     "input": [
      "#minelsz"
     ],
     "language": "python",
     "metadata": {},
     "outputs": [],
     "prompt_number": 98
    },
    {
     "cell_type": "code",
     "collapsed": false,
     "input": [
      "#mina.body"
     ],
     "language": "python",
     "metadata": {},
     "outputs": []
    },
    {
     "cell_type": "code",
     "collapsed": false,
     "input": [
      "cat idcomt.json"
     ],
     "language": "python",
     "metadata": {},
     "outputs": [
      {
       "output_type": "stream",
       "stream": "stdout",
       "text": [
        "{\"cjf39lh\": \"Posting, deleting, reposting, frequent posting = ban\\n\\nhttp://www.reddit.com/r/redditgetsdrawn/comments/2cd8rg/hey_rgd_can_you_please_draw_me_and_my_son_as_our/\", \"cjf2y0s\": \"I marked this NSFW for you - please use that button in the future as appropriate.\", \"cjeysgu\": \"GIFT :)\", \"cjf0qu1\": \"Why, thank you!\", \"cjf2z5c\": \"Your post was removed; see our rule on weddings.\", \"cjf08y2\": \"&lt;3\", \"cjf3205\": \"Gift posts aren't allowed, so your post was removed.\", \"cjf2wx9\": \"Gift posts aren't allowed, so your post was removed.\", \"cjf37hg\": \"Both of your posts have been removed. Deleting posts is not allowed. Read our rules.\", \"cjf3154\": \"At my workplace, it most certainly would.\", \"cjf3a5a\": \"You broke our frequent posting rule:\\n\\nhttp://www.reddit.com/r/redditgetsdrawn/comments/2cft4l/anyone_want_to_draw_me/\\n\\nThis post was removed.\", \"cjf38yi\": \"Posting, deleting, reposting, frequent posting = ban\\n\\nhttp://www.reddit.com/r/redditgetsdrawn/comments/2ce8fk/new_guy_here_could_someone_please_make_a_drawing/\", \"cjf367h\": \"You can be shitty at drawing - hey, I am too! But you do have to give it a serious attempt. So beginners have to take care to try their best in order to not have their submissions confused with troll art.\\n\\nRegarding you comment about fun, [oh yes, I like to have fun](http://i.imgur.com/vbfPgyD.gif)\", \"cjf32a5\": \"Sad posts aren't allowed, so this was removed. Please read our rules.\", \"cjf3383\": \"All children have to be clothed, so your post was removed.\", \"cjf2pnz\": \"Layperson's opinion: Number 1 - it contains a haunting quality that the second didn't make me feel. Both are spectacular.\", \"cjf2vyh\": \"Your comment was inappropriate and was removed. Please consider this a warning.\", \"cjf2orb\": \"Please don't say things like \\\"best\\\" or \\\"win\\\" in this sub - if you must, use the word \\\"favorite\\\" - it's less insulting and less controversial to the other artists. Thanks!\", \"cjf0q9m\": \"Hey man, whatever tips yer hat.\", \"cjf33jy\": \"Gift posts aren't allowed, so your post was removed.\", \"cjf44wj\": \"It might be the tree and it's angles, along with the angle of the ground as well as the shadows in the foreground. In the second one, the trees/line are more uniform (and thus, more comforting)? \\n\\nThey are both beautiful. Love them!\", \"cjf2xbt\": \"Post removed for having an unclear title. Please review our rules.\", \"cjf30ss\": \"You can't give names in this sub, so your post was removed.\", \"cjf2wmc\": \"Your images are not publicly available, so your post was removed.\", \"cjf32v2\": \"1) unclear title\\n\\n2) sad title\\n\\n3) gift post\\n\\n\\nYou broke three rules in one go! Congrats! Please read our rules before posting.\"}"
       ]
      }
     ],
     "prompt_number": 100
    },
    {
     "cell_type": "code",
     "collapsed": false,
     "input": [],
     "language": "python",
     "metadata": {},
     "outputs": []
    }
   ],
   "metadata": {}
  }
 ]
}