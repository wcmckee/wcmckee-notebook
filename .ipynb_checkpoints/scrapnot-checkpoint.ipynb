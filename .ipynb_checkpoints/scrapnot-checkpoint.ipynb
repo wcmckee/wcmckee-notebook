{
 "metadata": {
  "name": "",
  "signature": "sha256:18b61906f3b0457ded0d1dcb663e2a8f644db5cc890f316ecefac0656b1e8e36"
 },
 "nbformat": 3,
 "nbformat_minor": 0,
 "worksheets": [
  {
   "cells": [
    {
     "cell_type": "markdown",
     "metadata": {},
     "source": [
      "Scrapnot\n",
      "========\n",
      "<h2>testing</h2>\n",
      "<h3>this is heading 3</h3>\n",
      "blah blah blah\n",
      "--------------\n",
      "\n",
      "\n",
      "This is a scrapbook for exploring some python ideas and modules that i plan to take into other notebooks.\n",
      "*Test!*\n",
      "What I really need to start doing with these notebooks is a daily notebook. At the end of the week the blog .\n"
     ]
    },
    {
     "cell_type": "code",
     "collapsed": false,
     "input": [
      "import markdown"
     ],
     "language": "python",
     "metadata": {},
     "outputs": [],
     "prompt_number": 1
    },
    {
     "cell_type": "code",
     "collapsed": false,
     "input": [
      "import requests\n",
      "import json\n",
      "import xmltodict"
     ],
     "language": "python",
     "metadata": {},
     "outputs": [],
     "prompt_number": 2
    },
    {
     "cell_type": "code",
     "collapsed": false,
     "input": [
      "hcpux = requests.get('http://feeds.feedburner.com/HamiltonComputerClub?format=xml')"
     ],
     "language": "python",
     "metadata": {},
     "outputs": [],
     "prompt_number": 3
    },
    {
     "cell_type": "code",
     "collapsed": false,
     "input": [
      "cerz = hcpux.text"
     ],
     "language": "python",
     "metadata": {},
     "outputs": [],
     "prompt_number": 4
    },
    {
     "cell_type": "code",
     "collapsed": false,
     "input": [
      "hamx = xmltodict.parse(cerz)"
     ],
     "language": "python",
     "metadata": {},
     "outputs": [],
     "prompt_number": 5
    },
    {
     "cell_type": "code",
     "collapsed": false,
     "input": [
      "for ha in hamx['rss']['channel']:\n",
      "    print ha"
     ],
     "language": "python",
     "metadata": {},
     "outputs": [
      {
       "output_type": "stream",
       "stream": "stdout",
       "text": [
        "title\n",
        "link\n",
        "description\n",
        "lastBuildDate\n",
        "language\n",
        "sy:updatePeriod\n",
        "sy:updateFrequency\n",
        "generator\n",
        "atom10:link\n",
        "feedburner:info\n",
        "feedburner:browserFriendly\n",
        "item\n"
       ]
      }
     ],
     "prompt_number": 6
    },
    {
     "cell_type": "code",
     "collapsed": false,
     "input": [
      "staz = hamx['rss']['channel']"
     ],
     "language": "python",
     "metadata": {},
     "outputs": [],
     "prompt_number": 7
    },
    {
     "cell_type": "code",
     "collapsed": false,
     "input": [
      "alket = staz.keys()"
     ],
     "language": "python",
     "metadata": {},
     "outputs": [],
     "prompt_number": 8
    },
    {
     "cell_type": "code",
     "collapsed": false,
     "input": [
      "len(alket)"
     ],
     "language": "python",
     "metadata": {},
     "outputs": [
      {
       "metadata": {},
       "output_type": "pyout",
       "prompt_number": 9,
       "text": [
        "12"
       ]
      }
     ],
     "prompt_number": 9
    },
    {
     "cell_type": "code",
     "collapsed": false,
     "input": [
      "savlis = []"
     ],
     "language": "python",
     "metadata": {},
     "outputs": [],
     "prompt_number": 10
    },
    {
     "cell_type": "code",
     "collapsed": false,
     "input": [
      "print alket[3]"
     ],
     "language": "python",
     "metadata": {},
     "outputs": [
      {
       "output_type": "stream",
       "stream": "stdout",
       "text": [
        "lastBuildDate\n"
       ]
      }
     ],
     "prompt_number": 11
    },
    {
     "cell_type": "code",
     "collapsed": false,
     "input": [
      "savcal = staz.values"
     ],
     "language": "python",
     "metadata": {},
     "outputs": [],
     "prompt_number": 12
    },
    {
     "cell_type": "code",
     "collapsed": false,
     "input": [
      "staz"
     ],
     "language": "python",
     "metadata": {},
     "outputs": [
      {
       "metadata": {},
       "output_type": "pyout",
       "prompt_number": 13,
       "text": [
        "OrderedDict([(u'title', u'Hamilton Computer Club'), (u'link', u'http://hamiltoncomputerclub.org.nz'), (u'description', u'Exchange information and share skills'), (u'lastBuildDate', u'Tue, 29 Jul 2014 03:43:12 +0000'), (u'language', u'en-US'), (u'sy:updatePeriod', u'hourly'), (u'sy:updateFrequency', u'1'), (u'generator', u'http://wordpress.org/?v=3.9.1'), (u'atom10:link', [OrderedDict([(u'@xmlns:atom10', u'http://www.w3.org/2005/Atom'), (u'@rel', u'self'), (u'@type', u'application/rss+xml'), (u'@href', u'http://feeds.feedburner.com/HamiltonComputerClub')]), OrderedDict([(u'@xmlns:atom10', u'http://www.w3.org/2005/Atom'), (u'@rel', u'hub'), (u'@href', u'http://pubsubhubbub.appspot.com/')])]), (u'feedburner:info', OrderedDict([(u'@uri', u'hamiltoncomputerclub')])), (u'feedburner:browserFriendly', None), (u'item', [OrderedDict([(u'title', u'Security and privacy'), (u'link', u'http://hamiltoncomputerclub.org.nz/security-and-privacy/'), (u'comments', u'http://hamiltoncomputerclub.org.nz/security-and-privacy/#comments'), (u'pubDate', u'Tue, 29 Jul 2014 01:44:27 +0000'), (u'dc:creator', u'Rod Aldridge'), (u'category', u'Link dump'), (u'guid', OrderedDict([(u'@isPermaLink', u'false'), ('#text', u'http://hamiltoncomputerclub.org.nz/?p=465')])), (u'description', u'Security and privacy issues continue to make the news. Here are some that I found interesting, significant or helpful, including: Various ideas and resources for managing passwords Alternatives to passwordsSecurity news Mobile security and resources Privacy What Google, governments, businesses and others know about you Some resources and measures to \\u2026 <a href=\"http://hamiltoncomputerclub.org.nz/security-and-privacy/\"> Continue reading <span class=\"meta-nav\">&#8594; </span></a>'), (u'wfw:commentRss', u'http://hamiltoncomputerclub.org.nz/security-and-privacy/feed/'), (u'slash:comments', u'0'), (u'enclosure', OrderedDict([(u'@url', u'http://podcast.radionz.co.nz/ntn/ntn-20140725-0909-deleted_and_private_information_that_companies_keep_on_you-048.mp3'), (u'@length', u'5719333'), (u'@type', u'audio/mpeg')]))]), OrderedDict([(u'title', u'Windows RIP XP Long live 8.1'), (u'link', u'http://hamiltoncomputerclub.org.nz/windows-rip-xp-long-live-8-1/'), (u'comments', u'http://hamiltoncomputerclub.org.nz/windows-rip-xp-long-live-8-1/#comments'), (u'pubDate', u'Wed, 09 Apr 2014 21:38:34 +0000'), (u'dc:creator', u'Rod Aldridge'), (u'category', u'Link dump'), (u'guid', OrderedDict([(u'@isPermaLink', u'false'), ('#text', u'http://hamiltoncomputerclub.org.nz/?p=417')])), (u'description', u'Microsoft makes Windows free for select devices, announces universal Windows apps By Shawn Knight on April 2, 2014 http://www.techspot.com/news/56240-microsoft-makes-windows-free-for-select-devices-announces-universal-windows-apps.html Microsoft on Wednesday revealed plans to make Windows free for manufacturers to use on smartphones and tablets with screen sizes under nine inches. Furthermore, a future version of Windows for the \\u2026 <a href=\"http://hamiltoncomputerclub.org.nz/windows-rip-xp-long-live-8-1/\"> Continue reading <span class=\"meta-nav\">&#8594; </span></a>'), (u'wfw:commentRss', u'http://hamiltoncomputerclub.org.nz/windows-rip-xp-long-live-8-1/feed/'), (u'slash:comments', u'0')]), OrderedDict([(u'title', u'Python'), (u'link', u'http://hamiltoncomputerclub.org.nz/python/'), (u'comments', u'http://hamiltoncomputerclub.org.nz/python/#comments'), (u'pubDate', u'Fri, 21 Mar 2014 12:49:39 +0000'), (u'dc:creator', u'wcmckee'), (u'category', [u'Software', u'code', u'python', u'teach']), (u'guid', OrderedDict([(u'@isPermaLink', u'false'), ('#text', u'http://hamiltoncomputerclub.org.nz/?p=391')])), (u'description', u'My name is William Mckee. I did a talk in February regarding the Python programming language. I found Bruce through the New Zealand Python users group mailing list. There had been much discussion in the post regarding getting some Python meetups/classes happen. Auckland, Wellington, and Christchurch have monthly Python meetups. \\u2026 <a href=\"http://hamiltoncomputerclub.org.nz/python/\"> Continue reading <span class=\"meta-nav\">&#8594; </span></a>'), (u'wfw:commentRss', u'http://hamiltoncomputerclub.org.nz/python/feed/'), (u'slash:comments', u'0')]), OrderedDict([(u'title', u'Beware fake-capacity USB drives'), (u'link', u'http://hamiltoncomputerclub.org.nz/350/'), (u'comments', u'http://hamiltoncomputerclub.org.nz/350/#comments'), (u'pubDate', u'Mon, 21 Oct 2013 07:48:44 +0000'), (u'dc:creator', u'Bruce Kingsbury'), (u'category', u'Security'), (u'guid', OrderedDict([(u'@isPermaLink', u'false'), ('#text', u'http://hamiltoncomputerclub.org.nz/?p=350')])), (u'description', u'Various Trademe members have comment that there are listings for very cheap 128GB, 256GB and 512GB USB Memory Keys appearing on the site. Please be aware that there is a large number of fake USB Memory Keys being sold on eBay in the USA and from China which the firmware \\u2026 <a href=\"http://hamiltoncomputerclub.org.nz/350/\"> Continue reading <span class=\"meta-nav\">&#8594; </span></a>'), (u'wfw:commentRss', u'http://hamiltoncomputerclub.org.nz/350/feed/'), (u'slash:comments', u'0')]), OrderedDict([(u'title', u'Found on the web 2013/10'), (u'link', u'http://hamiltoncomputerclub.org.nz/201310/'), (u'comments', u'http://hamiltoncomputerclub.org.nz/201310/#comments'), (u'pubDate', u'Mon, 30 Sep 2013 00:42:11 +0000'), (u'dc:creator', u'Rod Aldridge'), (u'category', u'Link dump'), (u'guid', OrderedDict([(u'@isPermaLink', u'false'), ('#text', u'http://hamiltoncomputerclub.org.nz/?p=307')])), (u'description', u'Some items which you may find interesting or useful Some HOWTO&#8217;s and other hints mostly from PC World, some security and privacy alerts, software, some general news, Microsoft news, insight into censorship in China, explanation of Application Programming Interfaces (APIs) and Encryption. Finally some light relief (this year&#8217;s IgNoble Prizes). \\u2026 <a href=\"http://hamiltoncomputerclub.org.nz/201310/\"> Continue reading <span class=\"meta-nav\">&#8594; </span></a>'), (u'wfw:commentRss', u'http://hamiltoncomputerclub.org.nz/201310/feed/'), (u'slash:comments', u'0')]), OrderedDict([(u'title', u'Potential NSA Involvement in a NIST RNG Standard'), (u'link', u'http://hamiltoncomputerclub.org.nz/potential-nsa-involvement-in-a-nist-rng-standard/'), (u'comments', u'http://hamiltoncomputerclub.org.nz/potential-nsa-involvement-in-a-nist-rng-standard/#comments'), (u'pubDate', u'Mon, 30 Sep 2013 00:22:02 +0000'), (u'dc:creator', u'Bruce Kingsbury'), (u'category', u'Tidbits'), (u'guid', OrderedDict([(u'@isPermaLink', u'false'), ('#text', u'http://hamiltoncomputerclub.org.nz/?p=296')])), (u'description', u'In August 2007, a young programmer in Microsoft\\u2019s Windows security group stood up to give a five-minute turbo talk at the annual Crypto conference in Santa Barbara. It was a Tuesday evening, part of the conference\\u2019s traditional rump session, when a hodge-podge of short talks are presented outside of the \\u2026 <a href=\"http://hamiltoncomputerclub.org.nz/potential-nsa-involvement-in-a-nist-rng-standard/\"> Continue reading <span class=\"meta-nav\">&#8594; </span></a>'), (u'wfw:commentRss', u'http://hamiltoncomputerclub.org.nz/potential-nsa-involvement-in-a-nist-rng-standard/feed/'), (u'slash:comments', u'0')]), OrderedDict([(u'title', u'New website and blogs'), (u'link', u'http://hamiltoncomputerclub.org.nz/new-website-blogs/'), (u'comments', u'http://hamiltoncomputerclub.org.nz/new-website-blogs/#comments'), (u'pubDate', u'Tue, 17 Sep 2013 12:26:55 +0000'), (u'dc:creator', u'Virginia Schnauer'), (u'category', [u'Notices', u'website']), (u'guid', OrderedDict([(u'@isPermaLink', u'false'), ('#text', u'http://hamiltoncomputerclub.org.nz/?p=231')])), (u'description', u'I met with Bruce today and have cleaned up some loose end on your new look website. Members can now become contributors or post comments and have conversations. I suggest you all start here by commenting your likes and dislikes regarding look, format and content. It would be great to \\u2026 <a href=\"http://hamiltoncomputerclub.org.nz/new-website-blogs/\"> Continue reading <span class=\"meta-nav\">&#8594; </span></a>'), (u'wfw:commentRss', u'http://hamiltoncomputerclub.org.nz/new-website-blogs/feed/'), (u'slash:comments', u'1')]), OrderedDict([(u'title', u'PC World Magazine'), (u'link', u'http://hamiltoncomputerclub.org.nz/pc-world-magazine/'), (u'comments', u'http://hamiltoncomputerclub.org.nz/pc-world-magazine/#comments'), (u'pubDate', u'Sat, 14 Sep 2013 09:24:32 +0000'), (u'dc:creator', u'Virginia Schnauer'), (u'category', [u'Tidbits', u'IT', u'magazines']), (u'guid', OrderedDict([(u'@isPermaLink', u'false'), ('#text', u'http://hamiltoncomputerclub.org.nz/?p=190')])), (u'description', u'End of a era PC World magazine has closed down. It is available online http://www.pcworld.co.nz/. The site now offers sections on smartphones and tablets, computers, gadgets, a business centre, home entertainment, cameras, and a forum It is intended for the IT trade publications to continue.'), (u'wfw:commentRss', u'http://hamiltoncomputerclub.org.nz/pc-world-magazine/feed/'), (u'slash:comments', u'0')]), OrderedDict([(u'title', u'First article'), (u'link', u'http://hamiltoncomputerclub.org.nz/first-article/'), (u'comments', u'http://hamiltoncomputerclub.org.nz/first-article/#comments'), (u'pubDate', u'Sun, 01 Sep 2013 11:06:21 +0000'), (u'dc:creator', u'Bruce Kingsbury'), (u'category', [u'Notices', u'website']), (u'guid', OrderedDict([(u'@isPermaLink', u'false'), ('#text', u'http://hamiltoncomputerclub.org.nz/?p=49')])), (u'description', u'This is the new website of the Hamilton PC computer club. It&#8217;s registered and hosted on wordpress by onlydomains.com. The theme at time or writing is wp386, a throwback to the old BBS days. I&#8217;m sure everybody on the committee is going to absolutely loath it which should encourage them \\u2026 <a href=\"http://hamiltoncomputerclub.org.nz/first-article/\"> Continue reading <span class=\"meta-nav\">&#8594; </span></a>'), (u'wfw:commentRss', u'http://hamiltoncomputerclub.org.nz/first-article/feed/'), (u'slash:comments', u'3')])])])"
       ]
      }
     ],
     "prompt_number": 13
    },
    {
     "cell_type": "code",
     "collapsed": false,
     "input": [
      "savcal()[0:7]"
     ],
     "language": "python",
     "metadata": {},
     "outputs": [
      {
       "metadata": {},
       "output_type": "pyout",
       "prompt_number": 14,
       "text": [
        "[u'Hamilton Computer Club',\n",
        " u'http://hamiltoncomputerclub.org.nz',\n",
        " u'Exchange information and share skills',\n",
        " u'Tue, 29 Jul 2014 03:43:12 +0000',\n",
        " u'en-US',\n",
        " u'hourly',\n",
        " u'1']"
       ]
      }
     ],
     "prompt_number": 14
    },
    {
     "cell_type": "code",
     "collapsed": false,
     "input": [
      "for ket in alket:\n",
      "    #print staz[ket]\n",
      "    print staz['title']\n",
      "    savlis.append(staz[ket])"
     ],
     "language": "python",
     "metadata": {},
     "outputs": [
      {
       "output_type": "stream",
       "stream": "stdout",
       "text": [
        "Hamilton Computer Club\n",
        "Hamilton Computer Club\n",
        "Hamilton Computer Club\n",
        "Hamilton Computer Club\n",
        "Hamilton Computer Club\n",
        "Hamilton Computer Club\n",
        "Hamilton Computer Club\n",
        "Hamilton Computer Club\n",
        "Hamilton Computer Club\n",
        "Hamilton Computer Club\n",
        "Hamilton Computer Club\n",
        "Hamilton Computer Club\n"
       ]
      }
     ],
     "prompt_number": 15
    },
    {
     "cell_type": "code",
     "collapsed": false,
     "input": [
      "opd = json.dumps(hamxy)"
     ],
     "language": "python",
     "metadata": {},
     "outputs": [
      {
       "ename": "NameError",
       "evalue": "name 'hamxy' is not defined",
       "output_type": "pyerr",
       "traceback": [
        "\u001b[1;31m---------------------------------------------------------------------------\u001b[0m\n\u001b[1;31mNameError\u001b[0m                                 Traceback (most recent call last)",
        "\u001b[1;32m<ipython-input-16-470a3306a967>\u001b[0m in \u001b[0;36m<module>\u001b[1;34m()\u001b[0m\n\u001b[1;32m----> 1\u001b[1;33m \u001b[0mopd\u001b[0m \u001b[1;33m=\u001b[0m \u001b[0mjson\u001b[0m\u001b[1;33m.\u001b[0m\u001b[0mdumps\u001b[0m\u001b[1;33m(\u001b[0m\u001b[0mhamxy\u001b[0m\u001b[1;33m)\u001b[0m\u001b[1;33m\u001b[0m\u001b[0m\n\u001b[0m",
        "\u001b[1;31mNameError\u001b[0m: name 'hamxy' is not defined"
       ]
      }
     ],
     "prompt_number": 16
    },
    {
     "cell_type": "code",
     "collapsed": false,
     "input": [
      "savopd = open('cpuclu.json', 'w')"
     ],
     "language": "python",
     "metadata": {},
     "outputs": [],
     "prompt_number": 17
    },
    {
     "cell_type": "code",
     "collapsed": false,
     "input": [
      "savopd.write(opd)"
     ],
     "language": "python",
     "metadata": {},
     "outputs": [
      {
       "ename": "NameError",
       "evalue": "name 'opd' is not defined",
       "output_type": "pyerr",
       "traceback": [
        "\u001b[1;31m---------------------------------------------------------------------------\u001b[0m\n\u001b[1;31mNameError\u001b[0m                                 Traceback (most recent call last)",
        "\u001b[1;32m<ipython-input-18-b9cbea379c27>\u001b[0m in \u001b[0;36m<module>\u001b[1;34m()\u001b[0m\n\u001b[1;32m----> 1\u001b[1;33m \u001b[0msavopd\u001b[0m\u001b[1;33m.\u001b[0m\u001b[0mwrite\u001b[0m\u001b[1;33m(\u001b[0m\u001b[0mopd\u001b[0m\u001b[1;33m)\u001b[0m\u001b[1;33m\u001b[0m\u001b[0m\n\u001b[0m",
        "\u001b[1;31mNameError\u001b[0m: name 'opd' is not defined"
       ]
      }
     ],
     "prompt_number": 18
    },
    {
     "cell_type": "code",
     "collapsed": false,
     "input": [
      "savopd.close()"
     ],
     "language": "python",
     "metadata": {},
     "outputs": [],
     "prompt_number": 19
    },
    {
     "cell_type": "code",
     "collapsed": false,
     "input": [
      "zopa = open('cpuclu.json', 'r')"
     ],
     "language": "python",
     "metadata": {},
     "outputs": [],
     "prompt_number": 20
    },
    {
     "cell_type": "code",
     "collapsed": false,
     "input": [
      "print zopa.read()"
     ],
     "language": "python",
     "metadata": {},
     "outputs": [
      {
       "output_type": "stream",
       "stream": "stdout",
       "text": [
        "\n"
       ]
      }
     ],
     "prompt_number": 21
    },
    {
     "cell_type": "code",
     "collapsed": false,
     "input": [
      "myjson = zopa.read()"
     ],
     "language": "python",
     "metadata": {},
     "outputs": [],
     "prompt_number": 22
    },
    {
     "cell_type": "code",
     "collapsed": false,
     "input": [
      "sjson = json.dumps(hamx)"
     ],
     "language": "python",
     "metadata": {},
     "outputs": [],
     "prompt_number": 23
    },
    {
     "cell_type": "code",
     "collapsed": false,
     "input": [
      "print sjson"
     ],
     "language": "python",
     "metadata": {},
     "outputs": [
      {
       "output_type": "stream",
       "stream": "stdout",
       "text": [
        "{\"rss\": {\"@xmlns:content\": \"http://purl.org/rss/1.0/modules/content/\", \"@xmlns:wfw\": \"http://wellformedweb.org/CommentAPI/\", \"@xmlns:dc\": \"http://purl.org/dc/elements/1.1/\", \"@xmlns:atom\": \"http://www.w3.org/2005/Atom\", \"@xmlns:sy\": \"http://purl.org/rss/1.0/modules/syndication/\", \"@xmlns:slash\": \"http://purl.org/rss/1.0/modules/slash/\", \"@xmlns:feedburner\": \"http://rssnamespace.org/feedburner/ext/1.0\", \"@version\": \"2.0\", \"channel\": {\"title\": \"Hamilton Computer Club\", \"link\": \"http://hamiltoncomputerclub.org.nz\", \"description\": \"Exchange information and share skills\", \"lastBuildDate\": \"Tue, 29 Jul 2014 03:43:12 +0000\", \"language\": \"en-US\", \"sy:updatePeriod\": \"hourly\", \"sy:updateFrequency\": \"1\", \"generator\": \"http://wordpress.org/?v=3.9.1\", \"atom10:link\": [{\"@xmlns:atom10\": \"http://www.w3.org/2005/Atom\", \"@rel\": \"self\", \"@type\": \"application/rss+xml\", \"@href\": \"http://feeds.feedburner.com/HamiltonComputerClub\"}, {\"@xmlns:atom10\": \"http://www.w3.org/2005/Atom\", \"@rel\": \"hub\", \"@href\": \"http://pubsubhubbub.appspot.com/\"}], \"feedburner:info\": {\"@uri\": \"hamiltoncomputerclub\"}, \"feedburner:browserFriendly\": null, \"item\": [{\"title\": \"Security and privacy\", \"link\": \"http://hamiltoncomputerclub.org.nz/security-and-privacy/\", \"comments\": \"http://hamiltoncomputerclub.org.nz/security-and-privacy/#comments\", \"pubDate\": \"Tue, 29 Jul 2014 01:44:27 +0000\", \"dc:creator\": \"Rod Aldridge\", \"category\": \"Link dump\", \"guid\": {\"@isPermaLink\": \"false\", \"#text\": \"http://hamiltoncomputerclub.org.nz/?p=465\"}, \"description\": \"Security and privacy issues continue to make the news. Here are some that I found interesting, significant or helpful, including: Various ideas and resources for managing passwords Alternatives to passwordsSecurity news Mobile security and resources Privacy What Google, governments, businesses and others know about you Some resources and measures to \\u2026 <a href=\\\"http://hamiltoncomputerclub.org.nz/security-and-privacy/\\\"> Continue reading <span class=\\\"meta-nav\\\">&#8594; </span></a>\", \"wfw:commentRss\": \"http://hamiltoncomputerclub.org.nz/security-and-privacy/feed/\", \"slash:comments\": \"0\", \"enclosure\": {\"@url\": \"http://podcast.radionz.co.nz/ntn/ntn-20140725-0909-deleted_and_private_information_that_companies_keep_on_you-048.mp3\", \"@length\": \"5719333\", \"@type\": \"audio/mpeg\"}}, {\"title\": \"Windows RIP XP Long live 8.1\", \"link\": \"http://hamiltoncomputerclub.org.nz/windows-rip-xp-long-live-8-1/\", \"comments\": \"http://hamiltoncomputerclub.org.nz/windows-rip-xp-long-live-8-1/#comments\", \"pubDate\": \"Wed, 09 Apr 2014 21:38:34 +0000\", \"dc:creator\": \"Rod Aldridge\", \"category\": \"Link dump\", \"guid\": {\"@isPermaLink\": \"false\", \"#text\": \"http://hamiltoncomputerclub.org.nz/?p=417\"}, \"description\": \"Microsoft makes Windows free for select devices, announces universal Windows apps By Shawn Knight on April 2, 2014 http://www.techspot.com/news/56240-microsoft-makes-windows-free-for-select-devices-announces-universal-windows-apps.html Microsoft on Wednesday revealed plans to make Windows free for manufacturers to use on smartphones and tablets with screen sizes under nine inches. Furthermore, a future version of Windows for the \\u2026 <a href=\\\"http://hamiltoncomputerclub.org.nz/windows-rip-xp-long-live-8-1/\\\"> Continue reading <span class=\\\"meta-nav\\\">&#8594; </span></a>\", \"wfw:commentRss\": \"http://hamiltoncomputerclub.org.nz/windows-rip-xp-long-live-8-1/feed/\", \"slash:comments\": \"0\"}, {\"title\": \"Python\", \"link\": \"http://hamiltoncomputerclub.org.nz/python/\", \"comments\": \"http://hamiltoncomputerclub.org.nz/python/#comments\", \"pubDate\": \"Fri, 21 Mar 2014 12:49:39 +0000\", \"dc:creator\": \"wcmckee\", \"category\": [\"Software\", \"code\", \"python\", \"teach\"], \"guid\": {\"@isPermaLink\": \"false\", \"#text\": \"http://hamiltoncomputerclub.org.nz/?p=391\"}, \"description\": \"My name is William Mckee. I did a talk in February regarding the Python programming language. I found Bruce through the New Zealand Python users group mailing list. There had been much discussion in the post regarding getting some Python meetups/classes happen. Auckland, Wellington, and Christchurch have monthly Python meetups. \\u2026 <a href=\\\"http://hamiltoncomputerclub.org.nz/python/\\\"> Continue reading <span class=\\\"meta-nav\\\">&#8594; </span></a>\", \"wfw:commentRss\": \"http://hamiltoncomputerclub.org.nz/python/feed/\", \"slash:comments\": \"0\"}, {\"title\": \"Beware fake-capacity USB drives\", \"link\": \"http://hamiltoncomputerclub.org.nz/350/\", \"comments\": \"http://hamiltoncomputerclub.org.nz/350/#comments\", \"pubDate\": \"Mon, 21 Oct 2013 07:48:44 +0000\", \"dc:creator\": \"Bruce Kingsbury\", \"category\": \"Security\", \"guid\": {\"@isPermaLink\": \"false\", \"#text\": \"http://hamiltoncomputerclub.org.nz/?p=350\"}, \"description\": \"Various Trademe members have comment that there are listings for very cheap 128GB, 256GB and 512GB USB Memory Keys appearing on the site. Please be aware that there is a large number of fake USB Memory Keys being sold on eBay in the USA and from China which the firmware \\u2026 <a href=\\\"http://hamiltoncomputerclub.org.nz/350/\\\"> Continue reading <span class=\\\"meta-nav\\\">&#8594; </span></a>\", \"wfw:commentRss\": \"http://hamiltoncomputerclub.org.nz/350/feed/\", \"slash:comments\": \"0\"}, {\"title\": \"Found on the web 2013/10\", \"link\": \"http://hamiltoncomputerclub.org.nz/201310/\", \"comments\": \"http://hamiltoncomputerclub.org.nz/201310/#comments\", \"pubDate\": \"Mon, 30 Sep 2013 00:42:11 +0000\", \"dc:creator\": \"Rod Aldridge\", \"category\": \"Link dump\", \"guid\": {\"@isPermaLink\": \"false\", \"#text\": \"http://hamiltoncomputerclub.org.nz/?p=307\"}, \"description\": \"Some items which you may find interesting or useful Some HOWTO&#8217;s and other hints mostly from PC World, some security and privacy alerts, software, some general news, Microsoft news, insight into censorship in China, explanation of Application Programming Interfaces (APIs) and Encryption. Finally some light relief (this year&#8217;s IgNoble Prizes). \\u2026 <a href=\\\"http://hamiltoncomputerclub.org.nz/201310/\\\"> Continue reading <span class=\\\"meta-nav\\\">&#8594; </span></a>\", \"wfw:commentRss\": \"http://hamiltoncomputerclub.org.nz/201310/feed/\", \"slash:comments\": \"0\"}, {\"title\": \"Potential NSA Involvement in a NIST RNG Standard\", \"link\": \"http://hamiltoncomputerclub.org.nz/potential-nsa-involvement-in-a-nist-rng-standard/\", \"comments\": \"http://hamiltoncomputerclub.org.nz/potential-nsa-involvement-in-a-nist-rng-standard/#comments\", \"pubDate\": \"Mon, 30 Sep 2013 00:22:02 +0000\", \"dc:creator\": \"Bruce Kingsbury\", \"category\": \"Tidbits\", \"guid\": {\"@isPermaLink\": \"false\", \"#text\": \"http://hamiltoncomputerclub.org.nz/?p=296\"}, \"description\": \"In August 2007, a young programmer in Microsoft\\u2019s Windows security group stood up to give a five-minute turbo talk at the annual Crypto conference in Santa Barbara. It was a Tuesday evening, part of the conference\\u2019s traditional rump session, when a hodge-podge of short talks are presented outside of the \\u2026 <a href=\\\"http://hamiltoncomputerclub.org.nz/potential-nsa-involvement-in-a-nist-rng-standard/\\\"> Continue reading <span class=\\\"meta-nav\\\">&#8594; </span></a>\", \"wfw:commentRss\": \"http://hamiltoncomputerclub.org.nz/potential-nsa-involvement-in-a-nist-rng-standard/feed/\", \"slash:comments\": \"0\"}, {\"title\": \"New website and blogs\", \"link\": \"http://hamiltoncomputerclub.org.nz/new-website-blogs/\", \"comments\": \"http://hamiltoncomputerclub.org.nz/new-website-blogs/#comments\", \"pubDate\": \"Tue, 17 Sep 2013 12:26:55 +0000\", \"dc:creator\": \"Virginia Schnauer\", \"category\": [\"Notices\", \"website\"], \"guid\": {\"@isPermaLink\": \"false\", \"#text\": \"http://hamiltoncomputerclub.org.nz/?p=231\"}, \"description\": \"I met with Bruce today and have cleaned up some loose end on your new look website. Members can now become contributors or post comments and have conversations. I suggest you all start here by commenting your likes and dislikes regarding look, format and content. It would be great to \\u2026 <a href=\\\"http://hamiltoncomputerclub.org.nz/new-website-blogs/\\\"> Continue reading <span class=\\\"meta-nav\\\">&#8594; </span></a>\", \"wfw:commentRss\": \"http://hamiltoncomputerclub.org.nz/new-website-blogs/feed/\", \"slash:comments\": \"1\"}, {\"title\": \"PC World Magazine\", \"link\": \"http://hamiltoncomputerclub.org.nz/pc-world-magazine/\", \"comments\": \"http://hamiltoncomputerclub.org.nz/pc-world-magazine/#comments\", \"pubDate\": \"Sat, 14 Sep 2013 09:24:32 +0000\", \"dc:creator\": \"Virginia Schnauer\", \"category\": [\"Tidbits\", \"IT\", \"magazines\"], \"guid\": {\"@isPermaLink\": \"false\", \"#text\": \"http://hamiltoncomputerclub.org.nz/?p=190\"}, \"description\": \"End of a era PC World magazine has closed down. It is available online http://www.pcworld.co.nz/. The site now offers sections on smartphones and tablets, computers, gadgets, a business centre, home entertainment, cameras, and a forum It is intended for the IT trade publications to continue.\", \"wfw:commentRss\": \"http://hamiltoncomputerclub.org.nz/pc-world-magazine/feed/\", \"slash:comments\": \"0\"}, {\"title\": \"First article\", \"link\": \"http://hamiltoncomputerclub.org.nz/first-article/\", \"comments\": \"http://hamiltoncomputerclub.org.nz/first-article/#comments\", \"pubDate\": \"Sun, 01 Sep 2013 11:06:21 +0000\", \"dc:creator\": \"Bruce Kingsbury\", \"category\": [\"Notices\", \"website\"], \"guid\": {\"@isPermaLink\": \"false\", \"#text\": \"http://hamiltoncomputerclub.org.nz/?p=49\"}, \"description\": \"This is the new website of the Hamilton PC computer club. It&#8217;s registered and hosted on wordpress by onlydomains.com. The theme at time or writing is wp386, a throwback to the old BBS days. I&#8217;m sure everybody on the committee is going to absolutely loath it which should encourage them \\u2026 <a href=\\\"http://hamiltoncomputerclub.org.nz/first-article/\\\"> Continue reading <span class=\\\"meta-nav\\\">&#8594; </span></a>\", \"wfw:commentRss\": \"http://hamiltoncomputerclub.org.nz/first-article/feed/\", \"slash:comments\": \"3\"}]}}}\n"
       ]
      }
     ],
     "prompt_number": 24
    },
    {
     "cell_type": "code",
     "collapsed": false,
     "input": [
      "cerz"
     ],
     "language": "python",
     "metadata": {},
     "outputs": [
      {
       "metadata": {},
       "output_type": "pyout",
       "prompt_number": 25,
       "text": [
        "u'<?xml version=\"1.0\" encoding=\"UTF-8\"?>\\r\\n<?xml-stylesheet type=\"text/xsl\" media=\"screen\" href=\"/~d/styles/rss2full.xsl\"?><?xml-stylesheet type=\"text/css\" media=\"screen\" href=\"http://feeds.feedburner.com/~d/styles/itemcontent.css\"?><rss xmlns:content=\"http://purl.org/rss/1.0/modules/content/\" xmlns:wfw=\"http://wellformedweb.org/CommentAPI/\" xmlns:dc=\"http://purl.org/dc/elements/1.1/\" xmlns:atom=\"http://www.w3.org/2005/Atom\" xmlns:sy=\"http://purl.org/rss/1.0/modules/syndication/\" xmlns:slash=\"http://purl.org/rss/1.0/modules/slash/\" xmlns:feedburner=\"http://rssnamespace.org/feedburner/ext/1.0\" version=\"2.0\">\\r\\n\\r\\n<channel>\\r\\n\\t<title>Hamilton Computer Club </title>\\r\\n\\t\\r\\n\\t<link>http://hamiltoncomputerclub.org.nz</link>\\r\\n\\t<description>Exchange information and share skills</description>\\r\\n\\t<lastBuildDate>Tue, 29 Jul 2014 03:43:12 +0000</lastBuildDate>\\r\\n\\t<language>en-US</language>\\r\\n\\t\\t<sy:updatePeriod>hourly</sy:updatePeriod>\\r\\n\\t\\t<sy:updateFrequency>1</sy:updateFrequency>\\r\\n\\t<generator>http://wordpress.org/?v=3.9.1</generator>\\r\\n\\t<atom10:link xmlns:atom10=\"http://www.w3.org/2005/Atom\" rel=\"self\" type=\"application/rss+xml\" href=\"http://feeds.feedburner.com/HamiltonComputerClub\" /><feedburner:info uri=\"hamiltoncomputerclub\" /><atom10:link xmlns:atom10=\"http://www.w3.org/2005/Atom\" rel=\"hub\" href=\"http://pubsubhubbub.appspot.com/\" /><feedburner:browserFriendly></feedburner:browserFriendly><item>\\r\\n\\t\\t<title>Security and privacy</title>\\r\\n\\t\\t<link>http://hamiltoncomputerclub.org.nz/security-and-privacy/</link>\\r\\n\\t\\t<comments>http://hamiltoncomputerclub.org.nz/security-and-privacy/#comments</comments>\\r\\n\\t\\t<pubDate>Tue, 29 Jul 2014 01:44:27 +0000</pubDate>\\r\\n\\t\\t<dc:creator><![CDATA[Rod Aldridge]]></dc:creator>\\r\\n\\t\\t\\t\\t<category><![CDATA[Link dump]]></category>\\r\\n\\r\\n\\t\\t<guid isPermaLink=\"false\">http://hamiltoncomputerclub.org.nz/?p=465</guid>\\r\\n\\t\\t<description><![CDATA[Security and privacy issues continue to make the news. Here are some that I found interesting, significant or helpful, including: Various ideas and resources for managing passwords Alternatives to passwordsSecurity news Mobile security and resources Privacy What Google, governments, businesses and others know about you Some resources and measures to \\u2026 <a href=\"http://hamiltoncomputerclub.org.nz/security-and-privacy/\"> Continue reading <span class=\"meta-nav\">&#8594; </span></a>]]></description>\\r\\n\\t\\t<wfw:commentRss>http://hamiltoncomputerclub.org.nz/security-and-privacy/feed/</wfw:commentRss>\\r\\n\\t\\t<slash:comments>0</slash:comments>\\r\\n<enclosure url=\"http://podcast.radionz.co.nz/ntn/ntn-20140725-0909-deleted_and_private_information_that_companies_keep_on_you-048.mp3\" length=\"5719333\" type=\"audio/mpeg\" />\\r\\n\\t\\t</item>\\r\\n\\t\\t<item>\\r\\n\\t\\t<title>Windows RIP XP Long live 8.1</title>\\r\\n\\t\\t<link>http://hamiltoncomputerclub.org.nz/windows-rip-xp-long-live-8-1/</link>\\r\\n\\t\\t<comments>http://hamiltoncomputerclub.org.nz/windows-rip-xp-long-live-8-1/#comments</comments>\\r\\n\\t\\t<pubDate>Wed, 09 Apr 2014 21:38:34 +0000</pubDate>\\r\\n\\t\\t<dc:creator><![CDATA[Rod Aldridge]]></dc:creator>\\r\\n\\t\\t\\t\\t<category><![CDATA[Link dump]]></category>\\r\\n\\r\\n\\t\\t<guid isPermaLink=\"false\">http://hamiltoncomputerclub.org.nz/?p=417</guid>\\r\\n\\t\\t<description><![CDATA[Microsoft makes Windows free for select devices, announces universal Windows apps By Shawn Knight on April 2, 2014 http://www.techspot.com/news/56240-microsoft-makes-windows-free-for-select-devices-announces-universal-windows-apps.html Microsoft on Wednesday revealed plans to make Windows free for manufacturers to use on smartphones and tablets with screen sizes under nine inches. Furthermore, a future version of Windows for the \\u2026 <a href=\"http://hamiltoncomputerclub.org.nz/windows-rip-xp-long-live-8-1/\"> Continue reading <span class=\"meta-nav\">&#8594; </span></a>]]></description>\\r\\n\\t\\t<wfw:commentRss>http://hamiltoncomputerclub.org.nz/windows-rip-xp-long-live-8-1/feed/</wfw:commentRss>\\r\\n\\t\\t<slash:comments>0</slash:comments>\\r\\n\\t\\t</item>\\r\\n\\t\\t<item>\\r\\n\\t\\t<title>Python</title>\\r\\n\\t\\t<link>http://hamiltoncomputerclub.org.nz/python/</link>\\r\\n\\t\\t<comments>http://hamiltoncomputerclub.org.nz/python/#comments</comments>\\r\\n\\t\\t<pubDate>Fri, 21 Mar 2014 12:49:39 +0000</pubDate>\\r\\n\\t\\t<dc:creator><![CDATA[wcmckee]]></dc:creator>\\r\\n\\t\\t\\t\\t<category><![CDATA[Software]]></category>\\r\\n\\t\\t<category><![CDATA[code]]></category>\\r\\n\\t\\t<category><![CDATA[python]]></category>\\r\\n\\t\\t<category><![CDATA[teach]]></category>\\r\\n\\r\\n\\t\\t<guid isPermaLink=\"false\">http://hamiltoncomputerclub.org.nz/?p=391</guid>\\r\\n\\t\\t<description><![CDATA[My name is William Mckee. I did a talk in February regarding the Python programming language. I found Bruce through the New Zealand Python users group mailing list. There had been much discussion in the post regarding getting some Python meetups/classes happen. Auckland, Wellington, and Christchurch have monthly Python meetups. \\u2026 <a href=\"http://hamiltoncomputerclub.org.nz/python/\"> Continue reading <span class=\"meta-nav\">&#8594; </span></a>]]></description>\\r\\n\\t\\t<wfw:commentRss>http://hamiltoncomputerclub.org.nz/python/feed/</wfw:commentRss>\\r\\n\\t\\t<slash:comments>0</slash:comments>\\r\\n\\t\\t</item>\\r\\n\\t\\t<item>\\r\\n\\t\\t<title>Beware fake-capacity USB drives</title>\\r\\n\\t\\t<link>http://hamiltoncomputerclub.org.nz/350/</link>\\r\\n\\t\\t<comments>http://hamiltoncomputerclub.org.nz/350/#comments</comments>\\r\\n\\t\\t<pubDate>Mon, 21 Oct 2013 07:48:44 +0000</pubDate>\\r\\n\\t\\t<dc:creator><![CDATA[Bruce Kingsbury]]></dc:creator>\\r\\n\\t\\t\\t\\t<category><![CDATA[Security]]></category>\\r\\n\\r\\n\\t\\t<guid isPermaLink=\"false\">http://hamiltoncomputerclub.org.nz/?p=350</guid>\\r\\n\\t\\t<description><![CDATA[Various Trademe members have comment that there are listings for very cheap 128GB, 256GB and 512GB USB Memory Keys appearing on the site. Please be aware that there is a large number of fake USB Memory Keys being sold on eBay in the USA and from China which the firmware \\u2026 <a href=\"http://hamiltoncomputerclub.org.nz/350/\"> Continue reading <span class=\"meta-nav\">&#8594; </span></a>]]></description>\\r\\n\\t\\t<wfw:commentRss>http://hamiltoncomputerclub.org.nz/350/feed/</wfw:commentRss>\\r\\n\\t\\t<slash:comments>0</slash:comments>\\r\\n\\t\\t</item>\\r\\n\\t\\t<item>\\r\\n\\t\\t<title>Found on the web 2013/10</title>\\r\\n\\t\\t<link>http://hamiltoncomputerclub.org.nz/201310/</link>\\r\\n\\t\\t<comments>http://hamiltoncomputerclub.org.nz/201310/#comments</comments>\\r\\n\\t\\t<pubDate>Mon, 30 Sep 2013 00:42:11 +0000</pubDate>\\r\\n\\t\\t<dc:creator><![CDATA[Rod Aldridge]]></dc:creator>\\r\\n\\t\\t\\t\\t<category><![CDATA[Link dump]]></category>\\r\\n\\r\\n\\t\\t<guid isPermaLink=\"false\">http://hamiltoncomputerclub.org.nz/?p=307</guid>\\r\\n\\t\\t<description><![CDATA[Some items which you may find interesting or useful Some HOWTO&#8217;s and other hints mostly from PC World, some security and privacy alerts, software, some general news, Microsoft news, insight into censorship in China, explanation of Application Programming Interfaces (APIs) and Encryption. Finally some light relief (this year&#8217;s IgNoble Prizes). \\u2026 <a href=\"http://hamiltoncomputerclub.org.nz/201310/\"> Continue reading <span class=\"meta-nav\">&#8594; </span></a>]]></description>\\r\\n\\t\\t<wfw:commentRss>http://hamiltoncomputerclub.org.nz/201310/feed/</wfw:commentRss>\\r\\n\\t\\t<slash:comments>0</slash:comments>\\r\\n\\t\\t</item>\\r\\n\\t\\t<item>\\r\\n\\t\\t<title>Potential NSA Involvement in a NIST RNG Standard</title>\\r\\n\\t\\t<link>http://hamiltoncomputerclub.org.nz/potential-nsa-involvement-in-a-nist-rng-standard/</link>\\r\\n\\t\\t<comments>http://hamiltoncomputerclub.org.nz/potential-nsa-involvement-in-a-nist-rng-standard/#comments</comments>\\r\\n\\t\\t<pubDate>Mon, 30 Sep 2013 00:22:02 +0000</pubDate>\\r\\n\\t\\t<dc:creator><![CDATA[Bruce Kingsbury]]></dc:creator>\\r\\n\\t\\t\\t\\t<category><![CDATA[Tidbits]]></category>\\r\\n\\r\\n\\t\\t<guid isPermaLink=\"false\">http://hamiltoncomputerclub.org.nz/?p=296</guid>\\r\\n\\t\\t<description><![CDATA[In August 2007, a young programmer in Microsoft\\u2019s Windows security group stood up to give a five-minute turbo talk at the annual Crypto conference in Santa Barbara. It was a Tuesday evening, part of the conference\\u2019s traditional rump session, when a hodge-podge of short talks are presented outside of the \\u2026 <a href=\"http://hamiltoncomputerclub.org.nz/potential-nsa-involvement-in-a-nist-rng-standard/\"> Continue reading <span class=\"meta-nav\">&#8594; </span></a>]]></description>\\r\\n\\t\\t<wfw:commentRss>http://hamiltoncomputerclub.org.nz/potential-nsa-involvement-in-a-nist-rng-standard/feed/</wfw:commentRss>\\r\\n\\t\\t<slash:comments>0</slash:comments>\\r\\n\\t\\t</item>\\r\\n\\t\\t<item>\\r\\n\\t\\t<title>New website and blogs</title>\\r\\n\\t\\t<link>http://hamiltoncomputerclub.org.nz/new-website-blogs/</link>\\r\\n\\t\\t<comments>http://hamiltoncomputerclub.org.nz/new-website-blogs/#comments</comments>\\r\\n\\t\\t<pubDate>Tue, 17 Sep 2013 12:26:55 +0000</pubDate>\\r\\n\\t\\t<dc:creator><![CDATA[Virginia Schnauer]]></dc:creator>\\r\\n\\t\\t\\t\\t<category><![CDATA[Notices]]></category>\\r\\n\\t\\t<category><![CDATA[website]]></category>\\r\\n\\r\\n\\t\\t<guid isPermaLink=\"false\">http://hamiltoncomputerclub.org.nz/?p=231</guid>\\r\\n\\t\\t<description><![CDATA[I met with Bruce today and have cleaned up some loose end on your new look website. Members can now become contributors or post comments and have conversations. I suggest you all start here by commenting your likes and dislikes regarding look, format and content. It would be great to \\u2026 <a href=\"http://hamiltoncomputerclub.org.nz/new-website-blogs/\"> Continue reading <span class=\"meta-nav\">&#8594; </span></a>]]></description>\\r\\n\\t\\t<wfw:commentRss>http://hamiltoncomputerclub.org.nz/new-website-blogs/feed/</wfw:commentRss>\\r\\n\\t\\t<slash:comments>1</slash:comments>\\r\\n\\t\\t</item>\\r\\n\\t\\t<item>\\r\\n\\t\\t<title>PC World Magazine</title>\\r\\n\\t\\t<link>http://hamiltoncomputerclub.org.nz/pc-world-magazine/</link>\\r\\n\\t\\t<comments>http://hamiltoncomputerclub.org.nz/pc-world-magazine/#comments</comments>\\r\\n\\t\\t<pubDate>Sat, 14 Sep 2013 09:24:32 +0000</pubDate>\\r\\n\\t\\t<dc:creator><![CDATA[Virginia Schnauer]]></dc:creator>\\r\\n\\t\\t\\t\\t<category><![CDATA[Tidbits]]></category>\\r\\n\\t\\t<category><![CDATA[IT]]></category>\\r\\n\\t\\t<category><![CDATA[magazines]]></category>\\r\\n\\r\\n\\t\\t<guid isPermaLink=\"false\">http://hamiltoncomputerclub.org.nz/?p=190</guid>\\r\\n\\t\\t<description><![CDATA[End of a era PC World magazine has closed down. It is available online http://www.pcworld.co.nz/. The site now offers sections on smartphones and tablets, computers, gadgets, a business centre, home entertainment, cameras, and a forum It is intended for the IT trade publications to continue.]]></description>\\r\\n\\t\\t<wfw:commentRss>http://hamiltoncomputerclub.org.nz/pc-world-magazine/feed/</wfw:commentRss>\\r\\n\\t\\t<slash:comments>0</slash:comments>\\r\\n\\t\\t</item>\\r\\n\\t\\t<item>\\r\\n\\t\\t<title>First article</title>\\r\\n\\t\\t<link>http://hamiltoncomputerclub.org.nz/first-article/</link>\\r\\n\\t\\t<comments>http://hamiltoncomputerclub.org.nz/first-article/#comments</comments>\\r\\n\\t\\t<pubDate>Sun, 01 Sep 2013 11:06:21 +0000</pubDate>\\r\\n\\t\\t<dc:creator><![CDATA[Bruce Kingsbury]]></dc:creator>\\r\\n\\t\\t\\t\\t<category><![CDATA[Notices]]></category>\\r\\n\\t\\t<category><![CDATA[website]]></category>\\r\\n\\r\\n\\t\\t<guid isPermaLink=\"false\">http://hamiltoncomputerclub.org.nz/?p=49</guid>\\r\\n\\t\\t<description><![CDATA[This is the new website of the Hamilton PC computer club. It&#8217;s registered and hosted on wordpress by onlydomains.com. The theme at time or writing is wp386, a throwback to the old BBS days. I&#8217;m sure everybody on the committee is going to absolutely loath it which should encourage them \\u2026 <a href=\"http://hamiltoncomputerclub.org.nz/first-article/\"> Continue reading <span class=\"meta-nav\">&#8594; </span></a>]]></description>\\r\\n\\t\\t<wfw:commentRss>http://hamiltoncomputerclub.org.nz/first-article/feed/</wfw:commentRss>\\r\\n\\t\\t<slash:comments>3</slash:comments>\\r\\n\\t\\t</item>\\r\\n\\t</channel>\\r\\n</rss>\\r\\n'"
       ]
      }
     ],
     "prompt_number": 25
    },
    {
     "cell_type": "code",
     "collapsed": false,
     "input": [
      "#markdown.to_html_string('*testing one two three*')"
     ],
     "language": "python",
     "metadata": {},
     "outputs": [],
     "prompt_number": 39
    },
    {
     "cell_type": "code",
     "collapsed": false,
     "input": [
      "html = markdown.markdown('testing123!')"
     ],
     "language": "python",
     "metadata": {},
     "outputs": [],
     "prompt_number": 27
    },
    {
     "cell_type": "code",
     "collapsed": false,
     "input": [
      "print html"
     ],
     "language": "python",
     "metadata": {},
     "outputs": [
      {
       "output_type": "stream",
       "stream": "stdout",
       "text": [
        "<p>testing123!</p>\n"
       ]
      }
     ],
     "prompt_number": 28
    },
    {
     "cell_type": "code",
     "collapsed": false,
     "input": [
      "import os"
     ],
     "language": "python",
     "metadata": {},
     "outputs": [],
     "prompt_number": 29
    },
    {
     "cell_type": "code",
     "collapsed": false,
     "input": [
      "posfol = (\"/home/will/hamiiltoncomputerclub.org.nz/static/posts\")\n",
      "blotil = (\"wcmckee\")"
     ],
     "language": "python",
     "metadata": {},
     "outputs": [],
     "prompt_number": 37
    },
    {
     "cell_type": "code",
     "collapsed": false,
     "input": [
      "rstz = open((blotil + '.rst'), 'w')"
     ],
     "language": "python",
     "metadata": {},
     "outputs": [],
     "prompt_number": 33
    },
    {
     "cell_type": "code",
     "collapsed": false,
     "input": [],
     "language": "python",
     "metadata": {},
     "outputs": [],
     "prompt_number": 34
    },
    {
     "cell_type": "code",
     "collapsed": false,
     "input": [
      "conv = markdown.markdownFromFile"
     ],
     "language": "python",
     "metadata": {},
     "outputs": [],
     "prompt_number": 35
    },
    {
     "cell_type": "code",
     "collapsed": false,
     "input": [
      "import pandoc"
     ],
     "language": "python",
     "metadata": {},
     "outputs": []
    },
    {
     "cell_type": "code",
     "collapsed": false,
     "input": [
      "pandoc.PANDOC_PATH = ('/usr/bin/pandoc')"
     ],
     "language": "python",
     "metadata": {},
     "outputs": []
    },
    {
     "cell_type": "code",
     "collapsed": false,
     "input": [
      "panout = pandoc.Document.OUTPUT_FORMATS"
     ],
     "language": "python",
     "metadata": {},
     "outputs": []
    },
    {
     "cell_type": "code",
     "collapsed": false,
     "input": [
      "for pa in panout:\n",
      "    print pa"
     ],
     "language": "python",
     "metadata": {},
     "outputs": []
    },
    {
     "cell_type": "raw",
     "metadata": {},
     "source": []
    },
    {
     "cell_type": "code",
     "collapsed": true,
     "input": [
      "panin = pandoc.Document.INPUT_FORMATS"
     ],
     "language": "python",
     "metadata": {},
     "outputs": []
    },
    {
     "cell_type": "code",
     "collapsed": false,
     "input": [
      "panin"
     ],
     "language": "python",
     "metadata": {},
     "outputs": []
    },
    {
     "cell_type": "code",
     "collapsed": false,
     "input": [
      "for nai in panin:\n",
      "    print nai"
     ],
     "language": "python",
     "metadata": {},
     "outputs": []
    },
    {
     "cell_type": "code",
     "collapsed": false,
     "input": [
      "nai"
     ],
     "language": "python",
     "metadata": {},
     "outputs": []
    },
    {
     "cell_type": "code",
     "collapsed": false,
     "input": [
      "doc = pandoc.Document()\n",
      "doc.markdown = '''\n",
      "# I am a tag\n",
      "\n",
      "*omg this is a test!\n",
      "\n",
      "[artcontrol](https://artcontrol.me)\n",
      "'''"
     ],
     "language": "python",
     "metadata": {},
     "outputs": []
    },
    {
     "cell_type": "code",
     "collapsed": false,
     "input": [
      "print doc.html"
     ],
     "language": "python",
     "metadata": {},
     "outputs": []
    },
    {
     "cell_type": "code",
     "collapsed": false,
     "input": [],
     "language": "python",
     "metadata": {},
     "outputs": []
    }
   ],
   "metadata": {}
  }
 ]
}