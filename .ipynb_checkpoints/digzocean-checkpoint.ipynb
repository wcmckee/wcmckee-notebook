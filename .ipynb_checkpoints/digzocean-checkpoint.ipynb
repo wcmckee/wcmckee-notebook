{
 "metadata": {
  "name": "",
  "signature": "sha256:e22541d480c7a5a44ca826104fe076289479e70d6c5e63b388b0b528633df576"
 },
 "nbformat": 3,
 "nbformat_minor": 0,
 "worksheets": [
  {
   "cells": [
    {
     "cell_type": "markdown",
     "metadata": {},
     "source": [
      "digital ocean server setup and installing ipython notebook, and run website on web server. \n",
      "choose os you want, choose images you want. launch. "
     ]
    },
    {
     "cell_type": "markdown",
     "metadata": {},
     "source": [
      "user logs into digital ocean, chooses one of my snapshots (need to make snapshots of stuff i like.\n",
      "Makes server, runs script to install software. tick box on software you want. \n",
      "\n"
     ]
    },
    {
     "cell_type": "code",
     "collapsed": false,
     "input": [
      "from dop.client import Client"
     ],
     "language": "python",
     "metadata": {},
     "outputs": []
    },
    {
     "cell_type": "code",
     "collapsed": false,
     "input": [
      "client = Client()"
     ],
     "language": "python",
     "metadata": {},
     "outputs": []
    }
   ],
   "metadata": {}
  }
 ]
}