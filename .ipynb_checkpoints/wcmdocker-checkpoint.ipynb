{
 "metadata": {
  "name": ""
 },
 "nbformat": 3,
 "nbformat_minor": 0,
 "worksheets": [
  {
   "cells": [
    {
     "cell_type": "markdown",
     "metadata": {},
     "source": [
      "wcmckee docker. lets play "
     ]
    },
    {
     "cell_type": "code",
     "collapsed": false,
     "input": [
      "import docker"
     ],
     "language": "python",
     "metadata": {},
     "outputs": [],
     "prompt_number": 1
    },
    {
     "cell_type": "code",
     "collapsed": false,
     "input": [
      "c = docker.Client(base_url='unix://var/run/docker.sock',\n",
      "                  version='1.12',\n",
      "                  timeout=10)"
     ],
     "language": "python",
     "metadata": {},
     "outputs": [],
     "prompt_number": 2
    },
    {
     "cell_type": "code",
     "collapsed": false,
     "input": [
      "c.images()"
     ],
     "language": "python",
     "metadata": {},
     "outputs": [
      {
       "metadata": {},
       "output_type": "pyout",
       "prompt_number": 3,
       "text": [
        "[{u'Created': 1405187613,\n",
        "  u'Id': u'bf8719a4272d61925ec7a64eca2e50f1201dc24db55d12de0900161219731da9',\n",
        "  u'ParentId': u'be6068f263ee8230e3c8ff2b00714d84aa0781ae1bbf2f797f99c87c896b6f7e',\n",
        "  u'RepoTags': [u'tianon/true:latest'],\n",
        "  u'Size': 0,\n",
        "  u'VirtualSize': 125},\n",
        " {u'Created': 1405114912,\n",
        "  u'Id': u'e48c5e0f8c8abdf8df1e60555858382451f79de288778466e95454289e22ab7d',\n",
        "  u'ParentId': u'b02ab38cf640f4add4ae6264d7f2603c86f1d249bc96a209c17ce273c5daf74e',\n",
        "  u'RepoTags': [u'redis:latest'],\n",
        "  u'Size': 0,\n",
        "  u'VirtualSize': 812815581},\n",
        " {u'Created': 1404164147,\n",
        "  u'Id': u'58faa899733f1db4bf5722b12da74e6edf3c67c8f6d8db6559f547f9416f3c7e',\n",
        "  u'ParentId': u'6c3df001ea12dcf848ff51930954e2129ac8f5717ce98819237d2d5d3e8ddd25',\n",
        "  u'RepoTags': [u'ubuntu:14.10', u'ubuntu:utopic'],\n",
        "  u'Size': 0,\n",
        "  u'VirtualSize': 195975166},\n",
        " {u'Created': 1403714972,\n",
        "  u'Id': u'13e1304a44df7b80ddf24d194e4139039090e1c9dda96a7f3e2ecbe4365273c0',\n",
        "  u'ParentId': u'55760508308ac8f3d689acd0c91e9bdbbf503ced0196d03379d8646377e8efdd',\n",
        "  u'RepoTags': [u'tutum/wordpress:latest'],\n",
        "  u'Size': 0,\n",
        "  u'VirtualSize': 508927264},\n",
        " {u'Created': 1403644956,\n",
        "  u'Id': u'ea7d6801c5389e32dcf9577c3778f1eba9a1ee978db8f48020e4c479bc26e468',\n",
        "  u'ParentId': u'a343823119db57543086463ae7da8aaadbcef25781c0c4d121397a2550a419a6',\n",
        "  u'RepoTags': [u'ubuntu:12.04', u'ubuntu:precise'],\n",
        "  u'Size': 0,\n",
        "  u'VirtualSize': 127478945},\n",
        " {u'Created': 1403603493,\n",
        "  u'Id': u'59bc5d6f452729959eaa36ef2c0428329c71090064c21665601acf77f01bc390',\n",
        "  u'ParentId': u'f478cdd1f04f213d05e6a6b70ab7d7aa24ee215e08df791a3d38f5ceeaa58c31',\n",
        "  u'RepoTags': [u'wordpress:3',\n",
        "   u'wordpress:3.9',\n",
        "   u'wordpress:3.9.1',\n",
        "   u'wordpress:latest'],\n",
        "  u'Size': 0,\n",
        "  u'VirtualSize': 374234897},\n",
        " {u'Created': 1403128455,\n",
        "  u'Id': u'c5881f11ded97fd2252adf93268114329e985624c5d7bb86e439a36109d1124e',\n",
        "  u'ParentId': u'5796a7edb16bffa3408e0f00b1b8dc0fa4651ac88b68eee5a01b088bedb9c54a',\n",
        "  u'RepoTags': [u'ubuntu:12.10', u'ubuntu:quantal'],\n",
        "  u'Size': 70975635,\n",
        "  u'VirtualSize': 172159231},\n",
        " {u'Created': 1403128435,\n",
        "  u'Id': u'463ff6be4238c14f5b88898f17b47a9cf494f9a9be7b6170c3e852568d2b0432',\n",
        "  u'ParentId': u'47dd6d11a49fc66a304bb679d545e64335cfb1f12dacf76c89e1cbe50af5574d',\n",
        "  u'RepoTags': [u'ubuntu:13.04', u'ubuntu:raring'],\n",
        "  u'Size': 70819651,\n",
        "  u'VirtualSize': 169359891},\n",
        " {u'Created': 1403128415,\n",
        "  u'Id': u'195eb90b534950d334188c3627f860fbdf898e224d8a0a11ec54ff453175e081',\n",
        "  u'ParentId': u'209ea56fda6dc2fb013e4d1e40cb678b2af91d1b54a71529f7df0bd867adc961',\n",
        "  u'RepoTags': [u'ubuntu:13.10', u'ubuntu:saucy'],\n",
        "  u'Size': 4411741,\n",
        "  u'VirtualSize': 184716170},\n",
        " {u'Created': 1403128361,\n",
        "  u'Id': u'e54ca5efa2e962582a223ca9810f7f1b62ea9b5c3975d14a5da79d3bf6020f37',\n",
        "  u'ParentId': u'6c37f792ddacad573016e6aea7fc9fb377127b4767ce6104c9f869314a12041e',\n",
        "  u'RepoTags': [u'ubuntu:trusty', u'ubuntu:14.04', u'ubuntu:latest'],\n",
        "  u'Size': 178365,\n",
        "  u'VirtualSize': 276464769},\n",
        " {u'Created': 1402939483,\n",
        "  u'Id': u'82de9a33461c913572415a6c949228567df1905e06ac959857e680b78cae0cdf',\n",
        "  u'ParentId': u'cc3f50077e1b33cac281710e22d86f4367d2892ec58c4c871d8c5caaf278ba94',\n",
        "  u'RepoTags': [u'parente/ipython:latest'],\n",
        "  u'Size': 0,\n",
        "  u'VirtualSize': 576319980},\n",
        " {u'Created': 1402939418,\n",
        "  u'Id': u'7524ee0871076b8e938bb1505377478d7620f77623169e4b6b308b2bdb1422c9',\n",
        "  u'ParentId': u'564eae772382d9e43473b77ed85fd9aea7a8d9a3f26a935a88cfef55da526d55',\n",
        "  u'RepoTags': [u'parente/ipython:ipython-2.0'],\n",
        "  u'Size': 0,\n",
        "  u'VirtualSize': 576319980},\n",
        " {u'Created': 1398108230,\n",
        "  u'Id': u'3db9c44f45209632d6050b35958829c3a2aa256d81b9a7be45b362ff85c54710',\n",
        "  u'ParentId': u'6cfa4d1f33fb861d4d114f43b25abd0ac737509268065cdfd69d544a59c85ab8',\n",
        "  u'RepoTags': [u'ubuntu:10.04', u'ubuntu:lucid'],\n",
        "  u'Size': 182964289,\n",
        "  u'VirtualSize': 182964289},\n",
        " {u'Created': 1391765430,\n",
        "  u'Id': u'054a79db7438fc0098ef9e4dd2df606f22877d57716377ba81ecbd4ae8440def',\n",
        "  u'ParentId': u'',\n",
        "  u'RepoTags': [u'extellisys/debian-sid:latest'],\n",
        "  u'Size': 123340273,\n",
        "  u'VirtualSize': 123340273},\n",
        " {u'Created': 1384978119,\n",
        "  u'Id': u'a6e9484c841ca0eef09dc0af3a244906ed82cd93407270a4351b61e78972acb7',\n",
        "  u'ParentId': u'e81a0bbd7ed05446071bab382814b70e442719d093580ef1fa1eb3d90e864fe7',\n",
        "  u'RepoTags': [u'proppy/debian-dev:latest'],\n",
        "  u'Size': 367799657,\n",
        "  u'VirtualSize': 619829911},\n",
        " {u'Created': 1383360413,\n",
        "  u'Id': u'85db123466ba168948a022b8799ed90cde3ba92ad78ec88e3d5208ad2dbe6217',\n",
        "  u'ParentId': u'b2f343da464d02076377e8ea30b2ecec96e5d60f86b71365347375547da05ec7',\n",
        "  u'RepoTags': [u'parente/ipython-notebook:latest'],\n",
        "  u'Size': 0,\n",
        "  u'VirtualSize': 1219984492},\n",
        " {u'Created': 1373904076,\n",
        "  u'Id': u'13aaf9ab41e58def669c31afadd978f06ef7b046f7b73b3c730f5b8fd412e892',\n",
        "  u'ParentId': u'b750fe79269d2ec9a3c593ef05b4332b1d1a02a62b4accb2c21d589ff2f5f2dc',\n",
        "  u'RepoTags': [u'johncosta/redis:latest'],\n",
        "  u'Size': 98609836,\n",
        "  u'VirtualSize': 273916871}]"
       ]
      }
     ],
     "prompt_number": 3
    },
    {
     "cell_type": "code",
     "collapsed": false,
     "input": [
      "c.get_image('tutum/wordpress')"
     ],
     "language": "python",
     "metadata": {},
     "outputs": [
      {
       "ename": "Timeout",
       "evalue": "UnixHTTPConnectionPool(host='localhost', port=None): Read timed out. (read timeout=<object object at 0x7f0e76b04290>)",
       "output_type": "pyerr",
       "traceback": [
        "\u001b[0;31m---------------------------------------------------------------------------\u001b[0m\n\u001b[0;31mTimeout\u001b[0m                                   Traceback (most recent call last)",
        "\u001b[0;32m<ipython-input-7-d938bffdb692>\u001b[0m in \u001b[0;36m<module>\u001b[0;34m()\u001b[0m\n\u001b[0;32m----> 1\u001b[0;31m \u001b[0mc\u001b[0m\u001b[0;34m.\u001b[0m\u001b[0mget_image\u001b[0m\u001b[0;34m(\u001b[0m\u001b[0;34m'tutum/wordpress'\u001b[0m\u001b[0;34m)\u001b[0m\u001b[0;34m\u001b[0m\u001b[0m\n\u001b[0m",
        "\u001b[0;32m/usr/local/lib/python2.7/dist-packages/docker/client.pyc\u001b[0m in \u001b[0;36mget_image\u001b[0;34m(self, image)\u001b[0m\n\u001b[1;32m    489\u001b[0m     \u001b[0;32mdef\u001b[0m \u001b[0mget_image\u001b[0m\u001b[0;34m(\u001b[0m\u001b[0mself\u001b[0m\u001b[0;34m,\u001b[0m \u001b[0mimage\u001b[0m\u001b[0;34m)\u001b[0m\u001b[0;34m:\u001b[0m\u001b[0;34m\u001b[0m\u001b[0m\n\u001b[1;32m    490\u001b[0m         res = self._get(self._url(\"/images/{0}/get\".format(image)),\n\u001b[0;32m--> 491\u001b[0;31m                         stream=True)\n\u001b[0m\u001b[1;32m    492\u001b[0m         \u001b[0mself\u001b[0m\u001b[0;34m.\u001b[0m\u001b[0m_raise_for_status\u001b[0m\u001b[0;34m(\u001b[0m\u001b[0mres\u001b[0m\u001b[0;34m)\u001b[0m\u001b[0;34m\u001b[0m\u001b[0m\n\u001b[1;32m    493\u001b[0m         \u001b[0;32mreturn\u001b[0m \u001b[0mres\u001b[0m\u001b[0;34m.\u001b[0m\u001b[0mraw\u001b[0m\u001b[0;34m\u001b[0m\u001b[0m\n",
        "\u001b[0;32m/usr/local/lib/python2.7/dist-packages/docker/client.pyc\u001b[0m in \u001b[0;36m_get\u001b[0;34m(self, url, **kwargs)\u001b[0m\n\u001b[1;32m     67\u001b[0m \u001b[0;34m\u001b[0m\u001b[0m\n\u001b[1;32m     68\u001b[0m     \u001b[0;32mdef\u001b[0m \u001b[0m_get\u001b[0m\u001b[0;34m(\u001b[0m\u001b[0mself\u001b[0m\u001b[0;34m,\u001b[0m \u001b[0murl\u001b[0m\u001b[0;34m,\u001b[0m \u001b[0;34m**\u001b[0m\u001b[0mkwargs\u001b[0m\u001b[0;34m)\u001b[0m\u001b[0;34m:\u001b[0m\u001b[0;34m\u001b[0m\u001b[0m\n\u001b[0;32m---> 69\u001b[0;31m         \u001b[0;32mreturn\u001b[0m \u001b[0mself\u001b[0m\u001b[0;34m.\u001b[0m\u001b[0mget\u001b[0m\u001b[0;34m(\u001b[0m\u001b[0murl\u001b[0m\u001b[0;34m,\u001b[0m \u001b[0;34m**\u001b[0m\u001b[0mself\u001b[0m\u001b[0;34m.\u001b[0m\u001b[0m_set_request_timeout\u001b[0m\u001b[0;34m(\u001b[0m\u001b[0mkwargs\u001b[0m\u001b[0;34m)\u001b[0m\u001b[0;34m)\u001b[0m\u001b[0;34m\u001b[0m\u001b[0m\n\u001b[0m\u001b[1;32m     70\u001b[0m \u001b[0;34m\u001b[0m\u001b[0m\n\u001b[1;32m     71\u001b[0m     \u001b[0;32mdef\u001b[0m \u001b[0m_delete\u001b[0m\u001b[0;34m(\u001b[0m\u001b[0mself\u001b[0m\u001b[0;34m,\u001b[0m \u001b[0murl\u001b[0m\u001b[0;34m,\u001b[0m \u001b[0;34m**\u001b[0m\u001b[0mkwargs\u001b[0m\u001b[0;34m)\u001b[0m\u001b[0;34m:\u001b[0m\u001b[0;34m\u001b[0m\u001b[0m\n",
        "\u001b[0;32m/usr/lib/python2.7/dist-packages/requests/sessions.pyc\u001b[0m in \u001b[0;36mget\u001b[0;34m(self, url, **kwargs)\u001b[0m\n\u001b[1;32m    393\u001b[0m \u001b[0;34m\u001b[0m\u001b[0m\n\u001b[1;32m    394\u001b[0m         \u001b[0mkwargs\u001b[0m\u001b[0;34m.\u001b[0m\u001b[0msetdefault\u001b[0m\u001b[0;34m(\u001b[0m\u001b[0;34m'allow_redirects'\u001b[0m\u001b[0;34m,\u001b[0m \u001b[0mTrue\u001b[0m\u001b[0;34m)\u001b[0m\u001b[0;34m\u001b[0m\u001b[0m\n\u001b[0;32m--> 395\u001b[0;31m         \u001b[0;32mreturn\u001b[0m \u001b[0mself\u001b[0m\u001b[0;34m.\u001b[0m\u001b[0mrequest\u001b[0m\u001b[0;34m(\u001b[0m\u001b[0;34m'GET'\u001b[0m\u001b[0;34m,\u001b[0m \u001b[0murl\u001b[0m\u001b[0;34m,\u001b[0m \u001b[0;34m**\u001b[0m\u001b[0mkwargs\u001b[0m\u001b[0;34m)\u001b[0m\u001b[0;34m\u001b[0m\u001b[0m\n\u001b[0m\u001b[1;32m    396\u001b[0m \u001b[0;34m\u001b[0m\u001b[0m\n\u001b[1;32m    397\u001b[0m     \u001b[0;32mdef\u001b[0m \u001b[0moptions\u001b[0m\u001b[0;34m(\u001b[0m\u001b[0mself\u001b[0m\u001b[0;34m,\u001b[0m \u001b[0murl\u001b[0m\u001b[0;34m,\u001b[0m \u001b[0;34m**\u001b[0m\u001b[0mkwargs\u001b[0m\u001b[0;34m)\u001b[0m\u001b[0;34m:\u001b[0m\u001b[0;34m\u001b[0m\u001b[0m\n",
        "\u001b[0;32m/usr/lib/python2.7/dist-packages/requests/sessions.pyc\u001b[0m in \u001b[0;36mrequest\u001b[0;34m(self, method, url, params, data, headers, cookies, files, auth, timeout, allow_redirects, proxies, hooks, stream, verify, cert)\u001b[0m\n\u001b[1;32m    381\u001b[0m             \u001b[0;34m'allow_redirects'\u001b[0m\u001b[0;34m:\u001b[0m \u001b[0mallow_redirects\u001b[0m\u001b[0;34m,\u001b[0m\u001b[0;34m\u001b[0m\u001b[0m\n\u001b[1;32m    382\u001b[0m         }\n\u001b[0;32m--> 383\u001b[0;31m         \u001b[0mresp\u001b[0m \u001b[0;34m=\u001b[0m \u001b[0mself\u001b[0m\u001b[0;34m.\u001b[0m\u001b[0msend\u001b[0m\u001b[0;34m(\u001b[0m\u001b[0mprep\u001b[0m\u001b[0;34m,\u001b[0m \u001b[0;34m**\u001b[0m\u001b[0msend_kwargs\u001b[0m\u001b[0;34m)\u001b[0m\u001b[0;34m\u001b[0m\u001b[0m\n\u001b[0m\u001b[1;32m    384\u001b[0m \u001b[0;34m\u001b[0m\u001b[0m\n\u001b[1;32m    385\u001b[0m         \u001b[0;32mreturn\u001b[0m \u001b[0mresp\u001b[0m\u001b[0;34m\u001b[0m\u001b[0m\n",
        "\u001b[0;32m/usr/lib/python2.7/dist-packages/requests/sessions.pyc\u001b[0m in \u001b[0;36msend\u001b[0;34m(self, request, **kwargs)\u001b[0m\n\u001b[1;32m    484\u001b[0m         \u001b[0mstart\u001b[0m \u001b[0;34m=\u001b[0m \u001b[0mdatetime\u001b[0m\u001b[0;34m.\u001b[0m\u001b[0mutcnow\u001b[0m\u001b[0;34m(\u001b[0m\u001b[0;34m)\u001b[0m\u001b[0;34m\u001b[0m\u001b[0m\n\u001b[1;32m    485\u001b[0m         \u001b[0;31m# Send the request\u001b[0m\u001b[0;34m\u001b[0m\u001b[0;34m\u001b[0m\u001b[0m\n\u001b[0;32m--> 486\u001b[0;31m         \u001b[0mr\u001b[0m \u001b[0;34m=\u001b[0m \u001b[0madapter\u001b[0m\u001b[0;34m.\u001b[0m\u001b[0msend\u001b[0m\u001b[0;34m(\u001b[0m\u001b[0mrequest\u001b[0m\u001b[0;34m,\u001b[0m \u001b[0;34m**\u001b[0m\u001b[0mkwargs\u001b[0m\u001b[0;34m)\u001b[0m\u001b[0;34m\u001b[0m\u001b[0m\n\u001b[0m\u001b[1;32m    487\u001b[0m         \u001b[0;31m# Total elapsed time of the request (approximately)\u001b[0m\u001b[0;34m\u001b[0m\u001b[0;34m\u001b[0m\u001b[0m\n\u001b[1;32m    488\u001b[0m         \u001b[0mr\u001b[0m\u001b[0;34m.\u001b[0m\u001b[0melapsed\u001b[0m \u001b[0;34m=\u001b[0m \u001b[0mdatetime\u001b[0m\u001b[0;34m.\u001b[0m\u001b[0mutcnow\u001b[0m\u001b[0;34m(\u001b[0m\u001b[0;34m)\u001b[0m \u001b[0;34m-\u001b[0m \u001b[0mstart\u001b[0m\u001b[0;34m\u001b[0m\u001b[0m\n",
        "\u001b[0;32m/usr/lib/python2.7/dist-packages/requests/adapters.pyc\u001b[0m in \u001b[0;36msend\u001b[0;34m(self, request, stream, timeout, verify, cert, proxies)\u001b[0m\n\u001b[1;32m    385\u001b[0m                 \u001b[0;32mraise\u001b[0m \u001b[0mSSLError\u001b[0m\u001b[0;34m(\u001b[0m\u001b[0me\u001b[0m\u001b[0;34m)\u001b[0m\u001b[0;34m\u001b[0m\u001b[0m\n\u001b[1;32m    386\u001b[0m             \u001b[0;32melif\u001b[0m \u001b[0misinstance\u001b[0m\u001b[0;34m(\u001b[0m\u001b[0me\u001b[0m\u001b[0;34m,\u001b[0m \u001b[0mTimeoutError\u001b[0m\u001b[0;34m)\u001b[0m\u001b[0;34m:\u001b[0m\u001b[0;34m\u001b[0m\u001b[0m\n\u001b[0;32m--> 387\u001b[0;31m                 \u001b[0;32mraise\u001b[0m \u001b[0mTimeout\u001b[0m\u001b[0;34m(\u001b[0m\u001b[0me\u001b[0m\u001b[0;34m)\u001b[0m\u001b[0;34m\u001b[0m\u001b[0m\n\u001b[0m\u001b[1;32m    388\u001b[0m             \u001b[0;32melse\u001b[0m\u001b[0;34m:\u001b[0m\u001b[0;34m\u001b[0m\u001b[0m\n\u001b[1;32m    389\u001b[0m                 \u001b[0;32mraise\u001b[0m\u001b[0;34m\u001b[0m\u001b[0m\n",
        "\u001b[0;31mTimeout\u001b[0m: UnixHTTPConnectionPool(host='localhost', port=None): Read timed out. (read timeout=<object object at 0x7f0e76b04290>)"
       ]
      }
     ],
     "prompt_number": 7
    },
    {
     "cell_type": "code",
     "collapsed": false,
     "input": [
      "c.pull('debian')"
     ],
     "language": "python",
     "metadata": {},
     "outputs": [],
     "prompt_number": "*"
    },
    {
     "cell_type": "code",
     "collapsed": false,
     "input": [
      "c.inspect_con59bc5d6f4527"
     ],
     "language": "python",
     "metadata": {},
     "outputs": []
    }
   ],
   "metadata": {}
  }
 ]
}