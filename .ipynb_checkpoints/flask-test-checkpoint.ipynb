{
 "metadata": {
  "name": "",
  "signature": "sha256:d5b1524c327fde35aebf77de6d25a3b3ba04114b81c081b1b1a51c392e540ab2"
 },
 "nbformat": 3,
 "nbformat_minor": 0,
 "worksheets": [
  {
   "cells": [
    {
     "cell_type": "code",
     "collapsed": false,
     "input": [
      "from flask import Flask, FlatPages\n",
      "import FlatPages\n",
      "\n",
      "DEBUG = True\n",
      "FLATPAGES_AUTO_RELOAD = DEBUG\n",
      "FLATPAGES_EXTENSION = '.md'\n",
      "\n",
      "app = Flask(__name__)\n",
      "app.config.from_object(__name__)\n",
      "pages = FlatPages(app)\n",
      "\n",
      "@app.route('/')\n",
      "def index():\n",
      "    return \"Hello World\"\n",
      "\n",
      "@app.route('/<path:path>/')\n",
      "def page(path):\n",
      "    return pages.get_or_404(path).html\n",
      "\n",
      "if __name__ == '__main__':\n",
      "    app.run(port=8000)"
     ],
     "language": "python",
     "metadata": {},
     "outputs": []
    },
    {
     "cell_type": "code",
     "collapsed": false,
     "input": [],
     "language": "python",
     "metadata": {},
     "outputs": []
    }
   ],
   "metadata": {}
  }
 ]
}