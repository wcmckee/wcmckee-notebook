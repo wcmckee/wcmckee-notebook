{
 "metadata": {
  "name": "",
  "signature": "sha256:338b65f780399b9e3a866fcdad4f118c06f104ba02af7a50e0b8ed460a1c8970"
 },
 "nbformat": 3,
 "nbformat_minor": 0,
 "worksheets": [
  {
   "cells": [
    {
     "cell_type": "code",
     "collapsed": true,
     "input": [
      "import requests\n",
      "import json\n",
      "import random"
     ],
     "language": "python",
     "metadata": {},
     "outputs": [],
     "prompt_number": 515
    },
    {
     "cell_type": "markdown",
     "metadata": {},
     "source": [
      "<h1>Python Auckland Transport</h1> \n",
      "\n",
      "This was created during the Hack Auckland: Auckland Transport event in Auckland.\n",
      "The first day was spent visiting the vendors and having a play with bitcoin.\n",
      "2nd day was more productive with this python code being typed.\n",
      "My plan was to use data from the Auckland Motorcams to detect crashes or events happening on the road. I really should of said this when I got up and talked in front of people about my plan for the event - instead I mentioned the camera feed and how I would like to improve it with more relatient information - including gps of the cameras. "
     ]
    },
    {
     "cell_type": "code",
     "collapsed": true,
     "input": [
      "atdat = requests.get('https://api.at.govt.nz/v1/public/display/parkinglocations?api_key=433feddb-d4b9-473b-a0c2-ac982a6d78cd')\n"
     ],
     "language": "python",
     "metadata": {},
     "outputs": [],
     "prompt_number": 516
    },
    {
     "cell_type": "code",
     "collapsed": true,
     "input": [
      "atext = atdat.text"
     ],
     "language": "python",
     "metadata": {},
     "outputs": [],
     "prompt_number": 517
    },
    {
     "cell_type": "code",
     "collapsed": true,
     "input": [
      "atdict = json.loads(atext)"
     ],
     "language": "python",
     "metadata": {},
     "outputs": [],
     "prompt_number": 518
    },
    {
     "cell_type": "code",
     "collapsed": true,
     "input": [
      "atres = atdict['response']"
     ],
     "language": "python",
     "metadata": {},
     "outputs": [],
     "prompt_number": 519
    },
    {
     "cell_type": "code",
     "collapsed": true,
     "input": [
      "atlen = len(atres)"
     ],
     "language": "python",
     "metadata": {},
     "outputs": [],
     "prompt_number": 520
    },
    {
     "cell_type": "code",
     "collapsed": false,
     "input": [
      "ranpark = random.randint(0, atlen)"
     ],
     "language": "python",
     "metadata": {},
     "outputs": [],
     "prompt_number": 521
    },
    {
     "cell_type": "code",
     "collapsed": true,
     "input": [
      "mything = parks()"
     ],
     "language": "python",
     "metadata": {},
     "outputs": [],
     "prompt_number": 522
    },
    {
     "cell_type": "code",
     "collapsed": true,
     "input": [
      "for a in mything.getparks():\n",
      "    print a.keys()"
     ],
     "language": "python",
     "metadata": {},
     "outputs": [
      {
       "output_type": "stream",
       "stream": "stdout",
       "text": [
        "[u'mobilitySpaces', u'name', u'longitude', u'address', u'latitude', u'type', u'id']\n",
        "[u'mobilitySpaces', u'name', u'longitude', u'address', u'latitude', u'type', u'id']\n",
        "[u'mobilitySpaces', u'name', u'longitude', u'address', u'latitude', u'type', u'id']\n",
        "[u'mobilitySpaces', u'name', u'longitude', u'address', u'latitude', u'type', u'id']\n",
        "[u'mobilitySpaces', u'name', u'longitude', u'address', u'latitude', u'type', u'id']\n",
        "[u'mobilitySpaces', u'name', u'longitude', u'address', u'latitude', u'type', u'id']\n",
        "[u'mobilitySpaces', u'name', u'longitude', u'address', u'latitude', u'type', u'id']\n",
        "[u'mobilitySpaces', u'name', u'longitude', u'address', u'latitude', u'type', u'id']\n",
        "[u'mobilitySpaces', u'name', u'longitude', u'address', u'latitude', u'type', u'id']\n",
        "[u'mobilitySpaces', u'name', u'longitude', u'address', u'latitude', u'type', u'id']\n",
        "[u'mobilitySpaces', u'name', u'longitude', u'address', u'latitude', u'type', u'id']\n",
        "[u'mobilitySpaces', u'name', u'longitude', u'address', u'latitude', u'type', u'id']\n",
        "[u'mobilitySpaces', u'name', u'longitude', u'address', u'latitude', u'type', u'id']\n",
        "[u'mobilitySpaces', u'name', u'longitude', u'address', u'latitude', u'type', u'id']\n",
        "[u'mobilitySpaces', u'name', u'longitude', u'address', u'latitude', u'type', u'id']\n",
        "[u'mobilitySpaces', u'name', u'longitude', u'address', u'latitude', u'type', u'id']\n",
        "[u'mobilitySpaces', u'name', u'longitude', u'address', u'latitude', u'type', u'id']\n",
        "[u'mobilitySpaces', u'name', u'longitude', u'address', u'latitude', u'type', u'id']\n",
        "[u'mobilitySpaces', u'name', u'longitude', u'address', u'latitude', u'type', u'id']\n",
        "[u'mobilitySpaces', u'name', u'longitude', u'address', u'latitude', u'type', u'id']\n",
        "[u'mobilitySpaces', u'name', u'longitude', u'address', u'latitude', u'type', u'id']\n",
        "[u'mobilitySpaces', u'name', u'longitude', u'address', u'latitude', u'type', u'id']\n",
        "[u'mobilitySpaces', u'name', u'longitude', u'address', u'latitude', u'type', u'id']\n",
        "[u'mobilitySpaces', u'name', u'longitude', u'address', u'latitude', u'type', u'id']\n",
        "[u'mobilitySpaces', u'name', u'longitude', u'address', u'latitude', u'type', u'id']\n",
        "[u'mobilitySpaces', u'name', u'longitude', u'address', u'latitude', u'type', u'id']\n",
        "[u'mobilitySpaces', u'name', u'longitude', u'address', u'latitude', u'type', u'id']\n",
        "[u'mobilitySpaces', u'name', u'longitude', u'address', u'latitude', u'type', u'id']\n",
        "[u'mobilitySpaces', u'name', u'longitude', u'address', u'latitude', u'type', u'id']\n",
        "[u'mobilitySpaces', u'name', u'longitude', u'address', u'latitude', u'type', u'id']\n",
        "[u'mobilitySpaces', u'name', u'longitude', u'address', u'latitude', u'type', u'id']\n",
        "[u'mobilitySpaces', u'name', u'longitude', u'address', u'latitude', u'type', u'id']\n",
        "[u'mobilitySpaces', u'name', u'longitude', u'address', u'latitude', u'type', u'id']\n",
        "[u'mobilitySpaces', u'name', u'longitude', u'address', u'latitude', u'type', u'id']\n",
        "[u'mobilitySpaces', u'name', u'longitude', u'address', u'latitude', u'type', u'id']\n",
        "[u'mobilitySpaces', u'name', u'longitude', u'address', u'latitude', u'type', u'id']\n",
        "[u'mobilitySpaces', u'name', u'longitude', u'address', u'latitude', u'type', u'id']\n",
        "[u'mobilitySpaces', u'name', u'longitude', u'address', u'latitude', u'type', u'id']\n",
        "[u'mobilitySpaces', u'name', u'longitude', u'address', u'latitude', u'type', u'id']\n",
        "[u'mobilitySpaces', u'name', u'longitude', u'address', u'latitude', u'type', u'id']\n",
        "[u'mobilitySpaces', u'name', u'longitude', u'address', u'latitude', u'type', u'id']\n",
        "[u'mobilitySpaces', u'name', u'longitude', u'address', u'latitude', u'type', u'id']\n",
        "[u'mobilitySpaces', u'name', u'longitude', u'address', u'latitude', u'type', u'id']\n",
        "[u'mobilitySpaces', u'name', u'longitude', u'address', u'latitude', u'type', u'id']\n",
        "[u'mobilitySpaces', u'name', u'longitude', u'address', u'latitude', u'type', u'id']\n",
        "[u'mobilitySpaces', u'name', u'longitude', u'address', u'latitude', u'type', u'id']\n",
        "[u'mobilitySpaces', u'name', u'longitude', u'address', u'latitude', u'type', u'id']\n",
        "[u'mobilitySpaces', u'name', u'longitude', u'address', u'latitude', u'type', u'id']\n",
        "[u'mobilitySpaces', u'name', u'longitude', u'address', u'latitude', u'type', u'id']\n",
        "[u'mobilitySpaces', u'name', u'longitude', u'address', u'latitude', u'type', u'id']\n",
        "[u'mobilitySpaces', u'name', u'longitude', u'address', u'latitude', u'type', u'id']\n",
        "[u'mobilitySpaces', u'name', u'longitude', u'address', u'latitude', u'type', u'id']\n",
        "[u'mobilitySpaces', u'name', u'longitude', u'address', u'latitude', u'type', u'id']\n",
        "[u'mobilitySpaces', u'name', u'longitude', u'address', u'latitude', u'type', u'id']\n",
        "[u'mobilitySpaces', u'name', u'longitude', u'address', u'latitude', u'type', u'id']\n",
        "[u'mobilitySpaces', u'name', u'longitude', u'address', u'latitude', u'type', u'id']\n",
        "[u'mobilitySpaces', u'name', u'longitude', u'address', u'latitude', u'type', u'id']\n",
        "[u'mobilitySpaces', u'name', u'longitude', u'address', u'latitude', u'type', u'id']\n",
        "[u'mobilitySpaces', u'name', u'longitude', u'address', u'latitude', u'type', u'id']\n",
        "[u'mobilitySpaces', u'name', u'longitude', u'address', u'latitude', u'type', u'id']\n",
        "[u'mobilitySpaces', u'name', u'longitude', u'address', u'latitude', u'type', u'id']\n",
        "[u'mobilitySpaces', u'name', u'longitude', u'address', u'latitude', u'type', u'id']\n",
        "[u'mobilitySpaces', u'name', u'longitude', u'address', u'latitude', u'type', u'id']\n",
        "[u'mobilitySpaces', u'name', u'longitude', u'address', u'latitude', u'type', u'id']\n",
        "[u'mobilitySpaces', u'name', u'longitude', u'address', u'latitude', u'type', u'id']\n",
        "[u'mobilitySpaces', u'name', u'longitude', u'address', u'latitude', u'type', u'id']\n",
        "[u'mobilitySpaces', u'name', u'longitude', u'address', u'latitude', u'type', u'id']\n",
        "[u'mobilitySpaces', u'name', u'longitude', u'address', u'latitude', u'type', u'id']\n",
        "[u'mobilitySpaces', u'name', u'longitude', u'address', u'latitude', u'type', u'id']\n",
        "[u'mobilitySpaces', u'name', u'longitude', u'address', u'latitude', u'type', u'id']\n",
        "[u'mobilitySpaces', u'name', u'longitude', u'address', u'latitude', u'type', u'id']\n",
        "[u'mobilitySpaces', u'name', u'longitude', u'address', u'latitude', u'type', u'id']\n",
        "[u'mobilitySpaces', u'name', u'longitude', u'address', u'latitude', u'type', u'id']\n",
        "[u'mobilitySpaces', u'name', u'longitude', u'address', u'latitude', u'type', u'id']\n",
        "[u'mobilitySpaces', u'name', u'longitude', u'address', u'latitude', u'type', u'id']\n",
        "[u'mobilitySpaces', u'name', u'longitude', u'address', u'latitude', u'type', u'id']\n",
        "[u'mobilitySpaces', u'name', u'longitude', u'address', u'latitude', u'type', u'id']\n",
        "[u'mobilitySpaces', u'name', u'longitude', u'address', u'latitude', u'type', u'id']\n",
        "[u'mobilitySpaces', u'name', u'longitude', u'address', u'latitude', u'type', u'id']\n",
        "[u'mobilitySpaces', u'name', u'longitude', u'address', u'latitude', u'type', u'id']\n",
        "[u'mobilitySpaces', u'name', u'longitude', u'address', u'latitude', u'type', u'id']\n",
        "[u'mobilitySpaces', u'name', u'longitude', u'address', u'latitude', u'type', u'id']\n",
        "[u'mobilitySpaces', u'name', u'longitude', u'address', u'latitude', u'type', u'id']\n",
        "[u'mobilitySpaces', u'name', u'longitude', u'address', u'latitude', u'type', u'id']\n",
        "[u'mobilitySpaces', u'name', u'longitude', u'address', u'latitude', u'type', u'id']\n",
        "[u'mobilitySpaces', u'name', u'longitude', u'address', u'latitude', u'type', u'id']\n",
        "[u'mobilitySpaces', u'name', u'longitude', u'address', u'latitude', u'type', u'id']\n",
        "[u'mobilitySpaces', u'name', u'longitude', u'address', u'latitude', u'type', u'id']\n",
        "[u'mobilitySpaces', u'name', u'longitude', u'address', u'latitude', u'type', u'id']\n",
        "[u'mobilitySpaces', u'name', u'longitude', u'address', u'latitude', u'type', u'id']\n",
        "[u'mobilitySpaces', u'name', u'longitude', u'address', u'latitude', u'type', u'id']\n",
        "[u'mobilitySpaces', u'name', u'longitude', u'address', u'latitude', u'type', u'id']\n",
        "[u'mobilitySpaces', u'name', u'longitude', u'address', u'latitude', u'type', u'id']\n",
        "[u'mobilitySpaces', u'name', u'longitude', u'address', u'latitude', u'type', u'id']\n",
        "[u'mobilitySpaces', u'name', u'longitude', u'address', u'latitude', u'type', u'id']\n",
        "[u'mobilitySpaces', u'name', u'longitude', u'address', u'latitude', u'type', u'id']\n",
        "[u'mobilitySpaces', u'name', u'longitude', u'address', u'latitude', u'type', u'id']\n",
        "[u'mobilitySpaces', u'name', u'longitude', u'address', u'latitude', u'type', u'id']\n",
        "[u'mobilitySpaces', u'name', u'longitude', u'address', u'latitude', u'type', u'id']\n",
        "[u'mobilitySpaces', u'name', u'longitude', u'address', u'latitude', u'type', u'id']\n",
        "[u'mobilitySpaces', u'name', u'longitude', u'address', u'latitude', u'type', u'id']\n",
        "[u'mobilitySpaces', u'name', u'longitude', u'address', u'latitude', u'type', u'id']\n",
        "[u'mobilitySpaces', u'name', u'longitude', u'address', u'latitude', u'type', u'id']\n",
        "[u'mobilitySpaces', u'name', u'longitude', u'address', u'latitude', u'type', u'id']\n",
        "[u'mobilitySpaces', u'name', u'longitude', u'address', u'latitude', u'type', u'id']\n",
        "[u'mobilitySpaces', u'name', u'longitude', u'address', u'latitude', u'type', u'id']\n",
        "[u'mobilitySpaces', u'name', u'longitude', u'address', u'latitude', u'type', u'id']\n",
        "[u'mobilitySpaces', u'name', u'longitude', u'address', u'latitude', u'type', u'id']\n",
        "[u'mobilitySpaces', u'name', u'longitude', u'address', u'latitude', u'type', u'id']\n",
        "[u'mobilitySpaces', u'name', u'longitude', u'address', u'latitude', u'type', u'id']\n",
        "[u'mobilitySpaces', u'name', u'longitude', u'address', u'latitude', u'type', u'id']\n",
        "[u'mobilitySpaces', u'name', u'longitude', u'address', u'latitude', u'type', u'id']\n",
        "[u'mobilitySpaces', u'name', u'longitude', u'address', u'latitude', u'type', u'id']\n",
        "[u'mobilitySpaces', u'name', u'longitude', u'address', u'latitude', u'type', u'id']\n",
        "[u'mobilitySpaces', u'name', u'longitude', u'address', u'latitude', u'type', u'id']\n",
        "[u'mobilitySpaces', u'name', u'longitude', u'address', u'latitude', u'type', u'id']\n",
        "[u'mobilitySpaces', u'name', u'longitude', u'address', u'latitude', u'type', u'id']\n",
        "[u'mobilitySpaces', u'name', u'longitude', u'address', u'latitude', u'type', u'id']\n",
        "[u'mobilitySpaces', u'name', u'longitude', u'address', u'latitude', u'type', u'id']\n",
        "[u'mobilitySpaces', u'name', u'longitude', u'address', u'latitude', u'type', u'id']\n",
        "[u'mobilitySpaces', u'name', u'longitude', u'address', u'latitude', u'type', u'id']\n",
        "[u'mobilitySpaces', u'name', u'longitude', u'address', u'latitude', u'type', u'id']\n",
        "[u'mobilitySpaces', u'name', u'longitude', u'address', u'latitude', u'type', u'id']\n",
        "[u'mobilitySpaces', u'name', u'longitude', u'address', u'latitude', u'type', u'id']\n",
        "[u'mobilitySpaces', u'name', u'longitude', u'address', u'latitude', u'type', u'id']\n",
        "[u'mobilitySpaces', u'name', u'longitude', u'address', u'latitude', u'type', u'id']\n",
        "[u'mobilitySpaces', u'name', u'longitude', u'address', u'latitude', u'type', u'id']\n",
        "[u'mobilitySpaces', u'name', u'longitude', u'address', u'latitude', u'type', u'id']\n",
        "[u'mobilitySpaces', u'name', u'longitude', u'address', u'latitude', u'type', u'id']\n",
        "[u'mobilitySpaces', u'name', u'longitude', u'address', u'latitude', u'type', u'id']\n",
        "[u'mobilitySpaces', u'name', u'longitude', u'address', u'latitude', u'type', u'id']\n",
        "[u'mobilitySpaces', u'name', u'longitude', u'address', u'latitude', u'type', u'id']\n",
        "[u'mobilitySpaces', u'name', u'longitude', u'address', u'latitude', u'type', u'id']\n",
        "[u'mobilitySpaces', u'name', u'longitude', u'address', u'latitude', u'type', u'id']\n"
       ]
      }
     ],
     "prompt_number": 523
    },
    {
     "cell_type": "code",
     "collapsed": true,
     "input": [
      "blen = atres[0:atlen]"
     ],
     "language": "python",
     "metadata": {},
     "outputs": [],
     "prompt_number": 524
    },
    {
     "cell_type": "code",
     "collapsed": false,
     "input": [
      "ranitem = test.ranpark()"
     ],
     "language": "python",
     "metadata": {},
     "outputs": [
      {
       "ename": "NameError",
       "evalue": "name 'test' is not defined",
       "output_type": "pyerr",
       "traceback": [
        "\u001b[1;31m---------------------------------------------------------------------------\u001b[0m\n\u001b[1;31mNameError\u001b[0m                                 Traceback (most recent call last)",
        "\u001b[1;32m<ipython-input-525-6f3741d7b4ae>\u001b[0m in \u001b[0;36m<module>\u001b[1;34m()\u001b[0m\n\u001b[1;32m----> 1\u001b[1;33m \u001b[0mranitem\u001b[0m \u001b[1;33m=\u001b[0m \u001b[0mtest\u001b[0m\u001b[1;33m.\u001b[0m\u001b[0mranpark\u001b[0m\u001b[1;33m(\u001b[0m\u001b[1;33m)\u001b[0m\u001b[1;33m\u001b[0m\u001b[0m\n\u001b[0m",
        "\u001b[1;31mNameError\u001b[0m: name 'test' is not defined"
       ]
      }
     ],
     "prompt_number": 525
    },
    {
     "cell_type": "code",
     "collapsed": false,
     "input": [
      "thekeys = ranitem.keys()"
     ],
     "language": "python",
     "metadata": {},
     "outputs": [
      {
       "ename": "NameError",
       "evalue": "name 'ranitem' is not defined",
       "output_type": "pyerr",
       "traceback": [
        "\u001b[1;31m---------------------------------------------------------------------------\u001b[0m\n\u001b[1;31mNameError\u001b[0m                                 Traceback (most recent call last)",
        "\u001b[1;32m<ipython-input-526-47ff3b95afa8>\u001b[0m in \u001b[0;36m<module>\u001b[1;34m()\u001b[0m\n\u001b[1;32m----> 1\u001b[1;33m \u001b[0mthekeys\u001b[0m \u001b[1;33m=\u001b[0m \u001b[0mranitem\u001b[0m\u001b[1;33m.\u001b[0m\u001b[0mkeys\u001b[0m\u001b[1;33m(\u001b[0m\u001b[1;33m)\u001b[0m\u001b[1;33m\u001b[0m\u001b[0m\n\u001b[0m",
        "\u001b[1;31mNameError\u001b[0m: name 'ranitem' is not defined"
       ]
      }
     ],
     "prompt_number": 526
    },
    {
     "cell_type": "code",
     "collapsed": false,
     "input": [
      "thekeys"
     ],
     "language": "python",
     "metadata": {},
     "outputs": [
      {
       "ename": "NameError",
       "evalue": "name 'thekeys' is not defined",
       "output_type": "pyerr",
       "traceback": [
        "\u001b[1;31m---------------------------------------------------------------------------\u001b[0m\n\u001b[1;31mNameError\u001b[0m                                 Traceback (most recent call last)",
        "\u001b[1;32m<ipython-input-527-e1199d08c6f9>\u001b[0m in \u001b[0;36m<module>\u001b[1;34m()\u001b[0m\n\u001b[1;32m----> 1\u001b[1;33m \u001b[0mthekeys\u001b[0m\u001b[1;33m\u001b[0m\u001b[0m\n\u001b[0m",
        "\u001b[1;31mNameError\u001b[0m: name 'thekeys' is not defined"
       ]
      }
     ],
     "prompt_number": 527
    },
    {
     "cell_type": "code",
     "collapsed": false,
     "input": [
      "listz = []"
     ],
     "language": "python",
     "metadata": {},
     "outputs": [],
     "prompt_number": 528
    },
    {
     "cell_type": "code",
     "collapsed": false,
     "input": [
      "for kez in thekeys:\n",
      "    #print key\n",
      "    print atres[0][kez]\n",
      "    listz.append(atres[0][kez])\n",
      "    "
     ],
     "language": "python",
     "metadata": {},
     "outputs": [
      {
       "ename": "NameError",
       "evalue": "name 'thekeys' is not defined",
       "output_type": "pyerr",
       "traceback": [
        "\u001b[1;31m---------------------------------------------------------------------------\u001b[0m\n\u001b[1;31mNameError\u001b[0m                                 Traceback (most recent call last)",
        "\u001b[1;32m<ipython-input-529-d1a82652515b>\u001b[0m in \u001b[0;36m<module>\u001b[1;34m()\u001b[0m\n\u001b[1;32m----> 1\u001b[1;33m \u001b[1;32mfor\u001b[0m \u001b[0mkez\u001b[0m \u001b[1;32min\u001b[0m \u001b[0mthekeys\u001b[0m\u001b[1;33m:\u001b[0m\u001b[1;33m\u001b[0m\u001b[0m\n\u001b[0m\u001b[0;32m      2\u001b[0m     \u001b[1;31m#print key\u001b[0m\u001b[1;33m\u001b[0m\u001b[1;33m\u001b[0m\u001b[0m\n\u001b[0;32m      3\u001b[0m     \u001b[1;32mprint\u001b[0m \u001b[0matres\u001b[0m\u001b[1;33m[\u001b[0m\u001b[1;36m0\u001b[0m\u001b[1;33m]\u001b[0m\u001b[1;33m[\u001b[0m\u001b[0mkez\u001b[0m\u001b[1;33m]\u001b[0m\u001b[1;33m\u001b[0m\u001b[0m\n\u001b[0;32m      4\u001b[0m     \u001b[0mlistz\u001b[0m\u001b[1;33m.\u001b[0m\u001b[0mappend\u001b[0m\u001b[1;33m(\u001b[0m\u001b[0matres\u001b[0m\u001b[1;33m[\u001b[0m\u001b[1;36m0\u001b[0m\u001b[1;33m]\u001b[0m\u001b[1;33m[\u001b[0m\u001b[0mkez\u001b[0m\u001b[1;33m]\u001b[0m\u001b[1;33m)\u001b[0m\u001b[1;33m\u001b[0m\u001b[0m\n\u001b[0;32m      5\u001b[0m \u001b[1;33m\u001b[0m\u001b[0m\n",
        "\u001b[1;31mNameError\u001b[0m: name 'thekeys' is not defined"
       ]
      }
     ],
     "prompt_number": 529
    },
    {
     "cell_type": "code",
     "collapsed": true,
     "input": [
      "#dait = atdict.items()"
     ],
     "language": "python",
     "metadata": {},
     "outputs": [],
     "prompt_number": 530
    },
    {
     "cell_type": "code",
     "collapsed": false,
     "input": [
      "print listz[3]"
     ],
     "language": "python",
     "metadata": {},
     "outputs": [
      {
       "ename": "IndexError",
       "evalue": "list index out of range",
       "output_type": "pyerr",
       "traceback": [
        "\u001b[1;31m---------------------------------------------------------------------------\u001b[0m\n\u001b[1;31mIndexError\u001b[0m                                Traceback (most recent call last)",
        "\u001b[1;32m<ipython-input-531-bfc80ca98828>\u001b[0m in \u001b[0;36m<module>\u001b[1;34m()\u001b[0m\n\u001b[1;32m----> 1\u001b[1;33m \u001b[1;32mprint\u001b[0m \u001b[0mlistz\u001b[0m\u001b[1;33m[\u001b[0m\u001b[1;36m3\u001b[0m\u001b[1;33m]\u001b[0m\u001b[1;33m\u001b[0m\u001b[0m\n\u001b[0m",
        "\u001b[1;31mIndexError\u001b[0m: list index out of range"
       ]
      }
     ],
     "prompt_number": 531
    },
    {
     "cell_type": "code",
     "collapsed": false,
     "input": [
      "import geopy"
     ],
     "language": "python",
     "metadata": {},
     "outputs": [],
     "prompt_number": 532
    },
    {
     "cell_type": "code",
     "collapsed": false,
     "input": [
      "geo = geopy.GoogleV3()"
     ],
     "language": "python",
     "metadata": {},
     "outputs": [],
     "prompt_number": 533
    },
    {
     "cell_type": "code",
     "collapsed": false,
     "input": [
      "geo.geocode(listz[3])"
     ],
     "language": "python",
     "metadata": {},
     "outputs": [
      {
       "ename": "IndexError",
       "evalue": "list index out of range",
       "output_type": "pyerr",
       "traceback": [
        "\u001b[1;31m---------------------------------------------------------------------------\u001b[0m\n\u001b[1;31mIndexError\u001b[0m                                Traceback (most recent call last)",
        "\u001b[1;32m<ipython-input-534-4f20533607d8>\u001b[0m in \u001b[0;36m<module>\u001b[1;34m()\u001b[0m\n\u001b[1;32m----> 1\u001b[1;33m \u001b[0mgeo\u001b[0m\u001b[1;33m.\u001b[0m\u001b[0mgeocode\u001b[0m\u001b[1;33m(\u001b[0m\u001b[0mlistz\u001b[0m\u001b[1;33m[\u001b[0m\u001b[1;36m3\u001b[0m\u001b[1;33m]\u001b[0m\u001b[1;33m)\u001b[0m\u001b[1;33m\u001b[0m\u001b[0m\n\u001b[0m",
        "\u001b[1;31mIndexError\u001b[0m: list index out of range"
       ]
      }
     ],
     "prompt_number": 534
    },
    {
     "cell_type": "code",
     "collapsed": false,
     "input": [
      "olenz = len(listz)"
     ],
     "language": "python",
     "metadata": {},
     "outputs": [],
     "prompt_number": 535
    },
    {
     "cell_type": "code",
     "collapsed": false,
     "input": [
      "dachoice = random.randint(0, olenz)"
     ],
     "language": "python",
     "metadata": {},
     "outputs": [],
     "prompt_number": 536
    },
    {
     "cell_type": "code",
     "collapsed": false,
     "input": [
      "dachoice"
     ],
     "language": "python",
     "metadata": {},
     "outputs": [
      {
       "metadata": {},
       "output_type": "pyout",
       "prompt_number": 537,
       "text": [
        "0"
       ]
      }
     ],
     "prompt_number": 537
    },
    {
     "cell_type": "code",
     "collapsed": true,
     "input": [
      "class parks(object):\n",
      "    def getparks(self):\n",
      "        return atres\n",
      "    \n",
      "    def items(self):\n",
      "        return atres[0]\n",
      "    \n",
      "    def ranpark(self):\n",
      "        return atres[ranpark]\n",
      "    \n",
      "    def genpark(self):\n",
      "        return (geo.geocode(listz[3]))\n",
      "    \n",
      "    def parkloc(self):\n",
      "        return(atres[ranpark]['address'])\n",
      "    \n",
      "    def parkid(self):\n",
      "        return(atres[renpark]['id'])\n",
      "    \n",
      "    def parkcheck():\n",
      "        return(atres[renpark]['type'])\n",
      "    \n",
      "    def parknon(self, inpuz ):\n",
      "        return(atres[renpark][inpuz])"
     ],
     "language": "python",
     "metadata": {},
     "outputs": [],
     "prompt_number": 538
    },
    {
     "cell_type": "code",
     "collapsed": false,
     "input": [],
     "language": "python",
     "metadata": {},
     "outputs": [],
     "prompt_number": 538
    },
    {
     "cell_type": "code",
     "collapsed": false,
     "input": [
      "park = parks()"
     ],
     "language": "python",
     "metadata": {},
     "outputs": [],
     "prompt_number": 539
    },
    {
     "cell_type": "code",
     "collapsed": false,
     "input": [
      "park.genpark()"
     ],
     "language": "python",
     "metadata": {},
     "outputs": [
      {
       "ename": "IndexError",
       "evalue": "list index out of range",
       "output_type": "pyerr",
       "traceback": [
        "\u001b[1;31m---------------------------------------------------------------------------\u001b[0m\n\u001b[1;31mIndexError\u001b[0m                                Traceback (most recent call last)",
        "\u001b[1;32m<ipython-input-540-00a81d2434e6>\u001b[0m in \u001b[0;36m<module>\u001b[1;34m()\u001b[0m\n\u001b[1;32m----> 1\u001b[1;33m \u001b[0mpark\u001b[0m\u001b[1;33m.\u001b[0m\u001b[0mgenpark\u001b[0m\u001b[1;33m(\u001b[0m\u001b[1;33m)\u001b[0m\u001b[1;33m\u001b[0m\u001b[0m\n\u001b[0m",
        "\u001b[1;32m<ipython-input-538-49fab2d5039e>\u001b[0m in \u001b[0;36mgenpark\u001b[1;34m(self)\u001b[0m\n\u001b[0;32m     10\u001b[0m \u001b[1;33m\u001b[0m\u001b[0m\n\u001b[0;32m     11\u001b[0m     \u001b[1;32mdef\u001b[0m \u001b[0mgenpark\u001b[0m\u001b[1;33m(\u001b[0m\u001b[0mself\u001b[0m\u001b[1;33m)\u001b[0m\u001b[1;33m:\u001b[0m\u001b[1;33m\u001b[0m\u001b[0m\n\u001b[1;32m---> 12\u001b[1;33m         \u001b[1;32mreturn\u001b[0m \u001b[1;33m(\u001b[0m\u001b[0mgeo\u001b[0m\u001b[1;33m.\u001b[0m\u001b[0mgeocode\u001b[0m\u001b[1;33m(\u001b[0m\u001b[0mlistz\u001b[0m\u001b[1;33m[\u001b[0m\u001b[1;36m3\u001b[0m\u001b[1;33m]\u001b[0m\u001b[1;33m)\u001b[0m\u001b[1;33m)\u001b[0m\u001b[1;33m\u001b[0m\u001b[0m\n\u001b[0m\u001b[0;32m     13\u001b[0m \u001b[1;33m\u001b[0m\u001b[0m\n\u001b[0;32m     14\u001b[0m     \u001b[1;32mdef\u001b[0m \u001b[0mparkloc\u001b[0m\u001b[1;33m(\u001b[0m\u001b[0mself\u001b[0m\u001b[1;33m)\u001b[0m\u001b[1;33m:\u001b[0m\u001b[1;33m\u001b[0m\u001b[0m\n",
        "\u001b[1;31mIndexError\u001b[0m: list index out of range"
       ]
      }
     ],
     "prompt_number": 540
    },
    {
     "cell_type": "code",
     "collapsed": false,
     "input": [
      "park.parkloc()\n",
      "\n",
      "park.parknon('check')"
     ],
     "language": "python",
     "metadata": {},
     "outputs": [
      {
       "ename": "NameError",
       "evalue": "global name 'renpark' is not defined",
       "output_type": "pyerr",
       "traceback": [
        "\u001b[1;31m---------------------------------------------------------------------------\u001b[0m\n\u001b[1;31mNameError\u001b[0m                                 Traceback (most recent call last)",
        "\u001b[1;32m<ipython-input-541-25fa741de2b7>\u001b[0m in \u001b[0;36m<module>\u001b[1;34m()\u001b[0m\n\u001b[0;32m      1\u001b[0m \u001b[0mpark\u001b[0m\u001b[1;33m.\u001b[0m\u001b[0mparkloc\u001b[0m\u001b[1;33m(\u001b[0m\u001b[1;33m)\u001b[0m\u001b[1;33m\u001b[0m\u001b[0m\n\u001b[0;32m      2\u001b[0m \u001b[1;33m\u001b[0m\u001b[0m\n\u001b[1;32m----> 3\u001b[1;33m \u001b[0mpark\u001b[0m\u001b[1;33m.\u001b[0m\u001b[0mparknon\u001b[0m\u001b[1;33m(\u001b[0m\u001b[1;34m'check'\u001b[0m\u001b[1;33m)\u001b[0m\u001b[1;33m\u001b[0m\u001b[0m\n\u001b[0m",
        "\u001b[1;32m<ipython-input-538-49fab2d5039e>\u001b[0m in \u001b[0;36mparknon\u001b[1;34m(self, inpuz)\u001b[0m\n\u001b[0;32m     22\u001b[0m \u001b[1;33m\u001b[0m\u001b[0m\n\u001b[0;32m     23\u001b[0m     \u001b[1;32mdef\u001b[0m \u001b[0mparknon\u001b[0m\u001b[1;33m(\u001b[0m\u001b[0mself\u001b[0m\u001b[1;33m,\u001b[0m \u001b[0minpuz\u001b[0m \u001b[1;33m)\u001b[0m\u001b[1;33m:\u001b[0m\u001b[1;33m\u001b[0m\u001b[0m\n\u001b[1;32m---> 24\u001b[1;33m         \u001b[1;32mreturn\u001b[0m\u001b[1;33m(\u001b[0m\u001b[0matres\u001b[0m\u001b[1;33m[\u001b[0m\u001b[0mrenpark\u001b[0m\u001b[1;33m]\u001b[0m\u001b[1;33m[\u001b[0m\u001b[0minpuz\u001b[0m\u001b[1;33m]\u001b[0m\u001b[1;33m)\u001b[0m\u001b[1;33m\u001b[0m\u001b[0m\n\u001b[0m",
        "\u001b[1;31mNameError\u001b[0m: global name 'renpark' is not defined"
       ]
      }
     ],
     "prompt_number": 541
    },
    {
     "cell_type": "code",
     "collapsed": false,
     "input": [
      "park.parkid()"
     ],
     "language": "python",
     "metadata": {},
     "outputs": [
      {
       "ename": "NameError",
       "evalue": "global name 'renpark' is not defined",
       "output_type": "pyerr",
       "traceback": [
        "\u001b[1;31m---------------------------------------------------------------------------\u001b[0m\n\u001b[1;31mNameError\u001b[0m                                 Traceback (most recent call last)",
        "\u001b[1;32m<ipython-input-542-e63029c430d8>\u001b[0m in \u001b[0;36m<module>\u001b[1;34m()\u001b[0m\n\u001b[1;32m----> 1\u001b[1;33m \u001b[0mpark\u001b[0m\u001b[1;33m.\u001b[0m\u001b[0mparkid\u001b[0m\u001b[1;33m(\u001b[0m\u001b[1;33m)\u001b[0m\u001b[1;33m\u001b[0m\u001b[0m\n\u001b[0m",
        "\u001b[1;32m<ipython-input-538-49fab2d5039e>\u001b[0m in \u001b[0;36mparkid\u001b[1;34m(self)\u001b[0m\n\u001b[0;32m     16\u001b[0m \u001b[1;33m\u001b[0m\u001b[0m\n\u001b[0;32m     17\u001b[0m     \u001b[1;32mdef\u001b[0m \u001b[0mparkid\u001b[0m\u001b[1;33m(\u001b[0m\u001b[0mself\u001b[0m\u001b[1;33m)\u001b[0m\u001b[1;33m:\u001b[0m\u001b[1;33m\u001b[0m\u001b[0m\n\u001b[1;32m---> 18\u001b[1;33m         \u001b[1;32mreturn\u001b[0m\u001b[1;33m(\u001b[0m\u001b[0matres\u001b[0m\u001b[1;33m[\u001b[0m\u001b[0mrenpark\u001b[0m\u001b[1;33m]\u001b[0m\u001b[1;33m[\u001b[0m\u001b[1;34m'id'\u001b[0m\u001b[1;33m]\u001b[0m\u001b[1;33m)\u001b[0m\u001b[1;33m\u001b[0m\u001b[0m\n\u001b[0m\u001b[0;32m     19\u001b[0m \u001b[1;33m\u001b[0m\u001b[0m\n\u001b[0;32m     20\u001b[0m     \u001b[1;32mdef\u001b[0m \u001b[0mparkcheck\u001b[0m\u001b[1;33m(\u001b[0m\u001b[1;33m)\u001b[0m\u001b[1;33m:\u001b[0m\u001b[1;33m\u001b[0m\u001b[0m\n",
        "\u001b[1;31mNameError\u001b[0m: global name 'renpark' is not defined"
       ]
      }
     ],
     "prompt_number": 542
    },
    {
     "cell_type": "code",
     "collapsed": false,
     "input": [
      "test.geopark()"
     ],
     "language": "python",
     "metadata": {},
     "outputs": [
      {
       "ename": "NameError",
       "evalue": "name 'test' is not defined",
       "output_type": "pyerr",
       "traceback": [
        "\u001b[1;31m---------------------------------------------------------------------------\u001b[0m\n\u001b[1;31mNameError\u001b[0m                                 Traceback (most recent call last)",
        "\u001b[1;32m<ipython-input-543-e35d55737c03>\u001b[0m in \u001b[0;36m<module>\u001b[1;34m()\u001b[0m\n\u001b[1;32m----> 1\u001b[1;33m \u001b[0mtest\u001b[0m\u001b[1;33m.\u001b[0m\u001b[0mgeopark\u001b[0m\u001b[1;33m(\u001b[0m\u001b[1;33m)\u001b[0m\u001b[1;33m\u001b[0m\u001b[0m\n\u001b[0m",
        "\u001b[1;31mNameError\u001b[0m: name 'test' is not defined"
       ]
      }
     ],
     "prompt_number": 543
    },
    {
     "cell_type": "code",
     "collapsed": false,
     "input": [
      "geo.geocode(listz[3])"
     ],
     "language": "python",
     "metadata": {},
     "outputs": [
      {
       "ename": "IndexError",
       "evalue": "list index out of range",
       "output_type": "pyerr",
       "traceback": [
        "\u001b[1;31m---------------------------------------------------------------------------\u001b[0m\n\u001b[1;31mIndexError\u001b[0m                                Traceback (most recent call last)",
        "\u001b[1;32m<ipython-input-544-4f20533607d8>\u001b[0m in \u001b[0;36m<module>\u001b[1;34m()\u001b[0m\n\u001b[1;32m----> 1\u001b[1;33m \u001b[0mgeo\u001b[0m\u001b[1;33m.\u001b[0m\u001b[0mgeocode\u001b[0m\u001b[1;33m(\u001b[0m\u001b[0mlistz\u001b[0m\u001b[1;33m[\u001b[0m\u001b[1;36m3\u001b[0m\u001b[1;33m]\u001b[0m\u001b[1;33m)\u001b[0m\u001b[1;33m\u001b[0m\u001b[0m\n\u001b[0m",
        "\u001b[1;31mIndexError\u001b[0m: list index out of range"
       ]
      }
     ],
     "prompt_number": 544
    },
    {
     "cell_type": "code",
     "collapsed": false,
     "input": [
      "listz.sort()"
     ],
     "language": "python",
     "metadata": {},
     "outputs": [],
     "prompt_number": 545
    },
    {
     "cell_type": "code",
     "collapsed": false,
     "input": [
      "listz"
     ],
     "language": "python",
     "metadata": {},
     "outputs": [
      {
       "metadata": {},
       "output_type": "pyout",
       "prompt_number": 546,
       "text": [
        "[]"
       ]
      }
     ],
     "prompt_number": 546
    },
    {
     "cell_type": "code",
     "collapsed": true,
     "input": [
      "#atdict.viewkeys()"
     ],
     "language": "python",
     "metadata": {},
     "outputs": [],
     "prompt_number": 547
    },
    {
     "cell_type": "code",
     "collapsed": true,
     "input": [
      "#atrespon = atdict['response']"
     ],
     "language": "python",
     "metadata": {},
     "outputs": [],
     "prompt_number": 548
    },
    {
     "cell_type": "code",
     "collapsed": true,
     "input": [],
     "language": "python",
     "metadata": {},
     "outputs": [],
     "prompt_number": 548
    },
    {
     "cell_type": "code",
     "collapsed": true,
     "input": [
      "#savdict = open('/home/wcmckee/pyatakl/tests/presets/carparks.json', 'w')\n",
      "#savdict.write(str(atdict))"
     ],
     "language": "python",
     "metadata": {},
     "outputs": [],
     "prompt_number": 549
    },
    {
     "cell_type": "code",
     "collapsed": true,
     "input": [
      "#dait"
     ],
     "language": "python",
     "metadata": {},
     "outputs": [],
     "prompt_number": 550
    },
    {
     "cell_type": "code",
     "collapsed": true,
     "input": [],
     "language": "python",
     "metadata": {},
     "outputs": [],
     "prompt_number": 550
    },
    {
     "cell_type": "code",
     "collapsed": true,
     "input": [
      "#atdict.values()"
     ],
     "language": "python",
     "metadata": {},
     "outputs": [],
     "prompt_number": 551
    },
    {
     "cell_type": "code",
     "collapsed": true,
     "input": [
      "#for d in blen:\n",
      "#    print d['address']"
     ],
     "language": "python",
     "metadata": {},
     "outputs": [],
     "prompt_number": 552
    },
    {
     "cell_type": "code",
     "collapsed": true,
     "input": [
      "#print atext"
     ],
     "language": "python",
     "metadata": {},
     "outputs": [],
     "prompt_number": 553
    },
    {
     "cell_type": "code",
     "collapsed": true,
     "input": [],
     "language": "python",
     "metadata": {},
     "outputs": [],
     "prompt_number": 553
    },
    {
     "cell_type": "code",
     "collapsed": true,
     "input": [
      "#atke"
     ],
     "language": "python",
     "metadata": {},
     "outputs": [],
     "prompt_number": 554
    },
    {
     "cell_type": "code",
     "collapsed": true,
     "input": [
      "#atkey.name"
     ],
     "language": "python",
     "metadata": {},
     "outputs": [],
     "prompt_number": 555
    },
    {
     "cell_type": "code",
     "collapsed": true,
     "input": [],
     "language": "python",
     "metadata": {},
     "outputs": [],
     "prompt_number": 555
    },
    {
     "cell_type": "code",
     "collapsed": false,
     "input": [
      "getdispl = ('http://api.at.govt.nz/v1/public/realtime/vehiclelocations?api_key=433feddb-d4b9-473b-a0c2-ac982a6d78cd')"
     ],
     "language": "python",
     "metadata": {},
     "outputs": [],
     "prompt_number": 556
    },
    {
     "cell_type": "code",
     "collapsed": false,
     "input": [
      "getres = requests.get(getdispl)"
     ],
     "language": "python",
     "metadata": {},
     "outputs": [],
     "prompt_number": 557
    },
    {
     "cell_type": "code",
     "collapsed": false,
     "input": [
      "gettx = getres.text"
     ],
     "language": "python",
     "metadata": {},
     "outputs": [],
     "prompt_number": 558
    },
    {
     "cell_type": "code",
     "collapsed": false,
     "input": [
      "pajson = json.loads(gettx)"
     ],
     "language": "python",
     "metadata": {},
     "outputs": [],
     "prompt_number": 559
    },
    {
     "cell_type": "code",
     "collapsed": false,
     "input": [
      "patza = pajson.keys()"
     ],
     "language": "python",
     "metadata": {},
     "outputs": [],
     "prompt_number": 560
    },
    {
     "cell_type": "code",
     "collapsed": false,
     "input": [
      "pajson.keys()"
     ],
     "language": "python",
     "metadata": {},
     "outputs": [
      {
       "metadata": {},
       "output_type": "pyout",
       "prompt_number": 561,
       "text": [
        "[u'status', u'response', u'error']"
       ]
      }
     ],
     "prompt_number": 561
    },
    {
     "cell_type": "code",
     "collapsed": false,
     "input": [
      "for i in pajson:\n",
      "    print i"
     ],
     "language": "python",
     "metadata": {},
     "outputs": [
      {
       "output_type": "stream",
       "stream": "stdout",
       "text": [
        "status\n",
        "response\n",
        "error\n"
       ]
      }
     ],
     "prompt_number": 562
    },
    {
     "cell_type": "code",
     "collapsed": false,
     "input": [
      "patze = pajson['response']['entity'][0]"
     ],
     "language": "python",
     "metadata": {},
     "outputs": [],
     "prompt_number": 563
    },
    {
     "cell_type": "code",
     "collapsed": false,
     "input": [
      "patze"
     ],
     "language": "python",
     "metadata": {},
     "outputs": [
      {
       "metadata": {},
       "output_type": "pyout",
       "prompt_number": 564,
       "text": [
        "{u'id': u'8cdb9777-fa84-0417-21bc-f38d89234b7a',\n",
        " u'is_deleted': False,\n",
        " u'vehicle': {u'position': {u'latitude': -36.888783, u'longitude': 174.72243},\n",
        "  u'timestamp': 1402026720,\n",
        "  u'trip': {u'route_id': u'0071ML5776',\n",
        "   u'schedule_relationship': 0,\n",
        "   u'trip_id': u'0071ML577615102037849'},\n",
        "  u'vehicle': {u'id': u'b42dcd51df128525f019d5e7ebbde8ffa0ee4b015cd4be02170bf48e0b7d9a2a'}}}"
       ]
      }
     ],
     "prompt_number": 564
    },
    {
     "cell_type": "code",
     "collapsed": false,
     "input": [
      "paveh = patze['vehicle']"
     ],
     "language": "python",
     "metadata": {},
     "outputs": [],
     "prompt_number": 565
    },
    {
     "cell_type": "code",
     "collapsed": false,
     "input": [
      "pala = paveh['position']"
     ],
     "language": "python",
     "metadata": {},
     "outputs": [],
     "prompt_number": 566
    },
    {
     "cell_type": "code",
     "collapsed": false,
     "input": [
      "print pala"
     ],
     "language": "python",
     "metadata": {},
     "outputs": [
      {
       "output_type": "stream",
       "stream": "stdout",
       "text": [
        "{u'latitude': -36.888783, u'longitude': 174.72243}\n"
       ]
      }
     ],
     "prompt_number": 567
    },
    {
     "cell_type": "code",
     "collapsed": false,
     "input": [
      "palat = pala['latitude'] "
     ],
     "language": "python",
     "metadata": {},
     "outputs": [],
     "prompt_number": 568
    },
    {
     "cell_type": "code",
     "collapsed": false,
     "input": [
      "palat"
     ],
     "language": "python",
     "metadata": {},
     "outputs": [
      {
       "metadata": {},
       "output_type": "pyout",
       "prompt_number": 569,
       "text": [
        "-36.888783"
       ]
      }
     ],
     "prompt_number": 569
    },
    {
     "cell_type": "code",
     "collapsed": false,
     "input": [
      "palong = pala['longitude']"
     ],
     "language": "python",
     "metadata": {},
     "outputs": [],
     "prompt_number": 570
    },
    {
     "cell_type": "code",
     "collapsed": false,
     "input": [
      "palong"
     ],
     "language": "python",
     "metadata": {},
     "outputs": [
      {
       "metadata": {},
       "output_type": "pyout",
       "prompt_number": 571,
       "text": [
        "174.72243"
       ]
      }
     ],
     "prompt_number": 571
    },
    {
     "cell_type": "code",
     "collapsed": false,
     "input": [
      "class busdata(object):\n",
      "    \n",
      "    def latdata(self):\n",
      "        return palat\n",
      "    def longdata(self):\n",
      "        return palong\n",
      "    "
     ],
     "language": "python",
     "metadata": {},
     "outputs": [],
     "prompt_number": 572
    },
    {
     "cell_type": "code",
     "collapsed": false,
     "input": [
      "busdata = busdata()"
     ],
     "language": "python",
     "metadata": {},
     "outputs": [],
     "prompt_number": 573
    },
    {
     "cell_type": "code",
     "collapsed": false,
     "input": [
      "busdata.longdata()"
     ],
     "language": "python",
     "metadata": {},
     "outputs": [
      {
       "metadata": {},
       "output_type": "pyout",
       "prompt_number": 574,
       "text": [
        "174.72243"
       ]
      }
     ],
     "prompt_number": 574
    },
    {
     "cell_type": "code",
     "collapsed": false,
     "input": [
      "longdatas = str(busdata.longdata())"
     ],
     "language": "python",
     "metadata": {},
     "outputs": [],
     "prompt_number": 575
    },
    {
     "cell_type": "code",
     "collapsed": false,
     "input": [
      "longdatas"
     ],
     "language": "python",
     "metadata": {},
     "outputs": [
      {
       "metadata": {},
       "output_type": "pyout",
       "prompt_number": 576,
       "text": [
        "'174.72243'"
       ]
      }
     ],
     "prompt_number": 576
    },
    {
     "cell_type": "code",
     "collapsed": false,
     "input": [
      "latdatas = str(busdata.latdata())"
     ],
     "language": "python",
     "metadata": {},
     "outputs": [],
     "prompt_number": 577
    },
    {
     "cell_type": "code",
     "collapsed": false,
     "input": [
      "latdatas"
     ],
     "language": "python",
     "metadata": {},
     "outputs": [
      {
       "metadata": {},
       "output_type": "pyout",
       "prompt_number": 578,
       "text": [
        "'-36.888783'"
       ]
      }
     ],
     "prompt_number": 578
    },
    {
     "cell_type": "code",
     "collapsed": false,
     "input": [
      "busdata.latdata()"
     ],
     "language": "python",
     "metadata": {},
     "outputs": [
      {
       "metadata": {},
       "output_type": "pyout",
       "prompt_number": 579,
       "text": [
        "-36.888783"
       ]
      }
     ],
     "prompt_number": 579
    },
    {
     "cell_type": "code",
     "collapsed": false,
     "input": [
      "bothdata"
     ],
     "language": "python",
     "metadata": {},
     "outputs": [
      {
       "metadata": {},
       "output_type": "pyout",
       "prompt_number": 580,
       "text": [
        "-73.85227"
       ]
      }
     ],
     "prompt_number": 580
    },
    {
     "cell_type": "code",
     "collapsed": false,
     "input": [
      "from geopy.geocoders import GoogleV3\n",
      "geolocator = GoogleV3()\n"
     ],
     "language": "python",
     "metadata": {},
     "outputs": [],
     "prompt_number": 581
    },
    {
     "cell_type": "code",
     "collapsed": false,
     "input": [
      "address, (longdatas, longitude) = geolocator.reverse(longdatas, latdatas)\n",
      "print(address, latitude, longitude)"
     ],
     "language": "python",
     "metadata": {},
     "outputs": [
      {
       "ename": "TypeError",
       "evalue": "'NoneType' object is not iterable",
       "output_type": "pyerr",
       "traceback": [
        "\u001b[1;31m---------------------------------------------------------------------------\u001b[0m\n\u001b[1;31mTypeError\u001b[0m                                 Traceback (most recent call last)",
        "\u001b[1;32m<ipython-input-582-05aa9ec69da8>\u001b[0m in \u001b[0;36m<module>\u001b[1;34m()\u001b[0m\n\u001b[1;32m----> 1\u001b[1;33m \u001b[0maddress\u001b[0m\u001b[1;33m,\u001b[0m \u001b[1;33m(\u001b[0m\u001b[0mlongdatas\u001b[0m\u001b[1;33m,\u001b[0m \u001b[0mlongitude\u001b[0m\u001b[1;33m)\u001b[0m \u001b[1;33m=\u001b[0m \u001b[0mgeolocator\u001b[0m\u001b[1;33m.\u001b[0m\u001b[0mreverse\u001b[0m\u001b[1;33m(\u001b[0m\u001b[0mlongdatas\u001b[0m\u001b[1;33m,\u001b[0m \u001b[0mlatdatas\u001b[0m\u001b[1;33m)\u001b[0m\u001b[1;33m\u001b[0m\u001b[0m\n\u001b[0m\u001b[0;32m      2\u001b[0m \u001b[1;32mprint\u001b[0m\u001b[1;33m(\u001b[0m\u001b[0maddress\u001b[0m\u001b[1;33m,\u001b[0m \u001b[0mlatitude\u001b[0m\u001b[1;33m,\u001b[0m \u001b[0mlongitude\u001b[0m\u001b[1;33m)\u001b[0m\u001b[1;33m\u001b[0m\u001b[0m\n",
        "\u001b[1;31mTypeError\u001b[0m: 'NoneType' object is not iterable"
       ]
      }
     ],
     "prompt_number": 582
    },
    {
     "cell_type": "code",
     "collapsed": false,
     "input": [
      "print geolocator.reverse(longdatas, latdatas)"
     ],
     "language": "python",
     "metadata": {},
     "outputs": []
    },
    {
     "cell_type": "code",
     "collapsed": false,
     "input": [
      "print geolocator.geocode(latdatas, longdatas)"
     ],
     "language": "python",
     "metadata": {},
     "outputs": [
      {
       "output_type": "stream",
       "stream": "stdout",
       "text": [
        "None\n"
       ]
      }
     ],
     "prompt_number": 583
    },
    {
     "cell_type": "code",
     "collapsed": false,
     "input": [
      "for d in geolocator.geocode(busdata.latdata(), busdata.longdata()):\n",
      "    print d"
     ],
     "language": "python",
     "metadata": {},
     "outputs": [
      {
       "ename": "TypeError",
       "evalue": "'NoneType' object is not iterable",
       "output_type": "pyerr",
       "traceback": [
        "\u001b[1;31m---------------------------------------------------------------------------\u001b[0m\n\u001b[1;31mTypeError\u001b[0m                                 Traceback (most recent call last)",
        "\u001b[1;32m<ipython-input-584-38ca564243f7>\u001b[0m in \u001b[0;36m<module>\u001b[1;34m()\u001b[0m\n\u001b[1;32m----> 1\u001b[1;33m \u001b[1;32mfor\u001b[0m \u001b[0md\u001b[0m \u001b[1;32min\u001b[0m \u001b[0mgeolocator\u001b[0m\u001b[1;33m.\u001b[0m\u001b[0mgeocode\u001b[0m\u001b[1;33m(\u001b[0m\u001b[0mbusdata\u001b[0m\u001b[1;33m.\u001b[0m\u001b[0mlatdata\u001b[0m\u001b[1;33m(\u001b[0m\u001b[1;33m)\u001b[0m\u001b[1;33m,\u001b[0m \u001b[0mbusdata\u001b[0m\u001b[1;33m.\u001b[0m\u001b[0mlongdata\u001b[0m\u001b[1;33m(\u001b[0m\u001b[1;33m)\u001b[0m\u001b[1;33m)\u001b[0m\u001b[1;33m:\u001b[0m\u001b[1;33m\u001b[0m\u001b[0m\n\u001b[0m\u001b[0;32m      2\u001b[0m     \u001b[1;32mprint\u001b[0m \u001b[0md\u001b[0m\u001b[1;33m\u001b[0m\u001b[0m\n",
        "\u001b[1;31mTypeError\u001b[0m: 'NoneType' object is not iterable"
       ]
      }
     ],
     "prompt_number": 584
    },
    {
     "cell_type": "code",
     "collapsed": false,
     "input": [
      "testgeo = geolocator.geocode(-36.921086, 174.80408)"
     ],
     "language": "python",
     "metadata": {},
     "outputs": []
    },
    {
     "cell_type": "code",
     "collapsed": false,
     "input": [
      "print testgeo"
     ],
     "language": "python",
     "metadata": {},
     "outputs": []
    },
    {
     "cell_type": "code",
     "collapsed": false,
     "input": [
      "import chess"
     ],
     "language": "python",
     "metadata": {},
     "outputs": [],
     "prompt_number": 585
    },
    {
     "cell_type": "code",
     "collapsed": false,
     "input": [
      "pos = chess.time"
     ],
     "language": "python",
     "metadata": {},
     "outputs": [],
     "prompt_number": 586
    },
    {
     "cell_type": "code",
     "collapsed": false,
     "input": [
      "pos.clock()"
     ],
     "language": "python",
     "metadata": {},
     "outputs": [
      {
       "metadata": {},
       "output_type": "pyout",
       "prompt_number": 587,
       "text": [
        "27.09"
       ]
      }
     ],
     "prompt_number": 587
    },
    {
     "cell_type": "code",
     "collapsed": false,
     "input": [
      "chess.A2"
     ],
     "language": "python",
     "metadata": {},
     "outputs": [
      {
       "metadata": {},
       "output_type": "pyout",
       "prompt_number": 503,
       "text": [
        "8"
       ]
      }
     ],
     "prompt_number": 503
    },
    {
     "cell_type": "code",
     "collapsed": false,
     "input": [
      "board = chess.Bitboard()\n",
      "board.push_san(\"e4\")\n",
      "board.push_san(\"e5\")\n",
      "board.push_san(\"Qh5\")\n",
      "board.push_san(\"Nc6\")\n",
      "board.push_san(\"Bc4\")\n",
      "board.push_san(\"Nf6\")\n",
      "board.push_san(\"Qxf7\")\n",
      "assert board.is_checkmate()"
     ],
     "language": "python",
     "metadata": {},
     "outputs": [],
     "prompt_number": 504
    },
    {
     "cell_type": "code",
     "collapsed": false,
     "input": [
      "assert board"
     ],
     "language": "python",
     "metadata": {},
     "outputs": [],
     "prompt_number": 505
    },
    {
     "cell_type": "code",
     "collapsed": false,
     "input": [
      "print board"
     ],
     "language": "python",
     "metadata": {},
     "outputs": [
      {
       "output_type": "stream",
       "stream": "stdout",
       "text": [
        "r1bqkb1r/pppp1Qpp/2n2n2/4p3/2B1P3/8/PPPP1PPP/RNB1K1NR b KQkq - 0 4\n"
       ]
      }
     ],
     "prompt_number": 506
    },
    {
     "cell_type": "code",
     "collapsed": false,
     "input": [
      "chess.WHITE"
     ],
     "language": "python",
     "metadata": {},
     "outputs": [
      {
       "metadata": {},
       "output_type": "pyout",
       "prompt_number": 507,
       "text": [
        "0"
       ]
      }
     ],
     "prompt_number": 507
    },
    {
     "cell_type": "code",
     "collapsed": false,
     "input": [
      "board.pawns"
     ],
     "language": "python",
     "metadata": {},
     "outputs": [
      {
       "metadata": {},
       "output_type": "pyout",
       "prompt_number": 508,
       "text": [
        "58265389167079168L"
       ]
      }
     ],
     "prompt_number": 508
    },
    {
     "cell_type": "code",
     "collapsed": false,
     "input": [
      "import pprint"
     ],
     "language": "python",
     "metadata": {},
     "outputs": [],
     "prompt_number": 512
    },
    {
     "cell_type": "code",
     "collapsed": false,
     "input": [
      "pprint.pprint(board)"
     ],
     "language": "python",
     "metadata": {},
     "outputs": [
      {
       "output_type": "stream",
       "stream": "stdout",
       "text": [
        "Bitboard('r1bqkb1r/pppp1Qpp/2n2n2/4p3/2B1P3/8/PPPP1PPP/RNB1K1NR b KQkq - 0 4')\n"
       ]
      }
     ],
     "prompt_number": 514
    },
    {
     "cell_type": "code",
     "collapsed": false,
     "input": [
      "print board"
     ],
     "language": "python",
     "metadata": {},
     "outputs": [
      {
       "output_type": "stream",
       "stream": "stdout",
       "text": [
        "r1bqkb1r/pppp1Qpp/2n2n2/4p3/2B1P3/8/PPPP1PPP/RNB1K1NR b KQkq - 0 4\n"
       ]
      }
     ],
     "prompt_number": 509
    },
    {
     "cell_type": "code",
     "collapsed": false,
     "input": [
      "print board.is_pseudo_legal"
     ],
     "language": "python",
     "metadata": {},
     "outputs": [
      {
       "output_type": "stream",
       "stream": "stdout",
       "text": [
        "<bound method Bitboard.is_pseudo_legal of Bitboard('r1bqkb1r/pppp1Qpp/2n2n2/4p3/2B1P3/8/PPPP1PPP/RNB1K1NR b KQkq - 0 4')>\n"
       ]
      }
     ],
     "prompt_number": 510
    },
    {
     "cell_type": "code",
     "collapsed": false,
     "input": [
      "import os"
     ],
     "language": "python",
     "metadata": {},
     "outputs": [],
     "prompt_number": 511
    },
    {
     "cell_type": "code",
     "collapsed": false,
     "input": [
      "os.getppid()"
     ],
     "language": "python",
     "metadata": {},
     "outputs": []
    },
    {
     "cell_type": "code",
     "collapsed": false,
     "input": [
      "os.geteuid()"
     ],
     "language": "python",
     "metadata": {},
     "outputs": []
    },
    {
     "cell_type": "code",
     "collapsed": false,
     "input": [
      "os.access()"
     ],
     "language": "python",
     "metadata": {},
     "outputs": []
    },
    {
     "cell_type": "code",
     "collapsed": false,
     "input": [
      "%%HTML\n",
      "<h1>test</h1>\n"
     ],
     "language": "python",
     "metadata": {},
     "outputs": [
      {
       "html": [
        "<h1>test</h1>"
       ],
       "metadata": {},
       "output_type": "display_data",
       "text": [
        "<IPython.core.display.HTML at 0x2cefe10>"
       ]
      }
     ],
     "prompt_number": 588
    },
    {
     "cell_type": "code",
     "collapsed": false,
     "input": [
      "getart = requests.get('http://artcontrol.me/mays-paint/')"
     ],
     "language": "python",
     "metadata": {},
     "outputs": [],
     "prompt_number": 589
    },
    {
     "cell_type": "code",
     "collapsed": false,
     "input": [
      "getart.json()"
     ],
     "language": "python",
     "metadata": {},
     "outputs": [
      {
       "ename": "ValueError",
       "evalue": "No JSON object could be decoded",
       "output_type": "pyerr",
       "traceback": [
        "\u001b[1;31m---------------------------------------------------------------------------\u001b[0m\n\u001b[1;31mValueError\u001b[0m                                Traceback (most recent call last)",
        "\u001b[1;32m<ipython-input-590-54e09e62f0f3>\u001b[0m in \u001b[0;36m<module>\u001b[1;34m()\u001b[0m\n\u001b[1;32m----> 1\u001b[1;33m \u001b[0mgetart\u001b[0m\u001b[1;33m.\u001b[0m\u001b[0mjson\u001b[0m\u001b[1;33m(\u001b[0m\u001b[1;33m)\u001b[0m\u001b[1;33m\u001b[0m\u001b[0m\n\u001b[0m",
        "\u001b[1;32m/usr/local/lib/python2.7/dist-packages/requests/models.pyc\u001b[0m in \u001b[0;36mjson\u001b[1;34m(self, **kwargs)\u001b[0m\n\u001b[0;32m    739\u001b[0m             \u001b[1;32mif\u001b[0m \u001b[0mencoding\u001b[0m \u001b[1;32mis\u001b[0m \u001b[1;32mnot\u001b[0m \u001b[0mNone\u001b[0m\u001b[1;33m:\u001b[0m\u001b[1;33m\u001b[0m\u001b[0m\n\u001b[0;32m    740\u001b[0m                 \u001b[1;32mreturn\u001b[0m \u001b[0mjson\u001b[0m\u001b[1;33m.\u001b[0m\u001b[0mloads\u001b[0m\u001b[1;33m(\u001b[0m\u001b[0mself\u001b[0m\u001b[1;33m.\u001b[0m\u001b[0mcontent\u001b[0m\u001b[1;33m.\u001b[0m\u001b[0mdecode\u001b[0m\u001b[1;33m(\u001b[0m\u001b[0mencoding\u001b[0m\u001b[1;33m)\u001b[0m\u001b[1;33m,\u001b[0m \u001b[1;33m**\u001b[0m\u001b[0mkwargs\u001b[0m\u001b[1;33m)\u001b[0m\u001b[1;33m\u001b[0m\u001b[0m\n\u001b[1;32m--> 741\u001b[1;33m         \u001b[1;32mreturn\u001b[0m \u001b[0mjson\u001b[0m\u001b[1;33m.\u001b[0m\u001b[0mloads\u001b[0m\u001b[1;33m(\u001b[0m\u001b[0mself\u001b[0m\u001b[1;33m.\u001b[0m\u001b[0mtext\u001b[0m\u001b[1;33m,\u001b[0m \u001b[1;33m**\u001b[0m\u001b[0mkwargs\u001b[0m\u001b[1;33m)\u001b[0m\u001b[1;33m\u001b[0m\u001b[0m\n\u001b[0m\u001b[0;32m    742\u001b[0m \u001b[1;33m\u001b[0m\u001b[0m\n\u001b[0;32m    743\u001b[0m     \u001b[1;33m@\u001b[0m\u001b[0mproperty\u001b[0m\u001b[1;33m\u001b[0m\u001b[0m\n",
        "\u001b[1;32m/usr/lib/python2.7/json/__init__.pyc\u001b[0m in \u001b[0;36mloads\u001b[1;34m(s, encoding, cls, object_hook, parse_float, parse_int, parse_constant, object_pairs_hook, **kw)\u001b[0m\n\u001b[0;32m    324\u001b[0m             \u001b[0mparse_int\u001b[0m \u001b[1;32mis\u001b[0m \u001b[0mNone\u001b[0m \u001b[1;32mand\u001b[0m \u001b[0mparse_float\u001b[0m \u001b[1;32mis\u001b[0m \u001b[0mNone\u001b[0m \u001b[1;32mand\u001b[0m\u001b[1;33m\u001b[0m\u001b[0m\n\u001b[0;32m    325\u001b[0m             parse_constant is None and object_pairs_hook is None and not kw):\n\u001b[1;32m--> 326\u001b[1;33m         \u001b[1;32mreturn\u001b[0m \u001b[0m_default_decoder\u001b[0m\u001b[1;33m.\u001b[0m\u001b[0mdecode\u001b[0m\u001b[1;33m(\u001b[0m\u001b[0ms\u001b[0m\u001b[1;33m)\u001b[0m\u001b[1;33m\u001b[0m\u001b[0m\n\u001b[0m\u001b[0;32m    327\u001b[0m     \u001b[1;32mif\u001b[0m \u001b[0mcls\u001b[0m \u001b[1;32mis\u001b[0m \u001b[0mNone\u001b[0m\u001b[1;33m:\u001b[0m\u001b[1;33m\u001b[0m\u001b[0m\n\u001b[0;32m    328\u001b[0m         \u001b[0mcls\u001b[0m \u001b[1;33m=\u001b[0m \u001b[0mJSONDecoder\u001b[0m\u001b[1;33m\u001b[0m\u001b[0m\n",
        "\u001b[1;32m/usr/lib/python2.7/json/decoder.pyc\u001b[0m in \u001b[0;36mdecode\u001b[1;34m(self, s, _w)\u001b[0m\n\u001b[0;32m    363\u001b[0m \u001b[1;33m\u001b[0m\u001b[0m\n\u001b[0;32m    364\u001b[0m         \"\"\"\n\u001b[1;32m--> 365\u001b[1;33m         \u001b[0mobj\u001b[0m\u001b[1;33m,\u001b[0m \u001b[0mend\u001b[0m \u001b[1;33m=\u001b[0m \u001b[0mself\u001b[0m\u001b[1;33m.\u001b[0m\u001b[0mraw_decode\u001b[0m\u001b[1;33m(\u001b[0m\u001b[0ms\u001b[0m\u001b[1;33m,\u001b[0m \u001b[0midx\u001b[0m\u001b[1;33m=\u001b[0m\u001b[0m_w\u001b[0m\u001b[1;33m(\u001b[0m\u001b[0ms\u001b[0m\u001b[1;33m,\u001b[0m \u001b[1;36m0\u001b[0m\u001b[1;33m)\u001b[0m\u001b[1;33m.\u001b[0m\u001b[0mend\u001b[0m\u001b[1;33m(\u001b[0m\u001b[1;33m)\u001b[0m\u001b[1;33m)\u001b[0m\u001b[1;33m\u001b[0m\u001b[0m\n\u001b[0m\u001b[0;32m    366\u001b[0m         \u001b[0mend\u001b[0m \u001b[1;33m=\u001b[0m \u001b[0m_w\u001b[0m\u001b[1;33m(\u001b[0m\u001b[0ms\u001b[0m\u001b[1;33m,\u001b[0m \u001b[0mend\u001b[0m\u001b[1;33m)\u001b[0m\u001b[1;33m.\u001b[0m\u001b[0mend\u001b[0m\u001b[1;33m(\u001b[0m\u001b[1;33m)\u001b[0m\u001b[1;33m\u001b[0m\u001b[0m\n\u001b[0;32m    367\u001b[0m         \u001b[1;32mif\u001b[0m \u001b[0mend\u001b[0m \u001b[1;33m!=\u001b[0m \u001b[0mlen\u001b[0m\u001b[1;33m(\u001b[0m\u001b[0ms\u001b[0m\u001b[1;33m)\u001b[0m\u001b[1;33m:\u001b[0m\u001b[1;33m\u001b[0m\u001b[0m\n",
        "\u001b[1;32m/usr/lib/python2.7/json/decoder.pyc\u001b[0m in \u001b[0;36mraw_decode\u001b[1;34m(self, s, idx)\u001b[0m\n\u001b[0;32m    381\u001b[0m             \u001b[0mobj\u001b[0m\u001b[1;33m,\u001b[0m \u001b[0mend\u001b[0m \u001b[1;33m=\u001b[0m \u001b[0mself\u001b[0m\u001b[1;33m.\u001b[0m\u001b[0mscan_once\u001b[0m\u001b[1;33m(\u001b[0m\u001b[0ms\u001b[0m\u001b[1;33m,\u001b[0m \u001b[0midx\u001b[0m\u001b[1;33m)\u001b[0m\u001b[1;33m\u001b[0m\u001b[0m\n\u001b[0;32m    382\u001b[0m         \u001b[1;32mexcept\u001b[0m \u001b[0mStopIteration\u001b[0m\u001b[1;33m:\u001b[0m\u001b[1;33m\u001b[0m\u001b[0m\n\u001b[1;32m--> 383\u001b[1;33m             \u001b[1;32mraise\u001b[0m \u001b[0mValueError\u001b[0m\u001b[1;33m(\u001b[0m\u001b[1;34m\"No JSON object could be decoded\"\u001b[0m\u001b[1;33m)\u001b[0m\u001b[1;33m\u001b[0m\u001b[0m\n\u001b[0m\u001b[0;32m    384\u001b[0m         \u001b[1;32mreturn\u001b[0m \u001b[0mobj\u001b[0m\u001b[1;33m,\u001b[0m \u001b[0mend\u001b[0m\u001b[1;33m\u001b[0m\u001b[0m\n",
        "\u001b[1;31mValueError\u001b[0m: No JSON object could be decoded"
       ]
      }
     ],
     "prompt_number": 590
    },
    {
     "cell_type": "code",
     "collapsed": false,
     "input": [],
     "language": "python",
     "metadata": {},
     "outputs": []
    }
   ],
   "metadata": {}
  }
 ]
}