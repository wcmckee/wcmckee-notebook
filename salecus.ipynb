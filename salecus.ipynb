{
 "metadata": {
  "name": "salecus"
 },
 "nbformat": 3,
 "nbformat_minor": 0,
 "worksheets": [
  {
   "cells": [
    {
     "cell_type": "markdown",
     "metadata": {},
     "source": [
      "Challenge Description:\n",
      "\n",
      "Our marketing department has just negotiated a deal with several local merchants that will allow us to offer exclusive discounts on various products to our top customers every day. The catch is that we can only offer each product to one customer and we may only offer one product to each customer.\n",
      "\n",
      "Each day we will get the list of products that are eligible for these special discounts. We then have to decide which products to offer to which of our customers. Fortunately, our team of highly skilled statisticians has developed an amazing mathematical model for determining how likely a given customer is to buy an offered product by calculating what we call the \"suitability score\" (SS). The top-secret algorithm to calculate the SS between a customer and a product is this:\n",
      "\n",
      "1. If the number of letters in the product's name is even then the SS is the number of vowels (a, e, i, o, u, y) in the customer's name multiplied by 1.5.\n",
      "2. If the number of letters in the product's name is odd then the SS is the number of consonants in the customer's name.\n",
      "3. If the number of letters in the product's name shares any common factors (besides 1) with the number of letters in the customer's name then the SS is multiplied by 1.5.\n",
      "\n",
      "Your task is to implement a program that assigns each customer a product to be offered in a way that maximizes the combined total SS across all of the chosen offers. Note that there may be a different number of products and customers. You may include code from external libraries as long as you cite the source.\n",
      "Input sample:\n",
      "\n",
      "Your program should accept as its only argument a path to a file. Each line in this file is one test case. Each test case will be a comma delimited set of customer names followed by a semicolon and then a comma delimited set of product names. Assume the input file is ASCII encoded. For example (NOTE: The example below has 3 test cases):\n",
      "\n",
      "Jack Abraham,John Evans,Ted Dziuba;iPad 2 - 4-pack,Girl Scouts Thin Mints,Nerf Crossbow\n",
      "\n",
      "Jeffery Lebowski,Walter Sobchak,Theodore Donald Kerabatsos,Peter Gibbons,Michael Bolton,Samir Nagheenanajar;Half & Half,Colt M1911A1,16lb bowling ball,Red Swingline Stapler,Printer paper,Vibe Magazine Subscriptions - 40 pack\n",
      "\n",
      "Jareau Wade,Rob Eroh,Mahmoud Abdelkader,Wenyi Cai,Justin Van Winkle,Gabriel Sinkin,Aaron Adelson;Batman No. 1,Football - Official Size,Bass Amplifying Headphones,Elephant food - 1024 lbs,Three Wolf One Moon T-shirt,Dom Perignon 2000 Vintage\n",
      "\n",
      "Output sample:\n",
      "\n",
      "For each line of input, print out the maximum total score to two decimal places. For the example input above, the output should look like this:\n",
      "\n",
      "21.00\n",
      "83.50\n",
      "71.25"
     ]
    },
    {
     "cell_type": "code",
     "collapsed": false,
     "input": [
      "import math\n",
      "import random"
     ],
     "language": "python",
     "metadata": {},
     "outputs": [],
<<<<<<< HEAD
<<<<<<< HEAD
     "prompt_number": 688
=======
=======
>>>>>>> 4d093be183e4809172829731a56819464cb69a77
<<<<<<< HEAD
     "prompt_number": 1
=======
     "prompt_number": 289
<<<<<<< HEAD
>>>>>>> ee6aea4a13b43823c6cbe52123a45b8762b40f7e
=======
=======
     "prompt_number": 688
>>>>>>> 218539d6cf8c29423957d4044197c428c7c41e75
>>>>>>> 4d093be183e4809172829731a56819464cb69a77
    },
    {
     "cell_type": "code",
     "collapsed": false,
     "input": [
      "nlist = []\n",
      "maslist = []"
     ],
     "language": "python",
     "metadata": {},
     "outputs": [],
<<<<<<< HEAD
<<<<<<< HEAD
     "prompt_number": 689
=======
     "prompt_number": 290
>>>>>>> 73285e04ee3620b8d22f2154f1ce563ebb2f4c7d
>>>>>>> ee6aea4a13b43823c6cbe52123a45b8762b40f7e
=======
     "prompt_number": 290
>>>>>>> 73285e04ee3620b8d22f2154f1ce563ebb2f4c7d
=======
     "prompt_number": 689
>>>>>>> 218539d6cf8c29423957d4044197c428c7c41e75
>>>>>>> 4d093be183e4809172829731a56819464cb69a77
    },
    {
     "cell_type": "code",
     "collapsed": false,
     "input": [
<<<<<<< HEAD
      "nlist = []"
=======
      "lowra = random.randint(0,5)\n",
      "highra = random.randint(10,20)\n",
      "maslist.append(lowra)\n",
      "maslist.append(highra)\n",
      "nlist.append(lowra)"
>>>>>>> 73285e04ee3620b8d22f2154f1ce563ebb2f4c7d
     ],
     "language": "python",
     "metadata": {},
     "outputs": [],
<<<<<<< HEAD
<<<<<<< HEAD
     "prompt_number": 690
=======
=======
>>>>>>> 4d093be183e4809172829731a56819464cb69a77
<<<<<<< HEAD
     "prompt_number": 2
=======
     "prompt_number": 291
>>>>>>> 73285e04ee3620b8d22f2154f1ce563ebb2f4c7d
<<<<<<< HEAD
>>>>>>> ee6aea4a13b43823c6cbe52123a45b8762b40f7e
=======
=======
     "prompt_number": 690
>>>>>>> 218539d6cf8c29423957d4044197c428c7c41e75
>>>>>>> 4d093be183e4809172829731a56819464cb69a77
    },
    {
     "cell_type": "code",
     "collapsed": false,
     "input": [
<<<<<<< HEAD
      "lowra = random.randint(0,5)\n",
      "\n",
      "\n",
      "\n",
      "\n",
      "highra = random.randint(10,20)\n",
      "\n",
      "nlist.append(lowra)"
     ],
     "language": "python",
     "metadata": {},
     "outputs": [],
     "prompt_number": 3
=======
      "maslist"
     ],
     "language": "python",
     "metadata": {},
     "outputs": [
      {
       "output_type": "pyout",
       "prompt_number": 691,
       "text": [
        "[0, 19]"
       ]
      }
     ],
<<<<<<< HEAD
<<<<<<< HEAD
     "prompt_number": 691
=======
     "prompt_number": 292
>>>>>>> 73285e04ee3620b8d22f2154f1ce563ebb2f4c7d
>>>>>>> ee6aea4a13b43823c6cbe52123a45b8762b40f7e
=======
     "prompt_number": 292
>>>>>>> 73285e04ee3620b8d22f2154f1ce563ebb2f4c7d
=======
     "prompt_number": 691
>>>>>>> 218539d6cf8c29423957d4044197c428c7c41e75
>>>>>>> 4d093be183e4809172829731a56819464cb69a77
    },
    {
     "cell_type": "code",
     "collapsed": false,
     "input": [
      "def fib(n):\n",
      "    a,b = lowra, highra\n",
      "    while b < n:\n",
      "        print b, \n",
      "        sab = a, b = b, a+b\n",
      "        print sab\n",
      "        nlist.append(sab)\n",
      "        "
     ],
     "language": "python",
     "metadata": {},
     "outputs": [],
<<<<<<< HEAD
<<<<<<< HEAD
     "prompt_number": 692
=======
=======
>>>>>>> 4d093be183e4809172829731a56819464cb69a77
<<<<<<< HEAD
     "prompt_number": 4
=======
     "prompt_number": 293
<<<<<<< HEAD
>>>>>>> ee6aea4a13b43823c6cbe52123a45b8762b40f7e
=======
=======
     "prompt_number": 692
>>>>>>> 218539d6cf8c29423957d4044197c428c7c41e75
>>>>>>> 4d093be183e4809172829731a56819464cb69a77
    },
    {
     "cell_type": "code",
     "collapsed": false,
     "input": [
      "chfib = fib(lowra)\n"
     ],
     "language": "python",
     "metadata": {},
     "outputs": [],
<<<<<<< HEAD
<<<<<<< HEAD
     "prompt_number": 693
=======
     "prompt_number": 294
>>>>>>> 73285e04ee3620b8d22f2154f1ce563ebb2f4c7d
>>>>>>> ee6aea4a13b43823c6cbe52123a45b8762b40f7e
=======
     "prompt_number": 294
>>>>>>> 73285e04ee3620b8d22f2154f1ce563ebb2f4c7d
=======
     "prompt_number": 693
>>>>>>> 218539d6cf8c29423957d4044197c428c7c41e75
>>>>>>> 4d093be183e4809172829731a56819464cb69a77
    },
    {
     "cell_type": "code",
     "collapsed": false,
     "input": [
      "print nlist"
     ],
     "language": "python",
     "metadata": {},
     "outputs": [
      {
       "output_type": "stream",
       "stream": "stdout",
       "text": [
<<<<<<< HEAD
<<<<<<< HEAD
        "[0]\n"
       ]
      }
     ],
     "prompt_number": 694
=======
=======
>>>>>>> 4d093be183e4809172829731a56819464cb69a77
<<<<<<< HEAD
        "15 (15, 18)\n",
        "18 (18, 33)\n",
        "33 (33, 51)\n",
        "51 (51, 84)\n",
        "84 (84, 135)\n",
        "135 (135, 219)\n"
       ]
      }
     ],
     "prompt_number": 5
=======
        "[5]\n"
       ]
      }
     ],
     "prompt_number": 295
>>>>>>> 73285e04ee3620b8d22f2154f1ce563ebb2f4c7d
<<<<<<< HEAD
>>>>>>> ee6aea4a13b43823c6cbe52123a45b8762b40f7e
=======
=======
        "[0]\n"
       ]
      }
     ],
     "prompt_number": 694
>>>>>>> 218539d6cf8c29423957d4044197c428c7c41e75
>>>>>>> 4d093be183e4809172829731a56819464cb69a77
    },
    {
     "cell_type": "code",
     "collapsed": false,
     "input": [
      "snlist = nlist.count(')')\n",
      "\n",
      "for sn in enumerate(nlist):\n",
      "    print sn\n",
      "    maslist.append(sn)"
     ],
     "language": "python",
     "metadata": {},
     "outputs": [
      {
       "output_type": "stream",
       "stream": "stdout",
       "text": [
<<<<<<< HEAD
<<<<<<< HEAD
        "(0, 0)\n"
       ]
      }
     ],
     "prompt_number": 695
=======
=======
>>>>>>> 4d093be183e4809172829731a56819464cb69a77
<<<<<<< HEAD
        "[3, (15, 18), (18, 33), (33, 51), (51, 84), (84, 135), (135, 219)]\n"
       ]
      }
     ],
     "prompt_number": 6
=======
        "(0, 5)\n"
       ]
      }
     ],
     "prompt_number": 296
>>>>>>> 73285e04ee3620b8d22f2154f1ce563ebb2f4c7d
<<<<<<< HEAD
>>>>>>> ee6aea4a13b43823c6cbe52123a45b8762b40f7e
=======
=======
        "(0, 0)\n"
       ]
      }
     ],
     "prompt_number": 695
>>>>>>> 218539d6cf8c29423957d4044197c428c7c41e75
>>>>>>> 4d093be183e4809172829731a56819464cb69a77
    },
    {
     "cell_type": "code",
     "collapsed": false,
     "input": [
      "print len(nlist)\n",
      "maslist.append(len(nlist))"
     ],
     "language": "python",
     "metadata": {},
     "outputs": [
      {
       "output_type": "stream",
       "stream": "stdout",
       "text": [
<<<<<<< HEAD
        "(0, 3)\n",
        "(1, (15, 18))\n",
        "(2, (18, 33))\n",
        "(3, (33, 51))\n",
        "(4, (51, 84))\n",
        "(5, (84, 135))\n",
        "(6, (135, 219))\n"
       ]
      }
     ],
     "prompt_number": 7
=======
        "1\n"
       ]
      }
     ],
<<<<<<< HEAD
<<<<<<< HEAD
     "prompt_number": 696
=======
     "prompt_number": 297
>>>>>>> 73285e04ee3620b8d22f2154f1ce563ebb2f4c7d
>>>>>>> ee6aea4a13b43823c6cbe52123a45b8762b40f7e
=======
     "prompt_number": 297
>>>>>>> 73285e04ee3620b8d22f2154f1ce563ebb2f4c7d
=======
     "prompt_number": 696
>>>>>>> 218539d6cf8c29423957d4044197c428c7c41e75
>>>>>>> 4d093be183e4809172829731a56819464cb69a77
    },
    {
     "cell_type": "code",
     "collapsed": false,
     "input": [
      "print len('blahblahlbah')"
     ],
     "language": "python",
     "metadata": {},
     "outputs": [
      {
       "output_type": "stream",
       "stream": "stdout",
       "text": [
        "12\n"
       ]
      }
     ],
<<<<<<< HEAD
<<<<<<< HEAD
     "prompt_number": 697
=======
=======
>>>>>>> 4d093be183e4809172829731a56819464cb69a77
<<<<<<< HEAD
     "prompt_number": 8
=======
     "prompt_number": 298
>>>>>>> 73285e04ee3620b8d22f2154f1ce563ebb2f4c7d
<<<<<<< HEAD
>>>>>>> ee6aea4a13b43823c6cbe52123a45b8762b40f7e
=======
=======
     "prompt_number": 697
>>>>>>> 218539d6cf8c29423957d4044197c428c7c41e75
>>>>>>> 4d093be183e4809172829731a56819464cb69a77
    },
    {
     "cell_type": "code",
     "collapsed": false,
     "input": [
      "print maslist"
     ],
     "language": "python",
     "metadata": {},
     "outputs": [
      {
       "output_type": "stream",
       "stream": "stdout",
       "text": [
        "[0, 19, (0, 0), 1]\n"
       ]
      }
     ],
<<<<<<< HEAD
<<<<<<< HEAD
     "prompt_number": 698
=======
=======
>>>>>>> 4d093be183e4809172829731a56819464cb69a77
<<<<<<< HEAD
     "prompt_number": 9
=======
     "prompt_number": 299
>>>>>>> 73285e04ee3620b8d22f2154f1ce563ebb2f4c7d
<<<<<<< HEAD
>>>>>>> ee6aea4a13b43823c6cbe52123a45b8762b40f7e
=======
=======
     "prompt_number": 698
>>>>>>> 218539d6cf8c29423957d4044197c428c7c41e75
>>>>>>> 4d093be183e4809172829731a56819464cb69a77
    },
    {
     "cell_type": "code",
     "collapsed": false,
     "input": [
      "print snlist\n",
      "print nlist"
     ],
     "language": "python",
     "metadata": {},
     "outputs": [
      {
       "output_type": "stream",
       "stream": "stdout",
       "text": [
        "0\n",
<<<<<<< HEAD
<<<<<<< HEAD
        "[0]\n"
       ]
      }
     ],
     "prompt_number": 699
=======
=======
>>>>>>> 4d093be183e4809172829731a56819464cb69a77
<<<<<<< HEAD
        "[3, (15, 18), (18, 33), (33, 51), (51, 84), (84, 135), (135, 219)]\n"
       ]
      }
     ],
     "prompt_number": 10
=======
        "[5]\n"
       ]
      }
     ],
     "prompt_number": 300
>>>>>>> 73285e04ee3620b8d22f2154f1ce563ebb2f4c7d
<<<<<<< HEAD
>>>>>>> ee6aea4a13b43823c6cbe52123a45b8762b40f7e
=======
=======
        "[0]\n"
       ]
      }
     ],
     "prompt_number": 699
>>>>>>> 218539d6cf8c29423957d4044197c428c7c41e75
>>>>>>> 4d093be183e4809172829731a56819464cb69a77
    },
    {
     "cell_type": "code",
     "collapsed": false,
     "input": [
      "for blehz in nlist:\n",
      "    print blehz"
     ],
     "language": "python",
     "metadata": {},
     "outputs": [
      {
       "output_type": "stream",
       "stream": "stdout",
       "text": [
<<<<<<< HEAD
<<<<<<< HEAD
        "0\n"
       ]
      }
     ],
     "prompt_number": 700
=======
=======
>>>>>>> 4d093be183e4809172829731a56819464cb69a77
<<<<<<< HEAD
        "3\n",
        "(15, 18)\n",
        "(18, 33)\n",
        "(33, 51)\n",
        "(51, 84)\n",
        "(84, 135)\n",
        "(135, 219)\n"
       ]
      }
     ],
     "prompt_number": 11
=======
        "5\n"
       ]
      }
     ],
     "prompt_number": 301
>>>>>>> 73285e04ee3620b8d22f2154f1ce563ebb2f4c7d
<<<<<<< HEAD
>>>>>>> ee6aea4a13b43823c6cbe52123a45b8762b40f7e
=======
=======
        "0\n"
       ]
      }
     ],
     "prompt_number": 700
>>>>>>> 218539d6cf8c29423957d4044197c428c7c41e75
>>>>>>> 4d093be183e4809172829731a56819464cb69a77
    },
    {
     "cell_type": "code",
     "collapsed": false,
     "input": [],
     "language": "python",
     "metadata": {},
     "outputs": [],
<<<<<<< HEAD
<<<<<<< HEAD
     "prompt_number": 700
=======
=======
>>>>>>> 4d093be183e4809172829731a56819464cb69a77
<<<<<<< HEAD
     "prompt_number": 11
=======
     "prompt_number": 301
>>>>>>> 73285e04ee3620b8d22f2154f1ce563ebb2f4c7d
<<<<<<< HEAD
>>>>>>> ee6aea4a13b43823c6cbe52123a45b8762b40f7e
=======
=======
     "prompt_number": 700
>>>>>>> 218539d6cf8c29423957d4044197c428c7c41e75
>>>>>>> 4d093be183e4809172829731a56819464cb69a77
    },
    {
     "cell_type": "code",
     "collapsed": false,
     "input": [
      "fib(50)"
     ],
     "language": "python",
     "metadata": {},
     "outputs": [
      {
       "output_type": "stream",
       "stream": "stdout",
       "text": [
<<<<<<< HEAD
<<<<<<< HEAD
        "19 (19, 19)\n",
        "19 (19, 38)\n",
        "38 (38, 57)\n"
       ]
      }
     ],
     "prompt_number": 701
=======
=======
>>>>>>> 4d093be183e4809172829731a56819464cb69a77
<<<<<<< HEAD
        "15 (15, 18)\n",
        "18 (18, 33)\n",
        "33 (33, 51)\n"
       ]
      }
     ],
     "prompt_number": 12
    },
    {
     "cell_type": "code",
     "collapsed": false,
     "input": [
      "for f in chfib:\n",
      "    print chfib"
     ],
     "language": "python",
     "metadata": {},
     "outputs": [
      {
       "ename": "TypeError",
       "evalue": "'NoneType' object is not iterable",
       "output_type": "pyerr",
       "traceback": [
        "\u001b[1;31m---------------------------------------------------------------------------\u001b[0m\n\u001b[1;31mTypeError\u001b[0m                                 Traceback (most recent call last)",
        "\u001b[1;32m<ipython-input-13-d3d06ab47597>\u001b[0m in \u001b[0;36m<module>\u001b[1;34m()\u001b[0m\n\u001b[1;32m----> 1\u001b[1;33m \u001b[1;32mfor\u001b[0m \u001b[0mf\u001b[0m \u001b[1;32min\u001b[0m \u001b[0mchfib\u001b[0m\u001b[1;33m:\u001b[0m\u001b[1;33m\u001b[0m\u001b[0m\n\u001b[0m\u001b[0;32m      2\u001b[0m     \u001b[1;32mprint\u001b[0m \u001b[0mchfib\u001b[0m\u001b[1;33m\u001b[0m\u001b[0m\n",
        "\u001b[1;31mTypeError\u001b[0m: 'NoneType' object is not iterable"
       ]
      }
     ],
     "prompt_number": 13
=======
        "14 (14, 19)\n",
        "19 (19, 33)\n",
        "33 (33, 52)\n"
       ]
      }
     ],
     "prompt_number": 302
>>>>>>> 73285e04ee3620b8d22f2154f1ce563ebb2f4c7d
<<<<<<< HEAD
>>>>>>> ee6aea4a13b43823c6cbe52123a45b8762b40f7e
=======
=======
        "19 (19, 19)\n",
        "19 (19, 38)\n",
        "38 (38, 57)\n"
       ]
      }
     ],
     "prompt_number": 701
>>>>>>> 218539d6cf8c29423957d4044197c428c7c41e75
>>>>>>> 4d093be183e4809172829731a56819464cb69a77
    },
    {
     "cell_type": "code",
     "collapsed": false,
     "input": [
      "def fib2(n):\n",
      "    result= []\n",
      "    a, b = 0, 1\n",
      "    while b < n:\n",
      "        result.append(b)\n",
      "        a, b = b, a+b"
     ],
     "language": "python",
     "metadata": {},
     "outputs": [],
<<<<<<< HEAD
<<<<<<< HEAD
     "prompt_number": 702
=======
=======
>>>>>>> 4d093be183e4809172829731a56819464cb69a77
<<<<<<< HEAD
     "prompt_number": 14
=======
     "prompt_number": 303
>>>>>>> 73285e04ee3620b8d22f2154f1ce563ebb2f4c7d
<<<<<<< HEAD
>>>>>>> ee6aea4a13b43823c6cbe52123a45b8762b40f7e
=======
=======
     "prompt_number": 702
>>>>>>> 218539d6cf8c29423957d4044197c428c7c41e75
>>>>>>> 4d093be183e4809172829731a56819464cb69a77
    },
    {
     "cell_type": "code",
     "collapsed": false,
     "input": [
      "thefib = fib2(20000)"
     ],
     "language": "python",
     "metadata": {},
     "outputs": [],
<<<<<<< HEAD
<<<<<<< HEAD
     "prompt_number": 703
=======
=======
>>>>>>> 4d093be183e4809172829731a56819464cb69a77
<<<<<<< HEAD
     "prompt_number": 15
=======
     "prompt_number": 304
>>>>>>> 73285e04ee3620b8d22f2154f1ce563ebb2f4c7d
<<<<<<< HEAD
>>>>>>> ee6aea4a13b43823c6cbe52123a45b8762b40f7e
=======
=======
     "prompt_number": 703
>>>>>>> 218539d6cf8c29423957d4044197c428c7c41e75
>>>>>>> 4d093be183e4809172829731a56819464cb69a77
    },
    {
     "cell_type": "code",
     "collapsed": false,
     "input": [
      "pi = math.pi"
     ],
     "language": "python",
     "metadata": {},
     "outputs": [],
<<<<<<< HEAD
<<<<<<< HEAD
     "prompt_number": 704
=======
=======
>>>>>>> 4d093be183e4809172829731a56819464cb69a77
<<<<<<< HEAD
     "prompt_number": 16
=======
     "prompt_number": 305
>>>>>>> 73285e04ee3620b8d22f2154f1ce563ebb2f4c7d
<<<<<<< HEAD
>>>>>>> ee6aea4a13b43823c6cbe52123a45b8762b40f7e
=======
=======
     "prompt_number": 704
>>>>>>> 218539d6cf8c29423957d4044197c428c7c41e75
>>>>>>> 4d093be183e4809172829731a56819464cb69a77
    },
    {
     "cell_type": "code",
     "collapsed": false,
     "input": [
      "import sys\n",
      "import os\n",
      "import socket"
     ],
     "language": "python",
     "metadata": {},
     "outputs": [],
<<<<<<< HEAD
<<<<<<< HEAD
     "prompt_number": 705
=======
=======
>>>>>>> 4d093be183e4809172829731a56819464cb69a77
<<<<<<< HEAD
     "prompt_number": 17
    },
    {
     "cell_type": "code",
     "collapsed": false,
     "input": [
      "complis = []"
     ],
     "language": "python",
     "metadata": {},
     "outputs": [],
     "prompt_number": 110
    },
    {
     "cell_type": "code",
     "collapsed": false,
     "input": [
      "def hostgit():\n",
      "    return getpass.getuser() + '@' + socket.gethostname()"
     ],
     "language": "python",
     "metadata": {},
     "outputs": [],
     "prompt_number": 113
    },
    {
     "cell_type": "code",
     "collapsed": false,
     "input": [
      "hostgit()"
     ],
     "language": "python",
     "metadata": {},
     "outputs": [
      {
       "output_type": "pyout",
       "prompt_number": 114,
       "text": [
        "'will@fendesk'"
       ]
      }
     ],
     "prompt_number": 114
=======
     "prompt_number": 306
>>>>>>> 73285e04ee3620b8d22f2154f1ce563ebb2f4c7d
<<<<<<< HEAD
>>>>>>> ee6aea4a13b43823c6cbe52123a45b8762b40f7e
=======
=======
     "prompt_number": 705
>>>>>>> 218539d6cf8c29423957d4044197c428c7c41e75
>>>>>>> 4d093be183e4809172829731a56819464cb69a77
    },
    {
     "cell_type": "code",
     "collapsed": false,
     "input": [
      "thehost = socket.gethostname()"
     ],
     "language": "python",
     "metadata": {},
     "outputs": [],
<<<<<<< HEAD
<<<<<<< HEAD
     "prompt_number": 706
=======
=======
>>>>>>> 4d093be183e4809172829731a56819464cb69a77
<<<<<<< HEAD
     "prompt_number": 115
=======
     "prompt_number": 307
<<<<<<< HEAD
>>>>>>> ee6aea4a13b43823c6cbe52123a45b8762b40f7e
=======
=======
     "prompt_number": 706
>>>>>>> 218539d6cf8c29423957d4044197c428c7c41e75
>>>>>>> 4d093be183e4809172829731a56819464cb69a77
    },
    {
     "cell_type": "code",
     "collapsed": false,
     "input": [
      "maslist.append(thehost)"
     ],
     "language": "python",
     "metadata": {},
     "outputs": [],
<<<<<<< HEAD
<<<<<<< HEAD
     "prompt_number": 707
=======
     "prompt_number": 308
>>>>>>> 73285e04ee3620b8d22f2154f1ce563ebb2f4c7d
>>>>>>> ee6aea4a13b43823c6cbe52123a45b8762b40f7e
=======
     "prompt_number": 308
>>>>>>> 73285e04ee3620b8d22f2154f1ce563ebb2f4c7d
=======
     "prompt_number": 707
>>>>>>> 218539d6cf8c29423957d4044197c428c7c41e75
>>>>>>> 4d093be183e4809172829731a56819464cb69a77
    },
    {
     "cell_type": "code",
     "collapsed": false,
     "input": [
      "thehost"
     ],
     "language": "python",
     "metadata": {},
     "outputs": [
      {
       "output_type": "pyout",
<<<<<<< HEAD
<<<<<<< HEAD
       "prompt_number": 708,
=======
=======
>>>>>>> 4d093be183e4809172829731a56819464cb69a77
<<<<<<< HEAD
       "prompt_number": 116,
=======
       "prompt_number": 309,
>>>>>>> 73285e04ee3620b8d22f2154f1ce563ebb2f4c7d
<<<<<<< HEAD
>>>>>>> ee6aea4a13b43823c6cbe52123a45b8762b40f7e
=======
=======
       "prompt_number": 708,
>>>>>>> 218539d6cf8c29423957d4044197c428c7c41e75
>>>>>>> 4d093be183e4809172829731a56819464cb69a77
       "text": [
        "'fendesk'"
       ]
      }
     ],
<<<<<<< HEAD
<<<<<<< HEAD
     "prompt_number": 708
=======
=======
>>>>>>> 4d093be183e4809172829731a56819464cb69a77
<<<<<<< HEAD
     "prompt_number": 116
=======
     "prompt_number": 309
>>>>>>> 73285e04ee3620b8d22f2154f1ce563ebb2f4c7d
<<<<<<< HEAD
>>>>>>> ee6aea4a13b43823c6cbe52123a45b8762b40f7e
=======
=======
     "prompt_number": 708
>>>>>>> 218539d6cf8c29423957d4044197c428c7c41e75
>>>>>>> 4d093be183e4809172829731a56819464cb69a77
    },
    {
     "cell_type": "code",
     "collapsed": false,
     "input": [
      "import getpass"
     ],
     "language": "python",
     "metadata": {},
     "outputs": [],
<<<<<<< HEAD
<<<<<<< HEAD
     "prompt_number": 709
=======
=======
>>>>>>> 4d093be183e4809172829731a56819464cb69a77
<<<<<<< HEAD
     "prompt_number": 20
=======
     "prompt_number": 310
<<<<<<< HEAD
>>>>>>> ee6aea4a13b43823c6cbe52123a45b8762b40f7e
=======
=======
     "prompt_number": 709
>>>>>>> 218539d6cf8c29423957d4044197c428c7c41e75
>>>>>>> 4d093be183e4809172829731a56819464cb69a77
    },
    {
     "cell_type": "code",
     "collapsed": false,
     "input": [
      "maslist.append(theuser)"
     ],
     "language": "python",
     "metadata": {},
     "outputs": [],
<<<<<<< HEAD
<<<<<<< HEAD
     "prompt_number": 710
=======
     "prompt_number": 311
>>>>>>> 73285e04ee3620b8d22f2154f1ce563ebb2f4c7d
>>>>>>> ee6aea4a13b43823c6cbe52123a45b8762b40f7e
=======
     "prompt_number": 311
>>>>>>> 73285e04ee3620b8d22f2154f1ce563ebb2f4c7d
=======
     "prompt_number": 710
>>>>>>> 218539d6cf8c29423957d4044197c428c7c41e75
>>>>>>> 4d093be183e4809172829731a56819464cb69a77
    },
    {
     "cell_type": "code",
     "collapsed": false,
     "input": [
      "theuser = getpass.getuser()"
     ],
     "language": "python",
     "metadata": {},
     "outputs": [],
<<<<<<< HEAD
<<<<<<< HEAD
     "prompt_number": 711
=======
=======
>>>>>>> 4d093be183e4809172829731a56819464cb69a77
<<<<<<< HEAD
     "prompt_number": 21
=======
     "prompt_number": 312
>>>>>>> 73285e04ee3620b8d22f2154f1ce563ebb2f4c7d
<<<<<<< HEAD
>>>>>>> ee6aea4a13b43823c6cbe52123a45b8762b40f7e
=======
=======
     "prompt_number": 711
>>>>>>> 218539d6cf8c29423957d4044197c428c7c41e75
>>>>>>> 4d093be183e4809172829731a56819464cb69a77
    },
    {
     "cell_type": "code",
     "collapsed": false,
     "input": [
      "print theuser"
     ],
     "language": "python",
     "metadata": {},
     "outputs": [
      {
       "output_type": "stream",
       "stream": "stdout",
       "text": [
        "will\n"
       ]
      }
     ],
<<<<<<< HEAD
<<<<<<< HEAD
     "prompt_number": 712
=======
=======
>>>>>>> 4d093be183e4809172829731a56819464cb69a77
<<<<<<< HEAD
     "prompt_number": 22
=======
     "prompt_number": 313
>>>>>>> 73285e04ee3620b8d22f2154f1ce563ebb2f4c7d
<<<<<<< HEAD
>>>>>>> ee6aea4a13b43823c6cbe52123a45b8762b40f7e
=======
=======
     "prompt_number": 712
>>>>>>> 218539d6cf8c29423957d4044197c428c7c41e75
>>>>>>> 4d093be183e4809172829731a56819464cb69a77
    },
    {
     "cell_type": "code",
     "collapsed": false,
     "input": [
      "upass = theuser + '@' + thehost"
     ],
     "language": "python",
     "metadata": {},
     "outputs": [],
<<<<<<< HEAD
<<<<<<< HEAD
     "prompt_number": 713
=======
=======
>>>>>>> 4d093be183e4809172829731a56819464cb69a77
<<<<<<< HEAD
     "prompt_number": 23
=======
     "prompt_number": 314
>>>>>>> 73285e04ee3620b8d22f2154f1ce563ebb2f4c7d
<<<<<<< HEAD
>>>>>>> ee6aea4a13b43823c6cbe52123a45b8762b40f7e
=======
=======
     "prompt_number": 713
>>>>>>> 218539d6cf8c29423957d4044197c428c7c41e75
>>>>>>> 4d093be183e4809172829731a56819464cb69a77
    },
    {
     "cell_type": "code",
     "collapsed": false,
     "input": [
      "print upass"
     ],
     "language": "python",
     "metadata": {},
     "outputs": [
      {
       "output_type": "stream",
       "stream": "stdout",
       "text": [
        "will@fendesk\n"
       ]
      }
     ],
<<<<<<< HEAD
<<<<<<< HEAD
     "prompt_number": 714
=======
=======
>>>>>>> 4d093be183e4809172829731a56819464cb69a77
<<<<<<< HEAD
     "prompt_number": 24
=======
     "prompt_number": 315
>>>>>>> 73285e04ee3620b8d22f2154f1ce563ebb2f4c7d
<<<<<<< HEAD
>>>>>>> ee6aea4a13b43823c6cbe52123a45b8762b40f7e
=======
=======
     "prompt_number": 714
>>>>>>> 218539d6cf8c29423957d4044197c428c7c41e75
>>>>>>> 4d093be183e4809172829731a56819464cb69a77
    },
    {
     "cell_type": "code",
     "collapsed": false,
     "input": [
      "os.defpath"
     ],
     "language": "python",
     "metadata": {},
     "outputs": [
      {
       "output_type": "pyout",
<<<<<<< HEAD
<<<<<<< HEAD
       "prompt_number": 715,
=======
=======
>>>>>>> 4d093be183e4809172829731a56819464cb69a77
<<<<<<< HEAD
       "prompt_number": 25,
=======
       "prompt_number": 316,
>>>>>>> 73285e04ee3620b8d22f2154f1ce563ebb2f4c7d
<<<<<<< HEAD
>>>>>>> ee6aea4a13b43823c6cbe52123a45b8762b40f7e
=======
=======
       "prompt_number": 715,
>>>>>>> 218539d6cf8c29423957d4044197c428c7c41e75
>>>>>>> 4d093be183e4809172829731a56819464cb69a77
       "text": [
        "':/bin:/usr/bin'"
       ]
      }
     ],
<<<<<<< HEAD
<<<<<<< HEAD
     "prompt_number": 715
=======
=======
>>>>>>> 4d093be183e4809172829731a56819464cb69a77
<<<<<<< HEAD
     "prompt_number": 25
=======
     "prompt_number": 316
>>>>>>> 73285e04ee3620b8d22f2154f1ce563ebb2f4c7d
<<<<<<< HEAD
>>>>>>> ee6aea4a13b43823c6cbe52123a45b8762b40f7e
=======
=======
     "prompt_number": 715
>>>>>>> 218539d6cf8c29423957d4044197c428c7c41e75
>>>>>>> 4d093be183e4809172829731a56819464cb69a77
    },
    {
     "cell_type": "code",
     "collapsed": false,
     "input": [
      "maslist.append(upass)"
     ],
     "language": "python",
     "metadata": {},
<<<<<<< HEAD
     "outputs": [
      {
       "output_type": "pyout",
       "prompt_number": 26,
       "text": [
        "(1000, 1000, 1000)"
       ]
      }
     ],
     "prompt_number": 26
=======
     "outputs": [],
     "prompt_number": 716
    },
    {
     "cell_type": "code",
     "collapsed": false,
     "input": [
      "maslist.append(os.getresuid())"
     ],
     "language": "python",
     "metadata": {},
     "outputs": [],
<<<<<<< HEAD
<<<<<<< HEAD
     "prompt_number": 717
=======
     "prompt_number": 318
>>>>>>> 73285e04ee3620b8d22f2154f1ce563ebb2f4c7d
>>>>>>> ee6aea4a13b43823c6cbe52123a45b8762b40f7e
=======
     "prompt_number": 318
>>>>>>> 73285e04ee3620b8d22f2154f1ce563ebb2f4c7d
=======
     "prompt_number": 717
>>>>>>> 218539d6cf8c29423957d4044197c428c7c41e75
>>>>>>> 4d093be183e4809172829731a56819464cb69a77
    },
    {
     "cell_type": "code",
     "collapsed": false,
     "input": [
      "os.curdir"
     ],
     "language": "python",
     "metadata": {},
     "outputs": [
      {
       "output_type": "pyout",
<<<<<<< HEAD
<<<<<<< HEAD
       "prompt_number": 718,
=======
=======
>>>>>>> 4d093be183e4809172829731a56819464cb69a77
<<<<<<< HEAD
       "prompt_number": 27,
=======
       "prompt_number": 319,
>>>>>>> 73285e04ee3620b8d22f2154f1ce563ebb2f4c7d
<<<<<<< HEAD
>>>>>>> ee6aea4a13b43823c6cbe52123a45b8762b40f7e
=======
=======
       "prompt_number": 718,
>>>>>>> 218539d6cf8c29423957d4044197c428c7c41e75
>>>>>>> 4d093be183e4809172829731a56819464cb69a77
       "text": [
        "'.'"
       ]
      }
     ],
<<<<<<< HEAD
<<<<<<< HEAD
     "prompt_number": 718
=======
=======
>>>>>>> 4d093be183e4809172829731a56819464cb69a77
<<<<<<< HEAD
     "prompt_number": 27
=======
     "prompt_number": 319
>>>>>>> 73285e04ee3620b8d22f2154f1ce563ebb2f4c7d
<<<<<<< HEAD
>>>>>>> ee6aea4a13b43823c6cbe52123a45b8762b40f7e
=======
=======
     "prompt_number": 718
>>>>>>> 218539d6cf8c29423957d4044197c428c7c41e75
>>>>>>> 4d093be183e4809172829731a56819464cb69a77
    },
    {
     "cell_type": "code",
     "collapsed": false,
     "input": [
      "maslist.append(os.getppid())"
     ],
     "language": "python",
     "metadata": {},
<<<<<<< HEAD
     "outputs": [
      {
       "output_type": "pyout",
       "prompt_number": 28,
       "text": [
        "24675"
       ]
      }
     ],
     "prompt_number": 28
    },
    {
     "cell_type": "code",
     "collapsed": false,
     "input": [
      "def gethusr():\n",
      "    return os.listdir('/home')"
     ],
     "language": "python",
     "metadata": {},
     "outputs": [],
     "prompt_number": 117
    },
    {
     "cell_type": "code",
     "collapsed": false,
     "input": [
      "for hustr in gethusr():\n",
      "    print hustr"
     ],
     "language": "python",
     "metadata": {},
     "outputs": [
      {
       "output_type": "stream",
       "stream": "stdout",
       "text": [
        "git\n",
        "shared\n",
        "lost+found\n",
        "wcmckee\n",
        "will\n"
       ]
      }
     ],
     "prompt_number": 122
=======
     "outputs": [],
<<<<<<< HEAD
<<<<<<< HEAD
     "prompt_number": 719
=======
     "prompt_number": 320
>>>>>>> 73285e04ee3620b8d22f2154f1ce563ebb2f4c7d
>>>>>>> ee6aea4a13b43823c6cbe52123a45b8762b40f7e
=======
     "prompt_number": 320
>>>>>>> 73285e04ee3620b8d22f2154f1ce563ebb2f4c7d
=======
     "prompt_number": 719
>>>>>>> 218539d6cf8c29423957d4044197c428c7c41e75
>>>>>>> 4d093be183e4809172829731a56819464cb69a77
    },
    {
     "cell_type": "code",
     "collapsed": false,
     "input": [
      "maslist.append(os.listdir('/home'))"
     ],
     "language": "python",
     "metadata": {},
<<<<<<< HEAD
     "outputs": [
      {
       "output_type": "pyout",
       "prompt_number": 29,
       "text": [
        "['git', 'shared', 'lost+found', 'wcmckee', 'will']"
       ]
      }
     ],
     "prompt_number": 29
=======
     "outputs": [],
<<<<<<< HEAD
<<<<<<< HEAD
     "prompt_number": 720
=======
     "prompt_number": 321
>>>>>>> 73285e04ee3620b8d22f2154f1ce563ebb2f4c7d
>>>>>>> ee6aea4a13b43823c6cbe52123a45b8762b40f7e
=======
     "prompt_number": 321
>>>>>>> 73285e04ee3620b8d22f2154f1ce563ebb2f4c7d
=======
     "prompt_number": 720
>>>>>>> 218539d6cf8c29423957d4044197c428c7c41e75
>>>>>>> 4d093be183e4809172829731a56819464cb69a77
    },
    {
     "cell_type": "code",
     "collapsed": false,
     "input": [
      "maslist.append(os.times())"
     ],
     "language": "python",
     "metadata": {},
<<<<<<< HEAD
     "outputs": [
      {
       "output_type": "pyout",
       "prompt_number": 30,
       "text": [
        "(1.87, 0.8, 0.02, 0.13, 4455905.8)"
       ]
      }
     ],
     "prompt_number": 30
=======
     "outputs": [],
<<<<<<< HEAD
<<<<<<< HEAD
     "prompt_number": 721
=======
     "prompt_number": 322
>>>>>>> 73285e04ee3620b8d22f2154f1ce563ebb2f4c7d
>>>>>>> ee6aea4a13b43823c6cbe52123a45b8762b40f7e
=======
     "prompt_number": 322
>>>>>>> 73285e04ee3620b8d22f2154f1ce563ebb2f4c7d
=======
     "prompt_number": 721
>>>>>>> 218539d6cf8c29423957d4044197c428c7c41e75
>>>>>>> 4d093be183e4809172829731a56819464cb69a77
    },
    {
     "cell_type": "code",
     "collapsed": false,
     "input": [
      "os.ctermid()"
     ],
     "language": "python",
     "metadata": {},
     "outputs": [
      {
       "output_type": "pyout",
<<<<<<< HEAD
<<<<<<< HEAD
       "prompt_number": 722,
=======
=======
>>>>>>> 4d093be183e4809172829731a56819464cb69a77
<<<<<<< HEAD
       "prompt_number": 31,
=======
       "prompt_number": 323,
>>>>>>> 73285e04ee3620b8d22f2154f1ce563ebb2f4c7d
<<<<<<< HEAD
>>>>>>> ee6aea4a13b43823c6cbe52123a45b8762b40f7e
=======
=======
       "prompt_number": 722,
>>>>>>> 218539d6cf8c29423957d4044197c428c7c41e75
>>>>>>> 4d093be183e4809172829731a56819464cb69a77
       "text": [
        "'/dev/tty'"
       ]
      }
     ],
<<<<<<< HEAD
<<<<<<< HEAD
     "prompt_number": 722
=======
=======
>>>>>>> 4d093be183e4809172829731a56819464cb69a77
<<<<<<< HEAD
     "prompt_number": 31
=======
     "prompt_number": 323
>>>>>>> 73285e04ee3620b8d22f2154f1ce563ebb2f4c7d
<<<<<<< HEAD
>>>>>>> ee6aea4a13b43823c6cbe52123a45b8762b40f7e
=======
=======
     "prompt_number": 722
>>>>>>> 218539d6cf8c29423957d4044197c428c7c41e75
>>>>>>> 4d093be183e4809172829731a56819464cb69a77
    },
    {
     "cell_type": "code",
     "collapsed": false,
     "input": [
      "from github import Github"
     ],
     "language": "python",
     "metadata": {},
     "outputs": [],
<<<<<<< HEAD
<<<<<<< HEAD
     "prompt_number": 723
=======
=======
>>>>>>> 4d093be183e4809172829731a56819464cb69a77
<<<<<<< HEAD
     "prompt_number": 85
=======
     "prompt_number": 324
>>>>>>> 73285e04ee3620b8d22f2154f1ce563ebb2f4c7d
<<<<<<< HEAD
>>>>>>> ee6aea4a13b43823c6cbe52123a45b8762b40f7e
=======
=======
     "prompt_number": 723
>>>>>>> 218539d6cf8c29423957d4044197c428c7c41e75
>>>>>>> 4d093be183e4809172829731a56819464cb69a77
    },
    {
     "cell_type": "code",
     "collapsed": false,
     "input": [
      "g = Github()"
     ],
     "language": "python",
     "metadata": {},
     "outputs": [],
<<<<<<< HEAD
<<<<<<< HEAD
     "prompt_number": 724
=======
=======
>>>>>>> 4d093be183e4809172829731a56819464cb69a77
<<<<<<< HEAD
     "prompt_number": 86
=======
     "prompt_number": 325
>>>>>>> 73285e04ee3620b8d22f2154f1ce563ebb2f4c7d
<<<<<<< HEAD
>>>>>>> ee6aea4a13b43823c6cbe52123a45b8762b40f7e
=======
=======
     "prompt_number": 724
>>>>>>> 218539d6cf8c29423957d4044197c428c7c41e75
>>>>>>> 4d093be183e4809172829731a56819464cb69a77
    },
    {
     "cell_type": "code",
     "collapsed": false,
     "input": [
      "gitlist = []"
     ],
     "language": "python",
     "metadata": {},
     "outputs": [],
<<<<<<< HEAD
<<<<<<< HEAD
     "prompt_number": 725
=======
=======
>>>>>>> 4d093be183e4809172829731a56819464cb69a77
<<<<<<< HEAD
     "prompt_number": 87
=======
     "prompt_number": 326
>>>>>>> 73285e04ee3620b8d22f2154f1ce563ebb2f4c7d
<<<<<<< HEAD
>>>>>>> ee6aea4a13b43823c6cbe52123a45b8762b40f7e
=======
=======
     "prompt_number": 725
>>>>>>> 218539d6cf8c29423957d4044197c428c7c41e75
>>>>>>> 4d093be183e4809172829731a56819464cb69a77
    },
    {
     "cell_type": "code",
     "collapsed": false,
     "input": [
      "def gitusrz(gitn):\n",
      "    for repo in g.get_user(gitn).get_repos():\n",
      "        print repo.name\n",
      "        gitlist.append(repo.name)"
     ],
     "language": "python",
     "metadata": {},
     "outputs": [],
<<<<<<< HEAD
     "prompt_number": 88
=======
     "prompt_number": 327
>>>>>>> 73285e04ee3620b8d22f2154f1ce563ebb2f4c7d
    },
    {
     "cell_type": "code",
     "collapsed": false,
     "input": [
      "gitusrz('ipython')"
     ],
     "language": "python",
     "metadata": {},
     "outputs": [
      {
       "output_type": "stream",
       "stream": "stdout",
       "text": [
        "ipython\n",
        "ipython-components\n",
        "ipython-doc\n",
        "ipython-hubot\n",
        "ipython-in-depth\n",
        "ipython-py3k\n",
        "ipython-website\n",
        "ipython.github.com\n",
        "jsplugins\n",
        "marketing\n",
        "nbconvert\n",
        "nbconvert-examples\n",
        "nbviewer\n",
        "paper-notebook2013\n",
        "salt-states-nbviewer\n",
        "sloan-2013-reports\n",
        "talks\n",
        "traitlets\n",
        "usersurveys\n",
        "xkcd-font\n"
       ]
      }
     ],
     "prompt_number": 89
    },
    {
     "cell_type": "code",
     "collapsed": false,
     "input": [
      "regit()"
     ],
     "language": "python",
     "metadata": {},
     "outputs": [
      {
       "output_type": "stream",
       "stream": "stdout",
       "text": [
        "https://github.com/wcmckee/LANs.py\n",
        "https://github.com/wcmckee/godot\n",
        "https://github.com/wcmckee/brobeur-site\n",
        "https://github.com/wcmckee/alien\n",
        "https://github.com/wcmckee/RasPiWrite\n",
        "https://github.com/wcmckee/ggj14\n",
        "https://github.com/wcmckee/FinishYourGame-Jam\n",
        "https://github.com/wcmckee/flask\n",
        "https://github.com/wcmckee/4chan-API\n",
        "https://github.com/wcmckee/game-of-life\n",
        "https://github.com/wcmckee/BroBeurFishingDream\n",
        "https://github.com/wcmckee/flamejam\n",
        "https://github.com/wcmckee/art-lastfm\n",
        "https://github.com/wcmckee/pywp-post\n",
        "https://github.com/wcmckee/TPB\n",
        "https://github.com/wcmckee/autopaintpy123\n",
        "https://github.com/wcmckee/AsylumJamCrushGame\n",
        "https://github.com/wcmckee/Bukkit\n",
        "https://github.com/wcmckee/SortPictures\n",
        "https://github.com/wcmckee/Delicious-Chrome-Extension\n",
        "https://github.com/wcmckee/intro_programming\n",
        "https://github.com/wcmckee/python-patterns\n",
        "https://github.com/wcmckee/pyunderdog\n",
        "https://github.com/wcmckee/python-wordpress-xmlrpc\n",
        "https://github.com/wcmckee/skins\n",
        "https://github.com/wcmckee/ouya-unity-plugin\n",
        "https://github.com/wcmckee/gamejam\n",
        "https://github.com/wcmckee/soundcloud-dl\n",
        "https://github.com/wcmckee/pybackupz\n",
        "https://github.com/wcmckee/flask-brobeur\n",
        "https://github.com/wcmckee/gitignore\n",
        "https://github.com/wcmckee/Projects\n",
        "https://github.com/wcmckee/SpotWalker-LD48\n",
        "https://github.com/wcmckee/BirdCage\n",
        "https://github.com/wcmckee/pyroster\n",
        "https://github.com/wcmckee/iamagamer\n",
        "https://github.com/wcmckee/ipython\n",
        "https://github.com/wcmckee/imgur-python\n",
        "https://github.com/wcmckee/paintingautopy\n",
        "https://github.com/wcmckee/brobeur-web\n",
        "https://github.com/wcmckee/cocos2d-x\n",
        "https://github.com/wcmckee/unityluainterface\n",
        "https://github.com/wcmckee/requests\n",
        "https://github.com/wcmckee/molyjam2013\n",
        "https://github.com/wcmckee/prodo-game\n",
        "https://github.com/wcmckee/reddit_bot\n",
        "https://github.com/wcmckee/DeltaBot\n",
        "https://github.com/wcmckee/marshmallow\n",
        "https://github.com/wcmckee/linux\n",
        "https://github.com/wcmckee/python-guide\n",
        "https://github.com/wcmckee/hackage-server\n",
        "https://github.com/wcmckee/pithos\n",
        "https://github.com/wcmckee/bbc2wp\n",
        "https://github.com/wcmckee/Triger\n",
        "https://github.com/wcmckee/RedditPress\n",
        "https://github.com/wcmckee/tweepy\n",
        "https://github.com/wcmckee/pytm\n",
        "https://github.com/wcmckee/Cinnamon\n",
        "https://github.com/wcmckee/HTML5-Tiny\n",
        "https://github.com/wcmckee/miniprojects\n",
        "https://github.com/wcmckee/unity-rts-demo\n",
        "https://github.com/wcmckee/SuburbNightmare\n",
        "https://github.com/wcmckee/UniLua\n",
        "https://github.com/wcmckee/raspi\n",
        "https://github.com/wcmckee/cafrin\n",
        "https://github.com/wcmckee/UnityLuaIntegration\n",
        "https://github.com/wcmckee/intercity\n",
        "https://github.com/wcmckee/DailyProgBot\n",
        "https://github.com/wcmckee/lolpy\n",
        "https://github.com/wcmckee/UIToolkit\n",
        "https://github.com/wcmckee/djtm\n",
        "https://github.com/wcmckee/pymel\n",
        "https://github.com/wcmckee/gimp\n",
        "https://github.com/wcmckee/Rift-Notes\n",
        "https://github.com/wcmckee/clint\n",
        "https://github.com/wcmckee/bacongamejam05\n",
        "https://github.com/wcmckee/lqt\n",
        "https://github.com/wcmckee/wcmStringPY\n",
        "https://github.com/wcmckee/testRepo\n",
        "https://github.com/wcmckee/RPIO\n",
        "https://github.com/wcmckee/html5lib-python\n",
        "https://github.com/wcmckee/python-pandora\n",
        "https://github.com/wcmckee/LD48-Skins\n",
        "https://github.com/wcmckee/battlenet\n",
        "https://github.com/wcmckee/haskell-learn\n",
        "https://github.com/wcmckee/BeOk\n",
        "https://github.com/wcmckee/openfaux-server\n",
        "https://github.com/wcmckee/summingbird\n",
        "https://github.com/wcmckee/broLove\n",
        "https://github.com/wcmckee/Koha\n",
        "https://github.com/wcmckee/xboxdrv\n",
        "https://github.com/wcmckee/massive-wright\n",
        "https://github.com/wcmckee/django\n",
        "https://github.com/wcmckee/python-twitter\n",
        "https://github.com/wcmckee/WordPress\n",
        "https://github.com/wcmckee/ruby-warrior\n",
        "https://github.com/wcmckee/ihaskell-notebook\n",
        "https://github.com/wcmckee/opencompetencies\n"
       ]
      }
     ],
<<<<<<< HEAD
     "prompt_number": 90
=======
     "prompt_number": 328
    },
    {
     "cell_type": "code",
     "collapsed": false,
     "input": [
      "import random\n",
      "import git"
     ],
     "language": "python",
     "metadata": {},
     "outputs": [],
     "prompt_number": 346
    },
    {
     "cell_type": "code",
     "collapsed": false,
     "input": [
      "gitlstint = len(gitlist)"
     ],
     "language": "python",
     "metadata": {},
     "outputs": [],
     "prompt_number": 347
    },
    {
     "cell_type": "code",
     "collapsed": false,
     "input": [
      "print gitlstint"
     ],
     "language": "python",
     "metadata": {},
     "outputs": [
      {
       "output_type": "stream",
       "stream": "stdout",
       "text": [
        "100\n"
       ]
      }
     ],
     "prompt_number": 348
    },
    {
     "cell_type": "code",
     "collapsed": false,
     "input": [
      "gitrepoz = random.randint(0, gitlstint)"
     ],
     "language": "python",
     "metadata": {},
     "outputs": [],
     "prompt_number": 349
    },
    {
     "cell_type": "code",
     "collapsed": false,
     "input": [
      "fgitrepoz = gitlist[gitrepoz]"
     ],
     "language": "python",
     "metadata": {},
     "outputs": [],
     "prompt_number": 350
    },
    {
     "cell_type": "code",
     "collapsed": false,
     "input": [
      "\n",
      "print fgitrepoz"
     ],
     "language": "python",
     "metadata": {},
     "outputs": [
      {
       "output_type": "stream",
       "stream": "stdout",
       "text": [
        "art-lastfm\n"
       ]
      }
     ],
     "prompt_number": 351
>>>>>>> 73285e04ee3620b8d22f2154f1ce563ebb2f4c7d
    },
    {
     "cell_type": "code",
     "collapsed": false,
     "input": [
      "gitlist"
     ],
     "language": "python",
     "metadata": {},
     "outputs": [
      {
       "output_type": "pyout",
<<<<<<< HEAD
       "prompt_number": 91,
=======
       "prompt_number": 352,
>>>>>>> 73285e04ee3620b8d22f2154f1ce563ebb2f4c7d
       "text": [
        "[u'ipython',\n",
        " u'ipython-components',\n",
        " u'ipython-doc',\n",
        " u'ipython-hubot',\n",
        " u'ipython-in-depth',\n",
        " u'ipython-py3k',\n",
        " u'ipython-website',\n",
        " u'ipython.github.com',\n",
        " u'jsplugins',\n",
        " u'marketing',\n",
        " u'nbconvert',\n",
        " u'nbconvert-examples',\n",
        " u'nbviewer',\n",
        " u'paper-notebook2013',\n",
        " u'salt-states-nbviewer',\n",
        " u'sloan-2013-reports',\n",
        " u'talks',\n",
        " u'traitlets',\n",
        " u'usersurveys',\n",
        " u'xkcd-font']"
       ]
      }
     ],
<<<<<<< HEAD
     "prompt_number": 91
    },
    {
     "cell_type": "code",
     "collapsed": false,
     "input": [
      "os.chdir('/home/will/Desktop/')"
     ],
     "language": "python",
     "metadata": {},
     "outputs": [],
     "prompt_number": 92
=======
     "prompt_number": 352
>>>>>>> 73285e04ee3620b8d22f2154f1ce563ebb2f4c7d
    },
    {
     "cell_type": "code",
     "collapsed": false,
     "input": [
      "lisdir = os.listdir('/home/will/Desktop/')"
     ],
     "language": "python",
     "metadata": {},
     "outputs": [],
<<<<<<< HEAD
     "prompt_number": 93
    },
    {
     "cell_type": "code",
     "collapsed": false,
     "input": [
      "curlist = []"
     ],
     "language": "python",
     "metadata": {},
     "outputs": [],
     "prompt_number": 94
=======
     "prompt_number": 353
>>>>>>> 73285e04ee3620b8d22f2154f1ce563ebb2f4c7d
    },
    {
     "cell_type": "code",
     "collapsed": false,
     "input": [
<<<<<<< HEAD
      "for ls in lisdir:\n",
      "    print ls\n",
      "    curlist.append(ls)"
=======
      "for gitre in gitlist:\n",
      "    print gitre"
>>>>>>> 73285e04ee3620b8d22f2154f1ce563ebb2f4c7d
     ],
     "language": "python",
     "metadata": {},
     "outputs": [
      {
       "output_type": "stream",
       "stream": "stdout",
       "text": [
<<<<<<< HEAD
        "bikesteal\n",
        "46-20140202123120-snapshot.jpg\n",
        "misty-linux.zip\n",
        "fend.dae\n",
        "pirate-party.svg\n",
        "01-2014-01-30--23--57--37.avi\n",
        "bikesteal.tar.gz\n",
        "artcontrol-api\n",
        "46-20140202123130-snapshot.jpg\n",
        "20140203-22-13-22.avi\n",
        "Octocat.png\n",
        "vids\n",
        "misty-linux.x86\n",
        "20140203-22-45-51.avi\n",
        "20140203-22-52-53.avi\n",
        "46-20140202123150-snapshot.jpg\n",
        "fend.blend1\n",
        "2014-02-02-timelapse.mpg\n",
        "wcm-ggj.svg\n",
        "fend.blend\n",
        "bleh\n",
        "pythonspeech.svg\n",
        "2014-01-31-timelapse.mpg\n",
        "2014-02-03-timelapse.mpg\n",
        "46-20140202123200-snapshot.jpg\n",
        "20140203-22-24-47.avi\n",
        ".directory\n",
        "misty-linux.x86_64\n",
        "lastsnap.jpg\n",
        "radio edit.mp3\n",
        "wirepil\n",
        "46-20140202123140-snapshot.jpg\n",
        "2014-01-30-timelapse.mpg\n",
        "46-20140202123110-snapshot.jpg\n",
        "2014-02-01-timelapse.mpg\n"
       ]
      }
     ],
     "prompt_number": 95
=======
        "4chan-API\n",
        "alien\n",
        "art-lastfm\n",
        "artcontrol-api\n",
        "AsylumJamCrushGame\n",
        "autopaintpy123\n",
        "bacongamejam05\n",
        "battlenet\n",
        "bbc2wp\n",
        "BeOk\n",
        "BirdCage\n",
        "brobeur-site\n",
        "brobeur-web\n",
        "BroBeurFishingDream\n",
        "broLove\n",
        "Bukkit\n",
        "cafrin\n",
        "Cinnamon\n",
        "clint\n",
        "cocos2d-x\n",
        "DailyProgBot\n",
        "Delicious-Chrome-Extension\n",
        "DeltaBot\n",
        "django\n",
        "djtm\n",
        "FinishYourGame-Jam\n",
        "flamejam\n",
        "flask\n",
        "flask-brobeur\n",
        "game-of-life\n",
        "gamejam\n",
        "ggj14\n",
        "gimp\n",
        "gitignore\n",
        "godot\n",
        "hackage-server\n",
        "haskell-learn\n",
        "HTML5-Tiny\n",
        "html5lib-python\n",
        "iamagamer\n",
        "ihaskell-notebook\n",
        "imgur-python\n",
        "intercity\n",
        "intro_programming\n",
        "ipython\n",
        "Koha\n",
        "LANs.py\n",
        "LD48-Skins\n",
        "linux\n",
        "lolpy\n",
        "lqt\n",
        "marshmallow\n",
        "massive-wright\n",
        "miniprojects\n",
        "molyjam2013\n",
        "opencompetencies\n",
        "openfaux-server\n",
        "ouya-unity-plugin\n",
        "paintingautopy\n",
        "pithos\n",
        "prodo-game\n",
        "Projects\n",
        "pybackupz\n",
        "pymel\n",
        "pyroster\n",
        "python-guide\n",
        "python-pandora\n",
        "python-patterns\n",
        "python-twitter\n",
        "python-wordpress-xmlrpc\n",
        "pytm\n",
        "pyunderdog\n",
        "pywp-post\n",
        "raspi\n",
        "RasPiWrite\n",
        "RedditPress\n",
        "reddit_bot\n",
        "requests\n",
        "Rift-Notes\n",
        "RPIO\n",
        "ruby-warrior\n",
        "skins\n",
        "SortPictures\n",
        "soundcloud-dl\n",
        "SpotWalker-LD48\n",
        "SuburbNightmare\n",
        "summingbird\n",
        "testRepo\n",
        "TPB\n",
        "Triger\n",
        "tweepy\n",
        "UIToolkit\n",
        "UniLua\n",
        "unity-rts-demo\n",
        "UnityLuaIntegration\n",
        "unityluainterface\n",
        "wcmStringPY\n",
        "wirepil\n",
        "WordPress\n",
        "xboxdrv\n"
       ]
      }
     ],
     "prompt_number": 354
    },
    {
     "cell_type": "code",
     "collapsed": false,
     "input": [
      "git.Git().clone(\"https://github.com/wcmckee/\" + takn)"
     ],
     "language": "python",
     "metadata": {},
     "outputs": [
      {
       "ename": "GitCommandError",
       "evalue": "'git clone https://github.com/wcmckee/xboxdrv' returned exit status 128: fatal: destination path 'xboxdrv' already exists and is not an empty directory.",
       "output_type": "pyerr",
       "traceback": [
        "\u001b[0;31m---------------------------------------------------------------------------\u001b[0m\n\u001b[0;31mGitCommandError\u001b[0m                           Traceback (most recent call last)",
        "\u001b[0;32m<ipython-input-355-f1d29444f399>\u001b[0m in \u001b[0;36m<module>\u001b[0;34m()\u001b[0m\n\u001b[0;32m----> 1\u001b[0;31m \u001b[0mgit\u001b[0m\u001b[0;34m.\u001b[0m\u001b[0mGit\u001b[0m\u001b[0;34m(\u001b[0m\u001b[0;34m)\u001b[0m\u001b[0;34m.\u001b[0m\u001b[0mclone\u001b[0m\u001b[0;34m(\u001b[0m\u001b[0;34m\"https://github.com/wcmckee/xboxdrv\"\u001b[0m\u001b[0;34m)\u001b[0m\u001b[0;34m\u001b[0m\u001b[0m\n\u001b[0m",
        "\u001b[0;32m/usr/local/lib/python2.7/dist-packages/git/cmd.pyc\u001b[0m in \u001b[0;36m<lambda>\u001b[0;34m(*args, **kwargs)\u001b[0m\n\u001b[1;32m    225\u001b[0m                 \u001b[0;32mif\u001b[0m \u001b[0mname\u001b[0m\u001b[0;34m[\u001b[0m\u001b[0;36m0\u001b[0m\u001b[0;34m]\u001b[0m \u001b[0;34m==\u001b[0m \u001b[0;34m'_'\u001b[0m\u001b[0;34m:\u001b[0m\u001b[0;34m\u001b[0m\u001b[0m\n\u001b[1;32m    226\u001b[0m                         \u001b[0;32mreturn\u001b[0m \u001b[0mLazyMixin\u001b[0m\u001b[0;34m.\u001b[0m\u001b[0m__getattr__\u001b[0m\u001b[0;34m(\u001b[0m\u001b[0mself\u001b[0m\u001b[0;34m,\u001b[0m \u001b[0mname\u001b[0m\u001b[0;34m)\u001b[0m\u001b[0;34m\u001b[0m\u001b[0m\n\u001b[0;32m--> 227\u001b[0;31m                 \u001b[0;32mreturn\u001b[0m \u001b[0;32mlambda\u001b[0m \u001b[0;34m*\u001b[0m\u001b[0margs\u001b[0m\u001b[0;34m,\u001b[0m \u001b[0;34m**\u001b[0m\u001b[0mkwargs\u001b[0m\u001b[0;34m:\u001b[0m \u001b[0mself\u001b[0m\u001b[0;34m.\u001b[0m\u001b[0m_call_process\u001b[0m\u001b[0;34m(\u001b[0m\u001b[0mname\u001b[0m\u001b[0;34m,\u001b[0m \u001b[0;34m*\u001b[0m\u001b[0margs\u001b[0m\u001b[0;34m,\u001b[0m \u001b[0;34m**\u001b[0m\u001b[0mkwargs\u001b[0m\u001b[0;34m)\u001b[0m\u001b[0;34m\u001b[0m\u001b[0m\n\u001b[0m\u001b[1;32m    228\u001b[0m \u001b[0;34m\u001b[0m\u001b[0m\n\u001b[1;32m    229\u001b[0m         \u001b[0;32mdef\u001b[0m \u001b[0m_set_cache_\u001b[0m\u001b[0;34m(\u001b[0m\u001b[0mself\u001b[0m\u001b[0;34m,\u001b[0m \u001b[0mattr\u001b[0m\u001b[0;34m)\u001b[0m\u001b[0;34m:\u001b[0m\u001b[0;34m\u001b[0m\u001b[0m\n",
        "\u001b[0;32m/usr/local/lib/python2.7/dist-packages/git/cmd.pyc\u001b[0m in \u001b[0;36m_call_process\u001b[0;34m(self, method, *args, **kwargs)\u001b[0m\n\u001b[1;32m    454\u001b[0m                 \u001b[0mcall\u001b[0m\u001b[0;34m.\u001b[0m\u001b[0mextend\u001b[0m\u001b[0;34m(\u001b[0m\u001b[0margs\u001b[0m\u001b[0;34m)\u001b[0m\u001b[0;34m\u001b[0m\u001b[0m\n\u001b[1;32m    455\u001b[0m \u001b[0;34m\u001b[0m\u001b[0m\n\u001b[0;32m--> 456\u001b[0;31m                 \u001b[0;32mreturn\u001b[0m \u001b[0mself\u001b[0m\u001b[0;34m.\u001b[0m\u001b[0mexecute\u001b[0m\u001b[0;34m(\u001b[0m\u001b[0mcall\u001b[0m\u001b[0;34m,\u001b[0m \u001b[0;34m**\u001b[0m\u001b[0m_kwargs\u001b[0m\u001b[0;34m)\u001b[0m\u001b[0;34m\u001b[0m\u001b[0m\n\u001b[0m\u001b[1;32m    457\u001b[0m \u001b[0;34m\u001b[0m\u001b[0m\n\u001b[1;32m    458\u001b[0m         \u001b[0;32mdef\u001b[0m \u001b[0m_parse_object_header\u001b[0m\u001b[0;34m(\u001b[0m\u001b[0mself\u001b[0m\u001b[0;34m,\u001b[0m \u001b[0mheader_line\u001b[0m\u001b[0;34m)\u001b[0m\u001b[0;34m:\u001b[0m\u001b[0;34m\u001b[0m\u001b[0m\n",
        "\u001b[0;32m/usr/local/lib/python2.7/dist-packages/git/cmd.pyc\u001b[0m in \u001b[0;36mexecute\u001b[0;34m(self, command, istream, with_keep_cwd, with_extended_output, with_exceptions, as_process, output_stream, **subprocess_kwargs)\u001b[0m\n\u001b[1;32m    375\u001b[0m \u001b[0;34m\u001b[0m\u001b[0m\n\u001b[1;32m    376\u001b[0m                 \u001b[0;32mif\u001b[0m \u001b[0mwith_exceptions\u001b[0m \u001b[0;32mand\u001b[0m \u001b[0mstatus\u001b[0m \u001b[0;34m!=\u001b[0m \u001b[0;36m0\u001b[0m\u001b[0;34m:\u001b[0m\u001b[0;34m\u001b[0m\u001b[0m\n\u001b[0;32m--> 377\u001b[0;31m                         \u001b[0;32mraise\u001b[0m \u001b[0mGitCommandError\u001b[0m\u001b[0;34m(\u001b[0m\u001b[0mcommand\u001b[0m\u001b[0;34m,\u001b[0m \u001b[0mstatus\u001b[0m\u001b[0;34m,\u001b[0m \u001b[0mstderr_value\u001b[0m\u001b[0;34m)\u001b[0m\u001b[0;34m\u001b[0m\u001b[0m\n\u001b[0m\u001b[1;32m    378\u001b[0m \u001b[0;34m\u001b[0m\u001b[0m\n\u001b[1;32m    379\u001b[0m                 \u001b[0;31m# Allow access to the command's status code\u001b[0m\u001b[0;34m\u001b[0m\u001b[0;34m\u001b[0m\u001b[0m\n",
        "\u001b[0;31mGitCommandError\u001b[0m: 'git clone https://github.com/wcmckee/xboxdrv' returned exit status 128: fatal: destination path 'xboxdrv' already exists and is not an empty directory."
       ]
      }
     ],
     "prompt_number": 355
    },
    {
     "cell_type": "code",
     "collapsed": false,
     "input": [
      "lisdir = os.listdir('/home/drhealsgood/wcmckee/')"
     ],
     "language": "python",
     "metadata": {},
     "outputs": []
>>>>>>> 73285e04ee3620b8d22f2154f1ce563ebb2f4c7d
    },
    {
     "cell_type": "code",
     "collapsed": false,
     "input": [
      "dlrepo = list(set(gitlist) - set(curlist))"
     ],
     "language": "python",
     "metadata": {},
<<<<<<< HEAD
     "outputs": [],
     "prompt_number": 96
=======
     "outputs": [
      {
       "output_type": "pyout",
       "prompt_number": 362,
       "text": [
        "'learnpython'"
       ]
      }
     ],
     "prompt_number": 362
    },
    {
     "cell_type": "code",
     "collapsed": false,
     "input": [
      "set(lisdir) & set(gitlist)"
     ],
     "language": "python",
     "metadata": {},
     "outputs": [
      {
       "output_type": "pyout",
       "prompt_number": 337,
       "text": [
        "set(['pyunderdog',\n",
        "     'skins',\n",
        "     'alien',\n",
        "     'clint',\n",
        "     'bacongamejam05',\n",
        "     'bbc2wp',\n",
        "     'pybackupz',\n",
        "     'brobeur-site',\n",
        "     '4chan-API',\n",
        "     'BroBeurFishingDream',\n",
        "     'art-lastfm',\n",
        "     'pywp-post',\n",
        "     'BirdCage',\n",
        "     'autopaintpy123',\n",
        "     'broLove',\n",
        "     'Cinnamon',\n",
        "     'battlenet',\n",
        "     'ipython',\n",
        "     'wirepil',\n",
        "     'BeOk',\n",
        "     'artcontrol-api',\n",
        "     'AsylumJamCrushGame',\n",
        "     'brobeur-web',\n",
        "     'Bukkit',\n",
        "     'cocos2d-x',\n",
        "     'cafrin'])"
       ]
      }
     ],
     "prompt_number": 337
    },
    {
     "cell_type": "code",
     "collapsed": false,
     "input": [
      "takegit =(set(lisdir).intersection(gitlist))"
     ],
     "language": "python",
     "metadata": {},
     "outputs": [],
     "prompt_number": 343
    },
    {
     "cell_type": "code",
     "collapsed": false,
     "input": [
      "for takn in takegit:\n",
      "    print takn\n",
      "    #git.Git().clone(\"https://github.com/wcmckee/\" + takn)"
     ],
     "language": "python",
     "metadata": {},
     "outputs": [
      {
       "ename": "GitCommandError",
       "evalue": "'git clone https://github.com/wcmckee/brobeur-site' returned exit status 128: fatal: destination path 'brobeur-site' already exists and is not an empty directory.",
       "output_type": "pyerr",
       "traceback": [
        "\u001b[0;31m---------------------------------------------------------------------------\u001b[0m\n\u001b[0;31mGitCommandError\u001b[0m                           Traceback (most recent call last)",
        "\u001b[0;32m<ipython-input-363-e449b1573645>\u001b[0m in \u001b[0;36m<module>\u001b[0;34m()\u001b[0m\n\u001b[1;32m      1\u001b[0m \u001b[0;32mfor\u001b[0m \u001b[0mtakn\u001b[0m \u001b[0;32min\u001b[0m \u001b[0mtakegit\u001b[0m\u001b[0;34m:\u001b[0m\u001b[0;34m\u001b[0m\u001b[0m\n\u001b[1;32m      2\u001b[0m     \u001b[0;32mprint\u001b[0m \u001b[0mtakn\u001b[0m\u001b[0;34m\u001b[0m\u001b[0m\n\u001b[0;32m----> 3\u001b[0;31m     \u001b[0mgit\u001b[0m\u001b[0;34m.\u001b[0m\u001b[0mGit\u001b[0m\u001b[0;34m(\u001b[0m\u001b[0;34m)\u001b[0m\u001b[0;34m.\u001b[0m\u001b[0mclone\u001b[0m\u001b[0;34m(\u001b[0m\u001b[0;34m\"https://github.com/wcmckee/\"\u001b[0m \u001b[0;34m+\u001b[0m \u001b[0mtakn\u001b[0m\u001b[0;34m)\u001b[0m\u001b[0;34m\u001b[0m\u001b[0m\n\u001b[0m",
        "\u001b[0;32m/usr/local/lib/python2.7/dist-packages/git/cmd.pyc\u001b[0m in \u001b[0;36m<lambda>\u001b[0;34m(*args, **kwargs)\u001b[0m\n\u001b[1;32m    225\u001b[0m                 \u001b[0;32mif\u001b[0m \u001b[0mname\u001b[0m\u001b[0;34m[\u001b[0m\u001b[0;36m0\u001b[0m\u001b[0;34m]\u001b[0m \u001b[0;34m==\u001b[0m \u001b[0;34m'_'\u001b[0m\u001b[0;34m:\u001b[0m\u001b[0;34m\u001b[0m\u001b[0m\n\u001b[1;32m    226\u001b[0m                         \u001b[0;32mreturn\u001b[0m \u001b[0mLazyMixin\u001b[0m\u001b[0;34m.\u001b[0m\u001b[0m__getattr__\u001b[0m\u001b[0;34m(\u001b[0m\u001b[0mself\u001b[0m\u001b[0;34m,\u001b[0m \u001b[0mname\u001b[0m\u001b[0;34m)\u001b[0m\u001b[0;34m\u001b[0m\u001b[0m\n\u001b[0;32m--> 227\u001b[0;31m                 \u001b[0;32mreturn\u001b[0m \u001b[0;32mlambda\u001b[0m \u001b[0;34m*\u001b[0m\u001b[0margs\u001b[0m\u001b[0;34m,\u001b[0m \u001b[0;34m**\u001b[0m\u001b[0mkwargs\u001b[0m\u001b[0;34m:\u001b[0m \u001b[0mself\u001b[0m\u001b[0;34m.\u001b[0m\u001b[0m_call_process\u001b[0m\u001b[0;34m(\u001b[0m\u001b[0mname\u001b[0m\u001b[0;34m,\u001b[0m \u001b[0;34m*\u001b[0m\u001b[0margs\u001b[0m\u001b[0;34m,\u001b[0m \u001b[0;34m**\u001b[0m\u001b[0mkwargs\u001b[0m\u001b[0;34m)\u001b[0m\u001b[0;34m\u001b[0m\u001b[0m\n\u001b[0m\u001b[1;32m    228\u001b[0m \u001b[0;34m\u001b[0m\u001b[0m\n\u001b[1;32m    229\u001b[0m         \u001b[0;32mdef\u001b[0m \u001b[0m_set_cache_\u001b[0m\u001b[0;34m(\u001b[0m\u001b[0mself\u001b[0m\u001b[0;34m,\u001b[0m \u001b[0mattr\u001b[0m\u001b[0;34m)\u001b[0m\u001b[0;34m:\u001b[0m\u001b[0;34m\u001b[0m\u001b[0m\n",
        "\u001b[0;32m/usr/local/lib/python2.7/dist-packages/git/cmd.pyc\u001b[0m in \u001b[0;36m_call_process\u001b[0;34m(self, method, *args, **kwargs)\u001b[0m\n\u001b[1;32m    454\u001b[0m                 \u001b[0mcall\u001b[0m\u001b[0;34m.\u001b[0m\u001b[0mextend\u001b[0m\u001b[0;34m(\u001b[0m\u001b[0margs\u001b[0m\u001b[0;34m)\u001b[0m\u001b[0;34m\u001b[0m\u001b[0m\n\u001b[1;32m    455\u001b[0m \u001b[0;34m\u001b[0m\u001b[0m\n\u001b[0;32m--> 456\u001b[0;31m                 \u001b[0;32mreturn\u001b[0m \u001b[0mself\u001b[0m\u001b[0;34m.\u001b[0m\u001b[0mexecute\u001b[0m\u001b[0;34m(\u001b[0m\u001b[0mcall\u001b[0m\u001b[0;34m,\u001b[0m \u001b[0;34m**\u001b[0m\u001b[0m_kwargs\u001b[0m\u001b[0;34m)\u001b[0m\u001b[0;34m\u001b[0m\u001b[0m\n\u001b[0m\u001b[1;32m    457\u001b[0m \u001b[0;34m\u001b[0m\u001b[0m\n\u001b[1;32m    458\u001b[0m         \u001b[0;32mdef\u001b[0m \u001b[0m_parse_object_header\u001b[0m\u001b[0;34m(\u001b[0m\u001b[0mself\u001b[0m\u001b[0;34m,\u001b[0m \u001b[0mheader_line\u001b[0m\u001b[0;34m)\u001b[0m\u001b[0;34m:\u001b[0m\u001b[0;34m\u001b[0m\u001b[0m\n",
        "\u001b[0;32m/usr/local/lib/python2.7/dist-packages/git/cmd.pyc\u001b[0m in \u001b[0;36mexecute\u001b[0;34m(self, command, istream, with_keep_cwd, with_extended_output, with_exceptions, as_process, output_stream, **subprocess_kwargs)\u001b[0m\n\u001b[1;32m    375\u001b[0m \u001b[0;34m\u001b[0m\u001b[0m\n\u001b[1;32m    376\u001b[0m                 \u001b[0;32mif\u001b[0m \u001b[0mwith_exceptions\u001b[0m \u001b[0;32mand\u001b[0m \u001b[0mstatus\u001b[0m \u001b[0;34m!=\u001b[0m \u001b[0;36m0\u001b[0m\u001b[0;34m:\u001b[0m\u001b[0;34m\u001b[0m\u001b[0m\n\u001b[0;32m--> 377\u001b[0;31m                         \u001b[0;32mraise\u001b[0m \u001b[0mGitCommandError\u001b[0m\u001b[0;34m(\u001b[0m\u001b[0mcommand\u001b[0m\u001b[0;34m,\u001b[0m \u001b[0mstatus\u001b[0m\u001b[0;34m,\u001b[0m \u001b[0mstderr_value\u001b[0m\u001b[0;34m)\u001b[0m\u001b[0;34m\u001b[0m\u001b[0m\n\u001b[0m\u001b[1;32m    378\u001b[0m \u001b[0;34m\u001b[0m\u001b[0m\n\u001b[1;32m    379\u001b[0m                 \u001b[0;31m# Allow access to the command's status code\u001b[0m\u001b[0;34m\u001b[0m\u001b[0;34m\u001b[0m\u001b[0m\n",
        "\u001b[0;31mGitCommandError\u001b[0m: 'git clone https://github.com/wcmckee/brobeur-site' returned exit status 128: fatal: destination path 'brobeur-site' already exists and is not an empty directory."
       ]
      },
      {
       "output_type": "stream",
       "stream": "stdout",
       "text": [
        "brobeur-site\n"
       ]
      }
     ],
     "prompt_number": 363
>>>>>>> 73285e04ee3620b8d22f2154f1ce563ebb2f4c7d
    },
    {
     "cell_type": "code",
     "collapsed": false,
     "input": [
<<<<<<< HEAD
      "dlrepo"
=======
      "for listd in lisdir:\n",
      "    print list"
>>>>>>> 73285e04ee3620b8d22f2154f1ce563ebb2f4c7d
     ],
     "language": "python",
     "metadata": {},
     "outputs": [
      {
       "output_type": "pyout",
       "prompt_number": 97,
       "text": [
<<<<<<< HEAD
        "[u'sloan-2013-reports',\n",
        " u'nbconvert-examples',\n",
        " u'ipython-in-depth',\n",
        " u'salt-states-nbviewer',\n",
        " u'usersurveys',\n",
        " u'marketing',\n",
        " u'nbviewer',\n",
        " u'ipython-py3k',\n",
        " u'paper-notebook2013',\n",
        " u'ipython-doc',\n",
        " u'traitlets',\n",
        " u'nbconvert',\n",
        " u'jsplugins',\n",
        " u'ipython-hubot',\n",
        " u'talks',\n",
        " u'ipython-website',\n",
        " u'ipython',\n",
        " u'ipython.github.com',\n",
        " u'ipython-components',\n",
        " u'xkcd-font']"
       ]
      }
     ],
     "prompt_number": 97
=======
        "Cinnamon\n",
        "cafrin\n",
        "lrn\n",
        "artcontrol-api\n",
        "BroBeurFishingDream\n",
        "pybackupz\n",
        "art-lastfm\n",
        "Bukkit\n",
        "BirdCage\n",
        "alien\n",
        "4chan-API\n",
        "skins\n",
        "pyunderdog\n",
        "clint\n",
        "bbc2wp\n",
        "broLove\n",
        "bacongamejam05\n",
        "wirepil\n",
        "autopaintpy123\n",
        "brobeur-site\n",
        "ipython\n",
        "cocos2d-x\n",
        "brobeur-web\n",
        "AsylumJamCrushGame\n",
        "battlenet\n",
        "BeOk\n",
        "pywp-post\n",
        "learnpython\n"
       ]
      }
     ],
     "prompt_number": 335
>>>>>>> 73285e04ee3620b8d22f2154f1ce563ebb2f4c7d
    },
    {
     "cell_type": "code",
     "collapsed": false,
     "input": [
      "geetrepl = []"
     ],
     "language": "python",
     "metadata": {},
<<<<<<< HEAD
     "outputs": [],
     "prompt_number": 98
=======
     "outputs": [
      {
       "metadata": {},
       "output_type": "pyout",
       "prompt_number": 50,
       "text": [
        "{'SSH_CLIENT': '101.98.193.24 40095 22', 'LOGNAME': 'drhealsgood', 'USER': 'drhealsgood', 'HOME': '/home/drhealsgood', 'PATH': '/usr/local/bin:/usr/bin:/bin:/usr/local/games:/usr/games', 'LANG': 'C', 'TERM': 'xterm-color', 'SHELL': '/bin/bash', 'XDG_SESSION_COOKIE': '7f328d494afa391e9040c7d0530eaec0-1394622726.597288-1030538019', 'SHLVL': '2', 'TMUX': '/tmp//tmux-1001/default,3633,1', 'GIT_PAGER': 'cat', '_': '/usr/local/bin/ipython', 'SSH_CONNECTION': '101.98.193.24 50128 74.50.51.32 22', 'SSH_TTY': '/dev/pts/1', 'OLDPWD': '/home/drhealsgood/wcmckee', 'CLICOLOR': '1', 'PWD': '/home/drhealsgood/wcmckee/artcontrol-api', 'MAIL': '/var/mail/drhealsgood', 'LS_COLORS': 'rs=0:di=01;34:ln=01;36:mh=00:pi=40;33:so=01;35:do=01;35:bd=40;33;01:cd=40;33;01:or=40;31;01:su=37;41:sg=30;43:ca=30;41:tw=30;42:ow=34;42:st=37;44:ex=01;32:*.tar=01;31:*.tgz=01;31:*.arj=01;31:*.taz=01;31:*.lzh=01;31:*.lzma=01;31:*.tlz=01;31:*.txz=01;31:*.zip=01;31:*.z=01;31:*.Z=01;31:*.dz=01;31:*.gz=01;31:*.lz=01;31:*.xz=01;31:*.bz2=01;31:*.bz=01;31:*.tbz=01;31:*.tbz2=01;31:*.tz=01;31:*.deb=01;31:*.rpm=01;31:*.jar=01;31:*.war=01;31:*.ear=01;31:*.sar=01;31:*.rar=01;31:*.ace=01;31:*.zoo=01;31:*.cpio=01;31:*.7z=01;31:*.rz=01;31:*.jpg=01;35:*.jpeg=01;35:*.gif=01;35:*.bmp=01;35:*.pbm=01;35:*.pgm=01;35:*.ppm=01;35:*.tga=01;35:*.xbm=01;35:*.xpm=01;35:*.tif=01;35:*.tiff=01;35:*.png=01;35:*.svg=01;35:*.svgz=01;35:*.mng=01;35:*.pcx=01;35:*.mov=01;35:*.mpg=01;35:*.mpeg=01;35:*.m2v=01;35:*.mkv=01;35:*.webm=01;35:*.ogm=01;35:*.mp4=01;35:*.m4v=01;35:*.mp4v=01;35:*.vob=01;35:*.qt=01;35:*.nuv=01;35:*.wmv=01;35:*.asf=01;35:*.rm=01;35:*.rmvb=01;35:*.flc=01;35:*.avi=01;35:*.fli=01;35:*.flv=01;35:*.gl=01;35:*.dl=01;35:*.xcf=01;35:*.xwd=01;35:*.yuv=01;35:*.cgm=01;35:*.emf=01;35:*.axv=01;35:*.anx=01;35:*.ogv=01;35:*.ogx=01;35:*.aac=00;36:*.au=00;36:*.flac=00;36:*.mid=00;36:*.midi=00;36:*.mka=00;36:*.mp3=00;36:*.mpc=00;36:*.ogg=00;36:*.ra=00;36:*.wav=00;36:*.axa=00;36:*.oga=00;36:*.spx=00;36:*.xspf=00;36:', 'PAGER': 'cat', 'TMUX_PANE': '%9'}"
       ]
      }
     ],
     "prompt_number": 50
>>>>>>> 73285e04ee3620b8d22f2154f1ce563ebb2f4c7d
    },
    {
     "cell_type": "code",
     "collapsed": false,
     "input": [
<<<<<<< HEAD
      "gitusrz('ipython')"
     ],
     "language": "python",
     "metadata": {},
     "outputs": [
      {
       "output_type": "stream",
       "stream": "stdout",
       "text": [
        "ipython\n",
        "ipython-components\n",
        "ipython-doc\n",
        "ipython-hubot\n",
        "ipython-in-depth\n",
        "ipython-py3k\n",
        "ipython-website\n",
        "ipython.github.com\n",
        "jsplugins\n",
        "marketing\n",
        "nbconvert\n",
        "nbconvert-examples\n",
        "nbviewer\n",
        "paper-notebook2013\n",
        "salt-states-nbviewer\n",
        "sloan-2013-reports\n",
        "talks\n",
        "traitlets\n",
        "usersurveys\n",
        "xkcd-font\n"
       ]
      }
     ],
     "prompt_number": 99
=======
      "def printinfo(name, timel):\n",
      "   \"This prints a passed info into this function\"\n",
      "   print \"hostname: \", name;\n",
      "   print \"time left \", timel;\n",
      "   return;\n"
     ],
     "language": "python",
     "metadata": {},
     "outputs": [],
     "prompt_number": 51
>>>>>>> 73285e04ee3620b8d22f2154f1ce563ebb2f4c7d
    },
    {
     "cell_type": "code",
     "collapsed": false,
     "input": [],
     "language": "python",
     "metadata": {},
     "outputs": [],
<<<<<<< HEAD
     "prompt_number": 99
=======
     "prompt_number": 52
>>>>>>> 73285e04ee3620b8d22f2154f1ce563ebb2f4c7d
    },
    {
     "cell_type": "code",
     "collapsed": false,
     "input": [
      "gitusr = ('wcmckee')"
     ],
     "language": "python",
     "metadata": {},
<<<<<<< HEAD
     "outputs": [],
     "prompt_number": 100
=======
     "outputs": [
      {
       "output_type": "stream",
       "stream": "stdout",
       "text": [
        "21680.1107977\n"
       ]
      }
     ],
     "prompt_number": 53
>>>>>>> 73285e04ee3620b8d22f2154f1ce563ebb2f4c7d
    },
    {
     "cell_type": "code",
     "collapsed": false,
     "input": [
      "def regit():\n",
      "    for gitbl in dlrepo:\n",
      "        print ('https://github.com/' + gitusr + '/' +  gitbl)\n",
      "        geetrepl.append(gitbl)"
     ],
     "language": "python",
     "metadata": {},
     "outputs": [],
<<<<<<< HEAD
     "prompt_number": 101
=======
     "prompt_number": 54
>>>>>>> 73285e04ee3620b8d22f2154f1ce563ebb2f4c7d
    },
    {
     "cell_type": "code",
     "collapsed": false,
     "input": [
      "print geetrepl"
     ],
     "language": "python",
     "metadata": {},
<<<<<<< HEAD
     "outputs": [
      {
       "output_type": "stream",
       "stream": "stdout",
       "text": [
        "[]\n"
       ]
      }
     ],
     "prompt_number": 102
=======
     "outputs": [],
     "prompt_number": 55
>>>>>>> 73285e04ee3620b8d22f2154f1ce563ebb2f4c7d
    },
    {
     "cell_type": "code",
     "collapsed": false,
     "input": [
      "regit()"
     ],
     "language": "python",
     "metadata": {},
     "outputs": [
      {
       "output_type": "stream",
       "stream": "stdout",
       "text": [
        "https://github.com/wcmckee/sloan-2013-reports\n",
        "https://github.com/wcmckee/nbconvert-examples\n",
        "https://github.com/wcmckee/ipython-in-depth\n",
        "https://github.com/wcmckee/salt-states-nbviewer\n",
        "https://github.com/wcmckee/usersurveys\n",
        "https://github.com/wcmckee/marketing\n",
        "https://github.com/wcmckee/nbviewer\n",
        "https://github.com/wcmckee/ipython-py3k\n",
        "https://github.com/wcmckee/paper-notebook2013\n",
        "https://github.com/wcmckee/ipython-doc\n",
        "https://github.com/wcmckee/traitlets\n",
        "https://github.com/wcmckee/nbconvert\n",
        "https://github.com/wcmckee/jsplugins\n",
        "https://github.com/wcmckee/ipython-hubot\n",
        "https://github.com/wcmckee/talks\n",
        "https://github.com/wcmckee/ipython-website\n",
        "https://github.com/wcmckee/ipython\n",
        "https://github.com/wcmckee/ipython.github.com\n",
        "https://github.com/wcmckee/ipython-components\n",
        "https://github.com/wcmckee/xkcd-font\n"
       ]
      }
     ],
<<<<<<< HEAD
     "prompt_number": 103
=======
     "prompt_number": 56
>>>>>>> 73285e04ee3620b8d22f2154f1ce563ebb2f4c7d
    },
    {
     "cell_type": "code",
     "collapsed": false,
     "input": [
      "import sh"
     ],
     "language": "python",
     "metadata": {},
     "outputs": [],
<<<<<<< HEAD
     "prompt_number": 65
=======
     "prompt_number": 57
>>>>>>> 73285e04ee3620b8d22f2154f1ce563ebb2f4c7d
    },
    {
     "cell_type": "code",
     "collapsed": false,
     "input": [
      "gitre = sh.git.bake(_cwd='/home/will/Desktop/artcontrol-api/')"
     ],
     "language": "python",
     "metadata": {},
     "outputs": [],
<<<<<<< HEAD
     "prompt_number": 66
=======
     "prompt_number": 58
>>>>>>> 73285e04ee3620b8d22f2154f1ce563ebb2f4c7d
    },
    {
     "cell_type": "code",
     "collapsed": false,
     "input": [
      "print gitre.status()"
     ],
     "language": "python",
     "metadata": {},
     "outputs": [
      {
       "output_type": "stream",
       "stream": "stdout",
       "text": [
        "# On branch master\n",
        "# Your branch is ahead of 'origin/master' by 1 commit.\n",
        "#   (use \"git push\" to publish your local commits)\n",
        "#\n",
        "nothing to commit, working directory clean\n",
        "\n"
       ]
      }
     ],
<<<<<<< HEAD
     "prompt_number": 70
=======
     "prompt_number": 59
>>>>>>> 73285e04ee3620b8d22f2154f1ce563ebb2f4c7d
    },
    {
     "cell_type": "code",
     "collapsed": false,
     "input": [
      "print gitre.add('.')"
     ],
     "language": "python",
     "metadata": {},
     "outputs": [
      {
       "output_type": "stream",
       "stream": "stdout",
       "text": [
        "\n"
       ]
      }
     ],
<<<<<<< HEAD
     "prompt_number": 68
=======
     "prompt_number": 60
>>>>>>> 73285e04ee3620b8d22f2154f1ce563ebb2f4c7d
    },
    {
     "cell_type": "code",
     "collapsed": false,
     "input": [
      "print gitre.commit(m='added for git')"
     ],
     "language": "python",
     "metadata": {},
<<<<<<< HEAD
     "outputs": [
      {
       "output_type": "stream",
       "stream": "stdout",
       "text": [
        "[master 94b8a8c] added for git\n",
        " 1 file changed, 488 insertions(+), 108 deletions(-)\n",
        "\n"
       ]
      }
     ],
     "prompt_number": 69
=======
     "outputs": [],
     "prompt_number": 60
>>>>>>> 73285e04ee3620b8d22f2154f1ce563ebb2f4c7d
    },
    {
     "cell_type": "code",
     "collapsed": false,
     "input": [
      "os.environ"
     ],
     "language": "python",
     "metadata": {},
<<<<<<< HEAD
     "outputs": []
=======
     "outputs": [],
     "prompt_number": 61
>>>>>>> 73285e04ee3620b8d22f2154f1ce563ebb2f4c7d
    },
    {
     "cell_type": "code",
     "collapsed": false,
     "input": [
<<<<<<< HEAD
      "def printinfo(name, age):\n",
      "   \"This prints a passed info into this function\"\n",
      "   print \"hostname: \", name;\n",
      "   print \"time left \", age;\n",
      "   return;\n"
     ],
     "language": "python",
     "metadata": {},
     "outputs": []
=======
      "newfile = open('config', 'w')"
     ],
     "language": "python",
     "metadata": {},
     "outputs": [],
     "prompt_number": 62
    },
    {
     "cell_type": "code",
     "collapsed": false,
     "input": [
      "#cusname1 = 'figlet holley'"
     ],
     "language": "python",
     "metadata": {},
     "outputs": [],
     "prompt_number": 63
    },
    {
     "cell_type": "code",
     "collapsed": false,
     "input": [
      "datlist = []"
     ],
     "language": "python",
     "metadata": {},
     "outputs": [],
     "prompt_number": 64
    },
    {
     "cell_type": "code",
     "collapsed": false,
     "input": [
      "cusname = fgitrepoz\n",
      "datlist.append(cusname)"
     ],
     "language": "python",
     "metadata": {},
     "outputs": [],
     "prompt_number": 65
    },
    {
     "cell_type": "code",
     "collapsed": false,
     "input": [
      "productname1 = 'figlufets food yu'"
     ],
     "language": "python",
     "metadata": {},
     "outputs": [],
     "prompt_number": 66
    },
    {
     "cell_type": "code",
     "collapsed": false,
     "input": [
      "productname = 'debian linux'\n",
      "datlist.append(productname)"
     ],
     "language": "python",
     "metadata": {},
     "outputs": [],
     "prompt_number": 67
    },
    {
     "cell_type": "code",
     "collapsed": false,
     "input": [
      "set(datlist)"
     ],
     "language": "python",
     "metadata": {},
     "outputs": [
      {
       "metadata": {},
       "output_type": "pyout",
       "prompt_number": 68,
       "text": [
        "{u'alien', 'debian linux'}"
       ]
      }
     ],
     "prompt_number": 68
    },
    {
     "cell_type": "code",
     "collapsed": false,
     "input": [
      "cunum = 0\n",
      "salelist = []"
     ],
     "language": "python",
     "metadata": {},
     "outputs": [],
     "prompt_number": 69
    },
    {
     "cell_type": "code",
     "collapsed": false,
     "input": [
      "chrinpro = len(productname)\n",
      "datlist.append(chrinpro)"
     ],
     "language": "python",
     "metadata": {},
     "outputs": [],
     "prompt_number": 70
    },
    {
     "cell_type": "code",
     "collapsed": false,
     "input": [
      "#print chrinpro"
     ],
     "language": "python",
     "metadata": {},
     "outputs": [],
     "prompt_number": 71
    },
    {
     "cell_type": "code",
     "collapsed": false,
     "input": [
      "def chrinpa(letra):\n",
      "    if (chrinpro % 2 == 0):\n",
      "        print 'true'\n",
      "    else:\n",
      "        print 'false'"
     ],
     "language": "python",
     "metadata": {},
     "outputs": [],
     "prompt_number": 72
    },
    {
     "cell_type": "code",
     "collapsed": false,
     "input": [
      "chrinpa('blayyliuuiteylhertet')"
     ],
     "language": "python",
     "metadata": {},
     "outputs": [
      {
       "output_type": "stream",
       "stream": "stdout",
       "text": [
        "true\n"
       ]
      }
     ],
     "prompt_number": 73
    },
    {
     "cell_type": "code",
     "collapsed": false,
     "input": [
      "if (chrinpro % 2 == 0):\n",
      "    #print 'true'\n",
      "    letiname = ['a', 'e', 'i', 'o', 'u', 'y']\n",
      "    multi = 1\n",
      "else:\n",
      "    #print 'false'\n",
      "    letiname = ['b', 'c', 'd', 'f', 'g', 'h', 'j', 'k', 'l', 'm', 'n', 'p', 'q', 'r', 's', 't', 'v', 'w', 'x', 'y', 'z']\n",
      "    multi = 1.5"
     ],
     "language": "python",
     "metadata": {},
     "outputs": [],
     "prompt_number": 74
    },
    {
     "cell_type": "code",
     "collapsed": false,
     "input": [
      "#print multi"
     ],
     "language": "python",
     "metadata": {},
     "outputs": [],
     "prompt_number": 75
    },
    {
     "cell_type": "code",
     "collapsed": false,
     "input": [
      "lempan = f(chrinpro), g(chrinpro)"
     ],
     "language": "python",
     "metadata": {},
     "outputs": [],
     "prompt_number": 76
    },
    {
     "cell_type": "code",
     "collapsed": false,
     "input": [
      "lempan"
     ],
     "language": "python",
     "metadata": {},
     "outputs": [
      {
       "metadata": {},
       "output_type": "pyout",
       "prompt_number": 80,
       "text": [
        "(16, 32)"
       ]
      }
     ],
     "prompt_number": 80
    },
    {
     "cell_type": "code",
     "collapsed": false,
     "input": [],
     "language": "python",
     "metadata": {},
     "outputs": [],
     "prompt_number": 80
    },
    {
     "cell_type": "code",
     "collapsed": false,
     "input": [
      "for extension in letiname:\n",
      "    if extension in cusname:\n",
      "        #print(extension, cunum +1)\n",
      "        #salelist.append(extension)\n",
      "        salelist.append(cunum +1)\n",
      "        datlist.append(extension)\n",
      "        #print saledict"
     ],
     "language": "python",
     "metadata": {},
     "outputs": [],
     "prompt_number": 81
    },
    {
     "cell_type": "code",
     "collapsed": false,
     "input": [
      "print datlist"
     ],
     "language": "python",
     "metadata": {},
     "outputs": [
      {
       "output_type": "stream",
       "stream": "stdout",
       "text": [
        "[u'alien', 'debian linux', 12, 'a', 'e', 'i']\n"
       ]
      }
     ],
     "prompt_number": 82
    },
    {
     "cell_type": "code",
     "collapsed": false,
     "input": [
      "cusa = sum(salelist)\n",
      "datlist.append(cusa)"
     ],
     "language": "python",
     "metadata": {},
     "outputs": [],
     "prompt_number": 83
    },
    {
     "cell_type": "code",
     "collapsed": false,
     "input": [
      "fincus = cusa * multi\n",
      "datlist.append(fincus)"
     ],
     "language": "python",
     "metadata": {},
     "outputs": [],
     "prompt_number": 84
    },
    {
     "cell_type": "code",
     "collapsed": false,
     "input": [
      "#print fincus"
     ],
     "language": "python",
     "metadata": {},
     "outputs": [],
     "prompt_number": 85
    },
    {
     "cell_type": "code",
     "collapsed": false,
     "input": [
      "thenum = 0 \n"
     ],
     "language": "python",
     "metadata": {},
     "outputs": [],
     "prompt_number": 86
    },
    {
     "cell_type": "code",
     "collapsed": false,
     "input": [
      "#print salelist"
     ],
     "language": "python",
     "metadata": {},
     "outputs": [],
     "prompt_number": 87
    },
    {
     "cell_type": "code",
     "collapsed": false,
     "input": [
      "#for num in salelist:\n",
      "#    print num"
     ],
     "language": "python",
     "metadata": {},
     "outputs": [],
     "prompt_number": 88
    },
    {
     "cell_type": "code",
     "collapsed": false,
     "input": [
      "litpro = list(productname)"
     ],
     "language": "python",
     "metadata": {},
     "outputs": [],
     "prompt_number": 89
    },
    {
     "cell_type": "code",
     "collapsed": false,
     "input": [
      "listcus = list(cusname)\n"
     ],
     "language": "python",
     "metadata": {},
     "outputs": [],
     "prompt_number": 90
    },
    {
     "cell_type": "code",
     "collapsed": false,
     "input": [
      "#set(litpro) & set(listcus)"
     ],
     "language": "python",
     "metadata": {},
     "outputs": [],
     "prompt_number": 91
    },
    {
     "cell_type": "code",
     "collapsed": false,
     "input": [
      "def numz(checkn):\n",
      "    [i for i, j in zip(litpro, listcus) if i == j]\n",
      "    return i + j\n",
      "    "
     ],
     "language": "python",
     "metadata": {},
     "outputs": [],
     "prompt_number": 92
    },
    {
     "cell_type": "code",
     "collapsed": false,
     "input": [
      "numz('gbdgggr')"
     ],
     "language": "python",
     "metadata": {},
     "outputs": [
      {
       "output_type": "pyout",
       "prompt_number": 726,
       "text": [
        "u'as'"
       ]
      }
     ],
     "prompt_number": 726
    },
    {
     "cell_type": "code",
     "collapsed": false,
     "input": [
      "numbsli = [i for i, j in zip(litpro, listcus) if i == j]"
     ],
     "language": "python",
     "metadata": {},
     "outputs": [],
     "prompt_number": 94
    },
    {
     "cell_type": "code",
     "collapsed": false,
     "input": [
      "datlist.append(numbsli)"
     ],
     "language": "python",
     "metadata": {},
     "outputs": [],
     "prompt_number": 95
    },
    {
     "cell_type": "code",
     "collapsed": false,
     "input": [
      "#numbsli"
     ],
     "language": "python",
     "metadata": {},
     "outputs": [],
     "prompt_number": 96
    },
    {
     "cell_type": "code",
     "collapsed": false,
     "input": [
      "chset = set(litpro).intersection(listcus)"
     ],
     "language": "python",
     "metadata": {},
     "outputs": [],
     "prompt_number": 97
    },
    {
     "cell_type": "code",
     "collapsed": false,
     "input": [
      "print chset"
     ],
     "language": "python",
     "metadata": {},
     "outputs": [
      {
       "output_type": "stream",
       "stream": "stdout",
       "text": [
        "set([u'a', u'i', u'e', u'l', u'n'])\n"
       ]
      }
     ],
     "prompt_number": 98
    },
    {
     "cell_type": "code",
     "collapsed": false,
     "input": [
      "for n in chset:\n",
      "    print n\n",
      "    datlist.append(n)"
     ],
     "language": "python",
     "metadata": {},
     "outputs": [
      {
       "output_type": "stream",
       "stream": "stdout",
       "text": [
        "a\n",
        "i\n",
        "e\n",
        "l\n",
        "n\n"
       ]
      }
     ],
     "prompt_number": 99
    },
    {
     "cell_type": "code",
     "collapsed": false,
     "input": [
      "print datlist"
     ],
     "language": "python",
     "metadata": {},
     "outputs": [
      {
       "output_type": "stream",
       "stream": "stdout",
       "text": [
        "[u'alien', 'debian linux', 12, 'a', 'e', 'i', 3, 3, [], u'a', u'i', u'e', u'l', u'n']\n"
       ]
      }
     ],
     "prompt_number": 100
    },
    {
     "cell_type": "code",
     "collapsed": false,
     "input": [
      "procol = collections.Counter(litpro)"
     ],
     "language": "python",
     "metadata": {},
     "outputs": [],
     "prompt_number": 101
    },
    {
     "cell_type": "code",
     "collapsed": false,
     "input": [
      "cuscol = collections.Counter(listcus)"
     ],
     "language": "python",
     "metadata": {},
     "outputs": [],
     "prompt_number": 102
    },
    {
     "cell_type": "code",
     "collapsed": false,
     "input": [
      "#print procol\n",
      "datlist.append(procol)\n",
      "#print cuscol\n",
      "datlist.append(cuscol)"
     ],
     "language": "python",
     "metadata": {},
     "outputs": [],
     "prompt_number": 103
    },
    {
     "cell_type": "code",
     "collapsed": false,
     "input": [
      "doctpro = dict(procol)"
     ],
     "language": "python",
     "metadata": {},
     "outputs": [],
     "prompt_number": 104
    },
    {
     "cell_type": "code",
     "collapsed": false,
     "input": [
      "dictcol = dict(cuscol)"
     ],
     "language": "python",
     "metadata": {},
     "outputs": [],
     "prompt_number": 105
    },
    {
     "cell_type": "code",
     "collapsed": false,
     "input": [
      "available = set(doctpro.items())\n",
      "satchel = set(dictcol.items())\n",
      "\n",
      "\n",
      "findif = available.difference(satchel)\n",
      "datlist.append(findif)"
     ],
     "language": "python",
     "metadata": {},
     "outputs": [],
     "prompt_number": 106
    },
    {
     "cell_type": "code",
     "collapsed": false,
     "input": [
      "#print findif"
     ],
     "language": "python",
     "metadata": {},
     "outputs": [],
     "prompt_number": 107
    },
    {
     "cell_type": "code",
     "collapsed": false,
     "input": [
      "finval = dictcol.values()"
     ],
     "language": "python",
     "metadata": {},
     "outputs": [],
     "prompt_number": 108
    },
    {
     "cell_type": "code",
     "collapsed": false,
     "input": [
      "#print finval\n",
      "datlist.append(finval)"
     ],
     "language": "python",
     "metadata": {},
     "outputs": [],
     "prompt_number": 109
    },
    {
     "cell_type": "code",
     "collapsed": false,
     "input": [
      "fint1 = [x for x in finval if x != 1]\n",
      "#print fint1\n",
      "datlist.append(fint1)"
     ],
     "language": "python",
     "metadata": {},
     "outputs": [],
     "prompt_number": 110
    },
    {
     "cell_type": "code",
     "collapsed": false,
     "input": [
      "if fint1:\n",
      "    #print 'list has elements'\n",
      "    fincus = fincus * 1.5\n",
      "else:\n",
      "    fincus = fincus\n",
      "    "
     ],
     "language": "python",
     "metadata": {},
     "outputs": [],
     "prompt_number": 111
    },
    {
     "cell_type": "code",
     "collapsed": false,
     "input": [
      "finalcus = \"%.2f\" % fincus"
     ],
     "language": "python",
     "metadata": {},
     "outputs": [],
     "prompt_number": 112
    },
    {
     "cell_type": "code",
     "collapsed": false,
     "input": [
      "datlist.append(finalcus)"
     ],
     "language": "python",
     "metadata": {},
     "outputs": [],
     "prompt_number": 113
    },
    {
     "cell_type": "code",
     "collapsed": false,
     "input": [
      "print ('The score is:', finalcus)"
     ],
     "language": "python",
     "metadata": {},
     "outputs": [
      {
       "output_type": "stream",
       "stream": "stdout",
       "text": [
        "('The score is:', '3.00')\n"
       ]
      }
     ],
     "prompt_number": 114
    },
    {
     "cell_type": "code",
     "collapsed": false,
     "input": [
      "print finalcus"
     ],
     "language": "python",
     "metadata": {},
     "outputs": [
      {
       "output_type": "stream",
       "stream": "stdout",
       "text": [
        "3.00\n"
       ]
      }
     ],
     "prompt_number": 115
>>>>>>> 73285e04ee3620b8d22f2154f1ce563ebb2f4c7d
    },
    {
     "cell_type": "code",
     "collapsed": false,
     "input": [
      "def f(x):\n",
      "    return x**pi"
     ],
     "language": "python",
     "metadata": {},
<<<<<<< HEAD
     "outputs": []
=======
     "outputs": [
      {
       "output_type": "stream",
       "stream": "stdout",
       "text": [
        "alien\n"
       ]
      }
     ],
     "prompt_number": 116
>>>>>>> 73285e04ee3620b8d22f2154f1ce563ebb2f4c7d
    },
    {
     "cell_type": "code",
     "collapsed": false,
     "input": [
      "print f(24)"
     ],
     "language": "python",
     "metadata": {},
<<<<<<< HEAD
     "outputs": []
    },
    {
     "cell_type": "code",
     "collapsed": false,
     "input": [
      "g = lambda x: x**pi"
     ],
     "language": "python",
     "metadata": {},
     "outputs": []
    },
    {
     "cell_type": "code",
     "collapsed": false,
     "input": [
      "blehg =  g(80)"
     ],
     "language": "python",
     "metadata": {},
     "outputs": []
    },
    {
     "cell_type": "code",
     "collapsed": false,
     "input": [],
     "language": "python",
     "metadata": {},
     "outputs": []
    },
    {
     "cell_type": "code",
     "collapsed": false,
     "input": [
      "print blehg"
     ],
     "language": "python",
     "metadata": {},
     "outputs": []
    },
    {
     "cell_type": "code",
     "collapsed": false,
     "input": [
      "def makn(n): \n",
      "    return lambda x: x + n"
     ],
     "language": "python",
     "metadata": {},
     "outputs": []
    },
    {
     "cell_type": "code",
     "collapsed": false,
     "input": [
      "f = makn(4)\n",
      "g = makn(20)"
     ],
     "language": "python",
     "metadata": {},
     "outputs": []
    },
    {
     "cell_type": "code",
     "collapsed": false,
     "input": [
      "print f(2)\n",
      "print g(7)"
     ],
     "language": "python",
     "metadata": {},
     "outputs": []
    },
    {
     "cell_type": "code",
     "collapsed": false,
     "input": [
      "printinfo('william', 34)"
     ],
     "language": "python",
     "metadata": {},
     "outputs": []
    },
    {
     "cell_type": "code",
     "collapsed": false,
     "input": [],
     "language": "python",
     "metadata": {},
     "outputs": [],
     "prompt_number": 509
    },
    {
     "cell_type": "code",
     "collapsed": false,
     "input": [
      "import collections"
     ],
     "language": "python",
     "metadata": {},
     "outputs": [],
     "prompt_number": 510
    },
    {
     "cell_type": "code",
     "collapsed": false,
     "input": [
      "newfile = open('config', 'w')"
     ],
     "language": "python",
     "metadata": {},
     "outputs": [],
     "prompt_number": 511
    },
    {
     "cell_type": "code",
     "collapsed": false,
     "input": [
      "#cusname1 = 'figlet holley'"
     ],
     "language": "python",
     "metadata": {},
     "outputs": [],
     "prompt_number": 512
    },
    {
     "cell_type": "code",
     "collapsed": false,
     "input": [
      "datlist = []"
     ],
     "language": "python",
     "metadata": {},
     "outputs": [],
     "prompt_number": 513
    },
    {
     "cell_type": "code",
     "collapsed": false,
     "input": [
      "cusname = 'figlet mckee'\n",
      "datlist.append(cusname)"
     ],
     "language": "python",
     "metadata": {},
     "outputs": [],
     "prompt_number": 514
    },
    {
     "cell_type": "code",
     "collapsed": false,
     "input": [
      "productname1 = 'figlufets food yu'"
     ],
     "language": "python",
     "metadata": {},
     "outputs": [],
     "prompt_number": 515
    },
    {
     "cell_type": "code",
     "collapsed": false,
     "input": [
      "productname = 'debian linux'\n",
      "datlist.append(productname)"
     ],
     "language": "python",
     "metadata": {},
     "outputs": [],
     "prompt_number": 516
    },
    {
     "cell_type": "code",
     "collapsed": false,
     "input": [
      "set(datlist)"
     ],
     "language": "python",
     "metadata": {},
     "outputs": [
      {
       "ename": "NameError",
       "evalue": "name 'datlist' is not defined",
       "output_type": "pyerr",
       "traceback": [
        "\u001b[1;31m---------------------------------------------------------------------------\u001b[0m\n\u001b[1;31mNameError\u001b[0m                                 Traceback (most recent call last)",
        "\u001b[1;32m<ipython-input-67-b293f1c9f671>\u001b[0m in \u001b[0;36m<module>\u001b[1;34m()\u001b[0m\n\u001b[1;32m----> 1\u001b[1;33m \u001b[0mset\u001b[0m\u001b[1;33m(\u001b[0m\u001b[0mdatlist\u001b[0m\u001b[1;33m)\u001b[0m\u001b[1;33m\u001b[0m\u001b[0m\n\u001b[0m",
        "\u001b[1;31mNameError\u001b[0m: name 'datlist' is not defined"
       ]
      }
     ],
     "prompt_number": 67
=======
     "outputs": [
      {
       "ename": "TypeError",
       "evalue": "not all arguments converted during string formatting",
       "output_type": "pyerr",
       "traceback": [
        "\u001b[1;31m---------------------------------------------------------------------------\u001b[0m\n\u001b[1;31mTypeError\u001b[0m                                 Traceback (most recent call last)",
        "\u001b[1;32m<ipython-input-117-338443ba90e2>\u001b[0m in \u001b[0;36m<module>\u001b[1;34m()\u001b[0m\n\u001b[0;32m      1\u001b[0m \u001b[0mnums\u001b[0m \u001b[1;33m=\u001b[0m \u001b[0mfinalcus\u001b[0m\u001b[1;33m\u001b[0m\u001b[0m\n\u001b[0;32m      2\u001b[0m \u001b[1;32mfor\u001b[0m \u001b[0mi\u001b[0m \u001b[1;32min\u001b[0m \u001b[0mrange\u001b[0m\u001b[1;33m(\u001b[0m\u001b[1;36m2\u001b[0m\u001b[1;33m,\u001b[0m \u001b[1;36m8\u001b[0m\u001b[1;33m)\u001b[0m\u001b[1;33m:\u001b[0m\u001b[1;33m\u001b[0m\u001b[0m\n\u001b[1;32m----> 3\u001b[1;33m     \u001b[0mnums\u001b[0m \u001b[1;33m=\u001b[0m \u001b[0mfilter\u001b[0m\u001b[1;33m(\u001b[0m\u001b[1;32mlambda\u001b[0m \u001b[0mx\u001b[0m\u001b[1;33m:\u001b[0m \u001b[0mx\u001b[0m \u001b[1;33m==\u001b[0m \u001b[0mi\u001b[0m \u001b[1;32mor\u001b[0m \u001b[0mx\u001b[0m \u001b[1;33m%\u001b[0m \u001b[0mi\u001b[0m\u001b[1;33m,\u001b[0m \u001b[0mnums\u001b[0m\u001b[1;33m)\u001b[0m\u001b[1;33m\u001b[0m\u001b[0m\n\u001b[0m",
        "\u001b[1;32m<ipython-input-117-338443ba90e2>\u001b[0m in \u001b[0;36m<lambda>\u001b[1;34m(x)\u001b[0m\n\u001b[0;32m      1\u001b[0m \u001b[0mnums\u001b[0m \u001b[1;33m=\u001b[0m \u001b[0mfinalcus\u001b[0m\u001b[1;33m\u001b[0m\u001b[0m\n\u001b[0;32m      2\u001b[0m \u001b[1;32mfor\u001b[0m \u001b[0mi\u001b[0m \u001b[1;32min\u001b[0m \u001b[0mrange\u001b[0m\u001b[1;33m(\u001b[0m\u001b[1;36m2\u001b[0m\u001b[1;33m,\u001b[0m \u001b[1;36m8\u001b[0m\u001b[1;33m)\u001b[0m\u001b[1;33m:\u001b[0m\u001b[1;33m\u001b[0m\u001b[0m\n\u001b[1;32m----> 3\u001b[1;33m     \u001b[0mnums\u001b[0m \u001b[1;33m=\u001b[0m \u001b[0mfilter\u001b[0m\u001b[1;33m(\u001b[0m\u001b[1;32mlambda\u001b[0m \u001b[0mx\u001b[0m\u001b[1;33m:\u001b[0m \u001b[0mx\u001b[0m \u001b[1;33m==\u001b[0m \u001b[0mi\u001b[0m \u001b[1;32mor\u001b[0m \u001b[0mx\u001b[0m \u001b[1;33m%\u001b[0m \u001b[0mi\u001b[0m\u001b[1;33m,\u001b[0m \u001b[0mnums\u001b[0m\u001b[1;33m)\u001b[0m\u001b[1;33m\u001b[0m\u001b[0m\n\u001b[0m",
        "\u001b[1;31mTypeError\u001b[0m: not all arguments converted during string formatting"
       ]
      }
     ],
     "prompt_number": 117
>>>>>>> 73285e04ee3620b8d22f2154f1ce563ebb2f4c7d
    },
    {
     "cell_type": "code",
     "collapsed": false,
     "input": [],
     "language": "python",
     "metadata": {},
     "outputs": [],
<<<<<<< HEAD
     "prompt_number": 67
    },
    {
     "cell_type": "heading",
     "level": 3,
     "metadata": {},
     "source": [
      "Im at Waikato Show!"
     ]
    },
    {
     "cell_type": "code",
     "collapsed": false,
     "input": [
      "import requests"
     ],
     "language": "python",
     "metadata": {},
     "outputs": [],
<<<<<<< HEAD
<<<<<<< HEAD
     "prompt_number": 727
=======
     "prompt_number": 67
>>>>>>> ee6aea4a13b43823c6cbe52123a45b8762b40f7e
=======
     "prompt_number": 67
=======
     "prompt_number": 727
>>>>>>> 218539d6cf8c29423957d4044197c428c7c41e75
>>>>>>> 4d093be183e4809172829731a56819464cb69a77
    },
    {
     "cell_type": "code",
     "collapsed": false,
<<<<<<< HEAD
<<<<<<< HEAD
     "input": [
      "waishow = "
     ],
=======
     "input": [],
>>>>>>> 4d093be183e4809172829731a56819464cb69a77
     "language": "python",
     "metadata": {},
     "outputs": []
=======
     "input": [],
     "language": "python",
     "metadata": {},
     "outputs": []
<<<<<<< HEAD
=======
     "prompt_number": 117
>>>>>>> 73285e04ee3620b8d22f2154f1ce563ebb2f4c7d
>>>>>>> ee6aea4a13b43823c6cbe52123a45b8762b40f7e
=======
>>>>>>> 218539d6cf8c29423957d4044197c428c7c41e75
>>>>>>> 4d093be183e4809172829731a56819464cb69a77
    }
   ],
   "metadata": {}
  }
 ]
}