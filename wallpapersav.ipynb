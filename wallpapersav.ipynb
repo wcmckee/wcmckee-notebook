{
 "metadata": {
  "name": "",
  "signature": "sha256:52562c337f10ac054940aaa2f16f7b0b810f42534f26959b6c9e5f5dfb963875"
 },
 "nbformat": 3,
 "nbformat_minor": 0,
 "worksheets": [
  {
   "cells": [
    {
     "cell_type": "code",
     "collapsed": false,
     "input": [
      "ls"
     ],
     "language": "python",
     "metadata": {},
     "outputs": [
      {
       "output_type": "stream",
       "stream": "stdout",
       "text": [
        "Untitled0.ipynb  huluz.py        pyatakl.pyc         utils.ipynb\r\n",
        "Untitled0.py     index.html      rgdsnatch.ipynb     utils.py\r\n",
        "__init__.py      \u001b[0m\u001b[01;32mjob.sh\u001b[0m*         \u001b[01;32mrgdsnatch.py\u001b[0m*       wallpapersav.ipynb\r\n",
        "adypost.ipynb    markdown.ipynb  style.css           wallpapersav.py\r\n",
        "adypost.py       markdown.py     test.html           wcmgit.ipynb\r\n",
        "brief.txt        opche.ipynb     test.ipynb          wcmgit.py\r\n",
        "carparks         opche.py        test.py             whai.ipynb\r\n",
        "getdrawn.ipynb   pyatakl.ipynb   url redirect.ipynb  whai.py\r\n",
        "\u001b[01;32mgetdrawn.py\u001b[0m*     pyatakl.py      url redirect.py     wiki.md\r\n"
       ]
      }
     ],
     "prompt_number": 1
    },
    {
     "cell_type": "code",
     "collapsed": false,
     "input": [
      "cd .."
     ],
     "language": "python",
     "metadata": {},
     "outputs": [
      {
       "output_type": "stream",
       "stream": "stdout",
       "text": [
        "/home/wcmckee/pyatakl\n"
       ]
      }
     ],
     "prompt_number": 2
    },
    {
     "cell_type": "code",
     "collapsed": false,
     "input": [
      "ls"
     ],
     "language": "python",
     "metadata": {},
     "outputs": [
      {
       "output_type": "stream",
       "stream": "stdout",
       "text": [
        "LICENSE  README.md  \u001b[0m\u001b[01;34mpyatakl\u001b[0m/  \u001b[01;34mtests\u001b[0m/\r\n"
       ]
      }
     ],
     "prompt_number": 3
    },
    {
     "cell_type": "code",
     "collapsed": false,
     "input": [
      "cd .."
     ],
     "language": "python",
     "metadata": {},
     "outputs": [
      {
       "output_type": "stream",
       "stream": "stdout",
       "text": [
        "/home/wcmckee\n"
       ]
      }
     ],
     "prompt_number": 4
    },
    {
     "cell_type": "code",
     "collapsed": false,
     "input": [
      "ls"
     ],
     "language": "python",
     "metadata": {},
     "outputs": [
      {
       "output_type": "stream",
       "stream": "stdout",
       "text": [
        "Desktop          hamcompclub.rst               \u001b[0m\u001b[01;34mlearnpython\u001b[0m/\r\n",
        "\u001b[01;34mDocs\u001b[0m/            \u001b[01;34mhamiltoncomputerclub.org.nz\u001b[0m/  \u001b[01;35mlogo-color.png\u001b[0m\r\n",
        "\u001b[01;34mDocuments\u001b[0m/       \u001b[01;34mhighwaypiz\u001b[0m/                   \u001b[01;35mlogo-tone.png\u001b[0m\r\n",
        "\u001b[01;34mPyLadies\u001b[0m/        \u001b[01;35mjune-famfor-line.png\u001b[0m          may.rst\r\n",
        "\u001b[01;34madypy\u001b[0m/           \u001b[01;35mjune-glass-line.jpg\u001b[0m           maycomputclub.rst\r\n",
        "\u001b[01;34mart\u001b[0m/             \u001b[01;35mjune-lana-bw.png\u001b[0m              nzpug.rst\r\n",
        "\u001b[01;34martcontrol-api\u001b[0m/  \u001b[01;35mjune-lana-color.png\u001b[0m           \u001b[01;34mpyatakl\u001b[0m/\r\n",
        "\u001b[01;34martcontrolme\u001b[0m/    \u001b[01;35mjune-lana-line.png\u001b[0m            \u001b[01;34mpyunderdog\u001b[0m/\r\n",
        "bro              \u001b[01;35mjune-minnie-line.jpg\u001b[0m          \u001b[01;34mrgd\u001b[0m/\r\n",
        "bro.pub          \u001b[01;35mjune-nik-line.jpg\u001b[0m             \u001b[01;34mrge\u001b[0m/\r\n",
        "\u001b[01;34mbrob\u001b[0m/            \u001b[01;35mjune-pup-line.jpg\u001b[0m             \u001b[01;34mtestpy\u001b[0m/\r\n",
        "\u001b[01;34mbrobeur\u001b[0m/         \u001b[01;35mjune-queen-line.jpg\u001b[0m           \u001b[01;34mwcmckee\u001b[0m/\r\n",
        "brobeur-static   \u001b[01;35mjune-sand-line.jpg\u001b[0m            \u001b[01;34mwcmckee.github.io\u001b[0m/\r\n",
        "\u001b[01;34mbrobeur-web\u001b[0m/     \u001b[01;35mjune-steerz-line.jpg\u001b[0m          \u001b[01;34mwhaihanga\u001b[0m/\r\n",
        "\u001b[01;34mcompohub\u001b[0m/        \u001b[01;35mjune-str-line.jpg\u001b[0m             will.blend\r\n",
        "\u001b[01;34mcomputerclub\u001b[0m/    \u001b[01;35mjune-surf-line.jpg\u001b[0m            wp.sql\r\n",
        "\u001b[01;35mcow.png\u001b[0m          \u001b[01;35mjune-zomb-line.jpg\u001b[0m\r\n",
        "fish.blend       \u001b[01;35mlandscapez.xcf\u001b[0m\r\n"
       ]
      }
     ],
     "prompt_number": 5
    },
    {
     "cell_type": "code",
     "collapsed": false,
     "input": [
      "import subprocess"
     ],
     "language": "python",
     "metadata": {},
     "outputs": [],
     "prompt_number": 6
    },
    {
     "cell_type": "code",
     "collapsed": false,
     "input": [
      "cd artcontrolme/"
     ],
     "language": "python",
     "metadata": {},
     "outputs": [
      {
       "output_type": "stream",
       "stream": "stdout",
       "text": [
        "/home/wcmckee/artcontrolme\n"
       ]
      }
     ],
     "prompt_number": 7
    },
    {
     "cell_type": "code",
     "collapsed": false,
     "input": [
      "ls"
     ],
     "language": "python",
     "metadata": {},
     "outputs": [],
     "prompt_number": 8
    },
    {
     "cell_type": "code",
     "collapsed": false,
     "input": [
      "cd /home/wcmckee/"
     ],
     "language": "python",
     "metadata": {},
     "outputs": [
      {
       "output_type": "stream",
       "stream": "stdout",
       "text": [
        "/home/wcmckee\n"
       ]
      }
     ],
     "prompt_number": 9
    },
    {
     "cell_type": "code",
     "collapsed": false,
     "input": [
      "ls"
     ],
     "language": "python",
     "metadata": {},
     "outputs": [
      {
       "output_type": "stream",
       "stream": "stdout",
       "text": [
        "Desktop          hamcompclub.rst               \u001b[0m\u001b[01;34mlearnpython\u001b[0m/\r\n",
        "\u001b[01;34mDocs\u001b[0m/            \u001b[01;34mhamiltoncomputerclub.org.nz\u001b[0m/  \u001b[01;35mlogo-color.png\u001b[0m\r\n",
        "\u001b[01;34mDocuments\u001b[0m/       \u001b[01;34mhighwaypiz\u001b[0m/                   \u001b[01;35mlogo-tone.png\u001b[0m\r\n",
        "\u001b[01;34mPyLadies\u001b[0m/        \u001b[01;34mhome\u001b[0m/                         may.rst\r\n",
        "\u001b[01;34madypy\u001b[0m/           \u001b[01;35mjune-famfor-line.png\u001b[0m          maycomputclub.rst\r\n",
        "\u001b[01;34mart\u001b[0m/             \u001b[01;35mjune-glass-line.jpg\u001b[0m           \u001b[01;31mnikartctrl.tar.gz\u001b[0m\r\n",
        "\u001b[01;34martcontrol-api\u001b[0m/  \u001b[01;35mjune-lana-bw.png\u001b[0m              nzpug.rst\r\n",
        "\u001b[01;34martcontrol.me\u001b[0m/   \u001b[01;35mjune-lana-color.png\u001b[0m           \u001b[01;34mpyatakl\u001b[0m/\r\n",
        "\u001b[01;34martcontrolme\u001b[0m/    \u001b[01;35mjune-lana-line.png\u001b[0m            \u001b[01;34mpyunderdog\u001b[0m/\r\n",
        "bro              \u001b[01;35mjune-minnie-line.jpg\u001b[0m          \u001b[01;34mrgd\u001b[0m/\r\n",
        "bro.pub          \u001b[01;35mjune-nik-line.jpg\u001b[0m             \u001b[01;34mrge\u001b[0m/\r\n",
        "\u001b[01;34mbrob\u001b[0m/            \u001b[01;35mjune-pup-line.jpg\u001b[0m             \u001b[01;34mtestpy\u001b[0m/\r\n",
        "\u001b[01;34mbrobeur\u001b[0m/         \u001b[01;35mjune-queen-line.jpg\u001b[0m           \u001b[01;34mwcmckee\u001b[0m/\r\n",
        "brobeur-static   \u001b[01;35mjune-sand-line.jpg\u001b[0m            \u001b[01;34mwcmckee.github.io\u001b[0m/\r\n",
        "\u001b[01;34mbrobeur-web\u001b[0m/     \u001b[01;35mjune-steerz-line.jpg\u001b[0m          \u001b[01;34mwhaihanga\u001b[0m/\r\n",
        "\u001b[01;34mcompohub\u001b[0m/        \u001b[01;35mjune-str-line.jpg\u001b[0m             will.blend\r\n",
        "\u001b[01;34mcomputerclub\u001b[0m/    \u001b[01;35mjune-surf-line.jpg\u001b[0m            wp.sql\r\n",
        "\u001b[01;35mcow.png\u001b[0m          \u001b[01;35mjune-zomb-line.jpg\u001b[0m\r\n",
        "fish.blend       \u001b[01;35mlandscapez.xcf\u001b[0m\r\n"
       ]
      }
     ],
     "prompt_number": 10
    },
    {
     "cell_type": "code",
     "collapsed": false,
     "input": [
      "cd artcontrolme/"
     ],
     "language": "python",
     "metadata": {},
     "outputs": [
      {
       "output_type": "stream",
       "stream": "stdout",
       "text": [
        "/home/wcmckee/artcontrolme\n"
       ]
      }
     ],
     "prompt_number": 11
    },
    {
     "cell_type": "code",
     "collapsed": false,
     "input": [
      " -e robots=off --wait 0.25"
     ],
     "language": "python",
     "metadata": {},
     "outputs": [],
     "prompt_number": 12
    },
    {
     "cell_type": "code",
     "collapsed": false,
     "input": [
      "%%bash\n",
      "\n",
      "wget \\\n",
      "     -e robots=off --wait 0.25 \\\n",
      "     --recursive \\\n",
      "     --no-clobber \\\n",
      "     --page-requisites \\\n",
      "     --html-extension \\\n",
      "     --convert-links \\\n",
      "     --restrict-file-names=windows \\\n",
      "     --domains centralkids.org.nz \\\n",
      "     --no-parent \\\n",
      "         http://www.centralkids.org.nz/whaihanga-early-learning-centre"
     ],
     "language": "python",
     "metadata": {},
     "outputs": []
    },
    {
     "cell_type": "code",
     "collapsed": false,
     "input": [],
     "language": "python",
     "metadata": {},
     "outputs": []
    }
   ],
   "metadata": {}
  }
 ]
}