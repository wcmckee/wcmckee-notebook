{
 "metadata": {
  "name": "",
  "signature": "sha256:6a08d484f7e387756bfd29edaa1cc4868d725577cc4b5566ba56b12e132a004a"
 },
 "nbformat": 3,
 "nbformat_minor": 0,
 "worksheets": [
  {
   "cells": [
    {
     "cell_type": "markdown",
     "metadata": {},
     "source": [
      "<h1>imgedit</h1>"
     ]
    },
    {
     "cell_type": "markdown",
     "metadata": {},
     "source": [
      "This is a project dealing with the website http://centralkids.org.nz.\n",
      "I just want to play with it and see what I can do.\n",
      "\n",
      "My first step was downloading the site with wget.\n",
      "Adding source control, a new external folder to hold a new website/data/notebooks (keep everything clean and build it up), and a ipython notebook/py file that is used to generate the new site. This notebook currently sits in the repo main dir. \n",
      "\n",
      "The script starts by looking at the main dir and filtering the list of folders and files. I do this many times. \n",
      "\n",
      "Over use of lists. Attempting to use more dict.\n",
      "\n",
      "\n"
     ]
    },
    {
     "cell_type": "markdown",
     "metadata": {},
     "source": [
      "Ideas fo"
     ]
    },
    {
     "cell_type": "code",
     "collapsed": false,
     "input": [
      "from IPython.display import display, Javascript\n",
      "\n",
      "def markdown_below():\n",
      "    display(Javascript(\"\"\"\n",
      "    IPython.notebook.insert_cell_below('markdown')\n",
      "    \"\"\"));\n",
      "\n",
      "markdown_below()"
     ],
     "language": "python",
     "metadata": {},
     "outputs": [
      {
       "javascript": [
        "\n",
        "    IPython.notebook.insert_cell_below('markdown')\n",
        "    "
       ],
       "metadata": {},
       "output_type": "display_data",
       "text": [
        "<IPython.core.display.Javascript at 0x2bb0310>"
       ]
      }
     ],
     "prompt_number": 456
    },
    {
     "cell_type": "code",
     "collapsed": true,
     "input": [
      "from shutil import make_archive\n"
     ],
     "language": "python",
     "metadata": {},
     "outputs": [],
     "prompt_number": 457
    },
    {
     "cell_type": "markdown",
     "metadata": {},
     "source": [
      "testing one two three"
     ]
    },
    {
     "cell_type": "markdown",
     "metadata": {},
     "source": []
    },
    {
     "cell_type": "code",
     "collapsed": false,
     "input": [
      "import os\n",
      "import re"
     ],
     "language": "python",
     "metadata": {},
     "outputs": [],
     "prompt_number": 458
    },
    {
     "cell_type": "code",
     "collapsed": false,
     "input": [
      "listkindy = list(os.listdir(os.getcwd()))"
     ],
     "language": "python",
     "metadata": {},
     "outputs": [],
     "prompt_number": 459
    },
    {
     "cell_type": "code",
     "collapsed": false,
     "input": [
      "for kin in listkindy:\n",
      "    print kin"
     ],
     "language": "python",
     "metadata": {},
     "outputs": [],
     "prompt_number": 460
    },
    {
     "cell_type": "code",
     "collapsed": false,
     "input": [
      "for kin in listkindy:\n",
      "    print kin"
     ],
     "language": "python",
     "metadata": {},
     "outputs": [],
     "prompt_number": 461
    },
    {
     "cell_type": "code",
     "collapsed": false,
     "input": [
      "listen = []"
     ],
     "language": "python",
     "metadata": {},
     "outputs": [],
     "prompt_number": 462
    },
    {
     "cell_type": "code",
     "collapsed": false,
     "input": [
      "savlis = []"
     ],
     "language": "python",
     "metadata": {},
     "outputs": [],
     "prompt_number": 463
    },
    {
     "cell_type": "code",
     "collapsed": false,
     "input": [
      "for kin in listkindy:\n",
      "    if 'kinder' in kin:\n",
      "        print kin\n",
      "        listen.append(kin)"
     ],
     "language": "python",
     "metadata": {},
     "outputs": [],
     "prompt_number": 464
    },
    {
     "cell_type": "code",
     "collapsed": false,
     "input": [],
     "language": "python",
     "metadata": {},
     "outputs": [],
     "prompt_number": 464
    },
    {
     "cell_type": "code",
     "collapsed": false,
     "input": [
      "for kin in listkindy:\n",
      "    if 'early' in kin:\n",
      "        print kin\n",
      "        listen.append(kin)"
     ],
     "language": "python",
     "metadata": {},
     "outputs": [],
     "prompt_number": 465
    },
    {
     "cell_type": "code",
     "collapsed": false,
     "input": [
      "#listen.sort()"
     ],
     "language": "python",
     "metadata": {},
     "outputs": [],
     "prompt_number": 466
    },
    {
     "cell_type": "code",
     "collapsed": false,
     "input": [
      "for itz in listen:\n",
      "    if 'html' in itz:\n",
      "        print itz\n",
      "        listen.remove(itz)"
     ],
     "language": "python",
     "metadata": {},
     "outputs": [],
     "prompt_number": 467
    },
    {
     "cell_type": "code",
     "collapsed": false,
     "input": [
      "import re"
     ],
     "language": "python",
     "metadata": {},
     "outputs": [],
     "prompt_number": 468
    },
    {
     "cell_type": "code",
     "collapsed": false,
     "input": [
      "for lix in listen:\n",
      "    print lix\n",
      "    savlis.append(geopy.Location(lix))"
     ],
     "language": "python",
     "metadata": {},
     "outputs": [],
     "prompt_number": 469
    },
    {
     "cell_type": "code",
     "collapsed": false,
     "input": [
      "s = 'abc-d-ef ghijk'\n",
      "s1 = s.replace('-', ' ')"
     ],
     "language": "python",
     "metadata": {},
     "outputs": [],
     "prompt_number": 470
    },
    {
     "cell_type": "code",
     "collapsed": false,
     "input": [
      "splist = []"
     ],
     "language": "python",
     "metadata": {},
     "outputs": [],
     "prompt_number": 570
    },
    {
     "cell_type": "code",
     "collapsed": true,
     "input": [
      "oplist = []"
     ],
     "language": "python",
     "metadata": {},
     "outputs": [],
     "prompt_number": 571
    },
    {
     "cell_type": "code",
     "collapsed": false,
     "input": [
      "for spz in listen:\n",
      "    savall = open('/home/public/' + spz + '/index.html')\n",
      "    oplist.append(savall.read())\n",
      "    #oplist.append(spz)\n",
      "    "
     ],
     "language": "python",
     "metadata": {},
     "outputs": [],
     "prompt_number": 572
    },
    {
     "cell_type": "code",
     "collapsed": false,
     "input": [
      "for iz in listen:\n",
      "    print iz\n",
      "    splist.append(iz.replace('-', ' '))\n",
      "    "
     ],
     "language": "python",
     "metadata": {},
     "outputs": [],
     "prompt_number": 573
    },
    {
     "cell_type": "code",
     "collapsed": true,
     "input": [
      "caplis = []"
     ],
     "language": "python",
     "metadata": {},
     "outputs": [],
     "prompt_number": 475
    },
    {
     "cell_type": "code",
     "collapsed": true,
     "input": [
      "for caz in splist:\n",
      "    caplis.append(str.capitalize(caz))"
     ],
     "language": "python",
     "metadata": {},
     "outputs": [],
     "prompt_number": 476
    },
    {
     "cell_type": "code",
     "collapsed": true,
     "input": [
      "chars = []"
     ],
     "language": "python",
     "metadata": {},
     "outputs": [],
     "prompt_number": 477
    },
    {
     "cell_type": "code",
     "collapsed": true,
     "input": [
      "for line in caplis:\n",
      "    for c in line:\n",
      "        chars.append(c)"
     ],
     "language": "python",
     "metadata": {},
     "outputs": [],
     "prompt_number": 478
    },
    {
     "cell_type": "code",
     "collapsed": true,
     "input": [
      "for car in chars:\n",
      "    print car"
     ],
     "language": "python",
     "metadata": {},
     "outputs": [],
     "prompt_number": 479
    },
    {
     "cell_type": "code",
     "collapsed": true,
     "input": [
      "geolz = []"
     ],
     "language": "python",
     "metadata": {},
     "outputs": [],
     "prompt_number": 480
    },
    {
     "cell_type": "code",
     "collapsed": true,
     "input": [
      "for iz in caplis:\n",
      "    print iz\n",
      "    geolz.append(geopy.Location(iz))\n",
      "    "
     ],
     "language": "python",
     "metadata": {},
     "outputs": [],
     "prompt_number": 482
    },
    {
     "cell_type": "code",
     "collapsed": false,
     "input": [
      "openhtm = open('index.html', 'r')"
     ],
     "language": "python",
     "metadata": {},
     "outputs": [
      {
       "ename": "IOError",
       "evalue": "[Errno 2] No such file or directory: 'index.html'",
       "output_type": "pyerr",
       "traceback": [
        "\u001b[1;31m---------------------------------------------------------------------------\u001b[0m\n\u001b[1;31mIOError\u001b[0m                                   Traceback (most recent call last)",
        "\u001b[1;32m<ipython-input-483-d91c57ab47f2>\u001b[0m in \u001b[0;36m<module>\u001b[1;34m()\u001b[0m\n\u001b[1;32m----> 1\u001b[1;33m \u001b[0mopenhtm\u001b[0m \u001b[1;33m=\u001b[0m \u001b[0mopen\u001b[0m\u001b[1;33m(\u001b[0m\u001b[1;34m'index.html'\u001b[0m\u001b[1;33m,\u001b[0m \u001b[1;34m'r'\u001b[0m\u001b[1;33m)\u001b[0m\u001b[1;33m\u001b[0m\u001b[0m\n\u001b[0m",
        "\u001b[1;31mIOError\u001b[0m: [Errno 2] No such file or directory: 'index.html'"
       ]
      }
     ],
     "prompt_number": 483
    },
    {
     "cell_type": "code",
     "collapsed": false,
     "input": [
      "mydoc = str(openhtm.read())"
     ],
     "language": "python",
     "metadata": {},
     "outputs": [],
     "prompt_number": 484
    },
    {
     "cell_type": "code",
     "collapsed": false,
     "input": [
      "mydoc"
     ],
     "language": "python",
     "metadata": {},
     "outputs": [
      {
       "metadata": {},
       "output_type": "pyout",
       "prompt_number": 485,
       "text": [
        "''"
       ]
      }
     ],
     "prompt_number": 485
    },
    {
     "cell_type": "code",
     "collapsed": false,
     "input": [
      "from bs4 import BeautifulSoup"
     ],
     "language": "python",
     "metadata": {},
     "outputs": [],
     "prompt_number": 486
    },
    {
     "cell_type": "code",
     "collapsed": false,
     "input": [
      "cent = BeautifulSoup(mydoc)"
     ],
     "language": "python",
     "metadata": {},
     "outputs": [],
     "prompt_number": 487
    },
    {
     "cell_type": "code",
     "collapsed": false,
     "input": [
      "ctent = cent.title"
     ],
     "language": "python",
     "metadata": {},
     "outputs": [],
     "prompt_number": 488
    },
    {
     "cell_type": "code",
     "collapsed": false,
     "input": [
      "pcent = cent.find_all('p')"
     ],
     "language": "python",
     "metadata": {},
     "outputs": [],
     "prompt_number": 489
    },
    {
     "cell_type": "code",
     "collapsed": false,
     "input": [
      "cenimg = cent.findAll('img')"
     ],
     "language": "python",
     "metadata": {},
     "outputs": [],
     "prompt_number": 490
    },
    {
     "cell_type": "code",
     "collapsed": false,
     "input": [
      "import dominate\n",
      "from dominate.tags import *"
     ],
     "language": "python",
     "metadata": {},
     "outputs": [],
     "prompt_number": 491
    },
    {
     "cell_type": "code",
     "collapsed": false,
     "input": [
      "dominate.tags"
     ],
     "language": "python",
     "metadata": {},
     "outputs": [
      {
       "metadata": {},
       "output_type": "pyout",
       "prompt_number": 492,
       "text": [
        "<module 'dominate.tags' from '/usr/local/lib/python2.7/dist-packages/dominate/tags.pyc'>"
       ]
      }
     ],
     "prompt_number": 492
    },
    {
     "cell_type": "code",
     "collapsed": false,
     "input": [
      "allcent = dominate.document(title='central')"
     ],
     "language": "python",
     "metadata": {},
     "outputs": [],
     "prompt_number": 493
    },
    {
     "cell_type": "code",
     "collapsed": false,
     "input": [
      "with allcent.head:\n",
      "    link(rel='stylesheet', href='style.css')\n",
      "    script(type='text/javascript', scr='script.js')"
     ],
     "language": "python",
     "metadata": {},
     "outputs": [],
     "prompt_number": 494
    },
    {
     "cell_type": "code",
     "collapsed": true,
     "input": [
      "(pcent)"
     ],
     "language": "python",
     "metadata": {},
     "outputs": [
      {
       "metadata": {},
       "output_type": "pyout",
       "prompt_number": 495,
       "text": [
        "[]"
       ]
      }
     ],
     "prompt_number": 495
    },
    {
     "cell_type": "code",
     "collapsed": true,
     "input": [
      "for pcz in pcent:\n",
      "    print pcz"
     ],
     "language": "python",
     "metadata": {},
     "outputs": [],
     "prompt_number": 496
    },
    {
     "cell_type": "code",
     "collapsed": true,
     "input": [
      "for cen in cenimg:\n",
      "    print cen"
     ],
     "language": "python",
     "metadata": {},
     "outputs": [],
     "prompt_number": 497
    },
    {
     "cell_type": "code",
     "collapsed": false,
     "input": [
      "with allcent:\n",
      "    with div(id='header').add(ol()):\n",
      "        for i in listen:\n",
      "            li(a(i.title(), href='/%s' % i))\n",
      "\n",
      "    with div():\n",
      "        attr(cls='body')\n",
      "        #p(str(pcent))\n",
      "        for pcz in pcent:\n",
      "            p(pcz)\n",
      "        #p(str(pcent))"
     ],
     "language": "python",
     "metadata": {},
     "outputs": [],
     "prompt_number": 498
    },
    {
     "cell_type": "code",
     "collapsed": false,
     "input": [
      "print allcent"
     ],
     "language": "python",
     "metadata": {},
     "outputs": [
      {
       "output_type": "stream",
       "stream": "stdout",
       "text": [
        "<!DOCTYPE html>\n",
        "<html>\n",
        "  <head>\n",
        "    <title>central</title>\n",
        "    <link href=\"style.css\" rel=\"stylesheet\">\n",
        "    <script scr=\"script.js\" type=\"text/javascript\"></script>\n",
        "  </head>\n",
        "  <body>\n",
        "    <div id=\"header\">\n",
        "      <ol></ol>\n",
        "    </div>\n",
        "    <div class=\"body\"></div>\n",
        "  </body>\n",
        "</html>\n"
       ]
      }
     ],
     "prompt_number": 499
    },
    {
     "cell_type": "code",
     "collapsed": false,
     "input": [
      "mkhtm = open('test.html', 'w')\n",
      "mkhtm.write(str(splist))\n",
      "mkhtm.close()"
     ],
     "language": "python",
     "metadata": {},
     "outputs": [],
     "prompt_number": 564
    },
    {
     "cell_type": "code",
     "collapsed": true,
     "input": [
      "cendict = {}"
     ],
     "language": "python",
     "metadata": {},
     "outputs": [],
     "prompt_number": 565
    },
    {
     "cell_type": "code",
     "collapsed": true,
     "input": [
      "mynum = 0"
     ],
     "language": "python",
     "metadata": {},
     "outputs": [],
     "prompt_number": 566
    },
    {
     "cell_type": "code",
     "collapsed": false,
     "input": [
      "splist"
     ],
     "language": "python",
     "metadata": {},
     "outputs": [
      {
       "metadata": {},
       "output_type": "pyout",
       "prompt_number": 567,
       "text": [
        "[]"
       ]
      }
     ],
     "prompt_number": 567
    },
    {
     "cell_type": "code",
     "collapsed": false,
     "input": [
      "for iza in splist:\n",
      "    if 'kindergarten' or 'centre' in iza:\n",
      "        cendict.update({iza: mynum})\n",
      "        mynum = (mynum + 1)"
     ],
     "language": "python",
     "metadata": {},
     "outputs": [],
     "prompt_number": 568
    },
    {
     "cell_type": "code",
     "collapsed": false,
     "input": [
      "cendict"
     ],
     "language": "python",
     "metadata": {},
     "outputs": [
      {
       "metadata": {},
       "output_type": "pyout",
       "prompt_number": 569,
       "text": [
        "{}"
       ]
      }
     ],
     "prompt_number": 569
    },
    {
     "cell_type": "code",
     "collapsed": false,
     "input": [
      "import re"
     ],
     "language": "python",
     "metadata": {},
     "outputs": [],
     "prompt_number": 557
    },
    {
     "cell_type": "code",
     "collapsed": false,
     "input": [
      "a = re.sub('[.!,;]', 'bssdg!aassada.', a)"
     ],
     "language": "python",
     "metadata": {},
     "outputs": [
      {
       "ename": "TypeError",
       "evalue": "expected string or buffer",
       "output_type": "pyerr",
       "traceback": [
        "\u001b[1;31m---------------------------------------------------------------------------\u001b[0m\n\u001b[1;31mTypeError\u001b[0m                                 Traceback (most recent call last)",
        "\u001b[1;32m<ipython-input-505-4733a8327e3a>\u001b[0m in \u001b[0;36m<module>\u001b[1;34m()\u001b[0m\n\u001b[1;32m----> 1\u001b[1;33m \u001b[0ma\u001b[0m \u001b[1;33m=\u001b[0m \u001b[0mre\u001b[0m\u001b[1;33m.\u001b[0m\u001b[0msub\u001b[0m\u001b[1;33m(\u001b[0m\u001b[1;34m'[.!,;]'\u001b[0m\u001b[1;33m,\u001b[0m \u001b[1;34m'bssdg!aassada.'\u001b[0m\u001b[1;33m,\u001b[0m \u001b[0ma\u001b[0m\u001b[1;33m)\u001b[0m\u001b[1;33m\u001b[0m\u001b[0m\n\u001b[0m",
        "\u001b[1;32m/usr/lib/python2.7/re.pyc\u001b[0m in \u001b[0;36msub\u001b[1;34m(pattern, repl, string, count, flags)\u001b[0m\n\u001b[0;32m    149\u001b[0m     \u001b[0ma\u001b[0m \u001b[0mcallable\u001b[0m\u001b[1;33m,\u001b[0m \u001b[0mit\u001b[0m\u001b[0;31m'\u001b[0m\u001b[0ms\u001b[0m \u001b[0mpassed\u001b[0m \u001b[0mthe\u001b[0m \u001b[0mmatch\u001b[0m \u001b[0mobject\u001b[0m \u001b[1;32mand\u001b[0m \u001b[0mmust\u001b[0m \u001b[1;32mreturn\u001b[0m\u001b[1;33m\u001b[0m\u001b[0m\n\u001b[0;32m    150\u001b[0m     a replacement string to be used.\"\"\"\n\u001b[1;32m--> 151\u001b[1;33m     \u001b[1;32mreturn\u001b[0m \u001b[0m_compile\u001b[0m\u001b[1;33m(\u001b[0m\u001b[0mpattern\u001b[0m\u001b[1;33m,\u001b[0m \u001b[0mflags\u001b[0m\u001b[1;33m)\u001b[0m\u001b[1;33m.\u001b[0m\u001b[0msub\u001b[0m\u001b[1;33m(\u001b[0m\u001b[0mrepl\u001b[0m\u001b[1;33m,\u001b[0m \u001b[0mstring\u001b[0m\u001b[1;33m,\u001b[0m \u001b[0mcount\u001b[0m\u001b[1;33m)\u001b[0m\u001b[1;33m\u001b[0m\u001b[0m\n\u001b[0m\u001b[0;32m    152\u001b[0m \u001b[1;33m\u001b[0m\u001b[0m\n\u001b[0;32m    153\u001b[0m \u001b[1;32mdef\u001b[0m \u001b[0msubn\u001b[0m\u001b[1;33m(\u001b[0m\u001b[0mpattern\u001b[0m\u001b[1;33m,\u001b[0m \u001b[0mrepl\u001b[0m\u001b[1;33m,\u001b[0m \u001b[0mstring\u001b[0m\u001b[1;33m,\u001b[0m \u001b[0mcount\u001b[0m\u001b[1;33m=\u001b[0m\u001b[1;36m0\u001b[0m\u001b[1;33m,\u001b[0m \u001b[0mflags\u001b[0m\u001b[1;33m=\u001b[0m\u001b[1;36m0\u001b[0m\u001b[1;33m)\u001b[0m\u001b[1;33m:\u001b[0m\u001b[1;33m\u001b[0m\u001b[0m\n",
        "\u001b[1;31mTypeError\u001b[0m: expected string or buffer"
       ]
      }
     ],
     "prompt_number": 505
    },
    {
     "cell_type": "code",
     "collapsed": false,
     "input": [
      "re.sub()"
     ],
     "language": "python",
     "metadata": {},
     "outputs": [
      {
       "ename": "TypeError",
       "evalue": "sub() takes at least 3 arguments (0 given)",
       "output_type": "pyerr",
       "traceback": [
        "\u001b[1;31m---------------------------------------------------------------------------\u001b[0m\n\u001b[1;31mTypeError\u001b[0m                                 Traceback (most recent call last)",
        "\u001b[1;32m<ipython-input-506-6ecb578667da>\u001b[0m in \u001b[0;36m<module>\u001b[1;34m()\u001b[0m\n\u001b[1;32m----> 1\u001b[1;33m \u001b[0mre\u001b[0m\u001b[1;33m.\u001b[0m\u001b[0msub\u001b[0m\u001b[1;33m(\u001b[0m\u001b[1;33m)\u001b[0m\u001b[1;33m\u001b[0m\u001b[0m\n\u001b[0m",
        "\u001b[1;31mTypeError\u001b[0m: sub() takes at least 3 arguments (0 given)"
       ]
      }
     ],
     "prompt_number": 506
    },
    {
     "cell_type": "code",
     "collapsed": false,
     "input": [
      "s = 'A.B-!C?'\n",
      "print s.translate(None, '\" \"'.join('-'))"
     ],
     "language": "python",
     "metadata": {},
     "outputs": [
      {
       "output_type": "stream",
       "stream": "stdout",
       "text": [
        "A.B!C?\n"
       ]
      }
     ],
     "prompt_number": 507
    },
    {
     "cell_type": "code",
     "collapsed": false,
     "input": [
      "import string\n",
      "\n",
      "specials = '-\"/.' #etc\n",
      "trans = string.maketrans(specials, ' '*len(specials))\n",
      "#for line in file\n",
      "cleanline = 'test'.translate(trans)"
     ],
     "language": "python",
     "metadata": {},
     "outputs": [],
     "prompt_number": 508
    },
    {
     "cell_type": "code",
     "collapsed": false,
     "input": [
      "s = 'abc-d-ef ghijk'\n",
      "s1 = s.replace('-', ' ')"
     ],
     "language": "python",
     "metadata": {},
     "outputs": [],
     "prompt_number": 509
    },
    {
     "cell_type": "markdown",
     "metadata": {},
     "source": [
      "dict.\n",
      "kindergartens: list all the kindergarten, centre: list all centre"
     ]
    },
    {
     "cell_type": "code",
     "collapsed": true,
     "input": [
      "os.listdir('/home/public/whai/imgs')"
     ],
     "language": "python",
     "metadata": {},
     "outputs": [
      {
       "metadata": {},
       "output_type": "pyout",
       "prompt_number": 510,
       "text": [
        "[]"
       ]
      }
     ],
     "prompt_number": 510
    },
    {
     "cell_type": "markdown",
     "metadata": {},
     "source": [
      "make folder of kindyname-index.html"
     ]
    },
    {
     "cell_type": "code",
     "collapsed": true,
     "input": [
      "os.removedirs('/home/public/central-test')"
     ],
     "language": "python",
     "metadata": {},
     "outputs": [
      {
       "ename": "OSError",
       "evalue": "[Errno 39] Directory not empty: '/home/public/central-test'",
       "output_type": "pyerr",
       "traceback": [
        "\u001b[1;31m---------------------------------------------------------------------------\u001b[0m\n\u001b[1;31mOSError\u001b[0m                                   Traceback (most recent call last)",
        "\u001b[1;32m<ipython-input-512-7251458ec580>\u001b[0m in \u001b[0;36m<module>\u001b[1;34m()\u001b[0m\n\u001b[1;32m----> 1\u001b[1;33m \u001b[0mos\u001b[0m\u001b[1;33m.\u001b[0m\u001b[0mremovedirs\u001b[0m\u001b[1;33m(\u001b[0m\u001b[1;34m'/home/public/central-test'\u001b[0m\u001b[1;33m)\u001b[0m\u001b[1;33m\u001b[0m\u001b[0m\n\u001b[0m",
        "\u001b[1;32m/usr/lib/python2.7/os.pyc\u001b[0m in \u001b[0;36mremovedirs\u001b[1;34m(name)\u001b[0m\n\u001b[0;32m    168\u001b[0m \u001b[1;33m\u001b[0m\u001b[0m\n\u001b[0;32m    169\u001b[0m     \"\"\"\n\u001b[1;32m--> 170\u001b[1;33m     \u001b[0mrmdir\u001b[0m\u001b[1;33m(\u001b[0m\u001b[0mname\u001b[0m\u001b[1;33m)\u001b[0m\u001b[1;33m\u001b[0m\u001b[0m\n\u001b[0m\u001b[0;32m    171\u001b[0m     \u001b[0mhead\u001b[0m\u001b[1;33m,\u001b[0m \u001b[0mtail\u001b[0m \u001b[1;33m=\u001b[0m \u001b[0mpath\u001b[0m\u001b[1;33m.\u001b[0m\u001b[0msplit\u001b[0m\u001b[1;33m(\u001b[0m\u001b[0mname\u001b[0m\u001b[1;33m)\u001b[0m\u001b[1;33m\u001b[0m\u001b[0m\n\u001b[0;32m    172\u001b[0m     \u001b[1;32mif\u001b[0m \u001b[1;32mnot\u001b[0m \u001b[0mtail\u001b[0m\u001b[1;33m:\u001b[0m\u001b[1;33m\u001b[0m\u001b[0m\n",
        "\u001b[1;31mOSError\u001b[0m: [Errno 39] Directory not empty: '/home/public/central-test'"
       ]
      }
     ],
     "prompt_number": 512
    },
    {
     "cell_type": "code",
     "collapsed": true,
     "input": [
      "cents = ('/home/public/central-test/centres')"
     ],
     "language": "python",
     "metadata": {},
     "outputs": [],
     "prompt_number": 513
    },
    {
     "cell_type": "code",
     "collapsed": true,
     "input": [
      "os.mkdir('imgs')"
     ],
     "language": "python",
     "metadata": {},
     "outputs": [],
     "prompt_number": 514
    },
    {
     "cell_type": "code",
     "collapsed": false,
     "input": [
      "os.listdir('/home/public/whai/imgs/')"
     ],
     "language": "python",
     "metadata": {},
     "outputs": [
      {
       "metadata": {},
       "output_type": "pyout",
       "prompt_number": 515,
       "text": [
        "[]"
       ]
      }
     ],
     "prompt_number": 515
    },
    {
     "cell_type": "code",
     "collapsed": true,
     "input": [
      "osliz = []"
     ],
     "language": "python",
     "metadata": {},
     "outputs": [],
     "prompt_number": 516
    },
    {
     "cell_type": "code",
     "collapsed": true,
     "input": [
      "os.chdir(cents)"
     ],
     "language": "python",
     "metadata": {},
     "outputs": [
      {
       "ename": "OSError",
       "evalue": "[Errno 2] No such file or directory: '/home/public/central-test/centres'",
       "output_type": "pyerr",
       "traceback": [
        "\u001b[1;31m---------------------------------------------------------------------------\u001b[0m\n\u001b[1;31mOSError\u001b[0m                                   Traceback (most recent call last)",
        "\u001b[1;32m<ipython-input-517-55e0d1dd8488>\u001b[0m in \u001b[0;36m<module>\u001b[1;34m()\u001b[0m\n\u001b[1;32m----> 1\u001b[1;33m \u001b[0mos\u001b[0m\u001b[1;33m.\u001b[0m\u001b[0mchdir\u001b[0m\u001b[1;33m(\u001b[0m\u001b[0mcents\u001b[0m\u001b[1;33m)\u001b[0m\u001b[1;33m\u001b[0m\u001b[0m\n\u001b[0m",
        "\u001b[1;31mOSError\u001b[0m: [Errno 2] No such file or directory: '/home/public/central-test/centres'"
       ]
      }
     ],
     "prompt_number": 517
    },
    {
     "cell_type": "markdown",
     "metadata": {},
     "source": [
      "this makes the centre folders"
     ]
    },
    {
     "cell_type": "code",
     "collapsed": true,
     "input": [
      "for oubz in listen:\n",
      "    os.mkdir(oubz)"
     ],
     "language": "python",
     "metadata": {},
     "outputs": [],
     "prompt_number": 518
    },
    {
     "cell_type": "code",
     "collapsed": true,
     "input": [
      "for oslis in listen:\n",
      "    print oslis\n",
      "    \n",
      "    osliz.append(os.listdir('/home/public/whai/' + oslis))"
     ],
     "language": "python",
     "metadata": {},
     "outputs": [],
     "prompt_number": 519
    },
    {
     "cell_type": "code",
     "collapsed": false,
     "input": [
      "osliz"
     ],
     "language": "python",
     "metadata": {},
     "outputs": [
      {
       "metadata": {},
       "output_type": "pyout",
       "prompt_number": 520,
       "text": [
        "[]"
       ]
      }
     ],
     "prompt_number": 520
    },
    {
     "cell_type": "code",
     "collapsed": true,
     "input": [
      "finlis = []"
     ],
     "language": "python",
     "metadata": {},
     "outputs": [],
     "prompt_number": 521
    },
    {
     "cell_type": "code",
     "collapsed": true,
     "input": [
      "for osl in osliz:\n",
      "    finlis.append(osl)\n",
      "    if 'index' in osl:\n",
      "        print 'yes!'\n",
      "    "
     ],
     "language": "python",
     "metadata": {},
     "outputs": [],
     "prompt_number": 522
    },
    {
     "cell_type": "code",
     "collapsed": true,
     "input": [
      "indlis = []"
     ],
     "language": "python",
     "metadata": {},
     "outputs": [],
     "prompt_number": 523
    },
    {
     "cell_type": "code",
     "collapsed": true,
     "input": [
      "for fin in finlis:\n",
      "    if 'index' in fin:\n",
      "        indlis.append(fin)\n",
      "        "
     ],
     "language": "python",
     "metadata": {},
     "outputs": [],
     "prompt_number": 524
    },
    {
     "cell_type": "code",
     "collapsed": true,
     "input": [
      "telis = []"
     ],
     "language": "python",
     "metadata": {},
     "outputs": [],
     "prompt_number": 525
    },
    {
     "cell_type": "code",
     "collapsed": true,
     "input": [
      "for f in finlis:\n",
      "    #print f\n",
      "    for te in f:\n",
      "        print te\n",
      "        if 'index.html' or 'wp' in te:\n",
      "            telis.append(te)\n",
      "            "
     ],
     "language": "python",
     "metadata": {},
     "outputs": [],
     "prompt_number": 526
    },
    {
     "cell_type": "code",
     "collapsed": false,
     "input": [
      "filis = []"
     ],
     "language": "python",
     "metadata": {},
     "outputs": [],
     "prompt_number": 527
    },
    {
     "cell_type": "code",
     "collapsed": false,
     "input": [
      "for tez in telis:\n",
      "    if '.' in tez:\n",
      "        filis.append(tez)\n",
      "        "
     ],
     "language": "python",
     "metadata": {},
     "outputs": [],
     "prompt_number": 528
    },
    {
     "cell_type": "code",
     "collapsed": false,
     "input": [
      "filis"
     ],
     "language": "python",
     "metadata": {},
     "outputs": [
      {
       "metadata": {},
       "output_type": "pyout",
       "prompt_number": 529,
       "text": [
        "[]"
       ]
      }
     ],
     "prompt_number": 529
    },
    {
     "cell_type": "code",
     "collapsed": true,
     "input": [
      "%%bash \n",
      "#!/bin/bash\n",
      "\n",
      "# Add a user to the system, if they don't already exist. This script must be run as root.\n",
      "# If the user exists in Stanford LDAP, we'll user their Stanford-wide UID. Otherwise,\n",
      "# they get assigned a local UID that's outside the Stanford UID range.\n",
      "\n",
      "# Copyright 2012 by Gunnaer Schaefer (gsfr@stanford.edu)  and Bob Dougherty (bobd@stanford.edu)\n",
      "\n",
      "if [ ! $1 ]; then\n",
      "    echo \"Usage: $0 SUNetID\"\n",
      "    exit 999\n",
      "fi\n",
      "\n",
      "if id $1 &> /dev/null ; then\n",
      "    if [ -z \"`groups $1 | grep ipython`\" ]; then\n",
      "        /usr/sbin/adduser $1 ipython\n",
      "    else\n",
      "    \techo \"User $1 already exists and is a member of the ipython group.\"\n",
      "    fi\n",
      "    exit 1\n",
      "else\n",
      "    ldapinfo=$(ldapsearch -x -h ldap.stanford.edu uid=$1)\n",
      "    uid_num=$(echo \"$ldapinfo\" | grep uidNumber); uid_num=${uid_num##*: }\n",
      "    firstname=$(echo \"$ldapinfo\" | grep suDisplayNameFirst); firstname=${firstname##*: }\n",
      "    lastname=$(echo \"$ldapinfo\" | grep suDisplayNameLast); lastname=${lastname##*: }\n",
      "    if [ -z $uid_num ]; then\n",
      "        echo \"User $1 does not exist in LDAP. Assigning a local UID.\"\n",
      "        uid_num=$((`(echo 69999; cut -d':' -f3 /etc/passwd) | sort -n | tail -1` + 1))\n",
      "    fi\n",
      "    echo \"Creating user $1 ($firstname $lastname, uid = $uid_num)...\"\n",
      "    /usr/sbin/adduser --disabled-password --uid $uid_num --gecos \"$firstname $lastname\" $1\n",
      "    /usr/sbin/adduser $1 ipython\n",
      "fi"
     ],
     "language": "python",
     "metadata": {},
     "outputs": [
      {
       "output_type": "stream",
       "stream": "stdout",
       "text": [
        "Usage: bash SUNetID\n"
       ]
      }
     ],
     "prompt_number": 530
    },
    {
     "cell_type": "code",
     "collapsed": true,
     "input": [],
     "language": "python",
     "metadata": {},
     "outputs": [],
     "prompt_number": 530
    },
    {
     "cell_type": "markdown",
     "metadata": {},
     "source": [
      "makes folder - centre kindy - had folder of all kindys - inside of this is static blog - linked to main centre kindy blog. \n",
      "admin - roll\n",
      "generates a list of students at centre\n",
      "generates a list of teachers at centre\n",
      "warnings on ratio\n",
      "communication with other centre\n",
      "each centre has static page with info about each centre - open hours, list of teachers, job/opotunity, \n",
      "central kids os: linux debian 7\n",
      "os locationed inside thieir folder. This is based off Debian7 (root7.tar.gz install7). All Central kids computers have this os. Unable to access certain areas outside of os (rsa ssh from inside central kids os into secure server)\n",
      "Ways to keep privacy safe\n",
      "i have no idea what im doing, but i hope something works!"
     ]
    },
    {
     "cell_type": "code",
     "collapsed": true,
     "input": [
      "os.chdir('/home/public/')"
     ],
     "language": "python",
     "metadata": {},
     "outputs": [],
     "prompt_number": 531
    },
    {
     "cell_type": "code",
     "collapsed": true,
     "input": [
      "os.mkdir('central-test')"
     ],
     "language": "python",
     "metadata": {},
     "outputs": [
      {
       "ename": "OSError",
       "evalue": "[Errno 17] File exists: 'central-test'",
       "output_type": "pyerr",
       "traceback": [
        "\u001b[1;31m---------------------------------------------------------------------------\u001b[0m\n\u001b[1;31mOSError\u001b[0m                                   Traceback (most recent call last)",
        "\u001b[1;32m<ipython-input-532-3c768ff7bea5>\u001b[0m in \u001b[0;36m<module>\u001b[1;34m()\u001b[0m\n\u001b[1;32m----> 1\u001b[1;33m \u001b[0mos\u001b[0m\u001b[1;33m.\u001b[0m\u001b[0mmkdir\u001b[0m\u001b[1;33m(\u001b[0m\u001b[1;34m'central-test'\u001b[0m\u001b[1;33m)\u001b[0m\u001b[1;33m\u001b[0m\u001b[0m\n\u001b[0m",
        "\u001b[1;31mOSError\u001b[0m: [Errno 17] File exists: 'central-test'"
       ]
      }
     ],
     "prompt_number": 532
    },
    {
     "cell_type": "code",
     "collapsed": true,
     "input": [
      "os.chdir('central-test')"
     ],
     "language": "python",
     "metadata": {},
     "outputs": [],
     "prompt_number": 533
    },
    {
     "cell_type": "code",
     "collapsed": true,
     "input": [
      "import delican"
     ],
     "language": "python",
     "metadata": {},
     "outputs": [
      {
       "ename": "ImportError",
       "evalue": "No module named delican",
       "output_type": "pyerr",
       "traceback": [
        "\u001b[1;31m---------------------------------------------------------------------------\u001b[0m\n\u001b[1;31mImportError\u001b[0m                               Traceback (most recent call last)",
        "\u001b[1;32m<ipython-input-581-7c40fc6f607d>\u001b[0m in \u001b[0;36m<module>\u001b[1;34m()\u001b[0m\n\u001b[1;32m----> 1\u001b[1;33m \u001b[1;32mimport\u001b[0m \u001b[0mdelican\u001b[0m\u001b[1;33m\u001b[0m\u001b[0m\n\u001b[0m",
        "\u001b[1;31mImportError\u001b[0m: No module named delican"
       ]
      }
     ],
     "prompt_number": 581
    },
    {
     "cell_type": "code",
     "collapsed": true,
     "input": [
      "import tarfile"
     ],
     "language": "python",
     "metadata": {},
     "outputs": [],
     "prompt_number": 582
    },
    {
     "cell_type": "code",
     "collapsed": true,
     "input": [
      "mytar = tarfile.TarFile('/home/public/central-test/centralblog.tar.gz')"
     ],
     "language": "python",
     "metadata": {},
     "outputs": [
      {
       "ename": "IOError",
       "evalue": "[Errno 2] No such file or directory: '/home/public/central-test/centralblog.tar.gz'",
       "output_type": "pyerr",
       "traceback": [
        "\u001b[1;31m---------------------------------------------------------------------------\u001b[0m\n\u001b[1;31mIOError\u001b[0m                                   Traceback (most recent call last)",
        "\u001b[1;32m<ipython-input-583-b555c5b1d271>\u001b[0m in \u001b[0;36m<module>\u001b[1;34m()\u001b[0m\n\u001b[1;32m----> 1\u001b[1;33m \u001b[0mmytar\u001b[0m \u001b[1;33m=\u001b[0m \u001b[0mtarfile\u001b[0m\u001b[1;33m.\u001b[0m\u001b[0mTarFile\u001b[0m\u001b[1;33m(\u001b[0m\u001b[1;34m'/home/public/central-test/centralblog.tar.gz'\u001b[0m\u001b[1;33m)\u001b[0m\u001b[1;33m\u001b[0m\u001b[0m\n\u001b[0m",
        "\u001b[1;32m/usr/lib/python2.7/tarfile.pyc\u001b[0m in \u001b[0;36m__init__\u001b[1;34m(self, name, mode, fileobj, format, tarinfo, dereference, ignore_zeros, encoding, errors, pax_headers, debug, errorlevel)\u001b[0m\n\u001b[0;32m   1520\u001b[0m                 \u001b[0mself\u001b[0m\u001b[1;33m.\u001b[0m\u001b[0mmode\u001b[0m \u001b[1;33m=\u001b[0m \u001b[1;34m\"w\"\u001b[0m\u001b[1;33m\u001b[0m\u001b[0m\n\u001b[0;32m   1521\u001b[0m                 \u001b[0mself\u001b[0m\u001b[1;33m.\u001b[0m\u001b[0m_mode\u001b[0m \u001b[1;33m=\u001b[0m \u001b[1;34m\"wb\"\u001b[0m\u001b[1;33m\u001b[0m\u001b[0m\n\u001b[1;32m-> 1522\u001b[1;33m             \u001b[0mfileobj\u001b[0m \u001b[1;33m=\u001b[0m \u001b[0mbltn_open\u001b[0m\u001b[1;33m(\u001b[0m\u001b[0mname\u001b[0m\u001b[1;33m,\u001b[0m \u001b[0mself\u001b[0m\u001b[1;33m.\u001b[0m\u001b[0m_mode\u001b[0m\u001b[1;33m)\u001b[0m\u001b[1;33m\u001b[0m\u001b[0m\n\u001b[0m\u001b[0;32m   1523\u001b[0m             \u001b[0mself\u001b[0m\u001b[1;33m.\u001b[0m\u001b[0m_extfileobj\u001b[0m \u001b[1;33m=\u001b[0m \u001b[0mFalse\u001b[0m\u001b[1;33m\u001b[0m\u001b[0m\n\u001b[0;32m   1524\u001b[0m         \u001b[1;32melse\u001b[0m\u001b[1;33m:\u001b[0m\u001b[1;33m\u001b[0m\u001b[0m\n",
        "\u001b[1;31mIOError\u001b[0m: [Errno 2] No such file or directory: '/home/public/central-test/centralblog.tar.gz'"
       ]
      }
     ],
     "prompt_number": 583
    },
    {
     "cell_type": "code",
     "collapsed": true,
     "input": [
      "import shutil"
     ],
     "language": "python",
     "metadata": {},
     "outputs": []
    },
    {
     "cell_type": "code",
     "collapsed": true,
     "input": [
      "shutil.copytree('/home/public/central-test/central/' '/home/public/central-test/waipahihi-kindergarten/')"
     ],
     "language": "python",
     "metadata": {},
     "outputs": []
    },
    {
     "cell_type": "code",
     "collapsed": true,
     "input": [
      "for ipz in os.listdir('/home/public/central-test'):\n",
      "    #print ipz\n",
      "    cfpath, cfname = os.path.split(os.getcwd())\n",
      "    print cfname\n",
      "    "
     ],
     "language": "python",
     "metadata": {},
     "outputs": [
      {
       "output_type": "stream",
       "stream": "stdout",
       "text": [
        "tarrangower-kindergarten\n",
        "tarrangower-kindergarten\n",
        "tarrangower-kindergarten\n",
        "tarrangower-kindergarten\n",
        "tarrangower-kindergarten\n",
        "tarrangower-kindergarten\n",
        "tarrangower-kindergarten\n",
        "tarrangower-kindergarten\n",
        "tarrangower-kindergarten\n",
        "tarrangower-kindergarten\n",
        "tarrangower-kindergarten\n",
        "tarrangower-kindergarten\n",
        "tarrangower-kindergarten\n",
        "tarrangower-kindergarten\n",
        "tarrangower-kindergarten\n",
        "tarrangower-kindergarten\n",
        "tarrangower-kindergarten\n",
        "tarrangower-kindergarten\n",
        "tarrangower-kindergarten\n",
        "tarrangower-kindergarten\n",
        "tarrangower-kindergarten\n",
        "tarrangower-kindergarten\n",
        "tarrangower-kindergarten\n",
        "tarrangower-kindergarten\n",
        "tarrangower-kindergarten\n",
        "tarrangower-kindergarten\n",
        "tarrangower-kindergarten\n",
        "tarrangower-kindergarten\n",
        "tarrangower-kindergarten\n",
        "tarrangower-kindergarten\n",
        "tarrangower-kindergarten\n",
        "tarrangower-kindergarten\n",
        "tarrangower-kindergarten\n",
        "tarrangower-kindergarten\n",
        "tarrangower-kindergarten\n",
        "tarrangower-kindergarten\n",
        "tarrangower-kindergarten\n",
        "tarrangower-kindergarten\n",
        "tarrangower-kindergarten\n",
        "tarrangower-kindergarten\n",
        "tarrangower-kindergarten\n",
        "tarrangower-kindergarten\n",
        "tarrangower-kindergarten\n",
        "tarrangower-kindergarten\n",
        "tarrangower-kindergarten\n",
        "tarrangower-kindergarten\n",
        "tarrangower-kindergarten\n",
        "tarrangower-kindergarten\n",
        "tarrangower-kindergarten\n",
        "tarrangower-kindergarten\n",
        "tarrangower-kindergarten\n",
        "tarrangower-kindergarten\n",
        "tarrangower-kindergarten\n",
        "tarrangower-kindergarten\n",
        "tarrangower-kindergarten\n",
        "tarrangower-kindergarten\n",
        "tarrangower-kindergarten\n",
        "tarrangower-kindergarten\n",
        "tarrangower-kindergarten\n",
        "tarrangower-kindergarten\n",
        "tarrangower-kindergarten\n"
       ]
      }
     ],
     "prompt_number": 584
    },
    {
     "cell_type": "code",
     "collapsed": true,
     "input": [
      "import dominate"
     ],
     "language": "python",
     "metadata": {},
     "outputs": [],
     "prompt_number": 585
    },
    {
     "cell_type": "code",
     "collapsed": true,
     "input": [
      "dominate.tags(p('test'))"
     ],
     "language": "python",
     "metadata": {},
     "outputs": [
      {
       "ename": "TypeError",
       "evalue": "'module' object is not callable",
       "output_type": "pyerr",
       "traceback": [
        "\u001b[1;31m---------------------------------------------------------------------------\u001b[0m\n\u001b[1;31mTypeError\u001b[0m                                 Traceback (most recent call last)",
        "\u001b[1;32m<ipython-input-577-39091a23d22c>\u001b[0m in \u001b[0;36m<module>\u001b[1;34m()\u001b[0m\n\u001b[1;32m----> 1\u001b[1;33m \u001b[0mdominate\u001b[0m\u001b[1;33m.\u001b[0m\u001b[0mtags\u001b[0m\u001b[1;33m(\u001b[0m\u001b[0mp\u001b[0m\u001b[1;33m(\u001b[0m\u001b[1;34m'test'\u001b[0m\u001b[1;33m)\u001b[0m\u001b[1;33m)\u001b[0m\u001b[1;33m\u001b[0m\u001b[0m\n\u001b[0m",
        "\u001b[1;31mTypeError\u001b[0m: 'module' object is not callable"
       ]
      }
     ],
     "prompt_number": 577
    },
    {
     "cell_type": "code",
     "collapsed": true,
     "input": [
      "current_folder_path, current_folder_name = os.path.split(os.getcwd())\n"
     ],
     "language": "python",
     "metadata": {},
     "outputs": [],
     "prompt_number": 578
    },
    {
     "cell_type": "code",
     "collapsed": true,
     "input": [
      "current_folder_name"
     ],
     "language": "python",
     "metadata": {},
     "outputs": [
      {
       "metadata": {},
       "output_type": "pyout",
       "prompt_number": 579,
       "text": [
        "'tarrangower-kindergarten'"
       ]
      }
     ],
     "prompt_number": 579
    },
    {
     "cell_type": "code",
     "collapsed": true,
     "input": [
      "centar = '/home/public/central.tar.gz'\n",
      "centes = '/home/public/central-test/'"
     ],
     "language": "python",
     "metadata": {},
     "outputs": [],
     "prompt_number": 580
    },
    {
     "cell_type": "code",
     "collapsed": true,
     "input": [
      "for imz in os.listdir('/home/public/central-test'):\n",
      "    print imz\n",
      "    os.chdir(imz)\n",
      "    shutil.copyfile(centar, '/home/public/central-test/whaihanga-early-learning-centre/test.tar.gz')"
     ],
     "language": "python",
     "metadata": {},
     "outputs": [
      {
       "output_type": "stream",
       "stream": "stdout",
       "text": [
        "tarrangower-kindergarten\n",
        "paraonui-kindergarten\n"
       ]
      },
      {
       "ename": "OSError",
       "evalue": "[Errno 2] No such file or directory: 'paraonui-kindergarten'",
       "output_type": "pyerr",
       "traceback": [
        "\u001b[1;31m---------------------------------------------------------------------------\u001b[0m\n\u001b[1;31mOSError\u001b[0m                                   Traceback (most recent call last)",
        "\u001b[1;32m<ipython-input-545-44af71c4817c>\u001b[0m in \u001b[0;36m<module>\u001b[1;34m()\u001b[0m\n\u001b[0;32m      1\u001b[0m \u001b[1;32mfor\u001b[0m \u001b[0mimz\u001b[0m \u001b[1;32min\u001b[0m \u001b[0mos\u001b[0m\u001b[1;33m.\u001b[0m\u001b[0mlistdir\u001b[0m\u001b[1;33m(\u001b[0m\u001b[1;34m'/home/public/central-test'\u001b[0m\u001b[1;33m)\u001b[0m\u001b[1;33m:\u001b[0m\u001b[1;33m\u001b[0m\u001b[0m\n\u001b[0;32m      2\u001b[0m     \u001b[1;32mprint\u001b[0m \u001b[0mimz\u001b[0m\u001b[1;33m\u001b[0m\u001b[0m\n\u001b[1;32m----> 3\u001b[1;33m     \u001b[0mos\u001b[0m\u001b[1;33m.\u001b[0m\u001b[0mchdir\u001b[0m\u001b[1;33m(\u001b[0m\u001b[0mimz\u001b[0m\u001b[1;33m)\u001b[0m\u001b[1;33m\u001b[0m\u001b[0m\n\u001b[0m\u001b[0;32m      4\u001b[0m     \u001b[0mshutil\u001b[0m\u001b[1;33m.\u001b[0m\u001b[0mcopyfile\u001b[0m\u001b[1;33m(\u001b[0m\u001b[0mcentar\u001b[0m\u001b[1;33m,\u001b[0m \u001b[1;34m'/home/public/central-test/whaihanga-early-learning-centre/test.tar.gz'\u001b[0m\u001b[1;33m)\u001b[0m\u001b[1;33m\u001b[0m\u001b[0m\n",
        "\u001b[1;31mOSError\u001b[0m: [Errno 2] No such file or directory: 'paraonui-kindergarten'"
       ]
      }
     ],
     "prompt_number": 545
    },
    {
     "cell_type": "code",
     "collapsed": true,
     "input": [
      "logincos = "
     ],
     "language": "python",
     "metadata": {},
     "outputs": [
      {
       "ename": "SyntaxError",
       "evalue": "invalid syntax (<ipython-input-546-d3555ed85876>, line 1)",
       "output_type": "pyerr",
       "traceback": [
        "\u001b[1;36m  File \u001b[1;32m\"<ipython-input-546-d3555ed85876>\"\u001b[1;36m, line \u001b[1;32m1\u001b[0m\n\u001b[1;33m    logincos =\u001b[0m\n\u001b[1;37m               ^\u001b[0m\n\u001b[1;31mSyntaxError\u001b[0m\u001b[1;31m:\u001b[0m invalid syntax\n"
       ]
      }
     ],
     "prompt_number": 546
    },
    {
     "cell_type": "code",
     "collapsed": true,
     "input": [
      "os.urandom(512)"
     ],
     "language": "python",
     "metadata": {},
     "outputs": [
      {
       "metadata": {},
       "output_type": "pyout",
       "prompt_number": 547,
       "text": [
        "\"\\xa9$R8\\xcc\\xe0\\xde\\xdc\\xef\\x99\\x85\\x97\\xa9\\xa0\\x0f.\\xeb\\x16\\xd1\\xad\\xf1\\xe5\\x8c\\xad%f\\xbe\\xbb;\\xfc\\xf4:L\\xc1PT\\xed\\xbdF\\x96\\xd8J\\xe5\\x88~\\xa4\\xb2\\xf2\\x80\\x1c\\xba\\xda\\xdb\\xaf{\\xccW\\xda\\xc3X\\x9d\\xd2\\xe8\\x92R\\xba\\n{Z5\\x81\\xd9\\xa9\\x8fMOI\\x061\\x83\\x0f\\x02\\xf1\\x8c@\\x1c\\xb20~\\xd6\\x91\\xef\\xcf\\xcd\\x0f\\xb3u\\x88\\xc1\\x96[\\xd1\\xf8h\\xb2Bu\\xcf\\xc36\\x83\\xfeO\\xeb\\xd0M\\xaa\\xaeI\\xf8\\xcd\\x00/\\xa5\\xf3wU\\x0fHC\\xa2,\\xcb\\x88\\x99&\\x96SZ\\x08\\x1di0\\x86]\\x98\\xf1c\\xa1A:\\xbf\\xea\\x1b\\xd3\\xd6\\xf7\\x07\\xe3h\\xcbN&\\xaa\\xde\\xd2\\x14\\x82\\x9dO\\xc3\\x1e\\xd3\\x11\\xa6f,\\xd1\\nJX\\xffgl\\xec@\\xd3^\\xb3!\\xc7\\x1al2\\x02\\x9c\\xe3;;)eO\\xea\\xfb#\\xd1\\x1d\\x07\\x0f\\xa3\\xcc\\xf8\\x9f\\xfc\\x15M\\xb8\\x84\\xe2\\x91\\x13\\x9b\\x0eX\\xa7\\xe3\\x08lU=\\x9a\\xdddOz\\x81\\xfb\\xf7\\x80\\xff%\\xdb\\xa8Xz\\x0e\\xe2\\xfe\\xc2h\\xc4}\\x01\\xde\\xeem\\xc2\\xd7\\x87\\x1a\\xd5\\xcf~\\xf4\\xd4~~\\xd0\\xda\\xf7a\\xdf\\x81^\\x9b\\xa0LOFs\\x92$C\\xado\\x81Ivf\\xd8\\x7f;A\\xe7gX\\x18\\t\\x88&\\x92\\xfea\\xab^\\x89\\x94\\xd6\\xaazw^\\xb2\\xc0\\xf4\\x94Y\\x9d\\xa5\\xbb7\\xc8>s$\\x161\\xd7\\xc2\\x14\\x1f\\xea\\x13\\xa5Q!2\\xdf\\xc6\\xe2_N\\xb3\\x13\\x99\\xe5\\x8f6\\xebo0O\\x85\\x13\\xce\\xf7\\x00_r\\xd6\\xc3,y\\x04\\xa7\\xf7\\xf0\\x1b\\xeb\\xd6\\x0e\\xfb\\xf4\\xf3s>\\xd4\\xb1\\xfa\\xb4W\\x8e,\\xd6wN\\xc2fepH\\xa6\\xe0\\xc5\\xb7\\x1b\\xaf\\xdb@q6\\xb3C\\xabG_\\xd6\\xfd\\x9bGQ\\\\`o\\xdc\\x85\\x97O]Z\\xcc\\x12\\xfe\\x9c\\xd35\\x1e\\xf7Z\\xfe\\xe4\\xbd\\xa7Z\\xba?/E\\xc8\\x14\\x13!G-\\x87\\xe9*:\\x16\\xb49/n\\x8dP_T\\xa1`[\\\\^\\xd8\\x99\\t\\xaa\\xf7\\x14\\x98\\x8b\\xe9\\xc5;\\xd4\\xa5\\x99\\x90\\x96\\x8e\\x8f\\xb1\\x90x\\x7f\\xe9G\\xddzM\\xc3\\x88\\x99\\x96\\xd5Y\\xb6a\\xbe+\\xe7\\x97p\\xea\\xfd\\x83'\\x88\\xa5\\x07N\\x01\\xf2\""
       ]
      }
     ],
     "prompt_number": 547
    },
    {
     "cell_type": "code",
     "collapsed": true,
     "input": [
      "import os\n",
      "\n",
      "archive_name = os.path.expanduser(os.path.join('~', 'central'))\n",
      "root_dir = os.path.expanduser(os.path.join('~', 'central-test/central'))\n",
      "make_archive(archive_name, 'gztar', root_dir)"
     ],
     "language": "python",
     "metadata": {},
     "outputs": [
      {
       "metadata": {},
       "output_type": "pyout",
       "prompt_number": 548,
       "text": [
        "'/home/public/central.tar.gz'"
       ]
      }
     ],
     "prompt_number": 548
    },
    {
     "cell_type": "code",
     "collapsed": true,
     "input": [
      "shutil.copyfile('/home/public/central.tar.gz', '/home/public/central-test/whaihanga-early-learning-centre/test.tar.gz')"
     ],
     "language": "python",
     "metadata": {},
     "outputs": [],
     "prompt_number": 549
    },
    {
     "cell_type": "code",
     "collapsed": true,
     "input": [
      "cendict"
     ],
     "language": "python",
     "metadata": {},
     "outputs": [
      {
       "metadata": {},
       "output_type": "pyout",
       "prompt_number": 555,
       "text": [
        "{}"
       ]
      }
     ],
     "prompt_number": 555
    },
    {
     "cell_type": "markdown",
     "metadata": {},
     "source": [
      "Parse the blog, because - why not?"
     ]
    },
    {
     "cell_type": "code",
     "collapsed": false,
     "input": [
      "import feedparser"
     ],
     "language": "python",
     "metadata": {},
     "outputs": [],
     "prompt_number": 588
    },
    {
     "cell_type": "code",
     "collapsed": false,
     "input": [
      "cenblog = feedparser.parse('http://feeds.feedburner.com/CentralKidsKindergartens')"
     ],
     "language": "python",
     "metadata": {},
     "outputs": [],
     "prompt_number": 589
    },
    {
     "cell_type": "code",
     "collapsed": false,
     "input": [
      "http://feeds.feedburner.com/CentralKidsKindergartens"
     ],
     "language": "python",
     "metadata": {},
     "outputs": []
    },
    {
     "cell_type": "code",
     "collapsed": false,
     "input": [
      "lenblog = len(cenblog['entries'])"
     ],
     "language": "python",
     "metadata": {},
     "outputs": [],
     "prompt_number": 596
    },
    {
     "cell_type": "code",
     "collapsed": false,
     "input": [
      "lenblog"
     ],
     "language": "python",
     "metadata": {},
     "outputs": [
      {
       "metadata": {},
       "output_type": "pyout",
       "prompt_number": 597,
       "text": [
        "10"
       ]
      }
     ],
     "prompt_number": 597
    },
    {
     "cell_type": "markdown",
     "metadata": {},
     "source": [
      "I want to write the blog posts to html file with dominate. \n",
      "it needs to take the print cen['title', ['updated'], ['summary_details'] etc... and make it be be formated nice in html."
     ]
    },
    {
     "cell_type": "code",
     "collapsed": false,
     "input": [
      "blogplz = dominate.document(title='Centre Kids News')\n",
      "\n",
      "with doc.head:\n",
      "    link(rel='stylesheet', href='style.css')\n",
      "    script(type='text/javascript', src='script.js')\n",
      "\n",
      "with blogplz:\n",
      "    with div(id='header').add(ol()):\n",
      "        for cen in cenblog['entries']:\n",
      "            #print cen\n",
      "            print cen['title']\n",
      "            li(a(cen['title'](), href='/%s.html' % cen['title']))\n",
      "            print cen['updated']\n",
      "            li(a(cen['updated'](), href='/%s.html' % cen['updated']))\n",
      "            print cen['summary_detail']['value']\n",
      "            li(a(cen['summary_detail'](), href='/%s.html' % cen['summary_detail']))\n",
      "            print cen['author']\n",
      "            li(a(cen['author'](), href='/%s.html' % cen['author']))\n",
      "        #for i in ['home', 'about', 'contact']:\n",
      "        #    li(a(i.title(), href='/%s.html' % i))\n",
      "\n",
      "    with div():\n",
      "        attr(cls='body')\n",
      "        p('Lorem ipsum..')\n",
      "\n",
      "print blogplz"
     ],
     "language": "python",
     "metadata": {},
     "outputs": [
      {
       "output_type": "stream",
       "stream": "stdout",
       "text": [
        "Did You Know?\n"
       ]
      },
      {
       "ename": "TypeError",
       "evalue": "'unicode' object is not callable",
       "output_type": "pyerr",
       "traceback": [
        "\u001b[1;31m---------------------------------------------------------------------------\u001b[0m\n\u001b[1;31mTypeError\u001b[0m                                 Traceback (most recent call last)",
        "\u001b[1;32m<ipython-input-637-74929c038431>\u001b[0m in \u001b[0;36m<module>\u001b[1;34m()\u001b[0m\n\u001b[0;32m     10\u001b[0m             \u001b[1;31m#print cen\u001b[0m\u001b[1;33m\u001b[0m\u001b[1;33m\u001b[0m\u001b[0m\n\u001b[0;32m     11\u001b[0m             \u001b[1;32mprint\u001b[0m \u001b[0mcen\u001b[0m\u001b[1;33m[\u001b[0m\u001b[1;34m'title'\u001b[0m\u001b[1;33m]\u001b[0m\u001b[1;33m\u001b[0m\u001b[0m\n\u001b[1;32m---> 12\u001b[1;33m             \u001b[0mli\u001b[0m\u001b[1;33m(\u001b[0m\u001b[0ma\u001b[0m\u001b[1;33m(\u001b[0m\u001b[0mcen\u001b[0m\u001b[1;33m[\u001b[0m\u001b[1;34m'title'\u001b[0m\u001b[1;33m]\u001b[0m\u001b[1;33m(\u001b[0m\u001b[1;33m)\u001b[0m\u001b[1;33m,\u001b[0m \u001b[0mhref\u001b[0m\u001b[1;33m=\u001b[0m\u001b[1;34m'/%s.html'\u001b[0m \u001b[1;33m%\u001b[0m \u001b[0mcen\u001b[0m\u001b[1;33m[\u001b[0m\u001b[1;34m'title'\u001b[0m\u001b[1;33m]\u001b[0m\u001b[1;33m)\u001b[0m\u001b[1;33m)\u001b[0m\u001b[1;33m\u001b[0m\u001b[0m\n\u001b[0m\u001b[0;32m     13\u001b[0m             \u001b[1;32mprint\u001b[0m \u001b[0mcen\u001b[0m\u001b[1;33m[\u001b[0m\u001b[1;34m'updated'\u001b[0m\u001b[1;33m]\u001b[0m\u001b[1;33m\u001b[0m\u001b[0m\n\u001b[0;32m     14\u001b[0m             \u001b[0mli\u001b[0m\u001b[1;33m(\u001b[0m\u001b[0ma\u001b[0m\u001b[1;33m(\u001b[0m\u001b[0mcen\u001b[0m\u001b[1;33m[\u001b[0m\u001b[1;34m'updated'\u001b[0m\u001b[1;33m]\u001b[0m\u001b[1;33m(\u001b[0m\u001b[1;33m)\u001b[0m\u001b[1;33m,\u001b[0m \u001b[0mhref\u001b[0m\u001b[1;33m=\u001b[0m\u001b[1;34m'/%s.html'\u001b[0m \u001b[1;33m%\u001b[0m \u001b[0mcen\u001b[0m\u001b[1;33m[\u001b[0m\u001b[1;34m'updated'\u001b[0m\u001b[1;33m]\u001b[0m\u001b[1;33m)\u001b[0m\u001b[1;33m)\u001b[0m\u001b[1;33m\u001b[0m\u001b[0m\n",
        "\u001b[1;31mTypeError\u001b[0m: 'unicode' object is not callable"
       ]
      }
     ],
     "prompt_number": 637
    },
    {
     "cell_type": "code",
     "collapsed": false,
     "input": [
      "tilis = []"
     ],
     "language": "python",
     "metadata": {},
     "outputs": [],
     "prompt_number": 621
    },
    {
     "cell_type": "code",
     "collapsed": false,
     "input": [
      "tilis"
     ],
     "language": "python",
     "metadata": {},
     "outputs": [
      {
       "metadata": {},
       "output_type": "pyout",
       "prompt_number": 623,
       "text": [
        "[u'Did You Know?',\n",
        " u'Sun, 13 Jul 2014 22:34:42 +0000',\n",
        " u'Play is the highest expression of human development in childhood, for it alone is the free expression of what is in a child&#8217;s soul. Frederick Froebel',\n",
        " u'Central Kids',\n",
        " u'New operating hours for Central Kids Mill Crescent',\n",
        " u'Sun, 18 May 2014 23:25:45 +0000',\n",
        " u'As of Wednesday, 21st May 2014 Central Kids Mill Crescent in Matamata will be offering a 6 hour session every Wednesday. Our hours will be Monday to Friday 8.45am &#8211; 2.45pm. This change has come about through feedback from a &#8230; <a href=\"http://centralkids.org.nz/blog/new-operating-hours-central-kids-mill-crescent/\">Continue reading <span class=\"meta-nav\">&#8594;</span></a>',\n",
        " u'Central Kids',\n",
        " u'Kia Tiaho \\u2013 P\\u0101nui #8, April 2014',\n",
        " u'Sun, 27 Apr 2014 23:12:58 +0000',\n",
        " u'To read the latest issue of Kia Tiaho, bringing our news and views to light \\u2013\\xa0Click here Features articles from: Roma Angel-Verlinden &#124; Central Kids Reporoa Central Kids Balmoral Central Kids Otorohanga Plus more\\u2026\\u2026\\u2026\\u2026..',\n",
        " u'Central Kids',\n",
        " u'Administrative Professionals Day',\n",
        " u'Tue, 15 Apr 2014 20:58:31 +0000',\n",
        " u'Central Kids would like to thank all of our Administrators for their hard work throughout the year. We appreciate your positive approach and your attention to detail; you make a real contribution to our organisation. Thank you for all that &#8230; <a href=\"http://centralkids.org.nz/blog/administrative-professionals-day/\">Continue reading <span class=\"meta-nav\">&#8594;</span></a>',\n",
        " u'Central Kids',\n",
        " u'Holi Celebrations \\u2013 the festival of colours',\n",
        " u'Tue, 08 Apr 2014 02:14:31 +0000',\n",
        " u'One of our Indian families asked if they could share the celebration of Holi with the children at kindergarten. They said it was a fun experience where we could paint faces with powder paint and wish joy upon each other. &#8230; <a href=\"http://centralkids.org.nz/blog/holi-celebrations-festival-colours/\">Continue reading <span class=\"meta-nav\">&#8594;</span></a>',\n",
        " u'Central Kids',\n",
        " u'New Graduate in Head Office',\n",
        " u'Mon, 31 Mar 2014 22:57:38 +0000',\n",
        " u'Congratulations to Jenny Perry who recently graduated with the Diploma of Landscaping from WINTEC. Jenny is Planning Assistant to Barbara Lingard and she assists with playground plan drawing and auditing.\\xa0 She completed her diploma over the past 4 years as &#8230; <a href=\"http://centralkids.org.nz/blog/new-grad/\">Continue reading <span class=\"meta-nav\">&#8594;</span></a>',\n",
        " u'Central Kids',\n",
        " u'Exciting news for three Rotorua kindergartens',\n",
        " u'Mon, 24 Mar 2014 20:09:23 +0000',\n",
        " u'Recently families and\\xa0wh\\u0101nau from three Rotorua kindergartens; Central Kids Homedale, Helen Downer and\\xa0Ngongotah\\u0101\\xa0were surveyed on their opening hours. The response was that the majority wanted extended hours on Wednesdays. \\xa0To meet the needs of our communities we are happy to &#8230; <a href=\"http://centralkids.org.nz/blog/exciting-new-three-rotorua-kindergartens/\">Continue reading <span class=\"meta-nav\">&#8594;</span></a>',\n",
        " u'Central Kids',\n",
        " u'New operating hours for Central Kids Tairua',\n",
        " u'Mon, 17 Mar 2014 21:37:47 +0000',\n",
        " u'Last year we surveyed our families and wh\\u0101nau on our opening hours.\\xa0 The response was, the majority of families wanted extended hours on Wednesday and for us to remain open during the term breaks. To meet the needs of our &#8230; <a href=\"http://centralkids.org.nz/blog/new-operating-hours-central-kids-tairua/\">Continue reading <span class=\"meta-nav\">&#8594;</span></a>',\n",
        " u'Central Kids',\n",
        " u'Head Office welcomes Alison Flutey',\n",
        " u'Wed, 12 Mar 2014 03:17:15 +0000',\n",
        " u'Kia Ora I\\u2019m Alison Flutey \\u2013 I have been seconded to be an incredible Years Facilitator for Central Kids. I\\u2019ve been kindergarten teaching for approximately 25 years and have been a Head Teacher since 2007 at Central Kids David Henry &#8230; <a href=\"http://centralkids.org.nz/blog/head-office-welcomes-alison-flutey/\">Continue reading <span class=\"meta-nav\">&#8594;</span></a>',\n",
        " u'Central Kids',\n",
        " u'National Children\\u2019s Day is\\u2026\\u2026\\u2026\\u2026',\n",
        " u'Thu, 27 Feb 2014 23:57:44 +0000',\n",
        " u'National Children&#8217;s Day is Ice Cream Day for Central Kids Huntly West. National Children\\u2019s Day is the first Sunday of March. So today we celebrated it by having ice cream as a treat for the kids. We did not buy &#8230; <a href=\"http://centralkids.org.nz/blog/national-childrens-day/\">Continue reading <span class=\"meta-nav\">&#8594;</span></a>',\n",
        " u'Central Kids']"
       ]
      }
     ],
     "prompt_number": 623
    },
    {
     "cell_type": "code",
     "collapsed": false,
     "input": [
      "with allcent:\n",
      "    with div(id='header').add(ol()):\n",
      "        for i in listen:\n",
      "            li(a(i.title(), href='/%s' % i))\n",
      "\n",
      "    with div():\n",
      "        attr(cls='body')\n",
      "        #p(str(pcent))\n",
      "        for cen in cenblog['entries']:\n",
      "            #print cen\n",
      "            print cen['title']\n",
      "            tilis.append(cen['title'])\n",
      "            print cen['updated']\n",
      "            tilis.append(cen['updated'])\n",
      "            print cen['summary_detail']['value']\n",
      "            tilis.append(cen['summary_detail']['value'])\n",
      "            print cen['author']\n",
      "            tilis.append(cen['author'])\n",
      "\n",
      "    #print cen['value']\n",
      "        #p(str(pcent))\n",
      "        \n",
      "    with div():\n",
      "        fo"
     ],
     "language": "python",
     "metadata": {},
     "outputs": [
      {
       "output_type": "stream",
       "stream": "stdout",
       "text": [
        "Did You Know?\n",
        "Sun, 13 Jul 2014 22:34:42 +0000\n",
        "Play is the highest expression of human development in childhood, for it alone is the free expression of what is in a child&#8217;s soul. Frederick Froebel\n",
        "Central Kids\n",
        "New operating hours for Central Kids Mill Crescent\n",
        "Sun, 18 May 2014 23:25:45 +0000\n",
        "As of Wednesday, 21st May 2014 Central Kids Mill Crescent in Matamata will be offering a 6 hour session every Wednesday. Our hours will be Monday to Friday 8.45am &#8211; 2.45pm. This change has come about through feedback from a &#8230; <a href=\"http://centralkids.org.nz/blog/new-operating-hours-central-kids-mill-crescent/\">Continue reading <span class=\"meta-nav\">&#8594;</span></a>\n",
        "Central Kids\n",
        "Kia Tiaho \u2013 P\u0101nui #8, April 2014\n",
        "Sun, 27 Apr 2014 23:12:58 +0000\n",
        "To read the latest issue of Kia Tiaho, bringing our news and views to light \u2013\u00a0Click here Features articles from: Roma Angel-Verlinden &#124; Central Kids Reporoa Central Kids Balmoral Central Kids Otorohanga Plus more\u2026\u2026\u2026\u2026..\n",
        "Central Kids\n",
        "Administrative Professionals Day\n",
        "Tue, 15 Apr 2014 20:58:31 +0000\n",
        "Central Kids would like to thank all of our Administrators for their hard work throughout the year. We appreciate your positive approach and your attention to detail; you make a real contribution to our organisation. Thank you for all that &#8230; <a href=\"http://centralkids.org.nz/blog/administrative-professionals-day/\">Continue reading <span class=\"meta-nav\">&#8594;</span></a>\n",
        "Central Kids\n",
        "Holi Celebrations \u2013 the festival of colours\n",
        "Tue, 08 Apr 2014 02:14:31 +0000\n",
        "One of our Indian families asked if they could share the celebration of Holi with the children at kindergarten. They said it was a fun experience where we could paint faces with powder paint and wish joy upon each other. &#8230; <a href=\"http://centralkids.org.nz/blog/holi-celebrations-festival-colours/\">Continue reading <span class=\"meta-nav\">&#8594;</span></a>\n",
        "Central Kids\n",
        "New Graduate in Head Office\n",
        "Mon, 31 Mar 2014 22:57:38 +0000\n",
        "Congratulations to Jenny Perry who recently graduated with the Diploma of Landscaping from WINTEC. Jenny is Planning Assistant to Barbara Lingard and she assists with playground plan drawing and auditing.\u00a0 She completed her diploma over the past 4 years as &#8230; <a href=\"http://centralkids.org.nz/blog/new-grad/\">Continue reading <span class=\"meta-nav\">&#8594;</span></a>\n",
        "Central Kids\n",
        "Exciting news for three Rotorua kindergartens\n",
        "Mon, 24 Mar 2014 20:09:23 +0000\n",
        "Recently families and\u00a0wh\u0101nau from three Rotorua kindergartens; Central Kids Homedale, Helen Downer and\u00a0Ngongotah\u0101\u00a0were surveyed on their opening hours. The response was that the majority wanted extended hours on Wednesdays. \u00a0To meet the needs of our communities we are happy to &#8230; <a href=\"http://centralkids.org.nz/blog/exciting-new-three-rotorua-kindergartens/\">Continue reading <span class=\"meta-nav\">&#8594;</span></a>\n",
        "Central Kids\n",
        "New operating hours for Central Kids Tairua\n",
        "Mon, 17 Mar 2014 21:37:47 +0000\n",
        "Last year we surveyed our families and wh\u0101nau on our opening hours.\u00a0 The response was, the majority of families wanted extended hours on Wednesday and for us to remain open during the term breaks. To meet the needs of our &#8230; <a href=\"http://centralkids.org.nz/blog/new-operating-hours-central-kids-tairua/\">Continue reading <span class=\"meta-nav\">&#8594;</span></a>\n",
        "Central Kids\n",
        "Head Office welcomes Alison Flutey\n",
        "Wed, 12 Mar 2014 03:17:15 +0000\n",
        "Kia Ora I\u2019m Alison Flutey \u2013 I have been seconded to be an incredible Years Facilitator for Central Kids. I\u2019ve been kindergarten teaching for approximately 25 years and have been a Head Teacher since 2007 at Central Kids David Henry &#8230; <a href=\"http://centralkids.org.nz/blog/head-office-welcomes-alison-flutey/\">Continue reading <span class=\"meta-nav\">&#8594;</span></a>\n",
        "Central Kids\n",
        "National Children\u2019s Day is\u2026\u2026\u2026\u2026\n",
        "Thu, 27 Feb 2014 23:57:44 +0000\n",
        "National Children&#8217;s Day is Ice Cream Day for Central Kids Huntly West. National Children\u2019s Day is the first Sunday of March. So today we celebrated it by having ice cream as a treat for the kids. We did not buy &#8230; <a href=\"http://centralkids.org.nz/blog/national-childrens-day/\">Continue reading <span class=\"meta-nav\">&#8594;</span></a>\n",
        "Central Kids\n"
       ]
      },
      {
       "ename": "NameError",
       "evalue": "name 'fo' is not defined",
       "output_type": "pyerr",
       "traceback": [
        "\u001b[1;31m---------------------------------------------------------------------------\u001b[0m\n\u001b[1;31mNameError\u001b[0m                                 Traceback (most recent call last)",
        "\u001b[1;32m<ipython-input-622-2be207d1d2b8>\u001b[0m in \u001b[0;36m<module>\u001b[1;34m()\u001b[0m\n\u001b[0;32m     22\u001b[0m \u001b[1;33m\u001b[0m\u001b[0m\n\u001b[0;32m     23\u001b[0m     \u001b[1;32mwith\u001b[0m \u001b[0mdiv\u001b[0m\u001b[1;33m(\u001b[0m\u001b[1;33m)\u001b[0m\u001b[1;33m:\u001b[0m\u001b[1;33m\u001b[0m\u001b[0m\n\u001b[1;32m---> 24\u001b[1;33m         \u001b[0mfo\u001b[0m\u001b[1;33m\u001b[0m\u001b[0m\n\u001b[0m",
        "\u001b[1;31mNameError\u001b[0m: name 'fo' is not defined"
       ]
      }
     ],
     "prompt_number": 622
    },
    {
     "cell_type": "code",
     "collapsed": false,
     "input": [
      "def getallpost():\n",
      "    for cen in cenblog['entries']:\n",
      "        #print cen\n",
      "        print cen['title']\n",
      "        print cen['updated']\n",
      "        print cen['summary_detail']['value']\n",
      "        print cen['author']\n",
      "\n",
      "    #print cen['value']"
     ],
     "language": "python",
     "metadata": {},
     "outputs": [],
     "prompt_number": 638
    },
    {
     "cell_type": "code",
     "collapsed": false,
     "input": [
      "ls"
     ],
     "language": "python",
     "metadata": {},
     "outputs": [
      {
       "output_type": "stream",
       "stream": "stdout",
       "text": [
        "\u001b[0m\u001b[01;34mapanui-kindergarten\u001b[0m/                 \u001b[01;34mmorrinsville-kindergarten\u001b[0m/\r\n",
        "\u001b[01;34marohanui-kindergarten\u001b[0m/               \u001b[01;34mnga-ririki-early-learning-centre\u001b[0m/\r\n",
        "\u001b[01;34mbalmoral-kindergarten\u001b[0m/               \u001b[01;34mngatea-kindergarten\u001b[0m/\r\n",
        "\u001b[01;34mcentral\u001b[0m/                             \u001b[01;34mngongotaha-kindergarten\u001b[0m/\r\n",
        "\u001b[01;34mcharles-kindergarten\u001b[0m/                \u001b[01;34mnorthwood-kindergarten\u001b[0m/\r\n",
        "\u001b[01;34mclyde-street-kindergarten\u001b[0m/           \u001b[01;34mopotiki-kindergarten\u001b[0m/\r\n",
        "\u001b[01;34mdavid-henry-kindergarten\u001b[0m/            \u001b[01;34motorohanga-kindergarten\u001b[0m/\r\n",
        "\u001b[01;34mdinsdale-early-learning-centre\u001b[0m/      \u001b[01;34mowhata-kindergarten\u001b[0m/\r\n",
        "\u001b[01;34mearly-learning-centres\u001b[0m/              \u001b[01;34mpaeroa-kindergarten\u001b[0m/\r\n",
        "\u001b[01;34medgecumbe-kindergarten\u001b[0m/              \u001b[01;34mparaone-kindergarten\u001b[0m/\r\n",
        "\u001b[01;34melstree-kindergarten\u001b[0m/                \u001b[01;34mparaonui-kindergarten\u001b[0m/\r\n",
        "\u001b[01;34mfairview-park-kindergarten\u001b[0m/          \u001b[01;34mputauaki-kindergarten\u001b[0m/\r\n",
        "\u001b[01;34mfordlands-kindergarten\u001b[0m/              \u001b[01;34mrawhiti-kindergarten\u001b[0m/\r\n",
        "\u001b[01;34mgaraway-kindergarten\u001b[0m/                \u001b[01;34mreporoa-kindergarten\u001b[0m/\r\n",
        "\u001b[01;34mglenshea-kindergarten\u001b[0m/               \u001b[01;34mrewi-street-kindergarten\u001b[0m/\r\n",
        "\u001b[01;34mgolden-sands-early-learning-centre\u001b[0m/  \u001b[01;34mrotorua-east-kindergarten\u001b[0m/\r\n",
        "\u001b[01;34mhazelmere-kindergarten\u001b[0m/              \u001b[01;34mrushton-road-kindergarten\u001b[0m/\r\n",
        "\u001b[01;34mhelen-downer-kindergarten\u001b[0m/           \u001b[01;34mselwyn-kindergarten\u001b[0m/\r\n",
        "\u001b[01;34mhinemoa-kindergarten\u001b[0m/                \u001b[01;34mstrathmore-kindergarten\u001b[0m/\r\n",
        "\u001b[01;34mhomedale-kindergarten\u001b[0m/               \u001b[01;34mtairua-kindergarten\u001b[0m/\r\n",
        "\u001b[01;34mhuntly-kindergarten\u001b[0m/                 \u001b[01;34mtarrangower-kindergarten\u001b[0m/\r\n",
        "\u001b[01;34mhuntly-west-kindergarten\u001b[0m/            \u001b[01;34mtaumarunui-early-learning-centre\u001b[0m/\r\n",
        "\u001b[01;34mimgs\u001b[0m/                                \u001b[01;34mte-akoranga-kindergarten\u001b[0m/\r\n",
        "\u001b[01;34mjackson-park-kindergarten\u001b[0m/           \u001b[01;34mte-kuiti-kindergarten\u001b[0m/\r\n",
        "\u001b[01;34mkihikihi-kindergarten\u001b[0m/               test.html\r\n",
        "\u001b[01;34mkindergartens\u001b[0m/                       \u001b[01;34mthames-kindergarten\u001b[0m/\r\n",
        "\u001b[01;34mlaughton-kindergarten\u001b[0m/               \u001b[01;34mtokoroa-early-learning-centre\u001b[0m/\r\n",
        "\u001b[01;34mmatata-early-learning-centre\u001b[0m/        \u001b[01;34mturangi-kindergarten\u001b[0m/\r\n",
        "\u001b[01;34mmercury-bay-kindergarten\u001b[0m/            \u001b[01;34mwaipahihi-kindergarten\u001b[0m/\r\n",
        "\u001b[01;34mmill-crescent-kindergarten\u001b[0m/          \u001b[01;34mwhaihanga-early-learning-centre\u001b[0m/\r\n",
        "\u001b[01;34mmorrinsville-early-learning-centre\u001b[0m/\r\n"
       ]
      }
     ],
     "prompt_number": 644
    },
    {
     "cell_type": "code",
     "collapsed": false,
     "input": [
      "getallpost() y"
     ],
     "language": "python",
     "metadata": {},
     "outputs": [
      {
       "output_type": "stream",
       "stream": "stdout",
       "text": [
        "Did You Know?\n",
        "Sun, 13 Jul 2014 22:34:42 +0000\n",
        "Play is the highest expression of human development in childhood, for it alone is the free expression of what is in a child&#8217;s soul. Frederick Froebel\n",
        "Central Kids\n",
        "New operating hours for Central Kids Mill Crescent\n",
        "Sun, 18 May 2014 23:25:45 +0000\n",
        "As of Wednesday, 21st May 2014 Central Kids Mill Crescent in Matamata will be offering a 6 hour session every Wednesday. Our hours will be Monday to Friday 8.45am &#8211; 2.45pm. This change has come about through feedback from a &#8230; <a href=\"http://centralkids.org.nz/blog/new-operating-hours-central-kids-mill-crescent/\">Continue reading <span class=\"meta-nav\">&#8594;</span></a>\n",
        "Central Kids\n",
        "Kia Tiaho \u2013 P\u0101nui #8, April 2014\n",
        "Sun, 27 Apr 2014 23:12:58 +0000\n",
        "To read the latest issue of Kia Tiaho, bringing our news and views to light \u2013\u00a0Click here Features articles from: Roma Angel-Verlinden &#124; Central Kids Reporoa Central Kids Balmoral Central Kids Otorohanga Plus more\u2026\u2026\u2026\u2026..\n",
        "Central Kids\n",
        "Administrative Professionals Day\n",
        "Tue, 15 Apr 2014 20:58:31 +0000\n",
        "Central Kids would like to thank all of our Administrators for their hard work throughout the year. We appreciate your positive approach and your attention to detail; you make a real contribution to our organisation. Thank you for all that &#8230; <a href=\"http://centralkids.org.nz/blog/administrative-professionals-day/\">Continue reading <span class=\"meta-nav\">&#8594;</span></a>\n",
        "Central Kids\n",
        "Holi Celebrations \u2013 the festival of colours\n",
        "Tue, 08 Apr 2014 02:14:31 +0000\n",
        "One of our Indian families asked if they could share the celebration of Holi with the children at kindergarten. They said it was a fun experience where we could paint faces with powder paint and wish joy upon each other. &#8230; <a href=\"http://centralkids.org.nz/blog/holi-celebrations-festival-colours/\">Continue reading <span class=\"meta-nav\">&#8594;</span></a>\n",
        "Central Kids\n",
        "New Graduate in Head Office\n",
        "Mon, 31 Mar 2014 22:57:38 +0000\n",
        "Congratulations to Jenny Perry who recently graduated with the Diploma of Landscaping from WINTEC. Jenny is Planning Assistant to Barbara Lingard and she assists with playground plan drawing and auditing.\u00a0 She completed her diploma over the past 4 years as &#8230; <a href=\"http://centralkids.org.nz/blog/new-grad/\">Continue reading <span class=\"meta-nav\">&#8594;</span></a>\n",
        "Central Kids\n",
        "Exciting news for three Rotorua kindergartens\n",
        "Mon, 24 Mar 2014 20:09:23 +0000\n",
        "Recently families and\u00a0wh\u0101nau from three Rotorua kindergartens; Central Kids Homedale, Helen Downer and\u00a0Ngongotah\u0101\u00a0were surveyed on their opening hours. The response was that the majority wanted extended hours on Wednesdays. \u00a0To meet the needs of our communities we are happy to &#8230; <a href=\"http://centralkids.org.nz/blog/exciting-new-three-rotorua-kindergartens/\">Continue reading <span class=\"meta-nav\">&#8594;</span></a>\n",
        "Central Kids\n",
        "New operating hours for Central Kids Tairua\n",
        "Mon, 17 Mar 2014 21:37:47 +0000\n",
        "Last year we surveyed our families and wh\u0101nau on our opening hours.\u00a0 The response was, the majority of families wanted extended hours on Wednesday and for us to remain open during the term breaks. To meet the needs of our &#8230; <a href=\"http://centralkids.org.nz/blog/new-operating-hours-central-kids-tairua/\">Continue reading <span class=\"meta-nav\">&#8594;</span></a>\n",
        "Central Kids\n",
        "Head Office welcomes Alison Flutey\n",
        "Wed, 12 Mar 2014 03:17:15 +0000\n",
        "Kia Ora I\u2019m Alison Flutey \u2013 I have been seconded to be an incredible Years Facilitator for Central Kids. I\u2019ve been kindergarten teaching for approximately 25 years and have been a Head Teacher since 2007 at Central Kids David Henry &#8230; <a href=\"http://centralkids.org.nz/blog/head-office-welcomes-alison-flutey/\">Continue reading <span class=\"meta-nav\">&#8594;</span></a>\n",
        "Central Kids\n",
        "National Children\u2019s Day is\u2026\u2026\u2026\u2026\n",
        "Thu, 27 Feb 2014 23:57:44 +0000\n",
        "National Children&#8217;s Day is Ice Cream Day for Central Kids Huntly West. National Children\u2019s Day is the first Sunday of March. So today we celebrated it by having ice cream as a treat for the kids. We did not buy &#8230; <a href=\"http://centralkids.org.nz/blog/national-childrens-day/\">Continue reading <span class=\"meta-nav\">&#8594;</span></a>\n",
        "Central Kids\n"
       ]
      },
      {
       "ename": "NameError",
       "evalue": "name 'blogtest' is not defined",
       "output_type": "pyerr",
       "traceback": [
        "\u001b[1;31m---------------------------------------------------------------------------\u001b[0m\n\u001b[1;31mNameError\u001b[0m                                 Traceback (most recent call last)",
        "\u001b[1;32m<ipython-input-645-bb11d5dcad2a>\u001b[0m in \u001b[0;36m<module>\u001b[1;34m()\u001b[0m\n\u001b[1;32m----> 1\u001b[1;33m \u001b[0mgetallpost\u001b[0m\u001b[1;33m(\u001b[0m\u001b[1;33m)\u001b[0m \u001b[1;33m>\u001b[0m \u001b[0mblogtest\u001b[0m\u001b[1;33m\u001b[0m\u001b[0m\n\u001b[0m",
        "\u001b[1;31mNameError\u001b[0m: name 'blogtest' is not defined"
       ]
      }
     ],
     "prompt_number": 645
    },
    {
     "cell_type": "code",
     "collapsed": false,
     "input": [
      "cenblog['entries']"
     ],
     "language": "python",
     "metadata": {},
     "outputs": [
      {
       "metadata": {},
       "output_type": "pyout",
       "prompt_number": 598,
       "text": [
        "[{'author': u'Central Kids',\n",
        "  'author_detail': {'name': u'Central Kids'},\n",
        "  'authors': [{}],\n",
        "  'comments': u'http://centralkids.org.nz/blog/know/#comments',\n",
        "  'guidislink': False,\n",
        "  'id': u'http://centralkids.org.nz/?p=2164',\n",
        "  'link': u'http://centralkids.org.nz/blog/know/',\n",
        "  'links': [{'href': u'http://centralkids.org.nz/blog/know/',\n",
        "    'rel': u'alternate',\n",
        "    'type': u'text/html'}],\n",
        "  'slash_comments': u'0',\n",
        "  'summary': u'Play is the highest expression of human development in childhood, for it alone is the free expression of what is in a child&#8217;s soul. Frederick Froebel',\n",
        "  'summary_detail': {'base': u'http://feeds.feedburner.com/CentralKidsKindergartens',\n",
        "   'language': None,\n",
        "   'type': u'text/html',\n",
        "   'value': u'Play is the highest expression of human development in childhood, for it alone is the free expression of what is in a child&#8217;s soul. Frederick Froebel'},\n",
        "  'tags': [{'label': None, 'scheme': None, 'term': u'General home page'}],\n",
        "  'title': u'Did You Know?',\n",
        "  'title_detail': {'base': u'http://feeds.feedburner.com/CentralKidsKindergartens',\n",
        "   'language': None,\n",
        "   'type': u'text/plain',\n",
        "   'value': u'Did You Know?'},\n",
        "  'updated': u'Sun, 13 Jul 2014 22:34:42 +0000',\n",
        "  'updated_parsed': time.struct_time(tm_year=2014, tm_mon=7, tm_mday=13, tm_hour=22, tm_min=34, tm_sec=42, tm_wday=6, tm_yday=194, tm_isdst=0),\n",
        "  'wfw_commentrss': u'http://centralkids.org.nz/blog/know/feed/'},\n",
        " {'author': u'Central Kids',\n",
        "  'author_detail': {'name': u'Central Kids'},\n",
        "  'authors': [{}],\n",
        "  'comments': u'http://centralkids.org.nz/blog/new-operating-hours-central-kids-mill-crescent/#comments',\n",
        "  'guidislink': False,\n",
        "  'id': u'http://centralkids.org.nz/?p=1982',\n",
        "  'link': u'http://centralkids.org.nz/blog/new-operating-hours-central-kids-mill-crescent/',\n",
        "  'links': [{'href': u'http://centralkids.org.nz/blog/new-operating-hours-central-kids-mill-crescent/',\n",
        "    'rel': u'alternate',\n",
        "    'type': u'text/html'}],\n",
        "  'slash_comments': u'0',\n",
        "  'summary': u'As of Wednesday, 21st May 2014 Central Kids Mill Crescent in Matamata will be offering a 6 hour session every Wednesday. Our hours will be Monday to Friday 8.45am &#8211; 2.45pm. This change has come about through feedback from a &#8230; <a href=\"http://centralkids.org.nz/blog/new-operating-hours-central-kids-mill-crescent/\">Continue reading <span class=\"meta-nav\">&#8594;</span></a>',\n",
        "  'summary_detail': {'base': u'http://feeds.feedburner.com/CentralKidsKindergartens',\n",
        "   'language': None,\n",
        "   'type': u'text/html',\n",
        "   'value': u'As of Wednesday, 21st May 2014 Central Kids Mill Crescent in Matamata will be offering a 6 hour session every Wednesday. Our hours will be Monday to Friday 8.45am &#8211; 2.45pm. This change has come about through feedback from a &#8230; <a href=\"http://centralkids.org.nz/blog/new-operating-hours-central-kids-mill-crescent/\">Continue reading <span class=\"meta-nav\">&#8594;</span></a>'},\n",
        "  'tags': [{'label': None, 'scheme': None, 'term': u'News'}],\n",
        "  'title': u'New operating hours for Central Kids Mill Crescent',\n",
        "  'title_detail': {'base': u'http://feeds.feedburner.com/CentralKidsKindergartens',\n",
        "   'language': None,\n",
        "   'type': u'text/plain',\n",
        "   'value': u'New operating hours for Central Kids Mill Crescent'},\n",
        "  'updated': u'Sun, 18 May 2014 23:25:45 +0000',\n",
        "  'updated_parsed': time.struct_time(tm_year=2014, tm_mon=5, tm_mday=18, tm_hour=23, tm_min=25, tm_sec=45, tm_wday=6, tm_yday=138, tm_isdst=0),\n",
        "  'wfw_commentrss': u'http://centralkids.org.nz/blog/new-operating-hours-central-kids-mill-crescent/feed/'},\n",
        " {'author': u'Central Kids',\n",
        "  'author_detail': {'name': u'Central Kids'},\n",
        "  'authors': [{}],\n",
        "  'comments': u'http://centralkids.org.nz/blog/kia-tiaho-panui-8-april-2014/#comments',\n",
        "  'guidislink': False,\n",
        "  'id': u'http://centralkids.org.nz/?p=1903',\n",
        "  'link': u'http://centralkids.org.nz/blog/kia-tiaho-panui-8-april-2014/',\n",
        "  'links': [{'href': u'http://centralkids.org.nz/blog/kia-tiaho-panui-8-april-2014/',\n",
        "    'rel': u'alternate',\n",
        "    'type': u'text/html'}],\n",
        "  'slash_comments': u'0',\n",
        "  'summary': u'To read the latest issue of Kia Tiaho, bringing our news and views to light \\u2013\\xa0Click here Features articles from: Roma Angel-Verlinden &#124; Central Kids Reporoa Central Kids Balmoral Central Kids Otorohanga Plus more\\u2026\\u2026\\u2026\\u2026..',\n",
        "  'summary_detail': {'base': u'http://feeds.feedburner.com/CentralKidsKindergartens',\n",
        "   'language': None,\n",
        "   'type': u'text/html',\n",
        "   'value': u'To read the latest issue of Kia Tiaho, bringing our news and views to light \\u2013\\xa0Click here Features articles from: Roma Angel-Verlinden &#124; Central Kids Reporoa Central Kids Balmoral Central Kids Otorohanga Plus more\\u2026\\u2026\\u2026\\u2026..'},\n",
        "  'tags': [{'label': None, 'scheme': None, 'term': u'News'}],\n",
        "  'title': u'Kia Tiaho \\u2013 P\\u0101nui #8, April 2014',\n",
        "  'title_detail': {'base': u'http://feeds.feedburner.com/CentralKidsKindergartens',\n",
        "   'language': None,\n",
        "   'type': u'text/plain',\n",
        "   'value': u'Kia Tiaho \\u2013 P\\u0101nui #8, April 2014'},\n",
        "  'updated': u'Sun, 27 Apr 2014 23:12:58 +0000',\n",
        "  'updated_parsed': time.struct_time(tm_year=2014, tm_mon=4, tm_mday=27, tm_hour=23, tm_min=12, tm_sec=58, tm_wday=6, tm_yday=117, tm_isdst=0),\n",
        "  'wfw_commentrss': u'http://centralkids.org.nz/blog/kia-tiaho-panui-8-april-2014/feed/'},\n",
        " {'author': u'Central Kids',\n",
        "  'author_detail': {'name': u'Central Kids'},\n",
        "  'authors': [{}],\n",
        "  'comments': u'http://centralkids.org.nz/blog/administrative-professionals-day/#comments',\n",
        "  'guidislink': False,\n",
        "  'id': u'http://centralkids.org.nz/?p=1887',\n",
        "  'link': u'http://centralkids.org.nz/blog/administrative-professionals-day/',\n",
        "  'links': [{'href': u'http://centralkids.org.nz/blog/administrative-professionals-day/',\n",
        "    'rel': u'alternate',\n",
        "    'type': u'text/html'}],\n",
        "  'slash_comments': u'0',\n",
        "  'summary': u'Central Kids would like to thank all of our Administrators for their hard work throughout the year. We appreciate your positive approach and your attention to detail; you make a real contribution to our organisation. Thank you for all that &#8230; <a href=\"http://centralkids.org.nz/blog/administrative-professionals-day/\">Continue reading <span class=\"meta-nav\">&#8594;</span></a>',\n",
        "  'summary_detail': {'base': u'http://feeds.feedburner.com/CentralKidsKindergartens',\n",
        "   'language': None,\n",
        "   'type': u'text/html',\n",
        "   'value': u'Central Kids would like to thank all of our Administrators for their hard work throughout the year. We appreciate your positive approach and your attention to detail; you make a real contribution to our organisation. Thank you for all that &#8230; <a href=\"http://centralkids.org.nz/blog/administrative-professionals-day/\">Continue reading <span class=\"meta-nav\">&#8594;</span></a>'},\n",
        "  'tags': [{'label': None, 'scheme': None, 'term': u'News'}],\n",
        "  'title': u'Administrative Professionals Day',\n",
        "  'title_detail': {'base': u'http://feeds.feedburner.com/CentralKidsKindergartens',\n",
        "   'language': None,\n",
        "   'type': u'text/plain',\n",
        "   'value': u'Administrative Professionals Day'},\n",
        "  'updated': u'Tue, 15 Apr 2014 20:58:31 +0000',\n",
        "  'updated_parsed': time.struct_time(tm_year=2014, tm_mon=4, tm_mday=15, tm_hour=20, tm_min=58, tm_sec=31, tm_wday=1, tm_yday=105, tm_isdst=0),\n",
        "  'wfw_commentrss': u'http://centralkids.org.nz/blog/administrative-professionals-day/feed/'},\n",
        " {'author': u'Central Kids',\n",
        "  'author_detail': {'name': u'Central Kids'},\n",
        "  'authors': [{}],\n",
        "  'comments': u'http://centralkids.org.nz/blog/holi-celebrations-festival-colours/#comments',\n",
        "  'guidislink': False,\n",
        "  'id': u'http://centralkids.org.nz/?p=1864',\n",
        "  'link': u'http://centralkids.org.nz/blog/holi-celebrations-festival-colours/',\n",
        "  'links': [{'href': u'http://centralkids.org.nz/blog/holi-celebrations-festival-colours/',\n",
        "    'rel': u'alternate',\n",
        "    'type': u'text/html'}],\n",
        "  'slash_comments': u'0',\n",
        "  'summary': u'One of our Indian families asked if they could share the celebration of Holi with the children at kindergarten. They said it was a fun experience where we could paint faces with powder paint and wish joy upon each other. &#8230; <a href=\"http://centralkids.org.nz/blog/holi-celebrations-festival-colours/\">Continue reading <span class=\"meta-nav\">&#8594;</span></a>',\n",
        "  'summary_detail': {'base': u'http://feeds.feedburner.com/CentralKidsKindergartens',\n",
        "   'language': None,\n",
        "   'type': u'text/html',\n",
        "   'value': u'One of our Indian families asked if they could share the celebration of Holi with the children at kindergarten. They said it was a fun experience where we could paint faces with powder paint and wish joy upon each other. &#8230; <a href=\"http://centralkids.org.nz/blog/holi-celebrations-festival-colours/\">Continue reading <span class=\"meta-nav\">&#8594;</span></a>'},\n",
        "  'tags': [{'label': None, 'scheme': None, 'term': u'General home page'}],\n",
        "  'title': u'Holi Celebrations \\u2013 the festival of colours',\n",
        "  'title_detail': {'base': u'http://feeds.feedburner.com/CentralKidsKindergartens',\n",
        "   'language': None,\n",
        "   'type': u'text/plain',\n",
        "   'value': u'Holi Celebrations \\u2013 the festival of colours'},\n",
        "  'updated': u'Tue, 08 Apr 2014 02:14:31 +0000',\n",
        "  'updated_parsed': time.struct_time(tm_year=2014, tm_mon=4, tm_mday=8, tm_hour=2, tm_min=14, tm_sec=31, tm_wday=1, tm_yday=98, tm_isdst=0),\n",
        "  'wfw_commentrss': u'http://centralkids.org.nz/blog/holi-celebrations-festival-colours/feed/'},\n",
        " {'author': u'Central Kids',\n",
        "  'author_detail': {'name': u'Central Kids'},\n",
        "  'authors': [{}],\n",
        "  'comments': u'http://centralkids.org.nz/blog/new-grad/#comments',\n",
        "  'guidislink': False,\n",
        "  'id': u'http://centralkids.org.nz/?p=1836',\n",
        "  'link': u'http://centralkids.org.nz/blog/new-grad/',\n",
        "  'links': [{'href': u'http://centralkids.org.nz/blog/new-grad/',\n",
        "    'rel': u'alternate',\n",
        "    'type': u'text/html'}],\n",
        "  'slash_comments': u'0',\n",
        "  'summary': u'Congratulations to Jenny Perry who recently graduated with the Diploma of Landscaping from WINTEC. Jenny is Planning Assistant to Barbara Lingard and she assists with playground plan drawing and auditing.\\xa0 She completed her diploma over the past 4 years as &#8230; <a href=\"http://centralkids.org.nz/blog/new-grad/\">Continue reading <span class=\"meta-nav\">&#8594;</span></a>',\n",
        "  'summary_detail': {'base': u'http://feeds.feedburner.com/CentralKidsKindergartens',\n",
        "   'language': None,\n",
        "   'type': u'text/html',\n",
        "   'value': u'Congratulations to Jenny Perry who recently graduated with the Diploma of Landscaping from WINTEC. Jenny is Planning Assistant to Barbara Lingard and she assists with playground plan drawing and auditing.\\xa0 She completed her diploma over the past 4 years as &#8230; <a href=\"http://centralkids.org.nz/blog/new-grad/\">Continue reading <span class=\"meta-nav\">&#8594;</span></a>'},\n",
        "  'tags': [{'label': None, 'scheme': None, 'term': u'News'}],\n",
        "  'title': u'New Graduate in Head Office',\n",
        "  'title_detail': {'base': u'http://feeds.feedburner.com/CentralKidsKindergartens',\n",
        "   'language': None,\n",
        "   'type': u'text/plain',\n",
        "   'value': u'New Graduate in Head Office'},\n",
        "  'updated': u'Mon, 31 Mar 2014 22:57:38 +0000',\n",
        "  'updated_parsed': time.struct_time(tm_year=2014, tm_mon=3, tm_mday=31, tm_hour=22, tm_min=57, tm_sec=38, tm_wday=0, tm_yday=90, tm_isdst=0),\n",
        "  'wfw_commentrss': u'http://centralkids.org.nz/blog/new-grad/feed/'},\n",
        " {'author': u'Central Kids',\n",
        "  'author_detail': {'name': u'Central Kids'},\n",
        "  'authors': [{}],\n",
        "  'comments': u'http://centralkids.org.nz/blog/exciting-new-three-rotorua-kindergartens/#comments',\n",
        "  'guidislink': False,\n",
        "  'id': u'http://centralkids.org.nz/?p=1794',\n",
        "  'link': u'http://centralkids.org.nz/blog/exciting-new-three-rotorua-kindergartens/',\n",
        "  'links': [{'href': u'http://centralkids.org.nz/blog/exciting-new-three-rotorua-kindergartens/',\n",
        "    'rel': u'alternate',\n",
        "    'type': u'text/html'}],\n",
        "  'slash_comments': u'0',\n",
        "  'summary': u'Recently families and\\xa0wh\\u0101nau from three Rotorua kindergartens; Central Kids Homedale, Helen Downer and\\xa0Ngongotah\\u0101\\xa0were surveyed on their opening hours. The response was that the majority wanted extended hours on Wednesdays. \\xa0To meet the needs of our communities we are happy to &#8230; <a href=\"http://centralkids.org.nz/blog/exciting-new-three-rotorua-kindergartens/\">Continue reading <span class=\"meta-nav\">&#8594;</span></a>',\n",
        "  'summary_detail': {'base': u'http://feeds.feedburner.com/CentralKidsKindergartens',\n",
        "   'language': None,\n",
        "   'type': u'text/html',\n",
        "   'value': u'Recently families and\\xa0wh\\u0101nau from three Rotorua kindergartens; Central Kids Homedale, Helen Downer and\\xa0Ngongotah\\u0101\\xa0were surveyed on their opening hours. The response was that the majority wanted extended hours on Wednesdays. \\xa0To meet the needs of our communities we are happy to &#8230; <a href=\"http://centralkids.org.nz/blog/exciting-new-three-rotorua-kindergartens/\">Continue reading <span class=\"meta-nav\">&#8594;</span></a>'},\n",
        "  'tags': [{'label': None, 'scheme': None, 'term': u'News'}],\n",
        "  'title': u'Exciting news for three Rotorua kindergartens',\n",
        "  'title_detail': {'base': u'http://feeds.feedburner.com/CentralKidsKindergartens',\n",
        "   'language': None,\n",
        "   'type': u'text/plain',\n",
        "   'value': u'Exciting news for three Rotorua kindergartens'},\n",
        "  'updated': u'Mon, 24 Mar 2014 20:09:23 +0000',\n",
        "  'updated_parsed': time.struct_time(tm_year=2014, tm_mon=3, tm_mday=24, tm_hour=20, tm_min=9, tm_sec=23, tm_wday=0, tm_yday=83, tm_isdst=0),\n",
        "  'wfw_commentrss': u'http://centralkids.org.nz/blog/exciting-new-three-rotorua-kindergartens/feed/'},\n",
        " {'author': u'Central Kids',\n",
        "  'author_detail': {'name': u'Central Kids'},\n",
        "  'authors': [{}],\n",
        "  'comments': u'http://centralkids.org.nz/blog/new-operating-hours-central-kids-tairua/#comments',\n",
        "  'guidislink': False,\n",
        "  'id': u'http://centralkids.org.nz/?p=1777',\n",
        "  'link': u'http://centralkids.org.nz/blog/new-operating-hours-central-kids-tairua/',\n",
        "  'links': [{'href': u'http://centralkids.org.nz/blog/new-operating-hours-central-kids-tairua/',\n",
        "    'rel': u'alternate',\n",
        "    'type': u'text/html'}],\n",
        "  'slash_comments': u'0',\n",
        "  'summary': u'Last year we surveyed our families and wh\\u0101nau on our opening hours.\\xa0 The response was, the majority of families wanted extended hours on Wednesday and for us to remain open during the term breaks. To meet the needs of our &#8230; <a href=\"http://centralkids.org.nz/blog/new-operating-hours-central-kids-tairua/\">Continue reading <span class=\"meta-nav\">&#8594;</span></a>',\n",
        "  'summary_detail': {'base': u'http://feeds.feedburner.com/CentralKidsKindergartens',\n",
        "   'language': None,\n",
        "   'type': u'text/html',\n",
        "   'value': u'Last year we surveyed our families and wh\\u0101nau on our opening hours.\\xa0 The response was, the majority of families wanted extended hours on Wednesday and for us to remain open during the term breaks. To meet the needs of our &#8230; <a href=\"http://centralkids.org.nz/blog/new-operating-hours-central-kids-tairua/\">Continue reading <span class=\"meta-nav\">&#8594;</span></a>'},\n",
        "  'tags': [{'label': None, 'scheme': None, 'term': u'News'}],\n",
        "  'title': u'New operating hours for Central Kids Tairua',\n",
        "  'title_detail': {'base': u'http://feeds.feedburner.com/CentralKidsKindergartens',\n",
        "   'language': None,\n",
        "   'type': u'text/plain',\n",
        "   'value': u'New operating hours for Central Kids Tairua'},\n",
        "  'updated': u'Mon, 17 Mar 2014 21:37:47 +0000',\n",
        "  'updated_parsed': time.struct_time(tm_year=2014, tm_mon=3, tm_mday=17, tm_hour=21, tm_min=37, tm_sec=47, tm_wday=0, tm_yday=76, tm_isdst=0),\n",
        "  'wfw_commentrss': u'http://centralkids.org.nz/blog/new-operating-hours-central-kids-tairua/feed/'},\n",
        " {'author': u'Central Kids',\n",
        "  'author_detail': {'name': u'Central Kids'},\n",
        "  'authors': [{}],\n",
        "  'comments': u'http://centralkids.org.nz/blog/head-office-welcomes-alison-flutey/#comments',\n",
        "  'guidislink': False,\n",
        "  'id': u'http://centralkids.org.nz/?p=1761',\n",
        "  'link': u'http://centralkids.org.nz/blog/head-office-welcomes-alison-flutey/',\n",
        "  'links': [{'href': u'http://centralkids.org.nz/blog/head-office-welcomes-alison-flutey/',\n",
        "    'rel': u'alternate',\n",
        "    'type': u'text/html'}],\n",
        "  'slash_comments': u'0',\n",
        "  'summary': u'Kia Ora I\\u2019m Alison Flutey \\u2013 I have been seconded to be an incredible Years Facilitator for Central Kids. I\\u2019ve been kindergarten teaching for approximately 25 years and have been a Head Teacher since 2007 at Central Kids David Henry &#8230; <a href=\"http://centralkids.org.nz/blog/head-office-welcomes-alison-flutey/\">Continue reading <span class=\"meta-nav\">&#8594;</span></a>',\n",
        "  'summary_detail': {'base': u'http://feeds.feedburner.com/CentralKidsKindergartens',\n",
        "   'language': None,\n",
        "   'type': u'text/html',\n",
        "   'value': u'Kia Ora I\\u2019m Alison Flutey \\u2013 I have been seconded to be an incredible Years Facilitator for Central Kids. I\\u2019ve been kindergarten teaching for approximately 25 years and have been a Head Teacher since 2007 at Central Kids David Henry &#8230; <a href=\"http://centralkids.org.nz/blog/head-office-welcomes-alison-flutey/\">Continue reading <span class=\"meta-nav\">&#8594;</span></a>'},\n",
        "  'tags': [{'label': None, 'scheme': None, 'term': u'News'}],\n",
        "  'title': u'Head Office welcomes Alison Flutey',\n",
        "  'title_detail': {'base': u'http://feeds.feedburner.com/CentralKidsKindergartens',\n",
        "   'language': None,\n",
        "   'type': u'text/plain',\n",
        "   'value': u'Head Office welcomes Alison Flutey'},\n",
        "  'updated': u'Wed, 12 Mar 2014 03:17:15 +0000',\n",
        "  'updated_parsed': time.struct_time(tm_year=2014, tm_mon=3, tm_mday=12, tm_hour=3, tm_min=17, tm_sec=15, tm_wday=2, tm_yday=71, tm_isdst=0),\n",
        "  'wfw_commentrss': u'http://centralkids.org.nz/blog/head-office-welcomes-alison-flutey/feed/'},\n",
        " {'author': u'Central Kids',\n",
        "  'author_detail': {'name': u'Central Kids'},\n",
        "  'authors': [{}],\n",
        "  'comments': u'http://centralkids.org.nz/blog/national-childrens-day/#comments',\n",
        "  'guidislink': False,\n",
        "  'id': u'http://centralkids.org.nz/?p=1716',\n",
        "  'link': u'http://centralkids.org.nz/blog/national-childrens-day/',\n",
        "  'links': [{'href': u'http://centralkids.org.nz/blog/national-childrens-day/',\n",
        "    'rel': u'alternate',\n",
        "    'type': u'text/html'}],\n",
        "  'slash_comments': u'0',\n",
        "  'summary': u'National Children&#8217;s Day is Ice Cream Day for Central Kids Huntly West. National Children\\u2019s Day is the first Sunday of March. So today we celebrated it by having ice cream as a treat for the kids. We did not buy &#8230; <a href=\"http://centralkids.org.nz/blog/national-childrens-day/\">Continue reading <span class=\"meta-nav\">&#8594;</span></a>',\n",
        "  'summary_detail': {'base': u'http://feeds.feedburner.com/CentralKidsKindergartens',\n",
        "   'language': None,\n",
        "   'type': u'text/html',\n",
        "   'value': u'National Children&#8217;s Day is Ice Cream Day for Central Kids Huntly West. National Children\\u2019s Day is the first Sunday of March. So today we celebrated it by having ice cream as a treat for the kids. We did not buy &#8230; <a href=\"http://centralkids.org.nz/blog/national-childrens-day/\">Continue reading <span class=\"meta-nav\">&#8594;</span></a>'},\n",
        "  'tags': [{'label': None, 'scheme': None, 'term': u'General home page'}],\n",
        "  'title': u'National Children\\u2019s Day is\\u2026\\u2026\\u2026\\u2026',\n",
        "  'title_detail': {'base': u'http://feeds.feedburner.com/CentralKidsKindergartens',\n",
        "   'language': None,\n",
        "   'type': u'text/plain',\n",
        "   'value': u'National Children\\u2019s Day is\\u2026\\u2026\\u2026\\u2026'},\n",
        "  'updated': u'Thu, 27 Feb 2014 23:57:44 +0000',\n",
        "  'updated_parsed': time.struct_time(tm_year=2014, tm_mon=2, tm_mday=27, tm_hour=23, tm_min=57, tm_sec=44, tm_wday=3, tm_yday=58, tm_isdst=0),\n",
        "  'wfw_commentrss': u'http://centralkids.org.nz/blog/national-childrens-day/feed/'}]"
       ]
      }
     ],
     "prompt_number": 598
    },
    {
     "cell_type": "markdown",
     "metadata": {},
     "source": []
    }
   ],
   "metadata": {}
  }
 ]
}