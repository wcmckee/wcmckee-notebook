{
 "metadata": {
  "name": "",
  "signature": "sha256:02bb02e5bfd5f2e57f082773d1baf92a4ab89d4d23704042790b396fda22f60d"
 },
 "nbformat": 3,
 "nbformat_minor": 0,
 "worksheets": [
  {
   "cells": [
    {
     "cell_type": "markdown",
     "metadata": {},
     "source": [
      "bugit - github repo bulk download"
     ]
    },
    {
     "cell_type": "code",
     "collapsed": true,
     "input": [
      "from github import Github\n",
      "import os\n",
      "import random\n",
      "import git\n",
      "import getpass\n",
      "import socket"
     ],
     "language": "python",
     "metadata": {},
     "outputs": [],
     "prompt_number": 10
    },
    {
     "cell_type": "code",
     "collapsed": true,
     "input": [
      "g = Github()"
     ],
     "language": "python",
     "metadata": {},
     "outputs": [],
     "prompt_number": 11
    },
    {
     "cell_type": "code",
     "collapsed": true,
     "input": [
      "gitlist = []"
     ],
     "language": "python",
     "metadata": {},
     "outputs": [],
     "prompt_number": 12
    },
    {
     "cell_type": "code",
     "collapsed": true,
     "input": [
      "def gitusr(gitn):\n",
      "    for repo in g.get_user(gitn).get_repos():\n",
      "        print repo.name\n",
      "        gitlist.append(repo.name)"
     ],
     "language": "python",
     "metadata": {},
     "outputs": [],
     "prompt_number": 13
    },
    {
     "cell_type": "code",
     "collapsed": true,
     "input": [
      "thehost = socket.gethostname()"
     ],
     "language": "python",
     "metadata": {},
     "outputs": [],
     "prompt_number": 14
    },
    {
     "cell_type": "code",
     "collapsed": true,
     "input": [
      "theuser = getpass.getuser()"
     ],
     "language": "python",
     "metadata": {},
     "outputs": [],
     "prompt_number": 18
    },
    {
     "cell_type": "code",
     "collapsed": true,
     "input": [
      "theuser"
     ],
     "language": "python",
     "metadata": {},
     "outputs": [
      {
       "metadata": {},
       "output_type": "pyout",
       "prompt_number": 19,
       "text": [
        "'public'"
       ]
      }
     ],
     "prompt_number": 19
    },
    {
     "cell_type": "code",
     "collapsed": true,
     "input": [
      "gitusr('wcmckee')"
     ],
     "language": "python",
     "metadata": {},
     "outputs": [
      {
       "output_type": "stream",
       "stream": "stdout",
       "text": [
        "4chan-API\n",
        "adypy\n",
        "anim_framework\n",
        "art-lastfm\n",
        "artcontrol-api\n",
        "AsylumJamCrushGame\n",
        "autopaintpy123\n",
        "bacongamejam05\n",
        "battlenet\n",
        "bbc2wp\n",
        "BeOk\n",
        "bgj05-hungry\n",
        "BirdCage\n",
        "brobeur-static\n",
        "brobeur-web\n",
        "BroBeurFishingDream\n",
        "broLove\n",
        "clint\n",
        "compohub\n",
        "DailyProgBot\n",
        "DeltaBot\n",
        "flask\n",
        "ggj14\n",
        "hackage-server\n",
        "hamiltoncomputerclub.org.nz\n",
        "haskell-learn\n",
        "HTML5-Tiny\n",
        "html5lib-python\n",
        "iamagamer\n",
        "ihaskell-notebook\n",
        "imgur-python"
       ]
      },
      {
       "output_type": "stream",
       "stream": "stdout",
       "text": [
        "\n",
        "intercity\n",
        "intro_programming\n",
        "ipython\n",
        "LD48-Skins\n",
        "marshmallow\n",
        "massive-wright\n",
        "Minecraft\n",
        "miniprojects\n",
        "molyjam2013\n",
        "niketa\n",
        "opencompetencies\n",
        "openfaux-server\n",
        "ouya-unity-plugin\n",
        "paintingautopy\n",
        "pithos\n",
        "prodo-game\n",
        "Projects\n",
        "pyatakl\n",
        "pybackupz\n",
        "pyladies\n",
        "pymel\n",
        "pyroster\n",
        "python-guide\n",
        "python-pandora\n",
        "python-patterns\n",
        "pytm\n",
        "pyunderdog\n",
        "pywp-post\n",
        "raspi\n",
        "RasPiWrite"
       ]
      },
      {
       "output_type": "stream",
       "stream": "stdout",
       "text": [
        "\n",
        "RedditPress\n",
        "reddit_bot\n",
        "redtube\n",
        "RPIO\n",
        "selfspy\n",
        "skins\n",
        "SortPictures\n",
        "SoundWall\n",
        "SuburbNightmare\n",
        "te-whare-o-te-ata\n",
        "TPB\n",
        "Triger\n",
        "tweepy\n",
        "UnityLuaIntegration\n",
        "vIPer\n",
        "wcmckee.com\n",
        "wcmckee.github.io\n",
        "wcmStringPY\n",
        "wirepil\n",
        "xboxdrv\n"
       ]
      }
     ],
     "prompt_number": 21
    },
    {
     "cell_type": "code",
     "collapsed": true,
     "input": [
      "ls"
     ],
     "language": "python",
     "metadata": {},
     "outputs": [
      {
       "output_type": "stream",
       "stream": "stdout",
       "text": [
        "adypost.ipynb  carparks        \u001b[0m\u001b[01;32mjob.sh\u001b[0m*         rgdsnatch.ipynb  url redirect.ipynb\r\n",
        "adypost.py     getdrawn.ipynb  markdown.ipynb  \u001b[01;32mrgdsnatch.py\u001b[0m*    url redirect.py\r\n",
        "brief.txt      \u001b[01;32mgetdrawn.py\u001b[0m*    markdown.py     style.css        utils.ipynb\r\n",
        "bugit.ipynb    index.html      pyatakl.ipynb   test.ipynb       utils.py\r\n",
        "bugit.py       __init__.py     pyatakl.py      test.py          wiki.md\r\n"
       ]
      }
     ],
     "prompt_number": 22
    },
    {
     "cell_type": "code",
     "collapsed": true,
     "input": [
      "%%bash \n",
      "./job.sh"
     ],
     "language": "python",
     "metadata": {},
     "outputs": [
      {
       "output_type": "stream",
       "stream": "stderr",
       "text": [
        "bash: line 1: ./job.sh: No such file or directory\n"
       ]
      }
     ],
     "prompt_number": 42
    },
    {
     "cell_type": "code",
     "collapsed": true,
     "input": [
      "os.mkdir('/home/' + theuser + '/github')"
     ],
     "language": "python",
     "metadata": {},
     "outputs": [],
     "prompt_number": 29
    },
    {
     "cell_type": "code",
     "collapsed": true,
     "input": [
      "os.chdir('/home/' + theuser + '/github')"
     ],
     "language": "python",
     "metadata": {},
     "outputs": [],
     "prompt_number": 30
    },
    {
     "cell_type": "code",
     "collapsed": true,
     "input": [
      "for gi in gitlist:\n",
      "    print gi\n",
      "    git.Git().clone('https://github.com/wcmckee/' + gi)"
     ],
     "language": "python",
     "metadata": {},
     "outputs": [
      {
       "output_type": "stream",
       "stream": "stdout",
       "text": [
        "4chan-API\n"
       ]
      },
      {
       "ename": "AttributeError",
       "evalue": "'module' object has no attribute 'Git'",
       "output_type": "pyerr",
       "traceback": [
        "\u001b[1;31m---------------------------------------------------------------------------\u001b[0m\n\u001b[1;31mAttributeError\u001b[0m                            Traceback (most recent call last)",
        "\u001b[1;32m<ipython-input-39-3f6ac075b28f>\u001b[0m in \u001b[0;36m<module>\u001b[1;34m()\u001b[0m\n\u001b[0;32m      1\u001b[0m \u001b[1;32mfor\u001b[0m \u001b[0mgi\u001b[0m \u001b[1;32min\u001b[0m \u001b[0mgitlist\u001b[0m\u001b[1;33m:\u001b[0m\u001b[1;33m\u001b[0m\u001b[0m\n\u001b[0;32m      2\u001b[0m     \u001b[1;32mprint\u001b[0m \u001b[0mgi\u001b[0m\u001b[1;33m\u001b[0m\u001b[0m\n\u001b[1;32m----> 3\u001b[1;33m     \u001b[0mgit\u001b[0m\u001b[1;33m.\u001b[0m\u001b[0mGit\u001b[0m\u001b[1;33m(\u001b[0m\u001b[1;33m)\u001b[0m\u001b[1;33m.\u001b[0m\u001b[0mclone\u001b[0m\u001b[1;33m(\u001b[0m\u001b[1;34m'https://github.com/wcmckee/'\u001b[0m \u001b[1;33m+\u001b[0m \u001b[0mgi\u001b[0m\u001b[1;33m)\u001b[0m\u001b[1;33m\u001b[0m\u001b[0m\n\u001b[0m",
        "\u001b[1;31mAttributeError\u001b[0m: 'module' object has no attribute 'Git'"
       ]
      }
     ],
     "prompt_number": 39
    },
    {
     "cell_type": "code",
     "collapsed": false,
     "input": [
      "git."
     ],
     "language": "python",
     "metadata": {},
     "outputs": [
      {
       "metadata": {},
       "output_type": "pyout",
       "prompt_number": 38,
       "text": [
        "<module 'git.repository' from '/usr/local/lib/python2.7/dist-packages/git/repository.pyc'>"
       ]
      }
     ],
     "prompt_number": 38
    },
    {
     "cell_type": "code",
     "collapsed": false,
     "input": [
      "import git\n",
      "git.Git().clone(\"https://github.com/wcmckee/pyatakl\")"
     ],
     "language": "python",
     "metadata": {},
     "outputs": [
      {
       "ename": "AttributeError",
       "evalue": "'module' object has no attribute 'Git'",
       "output_type": "pyerr",
       "traceback": [
        "\u001b[1;31m---------------------------------------------------------------------------\u001b[0m\n\u001b[1;31mAttributeError\u001b[0m                            Traceback (most recent call last)",
        "\u001b[1;32m<ipython-input-43-17e85e0acaab>\u001b[0m in \u001b[0;36m<module>\u001b[1;34m()\u001b[0m\n\u001b[0;32m      1\u001b[0m \u001b[1;32mimport\u001b[0m \u001b[0mgit\u001b[0m\u001b[1;33m\u001b[0m\u001b[0m\n\u001b[1;32m----> 2\u001b[1;33m \u001b[0mgit\u001b[0m\u001b[1;33m.\u001b[0m\u001b[0mGit\u001b[0m\u001b[1;33m(\u001b[0m\u001b[1;33m)\u001b[0m\u001b[1;33m.\u001b[0m\u001b[0mclone\u001b[0m\u001b[1;33m(\u001b[0m\u001b[1;34m\"https://github.com/wcmckee/pyatakl\"\u001b[0m\u001b[1;33m)\u001b[0m\u001b[1;33m\u001b[0m\u001b[0m\n\u001b[0m",
        "\u001b[1;31mAttributeError\u001b[0m: 'module' object has no attribute 'Git'"
       ]
      }
     ],
     "prompt_number": 43
    },
    {
     "cell_type": "code",
     "collapsed": false,
     "input": [
      "git.Blob()"
     ],
     "language": "python",
     "metadata": {},
     "outputs": [
      {
       "ename": "TypeError",
       "evalue": "__init__() takes at least 2 arguments (1 given)",
       "output_type": "pyerr",
       "traceback": [
        "\u001b[1;31m---------------------------------------------------------------------------\u001b[0m\n\u001b[1;31mTypeError\u001b[0m                                 Traceback (most recent call last)",
        "\u001b[1;32m<ipython-input-44-d4140aa0dd9e>\u001b[0m in \u001b[0;36m<module>\u001b[1;34m()\u001b[0m\n\u001b[1;32m----> 1\u001b[1;33m \u001b[0mgit\u001b[0m\u001b[1;33m.\u001b[0m\u001b[0mBlob\u001b[0m\u001b[1;33m(\u001b[0m\u001b[1;33m)\u001b[0m\u001b[1;33m\u001b[0m\u001b[0m\n\u001b[0m",
        "\u001b[1;31mTypeError\u001b[0m: __init__() takes at least 2 arguments (1 given)"
       ]
      }
     ],
     "prompt_number": 44
    },
    {
     "cell_type": "code",
     "collapsed": false,
     "input": [],
     "language": "python",
     "metadata": {},
     "outputs": []
    }
   ],
   "metadata": {}
  }
 ]
}