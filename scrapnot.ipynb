{
 "metadata": {
  "name": "",
  "signature": "sha256:ee127d30edf76db02b4dec4b4a76dd25eb4686f7e26ea9b14364f7352c57d897"
 },
 "nbformat": 3,
 "nbformat_minor": 0,
 "worksheets": [
  {
   "cells": [
    {
     "cell_type": "markdown",
     "metadata": {},
     "source": [
      "Scrapnot\n",
      "========\n",
      "<h2>testing</h2>\n",
      "<h3>this is heading 3</h3>\n",
      "blah blah blah\n",
      "--------------\n",
      "\n",
      "\n",
      "This is a scrapbook for exploring some python ideas and modules that i plan to take into other notebooks.\n",
      "*Test!*\n",
      "What I really need to start doing with these notebooks is a daily notebook. At the end of the week the blog .\n"
     ]
    },
    {
     "cell_type": "code",
     "collapsed": false,
     "input": [
      "import markdown"
     ],
     "language": "python",
     "metadata": {},
     "outputs": [],
     "prompt_number": 67
    },
    {
     "cell_type": "code",
     "collapsed": false,
     "input": [
      "import requests\n",
      "import json\n",
      "import xmltodict"
     ],
     "language": "python",
     "metadata": {},
     "outputs": [],
     "prompt_number": 68
    },
    {
     "cell_type": "code",
     "collapsed": false,
     "input": [
      "hcpux = requests.get('http://feeds.feedburner.com/HamiltonComputerClub?format=xml')"
     ],
     "language": "python",
     "metadata": {},
     "outputs": [],
     "prompt_number": 76
    },
    {
     "cell_type": "code",
     "collapsed": false,
     "input": [
      "cerz = hcpux.text"
     ],
     "language": "python",
     "metadata": {},
     "outputs": [],
     "prompt_number": 77
    },
    {
     "cell_type": "code",
     "collapsed": false,
     "input": [],
     "language": "python",
     "metadata": {},
     "outputs": [],
     "prompt_number": 77
    },
    {
     "cell_type": "code",
     "collapsed": false,
     "input": [
      "hamx = xmltodict.parse(cerz)"
     ],
     "language": "python",
     "metadata": {},
     "outputs": [],
     "prompt_number": 78
    },
    {
     "cell_type": "code",
     "collapsed": false,
     "input": [
      "for ha in hamx['rss']['channel']:\n",
      "    print ha"
     ],
     "language": "python",
     "metadata": {},
     "outputs": [
      {
       "output_type": "stream",
       "stream": "stdout",
       "text": [
        "title\n",
        "link\n",
        "description\n",
        "lastBuildDate\n",
        "language\n",
        "sy:updatePeriod\n",
        "sy:updateFrequency\n",
        "generator\n",
        "atom10:link\n",
        "feedburner:info\n",
        "feedburner:browserFriendly\n",
        "item\n"
       ]
      }
     ],
     "prompt_number": 79
    },
    {
     "cell_type": "code",
     "collapsed": false,
     "input": [
      "staz = hamx['rss']['channel']"
     ],
     "language": "python",
     "metadata": {},
     "outputs": [],
     "prompt_number": 92
    },
    {
     "cell_type": "code",
     "collapsed": false,
     "input": [
      "alket = staz.keys()"
     ],
     "language": "python",
     "metadata": {},
     "outputs": [],
     "prompt_number": 93
    },
    {
     "cell_type": "code",
     "collapsed": false,
     "input": [
      "len(alket)"
     ],
     "language": "python",
     "metadata": {},
     "outputs": [
      {
       "metadata": {},
       "output_type": "pyout",
       "prompt_number": 94,
       "text": [
        "12"
       ]
      }
     ],
     "prompt_number": 94
    },
    {
     "cell_type": "code",
     "collapsed": false,
     "input": [
      "savlis = []"
     ],
     "language": "python",
     "metadata": {},
     "outputs": [],
     "prompt_number": 95
    },
    {
     "cell_type": "code",
     "collapsed": false,
     "input": [
      "print alket[3]"
     ],
     "language": "python",
     "metadata": {},
     "outputs": [
      {
       "output_type": "stream",
       "stream": "stdout",
       "text": [
        "lastBuildDate\n"
       ]
      }
     ],
     "prompt_number": 96
    },
    {
     "cell_type": "code",
     "collapsed": false,
     "input": [
      "savcal = staz.values"
     ],
     "language": "python",
     "metadata": {},
     "outputs": [],
     "prompt_number": 97
    },
    {
     "cell_type": "code",
     "collapsed": false,
     "input": [
      "staz"
     ],
     "language": "python",
     "metadata": {},
     "outputs": [
      {
       "metadata": {},
       "output_type": "pyout",
       "prompt_number": 103,
       "text": [
        "OrderedDict([(u'title', u'Hamilton Computer Club'), (u'link', u'http://hamiltoncomputerclub.org.nz'), (u'description', u'Exchange information and share skills'), (u'lastBuildDate', u'Thu, 01 May 2014 10:20:40 +0000'), (u'language', u'en-US'), (u'sy:updatePeriod', u'hourly'), (u'sy:updateFrequency', u'1'), (u'generator', u'http://wordpress.org/?v=3.9.1'), (u'atom10:link', [OrderedDict([(u'@xmlns:atom10', u'http://www.w3.org/2005/Atom'), (u'@rel', u'self'), (u'@type', u'application/rss+xml'), (u'@href', u'http://feeds.feedburner.com/HamiltonComputerClub')]), OrderedDict([(u'@xmlns:atom10', u'http://www.w3.org/2005/Atom'), (u'@rel', u'hub'), (u'@href', u'http://pubsubhubbub.appspot.com/')])]), (u'feedburner:info', OrderedDict([(u'@uri', u'hamiltoncomputerclub')])), (u'feedburner:browserFriendly', None), (u'item', [OrderedDict([(u'title', u'Windows RIP XP Long live 8.1'), (u'link', u'http://hamiltoncomputerclub.org.nz/windows-rip-xp-long-live-8-1/'), (u'comments', u'http://hamiltoncomputerclub.org.nz/windows-rip-xp-long-live-8-1/#comments'), (u'pubDate', u'Wed, 09 Apr 2014 21:38:34 +0000'), (u'dc:creator', u'Rod Aldridge'), (u'category', u'Link dump'), (u'guid', OrderedDict([(u'@isPermaLink', u'false'), ('#text', u'http://hamiltoncomputerclub.org.nz/?p=417')])), (u'description', u'Microsoft makes Windows free for select devices, announces universal Windows apps By Shawn Knight on April 2, 2014 http://www.techspot.com/news/56240-microsoft-makes-windows-free-for-select-devices-announces-universal-windows-apps.html Microsoft on Wednesday revealed plans to make Windows free for manufacturers to use on smartphones and tablets with screen sizes under nine inches. Furthermore, a future version of Windows for the \\u2026 <a href=\"http://hamiltoncomputerclub.org.nz/windows-rip-xp-long-live-8-1/\"> Continue reading <span class=\"meta-nav\">&#8594; </span></a>'), (u'wfw:commentRss', u'http://hamiltoncomputerclub.org.nz/windows-rip-xp-long-live-8-1/feed/'), (u'slash:comments', u'0')]), OrderedDict([(u'title', u'Python'), (u'link', u'http://hamiltoncomputerclub.org.nz/python/'), (u'comments', u'http://hamiltoncomputerclub.org.nz/python/#comments'), (u'pubDate', u'Fri, 21 Mar 2014 12:49:39 +0000'), (u'dc:creator', u'wcmckee'), (u'category', [u'Software', u'code', u'python', u'teach']), (u'guid', OrderedDict([(u'@isPermaLink', u'false'), ('#text', u'http://hamiltoncomputerclub.org.nz/?p=391')])), (u'description', u'My name is William Mckee. I did a talk in February regarding the Python programming language. I found Bruce through the New Zealand Python users group mailing list. There had been much discussion in the post regarding getting some Python meetups/classes happen. Auckland, Wellington, and Christchurch have monthly Python meetups. \\u2026 <a href=\"http://hamiltoncomputerclub.org.nz/python/\"> Continue reading <span class=\"meta-nav\">&#8594; </span></a>'), (u'wfw:commentRss', u'http://hamiltoncomputerclub.org.nz/python/feed/'), (u'slash:comments', u'0')]), OrderedDict([(u'title', u'Beware fake-capacity USB drives'), (u'link', u'http://hamiltoncomputerclub.org.nz/350/'), (u'comments', u'http://hamiltoncomputerclub.org.nz/350/#comments'), (u'pubDate', u'Mon, 21 Oct 2013 07:48:44 +0000'), (u'dc:creator', u'Bruce Kingsbury'), (u'category', u'Security'), (u'guid', OrderedDict([(u'@isPermaLink', u'false'), ('#text', u'http://hamiltoncomputerclub.org.nz/?p=350')])), (u'description', u'Various Trademe members have comment that there are listings for very cheap 128GB, 256GB and 512GB USB Memory Keys appearing on the site. Please be aware that there is a large number of fake USB Memory Keys being sold on eBay in the USA and from China which the firmware \\u2026 <a href=\"http://hamiltoncomputerclub.org.nz/350/\"> Continue reading <span class=\"meta-nav\">&#8594; </span></a>'), (u'wfw:commentRss', u'http://hamiltoncomputerclub.org.nz/350/feed/'), (u'slash:comments', u'0')]), OrderedDict([(u'title', u'Found on the web 2013/10'), (u'link', u'http://hamiltoncomputerclub.org.nz/201310/'), (u'comments', u'http://hamiltoncomputerclub.org.nz/201310/#comments'), (u'pubDate', u'Mon, 30 Sep 2013 00:42:11 +0000'), (u'dc:creator', u'Rod Aldridge'), (u'category', u'Link dump'), (u'guid', OrderedDict([(u'@isPermaLink', u'false'), ('#text', u'http://hamiltoncomputerclub.org.nz/?p=307')])), (u'description', u'Some items which you may find interesting or useful Some HOWTO&#8217;s and other hints mostly from PC World, some security and privacy alerts, software, some general news, Microsoft news, insight into censorship in China, explanation of Application Programming Interfaces (APIs) and Encryption. Finally some light relief (this year&#8217;s IgNoble Prizes). \\u2026 <a href=\"http://hamiltoncomputerclub.org.nz/201310/\"> Continue reading <span class=\"meta-nav\">&#8594; </span></a>'), (u'wfw:commentRss', u'http://hamiltoncomputerclub.org.nz/201310/feed/'), (u'slash:comments', u'0')]), OrderedDict([(u'title', u'Potential NSA Involvement in a NIST RNG Standard'), (u'link', u'http://hamiltoncomputerclub.org.nz/potential-nsa-involvement-in-a-nist-rng-standard/'), (u'comments', u'http://hamiltoncomputerclub.org.nz/potential-nsa-involvement-in-a-nist-rng-standard/#comments'), (u'pubDate', u'Mon, 30 Sep 2013 00:22:02 +0000'), (u'dc:creator', u'Bruce Kingsbury'), (u'category', u'Tidbits'), (u'guid', OrderedDict([(u'@isPermaLink', u'false'), ('#text', u'http://hamiltoncomputerclub.org.nz/?p=296')])), (u'description', u'In August 2007, a young programmer in Microsoft\\u2019s Windows security group stood up to give a five-minute turbo talk at the annual Crypto conference in Santa Barbara. It was a Tuesday evening, part of the conference\\u2019s traditional rump session, when a hodge-podge of short talks are presented outside of the \\u2026 <a href=\"http://hamiltoncomputerclub.org.nz/potential-nsa-involvement-in-a-nist-rng-standard/\"> Continue reading <span class=\"meta-nav\">&#8594; </span></a>'), (u'wfw:commentRss', u'http://hamiltoncomputerclub.org.nz/potential-nsa-involvement-in-a-nist-rng-standard/feed/'), (u'slash:comments', u'0')]), OrderedDict([(u'title', u'New website and blogs'), (u'link', u'http://hamiltoncomputerclub.org.nz/new-website-blogs/'), (u'comments', u'http://hamiltoncomputerclub.org.nz/new-website-blogs/#comments'), (u'pubDate', u'Tue, 17 Sep 2013 12:26:55 +0000'), (u'dc:creator', u'Virginia Schnauer'), (u'category', [u'Notices', u'website']), (u'guid', OrderedDict([(u'@isPermaLink', u'false'), ('#text', u'http://hamiltoncomputerclub.org.nz/?p=231')])), (u'description', u'I met with Bruce today and have cleaned up some loose end on your new look website. Members can now become contributors or post comments and have conversations. I suggest you all start here by commenting your likes and dislikes regarding look, format and content. It would be great to \\u2026 <a href=\"http://hamiltoncomputerclub.org.nz/new-website-blogs/\"> Continue reading <span class=\"meta-nav\">&#8594; </span></a>'), (u'wfw:commentRss', u'http://hamiltoncomputerclub.org.nz/new-website-blogs/feed/'), (u'slash:comments', u'1')]), OrderedDict([(u'title', u'PC World Magazine'), (u'link', u'http://hamiltoncomputerclub.org.nz/pc-world-magazine/'), (u'comments', u'http://hamiltoncomputerclub.org.nz/pc-world-magazine/#comments'), (u'pubDate', u'Sat, 14 Sep 2013 09:24:32 +0000'), (u'dc:creator', u'Virginia Schnauer'), (u'category', [u'Tidbits', u'IT', u'magazines']), (u'guid', OrderedDict([(u'@isPermaLink', u'false'), ('#text', u'http://hamiltoncomputerclub.org.nz/?p=190')])), (u'description', u'End of a era PC World magazine has closed down. It is available online http://www.pcworld.co.nz/. The site now offers sections on smartphones and tablets, computers, gadgets, a business centre, home entertainment, cameras, and a forum It is intended for the IT trade publications to continue.'), (u'wfw:commentRss', u'http://hamiltoncomputerclub.org.nz/pc-world-magazine/feed/'), (u'slash:comments', u'0')]), OrderedDict([(u'title', u'First article'), (u'link', u'http://hamiltoncomputerclub.org.nz/first-article/'), (u'comments', u'http://hamiltoncomputerclub.org.nz/first-article/#comments'), (u'pubDate', u'Sun, 01 Sep 2013 11:06:21 +0000'), (u'dc:creator', u'Bruce Kingsbury'), (u'category', [u'Notices', u'website']), (u'guid', OrderedDict([(u'@isPermaLink', u'false'), ('#text', u'http://hamiltoncomputerclub.org.nz/?p=49')])), (u'description', u'This is the new website of the Hamilton PC computer club. It&#8217;s registered and hosted on wordpress by onlydomains.com. The theme at time or writing is wp386, a throwback to the old BBS days. I&#8217;m sure everybody on the committee is going to absolutely loath it which should encourage them \\u2026 <a href=\"http://hamiltoncomputerclub.org.nz/first-article/\"> Continue reading <span class=\"meta-nav\">&#8594; </span></a>'), (u'wfw:commentRss', u'http://hamiltoncomputerclub.org.nz/first-article/feed/'), (u'slash:comments', u'3')])])])"
       ]
      }
     ],
     "prompt_number": 103
    },
    {
     "cell_type": "code",
     "collapsed": false,
     "input": [
      "savcal()[0:7]"
     ],
     "language": "python",
     "metadata": {},
     "outputs": [
      {
       "metadata": {},
       "output_type": "pyout",
       "prompt_number": 98,
       "text": [
        "[u'Hamilton Computer Club',\n",
        " u'http://hamiltoncomputerclub.org.nz',\n",
        " u'Exchange information and share skills',\n",
        " u'Thu, 01 May 2014 10:20:40 +0000',\n",
        " u'en-US',\n",
        " u'hourly',\n",
        " u'1']"
       ]
      }
     ],
     "prompt_number": 98
    },
    {
     "cell_type": "code",
     "collapsed": false,
     "input": [
      "for ket in alket:\n",
      "    #print staz[ket]\n",
      "    print staz['title']\n",
      "    savlis.append(staz[ket])"
     ],
     "language": "python",
     "metadata": {},
     "outputs": [
      {
       "output_type": "stream",
       "stream": "stdout",
       "text": [
        "Hamilton Computer Club\n",
        "Hamilton Computer Club\n",
        "Hamilton Computer Club\n",
        "Hamilton Computer Club\n",
        "Hamilton Computer Club\n",
        "Hamilton Computer Club\n",
        "Hamilton Computer Club\n",
        "Hamilton Computer Club\n",
        "Hamilton Computer Club\n",
        "Hamilton Computer Club\n",
        "Hamilton Computer Club\n",
        "Hamilton Computer Club\n"
       ]
      }
     ],
     "prompt_number": 87
    },
    {
     "cell_type": "code",
     "collapsed": false,
     "input": [
      "opd = json.dumps(hamxy)"
     ],
     "language": "python",
     "metadata": {},
     "outputs": [
      {
       "ename": "NameError",
       "evalue": "name 'hamxy' is not defined",
       "output_type": "pyerr",
       "traceback": [
        "\u001b[1;31m---------------------------------------------------------------------------\u001b[0m\n\u001b[1;31mNameError\u001b[0m                                 Traceback (most recent call last)",
        "\u001b[1;32m<ipython-input-88-470a3306a967>\u001b[0m in \u001b[0;36m<module>\u001b[1;34m()\u001b[0m\n\u001b[1;32m----> 1\u001b[1;33m \u001b[0mopd\u001b[0m \u001b[1;33m=\u001b[0m \u001b[0mjson\u001b[0m\u001b[1;33m.\u001b[0m\u001b[0mdumps\u001b[0m\u001b[1;33m(\u001b[0m\u001b[0mhamxy\u001b[0m\u001b[1;33m)\u001b[0m\u001b[1;33m\u001b[0m\u001b[0m\n\u001b[0m",
        "\u001b[1;31mNameError\u001b[0m: name 'hamxy' is not defined"
       ]
      }
     ],
     "prompt_number": 88
    },
    {
     "cell_type": "code",
     "collapsed": false,
     "input": [
      "savopd = open('cpuclu.json', 'w')"
     ],
     "language": "python",
     "metadata": {},
     "outputs": [],
     "prompt_number": 89
    },
    {
     "cell_type": "code",
     "collapsed": false,
     "input": [
      "savopd.write(opd)"
     ],
     "language": "python",
     "metadata": {},
     "outputs": [
      {
       "ename": "NameError",
       "evalue": "name 'opd' is not defined",
       "output_type": "pyerr",
       "traceback": [
        "\u001b[1;31m---------------------------------------------------------------------------\u001b[0m\n\u001b[1;31mNameError\u001b[0m                                 Traceback (most recent call last)",
        "\u001b[1;32m<ipython-input-90-b9cbea379c27>\u001b[0m in \u001b[0;36m<module>\u001b[1;34m()\u001b[0m\n\u001b[1;32m----> 1\u001b[1;33m \u001b[0msavopd\u001b[0m\u001b[1;33m.\u001b[0m\u001b[0mwrite\u001b[0m\u001b[1;33m(\u001b[0m\u001b[0mopd\u001b[0m\u001b[1;33m)\u001b[0m\u001b[1;33m\u001b[0m\u001b[0m\n\u001b[0m",
        "\u001b[1;31mNameError\u001b[0m: name 'opd' is not defined"
       ]
      }
     ],
     "prompt_number": 90
    },
    {
     "cell_type": "code",
     "collapsed": false,
     "input": [
      "savopd.close()"
     ],
     "language": "python",
     "metadata": {},
     "outputs": []
    },
    {
     "cell_type": "code",
     "collapsed": false,
     "input": [
      "zopa = open('cpuclu.json', 'r')"
     ],
     "language": "python",
     "metadata": {},
     "outputs": []
    },
    {
     "cell_type": "code",
     "collapsed": false,
     "input": [
      "print zopa.read()"
     ],
     "language": "python",
     "metadata": {},
     "outputs": []
    },
    {
     "cell_type": "code",
     "collapsed": false,
     "input": [
      "myjson = zopa.read()"
     ],
     "language": "python",
     "metadata": {},
     "outputs": []
    },
    {
     "cell_type": "code",
     "collapsed": false,
     "input": [
      "sjson = json.dumps(hamx)"
     ],
     "language": "python",
     "metadata": {},
     "outputs": []
    },
    {
     "cell_type": "code",
     "collapsed": false,
     "input": [
      "print sjson"
     ],
     "language": "python",
     "metadata": {},
     "outputs": []
    },
    {
     "cell_type": "code",
     "collapsed": false,
     "input": [
      "cerz"
     ],
     "language": "python",
     "metadata": {},
     "outputs": []
    },
    {
     "cell_type": "code",
     "collapsed": false,
     "input": [
      "markdown.to_html_string('*testing one two three*')"
     ],
     "language": "python",
     "metadata": {},
     "outputs": []
    },
    {
     "cell_type": "code",
     "collapsed": false,
     "input": [
      "html = markdown.markdown('testing123!')"
     ],
     "language": "python",
     "metadata": {},
     "outputs": []
    },
    {
     "cell_type": "code",
     "collapsed": false,
     "input": [
      "print html"
     ],
     "language": "python",
     "metadata": {},
     "outputs": []
    },
    {
     "cell_type": "code",
     "collapsed": false,
     "input": [
      "import os"
     ],
     "language": "python",
     "metadata": {},
     "outputs": [],
     "prompt_number": 70
    },
    {
     "cell_type": "code",
     "collapsed": false,
     "input": [
      "posfol = (\"/home/will/hamiiltoncomputerclub.org.nz/static/posts\")\n",
      "blotil = (\"wcmckee\")"
     ],
     "language": "python",
     "metadata": {},
     "outputs": [],
     "prompt_number": 71
    },
    {
     "cell_type": "code",
     "collapsed": false,
     "input": [
      "os.makedirs(posfol)"
     ],
     "language": "python",
     "metadata": {},
     "outputs": [],
     "prompt_number": 72
    },
    {
     "cell_type": "code",
     "collapsed": false,
     "input": [],
     "language": "python",
     "metadata": {},
     "outputs": [],
     "prompt_number": 72
    },
    {
     "cell_type": "code",
     "collapsed": false,
     "input": [
      "ls"
     ],
     "language": "python",
     "metadata": {},
     "outputs": [
      {
       "output_type": "stream",
       "stream": "stdout",
       "text": [
        "\u001b[0m\u001b[38;5;27m~\u001b[0m/                                     dh.py                oceanconnor.ipynb  README.md       testing123\r\n",
        "aklmcam.ipynb                          example.xls          prnsav             redTube.py      tlchome.html\r\n",
        "aklmcam.py                             hcpux                pyblen.py          redTube.pyc     tlc.ipynb\r\n",
        "artcontrol.ipynb                       home.html            pynztacam.ipynb    result          tlc.py\r\n",
        "artcontrolme.wordpress.2014-02-10.xml  ipython_log.py       pynztacam.py       salecus.ipynb   tpb.ipynb\r\n",
        "artcontrol.py                          ipython_log.py.001~  pyssh.ipynb        salecus.py      Untitled0.ipynb\r\n",
        "config                                 ipython_log.py.002~  pyssh.py           salecus.pyc     uploads.html\r\n",
        "cpuclu.json                            LICENSE              pywgit.ipynb       savPrn          wcmckee.rst\r\n",
        "dhcpd.leases                           linkz                pywgit.py          scrapnot.ipynb\r\n",
        "dh.ipynb                               myfile.txt           pywgitz.py         scrapnot.py\r\n"
       ]
      }
     ],
     "prompt_number": 73
    },
    {
     "cell_type": "code",
     "collapsed": false,
     "input": [
      "rstz = open((blotil + '.rst'), 'w')"
     ],
     "language": "python",
     "metadata": {},
     "outputs": [],
     "prompt_number": 74
    },
    {
     "cell_type": "code",
     "collapsed": false,
     "input": [
      "rstz.write('"
     ],
     "language": "python",
     "metadata": {},
     "outputs": [
      {
       "ename": "SyntaxError",
       "evalue": "EOL while scanning string literal (<ipython-input-75-0019d967869f>, line 1)",
       "output_type": "pyerr",
       "traceback": [
        "\u001b[1;36m  File \u001b[1;32m\"<ipython-input-75-0019d967869f>\"\u001b[1;36m, line \u001b[1;32m1\u001b[0m\n\u001b[1;33m    rstz.write('\u001b[0m\n\u001b[1;37m               ^\u001b[0m\n\u001b[1;31mSyntaxError\u001b[0m\u001b[1;31m:\u001b[0m EOL while scanning string literal\n"
       ]
      }
     ],
     "prompt_number": 75
    },
    {
     "cell_type": "code",
     "collapsed": false,
     "input": [],
     "language": "python",
     "metadata": {},
     "outputs": []
    },
    {
     "cell_type": "code",
     "collapsed": false,
     "input": [
      "conv = markdown.markdownFromFile"
     ],
     "language": "python",
     "metadata": {},
     "outputs": []
    },
    {
     "cell_type": "code",
     "collapsed": false,
     "input": [
      "import pandoc"
     ],
     "language": "python",
     "metadata": {},
     "outputs": []
    },
    {
     "cell_type": "code",
     "collapsed": false,
     "input": [
      "pandoc.PANDOC_PATH = ('/usr/bin/pandoc')"
     ],
     "language": "python",
     "metadata": {},
     "outputs": []
    },
    {
     "cell_type": "code",
     "collapsed": false,
     "input": [
      "panout = pandoc.Document.OUTPUT_FORMATS"
     ],
     "language": "python",
     "metadata": {},
     "outputs": []
    },
    {
     "cell_type": "code",
     "collapsed": false,
     "input": [
      "for pa in panout:\n",
      "    print pa"
     ],
     "language": "python",
     "metadata": {},
     "outputs": []
    },
    {
     "cell_type": "raw",
     "metadata": {},
     "source": []
    },
    {
     "cell_type": "code",
     "collapsed": true,
     "input": [
      "panin = pandoc.Document.INPUT_FORMATS"
     ],
     "language": "python",
     "metadata": {},
     "outputs": []
    },
    {
     "cell_type": "code",
     "collapsed": false,
     "input": [
      "panin"
     ],
     "language": "python",
     "metadata": {},
     "outputs": []
    },
    {
     "cell_type": "code",
     "collapsed": false,
     "input": [
      "for nai in panin:\n",
      "    print nai"
     ],
     "language": "python",
     "metadata": {},
     "outputs": []
    },
    {
     "cell_type": "code",
     "collapsed": false,
     "input": [
      "nai"
     ],
     "language": "python",
     "metadata": {},
     "outputs": []
    },
    {
     "cell_type": "code",
     "collapsed": false,
     "input": [
      "doc = pandoc.Document()\n",
      "doc.markdown = '''\n",
      "# I am a tag\n",
      "\n",
      "*omg this is a test!\n",
      "\n",
      "[artcontrol](https://artcontrol.me)\n",
      "'''"
     ],
     "language": "python",
     "metadata": {},
     "outputs": []
    },
    {
     "cell_type": "code",
     "collapsed": false,
     "input": [
      "print doc.html"
     ],
     "language": "python",
     "metadata": {},
     "outputs": []
    },
    {
     "cell_type": "code",
     "collapsed": false,
     "input": [],
     "language": "python",
     "metadata": {},
     "outputs": []
    }
   ],
   "metadata": {}
  }
 ]
}