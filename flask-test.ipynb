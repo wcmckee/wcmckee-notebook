{
 "metadata": {
  "name": "",
  "signature": "sha256:39afaf434d517b2d8b5e4e2eaf0cbafa8adf25cfccc7b6f2a5a25b87e0e9d29b"
 },
 "nbformat": 3,
 "nbformat_minor": 0,
 "worksheets": [
  {
   "cells": [
    {
     "cell_type": "code",
     "collapsed": false,
     "input": [
      "from flask import Flask, FlatPages\n",
      "import FlatPages\n",
      "\n",
      "DEBUG = True\n",
      "FLATPAGES_AUTO_RELOAD = DEBUG\n",
      "FLATPAGES_EXTENSION = '.md'\n",
      "\n",
      "app = Flask(__name__)\n",
      "app.config.from_object(__name__)\n",
      "pages = FlatPages(app)\n",
      "\n",
      "@app.route('/')\n",
      "def index():\n",
      "    return \"Hello World\"\n",
      "\n",
      "@app.route('/<path:path>/')\n",
      "def page(path):\n",
      "    return pages.get_or_404(path).html\n",
      "\n",
      "if __name__ == '__main__':\n",
      "    app.run(port=8000)"
     ],
     "language": "python",
     "metadata": {},
     "outputs": [
      {
       "ename": "ImportError",
       "evalue": "cannot import name FlatPages",
       "output_type": "pyerr",
       "traceback": [
        "\u001b[1;31m---------------------------------------------------------------------------\u001b[0m\n\u001b[1;31mImportError\u001b[0m                               Traceback (most recent call last)",
        "\u001b[1;32m<ipython-input-3-54d877af1be3>\u001b[0m in \u001b[0;36m<module>\u001b[1;34m()\u001b[0m\n\u001b[1;32m----> 1\u001b[1;33m \u001b[1;32mfrom\u001b[0m \u001b[0mflask\u001b[0m \u001b[1;32mimport\u001b[0m \u001b[0mFlask\u001b[0m\u001b[1;33m,\u001b[0m \u001b[0mFlatPages\u001b[0m\u001b[1;33m\u001b[0m\u001b[0m\n\u001b[0m\u001b[0;32m      2\u001b[0m \u001b[1;32mimport\u001b[0m \u001b[0mFlatPages\u001b[0m\u001b[1;33m\u001b[0m\u001b[0m\n\u001b[0;32m      3\u001b[0m \u001b[1;33m\u001b[0m\u001b[0m\n\u001b[0;32m      4\u001b[0m \u001b[0mDEBUG\u001b[0m \u001b[1;33m=\u001b[0m \u001b[0mTrue\u001b[0m\u001b[1;33m\u001b[0m\u001b[0m\n\u001b[0;32m      5\u001b[0m \u001b[0mFLATPAGES_AUTO_RELOAD\u001b[0m \u001b[1;33m=\u001b[0m \u001b[0mDEBUG\u001b[0m\u001b[1;33m\u001b[0m\u001b[0m\n",
        "\u001b[1;31mImportError\u001b[0m: cannot import name FlatPages"
       ]
      }
     ],
     "prompt_number": 3
    },
    {
     "cell_type": "code",
     "collapsed": false,
     "input": [],
     "language": "python",
     "metadata": {},
     "outputs": []
    }
   ],
   "metadata": {}
  }
 ]
}