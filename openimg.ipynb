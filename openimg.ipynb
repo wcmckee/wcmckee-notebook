{
 "metadata": {
  "name": "",
  "signature": "sha256:94b137270f9f31b3e752286745c65482e068a279bdd88c691a57b1a056e51b69"
 },
 "nbformat": 3,
 "nbformat_minor": 0,
 "worksheets": [
  {
   "cells": [
    {
     "cell_type": "code",
     "collapsed": false,
     "input": [
      "openpy = open('ipython_log.py.001~', 'r')"
     ],
     "language": "python",
     "metadata": {},
     "outputs": [],
     "prompt_number": 1
    },
    {
     "cell_type": "code",
     "collapsed": false,
     "input": [
      "openpy.read()"
     ],
     "language": "python",
     "metadata": {},
     "outputs": [
      {
       "metadata": {},
       "output_type": "pyout",
       "prompt_number": 4,
       "text": [
        "\"# IPython log file\\n\\nget_ipython().magic(u'logstart')\\nimport os\\nos.curdif\\nos.curdif()\\nos.getcwd()\\nos.listdir\\nos.listdir()\\nos.listdir(os.getcwd())\\nliskindy = list(os.listdir(os.getcwd()))\\nliskindy\\nimport re\\nre.search('test')\\nre.search('test', 'thames-kindergarten/'\\n)\\ntest = re.search('test', 'thames-kindergarten/'\\n)\\ntest\\nliskindy\\nfor kin in \\nfor kin in liskindy:\\n    print kin\\n    \\nfor kin in liskindy:\\n    if 'kinder' in kin:\\n        print kin\\n        \\nfor kin in liskindy:\\n    if 'kinder' or 'early' in kin:\\n        print kin\\n        \\nkinfin = for kin in liskindy:\\n    if 'kinder' or 'early' in kin:\\n        print kin\\n        \\nkinfin = for kin in liskindy:if 'kinder' or 'early' in kin:\\n        print kin\\n    \\nkinfin = for kin in liskindy: if 'kinder' or 'early' in kin: print kin\\nget_ipython().magic(u'bash')\\nget_ipython().run_cell_magic(u'bash', u'', u'ip addr\\\\n')\\nget_ipython().magic(u'ls ')\\nquit()\\n\""
       ]
      }
     ],
     "prompt_number": 4
    },
    {
     "cell_type": "code",
     "collapsed": false,
     "input": [
      "import os"
     ],
     "language": "python",
     "metadata": {},
     "outputs": [],
     "prompt_number": 9
    },
    {
     "cell_type": "code",
     "collapsed": false,
     "input": [
      "os.getcwd()"
     ],
     "language": "python",
     "metadata": {},
     "outputs": [
      {
       "metadata": {},
       "output_type": "pyout",
       "prompt_number": 10,
       "text": [
        "'/home/wcmckee/artcontrol-api'"
       ]
      }
     ],
     "prompt_number": 10
    },
    {
     "cell_type": "code",
     "collapsed": false,
     "input": [
      "os.chdir('home/wcmckee)"
     ],
     "language": "python",
     "metadata": {},
     "outputs": [
      {
       "ename": "SyntaxError",
       "evalue": "EOL while scanning string literal (<ipython-input-11-64a42437f482>, line 1)",
       "output_type": "pyerr",
       "traceback": [
        "\u001b[1;36m  File \u001b[1;32m\"<ipython-input-11-64a42437f482>\"\u001b[1;36m, line \u001b[1;32m1\u001b[0m\n\u001b[1;33m    os.chdir('home/wcmckee)\u001b[0m\n\u001b[1;37m                          ^\u001b[0m\n\u001b[1;31mSyntaxError\u001b[0m\u001b[1;31m:\u001b[0m EOL while scanning string literal\n"
       ]
      }
     ],
     "prompt_number": 11
    },
    {
     "cell_type": "code",
     "collapsed": false,
     "input": [
      "os.listdir()"
     ],
     "language": "python",
     "metadata": {},
     "outputs": [
      {
       "ename": "TypeError",
       "evalue": "listdir() takes exactly 1 argument (0 given)",
       "output_type": "pyerr",
       "traceback": [
        "\u001b[1;31m---------------------------------------------------------------------------\u001b[0m\n\u001b[1;31mTypeError\u001b[0m                                 Traceback (most recent call last)",
        "\u001b[1;32m<ipython-input-12-eff7f7465dbc>\u001b[0m in \u001b[0;36m<module>\u001b[1;34m()\u001b[0m\n\u001b[1;32m----> 1\u001b[1;33m \u001b[0mos\u001b[0m\u001b[1;33m.\u001b[0m\u001b[0mlistdir\u001b[0m\u001b[1;33m(\u001b[0m\u001b[1;33m)\u001b[0m\u001b[1;33m\u001b[0m\u001b[0m\n\u001b[0m",
        "\u001b[1;31mTypeError\u001b[0m: listdir() takes exactly 1 argument (0 given)"
       ]
      }
     ],
     "prompt_number": 12
    },
    {
     "cell_type": "code",
     "collapsed": false,
     "input": [],
     "language": "python",
     "metadata": {},
     "outputs": [],
     "prompt_number": 12
    },
    {
     "cell_type": "code",
     "collapsed": false,
     "input": [],
     "language": "python",
     "metadata": {},
     "outputs": []
    }
   ],
   "metadata": {}
  }
 ]
}